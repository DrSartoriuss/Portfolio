{
 "cells": [
  {
   "cell_type": "markdown",
   "metadata": {},
   "source": [
    "# Выбор локации для скважины"
   ]
  },
  {
   "cell_type": "markdown",
   "metadata": {},
   "source": [
    "## Введение\n",
    "\n",
    "Добывающей компании «ГлавРосГосНефть» нужно решить, где бурить новую скважину.\n",
    "\n",
    "Нам предоставлены пробы нефти в трёх регионах: в каждом 10 000 месторождений, где измерили качество нефти и объём её запасов. Построим модель машинного обучения, которая поможет определить регион, где добыча принесёт наибольшую прибыль. Проанализируем возможную прибыль и риски техникой *Bootstrap.*\n",
    "\n",
    "Шаги для выбора локации:\n",
    "\n",
    "- В избранном регионе ищут месторождения, для каждого определяют значения признаков;\n",
    "- Строят модель и оценивают объём запасов;\n",
    "- Выбирают месторождения с самым высокими оценками значений. Количество месторождений зависит от бюджета компании и стоимости разработки одной скважины;\n",
    "- Прибыль равна суммарной прибыли отобранных месторождений.\n",
    "      \n",
    "**Цель проекта:** Проанализировать данные проб нефти 10 000 месторождений из трёх регионов, где измерили качество нефти и объём её запасов. Построить модель машинного обучения, которая поможет определить регион, где добыча принесёт наибольшую прибыль. Проанализировать возможную прибыль и риски техникой Bootstrap.\n",
    "\n",
    "**Данные:** \n",
    "\n",
    "  - Файлы с данными геологоразведки трех регионов.\n",
    " \n",
    " \n",
    "  - *Признаки:* \n",
    "      \n",
    "    - id — индекс строки в данных;   \n",
    "    - d — уникальный идентификатор скважины;\n",
    "    - f0, f1, f2 — три признака точек;\n",
    " \n",
    " \n",
    "  - *Целевой признак:*\n",
    "  \n",
    "    - product — объём запасов в скважине (тыс. баррелей).\n",
    "  \n",
    "**План выполнения проекта:**\n",
    "\n",
    "  - Загрузить и подготовить данные;\n",
    "  - Обучить и проверить модель для каждого региона;\n",
    "  - Подготовить данные для расчета прибыли;\n",
    "  - Написать функцию для расчёта прибыли по выбранным скважинам и предсказаниям модели;\n",
    "  - Посчитать риски и прибыль для каждого региона;\n",
    "  - Сформулировать и оформить промежуточный и общий выводы."
   ]
  },
  {
   "cell_type": "markdown",
   "metadata": {},
   "source": [
    "## Загрузка и подготовка данных"
   ]
  },
  {
   "cell_type": "code",
   "execution_count": 1,
   "metadata": {},
   "outputs": [],
   "source": [
    "# загружаем библиотеки\n",
    "import pandas as pd\n",
    "from sklearn.model_selection import train_test_split\n",
    "from sklearn.model_selection import cross_val_score\n",
    "from sklearn.linear_model import LinearRegression\n",
    "from sklearn.metrics import mean_squared_error\n",
    "from sklearn.preprocessing import StandardScaler \n",
    "from sklearn.preprocessing import RobustScaler\n",
    "\n",
    "import numpy as np\n",
    "\n",
    "import matplotlib.pyplot as plt\n",
    "\n",
    "# настраиваем отображение \n",
    "pd.set_option('display.max_columns', None)\n",
    "pd.set_option('display.max_rows', None)\n",
    "pd.options.mode.chained_assignment = None"
   ]
  },
  {
   "cell_type": "code",
   "execution_count": 2,
   "metadata": {},
   "outputs": [],
   "source": [
    "# объявляем константы (сохраняем в переменных ключевые значения для расчётов)\n",
    "BUDGET = 10000000 #тыс.р. \n",
    "CHOOCE_POINTS = 500 \n",
    "BEST_POINTS = 200 \n",
    "PRICE_BARREL = 450 #тыс.р. \n",
    "RISK_THRESHOLD = 0.025"
   ]
  },
  {
   "cell_type": "code",
   "execution_count": 3,
   "metadata": {},
   "outputs": [],
   "source": [
    "# читаем данные \n",
    "data1 = pd.read_csv('/datasets/geo_data_0.csv', sep=\",\")\n",
    "data2 = pd.read_csv('/datasets/geo_data_1.csv', sep=\",\") \n",
    "data3 = pd.read_csv('/datasets/geo_data_2.csv', sep=\",\")"
   ]
  },
  {
   "cell_type": "code",
   "execution_count": 4,
   "metadata": {},
   "outputs": [
    {
     "name": "stdout",
     "output_type": "stream",
     "text": [
      "<class 'pandas.core.frame.DataFrame'>\n",
      "RangeIndex: 100000 entries, 0 to 99999\n",
      "Data columns (total 5 columns):\n",
      " #   Column   Non-Null Count   Dtype  \n",
      "---  ------   --------------   -----  \n",
      " 0   id       100000 non-null  object \n",
      " 1   f0       100000 non-null  float64\n",
      " 2   f1       100000 non-null  float64\n",
      " 3   f2       100000 non-null  float64\n",
      " 4   product  100000 non-null  float64\n",
      "dtypes: float64(4), object(1)\n",
      "memory usage: 3.8+ MB\n",
      "\n",
      "<class 'pandas.core.frame.DataFrame'>\n",
      "RangeIndex: 100000 entries, 0 to 99999\n",
      "Data columns (total 5 columns):\n",
      " #   Column   Non-Null Count   Dtype  \n",
      "---  ------   --------------   -----  \n",
      " 0   id       100000 non-null  object \n",
      " 1   f0       100000 non-null  float64\n",
      " 2   f1       100000 non-null  float64\n",
      " 3   f2       100000 non-null  float64\n",
      " 4   product  100000 non-null  float64\n",
      "dtypes: float64(4), object(1)\n",
      "memory usage: 3.8+ MB\n",
      "\n",
      "<class 'pandas.core.frame.DataFrame'>\n",
      "RangeIndex: 100000 entries, 0 to 99999\n",
      "Data columns (total 5 columns):\n",
      " #   Column   Non-Null Count   Dtype  \n",
      "---  ------   --------------   -----  \n",
      " 0   id       100000 non-null  object \n",
      " 1   f0       100000 non-null  float64\n",
      " 2   f1       100000 non-null  float64\n",
      " 3   f2       100000 non-null  float64\n",
      " 4   product  100000 non-null  float64\n",
      "dtypes: float64(4), object(1)\n",
      "memory usage: 3.8+ MB\n"
     ]
    }
   ],
   "source": [
    "# изучаем данные\n",
    "data1.info()\n",
    "print()\n",
    "data2.info()\n",
    "print()\n",
    "data3.info()"
   ]
  },
  {
   "cell_type": "code",
   "execution_count": 5,
   "metadata": {},
   "outputs": [
    {
     "data": {
      "text/html": [
       "<div>\n",
       "<style scoped>\n",
       "    .dataframe tbody tr th:only-of-type {\n",
       "        vertical-align: middle;\n",
       "    }\n",
       "\n",
       "    .dataframe tbody tr th {\n",
       "        vertical-align: top;\n",
       "    }\n",
       "\n",
       "    .dataframe thead th {\n",
       "        text-align: right;\n",
       "    }\n",
       "</style>\n",
       "<table border=\"1\" class=\"dataframe\">\n",
       "  <thead>\n",
       "    <tr style=\"text-align: right;\">\n",
       "      <th></th>\n",
       "      <th>id</th>\n",
       "      <th>f0</th>\n",
       "      <th>f1</th>\n",
       "      <th>f2</th>\n",
       "      <th>product</th>\n",
       "    </tr>\n",
       "  </thead>\n",
       "  <tbody>\n",
       "    <tr>\n",
       "      <th>0</th>\n",
       "      <td>txEyH</td>\n",
       "      <td>0.705745</td>\n",
       "      <td>-0.497823</td>\n",
       "      <td>1.221170</td>\n",
       "      <td>105.280062</td>\n",
       "    </tr>\n",
       "    <tr>\n",
       "      <th>1</th>\n",
       "      <td>2acmU</td>\n",
       "      <td>1.334711</td>\n",
       "      <td>-0.340164</td>\n",
       "      <td>4.365080</td>\n",
       "      <td>73.037750</td>\n",
       "    </tr>\n",
       "    <tr>\n",
       "      <th>2</th>\n",
       "      <td>409Wp</td>\n",
       "      <td>1.022732</td>\n",
       "      <td>0.151990</td>\n",
       "      <td>1.419926</td>\n",
       "      <td>85.265647</td>\n",
       "    </tr>\n",
       "    <tr>\n",
       "      <th>3</th>\n",
       "      <td>iJLyR</td>\n",
       "      <td>-0.032172</td>\n",
       "      <td>0.139033</td>\n",
       "      <td>2.978566</td>\n",
       "      <td>168.620776</td>\n",
       "    </tr>\n",
       "    <tr>\n",
       "      <th>4</th>\n",
       "      <td>Xdl7t</td>\n",
       "      <td>1.988431</td>\n",
       "      <td>0.155413</td>\n",
       "      <td>4.751769</td>\n",
       "      <td>154.036647</td>\n",
       "    </tr>\n",
       "  </tbody>\n",
       "</table>\n",
       "</div>"
      ],
      "text/plain": [
       "      id        f0        f1        f2     product\n",
       "0  txEyH  0.705745 -0.497823  1.221170  105.280062\n",
       "1  2acmU  1.334711 -0.340164  4.365080   73.037750\n",
       "2  409Wp  1.022732  0.151990  1.419926   85.265647\n",
       "3  iJLyR -0.032172  0.139033  2.978566  168.620776\n",
       "4  Xdl7t  1.988431  0.155413  4.751769  154.036647"
      ]
     },
     "metadata": {},
     "output_type": "display_data"
    },
    {
     "name": "stdout",
     "output_type": "stream",
     "text": [
      "\n"
     ]
    },
    {
     "data": {
      "text/html": [
       "<div>\n",
       "<style scoped>\n",
       "    .dataframe tbody tr th:only-of-type {\n",
       "        vertical-align: middle;\n",
       "    }\n",
       "\n",
       "    .dataframe tbody tr th {\n",
       "        vertical-align: top;\n",
       "    }\n",
       "\n",
       "    .dataframe thead th {\n",
       "        text-align: right;\n",
       "    }\n",
       "</style>\n",
       "<table border=\"1\" class=\"dataframe\">\n",
       "  <thead>\n",
       "    <tr style=\"text-align: right;\">\n",
       "      <th></th>\n",
       "      <th>id</th>\n",
       "      <th>f0</th>\n",
       "      <th>f1</th>\n",
       "      <th>f2</th>\n",
       "      <th>product</th>\n",
       "    </tr>\n",
       "  </thead>\n",
       "  <tbody>\n",
       "    <tr>\n",
       "      <th>0</th>\n",
       "      <td>kBEdx</td>\n",
       "      <td>-15.001348</td>\n",
       "      <td>-8.276000</td>\n",
       "      <td>-0.005876</td>\n",
       "      <td>3.179103</td>\n",
       "    </tr>\n",
       "    <tr>\n",
       "      <th>1</th>\n",
       "      <td>62mP7</td>\n",
       "      <td>14.272088</td>\n",
       "      <td>-3.475083</td>\n",
       "      <td>0.999183</td>\n",
       "      <td>26.953261</td>\n",
       "    </tr>\n",
       "    <tr>\n",
       "      <th>2</th>\n",
       "      <td>vyE1P</td>\n",
       "      <td>6.263187</td>\n",
       "      <td>-5.948386</td>\n",
       "      <td>5.001160</td>\n",
       "      <td>134.766305</td>\n",
       "    </tr>\n",
       "    <tr>\n",
       "      <th>3</th>\n",
       "      <td>KcrkZ</td>\n",
       "      <td>-13.081196</td>\n",
       "      <td>-11.506057</td>\n",
       "      <td>4.999415</td>\n",
       "      <td>137.945408</td>\n",
       "    </tr>\n",
       "    <tr>\n",
       "      <th>4</th>\n",
       "      <td>AHL4O</td>\n",
       "      <td>12.702195</td>\n",
       "      <td>-8.147433</td>\n",
       "      <td>5.004363</td>\n",
       "      <td>134.766305</td>\n",
       "    </tr>\n",
       "  </tbody>\n",
       "</table>\n",
       "</div>"
      ],
      "text/plain": [
       "      id         f0         f1        f2     product\n",
       "0  kBEdx -15.001348  -8.276000 -0.005876    3.179103\n",
       "1  62mP7  14.272088  -3.475083  0.999183   26.953261\n",
       "2  vyE1P   6.263187  -5.948386  5.001160  134.766305\n",
       "3  KcrkZ -13.081196 -11.506057  4.999415  137.945408\n",
       "4  AHL4O  12.702195  -8.147433  5.004363  134.766305"
      ]
     },
     "metadata": {},
     "output_type": "display_data"
    },
    {
     "name": "stdout",
     "output_type": "stream",
     "text": [
      "\n"
     ]
    },
    {
     "data": {
      "text/html": [
       "<div>\n",
       "<style scoped>\n",
       "    .dataframe tbody tr th:only-of-type {\n",
       "        vertical-align: middle;\n",
       "    }\n",
       "\n",
       "    .dataframe tbody tr th {\n",
       "        vertical-align: top;\n",
       "    }\n",
       "\n",
       "    .dataframe thead th {\n",
       "        text-align: right;\n",
       "    }\n",
       "</style>\n",
       "<table border=\"1\" class=\"dataframe\">\n",
       "  <thead>\n",
       "    <tr style=\"text-align: right;\">\n",
       "      <th></th>\n",
       "      <th>id</th>\n",
       "      <th>f0</th>\n",
       "      <th>f1</th>\n",
       "      <th>f2</th>\n",
       "      <th>product</th>\n",
       "    </tr>\n",
       "  </thead>\n",
       "  <tbody>\n",
       "    <tr>\n",
       "      <th>0</th>\n",
       "      <td>fwXo0</td>\n",
       "      <td>-1.146987</td>\n",
       "      <td>0.963328</td>\n",
       "      <td>-0.828965</td>\n",
       "      <td>27.758673</td>\n",
       "    </tr>\n",
       "    <tr>\n",
       "      <th>1</th>\n",
       "      <td>WJtFt</td>\n",
       "      <td>0.262778</td>\n",
       "      <td>0.269839</td>\n",
       "      <td>-2.530187</td>\n",
       "      <td>56.069697</td>\n",
       "    </tr>\n",
       "    <tr>\n",
       "      <th>2</th>\n",
       "      <td>ovLUW</td>\n",
       "      <td>0.194587</td>\n",
       "      <td>0.289035</td>\n",
       "      <td>-5.586433</td>\n",
       "      <td>62.871910</td>\n",
       "    </tr>\n",
       "    <tr>\n",
       "      <th>3</th>\n",
       "      <td>q6cA6</td>\n",
       "      <td>2.236060</td>\n",
       "      <td>-0.553760</td>\n",
       "      <td>0.930038</td>\n",
       "      <td>114.572842</td>\n",
       "    </tr>\n",
       "    <tr>\n",
       "      <th>4</th>\n",
       "      <td>WPMUX</td>\n",
       "      <td>-0.515993</td>\n",
       "      <td>1.716266</td>\n",
       "      <td>5.899011</td>\n",
       "      <td>149.600746</td>\n",
       "    </tr>\n",
       "  </tbody>\n",
       "</table>\n",
       "</div>"
      ],
      "text/plain": [
       "      id        f0        f1        f2     product\n",
       "0  fwXo0 -1.146987  0.963328 -0.828965   27.758673\n",
       "1  WJtFt  0.262778  0.269839 -2.530187   56.069697\n",
       "2  ovLUW  0.194587  0.289035 -5.586433   62.871910\n",
       "3  q6cA6  2.236060 -0.553760  0.930038  114.572842\n",
       "4  WPMUX -0.515993  1.716266  5.899011  149.600746"
      ]
     },
     "metadata": {},
     "output_type": "display_data"
    }
   ],
   "source": [
    "# изучаем первые строки\n",
    "display(data1.head())\n",
    "print()\n",
    "display(data2.head())\n",
    "print()\n",
    "display(data3.head())"
   ]
  },
  {
   "cell_type": "code",
   "execution_count": 6,
   "metadata": {},
   "outputs": [
    {
     "data": {
      "image/png": "[encoded data removed]",
      "text/plain": [
       "<Figure size 432x288 with 4 Axes>"
      ]
     },
     "metadata": {
      "needs_background": "light"
     },
     "output_type": "display_data"
    }
   ],
   "source": [
    "# изучаем графики с численными данными\n",
    "data1.hist(bins=100);"
   ]
  },
  {
   "cell_type": "code",
   "execution_count": 7,
   "metadata": {},
   "outputs": [
    {
     "data": {
      "image/png": "[encoded data removed]",
      "text/plain": [
       "<Figure size 432x288 with 4 Axes>"
      ]
     },
     "metadata": {
      "needs_background": "light"
     },
     "output_type": "display_data"
    }
   ],
   "source": [
    "# изучаем графики с численными данными\n",
    "data2.hist(bins=100);"
   ]
  },
  {
   "cell_type": "code",
   "execution_count": 8,
   "metadata": {},
   "outputs": [
    {
     "data": {
      "image/png": "[encoded data removed]",
      "text/plain": [
       "<Figure size 432x288 with 4 Axes>"
      ]
     },
     "metadata": {
      "needs_background": "light"
     },
     "output_type": "display_data"
    }
   ],
   "source": [
    "# изучаем графики с численными данными\n",
    "data3.hist(bins=100);"
   ]
  },
  {
   "cell_type": "code",
   "execution_count": 9,
   "metadata": {},
   "outputs": [
    {
     "name": "stdout",
     "output_type": "stream",
     "text": [
      "Регион 1\n"
     ]
    },
    {
     "data": {
      "text/plain": [
       "(                  f0             f1             f2        product\n",
       " count  100000.000000  100000.000000  100000.000000  100000.000000\n",
       " mean        0.500419       0.250143       2.502647      92.500000\n",
       " std         0.871832       0.504433       3.248248      44.288691\n",
       " min        -1.408605      -0.848218     -12.088328       0.000000\n",
       " 25%        -0.072580      -0.200881       0.287748      56.497507\n",
       " 50%         0.502360       0.250252       2.515969      91.849972\n",
       " 75%         1.073581       0.700646       4.715088     128.564089\n",
       " max         2.362331       1.343769      16.003790     185.364347,\n",
       "                f0        f1        f2   product\n",
       " f0       1.000000 -0.440723 -0.003153  0.143536\n",
       " f1      -0.440723  1.000000  0.001724 -0.192356\n",
       " f2      -0.003153  0.001724  1.000000  0.483663\n",
       " product  0.143536 -0.192356  0.483663  1.000000)"
      ]
     },
     "metadata": {},
     "output_type": "display_data"
    },
    {
     "name": "stdout",
     "output_type": "stream",
     "text": [
      "Регион 2\n"
     ]
    },
    {
     "data": {
      "text/plain": [
       "(                  f0             f1             f2        product\n",
       " count  100000.000000  100000.000000  100000.000000  100000.000000\n",
       " mean        1.141296      -4.796579       2.494541      68.825000\n",
       " std         8.965932       5.119872       1.703572      45.944423\n",
       " min       -31.609576     -26.358598      -0.018144       0.000000\n",
       " 25%        -6.298551      -8.267985       1.000021      26.953261\n",
       " 50%         1.153055      -4.813172       2.011479      57.085625\n",
       " 75%         8.621015      -1.332816       3.999904     107.813044\n",
       " max        29.421755      18.734063       5.019721     137.945408,\n",
       "                f0        f1        f2   product\n",
       " f0       1.000000  0.182287 -0.001777 -0.030491\n",
       " f1       0.182287  1.000000 -0.002595 -0.010155\n",
       " f2      -0.001777 -0.002595  1.000000  0.999397\n",
       " product -0.030491 -0.010155  0.999397  1.000000)"
      ]
     },
     "metadata": {},
     "output_type": "display_data"
    },
    {
     "name": "stdout",
     "output_type": "stream",
     "text": [
      "Регион 3\n"
     ]
    },
    {
     "data": {
      "text/plain": [
       "(                  f0             f1             f2        product\n",
       " count  100000.000000  100000.000000  100000.000000  100000.000000\n",
       " mean        0.002023      -0.002081       2.495128      95.000000\n",
       " std         1.732045       1.730417       3.473445      44.749921\n",
       " min        -8.760004      -7.084020     -11.970335       0.000000\n",
       " 25%        -1.162288      -1.174820       0.130359      59.450441\n",
       " 50%         0.009424      -0.009482       2.484236      94.925613\n",
       " 75%         1.158535       1.163678       4.858794     130.595027\n",
       " max         7.238262       7.844801      16.739402     190.029838,\n",
       "                f0        f1        f2   product\n",
       " f0       1.000000  0.000528 -0.000448 -0.001987\n",
       " f1       0.000528  1.000000  0.000779 -0.001012\n",
       " f2      -0.000448  0.000779  1.000000  0.445871\n",
       " product -0.001987 -0.001012  0.445871  1.000000)"
      ]
     },
     "metadata": {},
     "output_type": "display_data"
    }
   ],
   "source": [
    "# проверяем распределение и корреляцию в исходных датасетах\n",
    "def statistic(data):    \n",
    "    describe_data = data.describe()\n",
    "    corr_data = data.corr()\n",
    "    return describe_data, corr_data\n",
    "          \n",
    "print('Регион 1')    \n",
    "display(statistic(data1))\n",
    "print('Регион 2')\n",
    "display(statistic(data2))\n",
    "print('Регион 3')\n",
    "display(statistic(data3))"
   ]
  },
  {
   "cell_type": "code",
   "execution_count": 10,
   "metadata": {},
   "outputs": [
    {
     "name": "stdout",
     "output_type": "stream",
     "text": [
      "10\n",
      "4\n",
      "4\n"
     ]
    }
   ],
   "source": [
    "# ищем скрытые дубликаты в столбце id\n",
    "print(data1.duplicated(subset='id').sum())\n",
    "print(data2.duplicated(subset='id').sum())\n",
    "print(data3.duplicated(subset='id').sum())"
   ]
  },
  {
   "cell_type": "code",
   "execution_count": 11,
   "metadata": {},
   "outputs": [
    {
     "name": "stdout",
     "output_type": "stream",
     "text": [
      "0\n"
     ]
    },
    {
     "data": {
      "text/plain": [
       "0.000000     0.00001\n",
       "30.141653    0.00001\n",
       "56.573577    0.00001\n",
       "50.182301    0.00001\n",
       "88.989990    0.00001\n",
       "Name: product, dtype: float64"
      ]
     },
     "execution_count": 11,
     "metadata": {},
     "output_type": "execute_result"
    }
   ],
   "source": [
    "# ищем скрытые дубликаты в столбце product\n",
    "print(data1.duplicated(subset='product').sum())\n",
    "#смотрим доли уникальных значений\n",
    "data1['product'].value_counts(normalize=True).head()"
   ]
  },
  {
   "cell_type": "code",
   "execution_count": 12,
   "metadata": {},
   "outputs": [
    {
     "name": "stdout",
     "output_type": "stream",
     "text": [
      "99988\n"
     ]
    },
    {
     "data": {
      "text/plain": [
       "53.906522     0.08472\n",
       "26.953261     0.08468\n",
       "84.038886     0.08431\n",
       "57.085625     0.08390\n",
       "3.179103      0.08337\n",
       "80.859783     0.08320\n",
       "30.132364     0.08306\n",
       "134.766305    0.08304\n",
       "110.992147    0.08303\n",
       "0.000000      0.08235\n",
       "137.945408    0.08233\n",
       "107.813044    0.08201\n",
       "Name: product, dtype: float64"
      ]
     },
     "execution_count": 12,
     "metadata": {},
     "output_type": "execute_result"
    }
   ],
   "source": [
    "# ищем скрытые дубликаты в столбце product\n",
    "print(data2.duplicated(subset='product').sum())\n",
    "# смотрим доли уникальных значений\n",
    "data2['product'].value_counts(normalize=True)"
   ]
  },
  {
   "cell_type": "code",
   "execution_count": 13,
   "metadata": {},
   "outputs": [
    {
     "name": "stdout",
     "output_type": "stream",
     "text": [
      "0\n"
     ]
    },
    {
     "data": {
      "text/plain": [
       "0.000000     0.00001\n",
       "53.211205    0.00001\n",
       "37.811021    0.00001\n",
       "84.266951    0.00001\n",
       "38.939298    0.00001\n",
       "Name: product, dtype: float64"
      ]
     },
     "execution_count": 13,
     "metadata": {},
     "output_type": "execute_result"
    }
   ],
   "source": [
    "# ищем скрытые дубликаты в столбце product\n",
    "print(data3.duplicated(subset='product').sum())\n",
    "# смотрим доли уникальных значений\n",
    "data3['product'].value_counts(normalize=True).head()"
   ]
  },
  {
   "cell_type": "code",
   "execution_count": 14,
   "metadata": {},
   "outputs": [],
   "source": [
    "# удаляем лишний столбец \n",
    "def drop(df):\n",
    "    df.drop('id', axis=1, inplace=True)\n",
    "    return df\n",
    "\n",
    "dr1 = drop(data1)\n",
    "dr2 = drop(data2)\n",
    "dr3 = drop(data3)"
   ]
  },
  {
   "cell_type": "code",
   "execution_count": 15,
   "metadata": {},
   "outputs": [
    {
     "name": "stdout",
     "output_type": "stream",
     "text": [
      "<class 'pandas.core.frame.DataFrame'>\n",
      "RangeIndex: 100000 entries, 0 to 99999\n",
      "Data columns (total 4 columns):\n",
      " #   Column   Non-Null Count   Dtype  \n",
      "---  ------   --------------   -----  \n",
      " 0   f0       100000 non-null  float64\n",
      " 1   f1       100000 non-null  float64\n",
      " 2   f2       100000 non-null  float64\n",
      " 3   product  100000 non-null  float64\n",
      "dtypes: float64(4)\n",
      "memory usage: 3.1 MB\n",
      "\n",
      "<class 'pandas.core.frame.DataFrame'>\n",
      "RangeIndex: 100000 entries, 0 to 99999\n",
      "Data columns (total 4 columns):\n",
      " #   Column   Non-Null Count   Dtype  \n",
      "---  ------   --------------   -----  \n",
      " 0   f0       100000 non-null  float64\n",
      " 1   f1       100000 non-null  float64\n",
      " 2   f2       100000 non-null  float64\n",
      " 3   product  100000 non-null  float64\n",
      "dtypes: float64(4)\n",
      "memory usage: 3.1 MB\n",
      "\n",
      "<class 'pandas.core.frame.DataFrame'>\n",
      "RangeIndex: 100000 entries, 0 to 99999\n",
      "Data columns (total 4 columns):\n",
      " #   Column   Non-Null Count   Dtype  \n",
      "---  ------   --------------   -----  \n",
      " 0   f0       100000 non-null  float64\n",
      " 1   f1       100000 non-null  float64\n",
      " 2   f2       100000 non-null  float64\n",
      " 3   product  100000 non-null  float64\n",
      "dtypes: float64(4)\n",
      "memory usage: 3.1 MB\n"
     ]
    }
   ],
   "source": [
    "# проверяем\n",
    "dr1.info()\n",
    "print()\n",
    "dr2.info()\n",
    "print()\n",
    "dr3.info()"
   ]
  },
  {
   "cell_type": "markdown",
   "metadata": {},
   "source": [
    "### Вывод по первому шагу\n",
    "\n",
    "  - **Загрузили библиотеки, прочитали файлы и изучили данные**.\n",
    "  \n",
    "  - **Выполнили предобработку**: \n",
    "  \n",
    "     - данные без пропусков, распределены нормально, явные дубликаты отсутствуют;\n",
    "     \n",
    "     - во всех датасетах масштаб признаков f2 отличается от масштаба признаков f0 и f1, а также имеет высокую корреляцию со значениями целевого столбца. Причем, в датасете 2 корреляция f2 почти 1; \n",
    "     \n",
    "     - в столбце 'id' обнаружили несколько повторяющихся значений, удалять не стали - скорее всего были допущены ошибки при заполнении, столбец;\n",
    "     \n",
    "     - в столбце 'product' второго региона обнаружили много дубликатов, странное распределение признаков и нулевые значения, составляющие больше 8%. Значимых уникальных значений вего 11. Скорее всего, это результат ручной разметки данных. Удалять нули не будем, чтобы не нарушать распределение. Тем более, что нули могут означать отсутствие посчитанных запасов;\n",
    "     \n",
    "     - 'id' не несет полезной нагрузки, поэтому его удаляем."
   ]
  },
  {
   "cell_type": "markdown",
   "metadata": {},
   "source": [
    "## Обучение и проверка модели"
   ]
  },
  {
   "cell_type": "code",
   "execution_count": 16,
   "metadata": {},
   "outputs": [],
   "source": [
    "# создаем функцию формирования выборок и выделяем цель и признаки \n",
    "def split(df):\n",
    "    target = df['product']\n",
    "    features = df.drop('product', axis=1)\n",
    "    features_train, features_valid, target_train, target_valid = train_test_split(features,\n",
    "                                target,\n",
    "                                test_size=0.25,\n",
    "                                random_state=12345)\n",
    "    \n",
    "    return features_train, features_valid, target_train, target_valid"
   ]
  },
  {
   "cell_type": "code",
   "execution_count": 17,
   "metadata": {},
   "outputs": [
    {
     "name": "stdout",
     "output_type": "stream",
     "text": [
      "Регион 1\n",
      "(75000, 3)\n",
      "(25000, 3)\n",
      "(75000,)\n",
      "(25000,)\n",
      "Регион 2\n",
      "(75000, 3)\n",
      "(25000, 3)\n",
      "(75000,)\n",
      "(25000,)\n",
      "Регион 3\n",
      "(75000, 3)\n",
      "(25000, 3)\n",
      "(75000,)\n",
      "(25000,)\n"
     ]
    }
   ],
   "source": [
    "# формируем выборки\n",
    "features_train_dr1, features_valid_dr1, target_train_dr1, target_valid_dr1 = split(dr1)\n",
    "features_train_dr2, features_valid_dr2, target_train_dr2, target_valid_dr2 = split(dr2)\n",
    "features_train_dr3, features_valid_dr3, target_train_dr3, target_valid_dr3 = split(dr3)\n",
    "\n",
    "# проверяем размер итоговых выборок\n",
    "print('Регион 1')\n",
    "print(features_train_dr1.shape) \n",
    "print(features_valid_dr1.shape)\n",
    "print(target_train_dr1.shape) \n",
    "print(target_valid_dr1.shape)\n",
    "print('Регион 2')\n",
    "print(features_train_dr2.shape) \n",
    "print(features_valid_dr2.shape)\n",
    "print(target_train_dr2.shape) \n",
    "print(target_valid_dr2.shape)\n",
    "print('Регион 3')\n",
    "print(features_train_dr3.shape) \n",
    "print(features_valid_dr3.shape)\n",
    "print(target_train_dr3.shape) \n",
    "print(target_valid_dr3.shape)"
   ]
  },
  {
   "cell_type": "code",
   "execution_count": 18,
   "metadata": {},
   "outputs": [],
   "source": [
    "# создаем функцию работы модели \n",
    "def RMSE(features_train, target_train, features_valid, target_valid):\n",
    "    # активируем модель \n",
    "    model = LinearRegression()\n",
    "    # обучаем модель \n",
    "    model.fit(features_train, target_train) \n",
    "    # получаем и сохраняем предсказание модели на валидационной выборке\n",
    "    predicted_valid = model.predict(features_valid)\n",
    "    # вычисляем средний предказанный запас региона, тыс.барр. \n",
    "    predicted_valid_mean = predicted_valid.mean()\n",
    "    # вычисляем метрику rmse\n",
    "    rmse = mean_squared_error(target_valid, predicted_valid, squared=False)\n",
    "    # создаем датафрейм с предсказаниями и целевыми значениями\n",
    "    data = {'real_product': target_valid,\n",
    "    'predicted_product': predicted_valid}\n",
    "    data_product = pd.DataFrame(data, columns = ['real_product', 'predicted_product'])\n",
    "    \n",
    "    return data_product, predicted_valid_mean, rmse   "
   ]
  },
  {
   "cell_type": "code",
   "execution_count": 19,
   "metadata": {},
   "outputs": [
    {
     "name": "stdout",
     "output_type": "stream",
     "text": [
      "Средний предсказанный запас 1 региона: 92.59256778438035 RMSE = 37.5794217150813\n",
      "Средний предсказанный запас 2 региона: 68.728546895446 RMSE = 0.893099286775617\n",
      "Средний предсказанный запас 3 региона: 94.96504596800489 RMSE = 40.02970873393434\n"
     ]
    }
   ],
   "source": [
    "# присваиваем переменные и получаем результат работы функции \n",
    "data_product_dr1, predicted_valid_mean_dr1, rmse_dr1 = RMSE(features_train_dr1, \n",
    "                                                               target_train_dr1, \n",
    "                                                               features_valid_dr1, \n",
    "                                                               target_valid_dr1)\n",
    "\n",
    "data_product_dr2, predicted_valid_mean_dr2, rmse_dr2 = RMSE(features_train_dr2, \n",
    "                                                               target_train_dr2, \n",
    "                                                               features_valid_dr2, \n",
    "                                                               target_valid_dr2)\n",
    "\n",
    "data_product_dr3, predicted_valid_mean_dr3, rmse_dr3 = RMSE(features_train_dr3, \n",
    "                                                               target_train_dr3, \n",
    "                                                               features_valid_dr3, \n",
    "                                                               target_valid_dr3)\n",
    "\n",
    "print('Средний предсказанный запас 1 региона:', predicted_valid_mean_dr1,'RMSE =',rmse_dr1)\n",
    "print('Средний предсказанный запас 2 региона:', predicted_valid_mean_dr2,'RMSE =',rmse_dr2)\n",
    "print('Средний предсказанный запас 3 региона:', predicted_valid_mean_dr3,'RMSE =',rmse_dr3)"
   ]
  },
  {
   "cell_type": "code",
   "execution_count": 20,
   "metadata": {},
   "outputs": [
    {
     "name": "stdout",
     "output_type": "stream",
     "text": [
      "Средняя оценка качества 1 модели: 0.2797816440875316\n",
      "Средняя оценка качества 2 модели: 0.9996231266853546\n",
      "Средняя оценка качества 3 модели: 0.2047430438936813\n"
     ]
    }
   ],
   "source": [
    "# проверяем качество модели кросс-валидацией\n",
    "def model_score(features_valid,target_valid):\n",
    "    model = LinearRegression()\n",
    "    scores = cross_val_score(model, features_valid, target_valid, cv=10)\n",
    "    final_score = scores.mean()\n",
    "    return final_score\n",
    "\n",
    "print('Средняя оценка качества 1 модели:', model_score(features_valid_dr1,target_valid_dr1))\n",
    "print('Средняя оценка качества 2 модели:', model_score(features_valid_dr2,target_valid_dr2))\n",
    "print('Средняя оценка качества 3 модели:', model_score(features_valid_dr3,target_valid_dr3))"
   ]
  },
  {
   "cell_type": "code",
   "execution_count": 21,
   "metadata": {},
   "outputs": [],
   "source": [
    "# проверяем модель на вменяемость на константной модели спомощью функции\n",
    "def RMSE_constant(features_train, target_train, target_valid):\n",
    "    #активируем модель \n",
    "    model = LinearRegression()\n",
    "    #обучаем модель \n",
    "    model.fit(features_train, target_train) \n",
    "    #сохраняем предсказание  константной модели на валидационной выборке\n",
    "    predicted_valid = pd.Series(target_train.mean(), index=target_valid.index)\n",
    "    predicted_valid_mean_const = predicted_valid.mean()\n",
    "    #вычисляем метрику rmse\n",
    "    rmse_const = mean_squared_error(target_valid, predicted_valid, squared=False)\n",
    "       \n",
    "    return predicted_valid_mean_const, rmse_const  "
   ]
  },
  {
   "cell_type": "code",
   "execution_count": 22,
   "metadata": {},
   "outputs": [
    {
     "name": "stdout",
     "output_type": "stream",
     "text": [
      "Средний предсказанный запас 1 региона: 92.64046775305694 RMSE = 44.289591053907365\n",
      "Средний предсказанный запас 2 региона: 68.85895465854665 RMSE = 46.02144533725462\n",
      "Средний предсказанный запас 3 региона: 95.03858906371526 RMSE = 44.90234968510566\n"
     ]
    }
   ],
   "source": [
    "# присваиваем переменные и получаем результат работы функции \n",
    "predicted_valid_mean_const_dr1, rmse_const_dr1 = RMSE_constant(features_train_dr1, \n",
    "                                                               target_train_dr1,                                                                \n",
    "                                                               target_valid_dr1)\n",
    "\n",
    "predicted_valid_mean_const_dr2, rmse_const_dr2 = RMSE_constant(features_train_dr2, \n",
    "                                                               target_train_dr2,                                                                \n",
    "                                                               target_valid_dr2)\n",
    "\n",
    "predicted_valid_mean_const_dr3, rmse_const_dr3 = RMSE_constant(features_train_dr3, \n",
    "                                                               target_train_dr3,                                                                \n",
    "                                                               target_valid_dr3)\n",
    "\n",
    "print('Средний предсказанный запас 1 региона:', predicted_valid_mean_const_dr1,'RMSE =',rmse_const_dr1)\n",
    "print('Средний предсказанный запас 2 региона:', predicted_valid_mean_const_dr2,'RMSE =',rmse_const_dr2)\n",
    "print('Средний предсказанный запас 3 региона:', predicted_valid_mean_const_dr3,'RMSE =',rmse_const_dr3)"
   ]
  },
  {
   "cell_type": "code",
   "execution_count": 23,
   "metadata": {},
   "outputs": [
    {
     "name": "stdout",
     "output_type": "stream",
     "text": [
      "Средний предсказанный запас 1 региона: 92.59256778438035 RMSE = 37.5794217150813\n",
      "Средний предсказанный запас 3 региона: 94.96504596800489 RMSE = 40.02970873393434\n"
     ]
    }
   ],
   "source": [
    "# проводим масштабирование признаков 1 и 3 регионов, и получаем предсказание \n",
    "# на обновленных выборках\n",
    "def scaler(features_train, features_valid):\n",
    "       \n",
    "    # масштабируем количественные признаки\n",
    "    scaler = StandardScaler()\n",
    "    scaler.fit(features_train)\n",
    "    features_train = scaler.transform(features_train)\n",
    "    features_valid = scaler.transform(features_valid)\n",
    "\n",
    "    return features_train, features_valid\n",
    "\n",
    "features_train_scal_dr1, features_valid_scal_dr1 = scaler(features_train_dr1,                                                           \n",
    "                                                          features_valid_dr1)\n",
    "features_train_scal_dr3, features_valid_scal_dr3 = scaler(features_train_dr3,                                                           \n",
    "                                                          features_valid_dr3)\n",
    "\n",
    "# проводим обучение и получаем предсказание после масштабирования признаков\n",
    "def RMSE_constant(features_train, target_train, features_valid, target_valid):\n",
    "    # обучаем модель и получаем предсказания\n",
    "    model = LinearRegression()\n",
    "    model.fit(features_train, target_train) \n",
    "    # сохраняем предсказание модели на валидационной выборке\n",
    "    predicted_valid = model.predict(features_valid)\n",
    "    predicted_valid_mean_scal = predicted_valid.mean()\n",
    "    #вычисляем метрику rmse \n",
    "    rmse_scal = mean_squared_error(target_valid, predicted_valid, squared=False)\n",
    "       \n",
    "    return predicted_valid_mean_scal, rmse_scal\n",
    "\n",
    "# присваиваем переменные и получаем результат работы функции \n",
    "predicted_valid_mean_scal_dr1, rmse_scal_dr1 = RMSE_constant(features_train_scal_dr1,\n",
    "                                                             target_train_dr1,\n",
    "                                                             features_valid_scal_dr1,\n",
    "                                                             target_valid_dr1)\n",
    "\n",
    "predicted_valid_mean_scal_dr3, rmse_scal_dr3 = RMSE_constant(features_train_scal_dr3,\n",
    "                                                             target_train_dr3,\n",
    "                                                             features_valid_scal_dr3,\n",
    "                                                             target_valid_dr3)\n",
    "\n",
    "# выводим итоговые показатели \n",
    "print('Средний предсказанный запас 1 региона:', predicted_valid_mean_scal_dr1,'RMSE =',rmse_scal_dr1)\n",
    "print('Средний предсказанный запас 3 региона:', predicted_valid_mean_scal_dr3,'RMSE =',rmse_scal_dr3)"
   ]
  },
  {
   "cell_type": "code",
   "execution_count": 24,
   "metadata": {},
   "outputs": [
    {
     "name": "stdout",
     "output_type": "stream",
     "text": [
      "Средний фактический запас 1 региона: 92.5\n",
      "Средний фактический запас 2 региона: 68.83\n",
      "Средний фактический запас 3 региона: 95.0\n"
     ]
    }
   ],
   "source": [
    "# сохраним фактический средний запас одной скважины по каждому региону, тыс.барр.\n",
    "mean_barr_per_poin_dr1 = dr1['product'].mean()\n",
    "mean_barr_per_poin_dr2 = dr2['product'].mean()\n",
    "mean_barr_per_poin_dr3 = dr3['product'].mean()\n",
    "\n",
    "print('Средний фактический запас 1 региона:',round(mean_barr_per_poin_dr1,2))\n",
    "print('Средний фактический запас 2 региона:',round(mean_barr_per_poin_dr2,2))\n",
    "print('Средний фактический запас 3 региона:',round(mean_barr_per_poin_dr3,2))"
   ]
  },
  {
   "cell_type": "code",
   "execution_count": 25,
   "metadata": {},
   "outputs": [
    {
     "name": "stdout",
     "output_type": "stream",
     "text": [
      "Суммарный фактический запас 1 региона: 46250.0\n",
      "Суммарный фактический запас 2 региона: 34412.5\n",
      "Суммарный фактический запас 3 региона: 47500.0\n"
     ]
    }
   ],
   "source": [
    "# сохраним фактический суммарный запас скважин по каждому региону, тыс.барр.\n",
    "barr_per_poin_dr1 = dr1['product'].sum()\n",
    "barr_per_poin_dr2 = dr2['product'].sum()\n",
    "barr_per_poin_dr3 = dr3['product'].sum()\n",
    "\n",
    "print('Суммарный фактический запас 1 региона:',round(barr_per_poin_dr1,2)/200)\n",
    "print('Суммарный фактический запас 2 региона:',round(barr_per_poin_dr2,2)/200)\n",
    "print('Суммарный фактический запас 3 региона:',round(barr_per_poin_dr3,2)/200)"
   ]
  },
  {
   "cell_type": "code",
   "execution_count": 26,
   "metadata": {},
   "outputs": [
    {
     "data": {
      "text/html": [
       "<div>\n",
       "<style scoped>\n",
       "    .dataframe tbody tr th:only-of-type {\n",
       "        vertical-align: middle;\n",
       "    }\n",
       "\n",
       "    .dataframe tbody tr th {\n",
       "        vertical-align: top;\n",
       "    }\n",
       "\n",
       "    .dataframe thead th {\n",
       "        text-align: right;\n",
       "    }\n",
       "</style>\n",
       "<table border=\"1\" class=\"dataframe\">\n",
       "  <thead>\n",
       "    <tr style=\"text-align: right;\">\n",
       "      <th></th>\n",
       "      <th>Регион</th>\n",
       "      <th>Предсказание базовой модели</th>\n",
       "      <th>Предсказание константной модели</th>\n",
       "      <th>Предсказание измененной модели</th>\n",
       "      <th>Фактический запас</th>\n",
       "      <th>RSME_base</th>\n",
       "      <th>RSME_const</th>\n",
       "      <th>RSME_scal</th>\n",
       "    </tr>\n",
       "  </thead>\n",
       "  <tbody>\n",
       "    <tr>\n",
       "      <th>0</th>\n",
       "      <td>Регион1</td>\n",
       "      <td>92.592568</td>\n",
       "      <td>92.640468</td>\n",
       "      <td>92.592568</td>\n",
       "      <td>92.500</td>\n",
       "      <td>37.579422</td>\n",
       "      <td>44.289591</td>\n",
       "      <td>37.579422</td>\n",
       "    </tr>\n",
       "    <tr>\n",
       "      <th>1</th>\n",
       "      <td>Регион2</td>\n",
       "      <td>68.728547</td>\n",
       "      <td>68.858955</td>\n",
       "      <td>NaN</td>\n",
       "      <td>68.825</td>\n",
       "      <td>0.893099</td>\n",
       "      <td>46.021445</td>\n",
       "      <td>NaN</td>\n",
       "    </tr>\n",
       "    <tr>\n",
       "      <th>2</th>\n",
       "      <td>Регион3</td>\n",
       "      <td>94.965046</td>\n",
       "      <td>95.038589</td>\n",
       "      <td>94.965046</td>\n",
       "      <td>95.000</td>\n",
       "      <td>40.029709</td>\n",
       "      <td>44.902350</td>\n",
       "      <td>40.029709</td>\n",
       "    </tr>\n",
       "  </tbody>\n",
       "</table>\n",
       "</div>"
      ],
      "text/plain": [
       "    Регион  Предсказание базовой модели  Предсказание константной модели  \\\n",
       "0  Регион1                    92.592568                        92.640468   \n",
       "1  Регион2                    68.728547                        68.858955   \n",
       "2  Регион3                    94.965046                        95.038589   \n",
       "\n",
       "   Предсказание измененной модели  Фактический запас  RSME_base  RSME_const  \\\n",
       "0                       92.592568             92.500  37.579422   44.289591   \n",
       "1                             NaN             68.825   0.893099   46.021445   \n",
       "2                       94.965046             95.000  40.029709   44.902350   \n",
       "\n",
       "   RSME_scal  \n",
       "0  37.579422  \n",
       "1        NaN  \n",
       "2  40.029709  "
      ]
     },
     "execution_count": 26,
     "metadata": {},
     "output_type": "execute_result"
    }
   ],
   "source": [
    "# создаем датафрейм, чтобы сравнить показатели моделей \n",
    "dt = {'Регион': ['Регион1','Регион2','Регион3'],\n",
    "      'Предсказание базовой модели': [predicted_valid_mean_dr1,\n",
    "                                      predicted_valid_mean_dr2,\n",
    "                                      predicted_valid_mean_dr3],\n",
    "      'Предсказание константной модели': [predicted_valid_mean_const_dr1,\n",
    "                                          predicted_valid_mean_const_dr2,\n",
    "                                          predicted_valid_mean_const_dr3],\n",
    "      'Предсказание измененной модели':[predicted_valid_mean_scal_dr1,\n",
    "                                       None,\n",
    "                                       predicted_valid_mean_scal_dr3],      \n",
    "      'Фактический запас':[mean_barr_per_poin_dr1,\n",
    "                           mean_barr_per_poin_dr2, \n",
    "                           mean_barr_per_poin_dr3],\n",
    "      'RSME_base': [rmse_dr1,\n",
    "                    rmse_dr2,\n",
    "                    rmse_dr3],\n",
    "      'RSME_const':[rmse_const_dr1,\n",
    "                    rmse_const_dr2,\n",
    "                    rmse_const_dr3],\n",
    "     'RSME_scal':[rmse_scal_dr1,\n",
    "                 None,\n",
    "                 rmse_scal_dr3]\n",
    "     }\n",
    "      \n",
    "result = pd.DataFrame(data=dt) \n",
    "\n",
    "result"
   ]
  },
  {
   "cell_type": "code",
   "execution_count": 27,
   "metadata": {},
   "outputs": [],
   "source": [
    "# строим график распределения объема предсказанных запасов на скважину\n",
    "def plot(predict, bins, xlim_max, ylim_max):\n",
    "    plt.figure(figsize=[8,6])\n",
    "    \n",
    "    plt.hist(predict, bins=bins)   \n",
    "    plt.grid(visible=True)      \n",
    "    \n",
    "    plt.xlim([0,xlim_max])\n",
    "    plt.ylim([0,ylim_max])\n",
    "   \n",
    "    plt.xlabel(\"Объем запасов на скважину, тыс. баррелей\")\n",
    "    plt.ylabel(\"Количество скважин\")\n",
    "\n",
    "    plt.title(\"Гистограмма распределения объема запасов по скважинам\")\n",
    "    plt.show()"
   ]
  },
  {
   "cell_type": "code",
   "execution_count": 28,
   "metadata": {},
   "outputs": [
    {
     "data": {
      "image/png": "[encoded data removed]",
      "text/plain": [
       "<Figure size 576x432 with 1 Axes>"
      ]
     },
     "metadata": {
      "needs_background": "light"
     },
     "output_type": "display_data"
    }
   ],
   "source": [
    "# первый регион\n",
    "plot(data_product_dr1['predicted_product'],100,190,900);  "
   ]
  },
  {
   "cell_type": "code",
   "execution_count": 29,
   "metadata": {},
   "outputs": [
    {
     "data": {
      "image/png": "[encoded data removed]",
      "text/plain": [
       "<Figure size 576x432 with 1 Axes>"
      ]
     },
     "metadata": {
      "needs_background": "light"
     },
     "output_type": "display_data"
    }
   ],
   "source": [
    "# второй регион\n",
    "plot(data_product_dr2['predicted_product'],20,150,5000);   "
   ]
  },
  {
   "cell_type": "code",
   "execution_count": 30,
   "metadata": {},
   "outputs": [
    {
     "data": {
      "image/png": "[encoded data removed]",
      "text/plain": [
       "<Figure size 576x432 with 1 Axes>"
      ]
     },
     "metadata": {
      "needs_background": "light"
     },
     "output_type": "display_data"
    }
   ],
   "source": [
    "# второй регион\n",
    "plot(data_product_dr3['predicted_product'],100,190,800);   "
   ]
  },
  {
   "cell_type": "markdown",
   "metadata": {},
   "source": [
    "### Вывод по второму шагу\n",
    "\n",
    " -  Выделили цель и признаки и сформировали обучающие и валидационные выборки по каждому региону из расчета 75/25. \n",
    " \n",
    " -  Обучили модель 'Линейной регрессии', предсказали и сохранили средний запас сырья, вычислили RMSE модели:\n",
    " \n",
    "    - **В первом и третьем** регионе модель показала высокую **RSME** (**37,6 и 40 соответственно**); **Во втором** регионе **RMSE** почти идеальная (**0,89**) - сказывается разметка данных, хотя, возможно, модель переобучилась. \n",
    " \n",
    " -  Проверили адекватность модели на константной модели, прогнозирующей  любому объекту среднее значение:\n",
    " \n",
    "    - Предсказания константной модели более неточные, с более высоким уровнем ошибки, значит модель вменяма.      \n",
    "    \n",
    " - Проверили качество кросс-валидацией:\n",
    " \n",
    "    - Метрика качества предсказания по регионам 1 и 3 очень низкая. По второму региону - модель предсказывает очень точно. \n",
    "   \n",
    " - Провели масштабирование признаков по региону 1 и 3, с целью повысить обучаемость и качество предсказания модели:\n",
    " \n",
    "   - Показатели не изменились.  \n",
    "   \n",
    " - Значения предсказанных запасов на скважину в первом и третьем регионах распределены нормально. Во втором - распределение  дискретное, ровное (сказывается распределение признаков). Средние расчетные запасы на скважину **в первом и третьем регионах** почти одинаковы(**92,5 тыс.барр и 95 тыс.барр. соответственно**), **во втором регионе** запас на скважину самый низкий из всех(**68,8 тыс.барр.**).    "
   ]
  },
  {
   "cell_type": "markdown",
   "metadata": {},
   "source": [
    "## Подготовка к расчёту прибыли"
   ]
  },
  {
   "cell_type": "markdown",
   "metadata": {},
   "source": [
    "- Рассчитаем и сохраним в переменные ключевые значения для расчета прибыли."
   ]
  },
  {
   "cell_type": "code",
   "execution_count": 32,
   "metadata": {},
   "outputs": [
    {
     "name": "stdout",
     "output_type": "stream",
     "text": [
      "Средний бюджет на скважину: 50000.0 тыс.руб.\n",
      "Средний безубыточный объем скважины: 111.11 тыс.барр.\n",
      "Средний безубыточный объем 200 скважин региона: 22222.22 тыс.барр.\n"
     ]
    }
   ],
   "source": [
    "mean_bud_point = BUDGET/BEST_POINTS\n",
    "mean_barr_point =  mean_bud_point/PRICE_BARREL\n",
    "mean_barr_region = mean_barr_point*BEST_POINTS #или budget/price_point\n",
    "\n",
    "print('Средний бюджет на скважину:', round(mean_bud_point,2), 'тыс.руб.')\n",
    "print('Средний безубыточный объем скважины:', round(mean_barr_point,2), 'тыс.барр.')\n",
    "print('Средний безубыточный объем 200 скважин региона:', round(mean_barr_region,2), 'тыс.барр.')"
   ]
  },
  {
   "cell_type": "code",
   "execution_count": 33,
   "metadata": {},
   "outputs": [
    {
     "data": {
      "text/html": [
       "<div>\n",
       "<style scoped>\n",
       "    .dataframe tbody tr th:only-of-type {\n",
       "        vertical-align: middle;\n",
       "    }\n",
       "\n",
       "    .dataframe tbody tr th {\n",
       "        vertical-align: top;\n",
       "    }\n",
       "\n",
       "    .dataframe thead th {\n",
       "        text-align: right;\n",
       "    }\n",
       "</style>\n",
       "<table border=\"1\" class=\"dataframe\">\n",
       "  <thead>\n",
       "    <tr style=\"text-align: right;\">\n",
       "      <th></th>\n",
       "      <th>Средний запас скважины</th>\n",
       "      <th>Регион 1</th>\n",
       "      <th>Регион 2</th>\n",
       "      <th>Регион 3</th>\n",
       "    </tr>\n",
       "  </thead>\n",
       "  <tbody>\n",
       "    <tr>\n",
       "      <th>0</th>\n",
       "      <td>Предсказание</td>\n",
       "      <td>92.592568</td>\n",
       "      <td>68.728547</td>\n",
       "      <td>94.965046</td>\n",
       "    </tr>\n",
       "    <tr>\n",
       "      <th>1</th>\n",
       "      <td>Расчет безубыточности</td>\n",
       "      <td>111.111111</td>\n",
       "      <td>111.111111</td>\n",
       "      <td>111.111111</td>\n",
       "    </tr>\n",
       "    <tr>\n",
       "      <th>2</th>\n",
       "      <td>Факт</td>\n",
       "      <td>92.500000</td>\n",
       "      <td>68.825000</td>\n",
       "      <td>95.000000</td>\n",
       "    </tr>\n",
       "  </tbody>\n",
       "</table>\n",
       "</div>"
      ],
      "text/plain": [
       "  Средний запас скважины    Регион 1    Регион 2    Регион 3\n",
       "0           Предсказание   92.592568   68.728547   94.965046\n",
       "1  Расчет безубыточности  111.111111  111.111111  111.111111\n",
       "2                   Факт   92.500000   68.825000   95.000000"
      ]
     },
     "metadata": {},
     "output_type": "display_data"
    }
   ],
   "source": [
    "# создаем датафрейм, чтобы сравнить предсказанные, расчетные и фактические показатели среднего объема \n",
    "# одной скважины, тыс.барр.\n",
    "d = {'Средний запас скважины':['Предсказание','Расчет безубыточности','Факт'],\n",
    "     'Регион 1':[predicted_valid_mean_dr1, mean_barr_point ,mean_barr_per_poin_dr1],\n",
    "     'Регион 2':[predicted_valid_mean_dr2, mean_barr_point ,mean_barr_per_poin_dr2],\n",
    "     'Регион 3':[predicted_valid_mean_dr3, mean_barr_point ,mean_barr_per_poin_dr3]\n",
    "    }\n",
    "res = pd.DataFrame(data=d)       \n",
    "\n",
    "# выводим результат\n",
    "display(res) "
   ]
  },
  {
   "cell_type": "code",
   "execution_count": 34,
   "metadata": {},
   "outputs": [],
   "source": [
    "# создаем функцию для подстчета доходности на основе предсказания уровня запасов\n",
    "def profit_probs(target, probabilities, count):\n",
    "    probs_sorted = probabilities.sort_values(ascending=False)\n",
    "    selected = target[probs_sorted.index][:count]\n",
    "    profit_probs = PRICE_BARREL * selected.sum() - BUDGET\n",
    "    return  profit_probs"
   ]
  },
  {
   "cell_type": "code",
   "execution_count": 35,
   "metadata": {},
   "outputs": [
    {
     "name": "stdout",
     "output_type": "stream",
     "text": [
      "Регион 1\n",
      "Cредний запас лучших по предсказанию скважин: 148.01 тыс.барр.\n",
      "Регион 2\n",
      "Cредний запас лучших по предсказанию скважин: 137.95 тыс.барр.\n",
      "Регион 3\n",
      "Cредний запас лучших по предсказанию скважин: 141.23 тыс.барр.\n"
     ]
    }
   ],
   "source": [
    "# рассчитываем для каждого региона средний запас лучших по предсказанию скважин \n",
    "def barr_sum(target, probabilities, count):\n",
    "    probs_sorted = probabilities.sort_values(ascending=False)\n",
    "    selected = target[probs_sorted.index][:count]    \n",
    "    return  round(selected.mean(),2)\n",
    "\n",
    "\n",
    "mean_barr_per_poin_best_dr1 = barr_sum(data_product_dr1['real_product'],\n",
    "                                       data_product_dr1['predicted_product'],\n",
    "                                       BEST_POINTS)\n",
    "mean_barr_per_poin_best_dr2 = barr_sum(data_product_dr2['real_product'],\n",
    "                                       data_product_dr2['predicted_product'],\n",
    "                                       BEST_POINTS)\n",
    "mean_barr_per_poin_best_dr3 = barr_sum(data_product_dr3['real_product'],\n",
    "                                       data_product_dr3['predicted_product'],\n",
    "                                       BEST_POINTS)\n",
    "print('Регион 1')\n",
    "print('Cредний запас лучших по предсказанию скважин:',mean_barr_per_poin_best_dr1, 'тыс.барр.')\n",
    "print('Регион 2')\n",
    "print('Cредний запас лучших по предсказанию скважин:',mean_barr_per_poin_best_dr2,'тыс.барр.')\n",
    "print('Регион 3')\n",
    "print('Cредний запас лучших по предсказанию скважин:',mean_barr_per_poin_best_dr3,'тыс.барр.')"
   ]
  },
  {
   "cell_type": "code",
   "execution_count": 36,
   "metadata": {},
   "outputs": [
    {
     "name": "stdout",
     "output_type": "stream",
     "text": [
      "Средний запас скважины, тыс.барр.\n"
     ]
    },
    {
     "data": {
      "text/html": [
       "<div>\n",
       "<style scoped>\n",
       "    .dataframe tbody tr th:only-of-type {\n",
       "        vertical-align: middle;\n",
       "    }\n",
       "\n",
       "    .dataframe tbody tr th {\n",
       "        vertical-align: top;\n",
       "    }\n",
       "\n",
       "    .dataframe thead th {\n",
       "        text-align: right;\n",
       "    }\n",
       "</style>\n",
       "<table border=\"1\" class=\"dataframe\">\n",
       "  <thead>\n",
       "    <tr style=\"text-align: right;\">\n",
       "      <th></th>\n",
       "      <th>Регион</th>\n",
       "      <th>200 лучших региона</th>\n",
       "      <th>Среднее региона</th>\n",
       "      <th>Расчет безубыточности</th>\n",
       "    </tr>\n",
       "  </thead>\n",
       "  <tbody>\n",
       "    <tr>\n",
       "      <th>0</th>\n",
       "      <td>1</td>\n",
       "      <td>148.01</td>\n",
       "      <td>92.500</td>\n",
       "      <td>111.111111</td>\n",
       "    </tr>\n",
       "    <tr>\n",
       "      <th>1</th>\n",
       "      <td>2</td>\n",
       "      <td>137.95</td>\n",
       "      <td>68.825</td>\n",
       "      <td>111.111111</td>\n",
       "    </tr>\n",
       "    <tr>\n",
       "      <th>2</th>\n",
       "      <td>3</td>\n",
       "      <td>141.23</td>\n",
       "      <td>95.000</td>\n",
       "      <td>111.111111</td>\n",
       "    </tr>\n",
       "  </tbody>\n",
       "</table>\n",
       "</div>"
      ],
      "text/plain": [
       "   Регион  200 лучших региона  Среднее региона  Расчет безубыточности\n",
       "0       1              148.01           92.500             111.111111\n",
       "1       2              137.95           68.825             111.111111\n",
       "2       3              141.23           95.000             111.111111"
      ]
     },
     "metadata": {},
     "output_type": "display_data"
    }
   ],
   "source": [
    "# сравниваем средний запас 200 лучших скважин со средним региона\n",
    "d1={'Регион': [1,2,3],\n",
    "    '200 лучших региона':[mean_barr_per_poin_best_dr1,\n",
    "                          mean_barr_per_poin_best_dr2,\n",
    "                          mean_barr_per_poin_best_dr3], \n",
    "    'Среднее региона': [mean_barr_per_poin_dr1,\n",
    "                        mean_barr_per_poin_dr2,\n",
    "                        mean_barr_per_poin_dr3],\n",
    "   'Расчет безубыточности': [mean_barr_point,mean_barr_point,mean_barr_point]}\n",
    "\n",
    "res1 = pd.DataFrame(d1)\n",
    "print('Средний запас скважины, тыс.барр.')   \n",
    "display(res1)        "
   ]
  },
  {
   "cell_type": "markdown",
   "metadata": {},
   "source": [
    "### Вывод по третьему шагу\n",
    "\n",
    "  - Посчитали и сохранили все бизнес-метрики, рассчитали средний объем, достаточный для безубыточной разработки новой скважины (111,11 тыс.барр.) и сравнили со средним предсказанным и средним фактическим запасом в каждом регионе:\n",
    "    \n",
    "    - Если считать средний запас на скважину в каждом регионе по всей выборке, его не достаточно для безубыточной добычи, так как в регионе много скважин с низким запасом, а во 2 регионе 9% скважин с нулевым запасом.   \n",
    "\n",
    "  - Создали функцию, расчитали средний запас 200 лучших скважин и сравнили его с фактическим средним по региону и расчетному безубыточному: \n",
    "  \n",
    "    - Расчеты показывают, что в каждом регионе в 200 отобранных лучших скважинах имеется достаточный запас для безубыточной добычи.  "
   ]
  },
  {
   "cell_type": "markdown",
   "metadata": {},
   "source": [
    "## Расчёт прибыли и рисков "
   ]
  },
  {
   "cell_type": "code",
   "execution_count": 37,
   "metadata": {},
   "outputs": [],
   "source": [
    "# применяем будстреп с 1000 выборок, чтобы посчитать среднюю прибыль региона, 95% доверительный интервал \n",
    "# и процент риска \n",
    "state = np.random.RandomState(12345)\n",
    "\n",
    "def bootstrap_1000(target, probs):\n",
    "    values=[]\n",
    "    lost = 0\n",
    "    for i in range(1000):\n",
    "        target_sample = target.sample(replace=True, random_state=state, n=CHOOCE_POINTS)\n",
    "        probs_sample = probs[target_sample.index]\n",
    "        profit = profit_probs(target, probs_sample, BEST_POINTS)\n",
    "        if profit < 0:\n",
    "            lost +=1\n",
    "        values.append(profit) \n",
    "    \n",
    "    values = pd.Series(values)\n",
    "    lower = values.quantile(RISK_THRESHOLD)\n",
    "    upper = values.quantile(1-RISK_THRESHOLD)\n",
    "    average = values.mean()\n",
    "    risk = lost / 1000\n",
    "    return average, lower, upper, risk"
   ]
  },
  {
   "cell_type": "code",
   "execution_count": 38,
   "metadata": {},
   "outputs": [
    {
     "name": "stdout",
     "output_type": "stream",
     "text": [
      "Данные по 1 региону\n",
      "Средняя расчетная прибыль по региону = 396164.98 тыс.руб.\n",
      "95% доверительный интервал от -111215.55 до 909766.94 тыс.руб.\n",
      "Процент риска 6.9 %\n"
     ]
    }
   ],
   "source": [
    "average_1, lower_1, upper_1, risk_1 = bootstrap_1000(data_product_dr1['real_product'],\n",
    "                                                     data_product_dr1['predicted_product'])\n",
    "print('Данные по 1 региону')\n",
    "print(f'Средняя расчетная прибыль по региону = {round(average_1,2)} тыс.руб.')\n",
    "print(f'95% доверительный интервал от {round(lower_1,2)} до {round(upper_1,2)} тыс.руб.')\n",
    "print(f'Процент риска {round(risk_1*100,2)} %')"
   ]
  },
  {
   "cell_type": "code",
   "execution_count": 39,
   "metadata": {},
   "outputs": [
    {
     "name": "stdout",
     "output_type": "stream",
     "text": [
      "Данные по 2 региону\n",
      "Средняя расчетная прибыль по региону = 461155.82 тыс.руб.\n",
      "95% доверительный интервал от 78050.81 до 862952.06 тыс.руб.\n",
      "Процент риска 0.7 %\n"
     ]
    }
   ],
   "source": [
    "average_2, lower_2, upper_2, risk_2 = bootstrap_1000(data_product_dr2['real_product'],\n",
    "                                                     data_product_dr2['predicted_product'])\n",
    "print('Данные по 2 региону')\n",
    "print(f'Средняя расчетная прибыль по региону = {round(average_2,2)} тыс.руб.')\n",
    "print(f'95% доверительный интервал от {round(lower_2,2)} до {round(upper_2,2)} тыс.руб.')\n",
    "print(f'Процент риска {round(risk_2*100,2)} %')"
   ]
  },
  {
   "cell_type": "code",
   "execution_count": 40,
   "metadata": {},
   "outputs": [
    {
     "name": "stdout",
     "output_type": "stream",
     "text": [
      "Данные по 3 региону\n",
      "Средняя расчетная прибыль по региону = 392950.48 тыс.руб.\n",
      "95% доверительный интервал от -112227.63 до 934562.91 тыс.руб.\n",
      "Процент риска 6.5 %\n"
     ]
    }
   ],
   "source": [
    "average_3, lower_3, upper_3, risk_3 = bootstrap_1000(data_product_dr3['real_product'],\n",
    "                                                     data_product_dr3['predicted_product'])\n",
    "print('Данные по 3 региону')\n",
    "print(f'Средняя расчетная прибыль по региону = {round(average_3,2)} тыс.руб.')\n",
    "print(f'95% доверительный интервал от {round(lower_3,2)} до {round(upper_3,2)} тыс.руб.')\n",
    "print(f'Процент риска {round(risk_3*100,2)} %')"
   ]
  },
  {
   "cell_type": "markdown",
   "metadata": {},
   "source": [
    "### Вывод по четвертому шагу\n",
    "\n",
    " - Посчитали прибыль, риски и доверительный интервал по трем регионам методом бутстрепа:\n",
    " \n",
    "    - Несмотря на достаточный расчетный предсказанный запас лучших скважин, риски и расчетная прибыль по второму региону сильно отличаются от показателей первого и третьего регионов.\n",
    "\n",
    "\n",
    " - Мы отсеиваем первый и третий регионы, так как вероятность убытков при разработке новых скважн в них значительно превышает порог риска (2,5%) ( 6,9 и 6,5 соответсвенно), и оставляем второй регион с показателем вероятности убытков 0,7%."
   ]
  },
  {
   "cell_type": "markdown",
   "metadata": {},
   "source": [
    "## Общий вывод\n",
    "\n",
    " -  В процессе работы над проектом мы: \n",
    "   \n",
    "    - Изучили данные и подготовили для моделирования;\n",
    "    - Обучили модель и получили предсказания на валидационной выборке для трех регионов;\n",
    "    - Создали функцию для расчета прибыли и убытков по регионам;\n",
    "    - Посчитали прибыль, риски и доверительный интервал по каждому региону;\n",
    "    - На основе расчетов рекомендовали регион для разработки. \n",
    "\n",
    "\n",
    " -  **Резюме**:\n",
    "    \n",
    "    - **Лучший** регион (**Второй**) показал очень низкую **вероятность убытков - 0,7%** и  наивысшую среди соседей расчетную среднюю **прибыль 461155.82 тыс.руб.** на 95% доверительном **интервале (от 78050.81 до 862952.06 тыс.руб.)**."
   ]
  }
 ],
 "metadata": {
  "ExecuteTimeLog": [
   {
    "duration": 502,
    "start_time": "2023-10-02T19:51:36.247Z"
   },
   {
    "duration": 424,
    "start_time": "2023-10-02T19:52:23.382Z"
   },
   {
    "duration": 690,
    "start_time": "2023-10-02T19:52:56.522Z"
   },
   {
    "duration": 489,
    "start_time": "2023-10-02T19:53:19.409Z"
   },
   {
    "duration": 11,
    "start_time": "2023-10-02T19:57:54.894Z"
   },
   {
    "duration": 11,
    "start_time": "2023-10-02T19:58:05.971Z"
   },
   {
    "duration": 22,
    "start_time": "2023-10-02T19:58:35.702Z"
   },
   {
    "duration": 54,
    "start_time": "2023-10-02T19:58:52.382Z"
   },
   {
    "duration": 18,
    "start_time": "2023-10-02T19:59:36.679Z"
   },
   {
    "duration": 29,
    "start_time": "2023-10-02T19:59:45.341Z"
   },
   {
    "duration": 876,
    "start_time": "2023-10-02T20:00:06.833Z"
   },
   {
    "duration": 11,
    "start_time": "2023-10-02T20:00:07.711Z"
   },
   {
    "duration": 45,
    "start_time": "2023-10-02T20:00:07.724Z"
   },
   {
    "duration": 51,
    "start_time": "2023-10-03T16:52:18.525Z"
   },
   {
    "duration": 47,
    "start_time": "2023-10-03T16:52:38.874Z"
   },
   {
    "duration": 1233,
    "start_time": "2023-10-03T16:52:50.201Z"
   },
   {
    "duration": 15,
    "start_time": "2023-10-03T16:52:51.435Z"
   },
   {
    "duration": 11,
    "start_time": "2023-10-03T16:52:51.452Z"
   },
   {
    "duration": 26,
    "start_time": "2023-10-03T16:52:51.465Z"
   },
   {
    "duration": 393,
    "start_time": "2023-10-03T16:53:19.219Z"
   },
   {
    "duration": 395,
    "start_time": "2023-10-03T16:53:22.321Z"
   },
   {
    "duration": 309,
    "start_time": "2023-10-03T16:53:53.062Z"
   },
   {
    "duration": 374,
    "start_time": "2023-10-03T16:57:27.470Z"
   },
   {
    "duration": 343,
    "start_time": "2023-10-03T16:57:41.191Z"
   },
   {
    "duration": 143,
    "start_time": "2023-10-03T16:58:09.346Z"
   },
   {
    "duration": 38,
    "start_time": "2023-10-03T16:59:20.577Z"
   },
   {
    "duration": 2134,
    "start_time": "2023-10-03T18:19:24.101Z"
   },
   {
    "duration": 15,
    "start_time": "2023-10-03T18:19:26.237Z"
   },
   {
    "duration": 812,
    "start_time": "2023-10-03T18:19:26.254Z"
   },
   {
    "duration": 13,
    "start_time": "2023-10-03T18:19:27.069Z"
   },
   {
    "duration": 38,
    "start_time": "2023-10-03T18:19:27.084Z"
   },
   {
    "duration": 46,
    "start_time": "2023-10-03T18:19:27.124Z"
   },
   {
    "duration": 16,
    "start_time": "2023-10-03T18:20:03.041Z"
   },
   {
    "duration": 828,
    "start_time": "2023-10-03T18:20:11.209Z"
   },
   {
    "duration": 21,
    "start_time": "2023-10-03T18:20:12.039Z"
   },
   {
    "duration": 247,
    "start_time": "2023-10-03T18:20:12.062Z"
   },
   {
    "duration": 1611,
    "start_time": "2023-10-07T20:30:09.822Z"
   },
   {
    "duration": 0,
    "start_time": "2023-10-07T20:30:11.435Z"
   },
   {
    "duration": 0,
    "start_time": "2023-10-07T20:30:11.436Z"
   },
   {
    "duration": 0,
    "start_time": "2023-10-07T20:30:11.437Z"
   },
   {
    "duration": 0,
    "start_time": "2023-10-07T20:30:11.438Z"
   },
   {
    "duration": 1,
    "start_time": "2023-10-07T20:30:11.440Z"
   },
   {
    "duration": 0,
    "start_time": "2023-10-07T20:30:11.442Z"
   },
   {
    "duration": 1,
    "start_time": "2023-10-07T20:30:11.443Z"
   },
   {
    "duration": 0,
    "start_time": "2023-10-07T20:30:11.445Z"
   },
   {
    "duration": 0,
    "start_time": "2023-10-07T20:30:11.446Z"
   },
   {
    "duration": 0,
    "start_time": "2023-10-07T20:30:11.448Z"
   },
   {
    "duration": 0,
    "start_time": "2023-10-07T20:30:11.449Z"
   },
   {
    "duration": 0,
    "start_time": "2023-10-07T20:30:11.450Z"
   },
   {
    "duration": 1,
    "start_time": "2023-10-07T20:30:11.451Z"
   },
   {
    "duration": 0,
    "start_time": "2023-10-07T20:30:11.453Z"
   },
   {
    "duration": 0,
    "start_time": "2023-10-07T20:30:11.454Z"
   },
   {
    "duration": 0,
    "start_time": "2023-10-07T20:30:11.456Z"
   },
   {
    "duration": 0,
    "start_time": "2023-10-07T20:30:11.457Z"
   },
   {
    "duration": 0,
    "start_time": "2023-10-07T20:30:11.459Z"
   },
   {
    "duration": 0,
    "start_time": "2023-10-07T20:30:11.502Z"
   },
   {
    "duration": 0,
    "start_time": "2023-10-07T20:30:11.504Z"
   },
   {
    "duration": 0,
    "start_time": "2023-10-07T20:30:11.505Z"
   },
   {
    "duration": 0,
    "start_time": "2023-10-07T20:30:11.507Z"
   },
   {
    "duration": 0,
    "start_time": "2023-10-07T20:30:11.508Z"
   },
   {
    "duration": 0,
    "start_time": "2023-10-07T20:30:11.510Z"
   },
   {
    "duration": 0,
    "start_time": "2023-10-07T20:30:11.511Z"
   },
   {
    "duration": 0,
    "start_time": "2023-10-07T20:30:11.512Z"
   },
   {
    "duration": 0,
    "start_time": "2023-10-07T20:30:11.514Z"
   },
   {
    "duration": 0,
    "start_time": "2023-10-07T20:30:11.515Z"
   },
   {
    "duration": 0,
    "start_time": "2023-10-07T20:30:11.517Z"
   },
   {
    "duration": 0,
    "start_time": "2023-10-07T20:30:11.519Z"
   },
   {
    "duration": 0,
    "start_time": "2023-10-07T20:30:11.520Z"
   },
   {
    "duration": 0,
    "start_time": "2023-10-07T20:30:11.522Z"
   },
   {
    "duration": 0,
    "start_time": "2023-10-07T20:30:11.523Z"
   },
   {
    "duration": 0,
    "start_time": "2023-10-07T20:30:11.524Z"
   },
   {
    "duration": 0,
    "start_time": "2023-10-07T20:30:11.525Z"
   },
   {
    "duration": 0,
    "start_time": "2023-10-07T20:30:11.526Z"
   },
   {
    "duration": 2185,
    "start_time": "2023-10-07T20:31:27.836Z"
   },
   {
    "duration": 40,
    "start_time": "2023-10-07T20:31:30.024Z"
   },
   {
    "duration": 145,
    "start_time": "2023-10-07T20:31:30.066Z"
   },
   {
    "duration": 925,
    "start_time": "2023-10-07T20:31:30.214Z"
   },
   {
    "duration": 791,
    "start_time": "2023-10-07T20:31:31.141Z"
   },
   {
    "duration": 1496,
    "start_time": "2023-10-07T20:31:31.934Z"
   },
   {
    "duration": 156,
    "start_time": "2023-10-07T20:31:33.432Z"
   },
   {
    "duration": 68,
    "start_time": "2023-10-07T20:31:33.590Z"
   },
   {
    "duration": 21,
    "start_time": "2023-10-07T20:31:33.660Z"
   },
   {
    "duration": 23,
    "start_time": "2023-10-07T20:31:33.700Z"
   },
   {
    "duration": 57,
    "start_time": "2023-10-07T20:31:33.725Z"
   },
   {
    "duration": 21,
    "start_time": "2023-10-07T20:31:33.783Z"
   },
   {
    "duration": 68,
    "start_time": "2023-10-07T20:31:33.806Z"
   },
   {
    "duration": 13,
    "start_time": "2023-10-07T20:31:33.875Z"
   },
   {
    "duration": 95,
    "start_time": "2023-10-07T20:31:33.890Z"
   },
   {
    "duration": 25,
    "start_time": "2023-10-07T20:31:33.986Z"
   },
   {
    "duration": 295,
    "start_time": "2023-10-07T20:31:34.012Z"
   },
   {
    "duration": 292,
    "start_time": "2023-10-07T20:31:34.310Z"
   },
   {
    "duration": 5,
    "start_time": "2023-10-07T20:31:34.605Z"
   },
   {
    "duration": 40,
    "start_time": "2023-10-07T20:31:34.613Z"
   },
   {
    "duration": 151,
    "start_time": "2023-10-07T20:31:34.655Z"
   },
   {
    "duration": 97,
    "start_time": "2023-10-07T20:31:34.808Z"
   },
   {
    "duration": 93,
    "start_time": "2023-10-07T20:31:34.907Z"
   },
   {
    "duration": 41,
    "start_time": "2023-10-07T20:31:35.003Z"
   },
   {
    "duration": 55,
    "start_time": "2023-10-07T20:31:35.046Z"
   },
   {
    "duration": 301,
    "start_time": "2023-10-07T20:31:35.103Z"
   },
   {
    "duration": 176,
    "start_time": "2023-10-07T20:31:35.406Z"
   },
   {
    "duration": 292,
    "start_time": "2023-10-07T20:31:35.585Z"
   },
   {
    "duration": 6,
    "start_time": "2023-10-07T20:31:35.879Z"
   },
   {
    "duration": 50,
    "start_time": "2023-10-07T20:31:35.887Z"
   },
   {
    "duration": 32,
    "start_time": "2023-10-07T20:31:35.939Z"
   },
   {
    "duration": 67,
    "start_time": "2023-10-07T20:31:35.972Z"
   },
   {
    "duration": 192,
    "start_time": "2023-10-07T20:31:36.041Z"
   },
   {
    "duration": 125,
    "start_time": "2023-10-07T20:31:36.234Z"
   },
   {
    "duration": 1042,
    "start_time": "2023-10-07T20:31:36.361Z"
   },
   {
    "duration": 987,
    "start_time": "2023-10-07T20:31:37.405Z"
   },
   {
    "duration": 966,
    "start_time": "2023-10-07T20:31:38.394Z"
   },
   {
    "duration": 1438,
    "start_time": "2023-10-08T05:48:29.069Z"
   },
   {
    "duration": 3,
    "start_time": "2023-10-08T05:48:30.509Z"
   },
   {
    "duration": 823,
    "start_time": "2023-10-08T05:48:30.513Z"
   },
   {
    "duration": 49,
    "start_time": "2023-10-08T05:48:31.338Z"
   },
   {
    "duration": 22,
    "start_time": "2023-10-08T05:48:31.389Z"
   },
   {
    "duration": 848,
    "start_time": "2023-10-08T05:48:31.412Z"
   },
   {
    "duration": 748,
    "start_time": "2023-10-08T05:48:32.269Z"
   },
   {
    "duration": 805,
    "start_time": "2023-10-08T05:48:33.019Z"
   },
   {
    "duration": 142,
    "start_time": "2023-10-08T05:48:33.826Z"
   },
   {
    "duration": 44,
    "start_time": "2023-10-08T05:48:33.971Z"
   },
   {
    "duration": 19,
    "start_time": "2023-10-08T05:48:34.016Z"
   },
   {
    "duration": 23,
    "start_time": "2023-10-08T05:48:34.048Z"
   },
   {
    "duration": 20,
    "start_time": "2023-10-08T05:48:34.072Z"
   },
   {
    "duration": 13,
    "start_time": "2023-10-08T05:48:34.094Z"
   },
   {
    "duration": 35,
    "start_time": "2023-10-08T05:48:34.108Z"
   },
   {
    "duration": 7,
    "start_time": "2023-10-08T05:48:34.152Z"
   },
   {
    "duration": 44,
    "start_time": "2023-10-08T05:48:34.163Z"
   },
   {
    "duration": 3,
    "start_time": "2023-10-08T05:48:34.208Z"
   },
   {
    "duration": 251,
    "start_time": "2023-10-08T05:48:34.213Z"
   },
   {
    "duration": 307,
    "start_time": "2023-10-08T05:48:34.465Z"
   },
   {
    "duration": 4,
    "start_time": "2023-10-08T05:48:34.777Z"
   },
   {
    "duration": 29,
    "start_time": "2023-10-08T05:48:34.783Z"
   },
   {
    "duration": 47,
    "start_time": "2023-10-08T05:48:34.813Z"
   },
   {
    "duration": 6,
    "start_time": "2023-10-08T05:48:34.941Z"
   },
   {
    "duration": 10,
    "start_time": "2023-10-08T05:48:34.949Z"
   },
   {
    "duration": 20,
    "start_time": "2023-10-08T05:48:34.961Z"
   },
   {
    "duration": 74,
    "start_time": "2023-10-08T05:48:34.982Z"
   },
   {
    "duration": 259,
    "start_time": "2023-10-08T05:48:35.059Z"
   },
   {
    "duration": 154,
    "start_time": "2023-10-08T05:48:35.319Z"
   },
   {
    "duration": 246,
    "start_time": "2023-10-08T05:48:35.475Z"
   },
   {
    "duration": 2,
    "start_time": "2023-10-08T05:48:35.723Z"
   },
   {
    "duration": 22,
    "start_time": "2023-10-08T05:48:35.726Z"
   },
   {
    "duration": 21,
    "start_time": "2023-10-08T05:48:35.749Z"
   },
   {
    "duration": 5,
    "start_time": "2023-10-08T05:48:35.772Z"
   },
   {
    "duration": 116,
    "start_time": "2023-10-08T05:48:35.779Z"
   },
   {
    "duration": 0,
    "start_time": "2023-10-08T05:48:35.896Z"
   },
   {
    "duration": 0,
    "start_time": "2023-10-08T05:48:35.897Z"
   },
   {
    "duration": 0,
    "start_time": "2023-10-08T05:48:35.898Z"
   },
   {
    "duration": 0,
    "start_time": "2023-10-08T05:48:35.899Z"
   },
   {
    "duration": 1,
    "start_time": "2023-10-08T05:48:35.899Z"
   },
   {
    "duration": 40,
    "start_time": "2023-10-08T05:49:23.428Z"
   },
   {
    "duration": 1476,
    "start_time": "2023-10-08T05:49:36.345Z"
   },
   {
    "duration": 3,
    "start_time": "2023-10-08T05:49:37.823Z"
   },
   {
    "duration": 398,
    "start_time": "2023-10-08T05:49:37.827Z"
   },
   {
    "duration": 50,
    "start_time": "2023-10-08T05:49:38.226Z"
   },
   {
    "duration": 26,
    "start_time": "2023-10-08T05:49:38.277Z"
   },
   {
    "duration": 731,
    "start_time": "2023-10-08T05:49:38.304Z"
   },
   {
    "duration": 697,
    "start_time": "2023-10-08T05:49:39.036Z"
   },
   {
    "duration": 800,
    "start_time": "2023-10-08T05:49:39.734Z"
   },
   {
    "duration": 131,
    "start_time": "2023-10-08T05:49:40.536Z"
   },
   {
    "duration": 43,
    "start_time": "2023-10-08T05:49:40.669Z"
   },
   {
    "duration": 49,
    "start_time": "2023-10-08T05:49:40.714Z"
   },
   {
    "duration": 12,
    "start_time": "2023-10-08T05:49:40.770Z"
   },
   {
    "duration": 19,
    "start_time": "2023-10-08T05:49:40.783Z"
   },
   {
    "duration": 19,
    "start_time": "2023-10-08T05:49:40.803Z"
   },
   {
    "duration": 50,
    "start_time": "2023-10-08T05:49:40.824Z"
   },
   {
    "duration": 5,
    "start_time": "2023-10-08T05:49:40.875Z"
   },
   {
    "duration": 38,
    "start_time": "2023-10-08T05:49:40.882Z"
   },
   {
    "duration": 4,
    "start_time": "2023-10-08T05:49:40.921Z"
   },
   {
    "duration": 346,
    "start_time": "2023-10-08T05:49:40.926Z"
   },
   {
    "duration": 224,
    "start_time": "2023-10-08T05:49:41.281Z"
   },
   {
    "duration": 4,
    "start_time": "2023-10-08T05:49:41.506Z"
   },
   {
    "duration": 22,
    "start_time": "2023-10-08T05:49:41.511Z"
   },
   {
    "duration": 127,
    "start_time": "2023-10-08T05:49:41.545Z"
   },
   {
    "duration": 16,
    "start_time": "2023-10-08T05:49:41.678Z"
   },
   {
    "duration": 56,
    "start_time": "2023-10-08T05:49:41.695Z"
   },
   {
    "duration": 26,
    "start_time": "2023-10-08T05:49:41.752Z"
   },
   {
    "duration": 4,
    "start_time": "2023-10-08T05:49:41.780Z"
   },
   {
    "duration": 297,
    "start_time": "2023-10-08T05:49:41.787Z"
   },
   {
    "duration": 190,
    "start_time": "2023-10-08T05:49:42.086Z"
   },
   {
    "duration": 282,
    "start_time": "2023-10-08T05:49:42.278Z"
   },
   {
    "duration": 6,
    "start_time": "2023-10-08T05:49:42.561Z"
   },
   {
    "duration": 16,
    "start_time": "2023-10-08T05:49:42.572Z"
   },
   {
    "duration": 11,
    "start_time": "2023-10-08T05:49:42.590Z"
   },
   {
    "duration": 7,
    "start_time": "2023-10-08T05:49:42.602Z"
   },
   {
    "duration": 27,
    "start_time": "2023-10-08T05:49:42.611Z"
   },
   {
    "duration": 16,
    "start_time": "2023-10-08T05:49:42.649Z"
   },
   {
    "duration": 7,
    "start_time": "2023-10-08T05:49:42.667Z"
   },
   {
    "duration": 764,
    "start_time": "2023-10-08T05:49:42.676Z"
   },
   {
    "duration": 734,
    "start_time": "2023-10-08T05:49:43.441Z"
   },
   {
    "duration": 717,
    "start_time": "2023-10-08T05:49:44.177Z"
   },
   {
    "duration": 3,
    "start_time": "2023-10-08T05:53:00.538Z"
   },
   {
    "duration": 6,
    "start_time": "2023-10-08T05:53:07.185Z"
   },
   {
    "duration": 883,
    "start_time": "2023-10-08T05:53:09.589Z"
   },
   {
    "duration": 1332,
    "start_time": "2023-10-08T05:53:23.267Z"
   },
   {
    "duration": 4,
    "start_time": "2023-10-08T05:53:24.600Z"
   },
   {
    "duration": 457,
    "start_time": "2023-10-08T05:53:24.606Z"
   },
   {
    "duration": 32,
    "start_time": "2023-10-08T05:53:25.069Z"
   },
   {
    "duration": 22,
    "start_time": "2023-10-08T05:53:25.103Z"
   },
   {
    "duration": 766,
    "start_time": "2023-10-08T05:53:25.127Z"
   },
   {
    "duration": 707,
    "start_time": "2023-10-08T05:53:25.894Z"
   },
   {
    "duration": 766,
    "start_time": "2023-10-08T05:53:26.603Z"
   },
   {
    "duration": 129,
    "start_time": "2023-10-08T05:53:27.377Z"
   },
   {
    "duration": 51,
    "start_time": "2023-10-08T05:53:27.509Z"
   },
   {
    "duration": 27,
    "start_time": "2023-10-08T05:53:27.561Z"
   },
   {
    "duration": 12,
    "start_time": "2023-10-08T05:53:27.590Z"
   },
   {
    "duration": 52,
    "start_time": "2023-10-08T05:53:27.603Z"
   },
   {
    "duration": 20,
    "start_time": "2023-10-08T05:53:27.656Z"
   },
   {
    "duration": 25,
    "start_time": "2023-10-08T05:53:27.677Z"
   },
   {
    "duration": 3,
    "start_time": "2023-10-08T05:53:27.704Z"
   },
   {
    "duration": 61,
    "start_time": "2023-10-08T05:53:27.709Z"
   },
   {
    "duration": 4,
    "start_time": "2023-10-08T05:53:27.773Z"
   },
   {
    "duration": 172,
    "start_time": "2023-10-08T05:53:27.779Z"
   },
   {
    "duration": 253,
    "start_time": "2023-10-08T05:53:27.953Z"
   },
   {
    "duration": 3,
    "start_time": "2023-10-08T05:53:28.208Z"
   },
   {
    "duration": 27,
    "start_time": "2023-10-08T05:53:28.213Z"
   },
   {
    "duration": 128,
    "start_time": "2023-10-08T05:53:28.241Z"
   },
   {
    "duration": 71,
    "start_time": "2023-10-08T05:53:28.380Z"
   },
   {
    "duration": 18,
    "start_time": "2023-10-08T05:53:28.456Z"
   },
   {
    "duration": 13,
    "start_time": "2023-10-08T05:53:28.476Z"
   },
   {
    "duration": 23,
    "start_time": "2023-10-08T05:53:28.491Z"
   },
   {
    "duration": 284,
    "start_time": "2023-10-08T05:53:28.518Z"
   },
   {
    "duration": 173,
    "start_time": "2023-10-08T05:53:28.804Z"
   },
   {
    "duration": 235,
    "start_time": "2023-10-08T05:53:28.979Z"
   },
   {
    "duration": 2,
    "start_time": "2023-10-08T05:53:29.216Z"
   },
   {
    "duration": 15,
    "start_time": "2023-10-08T05:53:29.219Z"
   },
   {
    "duration": 18,
    "start_time": "2023-10-08T05:53:29.235Z"
   },
   {
    "duration": 14,
    "start_time": "2023-10-08T05:53:29.254Z"
   },
   {
    "duration": 32,
    "start_time": "2023-10-08T05:53:29.269Z"
   },
   {
    "duration": 8,
    "start_time": "2023-10-08T05:53:29.303Z"
   },
   {
    "duration": 18,
    "start_time": "2023-10-08T05:53:29.313Z"
   },
   {
    "duration": 845,
    "start_time": "2023-10-08T05:53:29.332Z"
   },
   {
    "duration": 0,
    "start_time": "2023-10-08T05:53:30.179Z"
   },
   {
    "duration": 0,
    "start_time": "2023-10-08T05:53:30.180Z"
   },
   {
    "duration": 1468,
    "start_time": "2023-10-08T05:54:35.260Z"
   },
   {
    "duration": 4,
    "start_time": "2023-10-08T05:54:36.730Z"
   },
   {
    "duration": 389,
    "start_time": "2023-10-08T05:54:36.735Z"
   },
   {
    "duration": 60,
    "start_time": "2023-10-08T05:54:37.125Z"
   },
   {
    "duration": 23,
    "start_time": "2023-10-08T05:54:37.187Z"
   },
   {
    "duration": 801,
    "start_time": "2023-10-08T05:54:37.211Z"
   },
   {
    "duration": 671,
    "start_time": "2023-10-08T05:54:38.013Z"
   },
   {
    "duration": 844,
    "start_time": "2023-10-08T05:54:38.686Z"
   },
   {
    "duration": 155,
    "start_time": "2023-10-08T05:54:39.531Z"
   },
   {
    "duration": 43,
    "start_time": "2023-10-08T05:54:39.687Z"
   },
   {
    "duration": 56,
    "start_time": "2023-10-08T05:54:39.732Z"
   },
   {
    "duration": 13,
    "start_time": "2023-10-08T05:54:39.790Z"
   },
   {
    "duration": 27,
    "start_time": "2023-10-08T05:54:39.805Z"
   },
   {
    "duration": 20,
    "start_time": "2023-10-08T05:54:39.848Z"
   },
   {
    "duration": 51,
    "start_time": "2023-10-08T05:54:39.869Z"
   },
   {
    "duration": 4,
    "start_time": "2023-10-08T05:54:39.921Z"
   },
   {
    "duration": 52,
    "start_time": "2023-10-08T05:54:39.926Z"
   },
   {
    "duration": 5,
    "start_time": "2023-10-08T05:54:39.985Z"
   },
   {
    "duration": 290,
    "start_time": "2023-10-08T05:54:39.991Z"
   },
   {
    "duration": 297,
    "start_time": "2023-10-08T05:54:40.283Z"
   },
   {
    "duration": 10,
    "start_time": "2023-10-08T05:54:40.581Z"
   },
   {
    "duration": 27,
    "start_time": "2023-10-08T05:54:40.593Z"
   },
   {
    "duration": 163,
    "start_time": "2023-10-08T05:54:40.622Z"
   },
   {
    "duration": 28,
    "start_time": "2023-10-08T05:54:40.851Z"
   },
   {
    "duration": 66,
    "start_time": "2023-10-08T05:54:40.886Z"
   },
   {
    "duration": 23,
    "start_time": "2023-10-08T05:54:40.966Z"
   },
   {
    "duration": 3,
    "start_time": "2023-10-08T05:54:40.991Z"
   },
   {
    "duration": 318,
    "start_time": "2023-10-08T05:54:40.996Z"
   },
   {
    "duration": 179,
    "start_time": "2023-10-08T05:54:41.315Z"
   },
   {
    "duration": 295,
    "start_time": "2023-10-08T05:54:41.496Z"
   },
   {
    "duration": 4,
    "start_time": "2023-10-08T05:54:41.792Z"
   },
   {
    "duration": 13,
    "start_time": "2023-10-08T05:54:41.797Z"
   },
   {
    "duration": 9,
    "start_time": "2023-10-08T05:54:41.812Z"
   },
   {
    "duration": 11,
    "start_time": "2023-10-08T05:54:41.823Z"
   },
   {
    "duration": 37,
    "start_time": "2023-10-08T05:54:41.852Z"
   },
   {
    "duration": 9,
    "start_time": "2023-10-08T05:54:41.891Z"
   },
   {
    "duration": 20,
    "start_time": "2023-10-08T05:54:41.901Z"
   },
   {
    "duration": 836,
    "start_time": "2023-10-08T05:54:41.923Z"
   },
   {
    "duration": 791,
    "start_time": "2023-10-08T05:54:42.761Z"
   },
   {
    "duration": 741,
    "start_time": "2023-10-08T05:54:43.556Z"
   },
   {
    "duration": 1563,
    "start_time": "2023-10-09T10:35:07.544Z"
   },
   {
    "duration": 3,
    "start_time": "2023-10-09T10:35:09.109Z"
   },
   {
    "duration": 926,
    "start_time": "2023-10-09T10:35:09.113Z"
   },
   {
    "duration": 37,
    "start_time": "2023-10-09T10:35:10.041Z"
   },
   {
    "duration": 26,
    "start_time": "2023-10-09T10:35:10.080Z"
   },
   {
    "duration": 873,
    "start_time": "2023-10-09T10:35:10.107Z"
   },
   {
    "duration": 798,
    "start_time": "2023-10-09T10:35:10.982Z"
   },
   {
    "duration": 888,
    "start_time": "2023-10-09T10:35:11.782Z"
   },
   {
    "duration": 137,
    "start_time": "2023-10-09T10:35:12.671Z"
   },
   {
    "duration": 68,
    "start_time": "2023-10-09T10:35:12.812Z"
   },
   {
    "duration": 21,
    "start_time": "2023-10-09T10:35:12.882Z"
   },
   {
    "duration": 12,
    "start_time": "2023-10-09T10:35:12.905Z"
   },
   {
    "duration": 24,
    "start_time": "2023-10-09T10:35:12.944Z"
   },
   {
    "duration": 18,
    "start_time": "2023-10-09T10:35:12.970Z"
   },
   {
    "duration": 51,
    "start_time": "2023-10-09T10:35:12.989Z"
   },
   {
    "duration": 11,
    "start_time": "2023-10-09T10:35:13.042Z"
   },
   {
    "duration": 53,
    "start_time": "2023-10-09T10:35:13.054Z"
   },
   {
    "duration": 4,
    "start_time": "2023-10-09T10:35:13.109Z"
   },
   {
    "duration": 337,
    "start_time": "2023-10-09T10:35:13.115Z"
   },
   {
    "duration": 357,
    "start_time": "2023-10-09T10:35:13.454Z"
   },
   {
    "duration": 4,
    "start_time": "2023-10-09T10:35:13.814Z"
   },
   {
    "duration": 47,
    "start_time": "2023-10-09T10:35:13.820Z"
   },
   {
    "duration": 177,
    "start_time": "2023-10-09T10:35:13.870Z"
   },
   {
    "duration": 95,
    "start_time": "2023-10-09T10:35:14.050Z"
   },
   {
    "duration": 25,
    "start_time": "2023-10-09T10:35:14.147Z"
   },
   {
    "duration": 36,
    "start_time": "2023-10-09T10:35:14.174Z"
   },
   {
    "duration": 27,
    "start_time": "2023-10-09T10:35:14.211Z"
   },
   {
    "duration": 339,
    "start_time": "2023-10-09T10:35:14.241Z"
   },
   {
    "duration": 206,
    "start_time": "2023-10-09T10:35:14.582Z"
   },
   {
    "duration": 272,
    "start_time": "2023-10-09T10:35:14.790Z"
   },
   {
    "duration": 2,
    "start_time": "2023-10-09T10:35:15.065Z"
   },
   {
    "duration": 40,
    "start_time": "2023-10-09T10:35:15.069Z"
   },
   {
    "duration": 57,
    "start_time": "2023-10-09T10:35:15.111Z"
   },
   {
    "duration": 57,
    "start_time": "2023-10-09T10:35:15.170Z"
   },
   {
    "duration": 49,
    "start_time": "2023-10-09T10:35:15.229Z"
   },
   {
    "duration": 14,
    "start_time": "2023-10-09T10:35:15.279Z"
   },
   {
    "duration": 20,
    "start_time": "2023-10-09T10:35:15.295Z"
   },
   {
    "duration": 897,
    "start_time": "2023-10-09T10:35:15.317Z"
   },
   {
    "duration": 897,
    "start_time": "2023-10-09T10:35:16.215Z"
   },
   {
    "duration": 868,
    "start_time": "2023-10-09T10:35:17.114Z"
   }
  ],
  "kernelspec": {
   "display_name": "Python 3 (ipykernel)",
   "language": "python",
   "name": "python3"
  },
  "language_info": {
   "codemirror_mode": {
    "name": "ipython",
    "version": 3
   },
   "file_extension": ".py",
   "mimetype": "text/x-python",
   "name": "python",
   "nbconvert_exporter": "python",
   "pygments_lexer": "ipython3",
   "version": "3.9.5"
  },
  "toc": {
   "base_numbering": 1,
   "nav_menu": {},
   "number_sections": true,
   "sideBar": true,
   "skip_h1_title": true,
   "title_cell": "Table of Contents",
   "title_sidebar": "Contents",
   "toc_cell": false,
   "toc_position": {},
   "toc_section_display": true,
   "toc_window_display": true
  }
 },
 "nbformat": 4,
 "nbformat_minor": 2
}
