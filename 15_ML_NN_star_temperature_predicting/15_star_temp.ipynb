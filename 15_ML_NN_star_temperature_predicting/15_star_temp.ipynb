{
 "cells": [
  {
   "cell_type": "markdown",
   "id": "b4b46d04",
   "metadata": {},
   "source": [
    "# Прогнозирование температуры поверхности звезды"
   ]
  },
  {
   "cell_type": "markdown",
   "id": "5247c7ef",
   "metadata": {},
   "source": [
    "##  Введение\n",
    "\n",
    "Обсерватории «Небо на ладони» требуется придумать, как с помощью нейросети определять температуру на поверхности обнаруженных звёзд. \n",
    "\n",
    "В базе обсерватории есть характеристики уже изученных 240 звёзд.\n",
    "\n",
    "**Цель проекта:**\n",
    "\n",
    " - Разработать нейронную сеть, которая предскажет абсолютную температуру на поверхности звезды.\n",
    "\n",
    "Заказчику важны:\n",
    "\n",
    "- точность предсказания;\n",
    "- удобство использования."
   ]
  },
  {
   "cell_type": "markdown",
   "id": "501030e3",
   "metadata": {},
   "source": [
    "**Данные:**\n",
    "     \n",
    "     \n",
    "***Признаки:***\n",
    "     \n",
    "\n",
    "   - *Относительная светимость L/Lo — светимость звезды относительно Солнца.*\n",
    "   \n",
    "   - *Относительный радиус R/Ro — радиус звезды относительно радиуса Солнца.*\n",
    "   \n",
    "   - *Абсолютная звёздная величина Mv — физическая величина, характеризующая блеск звезды.*\n",
    "   \n",
    "   - *Звёздный цвет (white, red, blue, yellow, yellow-orange и др.) — цвет звезды, который определяют на основе спектрального анализа.*\n",
    "   \n",
    "   - *Тип звезды (номер, соответствующий типу):*\n",
    "     - Коричневый карлик\t0\n",
    "     - Красный карлик\t1\n",
    "     - Белый карлик\t2\n",
    "     - Звёзды главной последовательности\t3\n",
    "     - Сверхгигант\t4\n",
    "     - Гипергигант\t5\n",
    "   \n",
    "   \n",
    "***Целевой признак:***\n",
    "     \n",
    "     \n",
    "   - *Абсолютная температура T(K) — температура на поверхности звезды в Кельвинах.*\n",
    "   \n",
    "   \n",
    "  "
   ]
  },
  {
   "cell_type": "markdown",
   "id": "2bd9d22c",
   "metadata": {},
   "source": [
    "**План выполнения проекта:**\n",
    "\n",
    "\n",
    "   - Загрузить данные.\n",
    "   \n",
    "   \n",
    "   - Провести исследовательский анализ данных.\n",
    "   \n",
    "   \n",
    "   - Подготовить данные для обучения модели:\n",
    "   \n",
    "\n",
    "   - Построить простую модель нейронной сети — baseline.\n",
    "   \n",
    "   \n",
    "   - Подобрать лучшие параметры сети.\n",
    "  \n",
    "   \n",
    "   - Написать промежуточный и общий выводы."
   ]
  },
  {
   "cell_type": "markdown",
   "id": "corresponding-armstrong",
   "metadata": {
    "ExecuteTime": {
     "end_time": "2022-05-05T04:58:05.692448Z",
     "start_time": "2022-05-05T04:58:05.688565Z"
    }
   },
   "source": [
    "## Загрузка данных "
   ]
  },
  {
   "cell_type": "code",
   "execution_count": 1,
   "id": "d234c14f",
   "metadata": {},
   "outputs": [],
   "source": [
    "#!pip install phik==0.10.0 -q"
   ]
  },
  {
   "cell_type": "code",
   "execution_count": 2,
   "id": "f93d2680",
   "metadata": {},
   "outputs": [],
   "source": [
    "#!pip install --upgrade scikit-learn -q"
   ]
  },
  {
   "cell_type": "code",
   "execution_count": 3,
   "id": "71c8dd36",
   "metadata": {},
   "outputs": [],
   "source": [
    "# загружаем библиотеки\n",
    "import torch\n",
    "import torch.nn as nn\n",
    "\n",
    "import pandas as pd\n",
    "import numpy as np\n",
    "from math import sqrt\n",
    "from math import ceil\n",
    "import seaborn as sns\n",
    "import matplotlib.pyplot as plt\n",
    "import phik\n",
    "import time\n",
    "import warnings\n",
    "\n",
    "from sklearn.model_selection import train_test_split \n",
    "from sklearn.ensemble import RandomForestRegressor\n",
    "from sklearn.preprocessing import OneHotEncoder, OrdinalEncoder\n",
    "from sklearn.preprocessing import StandardScaler\n",
    "\n",
    "from sklearn.metrics import mean_squared_error\n",
    "\n",
    "# настраиваем отображение \n",
    "pd.set_option('display.max_columns', 20)\n",
    "pd.set_option('display.max_rows', 250)\n",
    "pd.options.mode.chained_assignment = None\n",
    "warnings.filterwarnings('ignore')"
   ]
  },
  {
   "cell_type": "code",
   "execution_count": 4,
   "id": "spectacular-folder",
   "metadata": {},
   "outputs": [],
   "source": [
    "# загружаем датасет \n",
    "df = pd.read_csv('/datasets/6_class.csv')"
   ]
  },
  {
   "cell_type": "markdown",
   "id": "de046525",
   "metadata": {},
   "source": [
    "###  Вывод по первому шагу\n",
    "\n",
    " - Обновили и загрузили необходимые библиотеки и данные."
   ]
  },
  {
   "cell_type": "markdown",
   "id": "dc591cee",
   "metadata": {},
   "source": [
    "## Изучение и анализ данных"
   ]
  },
  {
   "cell_type": "code",
   "execution_count": 5,
   "id": "1f82c8ef",
   "metadata": {},
   "outputs": [
    {
     "name": "stdout",
     "output_type": "stream",
     "text": [
      "Датасет: data абсолютное количество явных дубликатов: 0\n",
      "Датасет: data относительное количество явных дубликатов: 0.0\n",
      "\n",
      "Датасет: data абсолютное количество пропусков:\n",
      "Unnamed: 0                0\n",
      "Temperature (K)           0\n",
      "Luminosity(L/Lo)          0\n",
      "Radius(R/Ro)              0\n",
      "Absolute magnitude(Mv)    0\n",
      "Star type                 0\n",
      "Star color                0\n",
      "dtype: int64\n",
      "\n",
      "Датасет: data относительное количество пропусков:\n",
      "Unnamed: 0                0.0\n",
      "Temperature (K)           0.0\n",
      "Luminosity(L/Lo)          0.0\n",
      "Radius(R/Ro)              0.0\n",
      "Absolute magnitude(Mv)    0.0\n",
      "Star type                 0.0\n",
      "Star color                0.0\n",
      "dtype: float64\n"
     ]
    },
    {
     "data": {
      "text/html": [
       "<div>\n",
       "<style scoped>\n",
       "    .dataframe tbody tr th:only-of-type {\n",
       "        vertical-align: middle;\n",
       "    }\n",
       "\n",
       "    .dataframe tbody tr th {\n",
       "        vertical-align: top;\n",
       "    }\n",
       "\n",
       "    .dataframe thead th {\n",
       "        text-align: right;\n",
       "    }\n",
       "</style>\n",
       "<table border=\"1\" class=\"dataframe\">\n",
       "  <thead>\n",
       "    <tr style=\"text-align: right;\">\n",
       "      <th></th>\n",
       "      <th>Unnamed: 0</th>\n",
       "      <th>Temperature (K)</th>\n",
       "      <th>Luminosity(L/Lo)</th>\n",
       "      <th>Radius(R/Ro)</th>\n",
       "      <th>Absolute magnitude(Mv)</th>\n",
       "      <th>Star type</th>\n",
       "      <th>Star color</th>\n",
       "    </tr>\n",
       "  </thead>\n",
       "  <tbody>\n",
       "    <tr>\n",
       "      <th>229</th>\n",
       "      <td>229</td>\n",
       "      <td>21738</td>\n",
       "      <td>748890.000000</td>\n",
       "      <td>92.0000</td>\n",
       "      <td>-7.346</td>\n",
       "      <td>4</td>\n",
       "      <td>Blue</td>\n",
       "    </tr>\n",
       "    <tr>\n",
       "      <th>219</th>\n",
       "      <td>219</td>\n",
       "      <td>8250</td>\n",
       "      <td>9.250000</td>\n",
       "      <td>1.9300</td>\n",
       "      <td>-0.980</td>\n",
       "      <td>3</td>\n",
       "      <td>yellow-white</td>\n",
       "    </tr>\n",
       "    <tr>\n",
       "      <th>101</th>\n",
       "      <td>101</td>\n",
       "      <td>40000</td>\n",
       "      <td>813000.000000</td>\n",
       "      <td>14.0000</td>\n",
       "      <td>-6.230</td>\n",
       "      <td>4</td>\n",
       "      <td>Blue</td>\n",
       "    </tr>\n",
       "    <tr>\n",
       "      <th>6</th>\n",
       "      <td>6</td>\n",
       "      <td>2637</td>\n",
       "      <td>0.000730</td>\n",
       "      <td>0.1270</td>\n",
       "      <td>17.220</td>\n",
       "      <td>0</td>\n",
       "      <td>Red</td>\n",
       "    </tr>\n",
       "    <tr>\n",
       "      <th>170</th>\n",
       "      <td>170</td>\n",
       "      <td>3570</td>\n",
       "      <td>320000.000000</td>\n",
       "      <td>1480.0000</td>\n",
       "      <td>-7.580</td>\n",
       "      <td>5</td>\n",
       "      <td>Red</td>\n",
       "    </tr>\n",
       "    <tr>\n",
       "      <th>239</th>\n",
       "      <td>239</td>\n",
       "      <td>37882</td>\n",
       "      <td>294903.000000</td>\n",
       "      <td>1783.0000</td>\n",
       "      <td>-7.800</td>\n",
       "      <td>5</td>\n",
       "      <td>Blue</td>\n",
       "    </tr>\n",
       "    <tr>\n",
       "      <th>187</th>\n",
       "      <td>187</td>\n",
       "      <td>3484</td>\n",
       "      <td>0.000551</td>\n",
       "      <td>0.0998</td>\n",
       "      <td>16.670</td>\n",
       "      <td>0</td>\n",
       "      <td>Red</td>\n",
       "    </tr>\n",
       "    <tr>\n",
       "      <th>79</th>\n",
       "      <td>79</td>\n",
       "      <td>3158</td>\n",
       "      <td>0.001350</td>\n",
       "      <td>0.1610</td>\n",
       "      <td>13.980</td>\n",
       "      <td>1</td>\n",
       "      <td>Red</td>\n",
       "    </tr>\n",
       "    <tr>\n",
       "      <th>15</th>\n",
       "      <td>15</td>\n",
       "      <td>3340</td>\n",
       "      <td>0.003800</td>\n",
       "      <td>0.2400</td>\n",
       "      <td>13.070</td>\n",
       "      <td>1</td>\n",
       "      <td>Red</td>\n",
       "    </tr>\n",
       "    <tr>\n",
       "      <th>27</th>\n",
       "      <td>27</td>\n",
       "      <td>7700</td>\n",
       "      <td>0.000110</td>\n",
       "      <td>0.0128</td>\n",
       "      <td>14.470</td>\n",
       "      <td>2</td>\n",
       "      <td>Yellowish White</td>\n",
       "    </tr>\n",
       "  </tbody>\n",
       "</table>\n",
       "</div>"
      ],
      "text/plain": [
       "     Unnamed: 0  Temperature (K)  Luminosity(L/Lo)  Radius(R/Ro)  \\\n",
       "229         229            21738     748890.000000       92.0000   \n",
       "219         219             8250          9.250000        1.9300   \n",
       "101         101            40000     813000.000000       14.0000   \n",
       "6             6             2637          0.000730        0.1270   \n",
       "170         170             3570     320000.000000     1480.0000   \n",
       "239         239            37882     294903.000000     1783.0000   \n",
       "187         187             3484          0.000551        0.0998   \n",
       "79           79             3158          0.001350        0.1610   \n",
       "15           15             3340          0.003800        0.2400   \n",
       "27           27             7700          0.000110        0.0128   \n",
       "\n",
       "     Absolute magnitude(Mv)  Star type       Star color  \n",
       "229                  -7.346          4             Blue  \n",
       "219                  -0.980          3     yellow-white  \n",
       "101                  -6.230          4             Blue  \n",
       "6                    17.220          0              Red  \n",
       "170                  -7.580          5              Red  \n",
       "239                  -7.800          5             Blue  \n",
       "187                  16.670          0              Red  \n",
       "79                   13.980          1              Red  \n",
       "15                   13.070          1              Red  \n",
       "27                   14.470          2  Yellowish White  "
      ]
     },
     "metadata": {},
     "output_type": "display_data"
    },
    {
     "name": "stdout",
     "output_type": "stream",
     "text": [
      "\n",
      "<class 'pandas.core.frame.DataFrame'>\n",
      "RangeIndex: 240 entries, 0 to 239\n",
      "Data columns (total 7 columns):\n",
      " #   Column                  Non-Null Count  Dtype  \n",
      "---  ------                  --------------  -----  \n",
      " 0   Unnamed: 0              240 non-null    int64  \n",
      " 1   Temperature (K)         240 non-null    int64  \n",
      " 2   Luminosity(L/Lo)        240 non-null    float64\n",
      " 3   Radius(R/Ro)            240 non-null    float64\n",
      " 4   Absolute magnitude(Mv)  240 non-null    float64\n",
      " 5   Star type               240 non-null    int64  \n",
      " 6   Star color              240 non-null    object \n",
      "dtypes: float64(3), int64(3), object(1)\n",
      "memory usage: 13.2+ KB\n"
     ]
    }
   ],
   "source": [
    "# знакомимся с данными, выводим десять случайных строк, явные и относительные дубликаты и пропуски\n",
    "def data_info(df):\n",
    "    d = {'data' : df}\n",
    "    for a, i in d.items():\n",
    "        # дубликаты\n",
    "        print('Датасет:',a,'абсолютное количество явных дубликатов:',i.duplicated().sum())    \n",
    "        print('Датасет:',a,'относительное количество явных дубликатов:',i.duplicated().sum()/df.shape[0])\n",
    "        print()\n",
    "        # пропуски\n",
    "        print('Датасет:',a,'абсолютное количество пропусков:')\n",
    "        print(i.isna().sum().sort_values()) \n",
    "        print()\n",
    "        print('Датасет:',a,'относительное количество пропусков:')    \n",
    "        print((i.isna().sum()/df.shape[0]).sort_values())\n",
    "        # строки и инфо\n",
    "        display(i.sample(10))\n",
    "        print()\n",
    "        i.info()\n",
    "# выводим         \n",
    "data_info(df)   "
   ]
  },
  {
   "cell_type": "code",
   "execution_count": 6,
   "id": "ba13e57e",
   "metadata": {},
   "outputs": [
    {
     "data": {
      "text/plain": [
       "240"
      ]
     },
     "execution_count": 6,
     "metadata": {},
     "output_type": "execute_result"
    }
   ],
   "source": [
    "# проверяем количество уникальных значений в столбце с названиями звезд\n",
    "df['Unnamed: 0'].nunique()"
   ]
  },
  {
   "cell_type": "markdown",
   "id": "c47e5934",
   "metadata": {},
   "source": [
    " \n",
    " - Пропусков и дубликатов нет.\n",
    " \n",
    " - В столбце с названиями звезд ('Unnamed: 0') значения совпадают с индексом. Удалим столбец перед обучением за ненадобностью, а в качестве названия звезды будем использовать индекс. \n",
    " \n",
    " - Типы данных соответствуют назначению. Числовые типы заменим на более экономные.\n",
    " \n",
    " - Поправим названия столбцов.  \n",
    " \n",
    " - Проверим данные на наличие аномалий."
   ]
  },
  {
   "cell_type": "code",
   "execution_count": 7,
   "id": "547c4782",
   "metadata": {},
   "outputs": [
    {
     "name": "stdout",
     "output_type": "stream",
     "text": [
      "Уникальные значения столбца: Star type\n",
      "[0 1 2 3 4 5]\n",
      "Количество уникальных значений столбца: Star type\n",
      "6\n",
      "Относительное распределение уникальных значений столбца: Star type\n",
      "0    0.166667\n",
      "1    0.166667\n",
      "2    0.166667\n",
      "3    0.166667\n",
      "4    0.166667\n",
      "5    0.166667\n",
      "Name: Star type, dtype: float64\n",
      "\n",
      "Уникальные значения столбца: Star color\n",
      "['Red' 'Blue White' 'White' 'Yellowish White' 'Blue white'\n",
      " 'Pale yellow orange' 'Blue' 'Blue-white' 'Whitish' 'yellow-white'\n",
      " 'Orange' 'White-Yellow' 'white' 'Blue ' 'yellowish' 'Yellowish'\n",
      " 'Orange-Red' 'Blue white ' 'Blue-White']\n",
      "Количество уникальных значений столбца: Star color\n",
      "19\n",
      "Относительное распределение уникальных значений столбца: Star color\n",
      "Red                   0.466667\n",
      "Blue                  0.229167\n",
      "Blue-white            0.108333\n",
      "Blue White            0.041667\n",
      "yellow-white          0.033333\n",
      "White                 0.029167\n",
      "white                 0.012500\n",
      "Blue white            0.012500\n",
      "Yellowish White       0.012500\n",
      "yellowish             0.008333\n",
      "Orange                0.008333\n",
      "Whitish               0.008333\n",
      "Blue                  0.004167\n",
      "Orange-Red            0.004167\n",
      "Blue-White            0.004167\n",
      "Blue white            0.004167\n",
      "Yellowish             0.004167\n",
      "Pale yellow orange    0.004167\n",
      "White-Yellow          0.004167\n",
      "Name: Star color, dtype: float64\n",
      "\n"
     ]
    }
   ],
   "source": [
    "# смотрим уникальные значения в столбцах с категориальными признаками\n",
    "\n",
    "# выбираем столбцы\n",
    "df_columns_category  = df.columns[-2:]\n",
    "\n",
    "def values_unique(data):\n",
    "    for column in df_columns_category:\n",
    "        values1 = data[column].unique()\n",
    "        values2 = data[column].nunique()\n",
    "        values3 = data[column].value_counts(normalize=True)\n",
    "        print('Уникальные значения столбца:', column)\n",
    "        print(values1)\n",
    "        print('Количество уникальных значений столбца:', column)\n",
    "        print(values2)\n",
    "        print('Относительное распределение уникальных значений столбца:', column)\n",
    "        print(values3)\n",
    "        print()\n",
    "    \n",
    "values_unique(df)    "
   ]
  },
  {
   "cell_type": "markdown",
   "id": "4bc117bd",
   "metadata": {},
   "source": [
    " - В столбце с типом звезды ('Star type') аномалии не наблюдаются. При этом, к каждому типу отнесено одинаковое количество звезд.\n",
    "\n",
    " - В столбце с цветом звезды ('Star color') много аномалий. Поправим значения. \n",
    " \n",
    " - Некоторые цвета представлены в единичных количествах. Объединим их с близкой категорией. "
   ]
  },
  {
   "cell_type": "code",
   "execution_count": 8,
   "id": "7eb593b3",
   "metadata": {},
   "outputs": [],
   "source": [
    "# избавляемся от аномалий в столбце Star color\n",
    "def df_str_replace(data):\n",
    "    data=data.str.strip() # удаляем лишние пробелы в строках\n",
    "    data=data.str.lower() # приводим символы к нижнему регистру\n",
    "    data=data.replace(['-', ' '],['_','_'], regex=True) # меняем пробелы и тире на нижнее подчеркивание \n",
    "    data=data.replace(\n",
    "    ['blue_white', 'white_yellow', \n",
    "     'yellowish',  'yellowish_white', \n",
    "     'whitish', \n",
    "     'orange_red', 'pale_yellow_orange'  \n",
    "],\n",
    "    ['white_blue', 'yellow_white', \n",
    "     'yellow',     'yellow_white', \n",
    "     'white', \n",
    "     'orange', 'orange' \n",
    "], \n",
    "        regex=True) # переименовываем неявные дубликаты \n",
    "    \n",
    "    return data\n",
    "\n",
    "df['Star color'] = df_str_replace(df['Star color'])    "
   ]
  },
  {
   "cell_type": "code",
   "execution_count": 9,
   "id": "444f6f84",
   "metadata": {},
   "outputs": [
    {
     "data": {
      "text/plain": [
       "array(['red', 'white_blue', 'white', 'yellow_white', 'orange', 'blue',\n",
       "       'yellow'], dtype=object)"
      ]
     },
     "execution_count": 9,
     "metadata": {},
     "output_type": "execute_result"
    }
   ],
   "source": [
    "# проверяем\n",
    "df['Star color'].unique()"
   ]
  },
  {
   "cell_type": "code",
   "execution_count": 10,
   "id": "4bb47ed5",
   "metadata": {},
   "outputs": [
    {
     "name": "stdout",
     "output_type": "stream",
     "text": [
      "red             0.466667\n",
      "blue            0.233333\n",
      "white_blue      0.170833\n",
      "yellow_white    0.050000\n",
      "white           0.050000\n",
      "orange          0.016667\n",
      "yellow          0.012500\n",
      "Name: Star color, dtype: float64\n",
      "\n"
     ]
    },
    {
     "data": {
      "text/plain": [
       "red             112\n",
       "blue             56\n",
       "white_blue       41\n",
       "yellow_white     12\n",
       "white            12\n",
       "orange            4\n",
       "yellow            3\n",
       "Name: Star color, dtype: int64"
      ]
     },
     "execution_count": 10,
     "metadata": {},
     "output_type": "execute_result"
    }
   ],
   "source": [
    "# смотрим распределение цветов по долям и количеству\n",
    "print(df['Star color'].value_counts(normalize=True))\n",
    "print()\n",
    "df['Star color'].value_counts()"
   ]
  },
  {
   "cell_type": "code",
   "execution_count": 11,
   "id": "aab99a86",
   "metadata": {},
   "outputs": [
    {
     "data": {
      "text/html": [
       "<div>\n",
       "<style scoped>\n",
       "    .dataframe tbody tr th:only-of-type {\n",
       "        vertical-align: middle;\n",
       "    }\n",
       "\n",
       "    .dataframe tbody tr th {\n",
       "        vertical-align: top;\n",
       "    }\n",
       "\n",
       "    .dataframe thead th {\n",
       "        text-align: right;\n",
       "    }\n",
       "</style>\n",
       "<table border=\"1\" class=\"dataframe\">\n",
       "  <thead>\n",
       "    <tr style=\"text-align: right;\">\n",
       "      <th></th>\n",
       "      <th>Unnamed: 0</th>\n",
       "      <th>Temperature (K)</th>\n",
       "      <th>Luminosity(L/Lo)</th>\n",
       "      <th>Radius(R/Ro)</th>\n",
       "      <th>Absolute magnitude(Mv)</th>\n",
       "      <th>Star type</th>\n",
       "    </tr>\n",
       "  </thead>\n",
       "  <tbody>\n",
       "    <tr>\n",
       "      <th>count</th>\n",
       "      <td>240.00000</td>\n",
       "      <td>240.000000</td>\n",
       "      <td>240.000000</td>\n",
       "      <td>240.000000</td>\n",
       "      <td>240.000000</td>\n",
       "      <td>240.000000</td>\n",
       "    </tr>\n",
       "    <tr>\n",
       "      <th>mean</th>\n",
       "      <td>119.50000</td>\n",
       "      <td>10497.462500</td>\n",
       "      <td>107188.361635</td>\n",
       "      <td>237.157781</td>\n",
       "      <td>4.382396</td>\n",
       "      <td>2.500000</td>\n",
       "    </tr>\n",
       "    <tr>\n",
       "      <th>std</th>\n",
       "      <td>69.42622</td>\n",
       "      <td>9552.425037</td>\n",
       "      <td>179432.244940</td>\n",
       "      <td>517.155763</td>\n",
       "      <td>10.532512</td>\n",
       "      <td>1.711394</td>\n",
       "    </tr>\n",
       "    <tr>\n",
       "      <th>min</th>\n",
       "      <td>0.00000</td>\n",
       "      <td>1939.000000</td>\n",
       "      <td>0.000080</td>\n",
       "      <td>0.008400</td>\n",
       "      <td>-11.920000</td>\n",
       "      <td>0.000000</td>\n",
       "    </tr>\n",
       "    <tr>\n",
       "      <th>25%</th>\n",
       "      <td>59.75000</td>\n",
       "      <td>3344.250000</td>\n",
       "      <td>0.000865</td>\n",
       "      <td>0.102750</td>\n",
       "      <td>-6.232500</td>\n",
       "      <td>1.000000</td>\n",
       "    </tr>\n",
       "    <tr>\n",
       "      <th>50%</th>\n",
       "      <td>119.50000</td>\n",
       "      <td>5776.000000</td>\n",
       "      <td>0.070500</td>\n",
       "      <td>0.762500</td>\n",
       "      <td>8.313000</td>\n",
       "      <td>2.500000</td>\n",
       "    </tr>\n",
       "    <tr>\n",
       "      <th>75%</th>\n",
       "      <td>179.25000</td>\n",
       "      <td>15055.500000</td>\n",
       "      <td>198050.000000</td>\n",
       "      <td>42.750000</td>\n",
       "      <td>13.697500</td>\n",
       "      <td>4.000000</td>\n",
       "    </tr>\n",
       "    <tr>\n",
       "      <th>max</th>\n",
       "      <td>239.00000</td>\n",
       "      <td>40000.000000</td>\n",
       "      <td>849420.000000</td>\n",
       "      <td>1948.500000</td>\n",
       "      <td>20.060000</td>\n",
       "      <td>5.000000</td>\n",
       "    </tr>\n",
       "  </tbody>\n",
       "</table>\n",
       "</div>"
      ],
      "text/plain": [
       "       Unnamed: 0  Temperature (K)  Luminosity(L/Lo)  Radius(R/Ro)  \\\n",
       "count   240.00000       240.000000        240.000000    240.000000   \n",
       "mean    119.50000     10497.462500     107188.361635    237.157781   \n",
       "std      69.42622      9552.425037     179432.244940    517.155763   \n",
       "min       0.00000      1939.000000          0.000080      0.008400   \n",
       "25%      59.75000      3344.250000          0.000865      0.102750   \n",
       "50%     119.50000      5776.000000          0.070500      0.762500   \n",
       "75%     179.25000     15055.500000     198050.000000     42.750000   \n",
       "max     239.00000     40000.000000     849420.000000   1948.500000   \n",
       "\n",
       "       Absolute magnitude(Mv)   Star type  \n",
       "count              240.000000  240.000000  \n",
       "mean                 4.382396    2.500000  \n",
       "std                 10.532512    1.711394  \n",
       "min                -11.920000    0.000000  \n",
       "25%                 -6.232500    1.000000  \n",
       "50%                  8.313000    2.500000  \n",
       "75%                 13.697500    4.000000  \n",
       "max                 20.060000    5.000000  "
      ]
     },
     "execution_count": 11,
     "metadata": {},
     "output_type": "execute_result"
    }
   ],
   "source": [
    "# смотрим распределение числовых значений\n",
    "df.describe()"
   ]
  },
  {
   "cell_type": "markdown",
   "id": "a7e1679f",
   "metadata": {},
   "source": [
    " - Количественные признаки имеют разную размерность. Потребуется масштабирование. \n",
    " \n",
    " - Значения светимости ('Luminosity(L/Lo)') лежат в очень широком диапазоне значений. "
   ]
  },
  {
   "cell_type": "code",
   "execution_count": 12,
   "id": "91d3d608",
   "metadata": {},
   "outputs": [
    {
     "data": {
      "image/png": "[encoded data removed]",
      "text/plain": [
       "<Figure size 1080x360 with 1 Axes>"
      ]
     },
     "metadata": {
      "needs_background": "light"
     },
     "output_type": "display_data"
    },
    {
     "data": {
      "image/png": "[encoded data removed]",
      "text/plain": [
       "<Figure size 1080x360 with 1 Axes>"
      ]
     },
     "metadata": {
      "needs_background": "light"
     },
     "output_type": "display_data"
    },
    {
     "data": {
      "image/png": "[encoded data removed]",
      "text/plain": [
       "<Figure size 1080x360 with 1 Axes>"
      ]
     },
     "metadata": {
      "needs_background": "light"
     },
     "output_type": "display_data"
    },
    {
     "data": {
      "image/png": "[encoded data removed]",
      "text/plain": [
       "<Figure size 1080x360 with 1 Axes>"
      ]
     },
     "metadata": {
      "needs_background": "light"
     },
     "output_type": "display_data"
    }
   ],
   "source": [
    "# смотрим разброс данных на диаграмме разброса\n",
    "def boxplotly(df):\n",
    "    \n",
    "    plt.figure(figsize=(15, 5))    \n",
    "    sns.boxplot(data=df)\n",
    "    plt.xlabel('Признак')\n",
    "    plt.ylabel('Значения')\n",
    "    plt.title('Распределение значений в признаках')\n",
    "    plt.show()   \n",
    "\n",
    "# смотрим разброс в данных\n",
    "column = ['Luminosity(L/Lo)']   \n",
    "boxplotly(df[column])\n",
    "column = ['Temperature (K)']\n",
    "boxplotly(df[column])\n",
    "column = ['Radius(R/Ro)'] \n",
    "boxplotly(df[column])\n",
    "column = ['Absolute magnitude(Mv)'] \n",
    "boxplotly(df[column])"
   ]
  },
  {
   "cell_type": "markdown",
   "id": "663d6923",
   "metadata": {},
   "source": [
    " - В данных с температурой ('Temperature (K)'), радиусом ('Radius(R/Ro)') и светимостью ('Luminosity(L/Lo)') присутствуют выбросы. Удалять не имеет смысла: очень мало данных. Избавимся от них при масштабировании признаков.\n",
    "  \n",
    " - Посмотрим распределение количественных признаков на гистограммах."
   ]
  },
  {
   "cell_type": "code",
   "execution_count": 13,
   "id": "ca6347fe",
   "metadata": {},
   "outputs": [
    {
     "data": {
      "image/png": "[encoded data removed]",
      "text/plain": [
       "<Figure size 432x288 with 1 Axes>"
      ]
     },
     "metadata": {
      "needs_background": "light"
     },
     "output_type": "display_data"
    },
    {
     "data": {
      "image/png": "[encoded data removed]",
      "text/plain": [
       "<Figure size 432x288 with 1 Axes>"
      ]
     },
     "metadata": {
      "needs_background": "light"
     },
     "output_type": "display_data"
    },
    {
     "data": {
      "image/png": "[encoded data removed]",
      "text/plain": [
       "<Figure size 432x288 with 1 Axes>"
      ]
     },
     "metadata": {
      "needs_background": "light"
     },
     "output_type": "display_data"
    },
    {
     "data": {
      "image/png": "[encoded data removed]",
      "text/plain": [
       "<Figure size 432x288 with 1 Axes>"
      ]
     },
     "metadata": {
      "needs_background": "light"
     },
     "output_type": "display_data"
    }
   ],
   "source": [
    "# строим гистограммы для числовых данных\n",
    "columns_plot = ['Temperature (K)', \n",
    "                'Luminosity(L/Lo)', \n",
    "                'Radius(R/Ro)',\n",
    "                'Absolute magnitude(Mv)']\n",
    "\n",
    "def plot_hist(data, bins, size):\n",
    "    for column in columns_plot:\n",
    "        \n",
    "        data[column].plot(bins=bins, kind='hist')                         \n",
    "    \n",
    "        plt.grid=True\n",
    "        plt.legend=False \n",
    "        plt.xlabel(column)\n",
    "        plt.ylabel('Частота')\n",
    "        plt.title('Распределение количественных значений в данных')\n",
    "        plt.show()       \n",
    "        \n",
    "plot_hist(df, 120, (12,6))"
   ]
  },
  {
   "cell_type": "markdown",
   "id": "00331ef3",
   "metadata": {},
   "source": [
    " - Данных мало, поэтому картина получается размазанной. Если не учитывать выбросы, количественные данные в основном распределены равномерно. \n",
    "\n",
    " - Посмотрим на графиках категориальные признаки и избавимся от аномалий."
   ]
  },
  {
   "cell_type": "code",
   "execution_count": 14,
   "id": "3fa30425",
   "metadata": {},
   "outputs": [
    {
     "data": {
      "image/png": "[encoded data removed]",
      "text/plain": [
       "<Figure size 504x360 with 1 Axes>"
      ]
     },
     "metadata": {
      "needs_background": "light"
     },
     "output_type": "display_data"
    },
    {
     "data": {
      "image/png": "[encoded data removed]",
      "text/plain": [
       "<Figure size 504x360 with 1 Axes>"
      ]
     },
     "metadata": {
      "needs_background": "light"
     },
     "output_type": "display_data"
    }
   ],
   "source": [
    "# строим столбчатые диаграммы категориальных данных \n",
    "def plot_bar(data, size):\n",
    "    for column in df_columns_category:\n",
    "        \n",
    "        plt.figure(figsize=size)\n",
    "        data[column].value_counts().plot(kind='bar')                         \n",
    "    \n",
    "        plt.grid=True        \n",
    "        plt.legend=False \n",
    "        plt.xlabel(column)\n",
    "        plt.ylabel('Количество')\n",
    "        plt.title('Распределение числовых значений в данных')\n",
    "        plt.show()       \n",
    "        \n",
    "plot_bar(df,(7,5))"
   ]
  },
  {
   "cell_type": "markdown",
   "id": "f42bd666",
   "metadata": {},
   "source": [
    " - Звезды по типам распределены абсолютно равномерно. Больше всего в датасете красных звезд. На втором месте - звезды голубого цвета.\n",
    " \n",
    " - Посмотрим сочетание цвета и других характеристик."
   ]
  },
  {
   "cell_type": "code",
   "execution_count": 15,
   "id": "3a7beb8a",
   "metadata": {},
   "outputs": [
    {
     "data": {
      "image/png": "[encoded data removed]",
      "text/plain": [
       "<Figure size 720x360 with 1 Axes>"
      ]
     },
     "metadata": {
      "needs_background": "light"
     },
     "output_type": "display_data"
    }
   ],
   "source": [
    "# создаем функцию\n",
    "def plot_plot(x, y, color, title, ylabel):\n",
    "        \n",
    "    plt.figure(figsize=(10,5))\n",
    "    plt.plot(x, y, 'o', color=color)\n",
    "    plt.title(title)\n",
    "    plt.ylabel(ylabel)\n",
    "    plt.xlabel('Цвет звезды')\n",
    " \n",
    "    plt.show()  \n",
    "    \n",
    "# строим график соответствия типа звезды и ее цвета        \n",
    "plot_plot(df['Star color'], df['Star type'], \"r\", 'Тип звезды/Цвет', 'Тип звезды') "
   ]
  },
  {
   "cell_type": "markdown",
   "id": "b1dcf04e",
   "metadata": {},
   "source": [
    " - Самые ненаполненные типы - 0 и 1. К ним принадлежат только красные звезды.  \n",
    " \n",
    " - Наибольшее разнообразие наблюдается у 3 типа - он охватывают звезды 6 разных цветов.   \n",
    " \n",
    " - В то же время, звезды одного и того же цвета могут принадлежать к разным типам. "
   ]
  },
  {
   "cell_type": "code",
   "execution_count": 16,
   "id": "81fdc9ba",
   "metadata": {},
   "outputs": [
    {
     "data": {
      "image/png": "[encoded data removed]",
      "text/plain": [
       "<Figure size 720x360 with 1 Axes>"
      ]
     },
     "metadata": {
      "needs_background": "light"
     },
     "output_type": "display_data"
    }
   ],
   "source": [
    "# строим график соответствия цвета звезды и ее светимости\n",
    "plot_plot(df['Star color'], df['Luminosity(L/Lo)'], \"b\", 'Светимость звезды/Цвет', 'Светимость звезды, L/Lo') "
   ]
  },
  {
   "cell_type": "markdown",
   "id": "4baca2ab",
   "metadata": {},
   "source": [
    " - Наибольший разброс светимости - у голубых звезд, причем большая часть этих звезд занимает узкий диапазон. Похожая картина наблюдается у красных звезд, но они не выходят из узкого диапазона светимости. \n",
    " \n",
    " - Наиболее яркие звезды - в области голубого спектра.   \n",
    " "
   ]
  },
  {
   "cell_type": "code",
   "execution_count": 17,
   "id": "9d4e84b3",
   "metadata": {},
   "outputs": [
    {
     "data": {
      "image/png": "[encoded data removed]",
      "text/plain": [
       "<Figure size 720x360 with 1 Axes>"
      ]
     },
     "metadata": {
      "needs_background": "light"
     },
     "output_type": "display_data"
    }
   ],
   "source": [
    "# строим график соответствия цвета звезды и ее температуры\n",
    "plot_plot(df['Star color'], df['Temperature (K)'], \"g\", 'Температура звезды/Цвет', 'Температура звезды, K') "
   ]
  },
  {
   "cell_type": "markdown",
   "id": "5c1750f8",
   "metadata": {},
   "source": [
    "- Среди голубых звезд наблюдается самый широкий разброс по температуре. Чуть меньше - у звезд бело-голубого цвета. \n",
    "\n",
    "- Наиболее холодные звезды - красного цвета. Наиболее горячие - голубого. "
   ]
  },
  {
   "cell_type": "code",
   "execution_count": 18,
   "id": "b917e58a",
   "metadata": {},
   "outputs": [
    {
     "data": {
      "image/png": "[encoded data removed]",
      "text/plain": [
       "<Figure size 720x360 with 1 Axes>"
      ]
     },
     "metadata": {
      "needs_background": "light"
     },
     "output_type": "display_data"
    }
   ],
   "source": [
    "# строим график соответствия цвета звезды и ее блеска\n",
    "plot_plot(df['Star color'], \n",
    "          df['Absolute magnitude(Mv)'], \n",
    "          \"m\", 'Абсолютная звездная величина/Цвет', \n",
    "          'Абсолютная звездная величина звезды')"
   ]
  },
  {
   "cell_type": "markdown",
   "id": "62471fcd",
   "metadata": {},
   "source": [
    " - Блеск (Абсолютная звездная величина) звезд распределяется внутри одного и того же цветового спектра на два и более дискретных диапазона. "
   ]
  },
  {
   "cell_type": "markdown",
   "id": "59dec3d9",
   "metadata": {},
   "source": [
    " - Посмотрим на корреляцию признаков. "
   ]
  },
  {
   "cell_type": "code",
   "execution_count": 19,
   "id": "977a0905",
   "metadata": {},
   "outputs": [],
   "source": [
    "# выбираем столбцы\n",
    "columns = df.columns[1:]\n",
    "\n",
    "# выбираем интервал\n",
    "interval_cols = ['Temperature (K)', \n",
    "                 'Luminosity(L/Lo)', \n",
    "                 'Radius(R/Ro)',\n",
    "                 'Absolute magnitude(Mv)', \n",
    "                 'Star type']\n",
    "\n",
    "# задаем матрицу корреляции\n",
    "corr_matrix = df[columns].phik_matrix(interval_cols=interval_cols)"
   ]
  },
  {
   "cell_type": "code",
   "execution_count": 20,
   "id": "c35cdc6d",
   "metadata": {},
   "outputs": [
    {
     "data": {
      "image/png": "[encoded data removed]",
      "text/plain": [
       "<Figure size 936x432 with 2 Axes>"
      ]
     },
     "metadata": {
      "needs_background": "light"
     },
     "output_type": "display_data"
    }
   ],
   "source": [
    "# визуализируем матрицу корреляции через тепловую карту\n",
    "plt.figure(figsize=(13, 6))\n",
    "sns.heatmap(corr_matrix, \n",
    "            annot=True, \n",
    "            cmap='coolwarm')\n",
    "plt.title('Корреляция признаков в данных')\n",
    "plt.show() "
   ]
  },
  {
   "cell_type": "markdown",
   "id": "175b232c",
   "metadata": {},
   "source": [
    " - Наблюдается сильная корреляция типа звезды и абсолютной звездной величины. Придется удалить один из этих признаков, чтобы избежать нестабильной работы модели. \n",
    " \n",
    " - Наибольшую корреляцию с температурой звезды демонстрируют ее абсолютная величина и цвет.  \n",
    " \n",
    " - Самая низкая корреляция наблюдается между радиусом и цветом звезды. "
   ]
  },
  {
   "cell_type": "markdown",
   "id": "feb637ae",
   "metadata": {},
   "source": [
    "###  Вывод по второму шагу\n",
    "\n",
    " - Исследовали количественные и категориальные данные.  Проверили на корреляцию и выбросы:\n",
    " \n",
    "   - Наиболее яркие и горячие звезды испускают свет в области голубого спектра;\n",
    "   \n",
    "   - Количественные данные в основном распределены равномерно, но имеют выбросы.\n",
    "  \n",
    "   - Наибольшую корреляцию с температурой звезды демонстрируют ее абсолютная величина и цвет.\n",
    "   \n",
    "\n",
    "\n",
    " - Избавились от аномалий в столбце с цветом звезд (Star color) и сократили количество классов в категории цвета.\n",
    " \n",
    " \n",
    " - Наметили признаки для удаления и новый - для синтезирования.\n",
    " "
   ]
  },
  {
   "cell_type": "markdown",
   "id": "simple-subdivision",
   "metadata": {},
   "source": [
    "## Подготовка данных к обучению"
   ]
  },
  {
   "cell_type": "markdown",
   "id": "c41b27ee",
   "metadata": {},
   "source": [
    " - Удалим неинформативный столбец (Unnamed: 0) и исправим названия остальных столбцов.\n",
    "\n",
    "\n",
    " - Создадим новый признак - характеристику (класс звезды) по температуре (холодная/горячая). Источник информации: (https://ru.wikipedia.org/wiki/Спектральная_классификация_звёзд). \n",
    " \n",
    " \n",
    " - Удалим столбец с типом звезды (Star type), чтобы избежать мультиколлинеарности.\n",
    "\n",
    "\n",
    " - Разделим данные на обучающую и тестовую выборки.\n",
    "\n",
    "\n",
    " - Проведем масштабирование количественных признаков и кодирование категориальных. "
   ]
  },
  {
   "cell_type": "code",
   "execution_count": 21,
   "id": "c7c2d0d7",
   "metadata": {},
   "outputs": [],
   "source": [
    "# удаляем ненужный столбец\n",
    "df.drop('Unnamed: 0', axis=1, inplace=True)"
   ]
  },
  {
   "cell_type": "code",
   "execution_count": 22,
   "id": "dfe61d3b",
   "metadata": {},
   "outputs": [],
   "source": [
    "# переименовываем столбцы \n",
    "df.columns = ['temperature', 'luminosity', 'radius_relative',\n",
    "       'absolute_magnitude', 'star_type', 'star_color']"
   ]
  },
  {
   "cell_type": "code",
   "execution_count": 23,
   "id": "c8f6e97b",
   "metadata": {},
   "outputs": [],
   "source": [
    "# создаем новую категорию - характеристику по температуре (холодная/горячая).\n",
    "\n",
    "#создаем функцию категоризации\n",
    "def class_temperature(temperature):\n",
    "        \n",
    "    if temperature >=30000:\n",
    "        return 'extremely_hot'\n",
    "\n",
    "    elif  10000 <= temperature < 30000:\n",
    "        return 'very_hot'\n",
    "\n",
    "    elif   7400 <= temperature < 10000:  \n",
    "        return 'hot'\n",
    "       \n",
    "    elif   6000 <= temperature < 7400:     \n",
    "        return 'almost_hot'\n",
    "\n",
    "    elif   5000 <= temperature < 6000:             \n",
    "        return 'warm'\n",
    "\n",
    "    elif   3800 <= temperature < 5000:            \n",
    "        return 'cold'\n",
    "      \n",
    "    return 'very_cold' \n",
    "  \n",
    "# создаем новый столбец t_class \n",
    "df['t_class'] = df['temperature'].apply(class_temperature)"
   ]
  },
  {
   "cell_type": "code",
   "execution_count": 24,
   "id": "908e7ffe",
   "metadata": {},
   "outputs": [
    {
     "data": {
      "text/plain": [
       "very_cold        109\n",
       "very_hot          75\n",
       "hot               21\n",
       "extremely_hot     15\n",
       "almost_hot         7\n",
       "cold               7\n",
       "warm               6\n",
       "Name: t_class, dtype: int64"
      ]
     },
     "execution_count": 24,
     "metadata": {},
     "output_type": "execute_result"
    }
   ],
   "source": [
    "# проверяем значения в новом столбце\n",
    "df['t_class'].value_counts()"
   ]
  },
  {
   "cell_type": "code",
   "execution_count": 25,
   "id": "980bc330",
   "metadata": {},
   "outputs": [
    {
     "name": "stdout",
     "output_type": "stream",
     "text": [
      "<class 'pandas.core.frame.DataFrame'>\n",
      "RangeIndex: 240 entries, 0 to 239\n",
      "Data columns (total 6 columns):\n",
      " #   Column              Non-Null Count  Dtype  \n",
      "---  ------              --------------  -----  \n",
      " 0   temperature         240 non-null    int64  \n",
      " 1   luminosity          240 non-null    float64\n",
      " 2   radius_relative     240 non-null    float64\n",
      " 3   absolute_magnitude  240 non-null    float64\n",
      " 4   star_color          240 non-null    object \n",
      " 5   t_class             240 non-null    object \n",
      "dtypes: float64(3), int64(1), object(2)\n",
      "memory usage: 11.4+ KB\n"
     ]
    }
   ],
   "source": [
    "# удаляем столбец с типом звезды\n",
    "df.drop('star_type', axis=1, inplace=True)\n",
    "\n",
    "# проверяем\n",
    "df.info()"
   ]
  },
  {
   "cell_type": "code",
   "execution_count": 26,
   "id": "021d7221",
   "metadata": {},
   "outputs": [
    {
     "name": "stdout",
     "output_type": "stream",
     "text": [
      "(180, 5)\n",
      "(180,)\n",
      "(60, 5)\n",
      "(60,)\n"
     ]
    }
   ],
   "source": [
    "# формируем выборки: обучающую(75%) тестовую(25%)\n",
    "features_train, features_test, target_train, target_test = train_test_split(\n",
    "    df.drop(columns=['temperature']),\n",
    "    df.temperature,\n",
    "    test_size=0.25,\n",
    "    random_state=1234)\n",
    "\n",
    "# проверяем\n",
    "print(features_train.shape)\n",
    "print(target_train.shape)\n",
    "print(features_test.shape)\n",
    "print(target_test.shape)"
   ]
  },
  {
   "cell_type": "code",
   "execution_count": 27,
   "id": "9c9ae498",
   "metadata": {},
   "outputs": [],
   "source": [
    "# задаем категориальные признаки для кодировки\n",
    "ohe_features = ['star_color', 't_class']\n",
    "\n",
    "# задаем численные признаки для масштабирования\n",
    "scaler_features = ['luminosity',\n",
    "                   'radius_relative',\n",
    "                   'absolute_magnitude']"
   ]
  },
  {
   "cell_type": "code",
   "execution_count": 28,
   "id": "ea5021be",
   "metadata": {},
   "outputs": [],
   "source": [
    "# активируем кодировщик категориальных признаков\n",
    "encoder_ohe = OneHotEncoder(drop='first', sparse_output=False, handle_unknown='ignore')\n",
    "\n",
    "# обучаем энкодер на заданных категориальных признаках тренировочной выборки\n",
    "encoder_ohe.fit(features_train[ohe_features])\n",
    "\n",
    "# кодируем категориальные признаки\n",
    "features_train[\n",
    "    encoder_ohe.get_feature_names_out()\n",
    "] = encoder_ohe.transform(features_train[ohe_features])\n",
    "\n",
    "# удаляем лишние столбцы \n",
    "features_train = features_train.drop(ohe_features, axis=1)"
   ]
  },
  {
   "cell_type": "code",
   "execution_count": 29,
   "id": "a8e84101",
   "metadata": {},
   "outputs": [
    {
     "name": "stdout",
     "output_type": "stream",
     "text": [
      "(180, 15)\n",
      "(60, 15)\n"
     ]
    }
   ],
   "source": [
    "# кодируем категориальные признаки в тестовом наборе, кодировщиком, обученным на тренировочной\n",
    "features_test[\n",
    "    encoder_ohe.get_feature_names_out()\n",
    "] = encoder_ohe.transform(features_test[ohe_features])\n",
    "\n",
    "# удаляем лишние столбцы \n",
    "features_test = features_test.drop(ohe_features, axis=1)\n",
    "\n",
    "# проверяем размер итоговых выборок\n",
    "print(features_train.shape) \n",
    "print(features_test.shape)"
   ]
  },
  {
   "cell_type": "code",
   "execution_count": 30,
   "id": "48c164e6",
   "metadata": {},
   "outputs": [
    {
     "name": "stdout",
     "output_type": "stream",
     "text": [
      "(180, 15)\n",
      "(60, 15)\n"
     ]
    }
   ],
   "source": [
    "# масштабируем численные признаки \n",
    "scaler = StandardScaler()\n",
    "scaler.fit(features_train[scaler_features])\n",
    "features_train[scaler_features] = scaler.transform(features_train[scaler_features])\n",
    "features_test[scaler_features] = scaler.transform(features_test[scaler_features])\n",
    "\n",
    "# проверяем размер итоговых выборок\n",
    "print(features_train.shape) \n",
    "print(features_test.shape)"
   ]
  },
  {
   "cell_type": "markdown",
   "id": "e5a52908",
   "metadata": {},
   "source": [
    "### Вывод по третьему шагу\n",
    "\n",
    " - Удалили один неинформативный столбец(Unnamed: 0), и второй (Star type) -  чтобы избавиться от мультиколлинеарности.\n",
    " \n",
    " \n",
    " - Исправили названия столбцов.\n",
    "\n",
    "\n",
    " - Создали новый признак (t_class) - температурную характеристику. \n",
    " \n",
    "\n",
    " - Разделили данные на обучающую и тестовую выборки.\n",
    "\n",
    "\n",
    " - Провели масштабирование количественных и кодирование категориальных признаков. "
   ]
  },
  {
   "cell_type": "markdown",
   "id": "funded-electric",
   "metadata": {},
   "source": [
    "## Построение базовой нейронной сети"
   ]
  },
  {
   "cell_type": "markdown",
   "id": "62f74297",
   "metadata": {},
   "source": [
    "### Пробное предсказание"
   ]
  },
  {
   "cell_type": "markdown",
   "id": "00cf4aab",
   "metadata": {},
   "source": [
    " - Получим предсказание алгоритмом Случайного леса из sklearn и оценим важность признаков.  "
   ]
  },
  {
   "cell_type": "code",
   "execution_count": 31,
   "id": "58103bfe",
   "metadata": {},
   "outputs": [
    {
     "name": "stdout",
     "output_type": "stream",
     "text": [
      "RMSE Случайного леса на тестовой выборке: 3120.99\n",
      "CPU times: user 167 ms, sys: 0 ns, total: 167 ms\n",
      "Wall time: 167 ms\n"
     ]
    }
   ],
   "source": [
    "%%time\n",
    "# создаем модель и получаем предсказание Случайного леса\n",
    "model_RFR = RandomForestRegressor(random_state=1234)\n",
    "model_RFR.fit(features_train, target_train)\n",
    "predict_RFR = model_RFR.predict(features_test)\n",
    "\n",
    "rmse_RFR = round(mean_squared_error(target_test, predict_RFR, squared=False),2)\n",
    "print('RMSE Случайного леса на тестовой выборке:', rmse_RFR)"
   ]
  },
  {
   "cell_type": "code",
   "execution_count": 32,
   "id": "e88164fb",
   "metadata": {},
   "outputs": [
    {
     "data": {
      "image/png": "[encoded data removed]",
      "text/plain": [
       "<Figure size 720x504 with 1 Axes>"
      ]
     },
     "metadata": {
      "needs_background": "light"
     },
     "output_type": "display_data"
    }
   ],
   "source": [
    "# оценим важность признаков\n",
    "plt.title('Важность признаков')\n",
    "pd.Series(model_RFR.feature_importances_, index=features_train.columns)\\\n",
    "            .sort_values(ascending=True).plot.barh(figsize=(10,7), grid=True);"
   ]
  },
  {
   "cell_type": "markdown",
   "id": "bec74bc3",
   "metadata": {},
   "source": [
    " - Модель Случайного леса показала неплохой результат прямо \"из коробки\", предсказуемо оценив наиболее распространенные признаки как самые важные .  \n",
    " \n",
    " \n",
    " - Посмотрим, какие результаты предсказаний покажет нейросеть."
   ]
  },
  {
   "cell_type": "markdown",
   "id": "4f957d1b",
   "metadata": {},
   "source": [
    "### Создание базовой модели нейросети"
   ]
  },
  {
   "cell_type": "code",
   "execution_count": 33,
   "id": "4443ad8a",
   "metadata": {},
   "outputs": [],
   "source": [
    "# создаем тензоры для обучения нейросети\n",
    "X_train = torch.FloatTensor(features_train.values)\n",
    "X_test = torch.FloatTensor(features_test.values)\n",
    "y_train = torch.FloatTensor(target_train.values)\n",
    "y_test = torch.FloatTensor(target_test.values)"
   ]
  },
  {
   "cell_type": "code",
   "execution_count": 34,
   "id": "b77b9009",
   "metadata": {},
   "outputs": [
    {
     "data": {
      "text/plain": [
       "<torch._C.Generator at 0x7f6c10094530>"
      ]
     },
     "execution_count": 34,
     "metadata": {},
     "output_type": "execute_result"
    }
   ],
   "source": [
    "# задаем гиперпараметры нейросети\n",
    "n_in_neurons = X_train.shape[1]\n",
    "n_out_neurons = 1 \n",
    "n_hidden_neurons_1 = 800\n",
    "n_hidden_neurons_2 = 400\n",
    "n_hidden_neurons_3 = 200\n",
    "\n",
    "# задаем скорость обучения\n",
    "learning_rate = 1e-3\n",
    "\n",
    "#  задаем функцию потерь \n",
    "loss = nn.MSELoss()  \n",
    "\n",
    "# задаем количество эпох, размер и количество батчей\n",
    "num_epochs = 1000 \n",
    "batch_size = 100\n",
    "num_batches = ceil(len(X_train)/batch_size)\n",
    "\n",
    "# задаем воспроизводимость результатов\n",
    "torch.manual_seed(1234)"
   ]
  },
  {
   "cell_type": "markdown",
   "id": "dac582bc",
   "metadata": {},
   "source": [
    "- Сначала создадим модель через объявление класса. "
   ]
  },
  {
   "cell_type": "code",
   "execution_count": 35,
   "id": "010914b3",
   "metadata": {},
   "outputs": [
    {
     "name": "stdout",
     "output_type": "stream",
     "text": [
      "Архитектура нейросети:\n",
      "NNet(\n",
      "  (fc1): Linear(in_features=15, out_features=800, bias=True)\n",
      "  (act1): ReLU()\n",
      "  (fc2): Linear(in_features=800, out_features=400, bias=True)\n",
      "  (act2): ReLU()\n",
      "  (fc3): Linear(in_features=400, out_features=1, bias=True)\n",
      ")\n",
      "Среднее значение выхода: tensor(0.0206, grad_fn=<MeanBackward0>)\n"
     ]
    }
   ],
   "source": [
    "# создаем модель с двумя скрытыми слоями  \n",
    "class NNet(nn.Module):\n",
    "    def __init__(self, n_in_neurons, n_hidden_neurons_1,\n",
    "                                   n_hidden_neurons_2, n_out_neurons):\n",
    "        super(NNet, self).__init__()\n",
    "        \n",
    "        self.fc1 = nn.Linear(n_in_neurons, n_hidden_neurons_1)\n",
    "        self.act1 = nn.ReLU()\n",
    "        \n",
    "        self.fc2 = nn.Linear(n_hidden_neurons_1, n_hidden_neurons_2)\n",
    "        self.act2 = nn.ReLU()\n",
    "        \n",
    "        self.fc3 = nn.Linear(n_hidden_neurons_2, n_out_neurons)\n",
    "        \n",
    "# задаем прямой проход       \n",
    "    def forward(self, x):\n",
    "        \n",
    "        x = self.fc1(x)\n",
    "        x = self.act1(x)\n",
    "        \n",
    "        x = self.fc2(x)       \n",
    "        x = self.act2(x)\n",
    "        \n",
    "        x = self.fc3(x)       \n",
    "    \n",
    "        return x\n",
    "\n",
    "# инициализируем сеть \n",
    "net = NNet(n_in_neurons, n_hidden_neurons_1, \n",
    "                       n_hidden_neurons_2, n_out_neurons) \n",
    "\n",
    "# выводим архитектуру \n",
    "print('Архитектура нейросети:')\n",
    "print(net)\n",
    "\n",
    "# проверяем работу\n",
    "res_nnet = net.forward(X_train)\n",
    "print('Среднее значение выхода:',res_nnet.mean()) "
   ]
  },
  {
   "cell_type": "markdown",
   "id": "6f911a0d",
   "metadata": {},
   "source": [
    "- Модель работает. Упростим код - используем контейнер Sequential."
   ]
  },
  {
   "cell_type": "code",
   "execution_count": 36,
   "id": "5cceffb4",
   "metadata": {},
   "outputs": [
    {
     "name": "stdout",
     "output_type": "stream",
     "text": [
      "Архитектура нейросети:\n",
      "Sequential(\n",
      "  (0): Linear(in_features=15, out_features=800, bias=True)\n",
      "  (1): ReLU()\n",
      "  (2): Linear(in_features=800, out_features=400, bias=True)\n",
      "  (3): ReLU()\n",
      "  (4): Linear(in_features=400, out_features=1, bias=True)\n",
      ")\n",
      "Среднее значение выхода: tensor(0.0216, grad_fn=<MeanBackward0>)\n"
     ]
    }
   ],
   "source": [
    "# создаем и инициализируем сеть\n",
    "net = nn.Sequential(\n",
    "    nn.Linear(n_in_neurons, n_hidden_neurons_1),\n",
    "    nn.ReLU(),\n",
    "    nn.Linear(n_hidden_neurons_1, n_hidden_neurons_2),\n",
    "    nn.ReLU(),\n",
    "    nn.Linear(n_hidden_neurons_2, n_out_neurons)\n",
    ")\n",
    "\n",
    "# выводим архитектуру\n",
    "print('Архитектура нейросети:')\n",
    "print(net) \n",
    "\n",
    "# проверяем работу\n",
    "res_nnet_sq = net.forward(X_train) \n",
    "print('Среднее значение выхода:',res_nnet_sq.mean()) "
   ]
  },
  {
   "cell_type": "markdown",
   "id": "62d59649",
   "metadata": {},
   "source": [
    "- Сравним несколько комбинаций параметров (количество скрытых слоёв, количество нейронов на них, функции активации на скрытых и выходном слоях)."
   ]
  },
  {
   "cell_type": "code",
   "execution_count": 37,
   "id": "0f7121ba",
   "metadata": {},
   "outputs": [
    {
     "name": "stdout",
     "output_type": "stream",
     "text": [
      "Архитектура нейросети:\n",
      "Sequential(\n",
      "  (0): Linear(in_features=15, out_features=800, bias=True)\n",
      "  (1): Tanh()\n",
      "  (2): Linear(in_features=800, out_features=400, bias=True)\n",
      "  (3): ReLU()\n",
      "  (4): Linear(in_features=400, out_features=200, bias=True)\n",
      "  (5): Tanh()\n",
      "  (6): Linear(in_features=200, out_features=100, bias=True)\n",
      "  (7): ReLU()\n",
      "  (8): Linear(in_features=100, out_features=50, bias=True)\n",
      "  (9): Tanh()\n",
      "  (10): Linear(in_features=50, out_features=10, bias=True)\n",
      "  (11): ReLU()\n",
      "  (12): Linear(in_features=10, out_features=1, bias=True)\n",
      ")\n",
      "Среднее значение выхода: tensor(-0.1451, grad_fn=<MeanBackward0>)\n"
     ]
    }
   ],
   "source": [
    "# создаем модель с произвольных количеством слоев\n",
    "n_neurons = [n_in_neurons, 800, 400, 200, \n",
    "                100, 50, 10, n_out_neurons]\n",
    "net_layers = []\n",
    "\n",
    "for i in range(1, len(n_neurons) - 1):\n",
    "    # добавим полносвязный слой\n",
    "    net_layers.append(nn.Linear(n_neurons[i-1],n_neurons[i])) \n",
    "    \n",
    "    # добавим функцию активации для чётных и нечетных слоёв\n",
    "    if (i+1) % 2 == 0:\n",
    "        net_layers.append(nn.Tanh())    \n",
    "    else:\n",
    "        net_layers.append(nn.ReLU()) \n",
    "\n",
    "# добавляем выходной слой        \n",
    "net_layers.append(nn.Linear(n_neurons[-2], n_neurons[-1])) \n",
    "\n",
    "# создаем и инициализируем сеть\n",
    "net = nn.Sequential(*net_layers)\n",
    "\n",
    "# выводим архитектуру\n",
    "print('Архитектура нейросети:')\n",
    "print(net) \n",
    "\n",
    "# проверяем работу\n",
    "res_nnet_sq_r = net.forward(X_train) \n",
    "print('Среднее значение выхода:',res_nnet_sq_r.mean()) "
   ]
  },
  {
   "cell_type": "code",
   "execution_count": 38,
   "id": "889b9195",
   "metadata": {},
   "outputs": [
    {
     "name": "stdout",
     "output_type": "stream",
     "text": [
      "Архитектура нейросети:\n",
      "Sequential(\n",
      "  (0): Linear(in_features=15, out_features=600, bias=True)\n",
      "  (1): ReLU()\n",
      "  (2): Linear(in_features=600, out_features=200, bias=True)\n",
      "  (3): ReLU()\n",
      "  (4): Linear(in_features=200, out_features=100, bias=True)\n",
      "  (5): ReLU()\n",
      "  (6): Linear(in_features=100, out_features=50, bias=True)\n",
      "  (7): ReLU()\n",
      "  (8): Linear(in_features=50, out_features=5, bias=True)\n",
      "  (9): ReLU()\n",
      "  (10): Linear(in_features=5, out_features=1, bias=True)\n",
      ")\n",
      "Среднее значение выхода: tensor(0.3777, grad_fn=<MeanBackward0>)\n"
     ]
    }
   ],
   "source": [
    "# создаем модель с произвольных количеством слоев\n",
    "n_neurons = [n_in_neurons, 600, 200, 100, \n",
    "                50, 5, n_out_neurons]\n",
    "net_layers = []\n",
    "\n",
    "for i in range(1, len(n_neurons) - 1):\n",
    "    # добавим полносвязный слой\n",
    "    net_layers.append(nn.Linear(n_neurons[i-1],n_neurons[i])) \n",
    "    net_layers.append(nn.ReLU()) \n",
    "\n",
    "# добавляем выходной слой        \n",
    "net_layers.append(nn.Linear(n_neurons[-2], n_neurons[-1])) \n",
    "\n",
    "# создаем и инициализируем сеть\n",
    "net = nn.Sequential(*net_layers)\n",
    "\n",
    "# выводим архитектуру\n",
    "print('Архитектура нейросети:')\n",
    "print(net) \n",
    "\n",
    "# проверяем работу\n",
    "res_nnet_sq_r = net.forward(X_train) \n",
    "print('Среднее значение выхода:',res_nnet_sq_r.mean()) "
   ]
  },
  {
   "cell_type": "markdown",
   "id": "dc206d8b",
   "metadata": {},
   "source": [
    " - Модели с разной архитектурой вполне работоспособны.\n",
    " \n",
    " \n",
    " - Так как признаков и объектов мало, чтобы избежать переобучения, в качестве базовой модели оставим модель с двумя скрытыми слоями - 800 и 400 нейронов, соответственно. \n",
    " "
   ]
  },
  {
   "cell_type": "markdown",
   "id": "df78b6f4",
   "metadata": {},
   "source": [
    "### Обучение базовой  модели \n",
    " \n",
    " - Оптимизируем работу модели, добавим обратный проход (обратное распространение ошибки) и проверим точность предсказаний.  "
   ]
  },
  {
   "cell_type": "code",
   "execution_count": 39,
   "id": "b98299d9",
   "metadata": {},
   "outputs": [
    {
     "name": "stdout",
     "output_type": "stream",
     "text": [
      "Архитектура нейросети:\n",
      "Sequential(\n",
      "  (0): Linear(in_features=15, out_features=800, bias=True)\n",
      "  (1): ReLU()\n",
      "  (2): Linear(in_features=800, out_features=400, bias=True)\n",
      "  (3): ReLU()\n",
      "  (4): Linear(in_features=400, out_features=1, bias=True)\n",
      ")\n",
      "Показатели нейронной сети на тестовой выборке:\n",
      "Эпоха 0,                RMSE: 15177.61, Количество эпох: 1000\n",
      "Эпоха 100,                RMSE: 13649.77, Количество эпох: 1000\n",
      "Эпоха 200,                RMSE: 7581.63, Количество эпох: 1000\n",
      "Эпоха 300,                RMSE: 6325.51, Количество эпох: 1000\n",
      "Эпоха 400,                RMSE: 5360.41, Количество эпох: 1000\n",
      "Эпоха 500,                RMSE: 4513.63, Количество эпох: 1000\n",
      "Эпоха 600,                RMSE: 3966.68, Количество эпох: 1000\n",
      "Эпоха 700,                RMSE: 3741.67, Количество эпох: 1000\n",
      "Эпоха 800,                RMSE: 3670.73, Количество эпох: 1000\n",
      "Эпоха 900,                RMSE: 3647.12, Количество эпох: 1000\n",
      "Эпоха 999,                RMSE: 3634.3, Количество эпох: 1000\n",
      "\n",
      "Лучшее значение RMSE: 3634.3 , Эпоха: 1000\n",
      "CPU times: user 17.1 s, sys: 314 ms, total: 17.4 s\n",
      "Wall time: 17.5 s\n"
     ]
    }
   ],
   "source": [
    "%%time\n",
    "# создаем и инициализируем сеть с двумя скрытыми слоями\n",
    "net_1 = nn.Sequential(\n",
    "     nn.Linear(n_in_neurons, n_hidden_neurons_1),\n",
    "     nn.ReLU(),\n",
    "     nn.Linear(n_hidden_neurons_1, n_hidden_neurons_2),\n",
    "     nn.ReLU(),\n",
    "     nn.Linear(n_hidden_neurons_2, n_out_neurons)\n",
    ")\n",
    "# выводим архитектуру нейросети\n",
    "print('Архитектура нейросети:')\n",
    "print(net_1)\n",
    "\n",
    "# создаем Adam оптимизатор\n",
    "optimizer = torch.optim.Adam(net_1.parameters(), lr=learning_rate)  \n",
    "\n",
    "print('Показатели нейронной сети на тестовой выборке:')\n",
    "\n",
    "# создаем список полученных значений RMSE \n",
    "res_1 = np.array([])\n",
    "\n",
    "# обучаем на заданном количестве эпох (1000)\n",
    "for epoch in range(num_epochs):\n",
    "    optimizer.zero_grad()\n",
    "    \n",
    "    # прямой проход\n",
    "    preds = net_1.forward(X_train).flatten()     \n",
    "    loss_value = loss(preds, y_train)\n",
    "    \n",
    "    # обратный проход\n",
    "    loss_value.backward()        \n",
    "    optimizer.step()\n",
    "   \n",
    "    # выводим результат каждую сотую и в последнюю эпоху \n",
    "    if epoch % 100 == 0 or epoch == num_epochs - 1:                \n",
    "        net_1.eval()\n",
    "        test_preds = net_1.forward(X_test)\n",
    "        rmse_Nnet_1 = sqrt(mean_squared_error(y_test.detach().numpy(), test_preds.detach().numpy()))\n",
    "       \n",
    "        res_1 = np.append(res_1, rmse_Nnet_1)  \n",
    "        \n",
    "        print(f'Эпоха {round(epoch+i/num_epochs)},\\\n",
    "                RMSE: {round(rmse_Nnet_1,2)}, Количество эпох: {num_epochs}')\n",
    "\n",
    "best_rmse_Nnet_1 =  round(res_1.min(),2)\n",
    "best_epoch_1 = res_1.argmin()*100\n",
    "\n",
    "print()\n",
    "print('Лучшее значение RMSE:', best_rmse_Nnet_1 , ', Эпоха:', best_epoch_1) "
   ]
  },
  {
   "cell_type": "markdown",
   "id": "d9019817",
   "metadata": {},
   "source": [
    "- Визуализируем обучение модели."
   ]
  },
  {
   "cell_type": "code",
   "execution_count": 40,
   "id": "4f681291",
   "metadata": {},
   "outputs": [
    {
     "data": {
      "image/png": "[encoded data removed]",
      "text/plain": [
       "<Figure size 432x288 with 1 Axes>"
      ]
     },
     "metadata": {
      "needs_background": "light"
     },
     "output_type": "display_data"
    }
   ],
   "source": [
    "# создаем график признаки/ предсказанная температура \n",
    "plt.plot(y_train, X_train,'go', color=\"b\")\n",
    "plt.plot(preds.detach().numpy(), X_train, 'o', color=\"r\")\n",
    "plt.title('Исходные данные и прогнозная модель', fontsize=14, weight='bold')\n",
    "plt.xlabel(\"Температура\", fontsize=12, weight='bold')\n",
    "plt.ylabel(\"Признаки\", fontsize=12, weight='bold')\n",
    "plt.show()"
   ]
  },
  {
   "cell_type": "markdown",
   "id": "ba3ee741",
   "metadata": {},
   "source": [
    "- Видно, что модель неплохо обучается. Но точность не идеальная. Особенно в диапазоне 25000-30000K."
   ]
  },
  {
   "cell_type": "markdown",
   "id": "ddbbe3b7",
   "metadata": {},
   "source": [
    " - Посмотрим на другом графике насколько точен прогноз модели на тестовой выборке по сравнению с реальными значениями."
   ]
  },
  {
   "cell_type": "code",
   "execution_count": 41,
   "id": "9e6943a0",
   "metadata": {},
   "outputs": [],
   "source": [
    "# создаем датафреймы с предсказаниями и фактическими значениями\n",
    "test_predict = pd.DataFrame(test_preds.detach().numpy(), \n",
    "                            columns=['temperature'])\n",
    "test_target = pd.DataFrame(y_test.detach().numpy(), \n",
    "                           columns=['temperature'])    "
   ]
  },
  {
   "cell_type": "code",
   "execution_count": 42,
   "id": "43936c73",
   "metadata": {},
   "outputs": [
    {
     "data": {
      "image/png": "[encoded data removed]",
      "text/plain": [
       "<Figure size 1440x432 with 1 Axes>"
      ]
     },
     "metadata": {
      "needs_background": "light"
     },
     "output_type": "display_data"
    }
   ],
   "source": [
    "# строим график\n",
    "fig, ax = plt.subplots(figsize=[20,6])\n",
    "plt.title('Сравнение предсказанной и фактической температуры звезд')\n",
    "plt.bar(x=test_predict.index, \n",
    "        height=test_predict['temperature'], color='moccasin', \n",
    "            label='Прогноз')\n",
    "plt.bar(x=test_target.index, \n",
    "        height=test_target['temperature'], color='limegreen', \n",
    "            label='Факт', width= 0.4)\n",
    "plt.xlabel('Номер звезды')\n",
    "plt.ylabel('Температура')\n",
    "ax.legend()\n",
    "plt.show()  "
   ]
  },
  {
   "cell_type": "markdown",
   "id": "6fb2c078",
   "metadata": {},
   "source": [
    "- На графике видно, что на низких температурах модель предсказывает довольно точно. "
   ]
  },
  {
   "cell_type": "markdown",
   "id": "a73a1d05",
   "metadata": {},
   "source": [
    " - Добавим обучение на батчах."
   ]
  },
  {
   "cell_type": "code",
   "execution_count": 43,
   "id": "99d3ec05",
   "metadata": {},
   "outputs": [
    {
     "name": "stdout",
     "output_type": "stream",
     "text": [
      "Показатели нейронной сети на тестовой выборке:\n",
      "Эпоха 0,                RMSE: 15177.16, Количество эпох: 1000, Размер батча: 100\n",
      "Эпоха 100,                RMSE: 7544.86, Количество эпох: 1000, Размер батча: 100\n",
      "Эпоха 200,                RMSE: 5336.19, Количество эпох: 1000, Размер батча: 100\n",
      "Эпоха 300,                RMSE: 3955.85, Количество эпох: 1000, Размер батча: 100\n",
      "Эпоха 400,                RMSE: 3670.35, Количество эпох: 1000, Размер батча: 100\n",
      "Эпоха 500,                RMSE: 3634.12, Количество эпох: 1000, Размер батча: 100\n",
      "Эпоха 600,                RMSE: 3618.88, Количество эпох: 1000, Размер батча: 100\n",
      "Эпоха 700,                RMSE: 3614.99, Количество эпох: 1000, Размер батча: 100\n",
      "Эпоха 800,                RMSE: 3623.7, Количество эпох: 1000, Размер батча: 100\n",
      "Эпоха 900,                RMSE: 3640.59, Количество эпох: 1000, Размер батча: 100\n",
      "Эпоха 999,                RMSE: 3666.84, Количество эпох: 1000, Размер батча: 100\n",
      "\n",
      "Лучшее значение RMSE: 3614.99 , Эпоха: 700 , Батчей: 2\n",
      "CPU times: user 39.8 s, sys: 734 ms, total: 40.5 s\n",
      "Wall time: 45.2 s\n"
     ]
    }
   ],
   "source": [
    "%%time\n",
    "# создаем и инициализируем сеть с двумя скрытыми слоями\n",
    "net_2 = nn.Sequential(\n",
    "     nn.Linear(n_in_neurons, n_hidden_neurons_1),\n",
    "     nn.ReLU(),\n",
    "     nn.Linear(n_hidden_neurons_1, n_hidden_neurons_2),\n",
    "     nn.ReLU(),\n",
    "     nn.Linear(n_hidden_neurons_2, n_out_neurons)\n",
    ")\n",
    "\n",
    "# создаем Adam оптимизатор\n",
    "optimizer = torch.optim.Adam(net_2.parameters(), lr=learning_rate)\n",
    "\n",
    "print('Показатели нейронной сети на тестовой выборке:')\n",
    "\n",
    "# создаем список полученных значений RMSE \n",
    "res_2 = np.array([])\n",
    "\n",
    "# обучаем на заданном количестве эпох (1000)\n",
    "for epoch in range(num_epochs):\n",
    "    \n",
    "    # добавляем обучение на батчах \n",
    "       \n",
    "    # переставляем объекты случайным образом\n",
    "    order = np.random.permutation(len(X_train)) \n",
    "   \n",
    "    for batch_idx in range(num_batches):\n",
    "        start_index = batch_idx * batch_size\n",
    "        optimizer.zero_grad()\n",
    "        \n",
    "        # получаем индексы текущего батча\n",
    "        batch_indexes = order[start_index:start_index+batch_size]\n",
    "        X_batch = X_train[batch_indexes]\n",
    "        y_batch = y_train[batch_indexes]\n",
    "\n",
    "        # прямой проход\n",
    "        preds = net_2.forward(X_train).flatten()     \n",
    "        loss_value = loss(preds, y_train)\n",
    "        \n",
    "        # обратный проход\n",
    "        loss_value.backward()        \n",
    "        optimizer.step()\n",
    "    \n",
    "    # выводим результат каждую сотую и в последнюю эпохи \n",
    "    if epoch % 100 == 0 or epoch == num_epochs - 1:                \n",
    "        net_2.eval()\n",
    "        \n",
    "        test_preds = net_2.forward(X_test)\n",
    "        rmse_Nnet_2 = sqrt(mean_squared_error(y_test.detach().numpy(), test_preds.detach().numpy()))\n",
    "        \n",
    "        res_2 = np.append(res_2, rmse_Nnet_2)\n",
    "        \n",
    "        print(f'Эпоха {round(epoch+i/num_epochs)},\\\n",
    "                RMSE: {round(rmse_Nnet_2,2)}, Количество эпох: {num_epochs}, Размер батча: {batch_size}')  \n",
    "        \n",
    "best_rmse_Nnet_2 =  round(res_2.min(),2)\n",
    "best_epoch_2 = res_2.argmin()*100\n",
    "\n",
    "print()\n",
    "print('Лучшее значение RMSE:', best_rmse_Nnet_2 , ', Эпоха:', best_epoch_2, ', Батчей:', num_batches)        "
   ]
  },
  {
   "cell_type": "markdown",
   "id": "2c16b802",
   "metadata": {},
   "source": [
    " - Модель на батчах сначала обучается хорошо, но затем переобучается: после 700-й эпохи значение метрики ухудшается. "
   ]
  },
  {
   "cell_type": "markdown",
   "id": "f87daf3f",
   "metadata": {},
   "source": [
    "### Вывод по четвертому шагу\n",
    "\n",
    " - Создали архитектуру и обучили модель нейронной сети с двумя скрытыми слоями. \n",
    " \n",
    " \n",
    " - Добавили обучение на батчах и получили предсказания:\n",
    " \n",
    "   - Лучшее значение RMSE без батчей - **3634.3** на 1000 эпохах;\n",
    "   \n",
    "   - Лучшее значение RMSE на батчах - **3614.99** на 700-й эпохе. Дальше наблюдается переобучение.  \n",
    " \n",
    " \n",
    " - Попробуем улучшить предсказания базовой модели."
   ]
  },
  {
   "cell_type": "markdown",
   "id": "growing-supply",
   "metadata": {},
   "source": [
    "## Улучшение нейронной сети"
   ]
  },
  {
   "cell_type": "markdown",
   "id": "1298c05c",
   "metadata": {},
   "source": [
    " - Добавим обучение с перебором параметров. \n",
    " \n",
    " \n",
    " - Сначала изменим размеры батчей. "
   ]
  },
  {
   "cell_type": "code",
   "execution_count": 44,
   "id": "b1df9fbb",
   "metadata": {},
   "outputs": [],
   "source": [
    "# задаем размер батчей\n",
    "batch_values = [25, 50, 80, 100]"
   ]
  },
  {
   "cell_type": "code",
   "execution_count": 45,
   "id": "2abd0082",
   "metadata": {},
   "outputs": [
    {
     "name": "stdout",
     "output_type": "stream",
     "text": [
      "Размер батча: 25, RMSE: 5637.78, Количество эпох: 1000\n",
      "Размер батча: 50, RMSE: 4578.74, Количество эпох: 1000\n",
      "Размер батча: 80, RMSE: 3807.31, Количество эпох: 1000\n",
      "Размер батча: 100, RMSE: 3654.41, Количество эпох: 1000\n",
      "\n",
      "Лучшее значение RMSE: 3654.41 , Размер батча: 100 , Батчей: 2\n",
      "CPU times: user 5min 54s, sys: 6.8 s, total: 6min 1s\n",
      "Wall time: 6min 43s\n"
     ]
    }
   ],
   "source": [
    "%%time\n",
    "# создаем список полученных значений RMSE \n",
    "res_3 = np.array([])    \n",
    "    \n",
    "# запускаем обучение\n",
    "for batch_size in batch_values:\n",
    "    # создаем и инициализируем сеть с двумя скрытыми слоями\n",
    "    net_3 = nn.Sequential(\n",
    "        nn.Linear(n_in_neurons, n_hidden_neurons_1),\n",
    "        nn.ReLU(),\n",
    "        nn.Linear(n_hidden_neurons_1, n_hidden_neurons_2),\n",
    "        nn.ReLU(),\n",
    "        nn.Linear(n_hidden_neurons_2, n_out_neurons)\n",
    ")\n",
    "    \n",
    "    # создаем Adam оптимизатор\n",
    "    optimizer = torch.optim.Adam(net_3.parameters(), lr=learning_rate)\n",
    "    \n",
    "    # задаем количество батчей \n",
    "    num_batches = ceil(len(X_train)/batch_size)\n",
    "       \n",
    "    # обучаем на заданном количестве эпох (1000)\n",
    "    for epoch in range(num_epochs):\n",
    "        # добавляем обучение на батчах \n",
    "        # переставляем объекты случайным образом\n",
    "        order = np.random.permutation(len(X_train)) \n",
    "   \n",
    "        for batch_idx in range(num_batches):\n",
    "            start_index = batch_idx * batch_size\n",
    "            optimizer.zero_grad()\n",
    "        \n",
    "            # получаем индексы текущего батча\n",
    "            batch_indexes = order[start_index:start_index+batch_size]\n",
    "            X_batch = X_train[batch_indexes]\n",
    "            y_batch = y_train[batch_indexes]\n",
    "\n",
    "            # прямой проход\n",
    "            preds = net_3.forward(X_train).flatten()     \n",
    "            loss_value = loss(preds, y_train)\n",
    "        \n",
    "            # обратный проход\n",
    "            loss_value.backward()        \n",
    "            optimizer.step()\n",
    "               \n",
    "    # получаем предсказание на тестовой выборке              \n",
    "    net_3.eval()\n",
    "    test_preds = net_3.forward(X_test)\n",
    "    rmse_Nnet_3 = sqrt(mean_squared_error(y_test.detach().numpy(), test_preds.detach().numpy()))\n",
    "  \n",
    "    res_3 = np.append(res_3, rmse_Nnet_3)\n",
    "    \n",
    "    print(f'Размер батча: {batch_size}, RMSE: {round(rmse_Nnet_3,2)}, Количество эпох: {num_epochs}') \n",
    "    \n",
    "best_rmse_Nnet_3 = round(res_3.min(),2)\n",
    "best_batch_size = batch_values[res_3.argmin()]\n",
    "print()\n",
    "print('Лучшее значение RMSE:', best_rmse_Nnet_3 , ', Размер батча:', best_batch_size, ', Батчей:', num_batches)     "
   ]
  },
  {
   "cell_type": "markdown",
   "id": "8dfc83e5",
   "metadata": {},
   "source": [
    " - При увеличении размера батча и, соответственно, уменьшении количества батчей, метрика улучшается: модель меньше переобучается.   \n",
    " \n",
    " \n",
    " - С ростом количества батчей, растет и время обучения. "
   ]
  },
  {
   "cell_type": "markdown",
   "id": "fb5efd6d",
   "metadata": {},
   "source": [
    " - Теперь переберём разное количество эпох. Результат визуализируем."
   ]
  },
  {
   "cell_type": "code",
   "execution_count": 46,
   "id": "50c460cc",
   "metadata": {},
   "outputs": [
    {
     "name": "stdout",
     "output_type": "stream",
     "text": [
      "CPU times: user 57.4 s, sys: 1.35 s, total: 58.8 s\n",
      "Wall time: 59.1 s\n"
     ]
    }
   ],
   "source": [
    "%%time\n",
    "# создаем и инициализируем сеть с двумя скрытыми слоями\n",
    "net_4 = nn.Sequential(\n",
    "     nn.Linear(n_in_neurons, n_hidden_neurons_1),\n",
    "     nn.ReLU(),\n",
    "     nn.Linear(n_hidden_neurons_1, n_hidden_neurons_2),\n",
    "     nn.ReLU(),\n",
    "     nn.Linear(n_hidden_neurons_2, n_out_neurons)\n",
    ")\n",
    "\n",
    "# создаем Adam оптимизатор\n",
    "optimizer = torch.optim.Adam(net_4.parameters(), lr=learning_rate)  \n",
    "\n",
    "# создаем список полученных значений RMSE \n",
    "res_4 = np.array([])\n",
    "\n",
    "# обучаем на количестве эпох 3000\n",
    "for epoch in range(1, 3001):\n",
    "    optimizer.zero_grad()\n",
    "    \n",
    "    # прямой проход\n",
    "    preds = net_4.forward(X_train).flatten()     \n",
    "    loss_value = loss(preds, y_train)\n",
    "    \n",
    "    # обратный проход\n",
    "    loss_value.backward()        \n",
    "    optimizer.step()\n",
    "   \n",
    "    # выводим результат каждую десятую эпоху \n",
    "    if epoch % 10 == 0 :                \n",
    "        net_4.eval()\n",
    "        test_preds = net_4.forward(X_test)\n",
    "        rmse_Nnet_4 = sqrt(mean_squared_error(y_test.detach().numpy(), test_preds.detach().numpy()))\n",
    "        \n",
    "        res_4 = np.append(res_4, rmse_Nnet_4)\n",
    "\n",
    "# выбираем лучшие показатели        \n",
    "best_rmse_Nnet_4 =  round(res_4.min(),2)\n",
    "best_epoch_4 = (res_4.argmin()*10)+10       "
   ]
  },
  {
   "cell_type": "code",
   "execution_count": 47,
   "id": "8696cffa",
   "metadata": {},
   "outputs": [
    {
     "data": {
      "image/png": "[encoded data removed]",
      "text/plain": [
       "<Figure size 1080x576 with 1 Axes>"
      ]
     },
     "metadata": {
      "needs_background": "light"
     },
     "output_type": "display_data"
    },
    {
     "name": "stdout",
     "output_type": "stream",
     "text": [
      "Лучшее значение RMSE: 3617.84 , Эпоха: 1410\n"
     ]
    }
   ],
   "source": [
    "# задаем вектор эпох\n",
    "epochs = np.arange(1, 3001, 10)        \n",
    "\n",
    "# строим график \n",
    "plt.figure(figsize=[15,8])\n",
    "plt.title('Значение RMSE / Количество эпох')\n",
    "sns.lineplot(x=epochs, y=res_4)\n",
    "plt.xlabel('Количество эпох')\n",
    "plt.ylabel('RMSE')\n",
    "plt.show()\n",
    "\n",
    "print('Лучшее значение RMSE:', best_rmse_Nnet_4, ', Эпоха:', best_epoch_4) "
   ]
  },
  {
   "cell_type": "markdown",
   "id": "52e07f41",
   "metadata": {},
   "source": [
    " - После 1410-й эпохи метрика падает (ухудшается). Видимо, модель переобучается. Оставим оптимальное количество эпох - 1500."
   ]
  },
  {
   "cell_type": "markdown",
   "id": "1fe345a7",
   "metadata": {},
   "source": [
    "- Попробуем применить Dropout. Добавим в модель новые слои и зададим долю выключаемых нейронов."
   ]
  },
  {
   "cell_type": "code",
   "execution_count": 48,
   "id": "a05f6b30",
   "metadata": {},
   "outputs": [],
   "source": [
    "# задаем количество эпох и долю выключаемых нейронов\n",
    "num_epochs_5 = 1500\n",
    "prop_dropout = [0.25, 0.3, 0.5, 0.8]"
   ]
  },
  {
   "cell_type": "code",
   "execution_count": 49,
   "id": "b3085263",
   "metadata": {},
   "outputs": [
    {
     "name": "stdout",
     "output_type": "stream",
     "text": [
      "Доля dropout: 0.25, RMSE: 3625.45, Количество эпох: 1500\n",
      "Доля dropout: 0.3, RMSE: 3602.23, Количество эпох: 1500\n",
      "Доля dropout: 0.5, RMSE: 3601.79, Количество эпох: 1500\n",
      "Доля dropout: 0.8, RMSE: 3608.0, Количество эпох: 1500\n",
      "\n",
      "Лучшее значение RMSE: 3601.79 , Доля dropout: 0.5\n",
      "CPU times: user 1min 57s, sys: 2.46 s, total: 1min 59s\n",
      "Wall time: 2min 1s\n"
     ]
    }
   ],
   "source": [
    "%%time\n",
    "# создаем список полученных значений RMSE \n",
    "res_5 = np.array([])\n",
    "\n",
    "# запускаем обучение\n",
    "for p in prop_dropout:\n",
    "    # создаем и инициализируем сеть с двумя скрытыми слоями\n",
    "    net_5 = nn.Sequential(\n",
    "         nn.Linear(n_in_neurons, n_hidden_neurons_1),\n",
    "         nn.ReLU(),\n",
    "         nn.Dropout(p=p),\n",
    "         nn.Linear(n_hidden_neurons_1, n_hidden_neurons_2),\n",
    "         nn.ReLU(),\n",
    "         nn.Dropout(p=p),\n",
    "         nn.Linear(n_hidden_neurons_2, n_out_neurons)\n",
    ")\n",
    "\n",
    "    # создаем Adam оптимизатор     \n",
    "    optimizer = torch.optim.Adam(net_5.parameters(), lr=learning_rate)  \n",
    "\n",
    "   \n",
    "    # обучаем на количестве эпох 1500\n",
    "    for epoch in range(num_epochs_5):\n",
    "        optimizer.zero_grad()\n",
    "    \n",
    "        # прямой проход\n",
    "        preds = net_5.forward(X_train).flatten()     \n",
    "        loss_value = loss(preds, y_train)\n",
    "    \n",
    "        # обратный проход\n",
    "        loss_value.backward()        \n",
    "        optimizer.step()\n",
    "   \n",
    "    # получаем предсказание на тестовой выборке            \n",
    "    net_5.eval()\n",
    "    test_preds = net_5.forward(X_test)\n",
    "    rmse_Nnet_5 = sqrt(mean_squared_error(y_test.detach().numpy(), test_preds.detach().numpy()))\n",
    "       \n",
    "    res_5 = np.append(res_5, rmse_Nnet_5)  \n",
    "    \n",
    "    print(f'Доля dropout: {p}, RMSE: {round(rmse_Nnet_5,2)}, Количество эпох: {num_epochs_5}')\n",
    "\n",
    "best_rmse_Nnet_5 =  round(res_5.min(),2)\n",
    "best_dropout = prop_dropout[res_5.argmin()]\n",
    "print()\n",
    "print('Лучшее значение RMSE:', best_rmse_Nnet_5, ', Доля dropout:', best_dropout)  "
   ]
  },
  {
   "cell_type": "markdown",
   "id": "9a5c9995",
   "metadata": {},
   "source": [
    " - Модель показывает лучший результат при 50% выключенных нейронов."
   ]
  },
  {
   "cell_type": "markdown",
   "id": "4406e322",
   "metadata": {},
   "source": [
    "- Запустим модель с подобранными параметрами."
   ]
  },
  {
   "cell_type": "code",
   "execution_count": 50,
   "id": "a1207e76",
   "metadata": {},
   "outputs": [
    {
     "name": "stdout",
     "output_type": "stream",
     "text": [
      "Эпоха 0,            RMSE: 15177.5, Количество эпох: 1500, Доля dropout: 0.5\n",
      "Эпоха 100,            RMSE: 13609.17, Количество эпох: 1500, Доля dropout: 0.5\n",
      "Эпоха 200,            RMSE: 7631.81, Количество эпох: 1500, Доля dropout: 0.5\n",
      "Эпоха 300,            RMSE: 6379.11, Количество эпох: 1500, Доля dropout: 0.5\n",
      "Эпоха 400,            RMSE: 5419.6, Количество эпох: 1500, Доля dropout: 0.5\n",
      "Эпоха 500,            RMSE: 4568.43, Количество эпох: 1500, Доля dropout: 0.5\n",
      "Эпоха 600,            RMSE: 4005.84, Количество эпох: 1500, Доля dropout: 0.5\n",
      "Эпоха 700,            RMSE: 3764.58, Количество эпох: 1500, Доля dropout: 0.5\n",
      "Эпоха 800,            RMSE: 3686.05, Количество эпох: 1500, Доля dropout: 0.5\n",
      "Эпоха 900,            RMSE: 3658.51, Количество эпох: 1500, Доля dropout: 0.5\n",
      "Эпоха 1000,            RMSE: 3643.6, Количество эпох: 1500, Доля dropout: 0.5\n",
      "Эпоха 1100,            RMSE: 3632.82, Количество эпох: 1500, Доля dropout: 0.5\n",
      "Эпоха 1200,            RMSE: 3624.85, Количество эпох: 1500, Доля dropout: 0.5\n",
      "Эпоха 1300,            RMSE: 3619.91, Количество эпох: 1500, Доля dropout: 0.5\n",
      "Эпоха 1400,            RMSE: 3617.45, Количество эпох: 1500, Доля dropout: 0.5\n",
      "Эпоха 1499,            RMSE: 3617.64, Количество эпох: 1500, Доля dropout: 0.5\n",
      "\n",
      "Лучшее значение RMSE: 3617.45 , Эпоха: 1400\n",
      "CPU times: user 27.4 s, sys: 708 ms, total: 28.1 s\n",
      "Wall time: 28.3 s\n"
     ]
    }
   ],
   "source": [
    "%%time\n",
    "# создаем и инициализируем сеть с двумя скрытыми слоями\n",
    "net_6 = nn.Sequential(\n",
    "    nn.Linear(n_in_neurons, n_hidden_neurons_1),\n",
    "    nn.ReLU(),\n",
    "    nn.Dropout(p=best_dropout),\n",
    "    nn.Linear(n_hidden_neurons_1, n_hidden_neurons_2),\n",
    "    nn.ReLU(),\n",
    "    nn.Dropout(p=best_dropout),\n",
    "    nn.Linear(n_hidden_neurons_2, n_out_neurons)\n",
    ")\n",
    "\n",
    "# создаем Adam оптимизатор     \n",
    "optimizer = torch.optim.Adam(net_6.parameters(), lr=learning_rate)  \n",
    "    \n",
    "# создаем список полученных значений RMSE \n",
    "res_6 = np.array([])\n",
    "\n",
    "# обучаем на количестве эпох 1500\n",
    "for epoch in range(num_epochs_5):\n",
    "    optimizer.zero_grad()\n",
    "    \n",
    "    # прямой проход\n",
    "    preds = net_6.forward(X_train).flatten()     \n",
    "    loss_value = loss(preds, y_train)\n",
    "    \n",
    "    # обратный проход\n",
    "    loss_value.backward()        \n",
    "    optimizer.step()\n",
    "   \n",
    "    # выводим результат каждую сотую и в последнюю эпохи \n",
    "    if epoch % 100 == 0 or epoch == num_epochs_5 - 1:                \n",
    "        net_6.eval()\n",
    "        \n",
    "        test_preds = net_6.forward(X_test)\n",
    "        rmse_Nnet_6 = sqrt(mean_squared_error(y_test.detach().numpy(), test_preds.detach().numpy()))\n",
    "        \n",
    "        res_6 = np.append(res_6, rmse_Nnet_6)\n",
    "        \n",
    "        print(f'Эпоха {round(epoch+i/num_epochs_5)},\\\n",
    "            RMSE: {round(rmse_Nnet_6,2)}, Количество эпох: {num_epochs_5}, Доля dropout: {best_dropout}')  \n",
    "        \n",
    "best_rmse_Nnet_6 = round(res_6.min(),2)\n",
    "best_epoch_6 = res_6.argmin()*100\n",
    "\n",
    "print()\n",
    "print('Лучшее значение RMSE:', best_rmse_Nnet_6 , ', Эпоха:', best_epoch_6)"
   ]
  },
  {
   "cell_type": "markdown",
   "id": "33cc24dd",
   "metadata": {},
   "source": [
    " - Сравним на графике прогноз модели и реальные значения."
   ]
  },
  {
   "cell_type": "code",
   "execution_count": 51,
   "id": "75f75ca2",
   "metadata": {},
   "outputs": [
    {
     "data": {
      "image/png": "[encoded data removed]",
      "text/plain": [
       "<Figure size 1440x432 with 1 Axes>"
      ]
     },
     "metadata": {
      "needs_background": "light"
     },
     "output_type": "display_data"
    }
   ],
   "source": [
    "# создаем датафреймы с предсказаниями и фактическими значениями\n",
    "test_predict = pd.DataFrame(test_preds.detach().numpy(), \n",
    "                            columns=['temperature'])\n",
    "test_target = pd.DataFrame(y_test.detach().numpy(), \n",
    "                           columns=['temperature'])    \n",
    "\n",
    "# строим график\n",
    "fig, ax = plt.subplots(figsize=[20,6])\n",
    "plt.title('Сравнение предсказанной и фактической температуры звезд')\n",
    "plt.bar(x=test_predict.index, \n",
    "        height=test_predict['temperature'], color='moccasin', \n",
    "            label='Прогноз')\n",
    "plt.bar(x=test_target.index, \n",
    "        height=test_target['temperature'], color='limegreen', \n",
    "            label='Факт', width= 0.4)\n",
    "plt.xlabel('Номер звезды')\n",
    "plt.ylabel('Температура')\n",
    "\n",
    "plt.show()  "
   ]
  },
  {
   "cell_type": "markdown",
   "id": "1d01864d",
   "metadata": {},
   "source": [
    "- Составим сводную таблицу результатов работы моделей с разными параметрами."
   ]
  },
  {
   "cell_type": "code",
   "execution_count": 52,
   "id": "25587f52",
   "metadata": {},
   "outputs": [
    {
     "data": {
      "text/html": [
       "<div>\n",
       "<style scoped>\n",
       "    .dataframe tbody tr th:only-of-type {\n",
       "        vertical-align: middle;\n",
       "    }\n",
       "\n",
       "    .dataframe tbody tr th {\n",
       "        vertical-align: top;\n",
       "    }\n",
       "\n",
       "    .dataframe thead th {\n",
       "        text-align: right;\n",
       "    }\n",
       "</style>\n",
       "<table border=\"1\" class=\"dataframe\">\n",
       "  <thead>\n",
       "    <tr style=\"text-align: right;\">\n",
       "      <th></th>\n",
       "      <th>model</th>\n",
       "      <th>hidden_layers</th>\n",
       "      <th>epochs</th>\n",
       "      <th>batches</th>\n",
       "      <th>batch_size</th>\n",
       "      <th>dropout</th>\n",
       "      <th>RMSE</th>\n",
       "    </tr>\n",
       "  </thead>\n",
       "  <tbody>\n",
       "    <tr>\n",
       "      <th>0</th>\n",
       "      <td>RFregressor</td>\n",
       "      <td>0</td>\n",
       "      <td>0</td>\n",
       "      <td>0</td>\n",
       "      <td>0</td>\n",
       "      <td>0.0</td>\n",
       "      <td>3120.99</td>\n",
       "    </tr>\n",
       "    <tr>\n",
       "      <th>5</th>\n",
       "      <td>Nnet_5</td>\n",
       "      <td>2</td>\n",
       "      <td>1500</td>\n",
       "      <td>0</td>\n",
       "      <td>0</td>\n",
       "      <td>0.5</td>\n",
       "      <td>3601.79</td>\n",
       "    </tr>\n",
       "    <tr>\n",
       "      <th>2</th>\n",
       "      <td>Nnet_2</td>\n",
       "      <td>2</td>\n",
       "      <td>700</td>\n",
       "      <td>2</td>\n",
       "      <td>100</td>\n",
       "      <td>0.0</td>\n",
       "      <td>3614.99</td>\n",
       "    </tr>\n",
       "    <tr>\n",
       "      <th>6</th>\n",
       "      <td>Nnet_6</td>\n",
       "      <td>2</td>\n",
       "      <td>1400</td>\n",
       "      <td>0</td>\n",
       "      <td>0</td>\n",
       "      <td>0.5</td>\n",
       "      <td>3617.45</td>\n",
       "    </tr>\n",
       "    <tr>\n",
       "      <th>4</th>\n",
       "      <td>Nnet_4</td>\n",
       "      <td>2</td>\n",
       "      <td>1410</td>\n",
       "      <td>0</td>\n",
       "      <td>0</td>\n",
       "      <td>0.0</td>\n",
       "      <td>3617.84</td>\n",
       "    </tr>\n",
       "    <tr>\n",
       "      <th>1</th>\n",
       "      <td>Nnet_1</td>\n",
       "      <td>2</td>\n",
       "      <td>1000</td>\n",
       "      <td>0</td>\n",
       "      <td>0</td>\n",
       "      <td>0.0</td>\n",
       "      <td>3634.30</td>\n",
       "    </tr>\n",
       "    <tr>\n",
       "      <th>3</th>\n",
       "      <td>Nnet_3</td>\n",
       "      <td>2</td>\n",
       "      <td>1000</td>\n",
       "      <td>2</td>\n",
       "      <td>100</td>\n",
       "      <td>0.0</td>\n",
       "      <td>3654.41</td>\n",
       "    </tr>\n",
       "  </tbody>\n",
       "</table>\n",
       "</div>"
      ],
      "text/plain": [
       "         model  hidden_layers  epochs  batches  batch_size  dropout     RMSE\n",
       "0  RFregressor              0       0        0           0      0.0  3120.99\n",
       "5       Nnet_5              2    1500        0           0      0.5  3601.79\n",
       "2       Nnet_2              2     700        2         100      0.0  3614.99\n",
       "6       Nnet_6              2    1400        0           0      0.5  3617.45\n",
       "4       Nnet_4              2    1410        0           0      0.0  3617.84\n",
       "1       Nnet_1              2    1000        0           0      0.0  3634.30\n",
       "3       Nnet_3              2    1000        2         100      0.0  3654.41"
      ]
     },
     "execution_count": 52,
     "metadata": {},
     "output_type": "execute_result"
    }
   ],
   "source": [
    "# создаем таблицу с результатами работы моделей\n",
    "data={'model':  ['RFregressor',\n",
    "                 'Nnet_1',\n",
    "                 'Nnet_2',\n",
    "                 'Nnet_3',\n",
    "                 'Nnet_4',\n",
    "                 'Nnet_5',\n",
    "                 'Nnet_6'\n",
    "                ],\n",
    "\n",
    "    'hidden_layers': [0,\n",
    "                      2,\n",
    "                      2,\n",
    "                      2,\n",
    "                      2,\n",
    "                      2,\n",
    "                      2 \n",
    "                     ],\n",
    "   \n",
    "    'epochs': [0,\n",
    "               best_epoch_1,\n",
    "               best_epoch_2,\n",
    "               num_epochs,\n",
    "               best_epoch_4,\n",
    "               num_epochs_5,\n",
    "               best_epoch_6\n",
    "              ],\n",
    "    \n",
    "    'batches':[0,\n",
    "               0,\n",
    "               num_batches,\n",
    "               num_batches,\n",
    "               0,\n",
    "               0,\n",
    "               0\n",
    "              ], \n",
    "      \n",
    "    'batch_size':[0,\n",
    "                  0,\n",
    "                  batch_size,\n",
    "                  best_batch_size,\n",
    "                  0,\n",
    "                  0,\n",
    "                  0\n",
    "                  ],  \n",
    "                  \n",
    "    'dropout':[0,\n",
    "               0,\n",
    "               0,\n",
    "               0,\n",
    "               0,\n",
    "               best_dropout,\n",
    "               best_dropout\n",
    "               ],\n",
    "    \n",
    "    'RMSE': [rmse_RFR,\n",
    "             best_rmse_Nnet_1,\n",
    "             best_rmse_Nnet_2,\n",
    "             best_rmse_Nnet_3,\n",
    "             best_rmse_Nnet_4,\n",
    "             best_rmse_Nnet_5,\n",
    "             best_rmse_Nnet_6],\n",
    "   }\n",
    "\n",
    "\n",
    "# выводим результаты\n",
    "scores_model = pd.DataFrame(data).sort_values(by='RMSE')\n",
    "scores_model"
   ]
  },
  {
   "cell_type": "markdown",
   "id": "8488e38a",
   "metadata": {},
   "source": [
    "### Вывод по пятому шагу\n",
    "\n",
    " - Провели обучение базовой модели с перебором различных параметров: размера батчей, размера эпох, параметров dropout. \n",
    " \n",
    " \n",
    " - Визуализировали результаты обучения моделей.\n",
    " \n",
    " \n",
    " - Составили итоговую таблицу сравнения результатов моделей с разными параметрами.  "
   ]
  },
  {
   "cell_type": "markdown",
   "id": "accurate-infrastructure",
   "metadata": {},
   "source": [
    "## Общий вывод\n",
    "\n",
    "- **В процессе работы над проектом мы:**\n",
    "\n",
    "    - Загрузили и изучили данные.\n",
    "   \n",
    "    - Провели исследовательский анализ данных: исследовали количественные и категориальные данные; проверили на корреляцию и выбросы; избавились от аномалий в столбце с цветом звезд и сократили количество классов в категории цвета; наметили признаки для удаления и синтезирования.\n",
    "   \n",
    "    - Подготовили данные для обучения модели: удалили неинформативный столбец, удалили один из столбцов с сильной взаимной корреляцией; исправили названия столбцов; создали новый синтетический категориальный признак (температурный класс); разделили данные на обучающую и тестовую выборки; провели масштабирование количественных и кодирование категориальных признаков.  \n",
    "   \n",
    "    - Построили простую модель нейронной сети — baseline: создали архитектуру и обучили модель нейронной сети с двумя скрытыми слоями, 800 и 400 нейронов, соответственно; добавили обучение на батчах и получили предсказания на тестовой выборке;  \n",
    "   \n",
    "    - Подобрали лучшие параметры нейросети: провели обучение базовой модели с перебором различных параметров и визуализировали результаты, составили итоговую сравнительную таблицу.\n",
    "   \n",
    "    - Написали промежуточный и общий выводы.\n",
    "   \n",
    "   \n",
    " - **Резюме:**   \n",
    " \n",
    "    - Среди нейронных сетей **лучше других** с задачей справилась **модель с двумя скрытыми слоями** (по 800 и 400 нейронов), на **1500 эпохах** обучения и **50% выключенных нейронов**. **Время работы** модели составляет **около 30 секунд**. Модель показала значение метрики **RMSE 3601.79**, что можно считать хорошим результатом. **Модель можно рекомендовать** к использованию**."
   ]
  },
  {
   "cell_type": "code",
   "execution_count": null,
   "id": "b946134d",
   "metadata": {},
   "outputs": [],
   "source": []
  }
 ],
 "metadata": {
  "ExecuteTimeLog": [
   {
    "duration": 28731,
    "start_time": "2024-04-05T11:35:10.770Z"
   },
   {
    "duration": 7531,
    "start_time": "2024-04-05T11:35:51.362Z"
   },
   {
    "duration": 2253,
    "start_time": "2024-04-05T11:36:17.534Z"
   },
   {
    "duration": 4,
    "start_time": "2024-04-05T11:36:24.442Z"
   },
   {
    "duration": 150,
    "start_time": "2024-04-05T11:36:27.861Z"
   },
   {
    "duration": 77,
    "start_time": "2024-04-05T11:36:49.262Z"
   },
   {
    "duration": 20,
    "start_time": "2024-04-05T11:37:30.871Z"
   },
   {
    "duration": 30,
    "start_time": "2024-04-05T11:37:36.915Z"
   },
   {
    "duration": 36,
    "start_time": "2024-04-05T11:37:53.699Z"
   },
   {
    "duration": 34,
    "start_time": "2024-04-05T11:42:42.992Z"
   },
   {
    "duration": 65,
    "start_time": "2024-04-05T11:51:23.072Z"
   },
   {
    "duration": 12,
    "start_time": "2024-04-05T11:51:34.024Z"
   },
   {
    "duration": 4,
    "start_time": "2024-04-05T11:51:51.737Z"
   },
   {
    "duration": 4,
    "start_time": "2024-04-05T11:52:28.215Z"
   },
   {
    "duration": 12,
    "start_time": "2024-04-05T11:53:33.343Z"
   },
   {
    "duration": 11,
    "start_time": "2024-04-05T11:53:37.406Z"
   },
   {
    "duration": 4,
    "start_time": "2024-04-05T11:53:51.663Z"
   },
   {
    "duration": 5,
    "start_time": "2024-04-05T11:53:55.030Z"
   },
   {
    "duration": 19,
    "start_time": "2024-04-05T11:54:14.884Z"
   },
   {
    "duration": 19,
    "start_time": "2024-04-05T11:55:21.489Z"
   },
   {
    "duration": 4,
    "start_time": "2024-04-05T11:55:30.697Z"
   },
   {
    "duration": 9,
    "start_time": "2024-04-05T11:56:15.672Z"
   },
   {
    "duration": 4,
    "start_time": "2024-04-05T11:56:34.760Z"
   },
   {
    "duration": 15,
    "start_time": "2024-04-05T11:56:42.255Z"
   },
   {
    "duration": 6,
    "start_time": "2024-04-05T11:57:40.459Z"
   },
   {
    "duration": 18,
    "start_time": "2024-04-05T11:57:49.436Z"
   },
   {
    "duration": 7,
    "start_time": "2024-04-05T11:57:55.798Z"
   },
   {
    "duration": 6,
    "start_time": "2024-04-05T11:57:59.176Z"
   },
   {
    "duration": 61,
    "start_time": "2024-04-05T11:58:11.943Z"
   },
   {
    "duration": 18,
    "start_time": "2024-04-05T11:58:15.969Z"
   },
   {
    "duration": 5,
    "start_time": "2024-04-05T11:58:24.758Z"
   },
   {
    "duration": 8,
    "start_time": "2024-04-05T11:58:42.155Z"
   },
   {
    "duration": 24,
    "start_time": "2024-04-05T11:58:54.664Z"
   },
   {
    "duration": 19,
    "start_time": "2024-04-05T11:59:00.697Z"
   },
   {
    "duration": 31,
    "start_time": "2024-04-05T11:59:08.464Z"
   },
   {
    "duration": 20,
    "start_time": "2024-04-05T11:59:12.385Z"
   },
   {
    "duration": 5,
    "start_time": "2024-04-05T11:59:18.064Z"
   },
   {
    "duration": 7,
    "start_time": "2024-04-05T11:59:24.822Z"
   },
   {
    "duration": 6,
    "start_time": "2024-04-05T11:59:28.734Z"
   },
   {
    "duration": 17,
    "start_time": "2024-04-05T12:01:15.197Z"
   },
   {
    "duration": 20,
    "start_time": "2024-04-05T12:01:24.971Z"
   },
   {
    "duration": 4,
    "start_time": "2024-04-05T12:06:57.159Z"
   },
   {
    "duration": 5,
    "start_time": "2024-04-05T12:07:56.686Z"
   },
   {
    "duration": 10,
    "start_time": "2024-04-05T12:09:29.338Z"
   },
   {
    "duration": 54,
    "start_time": "2024-04-05T15:08:00.826Z"
   },
   {
    "duration": 1220,
    "start_time": "2024-04-05T15:08:10.408Z"
   },
   {
    "duration": 29037,
    "start_time": "2024-04-05T15:08:42.672Z"
   },
   {
    "duration": 8154,
    "start_time": "2024-04-05T15:09:26.696Z"
   },
   {
    "duration": 4,
    "start_time": "2024-04-05T15:09:59.943Z"
   },
   {
    "duration": 5,
    "start_time": "2024-04-05T15:09:59.949Z"
   },
   {
    "duration": 2670,
    "start_time": "2024-04-05T15:09:59.957Z"
   },
   {
    "duration": 6,
    "start_time": "2024-04-05T15:10:02.629Z"
   },
   {
    "duration": 116,
    "start_time": "2024-04-05T15:10:02.637Z"
   },
   {
    "duration": 48,
    "start_time": "2024-04-05T15:10:02.755Z"
   },
   {
    "duration": 4,
    "start_time": "2024-04-05T15:10:02.805Z"
   },
   {
    "duration": 40,
    "start_time": "2024-04-05T15:10:02.810Z"
   },
   {
    "duration": 25,
    "start_time": "2024-04-05T15:10:02.851Z"
   },
   {
    "duration": 220,
    "start_time": "2024-04-05T15:13:15.340Z"
   },
   {
    "duration": 152,
    "start_time": "2024-04-05T15:14:05.921Z"
   },
   {
    "duration": 414,
    "start_time": "2024-04-05T15:15:59.465Z"
   },
   {
    "duration": 455,
    "start_time": "2024-04-05T15:16:48.498Z"
   },
   {
    "duration": 569,
    "start_time": "2024-04-05T15:18:21.302Z"
   },
   {
    "duration": 544,
    "start_time": "2024-04-05T15:18:57.122Z"
   },
   {
    "duration": 2316,
    "start_time": "2024-04-05T15:47:51.357Z"
   },
   {
    "duration": 5,
    "start_time": "2024-04-05T15:47:57.567Z"
   },
   {
    "duration": 27,
    "start_time": "2024-04-05T15:47:59.192Z"
   },
   {
    "duration": 53,
    "start_time": "2024-04-05T15:48:01.392Z"
   },
   {
    "duration": 5,
    "start_time": "2024-04-05T15:48:02.728Z"
   },
   {
    "duration": 12,
    "start_time": "2024-04-05T15:48:03.395Z"
   },
   {
    "duration": 26,
    "start_time": "2024-04-05T15:48:04.650Z"
   },
   {
    "duration": 708,
    "start_time": "2024-04-05T15:48:05.425Z"
   },
   {
    "duration": 1243,
    "start_time": "2024-04-05T15:48:09.867Z"
   },
   {
    "duration": 1830,
    "start_time": "2024-04-05T15:48:20.315Z"
   },
   {
    "duration": 1090,
    "start_time": "2024-04-05T15:48:39.209Z"
   },
   {
    "duration": 1302,
    "start_time": "2024-04-05T15:49:03.971Z"
   },
   {
    "duration": 243,
    "start_time": "2024-04-05T16:00:51.507Z"
   },
   {
    "duration": 175,
    "start_time": "2024-04-05T16:04:05.309Z"
   },
   {
    "duration": 7,
    "start_time": "2024-04-05T16:04:15.200Z"
   },
   {
    "duration": 6,
    "start_time": "2024-04-05T16:04:18.892Z"
   },
   {
    "duration": 27,
    "start_time": "2024-04-05T16:04:19.470Z"
   },
   {
    "duration": 42,
    "start_time": "2024-04-05T16:04:22.764Z"
   },
   {
    "duration": 4,
    "start_time": "2024-04-05T16:04:24.637Z"
   },
   {
    "duration": 11,
    "start_time": "2024-04-05T16:04:25.069Z"
   },
   {
    "duration": 30,
    "start_time": "2024-04-05T16:04:27.793Z"
   },
   {
    "duration": 587,
    "start_time": "2024-04-05T16:04:30.286Z"
   },
   {
    "duration": 1358,
    "start_time": "2024-04-05T16:04:37.892Z"
   },
   {
    "duration": 36,
    "start_time": "2024-04-05T16:04:43.912Z"
   },
   {
    "duration": 46,
    "start_time": "2024-04-05T16:06:04.329Z"
   },
   {
    "duration": 36,
    "start_time": "2024-04-05T16:06:32.896Z"
   },
   {
    "duration": 21,
    "start_time": "2024-04-05T16:07:51.687Z"
   },
   {
    "duration": 43,
    "start_time": "2024-04-05T16:08:06.377Z"
   },
   {
    "duration": 33,
    "start_time": "2024-04-05T16:08:54.345Z"
   },
   {
    "duration": 33,
    "start_time": "2024-04-05T16:09:32.632Z"
   },
   {
    "duration": 42,
    "start_time": "2024-04-05T16:09:40.963Z"
   },
   {
    "duration": 43,
    "start_time": "2024-04-05T16:11:50.768Z"
   },
   {
    "duration": 73,
    "start_time": "2024-04-05T16:12:09.572Z"
   },
   {
    "duration": 22,
    "start_time": "2024-04-05T16:12:21.177Z"
   },
   {
    "duration": 34,
    "start_time": "2024-04-05T16:12:36.789Z"
   },
   {
    "duration": 4,
    "start_time": "2024-04-05T16:15:37.852Z"
   },
   {
    "duration": 18,
    "start_time": "2024-04-05T16:15:58.332Z"
   },
   {
    "duration": 18,
    "start_time": "2024-04-05T16:16:17.423Z"
   },
   {
    "duration": 12,
    "start_time": "2024-04-05T16:20:51.384Z"
   },
   {
    "duration": 7,
    "start_time": "2024-04-05T16:23:04.388Z"
   },
   {
    "duration": 1016,
    "start_time": "2024-04-05T16:23:17.281Z"
   },
   {
    "duration": 995,
    "start_time": "2024-04-05T16:24:04.235Z"
   },
   {
    "duration": 4,
    "start_time": "2024-04-05T16:37:04.043Z"
   },
   {
    "duration": 10,
    "start_time": "2024-04-05T16:37:04.051Z"
   },
   {
    "duration": 2552,
    "start_time": "2024-04-05T16:37:04.063Z"
   },
   {
    "duration": 5,
    "start_time": "2024-04-05T16:37:06.617Z"
   },
   {
    "duration": 37,
    "start_time": "2024-04-05T16:37:06.624Z"
   },
   {
    "duration": 54,
    "start_time": "2024-04-05T16:37:06.664Z"
   },
   {
    "duration": 6,
    "start_time": "2024-04-05T16:37:06.720Z"
   },
   {
    "duration": 16,
    "start_time": "2024-04-05T16:37:06.728Z"
   },
   {
    "duration": 8,
    "start_time": "2024-04-05T16:37:06.745Z"
   },
   {
    "duration": 22,
    "start_time": "2024-04-05T16:37:06.754Z"
   },
   {
    "duration": 38,
    "start_time": "2024-04-05T16:37:06.778Z"
   },
   {
    "duration": 734,
    "start_time": "2024-04-05T16:37:06.818Z"
   },
   {
    "duration": 1451,
    "start_time": "2024-04-05T16:37:07.553Z"
   },
   {
    "duration": 1543,
    "start_time": "2024-04-05T16:37:09.005Z"
   },
   {
    "duration": 1537,
    "start_time": "2024-04-05T16:37:56.328Z"
   },
   {
    "duration": 1461,
    "start_time": "2024-04-05T16:39:13.147Z"
   },
   {
    "duration": 2191,
    "start_time": "2024-04-05T16:39:39.378Z"
   },
   {
    "duration": 1377,
    "start_time": "2024-04-05T16:40:03.886Z"
   },
   {
    "duration": 16,
    "start_time": "2024-04-05T16:46:17.444Z"
   },
   {
    "duration": 386,
    "start_time": "2024-04-05T16:46:54.546Z"
   },
   {
    "duration": 5,
    "start_time": "2024-04-05T16:53:11.686Z"
   },
   {
    "duration": 23,
    "start_time": "2024-04-05T17:08:02.180Z"
   },
   {
    "duration": 5,
    "start_time": "2024-04-05T17:08:16.739Z"
   },
   {
    "duration": 8,
    "start_time": "2024-04-05T17:08:25.500Z"
   },
   {
    "duration": 5,
    "start_time": "2024-04-05T17:08:37.801Z"
   },
   {
    "duration": 6,
    "start_time": "2024-04-05T17:08:48.212Z"
   },
   {
    "duration": 15,
    "start_time": "2024-04-05T17:09:51.855Z"
   },
   {
    "duration": 6,
    "start_time": "2024-04-05T17:09:52.438Z"
   },
   {
    "duration": 200,
    "start_time": "2024-04-05T17:10:59.011Z"
   },
   {
    "duration": 4,
    "start_time": "2024-04-05T17:11:04.129Z"
   },
   {
    "duration": 4,
    "start_time": "2024-04-05T17:12:32.547Z"
   },
   {
    "duration": 7,
    "start_time": "2024-04-05T17:12:32.553Z"
   },
   {
    "duration": 2445,
    "start_time": "2024-04-05T17:12:32.562Z"
   },
   {
    "duration": 4,
    "start_time": "2024-04-05T17:12:35.013Z"
   },
   {
    "duration": 67,
    "start_time": "2024-04-05T17:12:35.019Z"
   },
   {
    "duration": 44,
    "start_time": "2024-04-05T17:12:35.088Z"
   },
   {
    "duration": 4,
    "start_time": "2024-04-05T17:12:35.133Z"
   },
   {
    "duration": 9,
    "start_time": "2024-04-05T17:12:35.139Z"
   },
   {
    "duration": 23,
    "start_time": "2024-04-05T17:12:35.150Z"
   },
   {
    "duration": 27,
    "start_time": "2024-04-05T17:12:35.175Z"
   },
   {
    "duration": 28,
    "start_time": "2024-04-05T17:12:35.203Z"
   },
   {
    "duration": 730,
    "start_time": "2024-04-05T17:12:35.233Z"
   },
   {
    "duration": 1367,
    "start_time": "2024-04-05T17:12:35.965Z"
   },
   {
    "duration": 402,
    "start_time": "2024-04-05T17:12:37.334Z"
   },
   {
    "duration": 238,
    "start_time": "2024-04-05T17:12:37.738Z"
   },
   {
    "duration": 0,
    "start_time": "2024-04-05T17:12:37.981Z"
   },
   {
    "duration": 0,
    "start_time": "2024-04-05T17:12:37.983Z"
   },
   {
    "duration": 0,
    "start_time": "2024-04-05T17:12:37.984Z"
   },
   {
    "duration": 5,
    "start_time": "2024-04-05T17:26:27.566Z"
   },
   {
    "duration": 6,
    "start_time": "2024-04-05T17:27:13.631Z"
   },
   {
    "duration": 7,
    "start_time": "2024-04-05T17:27:14.806Z"
   },
   {
    "duration": 4,
    "start_time": "2024-04-05T17:27:33.579Z"
   },
   {
    "duration": 13,
    "start_time": "2024-04-05T17:27:33.585Z"
   },
   {
    "duration": 2433,
    "start_time": "2024-04-05T17:27:33.600Z"
   },
   {
    "duration": 5,
    "start_time": "2024-04-05T17:27:36.035Z"
   },
   {
    "duration": 35,
    "start_time": "2024-04-05T17:27:36.041Z"
   },
   {
    "duration": 49,
    "start_time": "2024-04-05T17:27:36.077Z"
   },
   {
    "duration": 4,
    "start_time": "2024-04-05T17:27:36.128Z"
   },
   {
    "duration": 22,
    "start_time": "2024-04-05T17:27:36.133Z"
   },
   {
    "duration": 10,
    "start_time": "2024-04-05T17:27:36.157Z"
   },
   {
    "duration": 35,
    "start_time": "2024-04-05T17:27:36.168Z"
   },
   {
    "duration": 23,
    "start_time": "2024-04-05T17:27:36.206Z"
   },
   {
    "duration": 684,
    "start_time": "2024-04-05T17:27:36.230Z"
   },
   {
    "duration": 1438,
    "start_time": "2024-04-05T17:27:36.916Z"
   },
   {
    "duration": 449,
    "start_time": "2024-04-05T17:27:38.356Z"
   },
   {
    "duration": 194,
    "start_time": "2024-04-05T17:27:38.808Z"
   },
   {
    "duration": 0,
    "start_time": "2024-04-05T17:27:39.008Z"
   },
   {
    "duration": 0,
    "start_time": "2024-04-05T17:27:39.012Z"
   },
   {
    "duration": 0,
    "start_time": "2024-04-05T17:27:39.013Z"
   },
   {
    "duration": 0,
    "start_time": "2024-04-05T17:27:39.015Z"
   },
   {
    "duration": 0,
    "start_time": "2024-04-05T17:27:39.016Z"
   },
   {
    "duration": 15,
    "start_time": "2024-04-05T18:18:46.051Z"
   },
   {
    "duration": 4,
    "start_time": "2024-04-05T18:19:43.775Z"
   },
   {
    "duration": 4,
    "start_time": "2024-04-05T18:19:49.307Z"
   },
   {
    "duration": 4,
    "start_time": "2024-04-05T18:20:19.314Z"
   },
   {
    "duration": 4,
    "start_time": "2024-04-05T18:20:23.431Z"
   },
   {
    "duration": 6,
    "start_time": "2024-04-05T18:25:10.912Z"
   },
   {
    "duration": 4,
    "start_time": "2024-04-05T18:25:11.992Z"
   },
   {
    "duration": 3,
    "start_time": "2024-04-05T18:26:29.295Z"
   },
   {
    "duration": 4,
    "start_time": "2024-04-05T18:26:29.300Z"
   },
   {
    "duration": 2204,
    "start_time": "2024-04-05T18:26:29.306Z"
   },
   {
    "duration": 4,
    "start_time": "2024-04-05T18:26:31.512Z"
   },
   {
    "duration": 81,
    "start_time": "2024-04-05T18:26:31.518Z"
   },
   {
    "duration": 37,
    "start_time": "2024-04-05T18:26:31.601Z"
   },
   {
    "duration": 12,
    "start_time": "2024-04-05T18:26:31.640Z"
   },
   {
    "duration": 25,
    "start_time": "2024-04-05T18:26:31.653Z"
   },
   {
    "duration": 22,
    "start_time": "2024-04-05T18:26:31.680Z"
   },
   {
    "duration": 34,
    "start_time": "2024-04-05T18:26:31.705Z"
   },
   {
    "duration": 35,
    "start_time": "2024-04-05T18:26:31.740Z"
   },
   {
    "duration": 638,
    "start_time": "2024-04-05T18:26:31.777Z"
   },
   {
    "duration": 1270,
    "start_time": "2024-04-05T18:26:32.416Z"
   },
   {
    "duration": 377,
    "start_time": "2024-04-05T18:26:33.687Z"
   },
   {
    "duration": 168,
    "start_time": "2024-04-05T18:26:34.065Z"
   },
   {
    "duration": 0,
    "start_time": "2024-04-05T18:26:34.235Z"
   },
   {
    "duration": 4,
    "start_time": "2024-04-05T18:28:12.789Z"
   },
   {
    "duration": 5,
    "start_time": "2024-04-05T18:28:12.794Z"
   },
   {
    "duration": 2101,
    "start_time": "2024-04-05T18:28:12.800Z"
   },
   {
    "duration": 5,
    "start_time": "2024-04-05T18:28:14.903Z"
   },
   {
    "duration": 29,
    "start_time": "2024-04-05T18:28:14.910Z"
   },
   {
    "duration": 36,
    "start_time": "2024-04-05T18:28:14.941Z"
   },
   {
    "duration": 4,
    "start_time": "2024-04-05T18:28:14.979Z"
   },
   {
    "duration": 7,
    "start_time": "2024-04-05T18:28:14.985Z"
   },
   {
    "duration": 5,
    "start_time": "2024-04-05T18:28:14.994Z"
   },
   {
    "duration": 12,
    "start_time": "2024-04-05T18:28:15.001Z"
   },
   {
    "duration": 46,
    "start_time": "2024-04-05T18:28:15.014Z"
   },
   {
    "duration": 60,
    "start_time": "2024-04-05T18:28:15.061Z"
   },
   {
    "duration": 632,
    "start_time": "2024-04-05T18:28:15.122Z"
   },
   {
    "duration": 1211,
    "start_time": "2024-04-05T18:28:15.755Z"
   },
   {
    "duration": 303,
    "start_time": "2024-04-05T18:28:16.967Z"
   },
   {
    "duration": 505,
    "start_time": "2024-04-05T19:22:22.778Z"
   },
   {
    "duration": 65,
    "start_time": "2024-04-05T19:23:10.062Z"
   },
   {
    "duration": 310,
    "start_time": "2024-04-05T19:23:14.390Z"
   },
   {
    "duration": 327,
    "start_time": "2024-04-05T19:23:42.032Z"
   },
   {
    "duration": 313,
    "start_time": "2024-04-05T19:23:58.399Z"
   },
   {
    "duration": 323,
    "start_time": "2024-04-05T19:25:58.731Z"
   },
   {
    "duration": 312,
    "start_time": "2024-04-05T19:26:05.213Z"
   },
   {
    "duration": 492,
    "start_time": "2024-04-05T19:26:14.225Z"
   },
   {
    "duration": 398,
    "start_time": "2024-04-05T19:26:36.638Z"
   },
   {
    "duration": 356,
    "start_time": "2024-04-05T19:27:19.291Z"
   },
   {
    "duration": 366,
    "start_time": "2024-04-05T19:27:44.423Z"
   },
   {
    "duration": 67,
    "start_time": "2024-04-05T19:28:49.182Z"
   },
   {
    "duration": 319,
    "start_time": "2024-04-05T19:29:12.886Z"
   },
   {
    "duration": 149,
    "start_time": "2024-04-05T19:30:06.858Z"
   },
   {
    "duration": 192,
    "start_time": "2024-04-05T19:30:25.033Z"
   },
   {
    "duration": 197,
    "start_time": "2024-04-05T19:31:00.137Z"
   },
   {
    "duration": 80,
    "start_time": "2024-04-05T19:31:32.569Z"
   },
   {
    "duration": 205,
    "start_time": "2024-04-05T19:31:38.734Z"
   },
   {
    "duration": 213,
    "start_time": "2024-04-05T19:31:49.999Z"
   },
   {
    "duration": 185,
    "start_time": "2024-04-05T19:32:32.356Z"
   },
   {
    "duration": 168,
    "start_time": "2024-04-05T19:33:00.572Z"
   },
   {
    "duration": 202,
    "start_time": "2024-04-05T19:33:51.895Z"
   },
   {
    "duration": 191,
    "start_time": "2024-04-05T19:34:32.494Z"
   },
   {
    "duration": 185,
    "start_time": "2024-04-05T19:35:29.740Z"
   },
   {
    "duration": 281,
    "start_time": "2024-04-05T19:35:36.574Z"
   },
   {
    "duration": 152,
    "start_time": "2024-04-05T19:35:45.522Z"
   },
   {
    "duration": 161,
    "start_time": "2024-04-05T19:38:54.639Z"
   },
   {
    "duration": 160,
    "start_time": "2024-04-05T19:41:59.089Z"
   },
   {
    "duration": 169,
    "start_time": "2024-04-05T19:42:11.813Z"
   },
   {
    "duration": 153,
    "start_time": "2024-04-05T19:43:59.572Z"
   },
   {
    "duration": 160,
    "start_time": "2024-04-05T19:44:01.400Z"
   },
   {
    "duration": 188,
    "start_time": "2024-04-05T19:44:43.676Z"
   },
   {
    "duration": 155,
    "start_time": "2024-04-05T19:45:33.853Z"
   },
   {
    "duration": 178,
    "start_time": "2024-04-05T19:45:42.967Z"
   },
   {
    "duration": 3,
    "start_time": "2024-04-05T19:45:58.111Z"
   },
   {
    "duration": 3,
    "start_time": "2024-04-05T19:45:58.116Z"
   },
   {
    "duration": 2197,
    "start_time": "2024-04-05T19:45:58.120Z"
   },
   {
    "duration": 5,
    "start_time": "2024-04-05T19:46:00.318Z"
   },
   {
    "duration": 59,
    "start_time": "2024-04-05T19:46:00.325Z"
   },
   {
    "duration": 62,
    "start_time": "2024-04-05T19:46:00.386Z"
   },
   {
    "duration": 10,
    "start_time": "2024-04-05T19:46:00.449Z"
   },
   {
    "duration": 61,
    "start_time": "2024-04-05T19:46:00.461Z"
   },
   {
    "duration": 60,
    "start_time": "2024-04-05T19:46:00.524Z"
   },
   {
    "duration": 58,
    "start_time": "2024-04-05T19:46:00.586Z"
   },
   {
    "duration": 77,
    "start_time": "2024-04-05T19:46:00.646Z"
   },
   {
    "duration": 63,
    "start_time": "2024-04-05T19:46:00.725Z"
   },
   {
    "duration": 661,
    "start_time": "2024-04-05T19:46:00.790Z"
   },
   {
    "duration": 1252,
    "start_time": "2024-04-05T19:46:01.452Z"
   },
   {
    "duration": 313,
    "start_time": "2024-04-05T19:46:02.705Z"
   },
   {
    "duration": 313,
    "start_time": "2024-04-05T19:46:03.020Z"
   },
   {
    "duration": 176,
    "start_time": "2024-04-05T19:46:03.335Z"
   },
   {
    "duration": 195,
    "start_time": "2024-04-05T19:46:03.513Z"
   },
   {
    "duration": 192,
    "start_time": "2024-04-05T19:51:35.086Z"
   },
   {
    "duration": 173,
    "start_time": "2024-04-05T19:51:38.373Z"
   },
   {
    "duration": 161,
    "start_time": "2024-04-05T19:52:13.344Z"
   },
   {
    "duration": 24456,
    "start_time": "2024-04-06T10:40:23.474Z"
   },
   {
    "duration": 6937,
    "start_time": "2024-04-06T10:40:51.806Z"
   },
   {
    "duration": 4,
    "start_time": "2024-04-06T10:41:36.612Z"
   },
   {
    "duration": 7,
    "start_time": "2024-04-06T10:41:36.618Z"
   },
   {
    "duration": 2280,
    "start_time": "2024-04-06T10:41:36.627Z"
   },
   {
    "duration": 4,
    "start_time": "2024-04-06T10:41:38.909Z"
   },
   {
    "duration": 93,
    "start_time": "2024-04-06T10:41:38.915Z"
   },
   {
    "duration": 37,
    "start_time": "2024-04-06T10:41:39.010Z"
   },
   {
    "duration": 4,
    "start_time": "2024-04-06T10:41:39.049Z"
   },
   {
    "duration": 7,
    "start_time": "2024-04-06T10:41:39.055Z"
   },
   {
    "duration": 17,
    "start_time": "2024-04-06T10:41:39.063Z"
   },
   {
    "duration": 11,
    "start_time": "2024-04-06T10:41:39.082Z"
   },
   {
    "duration": 15,
    "start_time": "2024-04-06T10:41:39.096Z"
   },
   {
    "duration": 22,
    "start_time": "2024-04-06T10:41:39.112Z"
   },
   {
    "duration": 619,
    "start_time": "2024-04-06T10:41:39.135Z"
   },
   {
    "duration": 1151,
    "start_time": "2024-04-06T10:41:39.756Z"
   },
   {
    "duration": 306,
    "start_time": "2024-04-06T10:41:40.908Z"
   },
   {
    "duration": 273,
    "start_time": "2024-04-06T10:41:41.215Z"
   },
   {
    "duration": 172,
    "start_time": "2024-04-06T10:41:41.490Z"
   },
   {
    "duration": 172,
    "start_time": "2024-04-06T10:41:41.663Z"
   },
   {
    "duration": 164,
    "start_time": "2024-04-06T10:41:41.837Z"
   },
   {
    "duration": 3,
    "start_time": "2024-04-06T10:42:15.582Z"
   },
   {
    "duration": 3,
    "start_time": "2024-04-06T10:43:16.211Z"
   },
   {
    "duration": 61,
    "start_time": "2024-04-06T10:43:17.539Z"
   },
   {
    "duration": 3,
    "start_time": "2024-04-06T10:43:33.785Z"
   },
   {
    "duration": 4,
    "start_time": "2024-04-06T10:45:48.969Z"
   },
   {
    "duration": 3,
    "start_time": "2024-04-06T10:45:53.903Z"
   },
   {
    "duration": 3,
    "start_time": "2024-04-06T10:45:59.627Z"
   },
   {
    "duration": 52,
    "start_time": "2024-04-06T10:46:40.011Z"
   },
   {
    "duration": 161,
    "start_time": "2024-04-06T10:47:36.241Z"
   },
   {
    "duration": 165,
    "start_time": "2024-04-06T10:48:32.953Z"
   },
   {
    "duration": 155,
    "start_time": "2024-04-06T10:49:12.079Z"
   },
   {
    "duration": 2,
    "start_time": "2024-04-06T10:49:18.953Z"
   },
   {
    "duration": 53,
    "start_time": "2024-04-06T10:49:19.879Z"
   },
   {
    "duration": 150,
    "start_time": "2024-04-06T10:49:31.652Z"
   },
   {
    "duration": 156,
    "start_time": "2024-04-06T10:50:39.493Z"
   },
   {
    "duration": 139,
    "start_time": "2024-04-06T10:51:59.299Z"
   },
   {
    "duration": 155,
    "start_time": "2024-04-06T10:52:08.255Z"
   },
   {
    "duration": 157,
    "start_time": "2024-04-06T10:52:21.303Z"
   },
   {
    "duration": 140,
    "start_time": "2024-04-06T10:53:08.212Z"
   },
   {
    "duration": 149,
    "start_time": "2024-04-06T10:53:48.087Z"
   },
   {
    "duration": 184,
    "start_time": "2024-04-06T10:55:00.878Z"
   },
   {
    "duration": 144,
    "start_time": "2024-04-06T10:55:13.343Z"
   },
   {
    "duration": 3,
    "start_time": "2024-04-06T10:55:34.782Z"
   },
   {
    "duration": 3,
    "start_time": "2024-04-06T10:55:34.787Z"
   },
   {
    "duration": 2064,
    "start_time": "2024-04-06T10:55:34.792Z"
   },
   {
    "duration": 4,
    "start_time": "2024-04-06T10:55:36.858Z"
   },
   {
    "duration": 35,
    "start_time": "2024-04-06T10:55:36.863Z"
   },
   {
    "duration": 36,
    "start_time": "2024-04-06T10:55:36.899Z"
   },
   {
    "duration": 5,
    "start_time": "2024-04-06T10:55:36.937Z"
   },
   {
    "duration": 3,
    "start_time": "2024-04-06T10:55:36.944Z"
   },
   {
    "duration": 5,
    "start_time": "2024-04-06T10:55:36.949Z"
   },
   {
    "duration": 14,
    "start_time": "2024-04-06T10:55:36.956Z"
   },
   {
    "duration": 11,
    "start_time": "2024-04-06T10:55:36.981Z"
   },
   {
    "duration": 25,
    "start_time": "2024-04-06T10:55:36.994Z"
   },
   {
    "duration": 610,
    "start_time": "2024-04-06T10:55:37.020Z"
   },
   {
    "duration": 1175,
    "start_time": "2024-04-06T10:55:37.633Z"
   },
   {
    "duration": 300,
    "start_time": "2024-04-06T10:55:38.809Z"
   },
   {
    "duration": 284,
    "start_time": "2024-04-06T10:55:39.111Z"
   },
   {
    "duration": 166,
    "start_time": "2024-04-06T10:55:39.397Z"
   },
   {
    "duration": 184,
    "start_time": "2024-04-06T10:55:39.564Z"
   },
   {
    "duration": 145,
    "start_time": "2024-04-06T11:22:33.289Z"
   },
   {
    "duration": 164,
    "start_time": "2024-04-06T11:22:37.253Z"
   },
   {
    "duration": 171,
    "start_time": "2024-04-06T11:23:33.053Z"
   },
   {
    "duration": 155,
    "start_time": "2024-04-06T11:24:49.465Z"
   },
   {
    "duration": 183,
    "start_time": "2024-04-06T11:28:52.963Z"
   },
   {
    "duration": 153,
    "start_time": "2024-04-06T11:31:07.383Z"
   },
   {
    "duration": 174,
    "start_time": "2024-04-06T11:31:15.376Z"
   },
   {
    "duration": 168,
    "start_time": "2024-04-06T11:31:19.800Z"
   },
   {
    "duration": 172,
    "start_time": "2024-04-06T11:31:22.680Z"
   },
   {
    "duration": 6,
    "start_time": "2024-04-06T11:43:17.632Z"
   },
   {
    "duration": 175,
    "start_time": "2024-04-06T11:51:11.854Z"
   },
   {
    "duration": 174,
    "start_time": "2024-04-06T11:51:17.667Z"
   },
   {
    "duration": 4,
    "start_time": "2024-04-06T11:55:15.266Z"
   },
   {
    "duration": 46,
    "start_time": "2024-04-06T11:55:15.271Z"
   },
   {
    "duration": 2123,
    "start_time": "2024-04-06T11:55:15.318Z"
   },
   {
    "duration": 4,
    "start_time": "2024-04-06T11:55:17.443Z"
   },
   {
    "duration": 48,
    "start_time": "2024-04-06T11:55:17.448Z"
   },
   {
    "duration": 45,
    "start_time": "2024-04-06T11:55:17.498Z"
   },
   {
    "duration": 4,
    "start_time": "2024-04-06T11:55:17.545Z"
   },
   {
    "duration": 18,
    "start_time": "2024-04-06T11:55:17.550Z"
   },
   {
    "duration": 12,
    "start_time": "2024-04-06T11:55:17.569Z"
   },
   {
    "duration": 25,
    "start_time": "2024-04-06T11:55:17.584Z"
   },
   {
    "duration": 10,
    "start_time": "2024-04-06T11:55:17.611Z"
   },
   {
    "duration": 18,
    "start_time": "2024-04-06T11:55:17.622Z"
   },
   {
    "duration": 41,
    "start_time": "2024-04-06T11:55:17.641Z"
   },
   {
    "duration": 618,
    "start_time": "2024-04-06T11:55:17.683Z"
   },
   {
    "duration": 1153,
    "start_time": "2024-04-06T11:55:18.303Z"
   },
   {
    "duration": 312,
    "start_time": "2024-04-06T11:55:19.457Z"
   },
   {
    "duration": 289,
    "start_time": "2024-04-06T11:55:19.770Z"
   },
   {
    "duration": 169,
    "start_time": "2024-04-06T11:55:20.061Z"
   },
   {
    "duration": 190,
    "start_time": "2024-04-06T11:55:20.231Z"
   },
   {
    "duration": 4,
    "start_time": "2024-04-06T11:56:33.577Z"
   },
   {
    "duration": 3,
    "start_time": "2024-04-06T11:56:33.582Z"
   },
   {
    "duration": 2105,
    "start_time": "2024-04-06T11:56:33.587Z"
   },
   {
    "duration": 5,
    "start_time": "2024-04-06T11:56:35.693Z"
   },
   {
    "duration": 41,
    "start_time": "2024-04-06T11:56:35.700Z"
   },
   {
    "duration": 38,
    "start_time": "2024-04-06T11:56:35.742Z"
   },
   {
    "duration": 5,
    "start_time": "2024-04-06T11:56:35.782Z"
   },
   {
    "duration": 4,
    "start_time": "2024-04-06T11:56:35.788Z"
   },
   {
    "duration": 17,
    "start_time": "2024-04-06T11:56:35.794Z"
   },
   {
    "duration": 11,
    "start_time": "2024-04-06T11:56:35.813Z"
   },
   {
    "duration": 16,
    "start_time": "2024-04-06T11:56:35.826Z"
   },
   {
    "duration": 8,
    "start_time": "2024-04-06T11:56:35.845Z"
   },
   {
    "duration": 23,
    "start_time": "2024-04-06T11:56:35.883Z"
   },
   {
    "duration": 632,
    "start_time": "2024-04-06T11:56:35.908Z"
   },
   {
    "duration": 1169,
    "start_time": "2024-04-06T11:56:36.541Z"
   },
   {
    "duration": 329,
    "start_time": "2024-04-06T11:56:37.712Z"
   },
   {
    "duration": 321,
    "start_time": "2024-04-06T11:56:38.043Z"
   },
   {
    "duration": 182,
    "start_time": "2024-04-06T11:56:38.366Z"
   },
   {
    "duration": 200,
    "start_time": "2024-04-06T11:56:38.549Z"
   },
   {
    "duration": 4,
    "start_time": "2024-04-06T12:00:29.185Z"
   },
   {
    "duration": 165,
    "start_time": "2024-04-06T12:01:19.481Z"
   },
   {
    "duration": 31,
    "start_time": "2024-04-06T12:01:38.955Z"
   },
   {
    "duration": 1013,
    "start_time": "2024-04-06T12:02:04.159Z"
   },
   {
    "duration": 1203,
    "start_time": "2024-04-06T12:02:59.729Z"
   },
   {
    "duration": 14,
    "start_time": "2024-04-06T12:03:16.008Z"
   },
   {
    "duration": 997,
    "start_time": "2024-04-06T12:03:25.128Z"
   },
   {
    "duration": 1053,
    "start_time": "2024-04-06T12:05:28.757Z"
   },
   {
    "duration": 15,
    "start_time": "2024-04-06T12:09:17.124Z"
   },
   {
    "duration": 14,
    "start_time": "2024-04-06T12:10:00.470Z"
   },
   {
    "duration": 923,
    "start_time": "2024-04-06T12:10:43.044Z"
   },
   {
    "duration": 1007,
    "start_time": "2024-04-06T12:11:04.303Z"
   },
   {
    "duration": 4,
    "start_time": "2024-04-06T12:11:19.786Z"
   },
   {
    "duration": 11,
    "start_time": "2024-04-06T12:11:27.737Z"
   },
   {
    "duration": 728,
    "start_time": "2024-04-06T12:12:23.577Z"
   },
   {
    "duration": 13,
    "start_time": "2024-04-06T12:13:11.013Z"
   },
   {
    "duration": 681,
    "start_time": "2024-04-06T12:13:14.921Z"
   },
   {
    "duration": 195,
    "start_time": "2024-04-06T12:13:59.666Z"
   },
   {
    "duration": 185,
    "start_time": "2024-04-06T12:14:21.159Z"
   },
   {
    "duration": 12,
    "start_time": "2024-04-06T12:14:52.162Z"
   },
   {
    "duration": 3332,
    "start_time": "2024-04-06T12:16:25.874Z"
   },
   {
    "duration": 3,
    "start_time": "2024-04-06T12:16:46.546Z"
   },
   {
    "duration": 9,
    "start_time": "2024-04-06T12:16:46.551Z"
   },
   {
    "duration": 2150,
    "start_time": "2024-04-06T12:16:46.562Z"
   },
   {
    "duration": 4,
    "start_time": "2024-04-06T12:16:48.714Z"
   },
   {
    "duration": 32,
    "start_time": "2024-04-06T12:16:48.719Z"
   },
   {
    "duration": 34,
    "start_time": "2024-04-06T12:16:48.753Z"
   },
   {
    "duration": 4,
    "start_time": "2024-04-06T12:16:48.789Z"
   },
   {
    "duration": 3,
    "start_time": "2024-04-06T12:16:48.794Z"
   },
   {
    "duration": 16,
    "start_time": "2024-04-06T12:16:48.800Z"
   },
   {
    "duration": 10,
    "start_time": "2024-04-06T12:16:48.817Z"
   },
   {
    "duration": 15,
    "start_time": "2024-04-06T12:16:48.829Z"
   },
   {
    "duration": 7,
    "start_time": "2024-04-06T12:16:48.846Z"
   },
   {
    "duration": 43,
    "start_time": "2024-04-06T12:16:48.854Z"
   },
   {
    "duration": 619,
    "start_time": "2024-04-06T12:16:48.898Z"
   },
   {
    "duration": 1136,
    "start_time": "2024-04-06T12:16:49.519Z"
   },
   {
    "duration": 301,
    "start_time": "2024-04-06T12:16:50.657Z"
   },
   {
    "duration": 277,
    "start_time": "2024-04-06T12:16:50.960Z"
   },
   {
    "duration": 166,
    "start_time": "2024-04-06T12:16:51.239Z"
   },
   {
    "duration": 184,
    "start_time": "2024-04-06T12:16:51.406Z"
   },
   {
    "duration": 190,
    "start_time": "2024-04-06T12:16:51.592Z"
   },
   {
    "duration": 0,
    "start_time": "2024-04-06T12:16:51.784Z"
   },
   {
    "duration": 9089,
    "start_time": "2024-04-06T12:17:11.741Z"
   },
   {
    "duration": 511,
    "start_time": "2024-04-06T12:17:20.882Z"
   },
   {
    "duration": 8888,
    "start_time": "2024-04-06T12:25:23.748Z"
   },
   {
    "duration": 501,
    "start_time": "2024-04-06T12:26:14.583Z"
   },
   {
    "duration": 503,
    "start_time": "2024-04-06T12:30:18.793Z"
   },
   {
    "duration": 434,
    "start_time": "2024-04-06T12:30:31.723Z"
   },
   {
    "duration": 3,
    "start_time": "2024-04-06T12:32:07.572Z"
   },
   {
    "duration": 20,
    "start_time": "2024-04-06T12:32:07.577Z"
   },
   {
    "duration": 2099,
    "start_time": "2024-04-06T12:32:07.598Z"
   },
   {
    "duration": 4,
    "start_time": "2024-04-06T12:32:09.699Z"
   },
   {
    "duration": 32,
    "start_time": "2024-04-06T12:32:09.705Z"
   },
   {
    "duration": 34,
    "start_time": "2024-04-06T12:32:09.739Z"
   },
   {
    "duration": 3,
    "start_time": "2024-04-06T12:32:09.775Z"
   },
   {
    "duration": 4,
    "start_time": "2024-04-06T12:32:09.780Z"
   },
   {
    "duration": 17,
    "start_time": "2024-04-06T12:32:09.786Z"
   },
   {
    "duration": 11,
    "start_time": "2024-04-06T12:32:09.805Z"
   },
   {
    "duration": 13,
    "start_time": "2024-04-06T12:32:09.818Z"
   },
   {
    "duration": 7,
    "start_time": "2024-04-06T12:32:09.833Z"
   },
   {
    "duration": 53,
    "start_time": "2024-04-06T12:32:09.842Z"
   },
   {
    "duration": 711,
    "start_time": "2024-04-06T12:32:09.897Z"
   },
   {
    "duration": 1133,
    "start_time": "2024-04-06T12:32:10.610Z"
   },
   {
    "duration": 320,
    "start_time": "2024-04-06T12:32:11.747Z"
   },
   {
    "duration": 318,
    "start_time": "2024-04-06T12:32:12.069Z"
   },
   {
    "duration": 197,
    "start_time": "2024-04-06T12:32:12.388Z"
   },
   {
    "duration": 191,
    "start_time": "2024-04-06T12:32:12.587Z"
   },
   {
    "duration": 9167,
    "start_time": "2024-04-06T12:32:12.781Z"
   },
   {
    "duration": 530,
    "start_time": "2024-04-06T12:32:21.950Z"
   },
   {
    "duration": 4,
    "start_time": "2024-04-06T12:37:57.124Z"
   },
   {
    "duration": 2,
    "start_time": "2024-04-06T12:37:57.130Z"
   },
   {
    "duration": 1989,
    "start_time": "2024-04-06T12:37:57.133Z"
   },
   {
    "duration": 4,
    "start_time": "2024-04-06T12:37:59.124Z"
   },
   {
    "duration": 31,
    "start_time": "2024-04-06T12:37:59.130Z"
   },
   {
    "duration": 40,
    "start_time": "2024-04-06T12:37:59.163Z"
   },
   {
    "duration": 4,
    "start_time": "2024-04-06T12:37:59.205Z"
   },
   {
    "duration": 3,
    "start_time": "2024-04-06T12:37:59.210Z"
   },
   {
    "duration": 11,
    "start_time": "2024-04-06T12:37:59.214Z"
   },
   {
    "duration": 9,
    "start_time": "2024-04-06T12:37:59.228Z"
   },
   {
    "duration": 10,
    "start_time": "2024-04-06T12:37:59.238Z"
   },
   {
    "duration": 5,
    "start_time": "2024-04-06T12:37:59.249Z"
   },
   {
    "duration": 21,
    "start_time": "2024-04-06T12:37:59.282Z"
   },
   {
    "duration": 597,
    "start_time": "2024-04-06T12:37:59.305Z"
   },
   {
    "duration": 1110,
    "start_time": "2024-04-06T12:37:59.904Z"
   },
   {
    "duration": 312,
    "start_time": "2024-04-06T12:38:01.016Z"
   },
   {
    "duration": 287,
    "start_time": "2024-04-06T12:38:01.330Z"
   },
   {
    "duration": 175,
    "start_time": "2024-04-06T12:38:01.618Z"
   },
   {
    "duration": 188,
    "start_time": "2024-04-06T12:38:01.794Z"
   },
   {
    "duration": 9619,
    "start_time": "2024-04-06T12:38:01.983Z"
   },
   {
    "duration": 594,
    "start_time": "2024-04-06T12:38:11.605Z"
   },
   {
    "duration": 26051,
    "start_time": "2024-04-06T15:07:00.469Z"
   },
   {
    "duration": 3573,
    "start_time": "2024-04-06T15:07:27.483Z"
   },
   {
    "duration": 4,
    "start_time": "2024-04-06T15:07:47.735Z"
   },
   {
    "duration": 3,
    "start_time": "2024-04-06T15:07:47.741Z"
   },
   {
    "duration": 2597,
    "start_time": "2024-04-06T15:07:47.746Z"
   },
   {
    "duration": 5,
    "start_time": "2024-04-06T15:07:50.346Z"
   },
   {
    "duration": 95,
    "start_time": "2024-04-06T15:07:50.352Z"
   },
   {
    "duration": 44,
    "start_time": "2024-04-06T15:07:50.449Z"
   },
   {
    "duration": 6,
    "start_time": "2024-04-06T15:07:50.495Z"
   },
   {
    "duration": 4,
    "start_time": "2024-04-06T15:07:50.502Z"
   },
   {
    "duration": 15,
    "start_time": "2024-04-06T15:07:50.507Z"
   },
   {
    "duration": 10,
    "start_time": "2024-04-06T15:07:50.525Z"
   },
   {
    "duration": 44,
    "start_time": "2024-04-06T15:07:50.536Z"
   },
   {
    "duration": 31,
    "start_time": "2024-04-06T15:07:50.581Z"
   },
   {
    "duration": 32,
    "start_time": "2024-04-06T15:07:50.614Z"
   },
   {
    "duration": 634,
    "start_time": "2024-04-06T15:07:50.647Z"
   },
   {
    "duration": 1181,
    "start_time": "2024-04-06T15:07:51.283Z"
   },
   {
    "duration": 325,
    "start_time": "2024-04-06T15:07:52.466Z"
   },
   {
    "duration": 1808,
    "start_time": "2024-04-06T15:07:52.793Z"
   },
   {
    "duration": 1376,
    "start_time": "2024-04-06T15:07:54.604Z"
   },
   {
    "duration": 1717,
    "start_time": "2024-04-06T15:07:55.982Z"
   },
   {
    "duration": 10378,
    "start_time": "2024-04-06T15:07:57.701Z"
   },
   {
    "duration": 667,
    "start_time": "2024-04-06T15:08:08.082Z"
   },
   {
    "duration": 87,
    "start_time": "2024-04-06T15:12:41.635Z"
   },
   {
    "duration": 189,
    "start_time": "2024-04-06T15:12:59.159Z"
   },
   {
    "duration": 183,
    "start_time": "2024-04-06T15:13:51.232Z"
   },
   {
    "duration": 183,
    "start_time": "2024-04-06T15:14:50.940Z"
   },
   {
    "duration": 181,
    "start_time": "2024-04-06T15:15:02.518Z"
   },
   {
    "duration": 183,
    "start_time": "2024-04-06T15:15:12.875Z"
   },
   {
    "duration": 28,
    "start_time": "2024-04-06T16:12:39.553Z"
   },
   {
    "duration": 34,
    "start_time": "2024-04-06T16:12:45.230Z"
   },
   {
    "duration": 6,
    "start_time": "2024-04-06T16:12:48.671Z"
   },
   {
    "duration": 15,
    "start_time": "2024-04-06T16:12:52.280Z"
   },
   {
    "duration": 5,
    "start_time": "2024-04-06T16:13:11.168Z"
   },
   {
    "duration": 11,
    "start_time": "2024-04-06T16:13:47.688Z"
   },
   {
    "duration": 6,
    "start_time": "2024-04-06T16:13:58.806Z"
   },
   {
    "duration": 26,
    "start_time": "2024-04-06T16:14:04.921Z"
   },
   {
    "duration": 4,
    "start_time": "2024-04-06T16:14:24.944Z"
   },
   {
    "duration": 590,
    "start_time": "2024-04-06T16:15:10.980Z"
   },
   {
    "duration": 1305,
    "start_time": "2024-04-06T16:16:04.515Z"
   },
   {
    "duration": 322,
    "start_time": "2024-04-06T16:17:12.711Z"
   },
   {
    "duration": 4,
    "start_time": "2024-04-06T16:17:33.572Z"
   },
   {
    "duration": 173,
    "start_time": "2024-04-06T16:22:02.469Z"
   },
   {
    "duration": 176,
    "start_time": "2024-04-06T16:22:06.802Z"
   },
   {
    "duration": 315,
    "start_time": "2024-04-06T16:22:09.103Z"
   },
   {
    "duration": 184,
    "start_time": "2024-04-06T16:22:12.275Z"
   },
   {
    "duration": 9593,
    "start_time": "2024-04-06T16:22:15.282Z"
   },
   {
    "duration": 753,
    "start_time": "2024-04-06T16:22:26.822Z"
   },
   {
    "duration": 4,
    "start_time": "2024-04-06T16:23:16.539Z"
   },
   {
    "duration": 4,
    "start_time": "2024-04-06T16:23:30.838Z"
   },
   {
    "duration": 3,
    "start_time": "2024-04-06T16:23:53.946Z"
   },
   {
    "duration": 623,
    "start_time": "2024-04-06T16:24:01.971Z"
   },
   {
    "duration": 479,
    "start_time": "2024-04-06T16:24:06.983Z"
   },
   {
    "duration": 12,
    "start_time": "2024-04-06T16:28:31.081Z"
   },
   {
    "duration": 4,
    "start_time": "2024-04-06T16:28:34.449Z"
   },
   {
    "duration": 11,
    "start_time": "2024-04-06T16:28:52.874Z"
   },
   {
    "duration": 179,
    "start_time": "2024-04-06T16:43:06.320Z"
   },
   {
    "duration": 9,
    "start_time": "2024-04-06T16:43:56.608Z"
   },
   {
    "duration": 11,
    "start_time": "2024-04-06T16:43:59.054Z"
   },
   {
    "duration": 10,
    "start_time": "2024-04-06T16:56:41.198Z"
   },
   {
    "duration": 3,
    "start_time": "2024-04-06T16:56:46.909Z"
   },
   {
    "duration": 17,
    "start_time": "2024-04-06T16:56:51.725Z"
   },
   {
    "duration": 6761,
    "start_time": "2024-04-06T16:57:47.373Z"
   },
   {
    "duration": 4,
    "start_time": "2024-04-06T16:58:19.864Z"
   },
   {
    "duration": 10,
    "start_time": "2024-04-06T16:58:19.870Z"
   },
   {
    "duration": 8,
    "start_time": "2024-04-06T16:58:19.882Z"
   },
   {
    "duration": 2334,
    "start_time": "2024-04-06T16:58:19.892Z"
   },
   {
    "duration": 5,
    "start_time": "2024-04-06T16:58:22.227Z"
   },
   {
    "duration": 42,
    "start_time": "2024-04-06T16:58:22.233Z"
   },
   {
    "duration": 35,
    "start_time": "2024-04-06T16:58:22.277Z"
   },
   {
    "duration": 17,
    "start_time": "2024-04-06T16:58:22.314Z"
   },
   {
    "duration": 16,
    "start_time": "2024-04-06T16:58:22.333Z"
   },
   {
    "duration": 23,
    "start_time": "2024-04-06T16:58:22.351Z"
   },
   {
    "duration": 10,
    "start_time": "2024-04-06T16:58:22.376Z"
   },
   {
    "duration": 25,
    "start_time": "2024-04-06T16:58:22.388Z"
   },
   {
    "duration": 663,
    "start_time": "2024-04-06T16:58:22.415Z"
   },
   {
    "duration": 1260,
    "start_time": "2024-04-06T16:58:23.079Z"
   },
   {
    "duration": 449,
    "start_time": "2024-04-06T16:58:24.341Z"
   },
   {
    "duration": 180,
    "start_time": "2024-04-06T16:58:24.791Z"
   },
   {
    "duration": 180,
    "start_time": "2024-04-06T16:58:24.972Z"
   },
   {
    "duration": 197,
    "start_time": "2024-04-06T16:58:25.154Z"
   },
   {
    "duration": 201,
    "start_time": "2024-04-06T16:58:25.353Z"
   },
   {
    "duration": 10742,
    "start_time": "2024-04-06T16:58:25.556Z"
   },
   {
    "duration": 619,
    "start_time": "2024-04-06T16:58:36.300Z"
   },
   {
    "duration": 4,
    "start_time": "2024-04-06T16:58:36.921Z"
   },
   {
    "duration": 7,
    "start_time": "2024-04-06T16:58:36.927Z"
   },
   {
    "duration": 12,
    "start_time": "2024-04-06T16:58:36.938Z"
   },
   {
    "duration": 32,
    "start_time": "2024-04-06T16:58:36.952Z"
   },
   {
    "duration": 10,
    "start_time": "2024-04-06T16:58:36.986Z"
   },
   {
    "duration": 13,
    "start_time": "2024-04-06T16:58:36.997Z"
   },
   {
    "duration": 11,
    "start_time": "2024-04-06T16:58:37.011Z"
   },
   {
    "duration": 23,
    "start_time": "2024-04-06T16:58:37.024Z"
   },
   {
    "duration": 16,
    "start_time": "2024-04-06T17:01:14.906Z"
   },
   {
    "duration": 63,
    "start_time": "2024-04-06T17:02:12.046Z"
   },
   {
    "duration": 130,
    "start_time": "2024-04-06T17:02:29.216Z"
   },
   {
    "duration": 55,
    "start_time": "2024-04-06T17:03:52.244Z"
   },
   {
    "duration": 5,
    "start_time": "2024-04-06T17:04:08.951Z"
   },
   {
    "duration": 9,
    "start_time": "2024-04-06T17:04:08.959Z"
   },
   {
    "duration": 8,
    "start_time": "2024-04-06T17:04:08.971Z"
   },
   {
    "duration": 2494,
    "start_time": "2024-04-06T17:04:08.982Z"
   },
   {
    "duration": 6,
    "start_time": "2024-04-06T17:04:11.479Z"
   },
   {
    "duration": 31,
    "start_time": "2024-04-06T17:04:11.487Z"
   },
   {
    "duration": 37,
    "start_time": "2024-04-06T17:04:11.520Z"
   },
   {
    "duration": 5,
    "start_time": "2024-04-06T17:04:11.558Z"
   },
   {
    "duration": 18,
    "start_time": "2024-04-06T17:04:11.564Z"
   },
   {
    "duration": 20,
    "start_time": "2024-04-06T17:04:11.584Z"
   },
   {
    "duration": 7,
    "start_time": "2024-04-06T17:04:11.607Z"
   },
   {
    "duration": 34,
    "start_time": "2024-04-06T17:04:11.616Z"
   },
   {
    "duration": 792,
    "start_time": "2024-04-06T17:04:11.651Z"
   },
   {
    "duration": 1329,
    "start_time": "2024-04-06T17:04:12.446Z"
   },
   {
    "duration": 479,
    "start_time": "2024-04-06T17:04:13.786Z"
   },
   {
    "duration": 197,
    "start_time": "2024-04-06T17:04:14.267Z"
   },
   {
    "duration": 202,
    "start_time": "2024-04-06T17:04:14.465Z"
   },
   {
    "duration": 210,
    "start_time": "2024-04-06T17:04:14.673Z"
   },
   {
    "duration": 251,
    "start_time": "2024-04-06T17:04:14.885Z"
   },
   {
    "duration": 11173,
    "start_time": "2024-04-06T17:04:15.138Z"
   },
   {
    "duration": 669,
    "start_time": "2024-04-06T17:04:26.313Z"
   },
   {
    "duration": 4,
    "start_time": "2024-04-06T17:04:26.984Z"
   },
   {
    "duration": 10,
    "start_time": "2024-04-06T17:04:26.991Z"
   },
   {
    "duration": 20,
    "start_time": "2024-04-06T17:04:27.002Z"
   },
   {
    "duration": 13,
    "start_time": "2024-04-06T17:04:27.027Z"
   },
   {
    "duration": 11,
    "start_time": "2024-04-06T17:04:27.041Z"
   },
   {
    "duration": 20,
    "start_time": "2024-04-06T17:04:27.053Z"
   },
   {
    "duration": 18,
    "start_time": "2024-04-06T17:04:27.075Z"
   },
   {
    "duration": 19,
    "start_time": "2024-04-06T17:04:27.095Z"
   },
   {
    "duration": 21,
    "start_time": "2024-04-06T17:04:27.116Z"
   },
   {
    "duration": 24232,
    "start_time": "2024-04-06T20:24:29.614Z"
   },
   {
    "duration": 3407,
    "start_time": "2024-04-06T20:24:58.222Z"
   },
   {
    "duration": 6691,
    "start_time": "2024-04-06T20:25:01.631Z"
   },
   {
    "duration": 3,
    "start_time": "2024-04-06T20:25:26.843Z"
   },
   {
    "duration": 3570,
    "start_time": "2024-04-06T20:25:26.864Z"
   },
   {
    "duration": 85,
    "start_time": "2024-04-06T20:25:30.436Z"
   },
   {
    "duration": 2520,
    "start_time": "2024-04-06T20:25:30.523Z"
   },
   {
    "duration": 5,
    "start_time": "2024-04-06T20:25:33.045Z"
   },
   {
    "duration": 92,
    "start_time": "2024-04-06T20:25:33.052Z"
   },
   {
    "duration": 37,
    "start_time": "2024-04-06T20:25:33.146Z"
   },
   {
    "duration": 4,
    "start_time": "2024-04-06T20:25:33.184Z"
   },
   {
    "duration": 10,
    "start_time": "2024-04-06T20:25:33.190Z"
   },
   {
    "duration": 10,
    "start_time": "2024-04-06T20:25:33.202Z"
   },
   {
    "duration": 6,
    "start_time": "2024-04-06T20:25:33.213Z"
   },
   {
    "duration": 51,
    "start_time": "2024-04-06T20:25:33.220Z"
   },
   {
    "duration": 598,
    "start_time": "2024-04-06T20:25:33.273Z"
   },
   {
    "duration": 1043,
    "start_time": "2024-04-06T20:25:33.872Z"
   },
   {
    "duration": 404,
    "start_time": "2024-04-06T20:25:34.917Z"
   },
   {
    "duration": 158,
    "start_time": "2024-04-06T20:25:35.323Z"
   },
   {
    "duration": 169,
    "start_time": "2024-04-06T20:25:35.483Z"
   },
   {
    "duration": 171,
    "start_time": "2024-04-06T20:25:35.654Z"
   },
   {
    "duration": 202,
    "start_time": "2024-04-06T20:25:35.827Z"
   },
   {
    "duration": 9040,
    "start_time": "2024-04-06T20:25:36.030Z"
   },
   {
    "duration": 526,
    "start_time": "2024-04-06T20:25:45.072Z"
   },
   {
    "duration": 4,
    "start_time": "2024-04-06T20:25:45.600Z"
   },
   {
    "duration": 22,
    "start_time": "2024-04-06T20:25:45.605Z"
   },
   {
    "duration": 41,
    "start_time": "2024-04-06T20:25:45.629Z"
   },
   {
    "duration": 36,
    "start_time": "2024-04-06T20:25:45.672Z"
   },
   {
    "duration": 46,
    "start_time": "2024-04-06T20:25:45.710Z"
   },
   {
    "duration": 56,
    "start_time": "2024-04-06T20:25:45.758Z"
   },
   {
    "duration": 51,
    "start_time": "2024-04-06T20:25:45.815Z"
   },
   {
    "duration": 43,
    "start_time": "2024-04-06T20:25:45.868Z"
   },
   {
    "duration": 62,
    "start_time": "2024-04-06T20:25:45.912Z"
   },
   {
    "duration": 2,
    "start_time": "2024-04-06T20:26:36.991Z"
   },
   {
    "duration": 4,
    "start_time": "2024-04-06T20:28:41.438Z"
   },
   {
    "duration": 6,
    "start_time": "2024-04-06T20:28:41.444Z"
   },
   {
    "duration": 6,
    "start_time": "2024-04-06T20:28:41.451Z"
   },
   {
    "duration": 2083,
    "start_time": "2024-04-06T20:28:41.458Z"
   },
   {
    "duration": 4,
    "start_time": "2024-04-06T20:28:43.543Z"
   },
   {
    "duration": 29,
    "start_time": "2024-04-06T20:28:43.548Z"
   },
   {
    "duration": 35,
    "start_time": "2024-04-06T20:28:43.579Z"
   },
   {
    "duration": 4,
    "start_time": "2024-04-06T20:28:43.616Z"
   },
   {
    "duration": 10,
    "start_time": "2024-04-06T20:28:43.621Z"
   },
   {
    "duration": 23,
    "start_time": "2024-04-06T20:28:43.632Z"
   },
   {
    "duration": 14,
    "start_time": "2024-04-06T20:28:43.656Z"
   },
   {
    "duration": 147,
    "start_time": "2024-04-06T20:28:43.671Z"
   },
   {
    "duration": 0,
    "start_time": "2024-04-06T20:28:43.820Z"
   },
   {
    "duration": 0,
    "start_time": "2024-04-06T20:28:43.821Z"
   },
   {
    "duration": 0,
    "start_time": "2024-04-06T20:28:43.822Z"
   },
   {
    "duration": 0,
    "start_time": "2024-04-06T20:28:43.823Z"
   },
   {
    "duration": 0,
    "start_time": "2024-04-06T20:28:43.824Z"
   },
   {
    "duration": 0,
    "start_time": "2024-04-06T20:28:43.825Z"
   },
   {
    "duration": 1,
    "start_time": "2024-04-06T20:28:43.826Z"
   },
   {
    "duration": 0,
    "start_time": "2024-04-06T20:28:43.828Z"
   },
   {
    "duration": 0,
    "start_time": "2024-04-06T20:28:43.829Z"
   },
   {
    "duration": 0,
    "start_time": "2024-04-06T20:28:43.830Z"
   },
   {
    "duration": 0,
    "start_time": "2024-04-06T20:28:43.831Z"
   },
   {
    "duration": 0,
    "start_time": "2024-04-06T20:28:43.832Z"
   },
   {
    "duration": 0,
    "start_time": "2024-04-06T20:28:43.833Z"
   },
   {
    "duration": 0,
    "start_time": "2024-04-06T20:28:43.834Z"
   },
   {
    "duration": 0,
    "start_time": "2024-04-06T20:28:43.835Z"
   },
   {
    "duration": 0,
    "start_time": "2024-04-06T20:28:43.836Z"
   },
   {
    "duration": 0,
    "start_time": "2024-04-06T20:28:43.837Z"
   },
   {
    "duration": 0,
    "start_time": "2024-04-06T20:28:43.870Z"
   },
   {
    "duration": 0,
    "start_time": "2024-04-06T20:28:43.871Z"
   },
   {
    "duration": 0,
    "start_time": "2024-04-06T20:28:43.872Z"
   },
   {
    "duration": 0,
    "start_time": "2024-04-06T20:28:43.873Z"
   },
   {
    "duration": 0,
    "start_time": "2024-04-06T20:28:43.874Z"
   },
   {
    "duration": 27,
    "start_time": "2024-04-06T20:37:25.910Z"
   },
   {
    "duration": 31,
    "start_time": "2024-04-06T20:37:28.518Z"
   },
   {
    "duration": 4,
    "start_time": "2024-04-06T20:37:32.536Z"
   },
   {
    "duration": 11,
    "start_time": "2024-04-06T20:37:35.670Z"
   },
   {
    "duration": 7,
    "start_time": "2024-04-06T20:37:39.456Z"
   },
   {
    "duration": 5,
    "start_time": "2024-04-06T20:37:41.620Z"
   },
   {
    "duration": 4,
    "start_time": "2024-04-06T20:45:15.651Z"
   },
   {
    "duration": 13,
    "start_time": "2024-04-06T20:45:15.657Z"
   },
   {
    "duration": 20,
    "start_time": "2024-04-06T20:45:15.673Z"
   },
   {
    "duration": 2093,
    "start_time": "2024-04-06T20:45:15.694Z"
   },
   {
    "duration": 4,
    "start_time": "2024-04-06T20:45:17.790Z"
   },
   {
    "duration": 52,
    "start_time": "2024-04-06T20:45:17.796Z"
   },
   {
    "duration": 34,
    "start_time": "2024-04-06T20:45:17.850Z"
   },
   {
    "duration": 4,
    "start_time": "2024-04-06T20:45:17.885Z"
   },
   {
    "duration": 23,
    "start_time": "2024-04-06T20:45:17.890Z"
   },
   {
    "duration": 22,
    "start_time": "2024-04-06T20:45:17.915Z"
   },
   {
    "duration": 17,
    "start_time": "2024-04-06T20:45:17.939Z"
   },
   {
    "duration": 11,
    "start_time": "2024-04-06T20:45:17.957Z"
   },
   {
    "duration": 29,
    "start_time": "2024-04-06T20:45:17.969Z"
   },
   {
    "duration": 628,
    "start_time": "2024-04-06T20:45:17.999Z"
   },
   {
    "duration": 1118,
    "start_time": "2024-04-06T20:45:18.628Z"
   },
   {
    "duration": 428,
    "start_time": "2024-04-06T20:45:19.748Z"
   },
   {
    "duration": 174,
    "start_time": "2024-04-06T20:45:20.178Z"
   },
   {
    "duration": 212,
    "start_time": "2024-04-06T20:45:20.354Z"
   },
   {
    "duration": 190,
    "start_time": "2024-04-06T20:45:20.569Z"
   },
   {
    "duration": 182,
    "start_time": "2024-04-06T20:45:20.761Z"
   },
   {
    "duration": 9427,
    "start_time": "2024-04-06T20:45:20.945Z"
   },
   {
    "duration": 587,
    "start_time": "2024-04-06T20:45:30.374Z"
   },
   {
    "duration": 9,
    "start_time": "2024-04-06T20:45:30.962Z"
   },
   {
    "duration": 21,
    "start_time": "2024-04-06T20:45:30.973Z"
   },
   {
    "duration": 59,
    "start_time": "2024-04-06T20:45:30.996Z"
   },
   {
    "duration": 48,
    "start_time": "2024-04-06T20:45:31.057Z"
   },
   {
    "duration": 34,
    "start_time": "2024-04-06T20:45:31.106Z"
   },
   {
    "duration": 40,
    "start_time": "2024-04-06T20:45:31.142Z"
   },
   {
    "duration": 32,
    "start_time": "2024-04-06T20:45:31.185Z"
   },
   {
    "duration": 43,
    "start_time": "2024-04-06T20:45:31.219Z"
   },
   {
    "duration": 40,
    "start_time": "2024-04-06T20:45:31.263Z"
   },
   {
    "duration": 36,
    "start_time": "2024-04-06T20:45:31.304Z"
   },
   {
    "duration": 24146,
    "start_time": "2024-04-07T06:55:20.298Z"
   },
   {
    "duration": 3606,
    "start_time": "2024-04-07T06:55:57.115Z"
   },
   {
    "duration": 6990,
    "start_time": "2024-04-07T06:56:00.724Z"
   },
   {
    "duration": 4,
    "start_time": "2024-04-07T06:56:18.450Z"
   },
   {
    "duration": 21,
    "start_time": "2024-04-07T06:56:18.456Z"
   },
   {
    "duration": 8,
    "start_time": "2024-04-07T06:56:18.479Z"
   },
   {
    "duration": 2505,
    "start_time": "2024-04-07T06:56:18.488Z"
   },
   {
    "duration": 4,
    "start_time": "2024-04-07T06:56:20.996Z"
   },
   {
    "duration": 106,
    "start_time": "2024-04-07T06:56:21.002Z"
   },
   {
    "duration": 41,
    "start_time": "2024-04-07T06:56:21.109Z"
   },
   {
    "duration": 5,
    "start_time": "2024-04-07T06:56:21.151Z"
   },
   {
    "duration": 14,
    "start_time": "2024-04-07T06:56:21.158Z"
   },
   {
    "duration": 7,
    "start_time": "2024-04-07T06:56:21.192Z"
   },
   {
    "duration": 7,
    "start_time": "2024-04-07T06:56:21.201Z"
   },
   {
    "duration": 18,
    "start_time": "2024-04-07T06:56:21.210Z"
   },
   {
    "duration": 30,
    "start_time": "2024-04-07T06:56:21.231Z"
   },
   {
    "duration": 694,
    "start_time": "2024-04-07T06:56:21.263Z"
   },
   {
    "duration": 1191,
    "start_time": "2024-04-07T06:56:21.958Z"
   },
   {
    "duration": 459,
    "start_time": "2024-04-07T06:56:23.151Z"
   },
   {
    "duration": 171,
    "start_time": "2024-04-07T06:56:23.612Z"
   },
   {
    "duration": 178,
    "start_time": "2024-04-07T06:56:23.785Z"
   },
   {
    "duration": 209,
    "start_time": "2024-04-07T06:56:23.965Z"
   },
   {
    "duration": 188,
    "start_time": "2024-04-07T06:56:24.176Z"
   },
   {
    "duration": 10450,
    "start_time": "2024-04-07T06:56:24.365Z"
   },
   {
    "duration": 597,
    "start_time": "2024-04-07T06:56:34.817Z"
   },
   {
    "duration": 4,
    "start_time": "2024-04-07T06:56:35.416Z"
   },
   {
    "duration": 4,
    "start_time": "2024-04-07T06:56:35.423Z"
   },
   {
    "duration": 12,
    "start_time": "2024-04-07T06:56:35.429Z"
   },
   {
    "duration": 13,
    "start_time": "2024-04-07T06:56:35.443Z"
   },
   {
    "duration": 564,
    "start_time": "2024-04-07T06:56:35.458Z"
   },
   {
    "duration": 0,
    "start_time": "2024-04-07T06:56:36.024Z"
   },
   {
    "duration": 0,
    "start_time": "2024-04-07T06:56:36.025Z"
   },
   {
    "duration": 0,
    "start_time": "2024-04-07T06:56:36.026Z"
   },
   {
    "duration": 0,
    "start_time": "2024-04-07T06:56:36.027Z"
   },
   {
    "duration": 0,
    "start_time": "2024-04-07T06:56:36.028Z"
   },
   {
    "duration": 0,
    "start_time": "2024-04-07T06:56:36.029Z"
   },
   {
    "duration": 0,
    "start_time": "2024-04-07T06:56:36.031Z"
   },
   {
    "duration": 376,
    "start_time": "2024-04-07T06:59:09.685Z"
   },
   {
    "duration": 371,
    "start_time": "2024-04-07T06:59:19.118Z"
   },
   {
    "duration": 371,
    "start_time": "2024-04-07T06:59:25.947Z"
   },
   {
    "duration": 5,
    "start_time": "2024-04-07T06:59:50.026Z"
   },
   {
    "duration": 87,
    "start_time": "2024-04-07T07:00:02.716Z"
   },
   {
    "duration": 5,
    "start_time": "2024-04-07T07:00:07.807Z"
   },
   {
    "duration": 420,
    "start_time": "2024-04-07T07:00:48.333Z"
   },
   {
    "duration": 6,
    "start_time": "2024-04-07T07:01:16.655Z"
   },
   {
    "duration": 6,
    "start_time": "2024-04-07T07:01:20.856Z"
   },
   {
    "duration": 4,
    "start_time": "2024-04-07T07:01:55.248Z"
   },
   {
    "duration": 35,
    "start_time": "2024-04-07T07:01:55.254Z"
   },
   {
    "duration": 41,
    "start_time": "2024-04-07T07:01:55.291Z"
   },
   {
    "duration": 2392,
    "start_time": "2024-04-07T07:01:55.335Z"
   },
   {
    "duration": 5,
    "start_time": "2024-04-07T07:01:57.728Z"
   },
   {
    "duration": 96,
    "start_time": "2024-04-07T07:01:57.735Z"
   },
   {
    "duration": 49,
    "start_time": "2024-04-07T07:01:57.832Z"
   },
   {
    "duration": 5,
    "start_time": "2024-04-07T07:01:57.882Z"
   },
   {
    "duration": 23,
    "start_time": "2024-04-07T07:01:57.890Z"
   },
   {
    "duration": 14,
    "start_time": "2024-04-07T07:01:57.916Z"
   },
   {
    "duration": 28,
    "start_time": "2024-04-07T07:01:57.932Z"
   },
   {
    "duration": 20,
    "start_time": "2024-04-07T07:01:57.962Z"
   },
   {
    "duration": 46,
    "start_time": "2024-04-07T07:01:57.984Z"
   },
   {
    "duration": 674,
    "start_time": "2024-04-07T07:01:58.032Z"
   },
   {
    "duration": 1230,
    "start_time": "2024-04-07T07:01:58.708Z"
   },
   {
    "duration": 485,
    "start_time": "2024-04-07T07:01:59.940Z"
   },
   {
    "duration": 205,
    "start_time": "2024-04-07T07:02:00.427Z"
   },
   {
    "duration": 195,
    "start_time": "2024-04-07T07:02:00.634Z"
   },
   {
    "duration": 216,
    "start_time": "2024-04-07T07:02:00.831Z"
   },
   {
    "duration": 219,
    "start_time": "2024-04-07T07:02:01.048Z"
   },
   {
    "duration": 10547,
    "start_time": "2024-04-07T07:02:01.269Z"
   },
   {
    "duration": 613,
    "start_time": "2024-04-07T07:02:11.819Z"
   },
   {
    "duration": 4,
    "start_time": "2024-04-07T07:02:12.434Z"
   },
   {
    "duration": 24,
    "start_time": "2024-04-07T07:02:12.440Z"
   },
   {
    "duration": 42,
    "start_time": "2024-04-07T07:02:12.466Z"
   },
   {
    "duration": 25,
    "start_time": "2024-04-07T07:02:12.510Z"
   },
   {
    "duration": 193,
    "start_time": "2024-04-07T07:02:12.537Z"
   },
   {
    "duration": 0,
    "start_time": "2024-04-07T07:02:12.732Z"
   },
   {
    "duration": 0,
    "start_time": "2024-04-07T07:02:12.733Z"
   },
   {
    "duration": 0,
    "start_time": "2024-04-07T07:02:12.735Z"
   },
   {
    "duration": 0,
    "start_time": "2024-04-07T07:02:12.737Z"
   },
   {
    "duration": 0,
    "start_time": "2024-04-07T07:02:12.739Z"
   },
   {
    "duration": 0,
    "start_time": "2024-04-07T07:02:12.740Z"
   },
   {
    "duration": 0,
    "start_time": "2024-04-07T07:02:12.742Z"
   },
   {
    "duration": 0,
    "start_time": "2024-04-07T07:02:12.743Z"
   },
   {
    "duration": 8,
    "start_time": "2024-04-07T07:08:28.259Z"
   },
   {
    "duration": 8,
    "start_time": "2024-04-07T07:08:29.993Z"
   },
   {
    "duration": 14,
    "start_time": "2024-04-07T07:13:24.872Z"
   },
   {
    "duration": 4,
    "start_time": "2024-04-07T07:16:38.867Z"
   },
   {
    "duration": 5,
    "start_time": "2024-04-07T07:16:38.874Z"
   },
   {
    "duration": 6,
    "start_time": "2024-04-07T07:16:38.880Z"
   },
   {
    "duration": 2291,
    "start_time": "2024-04-07T07:16:38.889Z"
   },
   {
    "duration": 5,
    "start_time": "2024-04-07T07:16:41.182Z"
   },
   {
    "duration": 42,
    "start_time": "2024-04-07T07:16:41.191Z"
   },
   {
    "duration": 41,
    "start_time": "2024-04-07T07:16:41.235Z"
   },
   {
    "duration": 41,
    "start_time": "2024-04-07T07:16:41.277Z"
   },
   {
    "duration": 51,
    "start_time": "2024-04-07T07:16:41.320Z"
   },
   {
    "duration": 16,
    "start_time": "2024-04-07T07:16:41.373Z"
   },
   {
    "duration": 8,
    "start_time": "2024-04-07T07:16:41.390Z"
   },
   {
    "duration": 9,
    "start_time": "2024-04-07T07:16:41.399Z"
   },
   {
    "duration": 29,
    "start_time": "2024-04-07T07:16:41.410Z"
   },
   {
    "duration": 727,
    "start_time": "2024-04-07T07:16:41.440Z"
   },
   {
    "duration": 1157,
    "start_time": "2024-04-07T07:16:42.168Z"
   },
   {
    "duration": 453,
    "start_time": "2024-04-07T07:16:43.327Z"
   },
   {
    "duration": 169,
    "start_time": "2024-04-07T07:16:43.781Z"
   },
   {
    "duration": 184,
    "start_time": "2024-04-07T07:16:43.951Z"
   },
   {
    "duration": 200,
    "start_time": "2024-04-07T07:16:44.137Z"
   },
   {
    "duration": 180,
    "start_time": "2024-04-07T07:16:44.339Z"
   },
   {
    "duration": 10386,
    "start_time": "2024-04-07T07:16:44.520Z"
   },
   {
    "duration": 608,
    "start_time": "2024-04-07T07:16:54.909Z"
   },
   {
    "duration": 3,
    "start_time": "2024-04-07T07:16:55.519Z"
   },
   {
    "duration": 15,
    "start_time": "2024-04-07T07:16:55.524Z"
   },
   {
    "duration": 9,
    "start_time": "2024-04-07T07:16:55.541Z"
   },
   {
    "duration": 13,
    "start_time": "2024-04-07T07:16:55.551Z"
   },
   {
    "duration": 6,
    "start_time": "2024-04-07T07:16:55.566Z"
   },
   {
    "duration": 20,
    "start_time": "2024-04-07T07:16:55.575Z"
   },
   {
    "duration": 12,
    "start_time": "2024-04-07T07:16:55.597Z"
   },
   {
    "duration": 9,
    "start_time": "2024-04-07T07:16:55.610Z"
   },
   {
    "duration": 7,
    "start_time": "2024-04-07T07:16:55.621Z"
   },
   {
    "duration": 13,
    "start_time": "2024-04-07T07:16:55.629Z"
   },
   {
    "duration": 11,
    "start_time": "2024-04-07T07:16:55.644Z"
   },
   {
    "duration": 48,
    "start_time": "2024-04-07T07:16:55.657Z"
   },
   {
    "duration": 23632,
    "start_time": "2024-04-07T14:43:20.270Z"
   },
   {
    "duration": 3024,
    "start_time": "2024-04-07T14:43:45.225Z"
   },
   {
    "duration": 6700,
    "start_time": "2024-04-07T14:43:48.252Z"
   },
   {
    "duration": 3,
    "start_time": "2024-04-07T14:44:13.084Z"
   },
   {
    "duration": 3,
    "start_time": "2024-04-07T14:44:13.089Z"
   },
   {
    "duration": 4,
    "start_time": "2024-04-07T14:44:13.094Z"
   },
   {
    "duration": 2411,
    "start_time": "2024-04-07T14:44:13.099Z"
   },
   {
    "duration": 4,
    "start_time": "2024-04-07T14:44:15.513Z"
   },
   {
    "duration": 150,
    "start_time": "2024-04-07T14:44:15.518Z"
   },
   {
    "duration": 39,
    "start_time": "2024-04-07T14:44:15.670Z"
   },
   {
    "duration": 4,
    "start_time": "2024-04-07T14:44:15.710Z"
   },
   {
    "duration": 52,
    "start_time": "2024-04-07T14:44:15.716Z"
   },
   {
    "duration": 69,
    "start_time": "2024-04-07T14:44:15.769Z"
   },
   {
    "duration": 10,
    "start_time": "2024-04-07T14:44:15.840Z"
   },
   {
    "duration": 13,
    "start_time": "2024-04-07T14:44:15.851Z"
   },
   {
    "duration": 41,
    "start_time": "2024-04-07T14:44:15.866Z"
   },
   {
    "duration": 625,
    "start_time": "2024-04-07T14:44:15.909Z"
   },
   {
    "duration": 1117,
    "start_time": "2024-04-07T14:44:16.535Z"
   },
   {
    "duration": 430,
    "start_time": "2024-04-07T14:44:17.654Z"
   },
   {
    "duration": 173,
    "start_time": "2024-04-07T14:44:18.086Z"
   },
   {
    "duration": 174,
    "start_time": "2024-04-07T14:44:18.261Z"
   },
   {
    "duration": 186,
    "start_time": "2024-04-07T14:44:18.437Z"
   },
   {
    "duration": 174,
    "start_time": "2024-04-07T14:44:18.625Z"
   },
   {
    "duration": 9708,
    "start_time": "2024-04-07T14:44:18.801Z"
   },
   {
    "duration": 539,
    "start_time": "2024-04-07T14:44:28.571Z"
   },
   {
    "duration": 4,
    "start_time": "2024-04-07T14:44:29.112Z"
   },
   {
    "duration": 6,
    "start_time": "2024-04-07T14:44:29.117Z"
   },
   {
    "duration": 8,
    "start_time": "2024-04-07T14:44:29.126Z"
   },
   {
    "duration": 14,
    "start_time": "2024-04-07T14:44:29.135Z"
   },
   {
    "duration": 20,
    "start_time": "2024-04-07T14:44:29.150Z"
   },
   {
    "duration": 12,
    "start_time": "2024-04-07T14:44:29.172Z"
   },
   {
    "duration": 22,
    "start_time": "2024-04-07T14:44:29.188Z"
   },
   {
    "duration": 9,
    "start_time": "2024-04-07T14:44:29.212Z"
   },
   {
    "duration": 6,
    "start_time": "2024-04-07T14:44:29.222Z"
   },
   {
    "duration": 16,
    "start_time": "2024-04-07T14:44:29.230Z"
   },
   {
    "duration": 25,
    "start_time": "2024-04-07T14:44:29.248Z"
   },
   {
    "duration": 19,
    "start_time": "2024-04-07T14:44:29.275Z"
   },
   {
    "duration": 178,
    "start_time": "2024-04-07T14:44:29.296Z"
   },
   {
    "duration": 14,
    "start_time": "2024-04-07T15:30:53.068Z"
   },
   {
    "duration": 7,
    "start_time": "2024-04-07T15:30:58.127Z"
   },
   {
    "duration": 506,
    "start_time": "2024-04-07T15:31:05.730Z"
   },
   {
    "duration": 5,
    "start_time": "2024-04-07T15:31:37.130Z"
   },
   {
    "duration": 126,
    "start_time": "2024-04-07T15:31:49.056Z"
   },
   {
    "duration": 124,
    "start_time": "2024-04-07T15:32:16.130Z"
   },
   {
    "duration": 5,
    "start_time": "2024-04-07T15:33:34.891Z"
   },
   {
    "duration": 125,
    "start_time": "2024-04-07T15:34:33.689Z"
   },
   {
    "duration": 4,
    "start_time": "2024-04-07T15:34:41.521Z"
   },
   {
    "duration": 121,
    "start_time": "2024-04-07T15:37:30.632Z"
   },
   {
    "duration": 347,
    "start_time": "2024-04-07T15:37:36.699Z"
   },
   {
    "duration": 4,
    "start_time": "2024-04-07T15:40:34.587Z"
   },
   {
    "duration": 17,
    "start_time": "2024-04-07T15:40:34.594Z"
   },
   {
    "duration": 30,
    "start_time": "2024-04-07T15:40:34.612Z"
   },
   {
    "duration": 2222,
    "start_time": "2024-04-07T15:40:34.644Z"
   },
   {
    "duration": 4,
    "start_time": "2024-04-07T15:40:36.868Z"
   },
   {
    "duration": 35,
    "start_time": "2024-04-07T15:40:36.874Z"
   },
   {
    "duration": 37,
    "start_time": "2024-04-07T15:40:36.911Z"
   },
   {
    "duration": 5,
    "start_time": "2024-04-07T15:40:36.950Z"
   },
   {
    "duration": 31,
    "start_time": "2024-04-07T15:40:36.957Z"
   },
   {
    "duration": 15,
    "start_time": "2024-04-07T15:40:36.990Z"
   },
   {
    "duration": 6,
    "start_time": "2024-04-07T15:40:37.006Z"
   },
   {
    "duration": 13,
    "start_time": "2024-04-07T15:40:37.014Z"
   },
   {
    "duration": 29,
    "start_time": "2024-04-07T15:40:37.029Z"
   },
   {
    "duration": 652,
    "start_time": "2024-04-07T15:40:37.060Z"
   },
   {
    "duration": 1173,
    "start_time": "2024-04-07T15:40:37.715Z"
   },
   {
    "duration": 428,
    "start_time": "2024-04-07T15:40:38.890Z"
   },
   {
    "duration": 181,
    "start_time": "2024-04-07T15:40:39.319Z"
   },
   {
    "duration": 180,
    "start_time": "2024-04-07T15:40:39.502Z"
   },
   {
    "duration": 188,
    "start_time": "2024-04-07T15:40:39.683Z"
   },
   {
    "duration": 209,
    "start_time": "2024-04-07T15:40:39.873Z"
   },
   {
    "duration": 9894,
    "start_time": "2024-04-07T15:40:40.083Z"
   },
   {
    "duration": 665,
    "start_time": "2024-04-07T15:40:49.980Z"
   },
   {
    "duration": 5,
    "start_time": "2024-04-07T15:40:50.647Z"
   },
   {
    "duration": 8,
    "start_time": "2024-04-07T15:40:50.653Z"
   },
   {
    "duration": 7,
    "start_time": "2024-04-07T15:40:50.669Z"
   },
   {
    "duration": 31,
    "start_time": "2024-04-07T15:40:50.678Z"
   },
   {
    "duration": 14,
    "start_time": "2024-04-07T15:40:50.711Z"
   },
   {
    "duration": 29,
    "start_time": "2024-04-07T15:40:50.727Z"
   },
   {
    "duration": 32,
    "start_time": "2024-04-07T15:40:50.758Z"
   },
   {
    "duration": 11,
    "start_time": "2024-04-07T15:40:50.792Z"
   },
   {
    "duration": 263,
    "start_time": "2024-04-07T15:40:50.805Z"
   },
   {
    "duration": 0,
    "start_time": "2024-04-07T15:40:51.069Z"
   },
   {
    "duration": 0,
    "start_time": "2024-04-07T15:40:51.071Z"
   },
   {
    "duration": 0,
    "start_time": "2024-04-07T15:40:51.072Z"
   },
   {
    "duration": 0,
    "start_time": "2024-04-07T15:40:51.074Z"
   },
   {
    "duration": 0,
    "start_time": "2024-04-07T15:40:51.075Z"
   },
   {
    "duration": 4,
    "start_time": "2024-04-07T15:42:24.250Z"
   },
   {
    "duration": 14,
    "start_time": "2024-04-07T15:42:24.991Z"
   },
   {
    "duration": 11,
    "start_time": "2024-04-07T15:42:26.316Z"
   },
   {
    "duration": 15,
    "start_time": "2024-04-07T15:42:27.100Z"
   },
   {
    "duration": 6,
    "start_time": "2024-04-07T15:42:29.640Z"
   },
   {
    "duration": 613,
    "start_time": "2024-04-07T15:42:30.166Z"
   },
   {
    "duration": 18,
    "start_time": "2024-04-07T15:45:07.059Z"
   },
   {
    "duration": 2693,
    "start_time": "2024-04-07T15:48:27.678Z"
   },
   {
    "duration": 7,
    "start_time": "2024-04-07T15:49:59.080Z"
   },
   {
    "duration": 20,
    "start_time": "2024-04-07T15:51:41.208Z"
   },
   {
    "duration": 27,
    "start_time": "2024-04-07T15:52:07.194Z"
   },
   {
    "duration": 5,
    "start_time": "2024-04-07T15:52:29.671Z"
   },
   {
    "duration": 5,
    "start_time": "2024-04-07T15:52:43.384Z"
   },
   {
    "duration": 4,
    "start_time": "2024-04-07T16:03:43.468Z"
   },
   {
    "duration": 3,
    "start_time": "2024-04-07T16:03:43.475Z"
   },
   {
    "duration": 5,
    "start_time": "2024-04-07T16:03:43.480Z"
   },
   {
    "duration": 2217,
    "start_time": "2024-04-07T16:03:43.486Z"
   },
   {
    "duration": 4,
    "start_time": "2024-04-07T16:03:45.705Z"
   },
   {
    "duration": 31,
    "start_time": "2024-04-07T16:03:45.712Z"
   },
   {
    "duration": 36,
    "start_time": "2024-04-07T16:03:45.745Z"
   },
   {
    "duration": 4,
    "start_time": "2024-04-07T16:03:45.783Z"
   },
   {
    "duration": 14,
    "start_time": "2024-04-07T16:03:45.788Z"
   },
   {
    "duration": 9,
    "start_time": "2024-04-07T16:03:45.803Z"
   },
   {
    "duration": 5,
    "start_time": "2024-04-07T16:03:45.813Z"
   },
   {
    "duration": 12,
    "start_time": "2024-04-07T16:03:45.819Z"
   },
   {
    "duration": 45,
    "start_time": "2024-04-07T16:03:45.832Z"
   },
   {
    "duration": 650,
    "start_time": "2024-04-07T16:03:45.879Z"
   },
   {
    "duration": 1144,
    "start_time": "2024-04-07T16:03:46.532Z"
   },
   {
    "duration": 401,
    "start_time": "2024-04-07T16:03:47.678Z"
   },
   {
    "duration": 167,
    "start_time": "2024-04-07T16:03:48.081Z"
   },
   {
    "duration": 172,
    "start_time": "2024-04-07T16:03:48.252Z"
   },
   {
    "duration": 182,
    "start_time": "2024-04-07T16:03:48.425Z"
   },
   {
    "duration": 180,
    "start_time": "2024-04-07T16:03:48.609Z"
   },
   {
    "duration": 9481,
    "start_time": "2024-04-07T16:03:48.791Z"
   },
   {
    "duration": 570,
    "start_time": "2024-04-07T16:03:58.274Z"
   },
   {
    "duration": 3,
    "start_time": "2024-04-07T16:03:58.845Z"
   },
   {
    "duration": 7,
    "start_time": "2024-04-07T16:03:58.850Z"
   },
   {
    "duration": 18,
    "start_time": "2024-04-07T16:03:58.858Z"
   },
   {
    "duration": 13,
    "start_time": "2024-04-07T16:03:58.877Z"
   },
   {
    "duration": 7,
    "start_time": "2024-04-07T16:03:58.891Z"
   },
   {
    "duration": 12,
    "start_time": "2024-04-07T16:03:58.900Z"
   },
   {
    "duration": 12,
    "start_time": "2024-04-07T16:03:58.913Z"
   },
   {
    "duration": 7,
    "start_time": "2024-04-07T16:03:58.927Z"
   },
   {
    "duration": 26,
    "start_time": "2024-04-07T16:03:58.936Z"
   },
   {
    "duration": 12,
    "start_time": "2024-04-07T16:03:58.963Z"
   },
   {
    "duration": 9,
    "start_time": "2024-04-07T16:03:58.977Z"
   },
   {
    "duration": 18,
    "start_time": "2024-04-07T16:03:58.988Z"
   },
   {
    "duration": 6,
    "start_time": "2024-04-07T16:03:59.008Z"
   },
   {
    "duration": 2776,
    "start_time": "2024-04-07T16:03:59.015Z"
   },
   {
    "duration": 7,
    "start_time": "2024-04-07T16:04:01.871Z"
   },
   {
    "duration": 36,
    "start_time": "2024-04-07T16:04:01.969Z"
   },
   {
    "duration": 1611,
    "start_time": "2024-04-07T16:04:31.835Z"
   },
   {
    "duration": 3,
    "start_time": "2024-04-07T16:09:46.469Z"
   },
   {
    "duration": 10,
    "start_time": "2024-04-07T16:09:46.474Z"
   },
   {
    "duration": 5,
    "start_time": "2024-04-07T16:09:46.486Z"
   },
   {
    "duration": 2080,
    "start_time": "2024-04-07T16:09:46.493Z"
   },
   {
    "duration": 4,
    "start_time": "2024-04-07T16:09:48.575Z"
   },
   {
    "duration": 31,
    "start_time": "2024-04-07T16:09:48.580Z"
   },
   {
    "duration": 35,
    "start_time": "2024-04-07T16:09:48.613Z"
   },
   {
    "duration": 4,
    "start_time": "2024-04-07T16:09:48.649Z"
   },
   {
    "duration": 16,
    "start_time": "2024-04-07T16:09:48.655Z"
   },
   {
    "duration": 8,
    "start_time": "2024-04-07T16:09:48.673Z"
   },
   {
    "duration": 14,
    "start_time": "2024-04-07T16:09:48.683Z"
   },
   {
    "duration": 20,
    "start_time": "2024-04-07T16:09:48.698Z"
   },
   {
    "duration": 27,
    "start_time": "2024-04-07T16:09:48.719Z"
   },
   {
    "duration": 636,
    "start_time": "2024-04-07T16:09:48.747Z"
   },
   {
    "duration": 1131,
    "start_time": "2024-04-07T16:09:49.385Z"
   },
   {
    "duration": 403,
    "start_time": "2024-04-07T16:09:50.517Z"
   },
   {
    "duration": 153,
    "start_time": "2024-04-07T16:09:50.922Z"
   },
   {
    "duration": 153,
    "start_time": "2024-04-07T16:09:51.076Z"
   },
   {
    "duration": 182,
    "start_time": "2024-04-07T16:09:51.231Z"
   },
   {
    "duration": 188,
    "start_time": "2024-04-07T16:09:51.414Z"
   },
   {
    "duration": 9379,
    "start_time": "2024-04-07T16:09:51.604Z"
   },
   {
    "duration": 702,
    "start_time": "2024-04-07T16:10:00.986Z"
   },
   {
    "duration": 4,
    "start_time": "2024-04-07T16:10:01.691Z"
   },
   {
    "duration": 81,
    "start_time": "2024-04-07T16:10:01.699Z"
   },
   {
    "duration": 63,
    "start_time": "2024-04-07T16:10:01.782Z"
   },
   {
    "duration": 75,
    "start_time": "2024-04-07T16:10:01.847Z"
   },
   {
    "duration": 52,
    "start_time": "2024-04-07T16:10:01.924Z"
   },
   {
    "duration": 91,
    "start_time": "2024-04-07T16:10:01.977Z"
   },
   {
    "duration": 87,
    "start_time": "2024-04-07T16:10:02.069Z"
   },
   {
    "duration": 19,
    "start_time": "2024-04-07T16:10:02.158Z"
   },
   {
    "duration": 29,
    "start_time": "2024-04-07T16:10:02.179Z"
   },
   {
    "duration": 27,
    "start_time": "2024-04-07T16:10:02.210Z"
   },
   {
    "duration": 2739,
    "start_time": "2024-04-07T16:10:02.238Z"
   },
   {
    "duration": 92,
    "start_time": "2024-04-07T16:10:04.981Z"
   },
   {
    "duration": 34,
    "start_time": "2024-04-07T16:10:05.074Z"
   },
   {
    "duration": 171,
    "start_time": "2024-04-07T16:11:21.845Z"
   },
   {
    "duration": 31,
    "start_time": "2024-04-07T16:12:30.289Z"
   },
   {
    "duration": 15,
    "start_time": "2024-04-07T16:12:32.059Z"
   },
   {
    "duration": 11,
    "start_time": "2024-04-07T16:12:56.102Z"
   },
   {
    "duration": 2,
    "start_time": "2024-04-07T16:13:51.496Z"
   },
   {
    "duration": 13,
    "start_time": "2024-04-07T16:13:52.099Z"
   },
   {
    "duration": 17,
    "start_time": "2024-04-07T16:14:22.961Z"
   },
   {
    "duration": 11,
    "start_time": "2024-04-07T16:14:30.673Z"
   },
   {
    "duration": 3,
    "start_time": "2024-04-07T16:16:41.337Z"
   },
   {
    "duration": 15,
    "start_time": "2024-04-07T16:16:41.344Z"
   },
   {
    "duration": 16,
    "start_time": "2024-04-07T16:16:41.361Z"
   },
   {
    "duration": 2189,
    "start_time": "2024-04-07T16:16:41.378Z"
   },
   {
    "duration": 4,
    "start_time": "2024-04-07T16:16:43.569Z"
   },
   {
    "duration": 51,
    "start_time": "2024-04-07T16:16:43.575Z"
   },
   {
    "duration": 33,
    "start_time": "2024-04-07T16:16:43.628Z"
   },
   {
    "duration": 4,
    "start_time": "2024-04-07T16:16:43.662Z"
   },
   {
    "duration": 10,
    "start_time": "2024-04-07T16:16:43.668Z"
   },
   {
    "duration": 9,
    "start_time": "2024-04-07T16:16:43.680Z"
   },
   {
    "duration": 6,
    "start_time": "2024-04-07T16:16:43.691Z"
   },
   {
    "duration": 14,
    "start_time": "2024-04-07T16:16:43.699Z"
   },
   {
    "duration": 26,
    "start_time": "2024-04-07T16:16:43.714Z"
   },
   {
    "duration": 611,
    "start_time": "2024-04-07T16:16:43.742Z"
   },
   {
    "duration": 1129,
    "start_time": "2024-04-07T16:16:44.355Z"
   },
   {
    "duration": 452,
    "start_time": "2024-04-07T16:16:45.485Z"
   },
   {
    "duration": 155,
    "start_time": "2024-04-07T16:16:45.939Z"
   },
   {
    "duration": 173,
    "start_time": "2024-04-07T16:16:46.096Z"
   },
   {
    "duration": 172,
    "start_time": "2024-04-07T16:16:46.271Z"
   },
   {
    "duration": 164,
    "start_time": "2024-04-07T16:16:46.444Z"
   },
   {
    "duration": 9293,
    "start_time": "2024-04-07T16:16:46.610Z"
   },
   {
    "duration": 585,
    "start_time": "2024-04-07T16:16:55.970Z"
   },
   {
    "duration": 5,
    "start_time": "2024-04-07T16:16:56.557Z"
   },
   {
    "duration": 13,
    "start_time": "2024-04-07T16:16:56.569Z"
   },
   {
    "duration": 8,
    "start_time": "2024-04-07T16:16:56.584Z"
   },
   {
    "duration": 20,
    "start_time": "2024-04-07T16:16:56.594Z"
   },
   {
    "duration": 7,
    "start_time": "2024-04-07T16:16:56.616Z"
   },
   {
    "duration": 7,
    "start_time": "2024-04-07T16:16:56.624Z"
   },
   {
    "duration": 14,
    "start_time": "2024-04-07T16:16:56.634Z"
   },
   {
    "duration": 23,
    "start_time": "2024-04-07T16:16:56.649Z"
   },
   {
    "duration": 24,
    "start_time": "2024-04-07T16:16:56.674Z"
   },
   {
    "duration": 20,
    "start_time": "2024-04-07T16:16:56.700Z"
   },
   {
    "duration": 9,
    "start_time": "2024-04-07T16:16:56.722Z"
   },
   {
    "duration": 23,
    "start_time": "2024-04-07T16:16:56.732Z"
   },
   {
    "duration": 33,
    "start_time": "2024-04-07T16:16:56.756Z"
   },
   {
    "duration": 10,
    "start_time": "2024-04-07T16:16:56.791Z"
   },
   {
    "duration": 3,
    "start_time": "2024-04-07T16:21:16.854Z"
   },
   {
    "duration": 9,
    "start_time": "2024-04-07T16:21:16.859Z"
   },
   {
    "duration": 6,
    "start_time": "2024-04-07T16:21:16.869Z"
   },
   {
    "duration": 2178,
    "start_time": "2024-04-07T16:21:16.878Z"
   },
   {
    "duration": 4,
    "start_time": "2024-04-07T16:21:19.058Z"
   },
   {
    "duration": 46,
    "start_time": "2024-04-07T16:21:19.063Z"
   },
   {
    "duration": 36,
    "start_time": "2024-04-07T16:21:19.110Z"
   },
   {
    "duration": 4,
    "start_time": "2024-04-07T16:21:19.148Z"
   },
   {
    "duration": 33,
    "start_time": "2024-04-07T16:21:19.154Z"
   },
   {
    "duration": 15,
    "start_time": "2024-04-07T16:21:19.190Z"
   },
   {
    "duration": 18,
    "start_time": "2024-04-07T16:21:19.207Z"
   },
   {
    "duration": 36,
    "start_time": "2024-04-07T16:21:19.226Z"
   },
   {
    "duration": 33,
    "start_time": "2024-04-07T16:21:19.264Z"
   },
   {
    "duration": 600,
    "start_time": "2024-04-07T16:21:19.298Z"
   },
   {
    "duration": 1142,
    "start_time": "2024-04-07T16:21:19.900Z"
   },
   {
    "duration": 404,
    "start_time": "2024-04-07T16:21:21.044Z"
   },
   {
    "duration": 143,
    "start_time": "2024-04-07T16:21:21.450Z"
   },
   {
    "duration": 144,
    "start_time": "2024-04-07T16:21:21.594Z"
   },
   {
    "duration": 174,
    "start_time": "2024-04-07T16:21:21.740Z"
   },
   {
    "duration": 172,
    "start_time": "2024-04-07T16:21:21.915Z"
   },
   {
    "duration": 9621,
    "start_time": "2024-04-07T16:21:22.088Z"
   },
   {
    "duration": 637,
    "start_time": "2024-04-07T16:21:31.711Z"
   },
   {
    "duration": 4,
    "start_time": "2024-04-07T16:21:32.350Z"
   },
   {
    "duration": 17,
    "start_time": "2024-04-07T16:21:32.355Z"
   },
   {
    "duration": 20,
    "start_time": "2024-04-07T16:21:32.373Z"
   },
   {
    "duration": 26,
    "start_time": "2024-04-07T16:21:32.394Z"
   },
   {
    "duration": 14,
    "start_time": "2024-04-07T16:21:32.422Z"
   },
   {
    "duration": 20,
    "start_time": "2024-04-07T16:21:32.440Z"
   },
   {
    "duration": 16,
    "start_time": "2024-04-07T16:21:32.462Z"
   },
   {
    "duration": 9,
    "start_time": "2024-04-07T16:21:32.480Z"
   },
   {
    "duration": 7,
    "start_time": "2024-04-07T16:21:32.490Z"
   },
   {
    "duration": 14,
    "start_time": "2024-04-07T16:21:32.498Z"
   },
   {
    "duration": 17,
    "start_time": "2024-04-07T16:21:32.513Z"
   },
   {
    "duration": 22,
    "start_time": "2024-04-07T16:21:32.531Z"
   },
   {
    "duration": 33,
    "start_time": "2024-04-07T16:21:32.554Z"
   },
   {
    "duration": 10,
    "start_time": "2024-04-07T16:21:32.588Z"
   },
   {
    "duration": 1597,
    "start_time": "2024-04-07T16:27:03.103Z"
   },
   {
    "duration": 4,
    "start_time": "2024-04-07T16:27:35.739Z"
   },
   {
    "duration": 8,
    "start_time": "2024-04-07T16:27:35.745Z"
   },
   {
    "duration": 5,
    "start_time": "2024-04-07T16:27:35.755Z"
   },
   {
    "duration": 2184,
    "start_time": "2024-04-07T16:27:35.762Z"
   },
   {
    "duration": 4,
    "start_time": "2024-04-07T16:27:37.948Z"
   },
   {
    "duration": 33,
    "start_time": "2024-04-07T16:27:37.954Z"
   },
   {
    "duration": 38,
    "start_time": "2024-04-07T16:27:37.988Z"
   },
   {
    "duration": 4,
    "start_time": "2024-04-07T16:27:38.028Z"
   },
   {
    "duration": 14,
    "start_time": "2024-04-07T16:27:38.033Z"
   },
   {
    "duration": 21,
    "start_time": "2024-04-07T16:27:38.050Z"
   },
   {
    "duration": 10,
    "start_time": "2024-04-07T16:27:38.073Z"
   },
   {
    "duration": 11,
    "start_time": "2024-04-07T16:27:38.085Z"
   },
   {
    "duration": 29,
    "start_time": "2024-04-07T16:27:38.097Z"
   },
   {
    "duration": 624,
    "start_time": "2024-04-07T16:27:38.127Z"
   },
   {
    "duration": 1085,
    "start_time": "2024-04-07T16:27:38.752Z"
   },
   {
    "duration": 434,
    "start_time": "2024-04-07T16:27:39.838Z"
   },
   {
    "duration": 154,
    "start_time": "2024-04-07T16:27:40.274Z"
   },
   {
    "duration": 188,
    "start_time": "2024-04-07T16:27:40.430Z"
   },
   {
    "duration": 163,
    "start_time": "2024-04-07T16:27:40.620Z"
   },
   {
    "duration": 162,
    "start_time": "2024-04-07T16:27:40.784Z"
   },
   {
    "duration": 9228,
    "start_time": "2024-04-07T16:27:40.947Z"
   },
   {
    "duration": 591,
    "start_time": "2024-04-07T16:27:50.178Z"
   },
   {
    "duration": 4,
    "start_time": "2024-04-07T16:27:50.771Z"
   },
   {
    "duration": 8,
    "start_time": "2024-04-07T16:27:50.776Z"
   },
   {
    "duration": 8,
    "start_time": "2024-04-07T16:27:50.785Z"
   },
   {
    "duration": 12,
    "start_time": "2024-04-07T16:27:50.794Z"
   },
   {
    "duration": 10,
    "start_time": "2024-04-07T16:27:50.808Z"
   },
   {
    "duration": 23,
    "start_time": "2024-04-07T16:27:50.822Z"
   },
   {
    "duration": 27,
    "start_time": "2024-04-07T16:27:50.846Z"
   },
   {
    "duration": 28,
    "start_time": "2024-04-07T16:27:50.875Z"
   },
   {
    "duration": 9,
    "start_time": "2024-04-07T16:27:50.905Z"
   },
   {
    "duration": 16,
    "start_time": "2024-04-07T16:27:50.915Z"
   },
   {
    "duration": 19,
    "start_time": "2024-04-07T16:27:50.933Z"
   },
   {
    "duration": 17,
    "start_time": "2024-04-07T16:27:50.953Z"
   },
   {
    "duration": 36,
    "start_time": "2024-04-07T16:27:50.971Z"
   },
   {
    "duration": 11,
    "start_time": "2024-04-07T16:27:51.008Z"
   },
   {
    "duration": 4,
    "start_time": "2024-04-07T16:38:00.721Z"
   },
   {
    "duration": 48,
    "start_time": "2024-04-07T16:38:00.726Z"
   },
   {
    "duration": 30,
    "start_time": "2024-04-07T16:38:00.776Z"
   },
   {
    "duration": 2283,
    "start_time": "2024-04-07T16:38:00.808Z"
   },
   {
    "duration": 4,
    "start_time": "2024-04-07T16:38:03.093Z"
   },
   {
    "duration": 52,
    "start_time": "2024-04-07T16:38:03.098Z"
   },
   {
    "duration": 34,
    "start_time": "2024-04-07T16:38:03.151Z"
   },
   {
    "duration": 3,
    "start_time": "2024-04-07T16:38:03.187Z"
   },
   {
    "duration": 10,
    "start_time": "2024-04-07T16:38:03.192Z"
   },
   {
    "duration": 22,
    "start_time": "2024-04-07T16:38:03.204Z"
   },
   {
    "duration": 9,
    "start_time": "2024-04-07T16:38:03.227Z"
   },
   {
    "duration": 26,
    "start_time": "2024-04-07T16:38:03.238Z"
   },
   {
    "duration": 8,
    "start_time": "2024-04-07T16:38:03.266Z"
   },
   {
    "duration": 34,
    "start_time": "2024-04-07T16:38:03.275Z"
   },
   {
    "duration": 608,
    "start_time": "2024-04-07T16:38:03.311Z"
   },
   {
    "duration": 1118,
    "start_time": "2024-04-07T16:38:03.920Z"
   },
   {
    "duration": 416,
    "start_time": "2024-04-07T16:38:05.040Z"
   },
   {
    "duration": 152,
    "start_time": "2024-04-07T16:38:05.457Z"
   },
   {
    "duration": 146,
    "start_time": "2024-04-07T16:38:05.611Z"
   },
   {
    "duration": 151,
    "start_time": "2024-04-07T16:38:05.759Z"
   },
   {
    "duration": 162,
    "start_time": "2024-04-07T16:38:05.912Z"
   },
   {
    "duration": 9527,
    "start_time": "2024-04-07T16:38:06.075Z"
   },
   {
    "duration": 570,
    "start_time": "2024-04-07T16:38:15.604Z"
   },
   {
    "duration": 4,
    "start_time": "2024-04-07T16:38:16.176Z"
   },
   {
    "duration": 4,
    "start_time": "2024-04-07T16:38:16.181Z"
   },
   {
    "duration": 11,
    "start_time": "2024-04-07T16:38:16.187Z"
   },
   {
    "duration": 12,
    "start_time": "2024-04-07T16:38:16.200Z"
   },
   {
    "duration": 5,
    "start_time": "2024-04-07T16:38:16.215Z"
   },
   {
    "duration": 11,
    "start_time": "2024-04-07T16:38:16.221Z"
   },
   {
    "duration": 14,
    "start_time": "2024-04-07T16:38:16.233Z"
   },
   {
    "duration": 9,
    "start_time": "2024-04-07T16:38:16.269Z"
   },
   {
    "duration": 6,
    "start_time": "2024-04-07T16:38:16.279Z"
   },
   {
    "duration": 22,
    "start_time": "2024-04-07T16:38:16.287Z"
   },
   {
    "duration": 14,
    "start_time": "2024-04-07T16:38:16.310Z"
   },
   {
    "duration": 25,
    "start_time": "2024-04-07T16:38:16.325Z"
   },
   {
    "duration": 40,
    "start_time": "2024-04-07T16:38:16.351Z"
   },
   {
    "duration": 12,
    "start_time": "2024-04-07T16:38:16.392Z"
   },
   {
    "duration": 169,
    "start_time": "2024-04-07T16:42:35.597Z"
   },
   {
    "duration": 10,
    "start_time": "2024-04-07T16:49:42.722Z"
   },
   {
    "duration": 10,
    "start_time": "2024-04-07T16:49:52.098Z"
   },
   {
    "duration": 39,
    "start_time": "2024-04-07T16:56:03.739Z"
   },
   {
    "duration": 266,
    "start_time": "2024-04-07T16:56:06.379Z"
   },
   {
    "duration": 217,
    "start_time": "2024-04-07T16:56:27.485Z"
   },
   {
    "duration": 210,
    "start_time": "2024-04-07T16:56:35.871Z"
   },
   {
    "duration": 197,
    "start_time": "2024-04-07T16:56:44.657Z"
   },
   {
    "duration": 214,
    "start_time": "2024-04-07T16:57:54.049Z"
   },
   {
    "duration": 190,
    "start_time": "2024-04-07T16:58:18.628Z"
   },
   {
    "duration": 323,
    "start_time": "2024-04-07T16:58:38.483Z"
   },
   {
    "duration": 180,
    "start_time": "2024-04-07T17:01:14.158Z"
   },
   {
    "duration": 202,
    "start_time": "2024-04-07T17:01:23.916Z"
   },
   {
    "duration": 4,
    "start_time": "2024-04-07T17:02:07.322Z"
   },
   {
    "duration": 10,
    "start_time": "2024-04-07T17:02:07.328Z"
   },
   {
    "duration": 3,
    "start_time": "2024-04-07T17:02:07.340Z"
   },
   {
    "duration": 2251,
    "start_time": "2024-04-07T17:02:07.345Z"
   },
   {
    "duration": 4,
    "start_time": "2024-04-07T17:02:09.598Z"
   },
   {
    "duration": 29,
    "start_time": "2024-04-07T17:02:09.603Z"
   },
   {
    "duration": 35,
    "start_time": "2024-04-07T17:02:09.633Z"
   },
   {
    "duration": 4,
    "start_time": "2024-04-07T17:02:09.669Z"
   },
   {
    "duration": 12,
    "start_time": "2024-04-07T17:02:09.675Z"
   },
   {
    "duration": 19,
    "start_time": "2024-04-07T17:02:09.690Z"
   },
   {
    "duration": 6,
    "start_time": "2024-04-07T17:02:09.710Z"
   },
   {
    "duration": 7,
    "start_time": "2024-04-07T17:02:09.717Z"
   },
   {
    "duration": 8,
    "start_time": "2024-04-07T17:02:09.726Z"
   },
   {
    "duration": 48,
    "start_time": "2024-04-07T17:02:09.735Z"
   },
   {
    "duration": 649,
    "start_time": "2024-04-07T17:02:09.785Z"
   },
   {
    "duration": 1135,
    "start_time": "2024-04-07T17:02:10.436Z"
   },
   {
    "duration": 410,
    "start_time": "2024-04-07T17:02:11.573Z"
   },
   {
    "duration": 148,
    "start_time": "2024-04-07T17:02:11.984Z"
   },
   {
    "duration": 149,
    "start_time": "2024-04-07T17:02:12.134Z"
   },
   {
    "duration": 160,
    "start_time": "2024-04-07T17:02:12.285Z"
   },
   {
    "duration": 150,
    "start_time": "2024-04-07T17:02:12.447Z"
   },
   {
    "duration": 9705,
    "start_time": "2024-04-07T17:02:12.598Z"
   },
   {
    "duration": 502,
    "start_time": "2024-04-07T17:02:22.373Z"
   },
   {
    "duration": 3,
    "start_time": "2024-04-07T17:02:22.877Z"
   },
   {
    "duration": 16,
    "start_time": "2024-04-07T17:02:22.881Z"
   },
   {
    "duration": 21,
    "start_time": "2024-04-07T17:02:22.898Z"
   },
   {
    "duration": 24,
    "start_time": "2024-04-07T17:02:22.921Z"
   },
   {
    "duration": 10,
    "start_time": "2024-04-07T17:02:22.946Z"
   },
   {
    "duration": 16,
    "start_time": "2024-04-07T17:02:22.958Z"
   },
   {
    "duration": 15,
    "start_time": "2024-04-07T17:02:22.975Z"
   },
   {
    "duration": 8,
    "start_time": "2024-04-07T17:02:22.991Z"
   },
   {
    "duration": 3,
    "start_time": "2024-04-07T17:02:23.001Z"
   },
   {
    "duration": 15,
    "start_time": "2024-04-07T17:02:23.006Z"
   },
   {
    "duration": 25,
    "start_time": "2024-04-07T17:02:23.022Z"
   },
   {
    "duration": 26,
    "start_time": "2024-04-07T17:02:23.049Z"
   },
   {
    "duration": 37,
    "start_time": "2024-04-07T17:02:23.076Z"
   },
   {
    "duration": 197,
    "start_time": "2024-04-07T17:02:23.115Z"
   },
   {
    "duration": 221,
    "start_time": "2024-04-07T17:02:23.314Z"
   },
   {
    "duration": 27665,
    "start_time": "2024-04-08T09:17:31.046Z"
   },
   {
    "duration": 3940,
    "start_time": "2024-04-08T09:17:58.713Z"
   },
   {
    "duration": 7539,
    "start_time": "2024-04-08T09:18:02.655Z"
   },
   {
    "duration": 5,
    "start_time": "2024-04-08T09:18:22.659Z"
   },
   {
    "duration": 3,
    "start_time": "2024-04-08T09:18:22.667Z"
   },
   {
    "duration": 6,
    "start_time": "2024-04-08T09:18:22.671Z"
   },
   {
    "duration": 2810,
    "start_time": "2024-04-08T09:18:22.679Z"
   },
   {
    "duration": 5,
    "start_time": "2024-04-08T09:18:25.491Z"
   },
   {
    "duration": 85,
    "start_time": "2024-04-08T09:18:25.498Z"
   },
   {
    "duration": 60,
    "start_time": "2024-04-08T09:18:25.585Z"
   },
   {
    "duration": 5,
    "start_time": "2024-04-08T09:18:25.647Z"
   },
   {
    "duration": 23,
    "start_time": "2024-04-08T09:18:25.654Z"
   },
   {
    "duration": 10,
    "start_time": "2024-04-08T09:18:25.681Z"
   },
   {
    "duration": 43,
    "start_time": "2024-04-08T09:18:25.693Z"
   },
   {
    "duration": 11,
    "start_time": "2024-04-08T09:18:25.741Z"
   },
   {
    "duration": 11,
    "start_time": "2024-04-08T09:18:25.754Z"
   },
   {
    "duration": 27,
    "start_time": "2024-04-08T09:18:25.768Z"
   },
   {
    "duration": 793,
    "start_time": "2024-04-08T09:18:25.797Z"
   },
   {
    "duration": 1323,
    "start_time": "2024-04-08T09:18:26.591Z"
   },
   {
    "duration": 502,
    "start_time": "2024-04-08T09:18:27.921Z"
   },
   {
    "duration": 221,
    "start_time": "2024-04-08T09:18:28.427Z"
   },
   {
    "duration": 180,
    "start_time": "2024-04-08T09:18:28.650Z"
   },
   {
    "duration": 221,
    "start_time": "2024-04-08T09:18:28.836Z"
   },
   {
    "duration": 211,
    "start_time": "2024-04-08T09:18:29.059Z"
   },
   {
    "duration": 11865,
    "start_time": "2024-04-08T09:18:29.272Z"
   },
   {
    "duration": 691,
    "start_time": "2024-04-08T09:18:41.150Z"
   },
   {
    "duration": 4,
    "start_time": "2024-04-08T09:18:41.843Z"
   },
   {
    "duration": 10,
    "start_time": "2024-04-08T09:18:41.849Z"
   },
   {
    "duration": 14,
    "start_time": "2024-04-08T09:18:41.861Z"
   },
   {
    "duration": 16,
    "start_time": "2024-04-08T09:18:41.877Z"
   },
   {
    "duration": 29,
    "start_time": "2024-04-08T09:18:41.896Z"
   },
   {
    "duration": 6,
    "start_time": "2024-04-08T09:18:41.935Z"
   },
   {
    "duration": 16,
    "start_time": "2024-04-08T09:18:41.943Z"
   },
   {
    "duration": 9,
    "start_time": "2024-04-08T09:18:41.966Z"
   },
   {
    "duration": 5,
    "start_time": "2024-04-08T09:18:41.977Z"
   },
   {
    "duration": 22,
    "start_time": "2024-04-08T09:18:41.983Z"
   },
   {
    "duration": 19,
    "start_time": "2024-04-08T09:18:42.022Z"
   },
   {
    "duration": 23,
    "start_time": "2024-04-08T09:18:42.044Z"
   },
   {
    "duration": 73,
    "start_time": "2024-04-08T09:18:42.069Z"
   },
   {
    "duration": 230,
    "start_time": "2024-04-08T09:18:42.143Z"
   },
   {
    "duration": 237,
    "start_time": "2024-04-08T09:18:42.374Z"
   },
   {
    "duration": 225,
    "start_time": "2024-04-08T09:19:15.858Z"
   },
   {
    "duration": 174,
    "start_time": "2024-04-08T09:19:24.169Z"
   },
   {
    "duration": 264,
    "start_time": "2024-04-08T09:19:27.359Z"
   },
   {
    "duration": 5,
    "start_time": "2024-04-08T09:19:48.884Z"
   },
   {
    "duration": 7,
    "start_time": "2024-04-08T09:24:02.429Z"
   },
   {
    "duration": 31,
    "start_time": "2024-04-08T09:24:02.442Z"
   },
   {
    "duration": 57,
    "start_time": "2024-04-08T09:24:02.476Z"
   },
   {
    "duration": 2403,
    "start_time": "2024-04-08T09:24:02.538Z"
   },
   {
    "duration": 5,
    "start_time": "2024-04-08T09:24:04.944Z"
   },
   {
    "duration": 53,
    "start_time": "2024-04-08T09:24:04.951Z"
   },
   {
    "duration": 47,
    "start_time": "2024-04-08T09:24:05.006Z"
   },
   {
    "duration": 4,
    "start_time": "2024-04-08T09:24:05.055Z"
   },
   {
    "duration": 12,
    "start_time": "2024-04-08T09:24:05.061Z"
   },
   {
    "duration": 15,
    "start_time": "2024-04-08T09:24:05.076Z"
   },
   {
    "duration": 9,
    "start_time": "2024-04-08T09:24:05.126Z"
   },
   {
    "duration": 11,
    "start_time": "2024-04-08T09:24:05.137Z"
   },
   {
    "duration": 224,
    "start_time": "2024-04-08T09:24:05.150Z"
   },
   {
    "duration": 0,
    "start_time": "2024-04-08T09:24:05.377Z"
   },
   {
    "duration": 0,
    "start_time": "2024-04-08T09:24:05.378Z"
   },
   {
    "duration": 0,
    "start_time": "2024-04-08T09:24:05.380Z"
   },
   {
    "duration": 0,
    "start_time": "2024-04-08T09:24:05.381Z"
   },
   {
    "duration": 0,
    "start_time": "2024-04-08T09:24:05.383Z"
   },
   {
    "duration": 0,
    "start_time": "2024-04-08T09:24:05.384Z"
   },
   {
    "duration": 0,
    "start_time": "2024-04-08T09:24:05.386Z"
   },
   {
    "duration": 0,
    "start_time": "2024-04-08T09:24:05.387Z"
   },
   {
    "duration": 0,
    "start_time": "2024-04-08T09:24:05.389Z"
   },
   {
    "duration": 0,
    "start_time": "2024-04-08T09:24:05.390Z"
   },
   {
    "duration": 0,
    "start_time": "2024-04-08T09:24:05.392Z"
   },
   {
    "duration": 0,
    "start_time": "2024-04-08T09:24:05.418Z"
   },
   {
    "duration": 0,
    "start_time": "2024-04-08T09:24:05.422Z"
   },
   {
    "duration": 0,
    "start_time": "2024-04-08T09:24:05.426Z"
   },
   {
    "duration": 0,
    "start_time": "2024-04-08T09:24:05.428Z"
   },
   {
    "duration": 1,
    "start_time": "2024-04-08T09:24:05.429Z"
   },
   {
    "duration": 0,
    "start_time": "2024-04-08T09:24:05.431Z"
   },
   {
    "duration": 1,
    "start_time": "2024-04-08T09:24:05.432Z"
   },
   {
    "duration": 0,
    "start_time": "2024-04-08T09:24:05.434Z"
   },
   {
    "duration": 0,
    "start_time": "2024-04-08T09:24:05.436Z"
   },
   {
    "duration": 0,
    "start_time": "2024-04-08T09:24:05.439Z"
   },
   {
    "duration": 0,
    "start_time": "2024-04-08T09:24:05.440Z"
   },
   {
    "duration": 0,
    "start_time": "2024-04-08T09:24:05.440Z"
   },
   {
    "duration": 0,
    "start_time": "2024-04-08T09:24:05.442Z"
   },
   {
    "duration": 0,
    "start_time": "2024-04-08T09:24:05.443Z"
   },
   {
    "duration": 4,
    "start_time": "2024-04-08T09:24:21.576Z"
   },
   {
    "duration": 25,
    "start_time": "2024-04-08T09:24:21.582Z"
   },
   {
    "duration": 11,
    "start_time": "2024-04-08T09:24:21.609Z"
   },
   {
    "duration": 2818,
    "start_time": "2024-04-08T09:24:21.622Z"
   },
   {
    "duration": 6,
    "start_time": "2024-04-08T09:24:24.451Z"
   },
   {
    "duration": 35,
    "start_time": "2024-04-08T09:24:24.459Z"
   },
   {
    "duration": 54,
    "start_time": "2024-04-08T09:24:24.496Z"
   },
   {
    "duration": 5,
    "start_time": "2024-04-08T09:24:24.553Z"
   },
   {
    "duration": 16,
    "start_time": "2024-04-08T09:24:24.560Z"
   },
   {
    "duration": 28,
    "start_time": "2024-04-08T09:24:24.578Z"
   },
   {
    "duration": 9,
    "start_time": "2024-04-08T09:24:24.622Z"
   },
   {
    "duration": 18,
    "start_time": "2024-04-08T09:24:24.634Z"
   },
   {
    "duration": 41,
    "start_time": "2024-04-08T09:24:24.657Z"
   },
   {
    "duration": 868,
    "start_time": "2024-04-08T09:24:24.700Z"
   },
   {
    "duration": 1613,
    "start_time": "2024-04-08T09:24:25.573Z"
   },
   {
    "duration": 592,
    "start_time": "2024-04-08T09:24:27.187Z"
   },
   {
    "duration": 219,
    "start_time": "2024-04-08T09:24:27.781Z"
   },
   {
    "duration": 249,
    "start_time": "2024-04-08T09:24:28.003Z"
   },
   {
    "duration": 249,
    "start_time": "2024-04-08T09:24:28.259Z"
   },
   {
    "duration": 256,
    "start_time": "2024-04-08T09:24:28.510Z"
   },
   {
    "duration": 12057,
    "start_time": "2024-04-08T09:24:28.769Z"
   },
   {
    "duration": 654,
    "start_time": "2024-04-08T09:24:40.828Z"
   },
   {
    "duration": 4,
    "start_time": "2024-04-08T09:24:41.483Z"
   },
   {
    "duration": 30,
    "start_time": "2024-04-08T09:24:41.489Z"
   },
   {
    "duration": 15,
    "start_time": "2024-04-08T09:24:41.523Z"
   },
   {
    "duration": 16,
    "start_time": "2024-04-08T09:24:41.541Z"
   },
   {
    "duration": 17,
    "start_time": "2024-04-08T09:24:41.559Z"
   },
   {
    "duration": 8,
    "start_time": "2024-04-08T09:24:41.577Z"
   },
   {
    "duration": 12,
    "start_time": "2024-04-08T09:24:41.589Z"
   },
   {
    "duration": 23,
    "start_time": "2024-04-08T09:24:41.618Z"
   },
   {
    "duration": 15,
    "start_time": "2024-04-08T09:24:41.646Z"
   },
   {
    "duration": 19,
    "start_time": "2024-04-08T09:24:41.663Z"
   },
   {
    "duration": 13,
    "start_time": "2024-04-08T09:24:41.684Z"
   },
   {
    "duration": 32,
    "start_time": "2024-04-08T09:24:41.698Z"
   },
   {
    "duration": 66,
    "start_time": "2024-04-08T09:24:41.732Z"
   },
   {
    "duration": 232,
    "start_time": "2024-04-08T09:24:41.800Z"
   },
   {
    "duration": 242,
    "start_time": "2024-04-08T09:24:42.039Z"
   },
   {
    "duration": 4,
    "start_time": "2024-04-08T09:39:32.500Z"
   },
   {
    "duration": 44,
    "start_time": "2024-04-08T09:39:32.506Z"
   },
   {
    "duration": 28,
    "start_time": "2024-04-08T09:39:32.552Z"
   },
   {
    "duration": 2120,
    "start_time": "2024-04-08T09:39:32.582Z"
   },
   {
    "duration": 4,
    "start_time": "2024-04-08T09:39:34.704Z"
   },
   {
    "duration": 44,
    "start_time": "2024-04-08T09:39:34.709Z"
   },
   {
    "duration": 36,
    "start_time": "2024-04-08T09:39:34.755Z"
   },
   {
    "duration": 5,
    "start_time": "2024-04-08T09:39:34.792Z"
   },
   {
    "duration": 11,
    "start_time": "2024-04-08T09:39:34.798Z"
   },
   {
    "duration": 10,
    "start_time": "2024-04-08T09:39:34.811Z"
   },
   {
    "duration": 9,
    "start_time": "2024-04-08T09:39:34.822Z"
   },
   {
    "duration": 14,
    "start_time": "2024-04-08T09:39:34.832Z"
   },
   {
    "duration": 27,
    "start_time": "2024-04-08T09:39:34.847Z"
   },
   {
    "duration": 625,
    "start_time": "2024-04-08T09:39:34.876Z"
   },
   {
    "duration": 1126,
    "start_time": "2024-04-08T09:39:35.504Z"
   },
   {
    "duration": 459,
    "start_time": "2024-04-08T09:39:36.631Z"
   },
   {
    "duration": 157,
    "start_time": "2024-04-08T09:39:37.092Z"
   },
   {
    "duration": 137,
    "start_time": "2024-04-08T09:39:37.250Z"
   },
   {
    "duration": 153,
    "start_time": "2024-04-08T09:39:37.388Z"
   },
   {
    "duration": 162,
    "start_time": "2024-04-08T09:39:37.543Z"
   },
   {
    "duration": 9532,
    "start_time": "2024-04-08T09:39:37.707Z"
   },
   {
    "duration": 586,
    "start_time": "2024-04-08T09:39:47.241Z"
   },
   {
    "duration": 4,
    "start_time": "2024-04-08T09:39:47.829Z"
   },
   {
    "duration": 4,
    "start_time": "2024-04-08T09:39:47.834Z"
   },
   {
    "duration": 7,
    "start_time": "2024-04-08T09:39:47.839Z"
   },
   {
    "duration": 13,
    "start_time": "2024-04-08T09:39:47.847Z"
   },
   {
    "duration": 5,
    "start_time": "2024-04-08T09:39:47.862Z"
   },
   {
    "duration": 7,
    "start_time": "2024-04-08T09:39:47.868Z"
   },
   {
    "duration": 15,
    "start_time": "2024-04-08T09:39:47.876Z"
   },
   {
    "duration": 32,
    "start_time": "2024-04-08T09:39:47.892Z"
   },
   {
    "duration": 5,
    "start_time": "2024-04-08T09:39:47.926Z"
   },
   {
    "duration": 12,
    "start_time": "2024-04-08T09:39:47.932Z"
   },
   {
    "duration": 11,
    "start_time": "2024-04-08T09:39:47.946Z"
   },
   {
    "duration": 14,
    "start_time": "2024-04-08T09:39:47.959Z"
   },
   {
    "duration": 62,
    "start_time": "2024-04-08T09:39:47.974Z"
   },
   {
    "duration": 187,
    "start_time": "2024-04-08T09:39:48.038Z"
   },
   {
    "duration": 214,
    "start_time": "2024-04-08T09:39:48.227Z"
   },
   {
    "duration": 40,
    "start_time": "2024-04-08T09:56:29.307Z"
   },
   {
    "duration": 8,
    "start_time": "2024-04-08T09:57:38.666Z"
   },
   {
    "duration": 3,
    "start_time": "2024-04-08T10:03:16.220Z"
   },
   {
    "duration": 14,
    "start_time": "2024-04-08T10:03:16.225Z"
   },
   {
    "duration": 5,
    "start_time": "2024-04-08T10:03:16.240Z"
   },
   {
    "duration": 2174,
    "start_time": "2024-04-08T10:03:16.248Z"
   },
   {
    "duration": 4,
    "start_time": "2024-04-08T10:03:18.424Z"
   },
   {
    "duration": 65,
    "start_time": "2024-04-08T10:03:18.430Z"
   },
   {
    "duration": 39,
    "start_time": "2024-04-08T10:03:18.497Z"
   },
   {
    "duration": 4,
    "start_time": "2024-04-08T10:03:18.538Z"
   },
   {
    "duration": 13,
    "start_time": "2024-04-08T10:03:18.544Z"
   },
   {
    "duration": 23,
    "start_time": "2024-04-08T10:03:18.560Z"
   },
   {
    "duration": 10,
    "start_time": "2024-04-08T10:03:18.585Z"
   },
   {
    "duration": 26,
    "start_time": "2024-04-08T10:03:18.596Z"
   },
   {
    "duration": 48,
    "start_time": "2024-04-08T10:03:18.623Z"
   },
   {
    "duration": 648,
    "start_time": "2024-04-08T10:03:18.673Z"
   },
   {
    "duration": 1116,
    "start_time": "2024-04-08T10:03:19.323Z"
   },
   {
    "duration": 392,
    "start_time": "2024-04-08T10:03:20.440Z"
   },
   {
    "duration": 134,
    "start_time": "2024-04-08T10:03:20.834Z"
   },
   {
    "duration": 142,
    "start_time": "2024-04-08T10:03:20.970Z"
   },
   {
    "duration": 156,
    "start_time": "2024-04-08T10:03:21.118Z"
   },
   {
    "duration": 145,
    "start_time": "2024-04-08T10:03:21.275Z"
   },
   {
    "duration": 9397,
    "start_time": "2024-04-08T10:03:21.421Z"
   },
   {
    "duration": 558,
    "start_time": "2024-04-08T10:03:30.820Z"
   },
   {
    "duration": 4,
    "start_time": "2024-04-08T10:03:31.379Z"
   },
   {
    "duration": 29,
    "start_time": "2024-04-08T10:03:31.384Z"
   },
   {
    "duration": 99,
    "start_time": "2024-04-08T10:03:31.415Z"
   },
   {
    "duration": 84,
    "start_time": "2024-04-08T10:03:31.516Z"
   },
   {
    "duration": 43,
    "start_time": "2024-04-08T10:03:31.601Z"
   },
   {
    "duration": 43,
    "start_time": "2024-04-08T10:03:31.648Z"
   },
   {
    "duration": 51,
    "start_time": "2024-04-08T10:03:31.693Z"
   },
   {
    "duration": 7,
    "start_time": "2024-04-08T10:03:31.746Z"
   },
   {
    "duration": 33,
    "start_time": "2024-04-08T10:03:31.754Z"
   },
   {
    "duration": 34,
    "start_time": "2024-04-08T10:03:31.789Z"
   },
   {
    "duration": 26,
    "start_time": "2024-04-08T10:03:31.825Z"
   },
   {
    "duration": 22,
    "start_time": "2024-04-08T10:03:31.853Z"
   },
   {
    "duration": 63,
    "start_time": "2024-04-08T10:03:31.876Z"
   },
   {
    "duration": 215,
    "start_time": "2024-04-08T10:03:31.940Z"
   },
   {
    "duration": 207,
    "start_time": "2024-04-08T10:03:32.157Z"
   },
   {
    "duration": 4,
    "start_time": "2024-04-08T10:03:32.366Z"
   },
   {
    "duration": 35,
    "start_time": "2024-04-08T10:03:32.371Z"
   },
   {
    "duration": 33,
    "start_time": "2024-04-08T10:03:32.408Z"
   },
   {
    "duration": 28,
    "start_time": "2024-04-08T10:36:06.585Z"
   },
   {
    "duration": 44,
    "start_time": "2024-04-08T10:36:11.736Z"
   },
   {
    "duration": 6,
    "start_time": "2024-04-08T10:41:08.722Z"
   },
   {
    "duration": 34,
    "start_time": "2024-04-08T10:41:08.730Z"
   },
   {
    "duration": 7,
    "start_time": "2024-04-08T10:41:08.765Z"
   },
   {
    "duration": 2036,
    "start_time": "2024-04-08T10:41:08.774Z"
   },
   {
    "duration": 11,
    "start_time": "2024-04-08T10:41:10.812Z"
   },
   {
    "duration": 34,
    "start_time": "2024-04-08T10:41:10.828Z"
   },
   {
    "duration": 33,
    "start_time": "2024-04-08T10:41:10.863Z"
   },
   {
    "duration": 4,
    "start_time": "2024-04-08T10:41:10.897Z"
   },
   {
    "duration": 11,
    "start_time": "2024-04-08T10:41:10.903Z"
   },
   {
    "duration": 17,
    "start_time": "2024-04-08T10:41:10.917Z"
   },
   {
    "duration": 7,
    "start_time": "2024-04-08T10:41:10.935Z"
   },
   {
    "duration": 8,
    "start_time": "2024-04-08T10:41:10.943Z"
   },
   {
    "duration": 24,
    "start_time": "2024-04-08T10:41:10.952Z"
   },
   {
    "duration": 623,
    "start_time": "2024-04-08T10:41:10.977Z"
   },
   {
    "duration": 1155,
    "start_time": "2024-04-08T10:41:11.602Z"
   },
   {
    "duration": 389,
    "start_time": "2024-04-08T10:41:12.758Z"
   },
   {
    "duration": 141,
    "start_time": "2024-04-08T10:41:13.148Z"
   },
   {
    "duration": 148,
    "start_time": "2024-04-08T10:41:13.291Z"
   },
   {
    "duration": 159,
    "start_time": "2024-04-08T10:41:13.441Z"
   },
   {
    "duration": 170,
    "start_time": "2024-04-08T10:41:13.602Z"
   },
   {
    "duration": 9775,
    "start_time": "2024-04-08T10:41:13.773Z"
   },
   {
    "duration": 549,
    "start_time": "2024-04-08T10:41:23.551Z"
   },
   {
    "duration": 169,
    "start_time": "2024-04-08T10:41:24.102Z"
   },
   {
    "duration": 0,
    "start_time": "2024-04-08T10:41:24.273Z"
   },
   {
    "duration": 0,
    "start_time": "2024-04-08T10:41:24.274Z"
   },
   {
    "duration": 0,
    "start_time": "2024-04-08T10:41:24.275Z"
   },
   {
    "duration": 0,
    "start_time": "2024-04-08T10:41:24.277Z"
   },
   {
    "duration": 0,
    "start_time": "2024-04-08T10:41:24.278Z"
   },
   {
    "duration": 0,
    "start_time": "2024-04-08T10:41:24.279Z"
   },
   {
    "duration": 0,
    "start_time": "2024-04-08T10:41:24.280Z"
   },
   {
    "duration": 1,
    "start_time": "2024-04-08T10:41:24.280Z"
   },
   {
    "duration": 0,
    "start_time": "2024-04-08T10:41:24.282Z"
   },
   {
    "duration": 0,
    "start_time": "2024-04-08T10:41:24.283Z"
   },
   {
    "duration": 0,
    "start_time": "2024-04-08T10:41:24.284Z"
   },
   {
    "duration": 0,
    "start_time": "2024-04-08T10:41:24.285Z"
   },
   {
    "duration": 0,
    "start_time": "2024-04-08T10:41:24.286Z"
   },
   {
    "duration": 0,
    "start_time": "2024-04-08T10:41:24.286Z"
   },
   {
    "duration": 0,
    "start_time": "2024-04-08T10:41:24.287Z"
   },
   {
    "duration": 0,
    "start_time": "2024-04-08T10:41:24.289Z"
   },
   {
    "duration": 0,
    "start_time": "2024-04-08T10:41:24.289Z"
   },
   {
    "duration": 0,
    "start_time": "2024-04-08T10:41:24.321Z"
   },
   {
    "duration": 0,
    "start_time": "2024-04-08T10:41:24.322Z"
   },
   {
    "duration": 1260,
    "start_time": "2024-04-08T10:42:49.386Z"
   },
   {
    "duration": 125,
    "start_time": "2024-04-08T10:43:05.935Z"
   },
   {
    "duration": 132,
    "start_time": "2024-04-08T10:43:25.214Z"
   },
   {
    "duration": 133,
    "start_time": "2024-04-08T10:43:34.114Z"
   },
   {
    "duration": 137,
    "start_time": "2024-04-08T10:44:54.531Z"
   },
   {
    "duration": 133,
    "start_time": "2024-04-08T10:45:38.027Z"
   },
   {
    "duration": 154,
    "start_time": "2024-04-08T10:46:49.545Z"
   },
   {
    "duration": 4,
    "start_time": "2024-04-08T10:48:05.180Z"
   },
   {
    "duration": 38,
    "start_time": "2024-04-08T10:48:05.186Z"
   },
   {
    "duration": 10,
    "start_time": "2024-04-08T10:48:05.226Z"
   },
   {
    "duration": 2161,
    "start_time": "2024-04-08T10:48:05.238Z"
   },
   {
    "duration": 4,
    "start_time": "2024-04-08T10:48:07.401Z"
   },
   {
    "duration": 35,
    "start_time": "2024-04-08T10:48:07.406Z"
   },
   {
    "duration": 32,
    "start_time": "2024-04-08T10:48:07.442Z"
   },
   {
    "duration": 4,
    "start_time": "2024-04-08T10:48:07.475Z"
   },
   {
    "duration": 9,
    "start_time": "2024-04-08T10:48:07.480Z"
   },
   {
    "duration": 10,
    "start_time": "2024-04-08T10:48:07.491Z"
   },
   {
    "duration": 29,
    "start_time": "2024-04-08T10:48:07.503Z"
   },
   {
    "duration": 8,
    "start_time": "2024-04-08T10:48:07.534Z"
   },
   {
    "duration": 23,
    "start_time": "2024-04-08T10:48:07.544Z"
   },
   {
    "duration": 616,
    "start_time": "2024-04-08T10:48:07.568Z"
   },
   {
    "duration": 1108,
    "start_time": "2024-04-08T10:48:08.186Z"
   },
   {
    "duration": 432,
    "start_time": "2024-04-08T10:48:09.296Z"
   },
   {
    "duration": 151,
    "start_time": "2024-04-08T10:48:09.730Z"
   },
   {
    "duration": 148,
    "start_time": "2024-04-08T10:48:09.882Z"
   },
   {
    "duration": 136,
    "start_time": "2024-04-08T10:48:10.033Z"
   },
   {
    "duration": 153,
    "start_time": "2024-04-08T10:48:10.170Z"
   },
   {
    "duration": 10003,
    "start_time": "2024-04-08T10:48:10.330Z"
   },
   {
    "duration": 483,
    "start_time": "2024-04-08T10:48:20.417Z"
   },
   {
    "duration": 3,
    "start_time": "2024-04-08T10:48:20.902Z"
   },
   {
    "duration": 22,
    "start_time": "2024-04-08T10:48:20.907Z"
   },
   {
    "duration": 11,
    "start_time": "2024-04-08T10:48:20.930Z"
   },
   {
    "duration": 13,
    "start_time": "2024-04-08T10:48:20.942Z"
   },
   {
    "duration": 16,
    "start_time": "2024-04-08T10:48:20.956Z"
   },
   {
    "duration": 22,
    "start_time": "2024-04-08T10:48:20.976Z"
   },
   {
    "duration": 15,
    "start_time": "2024-04-08T10:48:20.999Z"
   },
   {
    "duration": 16,
    "start_time": "2024-04-08T10:48:21.015Z"
   },
   {
    "duration": 5,
    "start_time": "2024-04-08T10:48:21.033Z"
   },
   {
    "duration": 10,
    "start_time": "2024-04-08T10:48:21.040Z"
   },
   {
    "duration": 9,
    "start_time": "2024-04-08T10:48:21.051Z"
   },
   {
    "duration": 18,
    "start_time": "2024-04-08T10:48:21.061Z"
   },
   {
    "duration": 55,
    "start_time": "2024-04-08T10:48:21.080Z"
   },
   {
    "duration": 204,
    "start_time": "2024-04-08T10:48:21.136Z"
   },
   {
    "duration": 209,
    "start_time": "2024-04-08T10:48:21.342Z"
   },
   {
    "duration": 3,
    "start_time": "2024-04-08T10:48:21.552Z"
   },
   {
    "duration": 190,
    "start_time": "2024-04-08T10:48:21.557Z"
   },
   {
    "duration": 0,
    "start_time": "2024-04-08T10:48:21.749Z"
   },
   {
    "duration": 0,
    "start_time": "2024-04-08T10:48:21.750Z"
   },
   {
    "duration": 0,
    "start_time": "2024-04-08T10:48:21.751Z"
   },
   {
    "duration": 12,
    "start_time": "2024-04-08T11:21:57.358Z"
   },
   {
    "duration": 8,
    "start_time": "2024-04-08T11:21:59.850Z"
   },
   {
    "duration": 6,
    "start_time": "2024-04-08T11:22:12.186Z"
   },
   {
    "duration": 7,
    "start_time": "2024-04-08T11:22:32.233Z"
   },
   {
    "duration": 7,
    "start_time": "2024-04-08T11:22:45.902Z"
   },
   {
    "duration": 5,
    "start_time": "2024-04-08T12:15:54.748Z"
   },
   {
    "duration": 975,
    "start_time": "2024-04-08T12:16:07.281Z"
   },
   {
    "duration": 975,
    "start_time": "2024-04-08T12:16:12.032Z"
   },
   {
    "duration": 3,
    "start_time": "2024-04-08T12:16:41.344Z"
   },
   {
    "duration": 28053,
    "start_time": "2024-04-08T16:52:37.997Z"
   },
   {
    "duration": 5757,
    "start_time": "2024-04-08T16:53:06.052Z"
   },
   {
    "duration": 6385,
    "start_time": "2024-04-08T16:53:11.811Z"
   },
   {
    "duration": 4,
    "start_time": "2024-04-08T16:54:00.145Z"
   },
   {
    "duration": 39,
    "start_time": "2024-04-08T16:54:00.151Z"
   },
   {
    "duration": 86,
    "start_time": "2024-04-08T16:54:00.192Z"
   },
   {
    "duration": 2525,
    "start_time": "2024-04-08T16:54:00.280Z"
   },
   {
    "duration": 74,
    "start_time": "2024-04-08T16:54:02.807Z"
   },
   {
    "duration": 35,
    "start_time": "2024-04-08T16:54:02.882Z"
   },
   {
    "duration": 4,
    "start_time": "2024-04-08T16:54:02.919Z"
   },
   {
    "duration": 13,
    "start_time": "2024-04-08T16:54:02.924Z"
   },
   {
    "duration": 14,
    "start_time": "2024-04-08T16:54:02.938Z"
   },
   {
    "duration": 50,
    "start_time": "2024-04-08T16:54:02.953Z"
   },
   {
    "duration": 18,
    "start_time": "2024-04-08T16:54:03.004Z"
   },
   {
    "duration": 33,
    "start_time": "2024-04-08T16:54:03.023Z"
   },
   {
    "duration": 655,
    "start_time": "2024-04-08T16:54:03.057Z"
   },
   {
    "duration": 1161,
    "start_time": "2024-04-08T16:54:03.715Z"
   },
   {
    "duration": 416,
    "start_time": "2024-04-08T16:54:04.878Z"
   },
   {
    "duration": 138,
    "start_time": "2024-04-08T16:54:05.296Z"
   },
   {
    "duration": 140,
    "start_time": "2024-04-08T16:54:05.435Z"
   },
   {
    "duration": 153,
    "start_time": "2024-04-08T16:54:05.577Z"
   },
   {
    "duration": 152,
    "start_time": "2024-04-08T16:54:05.732Z"
   },
   {
    "duration": 10037,
    "start_time": "2024-04-08T16:54:05.887Z"
   },
   {
    "duration": 567,
    "start_time": "2024-04-08T16:54:15.926Z"
   },
   {
    "duration": 4,
    "start_time": "2024-04-08T16:54:16.495Z"
   },
   {
    "duration": 19,
    "start_time": "2024-04-08T16:54:16.500Z"
   },
   {
    "duration": 10,
    "start_time": "2024-04-08T16:54:16.520Z"
   },
   {
    "duration": 30,
    "start_time": "2024-04-08T16:54:16.531Z"
   },
   {
    "duration": 8,
    "start_time": "2024-04-08T16:54:16.563Z"
   },
   {
    "duration": 27,
    "start_time": "2024-04-08T16:54:16.573Z"
   },
   {
    "duration": 13,
    "start_time": "2024-04-08T16:54:16.602Z"
   },
   {
    "duration": 7,
    "start_time": "2024-04-08T16:54:16.616Z"
   },
   {
    "duration": 10,
    "start_time": "2024-04-08T16:54:16.625Z"
   },
   {
    "duration": 17,
    "start_time": "2024-04-08T16:54:16.637Z"
   },
   {
    "duration": 9,
    "start_time": "2024-04-08T16:54:16.655Z"
   },
   {
    "duration": 21,
    "start_time": "2024-04-08T16:54:16.666Z"
   },
   {
    "duration": 52,
    "start_time": "2024-04-08T16:54:16.688Z"
   },
   {
    "duration": 204,
    "start_time": "2024-04-08T16:54:16.742Z"
   },
   {
    "duration": 225,
    "start_time": "2024-04-08T16:54:16.948Z"
   },
   {
    "duration": 8,
    "start_time": "2024-04-08T16:54:17.174Z"
   },
   {
    "duration": 56,
    "start_time": "2024-04-08T16:54:17.184Z"
   },
   {
    "duration": 0,
    "start_time": "2024-04-08T16:54:17.242Z"
   },
   {
    "duration": 0,
    "start_time": "2024-04-08T16:54:17.243Z"
   },
   {
    "duration": 0,
    "start_time": "2024-04-08T16:54:17.245Z"
   },
   {
    "duration": 0,
    "start_time": "2024-04-08T16:54:17.246Z"
   },
   {
    "duration": 0,
    "start_time": "2024-04-08T16:54:17.248Z"
   },
   {
    "duration": 0,
    "start_time": "2024-04-08T16:54:17.249Z"
   },
   {
    "duration": 0,
    "start_time": "2024-04-08T16:54:17.251Z"
   },
   {
    "duration": 3,
    "start_time": "2024-04-08T16:54:33.205Z"
   },
   {
    "duration": 198,
    "start_time": "2024-04-08T16:54:33.874Z"
   },
   {
    "duration": 3,
    "start_time": "2024-04-08T16:54:34.324Z"
   },
   {
    "duration": 4,
    "start_time": "2024-04-08T16:54:55.118Z"
   },
   {
    "duration": 170,
    "start_time": "2024-04-08T17:05:10.774Z"
   },
   {
    "duration": 236,
    "start_time": "2024-04-08T17:05:13.681Z"
   },
   {
    "duration": 3,
    "start_time": "2024-04-08T17:05:21.366Z"
   },
   {
    "duration": 3,
    "start_time": "2024-04-08T17:05:39.676Z"
   },
   {
    "duration": 2,
    "start_time": "2024-04-08T17:06:24.353Z"
   },
   {
    "duration": 2666,
    "start_time": "2024-04-08T19:01:28.115Z"
   },
   {
    "duration": 2973,
    "start_time": "2024-04-08T19:01:43.822Z"
   },
   {
    "duration": 5926,
    "start_time": "2024-04-08T19:01:46.909Z"
   },
   {
    "duration": 3,
    "start_time": "2024-04-08T19:10:37.637Z"
   },
   {
    "duration": 40,
    "start_time": "2024-04-08T19:10:37.641Z"
   },
   {
    "duration": 65,
    "start_time": "2024-04-08T19:10:37.682Z"
   },
   {
    "duration": 2259,
    "start_time": "2024-04-08T19:10:37.750Z"
   },
   {
    "duration": 75,
    "start_time": "2024-04-08T19:10:40.011Z"
   },
   {
    "duration": 32,
    "start_time": "2024-04-08T19:10:40.087Z"
   },
   {
    "duration": 20,
    "start_time": "2024-04-08T19:10:40.121Z"
   },
   {
    "duration": 30,
    "start_time": "2024-04-08T19:10:40.143Z"
   },
   {
    "duration": 47,
    "start_time": "2024-04-08T19:10:40.175Z"
   },
   {
    "duration": 46,
    "start_time": "2024-04-08T19:10:40.223Z"
   },
   {
    "duration": 24,
    "start_time": "2024-04-08T19:10:40.270Z"
   },
   {
    "duration": 31,
    "start_time": "2024-04-08T19:10:40.295Z"
   },
   {
    "duration": 509,
    "start_time": "2024-04-08T19:10:40.327Z"
   },
   {
    "duration": 942,
    "start_time": "2024-04-08T19:10:40.837Z"
   },
   {
    "duration": 334,
    "start_time": "2024-04-08T19:10:41.781Z"
   },
   {
    "duration": 109,
    "start_time": "2024-04-08T19:10:42.117Z"
   },
   {
    "duration": 112,
    "start_time": "2024-04-08T19:10:42.228Z"
   },
   {
    "duration": 127,
    "start_time": "2024-04-08T19:10:42.341Z"
   },
   {
    "duration": 125,
    "start_time": "2024-04-08T19:10:42.470Z"
   },
   {
    "duration": 8318,
    "start_time": "2024-04-08T19:10:42.597Z"
   },
   {
    "duration": 541,
    "start_time": "2024-04-08T19:10:50.916Z"
   },
   {
    "duration": 4,
    "start_time": "2024-04-08T19:10:51.459Z"
   },
   {
    "duration": 39,
    "start_time": "2024-04-08T19:10:51.464Z"
   },
   {
    "duration": 20,
    "start_time": "2024-04-08T19:10:51.506Z"
   },
   {
    "duration": 44,
    "start_time": "2024-04-08T19:10:51.527Z"
   },
   {
    "duration": 84,
    "start_time": "2024-04-08T19:10:51.572Z"
   },
   {
    "duration": 35,
    "start_time": "2024-04-08T19:10:51.658Z"
   },
   {
    "duration": 45,
    "start_time": "2024-04-08T19:10:51.695Z"
   },
   {
    "duration": 37,
    "start_time": "2024-04-08T19:10:51.742Z"
   },
   {
    "duration": 18,
    "start_time": "2024-04-08T19:10:51.781Z"
   },
   {
    "duration": 49,
    "start_time": "2024-04-08T19:10:51.801Z"
   },
   {
    "duration": 24,
    "start_time": "2024-04-08T19:10:51.851Z"
   },
   {
    "duration": 38,
    "start_time": "2024-04-08T19:10:51.877Z"
   },
   {
    "duration": 17,
    "start_time": "2024-04-08T19:10:51.916Z"
   },
   {
    "duration": 159,
    "start_time": "2024-04-08T19:10:51.934Z"
   },
   {
    "duration": 177,
    "start_time": "2024-04-08T19:10:52.094Z"
   },
   {
    "duration": 3,
    "start_time": "2024-04-08T19:10:52.272Z"
   },
   {
    "duration": 160,
    "start_time": "2024-04-08T19:10:52.276Z"
   },
   {
    "duration": 0,
    "start_time": "2024-04-08T19:10:52.438Z"
   },
   {
    "duration": 0,
    "start_time": "2024-04-08T19:10:52.439Z"
   },
   {
    "duration": 0,
    "start_time": "2024-04-08T19:10:52.440Z"
   },
   {
    "duration": 0,
    "start_time": "2024-04-08T19:10:52.441Z"
   },
   {
    "duration": 0,
    "start_time": "2024-04-08T19:10:52.442Z"
   },
   {
    "duration": 0,
    "start_time": "2024-04-08T19:10:52.443Z"
   },
   {
    "duration": 2,
    "start_time": "2024-04-08T19:12:14.620Z"
   },
   {
    "duration": 12,
    "start_time": "2024-04-08T19:12:17.791Z"
   },
   {
    "duration": 12,
    "start_time": "2024-04-08T19:12:34.316Z"
   },
   {
    "duration": 11,
    "start_time": "2024-04-08T19:12:52.714Z"
   },
   {
    "duration": 14,
    "start_time": "2024-04-08T19:13:02.303Z"
   },
   {
    "duration": 36,
    "start_time": "2024-04-08T19:14:37.784Z"
   },
   {
    "duration": 30,
    "start_time": "2024-04-08T19:15:22.911Z"
   },
   {
    "duration": 23,
    "start_time": "2024-04-08T19:20:30.764Z"
   },
   {
    "duration": 1739,
    "start_time": "2024-04-08T19:20:52.855Z"
   },
   {
    "duration": 19,
    "start_time": "2024-04-08T19:21:56.341Z"
   },
   {
    "duration": 1519,
    "start_time": "2024-04-08T19:22:10.678Z"
   },
   {
    "duration": 1530,
    "start_time": "2024-04-08T19:22:19.480Z"
   },
   {
    "duration": 1676,
    "start_time": "2024-04-08T19:22:48.927Z"
   },
   {
    "duration": 27,
    "start_time": "2024-04-08T19:23:09.740Z"
   },
   {
    "duration": 15,
    "start_time": "2024-04-08T19:23:25.669Z"
   },
   {
    "duration": 15,
    "start_time": "2024-04-08T19:23:35.011Z"
   },
   {
    "duration": 1513,
    "start_time": "2024-04-08T19:23:49.602Z"
   },
   {
    "duration": 3,
    "start_time": "2024-04-08T19:25:00.765Z"
   },
   {
    "duration": 3110,
    "start_time": "2024-04-08T19:25:01.604Z"
   },
   {
    "duration": 3,
    "start_time": "2024-04-08T19:25:21.431Z"
   },
   {
    "duration": 8049,
    "start_time": "2024-04-08T19:25:22.245Z"
   },
   {
    "duration": 3,
    "start_time": "2024-04-08T19:25:52.624Z"
   },
   {
    "duration": 17358,
    "start_time": "2024-04-08T19:25:53.140Z"
   },
   {
    "duration": 16836,
    "start_time": "2024-04-08T19:26:23.179Z"
   },
   {
    "duration": 16677,
    "start_time": "2024-04-08T19:30:17.836Z"
   },
   {
    "duration": 3,
    "start_time": "2024-04-08T19:33:19.304Z"
   },
   {
    "duration": 31,
    "start_time": "2024-04-08T19:33:19.308Z"
   },
   {
    "duration": 28,
    "start_time": "2024-04-08T19:33:19.340Z"
   },
   {
    "duration": 2077,
    "start_time": "2024-04-08T19:33:19.369Z"
   },
   {
    "duration": 26,
    "start_time": "2024-04-08T19:33:21.447Z"
   },
   {
    "duration": 34,
    "start_time": "2024-04-08T19:33:21.474Z"
   },
   {
    "duration": 4,
    "start_time": "2024-04-08T19:33:21.510Z"
   },
   {
    "duration": 20,
    "start_time": "2024-04-08T19:33:21.516Z"
   },
   {
    "duration": 26,
    "start_time": "2024-04-08T19:33:21.539Z"
   },
   {
    "duration": 42,
    "start_time": "2024-04-08T19:33:21.566Z"
   },
   {
    "duration": 21,
    "start_time": "2024-04-08T19:33:21.610Z"
   },
   {
    "duration": 37,
    "start_time": "2024-04-08T19:33:21.633Z"
   },
   {
    "duration": 578,
    "start_time": "2024-04-08T19:33:21.672Z"
   },
   {
    "duration": 980,
    "start_time": "2024-04-08T19:33:22.252Z"
   },
   {
    "duration": 366,
    "start_time": "2024-04-08T19:33:23.234Z"
   },
   {
    "duration": 118,
    "start_time": "2024-04-08T19:33:23.601Z"
   },
   {
    "duration": 111,
    "start_time": "2024-04-08T19:33:23.721Z"
   },
   {
    "duration": 135,
    "start_time": "2024-04-08T19:33:23.833Z"
   },
   {
    "duration": 125,
    "start_time": "2024-04-08T19:33:23.970Z"
   },
   {
    "duration": 8499,
    "start_time": "2024-04-08T19:33:24.096Z"
   },
   {
    "duration": 502,
    "start_time": "2024-04-08T19:33:32.597Z"
   },
   {
    "duration": 3,
    "start_time": "2024-04-08T19:33:33.100Z"
   },
   {
    "duration": 63,
    "start_time": "2024-04-08T19:33:33.105Z"
   },
   {
    "duration": 28,
    "start_time": "2024-04-08T19:33:33.171Z"
   },
   {
    "duration": 38,
    "start_time": "2024-04-08T19:33:33.200Z"
   },
   {
    "duration": 35,
    "start_time": "2024-04-08T19:33:33.240Z"
   },
   {
    "duration": 26,
    "start_time": "2024-04-08T19:33:33.276Z"
   },
   {
    "duration": 65,
    "start_time": "2024-04-08T19:33:33.304Z"
   },
   {
    "duration": 40,
    "start_time": "2024-04-08T19:33:33.370Z"
   },
   {
    "duration": 111,
    "start_time": "2024-04-08T19:33:33.412Z"
   },
   {
    "duration": 97,
    "start_time": "2024-04-08T19:33:33.525Z"
   },
   {
    "duration": 30,
    "start_time": "2024-04-08T19:33:33.624Z"
   },
   {
    "duration": 43,
    "start_time": "2024-04-08T19:33:33.655Z"
   },
   {
    "duration": 24,
    "start_time": "2024-04-08T19:33:33.699Z"
   },
   {
    "duration": 178,
    "start_time": "2024-04-08T19:33:33.724Z"
   },
   {
    "duration": 177,
    "start_time": "2024-04-08T19:33:33.903Z"
   },
   {
    "duration": 12,
    "start_time": "2024-04-08T19:33:34.082Z"
   },
   {
    "duration": 19,
    "start_time": "2024-04-08T19:33:34.095Z"
   },
   {
    "duration": 16581,
    "start_time": "2024-04-08T19:33:34.116Z"
   },
   {
    "duration": 2,
    "start_time": "2024-04-08T19:33:50.699Z"
   },
   {
    "duration": 165,
    "start_time": "2024-04-08T19:33:50.703Z"
   },
   {
    "duration": 0,
    "start_time": "2024-04-08T19:33:50.869Z"
   },
   {
    "duration": 0,
    "start_time": "2024-04-08T19:33:50.870Z"
   },
   {
    "duration": 10,
    "start_time": "2024-04-08T19:38:15.161Z"
   },
   {
    "duration": 9,
    "start_time": "2024-04-08T19:39:09.974Z"
   },
   {
    "duration": 9,
    "start_time": "2024-04-08T19:39:25.196Z"
   },
   {
    "duration": 10,
    "start_time": "2024-04-08T19:39:45.307Z"
   },
   {
    "duration": 11,
    "start_time": "2024-04-08T19:40:45.477Z"
   },
   {
    "duration": 10,
    "start_time": "2024-04-08T19:42:26.683Z"
   },
   {
    "duration": 2581,
    "start_time": "2024-04-09T12:56:27.047Z"
   },
   {
    "duration": 3613,
    "start_time": "2024-04-09T12:56:29.630Z"
   },
   {
    "duration": 6160,
    "start_time": "2024-04-09T12:56:33.245Z"
   },
   {
    "duration": 2263,
    "start_time": "2024-04-09T13:02:39.542Z"
   },
   {
    "duration": 4,
    "start_time": "2024-04-09T13:03:06.746Z"
   },
   {
    "duration": 5,
    "start_time": "2024-04-09T13:03:06.751Z"
   },
   {
    "duration": 5,
    "start_time": "2024-04-09T13:03:06.757Z"
   },
   {
    "duration": 2251,
    "start_time": "2024-04-09T13:03:06.763Z"
   },
   {
    "duration": 75,
    "start_time": "2024-04-09T13:03:09.016Z"
   },
   {
    "duration": 33,
    "start_time": "2024-04-09T13:03:09.093Z"
   },
   {
    "duration": 3,
    "start_time": "2024-04-09T13:03:09.128Z"
   },
   {
    "duration": 11,
    "start_time": "2024-04-09T13:03:09.132Z"
   },
   {
    "duration": 11,
    "start_time": "2024-04-09T13:03:09.144Z"
   },
   {
    "duration": 7,
    "start_time": "2024-04-09T13:03:09.157Z"
   },
   {
    "duration": 22,
    "start_time": "2024-04-09T13:03:09.165Z"
   },
   {
    "duration": 27,
    "start_time": "2024-04-09T13:03:09.189Z"
   },
   {
    "duration": 572,
    "start_time": "2024-04-09T13:03:09.217Z"
   },
   {
    "duration": 1020,
    "start_time": "2024-04-09T13:03:09.790Z"
   },
   {
    "duration": 377,
    "start_time": "2024-04-09T13:03:10.814Z"
   },
   {
    "duration": 127,
    "start_time": "2024-04-09T13:03:11.192Z"
   },
   {
    "duration": 135,
    "start_time": "2024-04-09T13:03:11.321Z"
   },
   {
    "duration": 131,
    "start_time": "2024-04-09T13:03:11.458Z"
   },
   {
    "duration": 129,
    "start_time": "2024-04-09T13:03:11.591Z"
   },
   {
    "duration": 9042,
    "start_time": "2024-04-09T13:03:11.721Z"
   },
   {
    "duration": 470,
    "start_time": "2024-04-09T13:03:20.765Z"
   },
   {
    "duration": 4,
    "start_time": "2024-04-09T13:03:21.236Z"
   },
   {
    "duration": 25,
    "start_time": "2024-04-09T13:03:21.241Z"
   },
   {
    "duration": 16,
    "start_time": "2024-04-09T13:03:21.268Z"
   },
   {
    "duration": 25,
    "start_time": "2024-04-09T13:03:21.285Z"
   },
   {
    "duration": 13,
    "start_time": "2024-04-09T13:03:21.311Z"
   },
   {
    "duration": 28,
    "start_time": "2024-04-09T13:03:21.325Z"
   },
   {
    "duration": 29,
    "start_time": "2024-04-09T13:03:21.354Z"
   },
   {
    "duration": 20,
    "start_time": "2024-04-09T13:03:21.384Z"
   },
   {
    "duration": 21,
    "start_time": "2024-04-09T13:03:21.405Z"
   },
   {
    "duration": 39,
    "start_time": "2024-04-09T13:03:21.427Z"
   },
   {
    "duration": 28,
    "start_time": "2024-04-09T13:03:21.468Z"
   },
   {
    "duration": 38,
    "start_time": "2024-04-09T13:03:21.497Z"
   },
   {
    "duration": 9,
    "start_time": "2024-04-09T13:03:21.537Z"
   },
   {
    "duration": 155,
    "start_time": "2024-04-09T13:03:21.547Z"
   },
   {
    "duration": 201,
    "start_time": "2024-04-09T13:03:21.703Z"
   },
   {
    "duration": 152,
    "start_time": "2024-04-09T13:03:21.905Z"
   },
   {
    "duration": 0,
    "start_time": "2024-04-09T13:03:22.059Z"
   },
   {
    "duration": 0,
    "start_time": "2024-04-09T13:03:22.060Z"
   },
   {
    "duration": 0,
    "start_time": "2024-04-09T13:03:22.061Z"
   },
   {
    "duration": 0,
    "start_time": "2024-04-09T13:03:22.061Z"
   },
   {
    "duration": 0,
    "start_time": "2024-04-09T13:03:22.063Z"
   },
   {
    "duration": 0,
    "start_time": "2024-04-09T13:03:22.063Z"
   },
   {
    "duration": 0,
    "start_time": "2024-04-09T13:03:22.065Z"
   },
   {
    "duration": 12,
    "start_time": "2024-04-09T13:08:43.711Z"
   },
   {
    "duration": 10,
    "start_time": "2024-04-09T13:08:52.249Z"
   },
   {
    "duration": 9,
    "start_time": "2024-04-09T13:09:08.999Z"
   },
   {
    "duration": 10,
    "start_time": "2024-04-09T13:09:31.462Z"
   },
   {
    "duration": 14,
    "start_time": "2024-04-09T13:09:58.438Z"
   },
   {
    "duration": 70,
    "start_time": "2024-04-09T13:30:21.442Z"
   },
   {
    "duration": 4,
    "start_time": "2024-04-09T13:30:38.689Z"
   },
   {
    "duration": 14,
    "start_time": "2024-04-09T13:34:08.482Z"
   },
   {
    "duration": 13,
    "start_time": "2024-04-09T13:34:22.462Z"
   },
   {
    "duration": 4,
    "start_time": "2024-04-09T13:34:46.086Z"
   },
   {
    "duration": 3,
    "start_time": "2024-04-09T13:34:48.247Z"
   },
   {
    "duration": 12,
    "start_time": "2024-04-09T13:34:52.327Z"
   },
   {
    "duration": 2,
    "start_time": "2024-04-09T13:34:55.735Z"
   },
   {
    "duration": 12,
    "start_time": "2024-04-09T13:34:58.464Z"
   },
   {
    "duration": 4,
    "start_time": "2024-04-09T13:36:31.509Z"
   },
   {
    "duration": 3,
    "start_time": "2024-04-09T13:36:32.448Z"
   },
   {
    "duration": 12,
    "start_time": "2024-04-09T13:36:34.188Z"
   },
   {
    "duration": 12,
    "start_time": "2024-04-09T13:36:51.635Z"
   },
   {
    "duration": 13,
    "start_time": "2024-04-09T13:38:14.348Z"
   },
   {
    "duration": 16,
    "start_time": "2024-04-09T13:38:30.592Z"
   },
   {
    "duration": 13,
    "start_time": "2024-04-09T13:40:05.555Z"
   },
   {
    "duration": 7,
    "start_time": "2024-04-09T13:41:23.529Z"
   },
   {
    "duration": 12,
    "start_time": "2024-04-09T13:41:37.163Z"
   },
   {
    "duration": 4,
    "start_time": "2024-04-09T13:43:16.124Z"
   },
   {
    "duration": 10,
    "start_time": "2024-04-09T13:43:45.380Z"
   },
   {
    "duration": 10,
    "start_time": "2024-04-09T13:43:58.642Z"
   },
   {
    "duration": 10,
    "start_time": "2024-04-09T13:44:07.771Z"
   },
   {
    "duration": 19,
    "start_time": "2024-04-09T13:46:41.085Z"
   },
   {
    "duration": 17,
    "start_time": "2024-04-09T13:47:19.191Z"
   },
   {
    "duration": 18,
    "start_time": "2024-04-09T13:47:49.148Z"
   },
   {
    "duration": 17,
    "start_time": "2024-04-09T13:48:02.596Z"
   },
   {
    "duration": 16,
    "start_time": "2024-04-09T13:48:32.011Z"
   },
   {
    "duration": 6,
    "start_time": "2024-04-09T13:48:46.249Z"
   },
   {
    "duration": 17,
    "start_time": "2024-04-09T13:48:55.818Z"
   },
   {
    "duration": 15,
    "start_time": "2024-04-09T13:50:03.576Z"
   },
   {
    "duration": 18,
    "start_time": "2024-04-09T13:50:18.688Z"
   },
   {
    "duration": 13,
    "start_time": "2024-04-09T13:50:33.866Z"
   },
   {
    "duration": 18,
    "start_time": "2024-04-09T13:50:45.624Z"
   },
   {
    "duration": 15,
    "start_time": "2024-04-09T13:53:18.868Z"
   },
   {
    "duration": 17,
    "start_time": "2024-04-09T13:53:30.696Z"
   },
   {
    "duration": 17,
    "start_time": "2024-04-09T13:53:47.893Z"
   },
   {
    "duration": 3,
    "start_time": "2024-04-09T13:54:52.314Z"
   },
   {
    "duration": 13,
    "start_time": "2024-04-09T13:54:57.415Z"
   },
   {
    "duration": 3,
    "start_time": "2024-04-09T13:55:15.687Z"
   },
   {
    "duration": 8,
    "start_time": "2024-04-09T13:55:21.582Z"
   },
   {
    "duration": 81,
    "start_time": "2024-04-09T13:56:18.326Z"
   },
   {
    "duration": 25,
    "start_time": "2024-04-09T13:56:46.998Z"
   },
   {
    "duration": 39,
    "start_time": "2024-04-09T13:57:18.134Z"
   },
   {
    "duration": 32,
    "start_time": "2024-04-09T13:59:41.166Z"
   },
   {
    "duration": 20,
    "start_time": "2024-04-09T14:00:31.035Z"
   },
   {
    "duration": 20,
    "start_time": "2024-04-09T14:00:41.509Z"
   },
   {
    "duration": 22,
    "start_time": "2024-04-09T14:00:48.511Z"
   },
   {
    "duration": 15,
    "start_time": "2024-04-09T14:01:23.131Z"
   },
   {
    "duration": 19,
    "start_time": "2024-04-09T14:01:46.122Z"
   },
   {
    "duration": 14,
    "start_time": "2024-04-09T14:01:57.169Z"
   },
   {
    "duration": 21,
    "start_time": "2024-04-09T14:03:30.459Z"
   },
   {
    "duration": 16,
    "start_time": "2024-04-09T14:06:54.358Z"
   },
   {
    "duration": 17,
    "start_time": "2024-04-09T14:09:29.665Z"
   },
   {
    "duration": 16,
    "start_time": "2024-04-09T14:14:24.181Z"
   },
   {
    "duration": 13,
    "start_time": "2024-04-09T14:16:50.088Z"
   },
   {
    "duration": 28,
    "start_time": "2024-04-09T14:18:57.874Z"
   },
   {
    "duration": 12,
    "start_time": "2024-04-09T14:21:21.334Z"
   },
   {
    "duration": 12,
    "start_time": "2024-04-09T14:21:44.019Z"
   },
   {
    "duration": 18,
    "start_time": "2024-04-09T14:23:35.895Z"
   },
   {
    "duration": 16,
    "start_time": "2024-04-09T14:24:24.047Z"
   },
   {
    "duration": 12,
    "start_time": "2024-04-09T14:26:10.786Z"
   },
   {
    "duration": 22,
    "start_time": "2024-04-09T14:27:02.100Z"
   },
   {
    "duration": 15,
    "start_time": "2024-04-09T14:27:18.370Z"
   },
   {
    "duration": 12,
    "start_time": "2024-04-09T14:27:28.914Z"
   },
   {
    "duration": 11,
    "start_time": "2024-04-09T14:27:48.009Z"
   },
   {
    "duration": 12,
    "start_time": "2024-04-09T14:28:27.389Z"
   },
   {
    "duration": 11,
    "start_time": "2024-04-09T14:29:56.639Z"
   },
   {
    "duration": 11,
    "start_time": "2024-04-09T14:30:03.819Z"
   },
   {
    "duration": 18,
    "start_time": "2024-04-09T14:30:18.396Z"
   },
   {
    "duration": 16,
    "start_time": "2024-04-09T14:32:49.734Z"
   },
   {
    "duration": 17243,
    "start_time": "2024-04-09T14:33:07.935Z"
   },
   {
    "duration": 18409,
    "start_time": "2024-04-09T14:33:38.056Z"
   },
   {
    "duration": 18366,
    "start_time": "2024-04-09T14:34:19.409Z"
   },
   {
    "duration": 18884,
    "start_time": "2024-04-09T14:35:12.077Z"
   },
   {
    "duration": 18477,
    "start_time": "2024-04-09T14:35:47.695Z"
   },
   {
    "duration": 12,
    "start_time": "2024-04-09T14:57:38.868Z"
   },
   {
    "duration": 8,
    "start_time": "2024-04-09T14:57:43.500Z"
   },
   {
    "duration": 4,
    "start_time": "2024-04-09T14:57:58.455Z"
   },
   {
    "duration": 18,
    "start_time": "2024-04-09T15:01:11.661Z"
   },
   {
    "duration": 13,
    "start_time": "2024-04-09T15:01:18.586Z"
   },
   {
    "duration": 18,
    "start_time": "2024-04-09T15:01:23.211Z"
   },
   {
    "duration": 17,
    "start_time": "2024-04-09T15:01:32.888Z"
   },
   {
    "duration": 11,
    "start_time": "2024-04-09T15:01:54.116Z"
   },
   {
    "duration": 8,
    "start_time": "2024-04-09T15:02:20.702Z"
   },
   {
    "duration": 13,
    "start_time": "2024-04-09T15:02:24.952Z"
   },
   {
    "duration": 9,
    "start_time": "2024-04-09T15:02:31.093Z"
   },
   {
    "duration": 4,
    "start_time": "2024-04-09T15:07:37.329Z"
   },
   {
    "duration": 3,
    "start_time": "2024-04-09T15:07:37.889Z"
   },
   {
    "duration": 1523,
    "start_time": "2024-04-09T15:07:41.407Z"
   },
   {
    "duration": 66,
    "start_time": "2024-04-09T15:07:57.765Z"
   },
   {
    "duration": 3,
    "start_time": "2024-04-09T15:08:51.442Z"
   },
   {
    "duration": 5,
    "start_time": "2024-04-09T15:08:51.447Z"
   },
   {
    "duration": 10,
    "start_time": "2024-04-09T15:08:51.453Z"
   },
   {
    "duration": 2137,
    "start_time": "2024-04-09T15:08:51.465Z"
   },
   {
    "duration": 28,
    "start_time": "2024-04-09T15:08:53.603Z"
   },
   {
    "duration": 34,
    "start_time": "2024-04-09T15:08:53.632Z"
   },
   {
    "duration": 3,
    "start_time": "2024-04-09T15:08:53.668Z"
   },
   {
    "duration": 12,
    "start_time": "2024-04-09T15:08:53.673Z"
   },
   {
    "duration": 11,
    "start_time": "2024-04-09T15:08:53.687Z"
   },
   {
    "duration": 6,
    "start_time": "2024-04-09T15:08:53.699Z"
   },
   {
    "duration": 12,
    "start_time": "2024-04-09T15:08:53.707Z"
   },
   {
    "duration": 51,
    "start_time": "2024-04-09T15:08:53.721Z"
   },
   {
    "duration": 590,
    "start_time": "2024-04-09T15:08:53.774Z"
   },
   {
    "duration": 1028,
    "start_time": "2024-04-09T15:08:54.366Z"
   },
   {
    "duration": 377,
    "start_time": "2024-04-09T15:08:55.395Z"
   },
   {
    "duration": 130,
    "start_time": "2024-04-09T15:08:55.774Z"
   },
   {
    "duration": 125,
    "start_time": "2024-04-09T15:08:55.905Z"
   },
   {
    "duration": 146,
    "start_time": "2024-04-09T15:08:56.032Z"
   },
   {
    "duration": 131,
    "start_time": "2024-04-09T15:08:56.179Z"
   },
   {
    "duration": 9267,
    "start_time": "2024-04-09T15:08:56.312Z"
   },
   {
    "duration": 550,
    "start_time": "2024-04-09T15:09:05.581Z"
   },
   {
    "duration": 4,
    "start_time": "2024-04-09T15:09:06.132Z"
   },
   {
    "duration": 15,
    "start_time": "2024-04-09T15:09:06.140Z"
   },
   {
    "duration": 9,
    "start_time": "2024-04-09T15:09:06.156Z"
   },
   {
    "duration": 17,
    "start_time": "2024-04-09T15:09:06.166Z"
   },
   {
    "duration": 5,
    "start_time": "2024-04-09T15:09:06.192Z"
   },
   {
    "duration": 8,
    "start_time": "2024-04-09T15:09:06.199Z"
   },
   {
    "duration": 18,
    "start_time": "2024-04-09T15:09:06.208Z"
   },
   {
    "duration": 6,
    "start_time": "2024-04-09T15:09:06.227Z"
   },
   {
    "duration": 4,
    "start_time": "2024-04-09T15:09:06.235Z"
   },
   {
    "duration": 16,
    "start_time": "2024-04-09T15:09:06.241Z"
   },
   {
    "duration": 16,
    "start_time": "2024-04-09T15:09:06.259Z"
   },
   {
    "duration": 22,
    "start_time": "2024-04-09T15:09:06.276Z"
   },
   {
    "duration": 11,
    "start_time": "2024-04-09T15:09:06.299Z"
   },
   {
    "duration": 147,
    "start_time": "2024-04-09T15:09:06.311Z"
   },
   {
    "duration": 216,
    "start_time": "2024-04-09T15:09:06.460Z"
   },
   {
    "duration": 4,
    "start_time": "2024-04-09T15:09:06.677Z"
   },
   {
    "duration": 14,
    "start_time": "2024-04-09T15:09:06.682Z"
   },
   {
    "duration": 69,
    "start_time": "2024-04-09T15:09:06.698Z"
   },
   {
    "duration": 0,
    "start_time": "2024-04-09T15:09:06.769Z"
   },
   {
    "duration": 0,
    "start_time": "2024-04-09T15:09:06.770Z"
   },
   {
    "duration": 0,
    "start_time": "2024-04-09T15:09:06.771Z"
   },
   {
    "duration": 0,
    "start_time": "2024-04-09T15:09:06.772Z"
   },
   {
    "duration": 0,
    "start_time": "2024-04-09T15:09:06.773Z"
   },
   {
    "duration": 0,
    "start_time": "2024-04-09T15:09:06.774Z"
   },
   {
    "duration": 17,
    "start_time": "2024-04-09T15:09:30.549Z"
   },
   {
    "duration": 16,
    "start_time": "2024-04-09T15:09:56.560Z"
   },
   {
    "duration": 15,
    "start_time": "2024-04-09T15:11:06.548Z"
   },
   {
    "duration": 5,
    "start_time": "2024-04-09T15:16:53.050Z"
   },
   {
    "duration": 3,
    "start_time": "2024-04-09T15:17:11.860Z"
   },
   {
    "duration": 4,
    "start_time": "2024-04-09T15:17:31.714Z"
   },
   {
    "duration": 3,
    "start_time": "2024-04-09T15:17:44.673Z"
   },
   {
    "duration": 4,
    "start_time": "2024-04-09T15:17:46.661Z"
   },
   {
    "duration": 5,
    "start_time": "2024-04-09T15:17:52.322Z"
   },
   {
    "duration": 4,
    "start_time": "2024-04-09T15:18:06.767Z"
   },
   {
    "duration": 4,
    "start_time": "2024-04-09T15:18:32.770Z"
   },
   {
    "duration": 13,
    "start_time": "2024-04-09T15:27:37.835Z"
   },
   {
    "duration": 84,
    "start_time": "2024-04-09T15:34:33.466Z"
   },
   {
    "duration": 151,
    "start_time": "2024-04-09T15:34:38.874Z"
   },
   {
    "duration": 12,
    "start_time": "2024-04-09T15:35:20.780Z"
   },
   {
    "duration": 4,
    "start_time": "2024-04-09T15:48:04.530Z"
   },
   {
    "duration": 35,
    "start_time": "2024-04-09T15:48:04.536Z"
   },
   {
    "duration": 11,
    "start_time": "2024-04-09T15:48:04.572Z"
   },
   {
    "duration": 2101,
    "start_time": "2024-04-09T15:48:04.584Z"
   },
   {
    "duration": 28,
    "start_time": "2024-04-09T15:48:06.687Z"
   },
   {
    "duration": 35,
    "start_time": "2024-04-09T15:48:06.716Z"
   },
   {
    "duration": 4,
    "start_time": "2024-04-09T15:48:06.753Z"
   },
   {
    "duration": 16,
    "start_time": "2024-04-09T15:48:06.758Z"
   },
   {
    "duration": 11,
    "start_time": "2024-04-09T15:48:06.776Z"
   },
   {
    "duration": 10,
    "start_time": "2024-04-09T15:48:06.788Z"
   },
   {
    "duration": 9,
    "start_time": "2024-04-09T15:48:06.800Z"
   },
   {
    "duration": 28,
    "start_time": "2024-04-09T15:48:06.811Z"
   },
   {
    "duration": 603,
    "start_time": "2024-04-09T15:48:06.841Z"
   },
   {
    "duration": 1061,
    "start_time": "2024-04-09T15:48:07.447Z"
   },
   {
    "duration": 371,
    "start_time": "2024-04-09T15:48:08.509Z"
   },
   {
    "duration": 116,
    "start_time": "2024-04-09T15:48:08.881Z"
   },
   {
    "duration": 126,
    "start_time": "2024-04-09T15:48:08.998Z"
   },
   {
    "duration": 139,
    "start_time": "2024-04-09T15:48:09.126Z"
   },
   {
    "duration": 133,
    "start_time": "2024-04-09T15:48:09.267Z"
   },
   {
    "duration": 9173,
    "start_time": "2024-04-09T15:48:09.401Z"
   },
   {
    "duration": 553,
    "start_time": "2024-04-09T15:48:18.576Z"
   },
   {
    "duration": 4,
    "start_time": "2024-04-09T15:48:19.131Z"
   },
   {
    "duration": 14,
    "start_time": "2024-04-09T15:48:19.136Z"
   },
   {
    "duration": 8,
    "start_time": "2024-04-09T15:48:19.151Z"
   },
   {
    "duration": 9,
    "start_time": "2024-04-09T15:48:19.160Z"
   },
   {
    "duration": 12,
    "start_time": "2024-04-09T15:48:19.171Z"
   },
   {
    "duration": 7,
    "start_time": "2024-04-09T15:48:19.184Z"
   },
   {
    "duration": 19,
    "start_time": "2024-04-09T15:48:19.193Z"
   },
   {
    "duration": 12,
    "start_time": "2024-04-09T15:48:19.214Z"
   },
   {
    "duration": 27,
    "start_time": "2024-04-09T15:48:19.227Z"
   },
   {
    "duration": 13,
    "start_time": "2024-04-09T15:48:19.256Z"
   },
   {
    "duration": 32,
    "start_time": "2024-04-09T15:48:19.271Z"
   },
   {
    "duration": 143,
    "start_time": "2024-04-09T15:48:19.304Z"
   },
   {
    "duration": 203,
    "start_time": "2024-04-09T15:48:19.448Z"
   },
   {
    "duration": 4,
    "start_time": "2024-04-09T15:48:19.652Z"
   },
   {
    "duration": 25,
    "start_time": "2024-04-09T15:48:19.657Z"
   },
   {
    "duration": 19,
    "start_time": "2024-04-09T15:48:19.684Z"
   },
   {
    "duration": 30,
    "start_time": "2024-04-09T15:48:19.705Z"
   },
   {
    "duration": 18,
    "start_time": "2024-04-09T15:48:19.737Z"
   },
   {
    "duration": 15404,
    "start_time": "2024-04-09T15:48:19.757Z"
   },
   {
    "duration": 2,
    "start_time": "2024-04-09T15:48:35.165Z"
   },
   {
    "duration": 179,
    "start_time": "2024-04-09T15:48:35.168Z"
   },
   {
    "duration": 0,
    "start_time": "2024-04-09T15:48:35.348Z"
   },
   {
    "duration": 0,
    "start_time": "2024-04-09T15:48:35.353Z"
   },
   {
    "duration": 2,
    "start_time": "2024-04-09T16:02:05.054Z"
   },
   {
    "duration": 3,
    "start_time": "2024-04-09T16:02:16.032Z"
   },
   {
    "duration": 3,
    "start_time": "2024-04-09T16:02:41.255Z"
   },
   {
    "duration": 2,
    "start_time": "2024-04-09T16:02:43.916Z"
   },
   {
    "duration": 3,
    "start_time": "2024-04-09T16:02:53.093Z"
   },
   {
    "duration": 3,
    "start_time": "2024-04-09T16:03:09.132Z"
   },
   {
    "duration": 3,
    "start_time": "2024-04-09T16:03:10.180Z"
   },
   {
    "duration": 4,
    "start_time": "2024-04-09T16:03:10.673Z"
   },
   {
    "duration": 4,
    "start_time": "2024-04-09T16:17:01.202Z"
   },
   {
    "duration": 10,
    "start_time": "2024-04-09T16:17:35.017Z"
   },
   {
    "duration": 9,
    "start_time": "2024-04-09T16:17:53.847Z"
   },
   {
    "duration": 6,
    "start_time": "2024-04-09T16:20:14.797Z"
   },
   {
    "duration": 9,
    "start_time": "2024-04-09T16:20:30.824Z"
   },
   {
    "duration": 10,
    "start_time": "2024-04-09T16:20:39.062Z"
   },
   {
    "duration": 10,
    "start_time": "2024-04-09T16:20:52.452Z"
   },
   {
    "duration": 6,
    "start_time": "2024-04-09T16:20:58.485Z"
   },
   {
    "duration": 9,
    "start_time": "2024-04-09T16:23:38.424Z"
   },
   {
    "duration": 9,
    "start_time": "2024-04-09T16:23:48.446Z"
   },
   {
    "duration": 4,
    "start_time": "2024-04-09T16:25:37.902Z"
   },
   {
    "duration": 4,
    "start_time": "2024-04-09T16:27:51.235Z"
   },
   {
    "duration": 15096,
    "start_time": "2024-04-09T16:49:05.673Z"
   },
   {
    "duration": 15361,
    "start_time": "2024-04-09T16:51:22.392Z"
   },
   {
    "duration": 0,
    "start_time": "2024-04-09T16:52:37.573Z"
   },
   {
    "duration": 15510,
    "start_time": "2024-04-09T16:52:45.755Z"
   },
   {
    "duration": 17,
    "start_time": "2024-04-09T17:11:15.707Z"
   },
   {
    "duration": 9,
    "start_time": "2024-04-09T17:11:30.414Z"
   },
   {
    "duration": 15,
    "start_time": "2024-04-09T17:11:57.402Z"
   },
   {
    "duration": 6,
    "start_time": "2024-04-09T17:12:02.223Z"
   },
   {
    "duration": 15324,
    "start_time": "2024-04-09T17:12:32.048Z"
   },
   {
    "duration": 3,
    "start_time": "2024-04-09T17:17:58.936Z"
   },
   {
    "duration": 16,
    "start_time": "2024-04-09T17:17:58.941Z"
   },
   {
    "duration": 11,
    "start_time": "2024-04-09T17:17:58.959Z"
   },
   {
    "duration": 2205,
    "start_time": "2024-04-09T17:17:58.971Z"
   },
   {
    "duration": 28,
    "start_time": "2024-04-09T17:18:01.179Z"
   },
   {
    "duration": 106,
    "start_time": "2024-04-09T17:18:01.209Z"
   },
   {
    "duration": 53,
    "start_time": "2024-04-09T17:18:01.316Z"
   },
   {
    "duration": 59,
    "start_time": "2024-04-09T17:18:01.371Z"
   },
   {
    "duration": 93,
    "start_time": "2024-04-09T17:18:01.431Z"
   },
   {
    "duration": 63,
    "start_time": "2024-04-09T17:18:01.525Z"
   },
   {
    "duration": 69,
    "start_time": "2024-04-09T17:18:01.591Z"
   },
   {
    "duration": 108,
    "start_time": "2024-04-09T17:18:01.662Z"
   },
   {
    "duration": 705,
    "start_time": "2024-04-09T17:18:01.772Z"
   },
   {
    "duration": 1078,
    "start_time": "2024-04-09T17:18:02.478Z"
   },
   {
    "duration": 401,
    "start_time": "2024-04-09T17:18:03.558Z"
   },
   {
    "duration": 126,
    "start_time": "2024-04-09T17:18:03.960Z"
   },
   {
    "duration": 135,
    "start_time": "2024-04-09T17:18:04.087Z"
   },
   {
    "duration": 153,
    "start_time": "2024-04-09T17:18:04.224Z"
   },
   {
    "duration": 144,
    "start_time": "2024-04-09T17:18:04.378Z"
   },
   {
    "duration": 9232,
    "start_time": "2024-04-09T17:18:04.524Z"
   },
   {
    "duration": 573,
    "start_time": "2024-04-09T17:18:13.758Z"
   },
   {
    "duration": 3,
    "start_time": "2024-04-09T17:18:14.333Z"
   },
   {
    "duration": 11,
    "start_time": "2024-04-09T17:18:14.338Z"
   },
   {
    "duration": 10,
    "start_time": "2024-04-09T17:18:14.351Z"
   },
   {
    "duration": 14,
    "start_time": "2024-04-09T17:18:14.362Z"
   },
   {
    "duration": 12,
    "start_time": "2024-04-09T17:18:14.378Z"
   },
   {
    "duration": 7,
    "start_time": "2024-04-09T17:18:14.391Z"
   },
   {
    "duration": 9,
    "start_time": "2024-04-09T17:18:14.400Z"
   },
   {
    "duration": 19,
    "start_time": "2024-04-09T17:18:14.414Z"
   },
   {
    "duration": 33,
    "start_time": "2024-04-09T17:18:14.434Z"
   },
   {
    "duration": 16,
    "start_time": "2024-04-09T17:18:14.469Z"
   },
   {
    "duration": 21,
    "start_time": "2024-04-09T17:18:14.487Z"
   },
   {
    "duration": 148,
    "start_time": "2024-04-09T17:18:14.510Z"
   },
   {
    "duration": 199,
    "start_time": "2024-04-09T17:18:14.660Z"
   },
   {
    "duration": 4,
    "start_time": "2024-04-09T17:18:14.861Z"
   },
   {
    "duration": 14,
    "start_time": "2024-04-09T17:18:14.867Z"
   },
   {
    "duration": 10,
    "start_time": "2024-04-09T17:18:14.882Z"
   },
   {
    "duration": 11,
    "start_time": "2024-04-09T17:18:14.894Z"
   },
   {
    "duration": 7,
    "start_time": "2024-04-09T17:18:14.907Z"
   },
   {
    "duration": 15744,
    "start_time": "2024-04-09T17:18:14.915Z"
   },
   {
    "duration": 3,
    "start_time": "2024-04-09T17:18:30.660Z"
   },
   {
    "duration": 243,
    "start_time": "2024-04-09T17:18:30.665Z"
   },
   {
    "duration": 0,
    "start_time": "2024-04-09T17:18:30.909Z"
   },
   {
    "duration": 0,
    "start_time": "2024-04-09T17:18:30.911Z"
   },
   {
    "duration": 0,
    "start_time": "2024-04-09T17:18:30.912Z"
   },
   {
    "duration": 4,
    "start_time": "2024-04-09T17:20:39.526Z"
   },
   {
    "duration": 19871,
    "start_time": "2024-04-09T17:20:44.698Z"
   },
   {
    "duration": 18079,
    "start_time": "2024-04-09T17:21:26.299Z"
   },
   {
    "duration": 15146,
    "start_time": "2024-04-09T17:22:11.124Z"
   },
   {
    "duration": 16075,
    "start_time": "2024-04-09T17:22:54.996Z"
   },
   {
    "duration": 15179,
    "start_time": "2024-04-09T17:23:21.779Z"
   },
   {
    "duration": 15,
    "start_time": "2024-04-09T17:27:45.836Z"
   },
   {
    "duration": 9,
    "start_time": "2024-04-09T17:28:36.957Z"
   },
   {
    "duration": 8,
    "start_time": "2024-04-09T17:28:44.033Z"
   },
   {
    "duration": 4,
    "start_time": "2024-04-09T17:29:38.112Z"
   },
   {
    "duration": 3,
    "start_time": "2024-04-09T17:29:44.980Z"
   },
   {
    "duration": 4,
    "start_time": "2024-04-09T17:30:20.987Z"
   },
   {
    "duration": 3,
    "start_time": "2024-04-09T17:30:28.636Z"
   },
   {
    "duration": 4,
    "start_time": "2024-04-09T17:45:01.166Z"
   },
   {
    "duration": 8,
    "start_time": "2024-04-09T17:45:29.133Z"
   },
   {
    "duration": 2,
    "start_time": "2024-04-09T17:45:30.184Z"
   },
   {
    "duration": 12,
    "start_time": "2024-04-09T17:45:31.105Z"
   },
   {
    "duration": 8,
    "start_time": "2024-04-09T17:45:31.801Z"
   },
   {
    "duration": 13,
    "start_time": "2024-04-09T17:45:32.422Z"
   },
   {
    "duration": 9,
    "start_time": "2024-04-09T17:45:35.343Z"
   },
   {
    "duration": 163,
    "start_time": "2024-04-09T17:45:36.427Z"
   },
   {
    "duration": 199,
    "start_time": "2024-04-09T17:45:38.359Z"
   },
   {
    "duration": 4,
    "start_time": "2024-04-09T17:46:05.368Z"
   },
   {
    "duration": 3,
    "start_time": "2024-04-09T17:46:06.207Z"
   },
   {
    "duration": 11,
    "start_time": "2024-04-09T17:46:10.168Z"
   },
   {
    "duration": 3,
    "start_time": "2024-04-09T17:46:12.890Z"
   },
   {
    "duration": 4,
    "start_time": "2024-04-09T17:46:13.282Z"
   },
   {
    "duration": 8,
    "start_time": "2024-04-09T17:46:15.670Z"
   },
   {
    "duration": 4,
    "start_time": "2024-04-09T17:46:16.932Z"
   },
   {
    "duration": 3,
    "start_time": "2024-04-09T17:46:17.311Z"
   },
   {
    "duration": 6,
    "start_time": "2024-04-09T17:46:20.204Z"
   },
   {
    "duration": 14639,
    "start_time": "2024-04-09T17:46:22.829Z"
   },
   {
    "duration": 147,
    "start_time": "2024-04-09T17:50:31.306Z"
   },
   {
    "duration": 141,
    "start_time": "2024-04-09T17:50:41.640Z"
   },
   {
    "duration": 294,
    "start_time": "2024-04-09T17:51:56.661Z"
   },
   {
    "duration": 200,
    "start_time": "2024-04-09T17:52:01.605Z"
   },
   {
    "duration": 198,
    "start_time": "2024-04-09T17:53:29.294Z"
   },
   {
    "duration": 213,
    "start_time": "2024-04-09T17:54:06.175Z"
   },
   {
    "duration": 3,
    "start_time": "2024-04-09T17:54:22.725Z"
   },
   {
    "duration": 10,
    "start_time": "2024-04-09T17:54:22.729Z"
   },
   {
    "duration": 8,
    "start_time": "2024-04-09T17:54:22.741Z"
   },
   {
    "duration": 2100,
    "start_time": "2024-04-09T17:54:22.751Z"
   },
   {
    "duration": 28,
    "start_time": "2024-04-09T17:54:24.853Z"
   },
   {
    "duration": 33,
    "start_time": "2024-04-09T17:54:24.882Z"
   },
   {
    "duration": 3,
    "start_time": "2024-04-09T17:54:24.917Z"
   },
   {
    "duration": 10,
    "start_time": "2024-04-09T17:54:24.922Z"
   },
   {
    "duration": 20,
    "start_time": "2024-04-09T17:54:24.933Z"
   },
   {
    "duration": 10,
    "start_time": "2024-04-09T17:54:24.956Z"
   },
   {
    "duration": 8,
    "start_time": "2024-04-09T17:54:24.967Z"
   },
   {
    "duration": 24,
    "start_time": "2024-04-09T17:54:24.976Z"
   },
   {
    "duration": 594,
    "start_time": "2024-04-09T17:54:25.002Z"
   },
   {
    "duration": 1080,
    "start_time": "2024-04-09T17:54:25.597Z"
   },
   {
    "duration": 377,
    "start_time": "2024-04-09T17:54:26.679Z"
   },
   {
    "duration": 130,
    "start_time": "2024-04-09T17:54:27.057Z"
   },
   {
    "duration": 125,
    "start_time": "2024-04-09T17:54:27.189Z"
   },
   {
    "duration": 147,
    "start_time": "2024-04-09T17:54:27.316Z"
   },
   {
    "duration": 140,
    "start_time": "2024-04-09T17:54:27.465Z"
   },
   {
    "duration": 9104,
    "start_time": "2024-04-09T17:54:27.607Z"
   },
   {
    "duration": 525,
    "start_time": "2024-04-09T17:54:36.714Z"
   },
   {
    "duration": 3,
    "start_time": "2024-04-09T17:54:37.241Z"
   },
   {
    "duration": 9,
    "start_time": "2024-04-09T17:54:37.246Z"
   },
   {
    "duration": 14,
    "start_time": "2024-04-09T17:54:37.256Z"
   },
   {
    "duration": 9,
    "start_time": "2024-04-09T17:54:37.272Z"
   },
   {
    "duration": 11,
    "start_time": "2024-04-09T17:54:37.283Z"
   },
   {
    "duration": 8,
    "start_time": "2024-04-09T17:54:37.295Z"
   },
   {
    "duration": 3,
    "start_time": "2024-04-09T17:54:37.306Z"
   },
   {
    "duration": 12,
    "start_time": "2024-04-09T17:54:37.310Z"
   },
   {
    "duration": 33,
    "start_time": "2024-04-09T17:54:37.323Z"
   },
   {
    "duration": 13,
    "start_time": "2024-04-09T17:54:37.357Z"
   },
   {
    "duration": 161,
    "start_time": "2024-04-09T17:54:37.372Z"
   },
   {
    "duration": 218,
    "start_time": "2024-04-09T17:54:37.535Z"
   },
   {
    "duration": 3,
    "start_time": "2024-04-09T17:54:37.755Z"
   },
   {
    "duration": 8,
    "start_time": "2024-04-09T17:54:37.759Z"
   },
   {
    "duration": 12,
    "start_time": "2024-04-09T17:54:37.768Z"
   },
   {
    "duration": 4,
    "start_time": "2024-04-09T17:54:37.782Z"
   },
   {
    "duration": 24,
    "start_time": "2024-04-09T17:54:37.787Z"
   },
   {
    "duration": 12,
    "start_time": "2024-04-09T17:54:37.812Z"
   },
   {
    "duration": 29,
    "start_time": "2024-04-09T17:54:37.826Z"
   },
   {
    "duration": 24,
    "start_time": "2024-04-09T17:54:37.857Z"
   },
   {
    "duration": 7,
    "start_time": "2024-04-09T17:54:37.883Z"
   },
   {
    "duration": 14881,
    "start_time": "2024-04-09T17:54:37.892Z"
   },
   {
    "duration": 4,
    "start_time": "2024-04-09T17:54:52.853Z"
   },
   {
    "duration": 170,
    "start_time": "2024-04-09T17:54:52.858Z"
   },
   {
    "duration": 0,
    "start_time": "2024-04-09T17:54:53.029Z"
   },
   {
    "duration": 0,
    "start_time": "2024-04-09T17:54:53.031Z"
   },
   {
    "duration": 0,
    "start_time": "2024-04-09T17:54:53.032Z"
   },
   {
    "duration": 60,
    "start_time": "2024-04-09T18:08:13.353Z"
   },
   {
    "duration": 12,
    "start_time": "2024-04-09T18:08:17.123Z"
   },
   {
    "duration": 11,
    "start_time": "2024-04-09T18:09:06.501Z"
   },
   {
    "duration": 11,
    "start_time": "2024-04-09T18:13:20.630Z"
   },
   {
    "duration": 10,
    "start_time": "2024-04-09T18:13:43.316Z"
   },
   {
    "duration": 10,
    "start_time": "2024-04-09T18:14:22.054Z"
   },
   {
    "duration": 11,
    "start_time": "2024-04-09T18:14:32.149Z"
   },
   {
    "duration": 14818,
    "start_time": "2024-04-09T18:18:43.645Z"
   },
   {
    "duration": 6,
    "start_time": "2024-04-09T18:19:22.148Z"
   },
   {
    "duration": 11,
    "start_time": "2024-04-09T18:19:22.156Z"
   },
   {
    "duration": 3,
    "start_time": "2024-04-09T18:19:22.168Z"
   },
   {
    "duration": 2096,
    "start_time": "2024-04-09T18:19:22.173Z"
   },
   {
    "duration": 29,
    "start_time": "2024-04-09T18:19:24.271Z"
   },
   {
    "duration": 35,
    "start_time": "2024-04-09T18:19:24.301Z"
   },
   {
    "duration": 3,
    "start_time": "2024-04-09T18:19:24.338Z"
   },
   {
    "duration": 13,
    "start_time": "2024-04-09T18:19:24.343Z"
   },
   {
    "duration": 16,
    "start_time": "2024-04-09T18:19:24.357Z"
   },
   {
    "duration": 7,
    "start_time": "2024-04-09T18:19:24.374Z"
   },
   {
    "duration": 7,
    "start_time": "2024-04-09T18:19:24.383Z"
   },
   {
    "duration": 28,
    "start_time": "2024-04-09T18:19:24.391Z"
   },
   {
    "duration": 608,
    "start_time": "2024-04-09T18:19:24.420Z"
   },
   {
    "duration": 1040,
    "start_time": "2024-04-09T18:19:25.032Z"
   },
   {
    "duration": 376,
    "start_time": "2024-04-09T18:19:26.073Z"
   },
   {
    "duration": 148,
    "start_time": "2024-04-09T18:19:26.450Z"
   },
   {
    "duration": 130,
    "start_time": "2024-04-09T18:19:26.600Z"
   },
   {
    "duration": 140,
    "start_time": "2024-04-09T18:19:26.732Z"
   },
   {
    "duration": 132,
    "start_time": "2024-04-09T18:19:26.873Z"
   },
   {
    "duration": 9049,
    "start_time": "2024-04-09T18:19:27.006Z"
   },
   {
    "duration": 491,
    "start_time": "2024-04-09T18:19:36.057Z"
   },
   {
    "duration": 4,
    "start_time": "2024-04-09T18:19:36.549Z"
   },
   {
    "duration": 54,
    "start_time": "2024-04-09T18:19:36.555Z"
   },
   {
    "duration": 6,
    "start_time": "2024-04-09T18:19:36.610Z"
   },
   {
    "duration": 7,
    "start_time": "2024-04-09T18:19:36.618Z"
   },
   {
    "duration": 21,
    "start_time": "2024-04-09T18:19:36.626Z"
   },
   {
    "duration": 21,
    "start_time": "2024-04-09T18:19:36.649Z"
   },
   {
    "duration": 16,
    "start_time": "2024-04-09T18:19:36.672Z"
   },
   {
    "duration": 13,
    "start_time": "2024-04-09T18:19:36.689Z"
   },
   {
    "duration": 10,
    "start_time": "2024-04-09T18:19:36.704Z"
   },
   {
    "duration": 13,
    "start_time": "2024-04-09T18:19:36.715Z"
   },
   {
    "duration": 143,
    "start_time": "2024-04-09T18:19:36.729Z"
   },
   {
    "duration": 220,
    "start_time": "2024-04-09T18:19:36.873Z"
   },
   {
    "duration": 4,
    "start_time": "2024-04-09T18:19:37.094Z"
   },
   {
    "duration": 19,
    "start_time": "2024-04-09T18:19:37.099Z"
   },
   {
    "duration": 16,
    "start_time": "2024-04-09T18:19:37.119Z"
   },
   {
    "duration": 28,
    "start_time": "2024-04-09T18:19:37.136Z"
   },
   {
    "duration": 14499,
    "start_time": "2024-04-09T18:19:37.166Z"
   },
   {
    "duration": 6,
    "start_time": "2024-04-09T18:19:51.666Z"
   },
   {
    "duration": 13,
    "start_time": "2024-04-09T18:19:51.673Z"
   },
   {
    "duration": 191,
    "start_time": "2024-04-09T18:19:51.689Z"
   },
   {
    "duration": 0,
    "start_time": "2024-04-09T18:19:51.881Z"
   },
   {
    "duration": 0,
    "start_time": "2024-04-09T18:19:51.883Z"
   },
   {
    "duration": 0,
    "start_time": "2024-04-09T18:19:51.884Z"
   },
   {
    "duration": 199,
    "start_time": "2024-04-09T18:21:08.060Z"
   },
   {
    "duration": 3206,
    "start_time": "2024-04-09T19:37:40.497Z"
   },
   {
    "duration": 6493,
    "start_time": "2024-04-09T19:37:43.728Z"
   },
   {
    "duration": 3,
    "start_time": "2024-04-09T19:38:08.325Z"
   },
   {
    "duration": 3,
    "start_time": "2024-04-09T19:38:08.330Z"
   },
   {
    "duration": 5,
    "start_time": "2024-04-09T19:38:08.334Z"
   },
   {
    "duration": 2405,
    "start_time": "2024-04-09T19:38:08.341Z"
   },
   {
    "duration": 91,
    "start_time": "2024-04-09T19:38:10.748Z"
   },
   {
    "duration": 37,
    "start_time": "2024-04-09T19:38:10.841Z"
   },
   {
    "duration": 5,
    "start_time": "2024-04-09T19:38:10.880Z"
   },
   {
    "duration": 11,
    "start_time": "2024-04-09T19:38:10.887Z"
   },
   {
    "duration": 15,
    "start_time": "2024-04-09T19:38:10.900Z"
   },
   {
    "duration": 12,
    "start_time": "2024-04-09T19:38:10.917Z"
   },
   {
    "duration": 9,
    "start_time": "2024-04-09T19:38:10.931Z"
   },
   {
    "duration": 27,
    "start_time": "2024-04-09T19:38:10.941Z"
   },
   {
    "duration": 646,
    "start_time": "2024-04-09T19:38:10.970Z"
   },
   {
    "duration": 1059,
    "start_time": "2024-04-09T19:38:11.617Z"
   },
   {
    "duration": 397,
    "start_time": "2024-04-09T19:38:12.678Z"
   },
   {
    "duration": 120,
    "start_time": "2024-04-09T19:38:13.077Z"
   },
   {
    "duration": 129,
    "start_time": "2024-04-09T19:38:13.199Z"
   },
   {
    "duration": 135,
    "start_time": "2024-04-09T19:38:13.330Z"
   },
   {
    "duration": 134,
    "start_time": "2024-04-09T19:38:13.467Z"
   },
   {
    "duration": 9339,
    "start_time": "2024-04-09T19:38:13.603Z"
   },
   {
    "duration": 548,
    "start_time": "2024-04-09T19:38:22.945Z"
   },
   {
    "duration": 4,
    "start_time": "2024-04-09T19:38:23.494Z"
   },
   {
    "duration": 17,
    "start_time": "2024-04-09T19:38:23.500Z"
   },
   {
    "duration": 5,
    "start_time": "2024-04-09T19:38:23.518Z"
   },
   {
    "duration": 8,
    "start_time": "2024-04-09T19:38:23.525Z"
   },
   {
    "duration": 19,
    "start_time": "2024-04-09T19:38:23.534Z"
   },
   {
    "duration": 7,
    "start_time": "2024-04-09T19:38:23.554Z"
   },
   {
    "duration": 10,
    "start_time": "2024-04-09T19:38:23.562Z"
   },
   {
    "duration": 14,
    "start_time": "2024-04-09T19:38:23.573Z"
   },
   {
    "duration": 10,
    "start_time": "2024-04-09T19:38:23.588Z"
   },
   {
    "duration": 25,
    "start_time": "2024-04-09T19:38:23.599Z"
   },
   {
    "duration": 157,
    "start_time": "2024-04-09T19:38:23.625Z"
   },
   {
    "duration": 225,
    "start_time": "2024-04-09T19:38:23.783Z"
   },
   {
    "duration": 6,
    "start_time": "2024-04-09T19:38:24.009Z"
   },
   {
    "duration": 3,
    "start_time": "2024-04-09T19:38:24.017Z"
   },
   {
    "duration": 12,
    "start_time": "2024-04-09T19:38:24.022Z"
   },
   {
    "duration": 9,
    "start_time": "2024-04-09T19:38:24.036Z"
   },
   {
    "duration": 15774,
    "start_time": "2024-04-09T19:38:24.046Z"
   },
   {
    "duration": 6,
    "start_time": "2024-04-09T19:38:39.822Z"
   },
   {
    "duration": 4,
    "start_time": "2024-04-09T19:38:39.829Z"
   },
   {
    "duration": 188,
    "start_time": "2024-04-09T19:38:39.834Z"
   },
   {
    "duration": 0,
    "start_time": "2024-04-09T19:38:40.024Z"
   },
   {
    "duration": 0,
    "start_time": "2024-04-09T19:38:40.026Z"
   },
   {
    "duration": 0,
    "start_time": "2024-04-09T19:38:40.027Z"
   },
   {
    "duration": 10,
    "start_time": "2024-04-09T19:38:52.480Z"
   },
   {
    "duration": 13,
    "start_time": "2024-04-09T19:38:55.044Z"
   },
   {
    "duration": 5,
    "start_time": "2024-04-09T19:39:15.538Z"
   },
   {
    "duration": 14,
    "start_time": "2024-04-09T19:39:16.280Z"
   },
   {
    "duration": 3,
    "start_time": "2024-04-09T19:40:11.460Z"
   },
   {
    "duration": 5,
    "start_time": "2024-04-09T19:40:11.465Z"
   },
   {
    "duration": 2206,
    "start_time": "2024-04-09T19:40:11.471Z"
   },
   {
    "duration": 29,
    "start_time": "2024-04-09T19:40:13.678Z"
   },
   {
    "duration": 34,
    "start_time": "2024-04-09T19:40:13.709Z"
   },
   {
    "duration": 4,
    "start_time": "2024-04-09T19:40:13.744Z"
   },
   {
    "duration": 23,
    "start_time": "2024-04-09T19:40:13.750Z"
   },
   {
    "duration": 12,
    "start_time": "2024-04-09T19:40:13.775Z"
   },
   {
    "duration": 4,
    "start_time": "2024-04-09T19:40:13.790Z"
   },
   {
    "duration": 27,
    "start_time": "2024-04-09T19:40:13.795Z"
   },
   {
    "duration": 29,
    "start_time": "2024-04-09T19:40:13.823Z"
   },
   {
    "duration": 634,
    "start_time": "2024-04-09T19:40:13.854Z"
   },
   {
    "duration": 1158,
    "start_time": "2024-04-09T19:40:14.490Z"
   },
   {
    "duration": 434,
    "start_time": "2024-04-09T19:40:15.650Z"
   },
   {
    "duration": 134,
    "start_time": "2024-04-09T19:40:16.086Z"
   },
   {
    "duration": 139,
    "start_time": "2024-04-09T19:40:16.222Z"
   },
   {
    "duration": 144,
    "start_time": "2024-04-09T19:40:16.363Z"
   },
   {
    "duration": 135,
    "start_time": "2024-04-09T19:40:16.509Z"
   },
   {
    "duration": 9992,
    "start_time": "2024-04-09T19:40:16.646Z"
   },
   {
    "duration": 598,
    "start_time": "2024-04-09T19:40:26.641Z"
   },
   {
    "duration": 3,
    "start_time": "2024-04-09T19:40:27.241Z"
   },
   {
    "duration": 5,
    "start_time": "2024-04-09T19:40:27.246Z"
   },
   {
    "duration": 6,
    "start_time": "2024-04-09T19:40:27.253Z"
   },
   {
    "duration": 6,
    "start_time": "2024-04-09T19:40:27.262Z"
   },
   {
    "duration": 15,
    "start_time": "2024-04-09T19:40:27.269Z"
   },
   {
    "duration": 30,
    "start_time": "2024-04-09T19:40:27.286Z"
   },
   {
    "duration": 9,
    "start_time": "2024-04-09T19:40:27.318Z"
   },
   {
    "duration": 15,
    "start_time": "2024-04-09T19:40:27.329Z"
   },
   {
    "duration": 18,
    "start_time": "2024-04-09T19:40:27.346Z"
   },
   {
    "duration": 34,
    "start_time": "2024-04-09T19:40:27.366Z"
   },
   {
    "duration": 176,
    "start_time": "2024-04-09T19:40:27.401Z"
   },
   {
    "duration": 222,
    "start_time": "2024-04-09T19:40:27.579Z"
   },
   {
    "duration": 3,
    "start_time": "2024-04-09T19:40:27.803Z"
   },
   {
    "duration": 9,
    "start_time": "2024-04-09T19:40:27.807Z"
   },
   {
    "duration": 12,
    "start_time": "2024-04-09T19:40:27.817Z"
   },
   {
    "duration": 11,
    "start_time": "2024-04-09T19:40:27.830Z"
   },
   {
    "duration": 16684,
    "start_time": "2024-04-09T19:40:27.843Z"
   },
   {
    "duration": 7,
    "start_time": "2024-04-09T19:40:44.528Z"
   },
   {
    "duration": 6,
    "start_time": "2024-04-09T19:40:44.536Z"
   },
   {
    "duration": 5,
    "start_time": "2024-04-09T19:40:44.543Z"
   },
   {
    "duration": 208,
    "start_time": "2024-04-09T19:40:44.550Z"
   },
   {
    "duration": 0,
    "start_time": "2024-04-09T19:40:44.759Z"
   },
   {
    "duration": 171,
    "start_time": "2024-04-09T19:42:13.148Z"
   },
   {
    "duration": 6839,
    "start_time": "2024-04-10T09:32:30.469Z"
   },
   {
    "duration": 2999,
    "start_time": "2024-04-10T09:32:52.002Z"
   },
   {
    "duration": 3,
    "start_time": "2024-04-10T09:33:07.729Z"
   },
   {
    "duration": 7,
    "start_time": "2024-04-10T09:33:07.734Z"
   },
   {
    "duration": 2367,
    "start_time": "2024-04-10T09:33:07.743Z"
   },
   {
    "duration": 74,
    "start_time": "2024-04-10T09:33:10.112Z"
   },
   {
    "duration": 32,
    "start_time": "2024-04-10T09:33:10.188Z"
   },
   {
    "duration": 4,
    "start_time": "2024-04-10T09:33:10.222Z"
   },
   {
    "duration": 21,
    "start_time": "2024-04-10T09:33:10.227Z"
   },
   {
    "duration": 10,
    "start_time": "2024-04-10T09:33:10.249Z"
   },
   {
    "duration": 7,
    "start_time": "2024-04-10T09:33:10.261Z"
   },
   {
    "duration": 9,
    "start_time": "2024-04-10T09:33:10.270Z"
   },
   {
    "duration": 25,
    "start_time": "2024-04-10T09:33:10.280Z"
   },
   {
    "duration": 600,
    "start_time": "2024-04-10T09:33:10.306Z"
   },
   {
    "duration": 1071,
    "start_time": "2024-04-10T09:33:10.908Z"
   },
   {
    "duration": 385,
    "start_time": "2024-04-10T09:33:11.981Z"
   },
   {
    "duration": 126,
    "start_time": "2024-04-10T09:33:12.368Z"
   },
   {
    "duration": 142,
    "start_time": "2024-04-10T09:33:12.496Z"
   },
   {
    "duration": 160,
    "start_time": "2024-04-10T09:33:12.640Z"
   },
   {
    "duration": 153,
    "start_time": "2024-04-10T09:33:12.802Z"
   },
   {
    "duration": 9934,
    "start_time": "2024-04-10T09:33:12.957Z"
   },
   {
    "duration": 635,
    "start_time": "2024-04-10T09:33:22.893Z"
   },
   {
    "duration": 5,
    "start_time": "2024-04-10T09:33:23.529Z"
   },
   {
    "duration": 12,
    "start_time": "2024-04-10T09:33:23.535Z"
   },
   {
    "duration": 8,
    "start_time": "2024-04-10T09:33:23.548Z"
   },
   {
    "duration": 11,
    "start_time": "2024-04-10T09:33:23.565Z"
   },
   {
    "duration": 20,
    "start_time": "2024-04-10T09:33:23.577Z"
   },
   {
    "duration": 7,
    "start_time": "2024-04-10T09:33:23.599Z"
   },
   {
    "duration": 5,
    "start_time": "2024-04-10T09:33:23.607Z"
   },
   {
    "duration": 29,
    "start_time": "2024-04-10T09:33:23.613Z"
   },
   {
    "duration": 27,
    "start_time": "2024-04-10T09:33:23.643Z"
   },
   {
    "duration": 21,
    "start_time": "2024-04-10T09:33:23.671Z"
   },
   {
    "duration": 168,
    "start_time": "2024-04-10T09:33:23.694Z"
   },
   {
    "duration": 229,
    "start_time": "2024-04-10T09:33:23.864Z"
   },
   {
    "duration": 3,
    "start_time": "2024-04-10T09:33:24.095Z"
   },
   {
    "duration": 5,
    "start_time": "2024-04-10T09:33:24.099Z"
   },
   {
    "duration": 13,
    "start_time": "2024-04-10T09:33:24.106Z"
   },
   {
    "duration": 46,
    "start_time": "2024-04-10T09:33:24.121Z"
   },
   {
    "duration": 17204,
    "start_time": "2024-04-10T09:33:24.169Z"
   },
   {
    "duration": 6,
    "start_time": "2024-04-10T09:33:41.376Z"
   },
   {
    "duration": 4,
    "start_time": "2024-04-10T09:33:41.384Z"
   },
   {
    "duration": 11,
    "start_time": "2024-04-10T09:33:41.389Z"
   },
   {
    "duration": 189,
    "start_time": "2024-04-10T09:33:41.401Z"
   },
   {
    "duration": 0,
    "start_time": "2024-04-10T09:33:41.592Z"
   },
   {
    "duration": 12,
    "start_time": "2024-04-10T09:40:19.381Z"
   },
   {
    "duration": 11,
    "start_time": "2024-04-10T09:40:39.953Z"
   },
   {
    "duration": 26,
    "start_time": "2024-04-10T09:45:08.070Z"
   },
   {
    "duration": 151,
    "start_time": "2024-04-10T09:45:18.672Z"
   },
   {
    "duration": 122,
    "start_time": "2024-04-10T09:45:26.210Z"
   },
   {
    "duration": 141,
    "start_time": "2024-04-10T09:45:33.244Z"
   },
   {
    "duration": 153,
    "start_time": "2024-04-10T09:45:37.218Z"
   },
   {
    "duration": 12,
    "start_time": "2024-04-10T09:45:40.310Z"
   },
   {
    "duration": 20,
    "start_time": "2024-04-10T09:49:21.823Z"
   },
   {
    "duration": 4,
    "start_time": "2024-04-10T09:49:47.754Z"
   },
   {
    "duration": 3,
    "start_time": "2024-04-10T09:50:08.606Z"
   },
   {
    "duration": 57,
    "start_time": "2024-04-10T09:50:41.016Z"
   },
   {
    "duration": 18,
    "start_time": "2024-04-10T09:59:36.612Z"
   },
   {
    "duration": 14,
    "start_time": "2024-04-10T10:00:34.364Z"
   },
   {
    "duration": 4,
    "start_time": "2024-04-10T10:02:31.383Z"
   },
   {
    "duration": 36,
    "start_time": "2024-04-10T10:02:31.389Z"
   },
   {
    "duration": 2287,
    "start_time": "2024-04-10T10:02:31.427Z"
   },
   {
    "duration": 27,
    "start_time": "2024-04-10T10:02:33.717Z"
   },
   {
    "duration": 35,
    "start_time": "2024-04-10T10:02:33.746Z"
   },
   {
    "duration": 4,
    "start_time": "2024-04-10T10:02:33.783Z"
   },
   {
    "duration": 15,
    "start_time": "2024-04-10T10:02:33.788Z"
   },
   {
    "duration": 18,
    "start_time": "2024-04-10T10:02:33.805Z"
   },
   {
    "duration": 7,
    "start_time": "2024-04-10T10:02:33.825Z"
   },
   {
    "duration": 36,
    "start_time": "2024-04-10T10:02:33.833Z"
   },
   {
    "duration": 32,
    "start_time": "2024-04-10T10:02:33.870Z"
   },
   {
    "duration": 607,
    "start_time": "2024-04-10T10:02:33.903Z"
   },
   {
    "duration": 1062,
    "start_time": "2024-04-10T10:02:34.511Z"
   },
   {
    "duration": 414,
    "start_time": "2024-04-10T10:02:35.575Z"
   },
   {
    "duration": 127,
    "start_time": "2024-04-10T10:02:35.991Z"
   },
   {
    "duration": 131,
    "start_time": "2024-04-10T10:02:36.119Z"
   },
   {
    "duration": 144,
    "start_time": "2024-04-10T10:02:36.251Z"
   },
   {
    "duration": 146,
    "start_time": "2024-04-10T10:02:36.397Z"
   },
   {
    "duration": 9467,
    "start_time": "2024-04-10T10:02:36.544Z"
   },
   {
    "duration": 577,
    "start_time": "2024-04-10T10:02:46.065Z"
   },
   {
    "duration": 4,
    "start_time": "2024-04-10T10:02:46.644Z"
   },
   {
    "duration": 22,
    "start_time": "2024-04-10T10:02:46.649Z"
   },
   {
    "duration": 49,
    "start_time": "2024-04-10T10:02:46.673Z"
   },
   {
    "duration": 11,
    "start_time": "2024-04-10T10:02:46.725Z"
   },
   {
    "duration": 24,
    "start_time": "2024-04-10T10:02:46.738Z"
   },
   {
    "duration": 11,
    "start_time": "2024-04-10T10:02:46.763Z"
   },
   {
    "duration": 4,
    "start_time": "2024-04-10T10:02:46.776Z"
   },
   {
    "duration": 44,
    "start_time": "2024-04-10T10:02:46.782Z"
   },
   {
    "duration": 23,
    "start_time": "2024-04-10T10:02:46.828Z"
   },
   {
    "duration": 21,
    "start_time": "2024-04-10T10:02:46.852Z"
   },
   {
    "duration": 152,
    "start_time": "2024-04-10T10:02:46.875Z"
   },
   {
    "duration": 233,
    "start_time": "2024-04-10T10:02:47.028Z"
   },
   {
    "duration": 4,
    "start_time": "2024-04-10T10:02:47.264Z"
   },
   {
    "duration": 11,
    "start_time": "2024-04-10T10:02:47.269Z"
   },
   {
    "duration": 19,
    "start_time": "2024-04-10T10:02:47.282Z"
   },
   {
    "duration": 14,
    "start_time": "2024-04-10T10:02:47.303Z"
   },
   {
    "duration": 16977,
    "start_time": "2024-04-10T10:02:47.319Z"
   },
   {
    "duration": 76,
    "start_time": "2024-04-10T10:03:04.298Z"
   },
   {
    "duration": 17,
    "start_time": "2024-04-10T10:03:04.376Z"
   },
   {
    "duration": 10,
    "start_time": "2024-04-10T10:03:04.394Z"
   },
   {
    "duration": 156,
    "start_time": "2024-04-10T10:03:04.406Z"
   },
   {
    "duration": 0,
    "start_time": "2024-04-10T10:03:04.564Z"
   },
   {
    "duration": 19,
    "start_time": "2024-04-10T10:15:48.360Z"
   },
   {
    "duration": 57,
    "start_time": "2024-04-10T10:16:53.367Z"
   },
   {
    "duration": 15,
    "start_time": "2024-04-10T10:16:59.303Z"
   },
   {
    "duration": 3,
    "start_time": "2024-04-10T10:17:07.301Z"
   },
   {
    "duration": 10,
    "start_time": "2024-04-10T10:17:10.852Z"
   },
   {
    "duration": 10,
    "start_time": "2024-04-10T10:18:20.194Z"
   },
   {
    "duration": 11,
    "start_time": "2024-04-10T10:19:21.852Z"
   },
   {
    "duration": 13,
    "start_time": "2024-04-10T10:19:40.082Z"
   },
   {
    "duration": 21,
    "start_time": "2024-04-10T10:24:39.583Z"
   },
   {
    "duration": 211,
    "start_time": "2024-04-10T10:24:50.041Z"
   },
   {
    "duration": 70,
    "start_time": "2024-04-10T10:26:10.023Z"
   },
   {
    "duration": 213,
    "start_time": "2024-04-10T10:26:20.243Z"
   },
   {
    "duration": 222,
    "start_time": "2024-04-10T10:26:50.068Z"
   },
   {
    "duration": 230,
    "start_time": "2024-04-10T10:28:28.703Z"
   },
   {
    "duration": 227,
    "start_time": "2024-04-10T10:29:01.015Z"
   },
   {
    "duration": 369,
    "start_time": "2024-04-10T10:33:19.448Z"
   },
   {
    "duration": 211,
    "start_time": "2024-04-10T10:33:59.378Z"
   },
   {
    "duration": 211,
    "start_time": "2024-04-10T10:34:29.617Z"
   },
   {
    "duration": 12,
    "start_time": "2024-04-10T10:35:04.929Z"
   },
   {
    "duration": 30,
    "start_time": "2024-04-10T10:35:15.559Z"
   },
   {
    "duration": 14,
    "start_time": "2024-04-10T10:35:38.880Z"
   },
   {
    "duration": 14,
    "start_time": "2024-04-10T10:35:58.971Z"
   },
   {
    "duration": 14,
    "start_time": "2024-04-10T10:36:10.286Z"
   },
   {
    "duration": 13,
    "start_time": "2024-04-10T10:36:20.026Z"
   },
   {
    "duration": 15,
    "start_time": "2024-04-10T10:36:52.625Z"
   },
   {
    "duration": 14,
    "start_time": "2024-04-10T10:36:57.289Z"
   },
   {
    "duration": 16,
    "start_time": "2024-04-10T10:37:08.526Z"
   },
   {
    "duration": 212,
    "start_time": "2024-04-10T10:38:32.750Z"
   },
   {
    "duration": 175,
    "start_time": "2024-04-10T10:39:05.053Z"
   },
   {
    "duration": 170,
    "start_time": "2024-04-10T10:39:34.593Z"
   },
   {
    "duration": 150,
    "start_time": "2024-04-10T10:40:50.305Z"
   },
   {
    "duration": 164,
    "start_time": "2024-04-10T10:41:34.503Z"
   },
   {
    "duration": 7,
    "start_time": "2024-04-10T10:42:03.640Z"
   },
   {
    "duration": 5,
    "start_time": "2024-04-10T10:42:14.930Z"
   },
   {
    "duration": 172,
    "start_time": "2024-04-10T10:43:39.519Z"
   },
   {
    "duration": 155,
    "start_time": "2024-04-10T10:45:53.220Z"
   },
   {
    "duration": 175,
    "start_time": "2024-04-10T10:46:10.108Z"
   },
   {
    "duration": 158,
    "start_time": "2024-04-10T10:46:21.204Z"
   },
   {
    "duration": 300,
    "start_time": "2024-04-10T10:46:58.543Z"
   },
   {
    "duration": 19604,
    "start_time": "2024-04-10T10:49:24.062Z"
   },
   {
    "duration": 185,
    "start_time": "2024-04-10T10:49:51.088Z"
   },
   {
    "duration": 160,
    "start_time": "2024-04-10T10:50:12.695Z"
   },
   {
    "duration": 172,
    "start_time": "2024-04-10T10:50:44.203Z"
   },
   {
    "duration": 195,
    "start_time": "2024-04-10T10:51:21.564Z"
   },
   {
    "duration": 176,
    "start_time": "2024-04-10T10:51:35.715Z"
   },
   {
    "duration": 14,
    "start_time": "2024-04-10T10:55:42.488Z"
   },
   {
    "duration": 5,
    "start_time": "2024-04-10T11:00:03.173Z"
   },
   {
    "duration": 13,
    "start_time": "2024-04-10T11:02:02.933Z"
   },
   {
    "duration": 19,
    "start_time": "2024-04-10T11:02:20.238Z"
   },
   {
    "duration": 12,
    "start_time": "2024-04-10T11:03:30.857Z"
   },
   {
    "duration": 11,
    "start_time": "2024-04-10T11:08:19.744Z"
   },
   {
    "duration": 11,
    "start_time": "2024-04-10T11:08:23.712Z"
   },
   {
    "duration": 12,
    "start_time": "2024-04-10T11:09:08.259Z"
   },
   {
    "duration": 11,
    "start_time": "2024-04-10T11:09:18.805Z"
   },
   {
    "duration": 11,
    "start_time": "2024-04-10T11:09:24.629Z"
   },
   {
    "duration": 9,
    "start_time": "2024-04-10T11:09:48.164Z"
   },
   {
    "duration": 9,
    "start_time": "2024-04-10T11:11:31.100Z"
   },
   {
    "duration": 12,
    "start_time": "2024-04-10T11:12:57.155Z"
   },
   {
    "duration": 11,
    "start_time": "2024-04-10T11:13:13.586Z"
   },
   {
    "duration": 10,
    "start_time": "2024-04-10T11:14:17.080Z"
   },
   {
    "duration": 62,
    "start_time": "2024-04-10T11:15:42.964Z"
   },
   {
    "duration": 16,
    "start_time": "2024-04-10T11:15:54.769Z"
   },
   {
    "duration": 10,
    "start_time": "2024-04-10T11:16:15.319Z"
   },
   {
    "duration": 14,
    "start_time": "2024-04-10T11:16:59.781Z"
   },
   {
    "duration": 3,
    "start_time": "2024-04-10T11:18:30.698Z"
   },
   {
    "duration": 13,
    "start_time": "2024-04-10T11:21:08.050Z"
   },
   {
    "duration": 9,
    "start_time": "2024-04-10T11:21:32.025Z"
   },
   {
    "duration": 4,
    "start_time": "2024-04-10T11:36:38.196Z"
   },
   {
    "duration": 9,
    "start_time": "2024-04-10T11:36:46.441Z"
   },
   {
    "duration": 15,
    "start_time": "2024-04-10T11:36:57.741Z"
   },
   {
    "duration": 14,
    "start_time": "2024-04-10T11:38:50.134Z"
   },
   {
    "duration": 12,
    "start_time": "2024-04-10T11:39:25.698Z"
   },
   {
    "duration": 24398,
    "start_time": "2024-04-10T11:39:39.470Z"
   },
   {
    "duration": 6,
    "start_time": "2024-04-10T11:40:03.873Z"
   },
   {
    "duration": 13,
    "start_time": "2024-04-10T11:40:36.953Z"
   },
   {
    "duration": 12,
    "start_time": "2024-04-10T11:41:16.891Z"
   },
   {
    "duration": 13,
    "start_time": "2024-04-10T11:42:43.715Z"
   },
   {
    "duration": 11,
    "start_time": "2024-04-10T11:42:58.222Z"
   },
   {
    "duration": 4,
    "start_time": "2024-04-10T11:43:05.430Z"
   },
   {
    "duration": 24,
    "start_time": "2024-04-10T11:43:05.435Z"
   },
   {
    "duration": 2290,
    "start_time": "2024-04-10T11:43:05.461Z"
   },
   {
    "duration": 30,
    "start_time": "2024-04-10T11:43:07.752Z"
   },
   {
    "duration": 34,
    "start_time": "2024-04-10T11:43:07.783Z"
   },
   {
    "duration": 4,
    "start_time": "2024-04-10T11:43:07.818Z"
   },
   {
    "duration": 17,
    "start_time": "2024-04-10T11:43:07.823Z"
   },
   {
    "duration": 21,
    "start_time": "2024-04-10T11:43:07.841Z"
   },
   {
    "duration": 13,
    "start_time": "2024-04-10T11:43:07.864Z"
   },
   {
    "duration": 8,
    "start_time": "2024-04-10T11:43:07.879Z"
   },
   {
    "duration": 23,
    "start_time": "2024-04-10T11:43:07.889Z"
   },
   {
    "duration": 651,
    "start_time": "2024-04-10T11:43:07.914Z"
   },
   {
    "duration": 1131,
    "start_time": "2024-04-10T11:43:08.567Z"
   },
   {
    "duration": 429,
    "start_time": "2024-04-10T11:43:09.699Z"
   },
   {
    "duration": 152,
    "start_time": "2024-04-10T11:43:10.130Z"
   },
   {
    "duration": 130,
    "start_time": "2024-04-10T11:43:10.283Z"
   },
   {
    "duration": 146,
    "start_time": "2024-04-10T11:43:10.415Z"
   },
   {
    "duration": 140,
    "start_time": "2024-04-10T11:43:10.565Z"
   },
   {
    "duration": 10303,
    "start_time": "2024-04-10T11:43:10.706Z"
   },
   {
    "duration": 560,
    "start_time": "2024-04-10T11:43:21.011Z"
   },
   {
    "duration": 5,
    "start_time": "2024-04-10T11:43:21.573Z"
   },
   {
    "duration": 16,
    "start_time": "2024-04-10T11:43:21.580Z"
   },
   {
    "duration": 7,
    "start_time": "2024-04-10T11:43:21.598Z"
   },
   {
    "duration": 9,
    "start_time": "2024-04-10T11:43:21.609Z"
   },
   {
    "duration": 15,
    "start_time": "2024-04-10T11:43:21.620Z"
   },
   {
    "duration": 30,
    "start_time": "2024-04-10T11:43:21.636Z"
   },
   {
    "duration": 11,
    "start_time": "2024-04-10T11:43:21.668Z"
   },
   {
    "duration": 13,
    "start_time": "2024-04-10T11:43:21.681Z"
   },
   {
    "duration": 11,
    "start_time": "2024-04-10T11:43:21.696Z"
   },
   {
    "duration": 15,
    "start_time": "2024-04-10T11:43:21.708Z"
   },
   {
    "duration": 187,
    "start_time": "2024-04-10T11:43:21.724Z"
   },
   {
    "duration": 238,
    "start_time": "2024-04-10T11:43:21.913Z"
   },
   {
    "duration": 4,
    "start_time": "2024-04-10T11:43:22.153Z"
   },
   {
    "duration": 101,
    "start_time": "2024-04-10T11:43:22.164Z"
   },
   {
    "duration": 17,
    "start_time": "2024-04-10T11:43:22.267Z"
   },
   {
    "duration": 10,
    "start_time": "2024-04-10T11:43:22.286Z"
   },
   {
    "duration": 69,
    "start_time": "2024-04-10T11:43:22.298Z"
   },
   {
    "duration": 11,
    "start_time": "2024-04-10T11:43:22.369Z"
   },
   {
    "duration": 22000,
    "start_time": "2024-04-10T11:43:22.382Z"
   },
   {
    "duration": 4,
    "start_time": "2024-04-10T11:43:44.384Z"
   },
   {
    "duration": 408,
    "start_time": "2024-04-10T11:43:44.389Z"
   },
   {
    "duration": 309,
    "start_time": "2024-04-10T11:43:44.799Z"
   },
   {
    "duration": 0,
    "start_time": "2024-04-10T11:43:45.110Z"
   },
   {
    "duration": 0,
    "start_time": "2024-04-10T11:43:45.111Z"
   },
   {
    "duration": 0,
    "start_time": "2024-04-10T11:43:45.112Z"
   },
   {
    "duration": 0,
    "start_time": "2024-04-10T11:43:45.113Z"
   },
   {
    "duration": 0,
    "start_time": "2024-04-10T11:43:45.115Z"
   },
   {
    "duration": 152,
    "start_time": "2024-04-10T11:48:41.999Z"
   },
   {
    "duration": 12,
    "start_time": "2024-04-10T11:48:56.889Z"
   },
   {
    "duration": 131,
    "start_time": "2024-04-10T11:51:26.437Z"
   },
   {
    "duration": 4,
    "start_time": "2024-04-10T11:51:42.715Z"
   },
   {
    "duration": 5,
    "start_time": "2024-04-10T11:51:42.721Z"
   },
   {
    "duration": 2166,
    "start_time": "2024-04-10T11:51:42.727Z"
   },
   {
    "duration": 27,
    "start_time": "2024-04-10T11:51:44.895Z"
   },
   {
    "duration": 33,
    "start_time": "2024-04-10T11:51:44.924Z"
   },
   {
    "duration": 4,
    "start_time": "2024-04-10T11:51:44.958Z"
   },
   {
    "duration": 12,
    "start_time": "2024-04-10T11:51:44.964Z"
   },
   {
    "duration": 13,
    "start_time": "2024-04-10T11:51:44.978Z"
   },
   {
    "duration": 9,
    "start_time": "2024-04-10T11:51:44.994Z"
   },
   {
    "duration": 66,
    "start_time": "2024-04-10T11:51:45.004Z"
   },
   {
    "duration": 51,
    "start_time": "2024-04-10T11:51:45.071Z"
   },
   {
    "duration": 608,
    "start_time": "2024-04-10T11:51:45.123Z"
   },
   {
    "duration": 1108,
    "start_time": "2024-04-10T11:51:45.732Z"
   },
   {
    "duration": 385,
    "start_time": "2024-04-10T11:51:46.841Z"
   },
   {
    "duration": 143,
    "start_time": "2024-04-10T11:51:47.228Z"
   },
   {
    "duration": 146,
    "start_time": "2024-04-10T11:51:47.373Z"
   },
   {
    "duration": 144,
    "start_time": "2024-04-10T11:51:47.520Z"
   },
   {
    "duration": 151,
    "start_time": "2024-04-10T11:51:47.666Z"
   },
   {
    "duration": 9759,
    "start_time": "2024-04-10T11:51:47.819Z"
   },
   {
    "duration": 586,
    "start_time": "2024-04-10T11:51:57.581Z"
   },
   {
    "duration": 4,
    "start_time": "2024-04-10T11:51:58.168Z"
   },
   {
    "duration": 6,
    "start_time": "2024-04-10T11:51:58.174Z"
   },
   {
    "duration": 7,
    "start_time": "2024-04-10T11:51:58.181Z"
   },
   {
    "duration": 12,
    "start_time": "2024-04-10T11:51:58.192Z"
   },
   {
    "duration": 17,
    "start_time": "2024-04-10T11:51:58.205Z"
   },
   {
    "duration": 8,
    "start_time": "2024-04-10T11:51:58.223Z"
   },
   {
    "duration": 9,
    "start_time": "2024-04-10T11:51:58.232Z"
   },
   {
    "duration": 35,
    "start_time": "2024-04-10T11:51:58.242Z"
   },
   {
    "duration": 15,
    "start_time": "2024-04-10T11:51:58.279Z"
   },
   {
    "duration": 13,
    "start_time": "2024-04-10T11:51:58.295Z"
   },
   {
    "duration": 153,
    "start_time": "2024-04-10T11:51:58.309Z"
   },
   {
    "duration": 215,
    "start_time": "2024-04-10T11:51:58.464Z"
   },
   {
    "duration": 4,
    "start_time": "2024-04-10T11:51:58.680Z"
   },
   {
    "duration": 6,
    "start_time": "2024-04-10T11:51:58.685Z"
   },
   {
    "duration": 13,
    "start_time": "2024-04-10T11:51:58.692Z"
   },
   {
    "duration": 59,
    "start_time": "2024-04-10T11:51:58.707Z"
   },
   {
    "duration": 18,
    "start_time": "2024-04-10T11:51:58.769Z"
   },
   {
    "duration": 11,
    "start_time": "2024-04-10T11:51:58.789Z"
   },
   {
    "duration": 18168,
    "start_time": "2024-04-10T11:51:58.802Z"
   },
   {
    "duration": 4,
    "start_time": "2024-04-10T11:52:16.972Z"
   },
   {
    "duration": 405,
    "start_time": "2024-04-10T11:52:16.978Z"
   },
   {
    "duration": 157,
    "start_time": "2024-04-10T11:52:17.385Z"
   },
   {
    "duration": 0,
    "start_time": "2024-04-10T11:52:17.544Z"
   },
   {
    "duration": 0,
    "start_time": "2024-04-10T11:52:17.546Z"
   },
   {
    "duration": 0,
    "start_time": "2024-04-10T11:52:17.547Z"
   },
   {
    "duration": 0,
    "start_time": "2024-04-10T11:52:17.549Z"
   },
   {
    "duration": 0,
    "start_time": "2024-04-10T11:52:17.550Z"
   },
   {
    "duration": 0,
    "start_time": "2024-04-10T11:52:17.564Z"
   },
   {
    "duration": 5,
    "start_time": "2024-04-10T11:53:38.718Z"
   },
   {
    "duration": 5,
    "start_time": "2024-04-10T11:53:54.157Z"
   },
   {
    "duration": 189,
    "start_time": "2024-04-10T11:56:07.605Z"
   },
   {
    "duration": 176,
    "start_time": "2024-04-10T11:57:06.770Z"
   },
   {
    "duration": 16559,
    "start_time": "2024-04-10T12:05:47.127Z"
   },
   {
    "duration": 4,
    "start_time": "2024-04-10T12:13:50.469Z"
   },
   {
    "duration": 417,
    "start_time": "2024-04-10T12:14:28.696Z"
   },
   {
    "duration": 142,
    "start_time": "2024-04-10T12:16:23.621Z"
   },
   {
    "duration": 18968,
    "start_time": "2024-04-10T12:16:28.908Z"
   },
   {
    "duration": 19344,
    "start_time": "2024-04-10T12:17:15.534Z"
   },
   {
    "duration": 67,
    "start_time": "2024-04-10T12:18:13.991Z"
   },
   {
    "duration": 59,
    "start_time": "2024-04-10T12:18:37.020Z"
   },
   {
    "duration": 19071,
    "start_time": "2024-04-10T12:18:48.810Z"
   },
   {
    "duration": 91,
    "start_time": "2024-04-10T12:19:26.966Z"
   },
   {
    "duration": 110,
    "start_time": "2024-04-10T12:19:53.790Z"
   },
   {
    "duration": 19656,
    "start_time": "2024-04-10T12:20:10.019Z"
   },
   {
    "duration": 170,
    "start_time": "2024-04-10T12:21:29.149Z"
   },
   {
    "duration": 168,
    "start_time": "2024-04-10T12:22:14.525Z"
   },
   {
    "duration": 170,
    "start_time": "2024-04-10T12:24:36.924Z"
   },
   {
    "duration": 4,
    "start_time": "2024-04-10T12:26:44.808Z"
   },
   {
    "duration": 4,
    "start_time": "2024-04-10T12:26:44.815Z"
   },
   {
    "duration": 2213,
    "start_time": "2024-04-10T12:26:44.821Z"
   },
   {
    "duration": 28,
    "start_time": "2024-04-10T12:26:47.036Z"
   },
   {
    "duration": 35,
    "start_time": "2024-04-10T12:26:47.065Z"
   },
   {
    "duration": 4,
    "start_time": "2024-04-10T12:26:47.102Z"
   },
   {
    "duration": 16,
    "start_time": "2024-04-10T12:26:47.108Z"
   },
   {
    "duration": 40,
    "start_time": "2024-04-10T12:26:47.126Z"
   },
   {
    "duration": 6,
    "start_time": "2024-04-10T12:26:47.169Z"
   },
   {
    "duration": 11,
    "start_time": "2024-04-10T12:26:47.177Z"
   },
   {
    "duration": 42,
    "start_time": "2024-04-10T12:26:47.190Z"
   },
   {
    "duration": 654,
    "start_time": "2024-04-10T12:26:47.233Z"
   },
   {
    "duration": 1224,
    "start_time": "2024-04-10T12:26:47.888Z"
   },
   {
    "duration": 421,
    "start_time": "2024-04-10T12:26:49.113Z"
   },
   {
    "duration": 135,
    "start_time": "2024-04-10T12:26:49.535Z"
   },
   {
    "duration": 150,
    "start_time": "2024-04-10T12:26:49.672Z"
   },
   {
    "duration": 190,
    "start_time": "2024-04-10T12:26:49.825Z"
   },
   {
    "duration": 154,
    "start_time": "2024-04-10T12:26:50.017Z"
   },
   {
    "duration": 10118,
    "start_time": "2024-04-10T12:26:50.174Z"
   },
   {
    "duration": 598,
    "start_time": "2024-04-10T12:27:00.294Z"
   },
   {
    "duration": 3,
    "start_time": "2024-04-10T12:27:00.894Z"
   },
   {
    "duration": 80,
    "start_time": "2024-04-10T12:27:00.899Z"
   },
   {
    "duration": 38,
    "start_time": "2024-04-10T12:27:00.980Z"
   },
   {
    "duration": 40,
    "start_time": "2024-04-10T12:27:01.022Z"
   },
   {
    "duration": 102,
    "start_time": "2024-04-10T12:27:01.063Z"
   },
   {
    "duration": 43,
    "start_time": "2024-04-10T12:27:01.167Z"
   },
   {
    "duration": 68,
    "start_time": "2024-04-10T12:27:01.212Z"
   },
   {
    "duration": 139,
    "start_time": "2024-04-10T12:27:01.282Z"
   },
   {
    "duration": 32,
    "start_time": "2024-04-10T12:27:01.422Z"
   },
   {
    "duration": 48,
    "start_time": "2024-04-10T12:27:01.456Z"
   },
   {
    "duration": 162,
    "start_time": "2024-04-10T12:27:01.506Z"
   },
   {
    "duration": 265,
    "start_time": "2024-04-10T12:27:01.669Z"
   },
   {
    "duration": 4,
    "start_time": "2024-04-10T12:27:01.936Z"
   },
   {
    "duration": 55,
    "start_time": "2024-04-10T12:27:01.942Z"
   },
   {
    "duration": 55,
    "start_time": "2024-04-10T12:27:01.999Z"
   },
   {
    "duration": 142,
    "start_time": "2024-04-10T12:27:02.056Z"
   },
   {
    "duration": 69,
    "start_time": "2024-04-10T12:27:02.200Z"
   },
   {
    "duration": 39,
    "start_time": "2024-04-10T12:27:02.271Z"
   },
   {
    "duration": 19166,
    "start_time": "2024-04-10T12:27:02.311Z"
   },
   {
    "duration": 213,
    "start_time": "2024-04-10T12:27:21.478Z"
   },
   {
    "duration": 4,
    "start_time": "2024-04-10T12:27:21.692Z"
   },
   {
    "duration": 419,
    "start_time": "2024-04-10T12:27:21.698Z"
   },
   {
    "duration": 3,
    "start_time": "2024-04-10T12:27:22.119Z"
   },
   {
    "duration": 13,
    "start_time": "2024-04-10T12:27:22.123Z"
   },
   {
    "duration": 176,
    "start_time": "2024-04-10T12:27:22.137Z"
   },
   {
    "duration": 0,
    "start_time": "2024-04-10T12:27:22.315Z"
   },
   {
    "duration": 195,
    "start_time": "2024-04-10T12:35:29.707Z"
   },
   {
    "duration": 180,
    "start_time": "2024-04-10T12:38:30.152Z"
   },
   {
    "duration": 107855,
    "start_time": "2024-04-10T12:54:12.037Z"
   },
   {
    "duration": 107876,
    "start_time": "2024-04-10T13:00:09.210Z"
   },
   {
    "duration": 4,
    "start_time": "2024-04-10T13:02:38.043Z"
   },
   {
    "duration": 4,
    "start_time": "2024-04-10T13:02:41.175Z"
   },
   {
    "duration": 4,
    "start_time": "2024-04-10T13:02:45.737Z"
   },
   {
    "duration": 4,
    "start_time": "2024-04-10T13:03:08.176Z"
   },
   {
    "duration": 4,
    "start_time": "2024-04-10T13:03:21.476Z"
   },
   {
    "duration": 42022,
    "start_time": "2024-04-10T13:03:33.261Z"
   },
   {
    "duration": 4,
    "start_time": "2024-04-10T13:05:07.111Z"
   },
   {
    "duration": 85393,
    "start_time": "2024-04-10T13:05:27.587Z"
   },
   {
    "duration": 5,
    "start_time": "2024-04-10T14:13:28.548Z"
   },
   {
    "duration": 3,
    "start_time": "2024-04-10T14:13:38.408Z"
   },
   {
    "duration": 35569,
    "start_time": "2024-04-10T14:15:52.500Z"
   },
   {
    "duration": 16805,
    "start_time": "2024-04-10T14:19:43.083Z"
   },
   {
    "duration": 16465,
    "start_time": "2024-04-10T14:20:37.107Z"
   },
   {
    "duration": 35354,
    "start_time": "2024-04-10T14:44:01.327Z"
   },
   {
    "duration": 36146,
    "start_time": "2024-04-10T14:47:45.940Z"
   },
   {
    "duration": 36,
    "start_time": "2024-04-10T14:48:39.729Z"
   },
   {
    "duration": 25,
    "start_time": "2024-04-10T14:49:22.772Z"
   },
   {
    "duration": 38299,
    "start_time": "2024-04-10T14:50:44.280Z"
   },
   {
    "duration": 3,
    "start_time": "2024-04-10T14:53:11.439Z"
   },
   {
    "duration": 8,
    "start_time": "2024-04-10T14:53:11.444Z"
   },
   {
    "duration": 2138,
    "start_time": "2024-04-10T14:53:11.454Z"
   },
   {
    "duration": 28,
    "start_time": "2024-04-10T14:53:13.595Z"
   },
   {
    "duration": 36,
    "start_time": "2024-04-10T14:53:13.625Z"
   },
   {
    "duration": 5,
    "start_time": "2024-04-10T14:53:13.662Z"
   },
   {
    "duration": 13,
    "start_time": "2024-04-10T14:53:13.668Z"
   },
   {
    "duration": 9,
    "start_time": "2024-04-10T14:53:13.682Z"
   },
   {
    "duration": 4,
    "start_time": "2024-04-10T14:53:13.694Z"
   },
   {
    "duration": 20,
    "start_time": "2024-04-10T14:53:13.700Z"
   },
   {
    "duration": 56,
    "start_time": "2024-04-10T14:53:13.721Z"
   },
   {
    "duration": 611,
    "start_time": "2024-04-10T14:53:13.778Z"
   },
   {
    "duration": 1092,
    "start_time": "2024-04-10T14:53:14.391Z"
   },
   {
    "duration": 391,
    "start_time": "2024-04-10T14:53:15.485Z"
   },
   {
    "duration": 131,
    "start_time": "2024-04-10T14:53:15.878Z"
   },
   {
    "duration": 131,
    "start_time": "2024-04-10T14:53:16.011Z"
   },
   {
    "duration": 146,
    "start_time": "2024-04-10T14:53:16.144Z"
   },
   {
    "duration": 161,
    "start_time": "2024-04-10T14:53:16.292Z"
   },
   {
    "duration": 9915,
    "start_time": "2024-04-10T14:53:16.455Z"
   },
   {
    "duration": 495,
    "start_time": "2024-04-10T14:53:26.372Z"
   },
   {
    "duration": 4,
    "start_time": "2024-04-10T14:53:26.868Z"
   },
   {
    "duration": 18,
    "start_time": "2024-04-10T14:53:26.874Z"
   },
   {
    "duration": 25,
    "start_time": "2024-04-10T14:53:26.893Z"
   },
   {
    "duration": 14,
    "start_time": "2024-04-10T14:53:26.921Z"
   },
   {
    "duration": 36,
    "start_time": "2024-04-10T14:53:26.937Z"
   },
   {
    "duration": 29,
    "start_time": "2024-04-10T14:53:26.975Z"
   },
   {
    "duration": 30,
    "start_time": "2024-04-10T14:53:27.005Z"
   },
   {
    "duration": 35,
    "start_time": "2024-04-10T14:53:27.037Z"
   },
   {
    "duration": 19,
    "start_time": "2024-04-10T14:53:27.073Z"
   },
   {
    "duration": 20,
    "start_time": "2024-04-10T14:53:27.094Z"
   },
   {
    "duration": 163,
    "start_time": "2024-04-10T14:53:27.116Z"
   },
   {
    "duration": 216,
    "start_time": "2024-04-10T14:53:27.281Z"
   },
   {
    "duration": 5,
    "start_time": "2024-04-10T14:53:27.499Z"
   },
   {
    "duration": 8,
    "start_time": "2024-04-10T14:53:27.505Z"
   },
   {
    "duration": 50,
    "start_time": "2024-04-10T14:53:27.515Z"
   },
   {
    "duration": 11,
    "start_time": "2024-04-10T14:53:27.567Z"
   },
   {
    "duration": 14,
    "start_time": "2024-04-10T14:53:27.580Z"
   },
   {
    "duration": 73,
    "start_time": "2024-04-10T14:53:27.596Z"
   },
   {
    "duration": 19400,
    "start_time": "2024-04-10T14:53:27.671Z"
   },
   {
    "duration": 203,
    "start_time": "2024-04-10T14:53:47.072Z"
   },
   {
    "duration": 5,
    "start_time": "2024-04-10T14:53:47.277Z"
   },
   {
    "duration": 373,
    "start_time": "2024-04-10T14:53:47.283Z"
   },
   {
    "duration": 43214,
    "start_time": "2024-04-10T14:53:47.664Z"
   },
   {
    "duration": 2,
    "start_time": "2024-04-10T14:54:30.880Z"
   },
   {
    "duration": 94,
    "start_time": "2024-04-10T14:54:30.884Z"
   },
   {
    "duration": 179,
    "start_time": "2024-04-10T14:54:30.980Z"
   },
   {
    "duration": 0,
    "start_time": "2024-04-10T14:54:31.160Z"
   },
   {
    "duration": 37128,
    "start_time": "2024-04-10T15:02:49.549Z"
   },
   {
    "duration": 41485,
    "start_time": "2024-04-10T15:04:10.384Z"
   },
   {
    "duration": 43847,
    "start_time": "2024-04-10T15:05:43.323Z"
   },
   {
    "duration": 41675,
    "start_time": "2024-04-10T15:07:28.500Z"
   },
   {
    "duration": 40220,
    "start_time": "2024-04-10T15:08:50.845Z"
   },
   {
    "duration": 7,
    "start_time": "2024-04-10T16:10:37.693Z"
   },
   {
    "duration": 4,
    "start_time": "2024-04-10T16:10:51.188Z"
   },
   {
    "duration": 34932,
    "start_time": "2024-04-10T16:15:54.460Z"
   },
   {
    "duration": 33,
    "start_time": "2024-04-10T16:18:07.377Z"
   },
   {
    "duration": 28,
    "start_time": "2024-04-10T16:18:14.851Z"
   },
   {
    "duration": 21147,
    "start_time": "2024-04-10T16:18:21.529Z"
   },
   {
    "duration": 27,
    "start_time": "2024-04-10T16:19:00.670Z"
   },
   {
    "duration": 34,
    "start_time": "2024-04-10T16:19:58.913Z"
   },
   {
    "duration": 38523,
    "start_time": "2024-04-10T16:20:35.553Z"
   },
   {
    "duration": 37304,
    "start_time": "2024-04-10T16:22:37.478Z"
   },
   {
    "duration": 4,
    "start_time": "2024-04-10T16:32:21.519Z"
   },
   {
    "duration": 16,
    "start_time": "2024-04-10T16:37:19.973Z"
   },
   {
    "duration": 3,
    "start_time": "2024-04-10T16:37:26.116Z"
   },
   {
    "duration": 32033,
    "start_time": "2024-04-10T16:37:29.841Z"
   },
   {
    "duration": 23730,
    "start_time": "2024-04-10T16:38:58.649Z"
   },
   {
    "duration": 2,
    "start_time": "2024-04-10T16:39:32.861Z"
   },
   {
    "duration": 49813,
    "start_time": "2024-04-10T16:39:34.665Z"
   },
   {
    "duration": 63,
    "start_time": "2024-04-10T16:42:21.772Z"
   },
   {
    "duration": 180497,
    "start_time": "2024-04-10T16:42:54.682Z"
   },
   {
    "duration": 2,
    "start_time": "2024-04-10T16:46:52.458Z"
   },
   {
    "duration": 127338,
    "start_time": "2024-04-10T16:46:53.741Z"
   },
   {
    "duration": 2,
    "start_time": "2024-04-10T16:49:55.144Z"
   },
   {
    "duration": 5,
    "start_time": "2024-04-10T16:49:55.892Z"
   },
   {
    "duration": 2,
    "start_time": "2024-04-10T16:50:01.015Z"
   },
   {
    "duration": 3,
    "start_time": "2024-04-10T16:50:03.372Z"
   },
   {
    "duration": 2,
    "start_time": "2024-04-10T16:50:09.189Z"
   },
   {
    "duration": 3,
    "start_time": "2024-04-10T16:50:11.313Z"
   },
   {
    "duration": 3,
    "start_time": "2024-04-10T16:50:19.264Z"
   },
   {
    "duration": 3,
    "start_time": "2024-04-10T16:50:20.023Z"
   },
   {
    "duration": 3,
    "start_time": "2024-04-10T16:51:00.310Z"
   },
   {
    "duration": 3,
    "start_time": "2024-04-10T16:51:00.933Z"
   },
   {
    "duration": 3,
    "start_time": "2024-04-10T16:51:27.543Z"
   },
   {
    "duration": 4,
    "start_time": "2024-04-10T16:51:28.237Z"
   },
   {
    "duration": 3,
    "start_time": "2024-04-10T16:51:35.661Z"
   },
   {
    "duration": 4,
    "start_time": "2024-04-10T16:51:36.307Z"
   },
   {
    "duration": 3,
    "start_time": "2024-04-10T16:53:37.546Z"
   },
   {
    "duration": 3,
    "start_time": "2024-04-10T16:53:42.172Z"
   },
   {
    "duration": 4,
    "start_time": "2024-04-10T16:53:53.412Z"
   },
   {
    "duration": 2,
    "start_time": "2024-04-10T16:54:32.008Z"
   },
   {
    "duration": 689851,
    "start_time": "2024-04-10T16:54:34.928Z"
   },
   {
    "duration": 226,
    "start_time": "2024-04-10T17:08:23.345Z"
   },
   {
    "duration": 391,
    "start_time": "2024-04-10T17:08:32.970Z"
   },
   {
    "duration": 41814,
    "start_time": "2024-04-10T17:10:05.162Z"
   },
   {
    "duration": 2,
    "start_time": "2024-04-10T17:11:36.564Z"
   },
   {
    "duration": 3,
    "start_time": "2024-04-10T17:11:43.436Z"
   },
   {
    "duration": 34745,
    "start_time": "2024-04-10T17:12:56.029Z"
   },
   {
    "duration": 25,
    "start_time": "2024-04-10T17:13:35.232Z"
   },
   {
    "duration": 4,
    "start_time": "2024-04-10T17:14:03.579Z"
   },
   {
    "duration": 4,
    "start_time": "2024-04-10T17:14:19.492Z"
   },
   {
    "duration": 5,
    "start_time": "2024-04-10T17:15:36.131Z"
   },
   {
    "duration": 4,
    "start_time": "2024-04-10T17:18:49.073Z"
   },
   {
    "duration": 24,
    "start_time": "2024-04-10T17:19:37.765Z"
   },
   {
    "duration": 167,
    "start_time": "2024-04-10T17:20:05.190Z"
   },
   {
    "duration": 5,
    "start_time": "2024-04-10T17:20:08.972Z"
   },
   {
    "duration": 149,
    "start_time": "2024-04-10T17:20:19.601Z"
   },
   {
    "duration": 149,
    "start_time": "2024-04-10T17:29:00.979Z"
   },
   {
    "duration": 289,
    "start_time": "2024-04-10T17:29:29.212Z"
   },
   {
    "duration": 433,
    "start_time": "2024-04-10T17:32:23.129Z"
   },
   {
    "duration": 344,
    "start_time": "2024-04-10T17:32:34.243Z"
   },
   {
    "duration": 63,
    "start_time": "2024-04-10T17:33:43.832Z"
   },
   {
    "duration": 245,
    "start_time": "2024-04-10T17:33:50.799Z"
   },
   {
    "duration": 179,
    "start_time": "2024-04-10T17:33:58.902Z"
   },
   {
    "duration": 3,
    "start_time": "2024-04-10T17:35:32.692Z"
   },
   {
    "duration": 5,
    "start_time": "2024-04-10T17:35:32.697Z"
   },
   {
    "duration": 2179,
    "start_time": "2024-04-10T17:35:32.703Z"
   },
   {
    "duration": 27,
    "start_time": "2024-04-10T17:35:34.884Z"
   },
   {
    "duration": 35,
    "start_time": "2024-04-10T17:35:34.913Z"
   },
   {
    "duration": 5,
    "start_time": "2024-04-10T17:35:34.949Z"
   },
   {
    "duration": 14,
    "start_time": "2024-04-10T17:35:34.956Z"
   },
   {
    "duration": 9,
    "start_time": "2024-04-10T17:35:34.971Z"
   },
   {
    "duration": 6,
    "start_time": "2024-04-10T17:35:34.981Z"
   },
   {
    "duration": 7,
    "start_time": "2024-04-10T17:35:34.990Z"
   },
   {
    "duration": 26,
    "start_time": "2024-04-10T17:35:34.998Z"
   },
   {
    "duration": 624,
    "start_time": "2024-04-10T17:35:35.025Z"
   },
   {
    "duration": 1103,
    "start_time": "2024-04-10T17:35:35.651Z"
   },
   {
    "duration": 383,
    "start_time": "2024-04-10T17:35:36.755Z"
   },
   {
    "duration": 131,
    "start_time": "2024-04-10T17:35:37.140Z"
   },
   {
    "duration": 119,
    "start_time": "2024-04-10T17:35:37.273Z"
   },
   {
    "duration": 142,
    "start_time": "2024-04-10T17:35:37.394Z"
   },
   {
    "duration": 140,
    "start_time": "2024-04-10T17:35:37.538Z"
   },
   {
    "duration": 9296,
    "start_time": "2024-04-10T17:35:37.680Z"
   },
   {
    "duration": 572,
    "start_time": "2024-04-10T17:35:46.979Z"
   },
   {
    "duration": 3,
    "start_time": "2024-04-10T17:35:47.553Z"
   },
   {
    "duration": 9,
    "start_time": "2024-04-10T17:35:47.564Z"
   },
   {
    "duration": 12,
    "start_time": "2024-04-10T17:35:47.574Z"
   },
   {
    "duration": 13,
    "start_time": "2024-04-10T17:35:47.587Z"
   },
   {
    "duration": 14,
    "start_time": "2024-04-10T17:35:47.602Z"
   },
   {
    "duration": 11,
    "start_time": "2024-04-10T17:35:47.618Z"
   },
   {
    "duration": 8,
    "start_time": "2024-04-10T17:35:47.630Z"
   },
   {
    "duration": 12,
    "start_time": "2024-04-10T17:35:47.641Z"
   },
   {
    "duration": 11,
    "start_time": "2024-04-10T17:35:47.655Z"
   },
   {
    "duration": 12,
    "start_time": "2024-04-10T17:35:47.668Z"
   },
   {
    "duration": 170,
    "start_time": "2024-04-10T17:35:47.682Z"
   },
   {
    "duration": 214,
    "start_time": "2024-04-10T17:35:47.853Z"
   },
   {
    "duration": 4,
    "start_time": "2024-04-10T17:35:48.069Z"
   },
   {
    "duration": 5,
    "start_time": "2024-04-10T17:35:48.075Z"
   },
   {
    "duration": 14,
    "start_time": "2024-04-10T17:35:48.081Z"
   },
   {
    "duration": 10,
    "start_time": "2024-04-10T17:35:48.096Z"
   },
   {
    "duration": 68,
    "start_time": "2024-04-10T17:35:48.108Z"
   },
   {
    "duration": 9,
    "start_time": "2024-04-10T17:35:48.178Z"
   },
   {
    "duration": 16382,
    "start_time": "2024-04-10T17:35:48.189Z"
   },
   {
    "duration": 206,
    "start_time": "2024-04-10T17:36:04.572Z"
   },
   {
    "duration": 4,
    "start_time": "2024-04-10T17:36:04.779Z"
   },
   {
    "duration": 373,
    "start_time": "2024-04-10T17:36:04.785Z"
   },
   {
    "duration": 5,
    "start_time": "2024-04-10T17:36:05.160Z"
   },
   {
    "duration": 35401,
    "start_time": "2024-04-10T17:36:05.167Z"
   },
   {
    "duration": 174,
    "start_time": "2024-04-10T17:36:40.570Z"
   },
   {
    "duration": 2,
    "start_time": "2024-04-10T17:36:40.746Z"
   },
   {
    "duration": 307026,
    "start_time": "2024-04-10T17:36:40.750Z"
   },
   {
    "duration": 199,
    "start_time": "2024-04-10T17:41:47.777Z"
   },
   {
    "duration": 0,
    "start_time": "2024-04-10T17:41:47.978Z"
   },
   {
    "duration": 0,
    "start_time": "2024-04-10T17:41:47.979Z"
   },
   {
    "duration": 0,
    "start_time": "2024-04-10T17:41:47.980Z"
   },
   {
    "duration": 0,
    "start_time": "2024-04-10T17:41:47.981Z"
   },
   {
    "duration": 0,
    "start_time": "2024-04-10T17:41:47.983Z"
   },
   {
    "duration": 3,
    "start_time": "2024-04-10T17:51:04.093Z"
   },
   {
    "duration": 167,
    "start_time": "2024-04-10T17:51:04.812Z"
   },
   {
    "duration": 3,
    "start_time": "2024-04-10T19:09:20.458Z"
   },
   {
    "duration": 58393,
    "start_time": "2024-04-10T19:09:23.480Z"
   },
   {
    "duration": 0,
    "start_time": "2024-04-10T19:10:21.875Z"
   },
   {
    "duration": 0,
    "start_time": "2024-04-10T19:10:21.877Z"
   },
   {
    "duration": 10041,
    "start_time": "2024-04-10T19:11:22.537Z"
   },
   {
    "duration": 56744,
    "start_time": "2024-04-10T19:11:47.747Z"
   },
   {
    "duration": 3,
    "start_time": "2024-04-10T19:13:38.283Z"
   },
   {
    "duration": 191,
    "start_time": "2024-04-10T19:13:38.965Z"
   },
   {
    "duration": 2,
    "start_time": "2024-04-10T19:13:54.327Z"
   },
   {
    "duration": 332,
    "start_time": "2024-04-10T19:13:55.028Z"
   },
   {
    "duration": 4,
    "start_time": "2024-04-10T19:15:03.241Z"
   },
   {
    "duration": 165,
    "start_time": "2024-04-10T19:15:05.059Z"
   },
   {
    "duration": 4,
    "start_time": "2024-04-10T19:15:19.666Z"
   },
   {
    "duration": 5,
    "start_time": "2024-04-10T19:15:33.680Z"
   },
   {
    "duration": 224,
    "start_time": "2024-04-10T19:17:09.459Z"
   },
   {
    "duration": 3,
    "start_time": "2024-04-10T19:17:12.880Z"
   },
   {
    "duration": 74185,
    "start_time": "2024-04-10T19:17:13.801Z"
   },
   {
    "duration": 3,
    "start_time": "2024-04-10T19:18:27.988Z"
   },
   {
    "duration": 31,
    "start_time": "2024-04-10T19:18:27.992Z"
   },
   {
    "duration": 234,
    "start_time": "2024-04-10T19:18:28.025Z"
   },
   {
    "duration": 3,
    "start_time": "2024-04-10T19:22:02.397Z"
   },
   {
    "duration": 48467,
    "start_time": "2024-04-10T19:22:04.124Z"
   },
   {
    "duration": 73,
    "start_time": "2024-04-10T19:22:52.593Z"
   },
   {
    "duration": 184,
    "start_time": "2024-04-10T19:22:52.668Z"
   },
   {
    "duration": 6,
    "start_time": "2024-04-10T19:25:25.604Z"
   },
   {
    "duration": 6,
    "start_time": "2024-04-10T19:25:25.611Z"
   },
   {
    "duration": 2374,
    "start_time": "2024-04-10T19:25:25.618Z"
   },
   {
    "duration": 27,
    "start_time": "2024-04-10T19:25:27.993Z"
   },
   {
    "duration": 35,
    "start_time": "2024-04-10T19:25:28.022Z"
   },
   {
    "duration": 5,
    "start_time": "2024-04-10T19:25:28.058Z"
   },
   {
    "duration": 22,
    "start_time": "2024-04-10T19:25:28.066Z"
   },
   {
    "duration": 10,
    "start_time": "2024-04-10T19:25:28.089Z"
   },
   {
    "duration": 5,
    "start_time": "2024-04-10T19:25:28.101Z"
   },
   {
    "duration": 9,
    "start_time": "2024-04-10T19:25:28.107Z"
   },
   {
    "duration": 61,
    "start_time": "2024-04-10T19:25:28.117Z"
   },
   {
    "duration": 651,
    "start_time": "2024-04-10T19:25:28.182Z"
   },
   {
    "duration": 1260,
    "start_time": "2024-04-10T19:25:28.835Z"
   },
   {
    "duration": 429,
    "start_time": "2024-04-10T19:25:30.097Z"
   },
   {
    "duration": 150,
    "start_time": "2024-04-10T19:25:30.528Z"
   },
   {
    "duration": 137,
    "start_time": "2024-04-10T19:25:30.680Z"
   },
   {
    "duration": 159,
    "start_time": "2024-04-10T19:25:30.819Z"
   },
   {
    "duration": 141,
    "start_time": "2024-04-10T19:25:30.980Z"
   },
   {
    "duration": 11485,
    "start_time": "2024-04-10T19:25:31.122Z"
   },
   {
    "duration": 583,
    "start_time": "2024-04-10T19:25:42.609Z"
   },
   {
    "duration": 3,
    "start_time": "2024-04-10T19:25:43.194Z"
   },
   {
    "duration": 6,
    "start_time": "2024-04-10T19:25:43.199Z"
   },
   {
    "duration": 6,
    "start_time": "2024-04-10T19:25:43.206Z"
   },
   {
    "duration": 6,
    "start_time": "2024-04-10T19:25:43.215Z"
   },
   {
    "duration": 44,
    "start_time": "2024-04-10T19:25:43.222Z"
   },
   {
    "duration": 17,
    "start_time": "2024-04-10T19:25:43.268Z"
   },
   {
    "duration": 3,
    "start_time": "2024-04-10T19:25:43.287Z"
   },
   {
    "duration": 28,
    "start_time": "2024-04-10T19:25:43.291Z"
   },
   {
    "duration": 10,
    "start_time": "2024-04-10T19:25:43.320Z"
   },
   {
    "duration": 20,
    "start_time": "2024-04-10T19:25:43.331Z"
   },
   {
    "duration": 170,
    "start_time": "2024-04-10T19:25:43.353Z"
   },
   {
    "duration": 227,
    "start_time": "2024-04-10T19:25:43.524Z"
   },
   {
    "duration": 4,
    "start_time": "2024-04-10T19:25:43.753Z"
   },
   {
    "duration": 10,
    "start_time": "2024-04-10T19:25:43.767Z"
   },
   {
    "duration": 15,
    "start_time": "2024-04-10T19:25:43.782Z"
   },
   {
    "duration": 26,
    "start_time": "2024-04-10T19:25:43.798Z"
   },
   {
    "duration": 66,
    "start_time": "2024-04-10T19:25:43.826Z"
   },
   {
    "duration": 13,
    "start_time": "2024-04-10T19:25:43.895Z"
   },
   {
    "duration": 26969,
    "start_time": "2024-04-10T19:25:43.909Z"
   },
   {
    "duration": 246,
    "start_time": "2024-04-10T19:26:10.882Z"
   },
   {
    "duration": 4,
    "start_time": "2024-04-10T19:26:11.129Z"
   },
   {
    "duration": 402,
    "start_time": "2024-04-10T19:26:11.134Z"
   },
   {
    "duration": 3,
    "start_time": "2024-04-10T19:26:11.537Z"
   },
   {
    "duration": 62846,
    "start_time": "2024-04-10T19:26:11.542Z"
   },
   {
    "duration": 4,
    "start_time": "2024-04-10T19:27:14.392Z"
   },
   {
    "duration": 254,
    "start_time": "2024-04-10T19:27:14.398Z"
   },
   {
    "duration": 2,
    "start_time": "2024-04-10T19:27:14.653Z"
   },
   {
    "duration": 392421,
    "start_time": "2024-04-10T19:27:14.666Z"
   },
   {
    "duration": 3,
    "start_time": "2024-04-10T19:33:47.089Z"
   },
   {
    "duration": 76597,
    "start_time": "2024-04-10T19:33:47.094Z"
   },
   {
    "duration": 3,
    "start_time": "2024-04-10T19:35:03.692Z"
   },
   {
    "duration": 241,
    "start_time": "2024-04-10T19:35:03.697Z"
   },
   {
    "duration": 3,
    "start_time": "2024-04-10T19:35:03.940Z"
   },
   {
    "duration": 38,
    "start_time": "2024-04-10T19:35:03.944Z"
   },
   {
    "duration": 212,
    "start_time": "2024-04-10T19:35:03.985Z"
   },
   {
    "duration": 0,
    "start_time": "2024-04-10T19:35:04.198Z"
   },
   {
    "duration": 18196,
    "start_time": "2024-04-10T19:36:38.393Z"
   },
   {
    "duration": 2,
    "start_time": "2024-04-10T19:36:59.027Z"
   },
   {
    "duration": 76720,
    "start_time": "2024-04-10T19:37:01.775Z"
   },
   {
    "duration": 4,
    "start_time": "2024-04-10T19:38:22.268Z"
   },
   {
    "duration": 176,
    "start_time": "2024-04-10T19:38:23.304Z"
   },
   {
    "duration": 87556,
    "start_time": "2024-04-10T19:38:38.521Z"
   },
   {
    "duration": 4,
    "start_time": "2024-04-10T19:42:08.336Z"
   },
   {
    "duration": 91268,
    "start_time": "2024-04-10T19:44:09.099Z"
   },
   {
    "duration": 3,
    "start_time": "2024-04-10T19:47:01.528Z"
   },
   {
    "duration": 88188,
    "start_time": "2024-04-10T19:47:05.203Z"
   },
   {
    "duration": 4,
    "start_time": "2024-04-10T19:49:25.161Z"
   },
   {
    "duration": 356,
    "start_time": "2024-04-10T19:49:35.859Z"
   },
   {
    "duration": 3,
    "start_time": "2024-04-10T19:51:51.307Z"
   },
   {
    "duration": 88881,
    "start_time": "2024-04-10T19:51:52.484Z"
   },
   {
    "duration": 6,
    "start_time": "2024-04-10T19:53:21.368Z"
   },
   {
    "duration": 193,
    "start_time": "2024-04-10T19:53:21.377Z"
   },
   {
    "duration": 2,
    "start_time": "2024-04-10T20:20:22.699Z"
   },
   {
    "duration": 5,
    "start_time": "2024-04-10T20:20:22.704Z"
   },
   {
    "duration": 2389,
    "start_time": "2024-04-10T20:20:22.711Z"
   },
   {
    "duration": 27,
    "start_time": "2024-04-10T20:20:25.102Z"
   },
   {
    "duration": 37,
    "start_time": "2024-04-10T20:20:25.130Z"
   },
   {
    "duration": 11,
    "start_time": "2024-04-10T20:20:25.172Z"
   },
   {
    "duration": 10,
    "start_time": "2024-04-10T20:20:25.185Z"
   },
   {
    "duration": 14,
    "start_time": "2024-04-10T20:20:25.196Z"
   },
   {
    "duration": 7,
    "start_time": "2024-04-10T20:20:25.211Z"
   },
   {
    "duration": 7,
    "start_time": "2024-04-10T20:20:25.219Z"
   },
   {
    "duration": 56,
    "start_time": "2024-04-10T20:20:25.227Z"
   },
   {
    "duration": 665,
    "start_time": "2024-04-10T20:20:25.285Z"
   },
   {
    "duration": 1169,
    "start_time": "2024-04-10T20:20:25.951Z"
   },
   {
    "duration": 426,
    "start_time": "2024-04-10T20:20:27.123Z"
   },
   {
    "duration": 175,
    "start_time": "2024-04-10T20:20:27.551Z"
   },
   {
    "duration": 156,
    "start_time": "2024-04-10T20:20:27.727Z"
   },
   {
    "duration": 153,
    "start_time": "2024-04-10T20:20:27.886Z"
   },
   {
    "duration": 150,
    "start_time": "2024-04-10T20:20:28.041Z"
   },
   {
    "duration": 11980,
    "start_time": "2024-04-10T20:20:28.193Z"
   },
   {
    "duration": 657,
    "start_time": "2024-04-10T20:20:40.176Z"
   },
   {
    "duration": 5,
    "start_time": "2024-04-10T20:20:40.835Z"
   },
   {
    "duration": 7,
    "start_time": "2024-04-10T20:20:40.842Z"
   },
   {
    "duration": 22,
    "start_time": "2024-04-10T20:20:40.850Z"
   },
   {
    "duration": 7,
    "start_time": "2024-04-10T20:20:40.878Z"
   },
   {
    "duration": 19,
    "start_time": "2024-04-10T20:20:40.887Z"
   },
   {
    "duration": 6,
    "start_time": "2024-04-10T20:20:40.908Z"
   },
   {
    "duration": 5,
    "start_time": "2024-04-10T20:20:40.916Z"
   },
   {
    "duration": 15,
    "start_time": "2024-04-10T20:20:40.922Z"
   },
   {
    "duration": 11,
    "start_time": "2024-04-10T20:20:40.938Z"
   },
   {
    "duration": 29,
    "start_time": "2024-04-10T20:20:40.951Z"
   },
   {
    "duration": 162,
    "start_time": "2024-04-10T20:20:40.982Z"
   },
   {
    "duration": 249,
    "start_time": "2024-04-10T20:20:41.145Z"
   },
   {
    "duration": 4,
    "start_time": "2024-04-10T20:20:41.396Z"
   },
   {
    "duration": 5,
    "start_time": "2024-04-10T20:20:41.402Z"
   },
   {
    "duration": 14,
    "start_time": "2024-04-10T20:20:41.408Z"
   },
   {
    "duration": 55,
    "start_time": "2024-04-10T20:20:41.423Z"
   },
   {
    "duration": 17,
    "start_time": "2024-04-10T20:20:41.482Z"
   },
   {
    "duration": 68,
    "start_time": "2024-04-10T20:20:41.503Z"
   },
   {
    "duration": 27898,
    "start_time": "2024-04-10T20:20:41.575Z"
   },
   {
    "duration": 228,
    "start_time": "2024-04-10T20:21:09.476Z"
   },
   {
    "duration": 4,
    "start_time": "2024-04-10T20:21:09.705Z"
   },
   {
    "duration": 418,
    "start_time": "2024-04-10T20:21:09.711Z"
   },
   {
    "duration": 58555,
    "start_time": "2024-04-10T20:21:10.131Z"
   },
   {
    "duration": 4,
    "start_time": "2024-04-10T20:22:08.688Z"
   },
   {
    "duration": 576898,
    "start_time": "2024-04-10T20:22:08.694Z"
   },
   {
    "duration": 3,
    "start_time": "2024-04-10T20:31:45.594Z"
   },
   {
    "duration": 140014,
    "start_time": "2024-04-10T20:31:45.599Z"
   },
   {
    "duration": 3,
    "start_time": "2024-04-10T20:34:05.614Z"
   },
   {
    "duration": 243,
    "start_time": "2024-04-10T20:34:05.665Z"
   },
   {
    "duration": 5,
    "start_time": "2024-04-10T20:34:05.909Z"
   },
   {
    "duration": 4,
    "start_time": "2024-04-10T20:34:05.915Z"
   },
   {
    "duration": 14,
    "start_time": "2024-04-10T20:34:05.920Z"
   },
   {
    "duration": 187,
    "start_time": "2024-04-10T20:34:05.935Z"
   },
   {
    "duration": 0,
    "start_time": "2024-04-10T20:34:06.124Z"
   },
   {
    "duration": 5,
    "start_time": "2024-04-10T20:37:41.838Z"
   },
   {
    "duration": 8,
    "start_time": "2024-04-10T20:37:58.162Z"
   },
   {
    "duration": 6,
    "start_time": "2024-04-10T20:38:28.659Z"
   },
   {
    "duration": 5,
    "start_time": "2024-04-10T20:38:34.410Z"
   },
   {
    "duration": 7,
    "start_time": "2024-04-10T20:41:31.951Z"
   },
   {
    "duration": 4,
    "start_time": "2024-04-10T20:41:49.187Z"
   },
   {
    "duration": 5,
    "start_time": "2024-04-10T20:42:01.422Z"
   },
   {
    "duration": 219,
    "start_time": "2024-04-10T20:44:06.925Z"
   },
   {
    "duration": 3426,
    "start_time": "2024-04-11T08:23:05.839Z"
   },
   {
    "duration": 11613,
    "start_time": "2024-04-11T08:23:09.268Z"
   },
   {
    "duration": 4,
    "start_time": "2024-04-11T08:25:28.689Z"
   },
   {
    "duration": 6,
    "start_time": "2024-04-11T08:25:28.697Z"
   },
   {
    "duration": 2457,
    "start_time": "2024-04-11T08:25:28.705Z"
   },
   {
    "duration": 76,
    "start_time": "2024-04-11T08:25:31.164Z"
   },
   {
    "duration": 220,
    "start_time": "2024-04-11T08:25:31.242Z"
   },
   {
    "duration": 0,
    "start_time": "2024-04-11T08:25:31.465Z"
   },
   {
    "duration": 0,
    "start_time": "2024-04-11T08:25:31.467Z"
   },
   {
    "duration": 0,
    "start_time": "2024-04-11T08:25:31.468Z"
   },
   {
    "duration": 0,
    "start_time": "2024-04-11T08:25:31.469Z"
   },
   {
    "duration": 0,
    "start_time": "2024-04-11T08:25:31.470Z"
   },
   {
    "duration": 0,
    "start_time": "2024-04-11T08:25:31.471Z"
   },
   {
    "duration": 0,
    "start_time": "2024-04-11T08:25:31.473Z"
   },
   {
    "duration": 0,
    "start_time": "2024-04-11T08:25:31.474Z"
   },
   {
    "duration": 0,
    "start_time": "2024-04-11T08:25:31.475Z"
   },
   {
    "duration": 0,
    "start_time": "2024-04-11T08:25:31.477Z"
   },
   {
    "duration": 0,
    "start_time": "2024-04-11T08:25:31.478Z"
   },
   {
    "duration": 0,
    "start_time": "2024-04-11T08:25:31.479Z"
   },
   {
    "duration": 0,
    "start_time": "2024-04-11T08:25:31.480Z"
   },
   {
    "duration": 0,
    "start_time": "2024-04-11T08:25:31.481Z"
   },
   {
    "duration": 0,
    "start_time": "2024-04-11T08:25:31.483Z"
   },
   {
    "duration": 0,
    "start_time": "2024-04-11T08:25:31.483Z"
   },
   {
    "duration": 0,
    "start_time": "2024-04-11T08:25:31.485Z"
   },
   {
    "duration": 0,
    "start_time": "2024-04-11T08:25:31.486Z"
   },
   {
    "duration": 0,
    "start_time": "2024-04-11T08:25:31.487Z"
   },
   {
    "duration": 0,
    "start_time": "2024-04-11T08:25:31.489Z"
   },
   {
    "duration": 0,
    "start_time": "2024-04-11T08:25:31.490Z"
   },
   {
    "duration": 0,
    "start_time": "2024-04-11T08:25:31.529Z"
   },
   {
    "duration": 0,
    "start_time": "2024-04-11T08:25:31.531Z"
   },
   {
    "duration": 0,
    "start_time": "2024-04-11T08:25:31.532Z"
   },
   {
    "duration": 0,
    "start_time": "2024-04-11T08:25:31.533Z"
   },
   {
    "duration": 0,
    "start_time": "2024-04-11T08:25:31.535Z"
   },
   {
    "duration": 0,
    "start_time": "2024-04-11T08:25:31.536Z"
   },
   {
    "duration": 0,
    "start_time": "2024-04-11T08:25:31.538Z"
   },
   {
    "duration": 0,
    "start_time": "2024-04-11T08:25:31.539Z"
   },
   {
    "duration": 0,
    "start_time": "2024-04-11T08:25:31.541Z"
   },
   {
    "duration": 0,
    "start_time": "2024-04-11T08:25:31.542Z"
   },
   {
    "duration": 0,
    "start_time": "2024-04-11T08:25:31.543Z"
   },
   {
    "duration": 0,
    "start_time": "2024-04-11T08:25:31.544Z"
   },
   {
    "duration": 0,
    "start_time": "2024-04-11T08:25:31.545Z"
   },
   {
    "duration": 1,
    "start_time": "2024-04-11T08:25:31.546Z"
   },
   {
    "duration": 0,
    "start_time": "2024-04-11T08:25:31.547Z"
   },
   {
    "duration": 0,
    "start_time": "2024-04-11T08:25:31.548Z"
   },
   {
    "duration": 0,
    "start_time": "2024-04-11T08:25:31.549Z"
   },
   {
    "duration": 0,
    "start_time": "2024-04-11T08:25:31.551Z"
   },
   {
    "duration": 0,
    "start_time": "2024-04-11T08:25:31.552Z"
   },
   {
    "duration": 0,
    "start_time": "2024-04-11T08:25:31.553Z"
   },
   {
    "duration": 0,
    "start_time": "2024-04-11T08:25:31.554Z"
   },
   {
    "duration": 0,
    "start_time": "2024-04-11T08:25:31.555Z"
   },
   {
    "duration": 0,
    "start_time": "2024-04-11T08:25:31.556Z"
   },
   {
    "duration": 0,
    "start_time": "2024-04-11T08:25:31.557Z"
   },
   {
    "duration": 0,
    "start_time": "2024-04-11T08:25:31.559Z"
   },
   {
    "duration": 0,
    "start_time": "2024-04-11T08:25:31.560Z"
   },
   {
    "duration": 0,
    "start_time": "2024-04-11T08:25:31.561Z"
   },
   {
    "duration": 0,
    "start_time": "2024-04-11T08:25:31.562Z"
   },
   {
    "duration": 4,
    "start_time": "2024-04-11T08:28:00.459Z"
   },
   {
    "duration": 112,
    "start_time": "2024-04-11T08:28:00.465Z"
   },
   {
    "duration": 2255,
    "start_time": "2024-04-11T08:28:00.578Z"
   },
   {
    "duration": 28,
    "start_time": "2024-04-11T08:28:02.835Z"
   },
   {
    "duration": 207,
    "start_time": "2024-04-11T08:28:02.865Z"
   },
   {
    "duration": 52,
    "start_time": "2024-04-11T08:28:03.074Z"
   },
   {
    "duration": 45,
    "start_time": "2024-04-11T08:28:03.128Z"
   },
   {
    "duration": 18,
    "start_time": "2024-04-11T08:28:03.175Z"
   },
   {
    "duration": 39,
    "start_time": "2024-04-11T08:28:03.196Z"
   },
   {
    "duration": 59,
    "start_time": "2024-04-11T08:28:03.236Z"
   },
   {
    "duration": 84,
    "start_time": "2024-04-11T08:28:03.296Z"
   },
   {
    "duration": 657,
    "start_time": "2024-04-11T08:28:03.382Z"
   },
   {
    "duration": 1227,
    "start_time": "2024-04-11T08:28:04.040Z"
   },
   {
    "duration": 455,
    "start_time": "2024-04-11T08:28:05.269Z"
   },
   {
    "duration": 133,
    "start_time": "2024-04-11T08:28:05.728Z"
   },
   {
    "duration": 133,
    "start_time": "2024-04-11T08:28:05.863Z"
   },
   {
    "duration": 158,
    "start_time": "2024-04-11T08:28:05.998Z"
   },
   {
    "duration": 141,
    "start_time": "2024-04-11T08:28:06.158Z"
   },
   {
    "duration": 10940,
    "start_time": "2024-04-11T08:28:06.300Z"
   },
   {
    "duration": 608,
    "start_time": "2024-04-11T08:28:17.243Z"
   },
   {
    "duration": 3,
    "start_time": "2024-04-11T08:28:17.853Z"
   },
   {
    "duration": 12,
    "start_time": "2024-04-11T08:28:17.858Z"
   },
   {
    "duration": 14,
    "start_time": "2024-04-11T08:28:17.871Z"
   },
   {
    "duration": 12,
    "start_time": "2024-04-11T08:28:17.889Z"
   },
   {
    "duration": 20,
    "start_time": "2024-04-11T08:28:17.903Z"
   },
   {
    "duration": 9,
    "start_time": "2024-04-11T08:28:17.925Z"
   },
   {
    "duration": 6,
    "start_time": "2024-04-11T08:28:17.936Z"
   },
   {
    "duration": 12,
    "start_time": "2024-04-11T08:28:17.944Z"
   },
   {
    "duration": 15,
    "start_time": "2024-04-11T08:28:17.958Z"
   },
   {
    "duration": 28,
    "start_time": "2024-04-11T08:28:17.974Z"
   },
   {
    "duration": 162,
    "start_time": "2024-04-11T08:28:18.003Z"
   },
   {
    "duration": 236,
    "start_time": "2024-04-11T08:28:18.166Z"
   },
   {
    "duration": 3,
    "start_time": "2024-04-11T08:28:18.404Z"
   },
   {
    "duration": 5,
    "start_time": "2024-04-11T08:28:18.409Z"
   },
   {
    "duration": 25,
    "start_time": "2024-04-11T08:28:18.415Z"
   },
   {
    "duration": 16,
    "start_time": "2024-04-11T08:28:18.442Z"
   },
   {
    "duration": 73,
    "start_time": "2024-04-11T08:28:18.460Z"
   },
   {
    "duration": 11,
    "start_time": "2024-04-11T08:28:18.535Z"
   },
   {
    "duration": 17687,
    "start_time": "2024-04-11T08:28:18.548Z"
   },
   {
    "duration": 217,
    "start_time": "2024-04-11T08:28:36.237Z"
   },
   {
    "duration": 4,
    "start_time": "2024-04-11T08:28:36.456Z"
   },
   {
    "duration": 401,
    "start_time": "2024-04-11T08:28:36.461Z"
   },
   {
    "duration": 39079,
    "start_time": "2024-04-11T08:28:36.864Z"
   },
   {
    "duration": 3,
    "start_time": "2024-04-11T08:29:15.944Z"
   },
   {
    "duration": 337498,
    "start_time": "2024-04-11T08:29:15.948Z"
   },
   {
    "duration": 3,
    "start_time": "2024-04-11T08:34:53.448Z"
   },
   {
    "duration": 61601,
    "start_time": "2024-04-11T08:34:53.452Z"
   },
   {
    "duration": 3,
    "start_time": "2024-04-11T08:35:55.129Z"
   },
   {
    "duration": 204,
    "start_time": "2024-04-11T08:35:55.134Z"
   },
   {
    "duration": 59407,
    "start_time": "2024-04-11T08:35:55.339Z"
   },
   {
    "duration": 2,
    "start_time": "2024-04-11T08:36:54.748Z"
   },
   {
    "duration": 5,
    "start_time": "2024-04-11T08:36:54.755Z"
   },
   {
    "duration": 259,
    "start_time": "2024-04-11T08:36:54.762Z"
   },
   {
    "duration": 0,
    "start_time": "2024-04-11T08:36:55.022Z"
   },
   {
    "duration": 12,
    "start_time": "2024-04-11T08:51:03.510Z"
   },
   {
    "duration": 12,
    "start_time": "2024-04-11T08:51:33.214Z"
   },
   {
    "duration": 10,
    "start_time": "2024-04-11T08:53:10.255Z"
   },
   {
    "duration": 4,
    "start_time": "2024-04-11T08:53:48.630Z"
   },
   {
    "duration": 5,
    "start_time": "2024-04-11T08:54:03.384Z"
   },
   {
    "duration": 4,
    "start_time": "2024-04-11T08:54:24.963Z"
   },
   {
    "duration": 14,
    "start_time": "2024-04-11T08:54:40.715Z"
   },
   {
    "duration": 59,
    "start_time": "2024-04-11T08:54:54.003Z"
   },
   {
    "duration": 11,
    "start_time": "2024-04-11T08:57:58.689Z"
   },
   {
    "duration": 11,
    "start_time": "2024-04-11T08:58:02.001Z"
   },
   {
    "duration": 20,
    "start_time": "2024-04-11T08:58:26.434Z"
   },
   {
    "duration": 13,
    "start_time": "2024-04-11T09:00:48.223Z"
   },
   {
    "duration": 11,
    "start_time": "2024-04-11T09:00:51.842Z"
   },
   {
    "duration": 14,
    "start_time": "2024-04-11T09:00:58.956Z"
   },
   {
    "duration": 25,
    "start_time": "2024-04-11T09:01:34.815Z"
   },
   {
    "duration": 10,
    "start_time": "2024-04-11T09:01:44.569Z"
   },
   {
    "duration": 19182,
    "start_time": "2024-04-11T10:04:50.674Z"
   },
   {
    "duration": 18891,
    "start_time": "2024-04-11T10:06:14.545Z"
   },
   {
    "duration": 62948,
    "start_time": "2024-04-11T10:08:24.401Z"
   },
   {
    "duration": 296,
    "start_time": "2024-04-11T10:09:27.351Z"
   },
   {
    "duration": 17606,
    "start_time": "2024-04-11T10:14:34.148Z"
   },
   {
    "duration": 17758,
    "start_time": "2024-04-11T10:15:21.188Z"
   },
   {
    "duration": 4,
    "start_time": "2024-04-11T10:15:42.492Z"
   },
   {
    "duration": 4,
    "start_time": "2024-04-11T10:16:07.693Z"
   },
   {
    "duration": 4,
    "start_time": "2024-04-11T10:16:16.158Z"
   },
   {
    "duration": 27,
    "start_time": "2024-04-11T10:17:46.748Z"
   },
   {
    "duration": 18105,
    "start_time": "2024-04-11T10:18:07.728Z"
   },
   {
    "duration": 3,
    "start_time": "2024-04-11T10:18:31.937Z"
   },
   {
    "duration": 17979,
    "start_time": "2024-04-11T10:19:23.668Z"
   },
   {
    "duration": 4,
    "start_time": "2024-04-11T10:21:34.859Z"
   },
   {
    "duration": 18106,
    "start_time": "2024-04-11T10:21:39.123Z"
   },
   {
    "duration": 3,
    "start_time": "2024-04-11T10:22:36.584Z"
   },
   {
    "duration": 18305,
    "start_time": "2024-04-11T10:22:41.629Z"
   },
   {
    "duration": 17192,
    "start_time": "2024-04-11T10:23:18.350Z"
   },
   {
    "duration": 18028,
    "start_time": "2024-04-11T10:25:22.201Z"
   },
   {
    "duration": 4,
    "start_time": "2024-04-11T10:26:37.336Z"
   },
   {
    "duration": 4,
    "start_time": "2024-04-11T10:26:52.213Z"
   },
   {
    "duration": 68,
    "start_time": "2024-04-11T10:28:59.584Z"
   },
   {
    "duration": 17614,
    "start_time": "2024-04-11T10:29:05.627Z"
   },
   {
    "duration": 7,
    "start_time": "2024-04-11T10:29:29.916Z"
   },
   {
    "duration": 18115,
    "start_time": "2024-04-11T10:30:49.032Z"
   },
   {
    "duration": 4,
    "start_time": "2024-04-11T10:31:51.594Z"
   },
   {
    "duration": 4,
    "start_time": "2024-04-11T10:32:18.185Z"
   },
   {
    "duration": 4,
    "start_time": "2024-04-11T10:34:35.346Z"
   },
   {
    "duration": 17669,
    "start_time": "2024-04-11T10:35:54.680Z"
   },
   {
    "duration": 17835,
    "start_time": "2024-04-11T10:36:28.897Z"
   },
   {
    "duration": 17543,
    "start_time": "2024-04-11T10:37:07.694Z"
   },
   {
    "duration": 19776,
    "start_time": "2024-04-11T10:45:06.767Z"
   },
   {
    "duration": 17672,
    "start_time": "2024-04-11T10:46:11.071Z"
   },
   {
    "duration": 43679,
    "start_time": "2024-04-11T10:49:35.157Z"
   },
   {
    "duration": 4,
    "start_time": "2024-04-11T10:52:01.341Z"
   },
   {
    "duration": 39110,
    "start_time": "2024-04-11T10:52:22.336Z"
   },
   {
    "duration": 5,
    "start_time": "2024-04-11T10:54:21.962Z"
   },
   {
    "duration": 17936,
    "start_time": "2024-04-11T11:01:43.617Z"
   },
   {
    "duration": 38302,
    "start_time": "2024-04-11T11:02:26.643Z"
   },
   {
    "duration": 17325,
    "start_time": "2024-04-11T11:03:40.808Z"
   },
   {
    "duration": 39503,
    "start_time": "2024-04-11T11:03:58.135Z"
   },
   {
    "duration": 336263,
    "start_time": "2024-04-11T11:06:26.666Z"
   },
   {
    "duration": 3,
    "start_time": "2024-04-11T11:12:25.312Z"
   },
   {
    "duration": 4,
    "start_time": "2024-04-11T11:12:34.386Z"
   },
   {
    "duration": 4,
    "start_time": "2024-04-11T11:13:09.081Z"
   },
   {
    "duration": 3,
    "start_time": "2024-04-11T11:14:17.401Z"
   },
   {
    "duration": 3,
    "start_time": "2024-04-11T11:14:43.307Z"
   },
   {
    "duration": 13,
    "start_time": "2024-04-11T11:14:56.053Z"
   },
   {
    "duration": 10,
    "start_time": "2024-04-11T11:15:20.275Z"
   },
   {
    "duration": 11,
    "start_time": "2024-04-11T11:15:32.096Z"
   },
   {
    "duration": 3,
    "start_time": "2024-04-11T11:15:51.035Z"
   },
   {
    "duration": 14,
    "start_time": "2024-04-11T11:15:53.765Z"
   },
   {
    "duration": 4,
    "start_time": "2024-04-11T11:16:02.825Z"
   },
   {
    "duration": 4,
    "start_time": "2024-04-11T11:16:17.488Z"
   },
   {
    "duration": 4,
    "start_time": "2024-04-11T11:16:29.299Z"
   },
   {
    "duration": 5,
    "start_time": "2024-04-11T11:16:37.532Z"
   },
   {
    "duration": 12,
    "start_time": "2024-04-11T11:16:50.988Z"
   },
   {
    "duration": 3,
    "start_time": "2024-04-11T11:16:56.616Z"
   },
   {
    "duration": 4,
    "start_time": "2024-04-11T11:17:00.097Z"
   },
   {
    "duration": 4,
    "start_time": "2024-04-11T11:17:02.132Z"
   },
   {
    "duration": 15,
    "start_time": "2024-04-11T11:17:24.577Z"
   },
   {
    "duration": 2,
    "start_time": "2024-04-11T11:17:27.467Z"
   },
   {
    "duration": 4,
    "start_time": "2024-04-11T11:17:27.954Z"
   },
   {
    "duration": 3,
    "start_time": "2024-04-11T11:17:28.544Z"
   },
   {
    "duration": 3,
    "start_time": "2024-04-11T11:17:42.061Z"
   },
   {
    "duration": 3,
    "start_time": "2024-04-11T11:17:42.677Z"
   },
   {
    "duration": 4,
    "start_time": "2024-04-11T11:17:43.309Z"
   },
   {
    "duration": 3,
    "start_time": "2024-04-11T11:18:00.188Z"
   },
   {
    "duration": 4,
    "start_time": "2024-04-11T11:18:07.488Z"
   },
   {
    "duration": 5,
    "start_time": "2024-04-11T11:18:13.080Z"
   },
   {
    "duration": 12,
    "start_time": "2024-04-11T11:18:52.421Z"
   },
   {
    "duration": 3,
    "start_time": "2024-04-11T11:19:05.866Z"
   },
   {
    "duration": 11,
    "start_time": "2024-04-11T11:19:11.232Z"
   },
   {
    "duration": 2,
    "start_time": "2024-04-11T11:19:44.621Z"
   },
   {
    "duration": 4,
    "start_time": "2024-04-11T11:19:45.784Z"
   },
   {
    "duration": 2,
    "start_time": "2024-04-11T11:19:58.297Z"
   },
   {
    "duration": 4,
    "start_time": "2024-04-11T11:19:58.857Z"
   },
   {
    "duration": 5,
    "start_time": "2024-04-11T11:20:17.621Z"
   },
   {
    "duration": 46408,
    "start_time": "2024-04-11T11:21:29.835Z"
   },
   {
    "duration": 341030,
    "start_time": "2024-04-11T11:22:58.018Z"
   },
   {
    "duration": 11945,
    "start_time": "2024-04-11T11:29:44.499Z"
   },
   {
    "duration": 61235,
    "start_time": "2024-04-11T11:30:12.812Z"
   },
   {
    "duration": 153,
    "start_time": "2024-04-11T11:31:44.438Z"
   },
   {
    "duration": 194,
    "start_time": "2024-04-11T11:32:01.027Z"
   },
   {
    "duration": 62834,
    "start_time": "2024-04-11T11:35:44.504Z"
   },
   {
    "duration": 192,
    "start_time": "2024-04-11T11:37:35.764Z"
   },
   {
    "duration": 16540,
    "start_time": "2024-04-11T11:38:32.399Z"
   },
   {
    "duration": 15004,
    "start_time": "2024-04-11T11:39:09.538Z"
   },
   {
    "duration": 62414,
    "start_time": "2024-04-11T11:39:30.728Z"
   },
   {
    "duration": 210,
    "start_time": "2024-04-11T11:40:35.611Z"
   },
   {
    "duration": 3,
    "start_time": "2024-04-11T11:42:00.263Z"
   },
   {
    "duration": 215,
    "start_time": "2024-04-11T11:42:04.771Z"
   },
   {
    "duration": 4,
    "start_time": "2024-04-11T11:42:23.062Z"
   },
   {
    "duration": 6,
    "start_time": "2024-04-11T11:42:34.905Z"
   },
   {
    "duration": 4,
    "start_time": "2024-04-11T11:42:42.591Z"
   },
   {
    "duration": 4,
    "start_time": "2024-04-11T11:43:12.839Z"
   },
   {
    "duration": 4,
    "start_time": "2024-04-11T11:43:33.419Z"
   },
   {
    "duration": 4,
    "start_time": "2024-04-11T11:43:52.891Z"
   },
   {
    "duration": 4,
    "start_time": "2024-04-11T11:44:08.708Z"
   },
   {
    "duration": 4,
    "start_time": "2024-04-11T11:44:13.270Z"
   },
   {
    "duration": 4,
    "start_time": "2024-04-11T11:44:17.212Z"
   },
   {
    "duration": 61455,
    "start_time": "2024-04-11T11:44:42.495Z"
   },
   {
    "duration": 201,
    "start_time": "2024-04-11T11:45:48.219Z"
   },
   {
    "duration": 62008,
    "start_time": "2024-04-11T11:47:26.739Z"
   },
   {
    "duration": 212,
    "start_time": "2024-04-11T11:48:32.357Z"
   },
   {
    "duration": 67788,
    "start_time": "2024-04-11T11:50:24.946Z"
   },
   {
    "duration": 222,
    "start_time": "2024-04-11T11:51:32.736Z"
   },
   {
    "duration": 61,
    "start_time": "2024-04-11T12:08:14.751Z"
   },
   {
    "duration": 241,
    "start_time": "2024-04-11T12:08:25.241Z"
   },
   {
    "duration": 16,
    "start_time": "2024-04-11T12:08:33.287Z"
   },
   {
    "duration": 0,
    "start_time": "2024-04-11T12:10:03.735Z"
   },
   {
    "duration": 3,
    "start_time": "2024-04-11T12:15:03.151Z"
   },
   {
    "duration": 123743,
    "start_time": "2024-04-11T12:15:51.020Z"
   },
   {
    "duration": 80,
    "start_time": "2024-04-11T12:22:13.876Z"
   },
   {
    "duration": 69197,
    "start_time": "2024-04-11T12:22:25.456Z"
   },
   {
    "duration": 138260,
    "start_time": "2024-04-11T12:23:42.475Z"
   },
   {
    "duration": 400,
    "start_time": "2024-04-11T12:30:55.616Z"
   },
   {
    "duration": 68,
    "start_time": "2024-04-11T12:39:34.410Z"
   },
   {
    "duration": 28162,
    "start_time": "2024-04-11T12:40:37.782Z"
   },
   {
    "duration": 26184,
    "start_time": "2024-04-11T12:42:12.660Z"
   },
   {
    "duration": 29383,
    "start_time": "2024-04-11T12:44:02.649Z"
   },
   {
    "duration": 383,
    "start_time": "2024-04-11T12:45:29.921Z"
   },
   {
    "duration": 3,
    "start_time": "2024-04-11T12:47:43.659Z"
   },
   {
    "duration": 5,
    "start_time": "2024-04-11T12:47:43.664Z"
   },
   {
    "duration": 2291,
    "start_time": "2024-04-11T12:47:43.671Z"
   },
   {
    "duration": 27,
    "start_time": "2024-04-11T12:47:45.964Z"
   },
   {
    "duration": 34,
    "start_time": "2024-04-11T12:47:45.994Z"
   },
   {
    "duration": 10,
    "start_time": "2024-04-11T12:47:46.029Z"
   },
   {
    "duration": 26,
    "start_time": "2024-04-11T12:47:46.041Z"
   },
   {
    "duration": 24,
    "start_time": "2024-04-11T12:47:46.069Z"
   },
   {
    "duration": 17,
    "start_time": "2024-04-11T12:47:46.094Z"
   },
   {
    "duration": 8,
    "start_time": "2024-04-11T12:47:46.113Z"
   },
   {
    "duration": 28,
    "start_time": "2024-04-11T12:47:46.123Z"
   },
   {
    "duration": 637,
    "start_time": "2024-04-11T12:47:46.152Z"
   },
   {
    "duration": 1186,
    "start_time": "2024-04-11T12:47:46.791Z"
   },
   {
    "duration": 420,
    "start_time": "2024-04-11T12:47:47.979Z"
   },
   {
    "duration": 135,
    "start_time": "2024-04-11T12:47:48.400Z"
   },
   {
    "duration": 131,
    "start_time": "2024-04-11T12:47:48.536Z"
   },
   {
    "duration": 144,
    "start_time": "2024-04-11T12:47:48.669Z"
   },
   {
    "duration": 144,
    "start_time": "2024-04-11T12:47:48.814Z"
   },
   {
    "duration": 9708,
    "start_time": "2024-04-11T12:47:48.959Z"
   },
   {
    "duration": 588,
    "start_time": "2024-04-11T12:47:58.669Z"
   },
   {
    "duration": 4,
    "start_time": "2024-04-11T12:47:59.259Z"
   },
   {
    "duration": 10,
    "start_time": "2024-04-11T12:47:59.264Z"
   },
   {
    "duration": 7,
    "start_time": "2024-04-11T12:47:59.276Z"
   },
   {
    "duration": 11,
    "start_time": "2024-04-11T12:47:59.285Z"
   },
   {
    "duration": 19,
    "start_time": "2024-04-11T12:47:59.298Z"
   },
   {
    "duration": 50,
    "start_time": "2024-04-11T12:47:59.319Z"
   },
   {
    "duration": 35,
    "start_time": "2024-04-11T12:47:59.370Z"
   },
   {
    "duration": 39,
    "start_time": "2024-04-11T12:47:59.407Z"
   },
   {
    "duration": 11,
    "start_time": "2024-04-11T12:47:59.451Z"
   },
   {
    "duration": 32,
    "start_time": "2024-04-11T12:47:59.464Z"
   },
   {
    "duration": 182,
    "start_time": "2024-04-11T12:47:59.498Z"
   },
   {
    "duration": 240,
    "start_time": "2024-04-11T12:47:59.682Z"
   },
   {
    "duration": 5,
    "start_time": "2024-04-11T12:47:59.928Z"
   },
   {
    "duration": 11,
    "start_time": "2024-04-11T12:47:59.934Z"
   },
   {
    "duration": 23,
    "start_time": "2024-04-11T12:47:59.947Z"
   },
   {
    "duration": 30,
    "start_time": "2024-04-11T12:47:59.972Z"
   },
   {
    "duration": 38,
    "start_time": "2024-04-11T12:48:00.004Z"
   },
   {
    "duration": 61,
    "start_time": "2024-04-11T12:48:00.044Z"
   },
   {
    "duration": 17938,
    "start_time": "2024-04-11T12:48:00.107Z"
   },
   {
    "duration": 246,
    "start_time": "2024-04-11T12:48:18.047Z"
   },
   {
    "duration": 4,
    "start_time": "2024-04-11T12:48:18.295Z"
   },
   {
    "duration": 409,
    "start_time": "2024-04-11T12:48:18.300Z"
   },
   {
    "duration": 37629,
    "start_time": "2024-04-11T12:48:18.711Z"
   },
   {
    "duration": 3,
    "start_time": "2024-04-11T12:48:56.341Z"
   },
   {
    "duration": 333203,
    "start_time": "2024-04-11T12:48:56.345Z"
   },
   {
    "duration": 58900,
    "start_time": "2024-04-11T12:54:29.550Z"
   },
   {
    "duration": 191,
    "start_time": "2024-04-11T12:55:28.528Z"
   },
   {
    "duration": 8,
    "start_time": "2024-04-11T12:55:28.721Z"
   },
   {
    "duration": 118721,
    "start_time": "2024-04-11T12:55:28.730Z"
   },
   {
    "duration": 28082,
    "start_time": "2024-04-11T12:57:27.453Z"
   },
   {
    "duration": 559,
    "start_time": "2024-04-11T12:57:55.537Z"
   },
   {
    "duration": 169,
    "start_time": "2024-04-11T12:57:56.097Z"
   },
   {
    "duration": 28959,
    "start_time": "2024-04-11T12:58:46.581Z"
   },
   {
    "duration": 27531,
    "start_time": "2024-04-11T12:59:22.209Z"
   },
   {
    "duration": 399,
    "start_time": "2024-04-11T13:00:02.840Z"
   },
   {
    "duration": 64,
    "start_time": "2024-04-11T13:47:08.218Z"
   },
   {
    "duration": 74,
    "start_time": "2024-04-11T13:47:16.543Z"
   },
   {
    "duration": 17,
    "start_time": "2024-04-11T13:47:32.715Z"
   },
   {
    "duration": 3,
    "start_time": "2024-04-11T13:50:02.568Z"
   },
   {
    "duration": 64,
    "start_time": "2024-04-11T13:50:02.573Z"
   },
   {
    "duration": 2484,
    "start_time": "2024-04-11T13:50:02.639Z"
   },
   {
    "duration": 30,
    "start_time": "2024-04-11T13:50:05.126Z"
   },
   {
    "duration": 40,
    "start_time": "2024-04-11T13:50:05.158Z"
   },
   {
    "duration": 5,
    "start_time": "2024-04-11T13:50:05.199Z"
   },
   {
    "duration": 32,
    "start_time": "2024-04-11T13:50:05.205Z"
   },
   {
    "duration": 12,
    "start_time": "2024-04-11T13:50:05.238Z"
   },
   {
    "duration": 13,
    "start_time": "2024-04-11T13:50:05.252Z"
   },
   {
    "duration": 29,
    "start_time": "2024-04-11T13:50:05.266Z"
   },
   {
    "duration": 46,
    "start_time": "2024-04-11T13:50:05.296Z"
   },
   {
    "duration": 680,
    "start_time": "2024-04-11T13:50:05.344Z"
   },
   {
    "duration": 1184,
    "start_time": "2024-04-11T13:50:06.029Z"
   },
   {
    "duration": 455,
    "start_time": "2024-04-11T13:50:07.214Z"
   },
   {
    "duration": 141,
    "start_time": "2024-04-11T13:50:07.671Z"
   },
   {
    "duration": 142,
    "start_time": "2024-04-11T13:50:07.814Z"
   },
   {
    "duration": 155,
    "start_time": "2024-04-11T13:50:07.958Z"
   },
   {
    "duration": 147,
    "start_time": "2024-04-11T13:50:08.115Z"
   },
   {
    "duration": 10389,
    "start_time": "2024-04-11T13:50:08.264Z"
   },
   {
    "duration": 579,
    "start_time": "2024-04-11T13:50:18.656Z"
   },
   {
    "duration": 4,
    "start_time": "2024-04-11T13:50:19.236Z"
   },
   {
    "duration": 7,
    "start_time": "2024-04-11T13:50:19.242Z"
   },
   {
    "duration": 13,
    "start_time": "2024-04-11T13:50:19.251Z"
   },
   {
    "duration": 18,
    "start_time": "2024-04-11T13:50:19.268Z"
   },
   {
    "duration": 14,
    "start_time": "2024-04-11T13:50:19.288Z"
   },
   {
    "duration": 14,
    "start_time": "2024-04-11T13:50:19.303Z"
   },
   {
    "duration": 16,
    "start_time": "2024-04-11T13:50:19.319Z"
   },
   {
    "duration": 40,
    "start_time": "2024-04-11T13:50:19.337Z"
   },
   {
    "duration": 10,
    "start_time": "2024-04-11T13:50:19.378Z"
   },
   {
    "duration": 19,
    "start_time": "2024-04-11T13:50:19.390Z"
   },
   {
    "duration": 176,
    "start_time": "2024-04-11T13:50:19.410Z"
   },
   {
    "duration": 228,
    "start_time": "2024-04-11T13:50:19.588Z"
   },
   {
    "duration": 3,
    "start_time": "2024-04-11T13:50:19.818Z"
   },
   {
    "duration": 4,
    "start_time": "2024-04-11T13:50:19.829Z"
   },
   {
    "duration": 17,
    "start_time": "2024-04-11T13:50:19.834Z"
   },
   {
    "duration": 13,
    "start_time": "2024-04-11T13:50:19.853Z"
   },
   {
    "duration": 65,
    "start_time": "2024-04-11T13:50:19.868Z"
   },
   {
    "duration": 10,
    "start_time": "2024-04-11T13:50:19.935Z"
   },
   {
    "duration": 17589,
    "start_time": "2024-04-11T13:50:19.947Z"
   },
   {
    "duration": 231,
    "start_time": "2024-04-11T13:50:37.538Z"
   },
   {
    "duration": 4,
    "start_time": "2024-04-11T13:50:37.771Z"
   },
   {
    "duration": 406,
    "start_time": "2024-04-11T13:50:37.777Z"
   },
   {
    "duration": 258,
    "start_time": "2024-04-11T13:50:38.185Z"
   },
   {
    "duration": 3,
    "start_time": "2024-04-11T13:50:38.445Z"
   },
   {
    "duration": 58182,
    "start_time": "2024-04-11T13:50:38.450Z"
   },
   {
    "duration": 1658,
    "start_time": "2024-04-11T13:51:36.635Z"
   },
   {
    "duration": 165,
    "start_time": "2024-04-11T13:51:38.295Z"
   },
   {
    "duration": 0,
    "start_time": "2024-04-11T13:51:38.462Z"
   },
   {
    "duration": 0,
    "start_time": "2024-04-11T13:51:38.463Z"
   },
   {
    "duration": 0,
    "start_time": "2024-04-11T13:51:38.464Z"
   },
   {
    "duration": 0,
    "start_time": "2024-04-11T13:51:38.466Z"
   },
   {
    "duration": 0,
    "start_time": "2024-04-11T13:51:38.467Z"
   },
   {
    "duration": 156,
    "start_time": "2024-04-11T13:51:58.002Z"
   },
   {
    "duration": 3,
    "start_time": "2024-04-11T13:52:08.937Z"
   },
   {
    "duration": 14,
    "start_time": "2024-04-11T13:52:08.946Z"
   },
   {
    "duration": 2279,
    "start_time": "2024-04-11T13:52:08.962Z"
   },
   {
    "duration": 27,
    "start_time": "2024-04-11T13:52:11.243Z"
   },
   {
    "duration": 38,
    "start_time": "2024-04-11T13:52:11.272Z"
   },
   {
    "duration": 4,
    "start_time": "2024-04-11T13:52:11.312Z"
   },
   {
    "duration": 31,
    "start_time": "2024-04-11T13:52:11.318Z"
   },
   {
    "duration": 17,
    "start_time": "2024-04-11T13:52:11.351Z"
   },
   {
    "duration": 14,
    "start_time": "2024-04-11T13:52:11.370Z"
   },
   {
    "duration": 11,
    "start_time": "2024-04-11T13:52:11.385Z"
   },
   {
    "duration": 27,
    "start_time": "2024-04-11T13:52:11.397Z"
   },
   {
    "duration": 685,
    "start_time": "2024-04-11T13:52:11.425Z"
   },
   {
    "duration": 1235,
    "start_time": "2024-04-11T13:52:12.112Z"
   },
   {
    "duration": 471,
    "start_time": "2024-04-11T13:52:13.349Z"
   },
   {
    "duration": 146,
    "start_time": "2024-04-11T13:52:13.823Z"
   },
   {
    "duration": 169,
    "start_time": "2024-04-11T13:52:13.971Z"
   },
   {
    "duration": 163,
    "start_time": "2024-04-11T13:52:14.141Z"
   },
   {
    "duration": 150,
    "start_time": "2024-04-11T13:52:14.306Z"
   },
   {
    "duration": 10800,
    "start_time": "2024-04-11T13:52:14.458Z"
   },
   {
    "duration": 635,
    "start_time": "2024-04-11T13:52:25.261Z"
   },
   {
    "duration": 4,
    "start_time": "2024-04-11T13:52:25.898Z"
   },
   {
    "duration": 17,
    "start_time": "2024-04-11T13:52:25.904Z"
   },
   {
    "duration": 15,
    "start_time": "2024-04-11T13:52:25.923Z"
   },
   {
    "duration": 12,
    "start_time": "2024-04-11T13:52:25.940Z"
   },
   {
    "duration": 24,
    "start_time": "2024-04-11T13:52:25.954Z"
   },
   {
    "duration": 10,
    "start_time": "2024-04-11T13:52:25.980Z"
   },
   {
    "duration": 18,
    "start_time": "2024-04-11T13:52:25.992Z"
   },
   {
    "duration": 23,
    "start_time": "2024-04-11T13:52:26.012Z"
   },
   {
    "duration": 21,
    "start_time": "2024-04-11T13:52:26.038Z"
   },
   {
    "duration": 15,
    "start_time": "2024-04-11T13:52:26.061Z"
   },
   {
    "duration": 163,
    "start_time": "2024-04-11T13:52:26.078Z"
   },
   {
    "duration": 237,
    "start_time": "2024-04-11T13:52:26.243Z"
   },
   {
    "duration": 4,
    "start_time": "2024-04-11T13:52:26.482Z"
   },
   {
    "duration": 13,
    "start_time": "2024-04-11T13:52:26.487Z"
   },
   {
    "duration": 31,
    "start_time": "2024-04-11T13:52:26.502Z"
   },
   {
    "duration": 11,
    "start_time": "2024-04-11T13:52:26.534Z"
   },
   {
    "duration": 48,
    "start_time": "2024-04-11T13:52:26.547Z"
   },
   {
    "duration": 41,
    "start_time": "2024-04-11T13:52:26.597Z"
   },
   {
    "duration": 20892,
    "start_time": "2024-04-11T13:52:26.640Z"
   },
   {
    "duration": 274,
    "start_time": "2024-04-11T13:52:47.534Z"
   },
   {
    "duration": 5,
    "start_time": "2024-04-11T13:52:47.810Z"
   },
   {
    "duration": 416,
    "start_time": "2024-04-11T13:52:47.830Z"
   },
   {
    "duration": 268,
    "start_time": "2024-04-11T13:52:48.248Z"
   },
   {
    "duration": 3,
    "start_time": "2024-04-11T13:52:48.518Z"
   },
   {
    "duration": 50008,
    "start_time": "2024-04-11T13:52:48.523Z"
   },
   {
    "duration": 4759,
    "start_time": "2024-04-11T13:53:38.534Z"
   },
   {
    "duration": 169,
    "start_time": "2024-04-11T13:53:43.295Z"
   },
   {
    "duration": 0,
    "start_time": "2024-04-11T13:53:43.466Z"
   },
   {
    "duration": 0,
    "start_time": "2024-04-11T13:53:43.467Z"
   },
   {
    "duration": 0,
    "start_time": "2024-04-11T13:53:43.468Z"
   },
   {
    "duration": 0,
    "start_time": "2024-04-11T13:53:43.469Z"
   },
   {
    "duration": 0,
    "start_time": "2024-04-11T13:53:43.471Z"
   },
   {
    "duration": 0,
    "start_time": "2024-04-11T13:53:43.472Z"
   },
   {
    "duration": 4,
    "start_time": "2024-04-11T13:53:53.217Z"
   },
   {
    "duration": 6,
    "start_time": "2024-04-11T13:53:53.223Z"
   },
   {
    "duration": 2182,
    "start_time": "2024-04-11T13:53:53.231Z"
   },
   {
    "duration": 28,
    "start_time": "2024-04-11T13:53:55.415Z"
   },
   {
    "duration": 39,
    "start_time": "2024-04-11T13:53:55.444Z"
   },
   {
    "duration": 5,
    "start_time": "2024-04-11T13:53:55.484Z"
   },
   {
    "duration": 26,
    "start_time": "2024-04-11T13:53:55.491Z"
   },
   {
    "duration": 21,
    "start_time": "2024-04-11T13:53:55.519Z"
   },
   {
    "duration": 7,
    "start_time": "2024-04-11T13:53:55.543Z"
   },
   {
    "duration": 11,
    "start_time": "2024-04-11T13:53:55.552Z"
   },
   {
    "duration": 27,
    "start_time": "2024-04-11T13:53:55.564Z"
   },
   {
    "duration": 668,
    "start_time": "2024-04-11T13:53:55.592Z"
   },
   {
    "duration": 1162,
    "start_time": "2024-04-11T13:53:56.262Z"
   },
   {
    "duration": 419,
    "start_time": "2024-04-11T13:53:57.429Z"
   },
   {
    "duration": 135,
    "start_time": "2024-04-11T13:53:57.849Z"
   },
   {
    "duration": 130,
    "start_time": "2024-04-11T13:53:57.986Z"
   },
   {
    "duration": 146,
    "start_time": "2024-04-11T13:53:58.118Z"
   },
   {
    "duration": 148,
    "start_time": "2024-04-11T13:53:58.265Z"
   },
   {
    "duration": 10342,
    "start_time": "2024-04-11T13:53:58.415Z"
   },
   {
    "duration": 585,
    "start_time": "2024-04-11T13:54:08.762Z"
   },
   {
    "duration": 4,
    "start_time": "2024-04-11T13:54:09.348Z"
   },
   {
    "duration": 31,
    "start_time": "2024-04-11T13:54:09.354Z"
   },
   {
    "duration": 42,
    "start_time": "2024-04-11T13:54:09.386Z"
   },
   {
    "duration": 29,
    "start_time": "2024-04-11T13:54:09.432Z"
   },
   {
    "duration": 44,
    "start_time": "2024-04-11T13:54:09.462Z"
   },
   {
    "duration": 22,
    "start_time": "2024-04-11T13:54:09.509Z"
   },
   {
    "duration": 29,
    "start_time": "2024-04-11T13:54:09.532Z"
   },
   {
    "duration": 55,
    "start_time": "2024-04-11T13:54:09.562Z"
   },
   {
    "duration": 54,
    "start_time": "2024-04-11T13:54:09.618Z"
   },
   {
    "duration": 37,
    "start_time": "2024-04-11T13:54:09.674Z"
   },
   {
    "duration": 172,
    "start_time": "2024-04-11T13:54:09.712Z"
   },
   {
    "duration": 249,
    "start_time": "2024-04-11T13:54:09.886Z"
   },
   {
    "duration": 4,
    "start_time": "2024-04-11T13:54:10.137Z"
   },
   {
    "duration": 5,
    "start_time": "2024-04-11T13:54:10.143Z"
   },
   {
    "duration": 22,
    "start_time": "2024-04-11T13:54:10.149Z"
   },
   {
    "duration": 11,
    "start_time": "2024-04-11T13:54:10.172Z"
   },
   {
    "duration": 21,
    "start_time": "2024-04-11T13:54:10.229Z"
   },
   {
    "duration": 14,
    "start_time": "2024-04-11T13:54:10.252Z"
   },
   {
    "duration": 20177,
    "start_time": "2024-04-11T13:54:10.268Z"
   },
   {
    "duration": 248,
    "start_time": "2024-04-11T13:54:30.447Z"
   },
   {
    "duration": 19,
    "start_time": "2024-04-11T13:54:30.697Z"
   },
   {
    "duration": 808,
    "start_time": "2024-04-11T13:54:30.717Z"
   },
   {
    "duration": 40409,
    "start_time": "2024-04-11T13:54:31.529Z"
   },
   {
    "duration": 3,
    "start_time": "2024-04-11T13:55:11.940Z"
   },
   {
    "duration": 345107,
    "start_time": "2024-04-11T13:55:11.945Z"
   },
   {
    "duration": 62881,
    "start_time": "2024-04-11T14:00:57.054Z"
   },
   {
    "duration": 223,
    "start_time": "2024-04-11T14:01:59.937Z"
   },
   {
    "duration": 2,
    "start_time": "2024-04-11T14:02:00.162Z"
   },
   {
    "duration": 119474,
    "start_time": "2024-04-11T14:02:00.166Z"
   },
   {
    "duration": 28801,
    "start_time": "2024-04-11T14:03:59.642Z"
   },
   {
    "duration": 597,
    "start_time": "2024-04-11T14:04:28.444Z"
   },
   {
    "duration": 16,
    "start_time": "2024-04-11T14:04:29.043Z"
   },
   {
    "duration": 16,
    "start_time": "2024-04-11T14:11:05.435Z"
   },
   {
    "duration": 2548,
    "start_time": "2024-04-11T15:59:43.722Z"
   },
   {
    "duration": 3130,
    "start_time": "2024-04-11T15:59:46.482Z"
   },
   {
    "duration": 3,
    "start_time": "2024-04-11T16:00:06.065Z"
   },
   {
    "duration": 22,
    "start_time": "2024-04-11T16:00:06.070Z"
   },
   {
    "duration": 2343,
    "start_time": "2024-04-11T16:00:06.094Z"
   },
   {
    "duration": 28,
    "start_time": "2024-04-11T16:00:08.439Z"
   },
   {
    "duration": 50,
    "start_time": "2024-04-11T16:00:08.469Z"
   },
   {
    "duration": 4,
    "start_time": "2024-04-11T16:00:08.521Z"
   },
   {
    "duration": 24,
    "start_time": "2024-04-11T16:00:08.527Z"
   },
   {
    "duration": 18,
    "start_time": "2024-04-11T16:00:08.552Z"
   },
   {
    "duration": 18,
    "start_time": "2024-04-11T16:00:08.571Z"
   },
   {
    "duration": 39,
    "start_time": "2024-04-11T16:00:08.591Z"
   },
   {
    "duration": 45,
    "start_time": "2024-04-11T16:00:08.633Z"
   },
   {
    "duration": 660,
    "start_time": "2024-04-11T16:00:08.680Z"
   },
   {
    "duration": 1199,
    "start_time": "2024-04-11T16:00:09.342Z"
   },
   {
    "duration": 433,
    "start_time": "2024-04-11T16:00:10.543Z"
   },
   {
    "duration": 144,
    "start_time": "2024-04-11T16:00:10.977Z"
   },
   {
    "duration": 134,
    "start_time": "2024-04-11T16:00:11.128Z"
   },
   {
    "duration": 157,
    "start_time": "2024-04-11T16:00:11.263Z"
   },
   {
    "duration": 157,
    "start_time": "2024-04-11T16:00:11.422Z"
   },
   {
    "duration": 11049,
    "start_time": "2024-04-11T16:00:11.581Z"
   },
   {
    "duration": 614,
    "start_time": "2024-04-11T16:00:22.632Z"
   },
   {
    "duration": 5,
    "start_time": "2024-04-11T16:00:23.248Z"
   },
   {
    "duration": 13,
    "start_time": "2024-04-11T16:00:23.255Z"
   },
   {
    "duration": 14,
    "start_time": "2024-04-11T16:00:23.269Z"
   },
   {
    "duration": 14,
    "start_time": "2024-04-11T16:00:23.285Z"
   },
   {
    "duration": 35,
    "start_time": "2024-04-11T16:00:23.301Z"
   },
   {
    "duration": 17,
    "start_time": "2024-04-11T16:00:23.338Z"
   },
   {
    "duration": 6,
    "start_time": "2024-04-11T16:00:23.357Z"
   },
   {
    "duration": 34,
    "start_time": "2024-04-11T16:00:23.365Z"
   },
   {
    "duration": 14,
    "start_time": "2024-04-11T16:00:23.405Z"
   },
   {
    "duration": 41,
    "start_time": "2024-04-11T16:00:23.421Z"
   },
   {
    "duration": 202,
    "start_time": "2024-04-11T16:00:23.464Z"
   },
   {
    "duration": 238,
    "start_time": "2024-04-11T16:00:23.668Z"
   },
   {
    "duration": 4,
    "start_time": "2024-04-11T16:00:23.907Z"
   },
   {
    "duration": 16,
    "start_time": "2024-04-11T16:00:23.913Z"
   },
   {
    "duration": 22,
    "start_time": "2024-04-11T16:00:23.930Z"
   },
   {
    "duration": 10,
    "start_time": "2024-04-11T16:00:23.953Z"
   },
   {
    "duration": 14,
    "start_time": "2024-04-11T16:00:23.965Z"
   },
   {
    "duration": 23,
    "start_time": "2024-04-11T16:00:24.030Z"
   },
   {
    "duration": 19186,
    "start_time": "2024-04-11T16:00:24.055Z"
   },
   {
    "duration": 244,
    "start_time": "2024-04-11T16:00:43.242Z"
   },
   {
    "duration": 5,
    "start_time": "2024-04-11T16:00:43.488Z"
   },
   {
    "duration": 444,
    "start_time": "2024-04-11T16:00:43.495Z"
   },
   {
    "duration": 42694,
    "start_time": "2024-04-11T16:00:43.941Z"
   },
   {
    "duration": 3,
    "start_time": "2024-04-11T16:01:26.637Z"
   },
   {
    "duration": 404700,
    "start_time": "2024-04-11T16:01:26.642Z"
   },
   {
    "duration": 72394,
    "start_time": "2024-04-11T16:08:11.345Z"
   },
   {
    "duration": 235,
    "start_time": "2024-04-11T16:09:23.741Z"
   },
   {
    "duration": 4,
    "start_time": "2024-04-11T16:09:23.978Z"
   },
   {
    "duration": 145251,
    "start_time": "2024-04-11T16:09:23.984Z"
   },
   {
    "duration": 33620,
    "start_time": "2024-04-11T16:11:49.237Z"
   },
   {
    "duration": 600,
    "start_time": "2024-04-11T16:12:22.930Z"
   },
   {
    "duration": 21,
    "start_time": "2024-04-11T16:12:23.533Z"
   },
   {
    "duration": 3,
    "start_time": "2024-04-12T14:58:44.464Z"
   },
   {
    "duration": 6,
    "start_time": "2024-04-12T14:58:44.469Z"
   },
   {
    "duration": 3685,
    "start_time": "2024-04-12T14:58:44.476Z"
   },
   {
    "duration": 80,
    "start_time": "2024-04-12T14:58:48.163Z"
   },
   {
    "duration": 38,
    "start_time": "2024-04-12T14:58:48.244Z"
   },
   {
    "duration": 4,
    "start_time": "2024-04-12T14:58:48.284Z"
   },
   {
    "duration": 10,
    "start_time": "2024-04-12T14:58:48.290Z"
   },
   {
    "duration": 8,
    "start_time": "2024-04-12T14:58:48.302Z"
   },
   {
    "duration": 5,
    "start_time": "2024-04-12T14:58:48.312Z"
   },
   {
    "duration": 7,
    "start_time": "2024-04-12T14:58:48.319Z"
   },
   {
    "duration": 56,
    "start_time": "2024-04-12T14:58:48.327Z"
   },
   {
    "duration": 484,
    "start_time": "2024-04-12T14:58:48.384Z"
   },
   {
    "duration": 1115,
    "start_time": "2024-04-12T14:58:48.869Z"
   },
   {
    "duration": 261,
    "start_time": "2024-04-12T14:58:49.986Z"
   },
   {
    "duration": 138,
    "start_time": "2024-04-12T14:58:50.248Z"
   },
   {
    "duration": 141,
    "start_time": "2024-04-12T14:58:50.388Z"
   },
   {
    "duration": 143,
    "start_time": "2024-04-12T14:58:50.531Z"
   },
   {
    "duration": 134,
    "start_time": "2024-04-12T14:58:50.676Z"
   },
   {
    "duration": 116,
    "start_time": "2024-04-12T14:58:50.811Z"
   },
   {
    "duration": 463,
    "start_time": "2024-04-12T14:58:50.929Z"
   },
   {
    "duration": 3,
    "start_time": "2024-04-12T14:58:51.394Z"
   },
   {
    "duration": 28,
    "start_time": "2024-04-12T14:58:51.398Z"
   },
   {
    "duration": 29,
    "start_time": "2024-04-12T14:58:51.427Z"
   },
   {
    "duration": 20,
    "start_time": "2024-04-12T14:58:51.457Z"
   },
   {
    "duration": 15,
    "start_time": "2024-04-12T14:58:51.478Z"
   },
   {
    "duration": 24,
    "start_time": "2024-04-12T14:58:51.495Z"
   },
   {
    "duration": 8,
    "start_time": "2024-04-12T14:58:51.521Z"
   },
   {
    "duration": 128,
    "start_time": "2024-04-12T14:58:51.532Z"
   },
   {
    "duration": 0,
    "start_time": "2024-04-12T14:58:51.661Z"
   },
   {
    "duration": 0,
    "start_time": "2024-04-12T14:58:51.662Z"
   },
   {
    "duration": 0,
    "start_time": "2024-04-12T14:58:51.663Z"
   },
   {
    "duration": 0,
    "start_time": "2024-04-12T14:58:51.664Z"
   },
   {
    "duration": 0,
    "start_time": "2024-04-12T14:58:51.665Z"
   },
   {
    "duration": 0,
    "start_time": "2024-04-12T14:58:51.674Z"
   },
   {
    "duration": 0,
    "start_time": "2024-04-12T14:58:51.675Z"
   },
   {
    "duration": 0,
    "start_time": "2024-04-12T14:58:51.676Z"
   },
   {
    "duration": 0,
    "start_time": "2024-04-12T14:58:51.677Z"
   },
   {
    "duration": 0,
    "start_time": "2024-04-12T14:58:51.678Z"
   },
   {
    "duration": 0,
    "start_time": "2024-04-12T14:58:51.679Z"
   },
   {
    "duration": 0,
    "start_time": "2024-04-12T14:58:51.680Z"
   },
   {
    "duration": 0,
    "start_time": "2024-04-12T14:58:51.681Z"
   },
   {
    "duration": 0,
    "start_time": "2024-04-12T14:58:51.682Z"
   },
   {
    "duration": 0,
    "start_time": "2024-04-12T14:58:51.683Z"
   },
   {
    "duration": 0,
    "start_time": "2024-04-12T14:58:51.684Z"
   },
   {
    "duration": 0,
    "start_time": "2024-04-12T14:58:51.685Z"
   },
   {
    "duration": 1,
    "start_time": "2024-04-12T14:58:51.685Z"
   },
   {
    "duration": 0,
    "start_time": "2024-04-12T14:58:51.686Z"
   },
   {
    "duration": 0,
    "start_time": "2024-04-12T14:58:51.687Z"
   },
   {
    "duration": 0,
    "start_time": "2024-04-12T14:58:51.688Z"
   },
   {
    "duration": 0,
    "start_time": "2024-04-12T14:58:51.689Z"
   },
   {
    "duration": 0,
    "start_time": "2024-04-12T14:58:51.690Z"
   },
   {
    "duration": 0,
    "start_time": "2024-04-12T14:58:51.691Z"
   },
   {
    "duration": 3014,
    "start_time": "2024-04-12T15:02:09.243Z"
   },
   {
    "duration": 6467,
    "start_time": "2024-04-12T15:02:12.259Z"
   },
   {
    "duration": 3543,
    "start_time": "2024-04-12T15:02:18.728Z"
   },
   {
    "duration": 28,
    "start_time": "2024-04-12T15:02:22.272Z"
   },
   {
    "duration": 43,
    "start_time": "2024-04-12T15:02:22.301Z"
   },
   {
    "duration": 4,
    "start_time": "2024-04-12T15:02:22.345Z"
   },
   {
    "duration": 43,
    "start_time": "2024-04-12T15:02:22.350Z"
   },
   {
    "duration": 21,
    "start_time": "2024-04-12T15:02:22.394Z"
   },
   {
    "duration": 24,
    "start_time": "2024-04-12T15:02:22.416Z"
   },
   {
    "duration": 12,
    "start_time": "2024-04-12T15:02:22.443Z"
   },
   {
    "duration": 35,
    "start_time": "2024-04-12T15:02:22.457Z"
   },
   {
    "duration": 580,
    "start_time": "2024-04-12T15:02:22.494Z"
   },
   {
    "duration": 1085,
    "start_time": "2024-04-12T15:02:23.076Z"
   },
   {
    "duration": 388,
    "start_time": "2024-04-12T15:02:24.163Z"
   },
   {
    "duration": 124,
    "start_time": "2024-04-12T15:02:24.553Z"
   },
   {
    "duration": 123,
    "start_time": "2024-04-12T15:02:24.679Z"
   },
   {
    "duration": 136,
    "start_time": "2024-04-12T15:02:24.804Z"
   },
   {
    "duration": 138,
    "start_time": "2024-04-12T15:02:24.942Z"
   },
   {
    "duration": 11601,
    "start_time": "2024-04-12T15:02:25.082Z"
   },
   {
    "duration": 475,
    "start_time": "2024-04-12T15:02:36.684Z"
   },
   {
    "duration": 3,
    "start_time": "2024-04-12T15:02:37.161Z"
   },
   {
    "duration": 8,
    "start_time": "2024-04-12T15:02:37.166Z"
   },
   {
    "duration": 19,
    "start_time": "2024-04-12T15:02:37.176Z"
   },
   {
    "duration": 12,
    "start_time": "2024-04-12T15:02:37.197Z"
   },
   {
    "duration": 14,
    "start_time": "2024-04-12T15:02:37.210Z"
   },
   {
    "duration": 20,
    "start_time": "2024-04-12T15:02:37.226Z"
   },
   {
    "duration": 5,
    "start_time": "2024-04-12T15:02:37.248Z"
   },
   {
    "duration": 14,
    "start_time": "2024-04-12T15:02:37.256Z"
   },
   {
    "duration": 9,
    "start_time": "2024-04-12T15:02:37.271Z"
   },
   {
    "duration": 20,
    "start_time": "2024-04-12T15:02:37.281Z"
   },
   {
    "duration": 145,
    "start_time": "2024-04-12T15:02:37.302Z"
   },
   {
    "duration": 206,
    "start_time": "2024-04-12T15:02:37.448Z"
   },
   {
    "duration": 3,
    "start_time": "2024-04-12T15:02:37.656Z"
   },
   {
    "duration": 7,
    "start_time": "2024-04-12T15:02:37.661Z"
   },
   {
    "duration": 21,
    "start_time": "2024-04-12T15:02:37.675Z"
   },
   {
    "duration": 9,
    "start_time": "2024-04-12T15:02:37.697Z"
   },
   {
    "duration": 12,
    "start_time": "2024-04-12T15:02:37.708Z"
   },
   {
    "duration": 17,
    "start_time": "2024-04-12T15:02:37.774Z"
   },
   {
    "duration": 15786,
    "start_time": "2024-04-12T15:02:37.793Z"
   },
   {
    "duration": 200,
    "start_time": "2024-04-12T15:02:53.580Z"
   },
   {
    "duration": 3,
    "start_time": "2024-04-12T15:02:53.782Z"
   },
   {
    "duration": 378,
    "start_time": "2024-04-12T15:02:53.786Z"
   },
   {
    "duration": 32419,
    "start_time": "2024-04-12T15:02:54.165Z"
   },
   {
    "duration": 3,
    "start_time": "2024-04-12T15:03:26.586Z"
   },
   {
    "duration": 290299,
    "start_time": "2024-04-12T15:03:26.591Z"
   },
   {
    "duration": 50490,
    "start_time": "2024-04-12T15:08:16.892Z"
   },
   {
    "duration": 202,
    "start_time": "2024-04-12T15:09:07.383Z"
   },
   {
    "duration": 2,
    "start_time": "2024-04-12T15:09:07.587Z"
   },
   {
    "duration": 106007,
    "start_time": "2024-04-12T15:09:07.591Z"
   },
   {
    "duration": 24992,
    "start_time": "2024-04-12T15:10:53.600Z"
   },
   {
    "duration": 407,
    "start_time": "2024-04-12T15:11:18.594Z"
   },
   {
    "duration": 15,
    "start_time": "2024-04-12T15:11:19.003Z"
   },
   {
    "duration": 94,
    "start_time": "2024-04-12T16:44:44.094Z"
   },
   {
    "duration": 119,
    "start_time": "2024-04-12T16:45:04.243Z"
   },
   {
    "duration": 94,
    "start_time": "2024-04-12T16:45:15.283Z"
   },
   {
    "duration": 93,
    "start_time": "2024-04-12T16:45:20.151Z"
   },
   {
    "duration": 3372,
    "start_time": "2024-04-12T17:21:09.906Z"
   },
   {
    "duration": 6331,
    "start_time": "2024-04-12T17:21:13.281Z"
   },
   {
    "duration": 2277,
    "start_time": "2024-04-12T17:21:19.613Z"
   },
   {
    "duration": 81,
    "start_time": "2024-04-12T17:21:21.892Z"
   },
   {
    "duration": 34,
    "start_time": "2024-04-12T17:21:21.975Z"
   },
   {
    "duration": 4,
    "start_time": "2024-04-12T17:21:22.011Z"
   },
   {
    "duration": 13,
    "start_time": "2024-04-12T17:21:22.016Z"
   },
   {
    "duration": 10,
    "start_time": "2024-04-12T17:21:22.030Z"
   },
   {
    "duration": 6,
    "start_time": "2024-04-12T17:21:22.042Z"
   },
   {
    "duration": 19,
    "start_time": "2024-04-12T17:21:22.051Z"
   },
   {
    "duration": 38,
    "start_time": "2024-04-12T17:21:22.071Z"
   },
   {
    "duration": 579,
    "start_time": "2024-04-12T17:21:22.110Z"
   },
   {
    "duration": 1082,
    "start_time": "2024-04-12T17:21:22.690Z"
   },
   {
    "duration": 373,
    "start_time": "2024-04-12T17:21:23.774Z"
   },
   {
    "duration": 146,
    "start_time": "2024-04-12T17:21:24.149Z"
   },
   {
    "duration": 134,
    "start_time": "2024-04-12T17:21:24.297Z"
   },
   {
    "duration": 135,
    "start_time": "2024-04-12T17:21:24.432Z"
   },
   {
    "duration": 133,
    "start_time": "2024-04-12T17:21:24.568Z"
   },
   {
    "duration": 9527,
    "start_time": "2024-04-12T17:21:24.708Z"
   },
   {
    "duration": 549,
    "start_time": "2024-04-12T17:21:34.237Z"
   },
   {
    "duration": 3,
    "start_time": "2024-04-12T17:21:34.788Z"
   },
   {
    "duration": 17,
    "start_time": "2024-04-12T17:21:34.793Z"
   },
   {
    "duration": 18,
    "start_time": "2024-04-12T17:21:34.812Z"
   },
   {
    "duration": 13,
    "start_time": "2024-04-12T17:21:34.832Z"
   },
   {
    "duration": 15,
    "start_time": "2024-04-12T17:21:34.846Z"
   },
   {
    "duration": 19,
    "start_time": "2024-04-12T17:21:34.862Z"
   },
   {
    "duration": 26,
    "start_time": "2024-04-12T17:21:34.882Z"
   },
   {
    "duration": 14,
    "start_time": "2024-04-12T17:21:34.912Z"
   },
   {
    "duration": 21,
    "start_time": "2024-04-12T17:21:34.928Z"
   },
   {
    "duration": 19,
    "start_time": "2024-04-12T17:21:34.950Z"
   },
   {
    "duration": 145,
    "start_time": "2024-04-12T17:21:34.970Z"
   },
   {
    "duration": 211,
    "start_time": "2024-04-12T17:21:35.116Z"
   },
   {
    "duration": 5,
    "start_time": "2024-04-12T17:21:35.329Z"
   },
   {
    "duration": 8,
    "start_time": "2024-04-12T17:21:35.336Z"
   },
   {
    "duration": 21,
    "start_time": "2024-04-12T17:21:35.345Z"
   },
   {
    "duration": 44,
    "start_time": "2024-04-12T17:21:35.368Z"
   },
   {
    "duration": 16,
    "start_time": "2024-04-12T17:21:35.413Z"
   },
   {
    "duration": 9,
    "start_time": "2024-04-12T17:21:35.430Z"
   },
   {
    "duration": 14584,
    "start_time": "2024-04-12T17:21:35.441Z"
   },
   {
    "duration": 245,
    "start_time": "2024-04-12T17:21:50.027Z"
   },
   {
    "duration": 4,
    "start_time": "2024-04-12T17:21:50.273Z"
   },
   {
    "duration": 374,
    "start_time": "2024-04-12T17:21:50.279Z"
   },
   {
    "duration": 33574,
    "start_time": "2024-04-12T17:21:50.654Z"
   },
   {
    "duration": 3,
    "start_time": "2024-04-12T17:22:24.229Z"
   },
   {
    "duration": 296478,
    "start_time": "2024-04-12T17:22:24.233Z"
   },
   {
    "duration": 52609,
    "start_time": "2024-04-12T17:27:20.713Z"
   },
   {
    "duration": 232,
    "start_time": "2024-04-12T17:28:13.323Z"
   },
   {
    "duration": 3,
    "start_time": "2024-04-12T17:28:13.556Z"
   },
   {
    "duration": 103270,
    "start_time": "2024-04-12T17:28:13.560Z"
   },
   {
    "duration": 23677,
    "start_time": "2024-04-12T17:29:56.832Z"
   },
   {
    "duration": 378,
    "start_time": "2024-04-12T17:30:20.511Z"
   },
   {
    "duration": 18,
    "start_time": "2024-04-12T17:30:20.891Z"
   },
   {
    "duration": 3640,
    "start_time": "2024-04-13T19:07:28.797Z"
   },
   {
    "duration": 6686,
    "start_time": "2024-04-13T19:07:32.440Z"
   },
   {
    "duration": 2334,
    "start_time": "2024-04-13T19:07:39.129Z"
   },
   {
    "duration": 79,
    "start_time": "2024-04-13T19:07:41.465Z"
   },
   {
    "duration": 39,
    "start_time": "2024-04-13T19:07:41.545Z"
   },
   {
    "duration": 5,
    "start_time": "2024-04-13T19:07:41.586Z"
   },
   {
    "duration": 11,
    "start_time": "2024-04-13T19:07:41.593Z"
   },
   {
    "duration": 15,
    "start_time": "2024-04-13T19:07:41.606Z"
   },
   {
    "duration": 6,
    "start_time": "2024-04-13T19:07:41.622Z"
   },
   {
    "duration": 8,
    "start_time": "2024-04-13T19:07:41.631Z"
   },
   {
    "duration": 40,
    "start_time": "2024-04-13T19:07:41.640Z"
   },
   {
    "duration": 658,
    "start_time": "2024-04-13T19:07:41.681Z"
   },
   {
    "duration": 1175,
    "start_time": "2024-04-13T19:07:42.341Z"
   },
   {
    "duration": 417,
    "start_time": "2024-04-13T19:07:43.519Z"
   },
   {
    "duration": 147,
    "start_time": "2024-04-13T19:07:43.938Z"
   },
   {
    "duration": 142,
    "start_time": "2024-04-13T19:07:44.087Z"
   },
   {
    "duration": 162,
    "start_time": "2024-04-13T19:07:44.230Z"
   },
   {
    "duration": 151,
    "start_time": "2024-04-13T19:07:44.394Z"
   },
   {
    "duration": 10382,
    "start_time": "2024-04-13T19:07:44.547Z"
   },
   {
    "duration": 597,
    "start_time": "2024-04-13T19:07:54.933Z"
   },
   {
    "duration": 4,
    "start_time": "2024-04-13T19:07:55.531Z"
   },
   {
    "duration": 3,
    "start_time": "2024-04-13T19:07:55.537Z"
   },
   {
    "duration": 6,
    "start_time": "2024-04-13T19:07:55.542Z"
   },
   {
    "duration": 7,
    "start_time": "2024-04-13T19:07:55.549Z"
   },
   {
    "duration": 18,
    "start_time": "2024-04-13T19:07:55.557Z"
   },
   {
    "duration": 7,
    "start_time": "2024-04-13T19:07:55.577Z"
   },
   {
    "duration": 3,
    "start_time": "2024-04-13T19:07:55.615Z"
   },
   {
    "duration": 14,
    "start_time": "2024-04-13T19:07:55.622Z"
   },
   {
    "duration": 16,
    "start_time": "2024-04-13T19:07:55.637Z"
   },
   {
    "duration": 28,
    "start_time": "2024-04-13T19:07:55.654Z"
   },
   {
    "duration": 183,
    "start_time": "2024-04-13T19:07:55.683Z"
   },
   {
    "duration": 249,
    "start_time": "2024-04-13T19:07:55.867Z"
   },
   {
    "duration": 4,
    "start_time": "2024-04-13T19:07:56.117Z"
   },
   {
    "duration": 6,
    "start_time": "2024-04-13T19:07:56.123Z"
   },
   {
    "duration": 16,
    "start_time": "2024-04-13T19:07:56.130Z"
   },
   {
    "duration": 18,
    "start_time": "2024-04-13T19:07:56.147Z"
   },
   {
    "duration": 61,
    "start_time": "2024-04-13T19:07:56.166Z"
   },
   {
    "duration": 11,
    "start_time": "2024-04-13T19:07:56.229Z"
   },
   {
    "duration": 17395,
    "start_time": "2024-04-13T19:07:56.242Z"
   },
   {
    "duration": 271,
    "start_time": "2024-04-13T19:08:13.638Z"
   },
   {
    "duration": 4,
    "start_time": "2024-04-13T19:08:13.914Z"
   },
   {
    "duration": 438,
    "start_time": "2024-04-13T19:08:13.919Z"
   },
   {
    "duration": 206,
    "start_time": "2024-04-13T19:08:14.359Z"
   },
   {
    "duration": 0,
    "start_time": "2024-04-13T19:08:14.566Z"
   },
   {
    "duration": 0,
    "start_time": "2024-04-13T19:08:14.568Z"
   },
   {
    "duration": 0,
    "start_time": "2024-04-13T19:08:14.569Z"
   },
   {
    "duration": 0,
    "start_time": "2024-04-13T19:08:14.570Z"
   },
   {
    "duration": 0,
    "start_time": "2024-04-13T19:08:14.571Z"
   },
   {
    "duration": 0,
    "start_time": "2024-04-13T19:08:14.574Z"
   },
   {
    "duration": 0,
    "start_time": "2024-04-13T19:08:14.575Z"
   },
   {
    "duration": 0,
    "start_time": "2024-04-13T19:08:14.576Z"
   },
   {
    "duration": 0,
    "start_time": "2024-04-13T19:08:14.577Z"
   },
   {
    "duration": 17427,
    "start_time": "2024-04-13T19:08:35.292Z"
   },
   {
    "duration": 16721,
    "start_time": "2024-04-13T19:08:58.112Z"
   },
   {
    "duration": 17434,
    "start_time": "2024-04-13T19:09:44.090Z"
   },
   {
    "duration": 6,
    "start_time": "2024-04-13T19:10:30.668Z"
   },
   {
    "duration": 16550,
    "start_time": "2024-04-13T19:10:47.783Z"
   },
   {
    "duration": 38,
    "start_time": "2024-04-13T19:13:32.695Z"
   },
   {
    "duration": 55,
    "start_time": "2024-04-13T19:13:44.076Z"
   },
   {
    "duration": 17958,
    "start_time": "2024-04-13T19:13:53.870Z"
   },
   {
    "duration": 17825,
    "start_time": "2024-04-13T19:14:21.298Z"
   },
   {
    "duration": 17159,
    "start_time": "2024-04-13T19:16:57.574Z"
   },
   {
    "duration": 3,
    "start_time": "2024-04-13T19:23:21.940Z"
   },
   {
    "duration": 17369,
    "start_time": "2024-04-13T19:23:25.358Z"
   },
   {
    "duration": 17267,
    "start_time": "2024-04-13T19:23:46.253Z"
   },
   {
    "duration": 17785,
    "start_time": "2024-04-13T19:24:53.138Z"
   },
   {
    "duration": 2591,
    "start_time": "2024-04-13T19:25:41.811Z"
   },
   {
    "duration": 3169,
    "start_time": "2024-04-13T19:25:44.404Z"
   },
   {
    "duration": 2245,
    "start_time": "2024-04-13T19:25:47.576Z"
   },
   {
    "duration": 29,
    "start_time": "2024-04-13T19:25:49.823Z"
   },
   {
    "duration": 38,
    "start_time": "2024-04-13T19:25:49.854Z"
   },
   {
    "duration": 5,
    "start_time": "2024-04-13T19:25:49.894Z"
   },
   {
    "duration": 26,
    "start_time": "2024-04-13T19:25:49.900Z"
   },
   {
    "duration": 25,
    "start_time": "2024-04-13T19:25:49.927Z"
   },
   {
    "duration": 16,
    "start_time": "2024-04-13T19:25:49.954Z"
   },
   {
    "duration": 10,
    "start_time": "2024-04-13T19:25:49.973Z"
   },
   {
    "duration": 74,
    "start_time": "2024-04-13T19:25:49.985Z"
   },
   {
    "duration": 622,
    "start_time": "2024-04-13T19:25:50.061Z"
   },
   {
    "duration": 1162,
    "start_time": "2024-04-13T19:25:50.684Z"
   },
   {
    "duration": 410,
    "start_time": "2024-04-13T19:25:51.847Z"
   },
   {
    "duration": 138,
    "start_time": "2024-04-13T19:25:52.259Z"
   },
   {
    "duration": 134,
    "start_time": "2024-04-13T19:25:52.399Z"
   },
   {
    "duration": 155,
    "start_time": "2024-04-13T19:25:52.535Z"
   },
   {
    "duration": 153,
    "start_time": "2024-04-13T19:25:52.692Z"
   },
   {
    "duration": 10071,
    "start_time": "2024-04-13T19:25:52.847Z"
   },
   {
    "duration": 596,
    "start_time": "2024-04-13T19:26:02.921Z"
   },
   {
    "duration": 4,
    "start_time": "2024-04-13T19:26:03.519Z"
   },
   {
    "duration": 5,
    "start_time": "2024-04-13T19:26:03.524Z"
   },
   {
    "duration": 11,
    "start_time": "2024-04-13T19:26:03.531Z"
   },
   {
    "duration": 6,
    "start_time": "2024-04-13T19:26:03.544Z"
   },
   {
    "duration": 12,
    "start_time": "2024-04-13T19:26:03.552Z"
   },
   {
    "duration": 7,
    "start_time": "2024-04-13T19:26:03.566Z"
   },
   {
    "duration": 6,
    "start_time": "2024-04-13T19:26:03.575Z"
   },
   {
    "duration": 40,
    "start_time": "2024-04-13T19:26:03.584Z"
   },
   {
    "duration": 10,
    "start_time": "2024-04-13T19:26:03.625Z"
   },
   {
    "duration": 13,
    "start_time": "2024-04-13T19:26:03.636Z"
   },
   {
    "duration": 177,
    "start_time": "2024-04-13T19:26:03.650Z"
   },
   {
    "duration": 242,
    "start_time": "2024-04-13T19:26:03.828Z"
   },
   {
    "duration": 3,
    "start_time": "2024-04-13T19:26:04.072Z"
   },
   {
    "duration": 8,
    "start_time": "2024-04-13T19:26:04.076Z"
   },
   {
    "duration": 31,
    "start_time": "2024-04-13T19:26:04.086Z"
   },
   {
    "duration": 10,
    "start_time": "2024-04-13T19:26:04.119Z"
   },
   {
    "duration": 16,
    "start_time": "2024-04-13T19:26:04.131Z"
   },
   {
    "duration": 74,
    "start_time": "2024-04-13T19:26:04.149Z"
   },
   {
    "duration": 17093,
    "start_time": "2024-04-13T19:26:04.225Z"
   },
   {
    "duration": 206,
    "start_time": "2024-04-13T19:26:21.320Z"
   },
   {
    "duration": 4,
    "start_time": "2024-04-13T19:26:21.528Z"
   },
   {
    "duration": 397,
    "start_time": "2024-04-13T19:26:21.533Z"
   },
   {
    "duration": 37215,
    "start_time": "2024-04-13T19:26:21.932Z"
   },
   {
    "duration": 3,
    "start_time": "2024-04-13T19:26:59.215Z"
   },
   {
    "duration": 331901,
    "start_time": "2024-04-13T19:26:59.219Z"
   },
   {
    "duration": 55815,
    "start_time": "2024-04-13T19:32:31.122Z"
   },
   {
    "duration": 284,
    "start_time": "2024-04-13T19:33:26.939Z"
   },
   {
    "duration": 4,
    "start_time": "2024-04-13T19:33:27.225Z"
   },
   {
    "duration": 116799,
    "start_time": "2024-04-13T19:33:27.231Z"
   },
   {
    "duration": 27191,
    "start_time": "2024-04-13T19:35:24.032Z"
   },
   {
    "duration": 424,
    "start_time": "2024-04-13T19:35:51.225Z"
   },
   {
    "duration": 14,
    "start_time": "2024-04-13T19:35:51.651Z"
   },
   {
    "duration": 2628,
    "start_time": "2024-04-13T19:36:43.809Z"
   },
   {
    "duration": 3119,
    "start_time": "2024-04-13T19:36:46.440Z"
   },
   {
    "duration": 2200,
    "start_time": "2024-04-13T19:36:49.561Z"
   },
   {
    "duration": 28,
    "start_time": "2024-04-13T19:36:51.763Z"
   },
   {
    "duration": 33,
    "start_time": "2024-04-13T19:36:51.793Z"
   },
   {
    "duration": 4,
    "start_time": "2024-04-13T19:36:51.828Z"
   },
   {
    "duration": 21,
    "start_time": "2024-04-13T19:36:51.833Z"
   },
   {
    "duration": 12,
    "start_time": "2024-04-13T19:36:51.855Z"
   },
   {
    "duration": 8,
    "start_time": "2024-04-13T19:36:51.869Z"
   },
   {
    "duration": 31,
    "start_time": "2024-04-13T19:36:51.880Z"
   },
   {
    "duration": 48,
    "start_time": "2024-04-13T19:36:51.912Z"
   },
   {
    "duration": 611,
    "start_time": "2024-04-13T19:36:51.962Z"
   },
   {
    "duration": 1127,
    "start_time": "2024-04-13T19:36:52.576Z"
   },
   {
    "duration": 402,
    "start_time": "2024-04-13T19:36:53.705Z"
   },
   {
    "duration": 135,
    "start_time": "2024-04-13T19:36:54.109Z"
   },
   {
    "duration": 150,
    "start_time": "2024-04-13T19:36:54.246Z"
   },
   {
    "duration": 155,
    "start_time": "2024-04-13T19:36:54.398Z"
   },
   {
    "duration": 164,
    "start_time": "2024-04-13T19:36:54.555Z"
   },
   {
    "duration": 9805,
    "start_time": "2024-04-13T19:36:54.720Z"
   },
   {
    "duration": 600,
    "start_time": "2024-04-13T19:37:04.527Z"
   },
   {
    "duration": 4,
    "start_time": "2024-04-13T19:37:05.129Z"
   },
   {
    "duration": 13,
    "start_time": "2024-04-13T19:37:05.135Z"
   },
   {
    "duration": 8,
    "start_time": "2024-04-13T19:37:05.150Z"
   },
   {
    "duration": 7,
    "start_time": "2024-04-13T19:37:05.160Z"
   },
   {
    "duration": 22,
    "start_time": "2024-04-13T19:37:05.168Z"
   },
   {
    "duration": 29,
    "start_time": "2024-04-13T19:37:05.192Z"
   },
   {
    "duration": 6,
    "start_time": "2024-04-13T19:37:05.222Z"
   },
   {
    "duration": 11,
    "start_time": "2024-04-13T19:37:05.231Z"
   },
   {
    "duration": 9,
    "start_time": "2024-04-13T19:37:05.244Z"
   },
   {
    "duration": 13,
    "start_time": "2024-04-13T19:37:05.254Z"
   },
   {
    "duration": 193,
    "start_time": "2024-04-13T19:37:05.269Z"
   },
   {
    "duration": 227,
    "start_time": "2024-04-13T19:37:05.464Z"
   },
   {
    "duration": 3,
    "start_time": "2024-04-13T19:37:05.693Z"
   },
   {
    "duration": 19,
    "start_time": "2024-04-13T19:37:05.698Z"
   },
   {
    "duration": 37,
    "start_time": "2024-04-13T19:37:05.719Z"
   },
   {
    "duration": 10,
    "start_time": "2024-04-13T19:37:05.758Z"
   },
   {
    "duration": 52,
    "start_time": "2024-04-13T19:37:05.770Z"
   },
   {
    "duration": 9,
    "start_time": "2024-04-13T19:37:05.824Z"
   },
   {
    "duration": 16389,
    "start_time": "2024-04-13T19:37:05.835Z"
   },
   {
    "duration": 221,
    "start_time": "2024-04-13T19:37:22.226Z"
   },
   {
    "duration": 4,
    "start_time": "2024-04-13T19:37:22.448Z"
   },
   {
    "duration": 390,
    "start_time": "2024-04-13T19:37:22.454Z"
   },
   {
    "duration": 36795,
    "start_time": "2024-04-13T19:37:22.845Z"
   },
   {
    "duration": 2,
    "start_time": "2024-04-13T19:37:59.715Z"
   },
   {
    "duration": 326797,
    "start_time": "2024-04-13T19:37:59.719Z"
   },
   {
    "duration": 59619,
    "start_time": "2024-04-13T19:43:26.518Z"
   },
   {
    "duration": 269,
    "start_time": "2024-04-13T19:44:26.139Z"
   },
   {
    "duration": 3,
    "start_time": "2024-04-13T19:44:26.414Z"
   },
   {
    "duration": 119912,
    "start_time": "2024-04-13T19:44:26.418Z"
   },
   {
    "duration": 27398,
    "start_time": "2024-04-13T19:46:26.332Z"
   },
   {
    "duration": 468,
    "start_time": "2024-04-13T19:46:53.732Z"
   },
   {
    "duration": 22,
    "start_time": "2024-04-13T19:46:54.202Z"
   },
   {
    "duration": 2487,
    "start_time": "2024-04-29T07:24:31.593Z"
   },
   {
    "duration": 3022,
    "start_time": "2024-04-29T07:24:34.083Z"
   },
   {
    "duration": 2271,
    "start_time": "2024-04-29T07:24:37.107Z"
   },
   {
    "duration": 79,
    "start_time": "2024-04-29T07:24:39.381Z"
   },
   {
    "duration": 37,
    "start_time": "2024-04-29T07:24:39.461Z"
   },
   {
    "duration": 5,
    "start_time": "2024-04-29T07:24:39.500Z"
   },
   {
    "duration": 13,
    "start_time": "2024-04-29T07:24:39.506Z"
   },
   {
    "duration": 10,
    "start_time": "2024-04-29T07:24:39.521Z"
   },
   {
    "duration": 4,
    "start_time": "2024-04-29T07:24:39.561Z"
   },
   {
    "duration": 12,
    "start_time": "2024-04-29T07:24:39.568Z"
   },
   {
    "duration": 31,
    "start_time": "2024-04-29T07:24:39.581Z"
   },
   {
    "duration": 684,
    "start_time": "2024-04-29T07:24:39.613Z"
   },
   {
    "duration": 1175,
    "start_time": "2024-04-29T07:24:40.298Z"
   },
   {
    "duration": 446,
    "start_time": "2024-04-29T07:24:41.475Z"
   },
   {
    "duration": 159,
    "start_time": "2024-04-29T07:24:41.922Z"
   },
   {
    "duration": 145,
    "start_time": "2024-04-29T07:24:42.082Z"
   },
   {
    "duration": 153,
    "start_time": "2024-04-29T07:24:42.229Z"
   },
   {
    "duration": 146,
    "start_time": "2024-04-29T07:24:42.384Z"
   },
   {
    "duration": 10134,
    "start_time": "2024-04-29T07:24:42.532Z"
   },
   {
    "duration": 522,
    "start_time": "2024-04-29T07:24:52.668Z"
   },
   {
    "duration": 4,
    "start_time": "2024-04-29T07:24:53.191Z"
   },
   {
    "duration": 17,
    "start_time": "2024-04-29T07:24:53.197Z"
   },
   {
    "duration": 7,
    "start_time": "2024-04-29T07:24:53.216Z"
   },
   {
    "duration": 25,
    "start_time": "2024-04-29T07:24:53.224Z"
   },
   {
    "duration": 37,
    "start_time": "2024-04-29T07:24:53.250Z"
   },
   {
    "duration": 12,
    "start_time": "2024-04-29T07:24:53.290Z"
   },
   {
    "duration": 14,
    "start_time": "2024-04-29T07:24:53.303Z"
   },
   {
    "duration": 16,
    "start_time": "2024-04-29T07:24:53.322Z"
   },
   {
    "duration": 19,
    "start_time": "2024-04-29T07:24:53.340Z"
   },
   {
    "duration": 28,
    "start_time": "2024-04-29T07:24:53.361Z"
   },
   {
    "duration": 174,
    "start_time": "2024-04-29T07:24:53.391Z"
   },
   {
    "duration": 227,
    "start_time": "2024-04-29T07:24:53.567Z"
   },
   {
    "duration": 5,
    "start_time": "2024-04-29T07:24:53.796Z"
   },
   {
    "duration": 18,
    "start_time": "2024-04-29T07:24:53.803Z"
   },
   {
    "duration": 38,
    "start_time": "2024-04-29T07:24:53.823Z"
   },
   {
    "duration": 11,
    "start_time": "2024-04-29T07:24:53.863Z"
   },
   {
    "duration": 17,
    "start_time": "2024-04-29T07:24:53.876Z"
   },
   {
    "duration": 72,
    "start_time": "2024-04-29T07:24:53.895Z"
   },
   {
    "duration": 17513,
    "start_time": "2024-04-29T07:24:53.969Z"
   },
   {
    "duration": 285,
    "start_time": "2024-04-29T07:25:11.483Z"
   },
   {
    "duration": 5,
    "start_time": "2024-04-29T07:25:11.770Z"
   },
   {
    "duration": 429,
    "start_time": "2024-04-29T07:25:11.776Z"
   },
   {
    "duration": 45173,
    "start_time": "2024-04-29T07:25:12.206Z"
   },
   {
    "duration": 3,
    "start_time": "2024-04-29T07:25:57.462Z"
   },
   {
    "duration": 403994,
    "start_time": "2024-04-29T07:25:57.467Z"
   },
   {
    "duration": 59107,
    "start_time": "2024-04-29T07:32:41.463Z"
   },
   {
    "duration": 246,
    "start_time": "2024-04-29T07:33:40.572Z"
   },
   {
    "duration": 4,
    "start_time": "2024-04-29T07:33:40.819Z"
   },
   {
    "duration": 121449,
    "start_time": "2024-04-29T07:33:40.824Z"
   },
   {
    "duration": 28301,
    "start_time": "2024-04-29T07:35:42.274Z"
   },
   {
    "duration": 401,
    "start_time": "2024-04-29T07:36:10.576Z"
   },
   {
    "duration": 16,
    "start_time": "2024-04-29T07:36:10.979Z"
   }
  ],
  "kernelspec": {
   "display_name": "Python 3 (ipykernel)",
   "language": "python",
   "name": "python3"
  },
  "language_info": {
   "codemirror_mode": {
    "name": "ipython",
    "version": 3
   },
   "file_extension": ".py",
   "mimetype": "text/x-python",
   "name": "python",
   "nbconvert_exporter": "python",
   "pygments_lexer": "ipython3",
   "version": "3.9.5"
  },
  "toc": {
   "base_numbering": 1,
   "nav_menu": {},
   "number_sections": true,
   "sideBar": true,
   "skip_h1_title": true,
   "title_cell": "Table of Contents",
   "title_sidebar": "Contents",
   "toc_cell": false,
   "toc_position": {},
   "toc_section_display": true,
   "toc_window_display": false
  },
  "varInspector": {
   "cols": {
    "lenName": 16,
    "lenType": 16,
    "lenVar": 40
   },
   "kernels_config": {
    "python": {
     "delete_cmd_postfix": "",
     "delete_cmd_prefix": "del ",
     "library": "var_list.py",
     "varRefreshCmd": "print(var_dic_list())"
    },
    "r": {
     "delete_cmd_postfix": ") ",
     "delete_cmd_prefix": "rm(",
     "library": "var_list.r",
     "varRefreshCmd": "cat(var_dic_list()) "
    }
   },
   "types_to_exclude": [
    "module",
    "function",
    "builtin_function_or_method",
    "instance",
    "_Feature"
   ],
   "window_display": false
  }
 },
 "nbformat": 4,
 "nbformat_minor": 5
}
