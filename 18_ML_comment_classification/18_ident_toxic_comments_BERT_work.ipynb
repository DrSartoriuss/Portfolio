{
 "cells": [
  {
   "cell_type": "markdown",
   "id": "418809a5-6f50-4054-b63f-0b6ee697fc92",
   "metadata": {
    "tags": []
   },
   "source": [
    "# Определение токсичности комментариев"
   ]
  },
  {
   "cell_type": "markdown",
   "id": "ac30020e-e8bf-4a58-9b07-45f05e421dc0",
   "metadata": {
    "tags": []
   },
   "source": [
    "## Введение\n",
    "\n",
    "Интернет-магазин «Викишоп» запускает пользовательский интерактивный сервис комментирования описаний товаров. Магазину нужен инструмент, который будет искать токсичные комментарии и отправлять их на модерацию. \n",
    "\n",
    "В нашем распоряжении набор данных с разметкой о токсичности правок. \n",
    "\n",
    "\n",
    "**Цель проекта:** обучить модель классифицировать комментарии на позитивные и негативные, со значением метрики качества *F1* не меньше *0.75.*  \n",
    "\n",
    "\n",
    "**Описание данных:**\n",
    "\n",
    " - Датасет: **`toxic_comments.csv`**. \n",
    " - Текст комментария: столбец **`text`**.\n",
    " - Целевой признак: столбец **`toxic`**.\n",
    " \n",
    " \n",
    " **План выполнения проекта:**\n",
    "\n",
    "1. Загрузить данные и подготовить для обучения, используя разные инструменты (TF-IDF, BERT).\n",
    "2. Обучить разные модели. \n",
    "3. Сделать выводы.\n"
   ]
  },
  {
   "cell_type": "markdown",
   "id": "32727692-ab36-4ff3-980a-2fba64ac267c",
   "metadata": {
    "tags": []
   },
   "source": [
    "## Загрузка и подготовка"
   ]
  },
  {
   "cell_type": "code",
   "execution_count": 1,
   "id": "58887080-c0f0-40eb-b65a-93cd2b635228",
   "metadata": {},
   "outputs": [],
   "source": [
    "# импортируем библиотеки\n",
    "import pandas as pd\n",
    "import numpy as np\n",
    "import matplotlib.pyplot as plt\n",
    "import torch\n",
    "import re\n",
    "import nltk\n",
    "import chardet  \n",
    "from transformers import DistilBertTokenizer, DistilBertModel\n",
    "from tqdm import tqdm\n",
    "from imblearn.pipeline import Pipeline \n",
    "from wordcloud import WordCloud, ImageColorGenerator\n",
    "\n",
    "from nltk.stem import WordNetLemmatizer \n",
    "from nltk.corpus import stopwords as nltk_stopwords\n",
    "from nltk.corpus import wordnet as nltk_wordnet\n",
    "\n",
    "from sklearn.feature_extraction.text import TfidfVectorizer \n",
    "from sklearn.linear_model import LogisticRegression\n",
    "from sklearn.ensemble import RandomForestClassifier\n",
    "from catboost import CatBoostClassifier\n",
    "from sklearn.dummy import DummyClassifier\n",
    "\n",
    "from sklearn.experimental import enable_halving_search_cv\n",
    "from sklearn.model_selection import HalvingRandomSearchCV\n",
    "from sklearn.model_selection import train_test_split\n",
    "from sklearn.metrics import f1_score\n",
    "\n",
    "# настраиваем отображение\n",
    "import warnings\n",
    "warnings.filterwarnings('ignore')\n",
    "\n",
    "# задаем переменные \n",
    "RAND_ST = 12345\n",
    "BERT_SIZE = 2000\n",
    "BATCH_SIZE = 100 \n",
    "#nltk.download('stopwords')"
   ]
  },
  {
   "cell_type": "markdown",
   "id": "e5b7d17f-9c8d-494d-8729-4203d90cab6e",
   "metadata": {},
   "source": [
    "- Перед загрузкой файла, с помощью библиотеки chardet проверим в нем кодировку текста."
   ]
  },
  {
   "cell_type": "code",
   "execution_count": 2,
   "id": "1f1a11dc-3d01-4a40-8754-e1cf1af520b9",
   "metadata": {},
   "outputs": [
    {
     "name": "stdout",
     "output_type": "stream",
     "text": [
      "<_io.TextIOWrapper name='/Volumes/Datasets/datasets/toxic_comments.csv' mode='r' encoding='UTF-8'>\n"
     ]
    }
   ],
   "source": [
    "# выясняем кодировку текста \n",
    "with open('/Volumes/Datasets/datasets/toxic_comments.csv', \"r\") as f:\n",
    "    print(f)"
   ]
  },
  {
   "cell_type": "markdown",
   "id": "0949ba71-9370-48c6-b40a-19c3e2de6a58",
   "metadata": {},
   "source": [
    "- Кодировка в Юникоде. Можно выгружать файл, не прибегая к декодированию. "
   ]
  },
  {
   "cell_type": "code",
   "execution_count": 3,
   "id": "2ebe2c8a-1f81-46f1-a946-29c26e85546d",
   "metadata": {},
   "outputs": [],
   "source": [
    "# загружаем датаcет \n",
    "\n",
    "# сохраним датасет в переменную для обучения методом TF-IDF\n",
    "df = pd.read_csv('/Volumes/Datasets/datasets/toxic_comments.csv', index_col=[0])\n",
    "\n",
    "# сохраним датасет в переменную для обучения методом BERT\n",
    "df_bert = pd.read_csv('/Volumes/Datasets/datasets/toxic_comments.csv', index_col=[0])"
   ]
  },
  {
   "cell_type": "code",
   "execution_count": 4,
   "id": "3c692081-dc38-44ff-9433-9bfcc7f0c6cd",
   "metadata": {},
   "outputs": [
    {
     "name": "stdout",
     "output_type": "stream",
     "text": [
      "<class 'pandas.core.frame.DataFrame'>\n",
      "Int64Index: 159292 entries, 0 to 159450\n",
      "Data columns (total 2 columns):\n",
      " #   Column  Non-Null Count   Dtype \n",
      "---  ------  --------------   ----- \n",
      " 0   text    159292 non-null  object\n",
      " 1   toxic   159292 non-null  int64 \n",
      "dtypes: int64(1), object(1)\n",
      "memory usage: 3.6+ MB\n"
     ]
    },
    {
     "data": {
      "text/html": [
       "<div>\n",
       "<style scoped>\n",
       "    .dataframe tbody tr th:only-of-type {\n",
       "        vertical-align: middle;\n",
       "    }\n",
       "\n",
       "    .dataframe tbody tr th {\n",
       "        vertical-align: top;\n",
       "    }\n",
       "\n",
       "    .dataframe thead th {\n",
       "        text-align: right;\n",
       "    }\n",
       "</style>\n",
       "<table border=\"1\" class=\"dataframe\">\n",
       "  <thead>\n",
       "    <tr style=\"text-align: right;\">\n",
       "      <th></th>\n",
       "      <th>text</th>\n",
       "      <th>toxic</th>\n",
       "    </tr>\n",
       "  </thead>\n",
       "  <tbody>\n",
       "    <tr>\n",
       "      <th>16178</th>\n",
       "      <td>Reverting... \\n\\nYou might find it useful to p...</td>\n",
       "      <td>0</td>\n",
       "    </tr>\n",
       "    <tr>\n",
       "      <th>92669</th>\n",
       "      <td>Diagrams for knitting \\n\\nRe your request: I c...</td>\n",
       "      <td>0</td>\n",
       "    </tr>\n",
       "    <tr>\n",
       "      <th>82750</th>\n",
       "      <td>Delicious carbuncle, please read my statementi...</td>\n",
       "      <td>0</td>\n",
       "    </tr>\n",
       "    <tr>\n",
       "      <th>81545</th>\n",
       "      <td>, 25 March 2013 (UTC)\\n\\nThat's some strange i...</td>\n",
       "      <td>0</td>\n",
       "    </tr>\n",
       "    <tr>\n",
       "      <th>124345</th>\n",
       "      <td>Homey is, I am quite confident, far more aware...</td>\n",
       "      <td>0</td>\n",
       "    </tr>\n",
       "    <tr>\n",
       "      <th>125800</th>\n",
       "      <td>\"== Redirect for common spelling error==\\nAdde...</td>\n",
       "      <td>0</td>\n",
       "    </tr>\n",
       "    <tr>\n",
       "      <th>131299</th>\n",
       "      <td>\"\\n\\n Game Guide \\n\\nThis is really starting t...</td>\n",
       "      <td>0</td>\n",
       "    </tr>\n",
       "    <tr>\n",
       "      <th>8609</th>\n",
       "      <td>I dont care about kurds actually (i am neutral...</td>\n",
       "      <td>1</td>\n",
       "    </tr>\n",
       "    <tr>\n",
       "      <th>93377</th>\n",
       "      <td>Just remove the signature and replace it with ...</td>\n",
       "      <td>0</td>\n",
       "    </tr>\n",
       "    <tr>\n",
       "      <th>90362</th>\n",
       "      <td>\"\\n\\n Administrator \\n\\nHey Jimbo can you make...</td>\n",
       "      <td>0</td>\n",
       "    </tr>\n",
       "  </tbody>\n",
       "</table>\n",
       "</div>"
      ],
      "text/plain": [
       "                                                     text  toxic\n",
       "16178   Reverting... \\n\\nYou might find it useful to p...      0\n",
       "92669   Diagrams for knitting \\n\\nRe your request: I c...      0\n",
       "82750   Delicious carbuncle, please read my statementi...      0\n",
       "81545   , 25 March 2013 (UTC)\\n\\nThat's some strange i...      0\n",
       "124345  Homey is, I am quite confident, far more aware...      0\n",
       "125800  \"== Redirect for common spelling error==\\nAdde...      0\n",
       "131299  \"\\n\\n Game Guide \\n\\nThis is really starting t...      0\n",
       "8609    I dont care about kurds actually (i am neutral...      1\n",
       "93377   Just remove the signature and replace it with ...      0\n",
       "90362   \"\\n\\n Administrator \\n\\nHey Jimbo can you make...      0"
      ]
     },
     "execution_count": 4,
     "metadata": {},
     "output_type": "execute_result"
    }
   ],
   "source": [
    "# изучаем данные\n",
    "df.info()\n",
    "df.sample(10)"
   ]
  },
  {
   "cell_type": "markdown",
   "id": "21c1e4e0-0170-4580-88c8-cdffef6e44b1",
   "metadata": {},
   "source": [
    "- Данные без пропусков. Язык комментариев - английский. Проверим баланс классов целевой переменной. "
   ]
  },
  {
   "cell_type": "code",
   "execution_count": 5,
   "id": "29e8677f-fd81-40b4-b751-1532a1d5456b",
   "metadata": {},
   "outputs": [
    {
     "data": {
      "text/plain": [
       "0    0.898388\n",
       "1    0.101612\n",
       "Name: toxic, dtype: float64"
      ]
     },
     "execution_count": 5,
     "metadata": {},
     "output_type": "execute_result"
    }
   ],
   "source": [
    "# выводим уникальные значения целевого столбца\n",
    "df.toxic.value_counts(normalize=True)"
   ]
  },
  {
   "cell_type": "markdown",
   "id": "ef0409f9-6d0d-4be6-add2-4b961fed91b7",
   "metadata": {},
   "source": [
    "- Налицо явный дисбаланс в пользу нетоксичных комментариев. Учтем это при обучении моделей."
   ]
  },
  {
   "cell_type": "markdown",
   "id": "0abc8a8c-1349-4631-b12d-acd8a8c5eec8",
   "metadata": {},
   "source": [
    "### Подготовка данных с TF-IDF"
   ]
  },
  {
   "cell_type": "markdown",
   "id": "d49991bf-f662-42c3-80d1-5aaf78f0735d",
   "metadata": {},
   "source": [
    "- Очистим и лемматизируем текст."
   ]
  },
  {
   "cell_type": "code",
   "execution_count": 6,
   "id": "ab98d3c9-4b10-44c6-87fa-5287476eb64a",
   "metadata": {},
   "outputs": [
    {
     "name": "stdout",
     "output_type": "stream",
     "text": [
      "CPU times: user 9.97 s, sys: 117 ms, total: 10.1 s\n",
      "Wall time: 10.1 s\n"
     ]
    }
   ],
   "source": [
    "%%time\n",
    "# cоздаем класс для лемматизации\n",
    "lemmatizer = WordNetLemmatizer()\n",
    "\n",
    "# создаем функцию лемматизации и очистки текста\n",
    "def lemmatize_text(text):    \n",
    "    text = text.lower()\n",
    "    cleared_text = re.sub(r'[^a-zA-Z]', ' ', text) \n",
    "    lemm_text = \"\".join(lemmatizer.lemmatize(cleared_text))                     \n",
    "    \n",
    "    return \" \".join(lemm_text.split())\n",
    "        \n",
    "# запускаем функцию, создавая новый столбец с очищенным текстом\n",
    "df['lemm_text'] = df['text'].apply(lemmatize_text)\n",
    "\n",
    "# удаляем лищний столбец\n",
    "df = df.drop(['text'], axis=1)\n",
    "\n",
    "# удаляем лишнюю переменную \n",
    "del lemmatizer"
   ]
  },
  {
   "cell_type": "markdown",
   "id": "78efd8ed-d8ff-46b4-af49-231a65623c23",
   "metadata": {},
   "source": [
    "- Проверим наличие дубликатов и удалим их."
   ]
  },
  {
   "cell_type": "code",
   "execution_count": 7,
   "id": "8516040e-e4e4-477c-9c8d-6a30dbdd4275",
   "metadata": {},
   "outputs": [
    {
     "data": {
      "text/plain": [
       "1294"
      ]
     },
     "execution_count": 7,
     "metadata": {},
     "output_type": "execute_result"
    }
   ],
   "source": [
    "# выводим количество дубликатов\n",
    "df.duplicated().sum()"
   ]
  },
  {
   "cell_type": "code",
   "execution_count": 8,
   "id": "ebf9b205-973a-43e8-bbb2-21d79c9c9dcb",
   "metadata": {},
   "outputs": [],
   "source": [
    "# удаляем дубликаты\n",
    "df.drop_duplicates(inplace=True, ignore_index=True)"
   ]
  },
  {
   "cell_type": "code",
   "execution_count": 9,
   "id": "fe22843d-583c-46f5-b58c-cbccf1864286",
   "metadata": {},
   "outputs": [
    {
     "name": "stdout",
     "output_type": "stream",
     "text": [
      "<class 'pandas.core.frame.DataFrame'>\n",
      "RangeIndex: 157998 entries, 0 to 157997\n",
      "Data columns (total 2 columns):\n",
      " #   Column     Non-Null Count   Dtype \n",
      "---  ------     --------------   ----- \n",
      " 0   toxic      157998 non-null  int64 \n",
      " 1   lemm_text  157998 non-null  object\n",
      "dtypes: int64(1), object(1)\n",
      "memory usage: 2.4+ MB\n"
     ]
    },
    {
     "data": {
      "text/html": [
       "<div>\n",
       "<style scoped>\n",
       "    .dataframe tbody tr th:only-of-type {\n",
       "        vertical-align: middle;\n",
       "    }\n",
       "\n",
       "    .dataframe tbody tr th {\n",
       "        vertical-align: top;\n",
       "    }\n",
       "\n",
       "    .dataframe thead th {\n",
       "        text-align: right;\n",
       "    }\n",
       "</style>\n",
       "<table border=\"1\" class=\"dataframe\">\n",
       "  <thead>\n",
       "    <tr style=\"text-align: right;\">\n",
       "      <th></th>\n",
       "      <th>toxic</th>\n",
       "      <th>lemm_text</th>\n",
       "    </tr>\n",
       "  </thead>\n",
       "  <tbody>\n",
       "    <tr>\n",
       "      <th>67007</th>\n",
       "      <td>0</td>\n",
       "      <td>probably they weren t watching wwe at all all ...</td>\n",
       "    </tr>\n",
       "    <tr>\n",
       "      <th>83816</th>\n",
       "      <td>0</td>\n",
       "      <td>the subject of the email you sent was please c...</td>\n",
       "    </tr>\n",
       "    <tr>\n",
       "      <th>133499</th>\n",
       "      <td>0</td>\n",
       "      <td>redirect talk napier shootings</td>\n",
       "    </tr>\n",
       "    <tr>\n",
       "      <th>110773</th>\n",
       "      <td>0</td>\n",
       "      <td>urgent complain wikipedia answer given by you ...</td>\n",
       "    </tr>\n",
       "    <tr>\n",
       "      <th>156766</th>\n",
       "      <td>0</td>\n",
       "      <td>vandalism i am sorry</td>\n",
       "    </tr>\n",
       "    <tr>\n",
       "      <th>70237</th>\n",
       "      <td>0</td>\n",
       "      <td>blocked tagged cheers xman</td>\n",
       "    </tr>\n",
       "    <tr>\n",
       "      <th>141717</th>\n",
       "      <td>0</td>\n",
       "      <td>no done i removed this for a moment on more ca...</td>\n",
       "    </tr>\n",
       "    <tr>\n",
       "      <th>120432</th>\n",
       "      <td>1</td>\n",
       "      <td>it s not that you didn t manage the proper pro...</td>\n",
       "    </tr>\n",
       "    <tr>\n",
       "      <th>57898</th>\n",
       "      <td>0</td>\n",
       "      <td>okay i ll delete the mini game objectives and ...</td>\n",
       "    </tr>\n",
       "    <tr>\n",
       "      <th>26587</th>\n",
       "      <td>0</td>\n",
       "      <td>yeah there might be a chance but unless you pr...</td>\n",
       "    </tr>\n",
       "  </tbody>\n",
       "</table>\n",
       "</div>"
      ],
      "text/plain": [
       "        toxic                                          lemm_text\n",
       "67007       0  probably they weren t watching wwe at all all ...\n",
       "83816       0  the subject of the email you sent was please c...\n",
       "133499      0                     redirect talk napier shootings\n",
       "110773      0  urgent complain wikipedia answer given by you ...\n",
       "156766      0                               vandalism i am sorry\n",
       "70237       0                         blocked tagged cheers xman\n",
       "141717      0  no done i removed this for a moment on more ca...\n",
       "120432      1  it s not that you didn t manage the proper pro...\n",
       "57898       0  okay i ll delete the mini game objectives and ...\n",
       "26587       0  yeah there might be a chance but unless you pr..."
      ]
     },
     "execution_count": 9,
     "metadata": {},
     "output_type": "execute_result"
    }
   ],
   "source": [
    "# проверяем результат преобразований \n",
    "df.info()\n",
    "df.sample(10)"
   ]
  },
  {
   "cell_type": "markdown",
   "id": "1a17a9da-87bb-454b-b623-7258dd46ae7b",
   "metadata": {},
   "source": [
    "#### Облако слов"
   ]
  },
  {
   "cell_type": "markdown",
   "id": "e7fa89f8-a1c2-4bbc-9fd7-aba830ac8a2d",
   "metadata": {},
   "source": [
    "- Воспользуемся библиотекой wordcloud и построим облако слов, чтобы получить представление о наиболее часто встречающиеся в комментариях словах. "
   ]
  },
  {
   "cell_type": "code",
   "execution_count": 10,
   "id": "1dbc1940-9ec3-4107-88e6-f9dd889c8168",
   "metadata": {},
   "outputs": [],
   "source": [
    "# выбираем вид комментария \n",
    "normal_words = df[df.toxic==0]\n",
    "toxic_words = df[df.toxic==1]"
   ]
  },
  {
   "cell_type": "code",
   "execution_count": 11,
   "id": "d60d9501-c503-4274-800f-e627d1b24c5d",
   "metadata": {},
   "outputs": [],
   "source": [
    "# формируем списки всех, нетоксичных и токсичных комментариев\n",
    "all_words = \" \".join(review for review in df.lemm_text)\n",
    "normal_words = \" \".join(review for review in normal_words.lemm_text)\n",
    "toxic_words = \" \".join(review for review in toxic_words.lemm_text)"
   ]
  },
  {
   "cell_type": "code",
   "execution_count": 12,
   "id": "1b3ca8e5-77aa-46dc-b730-88f6603c54f7",
   "metadata": {},
   "outputs": [],
   "source": [
    "# создаем объекты для отображения на графиках\n",
    "wordcloud_all = WordCloud(max_font_size=50, max_words=100, background_color=\"black\").generate(all_words)\n",
    "wordcloud_normal = WordCloud(max_font_size=50, max_words=100, background_color=\"black\").generate(normal_words)\n",
    "wordcloud_toxic = WordCloud(max_font_size=50, max_words=100, background_color=\"black\").generate(toxic_words)"
   ]
  },
  {
   "cell_type": "code",
   "execution_count": 13,
   "id": "9f9dcbf4-d309-4ee0-8221-de8f0c9cec15",
   "metadata": {},
   "outputs": [
    {
     "data": {
      "image/png": "[encoded data removed]",
      "text/plain": [
       "<Figure size 432x288 with 1 Axes>"
      ]
     },
     "metadata": {
      "needs_background": "light"
     },
     "output_type": "display_data"
    }
   ],
   "source": [
    "# выводим облако всех комментариев\n",
    "plt.title('Все комментарии')\n",
    "plt.imshow(wordcloud_all, interpolation='bilinear');"
   ]
  },
  {
   "cell_type": "code",
   "execution_count": 14,
   "id": "6be824af-48a9-4a3c-9a04-257dae63f7b1",
   "metadata": {},
   "outputs": [
    {
     "data": {
      "image/png": "[encoded data removed]",
      "text/plain": [
       "<Figure size 432x288 with 1 Axes>"
      ]
     },
     "metadata": {
      "needs_background": "light"
     },
     "output_type": "display_data"
    }
   ],
   "source": [
    "# выводим облако нетоксичных комментариев\n",
    "plt.title('Обычные комментарии')\n",
    "plt.imshow(wordcloud_normal, interpolation='bilinear');"
   ]
  },
  {
   "cell_type": "code",
   "execution_count": 15,
   "id": "eb2b1e88-a5b7-4988-9d11-23fa43faabd0",
   "metadata": {},
   "outputs": [
    {
     "data": {
      "image/png": "[encoded data removed]",
      "text/plain": [
       "<Figure size 432x288 with 1 Axes>"
      ]
     },
     "metadata": {
      "needs_background": "light"
     },
     "output_type": "display_data"
    }
   ],
   "source": [
    "# выводим облако токсичных комментариев\n",
    "plt.title('Токсичные комментарии')\n",
    "plt.imshow(wordcloud_toxic, interpolation='bilinear');"
   ]
  },
  {
   "cell_type": "markdown",
   "id": "147dee12-c22e-4b28-ba47-64b2566d1b85",
   "metadata": {},
   "source": [
    "- Иллюстрации наиболее часто употребляемых слов лишний раз  наглядно демонстрируют что, чем токсичнее, злее  комментарий, тем больше  в нем слов негативной коннотации, и напротив - чем нейтральнее твит, тем более взвешенные и позитивные слова в нем используются. "
   ]
  },
  {
   "cell_type": "markdown",
   "id": "a6342ade-5d9e-40d1-b015-d0afc347e08c",
   "metadata": {},
   "source": [
    "- Разделим датасет на тестовую, валидационную и обучающую выборки и векторизуем признаки методом TF_IDF."
   ]
  },
  {
   "cell_type": "code",
   "execution_count": 16,
   "id": "55ad1e25-5c53-40ea-beae-e38e3d8d1504",
   "metadata": {},
   "outputs": [],
   "source": [
    "# разделяем данные на обучающую, валидационую и тестовую выборки (60/20/20)\n",
    "target = df['toxic']\n",
    "features = df['lemm_text']\n",
    "\n",
    "train_features, test_features, train_target, test_target = train_test_split(features, target, \n",
    "                                                                random_state=RAND_ST, test_size=0.4)\n",
    "\n",
    "valid_features, test_features, valid_target, test_target = train_test_split(test_features, test_target, \n",
    "                                                                     random_state=RAND_ST, test_size=0.5)\n"
   ]
  },
  {
   "cell_type": "code",
   "execution_count": 17,
   "id": "7dc9ba80-5bde-4159-8c03-2ae4491afee3",
   "metadata": {},
   "outputs": [
    {
     "name": "stdout",
     "output_type": "stream",
     "text": [
      "(94798, 125139)\n",
      "(31600, 125139)\n",
      "(31600, 125139)\n",
      "(94798,)\n",
      "(31600,)\n",
      "(31600,)\n"
     ]
    }
   ],
   "source": [
    "# проводим векторизацию признаков\n",
    "\n",
    "# создаем корпус слов\n",
    "corpus_train = train_features.values\n",
    "corpus_valid = valid_features.values\n",
    "corpus_test = test_features.values\n",
    "\n",
    "# создаем список стоп-слов\n",
    "stopwords = list(nltk_stopwords.words('english'))\n",
    "\n",
    "# создаем матрицу cо значениями TF_IDF без стоп-слов\n",
    "count_ft_idf = TfidfVectorizer(stop_words=stopwords)\n",
    "\n",
    "# получаем tf_idf  матрицу признаков \n",
    "train_features_tf_idf = count_ft_idf.fit_transform(corpus_train)\n",
    "valid_features_tf_idf = count_ft_idf.transform(corpus_valid)\n",
    "test_features_tf_idf = count_ft_idf.transform(corpus_test)\n",
    "\n",
    "# проверяем итоговый размер выборок\n",
    "print(train_features_tf_idf.shape)\n",
    "print(valid_features_tf_idf.shape) \n",
    "print(test_features_tf_idf.shape) \n",
    "print(train_target.shape) \n",
    "print(valid_target.shape) \n",
    "print(test_target.shape)"
   ]
  },
  {
   "cell_type": "markdown",
   "id": "c8899659-7483-4ccb-9c63-f2f9ac11d2c2",
   "metadata": {},
   "source": [
    "### Подготовка данных с BERT"
   ]
  },
  {
   "cell_type": "markdown",
   "id": "96a34fb6-31da-4b61-94ef-0f9dbaa6195e",
   "metadata": {},
   "source": [
    "- Для работы используем предобученную модель DistilBERT. Она быстрее и легче базовой версии, но со сравнимой результативностью.\n",
    "\n",
    "- Эмбеддинги с BERT могут создаваться долго. Чтобы немного ускорить процесс, возьмем выборку из 2000 сэмплов. "
   ]
  },
  {
   "cell_type": "code",
   "execution_count": 18,
   "id": "40524073-0a92-4d09-9118-486eb85588fd",
   "metadata": {},
   "outputs": [
    {
     "name": "stdout",
     "output_type": "stream",
     "text": [
      "<class 'pandas.core.frame.DataFrame'>\n",
      "RangeIndex: 2500 entries, 0 to 2499\n",
      "Data columns (total 2 columns):\n",
      " #   Column  Non-Null Count  Dtype \n",
      "---  ------  --------------  ----- \n",
      " 0   text    2500 non-null   object\n",
      " 1   toxic   2500 non-null   int64 \n",
      "dtypes: int64(1), object(1)\n",
      "memory usage: 39.2+ KB\n"
     ]
    },
    {
     "data": {
      "text/html": [
       "<div>\n",
       "<style scoped>\n",
       "    .dataframe tbody tr th:only-of-type {\n",
       "        vertical-align: middle;\n",
       "    }\n",
       "\n",
       "    .dataframe tbody tr th {\n",
       "        vertical-align: top;\n",
       "    }\n",
       "\n",
       "    .dataframe thead th {\n",
       "        text-align: right;\n",
       "    }\n",
       "</style>\n",
       "<table border=\"1\" class=\"dataframe\">\n",
       "  <thead>\n",
       "    <tr style=\"text-align: right;\">\n",
       "      <th></th>\n",
       "      <th>text</th>\n",
       "      <th>toxic</th>\n",
       "    </tr>\n",
       "  </thead>\n",
       "  <tbody>\n",
       "    <tr>\n",
       "      <th>0</th>\n",
       "      <td>Expert Categorizers  \\n\\nWhy is there no menti...</td>\n",
       "      <td>0</td>\n",
       "    </tr>\n",
       "    <tr>\n",
       "      <th>1</th>\n",
       "      <td>\"\\n\\n Noise \\n\\nfart*  talk. \"</td>\n",
       "      <td>1</td>\n",
       "    </tr>\n",
       "    <tr>\n",
       "      <th>2</th>\n",
       "      <td>An indefinite block is appropriate, even for a...</td>\n",
       "      <td>0</td>\n",
       "    </tr>\n",
       "    <tr>\n",
       "      <th>3</th>\n",
       "      <td>I don't understand why we have a screenshot of...</td>\n",
       "      <td>0</td>\n",
       "    </tr>\n",
       "    <tr>\n",
       "      <th>4</th>\n",
       "      <td>Hello! Some of the people, places or things yo...</td>\n",
       "      <td>0</td>\n",
       "    </tr>\n",
       "  </tbody>\n",
       "</table>\n",
       "</div>"
      ],
      "text/plain": [
       "                                                text  toxic\n",
       "0  Expert Categorizers  \\n\\nWhy is there no menti...      0\n",
       "1                     \"\\n\\n Noise \\n\\nfart*  talk. \"      1\n",
       "2  An indefinite block is appropriate, even for a...      0\n",
       "3  I don't understand why we have a screenshot of...      0\n",
       "4  Hello! Some of the people, places or things yo...      0"
      ]
     },
     "execution_count": 18,
     "metadata": {},
     "output_type": "execute_result"
    }
   ],
   "source": [
    "# создаем выборку для эмбеддинга \n",
    "df_bert = df_bert.sample(BERT_SIZE + 500, random_state = RAND_ST).reset_index(drop = True) \n",
    "# проверяем\n",
    "df_bert.info()\n",
    "df_bert.head()"
   ]
  },
  {
   "cell_type": "code",
   "execution_count": 19,
   "id": "7642619d-2b64-4923-8045-75e12abcabae",
   "metadata": {},
   "outputs": [
    {
     "name": "stderr",
     "output_type": "stream",
     "text": [
      "Some weights of the model checkpoint at distilbert-base-uncased were not used when initializing DistilBertModel: ['vocab_transform.bias', 'vocab_layer_norm.weight', 'vocab_projector.bias', 'vocab_projector.weight', 'vocab_transform.weight', 'vocab_layer_norm.bias']\n",
      "- This IS expected if you are initializing DistilBertModel from the checkpoint of a model trained on another task or with another architecture (e.g. initializing a BertForSequenceClassification model from a BertForPreTraining model).\n",
      "- This IS NOT expected if you are initializing DistilBertModel from the checkpoint of a model that you expect to be exactly identical (initializing a BertForSequenceClassification model from a BertForSequenceClassification model).\n"
     ]
    }
   ],
   "source": [
    "# загружаем токенизатор и модель DistilBERT\n",
    "tokenizer = DistilBertTokenizer.from_pretrained('distilbert-base-uncased')\n",
    "model = DistilBertModel.from_pretrained('distilbert-base-uncased')"
   ]
  },
  {
   "cell_type": "markdown",
   "id": "65bac649-f735-40b8-a21e-2b5898976013",
   "metadata": {},
   "source": [
    "- Токенизируем каждый твит."
   ]
  },
  {
   "cell_type": "code",
   "execution_count": 20,
   "id": "7a531f70-4035-47c4-9a8e-c18902df2c3b",
   "metadata": {},
   "outputs": [
    {
     "name": "stderr",
     "output_type": "stream",
     "text": [
      "Token indices sequence length is longer than the specified maximum sequence length for this model (526 > 512). Running this sequence through the model will result in indexing errors\n"
     ]
    },
    {
     "name": "stdout",
     "output_type": "stream",
     "text": [
      "1876\n"
     ]
    }
   ],
   "source": [
    "# токенизируем каждый твит\n",
    "tokenized = df_bert['text'].apply(\n",
    "    lambda x: tokenizer.encode(x, add_special_tokens=True))\n",
    "\n",
    "# ищем максимальную длину веторов \n",
    "max_len = 0\n",
    "for i in tokenized.values:\n",
    "    if len(i) > max_len:\n",
    "        max_len = len(i)\n",
    "\n",
    "print(max_len)  "
   ]
  },
  {
   "cell_type": "markdown",
   "id": "12aa123c-059e-45ce-aca7-f35d64fb8224",
   "metadata": {},
   "source": [
    "- BERT по умолчанию принимает токены с максимальной длиной 512. Оставим в выборке только векторы подходящей длины. "
   ]
  },
  {
   "cell_type": "code",
   "execution_count": 21,
   "id": "3b98388d-b595-4bc1-b1fd-ea375458e251",
   "metadata": {},
   "outputs": [],
   "source": [
    "# ограничиваем длину векторов\n",
    "tokens = []\n",
    "target = []\n",
    "for i in range(len(tokenized)):\n",
    "    if len(tokenized[i]) <= 512:\n",
    "        tokens.append(tokenized[i])\n",
    "        target.append(df_bert['toxic'][i])\n",
    "tokens = (pd.Series(tokens)).head(BERT_SIZE)\n",
    "target = (pd.Series(target)).head(BERT_SIZE)"
   ]
  },
  {
   "cell_type": "markdown",
   "id": "15bc2294-000d-49b6-9979-fc4eb62550c8",
   "metadata": {},
   "source": [
    "- Уравняем длину векторов методом padding  и создадим маску для важных токенов."
   ]
  },
  {
   "cell_type": "code",
   "execution_count": 22,
   "id": "bedadd99-3c08-436d-ae7f-bff370561ac0",
   "metadata": {},
   "outputs": [
    {
     "data": {
      "text/plain": [
       "(2000, 512)"
      ]
     },
     "metadata": {},
     "output_type": "display_data"
    },
    {
     "data": {
      "text/plain": [
       "(2000, 512)"
      ]
     },
     "metadata": {},
     "output_type": "display_data"
    }
   ],
   "source": [
    "# ищем максимальную длину веторов \n",
    "max_len = 0\n",
    "for i in tokens.values:\n",
    "    if len(i) > max_len:\n",
    "        max_len = len(i)\n",
    "\n",
    "# уравниваем длину викторов методом  padding       \n",
    "padded = np.array([i + [0]*(max_len-len(i)) for i in tokens.values])\n",
    "\n",
    "# создаем маску для важных токенов \n",
    "attention_mask = np.where(padded != 0, 1, 0)\n",
    "\n",
    "# проверяем\n",
    "display(padded.shape, attention_mask.shape)"
   ]
  },
  {
   "cell_type": "markdown",
   "id": "6a67a366-6e38-49d9-9f20-2c713e0990ba",
   "metadata": {},
   "source": [
    "- Создим эмбеддинги, испльзуя батчи размером 100."
   ]
  },
  {
   "cell_type": "code",
   "execution_count": 23,
   "id": "8550ea2c-4e54-4d2a-a9a4-6dc55c764947",
   "metadata": {
    "scrolled": true
   },
   "outputs": [
    {
     "name": "stderr",
     "output_type": "stream",
     "text": [
      "100%|███████████████████████████████████████████| 20/20 [29:58<00:00, 89.90s/it]\n"
     ]
    }
   ],
   "source": [
    "# создаем эмбеддинги \n",
    "batch_size = BATCH_SIZE\n",
    "embeddings = []\n",
    "for i in tqdm(range(padded.shape[0] // batch_size)):\n",
    "        batch = torch.LongTensor(padded[batch_size*i:batch_size*(i+1)]) \n",
    "        attention_mask_batch = torch.LongTensor(\n",
    "                         attention_mask[batch_size*i:batch_size*(i+1)])\n",
    "        \n",
    "        with torch.no_grad():\n",
    "            batch_embeddings = model(batch, attention_mask=attention_mask_batch)\n",
    "        \n",
    "        embeddings.append(batch_embeddings[0][:,0,:].numpy())\n",
    "\n",
    "        features_bert = np.concatenate(embeddings)  "
   ]
  },
  {
   "cell_type": "markdown",
   "id": "5eef2f2d-ff19-4cf1-aefd-f828852c9f3a",
   "metadata": {},
   "source": [
    "- Признаки получены.\n",
    "\n",
    "- Разделим датасет на обучающую и тестовую выборки, зададим цель и признаки."
   ]
  },
  {
   "cell_type": "code",
   "execution_count": 24,
   "id": "ed264bea-03b8-496b-b0c3-b36fc7a0dd46",
   "metadata": {},
   "outputs": [
    {
     "name": "stdout",
     "output_type": "stream",
     "text": [
      "(1200, 768)\n",
      "(400, 768)\n",
      "(400, 768)\n",
      "(1200,)\n",
      "(400,)\n",
      "(400,)\n"
     ]
    }
   ],
   "source": [
    "# формируем выборки, признаки и цель\n",
    "target_bert = target.head(len(features_bert))\n",
    "train_features_bert, test_features_bert, train_target_bert, test_target_bert = train_test_split(\n",
    "                                features_bert, target_bert, test_size=0.4, random_state=RAND_ST)\n",
    "\n",
    "valid_features_bert, test_features_bert, valid_target_bert, test_target_bert = train_test_split(\n",
    "                       test_features_bert, test_target_bert, test_size=0.5, random_state=RAND_ST)\n",
    "\n",
    "# проверяем\n",
    "print(train_features_bert.shape)\n",
    "print(valid_features_bert.shape)\n",
    "print(test_features_bert.shape) \n",
    "print(train_target_bert.shape) \n",
    "print(valid_target_bert.shape) \n",
    "print(test_target_bert.shape)"
   ]
  },
  {
   "cell_type": "markdown",
   "id": "0b24a3bd-dced-4474-98bf-4f4f6bd3f4af",
   "metadata": {},
   "source": [
    "### Вывод\n",
    "\n",
    "- Загрузили датасет, проверили кодировку. \n",
    "\n",
    "- Создали две группы данных для обработки разными методами.\n",
    "\n",
    "- В одной группе лемматизировали и очистили текст комментариев, удалили образовавшиеся дубликаты и векторизовали признаки методом TF_IDF.\n",
    "\n",
    "- Сформировали \"Облако слов\": посмотрели частотность употребляемых в твитах слов.\n",
    "\n",
    "- Активировали модель DistilBERT и с ее помощью обработали данные и создали вторую группу признаков.\n",
    "\n",
    "- Разбили обе группы данных на обучающую, валидационную и тестовую выборки из расчета 60/20/20, подготовив их к обучению моделей.\n",
    "\n",
    "- Подготовка данных с BERT занимает в десять раз больше времени, чем с TF-IDF."
   ]
  },
  {
   "cell_type": "markdown",
   "id": "018bbeb2-eb8c-4f6e-9ce0-aa0ffe01e12c",
   "metadata": {},
   "source": [
    "## Обучение "
   ]
  },
  {
   "cell_type": "markdown",
   "id": "d8de8b8e-896d-4985-a534-ca12e2157103",
   "metadata": {},
   "source": [
    "### Обучение с TF-IDF"
   ]
  },
  {
   "cell_type": "markdown",
   "id": "374c366f-050b-4f64-b816-6bf570d08791",
   "metadata": {},
   "source": [
    "- Проведем обучение моделей.\n",
    "\n",
    "- Для работы выберем три модели:\n",
    "   - LogisticRegression.\n",
    "   - RandomForestClassificier.\n",
    "   - CatBoostClassificier.\n",
    "\n",
    "\n",
    "- Подберем гиперпараметры и оценим работу моделей кросс-валидацией."
   ]
  },
  {
   "cell_type": "code",
   "execution_count": 25,
   "id": "4d11a5a3-ea1c-4520-8462-ab5630bf2441",
   "metadata": {},
   "outputs": [],
   "source": [
    "# создаем функцию работы кросс-валидатора\n",
    "def cv_score(estimator, parametrs, features, target):\n",
    "    \n",
    "    # задаем параметры пайплайна\n",
    "    pipeline = Pipeline([ ('clf', estimator) ])\n",
    "\n",
    "    # активируем поиск и запускаем обучение\n",
    "    model_cv = HalvingRandomSearchCV(pipeline,\n",
    "                                     param_distributions=parametrs,\n",
    "                                     cv=8,\n",
    "                                     n_jobs=-1,\n",
    "                                     factor=2,\n",
    "                                     max_resources=80,\n",
    "                                     scoring='f1_weighted',\n",
    "                                     #scoring='f1_micro',\n",
    "                                     random_state=RAND_ST,\n",
    "                                     verbose=1\n",
    "                                    )\n",
    "\n",
    "    model_cv.fit(features, target)\n",
    "    \n",
    "    # сохраняем лучшую модель и лучшую оценку\n",
    "    best_model = pipeline.set_params(**model_cv.best_params_)\n",
    "    best_f1 = model_cv.best_score_\n",
    "    \n",
    "    # выводим лучшие гиперпараметры и оценку\n",
    "    print() \n",
    "    print(f'Best F1: {best_f1}')\n",
    "    print(f'Best params: {model_cv.best_params_}')\n",
    "\n",
    "    return best_model, best_f1"
   ]
  },
  {
   "cell_type": "markdown",
   "id": "1da386fa-ec31-43ac-a51c-bf6bc44b6f5d",
   "metadata": {},
   "source": [
    "- Сведем результаты работы моделей в одну таблицу."
   ]
  },
  {
   "cell_type": "code",
   "execution_count": 27,
   "id": "158433d4-576e-4b26-b8a7-707cfe5015b3",
   "metadata": {},
   "outputs": [],
   "source": [
    "# создаем таблицу с результатами работы моделей\n",
    "results_df = pd.DataFrame(columns=['Model', 'F1_train_tf_idf'])"
   ]
  },
  {
   "cell_type": "code",
   "execution_count": 28,
   "id": "828e6404-a777-4721-be0d-2cd0ed200b08",
   "metadata": {},
   "outputs": [
    {
     "name": "stdout",
     "output_type": "stream",
     "text": [
      "n_iterations: 2\n",
      "n_required_iterations: 2\n",
      "n_possible_iterations: 2\n",
      "min_resources_: 32\n",
      "max_resources_: 80\n",
      "aggressive_elimination: False\n",
      "factor: 2\n",
      "----------\n",
      "iter: 0\n",
      "n_candidates: 2\n",
      "n_resources: 32\n",
      "Fitting 8 folds for each of 2 candidates, totalling 16 fits\n",
      "----------\n",
      "iter: 1\n",
      "n_candidates: 1\n",
      "n_resources: 64\n",
      "Fitting 8 folds for each of 1 candidates, totalling 8 fits\n",
      "\n",
      "Best F1: 0.7881868131868132\n",
      "Best params: {'clf__max_iter': 800, 'clf__C': 10.5}\n",
      "CPU times: user 5.05 s, sys: 796 ms, total: 5.84 s\n",
      "Wall time: 4.27 s\n"
     ]
    },
    {
     "data": {
      "text/html": [
       "<div>\n",
       "<style scoped>\n",
       "    .dataframe tbody tr th:only-of-type {\n",
       "        vertical-align: middle;\n",
       "    }\n",
       "\n",
       "    .dataframe tbody tr th {\n",
       "        vertical-align: top;\n",
       "    }\n",
       "\n",
       "    .dataframe thead th {\n",
       "        text-align: right;\n",
       "    }\n",
       "</style>\n",
       "<table border=\"1\" class=\"dataframe\">\n",
       "  <thead>\n",
       "    <tr style=\"text-align: right;\">\n",
       "      <th></th>\n",
       "      <th>Model</th>\n",
       "      <th>F1_train_tf_idf</th>\n",
       "    </tr>\n",
       "  </thead>\n",
       "  <tbody>\n",
       "    <tr>\n",
       "      <th>0</th>\n",
       "      <td>LogisticRegression</td>\n",
       "      <td>0.788187</td>\n",
       "    </tr>\n",
       "  </tbody>\n",
       "</table>\n",
       "</div>"
      ],
      "text/plain": [
       "                Model  F1_train_tf_idf\n",
       "0  LogisticRegression         0.788187"
      ]
     },
     "execution_count": 28,
     "metadata": {},
     "output_type": "execute_result"
    }
   ],
   "source": [
    "%%time\n",
    "# подбираем гиперпараметры для Логистической регрессии\n",
    "\n",
    "# задаем область поиска гиперпараметров\n",
    "parametrs_LR =  {'clf__C': [2.5, 5.0, 10.5],\n",
    "              'clf__max_iter': range(100, 2001, 50)\n",
    "             }\n",
    "\n",
    "# активируем модель\n",
    "model_LR_HCV, best_F1_HCV_LR = cv_score(LogisticRegression(\n",
    "                                        random_state=RAND_ST,\n",
    "                                        class_weight='balanced',\n",
    "                                        solver='liblinear'\n",
    "                                                           ), \n",
    "                                        parametrs_LR, \n",
    "                                        train_features_tf_idf, \n",
    "                                        train_target \n",
    "                                       )\n",
    "\n",
    "# добавляем результат кросс-валидации в таблицу\n",
    "results_df.loc[0] = ['LogisticRegression', best_F1_HCV_LR]\n",
    "\n",
    "results_df"
   ]
  },
  {
   "cell_type": "code",
   "execution_count": 29,
   "id": "8245643c-9b2c-4d80-b985-8e4855538a97",
   "metadata": {},
   "outputs": [
    {
     "name": "stdout",
     "output_type": "stream",
     "text": [
      "n_iterations: 2\n",
      "n_required_iterations: 2\n",
      "n_possible_iterations: 2\n",
      "min_resources_: 32\n",
      "max_resources_: 80\n",
      "aggressive_elimination: False\n",
      "factor: 2\n",
      "----------\n",
      "iter: 0\n",
      "n_candidates: 2\n",
      "n_resources: 32\n",
      "Fitting 8 folds for each of 2 candidates, totalling 16 fits\n",
      "----------\n",
      "iter: 1\n",
      "n_candidates: 1\n",
      "n_resources: 64\n",
      "Fitting 8 folds for each of 1 candidates, totalling 8 fits\n",
      "\n",
      "Best F1: 0.7818618881118882\n",
      "Best params: {'clf__n_estimators': 800, 'clf__max_depth': 16}\n",
      "CPU times: user 58.7 s, sys: 623 ms, total: 59.3 s\n",
      "Wall time: 1min 47s\n"
     ]
    },
    {
     "data": {
      "text/html": [
       "<div>\n",
       "<style scoped>\n",
       "    .dataframe tbody tr th:only-of-type {\n",
       "        vertical-align: middle;\n",
       "    }\n",
       "\n",
       "    .dataframe tbody tr th {\n",
       "        vertical-align: top;\n",
       "    }\n",
       "\n",
       "    .dataframe thead th {\n",
       "        text-align: right;\n",
       "    }\n",
       "</style>\n",
       "<table border=\"1\" class=\"dataframe\">\n",
       "  <thead>\n",
       "    <tr style=\"text-align: right;\">\n",
       "      <th></th>\n",
       "      <th>Model</th>\n",
       "      <th>F1_train_tf_idf</th>\n",
       "    </tr>\n",
       "  </thead>\n",
       "  <tbody>\n",
       "    <tr>\n",
       "      <th>0</th>\n",
       "      <td>LogisticRegression</td>\n",
       "      <td>0.788187</td>\n",
       "    </tr>\n",
       "    <tr>\n",
       "      <th>1</th>\n",
       "      <td>RandomForestClassifier</td>\n",
       "      <td>0.781862</td>\n",
       "    </tr>\n",
       "  </tbody>\n",
       "</table>\n",
       "</div>"
      ],
      "text/plain": [
       "                    Model  F1_train_tf_idf\n",
       "0      LogisticRegression         0.788187\n",
       "1  RandomForestClassifier         0.781862"
      ]
     },
     "execution_count": 29,
     "metadata": {},
     "output_type": "execute_result"
    }
   ],
   "source": [
    "%%time\n",
    "# подбираем гиперпараметры для RandomForestClassifier\n",
    "\n",
    "# задаем область поиска гиперпараметров\n",
    "parametrs_RFC = {'clf__n_estimators': range(100, 1000, 50), \n",
    "             'clf__max_depth': range(10, 20)\n",
    "            }\n",
    "# активируем модель\n",
    "model_RFC_HCV, best_F1_HCV_RFC = cv_score(RandomForestClassifier(\n",
    "                                          random_state=RAND_ST,\n",
    "                                          class_weight='balanced'\n",
    "                                                                 ), \n",
    "                                          parametrs_RFC, \n",
    "                                          train_features_tf_idf, \n",
    "                                          train_target \n",
    "                                          )\n",
    "\n",
    "# добавляем результат кросс-валидации в таблицу\n",
    "results_df.loc[1] = ['RandomForestClassifier', best_F1_HCV_RFC]\n",
    "\n",
    "results_df.sort_values(by='F1_train_tf_idf', ascending=False)"
   ]
  },
  {
   "cell_type": "code",
   "execution_count": 30,
   "id": "7f9acc6d-45cf-4406-9adb-4ddacd19c2de",
   "metadata": {},
   "outputs": [
    {
     "name": "stdout",
     "output_type": "stream",
     "text": [
      "n_iterations: 2\n",
      "n_required_iterations: 2\n",
      "n_possible_iterations: 2\n",
      "min_resources_: 32\n",
      "max_resources_: 80\n",
      "aggressive_elimination: False\n",
      "factor: 2\n",
      "----------\n",
      "iter: 0\n",
      "n_candidates: 2\n",
      "n_resources: 32\n",
      "Fitting 8 folds for each of 2 candidates, totalling 16 fits\n",
      "----------\n",
      "iter: 1\n",
      "n_candidates: 1\n",
      "n_resources: 64\n",
      "Fitting 8 folds for each of 1 candidates, totalling 8 fits\n",
      "\n",
      "Best F1: 0.8152014652014652\n",
      "Best params: {'clf__learning_rate': 0.3, 'clf__iterations': 400, 'clf__depth': 3}\n",
      "CPU times: user 7min 47s, sys: 4.9 s, total: 7min 52s\n",
      "Wall time: 3min 7s\n"
     ]
    },
    {
     "data": {
      "text/html": [
       "<div>\n",
       "<style scoped>\n",
       "    .dataframe tbody tr th:only-of-type {\n",
       "        vertical-align: middle;\n",
       "    }\n",
       "\n",
       "    .dataframe tbody tr th {\n",
       "        vertical-align: top;\n",
       "    }\n",
       "\n",
       "    .dataframe thead th {\n",
       "        text-align: right;\n",
       "    }\n",
       "</style>\n",
       "<table border=\"1\" class=\"dataframe\">\n",
       "  <thead>\n",
       "    <tr style=\"text-align: right;\">\n",
       "      <th></th>\n",
       "      <th>Model</th>\n",
       "      <th>F1_train_tf_idf</th>\n",
       "    </tr>\n",
       "  </thead>\n",
       "  <tbody>\n",
       "    <tr>\n",
       "      <th>2</th>\n",
       "      <td>CatBoostClassifier</td>\n",
       "      <td>0.815201</td>\n",
       "    </tr>\n",
       "    <tr>\n",
       "      <th>0</th>\n",
       "      <td>LogisticRegression</td>\n",
       "      <td>0.788187</td>\n",
       "    </tr>\n",
       "    <tr>\n",
       "      <th>1</th>\n",
       "      <td>RandomForestClassifier</td>\n",
       "      <td>0.781862</td>\n",
       "    </tr>\n",
       "  </tbody>\n",
       "</table>\n",
       "</div>"
      ],
      "text/plain": [
       "                    Model  F1_train_tf_idf\n",
       "2      CatBoostClassifier         0.815201\n",
       "0      LogisticRegression         0.788187\n",
       "1  RandomForestClassifier         0.781862"
      ]
     },
     "execution_count": 30,
     "metadata": {},
     "output_type": "execute_result"
    }
   ],
   "source": [
    "%%time\n",
    "# подбираем гиперпараметры для CatBoostClassifier\n",
    "\n",
    "# задаем область поиска гиперпараметров\n",
    "parametrs_CBC = {'clf__iterations': range(100, 500, 100),\n",
    "             'clf__depth':  range(1, 8),\n",
    "             'clf__learning_rate': [0.1, 0.2, 0.3]\n",
    "            }\n",
    "\n",
    "# активируем модель\n",
    "model_CBC_HCV, best_F1_HCV_CBC = cv_score(CatBoostClassifier(\n",
    "                                          random_state=RAND_ST,\n",
    "                                          verbose=False,   \n",
    "                                          auto_class_weights='Balanced'\n",
    "                                                             ), \n",
    "                                           parametrs_CBC, \n",
    "                                           train_features_tf_idf, \n",
    "                                           train_target \n",
    "                                                   )\n",
    "\n",
    "# добавляем результат в таблицу\n",
    "results_df.loc[2] = ['CatBoostClassifier', best_F1_HCV_CBC]\n",
    "\n",
    "results_df.sort_values(by='F1_train_tf_idf', ascending=False)"
   ]
  },
  {
   "cell_type": "markdown",
   "id": "e447dae9-39ed-4fa8-a40d-1e235d656e0d",
   "metadata": {},
   "source": [
    "- Модели обучились на обучающей выборке. На кросс-валидации лучшую метрику показала CatBoostClassifier. Быстрее всех обучалась LogisticRegression.\n",
    "\n",
    "- Возможно модели переобучились. \n",
    "\n",
    "- Проверим качество предсказания моделей на валидационной выборке."
   ]
  },
  {
   "cell_type": "code",
   "execution_count": 31,
   "id": "b3190fa7-a81d-4e6d-965b-3b5d19127f31",
   "metadata": {},
   "outputs": [],
   "source": [
    "# создаем функцию работы модели\n",
    "def ML_score_test(model, features_train, target_train,\n",
    "                         features_test, target_test,):\n",
    "    \n",
    "    # обучаем на обучающей выборке\n",
    "    model.fit(features_train, target_train)\n",
    "    \n",
    "    # получаем предсказание\n",
    "    predicted = model.predict(features_test)\n",
    "    \n",
    "    # считаем метрику \n",
    "    F1 = f1_score(target_test, predicted)\n",
    "    \n",
    "    return F1"
   ]
  },
  {
   "cell_type": "code",
   "execution_count": 32,
   "id": "5b527b0a-7642-4536-8fa6-cad3459114bf",
   "metadata": {},
   "outputs": [],
   "source": [
    "# создаем таблицу с результатами работы моделей\n",
    "results_df_valid = pd.DataFrame(columns=['Model', 'F1_valid_tf_idf'])"
   ]
  },
  {
   "cell_type": "code",
   "execution_count": 33,
   "id": "dd1cca27-ad64-45d5-bcc9-db789b931985",
   "metadata": {},
   "outputs": [
    {
     "name": "stdout",
     "output_type": "stream",
     "text": [
      "CPU times: user 4.48 s, sys: 465 ms, total: 4.94 s\n",
      "Wall time: 2.67 s\n"
     ]
    },
    {
     "data": {
      "text/html": [
       "<div>\n",
       "<style scoped>\n",
       "    .dataframe tbody tr th:only-of-type {\n",
       "        vertical-align: middle;\n",
       "    }\n",
       "\n",
       "    .dataframe tbody tr th {\n",
       "        vertical-align: top;\n",
       "    }\n",
       "\n",
       "    .dataframe thead th {\n",
       "        text-align: right;\n",
       "    }\n",
       "</style>\n",
       "<table border=\"1\" class=\"dataframe\">\n",
       "  <thead>\n",
       "    <tr style=\"text-align: right;\">\n",
       "      <th></th>\n",
       "      <th>Model</th>\n",
       "      <th>F1_valid_tf_idf</th>\n",
       "    </tr>\n",
       "  </thead>\n",
       "  <tbody>\n",
       "    <tr>\n",
       "      <th>0</th>\n",
       "      <td>LogisticRegression</td>\n",
       "      <td>0.761161</td>\n",
       "    </tr>\n",
       "  </tbody>\n",
       "</table>\n",
       "</div>"
      ],
      "text/plain": [
       "                Model  F1_valid_tf_idf\n",
       "0  LogisticRegression         0.761161"
      ]
     },
     "execution_count": 33,
     "metadata": {},
     "output_type": "execute_result"
    }
   ],
   "source": [
    "%%time\n",
    "# получаем предсказание 'LogisticRegression' на валидационной выборке\n",
    "F1_valid_LR = ML_score_test(model_LR_HCV,\n",
    "                            train_features_tf_idf, \n",
    "                            train_target,                            \n",
    "                            valid_features_tf_idf, \n",
    "                            valid_target)\n",
    "\n",
    "\n",
    "# добавляем результат в таблицу\n",
    "results_df_valid.loc[0] = ['LogisticRegression', F1_valid_LR]\n",
    "\n",
    "results_df_valid"
   ]
  },
  {
   "cell_type": "code",
   "execution_count": 34,
   "id": "0c381f8e-9dbd-4071-868d-d32873b629f1",
   "metadata": {},
   "outputs": [
    {
     "name": "stdout",
     "output_type": "stream",
     "text": [
      "CPU times: user 1min 6s, sys: 324 ms, total: 1min 6s\n",
      "Wall time: 1min 6s\n"
     ]
    },
    {
     "data": {
      "text/html": [
       "<div>\n",
       "<style scoped>\n",
       "    .dataframe tbody tr th:only-of-type {\n",
       "        vertical-align: middle;\n",
       "    }\n",
       "\n",
       "    .dataframe tbody tr th {\n",
       "        vertical-align: top;\n",
       "    }\n",
       "\n",
       "    .dataframe thead th {\n",
       "        text-align: right;\n",
       "    }\n",
       "</style>\n",
       "<table border=\"1\" class=\"dataframe\">\n",
       "  <thead>\n",
       "    <tr style=\"text-align: right;\">\n",
       "      <th></th>\n",
       "      <th>Model</th>\n",
       "      <th>F1_valid_tf_idf</th>\n",
       "    </tr>\n",
       "  </thead>\n",
       "  <tbody>\n",
       "    <tr>\n",
       "      <th>0</th>\n",
       "      <td>LogisticRegression</td>\n",
       "      <td>0.761161</td>\n",
       "    </tr>\n",
       "    <tr>\n",
       "      <th>1</th>\n",
       "      <td>RandomForestClassifier</td>\n",
       "      <td>0.395877</td>\n",
       "    </tr>\n",
       "  </tbody>\n",
       "</table>\n",
       "</div>"
      ],
      "text/plain": [
       "                    Model  F1_valid_tf_idf\n",
       "0      LogisticRegression         0.761161\n",
       "1  RandomForestClassifier         0.395877"
      ]
     },
     "execution_count": 34,
     "metadata": {},
     "output_type": "execute_result"
    }
   ],
   "source": [
    "%%time\n",
    "# получаем предсказание 'RandomForestClassifier' на валидационной выборке\n",
    "F1_valid_RFC = ML_score_test(model_RFC_HCV,\n",
    "                             train_features_tf_idf, \n",
    "                             train_target,\n",
    "                             valid_features_tf_idf, \n",
    "                             valid_target)\n",
    "\n",
    "# добавляем результат в таблицу\n",
    "results_df_valid.loc[1] = ['RandomForestClassifier', F1_valid_RFC]\n",
    "\n",
    "results_df_valid.sort_values(by='F1_valid_tf_idf', ascending=False)"
   ]
  },
  {
   "cell_type": "code",
   "execution_count": 35,
   "id": "d016c2ab-ad1d-4197-8c06-e0419167693f",
   "metadata": {},
   "outputs": [
    {
     "name": "stdout",
     "output_type": "stream",
     "text": [
      "CPU times: user 7min 46s, sys: 3.98 s, total: 7min 50s\n",
      "Wall time: 2min 25s\n"
     ]
    },
    {
     "data": {
      "text/html": [
       "<div>\n",
       "<style scoped>\n",
       "    .dataframe tbody tr th:only-of-type {\n",
       "        vertical-align: middle;\n",
       "    }\n",
       "\n",
       "    .dataframe tbody tr th {\n",
       "        vertical-align: top;\n",
       "    }\n",
       "\n",
       "    .dataframe thead th {\n",
       "        text-align: right;\n",
       "    }\n",
       "</style>\n",
       "<table border=\"1\" class=\"dataframe\">\n",
       "  <thead>\n",
       "    <tr style=\"text-align: right;\">\n",
       "      <th></th>\n",
       "      <th>Model</th>\n",
       "      <th>F1_valid_tf_idf</th>\n",
       "    </tr>\n",
       "  </thead>\n",
       "  <tbody>\n",
       "    <tr>\n",
       "      <th>0</th>\n",
       "      <td>LogisticRegression</td>\n",
       "      <td>0.761161</td>\n",
       "    </tr>\n",
       "    <tr>\n",
       "      <th>2</th>\n",
       "      <td>CatBoostClassifier</td>\n",
       "      <td>0.751779</td>\n",
       "    </tr>\n",
       "    <tr>\n",
       "      <th>1</th>\n",
       "      <td>RandomForestClassifier</td>\n",
       "      <td>0.395877</td>\n",
       "    </tr>\n",
       "  </tbody>\n",
       "</table>\n",
       "</div>"
      ],
      "text/plain": [
       "                    Model  F1_valid_tf_idf\n",
       "0      LogisticRegression         0.761161\n",
       "2      CatBoostClassifier         0.751779\n",
       "1  RandomForestClassifier         0.395877"
      ]
     },
     "execution_count": 35,
     "metadata": {},
     "output_type": "execute_result"
    }
   ],
   "source": [
    "%%time\n",
    "# получаем предсказание 'CatBoostClassifier'на валидационной выборке\n",
    "F1_valid_CBC = ML_score_test(model_CBC_HCV,\n",
    "                             train_features_tf_idf, \n",
    "                             train_target,\n",
    "                             test_features_tf_idf, \n",
    "                             test_target)\n",
    "\n",
    "# добавляем результат в таблицу\n",
    "results_df_valid.loc[2] = ['CatBoostClassifier', F1_valid_CBC]\n",
    "\n",
    "results_df_valid.sort_values(by='F1_valid_tf_idf', ascending=False)"
   ]
  },
  {
   "cell_type": "markdown",
   "id": "5642c91e-2f16-450e-9025-01a05e21fe1b",
   "metadata": {
    "tags": []
   },
   "source": [
    "- Выведем общие результаты."
   ]
  },
  {
   "cell_type": "code",
   "execution_count": 36,
   "id": "dcf64cf6-5735-44af-938d-985bd59a9497",
   "metadata": {},
   "outputs": [
    {
     "data": {
      "text/html": [
       "<div>\n",
       "<style scoped>\n",
       "    .dataframe tbody tr th:only-of-type {\n",
       "        vertical-align: middle;\n",
       "    }\n",
       "\n",
       "    .dataframe tbody tr th {\n",
       "        vertical-align: top;\n",
       "    }\n",
       "\n",
       "    .dataframe thead th {\n",
       "        text-align: right;\n",
       "    }\n",
       "</style>\n",
       "<table border=\"1\" class=\"dataframe\">\n",
       "  <thead>\n",
       "    <tr style=\"text-align: right;\">\n",
       "      <th></th>\n",
       "      <th>Model</th>\n",
       "      <th>F1_train_tf_idf</th>\n",
       "      <th>F1_valid_tf_idf</th>\n",
       "    </tr>\n",
       "  </thead>\n",
       "  <tbody>\n",
       "    <tr>\n",
       "      <th>0</th>\n",
       "      <td>LogisticRegression</td>\n",
       "      <td>0.788187</td>\n",
       "      <td>0.761161</td>\n",
       "    </tr>\n",
       "    <tr>\n",
       "      <th>2</th>\n",
       "      <td>CatBoostClassifier</td>\n",
       "      <td>0.815201</td>\n",
       "      <td>0.751779</td>\n",
       "    </tr>\n",
       "    <tr>\n",
       "      <th>1</th>\n",
       "      <td>RandomForestClassifier</td>\n",
       "      <td>0.781862</td>\n",
       "      <td>0.395877</td>\n",
       "    </tr>\n",
       "  </tbody>\n",
       "</table>\n",
       "</div>"
      ],
      "text/plain": [
       "                    Model  F1_train_tf_idf  F1_valid_tf_idf\n",
       "0      LogisticRegression         0.788187         0.761161\n",
       "2      CatBoostClassifier         0.815201         0.751779\n",
       "1  RandomForestClassifier         0.781862         0.395877"
      ]
     },
     "execution_count": 36,
     "metadata": {},
     "output_type": "execute_result"
    }
   ],
   "source": [
    "all_results_tf_idf = pd.merge(results_df, results_df_valid, on='Model')\n",
    "all_results_tf_idf.sort_values(by='F1_valid_tf_idf', ascending=False)"
   ]
  },
  {
   "cell_type": "markdown",
   "id": "d6441729-b4e0-4465-88e2-3803e449c446",
   "metadata": {},
   "source": [
    "- Лучшую метрику на валидационной выборке с TF-IDF показывает Логистическая регрессия. \n",
    "\n",
    "- Сильнее всех переобучилась 'RandomForestClassifier'."
   ]
  },
  {
   "cell_type": "markdown",
   "id": "8335af7f-4ed2-4605-a52e-eec5829dd7c8",
   "metadata": {},
   "source": [
    "- Проведем обучение с BERT. "
   ]
  },
  {
   "cell_type": "markdown",
   "id": "35135d3c-f687-4dfc-90fa-929d12726679",
   "metadata": {},
   "source": [
    "### Обучение с BERT"
   ]
  },
  {
   "cell_type": "markdown",
   "id": "789c131f-bce1-4cd2-b392-7ba979783335",
   "metadata": {},
   "source": [
    "- Обучим те же модели, на тех же параметрах, и получим метрики на кросс-валидации, а затем сравним результаты."
   ]
  },
  {
   "cell_type": "code",
   "execution_count": 37,
   "id": "527a552d-b45d-4ac0-9ef2-2e57478ca702",
   "metadata": {},
   "outputs": [],
   "source": [
    "# создаем таблицу с результатами работы моделей\n",
    "results_df_bert = pd.DataFrame(columns=['Model', 'F1_train_bert'])"
   ]
  },
  {
   "cell_type": "code",
   "execution_count": 38,
   "id": "68794275-61b1-4a5a-a030-abba60f567e6",
   "metadata": {},
   "outputs": [
    {
     "name": "stdout",
     "output_type": "stream",
     "text": [
      "n_iterations: 2\n",
      "n_required_iterations: 2\n",
      "n_possible_iterations: 2\n",
      "min_resources_: 32\n",
      "max_resources_: 80\n",
      "aggressive_elimination: False\n",
      "factor: 2\n",
      "----------\n",
      "iter: 0\n",
      "n_candidates: 2\n",
      "n_resources: 32\n",
      "Fitting 8 folds for each of 2 candidates, totalling 16 fits\n",
      "----------\n",
      "iter: 1\n",
      "n_candidates: 1\n",
      "n_resources: 64\n",
      "Fitting 8 folds for each of 1 candidates, totalling 8 fits\n",
      "\n",
      "Best F1: 0.8549679487179487\n",
      "Best params: {'clf__max_iter': 800, 'clf__C': 10.5}\n",
      "CPU times: user 519 ms, sys: 122 ms, total: 640 ms\n",
      "Wall time: 3.19 s\n"
     ]
    },
    {
     "data": {
      "text/html": [
       "<div>\n",
       "<style scoped>\n",
       "    .dataframe tbody tr th:only-of-type {\n",
       "        vertical-align: middle;\n",
       "    }\n",
       "\n",
       "    .dataframe tbody tr th {\n",
       "        vertical-align: top;\n",
       "    }\n",
       "\n",
       "    .dataframe thead th {\n",
       "        text-align: right;\n",
       "    }\n",
       "</style>\n",
       "<table border=\"1\" class=\"dataframe\">\n",
       "  <thead>\n",
       "    <tr style=\"text-align: right;\">\n",
       "      <th></th>\n",
       "      <th>Model</th>\n",
       "      <th>F1_train_bert</th>\n",
       "    </tr>\n",
       "  </thead>\n",
       "  <tbody>\n",
       "    <tr>\n",
       "      <th>0</th>\n",
       "      <td>LogisticRegression</td>\n",
       "      <td>0.854968</td>\n",
       "    </tr>\n",
       "  </tbody>\n",
       "</table>\n",
       "</div>"
      ],
      "text/plain": [
       "                Model  F1_train_bert\n",
       "0  LogisticRegression       0.854968"
      ]
     },
     "execution_count": 38,
     "metadata": {},
     "output_type": "execute_result"
    }
   ],
   "source": [
    "%%time\n",
    "# подбираем гиперпараметры для Логистической регрессии\n",
    "\n",
    "# активируем модель\n",
    "model_LR_HCV_bert, best_F1_HCV_LR_bert = cv_score(LogisticRegression(\n",
    "                                                random_state=RAND_ST,\n",
    "                                                class_weight='balanced',\n",
    "                                                solver='liblinear'\n",
    "                                                                     ), \n",
    "                                                parametrs_LR, \n",
    "                                                train_features_bert, \n",
    "                                                train_target_bert \n",
    "                                                  )\n",
    "\n",
    "# добавляем результат кросс-валидации в таблицу\n",
    "results_df_bert.loc[0] = ['LogisticRegression', best_F1_HCV_LR_bert]\n",
    "\n",
    "results_df_bert"
   ]
  },
  {
   "cell_type": "code",
   "execution_count": 39,
   "id": "25d127e1-4e50-4eb2-9ef9-d13033e5a961",
   "metadata": {},
   "outputs": [
    {
     "name": "stdout",
     "output_type": "stream",
     "text": [
      "n_iterations: 2\n",
      "n_required_iterations: 2\n",
      "n_possible_iterations: 2\n",
      "min_resources_: 32\n",
      "max_resources_: 80\n",
      "aggressive_elimination: False\n",
      "factor: 2\n",
      "----------\n",
      "iter: 0\n",
      "n_candidates: 2\n",
      "n_resources: 32\n",
      "Fitting 8 folds for each of 2 candidates, totalling 16 fits\n",
      "----------\n",
      "iter: 1\n",
      "n_candidates: 1\n",
      "n_resources: 64\n",
      "Fitting 8 folds for each of 1 candidates, totalling 8 fits\n",
      "\n",
      "Best F1: 0.8446199633699634\n",
      "Best params: {'clf__n_estimators': 800, 'clf__max_depth': 16}\n",
      "CPU times: user 15.7 s, sys: 175 ms, total: 15.9 s\n",
      "Wall time: 34 s\n"
     ]
    },
    {
     "data": {
      "text/html": [
       "<div>\n",
       "<style scoped>\n",
       "    .dataframe tbody tr th:only-of-type {\n",
       "        vertical-align: middle;\n",
       "    }\n",
       "\n",
       "    .dataframe tbody tr th {\n",
       "        vertical-align: top;\n",
       "    }\n",
       "\n",
       "    .dataframe thead th {\n",
       "        text-align: right;\n",
       "    }\n",
       "</style>\n",
       "<table border=\"1\" class=\"dataframe\">\n",
       "  <thead>\n",
       "    <tr style=\"text-align: right;\">\n",
       "      <th></th>\n",
       "      <th>Model</th>\n",
       "      <th>F1_train_bert</th>\n",
       "    </tr>\n",
       "  </thead>\n",
       "  <tbody>\n",
       "    <tr>\n",
       "      <th>0</th>\n",
       "      <td>LogisticRegression</td>\n",
       "      <td>0.854968</td>\n",
       "    </tr>\n",
       "    <tr>\n",
       "      <th>1</th>\n",
       "      <td>RandomForestClassifier</td>\n",
       "      <td>0.844620</td>\n",
       "    </tr>\n",
       "  </tbody>\n",
       "</table>\n",
       "</div>"
      ],
      "text/plain": [
       "                    Model  F1_train_bert\n",
       "0      LogisticRegression       0.854968\n",
       "1  RandomForestClassifier       0.844620"
      ]
     },
     "execution_count": 39,
     "metadata": {},
     "output_type": "execute_result"
    }
   ],
   "source": [
    "%%time\n",
    "# подбираем гиперпараметры для RandomForestClassifier\n",
    "\n",
    "# активируем модель\n",
    "model_RFC_HCV_bert, best_F1_HCV_RFC_bert = cv_score(RandomForestClassifier(\n",
    "                                                 random_state=RAND_ST,\n",
    "                                                 class_weight='balanced'\n",
    "                                                                           ), \n",
    "                                                 parametrs_RFC, \n",
    "                                                 train_features_bert, \n",
    "                                                 train_target_bert\n",
    "                                                   )\n",
    "\n",
    "# добавляем результат кросс-валидации в таблицу\n",
    "results_df_bert.loc[1] = ['RandomForestClassifier', best_F1_HCV_RFC_bert]\n",
    "\n",
    "results_df_bert.sort_values(by='F1_train_bert', ascending=False)"
   ]
  },
  {
   "cell_type": "code",
   "execution_count": 40,
   "id": "2abf6d98-a1af-42c0-99fb-2ce9ce7fddc0",
   "metadata": {},
   "outputs": [
    {
     "name": "stdout",
     "output_type": "stream",
     "text": [
      "n_iterations: 2\n",
      "n_required_iterations: 2\n",
      "n_possible_iterations: 2\n",
      "min_resources_: 32\n",
      "max_resources_: 80\n",
      "aggressive_elimination: False\n",
      "factor: 2\n",
      "----------\n",
      "iter: 0\n",
      "n_candidates: 2\n",
      "n_resources: 32\n",
      "Fitting 8 folds for each of 2 candidates, totalling 16 fits\n",
      "----------\n",
      "iter: 1\n",
      "n_candidates: 1\n",
      "n_resources: 64\n",
      "Fitting 8 folds for each of 1 candidates, totalling 8 fits\n",
      "\n",
      "Best F1: 0.8592032967032968\n",
      "Best params: {'clf__learning_rate': 0.3, 'clf__iterations': 400, 'clf__depth': 3}\n",
      "CPU times: user 30.1 s, sys: 425 ms, total: 30.5 s\n",
      "Wall time: 55.6 s\n"
     ]
    },
    {
     "data": {
      "text/html": [
       "<div>\n",
       "<style scoped>\n",
       "    .dataframe tbody tr th:only-of-type {\n",
       "        vertical-align: middle;\n",
       "    }\n",
       "\n",
       "    .dataframe tbody tr th {\n",
       "        vertical-align: top;\n",
       "    }\n",
       "\n",
       "    .dataframe thead th {\n",
       "        text-align: right;\n",
       "    }\n",
       "</style>\n",
       "<table border=\"1\" class=\"dataframe\">\n",
       "  <thead>\n",
       "    <tr style=\"text-align: right;\">\n",
       "      <th></th>\n",
       "      <th>Model</th>\n",
       "      <th>F1_train_bert</th>\n",
       "    </tr>\n",
       "  </thead>\n",
       "  <tbody>\n",
       "    <tr>\n",
       "      <th>2</th>\n",
       "      <td>CatBoostClassifier</td>\n",
       "      <td>0.859203</td>\n",
       "    </tr>\n",
       "    <tr>\n",
       "      <th>0</th>\n",
       "      <td>LogisticRegression</td>\n",
       "      <td>0.854968</td>\n",
       "    </tr>\n",
       "    <tr>\n",
       "      <th>1</th>\n",
       "      <td>RandomForestClassifier</td>\n",
       "      <td>0.844620</td>\n",
       "    </tr>\n",
       "  </tbody>\n",
       "</table>\n",
       "</div>"
      ],
      "text/plain": [
       "                    Model  F1_train_bert\n",
       "2      CatBoostClassifier       0.859203\n",
       "0      LogisticRegression       0.854968\n",
       "1  RandomForestClassifier       0.844620"
      ]
     },
     "execution_count": 40,
     "metadata": {},
     "output_type": "execute_result"
    }
   ],
   "source": [
    "%%time\n",
    "# подбираем гиперпараметры для CatBoostClassifier\n",
    "\n",
    "# активируем модель\n",
    "model_CBC_HCV_bert, best_F1_HCV_CBC_bert = cv_score(CatBoostClassifier(\n",
    "                                                 random_state=RAND_ST,\n",
    "                                                 verbose=False,   \n",
    "                                                 auto_class_weights='Balanced'\n",
    "                                                                       ), \n",
    "                                                 parametrs_CBC, \n",
    "                                                 train_features_bert, \n",
    "                                                 train_target_bert \n",
    "                                                   )\n",
    "\n",
    "# добавляем результат в таблицу\n",
    "results_df_bert.loc[2] = ['CatBoostClassifier', best_F1_HCV_CBC_bert]\n",
    "\n",
    "results_df_bert.sort_values(by='F1_train_bert', ascending=False)"
   ]
  },
  {
   "cell_type": "markdown",
   "id": "979a679b-23e3-4574-a365-40b02306948a",
   "metadata": {},
   "source": [
    "- Лучший показатель с BERT на трейне у RandomForestClassifier и CatBoostClassifier."
   ]
  },
  {
   "cell_type": "markdown",
   "id": "a280aa90-479e-417a-87ef-a128f7be81ae",
   "metadata": {},
   "source": [
    "- Проверим качество предсказания моделей с подобранными гиперпараметрами на валидационной выборке."
   ]
  },
  {
   "cell_type": "code",
   "execution_count": 41,
   "id": "2730c5c5-9ede-4083-9feb-92897ebb8099",
   "metadata": {},
   "outputs": [],
   "source": [
    "# создаем таблицу с результатами работы моделей\n",
    "results_df_valid_bert = pd.DataFrame(columns=['Model', 'F1_valid_bert'])"
   ]
  },
  {
   "cell_type": "code",
   "execution_count": 42,
   "id": "2c5d5f01-0bdf-4f23-bf96-d9f2f6901347",
   "metadata": {},
   "outputs": [
    {
     "name": "stdout",
     "output_type": "stream",
     "text": [
      "CPU times: user 365 ms, sys: 8.57 ms, total: 373 ms\n",
      "Wall time: 373 ms\n"
     ]
    },
    {
     "data": {
      "text/html": [
       "<div>\n",
       "<style scoped>\n",
       "    .dataframe tbody tr th:only-of-type {\n",
       "        vertical-align: middle;\n",
       "    }\n",
       "\n",
       "    .dataframe tbody tr th {\n",
       "        vertical-align: top;\n",
       "    }\n",
       "\n",
       "    .dataframe thead th {\n",
       "        text-align: right;\n",
       "    }\n",
       "</style>\n",
       "<table border=\"1\" class=\"dataframe\">\n",
       "  <thead>\n",
       "    <tr style=\"text-align: right;\">\n",
       "      <th></th>\n",
       "      <th>Model</th>\n",
       "      <th>F1_valid_bert</th>\n",
       "    </tr>\n",
       "  </thead>\n",
       "  <tbody>\n",
       "    <tr>\n",
       "      <th>0</th>\n",
       "      <td>LogisticRegression</td>\n",
       "      <td>0.659574</td>\n",
       "    </tr>\n",
       "  </tbody>\n",
       "</table>\n",
       "</div>"
      ],
      "text/plain": [
       "                Model  F1_valid_bert\n",
       "0  LogisticRegression       0.659574"
      ]
     },
     "execution_count": 42,
     "metadata": {},
     "output_type": "execute_result"
    }
   ],
   "source": [
    "%%time\n",
    "# получаем предсказание 'LogisticRegression' на валидационной выборке\n",
    "F1_valid_LR_bert = ML_score_test(model_LR_HCV_bert,\n",
    "                                 train_features_bert, \n",
    "                                 train_target_bert,                            \n",
    "                                 valid_features_bert, \n",
    "                                 valid_target_bert)\n",
    "\n",
    "# добавляем результат в таблицу\n",
    "results_df_valid_bert.loc[0] = ['LogisticRegression', F1_valid_LR_bert]\n",
    "\n",
    "results_df_valid_bert"
   ]
  },
  {
   "cell_type": "code",
   "execution_count": 43,
   "id": "bf898736-82c8-4a5d-b0c6-c2c9314a8a52",
   "metadata": {},
   "outputs": [
    {
     "name": "stdout",
     "output_type": "stream",
     "text": [
      "CPU times: user 14.9 s, sys: 50.4 ms, total: 14.9 s\n",
      "Wall time: 14.9 s\n"
     ]
    },
    {
     "data": {
      "text/html": [
       "<div>\n",
       "<style scoped>\n",
       "    .dataframe tbody tr th:only-of-type {\n",
       "        vertical-align: middle;\n",
       "    }\n",
       "\n",
       "    .dataframe tbody tr th {\n",
       "        vertical-align: top;\n",
       "    }\n",
       "\n",
       "    .dataframe thead th {\n",
       "        text-align: right;\n",
       "    }\n",
       "</style>\n",
       "<table border=\"1\" class=\"dataframe\">\n",
       "  <thead>\n",
       "    <tr style=\"text-align: right;\">\n",
       "      <th></th>\n",
       "      <th>Model</th>\n",
       "      <th>F1_valid_bert</th>\n",
       "    </tr>\n",
       "  </thead>\n",
       "  <tbody>\n",
       "    <tr>\n",
       "      <th>0</th>\n",
       "      <td>LogisticRegression</td>\n",
       "      <td>0.659574</td>\n",
       "    </tr>\n",
       "    <tr>\n",
       "      <th>1</th>\n",
       "      <td>RandomForestClassifier</td>\n",
       "      <td>0.387097</td>\n",
       "    </tr>\n",
       "  </tbody>\n",
       "</table>\n",
       "</div>"
      ],
      "text/plain": [
       "                    Model  F1_valid_bert\n",
       "0      LogisticRegression       0.659574\n",
       "1  RandomForestClassifier       0.387097"
      ]
     },
     "execution_count": 43,
     "metadata": {},
     "output_type": "execute_result"
    }
   ],
   "source": [
    "%%time\n",
    "# получаем предсказание 'RandomForestClassifier' на валидационной выборке\n",
    "F1_valid_RFC_bert = ML_score_test(model_RFC_HCV_bert,\n",
    "                                 train_features_bert, \n",
    "                                 train_target_bert,                            \n",
    "                                 valid_features_bert, \n",
    "                                 valid_target_bert)\n",
    "\n",
    "# добавляем результат в таблицу\n",
    "results_df_valid_bert.loc[1] = ['RandomForestClassifier', F1_valid_RFC_bert]\n",
    "\n",
    "results_df_valid_bert.sort_values(by='F1_valid_bert', ascending=False)"
   ]
  },
  {
   "cell_type": "code",
   "execution_count": 44,
   "id": "f193d439-6ff9-4544-aa8d-eb6109a12d62",
   "metadata": {},
   "outputs": [
    {
     "name": "stdout",
     "output_type": "stream",
     "text": [
      "CPU times: user 29.6 s, sys: 287 ms, total: 29.9 s\n",
      "Wall time: 9.07 s\n"
     ]
    },
    {
     "data": {
      "text/html": [
       "<div>\n",
       "<style scoped>\n",
       "    .dataframe tbody tr th:only-of-type {\n",
       "        vertical-align: middle;\n",
       "    }\n",
       "\n",
       "    .dataframe tbody tr th {\n",
       "        vertical-align: top;\n",
       "    }\n",
       "\n",
       "    .dataframe thead th {\n",
       "        text-align: right;\n",
       "    }\n",
       "</style>\n",
       "<table border=\"1\" class=\"dataframe\">\n",
       "  <thead>\n",
       "    <tr style=\"text-align: right;\">\n",
       "      <th></th>\n",
       "      <th>Model</th>\n",
       "      <th>F1_valid_bert</th>\n",
       "    </tr>\n",
       "  </thead>\n",
       "  <tbody>\n",
       "    <tr>\n",
       "      <th>2</th>\n",
       "      <td>CatBoostClassifier</td>\n",
       "      <td>0.666667</td>\n",
       "    </tr>\n",
       "    <tr>\n",
       "      <th>0</th>\n",
       "      <td>LogisticRegression</td>\n",
       "      <td>0.659574</td>\n",
       "    </tr>\n",
       "    <tr>\n",
       "      <th>1</th>\n",
       "      <td>RandomForestClassifier</td>\n",
       "      <td>0.387097</td>\n",
       "    </tr>\n",
       "  </tbody>\n",
       "</table>\n",
       "</div>"
      ],
      "text/plain": [
       "                    Model  F1_valid_bert\n",
       "2      CatBoostClassifier       0.666667\n",
       "0      LogisticRegression       0.659574\n",
       "1  RandomForestClassifier       0.387097"
      ]
     },
     "execution_count": 44,
     "metadata": {},
     "output_type": "execute_result"
    }
   ],
   "source": [
    "%%time\n",
    "# получаем предсказание 'CatBoostClassifier', на валидационной выборке\n",
    "F1_valid_CBC_bert = ML_score_test(model_CBC_HCV_bert,\n",
    "                                 train_features_bert, \n",
    "                                 train_target_bert,                            \n",
    "                                 valid_features_bert, \n",
    "                                 valid_target_bert)\n",
    "\n",
    "# добавляем результат в таблицу\n",
    "results_df_valid_bert.loc[2] = ['CatBoostClassifier', F1_valid_CBC_bert]\n",
    "\n",
    "results_df_valid_bert.sort_values(by='F1_valid_bert', ascending=False)"
   ]
  },
  {
   "cell_type": "markdown",
   "id": "38c4c4c2-2633-45cb-85c4-cad8928e422c",
   "metadata": {},
   "source": [
    "- Выведем общие результаты с BERT."
   ]
  },
  {
   "cell_type": "code",
   "execution_count": 45,
   "id": "f2462734-14be-4e8d-8c48-f1b654550462",
   "metadata": {},
   "outputs": [
    {
     "data": {
      "text/html": [
       "<div>\n",
       "<style scoped>\n",
       "    .dataframe tbody tr th:only-of-type {\n",
       "        vertical-align: middle;\n",
       "    }\n",
       "\n",
       "    .dataframe tbody tr th {\n",
       "        vertical-align: top;\n",
       "    }\n",
       "\n",
       "    .dataframe thead th {\n",
       "        text-align: right;\n",
       "    }\n",
       "</style>\n",
       "<table border=\"1\" class=\"dataframe\">\n",
       "  <thead>\n",
       "    <tr style=\"text-align: right;\">\n",
       "      <th></th>\n",
       "      <th>Model</th>\n",
       "      <th>F1_train_bert</th>\n",
       "      <th>F1_valid_bert</th>\n",
       "    </tr>\n",
       "  </thead>\n",
       "  <tbody>\n",
       "    <tr>\n",
       "      <th>2</th>\n",
       "      <td>CatBoostClassifier</td>\n",
       "      <td>0.859203</td>\n",
       "      <td>0.666667</td>\n",
       "    </tr>\n",
       "    <tr>\n",
       "      <th>0</th>\n",
       "      <td>LogisticRegression</td>\n",
       "      <td>0.854968</td>\n",
       "      <td>0.659574</td>\n",
       "    </tr>\n",
       "    <tr>\n",
       "      <th>1</th>\n",
       "      <td>RandomForestClassifier</td>\n",
       "      <td>0.844620</td>\n",
       "      <td>0.387097</td>\n",
       "    </tr>\n",
       "  </tbody>\n",
       "</table>\n",
       "</div>"
      ],
      "text/plain": [
       "                    Model  F1_train_bert  F1_valid_bert\n",
       "2      CatBoostClassifier       0.859203       0.666667\n",
       "0      LogisticRegression       0.854968       0.659574\n",
       "1  RandomForestClassifier       0.844620       0.387097"
      ]
     },
     "execution_count": 45,
     "metadata": {},
     "output_type": "execute_result"
    }
   ],
   "source": [
    "all_res_bert = pd.merge(results_df_bert, results_df_valid_bert, on='Model')\n",
    "all_res_bert.sort_values(by='F1_valid_bert', ascending=False)"
   ]
  },
  {
   "cell_type": "markdown",
   "id": "59878d47-068d-4adc-a6ca-2306b551a015",
   "metadata": {},
   "source": [
    "- Лучший показатель на валидационной выборке с BERT - у CatBoostClassifier. Но значение метрики хуже, чем с TF-IDF, хотя с BERT модели переобучились меньше.\n",
    "\n",
    "- Объединим все полученные результаты  в одну таблицу."
   ]
  },
  {
   "cell_type": "code",
   "execution_count": 46,
   "id": "ffc66636-a498-40d7-848d-3b4c22357b7d",
   "metadata": {},
   "outputs": [
    {
     "data": {
      "text/html": [
       "<div>\n",
       "<style scoped>\n",
       "    .dataframe tbody tr th:only-of-type {\n",
       "        vertical-align: middle;\n",
       "    }\n",
       "\n",
       "    .dataframe tbody tr th {\n",
       "        vertical-align: top;\n",
       "    }\n",
       "\n",
       "    .dataframe thead th {\n",
       "        text-align: right;\n",
       "    }\n",
       "</style>\n",
       "<table border=\"1\" class=\"dataframe\">\n",
       "  <thead>\n",
       "    <tr style=\"text-align: right;\">\n",
       "      <th></th>\n",
       "      <th>Model</th>\n",
       "      <th>F1_train_tf_idf</th>\n",
       "      <th>F1_valid_tf_idf</th>\n",
       "      <th>F1_train_bert</th>\n",
       "      <th>F1_valid_bert</th>\n",
       "    </tr>\n",
       "  </thead>\n",
       "  <tbody>\n",
       "    <tr>\n",
       "      <th>0</th>\n",
       "      <td>LogisticRegression</td>\n",
       "      <td>0.788187</td>\n",
       "      <td>0.761161</td>\n",
       "      <td>0.854968</td>\n",
       "      <td>0.659574</td>\n",
       "    </tr>\n",
       "    <tr>\n",
       "      <th>2</th>\n",
       "      <td>CatBoostClassifier</td>\n",
       "      <td>0.815201</td>\n",
       "      <td>0.751779</td>\n",
       "      <td>0.859203</td>\n",
       "      <td>0.666667</td>\n",
       "    </tr>\n",
       "    <tr>\n",
       "      <th>1</th>\n",
       "      <td>RandomForestClassifier</td>\n",
       "      <td>0.781862</td>\n",
       "      <td>0.395877</td>\n",
       "      <td>0.844620</td>\n",
       "      <td>0.387097</td>\n",
       "    </tr>\n",
       "  </tbody>\n",
       "</table>\n",
       "</div>"
      ],
      "text/plain": [
       "                    Model  F1_train_tf_idf  F1_valid_tf_idf  F1_train_bert  \\\n",
       "0      LogisticRegression         0.788187         0.761161       0.854968   \n",
       "2      CatBoostClassifier         0.815201         0.751779       0.859203   \n",
       "1  RandomForestClassifier         0.781862         0.395877       0.844620   \n",
       "\n",
       "   F1_valid_bert  \n",
       "0       0.659574  \n",
       "2       0.666667  \n",
       "1       0.387097  "
      ]
     },
     "execution_count": 46,
     "metadata": {},
     "output_type": "execute_result"
    }
   ],
   "source": [
    "all_results_full = pd.merge(all_results_tf_idf, all_res_bert, on='Model')\n",
    "all_results_full.sort_values(by='F1_valid_tf_idf', ascending=False)"
   ]
  },
  {
   "cell_type": "markdown",
   "id": "0288ee72-a157-433b-afa6-29bd8ec6b170",
   "metadata": {},
   "source": [
    "- По итогам всех испытаний лучшие показатели на валидации - у Логистической регрессии с TF-IDF."
   ]
  },
  {
   "cell_type": "markdown",
   "id": "91ec6ac6-1178-40ab-89cf-66741c1800d5",
   "metadata": {},
   "source": [
    "- Протестируем лучшую модель."
   ]
  },
  {
   "cell_type": "code",
   "execution_count": 47,
   "id": "a9144806-1755-4f2c-b628-fb3ba4d3f77c",
   "metadata": {},
   "outputs": [
    {
     "name": "stdout",
     "output_type": "stream",
     "text": [
      "F1 'LogisticRegression' тестовой выборки: 0.7613266212614747 \n",
      "CPU times: user 4.49 s, sys: 469 ms, total: 4.96 s\n",
      "Wall time: 2.55 s\n"
     ]
    }
   ],
   "source": [
    "%%time\n",
    "F1_test_LR = ML_score_test(best_model,\n",
    "                           #model_LR_HCV,\n",
    "                           \n",
    "                           train_features_tf_idf, \n",
    "                           train_target,\n",
    "                           test_features_tf_idf, \n",
    "                           test_target)\n",
    "\n",
    "# выводим результат\n",
    "print(f\"F1 'LogisticRegression' тестовой выборки: {F1_test_LR} \")"
   ]
  },
  {
   "cell_type": "markdown",
   "id": "904f0f05-9839-4a62-8081-e7983a63c91c",
   "metadata": {},
   "source": [
    "- Проверим модель на вменяемость методом DummyClassifier."
   ]
  },
  {
   "cell_type": "code",
   "execution_count": 48,
   "id": "d3bb1002-f65f-46d4-8a10-207612840bab",
   "metadata": {},
   "outputs": [
    {
     "name": "stdout",
     "output_type": "stream",
     "text": [
      "F1 'DummyClassifier' тестовой выборки: 0.1704134570036158 \n"
     ]
    }
   ],
   "source": [
    "# активируем модель \n",
    "model_DC = DummyClassifier(strategy='uniform', random_state=RAND_ST) \n",
    "\n",
    "# получаем предсказание\n",
    "F1_test_DC = ML_score_test(model_DC,\n",
    "                           train_features_tf_idf, \n",
    "                           train_target,\n",
    "                           test_features_tf_idf, \n",
    "                           test_target)\n",
    "\n",
    "# выводим результат\n",
    "print(f\"F1 'DummyClassifier' тестовой выборки: {F1_test_DC} \")"
   ]
  },
  {
   "cell_type": "markdown",
   "id": "39e735fe-b36c-4dc0-89b4-7ac62d2cd467",
   "metadata": {},
   "source": [
    "- Судя по оценке, модель вменяема. "
   ]
  },
  {
   "cell_type": "markdown",
   "id": "9e3ef6d2-41ab-4abf-bc8f-08951b48aa84",
   "metadata": {},
   "source": [
    "### Вывод\n",
    "\n",
    "-  Обучили несколько моделей с разными методами предобработки, проверили качество на валидационной выборке. Выбрали модель с лучшей метрикой и проверили ее на тестовой выборке. \n",
    "\n",
    "- Показатель F1  Логистическая регрессия с TF-IDF на тесте - 0.7613.\n",
    "\n",
    "- C BERT на трейне у моделей метрики получились выше, но на валидации - ниже.  "
   ]
  },
  {
   "cell_type": "markdown",
   "id": "eda32b48-cd46-4581-b0f1-49a10ac25d5a",
   "metadata": {},
   "source": [
    "## Общий вывод"
   ]
  },
  {
   "cell_type": "markdown",
   "id": "11f5f948-5191-4b51-9c39-e9cb92791e82",
   "metadata": {},
   "source": [
    "- В процессе работы над проектом мы:\n",
    "  - Загрузили данные и провели их подготовку двумя методами: TF-IDF и BERT. \n",
    "  - На подготовленных по-разному данных обучили разные модели : LogisticRegression, RandomForestClassificier и CatBoostClassificier. Для каждой модели попробовали разные гиперпараметры.\n",
    "  - Проверили качество лучшей модели на тестовой выборке;\n",
    "  - Сделали общий и промежуточные выводы.\n",
    "\n",
    "**Резюме:**\n",
    "Быстрее и лучше других с задачей справилась модель LogisticRegression с TF-IDF, показав лучшее качество предсказания на тестовой выборке (**F1 - 0.7613**). Модель вменяема. Ее можно рекомендовать сервису. "
   ]
  },
  {
   "cell_type": "code",
   "execution_count": null,
   "id": "df44c0d6-da1f-4791-8265-226bc99497ca",
   "metadata": {},
   "outputs": [],
   "source": []
  }
 ],
 "metadata": {
  "kernelspec": {
   "display_name": "Python 3 (ipykernel)",
   "language": "python",
   "name": "python3"
  },
  "language_info": {
   "codemirror_mode": {
    "name": "ipython",
    "version": 3
   },
   "file_extension": ".py",
   "mimetype": "text/x-python",
   "name": "python",
   "nbconvert_exporter": "python",
   "pygments_lexer": "ipython3",
   "version": "3.9.5"
  },
  "toc": {
   "base_numbering": 1,
   "nav_menu": {},
   "number_sections": true,
   "sideBar": true,
   "skip_h1_title": true,
   "title_cell": "Table of Contents",
   "title_sidebar": "Contents",
   "toc_cell": false,
   "toc_position": {},
   "toc_section_display": true,
   "toc_window_display": true
  },
  "toc-autonumbering": false
 },
 "nbformat": 4,
 "nbformat_minor": 5
}
