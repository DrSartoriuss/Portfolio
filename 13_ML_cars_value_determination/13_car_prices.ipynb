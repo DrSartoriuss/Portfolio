{
 "cells": [
  {
   "cell_type": "markdown",
   "metadata": {},
   "source": [
    "# Определение стоимости автомобилей"
   ]
  },
  {
   "cell_type": "markdown",
   "metadata": {},
   "source": [
    "##  Введение\n",
    "\n",
    "Сервис по продаже автомобилей с пробегом «Не бит, не крашен» разрабатывает приложение для привлечения новых клиентов. В нём можно быстро узнать рыночную стоимость своего автомобиля. В нашем распоряжении исторические данные: технические характеристики, комплектации и цены автомобилей. \n",
    "\n",
    "**Цель проекта:**\n",
    "\n",
    "- Построить модель для определения рыночной стоимости автомобиля. \n",
    "\n",
    "*Заказчику важны:*\n",
    "\n",
    "- качество предсказания;\n",
    "- скорость предсказания;\n",
    "- время обучения."
   ]
  },
  {
   "cell_type": "markdown",
   "metadata": {},
   "source": [
    "**План выполнения проекта:**\n",
    "\n",
    "\n",
    "   - Загрузить и изучить данные.\n",
    "   \n",
    "   \n",
    "   - Провести предобработку: заполнить пропуски, обработать аномалии,  удалить неинформативные признаки.\n",
    "   \n",
    "   \n",
    "   - Подготовить выборки для обучения моделей.\n",
    "   \n",
    "   \n",
    "   - Обучить разные модели, одна из которых — LightGBM, как минимум одна — не бустинг. Для каждой модели попробовать разные гиперпараметры.\n",
    "   \n",
    "   \n",
    "   - Проанализировать время обучения, время предсказания и качество моделей метрикой RMSE. Добиться значения метрики менее 2500. \n",
    "   \n",
    "   \n",
    "   - Выбрать лучшую модель, опираясь на критерии заказчика.\n",
    "\n",
    "\n",
    "   - Проверить качество лучшей модели на тестовой выборке.\n",
    "   \n",
    "   \n",
    "   - Написать промежуточный и общий выводы."
   ]
  },
  {
   "cell_type": "markdown",
   "metadata": {},
   "source": [
    "**Описание данных:**\n",
    "\n",
    "\n",
    "   **Признаки:**\n",
    "\n",
    "   - *DateCrawled — дата скачивания анкеты из базы*\n",
    "      \n",
    "   - *VehicleType — тип автомобильного кузова*\n",
    "      \n",
    "   - *RegistrationYear — год регистрации автомобиля*\n",
    "      \n",
    "   - *Gearbox — тип коробки передач*\n",
    "      \n",
    "   - *Power — мощность (л. с.)*\n",
    "      \n",
    "   - *Model — модель автомобиля*\n",
    "      \n",
    "   - *Kilometer — пробег (км)*\n",
    "      \n",
    "   - *RegistrationMonth — месяц регистрации автомобиля*\n",
    "      \n",
    "   - *FuelType — тип топлива*\n",
    "      \n",
    "   - *Brand — марка автомобиля*\n",
    "      \n",
    "   - *Repaired — была машина в ремонте или нет*\n",
    "      \n",
    "   - *DateCreated — дата создания анкеты*\n",
    "      \n",
    "   - *NumberOfPictures — количество фотографий автомобиля*\n",
    "      \n",
    "   - *PostalCode — почтовый индекс владельца анкеты (пользователя)*\n",
    "      \n",
    "   - *LastSeen — дата последней активности пользователя*\n",
    "   \n",
    "   \n",
    "   **Целевой признак**\n",
    "       \n",
    "   - *Price — цена (евро)*"
   ]
  },
  {
   "cell_type": "markdown",
   "metadata": {},
   "source": [
    "## Загрузка и изучение данных"
   ]
  },
  {
   "cell_type": "code",
   "execution_count": 1,
   "metadata": {},
   "outputs": [],
   "source": [
    "#! pip install phik==0.9.7 -q"
   ]
  },
  {
   "cell_type": "code",
   "execution_count": 2,
   "metadata": {},
   "outputs": [],
   "source": [
    "#! pip install --upgrade scikit-learn -q # -q убирает необязательные выводы в командах Linux"
   ]
  },
  {
   "cell_type": "code",
   "execution_count": 3,
   "metadata": {},
   "outputs": [],
   "source": [
    "# загружаем библиотеки\n",
    "import pandas as pd\n",
    "import numpy as np\n",
    "import seaborn as sns\n",
    "import matplotlib.pyplot as plt\n",
    "import phik\n",
    "import time\n",
    "import warnings\n",
    "\n",
    "from sklearn.model_selection import train_test_split \n",
    "\n",
    "from sklearn.experimental import enable_halving_search_cv\n",
    "from sklearn.model_selection import HalvingRandomSearchCV\n",
    "from sklearn.preprocessing import OneHotEncoder, OrdinalEncoder\n",
    "from sklearn.preprocessing import StandardScaler \n",
    "\n",
    "from sklearn.compose import ColumnTransformer\n",
    "\n",
    "from sklearn.linear_model import LinearRegression \n",
    "from sklearn.tree import DecisionTreeRegressor\n",
    "from lightgbm import LGBMRegressor\n",
    "from catboost import CatBoostRegressor\n",
    "\n",
    "from sklearn.metrics import mean_squared_error, root_mean_squared_error\n",
    "\n",
    "# настраиваем отображение \n",
    "pd.set_option('display.max_columns', 20)\n",
    "pd.set_option('display.max_rows', 250)\n",
    "#pd.set_option('max_seq_items', 250)\n",
    "#pd.set_option('max_colwidth', 20)\n",
    "pd.options.mode.chained_assignment = None\n",
    "warnings.filterwarnings('ignore')"
   ]
  },
  {
   "cell_type": "code",
   "execution_count": 4,
   "metadata": {},
   "outputs": [],
   "source": [
    "# загружаем данные\n",
    "try:\n",
    "    data = pd.read_csv('/datasets/autos.csv')\n",
    "except:\n",
    "    data = pd.read_csv('/datasets/autos.csv')"
   ]
  },
  {
   "cell_type": "code",
   "execution_count": 5,
   "metadata": {
    "scrolled": true
   },
   "outputs": [
    {
     "name": "stdout",
     "output_type": "stream",
     "text": [
      "Датасет: data абсолютное количество явных дубликатов: 4\n",
      "Датасет: data относительное количество явных дубликатов: 1.1287669068118261e-05\n",
      "\n",
      "Датасет: data абсолютное количество пропусков:\n",
      "DateCrawled              0\n",
      "Price                    0\n",
      "RegistrationYear         0\n",
      "Power                    0\n",
      "Kilometer                0\n",
      "RegistrationMonth        0\n",
      "Brand                    0\n",
      "DateCreated              0\n",
      "NumberOfPictures         0\n",
      "PostalCode               0\n",
      "LastSeen                 0\n",
      "Model                19705\n",
      "Gearbox              19833\n",
      "FuelType             32895\n",
      "VehicleType          37490\n",
      "Repaired             71154\n",
      "dtype: int64\n",
      "\n",
      "Датасет: data относительное количество пропусков:\n",
      "DateCrawled          0.000000\n",
      "Price                0.000000\n",
      "RegistrationYear     0.000000\n",
      "Power                0.000000\n",
      "Kilometer            0.000000\n",
      "RegistrationMonth    0.000000\n",
      "Brand                0.000000\n",
      "DateCreated          0.000000\n",
      "NumberOfPictures     0.000000\n",
      "PostalCode           0.000000\n",
      "LastSeen             0.000000\n",
      "Model                0.055606\n",
      "Gearbox              0.055967\n",
      "FuelType             0.092827\n",
      "VehicleType          0.105794\n",
      "Repaired             0.200791\n",
      "dtype: float64\n"
     ]
    },
    {
     "data": {
      "text/html": [
       "<div>\n",
       "<style scoped>\n",
       "    .dataframe tbody tr th:only-of-type {\n",
       "        vertical-align: middle;\n",
       "    }\n",
       "\n",
       "    .dataframe tbody tr th {\n",
       "        vertical-align: top;\n",
       "    }\n",
       "\n",
       "    .dataframe thead th {\n",
       "        text-align: right;\n",
       "    }\n",
       "</style>\n",
       "<table border=\"1\" class=\"dataframe\">\n",
       "  <thead>\n",
       "    <tr style=\"text-align: right;\">\n",
       "      <th></th>\n",
       "      <th>DateCrawled</th>\n",
       "      <th>Price</th>\n",
       "      <th>VehicleType</th>\n",
       "      <th>RegistrationYear</th>\n",
       "      <th>Gearbox</th>\n",
       "      <th>Power</th>\n",
       "      <th>Model</th>\n",
       "      <th>Kilometer</th>\n",
       "      <th>RegistrationMonth</th>\n",
       "      <th>FuelType</th>\n",
       "      <th>Brand</th>\n",
       "      <th>Repaired</th>\n",
       "      <th>DateCreated</th>\n",
       "      <th>NumberOfPictures</th>\n",
       "      <th>PostalCode</th>\n",
       "      <th>LastSeen</th>\n",
       "    </tr>\n",
       "  </thead>\n",
       "  <tbody>\n",
       "    <tr>\n",
       "      <th>234136</th>\n",
       "      <td>2016-04-01 20:45:27</td>\n",
       "      <td>550</td>\n",
       "      <td>small</td>\n",
       "      <td>1996</td>\n",
       "      <td>manual</td>\n",
       "      <td>54</td>\n",
       "      <td>twingo</td>\n",
       "      <td>80000</td>\n",
       "      <td>1</td>\n",
       "      <td>petrol</td>\n",
       "      <td>renault</td>\n",
       "      <td>no</td>\n",
       "      <td>2016-04-01 00:00:00</td>\n",
       "      <td>0</td>\n",
       "      <td>96450</td>\n",
       "      <td>2016-04-05 17:45:58</td>\n",
       "    </tr>\n",
       "    <tr>\n",
       "      <th>75293</th>\n",
       "      <td>2016-03-18 17:06:23</td>\n",
       "      <td>4250</td>\n",
       "      <td>sedan</td>\n",
       "      <td>2006</td>\n",
       "      <td>manual</td>\n",
       "      <td>105</td>\n",
       "      <td>astra</td>\n",
       "      <td>125000</td>\n",
       "      <td>10</td>\n",
       "      <td>petrol</td>\n",
       "      <td>opel</td>\n",
       "      <td>no</td>\n",
       "      <td>2016-03-18 00:00:00</td>\n",
       "      <td>0</td>\n",
       "      <td>65428</td>\n",
       "      <td>2016-03-29 20:17:37</td>\n",
       "    </tr>\n",
       "    <tr>\n",
       "      <th>302889</th>\n",
       "      <td>2016-03-08 17:48:48</td>\n",
       "      <td>990</td>\n",
       "      <td>wagon</td>\n",
       "      <td>1997</td>\n",
       "      <td>NaN</td>\n",
       "      <td>105</td>\n",
       "      <td>NaN</td>\n",
       "      <td>150000</td>\n",
       "      <td>4</td>\n",
       "      <td>petrol</td>\n",
       "      <td>bmw</td>\n",
       "      <td>NaN</td>\n",
       "      <td>2016-03-08 00:00:00</td>\n",
       "      <td>0</td>\n",
       "      <td>70439</td>\n",
       "      <td>2016-04-07 08:15:25</td>\n",
       "    </tr>\n",
       "    <tr>\n",
       "      <th>3544</th>\n",
       "      <td>2016-03-22 07:53:11</td>\n",
       "      <td>15450</td>\n",
       "      <td>suv</td>\n",
       "      <td>2011</td>\n",
       "      <td>manual</td>\n",
       "      <td>173</td>\n",
       "      <td>cx_reihe</td>\n",
       "      <td>90000</td>\n",
       "      <td>11</td>\n",
       "      <td>gasoline</td>\n",
       "      <td>mazda</td>\n",
       "      <td>no</td>\n",
       "      <td>2016-03-22 00:00:00</td>\n",
       "      <td>0</td>\n",
       "      <td>26919</td>\n",
       "      <td>2016-04-07 11:17:30</td>\n",
       "    </tr>\n",
       "    <tr>\n",
       "      <th>272832</th>\n",
       "      <td>2016-03-20 12:48:06</td>\n",
       "      <td>690</td>\n",
       "      <td>NaN</td>\n",
       "      <td>2017</td>\n",
       "      <td>auto</td>\n",
       "      <td>0</td>\n",
       "      <td>golf</td>\n",
       "      <td>125000</td>\n",
       "      <td>6</td>\n",
       "      <td>petrol</td>\n",
       "      <td>volkswagen</td>\n",
       "      <td>NaN</td>\n",
       "      <td>2016-03-20 00:00:00</td>\n",
       "      <td>0</td>\n",
       "      <td>44801</td>\n",
       "      <td>2016-03-20 12:48:06</td>\n",
       "    </tr>\n",
       "  </tbody>\n",
       "</table>\n",
       "</div>"
      ],
      "text/plain": [
       "                DateCrawled  Price VehicleType  RegistrationYear Gearbox  \\\n",
       "234136  2016-04-01 20:45:27    550       small              1996  manual   \n",
       "75293   2016-03-18 17:06:23   4250       sedan              2006  manual   \n",
       "302889  2016-03-08 17:48:48    990       wagon              1997     NaN   \n",
       "3544    2016-03-22 07:53:11  15450         suv              2011  manual   \n",
       "272832  2016-03-20 12:48:06    690         NaN              2017    auto   \n",
       "\n",
       "        Power     Model  Kilometer  RegistrationMonth  FuelType       Brand  \\\n",
       "234136     54    twingo      80000                  1    petrol     renault   \n",
       "75293     105     astra     125000                 10    petrol        opel   \n",
       "302889    105       NaN     150000                  4    petrol         bmw   \n",
       "3544      173  cx_reihe      90000                 11  gasoline       mazda   \n",
       "272832      0      golf     125000                  6    petrol  volkswagen   \n",
       "\n",
       "       Repaired          DateCreated  NumberOfPictures  PostalCode  \\\n",
       "234136       no  2016-04-01 00:00:00                 0       96450   \n",
       "75293        no  2016-03-18 00:00:00                 0       65428   \n",
       "302889      NaN  2016-03-08 00:00:00                 0       70439   \n",
       "3544         no  2016-03-22 00:00:00                 0       26919   \n",
       "272832      NaN  2016-03-20 00:00:00                 0       44801   \n",
       "\n",
       "                   LastSeen  \n",
       "234136  2016-04-05 17:45:58  \n",
       "75293   2016-03-29 20:17:37  \n",
       "302889  2016-04-07 08:15:25  \n",
       "3544    2016-04-07 11:17:30  \n",
       "272832  2016-03-20 12:48:06  "
      ]
     },
     "metadata": {},
     "output_type": "display_data"
    },
    {
     "name": "stdout",
     "output_type": "stream",
     "text": [
      "\n",
      "<class 'pandas.core.frame.DataFrame'>\n",
      "RangeIndex: 354369 entries, 0 to 354368\n",
      "Data columns (total 16 columns):\n",
      " #   Column             Non-Null Count   Dtype \n",
      "---  ------             --------------   ----- \n",
      " 0   DateCrawled        354369 non-null  object\n",
      " 1   Price              354369 non-null  int64 \n",
      " 2   VehicleType        316879 non-null  object\n",
      " 3   RegistrationYear   354369 non-null  int64 \n",
      " 4   Gearbox            334536 non-null  object\n",
      " 5   Power              354369 non-null  int64 \n",
      " 6   Model              334664 non-null  object\n",
      " 7   Kilometer          354369 non-null  int64 \n",
      " 8   RegistrationMonth  354369 non-null  int64 \n",
      " 9   FuelType           321474 non-null  object\n",
      " 10  Brand              354369 non-null  object\n",
      " 11  Repaired           283215 non-null  object\n",
      " 12  DateCreated        354369 non-null  object\n",
      " 13  NumberOfPictures   354369 non-null  int64 \n",
      " 14  PostalCode         354369 non-null  int64 \n",
      " 15  LastSeen           354369 non-null  object\n",
      "dtypes: int64(7), object(9)\n",
      "memory usage: 43.3+ MB\n"
     ]
    }
   ],
   "source": [
    "# знакомимся с данными, выводим пять случайных строк, явные и относительные дубликаты и пропуски\n",
    "def data_info(data):\n",
    "    d = {'data' : data}\n",
    "    for a, i in d.items():\n",
    "        # дубликаты\n",
    "        print('Датасет:',a,'абсолютное количество явных дубликатов:',i.duplicated().sum())    \n",
    "        print('Датасет:',a,'относительное количество явных дубликатов:',i.duplicated().sum()/data.shape[0])\n",
    "        print()\n",
    "        # пропуски\n",
    "        print('Датасет:',a,'абсолютное количество пропусков:')\n",
    "        print(i.isna().sum().sort_values()) \n",
    "        print()\n",
    "        print('Датасет:',a,'относительное количество пропусков:')    \n",
    "        print((i.isna().sum()/data.shape[0]).sort_values())\n",
    "        # строки и инфо\n",
    "        display(i.sample(5))\n",
    "        print()\n",
    "        i.info()\n",
    "# выводим         \n",
    "data_info(data)  "
   ]
  },
  {
   "cell_type": "code",
   "execution_count": 6,
   "metadata": {},
   "outputs": [
    {
     "data": {
      "text/html": [
       "<div>\n",
       "<style scoped>\n",
       "    .dataframe tbody tr th:only-of-type {\n",
       "        vertical-align: middle;\n",
       "    }\n",
       "\n",
       "    .dataframe tbody tr th {\n",
       "        vertical-align: top;\n",
       "    }\n",
       "\n",
       "    .dataframe thead th {\n",
       "        text-align: right;\n",
       "    }\n",
       "</style>\n",
       "<table border=\"1\" class=\"dataframe\">\n",
       "  <thead>\n",
       "    <tr style=\"text-align: right;\">\n",
       "      <th></th>\n",
       "      <th>DateCrawled</th>\n",
       "      <th>Price</th>\n",
       "      <th>VehicleType</th>\n",
       "      <th>RegistrationYear</th>\n",
       "      <th>Gearbox</th>\n",
       "      <th>Power</th>\n",
       "      <th>Model</th>\n",
       "      <th>Kilometer</th>\n",
       "      <th>RegistrationMonth</th>\n",
       "      <th>FuelType</th>\n",
       "      <th>Brand</th>\n",
       "      <th>Repaired</th>\n",
       "      <th>DateCreated</th>\n",
       "      <th>NumberOfPictures</th>\n",
       "      <th>PostalCode</th>\n",
       "      <th>LastSeen</th>\n",
       "    </tr>\n",
       "  </thead>\n",
       "  <tbody>\n",
       "    <tr>\n",
       "      <th>88087</th>\n",
       "      <td>2016-03-08 18:42:48</td>\n",
       "      <td>1799</td>\n",
       "      <td>coupe</td>\n",
       "      <td>1999</td>\n",
       "      <td>auto</td>\n",
       "      <td>193</td>\n",
       "      <td>clk</td>\n",
       "      <td>20000</td>\n",
       "      <td>7</td>\n",
       "      <td>petrol</td>\n",
       "      <td>mercedes_benz</td>\n",
       "      <td>no</td>\n",
       "      <td>2016-03-08 00:00:00</td>\n",
       "      <td>0</td>\n",
       "      <td>89518</td>\n",
       "      <td>2016-03-09 09:46:57</td>\n",
       "    </tr>\n",
       "    <tr>\n",
       "      <th>171088</th>\n",
       "      <td>2016-03-08 18:42:48</td>\n",
       "      <td>1799</td>\n",
       "      <td>coupe</td>\n",
       "      <td>1999</td>\n",
       "      <td>auto</td>\n",
       "      <td>193</td>\n",
       "      <td>clk</td>\n",
       "      <td>20000</td>\n",
       "      <td>7</td>\n",
       "      <td>petrol</td>\n",
       "      <td>mercedes_benz</td>\n",
       "      <td>no</td>\n",
       "      <td>2016-03-08 00:00:00</td>\n",
       "      <td>0</td>\n",
       "      <td>89518</td>\n",
       "      <td>2016-03-09 09:46:57</td>\n",
       "    </tr>\n",
       "    <tr>\n",
       "      <th>41529</th>\n",
       "      <td>2016-03-18 18:46:15</td>\n",
       "      <td>1999</td>\n",
       "      <td>wagon</td>\n",
       "      <td>2001</td>\n",
       "      <td>manual</td>\n",
       "      <td>131</td>\n",
       "      <td>passat</td>\n",
       "      <td>150000</td>\n",
       "      <td>7</td>\n",
       "      <td>gasoline</td>\n",
       "      <td>volkswagen</td>\n",
       "      <td>no</td>\n",
       "      <td>2016-03-18 00:00:00</td>\n",
       "      <td>0</td>\n",
       "      <td>36391</td>\n",
       "      <td>2016-03-18 18:46:15</td>\n",
       "    </tr>\n",
       "    <tr>\n",
       "      <th>325651</th>\n",
       "      <td>2016-03-18 18:46:15</td>\n",
       "      <td>1999</td>\n",
       "      <td>wagon</td>\n",
       "      <td>2001</td>\n",
       "      <td>manual</td>\n",
       "      <td>131</td>\n",
       "      <td>passat</td>\n",
       "      <td>150000</td>\n",
       "      <td>7</td>\n",
       "      <td>gasoline</td>\n",
       "      <td>volkswagen</td>\n",
       "      <td>no</td>\n",
       "      <td>2016-03-18 00:00:00</td>\n",
       "      <td>0</td>\n",
       "      <td>36391</td>\n",
       "      <td>2016-03-18 18:46:15</td>\n",
       "    </tr>\n",
       "    <tr>\n",
       "      <th>90964</th>\n",
       "      <td>2016-03-28 00:56:10</td>\n",
       "      <td>1000</td>\n",
       "      <td>small</td>\n",
       "      <td>2002</td>\n",
       "      <td>manual</td>\n",
       "      <td>83</td>\n",
       "      <td>other</td>\n",
       "      <td>150000</td>\n",
       "      <td>1</td>\n",
       "      <td>petrol</td>\n",
       "      <td>suzuki</td>\n",
       "      <td>no</td>\n",
       "      <td>2016-03-28 00:00:00</td>\n",
       "      <td>0</td>\n",
       "      <td>66589</td>\n",
       "      <td>2016-03-28 08:46:21</td>\n",
       "    </tr>\n",
       "    <tr>\n",
       "      <th>231258</th>\n",
       "      <td>2016-03-28 00:56:10</td>\n",
       "      <td>1000</td>\n",
       "      <td>small</td>\n",
       "      <td>2002</td>\n",
       "      <td>manual</td>\n",
       "      <td>83</td>\n",
       "      <td>other</td>\n",
       "      <td>150000</td>\n",
       "      <td>1</td>\n",
       "      <td>petrol</td>\n",
       "      <td>suzuki</td>\n",
       "      <td>no</td>\n",
       "      <td>2016-03-28 00:00:00</td>\n",
       "      <td>0</td>\n",
       "      <td>66589</td>\n",
       "      <td>2016-03-28 08:46:21</td>\n",
       "    </tr>\n",
       "    <tr>\n",
       "      <th>187735</th>\n",
       "      <td>2016-04-03 09:01:15</td>\n",
       "      <td>4699</td>\n",
       "      <td>coupe</td>\n",
       "      <td>2003</td>\n",
       "      <td>auto</td>\n",
       "      <td>218</td>\n",
       "      <td>clk</td>\n",
       "      <td>125000</td>\n",
       "      <td>6</td>\n",
       "      <td>petrol</td>\n",
       "      <td>mercedes_benz</td>\n",
       "      <td>yes</td>\n",
       "      <td>2016-04-03 00:00:00</td>\n",
       "      <td>0</td>\n",
       "      <td>75196</td>\n",
       "      <td>2016-04-07 09:44:54</td>\n",
       "    </tr>\n",
       "    <tr>\n",
       "      <th>258109</th>\n",
       "      <td>2016-04-03 09:01:15</td>\n",
       "      <td>4699</td>\n",
       "      <td>coupe</td>\n",
       "      <td>2003</td>\n",
       "      <td>auto</td>\n",
       "      <td>218</td>\n",
       "      <td>clk</td>\n",
       "      <td>125000</td>\n",
       "      <td>6</td>\n",
       "      <td>petrol</td>\n",
       "      <td>mercedes_benz</td>\n",
       "      <td>yes</td>\n",
       "      <td>2016-04-03 00:00:00</td>\n",
       "      <td>0</td>\n",
       "      <td>75196</td>\n",
       "      <td>2016-04-07 09:44:54</td>\n",
       "    </tr>\n",
       "  </tbody>\n",
       "</table>\n",
       "</div>"
      ],
      "text/plain": [
       "                DateCrawled  Price VehicleType  RegistrationYear Gearbox  \\\n",
       "88087   2016-03-08 18:42:48   1799       coupe              1999    auto   \n",
       "171088  2016-03-08 18:42:48   1799       coupe              1999    auto   \n",
       "41529   2016-03-18 18:46:15   1999       wagon              2001  manual   \n",
       "325651  2016-03-18 18:46:15   1999       wagon              2001  manual   \n",
       "90964   2016-03-28 00:56:10   1000       small              2002  manual   \n",
       "231258  2016-03-28 00:56:10   1000       small              2002  manual   \n",
       "187735  2016-04-03 09:01:15   4699       coupe              2003    auto   \n",
       "258109  2016-04-03 09:01:15   4699       coupe              2003    auto   \n",
       "\n",
       "        Power   Model  Kilometer  RegistrationMonth  FuelType          Brand  \\\n",
       "88087     193     clk      20000                  7    petrol  mercedes_benz   \n",
       "171088    193     clk      20000                  7    petrol  mercedes_benz   \n",
       "41529     131  passat     150000                  7  gasoline     volkswagen   \n",
       "325651    131  passat     150000                  7  gasoline     volkswagen   \n",
       "90964      83   other     150000                  1    petrol         suzuki   \n",
       "231258     83   other     150000                  1    petrol         suzuki   \n",
       "187735    218     clk     125000                  6    petrol  mercedes_benz   \n",
       "258109    218     clk     125000                  6    petrol  mercedes_benz   \n",
       "\n",
       "       Repaired          DateCreated  NumberOfPictures  PostalCode  \\\n",
       "88087        no  2016-03-08 00:00:00                 0       89518   \n",
       "171088       no  2016-03-08 00:00:00                 0       89518   \n",
       "41529        no  2016-03-18 00:00:00                 0       36391   \n",
       "325651       no  2016-03-18 00:00:00                 0       36391   \n",
       "90964        no  2016-03-28 00:00:00                 0       66589   \n",
       "231258       no  2016-03-28 00:00:00                 0       66589   \n",
       "187735      yes  2016-04-03 00:00:00                 0       75196   \n",
       "258109      yes  2016-04-03 00:00:00                 0       75196   \n",
       "\n",
       "                   LastSeen  \n",
       "88087   2016-03-09 09:46:57  \n",
       "171088  2016-03-09 09:46:57  \n",
       "41529   2016-03-18 18:46:15  \n",
       "325651  2016-03-18 18:46:15  \n",
       "90964   2016-03-28 08:46:21  \n",
       "231258  2016-03-28 08:46:21  \n",
       "187735  2016-04-07 09:44:54  \n",
       "258109  2016-04-07 09:44:54  "
      ]
     },
     "execution_count": 6,
     "metadata": {},
     "output_type": "execute_result"
    }
   ],
   "source": [
    "# выводим строки с полными дубликатами\n",
    "data[data.duplicated(keep=False)].sort_values(by='DateCrawled')"
   ]
  },
  {
   "cell_type": "code",
   "execution_count": 7,
   "metadata": {
    "scrolled": true
   },
   "outputs": [
    {
     "name": "stdout",
     "output_type": "stream",
     "text": [
      "0\n",
      "<class 'pandas.core.frame.DataFrame'>\n",
      "RangeIndex: 354365 entries, 0 to 354364\n",
      "Data columns (total 16 columns):\n",
      " #   Column             Non-Null Count   Dtype \n",
      "---  ------             --------------   ----- \n",
      " 0   DateCrawled        354365 non-null  object\n",
      " 1   Price              354365 non-null  int64 \n",
      " 2   VehicleType        316875 non-null  object\n",
      " 3   RegistrationYear   354365 non-null  int64 \n",
      " 4   Gearbox            334532 non-null  object\n",
      " 5   Power              354365 non-null  int64 \n",
      " 6   Model              334660 non-null  object\n",
      " 7   Kilometer          354365 non-null  int64 \n",
      " 8   RegistrationMonth  354365 non-null  int64 \n",
      " 9   FuelType           321470 non-null  object\n",
      " 10  Brand              354365 non-null  object\n",
      " 11  Repaired           283211 non-null  object\n",
      " 12  DateCreated        354365 non-null  object\n",
      " 13  NumberOfPictures   354365 non-null  int64 \n",
      " 14  PostalCode         354365 non-null  int64 \n",
      " 15  LastSeen           354365 non-null  object\n",
      "dtypes: int64(7), object(9)\n",
      "memory usage: 43.3+ MB\n"
     ]
    }
   ],
   "source": [
    "# удаляем дубликаты\n",
    "data.drop_duplicates(inplace=True, ignore_index=True)\n",
    "\n",
    "#проверяем\n",
    "print(data.duplicated().sum())\n",
    "data.info()"
   ]
  },
  {
   "cell_type": "code",
   "execution_count": 8,
   "metadata": {
    "scrolled": true
   },
   "outputs": [
    {
     "name": "stdout",
     "output_type": "stream",
     "text": [
      "Уникальные значения столбца: VehicleType\n",
      "[nan 'coupe' 'suv' 'small' 'sedan' 'convertible' 'bus' 'wagon' 'other']\n",
      "Количество уникальных значений столбца: VehicleType\n",
      "8\n",
      "Относительное распределение уникальных значений столбца: VehicleType\n",
      "sedan          0.288622\n",
      "small          0.251929\n",
      "wagon          0.205649\n",
      "bus            0.090809\n",
      "convertible    0.063757\n",
      "coupe          0.051001\n",
      "suv            0.037857\n",
      "other          0.010376\n",
      "Name: VehicleType, dtype: float64\n",
      "\n",
      "Уникальные значения столбца: Gearbox\n",
      "['manual' 'auto' nan]\n",
      "Количество уникальных значений столбца: Gearbox\n",
      "2\n",
      "Относительное распределение уникальных значений столбца: Gearbox\n",
      "manual    0.801863\n",
      "auto      0.198137\n",
      "Name: Gearbox, dtype: float64\n",
      "\n",
      "Уникальные значения столбца: Model\n",
      "['golf' nan 'grand' 'fabia' '3er' '2_reihe' 'other' 'c_max' '3_reihe'\n",
      " 'passat' 'navara' 'ka' 'polo' 'twingo' 'a_klasse' 'scirocco' '5er'\n",
      " 'meriva' 'arosa' 'c4' 'civic' 'transporter' 'punto' 'e_klasse' 'clio'\n",
      " 'kadett' 'kangoo' 'corsa' 'one' 'fortwo' '1er' 'b_klasse' 'signum'\n",
      " 'astra' 'a8' 'jetta' 'fiesta' 'c_klasse' 'micra' 'vito' 'sprinter' '156'\n",
      " 'escort' 'forester' 'xc_reihe' 'scenic' 'a4' 'a1' 'insignia' 'combo'\n",
      " 'focus' 'tt' 'a6' 'jazz' 'omega' 'slk' '7er' '80' '147' '100' 'z_reihe'\n",
      " 'sportage' 'sorento' 'v40' 'ibiza' 'mustang' 'eos' 'touran' 'getz' 'a3'\n",
      " 'almera' 'megane' 'lupo' 'r19' 'zafira' 'caddy' 'mondeo' 'cordoba' 'colt'\n",
      " 'impreza' 'vectra' 'berlingo' 'tiguan' 'i_reihe' 'espace' 'sharan'\n",
      " '6_reihe' 'panda' 'up' 'seicento' 'ceed' '5_reihe' 'yeti' 'octavia' 'mii'\n",
      " 'rx_reihe' '6er' 'modus' 'fox' 'matiz' 'beetle' 'c1' 'rio' 'touareg'\n",
      " 'logan' 'spider' 'cuore' 's_max' 'a2' 'galaxy' 'c3' 'viano' 's_klasse'\n",
      " '1_reihe' 'avensis' 'roomster' 'sl' 'kaefer' 'santa' 'cooper' 'leon'\n",
      " '4_reihe' 'a5' '500' 'laguna' 'ptcruiser' 'clk' 'primera' 'x_reihe'\n",
      " 'exeo' '159' 'transit' 'juke' 'qashqai' 'carisma' 'accord' 'corolla'\n",
      " 'lanos' 'phaeton' 'verso' 'swift' 'rav' 'picanto' 'boxster' 'kalos'\n",
      " 'superb' 'stilo' 'alhambra' 'mx_reihe' 'roadster' 'ypsilon' 'cayenne'\n",
      " 'galant' 'justy' '90' 'sirion' 'crossfire' 'agila' 'duster' 'cr_reihe'\n",
      " 'v50' 'c_reihe' 'v_klasse' 'm_klasse' 'yaris' 'c5' 'aygo' 'cc' 'carnival'\n",
      " 'fusion' '911' 'bora' 'forfour' 'm_reihe' 'cl' 'tigra' '300c' 'spark'\n",
      " 'v70' 'kuga' 'x_type' 'ducato' 's_type' 'x_trail' 'toledo' 'altea'\n",
      " 'voyager' 'calibra' 'bravo' 'antara' 'tucson' 'citigo' 'jimny' 'wrangler'\n",
      " 'lybra' 'q7' 'lancer' 'captiva' 'c2' 'discovery' 'freelander' 'sandero'\n",
      " 'note' '900' 'cherokee' 'clubman' 'samara' 'defender' '601' 'cx_reihe'\n",
      " 'legacy' 'pajero' 'auris' 'niva' 's60' 'nubira' 'vivaro' 'g_klasse'\n",
      " 'lodgy' '850' 'range_rover' 'q3' 'serie_2' 'glk' 'charade' 'croma'\n",
      " 'outlander' 'doblo' 'musa' 'move' '9000' 'v60' '145' 'aveo' '200' 'b_max'\n",
      " 'range_rover_sport' 'terios' 'rangerover' 'q5' 'range_rover_evoque'\n",
      " 'materia' 'delta' 'gl' 'kalina' 'amarok' 'elefantino' 'i3' 'kappa'\n",
      " 'serie_3' 'serie_1']\n",
      "Количество уникальных значений столбца: Model\n",
      "250\n",
      "Относительное распределение уникальных значений столбца: Model\n",
      "golf                  0.087348\n",
      "other                 0.072970\n",
      "3er                   0.059048\n",
      "polo                  0.039043\n",
      "corsa                 0.037561\n",
      "astra                 0.032298\n",
      "passat                0.030314\n",
      "a4                    0.029582\n",
      "c_klasse              0.024837\n",
      "5er                   0.023510\n",
      "e_klasse              0.020274\n",
      "a3                    0.018293\n",
      "focus                 0.017552\n",
      "fiesta                0.017253\n",
      "a6                    0.016557\n",
      "twingo                0.014800\n",
      "transporter           0.014409\n",
      "2_reihe               0.014391\n",
      "fortwo                0.012959\n",
      "vectra                0.012711\n",
      "a_klasse              0.012529\n",
      "mondeo                0.010760\n",
      "clio                  0.010596\n",
      "1er                   0.010500\n",
      "3_reihe               0.010437\n",
      "touran                0.010369\n",
      "punto                 0.010001\n",
      "zafira                0.009096\n",
      "megane                0.008695\n",
      "ka                    0.008074\n",
      "ibiza                 0.008074\n",
      "lupo                  0.007751\n",
      "octavia               0.006299\n",
      "fabia                 0.006215\n",
      "cooper                0.005827\n",
      "clk                   0.005462\n",
      "micra                 0.005253\n",
      "80                    0.004793\n",
      "caddy                 0.004766\n",
      "x_reihe               0.004748\n",
      "sharan                0.004431\n",
      "scenic                0.004321\n",
      "omega                 0.004231\n",
      "laguna                0.004076\n",
      "civic                 0.004025\n",
      "1_reihe               0.003902\n",
      "leon                  0.003896\n",
      "6_reihe               0.003819\n",
      "i_reihe               0.003663\n",
      "slk                   0.003654\n",
      "galaxy                0.003454\n",
      "tt                    0.003215\n",
      "meriva                0.003143\n",
      "yaris                 0.003087\n",
      "7er                   0.003039\n",
      "mx_reihe              0.003030\n",
      "kangoo                0.002863\n",
      "m_klasse              0.002848\n",
      "500                   0.002749\n",
      "escort                0.002704\n",
      "arosa                 0.002686\n",
      "one                   0.002680\n",
      "s_klasse              0.002665\n",
      "vito                  0.002627\n",
      "b_klasse              0.002609\n",
      "bora                  0.002606\n",
      "colt                  0.002597\n",
      "berlingo              0.002462\n",
      "beetle                0.002435\n",
      "tigra                 0.002358\n",
      "v40                   0.002316\n",
      "sprinter              0.002313\n",
      "transit               0.002253\n",
      "fox                   0.002223\n",
      "z_reihe               0.002142\n",
      "swift                 0.002107\n",
      "c_max                 0.002050\n",
      "corolla               0.002044\n",
      "panda                 0.002020\n",
      "seicento              0.002002\n",
      "tiguan                0.001978\n",
      "insignia              0.001915\n",
      "4_reihe               0.001906\n",
      "v70                   0.001891\n",
      "156                   0.001880\n",
      "primera               0.001856\n",
      "espace                0.001841\n",
      "scirocco              0.001808\n",
      "stilo                 0.001802\n",
      "a1                    0.001778\n",
      "touareg               0.001751\n",
      "almera                0.001745\n",
      "147                   0.001709\n",
      "avensis               0.001688\n",
      "grand                 0.001676\n",
      "a5                    0.001629\n",
      "qashqai               0.001587\n",
      "a8                    0.001581\n",
      "eos                   0.001542\n",
      "c3                    0.001512\n",
      "signum                0.001473\n",
      "c5                    0.001464\n",
      "c4                    0.001327\n",
      "matiz                 0.001324\n",
      "5_reihe               0.001321\n",
      "kaefer                0.001321\n",
      "ducato                0.001300\n",
      "s_max                 0.001291\n",
      "agila                 0.001285\n",
      "aygo                  0.001285\n",
      "getz                  0.001261\n",
      "601                   0.001252\n",
      "combo                 0.001246\n",
      "100                   0.001246\n",
      "carisma               0.001237\n",
      "sl                    0.001204\n",
      "cordoba               0.001192\n",
      "c2                    0.001180\n",
      "c1                    0.001168\n",
      "forfour               0.001153\n",
      "rio                   0.001127\n",
      "jetta                 0.001121\n",
      "cuore                 0.001118\n",
      "a2                    0.001115\n",
      "altea                 0.001112\n",
      "superb                0.001094\n",
      "kadett                0.001088\n",
      "picanto               0.001082\n",
      "alhambra              0.001067\n",
      "accord                0.001049\n",
      "rav                   0.001046\n",
      "up                    0.001040\n",
      "cr_reihe              0.001031\n",
      "toledo                0.001025\n",
      "voyager               0.001022\n",
      "sorento               0.001019\n",
      "bravo                 0.000989\n",
      "doblo                 0.000971\n",
      "logan                 0.000962\n",
      "modus                 0.000959\n",
      "vivaro                0.000959\n",
      "kuga                  0.000956\n",
      "santa                 0.000935\n",
      "verso                 0.000923\n",
      "ptcruiser             0.000920\n",
      "jazz                  0.000902\n",
      "fusion                0.000896\n",
      "sandero               0.000881\n",
      "roomster              0.000825\n",
      "carnival              0.000816\n",
      "xc_reihe              0.000798\n",
      "viano                 0.000780\n",
      "galant                0.000768\n",
      "v50                   0.000762\n",
      "ceed                  0.000753\n",
      "sportage              0.000741\n",
      "auris                 0.000699\n",
      "cayenne               0.000693\n",
      "tucson                0.000690\n",
      "cl                    0.000687\n",
      "impreza               0.000672\n",
      "lancer                0.000663\n",
      "boxster               0.000660\n",
      "freelander            0.000651\n",
      "calibra               0.000648\n",
      "phaeton               0.000639\n",
      "159                   0.000633\n",
      "jimny                 0.000633\n",
      "850                   0.000633\n",
      "ypsilon               0.000625\n",
      "pajero                0.000622\n",
      "x_trail               0.000622\n",
      "q7                    0.000613\n",
      "duster                0.000610\n",
      "clubman               0.000601\n",
      "spider                0.000580\n",
      "c_reihe               0.000577\n",
      "roadster              0.000541\n",
      "mustang               0.000529\n",
      "yeti                  0.000520\n",
      "x_type                0.000517\n",
      "cherokee              0.000505\n",
      "captiva               0.000502\n",
      "legacy                0.000478\n",
      "6er                   0.000466\n",
      "v_klasse              0.000451\n",
      "s60                   0.000436\n",
      "300c                  0.000433\n",
      "rx_reihe              0.000424\n",
      "sirion                0.000415\n",
      "justy                 0.000415\n",
      "cc                    0.000409\n",
      "m_reihe               0.000394\n",
      "forester              0.000388\n",
      "note                  0.000388\n",
      "niva                  0.000385\n",
      "s_type                0.000382\n",
      "spark                 0.000374\n",
      "outlander             0.000368\n",
      "r19                   0.000368\n",
      "aveo                  0.000350\n",
      "900                   0.000347\n",
      "antara                0.000323\n",
      "wrangler              0.000308\n",
      "90                    0.000308\n",
      "juke                  0.000305\n",
      "exeo                  0.000299\n",
      "navara                0.000293\n",
      "q5                    0.000290\n",
      "g_klasse              0.000290\n",
      "kalos                 0.000284\n",
      "citigo                0.000272\n",
      "lanos                 0.000266\n",
      "911                   0.000251\n",
      "mii                   0.000242\n",
      "discovery             0.000236\n",
      "range_rover           0.000230\n",
      "defender              0.000227\n",
      "cx_reihe              0.000197\n",
      "glk                   0.000191\n",
      "crossfire             0.000191\n",
      "nubira                0.000185\n",
      "move                  0.000179\n",
      "lybra                 0.000161\n",
      "range_rover_sport     0.000161\n",
      "145                   0.000146\n",
      "croma                 0.000134\n",
      "v60                   0.000126\n",
      "terios                0.000105\n",
      "lodgy                 0.000105\n",
      "delta                 0.000105\n",
      "9000                  0.000093\n",
      "charade               0.000081\n",
      "b_max                 0.000078\n",
      "musa                  0.000075\n",
      "200                   0.000054\n",
      "materia               0.000054\n",
      "amarok                0.000048\n",
      "q3                    0.000045\n",
      "kappa                 0.000045\n",
      "gl                    0.000039\n",
      "samara                0.000039\n",
      "elefantino            0.000033\n",
      "kalina                0.000027\n",
      "serie_2               0.000024\n",
      "i3                    0.000024\n",
      "rangerover            0.000012\n",
      "serie_3               0.000012\n",
      "serie_1               0.000006\n",
      "range_rover_evoque    0.000006\n",
      "Name: Model, dtype: float64\n",
      "\n",
      "Уникальные значения столбца: FuelType\n",
      "['petrol' 'gasoline' nan 'lpg' 'other' 'hybrid' 'cng' 'electric']\n",
      "Количество уникальных значений столбца: FuelType\n",
      "7\n",
      "Относительное распределение уникальных значений столбца: FuelType\n",
      "petrol      0.672999\n",
      "gasoline    0.307086\n",
      "lpg         0.016518\n",
      "cng         0.001758\n",
      "hybrid      0.000725\n",
      "other       0.000635\n",
      "electric    0.000280\n",
      "Name: FuelType, dtype: float64\n",
      "\n",
      "Уникальные значения столбца: Brand\n",
      "['volkswagen' 'audi' 'jeep' 'skoda' 'bmw' 'peugeot' 'ford' 'mazda'\n",
      " 'nissan' 'renault' 'mercedes_benz' 'opel' 'seat' 'citroen' 'honda' 'fiat'\n",
      " 'mini' 'smart' 'hyundai' 'sonstige_autos' 'alfa_romeo' 'subaru' 'volvo'\n",
      " 'mitsubishi' 'kia' 'suzuki' 'lancia' 'toyota' 'chevrolet' 'dacia'\n",
      " 'daihatsu' 'trabant' 'saab' 'chrysler' 'jaguar' 'daewoo' 'porsche'\n",
      " 'rover' 'land_rover' 'lada']\n",
      "Количество уникальных значений столбца: Brand\n",
      "40\n",
      "Относительное распределение уникальных значений столбца: Brand\n",
      "volkswagen        0.217324\n",
      "opel              0.112683\n",
      "bmw               0.104169\n",
      "mercedes_benz     0.090427\n",
      "audi              0.083123\n",
      "ford              0.071054\n",
      "renault           0.050589\n",
      "peugeot           0.031036\n",
      "fiat              0.027212\n",
      "seat              0.019491\n",
      "mazda             0.015845\n",
      "skoda             0.015521\n",
      "smart             0.014804\n",
      "citroen           0.014527\n",
      "nissan            0.013943\n",
      "toyota            0.012998\n",
      "hyundai           0.010122\n",
      "sonstige_autos    0.009521\n",
      "volvo             0.009058\n",
      "mini              0.009036\n",
      "mitsubishi        0.008528\n",
      "honda             0.007949\n",
      "kia               0.006956\n",
      "suzuki            0.006553\n",
      "alfa_romeo        0.006530\n",
      "chevrolet         0.004950\n",
      "chrysler          0.004061\n",
      "dacia             0.002540\n",
      "daihatsu          0.002274\n",
      "subaru            0.002150\n",
      "porsche           0.002139\n",
      "jeep              0.001910\n",
      "trabant           0.001662\n",
      "land_rover        0.001538\n",
      "daewoo            0.001529\n",
      "saab              0.001484\n",
      "jaguar            0.001425\n",
      "rover             0.001371\n",
      "lancia            0.001329\n",
      "lada              0.000635\n",
      "Name: Brand, dtype: float64\n",
      "\n",
      "Уникальные значения столбца: Repaired\n",
      "[nan 'yes' 'no']\n",
      "Количество уникальных значений столбца: Repaired\n",
      "2\n",
      "Относительное распределение уникальных значений столбца: Repaired\n",
      "no     0.872699\n",
      "yes    0.127301\n",
      "Name: Repaired, dtype: float64\n",
      "\n",
      "Уникальные значения столбца: DateCreated\n",
      "['2016-03-24 00:00:00' '2016-03-14 00:00:00' '2016-03-17 00:00:00'\n",
      " '2016-03-31 00:00:00' '2016-04-04 00:00:00' '2016-04-01 00:00:00'\n",
      " '2016-03-21 00:00:00' '2016-03-26 00:00:00' '2016-04-07 00:00:00'\n",
      " '2016-03-15 00:00:00' '2016-03-11 00:00:00' '2016-03-20 00:00:00'\n",
      " '2016-03-23 00:00:00' '2016-03-27 00:00:00' '2016-03-12 00:00:00'\n",
      " '2016-03-13 00:00:00' '2016-03-18 00:00:00' '2016-03-10 00:00:00'\n",
      " '2016-03-07 00:00:00' '2016-03-09 00:00:00' '2016-03-08 00:00:00'\n",
      " '2016-04-03 00:00:00' '2016-03-29 00:00:00' '2016-03-25 00:00:00'\n",
      " '2016-03-28 00:00:00' '2016-03-30 00:00:00' '2016-03-22 00:00:00'\n",
      " '2016-02-09 00:00:00' '2016-03-05 00:00:00' '2016-04-02 00:00:00'\n",
      " '2016-03-16 00:00:00' '2016-03-19 00:00:00' '2016-04-05 00:00:00'\n",
      " '2016-03-06 00:00:00' '2016-02-12 00:00:00' '2016-03-03 00:00:00'\n",
      " '2016-03-01 00:00:00' '2016-03-04 00:00:00' '2016-04-06 00:00:00'\n",
      " '2016-02-15 00:00:00' '2016-02-24 00:00:00' '2016-02-27 00:00:00'\n",
      " '2015-03-20 00:00:00' '2016-02-28 00:00:00' '2016-02-17 00:00:00'\n",
      " '2016-01-27 00:00:00' '2016-02-20 00:00:00' '2016-02-29 00:00:00'\n",
      " '2016-02-10 00:00:00' '2016-02-23 00:00:00' '2016-02-21 00:00:00'\n",
      " '2015-11-02 00:00:00' '2016-02-19 00:00:00' '2016-02-26 00:00:00'\n",
      " '2016-02-11 00:00:00' '2016-01-10 00:00:00' '2016-02-06 00:00:00'\n",
      " '2016-02-18 00:00:00' '2016-01-29 00:00:00' '2016-03-02 00:00:00'\n",
      " '2015-12-06 00:00:00' '2016-01-24 00:00:00' '2016-01-30 00:00:00'\n",
      " '2016-02-02 00:00:00' '2016-02-16 00:00:00' '2016-02-13 00:00:00'\n",
      " '2016-02-05 00:00:00' '2016-02-22 00:00:00' '2015-11-17 00:00:00'\n",
      " '2014-03-10 00:00:00' '2016-02-07 00:00:00' '2016-01-23 00:00:00'\n",
      " '2016-02-25 00:00:00' '2016-02-14 00:00:00' '2016-01-02 00:00:00'\n",
      " '2015-09-04 00:00:00' '2015-11-12 00:00:00' '2015-12-27 00:00:00'\n",
      " '2015-11-24 00:00:00' '2016-01-20 00:00:00' '2016-02-03 00:00:00'\n",
      " '2015-12-05 00:00:00' '2015-08-07 00:00:00' '2016-01-28 00:00:00'\n",
      " '2016-01-31 00:00:00' '2016-02-08 00:00:00' '2016-01-07 00:00:00'\n",
      " '2016-01-22 00:00:00' '2016-01-18 00:00:00' '2016-01-08 00:00:00'\n",
      " '2015-11-23 00:00:00' '2016-01-13 00:00:00' '2016-01-17 00:00:00'\n",
      " '2016-01-15 00:00:00' '2015-11-08 00:00:00' '2016-01-26 00:00:00'\n",
      " '2016-02-04 00:00:00' '2016-01-25 00:00:00' '2016-01-16 00:00:00'\n",
      " '2015-08-10 00:00:00' '2016-01-03 00:00:00' '2016-01-19 00:00:00'\n",
      " '2015-12-30 00:00:00' '2016-02-01 00:00:00' '2015-12-17 00:00:00'\n",
      " '2015-11-10 00:00:00' '2016-01-06 00:00:00' '2015-09-09 00:00:00'\n",
      " '2015-06-18 00:00:00']\n",
      "Количество уникальных значений столбца: DateCreated\n",
      "109\n",
      "Относительное распределение уникальных значений столбца: DateCreated\n",
      "2016-04-03 00:00:00    0.038711\n",
      "2016-04-04 00:00:00    0.037580\n",
      "2016-03-20 00:00:00    0.036454\n",
      "2016-03-12 00:00:00    0.036234\n",
      "2016-03-21 00:00:00    0.035813\n",
      "2016-03-14 00:00:00    0.035212\n",
      "2016-03-28 00:00:00    0.035201\n",
      "2016-04-02 00:00:00    0.034885\n",
      "2016-03-07 00:00:00    0.034552\n",
      "2016-03-19 00:00:00    0.034419\n",
      "2016-03-09 00:00:00    0.034295\n",
      "2016-03-29 00:00:00    0.034112\n",
      "2016-04-01 00:00:00    0.033759\n",
      "2016-03-08 00:00:00    0.033449\n",
      "2016-03-30 00:00:00    0.033355\n",
      "2016-03-15 00:00:00    0.033310\n",
      "2016-03-25 00:00:00    0.032994\n",
      "2016-03-11 00:00:00    0.032867\n",
      "2016-03-10 00:00:00    0.032582\n",
      "2016-03-22 00:00:00    0.032314\n",
      "2016-03-26 00:00:00    0.032131\n",
      "2016-03-23 00:00:00    0.031922\n",
      "2016-03-31 00:00:00    0.031857\n",
      "2016-03-17 00:00:00    0.031377\n",
      "2016-03-16 00:00:00    0.030486\n",
      "2016-03-24 00:00:00    0.029887\n",
      "2016-03-27 00:00:00    0.029851\n",
      "2016-03-05 00:00:00    0.023100\n",
      "2016-03-13 00:00:00    0.016977\n",
      "2016-03-06 00:00:00    0.015535\n",
      "2016-03-18 00:00:00    0.014079\n",
      "2016-04-05 00:00:00    0.011581\n",
      "2016-04-06 00:00:00    0.003118\n",
      "2016-03-04 00:00:00    0.001696\n",
      "2016-04-07 00:00:00    0.001549\n",
      "2016-03-03 00:00:00    0.001117\n",
      "2016-03-01 00:00:00    0.000141\n",
      "2016-02-28 00:00:00    0.000138\n",
      "2016-02-29 00:00:00    0.000130\n",
      "2016-03-02 00:00:00    0.000104\n",
      "2016-02-21 00:00:00    0.000065\n",
      "2016-02-24 00:00:00    0.000062\n",
      "2016-02-19 00:00:00    0.000062\n",
      "2016-02-27 00:00:00    0.000062\n",
      "2016-02-18 00:00:00    0.000059\n",
      "2016-02-26 00:00:00    0.000059\n",
      "2016-02-25 00:00:00    0.000056\n",
      "2016-02-12 00:00:00    0.000040\n",
      "2016-02-14 00:00:00    0.000040\n",
      "2016-02-02 00:00:00    0.000037\n",
      "2016-02-23 00:00:00    0.000034\n",
      "2016-02-20 00:00:00    0.000034\n",
      "2016-02-22 00:00:00    0.000031\n",
      "2016-02-09 00:00:00    0.000025\n",
      "2016-02-16 00:00:00    0.000025\n",
      "2016-02-17 00:00:00    0.000023\n",
      "2016-01-31 00:00:00    0.000020\n",
      "2016-02-05 00:00:00    0.000020\n",
      "2016-02-10 00:00:00    0.000017\n",
      "2016-02-07 00:00:00    0.000017\n",
      "2016-02-15 00:00:00    0.000017\n",
      "2016-02-13 00:00:00    0.000017\n",
      "2016-01-30 00:00:00    0.000017\n",
      "2016-01-28 00:00:00    0.000017\n",
      "2016-01-29 00:00:00    0.000014\n",
      "2016-02-11 00:00:00    0.000011\n",
      "2016-01-02 00:00:00    0.000011\n",
      "2016-01-27 00:00:00    0.000011\n",
      "2016-01-10 00:00:00    0.000011\n",
      "2016-02-03 00:00:00    0.000011\n",
      "2016-01-25 00:00:00    0.000011\n",
      "2016-01-07 00:00:00    0.000008\n",
      "2016-01-23 00:00:00    0.000008\n",
      "2016-02-01 00:00:00    0.000008\n",
      "2016-01-26 00:00:00    0.000008\n",
      "2016-01-13 00:00:00    0.000008\n",
      "2016-01-17 00:00:00    0.000008\n",
      "2016-01-19 00:00:00    0.000008\n",
      "2015-12-05 00:00:00    0.000008\n",
      "2015-12-30 00:00:00    0.000008\n",
      "2016-02-06 00:00:00    0.000008\n",
      "2016-01-20 00:00:00    0.000006\n",
      "2016-02-04 00:00:00    0.000006\n",
      "2015-11-24 00:00:00    0.000006\n",
      "2016-02-08 00:00:00    0.000006\n",
      "2016-01-22 00:00:00    0.000006\n",
      "2015-11-23 00:00:00    0.000006\n",
      "2016-01-24 00:00:00    0.000006\n",
      "2015-09-04 00:00:00    0.000006\n",
      "2015-11-02 00:00:00    0.000003\n",
      "2016-01-06 00:00:00    0.000003\n",
      "2015-12-17 00:00:00    0.000003\n",
      "2015-06-18 00:00:00    0.000003\n",
      "2016-01-18 00:00:00    0.000003\n",
      "2015-12-06 00:00:00    0.000003\n",
      "2015-08-07 00:00:00    0.000003\n",
      "2015-11-08 00:00:00    0.000003\n",
      "2015-03-20 00:00:00    0.000003\n",
      "2016-01-15 00:00:00    0.000003\n",
      "2015-12-27 00:00:00    0.000003\n",
      "2015-09-09 00:00:00    0.000003\n",
      "2015-08-10 00:00:00    0.000003\n",
      "2015-11-10 00:00:00    0.000003\n",
      "2016-01-16 00:00:00    0.000003\n",
      "2016-01-03 00:00:00    0.000003\n",
      "2015-11-17 00:00:00    0.000003\n",
      "2015-11-12 00:00:00    0.000003\n",
      "2016-01-08 00:00:00    0.000003\n",
      "2014-03-10 00:00:00    0.000003\n",
      "Name: DateCreated, dtype: float64\n",
      "\n"
     ]
    }
   ],
   "source": [
    "# смотрим уникальные значения в столбцах с не числовыми данными\n",
    "\n",
    "# выбираем все столбцы, кроме первого и последнего\n",
    "data_column = data.iloc[:,1:-1]\n",
    "\n",
    "columns = data_column.select_dtypes(include='object')\n",
    "def values_unique(data):\n",
    "    for column in columns:\n",
    "        values1 = data[column].unique()\n",
    "        values2 = data[column].nunique()\n",
    "        values3 = data[column].value_counts(normalize=True)\n",
    "        print('Уникальные значения столбца:', column)\n",
    "        print(values1)\n",
    "        print('Количество уникальных значений столбца:', column)\n",
    "        print(values2)\n",
    "        print('Относительное распределение уникальных значений столбца:', column)\n",
    "        print(values3)\n",
    "        print()\n",
    "    \n",
    "values_unique(data)      "
   ]
  },
  {
   "cell_type": "code",
   "execution_count": 9,
   "metadata": {},
   "outputs": [
    {
     "name": "stdout",
     "output_type": "stream",
     "text": [
      "Уникальные значения столбца: Price\n",
      "[  480 18300  9800 ... 12395 18429 10985]\n",
      "Количество уникальных значений столбца: Price\n",
      "3731\n",
      "Относительное распределение уникальных значений столбца: Price\n",
      "0        0.030398\n",
      "500      0.016000\n",
      "1500     0.015222\n",
      "1000     0.013116\n",
      "1200     0.012964\n",
      "           ...   \n",
      "13180    0.000003\n",
      "10879    0.000003\n",
      "2683     0.000003\n",
      "634      0.000003\n",
      "8188     0.000003\n",
      "Name: Price, Length: 3731, dtype: float64\n",
      "\n",
      "Уникальные значения столбца: RegistrationYear\n",
      "[1993 2011 2004 2001 2008 1995 1980 2014 1998 2005 1910 2016 2007 2009\n",
      " 2002 2018 1997 1990 2017 1981 2003 1994 1991 1984 2006 1999 2012 2010\n",
      " 2000 1992 2013 1996 1985 1989 2015 1982 1976 1983 1973 1111 1969 1971\n",
      " 1987 1986 1988 1970 1965 1945 1925 1974 1979 1955 1978 1972 1968 1977\n",
      " 1961 1960 1966 1975 1963 1964 5000 1954 1958 1967 1959 9999 1956 3200\n",
      " 1000 1941 8888 1500 2200 4100 1962 1929 1957 1940 3000 2066 1949 2019\n",
      " 1937 1951 1800 1953 1234 8000 5300 9000 2900 6000 5900 5911 1933 1400\n",
      " 1950 4000 1948 1952 1200 8500 1932 1255 3700 3800 4800 1942 7000 1935\n",
      " 1936 6500 1923 2290 2500 1930 1001 9450 1944 1943 1934 1938 1688 2800\n",
      " 1253 1928 1919 5555 5600 1600 2222 1039 9996 1300 8455 1931 1915 4500\n",
      " 1920 1602 7800 9229 1947 1927 7100 8200 1946 7500 3500]\n",
      "Количество уникальных значений столбца: RegistrationYear\n",
      "151\n",
      "Относительное распределение уникальных значений столбца: RegistrationYear\n",
      "2000    0.069110\n",
      "1999    0.064134\n",
      "2005    0.062390\n",
      "2001    0.056786\n",
      "2006    0.056157\n",
      "2003    0.055767\n",
      "2004    0.055341\n",
      "2002    0.053874\n",
      "1998    0.050510\n",
      "2007    0.048490\n",
      "2008    0.043433\n",
      "1997    0.041387\n",
      "2009    0.040927\n",
      "1996    0.030576\n",
      "2010    0.030375\n",
      "2017    0.029464\n",
      "2011    0.027963\n",
      "1995    0.027110\n",
      "2016    0.027088\n",
      "2012    0.020256\n",
      "1994    0.013661\n",
      "2013    0.011657\n",
      "2018    0.011172\n",
      "1993    0.009702\n",
      "1992    0.008471\n",
      "1990    0.007918\n",
      "1991    0.007794\n",
      "2014    0.007159\n",
      "1989    0.003719\n",
      "2015    0.003674\n",
      "1988    0.002658\n",
      "1985    0.002133\n",
      "1987    0.001882\n",
      "1980    0.001659\n",
      "1986    0.001518\n",
      "1983    0.001213\n",
      "1984    0.001126\n",
      "1970    0.000940\n",
      "1982    0.000892\n",
      "1978    0.000804\n",
      "1979    0.000799\n",
      "1981    0.000742\n",
      "1972    0.000601\n",
      "1960    0.000531\n",
      "1976    0.000494\n",
      "1977    0.000488\n",
      "1973    0.000488\n",
      "1974    0.000477\n",
      "1971    0.000471\n",
      "1975    0.000404\n",
      "1969    0.000333\n",
      "1966    0.000319\n",
      "1968    0.000305\n",
      "1910    0.000285\n",
      "1967    0.000279\n",
      "1965    0.000231\n",
      "1964    0.000181\n",
      "1963    0.000161\n",
      "1962    0.000130\n",
      "1961    0.000116\n",
      "1000    0.000104\n",
      "1959    0.000090\n",
      "1956    0.000076\n",
      "9999    0.000073\n",
      "2019    0.000071\n",
      "1958    0.000071\n",
      "1950    0.000051\n",
      "5000    0.000048\n",
      "1955    0.000042\n",
      "1953    0.000040\n",
      "1957    0.000037\n",
      "1951    0.000034\n",
      "1954    0.000031\n",
      "1937    0.000031\n",
      "1952    0.000025\n",
      "1938    0.000023\n",
      "1929    0.000020\n",
      "3000    0.000020\n",
      "6000    0.000014\n",
      "1500    0.000014\n",
      "1800    0.000014\n",
      "1943    0.000011\n",
      "2500    0.000011\n",
      "1945    0.000011\n",
      "1234    0.000011\n",
      "1935    0.000011\n",
      "7000    0.000011\n",
      "1932    0.000008\n",
      "1111    0.000008\n",
      "4000    0.000008\n",
      "1930    0.000008\n",
      "1948    0.000008\n",
      "1933    0.000008\n",
      "1936    0.000008\n",
      "9000    0.000008\n",
      "1942    0.000008\n",
      "1934    0.000008\n",
      "1600    0.000006\n",
      "8000    0.000006\n",
      "5911    0.000006\n",
      "1300    0.000006\n",
      "2800    0.000006\n",
      "2222    0.000006\n",
      "1923    0.000006\n",
      "1928    0.000006\n",
      "1947    0.000006\n",
      "1944    0.000006\n",
      "1940    0.000006\n",
      "1941    0.000006\n",
      "5555    0.000006\n",
      "4500    0.000006\n",
      "1001    0.000003\n",
      "9450    0.000003\n",
      "3800    0.000003\n",
      "1255    0.000003\n",
      "1253    0.000003\n",
      "5600    0.000003\n",
      "8455    0.000003\n",
      "3500    0.000003\n",
      "4800    0.000003\n",
      "7100    0.000003\n",
      "9996    0.000003\n",
      "9229    0.000003\n",
      "8200    0.000003\n",
      "5900    0.000003\n",
      "1039    0.000003\n",
      "2066    0.000003\n",
      "8500    0.000003\n",
      "1602    0.000003\n",
      "7500    0.000003\n",
      "2900    0.000003\n",
      "6500    0.000003\n",
      "3700    0.000003\n",
      "1400    0.000003\n",
      "7800    0.000003\n",
      "1915    0.000003\n",
      "1919    0.000003\n",
      "1920    0.000003\n",
      "3200    0.000003\n",
      "1925    0.000003\n",
      "1927    0.000003\n",
      "1931    0.000003\n",
      "1688    0.000003\n",
      "2200    0.000003\n",
      "1946    0.000003\n",
      "1949    0.000003\n",
      "4100    0.000003\n",
      "1200    0.000003\n",
      "5300    0.000003\n",
      "8888    0.000003\n",
      "2290    0.000003\n",
      "Name: RegistrationYear, dtype: float64\n",
      "\n",
      "Уникальные значения столбца: Power\n",
      "[    0   190   163    75    69   102   109    50   125   101   105   140\n",
      "   115   131    60   136   160   231    90   118   193    99   113   218\n",
      "   122   129    70   306    95    61   177    80   170    55   143    64\n",
      "   286   232   150   156    82   155    54   185    87   180    86    84\n",
      "   224   235   200   178   265    77   110   144   120   116   184   126\n",
      "   204    88   194   305   197   179   250    45   313    41   165    98\n",
      "   130   114   211    56   201   213    58   107    83   174   100   220\n",
      "    85    73   192    68    66   299    74    52   147    65   310    71\n",
      "    97   239   203     5   300   103   258   320    63    81   148    44\n",
      "   145   230   280   260   104   188   333   186   117   141    59   132\n",
      "   234   158    39    92    51   135    53   209    43   146    67   106\n",
      "   166   276   344    72   249   237   245   111   326   279    23   138\n",
      "   175    96   226    26    37   301   334   128   133   124    33   219\n",
      "   241   167    94   182   196   238  1398   228   112    48   272   139\n",
      "  1799    40   240    79   256   360   243   375   252   396   340   108\n",
      "   121   345   187   289   222   198   284   450   233   387   152   347\n",
      "   172    57   137   212   476   314    30     7    47   173   290   207\n",
      "   205   171   750    78    91    89   349   325    76   151   350   953\n",
      "    93   142   500   343   199   119   164    16   264   367   208   210\n",
      "    46   435  1001   225   127   176   161   603   307   354    35   206\n",
      "   771   355   273   223   255   123   154   149  7515  1400   268   620\n",
      "   169   400   275    34     2   242  1779   285   162   328  1753   329\n",
      "   134   420   247   168 10317   215    18   330   283    62    10   214\n",
      "   183   254    15   321   322   315   952   600   181   426   599   379\n",
      "   999    22   157    42   195   553     4   309   507   381   271   440\n",
      "   189   401  1111  2729    21   236  1240  1704   521     1  1900   270\n",
      "    24   159   292   808   515  1200   303    29    38  1993    14   216\n",
      "   610   504    49   267   331   363   261   385  1011   253   696 10520\n",
      "   376   227   311    27   217    20  1999    11  1056    25   394    12\n",
      "   298   296  1659   294   551  6920   246    17  1800  1625   368   390\n",
      "   221  1367   259   606   327  2017  1597   266   374   392     9   405\n",
      "    13   262   601   430   295     8   411   900   541  7512   382 10218\n",
      "  7544  1102   287    19   751   297  1090   457   282   602   388     6\n",
      "  1000  5411   335  1360   202  3750   805  1062  1024 11530   364  1796\n",
      "  5000   269   460  1002   288  1780 12012 17932   316  2005  1399   191\n",
      "   278  1300   380   257   449  1256   153  1653   520   560   281 12510\n",
      "     3  1500   386    32  1202  2016  1436  1405   671   274  1288  1055\n",
      " 10912 15016  6226  1115   277  1105   341  1223  2340  8404  1968   338\n",
      "   445  1920   370   517  4400 10710 10522  9010   431  1164 11509   371\n",
      "  1501   428 11635    36   304   348  1703  1910  1995   579 10000   580\n",
      "   408    31  1005   358  1403   489  5575 19211   585   960   365   353\n",
      "   490   352  1801   346   550  3199   800  7508  1312   357  1937   950\n",
      "  4700  1600  3454 19208   251   850   337   700  8011  2331  2789   487\n",
      "   519  2461  6006  3500  5815  6018  1781  1503   612  1596   229  1506\n",
      "  5809 15020  5867  2172  1598 17410  1363   584  1054   851  1339   318\n",
      "   510   525  1700    28  1151   685  6011   317   703  1771 15001   514\n",
      "   362   332   324  6045   530   425   308  6010   475   903   640  2000\n",
      "   248   651  2799 17011   505  1103  1521   351 16051   398  9000  1998\n",
      " 10311   409  1230 17019 12684  8259  1895   901  1317   871   909  2201\n",
      "  1595   776 17700 11011  1199   459  1162  1120 15033  1896   339   361\n",
      "   574  6512   454   650 13616   604   607 16312  1082   336 20000   416\n",
      "   678  6012  1401  1021  1870 13636  1250  9710   323  1158  2009   902\n",
      "  6062  1275   572   244   399  1016   743  1221  2402 16011  1362   544\n",
      "   645   907   702 12512  1986  1003  1432  9013  9011   442  1017  1394\n",
      " 15017 10910  1992   540  2018 11025  1433  1701  2792  1502  1239  1390\n",
      " 14009  1160  1351 11111  1783  9007   923  1149   754  1988   402  2004\n",
      "  5420  1793  1324   356  7511  1299   293 19312  1079  1689   998  1100\n",
      "  9012  1933   508 16311   682  1252  1922  7529   732  2389  2200  1707\n",
      "  1416  8500  1012   485  3000 10110   421  4507  1631  7518   377  1004\n",
      "  2007  2598  1548  1241]\n",
      "Количество уникальных значений столбца: Power\n",
      "712\n",
      "Относительное распределение уникальных значений столбца: Power\n",
      "0        0.113513\n",
      "75       0.067792\n",
      "60       0.044861\n",
      "150      0.041172\n",
      "101      0.037526\n",
      "           ...   \n",
      "323      0.000003\n",
      "3454     0.000003\n",
      "1056     0.000003\n",
      "13636    0.000003\n",
      "1158     0.000003\n",
      "Name: Power, Length: 712, dtype: float64\n",
      "\n",
      "Уникальные значения столбца: Kilometer\n",
      "[150000 125000  90000  40000  30000  70000   5000 100000  60000  20000\n",
      "  80000  50000  10000]\n",
      "Количество уникальных значений столбца: Kilometer\n",
      "13\n",
      "Относительное распределение уникальных значений столбца: Kilometer\n",
      "150000    0.672208\n",
      "125000    0.102869\n",
      "100000    0.041996\n",
      "90000     0.032641\n",
      "80000     0.028352\n",
      "70000     0.024249\n",
      "60000     0.021007\n",
      "5000      0.018052\n",
      "50000     0.017586\n",
      "40000     0.013859\n",
      "30000     0.012518\n",
      "20000     0.011214\n",
      "10000     0.003448\n",
      "Name: Kilometer, dtype: float64\n",
      "\n",
      "Уникальные значения столбца: RegistrationMonth\n",
      "[ 0  5  8  6  7 10 12 11  2  3  1  4  9]\n",
      "Количество уникальных значений столбца: RegistrationMonth\n",
      "13\n",
      "Относительное распределение уникальных значений столбца: RegistrationMonth\n",
      "0     0.105405\n",
      "3     0.096999\n",
      "6     0.088911\n",
      "4     0.082598\n",
      "5     0.082268\n",
      "7     0.076788\n",
      "10    0.073650\n",
      "12    0.068542\n",
      "11    0.068252\n",
      "9     0.067199\n",
      "1     0.065520\n",
      "8     0.063852\n",
      "2     0.060014\n",
      "Name: RegistrationMonth, dtype: float64\n",
      "\n",
      "Уникальные значения столбца: NumberOfPictures\n",
      "[0]\n",
      "Количество уникальных значений столбца: NumberOfPictures\n",
      "1\n",
      "Относительное распределение уникальных значений столбца: NumberOfPictures\n",
      "0    1.0\n",
      "Name: NumberOfPictures, dtype: float64\n",
      "\n",
      "Уникальные значения столбца: PostalCode\n",
      "[70435 66954 90480 ... 38528 38325 31096]\n",
      "Количество уникальных значений столбца: PostalCode\n",
      "8143\n",
      "Относительное распределение уникальных значений столбца: PostalCode\n",
      "10115    0.002311\n",
      "65428    0.001730\n",
      "66333    0.000968\n",
      "32257    0.000895\n",
      "44145    0.000895\n",
      "           ...   \n",
      "21782    0.000003\n",
      "9517     0.000003\n",
      "29367    0.000003\n",
      "38325    0.000003\n",
      "82404    0.000003\n",
      "Name: PostalCode, Length: 8143, dtype: float64\n",
      "\n"
     ]
    }
   ],
   "source": [
    "# смотрим уникальные значения в столбцах с числовыми данными\n",
    "columns = data.select_dtypes(include='number')\n",
    "def values_unique(data):\n",
    "    for column in columns:\n",
    "        values1 = data[column].unique()\n",
    "        values2 = data[column].nunique()\n",
    "        values3 = data[column].value_counts(normalize=True)\n",
    "        print('Уникальные значения столбца:', column)\n",
    "        print(values1)\n",
    "        print('Количество уникальных значений столбца:', column)\n",
    "        print(values2)\n",
    "        print('Относительное распределение уникальных значений столбца:', column)\n",
    "        print(values3)\n",
    "        print()\n",
    "        \n",
    "values_unique(data)      "
   ]
  },
  {
   "cell_type": "markdown",
   "metadata": {},
   "source": [
    "   **Особенности и аномалии в столбцах**:\n",
    " \n",
    " \n",
    "  - **Repaired:** строковые значения ('yes', 'no') вместо числовых (1/0);\n",
    "\n",
    " \n",
    "  - **Price:** нулевое значение цены и наличие подозрительно низких цен (до 10 евро);\n",
    "\n",
    " \n",
    "  - **RegistrationYear:** много неадекватных значений лет (1000, 5000, 9999 и др.) и наличие \"раритетных\" значений года (1910, 1915, 1920 и др.); \n",
    "\n",
    " \n",
    "  - **Power:** нулевое значение мощности и нереально низкие и высокие значения (меньше 10, выше 10000 и др.) ;\n",
    "\n",
    " \n",
    "  - **RegistrationMonth:** нулевое значение месяца;\n",
    "\n",
    " \n",
    "  - **NumberOfPictures:** единственное и нулевое значение;\n",
    "  \n",
    "  \n",
    "  - **Kilometer:** всего тринадцать значений на 354 000 автомобилей.\n",
    "  \n",
    "  \n",
    "Изучим распределение данных.  "
   ]
  },
  {
   "cell_type": "code",
   "execution_count": 10,
   "metadata": {},
   "outputs": [
    {
     "data": {
      "text/html": [
       "<div>\n",
       "<style scoped>\n",
       "    .dataframe tbody tr th:only-of-type {\n",
       "        vertical-align: middle;\n",
       "    }\n",
       "\n",
       "    .dataframe tbody tr th {\n",
       "        vertical-align: top;\n",
       "    }\n",
       "\n",
       "    .dataframe thead th {\n",
       "        text-align: right;\n",
       "    }\n",
       "</style>\n",
       "<table border=\"1\" class=\"dataframe\">\n",
       "  <thead>\n",
       "    <tr style=\"text-align: right;\">\n",
       "      <th></th>\n",
       "      <th>Price</th>\n",
       "      <th>RegistrationYear</th>\n",
       "      <th>Power</th>\n",
       "      <th>Kilometer</th>\n",
       "      <th>RegistrationMonth</th>\n",
       "      <th>NumberOfPictures</th>\n",
       "      <th>PostalCode</th>\n",
       "    </tr>\n",
       "  </thead>\n",
       "  <tbody>\n",
       "    <tr>\n",
       "      <th>count</th>\n",
       "      <td>354365.000000</td>\n",
       "      <td>354365.000000</td>\n",
       "      <td>354365.000000</td>\n",
       "      <td>354365.000000</td>\n",
       "      <td>354365.000000</td>\n",
       "      <td>354365.0</td>\n",
       "      <td>354365.000000</td>\n",
       "    </tr>\n",
       "    <tr>\n",
       "      <th>mean</th>\n",
       "      <td>4416.679830</td>\n",
       "      <td>2004.234481</td>\n",
       "      <td>110.093816</td>\n",
       "      <td>128211.363989</td>\n",
       "      <td>5.714650</td>\n",
       "      <td>0.0</td>\n",
       "      <td>50508.503800</td>\n",
       "    </tr>\n",
       "    <tr>\n",
       "      <th>std</th>\n",
       "      <td>4514.176349</td>\n",
       "      <td>90.228466</td>\n",
       "      <td>189.851330</td>\n",
       "      <td>37905.083858</td>\n",
       "      <td>3.726432</td>\n",
       "      <td>0.0</td>\n",
       "      <td>25783.100078</td>\n",
       "    </tr>\n",
       "    <tr>\n",
       "      <th>min</th>\n",
       "      <td>0.000000</td>\n",
       "      <td>1000.000000</td>\n",
       "      <td>0.000000</td>\n",
       "      <td>5000.000000</td>\n",
       "      <td>0.000000</td>\n",
       "      <td>0.0</td>\n",
       "      <td>1067.000000</td>\n",
       "    </tr>\n",
       "    <tr>\n",
       "      <th>25%</th>\n",
       "      <td>1050.000000</td>\n",
       "      <td>1999.000000</td>\n",
       "      <td>69.000000</td>\n",
       "      <td>125000.000000</td>\n",
       "      <td>3.000000</td>\n",
       "      <td>0.0</td>\n",
       "      <td>30165.000000</td>\n",
       "    </tr>\n",
       "    <tr>\n",
       "      <th>50%</th>\n",
       "      <td>2700.000000</td>\n",
       "      <td>2003.000000</td>\n",
       "      <td>105.000000</td>\n",
       "      <td>150000.000000</td>\n",
       "      <td>6.000000</td>\n",
       "      <td>0.0</td>\n",
       "      <td>49413.000000</td>\n",
       "    </tr>\n",
       "    <tr>\n",
       "      <th>75%</th>\n",
       "      <td>6400.000000</td>\n",
       "      <td>2008.000000</td>\n",
       "      <td>143.000000</td>\n",
       "      <td>150000.000000</td>\n",
       "      <td>9.000000</td>\n",
       "      <td>0.0</td>\n",
       "      <td>71083.000000</td>\n",
       "    </tr>\n",
       "    <tr>\n",
       "      <th>max</th>\n",
       "      <td>20000.000000</td>\n",
       "      <td>9999.000000</td>\n",
       "      <td>20000.000000</td>\n",
       "      <td>150000.000000</td>\n",
       "      <td>12.000000</td>\n",
       "      <td>0.0</td>\n",
       "      <td>99998.000000</td>\n",
       "    </tr>\n",
       "  </tbody>\n",
       "</table>\n",
       "</div>"
      ],
      "text/plain": [
       "               Price  RegistrationYear          Power      Kilometer  \\\n",
       "count  354365.000000     354365.000000  354365.000000  354365.000000   \n",
       "mean     4416.679830       2004.234481     110.093816  128211.363989   \n",
       "std      4514.176349         90.228466     189.851330   37905.083858   \n",
       "min         0.000000       1000.000000       0.000000    5000.000000   \n",
       "25%      1050.000000       1999.000000      69.000000  125000.000000   \n",
       "50%      2700.000000       2003.000000     105.000000  150000.000000   \n",
       "75%      6400.000000       2008.000000     143.000000  150000.000000   \n",
       "max     20000.000000       9999.000000   20000.000000  150000.000000   \n",
       "\n",
       "       RegistrationMonth  NumberOfPictures     PostalCode  \n",
       "count      354365.000000          354365.0  354365.000000  \n",
       "mean            5.714650               0.0   50508.503800  \n",
       "std             3.726432               0.0   25783.100078  \n",
       "min             0.000000               0.0    1067.000000  \n",
       "25%             3.000000               0.0   30165.000000  \n",
       "50%             6.000000               0.0   49413.000000  \n",
       "75%             9.000000               0.0   71083.000000  \n",
       "max            12.000000               0.0   99998.000000  "
      ]
     },
     "execution_count": 10,
     "metadata": {},
     "output_type": "execute_result"
    }
   ],
   "source": [
    "# смотрим распределение значений в признаках\n",
    "data.describe()"
   ]
  },
  {
   "cell_type": "code",
   "execution_count": 11,
   "metadata": {},
   "outputs": [
    {
     "data": {
      "image/png": "[encoded data removed]",
      "text/plain": [
       "<Figure size 1080x360 with 1 Axes>"
      ]
     },
     "metadata": {
      "needs_background": "light"
     },
     "output_type": "display_data"
    },
    {
     "data": {
      "image/png": "[encoded data removed]",
      "text/plain": [
       "<Figure size 1080x360 with 1 Axes>"
      ]
     },
     "metadata": {
      "needs_background": "light"
     },
     "output_type": "display_data"
    },
    {
     "data": {
      "image/png": "[encoded data removed]",
      "text/plain": [
       "<Figure size 1080x360 with 1 Axes>"
      ]
     },
     "metadata": {
      "needs_background": "light"
     },
     "output_type": "display_data"
    }
   ],
   "source": [
    "# смотрим разброс данных на диаграмме разброса\n",
    "def boxplotly(data):\n",
    "    \n",
    "    plt.figure(figsize=(15, 5))    \n",
    "    sns.boxplot(data=data)\n",
    "    plt.xlabel('Классы')\n",
    "    plt.ylabel('Значения')\n",
    "    plt.title('Распределение значений в данных')\n",
    "    plt.show()   \n",
    "\n",
    "# смотрим разброс в данных\n",
    "columns = ['Price','Power']   \n",
    "boxplotly(data[columns])\n",
    "columns = ['Kilometer']\n",
    "boxplotly(data[columns])\n",
    "columns = ['RegistrationYear'] \n",
    "boxplotly(data[columns])"
   ]
  },
  {
   "cell_type": "code",
   "execution_count": 12,
   "metadata": {},
   "outputs": [
    {
     "data": {
      "image/png": "[encoded data removed]",
      "text/plain": [
       "<Figure size 864x432 with 1 Axes>"
      ]
     },
     "metadata": {
      "needs_background": "light"
     },
     "output_type": "display_data"
    },
    {
     "data": {
      "image/png": "[encoded data removed]",
      "text/plain": [
       "<Figure size 864x432 with 1 Axes>"
      ]
     },
     "metadata": {
      "needs_background": "light"
     },
     "output_type": "display_data"
    }
   ],
   "source": [
    "# смотрим столбцы с числовыми данными на гистограмме\n",
    "columns_plot = ['Price', 'Power']\n",
    "\n",
    "def plot_hist(data, bins, size):\n",
    "    for column in columns_plot:\n",
    "        \n",
    "        plt.figure(figsize=size)\n",
    "        data[column].plot(bins=bins, kind='hist')                         \n",
    "    \n",
    "        plt.grid=True\n",
    "        plt.legend=False \n",
    "        plt.xlabel(column)\n",
    "        plt.ylabel('Частота')\n",
    "        plt.title('Распределение числовых значений в данных')\n",
    "        plt.show()       \n",
    "        \n",
    "plot_hist(data, 200, (12,6))"
   ]
  },
  {
   "cell_type": "markdown",
   "metadata": {},
   "source": [
    "Ограничим диапазон значений"
   ]
  },
  {
   "cell_type": "code",
   "execution_count": 13,
   "metadata": {},
   "outputs": [
    {
     "data": {
      "image/png": "[encoded data removed]",
      "text/plain": [
       "<Figure size 864x432 with 1 Axes>"
      ]
     },
     "metadata": {
      "needs_background": "light"
     },
     "output_type": "display_data"
    }
   ],
   "source": [
    "# смотрим столбцы с числовыми данными на гистограмме\n",
    "# выбираем диапазон\n",
    "df_power =  data.loc[data['Power']<=500]\n",
    "\n",
    "# выбираем колонку\n",
    "columns_plot = ['Power']\n",
    "\n",
    "# строим график        \n",
    "plot_hist(df_power, 100, (12,6))"
   ]
  },
  {
   "cell_type": "markdown",
   "metadata": {},
   "source": [
    "**Вычислим**, какую **долю** данных занимают данные в определенном диапазоне **значений мощности и цены.**"
   ]
  },
  {
   "cell_type": "code",
   "execution_count": 14,
   "metadata": {},
   "outputs": [
    {
     "name": "stdout",
     "output_type": "stream",
     "text": [
      "0.87905690460401 0.8762970383643983\n"
     ]
    }
   ],
   "source": [
    "# выбираем диапазон\n",
    "df_power = data.query('40 <= Power <= 350')\n",
    "df_price = data.query('100 <= Price <= 12000')\n",
    "\n",
    "# смотрим долю\n",
    "print(df_power.shape[0]/data.shape[0],\n",
    "      df_price.shape[0]/data.shape[0])"
   ]
  },
  {
   "cell_type": "code",
   "execution_count": 15,
   "metadata": {},
   "outputs": [
    {
     "data": {
      "image/png": "[encoded data removed]",
      "text/plain": [
       "<Figure size 504x360 with 1 Axes>"
      ]
     },
     "metadata": {
      "needs_background": "light"
     },
     "output_type": "display_data"
    },
    {
     "data": {
      "image/png": "[encoded data removed]",
      "text/plain": [
       "<Figure size 504x360 with 1 Axes>"
      ]
     },
     "metadata": {
      "needs_background": "light"
     },
     "output_type": "display_data"
    },
    {
     "data": {
      "image/png": "[encoded data removed]",
      "text/plain": [
       "<Figure size 504x360 with 1 Axes>"
      ]
     },
     "metadata": {
      "needs_background": "light"
     },
     "output_type": "display_data"
    },
    {
     "data": {
      "image/png": "[encoded data removed]",
      "text/plain": [
       "<Figure size 504x360 with 1 Axes>"
      ]
     },
     "metadata": {
      "needs_background": "light"
     },
     "output_type": "display_data"
    },
    {
     "data": {
      "image/png": "[encoded data removed]",
      "text/plain": [
       "<Figure size 504x360 with 1 Axes>"
      ]
     },
     "metadata": {
      "needs_background": "light"
     },
     "output_type": "display_data"
    },
    {
     "data": {
      "image/png": "[encoded data removed]",
      "text/plain": [
       "<Figure size 504x360 with 1 Axes>"
      ]
     },
     "metadata": {
      "needs_background": "light"
     },
     "output_type": "display_data"
    }
   ],
   "source": [
    "# смотрим столбцы с числовыми  категориальными данными на столбчатых диаграммах\n",
    "columns_plot = ['Brand', 'Kilometer','VehicleType', \n",
    "                'FuelType', 'Gearbox', 'Repaired']\n",
    "\n",
    "def plot_bar(data, size):\n",
    "    for column in columns_plot:\n",
    "        \n",
    "        plt.figure(figsize=size)\n",
    "        data[column].value_counts().plot(kind='bar')                         \n",
    "    \n",
    "        plt.grid=True        \n",
    "        plt.legend=False \n",
    "        plt.xlabel(column)\n",
    "        plt.ylabel('Количество')\n",
    "        plt.title('Распределение числовых значений в данных')\n",
    "        plt.show()       \n",
    "        \n",
    "plot_bar(data,(7,5))"
   ]
  },
  {
   "cell_type": "code",
   "execution_count": 16,
   "metadata": {},
   "outputs": [
    {
     "data": {
      "image/png": "[encoded data removed]",
      "text/plain": [
       "<Figure size 1224x576 with 1 Axes>"
      ]
     },
     "metadata": {
      "needs_background": "light"
     },
     "output_type": "display_data"
    }
   ],
   "source": [
    "# смотрим столбцы с числовыми  категориальными данными на столбчатой диаграмме\n",
    "# выбираем диапазон\n",
    "df_year =  data.query('1900 < RegistrationYear < 2016')\n",
    "\n",
    "# выбираем колонку\n",
    "columns_plot = ['RegistrationYear']\n",
    "\n",
    "# строим график\n",
    "plot_bar(df_year,(17,8))"
   ]
  },
  {
   "cell_type": "markdown",
   "metadata": {},
   "source": [
    "Поcторим гистограмму. "
   ]
  },
  {
   "cell_type": "code",
   "execution_count": 17,
   "metadata": {},
   "outputs": [
    {
     "data": {
      "image/png": "[encoded data removed]",
      "text/plain": [
       "<Figure size 720x360 with 1 Axes>"
      ]
     },
     "metadata": {
      "needs_background": "light"
     },
     "output_type": "display_data"
    }
   ],
   "source": [
    "# смотрим столбцы с числовыми данными на гистограмме\n",
    "# выбираем диапазон\n",
    "df_year =  data.query('1900 < RegistrationYear < 2016')\n",
    "\n",
    "# выбираем колонку\n",
    "columns_plot = ['RegistrationYear']\n",
    "\n",
    "# строим график\n",
    "plot_hist(df_year, 100, (10,5))"
   ]
  },
  {
   "cell_type": "markdown",
   "metadata": {},
   "source": [
    "**Вычислим дату актуальности** - это максимальное значение в столбце DateCrawled."
   ]
  },
  {
   "cell_type": "code",
   "execution_count": 18,
   "metadata": {},
   "outputs": [
    {
     "name": "stdout",
     "output_type": "stream",
     "text": [
      "2016-04-07 14:36:58\n"
     ]
    }
   ],
   "source": [
    "# приводим данные к типу даты\n",
    "data['DateCrawled'] = pd.to_datetime(data['DateCrawled'])\n",
    "\n",
    "# получаем дату актуальности \n",
    "date_actually  = data['DateCrawled'].max()\n",
    "print(date_actually )"
   ]
  },
  {
   "cell_type": "markdown",
   "metadata": {},
   "source": [
    "**Вычислим**, какую **долю** данных занимают данные в определенном диапазоне **значений даты регистрации.**\n",
    "\n",
    "Верхняя граница диапазона - год даты актуальности, а нижнюю выберем - 1960, так как раньше этого года встречается крайне мало значений. "
   ]
  },
  {
   "cell_type": "code",
   "execution_count": 19,
   "metadata": {
    "scrolled": true
   },
   "outputs": [
    {
     "name": "stdout",
     "output_type": "stream",
     "text": [
      "0.957806216753912\n"
     ]
    }
   ],
   "source": [
    "# выбираем диапазон\n",
    "df_date = data.query('1960 <= RegistrationYear <= 2016')\n",
    "\n",
    "# смотрим долю\n",
    "print(df_date.shape[0]/data.shape[0])"
   ]
  },
  {
   "cell_type": "markdown",
   "metadata": {},
   "source": [
    "Посмотрим на количество дней публикации объявления, как **разницу между датой последней активности пользователя** (LastSeen) и **датой создания анкеты** (DateCreated), которая, по идее, не должна превышать дату актуальности, и сопоставим с заявленной стоимостью автомобиля (Price). Возможно, что чем дольше висит объявление о продаже, тем ниже будет цена. С другой стороны, если объявление зависло, это повод задуматься об адекватности цены и исключении таких данных из обучения. "
   ]
  },
  {
   "cell_type": "code",
   "execution_count": 20,
   "metadata": {},
   "outputs": [
    {
     "data": {
      "text/plain": [
       "count    354365.000000\n",
       "mean          9.207904\n",
       "std           8.587628\n",
       "min           0.000000\n",
       "25%           3.000000\n",
       "50%           6.000000\n",
       "75%          14.000000\n",
       "max         759.000000\n",
       "Name: days_exposition, dtype: float64"
      ]
     },
     "execution_count": 20,
     "metadata": {},
     "output_type": "execute_result"
    }
   ],
   "source": [
    "# приводим данные к типу даты\n",
    "data['LastSeen'] = pd.to_datetime(data['LastSeen'])\n",
    "data['DateCreated'] = pd.to_datetime(data['DateCreated'])\n",
    "\n",
    "# добавляем столбец с периодом демонстрации объявления\n",
    "data['days_exposition'] = round((data['LastSeen'] - data['DateCreated'])/ np.timedelta64 ( 1 , 'D'),0)\n",
    "\n",
    "# проверяем\n",
    "data['days_exposition'].describe()"
   ]
  },
  {
   "cell_type": "code",
   "execution_count": 21,
   "metadata": {},
   "outputs": [
    {
     "data": {
      "image/png": "[encoded data removed]",
      "text/plain": [
       "<Figure size 576x360 with 1 Axes>"
      ]
     },
     "metadata": {
      "needs_background": "light"
     },
     "output_type": "display_data"
    },
    {
     "data": {
      "image/png": "[encoded data removed]",
      "text/plain": [
       "<Figure size 1296x360 with 1 Axes>"
      ]
     },
     "metadata": {
      "needs_background": "light"
     },
     "output_type": "display_data"
    }
   ],
   "source": [
    "# смотрим столбцы с числовыми данными на гистограмме\n",
    "# выбираем колонку\n",
    "columns_plot = ['days_exposition']\n",
    "\n",
    "# строим график\n",
    "plot_hist(data, 200, (8,5))\n",
    "plot_bar(data, (18,5))"
   ]
  },
  {
   "cell_type": "code",
   "execution_count": 22,
   "metadata": {},
   "outputs": [
    {
     "data": {
      "text/plain": [
       "days_exposition\n",
       "0.0       3055.582319\n",
       "1.0       3224.481176\n",
       "2.0       3455.669407\n",
       "3.0       4254.487018\n",
       "4.0       4012.628225\n",
       "5.0       4486.288955\n",
       "6.0       4342.818115\n",
       "7.0       4514.802307\n",
       "8.0       4671.872381\n",
       "9.0       4554.131381\n",
       "10.0      4905.891925\n",
       "11.0      4935.189372\n",
       "12.0      4920.394184\n",
       "13.0      5071.874237\n",
       "14.0      5001.239957\n",
       "15.0      5065.028969\n",
       "16.0      5090.636654\n",
       "17.0      5158.306343\n",
       "18.0      5448.188718\n",
       "19.0      5208.890422\n",
       "20.0      5149.528365\n",
       "21.0      5244.730682\n",
       "22.0      5267.454444\n",
       "23.0      5402.424052\n",
       "24.0      5468.697259\n",
       "25.0      5719.794131\n",
       "26.0      5557.273534\n",
       "27.0      5252.699861\n",
       "28.0      5498.819005\n",
       "29.0      5507.025802\n",
       "30.0      5593.561825\n",
       "31.0      5549.064385\n",
       "32.0      5698.582106\n",
       "33.0      5442.184554\n",
       "34.0      5598.775510\n",
       "35.0      6197.910448\n",
       "36.0      7234.071429\n",
       "37.0      7642.227273\n",
       "38.0      6435.578947\n",
       "39.0      6457.545455\n",
       "40.0      5350.727273\n",
       "41.0      7309.900000\n",
       "42.0      8205.363636\n",
       "43.0      5992.466667\n",
       "44.0      6508.000000\n",
       "45.0      7407.722222\n",
       "46.0      8829.812500\n",
       "47.0      8139.900000\n",
       "48.0      9098.000000\n",
       "49.0      9111.125000\n",
       "50.0      4980.000000\n",
       "51.0      6568.500000\n",
       "52.0      4432.833333\n",
       "53.0     12051.111111\n",
       "54.0      5050.000000\n",
       "55.0      3737.250000\n",
       "56.0      9575.000000\n",
       "57.0      2337.250000\n",
       "58.0      6050.000000\n",
       "59.0      4575.555556\n",
       "60.0      5899.833333\n",
       "61.0      5624.750000\n",
       "62.0      6292.571429\n",
       "63.0     12367.600000\n",
       "64.0      6797.500000\n",
       "65.0      7996.333333\n",
       "66.0     10599.000000\n",
       "67.0      6250.000000\n",
       "68.0      7099.500000\n",
       "69.0     13624.500000\n",
       "70.0      2999.000000\n",
       "71.0      4675.000000\n",
       "73.0      9125.000000\n",
       "74.0      9580.000000\n",
       "77.0       245.000000\n",
       "79.0      8100.000000\n",
       "81.0      9050.000000\n",
       "84.0     13900.000000\n",
       "88.0     15490.000000\n",
       "89.0      1900.000000\n",
       "91.0      7950.000000\n",
       "92.0      7500.000000\n",
       "95.0       750.000000\n",
       "96.0      5374.750000\n",
       "98.0     17200.000000\n",
       "99.0     10450.000000\n",
       "109.0      900.000000\n",
       "110.0      900.000000\n",
       "111.0     9999.000000\n",
       "121.0     5900.000000\n",
       "123.0     6950.000000\n",
       "126.0    11999.000000\n",
       "134.0     7999.000000\n",
       "135.0     7999.000000\n",
       "137.0     3490.000000\n",
       "141.0     5999.000000\n",
       "146.0     5400.000000\n",
       "149.0     5499.000000\n",
       "151.0    15500.000000\n",
       "194.0      600.000000\n",
       "210.0     9500.000000\n",
       "240.0     5200.000000\n",
       "244.0    14250.000000\n",
       "293.0    10400.000000\n",
       "384.0     6000.000000\n",
       "759.0     8999.000000\n",
       "Name: Price, dtype: float64"
      ]
     },
     "execution_count": 22,
     "metadata": {},
     "output_type": "execute_result"
    }
   ],
   "source": [
    "# смотрим средние цены в зависимости от количества дней размещения объявления\n",
    "data.groupby('days_exposition')['Price'].mean()"
   ]
  },
  {
   "cell_type": "markdown",
   "metadata": {},
   "source": [
    "**Вычислим**, какую **долю** данных занимают данные в определенном диапазоне значений **количество дней экспозиции.**"
   ]
  },
  {
   "cell_type": "code",
   "execution_count": 23,
   "metadata": {},
   "outputs": [
    {
     "name": "stdout",
     "output_type": "stream",
     "text": [
      "0.9989953861131884\n"
     ]
    }
   ],
   "source": [
    "# выбираем диапазон\n",
    "df_day_exp = data.query('days_exposition <= 35')\n",
    "\n",
    "# смотрим долю\n",
    "print(df_day_exp.shape[0]/data.shape[0])"
   ]
  },
  {
   "cell_type": "markdown",
   "metadata": {},
   "source": [
    " **Особенности распределения данных**:\n",
    "\n",
    "- **Price:** основные значения целевой переменной сосредоточены в пределах от 100  до 12000 евро и имеют высокий уровень стандартного отклонения.\n",
    " \n",
    " \n",
    " - **Power:** наибольшее количество значений мощности  находится в пределах от 40 до 350 л.с., остальное похоже на выбросы.  \n",
    " \n",
    " \n",
    " - **Brand:** самый массовый бренд - Фольксваген, самый непопулярный - Лада.\n",
    " \n",
    " \n",
    " - **Kilometer:** самый частый, он же самый большой, пробег - 150000 км, самый нечастый - 10 000 км, все, что ниже 90 000 км - похоже на выбросы. \n",
    " \n",
    " \n",
    " - **VehicleType**, **FuelType:** наиболее популярный кузов - седан, вид топлива - бензин, электрокары на последнем месте. \n",
    " \n",
    " \n",
    " - **Gearbox**, **Repaired:** самый популярный вид коробки - ручная, большинство машин в базе - не битые.  Явный дисбаланс классов.\n",
    " \n",
    " \n",
    " - **RegistrationYear:** наиболее часто встречающийся год регистрации автомобиля - 2000. Наибольшая доля автомобилей находится в диапазоне 1960-2016г.\n",
    " \n",
    " \n",
    " - **Самая массовая доля** объявлений имеет **срок** размещения **до 35 дней**. \n",
    " "
   ]
  },
  {
   "cell_type": "markdown",
   "metadata": {},
   "source": [
    "**Посмотрим** на **корреляцию** признаков перед предобработкой, предварительно ограничив диапазон значений."
   ]
  },
  {
   "cell_type": "code",
   "execution_count": 24,
   "metadata": {},
   "outputs": [
    {
     "name": "stdout",
     "output_type": "stream",
     "text": [
      "<class 'pandas.core.frame.DataFrame'>\n",
      "Int64Index: 314363 entries, 0 to 354364\n",
      "Data columns (total 9 columns):\n",
      " #   Column            Non-Null Count   Dtype \n",
      "---  ------            --------------   ----- \n",
      " 0   Price             314363 non-null  int64 \n",
      " 1   VehicleType       301220 non-null  object\n",
      " 2   RegistrationYear  314363 non-null  int64 \n",
      " 3   Gearbox           298241 non-null  object\n",
      " 4   Power             314363 non-null  int64 \n",
      " 5   Kilometer         314363 non-null  int64 \n",
      " 6   FuelType          291410 non-null  object\n",
      " 7   Brand             314363 non-null  object\n",
      " 8   Repaired          255358 non-null  object\n",
      "dtypes: int64(4), object(5)\n",
      "memory usage: 24.0+ MB\n"
     ]
    }
   ],
   "source": [
    "# фильтруем диапазон\n",
    "df_corr = data.query('1960 < RegistrationYear < 2016')\n",
    "df_corr = df_corr.loc[(data['Power']<=350)&(data['Price']<=15000)]\n",
    "# удаляем ненужные столбцы\n",
    "df_corr = df_corr.drop(['DateCrawled','RegistrationMonth','DateCreated', \n",
    "                        'PostalCode', 'LastSeen','NumberOfPictures','Model', \n",
    "                        'days_exposition'], axis=1)\n",
    "\n",
    "# проверяем\n",
    "df_corr.info()"
   ]
  },
  {
   "cell_type": "code",
   "execution_count": 25,
   "metadata": {},
   "outputs": [
    {
     "data": {
      "image/png": "[encoded data removed]",
      "text/plain": [
       "<Figure size 936x576 with 2 Axes>"
      ]
     },
     "metadata": {
      "needs_background": "light"
     },
     "output_type": "display_data"
    }
   ],
   "source": [
    "# выбираем интервал\n",
    "interval_cols = ['Price', 'RegistrationYear', 'Power', 'Kilometer']\n",
    "\n",
    "# задаем матрицу корреляции\n",
    "corr_matrix = df_corr.phik_matrix(interval_cols=interval_cols, bins=(2))\n",
    "\n",
    "# визуализируем матрицу корреляции через тепловую карту\n",
    "plt.figure(figsize=(13, 8))\n",
    "sns.heatmap(corr_matrix, \n",
    "            annot=True, \n",
    "            cmap='coolwarm')\n",
    "plt.title('Корреляция признаков в данных')\n",
    "plt.show() "
   ]
  },
  {
   "cell_type": "markdown",
   "metadata": {},
   "source": [
    "**Корреляция данных**:\n",
    "\n",
    "\n",
    "- **Корреляция с целевой переменной** - ценой автомобиля (Price) - в порядке убывания зависимости:  \n",
    "\n",
    "   - Мощность (Power)\n",
    "   - Пробег (Kilometer)\n",
    "   - Бренд (Brand) \n",
    "   - Битая/небитая (Repaired)\n",
    "   - Тип кузова (VehciceType) \n",
    "   - Тип коробки (Gearbox)   \n",
    "   - Тип топлива (FuelType) \n",
    "   - Год регистрации (RegisrationYear).\n",
    "\n",
    "\n",
    "- **Наибольшая взаимная корреляция:**  \n",
    "   \n",
    "   - Бренд/Тип кузова \n",
    "   - Бренд/Тип коробки \n",
    "   - Мощность/Тип коробки \n",
    "   - Мощность/Бренд."
   ]
  },
  {
   "cell_type": "markdown",
   "metadata": {},
   "source": [
    "**Признаки, влияющие на цену автомобиля:** \n",
    "\n",
    "- **VehicleType:** тип машины определяет ее функционал. Чем больше возможностей у машины, тем выше цена.\n",
    "\n",
    "\n",
    "- **Gearbox:** наличие автоматической коробки передач повышает стоимость машины из-за сложности конструкции.\n",
    "\n",
    "\n",
    "- **Power:** мощность двигателя в лошадиных силах (далее л.с.) напрямую влияют на стоимость.\n",
    "\n",
    "\n",
    "- **Kilometer:** чем выше пробег, тем ниже надежность автомобиля и, соответственно, цена.\n",
    "\n",
    "\n",
    "- **FuelType:** тип топлива (судя по данным, скорее тип питания) определяет конструкцию двигателя, а следовательно, влияет на цену.\n",
    "\n",
    "\n",
    "- **Brand:** марка отражает уровень качества и популярность автомобиля и напрямую влияет на цену.\n",
    "\n",
    "\n",
    "- **Repaired:** автомобили, побывавшие в дтп теряют надежность и ценятся ниже.\n",
    "\n",
    "\n",
    "- **RegistrationYear:** чем выше возраст, тем ниже цена, зависимость аналогичная пробегу.\n",
    "\n",
    "\n",
    "- **Model:**  вкупе с типом двигателя и маркой влияет на популярность среди покупателей, а следовательно, и на цену.\n",
    "\n",
    "\n",
    "- **Другие** признаки **будут неинформативными** для модели с точки зрения влияния на прогнозирование цены."
   ]
  },
  {
   "cell_type": "markdown",
   "metadata": {},
   "source": [
    "### Вывод по первому шагу\n",
    " \n",
    "- Загрузили данные, ознакомились, определили пропуски, аномалии, дубликаты и актуальные признаки, изучили распределение и корреляцию.\n",
    "  \n",
    "  \n",
    "  Одно из требований, предъявляемых к модели в этом проекте - **качество предсказания**, поэтому **данные должны быть** максимально **актуальными и адекватными**.  \n",
    "    \n",
    "    \n",
    "**План на предобработку**:\n",
    "\n",
    "   - **Удалим объявления** со сроком размещения дольше 35 дней. \n",
    "\n",
    "\n",
    "   - **Price:** избавимся от выбросов и нулевых значений, отрезав хвост: оставим в датасете только адекватные данные (не более 88%).   \n",
    "   \n",
    "   \n",
    "   - **Model:** заменим пропуски на значение 'unknown'.\n",
    "   \n",
    "   \n",
    "   - **Repaired:** заменим пропуски на значение **'yes'** (автовладельцы, вероятнее всего, умышленно пропускают  этот пункт в анкете, не желая понижать ценность автомобиля в глазах потенциального покупателя; заменим 'yes' и 'no' на 1 и 0, соответственно.\n",
    "\n",
    "\n",
    "   - **VehicleType**, **FuelType:** и **Gearbox:** восстановим пропущенные значения по популярному типу из столбцов Model и Brand.\n",
    "   \n",
    "     \n",
    "   - **Power:** скорректируем мощность на основе реальных значений: избавимся от выбросов, оставим только актуальные данные.\n",
    "\n",
    "   \n",
    "   - **RegistrationYear:** скорректируем данные на основе реальных значений: избавимся от выбросов, оставим только актуальные данные.\n",
    "   \n",
    "   \n",
    "   - **Заменим** числовой **тип данных** на более экономичный.    \n",
    "   \n",
    "   \n",
    "   - **Удалим** неинформативные столбцы: **DateCrawled, LastSeen, RegistrationMonth, DateCreated, NumberOfPictures, PostalCode**, days_exposition.\n",
    "   \n",
    " "
   ]
  },
  {
   "cell_type": "markdown",
   "metadata": {},
   "source": [
    "## Предобработка"
   ]
  },
  {
   "cell_type": "markdown",
   "metadata": {},
   "source": [
    " - Удаляем объявления со сроком размещения дольше 35 дней и избавляемся от выбросов и нулевых значений в столбце Price."
   ]
  },
  {
   "cell_type": "code",
   "execution_count": 26,
   "metadata": {},
   "outputs": [
    {
     "name": "stdout",
     "output_type": "stream",
     "text": [
      "<class 'pandas.core.frame.DataFrame'>\n",
      "Int64Index: 310245 entries, 0 to 354364\n",
      "Data columns (total 17 columns):\n",
      " #   Column             Non-Null Count   Dtype         \n",
      "---  ------             --------------   -----         \n",
      " 0   DateCrawled        310245 non-null  datetime64[ns]\n",
      " 1   Price              310245 non-null  int64         \n",
      " 2   VehicleType        278661 non-null  object        \n",
      " 3   RegistrationYear   310245 non-null  int64         \n",
      " 4   Gearbox            294395 non-null  object        \n",
      " 5   Power              310245 non-null  int64         \n",
      " 6   Model              294200 non-null  object        \n",
      " 7   Kilometer          310245 non-null  int64         \n",
      " 8   RegistrationMonth  310245 non-null  int64         \n",
      " 9   FuelType           282840 non-null  object        \n",
      " 10  Brand              310245 non-null  object        \n",
      " 11  Repaired           248138 non-null  object        \n",
      " 12  DateCreated        310245 non-null  datetime64[ns]\n",
      " 13  NumberOfPictures   310245 non-null  int64         \n",
      " 14  PostalCode         310245 non-null  int64         \n",
      " 15  LastSeen           310245 non-null  datetime64[ns]\n",
      " 16  days_exposition    310245 non-null  float64       \n",
      "dtypes: datetime64[ns](3), float64(1), int64(7), object(6)\n",
      "memory usage: 42.6+ MB\n"
     ]
    },
    {
     "data": {
      "text/plain": [
       "0.8754956048142452"
      ]
     },
     "execution_count": 26,
     "metadata": {},
     "output_type": "execute_result"
    }
   ],
   "source": [
    "# создаем копию датасета\n",
    "data_old = data.copy()\n",
    "# выбираем диапазон\n",
    "data = data.query('100 <= Price <= 12000')\n",
    "data = data.query('days_exposition <= 35')\n",
    "# проверяем\n",
    "data.info()\n",
    "data.shape[0]/data_old.shape[0]"
   ]
  },
  {
   "cell_type": "markdown",
   "metadata": {},
   "source": [
    " - Меняем пропущенные значения в столбцах Model, Repaired, VehicleType, FuelType и Gearbox."
   ]
  },
  {
   "cell_type": "code",
   "execution_count": 27,
   "metadata": {},
   "outputs": [
    {
     "name": "stdout",
     "output_type": "stream",
     "text": [
      "0\n"
     ]
    }
   ],
   "source": [
    "# меняем пропуски в столбце 'Model'\n",
    "data['Model'].fillna('unknown', inplace=True)\n",
    "\n",
    "# проверяем\n",
    "print(data['Model'].isna().sum())"
   ]
  },
  {
   "cell_type": "code",
   "execution_count": 28,
   "metadata": {},
   "outputs": [
    {
     "name": "stdout",
     "output_type": "stream",
     "text": [
      "0\n"
     ]
    },
    {
     "data": {
      "text/plain": [
       "0    0.693681\n",
       "1    0.306319\n",
       "Name: Repaired, dtype: float64"
      ]
     },
     "execution_count": 28,
     "metadata": {},
     "output_type": "execute_result"
    }
   ],
   "source": [
    "# меняем пропуски в столбце 'Repaired'\n",
    "data['Repaired'].fillna('yes', inplace=True)\n",
    "\n",
    "# меняем строковые значения на числа \n",
    "data['Repaired'] = data['Repaired']. replace ('yes', 1)\n",
    "data['Repaired'] = data['Repaired']. replace ('no', 0)\n",
    "\n",
    "# проверяем\n",
    "print(data['Repaired'].isna().sum())\n",
    "data['Repaired'].value_counts(normalize=True)"
   ]
  },
  {
   "cell_type": "code",
   "execution_count": 29,
   "metadata": {},
   "outputs": [
    {
     "name": "stdout",
     "output_type": "stream",
     "text": [
      "0\n",
      "sedan          93581\n",
      "small          86987\n",
      "wagon          60234\n",
      "bus            28645\n",
      "convertible    16455\n",
      "coupe          13040\n",
      "suv             8410\n",
      "other           2893\n",
      "Name: VehicleType, dtype: int64\n"
     ]
    }
   ],
   "source": [
    "# создаем функцию по замене пропусков\n",
    "def fillna_features(column):\n",
    "    data[column] = data[column].fillna(data\n",
    "                                       .groupby(['Brand','Model'])[column]\n",
    "                                       .transform(lambda x: x.value_counts().idxmax())\n",
    "                                       )\n",
    "    # прoверяем\n",
    "    print(data[column].isna().sum())\n",
    "    print(data[column].value_counts())\n",
    "    \n",
    "# заполняем пропуски в столбце VehicleType самым частым значением по признаку Brand и Model    \n",
    "fillna_features('VehicleType')"
   ]
  },
  {
   "cell_type": "code",
   "execution_count": 30,
   "metadata": {},
   "outputs": [
    {
     "name": "stdout",
     "output_type": "stream",
     "text": [
      "0\n",
      "petrol      219649\n",
      "gasoline     84761\n",
      "lpg           4937\n",
      "cng            534\n",
      "other          146\n",
      "hybrid         146\n",
      "electric        72\n",
      "Name: FuelType, dtype: int64\n"
     ]
    }
   ],
   "source": [
    "# заполняем пропуски в столбце FuelType самым частым значением по признаку Brand и Model    \n",
    "fillna_features('FuelType')"
   ]
  },
  {
   "cell_type": "code",
   "execution_count": 31,
   "metadata": {},
   "outputs": [
    {
     "name": "stdout",
     "output_type": "stream",
     "text": [
      "0\n",
      "manual    257012\n",
      "auto       53233\n",
      "Name: Gearbox, dtype: int64\n"
     ]
    }
   ],
   "source": [
    "# заполняем пропуски в столбце FuelType самым частым значением по признаку Brand и Model    \n",
    "fillna_features('Gearbox')"
   ]
  },
  {
   "cell_type": "markdown",
   "metadata": {},
   "source": [
    "- Оставляем в датасете только актуальные данные столбцов Power."
   ]
  },
  {
   "cell_type": "code",
   "execution_count": 32,
   "metadata": {},
   "outputs": [
    {
     "name": "stdout",
     "output_type": "stream",
     "text": [
      "<class 'pandas.core.frame.DataFrame'>\n",
      "Int64Index: 274238 entries, 2 to 354364\n",
      "Data columns (total 17 columns):\n",
      " #   Column             Non-Null Count   Dtype         \n",
      "---  ------             --------------   -----         \n",
      " 0   DateCrawled        274238 non-null  datetime64[ns]\n",
      " 1   Price              274238 non-null  int64         \n",
      " 2   VehicleType        274238 non-null  object        \n",
      " 3   RegistrationYear   274238 non-null  int64         \n",
      " 4   Gearbox            274238 non-null  object        \n",
      " 5   Power              274238 non-null  int64         \n",
      " 6   Model              274238 non-null  object        \n",
      " 7   Kilometer          274238 non-null  int64         \n",
      " 8   RegistrationMonth  274238 non-null  int64         \n",
      " 9   FuelType           274238 non-null  object        \n",
      " 10  Brand              274238 non-null  object        \n",
      " 11  Repaired           274238 non-null  int64         \n",
      " 12  DateCreated        274238 non-null  datetime64[ns]\n",
      " 13  NumberOfPictures   274238 non-null  int64         \n",
      " 14  PostalCode         274238 non-null  int64         \n",
      " 15  LastSeen           274238 non-null  datetime64[ns]\n",
      " 16  days_exposition    274238 non-null  float64       \n",
      "dtypes: datetime64[ns](3), float64(1), int64(8), object(5)\n",
      "memory usage: 37.7+ MB\n"
     ]
    },
    {
     "data": {
      "text/plain": [
       "0.7738856828411383"
      ]
     },
     "execution_count": 32,
     "metadata": {},
     "output_type": "execute_result"
    }
   ],
   "source": [
    "# выбираем диапазон\n",
    "data = data.query('40 <= Power <= 350')\n",
    "# проверяем\n",
    "data.info()\n",
    "data.shape[0]/data_old.shape[0]"
   ]
  },
  {
   "cell_type": "markdown",
   "metadata": {},
   "source": [
    "- Оставляем в датасете только актуальные данные столбцов RegistrationYear."
   ]
  },
  {
   "cell_type": "code",
   "execution_count": 33,
   "metadata": {},
   "outputs": [
    {
     "name": "stdout",
     "output_type": "stream",
     "text": [
      "<class 'pandas.core.frame.DataFrame'>\n",
      "Int64Index: 264452 entries, 2 to 354364\n",
      "Data columns (total 17 columns):\n",
      " #   Column             Non-Null Count   Dtype         \n",
      "---  ------             --------------   -----         \n",
      " 0   DateCrawled        264452 non-null  datetime64[ns]\n",
      " 1   Price              264452 non-null  int64         \n",
      " 2   VehicleType        264452 non-null  object        \n",
      " 3   RegistrationYear   264452 non-null  int64         \n",
      " 4   Gearbox            264452 non-null  object        \n",
      " 5   Power              264452 non-null  int64         \n",
      " 6   Model              264452 non-null  object        \n",
      " 7   Kilometer          264452 non-null  int64         \n",
      " 8   RegistrationMonth  264452 non-null  int64         \n",
      " 9   FuelType           264452 non-null  object        \n",
      " 10  Brand              264452 non-null  object        \n",
      " 11  Repaired           264452 non-null  int64         \n",
      " 12  DateCreated        264452 non-null  datetime64[ns]\n",
      " 13  NumberOfPictures   264452 non-null  int64         \n",
      " 14  PostalCode         264452 non-null  int64         \n",
      " 15  LastSeen           264452 non-null  datetime64[ns]\n",
      " 16  days_exposition    264452 non-null  float64       \n",
      "dtypes: datetime64[ns](3), float64(1), int64(8), object(5)\n",
      "memory usage: 36.3+ MB\n"
     ]
    },
    {
     "data": {
      "text/plain": [
       "0.7462700887502999"
      ]
     },
     "execution_count": 33,
     "metadata": {},
     "output_type": "execute_result"
    }
   ],
   "source": [
    "# выбираем диапазон для обучения \n",
    "data = data.query('1960 <= RegistrationYear <= 2016')\n",
    "\n",
    "# проверяем\n",
    "data.info()\n",
    "data.shape[0]/data_old.shape[0]"
   ]
  },
  {
   "cell_type": "markdown",
   "metadata": {},
   "source": [
    "- Заменим числовой тип данных на более экономичный."
   ]
  },
  {
   "cell_type": "code",
   "execution_count": 34,
   "metadata": {},
   "outputs": [
    {
     "name": "stdout",
     "output_type": "stream",
     "text": [
      "<class 'pandas.core.frame.DataFrame'>\n",
      "Int64Index: 264452 entries, 2 to 354364\n",
      "Data columns (total 17 columns):\n",
      " #   Column             Non-Null Count   Dtype         \n",
      "---  ------             --------------   -----         \n",
      " 0   DateCrawled        264452 non-null  datetime64[ns]\n",
      " 1   Price              264452 non-null  int32         \n",
      " 2   VehicleType        264452 non-null  object        \n",
      " 3   RegistrationYear   264452 non-null  int32         \n",
      " 4   Gearbox            264452 non-null  object        \n",
      " 5   Power              264452 non-null  int32         \n",
      " 6   Model              264452 non-null  object        \n",
      " 7   Kilometer          264452 non-null  int32         \n",
      " 8   RegistrationMonth  264452 non-null  int64         \n",
      " 9   FuelType           264452 non-null  object        \n",
      " 10  Brand              264452 non-null  object        \n",
      " 11  Repaired           264452 non-null  int32         \n",
      " 12  DateCreated        264452 non-null  datetime64[ns]\n",
      " 13  NumberOfPictures   264452 non-null  int64         \n",
      " 14  PostalCode         264452 non-null  int64         \n",
      " 15  LastSeen           264452 non-null  datetime64[ns]\n",
      " 16  days_exposition    264452 non-null  float64       \n",
      "dtypes: datetime64[ns](3), float64(1), int32(5), int64(3), object(5)\n",
      "memory usage: 31.3+ MB\n"
     ]
    }
   ],
   "source": [
    "# меняем тип данных с 64 на 32\n",
    "def change_type(columns, type):\n",
    "    data[columns\n",
    "        ] = data[columns].astype(type)\n",
    "    return data \n",
    "data = change_type(data.columns[[1,3,5,7,11]],'int32')\n",
    "\n",
    "# проверяем\n",
    "data.info()"
   ]
  },
  {
   "cell_type": "code",
   "execution_count": 35,
   "metadata": {},
   "outputs": [
    {
     "name": "stdout",
     "output_type": "stream",
     "text": [
      "(264452, 10)\n",
      "<class 'pandas.core.frame.DataFrame'>\n",
      "RangeIndex: 264452 entries, 0 to 264451\n",
      "Data columns (total 10 columns):\n",
      " #   Column            Non-Null Count   Dtype \n",
      "---  ------            --------------   ----- \n",
      " 0   Price             264452 non-null  int32 \n",
      " 1   VehicleType       264452 non-null  object\n",
      " 2   RegistrationYear  264452 non-null  int32 \n",
      " 3   Gearbox           264452 non-null  object\n",
      " 4   Power             264452 non-null  int32 \n",
      " 5   Model             264452 non-null  object\n",
      " 6   Kilometer         264452 non-null  int32 \n",
      " 7   FuelType          264452 non-null  object\n",
      " 8   Brand             264452 non-null  object\n",
      " 9   Repaired          264452 non-null  int32 \n",
      "dtypes: int32(5), object(5)\n",
      "memory usage: 15.1+ MB\n"
     ]
    }
   ],
   "source": [
    "# удаляем лишние столбцы\n",
    "data = data.drop(['DateCrawled', 'LastSeen', 'RegistrationMonth', \n",
    "                  'DateCreated', 'NumberOfPictures', 'PostalCode',\n",
    "                 'days_exposition'], axis=1)\n",
    "\n",
    "# сбросываем индексы\n",
    "data.reset_index(drop=True, inplace=True)\n",
    "\n",
    "# проверяем\n",
    "print(data.shape)\n",
    "data.info()"
   ]
  },
  {
   "cell_type": "markdown",
   "metadata": {},
   "source": [
    " - После обработки и удаления части данных, еще раз проверим наличие дубликатов  и, если обнаружим, избавимся от них."
   ]
  },
  {
   "cell_type": "code",
   "execution_count": 36,
   "metadata": {},
   "outputs": [
    {
     "data": {
      "text/plain": [
       "39919"
      ]
     },
     "execution_count": 36,
     "metadata": {},
     "output_type": "execute_result"
    }
   ],
   "source": [
    "# смотрим дубликаты \n",
    "data.duplicated().sum()"
   ]
  },
  {
   "cell_type": "code",
   "execution_count": 37,
   "metadata": {},
   "outputs": [
    {
     "name": "stdout",
     "output_type": "stream",
     "text": [
      "0\n",
      "<class 'pandas.core.frame.DataFrame'>\n",
      "RangeIndex: 224533 entries, 0 to 224532\n",
      "Data columns (total 10 columns):\n",
      " #   Column            Non-Null Count   Dtype \n",
      "---  ------            --------------   ----- \n",
      " 0   Price             224533 non-null  int32 \n",
      " 1   VehicleType       224533 non-null  object\n",
      " 2   RegistrationYear  224533 non-null  int32 \n",
      " 3   Gearbox           224533 non-null  object\n",
      " 4   Power             224533 non-null  int32 \n",
      " 5   Model             224533 non-null  object\n",
      " 6   Kilometer         224533 non-null  int32 \n",
      " 7   FuelType          224533 non-null  object\n",
      " 8   Brand             224533 non-null  object\n",
      " 9   Repaired          224533 non-null  int32 \n",
      "dtypes: int32(5), object(5)\n",
      "memory usage: 12.8+ MB\n"
     ]
    }
   ],
   "source": [
    "# удаляем дубликаты и сбрасываем индексы\n",
    "data.drop_duplicates(inplace=True, ignore_index=True)\n",
    "\n",
    "#проверяем\n",
    "print(data.duplicated().sum())\n",
    "data.info()"
   ]
  },
  {
   "cell_type": "markdown",
   "metadata": {},
   "source": [
    "### Вывод по  второму  шагу\n",
    "\n",
    "- **Обработали пропуски и аномалии**, оставили в датасете только актуальные признаки и адекватные значения. Удалили появившиеся дубликаты.\n",
    "  "
   ]
  },
  {
   "cell_type": "markdown",
   "metadata": {},
   "source": [
    "**План на подготовку к обучению модели**:\n",
    "\n",
    "- Разделим данные на выборки: обучающую, валидационную, тестовую.\n",
    "\n",
    "\n",
    "- Закодируем категориальные признаки методом OHE и OE.\n",
    "\n",
    "\n",
    "- Обработаем выбросы StandartScaler.\n"
   ]
  },
  {
   "cell_type": "markdown",
   "metadata": {},
   "source": [
    "## Подготовка данных"
   ]
  },
  {
   "cell_type": "code",
   "execution_count": 38,
   "metadata": {},
   "outputs": [
    {
     "name": "stdout",
     "output_type": "stream",
     "text": [
      "(168399, 9)\n",
      "(168399,)\n",
      "(28067, 9)\n",
      "(28067,)\n",
      "(28067, 9)\n",
      "(28067,)\n"
     ]
    }
   ],
   "source": [
    "# формируем выборки и выделяем цель и признаки: \n",
    "# выделяем цель и признаки\n",
    "target = data['Price']\n",
    "features = data.drop('Price', axis=1)\n",
    "\n",
    "# формируем выборки: обучающую(75%) валидационную(12,5%) и тестовую(12,5%)\n",
    "features_train, features_test1, target_train, target_test1 = train_test_split(features,\n",
    "                                target,\n",
    "                                test_size=0.25,\n",
    "                                random_state=12345)\n",
    "\n",
    "features_test, features_valid, target_test, target_valid  = train_test_split(features_test1,\n",
    "                                target_test1,\n",
    "                                test_size=0.5,\n",
    "                                random_state=12345) \n",
    "\n",
    "# проверяем\n",
    "print(features_train.shape)\n",
    "print(target_train.shape)\n",
    "print(features_valid.shape)\n",
    "print(target_valid.shape)\n",
    "print(features_test.shape)\n",
    "print(target_test.shape)"
   ]
  },
  {
   "cell_type": "markdown",
   "metadata": {},
   "source": [
    " - Закодируем категориальные признаки для Линейных моделей методом OHE."
   ]
  },
  {
   "cell_type": "code",
   "execution_count": 39,
   "metadata": {},
   "outputs": [],
   "source": [
    "# задаем категориальные признаки для кодировки\n",
    "ohe_features = ['VehicleType', 'Gearbox', 'Model', 'FuelType', 'Brand']\n",
    "\n",
    "# задаем численные признаки для масштабирования\n",
    "num_features = ['RegistrationYear', 'Power', 'Kilometer']"
   ]
  },
  {
   "cell_type": "code",
   "execution_count": 40,
   "metadata": {},
   "outputs": [],
   "source": [
    "# задаем переменные для OHE\n",
    "features_train_ohe = features_train.copy()\n",
    "features_valid_ohe = features_valid.copy()\n",
    "features_test_ohe = features_test.copy()"
   ]
  },
  {
   "cell_type": "code",
   "execution_count": 41,
   "metadata": {},
   "outputs": [
    {
     "name": "stdout",
     "output_type": "stream",
     "text": [
      "(168399, 303)\n"
     ]
    }
   ],
   "source": [
    "# активируем кодировщик категориальных признаков\n",
    "encoder_ohe = OneHotEncoder(drop='first', sparse_output=False, handle_unknown='ignore')\n",
    "\n",
    "# обучаем энкодер на заданных категориальных признаках тренировочной выборки\n",
    "encoder_ohe.fit(features_train_ohe[ohe_features])\n",
    "\n",
    "# кодируем категориальные признаки\n",
    "features_train_ohe[\n",
    "    encoder_ohe.get_feature_names_out()\n",
    "] = encoder_ohe.transform(features_train_ohe[ohe_features])\n",
    "\n",
    "# удаляем лишние колонки \n",
    "features_train_ohe = features_train_ohe.drop(ohe_features, axis=1)\n",
    "\n",
    "# проверяем\n",
    "print(features_train_ohe.shape)"
   ]
  },
  {
   "cell_type": "code",
   "execution_count": 42,
   "metadata": {},
   "outputs": [
    {
     "name": "stdout",
     "output_type": "stream",
     "text": [
      "(28067, 303)\n"
     ]
    }
   ],
   "source": [
    "# кодируем категориальные признаки в валидационой выборке, кодировщиком, обученным на тренировочной\n",
    "features_valid_ohe[\n",
    "    encoder_ohe.get_feature_names_out()\n",
    "] = encoder_ohe.transform(features_valid_ohe[ohe_features])\n",
    "\n",
    "# удаляем лишние колонки \n",
    "features_valid_ohe = features_valid_ohe.drop(ohe_features, axis=1)\n",
    "\n",
    "# проверяем\n",
    "print(features_valid_ohe.shape)"
   ]
  },
  {
   "cell_type": "code",
   "execution_count": 43,
   "metadata": {},
   "outputs": [
    {
     "name": "stdout",
     "output_type": "stream",
     "text": [
      "(28067, 303)\n"
     ]
    }
   ],
   "source": [
    "# кодируем категориальные признаки в тестовом наборе, кодировщиком, обученным на тренировочной\n",
    "features_test_ohe[\n",
    "    encoder_ohe.get_feature_names_out()\n",
    "] = encoder_ohe.transform(features_test_ohe[ohe_features])\n",
    "\n",
    "# удаляем лишние колонки \n",
    "features_test_ohe = features_test_ohe.drop(ohe_features, axis=1)\n",
    "\n",
    "# проверяем\n",
    "print(features_test_ohe.shape)"
   ]
  },
  {
   "cell_type": "markdown",
   "metadata": {},
   "source": [
    "- Проведем масштабирование признаков."
   ]
  },
  {
   "cell_type": "code",
   "execution_count": 44,
   "metadata": {},
   "outputs": [
    {
     "name": "stdout",
     "output_type": "stream",
     "text": [
      "(168399, 303)\n",
      "(28067, 303)\n",
      "(28067, 303)\n"
     ]
    }
   ],
   "source": [
    "# масштабируем численные признаки \n",
    "scaler = StandardScaler()\n",
    "scaler.fit(features_train_ohe[num_features])\n",
    "features_train_ohe[num_features] = scaler.transform(features_train_ohe[num_features])\n",
    "features_valid_ohe[num_features] = scaler.transform(features_valid_ohe[num_features])\n",
    "features_test_ohe[num_features] = scaler.transform(features_test_ohe[num_features])\n",
    "\n",
    "# проверяем размер итоговых выборок\n",
    "print(features_train_ohe.shape) \n",
    "print(features_valid_ohe.shape)\n",
    "print(features_test_ohe.shape)"
   ]
  },
  {
   "cell_type": "markdown",
   "metadata": {},
   "source": [
    "- Закодируем категориальные признаки для Бустинга методом OrdinalEncoder."
   ]
  },
  {
   "cell_type": "code",
   "execution_count": 45,
   "metadata": {},
   "outputs": [],
   "source": [
    "# задаем переменные для OE\n",
    "features_train_oe = features_train.copy()\n",
    "features_valid_oe = features_valid.copy()\n",
    "features_test_oe = features_test.copy()"
   ]
  },
  {
   "cell_type": "code",
   "execution_count": 46,
   "metadata": {},
   "outputs": [
    {
     "name": "stdout",
     "output_type": "stream",
     "text": [
      "(168399, 9)\n"
     ]
    }
   ],
   "source": [
    "# активируем кодировщик категориальных признаков\n",
    "encoder_oe = OrdinalEncoder(handle_unknown='use_encoded_value', unknown_value=249)\n",
    "\n",
    "# обучаем энкодер на заданных категориальных признаках тренировочной выборки\n",
    "encoder_oe.fit(features_train_oe[ohe_features])\n",
    "\n",
    "# кодируем категориальные признаки\n",
    "features_train_oe[\n",
    "    encoder_oe.get_feature_names_out()\n",
    "] = encoder_oe.transform(features_train_oe[ohe_features])\n",
    "\n",
    "# проверяем\n",
    "print(features_train_oe.shape)"
   ]
  },
  {
   "cell_type": "code",
   "execution_count": 47,
   "metadata": {},
   "outputs": [
    {
     "name": "stdout",
     "output_type": "stream",
     "text": [
      "(28067, 9)\n"
     ]
    }
   ],
   "source": [
    "# кодируем категориальные признаки в валидационой выборке, кодировщиком, обученным на тренировочной\n",
    "features_valid_oe[\n",
    "    encoder_oe.get_feature_names_out()\n",
    "] = encoder_oe.transform(features_valid_oe[ohe_features])\n",
    "\n",
    "# проверяем\n",
    "print(features_valid_oe.shape)"
   ]
  },
  {
   "cell_type": "code",
   "execution_count": 48,
   "metadata": {},
   "outputs": [
    {
     "name": "stdout",
     "output_type": "stream",
     "text": [
      "(28067, 9)\n"
     ]
    }
   ],
   "source": [
    "# кодируем категориальные признаки в тестовом наборе, кодировщиком, обученным на тренировочной\n",
    "features_test_oe[\n",
    "    encoder_oe.get_feature_names_out()\n",
    "] = encoder_oe.transform(features_test_oe[ohe_features])\n",
    "\n",
    "# проверяем\n",
    "print(features_test_oe.shape)"
   ]
  },
  {
   "cell_type": "markdown",
   "metadata": {},
   "source": [
    "- Проведем масштабирование признаков."
   ]
  },
  {
   "cell_type": "code",
   "execution_count": 49,
   "metadata": {},
   "outputs": [
    {
     "name": "stdout",
     "output_type": "stream",
     "text": [
      "(168399, 9)\n",
      "(28067, 9)\n",
      "(28067, 9)\n"
     ]
    }
   ],
   "source": [
    "# масштабируем численные признаки \n",
    "scaler = StandardScaler()\n",
    "scaler.fit(features_train_oe[num_features])\n",
    "features_train_oe[num_features] = scaler.transform(features_train_oe[num_features])\n",
    "features_valid_oe[num_features] = scaler.transform(features_valid_oe[num_features])\n",
    "features_test_oe[num_features] = scaler.transform(features_test_oe[num_features])\n",
    "\n",
    "# проверяем размер итоговых выборок\n",
    "print(features_train_oe.shape) \n",
    "print(features_valid_oe.shape)\n",
    "print(features_test_oe.shape)"
   ]
  },
  {
   "cell_type": "markdown",
   "metadata": {},
   "source": [
    "### Вывод по третьему  шагу\n",
    "\n",
    "- Разделили датасет на выборки (обучающую - 75%, валидационную - 12,5%, и тестовую - 12,5% ), обработали категориальные и числовые признаки по-разному для разных моделей.\n",
    "  "
   ]
  },
  {
   "cell_type": "markdown",
   "metadata": {},
   "source": [
    "## Обучение моделей"
   ]
  },
  {
   "cell_type": "markdown",
   "metadata": {},
   "source": [
    "- Проводим обучение моделей и получаем предсказания с параметрами по умолчанию, фиксируя время операций."
   ]
  },
  {
   "cell_type": "code",
   "execution_count": 50,
   "metadata": {},
   "outputs": [],
   "source": [
    "# создаем функцию работы моделей\n",
    "def RMSE_price(model, features_train, features_valid, target):\n",
    "    \n",
    "    # фиксируем время начала обучения\n",
    "    start_time_fit = time.time() \n",
    "    # обучаем модель\n",
    "    model.fit(features_train, target_train) \n",
    "    # фиксируем время конца обучения и общее время\n",
    "    end_time_fit = time.time()\n",
    "    full_time_fit = round(end_time_fit - start_time_fit,3)\n",
    "    \n",
    "    # фиксируем время начала выполнения предсказания\n",
    "    start_time_predict = time.time()\n",
    "    # получаем предсказание\n",
    "    predicted_valid = model.predict(features_valid)\n",
    "    predicted_valid_mean = predicted_valid.mean()\n",
    "    rmse = root_mean_squared_error(target, predicted_valid)\n",
    "    # фиксируем время конца выполнения предсказания и общее время\n",
    "    end_time_predict = time.time()\n",
    "    full_time_predict = round(end_time_predict - start_time_predict,3)\n",
    "    \n",
    "    return predicted_valid_mean, rmse, full_time_fit, full_time_predict"
   ]
  },
  {
   "cell_type": "code",
   "execution_count": 51,
   "metadata": {},
   "outputs": [
    {
     "name": "stdout",
     "output_type": "stream",
     "text": [
      "Средняя цена, предсказанная LinearRegression: 3784.1354686341215 , RMSE = 1894.937127059451\n",
      "Время обучения LinearRegression: 16.369 секунд\n",
      "Время предсказания LinearRegression: 0.229 секунд\n",
      "CPU times: user 12.7 s, sys: 3.95 s, total: 16.6 s\n",
      "Wall time: 16.6 s\n"
     ]
    }
   ],
   "source": [
    "%%time \n",
    "# активируем модель \n",
    "model_LR = LinearRegression()\n",
    "# получаем предсказание Линейной регрессии на валидационной выборке\n",
    "pred_valid_mean_LR, rmse_LR, time_fit_LR, time_predict_LR = RMSE_price(model_LR,\n",
    "                                                                       features_train_ohe, \n",
    "                                                                       features_valid_ohe,\n",
    "                                                                       target_valid)\n",
    "# выводим итоговые показатели \n",
    "print('Средняя цена, предсказанная LinearRegression:', pred_valid_mean_LR,', RMSE =',rmse_LR)\n",
    "print(f\"Время обучения LinearRegression: {time_fit_LR} секунд\")\n",
    "print(f\"Время предсказания LinearRegression: {time_predict_LR} секунд\")"
   ]
  },
  {
   "cell_type": "code",
   "execution_count": 52,
   "metadata": {},
   "outputs": [
    {
     "name": "stdout",
     "output_type": "stream",
     "text": [
      "Средняя цена, предсказанная LGBMRegressor: 3753.953942861009 , RMSE = 1288.4572274915563\n",
      "Время обучения LGBMRegressor: 8.002 секунд\n",
      "Время предсказания LGBMRegressor: 0.298 секунд\n",
      "CPU times: user 8.05 s, sys: 125 ms, total: 8.18 s\n",
      "Wall time: 8.3 s\n"
     ]
    }
   ],
   "source": [
    "%%time\n",
    "# активируем модель \n",
    "model_LGBMR = LGBMRegressor(random_state=12345)\n",
    "# получаем предсказание LGBMRegressor на валидационной выборке\n",
    "pred_valid_mean_LGBMR, rmse_LGBMR, time_fit_LGBMR, time_predict_LGBMR = RMSE_price(model_LGBMR,\n",
    "                                                                                   features_train_oe, \n",
    "                                                                                   features_valid_oe,\n",
    "                                                                                   target_valid)\n",
    "#выводим итоговые показатели \n",
    "print('Средняя цена, предсказанная LGBMRegressor:', pred_valid_mean_LGBMR,', RMSE =',rmse_LGBMR)\n",
    "print(f\"Время обучения LGBMRegressor: {time_fit_LGBMR} секунд\")\n",
    "print(f\"Время предсказания LGBMRegressor: {time_predict_LGBMR} секунд\")"
   ]
  },
  {
   "cell_type": "code",
   "execution_count": 53,
   "metadata": {},
   "outputs": [
    {
     "name": "stdout",
     "output_type": "stream",
     "text": [
      "Средняя цена, предсказанная CatBoostRegressor: 3754.3328197140886 , RMSE = 1243.3180062780305\n",
      "Время обучения CatBoostRegressor: 24.603 секунд\n",
      "Время предсказания CatBoostRegressor: 0.03 секунд\n",
      "CPU times: user 23.3 s, sys: 109 ms, total: 23.4 s\n",
      "Wall time: 24.6 s\n"
     ]
    }
   ],
   "source": [
    "%%time\n",
    "# активируем модель \n",
    "model_CBR = CatBoostRegressor(verbose=0,random_state=12345)\n",
    "# получаем предсказание CatBoostRegressor на валидационной выборке\n",
    "pred_valid_mean_CBR, rmse_CBR, time_fit_CBR, time_predict_CBR = RMSE_price(model_CBR,\n",
    "                                                                           features_train_oe, \n",
    "                                                                           features_valid_oe,\n",
    "                                                                           target_valid)\n",
    "#выводим итоговые показатели \n",
    "print('Средняя цена, предсказанная CatBoostRegressor:', pred_valid_mean_CBR,', RMSE =',rmse_CBR)\n",
    "print(f\"Время обучения CatBoostRegressor: {time_fit_CBR} секунд\")\n",
    "print(f\"Время предсказания CatBoostRegressor: {time_predict_CBR} секунд\")"
   ]
  },
  {
   "cell_type": "code",
   "execution_count": 54,
   "metadata": {},
   "outputs": [
    {
     "data": {
      "text/html": [
       "<div>\n",
       "<style scoped>\n",
       "    .dataframe tbody tr th:only-of-type {\n",
       "        vertical-align: middle;\n",
       "    }\n",
       "\n",
       "    .dataframe tbody tr th {\n",
       "        vertical-align: top;\n",
       "    }\n",
       "\n",
       "    .dataframe thead th {\n",
       "        text-align: right;\n",
       "    }\n",
       "</style>\n",
       "<table border=\"1\" class=\"dataframe\">\n",
       "  <thead>\n",
       "    <tr style=\"text-align: right;\">\n",
       "      <th></th>\n",
       "      <th>model</th>\n",
       "      <th>RMSE</th>\n",
       "      <th>predict_price_mean</th>\n",
       "      <th>fit_time</th>\n",
       "      <th>predict_time</th>\n",
       "    </tr>\n",
       "  </thead>\n",
       "  <tbody>\n",
       "    <tr>\n",
       "      <th>2</th>\n",
       "      <td>CatBoostReg</td>\n",
       "      <td>1243.318006</td>\n",
       "      <td>3754.332820</td>\n",
       "      <td>24.603</td>\n",
       "      <td>0.030</td>\n",
       "    </tr>\n",
       "    <tr>\n",
       "      <th>1</th>\n",
       "      <td>LGBMReg</td>\n",
       "      <td>1288.457227</td>\n",
       "      <td>3753.953943</td>\n",
       "      <td>8.002</td>\n",
       "      <td>0.298</td>\n",
       "    </tr>\n",
       "    <tr>\n",
       "      <th>0</th>\n",
       "      <td>LinRegression</td>\n",
       "      <td>1894.937127</td>\n",
       "      <td>3784.135469</td>\n",
       "      <td>16.369</td>\n",
       "      <td>0.229</td>\n",
       "    </tr>\n",
       "  </tbody>\n",
       "</table>\n",
       "</div>"
      ],
      "text/plain": [
       "           model         RMSE  predict_price_mean  fit_time  predict_time\n",
       "2    CatBoostReg  1243.318006         3754.332820    24.603         0.030\n",
       "1        LGBMReg  1288.457227         3753.953943     8.002         0.298\n",
       "0  LinRegression  1894.937127         3784.135469    16.369         0.229"
      ]
     },
     "execution_count": 54,
     "metadata": {},
     "output_type": "execute_result"
    }
   ],
   "source": [
    "# создаем таблицу с результатами работы моделей\n",
    "df={'model':  ['LinRegression',\n",
    "               'LGBMReg',\n",
    "               'CatBoostReg'],\n",
    "    \n",
    "    'RMSE':  [rmse_LR,\n",
    "              rmse_LGBMR,\n",
    "              rmse_CBR],\n",
    "    \n",
    "    'predict_price_mean': [pred_valid_mean_LR,\n",
    "                           pred_valid_mean_LGBMR,\n",
    "                           pred_valid_mean_CBR],\n",
    "   \n",
    "    'fit_time': [time_fit_LR,\n",
    "                 time_fit_LGBMR,\n",
    "                 time_fit_CBR],\n",
    "    \n",
    "    'predict_time':[time_predict_LR,\n",
    "                    time_predict_LGBMR,\n",
    "                    time_predict_CBR]}\n",
    "\n",
    "\n",
    "# выводим результаты\n",
    "scores_model_def = pd.DataFrame(df).sort_values(by='RMSE')\n",
    "scores_model_def"
   ]
  },
  {
   "cell_type": "markdown",
   "metadata": {},
   "source": [
    "- **Наилучшие показатели RMSE** и **времени предсказания** с параметрами по умолчанию **у модели CatBoostRegression**. Намного **быстрее всех** обучилась **LightGBMRegressor**."
   ]
  },
  {
   "cell_type": "markdown",
   "metadata": {},
   "source": [
    "- Подберем **гиперпараметры** методом **HalvingRandomSearchCV** и проверим качество предсказаний моделей с новыми гиперпараметрами."
   ]
  },
  {
   "cell_type": "code",
   "execution_count": 55,
   "metadata": {},
   "outputs": [
    {
     "name": "stdout",
     "output_type": "stream",
     "text": [
      "n_iterations: 3\n",
      "n_required_iterations: 3\n",
      "n_possible_iterations: 3\n",
      "min_resources_: 20\n",
      "max_resources_: 80\n",
      "aggressive_elimination: False\n",
      "factor: 2\n",
      "----------\n",
      "iter: 0\n",
      "n_candidates: 4\n",
      "n_resources: 20\n",
      "Fitting 10 folds for each of 4 candidates, totalling 40 fits\n",
      "----------\n",
      "iter: 1\n",
      "n_candidates: 2\n",
      "n_resources: 40\n",
      "Fitting 10 folds for each of 2 candidates, totalling 20 fits\n",
      "----------\n",
      "iter: 2\n",
      "n_candidates: 1\n",
      "n_resources: 80\n",
      "Fitting 10 folds for each of 1 candidates, totalling 10 fits\n"
     ]
    },
    {
     "data": {
      "text/plain": [
       "{'n_jobs': 1, 'fit_intercept': True, 'copy_X': True}"
      ]
     },
     "metadata": {},
     "output_type": "display_data"
    },
    {
     "name": "stdout",
     "output_type": "stream",
     "text": [
      "CPU times: user 17.1 s, sys: 7.98 s, total: 25.1 s\n",
      "Wall time: 25.1 s\n"
     ]
    }
   ],
   "source": [
    "%%time\n",
    "# подбираем гиперпараметры для Линейной регрессии\n",
    "\n",
    "# активируем модель\n",
    "model_LR_HCV = LinearRegression()\n",
    "\n",
    "# задаем область поиска гиперпараметров\n",
    "parametrs =  { 'n_jobs': [1, -1],\n",
    "              'fit_intercept': [True, False],\n",
    "              'copy_X':[True, False]\n",
    "              }\n",
    "\n",
    "# активируем поиск и запускаем обучение\n",
    "HCV_LR = HalvingRandomSearchCV(model_LR_HCV, \n",
    "                               parametrs,\n",
    "                               cv=10,\n",
    "                               n_jobs=-1, \n",
    "                               factor=2,\n",
    "                               max_resources=80,\n",
    "                               scoring='neg_root_mean_squared_error',\n",
    "                               random_state = 12345,\n",
    "                               verbose=1)\n",
    "\n",
    "HCV_LR.fit(features_train_ohe, target_train)\n",
    "\n",
    "# выводим найденные гиперпараметры\n",
    "display(HCV_LR.best_params_) "
   ]
  },
  {
   "cell_type": "code",
   "execution_count": 56,
   "metadata": {},
   "outputs": [
    {
     "name": "stdout",
     "output_type": "stream",
     "text": [
      "Средняя цена, предсказанная LinearRegression: 3784.1354686341215 , RMSE = 1894.937127059451\n",
      "Время обучения LinearRegression: 16.604 секунд\n",
      "Время предсказания LinearRegression: 0.188 секунд\n",
      "CPU times: user 13 s, sys: 3.81 s, total: 16.8 s\n",
      "Wall time: 16.8 s\n"
     ]
    }
   ],
   "source": [
    "%%time\n",
    "# получаем предсказание LinearRegression с выбранными гиперпараметрами на валидационной выборке \n",
    "pred_valid_mean_LR_hcv, rmse_LR_hcv, \\\n",
    "       time_fit_LR_hcv, time_predict_LR_hcv = RMSE_price(HCV_LR.best_estimator_,\n",
    "                                                                features_train_ohe, \n",
    "                                                                features_valid_ohe,\n",
    "                                                                target_valid)\n",
    "#выводим итоговые показатели \n",
    "print('Средняя цена, предсказанная LinearRegression:', pred_valid_mean_LR_hcv,', RMSE =',rmse_LR_hcv)\n",
    "print(f\"Время обучения LinearRegression: {time_fit_LR_hcv} секунд\")\n",
    "print(f\"Время предсказания LinearRegression: {time_predict_LR_hcv} секунд\")"
   ]
  },
  {
   "cell_type": "code",
   "execution_count": 57,
   "metadata": {},
   "outputs": [
    {
     "name": "stdout",
     "output_type": "stream",
     "text": [
      "n_iterations: 3\n",
      "n_required_iterations: 3\n",
      "n_possible_iterations: 3\n",
      "min_resources_: 20\n",
      "max_resources_: 80\n",
      "aggressive_elimination: False\n",
      "factor: 2\n",
      "----------\n",
      "iter: 0\n",
      "n_candidates: 4\n",
      "n_resources: 20\n",
      "Fitting 10 folds for each of 4 candidates, totalling 40 fits\n",
      "----------\n",
      "iter: 1\n",
      "n_candidates: 2\n",
      "n_resources: 40\n",
      "Fitting 10 folds for each of 2 candidates, totalling 20 fits\n",
      "----------\n",
      "iter: 2\n",
      "n_candidates: 1\n",
      "n_resources: 80\n",
      "Fitting 10 folds for each of 1 candidates, totalling 10 fits\n"
     ]
    },
    {
     "data": {
      "text/plain": [
       "{'n_estimators': 300, 'max_depth': 10, 'learning_rate': 0.5}"
      ]
     },
     "metadata": {},
     "output_type": "display_data"
    },
    {
     "name": "stdout",
     "output_type": "stream",
     "text": [
      "CPU times: user 30.8 s, sys: 427 ms, total: 31.2 s\n",
      "Wall time: 32.1 s\n"
     ]
    }
   ],
   "source": [
    "%%time\n",
    "# подбираем гиперпараметры для LGBMRegressor\n",
    "\n",
    "# активируем модель\n",
    "model_LGBMR_HCV = LGBMRegressor(random_state=12345)\n",
    "\n",
    "# задаем область поиска гиперпараметров\n",
    "parametrs = {'max_depth':  range(8,12),\n",
    "             'learning_rate': [0.1, 0.3, 0.5],\n",
    "             'n_estimators': range(100, 600, 100)\n",
    "            }\n",
    "# активируем поиск и запускаем обучение\n",
    "HCV_LGBMR = HalvingRandomSearchCV(model_LGBMR_HCV, \n",
    "                                  parametrs,\n",
    "                                  cv=10,\n",
    "                                  n_jobs=-1, \n",
    "                                  factor=2,\n",
    "                                  max_resources=80,\n",
    "                                  scoring='neg_root_mean_squared_error',\n",
    "                                  random_state = 9912345,\n",
    "                                  verbose=1)\n",
    "\n",
    "HCV_LGBMR.fit(features_train_oe, target_train, eval_metric='rmse')\n",
    "\n",
    "# выводим найденные гиперпараметры\n",
    "display(HCV_LGBMR.best_params_)"
   ]
  },
  {
   "cell_type": "code",
   "execution_count": 58,
   "metadata": {},
   "outputs": [
    {
     "name": "stdout",
     "output_type": "stream",
     "text": [
      "Средняя цена, предсказанная LGBMRegressor: 3753.7873952555237 , RMSE = 1247.9124747712629\n",
      "Время обучения LGBMRegressor: 11.491 секунд\n",
      "Время предсказания LGBMRegressor: 0.406 секунд\n",
      "CPU times: user 11.7 s, sys: 74.4 ms, total: 11.8 s\n",
      "Wall time: 12 s\n"
     ]
    }
   ],
   "source": [
    "%%time\n",
    "# получаем предсказание LGBMRegressor с выбранными гиперпараметрами на валидационной выборке \n",
    "pred_valid_mean_LGBMR_hcv, \\\n",
    "rmse_LGBMR_hcv, time_fit_LGBMR_hcv, time_predict_LGBMR_hcv = RMSE_price(HCV_LGBMR.best_estimator_,\n",
    "                                                                                features_train_oe, \n",
    "                                                                                features_valid_oe,\n",
    "                                                                                target_valid)\n",
    "#выводим итоговые показатели \n",
    "print('Средняя цена, предсказанная LGBMRegressor:', pred_valid_mean_LGBMR_hcv,', RMSE =',rmse_LGBMR_hcv)\n",
    "print(f\"Время обучения LGBMRegressor: {time_fit_LGBMR_hcv} секунд\")\n",
    "print(f\"Время предсказания LGBMRegressor: {time_predict_LGBMR_hcv} секунд\")"
   ]
  },
  {
   "cell_type": "code",
   "execution_count": 59,
   "metadata": {},
   "outputs": [
    {
     "name": "stdout",
     "output_type": "stream",
     "text": [
      "n_iterations: 3\n",
      "n_required_iterations: 3\n",
      "n_possible_iterations: 3\n",
      "min_resources_: 20\n",
      "max_resources_: 80\n",
      "aggressive_elimination: False\n",
      "factor: 2\n",
      "----------\n",
      "iter: 0\n",
      "n_candidates: 4\n",
      "n_resources: 20\n",
      "Fitting 10 folds for each of 4 candidates, totalling 40 fits\n",
      "----------\n",
      "iter: 1\n",
      "n_candidates: 2\n",
      "n_resources: 40\n",
      "Fitting 10 folds for each of 2 candidates, totalling 20 fits\n",
      "----------\n",
      "iter: 2\n",
      "n_candidates: 1\n",
      "n_resources: 80\n",
      "Fitting 10 folds for each of 1 candidates, totalling 10 fits\n"
     ]
    },
    {
     "data": {
      "text/plain": [
       "{'learning_rate': 0.5, 'iterations': 200, 'depth': 11}"
      ]
     },
     "metadata": {},
     "output_type": "display_data"
    },
    {
     "name": "stdout",
     "output_type": "stream",
     "text": [
      "CPU times: user 32.8 s, sys: 1.03 s, total: 33.8 s\n",
      "Wall time: 1min 24s\n"
     ]
    }
   ],
   "source": [
    "%%time\n",
    "# подбираем гиперпараметры для CatBoost\n",
    "\n",
    "# активируем модель\n",
    "model_CBR_HCV = CatBoostRegressor(random_state=12345)\n",
    "\n",
    "# задаем область поиска гиперпараметров\n",
    "parametrs = {'iterations': range(100, 600, 100),\n",
    "             'depth':  range(8,12),\n",
    "             'learning_rate': [0.1, 0.3, 0.5]\n",
    "            }\n",
    "# активируем поиск и запускаем обучение\n",
    "HCV_CBR = HalvingRandomSearchCV(model_CBR_HCV, \n",
    "                                parametrs,\n",
    "                                cv=10,\n",
    "                                n_jobs=-1, \n",
    "                                factor=2, \n",
    "                                max_resources=80,\n",
    "                                scoring='neg_root_mean_squared_error',\n",
    "                                random_state = 12345,\n",
    "                                verbose=1)\n",
    "\n",
    "HCV_CBR.fit(features_train_oe, target_train, verbose=False)\n",
    "\n",
    "# выводим найденные гиперпараметры для СatBoost\n",
    "best_iterations_СBR = HCV_CBR.best_params_.get('iterations')\n",
    "best_depth_СBR = HCV_CBR.best_params_.get('depth')\n",
    "best_learning_rate_СBR = HCV_CBR.best_params_.get('learning_rate')\n",
    "\n",
    "display(HCV_CBR.best_params_)"
   ]
  },
  {
   "cell_type": "code",
   "execution_count": 60,
   "metadata": {},
   "outputs": [
    {
     "name": "stdout",
     "output_type": "stream",
     "text": [
      "Средняя цена, предсказанная CatBoostRegressor: 3754.0687338677035 RMSE = 1240.9342136191797\n",
      "Время обучения CatBoostRegressor: 13.152 секунд\n",
      "Время предсказания CatBoostRegressor: 0.03 секунд\n",
      "CPU times: user 11.7 s, sys: 44.6 ms, total: 11.7 s\n",
      "Wall time: 13.2 s\n"
     ]
    }
   ],
   "source": [
    "%%time\n",
    "# получаем предсказание CatBoostRegressor с выбранными гиперпараметрами на валидационной выборке \n",
    "model_CBR_HCV = CatBoostRegressor(random_state=12345, \n",
    "                  depth=best_depth_СBR,\n",
    "                  learning_rate=best_learning_rate_СBR,\n",
    "                  iterations=best_iterations_СBR,\n",
    "                  verbose=0)\n",
    "\n",
    "pred_valid_mean_CBR_hcv, \\\n",
    "rmse_CBR_hcv, time_fit_CBR_hcv, time_predict_CBR_hcv = RMSE_price(model_CBR_HCV,\n",
    "                                                                  features_train_oe, \n",
    "                                                                  features_valid_oe,\n",
    "                                                                  target_valid)\n",
    "\n",
    "#выводим итоговые показатели \n",
    "print('Средняя цена, предсказанная CatBoostRegressor:', pred_valid_mean_CBR_hcv,'RMSE =',rmse_CBR_hcv)\n",
    "print(f\"Время обучения CatBoostRegressor: {time_fit_CBR_hcv} секунд\")\n",
    "print(f\"Время предсказания CatBoostRegressor: {time_predict_CBR_hcv} секунд\")"
   ]
  },
  {
   "cell_type": "code",
   "execution_count": 61,
   "metadata": {},
   "outputs": [
    {
     "data": {
      "text/html": [
       "<div>\n",
       "<style scoped>\n",
       "    .dataframe tbody tr th:only-of-type {\n",
       "        vertical-align: middle;\n",
       "    }\n",
       "\n",
       "    .dataframe tbody tr th {\n",
       "        vertical-align: top;\n",
       "    }\n",
       "\n",
       "    .dataframe thead th {\n",
       "        text-align: right;\n",
       "    }\n",
       "</style>\n",
       "<table border=\"1\" class=\"dataframe\">\n",
       "  <thead>\n",
       "    <tr style=\"text-align: right;\">\n",
       "      <th></th>\n",
       "      <th>model</th>\n",
       "      <th>RMSE</th>\n",
       "      <th>predict_price_mean</th>\n",
       "      <th>fit_time</th>\n",
       "      <th>predict_time</th>\n",
       "    </tr>\n",
       "  </thead>\n",
       "  <tbody>\n",
       "    <tr>\n",
       "      <th>2</th>\n",
       "      <td>CatBoostReg</td>\n",
       "      <td>1240.934214</td>\n",
       "      <td>3754.068734</td>\n",
       "      <td>13.152</td>\n",
       "      <td>0.030</td>\n",
       "    </tr>\n",
       "    <tr>\n",
       "      <th>1</th>\n",
       "      <td>LGBMReg</td>\n",
       "      <td>1247.912475</td>\n",
       "      <td>3753.787395</td>\n",
       "      <td>11.491</td>\n",
       "      <td>0.406</td>\n",
       "    </tr>\n",
       "    <tr>\n",
       "      <th>0</th>\n",
       "      <td>LinRegression</td>\n",
       "      <td>1894.937127</td>\n",
       "      <td>3784.135469</td>\n",
       "      <td>16.604</td>\n",
       "      <td>0.188</td>\n",
       "    </tr>\n",
       "  </tbody>\n",
       "</table>\n",
       "</div>"
      ],
      "text/plain": [
       "           model         RMSE  predict_price_mean  fit_time  predict_time\n",
       "2    CatBoostReg  1240.934214         3754.068734    13.152         0.030\n",
       "1        LGBMReg  1247.912475         3753.787395    11.491         0.406\n",
       "0  LinRegression  1894.937127         3784.135469    16.604         0.188"
      ]
     },
     "execution_count": 61,
     "metadata": {},
     "output_type": "execute_result"
    }
   ],
   "source": [
    "# создаем таблицу с результатами работы моделей\n",
    "df={'model':  ['LinRegression',\n",
    "               'LGBMReg',\n",
    "               'CatBoostReg'],\n",
    "    \n",
    "    'RMSE':  [rmse_LR_hcv,\n",
    "              rmse_LGBMR_hcv,\n",
    "              rmse_CBR_hcv],\n",
    "    \n",
    "    'predict_price_mean': [pred_valid_mean_LR_hcv, \n",
    "                           pred_valid_mean_LGBMR_hcv,\n",
    "                           pred_valid_mean_CBR_hcv],\n",
    "   \n",
    "    'fit_time': [time_fit_LR_hcv,\n",
    "                 time_fit_LGBMR_hcv,\n",
    "                 time_fit_CBR_hcv],\n",
    "    \n",
    "    'predict_time':[time_predict_LR_hcv,\n",
    "                    time_predict_LGBMR_hcv,\n",
    "                    time_predict_CBR_hcv]}\n",
    "\n",
    "\n",
    "# выводим результаты\n",
    "scores_model_hcv = pd.DataFrame(df).sort_values(by='RMSE')\n",
    "scores_model_hcv"
   ]
  },
  {
   "cell_type": "markdown",
   "metadata": {},
   "source": [
    "### Вывод по четвертому шагу\n",
    "\n",
    "- **Обучили модели**: LinearRegression, LightGBMRegressor и CatBoostRegressor и проверили их предсказание на валидационной выборке.\n",
    "\n",
    "\n",
    "- **Подобрали** моделям **гиперпараметры**. \n",
    "\n",
    "\n",
    "- **Проверили качество** предсказания моделей **метрикой RMSE**.\n",
    "\n",
    "\n",
    "- **Лучше** всех **предсказала цену CatBoostRegressor** с подобранными гиперпараметрами. Она же **показала лучшее время предсказания**. \n",
    "\n",
    "\n",
    "- **Быстрее** всех справилась **с задачей обучения LightGBMRegressor**. "
   ]
  },
  {
   "cell_type": "markdown",
   "metadata": {},
   "source": [
    "## Анализ моделей"
   ]
  },
  {
   "cell_type": "markdown",
   "metadata": {},
   "source": [
    "- **Составим рейтинг моделей** на основании полученных оценок.\n",
    "\n",
    "\n",
    "- Заказчик не указал значимости каждого параметра, однако, здравый смысл подсказывает, что **качество предсказания - самый важный показатель**, ведь если модель будет работать быстро, но неточно, это вызовет негативную реакцию пользователей, так же, **как** медленная **скорость предсказания**, а вот **скорость обучения может иметь меньший вес**, так как обучается модель на другом датасете. \n",
    "\n",
    "\n",
    "- **Присвоим** каждому из трех параметров **свой вес**: качеству предсказания - 0.4; времени предсказания - 0.35; времени обучения - 0.25. "
   ]
  },
  {
   "cell_type": "code",
   "execution_count": 62,
   "metadata": {},
   "outputs": [
    {
     "data": {
      "text/html": [
       "<div>\n",
       "<style scoped>\n",
       "    .dataframe tbody tr th:only-of-type {\n",
       "        vertical-align: middle;\n",
       "    }\n",
       "\n",
       "    .dataframe tbody tr th {\n",
       "        vertical-align: top;\n",
       "    }\n",
       "\n",
       "    .dataframe thead th {\n",
       "        text-align: right;\n",
       "    }\n",
       "</style>\n",
       "<table border=\"1\" class=\"dataframe\">\n",
       "  <thead>\n",
       "    <tr style=\"text-align: right;\">\n",
       "      <th></th>\n",
       "      <th>model</th>\n",
       "      <th>RMSE</th>\n",
       "      <th>predict_price_mean</th>\n",
       "      <th>fit_time</th>\n",
       "      <th>predict_time</th>\n",
       "      <th>RMSE_rating</th>\n",
       "      <th>fit_time_rating</th>\n",
       "      <th>predict_time_rating</th>\n",
       "      <th>final_rating</th>\n",
       "    </tr>\n",
       "  </thead>\n",
       "  <tbody>\n",
       "    <tr>\n",
       "      <th>2</th>\n",
       "      <td>CatBoostReg</td>\n",
       "      <td>1243.318006</td>\n",
       "      <td>3754.332820</td>\n",
       "      <td>24.603</td>\n",
       "      <td>0.030</td>\n",
       "      <td>1.000000</td>\n",
       "      <td>0.325245</td>\n",
       "      <td>1.000000</td>\n",
       "      <td>8.313112</td>\n",
       "    </tr>\n",
       "    <tr>\n",
       "      <th>1</th>\n",
       "      <td>LGBMReg</td>\n",
       "      <td>1288.457227</td>\n",
       "      <td>3753.953943</td>\n",
       "      <td>8.002</td>\n",
       "      <td>0.298</td>\n",
       "      <td>0.964966</td>\n",
       "      <td>1.000000</td>\n",
       "      <td>0.100671</td>\n",
       "      <td>6.712215</td>\n",
       "    </tr>\n",
       "    <tr>\n",
       "      <th>0</th>\n",
       "      <td>LinRegression</td>\n",
       "      <td>1894.937127</td>\n",
       "      <td>3784.135469</td>\n",
       "      <td>16.369</td>\n",
       "      <td>0.229</td>\n",
       "      <td>0.656126</td>\n",
       "      <td>0.488851</td>\n",
       "      <td>0.131004</td>\n",
       "      <td>4.305148</td>\n",
       "    </tr>\n",
       "  </tbody>\n",
       "</table>\n",
       "</div>"
      ],
      "text/plain": [
       "           model         RMSE  predict_price_mean  fit_time  predict_time  \\\n",
       "2    CatBoostReg  1243.318006         3754.332820    24.603         0.030   \n",
       "1        LGBMReg  1288.457227         3753.953943     8.002         0.298   \n",
       "0  LinRegression  1894.937127         3784.135469    16.369         0.229   \n",
       "\n",
       "   RMSE_rating  fit_time_rating  predict_time_rating  final_rating  \n",
       "2     1.000000         0.325245             1.000000      8.313112  \n",
       "1     0.964966         1.000000             0.100671      6.712215  \n",
       "0     0.656126         0.488851             0.131004      4.305148  "
      ]
     },
     "execution_count": 62,
     "metadata": {},
     "output_type": "execute_result"
    }
   ],
   "source": [
    "# создаем датафрейм с показателями моделей с гипрепараметрами и присваиваем им рейтинг\n",
    "scores_model_def['RMSE_rating'] = (scores_model_def['RMSE'].min()/\n",
    "                                   scores_model_def['RMSE'])\n",
    "\n",
    "scores_model_def['fit_time_rating'] = (scores_model_def['fit_time'].min()/\n",
    "                                       scores_model_def['fit_time'])\n",
    "\n",
    "scores_model_def['predict_time_rating'] = (scores_model_def['predict_time'].min()/\n",
    "                                           scores_model_def['predict_time'])\n",
    "\n",
    "scores_model_def['final_rating'] = ((scores_model_def['fit_time_rating']*.25+\n",
    "                                    scores_model_def['predict_time_rating']*.35+\n",
    "                                    scores_model_def['RMSE_rating']*.4)*10)\n",
    "# смотрим результат\n",
    "scores_model_def.sort_values(by='final_rating', ascending=False)"
   ]
  },
  {
   "cell_type": "code",
   "execution_count": 63,
   "metadata": {},
   "outputs": [
    {
     "data": {
      "text/html": [
       "<div>\n",
       "<style scoped>\n",
       "    .dataframe tbody tr th:only-of-type {\n",
       "        vertical-align: middle;\n",
       "    }\n",
       "\n",
       "    .dataframe tbody tr th {\n",
       "        vertical-align: top;\n",
       "    }\n",
       "\n",
       "    .dataframe thead th {\n",
       "        text-align: right;\n",
       "    }\n",
       "</style>\n",
       "<table border=\"1\" class=\"dataframe\">\n",
       "  <thead>\n",
       "    <tr style=\"text-align: right;\">\n",
       "      <th></th>\n",
       "      <th>model</th>\n",
       "      <th>RMSE</th>\n",
       "      <th>predict_price_mean</th>\n",
       "      <th>fit_time</th>\n",
       "      <th>predict_time</th>\n",
       "      <th>RMSE_rating</th>\n",
       "      <th>fit_time_rating</th>\n",
       "      <th>predict_time_rating</th>\n",
       "      <th>final_rating</th>\n",
       "    </tr>\n",
       "  </thead>\n",
       "  <tbody>\n",
       "    <tr>\n",
       "      <th>2</th>\n",
       "      <td>CatBoostReg</td>\n",
       "      <td>1240.934214</td>\n",
       "      <td>3754.068734</td>\n",
       "      <td>13.152</td>\n",
       "      <td>0.030</td>\n",
       "      <td>1.000000</td>\n",
       "      <td>0.873707</td>\n",
       "      <td>1.000000</td>\n",
       "      <td>9.684269</td>\n",
       "    </tr>\n",
       "    <tr>\n",
       "      <th>1</th>\n",
       "      <td>LGBMReg</td>\n",
       "      <td>1247.912475</td>\n",
       "      <td>3753.787395</td>\n",
       "      <td>11.491</td>\n",
       "      <td>0.406</td>\n",
       "      <td>0.994408</td>\n",
       "      <td>1.000000</td>\n",
       "      <td>0.073892</td>\n",
       "      <td>6.736253</td>\n",
       "    </tr>\n",
       "    <tr>\n",
       "      <th>0</th>\n",
       "      <td>LinRegression</td>\n",
       "      <td>1894.937127</td>\n",
       "      <td>3784.135469</td>\n",
       "      <td>16.604</td>\n",
       "      <td>0.188</td>\n",
       "      <td>0.654868</td>\n",
       "      <td>0.692062</td>\n",
       "      <td>0.159574</td>\n",
       "      <td>4.908139</td>\n",
       "    </tr>\n",
       "  </tbody>\n",
       "</table>\n",
       "</div>"
      ],
      "text/plain": [
       "           model         RMSE  predict_price_mean  fit_time  predict_time  \\\n",
       "2    CatBoostReg  1240.934214         3754.068734    13.152         0.030   \n",
       "1        LGBMReg  1247.912475         3753.787395    11.491         0.406   \n",
       "0  LinRegression  1894.937127         3784.135469    16.604         0.188   \n",
       "\n",
       "   RMSE_rating  fit_time_rating  predict_time_rating  final_rating  \n",
       "2     1.000000         0.873707             1.000000      9.684269  \n",
       "1     0.994408         1.000000             0.073892      6.736253  \n",
       "0     0.654868         0.692062             0.159574      4.908139  "
      ]
     },
     "execution_count": 63,
     "metadata": {},
     "output_type": "execute_result"
    }
   ],
   "source": [
    "# создаем датафрейм с показателями моделей с гипрепараметрами и присваиваем им рейтинг\n",
    "scores_model_hcv['RMSE_rating'] = (scores_model_hcv['RMSE'].min()/\n",
    "                                   scores_model_hcv['RMSE'])\n",
    "\n",
    "scores_model_hcv['fit_time_rating'] = (scores_model_hcv['fit_time'].min()/\n",
    "                                       scores_model_hcv['fit_time'])\n",
    "\n",
    "scores_model_hcv['predict_time_rating'] = (scores_model_hcv['predict_time'].min()/\n",
    "                                           scores_model_hcv['predict_time'])\n",
    "\n",
    "scores_model_hcv['final_rating'] = ((scores_model_hcv['fit_time_rating']*.25+\n",
    "                                    scores_model_hcv['predict_time_rating']*.35+\n",
    "                                    scores_model_hcv['RMSE_rating']*.4)*10)\n",
    "# смотрим результат\n",
    "scores_model_hcv.sort_values(by='final_rating', ascending=False)"
   ]
  },
  {
   "cell_type": "markdown",
   "metadata": {},
   "source": [
    "### Вывод по пятому шагу\n",
    "\n",
    "- **Составили рейтинг моделей**  с разными гиперпараметрами по полученным оценкам в ходе обучения на обучающей выборке и предсказывания на валидацинной.\n",
    "\n",
    "\n",
    "-  **Самый высокий рейтинг** показала модель **CatBoostRegressor** с подобранными гиперпараметрами (depth=11, iterations=200, learning_rate=0.5): она **дала более точное предсказание** (наименьший из всех уровень ошибки **RMSE - 1240.**) и **быстрее** других **предсказывала (0.03c)**, хотя и обучалась медленнее, чем  LightGBMRegressor."
   ]
  },
  {
   "cell_type": "markdown",
   "metadata": {},
   "source": [
    " ## Проверка лучшей модели на тестовой выборке"
   ]
  },
  {
   "cell_type": "markdown",
   "metadata": {},
   "source": [
    "- Проверим работу победившей модели на тестовой выборке. "
   ]
  },
  {
   "cell_type": "code",
   "execution_count": 64,
   "metadata": {
    "scrolled": false
   },
   "outputs": [
    {
     "name": "stdout",
     "output_type": "stream",
     "text": [
      "Средняя цена, предсказанная CatBoostRegressor: 3766.383792573986 RMSE = 1230.5394713948986\n",
      "Время обучения CatBoostRegressor: 12.403 секунд\n",
      "Время предсказания CatBoostRegressor: 0.026 секунд\n",
      "CPU times: user 11.7 s, sys: 29.8 ms, total: 11.7 s\n",
      "Wall time: 12.4 s\n"
     ]
    }
   ],
   "source": [
    "%%time\n",
    "# получаем предсказание CatBoostRegressor на тестовой выборке\n",
    "pred_valid_mean_CBR, rmse_CBR, time_fit_CBR, time_predict_CBR = RMSE_price(model_CBR_HCV,\n",
    "                                                                           features_train_oe, \n",
    "                                                                           features_test_oe,\n",
    "                                                                           target_test)\n",
    "#выводим итоговые показатели \n",
    "print('Средняя цена, предсказанная CatBoostRegressor:', pred_valid_mean_CBR,'RMSE =',rmse_CBR)\n",
    "print(f\"Время обучения CatBoostRegressor: {time_fit_CBR} секунд\")\n",
    "print(f\"Время предсказания CatBoostRegressor: {time_predict_CBR} секунд\")"
   ]
  },
  {
   "cell_type": "markdown",
   "metadata": {},
   "source": [
    "### Вывод по шестому шагу\n",
    "\n",
    "- Модель не переобучилась, показав на тестовой выборке результат лучше, чем на валидационной."
   ]
  },
  {
   "cell_type": "markdown",
   "metadata": {},
   "source": [
    "## Общий вывод"
   ]
  },
  {
   "cell_type": "markdown",
   "metadata": {},
   "source": [
    "- В процессе работы над проектом мы:\n",
    "\n",
    "   - Загрузили и изучили данные;\n",
    "   - Провели предобработку: заполнили пропуски, обработали аномалии, удалили неинформативные признаки;\n",
    "   - Подготовили выборки для обучения моделей.;\n",
    "   - Обучили разные модели: LinearRegression, LightGBMRegressor и CatBoostRegressor. Для каждой модели попробовали разные гиперпараметры;\n",
    "   - Проанализировали время обучения, время предсказания и качество моделей метрикой RMSE. Добились значения метрики менее 2500;\n",
    "   - Выбрали лучшую модель, опираясь на критерии заказчика;\n",
    "   \n",
    "   - Проверили качество лучшей модели на тестовой выборке.\n",
    "\n",
    "\n",
    "- **Резюме:**\n",
    "\n",
    "  - **Лучше других** с задачей **справилась модель CatBoostRegressor**, показав **лучшее качество предсказания**, **самое быстрое время предсказания** и второе время обучения. Модель смело **можно рекомендовать к использованию**.  "
   ]
  }
 ],
 "metadata": {
  "ExecuteTimeLog": [
   {
    "duration": 103,
    "start_time": "2024-02-09T12:03:51.651Z"
   },
   {
    "duration": 1436,
    "start_time": "2024-02-09T12:03:57.192Z"
   },
   {
    "duration": 272,
    "start_time": "2024-02-09T12:04:07.356Z"
   },
   {
    "duration": 59,
    "start_time": "2024-02-09T12:06:09.133Z"
   },
   {
    "duration": 11,
    "start_time": "2024-02-09T12:06:29.786Z"
   },
   {
    "duration": 146,
    "start_time": "2024-02-09T12:10:58.851Z"
   },
   {
    "duration": 4,
    "start_time": "2024-02-09T12:12:07.019Z"
   },
   {
    "duration": 4,
    "start_time": "2024-02-09T12:12:18.627Z"
   },
   {
    "duration": 1471,
    "start_time": "2024-02-09T12:12:18.633Z"
   },
   {
    "duration": 87,
    "start_time": "2024-02-09T12:12:20.105Z"
   },
   {
    "duration": 31,
    "start_time": "2024-02-09T12:12:20.194Z"
   },
   {
    "duration": 173,
    "start_time": "2024-02-09T12:13:34.008Z"
   },
   {
    "duration": 2827,
    "start_time": "2024-02-09T12:14:02.974Z"
   },
   {
    "duration": 3,
    "start_time": "2024-02-09T12:14:12.143Z"
   },
   {
    "duration": 1474,
    "start_time": "2024-02-09T12:14:12.148Z"
   },
   {
    "duration": 858,
    "start_time": "2024-02-09T12:14:13.623Z"
   },
   {
    "duration": 1344,
    "start_time": "2024-02-09T12:14:14.483Z"
   },
   {
    "duration": 1260,
    "start_time": "2024-02-09T12:16:48.477Z"
   },
   {
    "duration": 536,
    "start_time": "2024-02-09T12:19:53.023Z"
   },
   {
    "duration": 437,
    "start_time": "2024-02-09T12:20:26.595Z"
   },
   {
    "duration": 480,
    "start_time": "2024-02-09T12:21:00.604Z"
   },
   {
    "duration": 1028,
    "start_time": "2024-02-09T12:21:22.639Z"
   },
   {
    "duration": 212,
    "start_time": "2024-02-09T12:22:00.046Z"
   },
   {
    "duration": 6494,
    "start_time": "2024-02-09T12:27:38.113Z"
   },
   {
    "duration": 75,
    "start_time": "2024-02-09T12:30:55.388Z"
   },
   {
    "duration": 39,
    "start_time": "2024-02-09T12:31:05.178Z"
   },
   {
    "duration": 2862,
    "start_time": "2024-02-09T12:31:07.910Z"
   },
   {
    "duration": 2898,
    "start_time": "2024-02-09T12:34:35.634Z"
   },
   {
    "duration": 185,
    "start_time": "2024-02-09T12:35:02.541Z"
   },
   {
    "duration": 3,
    "start_time": "2024-02-09T13:00:11.642Z"
   },
   {
    "duration": 1499,
    "start_time": "2024-02-09T13:00:11.647Z"
   },
   {
    "duration": 834,
    "start_time": "2024-02-09T13:00:13.148Z"
   },
   {
    "duration": 1286,
    "start_time": "2024-02-09T13:00:13.983Z"
   },
   {
    "duration": 471,
    "start_time": "2024-02-09T13:00:15.271Z"
   },
   {
    "duration": 1010,
    "start_time": "2024-02-09T13:00:15.743Z"
   },
   {
    "duration": 6028,
    "start_time": "2024-02-09T13:00:16.755Z"
   },
   {
    "duration": 268,
    "start_time": "2024-02-09T13:00:22.785Z"
   },
   {
    "duration": 4,
    "start_time": "2024-02-09T13:00:23.055Z"
   },
   {
    "duration": 66,
    "start_time": "2024-02-09T13:00:23.061Z"
   },
   {
    "duration": 128,
    "start_time": "2024-02-09T13:03:33.397Z"
   },
   {
    "duration": 12,
    "start_time": "2024-02-09T13:03:50.066Z"
   },
   {
    "duration": 3,
    "start_time": "2024-02-09T13:04:13.418Z"
   },
   {
    "duration": 1446,
    "start_time": "2024-02-09T13:04:13.422Z"
   },
   {
    "duration": 808,
    "start_time": "2024-02-09T13:04:14.869Z"
   },
   {
    "duration": 1243,
    "start_time": "2024-02-09T13:04:15.679Z"
   },
   {
    "duration": 430,
    "start_time": "2024-02-09T13:04:16.923Z"
   },
   {
    "duration": 990,
    "start_time": "2024-02-09T13:04:17.355Z"
   },
   {
    "duration": 5912,
    "start_time": "2024-02-09T13:04:18.347Z"
   },
   {
    "duration": 291,
    "start_time": "2024-02-09T13:04:24.260Z"
   },
   {
    "duration": 4,
    "start_time": "2024-02-09T13:04:24.554Z"
   },
   {
    "duration": 134,
    "start_time": "2024-02-09T13:04:24.559Z"
   },
   {
    "duration": 9092,
    "start_time": "2024-02-09T13:14:55.186Z"
   },
   {
    "duration": 3,
    "start_time": "2024-02-09T13:15:19.733Z"
   },
   {
    "duration": 1447,
    "start_time": "2024-02-09T13:15:19.738Z"
   },
   {
    "duration": 801,
    "start_time": "2024-02-09T13:15:21.187Z"
   },
   {
    "duration": 1234,
    "start_time": "2024-02-09T13:15:21.989Z"
   },
   {
    "duration": 440,
    "start_time": "2024-02-09T13:15:23.225Z"
   },
   {
    "duration": 1015,
    "start_time": "2024-02-09T13:15:23.666Z"
   },
   {
    "duration": 5992,
    "start_time": "2024-02-09T13:15:24.683Z"
   },
   {
    "duration": 267,
    "start_time": "2024-02-09T13:15:30.678Z"
   },
   {
    "duration": 138,
    "start_time": "2024-02-09T13:15:30.946Z"
   },
   {
    "duration": 78,
    "start_time": "2024-02-09T13:46:06.851Z"
   },
   {
    "duration": 111,
    "start_time": "2024-02-09T13:46:12.182Z"
   },
   {
    "duration": 15,
    "start_time": "2024-02-09T13:46:20.512Z"
   },
   {
    "duration": 1717,
    "start_time": "2024-02-09T13:46:26.447Z"
   },
   {
    "duration": 13,
    "start_time": "2024-02-09T13:46:54.503Z"
   },
   {
    "duration": 75,
    "start_time": "2024-02-09T13:48:33.211Z"
   },
   {
    "duration": 106,
    "start_time": "2024-02-09T13:48:36.558Z"
   },
   {
    "duration": 106,
    "start_time": "2024-02-09T13:51:02.973Z"
   },
   {
    "duration": 6,
    "start_time": "2024-02-09T13:51:18.084Z"
   },
   {
    "duration": 7,
    "start_time": "2024-02-09T13:51:37.105Z"
   },
   {
    "duration": 6,
    "start_time": "2024-02-09T13:51:43.263Z"
   },
   {
    "duration": 6,
    "start_time": "2024-02-09T13:51:55.025Z"
   },
   {
    "duration": 66,
    "start_time": "2024-02-09T13:52:05.417Z"
   },
   {
    "duration": 6,
    "start_time": "2024-02-09T13:52:09.913Z"
   },
   {
    "duration": 6,
    "start_time": "2024-02-09T13:55:18.800Z"
   },
   {
    "duration": 6,
    "start_time": "2024-02-09T13:57:54.592Z"
   },
   {
    "duration": 14,
    "start_time": "2024-02-09T13:58:23.309Z"
   },
   {
    "duration": 14,
    "start_time": "2024-02-09T13:58:33.794Z"
   },
   {
    "duration": 105,
    "start_time": "2024-02-09T14:00:38.004Z"
   },
   {
    "duration": 13,
    "start_time": "2024-02-09T14:00:43.302Z"
   },
   {
    "duration": 14,
    "start_time": "2024-02-09T14:29:12.943Z"
   },
   {
    "duration": 52,
    "start_time": "2024-02-09T14:31:38.197Z"
   },
   {
    "duration": 115,
    "start_time": "2024-02-09T14:45:27.070Z"
   },
   {
    "duration": 14,
    "start_time": "2024-02-09T14:45:53.742Z"
   },
   {
    "duration": 12,
    "start_time": "2024-02-09T14:46:16.388Z"
   },
   {
    "duration": 16,
    "start_time": "2024-02-09T14:54:26.545Z"
   },
   {
    "duration": 16,
    "start_time": "2024-02-09T14:54:43.855Z"
   },
   {
    "duration": 12,
    "start_time": "2024-02-09T14:54:53.121Z"
   },
   {
    "duration": 68,
    "start_time": "2024-02-09T14:55:29.518Z"
   },
   {
    "duration": 15,
    "start_time": "2024-02-09T14:55:35.849Z"
   },
   {
    "duration": 14,
    "start_time": "2024-02-09T15:26:05.081Z"
   },
   {
    "duration": 14,
    "start_time": "2024-02-09T15:26:46.377Z"
   },
   {
    "duration": 10,
    "start_time": "2024-02-09T15:27:47.045Z"
   },
   {
    "duration": 10,
    "start_time": "2024-02-09T15:27:52.857Z"
   },
   {
    "duration": 14,
    "start_time": "2024-02-09T15:34:51.421Z"
   },
   {
    "duration": 10,
    "start_time": "2024-02-09T15:36:40.707Z"
   },
   {
    "duration": 11,
    "start_time": "2024-02-09T15:43:09.643Z"
   },
   {
    "duration": 10,
    "start_time": "2024-02-09T15:47:18.715Z"
   },
   {
    "duration": 10,
    "start_time": "2024-02-09T15:48:05.030Z"
   },
   {
    "duration": 9,
    "start_time": "2024-02-09T15:48:42.826Z"
   },
   {
    "duration": 11,
    "start_time": "2024-02-09T15:49:15.610Z"
   },
   {
    "duration": 9,
    "start_time": "2024-02-09T15:49:48.480Z"
   },
   {
    "duration": 10,
    "start_time": "2024-02-09T15:50:07.814Z"
   },
   {
    "duration": 13,
    "start_time": "2024-02-09T15:52:06.316Z"
   },
   {
    "duration": 12,
    "start_time": "2024-02-09T15:52:43.323Z"
   },
   {
    "duration": 12,
    "start_time": "2024-02-09T16:03:03.621Z"
   },
   {
    "duration": 10,
    "start_time": "2024-02-09T16:03:20.215Z"
   },
   {
    "duration": 10,
    "start_time": "2024-02-09T16:03:40.470Z"
   },
   {
    "duration": 10,
    "start_time": "2024-02-09T16:04:27.304Z"
   },
   {
    "duration": 13,
    "start_time": "2024-02-09T16:05:33.813Z"
   },
   {
    "duration": 10,
    "start_time": "2024-02-09T16:05:41.433Z"
   },
   {
    "duration": 13,
    "start_time": "2024-02-09T16:05:47.373Z"
   },
   {
    "duration": 14,
    "start_time": "2024-02-09T16:06:09.067Z"
   },
   {
    "duration": 14,
    "start_time": "2024-02-09T16:07:34.568Z"
   },
   {
    "duration": 34,
    "start_time": "2024-02-09T16:08:01.259Z"
   },
   {
    "duration": 839,
    "start_time": "2024-02-09T16:49:01.050Z"
   },
   {
    "duration": 4,
    "start_time": "2024-02-09T16:49:07.428Z"
   },
   {
    "duration": 1448,
    "start_time": "2024-02-09T16:49:07.434Z"
   },
   {
    "duration": 831,
    "start_time": "2024-02-09T16:49:08.884Z"
   },
   {
    "duration": 1244,
    "start_time": "2024-02-09T16:49:09.717Z"
   },
   {
    "duration": 446,
    "start_time": "2024-02-09T16:49:10.963Z"
   },
   {
    "duration": 1025,
    "start_time": "2024-02-09T16:49:11.411Z"
   },
   {
    "duration": 5950,
    "start_time": "2024-02-09T16:49:12.437Z"
   },
   {
    "duration": 262,
    "start_time": "2024-02-09T16:49:18.388Z"
   },
   {
    "duration": 3,
    "start_time": "2024-02-09T19:35:58.307Z"
   },
   {
    "duration": 1629,
    "start_time": "2024-02-09T19:35:58.312Z"
   },
   {
    "duration": 1092,
    "start_time": "2024-02-09T19:35:59.942Z"
   },
   {
    "duration": 1358,
    "start_time": "2024-02-09T19:36:01.036Z"
   },
   {
    "duration": 446,
    "start_time": "2024-02-09T19:36:02.395Z"
   },
   {
    "duration": 1059,
    "start_time": "2024-02-09T19:36:02.843Z"
   },
   {
    "duration": 6002,
    "start_time": "2024-02-09T19:36:03.903Z"
   },
   {
    "duration": 272,
    "start_time": "2024-02-09T19:36:09.906Z"
   },
   {
    "duration": 4,
    "start_time": "2024-02-09T19:36:10.180Z"
   },
   {
    "duration": 1225,
    "start_time": "2024-02-09T19:36:10.185Z"
   },
   {
    "duration": 3,
    "start_time": "2024-02-09T19:57:16.201Z"
   },
   {
    "duration": 1443,
    "start_time": "2024-02-09T19:57:16.206Z"
   },
   {
    "duration": 848,
    "start_time": "2024-02-09T19:57:17.651Z"
   },
   {
    "duration": 1379,
    "start_time": "2024-02-09T19:57:18.501Z"
   },
   {
    "duration": 471,
    "start_time": "2024-02-09T19:57:19.882Z"
   },
   {
    "duration": 1035,
    "start_time": "2024-02-09T19:57:20.355Z"
   },
   {
    "duration": 6334,
    "start_time": "2024-02-09T19:57:21.392Z"
   },
   {
    "duration": 337,
    "start_time": "2024-02-09T19:57:27.729Z"
   },
   {
    "duration": 4,
    "start_time": "2024-02-10T09:55:35.425Z"
   },
   {
    "duration": 1678,
    "start_time": "2024-02-10T09:55:35.430Z"
   },
   {
    "duration": 2867,
    "start_time": "2024-02-10T09:55:37.110Z"
   },
   {
    "duration": 1401,
    "start_time": "2024-02-10T09:55:39.978Z"
   },
   {
    "duration": 489,
    "start_time": "2024-02-10T09:55:41.381Z"
   },
   {
    "duration": 1119,
    "start_time": "2024-02-10T09:55:41.871Z"
   },
   {
    "duration": 6507,
    "start_time": "2024-02-10T09:55:42.992Z"
   },
   {
    "duration": 327,
    "start_time": "2024-02-10T09:55:49.501Z"
   },
   {
    "duration": 85,
    "start_time": "2024-02-10T09:56:14.526Z"
   },
   {
    "duration": 1259,
    "start_time": "2024-02-10T10:05:01.160Z"
   },
   {
    "duration": 10529,
    "start_time": "2024-02-10T10:05:36.090Z"
   },
   {
    "duration": 1400,
    "start_time": "2024-02-10T10:05:59.993Z"
   },
   {
    "duration": 1246,
    "start_time": "2024-02-10T10:06:24.135Z"
   },
   {
    "duration": 1217,
    "start_time": "2024-02-10T10:07:39.218Z"
   },
   {
    "duration": 8683,
    "start_time": "2024-02-10T10:09:23.263Z"
   },
   {
    "duration": 4,
    "start_time": "2024-02-10T10:14:11.416Z"
   },
   {
    "duration": 1546,
    "start_time": "2024-02-10T10:14:11.424Z"
   },
   {
    "duration": 946,
    "start_time": "2024-02-10T10:14:12.972Z"
   },
   {
    "duration": 1531,
    "start_time": "2024-02-10T10:14:13.920Z"
   },
   {
    "duration": 488,
    "start_time": "2024-02-10T10:14:15.452Z"
   },
   {
    "duration": 1104,
    "start_time": "2024-02-10T10:14:15.943Z"
   },
   {
    "duration": 6693,
    "start_time": "2024-02-10T10:14:17.049Z"
   },
   {
    "duration": 299,
    "start_time": "2024-02-10T10:14:23.745Z"
   },
   {
    "duration": 102,
    "start_time": "2024-02-10T10:14:24.046Z"
   },
   {
    "duration": 1294,
    "start_time": "2024-02-10T10:14:24.150Z"
   },
   {
    "duration": 175,
    "start_time": "2024-02-10T10:14:25.445Z"
   },
   {
    "duration": 138,
    "start_time": "2024-02-10T10:14:25.621Z"
   },
   {
    "duration": 0,
    "start_time": "2024-02-10T10:14:25.761Z"
   },
   {
    "duration": 996,
    "start_time": "2024-02-10T10:15:01.073Z"
   },
   {
    "duration": 337,
    "start_time": "2024-02-10T10:15:50.071Z"
   },
   {
    "duration": 5618,
    "start_time": "2024-02-10T10:17:28.354Z"
   },
   {
    "duration": 313,
    "start_time": "2024-02-10T10:18:13.863Z"
   },
   {
    "duration": 2362,
    "start_time": "2024-02-10T10:18:42.277Z"
   },
   {
    "duration": 1273,
    "start_time": "2024-02-10T10:18:55.421Z"
   },
   {
    "duration": 3,
    "start_time": "2024-02-10T10:19:29.344Z"
   },
   {
    "duration": 1602,
    "start_time": "2024-02-10T10:19:29.349Z"
   },
   {
    "duration": 889,
    "start_time": "2024-02-10T10:19:30.955Z"
   },
   {
    "duration": 1380,
    "start_time": "2024-02-10T10:19:31.846Z"
   },
   {
    "duration": 505,
    "start_time": "2024-02-10T10:19:33.228Z"
   },
   {
    "duration": 1170,
    "start_time": "2024-02-10T10:19:33.735Z"
   },
   {
    "duration": 6554,
    "start_time": "2024-02-10T10:19:34.906Z"
   },
   {
    "duration": 293,
    "start_time": "2024-02-10T10:19:41.462Z"
   },
   {
    "duration": 108,
    "start_time": "2024-02-10T10:19:41.757Z"
   },
   {
    "duration": 353,
    "start_time": "2024-02-10T10:19:41.866Z"
   },
   {
    "duration": 1371,
    "start_time": "2024-02-10T10:19:42.221Z"
   },
   {
    "duration": 131,
    "start_time": "2024-02-10T10:19:43.594Z"
   },
   {
    "duration": 0,
    "start_time": "2024-02-10T10:19:43.727Z"
   },
   {
    "duration": 4,
    "start_time": "2024-02-11T08:01:38.857Z"
   },
   {
    "duration": 1713,
    "start_time": "2024-02-11T08:01:38.863Z"
   },
   {
    "duration": 2818,
    "start_time": "2024-02-11T08:01:40.578Z"
   },
   {
    "duration": 1413,
    "start_time": "2024-02-11T08:01:43.398Z"
   },
   {
    "duration": 476,
    "start_time": "2024-02-11T08:01:44.813Z"
   },
   {
    "duration": 1174,
    "start_time": "2024-02-11T08:01:45.291Z"
   },
   {
    "duration": 6805,
    "start_time": "2024-02-11T08:01:46.466Z"
   },
   {
    "duration": 336,
    "start_time": "2024-02-11T08:01:53.273Z"
   },
   {
    "duration": 105,
    "start_time": "2024-02-11T08:01:53.611Z"
   },
   {
    "duration": 323,
    "start_time": "2024-02-11T08:01:53.718Z"
   },
   {
    "duration": 1307,
    "start_time": "2024-02-11T08:01:54.043Z"
   },
   {
    "duration": 120,
    "start_time": "2024-02-11T08:01:55.352Z"
   },
   {
    "duration": 0,
    "start_time": "2024-02-11T08:01:55.475Z"
   },
   {
    "duration": 26,
    "start_time": "2024-02-11T08:07:49.134Z"
   },
   {
    "duration": 805,
    "start_time": "2024-02-11T08:17:51.391Z"
   },
   {
    "duration": 366,
    "start_time": "2024-02-11T08:18:05.390Z"
   },
   {
    "duration": 380,
    "start_time": "2024-02-11T08:18:16.255Z"
   },
   {
    "duration": 360,
    "start_time": "2024-02-11T08:18:28.385Z"
   },
   {
    "duration": 498,
    "start_time": "2024-02-11T08:18:40.987Z"
   },
   {
    "duration": 369,
    "start_time": "2024-02-11T08:19:05.067Z"
   },
   {
    "duration": 380,
    "start_time": "2024-02-11T08:23:02.867Z"
   },
   {
    "duration": 1323,
    "start_time": "2024-02-11T08:23:10.357Z"
   },
   {
    "duration": 175,
    "start_time": "2024-02-11T08:23:35.268Z"
   },
   {
    "duration": 380,
    "start_time": "2024-02-11T08:25:02.943Z"
   },
   {
    "duration": 447,
    "start_time": "2024-02-11T08:26:11.753Z"
   },
   {
    "duration": 527,
    "start_time": "2024-02-11T08:26:52.283Z"
   },
   {
    "duration": 517,
    "start_time": "2024-02-11T08:28:56.570Z"
   },
   {
    "duration": 551,
    "start_time": "2024-02-11T08:29:37.801Z"
   },
   {
    "duration": 394,
    "start_time": "2024-02-11T08:32:02.757Z"
   },
   {
    "duration": 4561,
    "start_time": "2024-02-11T08:32:38.474Z"
   },
   {
    "duration": 3066,
    "start_time": "2024-02-11T08:33:40.718Z"
   },
   {
    "duration": 3186,
    "start_time": "2024-02-11T08:33:53.637Z"
   },
   {
    "duration": 3166,
    "start_time": "2024-02-11T08:34:54.142Z"
   },
   {
    "duration": 3190,
    "start_time": "2024-02-11T08:35:14.672Z"
   },
   {
    "duration": 3146,
    "start_time": "2024-02-11T08:35:27.113Z"
   },
   {
    "duration": 73,
    "start_time": "2024-02-11T08:39:29.919Z"
   },
   {
    "duration": 3191,
    "start_time": "2024-02-11T08:40:02.309Z"
   },
   {
    "duration": 3156,
    "start_time": "2024-02-11T08:40:36.742Z"
   },
   {
    "duration": 421,
    "start_time": "2024-02-11T08:47:20.295Z"
   },
   {
    "duration": 1257,
    "start_time": "2024-02-11T08:47:27.801Z"
   },
   {
    "duration": 3113,
    "start_time": "2024-02-11T08:48:06.632Z"
   },
   {
    "duration": 517,
    "start_time": "2024-02-11T08:48:39.915Z"
   },
   {
    "duration": 393,
    "start_time": "2024-02-11T08:48:50.691Z"
   },
   {
    "duration": 1313,
    "start_time": "2024-02-11T08:49:16.616Z"
   },
   {
    "duration": 1223,
    "start_time": "2024-02-11T08:49:31.043Z"
   },
   {
    "duration": 3188,
    "start_time": "2024-02-11T08:50:07.976Z"
   },
   {
    "duration": 1260,
    "start_time": "2024-02-11T08:54:11.531Z"
   },
   {
    "duration": 1238,
    "start_time": "2024-02-11T08:54:20.553Z"
   },
   {
    "duration": 1259,
    "start_time": "2024-02-11T08:54:38.299Z"
   },
   {
    "duration": 1188,
    "start_time": "2024-02-11T08:55:28.003Z"
   },
   {
    "duration": 476,
    "start_time": "2024-02-11T08:58:00.235Z"
   },
   {
    "duration": 1190,
    "start_time": "2024-02-11T08:59:09.444Z"
   },
   {
    "duration": 416,
    "start_time": "2024-02-11T09:01:25.802Z"
   },
   {
    "duration": 13,
    "start_time": "2024-02-11T09:06:18.042Z"
   },
   {
    "duration": 27,
    "start_time": "2024-02-11T09:06:35.595Z"
   },
   {
    "duration": 7388,
    "start_time": "2024-02-11T09:06:40.944Z"
   },
   {
    "duration": 4,
    "start_time": "2024-02-11T09:06:55.612Z"
   },
   {
    "duration": 336,
    "start_time": "2024-02-11T09:06:57.806Z"
   },
   {
    "duration": 3,
    "start_time": "2024-02-11T09:07:10.093Z"
   },
   {
    "duration": 1759,
    "start_time": "2024-02-11T09:07:10.098Z"
   },
   {
    "duration": 869,
    "start_time": "2024-02-11T09:07:11.858Z"
   },
   {
    "duration": 1266,
    "start_time": "2024-02-11T09:07:12.729Z"
   },
   {
    "duration": 499,
    "start_time": "2024-02-11T09:07:13.996Z"
   },
   {
    "duration": 1048,
    "start_time": "2024-02-11T09:07:14.496Z"
   },
   {
    "duration": 6144,
    "start_time": "2024-02-11T09:07:15.545Z"
   },
   {
    "duration": 280,
    "start_time": "2024-02-11T09:07:21.690Z"
   },
   {
    "duration": 101,
    "start_time": "2024-02-11T09:07:21.972Z"
   },
   {
    "duration": 436,
    "start_time": "2024-02-11T09:07:22.074Z"
   },
   {
    "duration": 456,
    "start_time": "2024-02-11T09:07:22.511Z"
   },
   {
    "duration": 1372,
    "start_time": "2024-02-11T09:07:22.968Z"
   },
   {
    "duration": 132,
    "start_time": "2024-02-11T09:07:24.341Z"
   },
   {
    "duration": 13,
    "start_time": "2024-02-11T09:08:12.837Z"
   },
   {
    "duration": 15,
    "start_time": "2024-02-11T09:08:23.317Z"
   },
   {
    "duration": 5,
    "start_time": "2024-02-11T09:10:30.576Z"
   },
   {
    "duration": 12,
    "start_time": "2024-02-11T09:10:36.070Z"
   },
   {
    "duration": 3,
    "start_time": "2024-02-11T09:11:22.196Z"
   },
   {
    "duration": 10,
    "start_time": "2024-02-11T09:12:28.510Z"
   },
   {
    "duration": 94,
    "start_time": "2024-02-11T09:12:41.253Z"
   },
   {
    "duration": 0,
    "start_time": "2024-02-11T09:19:36.122Z"
   },
   {
    "duration": 33623,
    "start_time": "2024-02-11T09:19:39.378Z"
   },
   {
    "duration": 0,
    "start_time": "2024-02-11T09:20:13.002Z"
   },
   {
    "duration": 45532,
    "start_time": "2024-02-11T09:21:40.802Z"
   },
   {
    "duration": 13,
    "start_time": "2024-02-11T09:23:18.437Z"
   },
   {
    "duration": 12,
    "start_time": "2024-02-11T09:23:25.292Z"
   },
   {
    "duration": 40,
    "start_time": "2024-02-11T09:23:39.446Z"
   },
   {
    "duration": 69,
    "start_time": "2024-02-11T09:24:24.177Z"
   },
   {
    "duration": 4,
    "start_time": "2024-02-11T09:24:28.973Z"
   },
   {
    "duration": 95,
    "start_time": "2024-02-11T09:24:53.341Z"
   },
   {
    "duration": 5,
    "start_time": "2024-02-11T09:24:59.483Z"
   },
   {
    "duration": 4,
    "start_time": "2024-02-11T09:25:13.616Z"
   },
   {
    "duration": 3,
    "start_time": "2024-02-11T09:25:22.096Z"
   },
   {
    "duration": 1529,
    "start_time": "2024-02-11T09:25:51.754Z"
   },
   {
    "duration": 1307,
    "start_time": "2024-02-11T09:26:31.752Z"
   },
   {
    "duration": 94,
    "start_time": "2024-02-11T09:29:28.034Z"
   },
   {
    "duration": 27,
    "start_time": "2024-02-11T09:30:10.809Z"
   },
   {
    "duration": 45,
    "start_time": "2024-02-11T09:30:23.774Z"
   },
   {
    "duration": 121,
    "start_time": "2024-02-11T09:30:44.116Z"
   },
   {
    "duration": 69,
    "start_time": "2024-02-11T09:30:53.298Z"
   },
   {
    "duration": 105,
    "start_time": "2024-02-11T09:31:00.555Z"
   },
   {
    "duration": 79,
    "start_time": "2024-02-11T09:35:59.981Z"
   },
   {
    "duration": 71,
    "start_time": "2024-02-11T09:36:03.500Z"
   },
   {
    "duration": 5,
    "start_time": "2024-02-11T09:37:55.126Z"
   },
   {
    "duration": 1184,
    "start_time": "2024-02-11T09:38:36.079Z"
   },
   {
    "duration": 591,
    "start_time": "2024-02-11T09:57:31.512Z"
   },
   {
    "duration": 45786,
    "start_time": "2024-02-11T10:03:21.344Z"
   },
   {
    "duration": 8,
    "start_time": "2024-02-11T10:06:28.368Z"
   },
   {
    "duration": 525,
    "start_time": "2024-02-11T10:06:53.083Z"
   },
   {
    "duration": 1380,
    "start_time": "2024-02-11T10:07:28.970Z"
   },
   {
    "duration": 274,
    "start_time": "2024-02-11T10:08:20.366Z"
   },
   {
    "duration": 1163,
    "start_time": "2024-02-11T10:08:23.309Z"
   },
   {
    "duration": 275,
    "start_time": "2024-02-11T10:09:06.484Z"
   },
   {
    "duration": 1218,
    "start_time": "2024-02-11T10:09:08.921Z"
   },
   {
    "duration": 74,
    "start_time": "2024-02-11T10:11:31.212Z"
   },
   {
    "duration": 30,
    "start_time": "2024-02-11T10:11:36.285Z"
   },
   {
    "duration": 325,
    "start_time": "2024-02-11T10:11:40.377Z"
   },
   {
    "duration": 1224,
    "start_time": "2024-02-11T10:11:43.541Z"
   },
   {
    "duration": 283,
    "start_time": "2024-02-11T10:12:25.683Z"
   },
   {
    "duration": 1145,
    "start_time": "2024-02-11T10:12:27.479Z"
   },
   {
    "duration": 323,
    "start_time": "2024-02-11T10:12:37.863Z"
   },
   {
    "duration": 1162,
    "start_time": "2024-02-11T10:12:41.568Z"
   },
   {
    "duration": 442,
    "start_time": "2024-02-11T10:12:50.649Z"
   },
   {
    "duration": 1135,
    "start_time": "2024-02-11T10:12:54.293Z"
   },
   {
    "duration": 336,
    "start_time": "2024-02-11T10:13:10.836Z"
   },
   {
    "duration": 1166,
    "start_time": "2024-02-11T10:13:14.451Z"
   },
   {
    "duration": 73,
    "start_time": "2024-02-11T10:16:50.434Z"
   },
   {
    "duration": 242,
    "start_time": "2024-02-11T10:17:03.385Z"
   },
   {
    "duration": 957,
    "start_time": "2024-02-11T10:17:06.253Z"
   },
   {
    "duration": 270,
    "start_time": "2024-02-11T10:17:13.458Z"
   },
   {
    "duration": 936,
    "start_time": "2024-02-11T10:17:17.734Z"
   },
   {
    "duration": 136808,
    "start_time": "2024-02-11T10:17:50.738Z"
   },
   {
    "duration": 10,
    "start_time": "2024-02-11T10:20:39.407Z"
   },
   {
    "duration": 17,
    "start_time": "2024-02-11T10:21:33.048Z"
   },
   {
    "duration": 112,
    "start_time": "2024-02-11T10:21:33.764Z"
   },
   {
    "duration": 24,
    "start_time": "2024-02-11T10:21:52.874Z"
   },
   {
    "duration": 18,
    "start_time": "2024-02-11T10:21:57.672Z"
   },
   {
    "duration": 88,
    "start_time": "2024-02-11T10:21:58.824Z"
   },
   {
    "duration": 535,
    "start_time": "2024-02-11T10:22:11.597Z"
   },
   {
    "duration": 336,
    "start_time": "2024-02-11T10:22:33.475Z"
   },
   {
    "duration": 352,
    "start_time": "2024-02-11T10:22:36.690Z"
   },
   {
    "duration": 15,
    "start_time": "2024-02-11T10:22:58.609Z"
   },
   {
    "duration": 93,
    "start_time": "2024-02-11T10:22:59.555Z"
   },
   {
    "duration": 134,
    "start_time": "2024-02-11T10:23:12.332Z"
   },
   {
    "duration": 1104,
    "start_time": "2024-02-11T10:23:16.970Z"
   },
   {
    "duration": 13,
    "start_time": "2024-02-11T10:23:48.485Z"
   },
   {
    "duration": 87,
    "start_time": "2024-02-11T10:23:49.563Z"
   },
   {
    "duration": 136,
    "start_time": "2024-02-11T10:23:50.450Z"
   },
   {
    "duration": 130,
    "start_time": "2024-02-11T10:24:25.049Z"
   },
   {
    "duration": 3,
    "start_time": "2024-02-11T10:25:45.822Z"
   },
   {
    "duration": 1858,
    "start_time": "2024-02-11T10:25:45.836Z"
   },
   {
    "duration": 818,
    "start_time": "2024-02-11T10:25:47.695Z"
   },
   {
    "duration": 1261,
    "start_time": "2024-02-11T10:25:48.515Z"
   },
   {
    "duration": 492,
    "start_time": "2024-02-11T10:25:49.779Z"
   },
   {
    "duration": 1072,
    "start_time": "2024-02-11T10:25:50.273Z"
   },
   {
    "duration": 6118,
    "start_time": "2024-02-11T10:25:51.346Z"
   },
   {
    "duration": 280,
    "start_time": "2024-02-11T10:25:57.467Z"
   },
   {
    "duration": 84,
    "start_time": "2024-02-11T10:25:57.749Z"
   },
   {
    "duration": 435,
    "start_time": "2024-02-11T10:25:57.834Z"
   },
   {
    "duration": 399,
    "start_time": "2024-02-11T10:25:58.271Z"
   },
   {
    "duration": 1257,
    "start_time": "2024-02-11T10:25:58.672Z"
   },
   {
    "duration": 514,
    "start_time": "2024-02-11T10:28:09.330Z"
   },
   {
    "duration": 382,
    "start_time": "2024-02-11T10:28:20.112Z"
   },
   {
    "duration": 9362,
    "start_time": "2024-02-11T10:34:55.791Z"
   },
   {
    "duration": 9137,
    "start_time": "2024-02-11T10:35:14.933Z"
   },
   {
    "duration": 4,
    "start_time": "2024-02-11T10:36:05.547Z"
   },
   {
    "duration": 1775,
    "start_time": "2024-02-11T10:36:05.552Z"
   },
   {
    "duration": 841,
    "start_time": "2024-02-11T10:36:07.328Z"
   },
   {
    "duration": 1274,
    "start_time": "2024-02-11T10:36:08.171Z"
   },
   {
    "duration": 444,
    "start_time": "2024-02-11T10:36:09.446Z"
   },
   {
    "duration": 1038,
    "start_time": "2024-02-11T10:36:09.891Z"
   },
   {
    "duration": 6238,
    "start_time": "2024-02-11T10:36:10.930Z"
   },
   {
    "duration": 271,
    "start_time": "2024-02-11T10:36:17.170Z"
   },
   {
    "duration": 95,
    "start_time": "2024-02-11T10:36:17.443Z"
   },
   {
    "duration": 440,
    "start_time": "2024-02-11T10:36:17.540Z"
   },
   {
    "duration": 399,
    "start_time": "2024-02-11T10:36:17.982Z"
   },
   {
    "duration": 9177,
    "start_time": "2024-02-11T10:36:18.383Z"
   },
   {
    "duration": 809,
    "start_time": "2024-02-11T10:37:01.064Z"
   },
   {
    "duration": 1332,
    "start_time": "2024-02-11T10:37:38.783Z"
   },
   {
    "duration": 7889,
    "start_time": "2024-02-11T10:38:11.387Z"
   },
   {
    "duration": 7879,
    "start_time": "2024-02-11T10:38:57.402Z"
   },
   {
    "duration": 577,
    "start_time": "2024-02-11T10:39:30.762Z"
   },
   {
    "duration": 734,
    "start_time": "2024-02-11T10:40:15.639Z"
   },
   {
    "duration": 232,
    "start_time": "2024-02-11T10:40:22.988Z"
   },
   {
    "duration": 902,
    "start_time": "2024-02-11T10:40:30.483Z"
   },
   {
    "duration": 1373,
    "start_time": "2024-02-11T10:40:43.750Z"
   },
   {
    "duration": 7650,
    "start_time": "2024-02-11T10:44:25.157Z"
   },
   {
    "duration": 5547,
    "start_time": "2024-02-11T10:44:39.488Z"
   },
   {
    "duration": 5088,
    "start_time": "2024-02-11T10:45:28.621Z"
   },
   {
    "duration": 5106,
    "start_time": "2024-02-11T10:45:48.329Z"
   },
   {
    "duration": 1473,
    "start_time": "2024-02-11T10:46:35.328Z"
   },
   {
    "duration": 932,
    "start_time": "2024-02-11T10:46:48.702Z"
   },
   {
    "duration": 438,
    "start_time": "2024-02-11T10:46:54.608Z"
   },
   {
    "duration": 813,
    "start_time": "2024-02-11T10:49:40.009Z"
   },
   {
    "duration": 1182,
    "start_time": "2024-02-11T10:51:22.309Z"
   },
   {
    "duration": 654,
    "start_time": "2024-02-11T10:51:29.472Z"
   },
   {
    "duration": 723,
    "start_time": "2024-02-11T10:51:52.723Z"
   },
   {
    "duration": 928,
    "start_time": "2024-02-11T10:52:09.434Z"
   },
   {
    "duration": 11,
    "start_time": "2024-02-11T10:54:14.791Z"
   },
   {
    "duration": 544,
    "start_time": "2024-02-11T10:56:19.059Z"
   },
   {
    "duration": 11,
    "start_time": "2024-02-11T10:58:17.662Z"
   },
   {
    "duration": 12,
    "start_time": "2024-02-11T10:58:44.711Z"
   },
   {
    "duration": 11,
    "start_time": "2024-02-11T10:58:59.114Z"
   },
   {
    "duration": 12,
    "start_time": "2024-02-11T10:59:10.138Z"
   },
   {
    "duration": 11,
    "start_time": "2024-02-11T10:59:18.476Z"
   },
   {
    "duration": 18,
    "start_time": "2024-02-11T11:05:33.563Z"
   },
   {
    "duration": 18,
    "start_time": "2024-02-11T11:05:47.678Z"
   },
   {
    "duration": 18,
    "start_time": "2024-02-11T11:06:02.474Z"
   },
   {
    "duration": 24,
    "start_time": "2024-02-11T11:07:12.988Z"
   },
   {
    "duration": 20,
    "start_time": "2024-02-11T11:07:21.757Z"
   },
   {
    "duration": 793,
    "start_time": "2024-02-11T11:08:25.151Z"
   },
   {
    "duration": 20,
    "start_time": "2024-02-11T11:10:06.653Z"
   },
   {
    "duration": 911,
    "start_time": "2024-02-11T11:10:34.073Z"
   },
   {
    "duration": 767,
    "start_time": "2024-02-11T11:10:51.093Z"
   },
   {
    "duration": 929,
    "start_time": "2024-02-11T11:12:39.456Z"
   },
   {
    "duration": 878,
    "start_time": "2024-02-11T11:12:52.442Z"
   },
   {
    "duration": 858,
    "start_time": "2024-02-11T11:13:30.881Z"
   },
   {
    "duration": 1803,
    "start_time": "2024-02-11T11:33:59.602Z"
   },
   {
    "duration": 1363,
    "start_time": "2024-02-11T11:36:16.077Z"
   },
   {
    "duration": 1159,
    "start_time": "2024-02-11T11:36:34.058Z"
   },
   {
    "duration": 1172,
    "start_time": "2024-02-11T11:36:43.707Z"
   },
   {
    "duration": 1331,
    "start_time": "2024-02-11T11:36:54.216Z"
   },
   {
    "duration": 543,
    "start_time": "2024-02-11T11:38:40.022Z"
   },
   {
    "duration": 4,
    "start_time": "2024-02-11T11:44:25.948Z"
   },
   {
    "duration": 1890,
    "start_time": "2024-02-11T11:44:25.953Z"
   },
   {
    "duration": 870,
    "start_time": "2024-02-11T11:44:27.844Z"
   },
   {
    "duration": 1308,
    "start_time": "2024-02-11T11:44:28.716Z"
   },
   {
    "duration": 495,
    "start_time": "2024-02-11T11:44:30.025Z"
   },
   {
    "duration": 1122,
    "start_time": "2024-02-11T11:44:30.521Z"
   },
   {
    "duration": 6225,
    "start_time": "2024-02-11T11:44:31.645Z"
   },
   {
    "duration": 277,
    "start_time": "2024-02-11T11:44:37.872Z"
   },
   {
    "duration": 87,
    "start_time": "2024-02-11T11:44:38.150Z"
   },
   {
    "duration": 582,
    "start_time": "2024-02-11T11:44:38.240Z"
   },
   {
    "duration": 905,
    "start_time": "2024-02-11T11:44:38.823Z"
   },
   {
    "duration": 857,
    "start_time": "2024-02-11T11:44:39.729Z"
   },
   {
    "duration": 1343,
    "start_time": "2024-02-11T11:44:40.588Z"
   },
   {
    "duration": 1252,
    "start_time": "2024-02-11T11:44:41.932Z"
   },
   {
    "duration": 182,
    "start_time": "2024-02-11T11:49:18.375Z"
   },
   {
    "duration": 43,
    "start_time": "2024-02-11T11:49:30.199Z"
   },
   {
    "duration": 38,
    "start_time": "2024-02-11T11:49:40.990Z"
   },
   {
    "duration": 95,
    "start_time": "2024-02-11T11:49:50.051Z"
   },
   {
    "duration": 4,
    "start_time": "2024-02-11T11:50:28.641Z"
   },
   {
    "duration": 127,
    "start_time": "2024-02-11T11:51:05.965Z"
   },
   {
    "duration": 8,
    "start_time": "2024-02-11T11:51:20.066Z"
   },
   {
    "duration": 11,
    "start_time": "2024-02-11T11:51:46.706Z"
   },
   {
    "duration": 63,
    "start_time": "2024-02-11T11:51:54.529Z"
   },
   {
    "duration": 25,
    "start_time": "2024-02-11T11:52:16.506Z"
   },
   {
    "duration": 169,
    "start_time": "2024-02-11T11:52:23.067Z"
   },
   {
    "duration": 45,
    "start_time": "2024-02-11T11:52:23.832Z"
   },
   {
    "duration": 38,
    "start_time": "2024-02-11T11:52:24.389Z"
   },
   {
    "duration": 4,
    "start_time": "2024-02-11T11:52:24.930Z"
   },
   {
    "duration": 17,
    "start_time": "2024-02-11T11:52:25.861Z"
   },
   {
    "duration": 64,
    "start_time": "2024-02-11T11:52:28.528Z"
   },
   {
    "duration": 305,
    "start_time": "2024-02-11T11:53:22.280Z"
   },
   {
    "duration": 5,
    "start_time": "2024-02-11T11:54:38.795Z"
   },
   {
    "duration": 10,
    "start_time": "2024-02-11T11:55:32.194Z"
   },
   {
    "duration": 5389,
    "start_time": "2024-02-11T11:55:42.372Z"
   },
   {
    "duration": 433,
    "start_time": "2024-02-11T11:57:31.409Z"
   },
   {
    "duration": 358,
    "start_time": "2024-02-11T11:57:35.590Z"
   },
   {
    "duration": 314,
    "start_time": "2024-02-11T11:59:58.410Z"
   },
   {
    "duration": 2699,
    "start_time": "2024-02-11T12:00:05.889Z"
   },
   {
    "duration": 44,
    "start_time": "2024-02-11T12:02:49.002Z"
   },
   {
    "duration": 211,
    "start_time": "2024-02-11T12:03:01.917Z"
   },
   {
    "duration": 3649,
    "start_time": "2024-02-11T12:03:04.378Z"
   },
   {
    "duration": 184,
    "start_time": "2024-02-11T12:04:14.544Z"
   },
   {
    "duration": 3463,
    "start_time": "2024-02-11T12:04:16.847Z"
   },
   {
    "duration": 3,
    "start_time": "2024-02-11T12:24:20.605Z"
   },
   {
    "duration": 1723,
    "start_time": "2024-02-11T12:24:20.610Z"
   },
   {
    "duration": 815,
    "start_time": "2024-02-11T12:24:22.335Z"
   },
   {
    "duration": 1263,
    "start_time": "2024-02-11T12:24:23.152Z"
   },
   {
    "duration": 456,
    "start_time": "2024-02-11T12:24:24.420Z"
   },
   {
    "duration": 1038,
    "start_time": "2024-02-11T12:24:24.878Z"
   },
   {
    "duration": 6248,
    "start_time": "2024-02-11T12:24:25.917Z"
   },
   {
    "duration": 273,
    "start_time": "2024-02-11T12:24:32.168Z"
   },
   {
    "duration": 91,
    "start_time": "2024-02-11T12:24:32.443Z"
   },
   {
    "duration": 576,
    "start_time": "2024-02-11T12:24:32.535Z"
   },
   {
    "duration": 926,
    "start_time": "2024-02-11T12:24:33.113Z"
   },
   {
    "duration": 830,
    "start_time": "2024-02-11T12:24:34.041Z"
   },
   {
    "duration": 1312,
    "start_time": "2024-02-11T12:24:34.873Z"
   },
   {
    "duration": 1275,
    "start_time": "2024-02-11T12:24:36.187Z"
   },
   {
    "duration": 222,
    "start_time": "2024-02-11T12:24:37.463Z"
   },
   {
    "duration": 3692,
    "start_time": "2024-02-11T12:24:37.687Z"
   },
   {
    "duration": 985,
    "start_time": "2024-02-11T13:02:59.428Z"
   },
   {
    "duration": 449,
    "start_time": "2024-02-11T13:03:08.810Z"
   },
   {
    "duration": 449,
    "start_time": "2024-02-11T13:03:18.255Z"
   },
   {
    "duration": 649,
    "start_time": "2024-02-11T13:04:45.005Z"
   },
   {
    "duration": 4,
    "start_time": "2024-02-11T13:05:20.949Z"
   },
   {
    "duration": 186,
    "start_time": "2024-02-11T13:06:12.743Z"
   },
   {
    "duration": 3554,
    "start_time": "2024-02-11T13:06:24.459Z"
   },
   {
    "duration": 542,
    "start_time": "2024-02-11T13:06:51.575Z"
   },
   {
    "duration": 1162,
    "start_time": "2024-02-11T13:07:14.541Z"
   },
   {
    "duration": 61,
    "start_time": "2024-02-11T13:08:02.441Z"
   },
   {
    "duration": 50,
    "start_time": "2024-02-11T13:08:53.169Z"
   },
   {
    "duration": 41,
    "start_time": "2024-02-11T13:09:07.255Z"
   },
   {
    "duration": 41,
    "start_time": "2024-02-11T13:09:12.681Z"
   },
   {
    "duration": 47,
    "start_time": "2024-02-11T13:09:19.701Z"
   },
   {
    "duration": 75,
    "start_time": "2024-02-11T13:10:16.042Z"
   },
   {
    "duration": 85,
    "start_time": "2024-02-11T13:10:32.682Z"
   },
   {
    "duration": 95,
    "start_time": "2024-02-11T13:11:02.533Z"
   },
   {
    "duration": 108,
    "start_time": "2024-02-11T13:11:11.700Z"
   },
   {
    "duration": 80,
    "start_time": "2024-02-11T13:11:35.329Z"
   },
   {
    "duration": 78,
    "start_time": "2024-02-11T13:12:21.249Z"
   },
   {
    "duration": 78,
    "start_time": "2024-02-11T13:12:28.852Z"
   },
   {
    "duration": 77,
    "start_time": "2024-02-11T13:12:33.947Z"
   },
   {
    "duration": 80,
    "start_time": "2024-02-11T13:12:45.775Z"
   },
   {
    "duration": 82,
    "start_time": "2024-02-11T13:12:51.744Z"
   },
   {
    "duration": 83,
    "start_time": "2024-02-11T13:13:40.499Z"
   },
   {
    "duration": 83,
    "start_time": "2024-02-11T13:14:20.598Z"
   },
   {
    "duration": 14,
    "start_time": "2024-02-11T13:14:52.296Z"
   },
   {
    "duration": 11,
    "start_time": "2024-02-11T13:15:10.668Z"
   },
   {
    "duration": 12,
    "start_time": "2024-02-11T13:15:22.370Z"
   },
   {
    "duration": 12,
    "start_time": "2024-02-11T13:15:31.351Z"
   },
   {
    "duration": 11,
    "start_time": "2024-02-11T13:15:43.686Z"
   },
   {
    "duration": 11,
    "start_time": "2024-02-11T13:15:49.186Z"
   },
   {
    "duration": 12,
    "start_time": "2024-02-11T13:16:02.776Z"
   },
   {
    "duration": 11,
    "start_time": "2024-02-11T13:16:12.733Z"
   },
   {
    "duration": 10,
    "start_time": "2024-02-11T13:16:19.313Z"
   },
   {
    "duration": 11,
    "start_time": "2024-02-11T13:16:52.491Z"
   },
   {
    "duration": 11,
    "start_time": "2024-02-11T13:17:00.092Z"
   },
   {
    "duration": 32,
    "start_time": "2024-02-11T13:17:34.876Z"
   },
   {
    "duration": 98,
    "start_time": "2024-02-11T13:18:51.037Z"
   },
   {
    "duration": 82,
    "start_time": "2024-02-11T13:19:00.793Z"
   },
   {
    "duration": 79,
    "start_time": "2024-02-11T13:19:25.217Z"
   },
   {
    "duration": 87,
    "start_time": "2024-02-11T13:21:23.535Z"
   },
   {
    "duration": 5,
    "start_time": "2024-02-11T13:24:45.524Z"
   },
   {
    "duration": 1887,
    "start_time": "2024-02-11T13:24:45.531Z"
   },
   {
    "duration": 918,
    "start_time": "2024-02-11T13:24:47.419Z"
   },
   {
    "duration": 1303,
    "start_time": "2024-02-11T13:24:48.339Z"
   },
   {
    "duration": 463,
    "start_time": "2024-02-11T13:24:49.645Z"
   },
   {
    "duration": 1120,
    "start_time": "2024-02-11T13:24:50.109Z"
   },
   {
    "duration": 6303,
    "start_time": "2024-02-11T13:24:51.231Z"
   },
   {
    "duration": 327,
    "start_time": "2024-02-11T13:24:57.535Z"
   },
   {
    "duration": 82,
    "start_time": "2024-02-11T13:24:57.864Z"
   },
   {
    "duration": 578,
    "start_time": "2024-02-11T13:24:57.959Z"
   },
   {
    "duration": 938,
    "start_time": "2024-02-11T13:24:58.538Z"
   },
   {
    "duration": 461,
    "start_time": "2024-02-11T13:24:59.478Z"
   },
   {
    "duration": 102,
    "start_time": "2024-02-11T13:24:59.941Z"
   },
   {
    "duration": 1313,
    "start_time": "2024-02-11T13:25:00.047Z"
   },
   {
    "duration": 1453,
    "start_time": "2024-02-11T13:25:01.362Z"
   },
   {
    "duration": 188,
    "start_time": "2024-02-11T13:25:02.816Z"
   },
   {
    "duration": 3695,
    "start_time": "2024-02-11T13:25:03.006Z"
   },
   {
    "duration": 219,
    "start_time": "2024-02-11T13:27:05.942Z"
   },
   {
    "duration": 3,
    "start_time": "2024-02-11T13:28:36.888Z"
   },
   {
    "duration": 1762,
    "start_time": "2024-02-11T13:28:36.893Z"
   },
   {
    "duration": 873,
    "start_time": "2024-02-11T13:28:38.656Z"
   },
   {
    "duration": 1338,
    "start_time": "2024-02-11T13:28:39.531Z"
   },
   {
    "duration": 490,
    "start_time": "2024-02-11T13:28:40.871Z"
   },
   {
    "duration": 1056,
    "start_time": "2024-02-11T13:28:41.363Z"
   },
   {
    "duration": 6258,
    "start_time": "2024-02-11T13:28:42.421Z"
   },
   {
    "duration": 311,
    "start_time": "2024-02-11T13:28:48.682Z"
   },
   {
    "duration": 93,
    "start_time": "2024-02-11T13:28:48.996Z"
   },
   {
    "duration": 585,
    "start_time": "2024-02-11T13:28:49.091Z"
   },
   {
    "duration": 930,
    "start_time": "2024-02-11T13:28:49.678Z"
   },
   {
    "duration": 433,
    "start_time": "2024-02-11T13:28:50.610Z"
   },
   {
    "duration": 104,
    "start_time": "2024-02-11T13:28:51.045Z"
   },
   {
    "duration": 1272,
    "start_time": "2024-02-11T13:28:51.151Z"
   },
   {
    "duration": 1383,
    "start_time": "2024-02-11T13:28:52.425Z"
   },
   {
    "duration": 210,
    "start_time": "2024-02-11T13:28:53.809Z"
   },
   {
    "duration": 3694,
    "start_time": "2024-02-11T13:28:54.020Z"
   },
   {
    "duration": 217,
    "start_time": "2024-02-11T13:28:57.716Z"
   },
   {
    "duration": 182,
    "start_time": "2024-02-11T13:29:08.247Z"
   },
   {
    "duration": 184,
    "start_time": "2024-02-11T13:29:16.976Z"
   },
   {
    "duration": 144,
    "start_time": "2024-02-11T13:29:39.137Z"
   },
   {
    "duration": 4,
    "start_time": "2024-02-11T13:30:07.078Z"
   },
   {
    "duration": 1780,
    "start_time": "2024-02-11T13:30:07.084Z"
   },
   {
    "duration": 873,
    "start_time": "2024-02-11T13:30:08.865Z"
   },
   {
    "duration": 1379,
    "start_time": "2024-02-11T13:30:09.740Z"
   },
   {
    "duration": 482,
    "start_time": "2024-02-11T13:30:11.120Z"
   },
   {
    "duration": 1041,
    "start_time": "2024-02-11T13:30:11.603Z"
   },
   {
    "duration": 6411,
    "start_time": "2024-02-11T13:30:12.645Z"
   },
   {
    "duration": 334,
    "start_time": "2024-02-11T13:30:19.060Z"
   },
   {
    "duration": 92,
    "start_time": "2024-02-11T13:30:19.396Z"
   },
   {
    "duration": 586,
    "start_time": "2024-02-11T13:30:19.490Z"
   },
   {
    "duration": 973,
    "start_time": "2024-02-11T13:30:20.078Z"
   },
   {
    "duration": 465,
    "start_time": "2024-02-11T13:30:21.052Z"
   },
   {
    "duration": 103,
    "start_time": "2024-02-11T13:30:21.520Z"
   },
   {
    "duration": 1253,
    "start_time": "2024-02-11T13:30:21.625Z"
   },
   {
    "duration": 1333,
    "start_time": "2024-02-11T13:30:22.880Z"
   },
   {
    "duration": 193,
    "start_time": "2024-02-11T13:30:24.215Z"
   },
   {
    "duration": 3666,
    "start_time": "2024-02-11T13:30:24.410Z"
   },
   {
    "duration": 134,
    "start_time": "2024-02-11T13:30:28.078Z"
   },
   {
    "duration": 171,
    "start_time": "2024-02-11T13:30:41.474Z"
   },
   {
    "duration": 122,
    "start_time": "2024-02-11T13:33:12.840Z"
   },
   {
    "duration": 182,
    "start_time": "2024-02-11T13:34:30.342Z"
   },
   {
    "duration": 3,
    "start_time": "2024-02-11T13:36:06.809Z"
   },
   {
    "duration": 1751,
    "start_time": "2024-02-11T13:36:06.814Z"
   },
   {
    "duration": 805,
    "start_time": "2024-02-11T13:36:08.567Z"
   },
   {
    "duration": 1318,
    "start_time": "2024-02-11T13:36:09.374Z"
   },
   {
    "duration": 472,
    "start_time": "2024-02-11T13:36:10.694Z"
   },
   {
    "duration": 1077,
    "start_time": "2024-02-11T13:36:11.168Z"
   },
   {
    "duration": 6184,
    "start_time": "2024-02-11T13:36:12.247Z"
   },
   {
    "duration": 274,
    "start_time": "2024-02-11T13:36:18.434Z"
   },
   {
    "duration": 96,
    "start_time": "2024-02-11T13:36:18.710Z"
   },
   {
    "duration": 559,
    "start_time": "2024-02-11T13:36:18.807Z"
   },
   {
    "duration": 909,
    "start_time": "2024-02-11T13:36:19.368Z"
   },
   {
    "duration": 440,
    "start_time": "2024-02-11T13:36:20.278Z"
   },
   {
    "duration": 98,
    "start_time": "2024-02-11T13:36:20.719Z"
   },
   {
    "duration": 1213,
    "start_time": "2024-02-11T13:36:20.818Z"
   },
   {
    "duration": 1290,
    "start_time": "2024-02-11T13:36:22.032Z"
   },
   {
    "duration": 196,
    "start_time": "2024-02-11T13:36:23.323Z"
   },
   {
    "duration": 3542,
    "start_time": "2024-02-11T13:36:23.521Z"
   },
   {
    "duration": 230,
    "start_time": "2024-02-11T13:36:27.064Z"
   },
   {
    "duration": 218,
    "start_time": "2024-02-11T13:37:03.254Z"
   },
   {
    "duration": 4,
    "start_time": "2024-02-11T13:37:19.307Z"
   },
   {
    "duration": 1836,
    "start_time": "2024-02-11T13:37:19.313Z"
   },
   {
    "duration": 850,
    "start_time": "2024-02-11T13:37:21.151Z"
   },
   {
    "duration": 1324,
    "start_time": "2024-02-11T13:37:22.003Z"
   },
   {
    "duration": 461,
    "start_time": "2024-02-11T13:37:23.329Z"
   },
   {
    "duration": 1027,
    "start_time": "2024-02-11T13:37:23.791Z"
   },
   {
    "duration": 6396,
    "start_time": "2024-02-11T13:37:24.819Z"
   },
   {
    "duration": 291,
    "start_time": "2024-02-11T13:37:31.218Z"
   },
   {
    "duration": 99,
    "start_time": "2024-02-11T13:37:31.512Z"
   },
   {
    "duration": 571,
    "start_time": "2024-02-11T13:37:31.613Z"
   },
   {
    "duration": 920,
    "start_time": "2024-02-11T13:37:32.186Z"
   },
   {
    "duration": 428,
    "start_time": "2024-02-11T13:37:33.107Z"
   },
   {
    "duration": 101,
    "start_time": "2024-02-11T13:37:33.536Z"
   },
   {
    "duration": 1188,
    "start_time": "2024-02-11T13:37:33.639Z"
   },
   {
    "duration": 1339,
    "start_time": "2024-02-11T13:37:34.829Z"
   },
   {
    "duration": 201,
    "start_time": "2024-02-11T13:37:36.169Z"
   },
   {
    "duration": 3597,
    "start_time": "2024-02-11T13:37:36.371Z"
   },
   {
    "duration": 253,
    "start_time": "2024-02-11T13:37:39.969Z"
   },
   {
    "duration": 20,
    "start_time": "2024-02-11T13:39:00.198Z"
   },
   {
    "duration": 16,
    "start_time": "2024-02-11T13:39:17.401Z"
   },
   {
    "duration": 32,
    "start_time": "2024-02-11T13:41:09.548Z"
   },
   {
    "duration": 33,
    "start_time": "2024-02-11T13:56:50.807Z"
   },
   {
    "duration": 3,
    "start_time": "2024-02-11T14:01:28.612Z"
   },
   {
    "duration": 191,
    "start_time": "2024-02-11T14:02:49.294Z"
   },
   {
    "duration": 73,
    "start_time": "2024-02-11T14:03:29.875Z"
   },
   {
    "duration": 3,
    "start_time": "2024-02-11T14:05:26.921Z"
   },
   {
    "duration": 73,
    "start_time": "2024-02-11T14:05:30.625Z"
   },
   {
    "duration": 18,
    "start_time": "2024-02-11T14:06:41.929Z"
   },
   {
    "duration": 16,
    "start_time": "2024-02-11T14:06:59.899Z"
   },
   {
    "duration": 66,
    "start_time": "2024-02-11T14:08:02.164Z"
   },
   {
    "duration": 64,
    "start_time": "2024-02-11T14:08:06.518Z"
   },
   {
    "duration": 82,
    "start_time": "2024-02-11T14:08:40.493Z"
   },
   {
    "duration": 82,
    "start_time": "2024-02-11T14:08:49.438Z"
   },
   {
    "duration": 70,
    "start_time": "2024-02-11T14:08:58.522Z"
   },
   {
    "duration": 198,
    "start_time": "2024-02-11T14:09:07.376Z"
   },
   {
    "duration": 54,
    "start_time": "2024-02-11T14:13:27.219Z"
   },
   {
    "duration": 15,
    "start_time": "2024-02-11T14:13:29.412Z"
   },
   {
    "duration": 3,
    "start_time": "2024-02-11T14:16:07.328Z"
   },
   {
    "duration": 1789,
    "start_time": "2024-02-11T14:16:07.333Z"
   },
   {
    "duration": 844,
    "start_time": "2024-02-11T14:16:09.124Z"
   },
   {
    "duration": 1304,
    "start_time": "2024-02-11T14:16:09.970Z"
   },
   {
    "duration": 472,
    "start_time": "2024-02-11T14:16:11.275Z"
   },
   {
    "duration": 1110,
    "start_time": "2024-02-11T14:16:11.749Z"
   },
   {
    "duration": 6313,
    "start_time": "2024-02-11T14:16:12.860Z"
   },
   {
    "duration": 274,
    "start_time": "2024-02-11T14:16:19.175Z"
   },
   {
    "duration": 109,
    "start_time": "2024-02-11T14:16:19.451Z"
   },
   {
    "duration": 573,
    "start_time": "2024-02-11T14:16:19.562Z"
   },
   {
    "duration": 907,
    "start_time": "2024-02-11T14:16:20.137Z"
   },
   {
    "duration": 467,
    "start_time": "2024-02-11T14:16:21.046Z"
   },
   {
    "duration": 110,
    "start_time": "2024-02-11T14:16:21.515Z"
   },
   {
    "duration": 1233,
    "start_time": "2024-02-11T14:16:21.627Z"
   },
   {
    "duration": 1321,
    "start_time": "2024-02-11T14:16:22.862Z"
   },
   {
    "duration": 194,
    "start_time": "2024-02-11T14:16:24.184Z"
   },
   {
    "duration": 3620,
    "start_time": "2024-02-11T14:16:24.380Z"
   },
   {
    "duration": 234,
    "start_time": "2024-02-11T14:16:28.001Z"
   },
   {
    "duration": 58,
    "start_time": "2024-02-11T14:16:28.236Z"
   },
   {
    "duration": 121,
    "start_time": "2024-02-11T14:16:28.296Z"
   },
   {
    "duration": 4,
    "start_time": "2024-02-11T14:53:37.373Z"
   },
   {
    "duration": 1828,
    "start_time": "2024-02-11T14:53:37.378Z"
   },
   {
    "duration": 861,
    "start_time": "2024-02-11T14:53:39.208Z"
   },
   {
    "duration": 1355,
    "start_time": "2024-02-11T14:53:40.070Z"
   },
   {
    "duration": 475,
    "start_time": "2024-02-11T14:53:41.427Z"
   },
   {
    "duration": 1062,
    "start_time": "2024-02-11T14:53:41.904Z"
   },
   {
    "duration": 6224,
    "start_time": "2024-02-11T14:53:42.968Z"
   },
   {
    "duration": 282,
    "start_time": "2024-02-11T14:53:49.194Z"
   },
   {
    "duration": 109,
    "start_time": "2024-02-11T14:53:49.478Z"
   },
   {
    "duration": 568,
    "start_time": "2024-02-11T14:53:49.588Z"
   },
   {
    "duration": 947,
    "start_time": "2024-02-11T14:53:50.159Z"
   },
   {
    "duration": 456,
    "start_time": "2024-02-11T14:53:51.108Z"
   },
   {
    "duration": 112,
    "start_time": "2024-02-11T14:53:51.566Z"
   },
   {
    "duration": 1267,
    "start_time": "2024-02-11T14:53:51.680Z"
   },
   {
    "duration": 1365,
    "start_time": "2024-02-11T14:53:52.949Z"
   },
   {
    "duration": 190,
    "start_time": "2024-02-11T14:53:54.315Z"
   },
   {
    "duration": 3792,
    "start_time": "2024-02-11T14:53:54.507Z"
   },
   {
    "duration": 275,
    "start_time": "2024-02-11T14:53:58.302Z"
   },
   {
    "duration": 61,
    "start_time": "2024-02-11T14:53:58.578Z"
   },
   {
    "duration": 107,
    "start_time": "2024-02-11T14:53:58.641Z"
   },
   {
    "duration": 75,
    "start_time": "2024-02-11T14:53:58.749Z"
   },
   {
    "duration": 16,
    "start_time": "2024-02-11T14:57:21.009Z"
   },
   {
    "duration": 463,
    "start_time": "2024-02-11T14:57:39.695Z"
   },
   {
    "duration": 99,
    "start_time": "2024-02-11T14:57:54.755Z"
   },
   {
    "duration": 4,
    "start_time": "2024-02-11T14:58:32.432Z"
   },
   {
    "duration": 1775,
    "start_time": "2024-02-11T14:58:32.473Z"
   },
   {
    "duration": 812,
    "start_time": "2024-02-11T14:58:34.250Z"
   },
   {
    "duration": 1342,
    "start_time": "2024-02-11T14:58:35.063Z"
   },
   {
    "duration": 456,
    "start_time": "2024-02-11T14:58:36.407Z"
   },
   {
    "duration": 1095,
    "start_time": "2024-02-11T14:58:36.866Z"
   },
   {
    "duration": 6591,
    "start_time": "2024-02-11T14:58:37.962Z"
   },
   {
    "duration": 287,
    "start_time": "2024-02-11T14:58:44.555Z"
   },
   {
    "duration": 95,
    "start_time": "2024-02-11T14:58:44.844Z"
   },
   {
    "duration": 619,
    "start_time": "2024-02-11T14:58:44.940Z"
   },
   {
    "duration": 950,
    "start_time": "2024-02-11T14:58:45.560Z"
   },
   {
    "duration": 446,
    "start_time": "2024-02-11T14:58:46.512Z"
   },
   {
    "duration": 102,
    "start_time": "2024-02-11T14:58:46.960Z"
   },
   {
    "duration": 1252,
    "start_time": "2024-02-11T14:58:47.064Z"
   },
   {
    "duration": 1422,
    "start_time": "2024-02-11T14:58:48.319Z"
   },
   {
    "duration": 308,
    "start_time": "2024-02-11T14:58:49.743Z"
   },
   {
    "duration": 1,
    "start_time": "2024-02-11T14:58:50.052Z"
   },
   {
    "duration": 0,
    "start_time": "2024-02-11T14:58:50.054Z"
   },
   {
    "duration": 0,
    "start_time": "2024-02-11T14:58:50.059Z"
   },
   {
    "duration": 0,
    "start_time": "2024-02-11T14:58:50.060Z"
   },
   {
    "duration": 0,
    "start_time": "2024-02-11T14:58:50.061Z"
   },
   {
    "duration": 0,
    "start_time": "2024-02-11T14:58:50.063Z"
   },
   {
    "duration": 0,
    "start_time": "2024-02-11T14:58:50.065Z"
   },
   {
    "duration": 30,
    "start_time": "2024-02-11T14:58:56.567Z"
   },
   {
    "duration": 14,
    "start_time": "2024-02-11T14:58:59.531Z"
   },
   {
    "duration": 54,
    "start_time": "2024-02-11T15:00:07.098Z"
   },
   {
    "duration": 22,
    "start_time": "2024-02-11T15:00:11.052Z"
   },
   {
    "duration": 16,
    "start_time": "2024-02-11T15:00:21.410Z"
   },
   {
    "duration": 13,
    "start_time": "2024-02-11T15:00:39.825Z"
   },
   {
    "duration": 16,
    "start_time": "2024-02-11T15:00:53.573Z"
   },
   {
    "duration": 4,
    "start_time": "2024-02-11T15:02:29.048Z"
   },
   {
    "duration": 4,
    "start_time": "2024-02-11T15:02:40.393Z"
   },
   {
    "duration": 12,
    "start_time": "2024-02-11T15:03:28.818Z"
   },
   {
    "duration": 121,
    "start_time": "2024-02-11T15:03:35.527Z"
   },
   {
    "duration": 23,
    "start_time": "2024-02-11T15:04:09.063Z"
   },
   {
    "duration": 6153,
    "start_time": "2024-02-11T15:10:30.177Z"
   },
   {
    "duration": 32578,
    "start_time": "2024-02-11T15:10:36.478Z"
   },
   {
    "duration": 17812,
    "start_time": "2024-02-11T15:11:17.398Z"
   },
   {
    "duration": 4553,
    "start_time": "2024-02-11T15:12:00.247Z"
   },
   {
    "duration": 4,
    "start_time": "2024-02-11T15:12:11.651Z"
   },
   {
    "duration": 1162,
    "start_time": "2024-02-11T15:15:08.865Z"
   },
   {
    "duration": 651,
    "start_time": "2024-02-11T15:16:26.027Z"
   },
   {
    "duration": 13,
    "start_time": "2024-02-11T15:31:26.276Z"
   },
   {
    "duration": 13,
    "start_time": "2024-02-11T15:31:39.690Z"
   },
   {
    "duration": 8,
    "start_time": "2024-02-11T15:31:55.556Z"
   },
   {
    "duration": 11,
    "start_time": "2024-02-11T15:32:13.427Z"
   },
   {
    "duration": 75,
    "start_time": "2024-02-11T15:32:33.631Z"
   },
   {
    "duration": 10,
    "start_time": "2024-02-11T15:32:38.362Z"
   },
   {
    "duration": 13,
    "start_time": "2024-02-11T15:32:54.886Z"
   },
   {
    "duration": 5,
    "start_time": "2024-02-11T15:33:16.215Z"
   },
   {
    "duration": 71,
    "start_time": "2024-02-11T15:39:01.834Z"
   },
   {
    "duration": 5,
    "start_time": "2024-02-11T15:39:09.464Z"
   },
   {
    "duration": 5,
    "start_time": "2024-02-11T15:39:24.523Z"
   },
   {
    "duration": 4,
    "start_time": "2024-02-11T15:40:08.820Z"
   },
   {
    "duration": 4,
    "start_time": "2024-02-11T15:41:19.335Z"
   },
   {
    "duration": 5,
    "start_time": "2024-02-11T15:41:24.734Z"
   },
   {
    "duration": 4,
    "start_time": "2024-02-11T15:41:54.057Z"
   },
   {
    "duration": 12,
    "start_time": "2024-02-11T15:42:09.072Z"
   },
   {
    "duration": 1455,
    "start_time": "2024-02-11T15:42:20.984Z"
   },
   {
    "duration": 16,
    "start_time": "2024-02-11T15:42:36.852Z"
   },
   {
    "duration": 17,
    "start_time": "2024-02-11T15:42:45.904Z"
   },
   {
    "duration": 69,
    "start_time": "2024-02-11T15:42:54.075Z"
   },
   {
    "duration": 1182,
    "start_time": "2024-02-11T15:43:11.581Z"
   },
   {
    "duration": 10,
    "start_time": "2024-02-11T15:43:18.243Z"
   },
   {
    "duration": 10,
    "start_time": "2024-02-11T15:43:42.538Z"
   },
   {
    "duration": 76,
    "start_time": "2024-02-11T15:44:02.641Z"
   },
   {
    "duration": 66,
    "start_time": "2024-02-11T15:44:09.912Z"
   },
   {
    "duration": 71,
    "start_time": "2024-02-11T15:44:14.981Z"
   },
   {
    "duration": 12,
    "start_time": "2024-02-11T15:44:20.194Z"
   },
   {
    "duration": 69,
    "start_time": "2024-02-11T15:44:28.261Z"
   },
   {
    "duration": 11,
    "start_time": "2024-02-11T15:45:04.747Z"
   },
   {
    "duration": 18,
    "start_time": "2024-02-11T15:45:18.503Z"
   },
   {
    "duration": 21,
    "start_time": "2024-02-11T15:45:27.640Z"
   },
   {
    "duration": 85,
    "start_time": "2024-02-11T15:47:37.077Z"
   },
   {
    "duration": 76,
    "start_time": "2024-02-11T15:47:46.947Z"
   },
   {
    "duration": 17,
    "start_time": "2024-02-11T15:47:59.180Z"
   },
   {
    "duration": 22,
    "start_time": "2024-02-11T15:48:08.910Z"
   },
   {
    "duration": 699,
    "start_time": "2024-02-11T15:49:22.963Z"
   },
   {
    "duration": 3,
    "start_time": "2024-02-11T15:52:36.951Z"
   },
   {
    "duration": 1885,
    "start_time": "2024-02-11T15:52:36.968Z"
   },
   {
    "duration": 893,
    "start_time": "2024-02-11T15:52:38.855Z"
   },
   {
    "duration": 1330,
    "start_time": "2024-02-11T15:52:39.749Z"
   },
   {
    "duration": 452,
    "start_time": "2024-02-11T15:52:41.080Z"
   },
   {
    "duration": 1124,
    "start_time": "2024-02-11T15:52:41.535Z"
   },
   {
    "duration": 658,
    "start_time": "2024-02-11T15:52:42.660Z"
   },
   {
    "duration": 258,
    "start_time": "2024-02-11T15:52:43.319Z"
   },
   {
    "duration": 81,
    "start_time": "2024-02-11T15:52:43.578Z"
   },
   {
    "duration": 564,
    "start_time": "2024-02-11T15:52:43.660Z"
   },
   {
    "duration": 886,
    "start_time": "2024-02-11T15:52:44.226Z"
   },
   {
    "duration": 500,
    "start_time": "2024-02-11T15:52:45.113Z"
   },
   {
    "duration": 104,
    "start_time": "2024-02-11T15:52:45.615Z"
   },
   {
    "duration": 1263,
    "start_time": "2024-02-11T15:52:45.721Z"
   },
   {
    "duration": 1348,
    "start_time": "2024-02-11T15:52:46.987Z"
   },
   {
    "duration": 203,
    "start_time": "2024-02-11T15:52:48.336Z"
   },
   {
    "duration": 3660,
    "start_time": "2024-02-11T15:52:48.541Z"
   },
   {
    "duration": 236,
    "start_time": "2024-02-11T15:52:52.202Z"
   },
   {
    "duration": 59,
    "start_time": "2024-02-11T15:52:52.440Z"
   },
   {
    "duration": 112,
    "start_time": "2024-02-11T15:52:52.501Z"
   },
   {
    "duration": 70,
    "start_time": "2024-02-11T15:52:52.615Z"
   },
   {
    "duration": 3,
    "start_time": "2024-02-11T16:11:12.732Z"
   },
   {
    "duration": 1828,
    "start_time": "2024-02-11T16:11:12.736Z"
   },
   {
    "duration": 895,
    "start_time": "2024-02-11T16:11:14.575Z"
   },
   {
    "duration": 1338,
    "start_time": "2024-02-11T16:11:15.475Z"
   },
   {
    "duration": 556,
    "start_time": "2024-02-11T16:11:16.816Z"
   },
   {
    "duration": 1178,
    "start_time": "2024-02-11T16:11:17.374Z"
   },
   {
    "duration": 686,
    "start_time": "2024-02-11T16:11:18.554Z"
   },
   {
    "duration": 281,
    "start_time": "2024-02-11T16:11:19.241Z"
   },
   {
    "duration": 89,
    "start_time": "2024-02-11T16:11:19.524Z"
   },
   {
    "duration": 575,
    "start_time": "2024-02-11T16:11:19.615Z"
   },
   {
    "duration": 955,
    "start_time": "2024-02-11T16:11:20.194Z"
   },
   {
    "duration": 480,
    "start_time": "2024-02-11T16:11:21.150Z"
   },
   {
    "duration": 99,
    "start_time": "2024-02-11T16:11:21.632Z"
   },
   {
    "duration": 1273,
    "start_time": "2024-02-11T16:11:21.733Z"
   },
   {
    "duration": 1397,
    "start_time": "2024-02-11T16:11:23.008Z"
   },
   {
    "duration": 208,
    "start_time": "2024-02-11T16:11:24.406Z"
   },
   {
    "duration": 3807,
    "start_time": "2024-02-11T16:11:24.615Z"
   },
   {
    "duration": 252,
    "start_time": "2024-02-11T16:11:28.424Z"
   },
   {
    "duration": 59,
    "start_time": "2024-02-11T16:11:28.678Z"
   },
   {
    "duration": 132,
    "start_time": "2024-02-11T16:11:28.739Z"
   },
   {
    "duration": 74,
    "start_time": "2024-02-11T16:11:28.873Z"
   },
   {
    "duration": 310,
    "start_time": "2024-02-11T16:33:15.128Z"
   },
   {
    "duration": 236,
    "start_time": "2024-02-11T16:33:23.794Z"
   },
   {
    "duration": 277,
    "start_time": "2024-02-11T16:33:53.971Z"
   },
   {
    "duration": 436,
    "start_time": "2024-02-11T16:34:56.256Z"
   },
   {
    "duration": 293,
    "start_time": "2024-02-11T16:35:52.305Z"
   },
   {
    "duration": 49,
    "start_time": "2024-02-11T16:39:39.626Z"
   },
   {
    "duration": 64,
    "start_time": "2024-02-11T16:42:24.512Z"
   },
   {
    "duration": 183,
    "start_time": "2024-02-11T16:49:11.566Z"
   },
   {
    "duration": 3201,
    "start_time": "2024-02-11T16:49:18.651Z"
   },
   {
    "duration": 12,
    "start_time": "2024-02-11T16:53:05.958Z"
   },
   {
    "duration": 1834,
    "start_time": "2024-02-11T16:53:05.972Z"
   },
   {
    "duration": 886,
    "start_time": "2024-02-11T16:53:07.807Z"
   },
   {
    "duration": 1375,
    "start_time": "2024-02-11T16:53:08.695Z"
   },
   {
    "duration": 470,
    "start_time": "2024-02-11T16:53:10.072Z"
   },
   {
    "duration": 1159,
    "start_time": "2024-02-11T16:53:10.543Z"
   },
   {
    "duration": 733,
    "start_time": "2024-02-11T16:53:11.704Z"
   },
   {
    "duration": 239,
    "start_time": "2024-02-11T16:53:12.439Z"
   },
   {
    "duration": 94,
    "start_time": "2024-02-11T16:53:12.680Z"
   },
   {
    "duration": 628,
    "start_time": "2024-02-11T16:53:12.776Z"
   },
   {
    "duration": 931,
    "start_time": "2024-02-11T16:53:13.406Z"
   },
   {
    "duration": 455,
    "start_time": "2024-02-11T16:53:14.339Z"
   },
   {
    "duration": 100,
    "start_time": "2024-02-11T16:53:14.796Z"
   },
   {
    "duration": 1314,
    "start_time": "2024-02-11T16:53:14.898Z"
   },
   {
    "duration": 1360,
    "start_time": "2024-02-11T16:53:16.214Z"
   },
   {
    "duration": 316,
    "start_time": "2024-02-11T16:53:17.575Z"
   },
   {
    "duration": 75,
    "start_time": "2024-02-11T16:53:17.892Z"
   },
   {
    "duration": 49,
    "start_time": "2024-02-11T16:53:17.971Z"
   },
   {
    "duration": 248,
    "start_time": "2024-02-11T16:53:18.022Z"
   },
   {
    "duration": 3835,
    "start_time": "2024-02-11T16:53:18.277Z"
   },
   {
    "duration": 250,
    "start_time": "2024-02-11T16:53:22.114Z"
   },
   {
    "duration": 57,
    "start_time": "2024-02-11T16:53:22.375Z"
   },
   {
    "duration": 112,
    "start_time": "2024-02-11T16:53:22.434Z"
   },
   {
    "duration": 75,
    "start_time": "2024-02-11T16:53:22.547Z"
   },
   {
    "duration": 147,
    "start_time": "2024-02-11T17:50:53.860Z"
   },
   {
    "duration": 11,
    "start_time": "2024-02-11T17:51:27.012Z"
   },
   {
    "duration": 183,
    "start_time": "2024-02-11T17:51:33.187Z"
   },
   {
    "duration": 226,
    "start_time": "2024-02-11T17:51:40.132Z"
   },
   {
    "duration": 64,
    "start_time": "2024-02-11T18:00:25.475Z"
   },
   {
    "duration": 53,
    "start_time": "2024-02-11T18:05:27.165Z"
   },
   {
    "duration": 94,
    "start_time": "2024-02-11T18:05:36.672Z"
   },
   {
    "duration": 14,
    "start_time": "2024-02-11T18:05:46.246Z"
   },
   {
    "duration": 111,
    "start_time": "2024-02-11T18:07:44.135Z"
   },
   {
    "duration": 85,
    "start_time": "2024-02-11T18:15:16.278Z"
   },
   {
    "duration": 146,
    "start_time": "2024-02-11T18:18:38.390Z"
   },
   {
    "duration": 11,
    "start_time": "2024-02-11T18:19:02.096Z"
   },
   {
    "duration": 97,
    "start_time": "2024-02-11T18:19:16.791Z"
   },
   {
    "duration": 1110,
    "start_time": "2024-02-11T18:28:40.667Z"
   },
   {
    "duration": 968,
    "start_time": "2024-02-11T18:29:47.498Z"
   },
   {
    "duration": 61,
    "start_time": "2024-02-11T18:32:47.743Z"
   },
   {
    "duration": 89,
    "start_time": "2024-02-11T18:32:52.002Z"
   },
   {
    "duration": 106,
    "start_time": "2024-02-11T18:34:20.355Z"
   },
   {
    "duration": 1863,
    "start_time": "2024-02-11T18:34:40.648Z"
   },
   {
    "duration": 1808,
    "start_time": "2024-02-11T18:34:48.406Z"
   },
   {
    "duration": 26,
    "start_time": "2024-02-11T18:35:08.295Z"
   },
   {
    "duration": 86,
    "start_time": "2024-02-11T18:35:10.314Z"
   },
   {
    "duration": 12,
    "start_time": "2024-02-11T18:35:57.809Z"
   },
   {
    "duration": 3,
    "start_time": "2024-02-11T18:37:05.614Z"
   },
   {
    "duration": 1835,
    "start_time": "2024-02-11T18:37:05.619Z"
   },
   {
    "duration": 868,
    "start_time": "2024-02-11T18:37:07.456Z"
   },
   {
    "duration": 1382,
    "start_time": "2024-02-11T18:37:08.325Z"
   },
   {
    "duration": 470,
    "start_time": "2024-02-11T18:37:09.709Z"
   },
   {
    "duration": 1081,
    "start_time": "2024-02-11T18:37:10.181Z"
   },
   {
    "duration": 665,
    "start_time": "2024-02-11T18:37:11.263Z"
   },
   {
    "duration": 260,
    "start_time": "2024-02-11T18:37:11.929Z"
   },
   {
    "duration": 82,
    "start_time": "2024-02-11T18:37:12.191Z"
   },
   {
    "duration": 553,
    "start_time": "2024-02-11T18:37:12.275Z"
   },
   {
    "duration": 910,
    "start_time": "2024-02-11T18:37:12.832Z"
   },
   {
    "duration": 441,
    "start_time": "2024-02-11T18:37:13.744Z"
   },
   {
    "duration": 100,
    "start_time": "2024-02-11T18:37:14.187Z"
   },
   {
    "duration": 1213,
    "start_time": "2024-02-11T18:37:14.288Z"
   },
   {
    "duration": 1373,
    "start_time": "2024-02-11T18:37:15.502Z"
   },
   {
    "duration": 317,
    "start_time": "2024-02-11T18:37:16.877Z"
   },
   {
    "duration": 88,
    "start_time": "2024-02-11T18:37:17.195Z"
   },
   {
    "duration": 40,
    "start_time": "2024-02-11T18:37:17.285Z"
   },
   {
    "duration": 188,
    "start_time": "2024-02-11T18:37:17.326Z"
   },
   {
    "duration": 102,
    "start_time": "2024-02-11T18:37:17.516Z"
   },
   {
    "duration": 196,
    "start_time": "2024-02-11T18:37:17.619Z"
   },
   {
    "duration": 20444,
    "start_time": "2024-02-11T18:37:17.816Z"
   },
   {
    "duration": 0,
    "start_time": "2024-02-11T18:37:38.262Z"
   },
   {
    "duration": 0,
    "start_time": "2024-02-11T18:37:38.263Z"
   },
   {
    "duration": 0,
    "start_time": "2024-02-11T18:37:38.264Z"
   },
   {
    "duration": 0,
    "start_time": "2024-02-11T18:37:38.265Z"
   },
   {
    "duration": 4,
    "start_time": "2024-02-11T18:38:34.762Z"
   },
   {
    "duration": 1770,
    "start_time": "2024-02-11T18:38:34.768Z"
   },
   {
    "duration": 835,
    "start_time": "2024-02-11T18:38:36.540Z"
   },
   {
    "duration": 1286,
    "start_time": "2024-02-11T18:38:37.377Z"
   },
   {
    "duration": 441,
    "start_time": "2024-02-11T18:38:38.665Z"
   },
   {
    "duration": 1037,
    "start_time": "2024-02-11T18:38:39.107Z"
   },
   {
    "duration": 650,
    "start_time": "2024-02-11T18:38:40.146Z"
   },
   {
    "duration": 234,
    "start_time": "2024-02-11T18:38:40.797Z"
   },
   {
    "duration": 81,
    "start_time": "2024-02-11T18:38:41.033Z"
   },
   {
    "duration": 565,
    "start_time": "2024-02-11T18:38:41.115Z"
   },
   {
    "duration": 905,
    "start_time": "2024-02-11T18:38:41.683Z"
   },
   {
    "duration": 428,
    "start_time": "2024-02-11T18:38:42.590Z"
   },
   {
    "duration": 99,
    "start_time": "2024-02-11T18:38:43.020Z"
   },
   {
    "duration": 1238,
    "start_time": "2024-02-11T18:38:43.121Z"
   },
   {
    "duration": 1329,
    "start_time": "2024-02-11T18:38:44.360Z"
   },
   {
    "duration": 311,
    "start_time": "2024-02-11T18:38:45.690Z"
   },
   {
    "duration": 87,
    "start_time": "2024-02-11T18:38:46.003Z"
   },
   {
    "duration": 45,
    "start_time": "2024-02-11T18:38:46.092Z"
   },
   {
    "duration": 181,
    "start_time": "2024-02-11T18:38:46.138Z"
   },
   {
    "duration": 96,
    "start_time": "2024-02-11T18:38:46.321Z"
   },
   {
    "duration": 131,
    "start_time": "2024-02-11T18:38:46.418Z"
   },
   {
    "duration": 0,
    "start_time": "2024-02-11T18:38:46.551Z"
   },
   {
    "duration": 0,
    "start_time": "2024-02-11T18:38:46.559Z"
   },
   {
    "duration": 0,
    "start_time": "2024-02-11T18:38:46.560Z"
   },
   {
    "duration": 0,
    "start_time": "2024-02-11T18:38:46.561Z"
   },
   {
    "duration": 0,
    "start_time": "2024-02-11T18:38:46.562Z"
   },
   {
    "duration": 15,
    "start_time": "2024-02-11T18:39:16.091Z"
   },
   {
    "duration": 18,
    "start_time": "2024-02-11T18:39:34.440Z"
   },
   {
    "duration": 4,
    "start_time": "2024-02-11T18:40:11.624Z"
   },
   {
    "duration": 1806,
    "start_time": "2024-02-11T18:40:11.629Z"
   },
   {
    "duration": 842,
    "start_time": "2024-02-11T18:40:13.437Z"
   },
   {
    "duration": 1435,
    "start_time": "2024-02-11T18:40:14.281Z"
   },
   {
    "duration": 499,
    "start_time": "2024-02-11T18:40:15.718Z"
   },
   {
    "duration": 1066,
    "start_time": "2024-02-11T18:40:16.218Z"
   },
   {
    "duration": 678,
    "start_time": "2024-02-11T18:40:17.286Z"
   },
   {
    "duration": 213,
    "start_time": "2024-02-11T18:40:17.966Z"
   },
   {
    "duration": 81,
    "start_time": "2024-02-11T18:40:18.181Z"
   },
   {
    "duration": 586,
    "start_time": "2024-02-11T18:40:18.264Z"
   },
   {
    "duration": 909,
    "start_time": "2024-02-11T18:40:18.852Z"
   },
   {
    "duration": 418,
    "start_time": "2024-02-11T18:40:19.763Z"
   },
   {
    "duration": 102,
    "start_time": "2024-02-11T18:40:20.183Z"
   },
   {
    "duration": 1222,
    "start_time": "2024-02-11T18:40:20.287Z"
   },
   {
    "duration": 1304,
    "start_time": "2024-02-11T18:40:21.510Z"
   },
   {
    "duration": 320,
    "start_time": "2024-02-11T18:40:22.816Z"
   },
   {
    "duration": 85,
    "start_time": "2024-02-11T18:40:23.138Z"
   },
   {
    "duration": 64,
    "start_time": "2024-02-11T18:40:23.224Z"
   },
   {
    "duration": 289,
    "start_time": "2024-02-11T18:40:23.290Z"
   },
   {
    "duration": 0,
    "start_time": "2024-02-11T18:40:23.580Z"
   },
   {
    "duration": 0,
    "start_time": "2024-02-11T18:40:23.582Z"
   },
   {
    "duration": 0,
    "start_time": "2024-02-11T18:40:23.583Z"
   },
   {
    "duration": 0,
    "start_time": "2024-02-11T18:40:23.584Z"
   },
   {
    "duration": 0,
    "start_time": "2024-02-11T18:40:23.585Z"
   },
   {
    "duration": 0,
    "start_time": "2024-02-11T18:40:23.587Z"
   },
   {
    "duration": 0,
    "start_time": "2024-02-11T18:40:23.587Z"
   },
   {
    "duration": 30,
    "start_time": "2024-02-11T18:41:20.437Z"
   },
   {
    "duration": 18,
    "start_time": "2024-02-11T18:41:23.208Z"
   },
   {
    "duration": 21,
    "start_time": "2024-02-11T18:45:33.016Z"
   },
   {
    "duration": 161,
    "start_time": "2024-02-11T18:46:27.918Z"
   },
   {
    "duration": 4916,
    "start_time": "2024-02-11T18:46:31.079Z"
   },
   {
    "duration": 4233,
    "start_time": "2024-02-11T18:47:02.883Z"
   },
   {
    "duration": 156,
    "start_time": "2024-02-11T18:48:38.202Z"
   },
   {
    "duration": 3517,
    "start_time": "2024-02-11T18:48:40.382Z"
   },
   {
    "duration": 143,
    "start_time": "2024-02-11T18:49:05.667Z"
   },
   {
    "duration": 174,
    "start_time": "2024-02-11T18:49:19.448Z"
   },
   {
    "duration": 166,
    "start_time": "2024-02-11T18:49:46.235Z"
   },
   {
    "duration": 38,
    "start_time": "2024-02-11T18:51:20.003Z"
   },
   {
    "duration": 3,
    "start_time": "2024-02-11T18:52:14.733Z"
   },
   {
    "duration": 6,
    "start_time": "2024-02-11T18:53:27.973Z"
   },
   {
    "duration": 28,
    "start_time": "2024-02-11T18:53:45.867Z"
   },
   {
    "duration": 111,
    "start_time": "2024-02-11T18:57:13.495Z"
   },
   {
    "duration": 334,
    "start_time": "2024-02-11T19:00:43.599Z"
   },
   {
    "duration": 677,
    "start_time": "2024-02-11T19:05:03.590Z"
   },
   {
    "duration": 1294,
    "start_time": "2024-02-11T19:05:17.471Z"
   },
   {
    "duration": 13,
    "start_time": "2024-02-11T19:16:52.459Z"
   },
   {
    "duration": 11,
    "start_time": "2024-02-11T19:17:09.772Z"
   },
   {
    "duration": 836,
    "start_time": "2024-02-11T19:17:24.459Z"
   },
   {
    "duration": 11,
    "start_time": "2024-02-11T19:17:32.282Z"
   },
   {
    "duration": 805,
    "start_time": "2024-02-11T19:17:49.029Z"
   },
   {
    "duration": 68,
    "start_time": "2024-02-11T19:18:20.884Z"
   },
   {
    "duration": 937,
    "start_time": "2024-02-11T19:18:27.712Z"
   },
   {
    "duration": 438,
    "start_time": "2024-02-11T19:18:31.263Z"
   },
   {
    "duration": 1339,
    "start_time": "2024-02-11T19:19:11.137Z"
   },
   {
    "duration": 1184,
    "start_time": "2024-02-11T19:19:36.275Z"
   },
   {
    "duration": 1220,
    "start_time": "2024-02-11T19:20:16.857Z"
   },
   {
    "duration": 413,
    "start_time": "2024-02-11T19:22:16.214Z"
   },
   {
    "duration": 888,
    "start_time": "2024-02-11T19:23:12.226Z"
   },
   {
    "duration": 318,
    "start_time": "2024-02-11T19:23:50.861Z"
   },
   {
    "duration": 51,
    "start_time": "2024-02-11T19:24:51.808Z"
   },
   {
    "duration": 53,
    "start_time": "2024-02-11T19:25:05.976Z"
   },
   {
    "duration": 56,
    "start_time": "2024-02-11T19:25:18.083Z"
   },
   {
    "duration": 292,
    "start_time": "2024-02-11T19:25:26.008Z"
   },
   {
    "duration": 568,
    "start_time": "2024-02-11T19:25:39.931Z"
   },
   {
    "duration": 293,
    "start_time": "2024-02-11T19:26:08.137Z"
   },
   {
    "duration": 1095,
    "start_time": "2024-02-11T19:29:58.827Z"
   },
   {
    "duration": 182,
    "start_time": "2024-02-11T19:30:18.353Z"
   },
   {
    "duration": 25,
    "start_time": "2024-02-11T19:30:21.497Z"
   },
   {
    "duration": 274,
    "start_time": "2024-02-11T19:30:26.354Z"
   },
   {
    "duration": 281,
    "start_time": "2024-02-11T19:30:43.674Z"
   },
   {
    "duration": 1705,
    "start_time": "2024-02-11T19:31:24.519Z"
   },
   {
    "duration": 1556,
    "start_time": "2024-02-11T19:31:41.777Z"
   },
   {
    "duration": 40,
    "start_time": "2024-02-11T19:33:15.849Z"
   },
   {
    "duration": 79,
    "start_time": "2024-02-11T19:34:13.650Z"
   },
   {
    "duration": 16,
    "start_time": "2024-02-11T19:35:54.498Z"
   },
   {
    "duration": 15,
    "start_time": "2024-02-11T19:36:07.571Z"
   },
   {
    "duration": 14,
    "start_time": "2024-02-11T19:36:16.034Z"
   },
   {
    "duration": 70,
    "start_time": "2024-02-11T19:37:01.760Z"
   },
   {
    "duration": 12,
    "start_time": "2024-02-11T19:37:07.455Z"
   },
   {
    "duration": 17,
    "start_time": "2024-02-11T19:37:22.712Z"
   },
   {
    "duration": 21,
    "start_time": "2024-02-11T19:37:38.281Z"
   },
   {
    "duration": 16,
    "start_time": "2024-02-11T19:37:45.969Z"
   },
   {
    "duration": 17,
    "start_time": "2024-02-11T19:38:05.053Z"
   },
   {
    "duration": 18,
    "start_time": "2024-02-11T19:38:12.767Z"
   },
   {
    "duration": 17,
    "start_time": "2024-02-11T19:39:07.106Z"
   },
   {
    "duration": 15,
    "start_time": "2024-02-11T19:39:24.028Z"
   },
   {
    "duration": 16,
    "start_time": "2024-02-11T19:41:18.599Z"
   },
   {
    "duration": 14,
    "start_time": "2024-02-11T19:41:41.944Z"
   },
   {
    "duration": 15,
    "start_time": "2024-02-11T19:41:59.871Z"
   },
   {
    "duration": 9,
    "start_time": "2024-02-11T19:43:19.731Z"
   },
   {
    "duration": 16,
    "start_time": "2024-02-11T19:43:35.197Z"
   },
   {
    "duration": 16,
    "start_time": "2024-02-11T19:44:06.016Z"
   },
   {
    "duration": 7,
    "start_time": "2024-02-11T19:44:42.595Z"
   },
   {
    "duration": 71,
    "start_time": "2024-02-11T19:44:51.420Z"
   },
   {
    "duration": 6,
    "start_time": "2024-02-11T19:44:55.349Z"
   },
   {
    "duration": 3,
    "start_time": "2024-02-11T19:45:49.191Z"
   },
   {
    "duration": 7,
    "start_time": "2024-02-11T19:46:01.418Z"
   },
   {
    "duration": 4,
    "start_time": "2024-02-11T19:46:32.168Z"
   },
   {
    "duration": 6,
    "start_time": "2024-02-11T19:46:32.882Z"
   },
   {
    "duration": 6,
    "start_time": "2024-02-11T19:46:44.373Z"
   },
   {
    "duration": 4,
    "start_time": "2024-02-11T19:46:52.635Z"
   },
   {
    "duration": 5,
    "start_time": "2024-02-11T19:46:53.118Z"
   },
   {
    "duration": 3,
    "start_time": "2024-02-11T19:47:03.058Z"
   },
   {
    "duration": 5,
    "start_time": "2024-02-11T19:47:03.529Z"
   },
   {
    "duration": 5,
    "start_time": "2024-02-11T19:47:08.765Z"
   },
   {
    "duration": 5,
    "start_time": "2024-02-11T19:47:19.830Z"
   },
   {
    "duration": 6,
    "start_time": "2024-02-11T19:47:27.523Z"
   },
   {
    "duration": 5,
    "start_time": "2024-02-11T19:47:33.874Z"
   },
   {
    "duration": 5,
    "start_time": "2024-02-11T19:47:42.810Z"
   },
   {
    "duration": 5,
    "start_time": "2024-02-11T19:48:15.696Z"
   },
   {
    "duration": 6,
    "start_time": "2024-02-11T19:48:23.143Z"
   },
   {
    "duration": 5,
    "start_time": "2024-02-11T19:48:29.151Z"
   },
   {
    "duration": 16,
    "start_time": "2024-02-11T19:49:02.972Z"
   },
   {
    "duration": 3,
    "start_time": "2024-02-11T19:56:59.930Z"
   },
   {
    "duration": 1867,
    "start_time": "2024-02-11T19:56:59.935Z"
   },
   {
    "duration": 869,
    "start_time": "2024-02-11T19:57:01.804Z"
   },
   {
    "duration": 1325,
    "start_time": "2024-02-11T19:57:02.674Z"
   },
   {
    "duration": 473,
    "start_time": "2024-02-11T19:57:04.001Z"
   },
   {
    "duration": 1063,
    "start_time": "2024-02-11T19:57:04.475Z"
   },
   {
    "duration": 641,
    "start_time": "2024-02-11T19:57:05.540Z"
   },
   {
    "duration": 216,
    "start_time": "2024-02-11T19:57:06.183Z"
   },
   {
    "duration": 86,
    "start_time": "2024-02-11T19:57:06.400Z"
   },
   {
    "duration": 573,
    "start_time": "2024-02-11T19:57:06.487Z"
   },
   {
    "duration": 943,
    "start_time": "2024-02-11T19:57:07.062Z"
   },
   {
    "duration": 318,
    "start_time": "2024-02-11T19:57:08.007Z"
   },
   {
    "duration": 100,
    "start_time": "2024-02-11T19:57:08.326Z"
   },
   {
    "duration": 1179,
    "start_time": "2024-02-11T19:57:08.429Z"
   },
   {
    "duration": 1371,
    "start_time": "2024-02-11T19:57:09.609Z"
   },
   {
    "duration": 334,
    "start_time": "2024-02-11T19:57:10.982Z"
   },
   {
    "duration": 82,
    "start_time": "2024-02-11T19:57:11.317Z"
   },
   {
    "duration": 59,
    "start_time": "2024-02-11T19:57:11.400Z"
   },
   {
    "duration": 200,
    "start_time": "2024-02-11T19:57:11.461Z"
   },
   {
    "duration": 1577,
    "start_time": "2024-02-11T19:57:11.662Z"
   },
   {
    "duration": 20,
    "start_time": "2024-02-11T19:57:13.240Z"
   },
   {
    "duration": 44,
    "start_time": "2024-02-11T19:57:13.262Z"
   },
   {
    "duration": 199,
    "start_time": "2024-02-11T19:57:13.308Z"
   },
   {
    "duration": 3586,
    "start_time": "2024-02-11T19:57:13.509Z"
   },
   {
    "duration": 180,
    "start_time": "2024-02-11T19:57:17.096Z"
   },
   {
    "duration": 60,
    "start_time": "2024-02-11T19:57:17.277Z"
   },
   {
    "duration": 147,
    "start_time": "2024-02-11T19:57:17.339Z"
   },
   {
    "duration": 68,
    "start_time": "2024-02-11T19:57:17.488Z"
   },
   {
    "duration": 46,
    "start_time": "2024-02-11T20:47:06.388Z"
   },
   {
    "duration": 1745,
    "start_time": "2024-02-11T20:48:11.229Z"
   },
   {
    "duration": 29,
    "start_time": "2024-02-11T20:48:45.073Z"
   },
   {
    "duration": 20,
    "start_time": "2024-02-11T20:49:06.559Z"
   },
   {
    "duration": 23,
    "start_time": "2024-02-11T20:49:11.823Z"
   },
   {
    "duration": 25,
    "start_time": "2024-02-11T20:49:15.205Z"
   },
   {
    "duration": 26,
    "start_time": "2024-02-11T20:49:18.720Z"
   },
   {
    "duration": 159,
    "start_time": "2024-02-11T20:50:20.429Z"
   },
   {
    "duration": 4,
    "start_time": "2024-02-11T20:50:49.314Z"
   },
   {
    "duration": 1768,
    "start_time": "2024-02-11T20:50:49.319Z"
   },
   {
    "duration": 852,
    "start_time": "2024-02-11T20:50:51.088Z"
   },
   {
    "duration": 1311,
    "start_time": "2024-02-11T20:50:51.941Z"
   },
   {
    "duration": 442,
    "start_time": "2024-02-11T20:50:53.253Z"
   },
   {
    "duration": 1042,
    "start_time": "2024-02-11T20:50:53.696Z"
   },
   {
    "duration": 639,
    "start_time": "2024-02-11T20:50:54.740Z"
   },
   {
    "duration": 222,
    "start_time": "2024-02-11T20:50:55.381Z"
   },
   {
    "duration": 82,
    "start_time": "2024-02-11T20:50:55.605Z"
   },
   {
    "duration": 577,
    "start_time": "2024-02-11T20:50:55.688Z"
   },
   {
    "duration": 897,
    "start_time": "2024-02-11T20:50:56.267Z"
   },
   {
    "duration": 323,
    "start_time": "2024-02-11T20:50:57.165Z"
   },
   {
    "duration": 107,
    "start_time": "2024-02-11T20:50:57.490Z"
   },
   {
    "duration": 1190,
    "start_time": "2024-02-11T20:50:57.599Z"
   },
   {
    "duration": 1318,
    "start_time": "2024-02-11T20:50:58.791Z"
   },
   {
    "duration": 327,
    "start_time": "2024-02-11T20:51:00.111Z"
   },
   {
    "duration": 90,
    "start_time": "2024-02-11T20:51:00.440Z"
   },
   {
    "duration": 59,
    "start_time": "2024-02-11T20:51:00.531Z"
   },
   {
    "duration": 180,
    "start_time": "2024-02-11T20:51:00.592Z"
   },
   {
    "duration": 1723,
    "start_time": "2024-02-11T20:51:00.774Z"
   },
   {
    "duration": 16,
    "start_time": "2024-02-11T20:51:02.498Z"
   },
   {
    "duration": 59,
    "start_time": "2024-02-11T20:51:02.516Z"
   },
   {
    "duration": 185,
    "start_time": "2024-02-11T20:51:02.577Z"
   },
   {
    "duration": 3695,
    "start_time": "2024-02-11T20:51:02.764Z"
   },
   {
    "duration": 192,
    "start_time": "2024-02-11T20:51:06.460Z"
   },
   {
    "duration": 54,
    "start_time": "2024-02-11T20:51:06.654Z"
   },
   {
    "duration": 113,
    "start_time": "2024-02-11T20:51:06.709Z"
   },
   {
    "duration": 72,
    "start_time": "2024-02-11T20:51:06.823Z"
   },
   {
    "duration": 3,
    "start_time": "2024-02-11T20:52:00.969Z"
   },
   {
    "duration": 3,
    "start_time": "2024-02-12T11:29:20.503Z"
   },
   {
    "duration": 1359,
    "start_time": "2024-02-12T11:29:20.508Z"
   },
   {
    "duration": 0,
    "start_time": "2024-02-12T11:29:21.869Z"
   },
   {
    "duration": 0,
    "start_time": "2024-02-12T11:29:21.871Z"
   },
   {
    "duration": 0,
    "start_time": "2024-02-12T11:29:21.872Z"
   },
   {
    "duration": 0,
    "start_time": "2024-02-12T11:29:21.873Z"
   },
   {
    "duration": 0,
    "start_time": "2024-02-12T11:29:21.875Z"
   },
   {
    "duration": 0,
    "start_time": "2024-02-12T11:29:21.876Z"
   },
   {
    "duration": 0,
    "start_time": "2024-02-12T11:29:21.877Z"
   },
   {
    "duration": 0,
    "start_time": "2024-02-12T11:29:21.878Z"
   },
   {
    "duration": 0,
    "start_time": "2024-02-12T11:29:21.879Z"
   },
   {
    "duration": 0,
    "start_time": "2024-02-12T11:29:21.880Z"
   },
   {
    "duration": 0,
    "start_time": "2024-02-12T11:29:21.882Z"
   },
   {
    "duration": 0,
    "start_time": "2024-02-12T11:29:21.883Z"
   },
   {
    "duration": 0,
    "start_time": "2024-02-12T11:29:21.885Z"
   },
   {
    "duration": 0,
    "start_time": "2024-02-12T11:29:21.886Z"
   },
   {
    "duration": 0,
    "start_time": "2024-02-12T11:29:21.888Z"
   },
   {
    "duration": 0,
    "start_time": "2024-02-12T11:29:21.889Z"
   },
   {
    "duration": 0,
    "start_time": "2024-02-12T11:29:21.890Z"
   },
   {
    "duration": 0,
    "start_time": "2024-02-12T11:29:21.891Z"
   },
   {
    "duration": 0,
    "start_time": "2024-02-12T11:29:21.893Z"
   },
   {
    "duration": 0,
    "start_time": "2024-02-12T11:29:21.894Z"
   },
   {
    "duration": 0,
    "start_time": "2024-02-12T11:29:21.895Z"
   },
   {
    "duration": 0,
    "start_time": "2024-02-12T11:29:21.897Z"
   },
   {
    "duration": 0,
    "start_time": "2024-02-12T11:29:21.898Z"
   },
   {
    "duration": 0,
    "start_time": "2024-02-12T11:29:21.899Z"
   },
   {
    "duration": 0,
    "start_time": "2024-02-12T11:29:21.900Z"
   },
   {
    "duration": 0,
    "start_time": "2024-02-12T11:29:21.901Z"
   },
   {
    "duration": 8051,
    "start_time": "2024-02-12T11:29:45.661Z"
   },
   {
    "duration": 3,
    "start_time": "2024-02-12T11:30:05.042Z"
   },
   {
    "duration": 1804,
    "start_time": "2024-02-12T11:30:05.047Z"
   },
   {
    "duration": 2670,
    "start_time": "2024-02-12T11:30:06.852Z"
   },
   {
    "duration": 1297,
    "start_time": "2024-02-12T11:30:09.524Z"
   },
   {
    "duration": 499,
    "start_time": "2024-02-12T11:30:10.823Z"
   },
   {
    "duration": 1103,
    "start_time": "2024-02-12T11:30:11.323Z"
   },
   {
    "duration": 634,
    "start_time": "2024-02-12T11:30:12.428Z"
   },
   {
    "duration": 204,
    "start_time": "2024-02-12T11:30:13.063Z"
   },
   {
    "duration": 83,
    "start_time": "2024-02-12T11:30:13.269Z"
   },
   {
    "duration": 587,
    "start_time": "2024-02-12T11:30:13.358Z"
   },
   {
    "duration": 914,
    "start_time": "2024-02-12T11:30:13.947Z"
   },
   {
    "duration": 320,
    "start_time": "2024-02-12T11:30:14.863Z"
   },
   {
    "duration": 95,
    "start_time": "2024-02-12T11:30:15.185Z"
   },
   {
    "duration": 1233,
    "start_time": "2024-02-12T11:30:15.282Z"
   },
   {
    "duration": 1386,
    "start_time": "2024-02-12T11:30:16.517Z"
   },
   {
    "duration": 304,
    "start_time": "2024-02-12T11:30:17.904Z"
   },
   {
    "duration": 93,
    "start_time": "2024-02-12T11:30:18.209Z"
   },
   {
    "duration": 58,
    "start_time": "2024-02-12T11:30:18.303Z"
   },
   {
    "duration": 188,
    "start_time": "2024-02-12T11:30:18.363Z"
   },
   {
    "duration": 1649,
    "start_time": "2024-02-12T11:30:18.552Z"
   },
   {
    "duration": 17,
    "start_time": "2024-02-12T11:30:20.203Z"
   },
   {
    "duration": 70,
    "start_time": "2024-02-12T11:30:20.221Z"
   },
   {
    "duration": 162,
    "start_time": "2024-02-12T11:30:20.293Z"
   },
   {
    "duration": 3657,
    "start_time": "2024-02-12T11:30:20.460Z"
   },
   {
    "duration": 196,
    "start_time": "2024-02-12T11:30:24.119Z"
   },
   {
    "duration": 64,
    "start_time": "2024-02-12T11:30:24.316Z"
   },
   {
    "duration": 111,
    "start_time": "2024-02-12T11:30:24.382Z"
   },
   {
    "duration": 70,
    "start_time": "2024-02-12T11:30:24.495Z"
   },
   {
    "duration": 264,
    "start_time": "2024-02-12T11:52:59.336Z"
   },
   {
    "duration": 17,
    "start_time": "2024-02-12T11:53:24.643Z"
   },
   {
    "duration": 6,
    "start_time": "2024-02-12T11:55:12.902Z"
   },
   {
    "duration": 1747,
    "start_time": "2024-02-12T11:55:12.909Z"
   },
   {
    "duration": 853,
    "start_time": "2024-02-12T11:55:14.658Z"
   },
   {
    "duration": 1317,
    "start_time": "2024-02-12T11:55:15.513Z"
   },
   {
    "duration": 476,
    "start_time": "2024-02-12T11:55:16.831Z"
   },
   {
    "duration": 1082,
    "start_time": "2024-02-12T11:55:17.308Z"
   },
   {
    "duration": 668,
    "start_time": "2024-02-12T11:55:18.391Z"
   },
   {
    "duration": 222,
    "start_time": "2024-02-12T11:55:19.061Z"
   },
   {
    "duration": 89,
    "start_time": "2024-02-12T11:55:19.286Z"
   },
   {
    "duration": 583,
    "start_time": "2024-02-12T11:55:19.377Z"
   },
   {
    "duration": 928,
    "start_time": "2024-02-12T11:55:19.962Z"
   },
   {
    "duration": 344,
    "start_time": "2024-02-12T11:55:20.892Z"
   },
   {
    "duration": 95,
    "start_time": "2024-02-12T11:55:21.237Z"
   },
   {
    "duration": 1244,
    "start_time": "2024-02-12T11:55:21.334Z"
   },
   {
    "duration": 1340,
    "start_time": "2024-02-12T11:55:22.580Z"
   },
   {
    "duration": 339,
    "start_time": "2024-02-12T11:55:23.921Z"
   },
   {
    "duration": 83,
    "start_time": "2024-02-12T11:55:24.262Z"
   },
   {
    "duration": 45,
    "start_time": "2024-02-12T11:55:24.359Z"
   },
   {
    "duration": 180,
    "start_time": "2024-02-12T11:55:24.405Z"
   },
   {
    "duration": 1640,
    "start_time": "2024-02-12T11:55:24.586Z"
   },
   {
    "duration": 14,
    "start_time": "2024-02-12T11:55:26.228Z"
   },
   {
    "duration": 49,
    "start_time": "2024-02-12T11:55:26.243Z"
   },
   {
    "duration": 179,
    "start_time": "2024-02-12T11:55:26.293Z"
   },
   {
    "duration": 3755,
    "start_time": "2024-02-12T11:55:26.475Z"
   },
   {
    "duration": 209,
    "start_time": "2024-02-12T11:55:30.231Z"
   },
   {
    "duration": 44,
    "start_time": "2024-02-12T11:55:30.442Z"
   },
   {
    "duration": 111,
    "start_time": "2024-02-12T11:55:30.488Z"
   },
   {
    "duration": 128,
    "start_time": "2024-02-12T11:55:30.601Z"
   },
   {
    "duration": 0,
    "start_time": "2024-02-12T11:55:30.730Z"
   },
   {
    "duration": 0,
    "start_time": "2024-02-12T11:55:30.732Z"
   },
   {
    "duration": 0,
    "start_time": "2024-02-12T11:55:30.733Z"
   },
   {
    "duration": 0,
    "start_time": "2024-02-12T11:55:30.734Z"
   },
   {
    "duration": 316,
    "start_time": "2024-02-12T12:03:31.705Z"
   },
   {
    "duration": 34,
    "start_time": "2024-02-12T12:10:47.424Z"
   },
   {
    "duration": 4,
    "start_time": "2024-02-12T12:11:28.035Z"
   },
   {
    "duration": 1798,
    "start_time": "2024-02-12T12:11:28.040Z"
   },
   {
    "duration": 857,
    "start_time": "2024-02-12T12:11:29.839Z"
   },
   {
    "duration": 1323,
    "start_time": "2024-02-12T12:11:30.698Z"
   },
   {
    "duration": 466,
    "start_time": "2024-02-12T12:11:32.024Z"
   },
   {
    "duration": 1074,
    "start_time": "2024-02-12T12:11:32.491Z"
   },
   {
    "duration": 628,
    "start_time": "2024-02-12T12:11:33.567Z"
   },
   {
    "duration": 233,
    "start_time": "2024-02-12T12:11:34.196Z"
   },
   {
    "duration": 86,
    "start_time": "2024-02-12T12:11:34.431Z"
   },
   {
    "duration": 568,
    "start_time": "2024-02-12T12:11:34.519Z"
   },
   {
    "duration": 898,
    "start_time": "2024-02-12T12:11:35.090Z"
   },
   {
    "duration": 317,
    "start_time": "2024-02-12T12:11:35.990Z"
   },
   {
    "duration": 102,
    "start_time": "2024-02-12T12:11:36.309Z"
   },
   {
    "duration": 1180,
    "start_time": "2024-02-12T12:11:36.413Z"
   },
   {
    "duration": 1321,
    "start_time": "2024-02-12T12:11:37.594Z"
   },
   {
    "duration": 316,
    "start_time": "2024-02-12T12:11:38.917Z"
   },
   {
    "duration": 84,
    "start_time": "2024-02-12T12:11:39.235Z"
   },
   {
    "duration": 52,
    "start_time": "2024-02-12T12:11:39.321Z"
   },
   {
    "duration": 269,
    "start_time": "2024-02-12T12:11:39.374Z"
   },
   {
    "duration": 1734,
    "start_time": "2024-02-12T12:11:39.659Z"
   },
   {
    "duration": 15,
    "start_time": "2024-02-12T12:11:41.395Z"
   },
   {
    "duration": 61,
    "start_time": "2024-02-12T12:11:41.411Z"
   },
   {
    "duration": 188,
    "start_time": "2024-02-12T12:11:41.474Z"
   },
   {
    "duration": 3732,
    "start_time": "2024-02-12T12:11:41.663Z"
   },
   {
    "duration": 209,
    "start_time": "2024-02-12T12:11:45.397Z"
   },
   {
    "duration": 52,
    "start_time": "2024-02-12T12:11:45.608Z"
   },
   {
    "duration": 107,
    "start_time": "2024-02-12T12:11:45.662Z"
   },
   {
    "duration": 125,
    "start_time": "2024-02-12T12:11:45.771Z"
   },
   {
    "duration": 0,
    "start_time": "2024-02-12T12:11:45.898Z"
   },
   {
    "duration": 0,
    "start_time": "2024-02-12T12:11:45.900Z"
   },
   {
    "duration": 0,
    "start_time": "2024-02-12T12:11:45.901Z"
   },
   {
    "duration": 0,
    "start_time": "2024-02-12T12:11:45.903Z"
   },
   {
    "duration": 0,
    "start_time": "2024-02-12T12:11:45.904Z"
   },
   {
    "duration": 18,
    "start_time": "2024-02-12T12:11:50.614Z"
   },
   {
    "duration": 179,
    "start_time": "2024-02-12T12:11:57.947Z"
   },
   {
    "duration": 303,
    "start_time": "2024-02-12T12:13:15.995Z"
   },
   {
    "duration": 31,
    "start_time": "2024-02-12T12:13:35.334Z"
   },
   {
    "duration": 15,
    "start_time": "2024-02-12T12:14:03.489Z"
   },
   {
    "duration": 356,
    "start_time": "2024-02-12T12:17:08.547Z"
   },
   {
    "duration": 4,
    "start_time": "2024-02-12T12:17:21.247Z"
   },
   {
    "duration": 1822,
    "start_time": "2024-02-12T12:17:21.253Z"
   },
   {
    "duration": 884,
    "start_time": "2024-02-12T12:17:23.077Z"
   },
   {
    "duration": 1323,
    "start_time": "2024-02-12T12:17:23.963Z"
   },
   {
    "duration": 507,
    "start_time": "2024-02-12T12:17:25.287Z"
   },
   {
    "duration": 1135,
    "start_time": "2024-02-12T12:17:25.795Z"
   },
   {
    "duration": 652,
    "start_time": "2024-02-12T12:17:26.931Z"
   },
   {
    "duration": 245,
    "start_time": "2024-02-12T12:17:27.584Z"
   },
   {
    "duration": 83,
    "start_time": "2024-02-12T12:17:27.832Z"
   },
   {
    "duration": 580,
    "start_time": "2024-02-12T12:17:27.917Z"
   },
   {
    "duration": 914,
    "start_time": "2024-02-12T12:17:28.498Z"
   },
   {
    "duration": 324,
    "start_time": "2024-02-12T12:17:29.414Z"
   },
   {
    "duration": 99,
    "start_time": "2024-02-12T12:17:29.740Z"
   },
   {
    "duration": 1264,
    "start_time": "2024-02-12T12:17:29.841Z"
   },
   {
    "duration": 1434,
    "start_time": "2024-02-12T12:17:31.107Z"
   },
   {
    "duration": 322,
    "start_time": "2024-02-12T12:17:32.542Z"
   },
   {
    "duration": 97,
    "start_time": "2024-02-12T12:17:32.866Z"
   },
   {
    "duration": 48,
    "start_time": "2024-02-12T12:17:32.965Z"
   },
   {
    "duration": 198,
    "start_time": "2024-02-12T12:17:33.015Z"
   },
   {
    "duration": 1700,
    "start_time": "2024-02-12T12:17:33.215Z"
   },
   {
    "duration": 15,
    "start_time": "2024-02-12T12:17:34.917Z"
   },
   {
    "duration": 56,
    "start_time": "2024-02-12T12:17:34.933Z"
   },
   {
    "duration": 176,
    "start_time": "2024-02-12T12:17:34.990Z"
   },
   {
    "duration": 3759,
    "start_time": "2024-02-12T12:17:35.169Z"
   },
   {
    "duration": 204,
    "start_time": "2024-02-12T12:17:38.930Z"
   },
   {
    "duration": 51,
    "start_time": "2024-02-12T12:17:39.136Z"
   },
   {
    "duration": 115,
    "start_time": "2024-02-12T12:17:39.189Z"
   },
   {
    "duration": 120,
    "start_time": "2024-02-12T12:17:39.305Z"
   },
   {
    "duration": 0,
    "start_time": "2024-02-12T12:17:39.427Z"
   },
   {
    "duration": 0,
    "start_time": "2024-02-12T12:17:39.427Z"
   },
   {
    "duration": 0,
    "start_time": "2024-02-12T12:17:39.428Z"
   },
   {
    "duration": 0,
    "start_time": "2024-02-12T12:17:39.429Z"
   },
   {
    "duration": 0,
    "start_time": "2024-02-12T12:17:39.430Z"
   },
   {
    "duration": 0,
    "start_time": "2024-02-12T12:17:39.431Z"
   },
   {
    "duration": 0,
    "start_time": "2024-02-12T12:17:39.432Z"
   },
   {
    "duration": 0,
    "start_time": "2024-02-12T12:17:39.432Z"
   },
   {
    "duration": 375,
    "start_time": "2024-02-12T12:17:47.224Z"
   },
   {
    "duration": 346,
    "start_time": "2024-02-12T12:19:39.997Z"
   },
   {
    "duration": 338,
    "start_time": "2024-02-12T12:19:40.344Z"
   },
   {
    "duration": 4,
    "start_time": "2024-02-12T12:20:27.715Z"
   },
   {
    "duration": 1801,
    "start_time": "2024-02-12T12:20:27.721Z"
   },
   {
    "duration": 880,
    "start_time": "2024-02-12T12:20:29.523Z"
   },
   {
    "duration": 1421,
    "start_time": "2024-02-12T12:20:30.406Z"
   },
   {
    "duration": 523,
    "start_time": "2024-02-12T12:20:31.829Z"
   },
   {
    "duration": 1075,
    "start_time": "2024-02-12T12:20:32.353Z"
   },
   {
    "duration": 663,
    "start_time": "2024-02-12T12:20:33.429Z"
   },
   {
    "duration": 245,
    "start_time": "2024-02-12T12:20:34.093Z"
   },
   {
    "duration": 91,
    "start_time": "2024-02-12T12:20:34.340Z"
   },
   {
    "duration": 578,
    "start_time": "2024-02-12T12:20:34.434Z"
   },
   {
    "duration": 964,
    "start_time": "2024-02-12T12:20:35.013Z"
   },
   {
    "duration": 329,
    "start_time": "2024-02-12T12:20:35.978Z"
   },
   {
    "duration": 99,
    "start_time": "2024-02-12T12:20:36.309Z"
   },
   {
    "duration": 1256,
    "start_time": "2024-02-12T12:20:36.409Z"
   },
   {
    "duration": 1379,
    "start_time": "2024-02-12T12:20:37.666Z"
   },
   {
    "duration": 346,
    "start_time": "2024-02-12T12:20:39.046Z"
   },
   {
    "duration": 91,
    "start_time": "2024-02-12T12:20:39.394Z"
   },
   {
    "duration": 42,
    "start_time": "2024-02-12T12:20:39.487Z"
   },
   {
    "duration": 202,
    "start_time": "2024-02-12T12:20:39.530Z"
   },
   {
    "duration": 1754,
    "start_time": "2024-02-12T12:20:39.734Z"
   },
   {
    "duration": 19,
    "start_time": "2024-02-12T12:20:41.490Z"
   },
   {
    "duration": 61,
    "start_time": "2024-02-12T12:20:41.511Z"
   },
   {
    "duration": 185,
    "start_time": "2024-02-12T12:20:41.574Z"
   },
   {
    "duration": 3879,
    "start_time": "2024-02-12T12:20:41.761Z"
   },
   {
    "duration": 198,
    "start_time": "2024-02-12T12:20:45.642Z"
   },
   {
    "duration": 56,
    "start_time": "2024-02-12T12:20:45.842Z"
   },
   {
    "duration": 125,
    "start_time": "2024-02-12T12:20:45.900Z"
   },
   {
    "duration": 132,
    "start_time": "2024-02-12T12:20:46.028Z"
   },
   {
    "duration": 0,
    "start_time": "2024-02-12T12:20:46.161Z"
   },
   {
    "duration": 0,
    "start_time": "2024-02-12T12:20:46.162Z"
   },
   {
    "duration": 0,
    "start_time": "2024-02-12T12:20:46.163Z"
   },
   {
    "duration": 0,
    "start_time": "2024-02-12T12:20:46.165Z"
   },
   {
    "duration": 376,
    "start_time": "2024-02-12T12:20:50.163Z"
   },
   {
    "duration": 367,
    "start_time": "2024-02-12T12:20:53.282Z"
   },
   {
    "duration": 345,
    "start_time": "2024-02-12T12:20:54.384Z"
   },
   {
    "duration": 127,
    "start_time": "2024-02-12T12:29:33.048Z"
   },
   {
    "duration": 4,
    "start_time": "2024-02-12T12:31:06.198Z"
   },
   {
    "duration": 1847,
    "start_time": "2024-02-12T12:31:06.204Z"
   },
   {
    "duration": 890,
    "start_time": "2024-02-12T12:31:08.052Z"
   },
   {
    "duration": 1342,
    "start_time": "2024-02-12T12:31:08.944Z"
   },
   {
    "duration": 487,
    "start_time": "2024-02-12T12:31:10.288Z"
   },
   {
    "duration": 1127,
    "start_time": "2024-02-12T12:31:10.776Z"
   },
   {
    "duration": 663,
    "start_time": "2024-02-12T12:31:11.904Z"
   },
   {
    "duration": 215,
    "start_time": "2024-02-12T12:31:12.568Z"
   },
   {
    "duration": 89,
    "start_time": "2024-02-12T12:31:12.786Z"
   },
   {
    "duration": 579,
    "start_time": "2024-02-12T12:31:12.876Z"
   },
   {
    "duration": 934,
    "start_time": "2024-02-12T12:31:13.458Z"
   },
   {
    "duration": 317,
    "start_time": "2024-02-12T12:31:14.393Z"
   },
   {
    "duration": 98,
    "start_time": "2024-02-12T12:31:14.712Z"
   },
   {
    "duration": 1220,
    "start_time": "2024-02-12T12:31:14.812Z"
   },
   {
    "duration": 1380,
    "start_time": "2024-02-12T12:31:16.033Z"
   },
   {
    "duration": 350,
    "start_time": "2024-02-12T12:31:17.414Z"
   },
   {
    "duration": 93,
    "start_time": "2024-02-12T12:31:17.766Z"
   },
   {
    "duration": 42,
    "start_time": "2024-02-12T12:31:17.861Z"
   },
   {
    "duration": 188,
    "start_time": "2024-02-12T12:31:17.905Z"
   },
   {
    "duration": 1725,
    "start_time": "2024-02-12T12:31:18.094Z"
   },
   {
    "duration": 16,
    "start_time": "2024-02-12T12:31:19.821Z"
   },
   {
    "duration": 61,
    "start_time": "2024-02-12T12:31:19.838Z"
   },
   {
    "duration": 186,
    "start_time": "2024-02-12T12:31:19.900Z"
   },
   {
    "duration": 3935,
    "start_time": "2024-02-12T12:31:20.088Z"
   },
   {
    "duration": 199,
    "start_time": "2024-02-12T12:31:24.024Z"
   },
   {
    "duration": 34,
    "start_time": "2024-02-12T12:31:24.225Z"
   },
   {
    "duration": 110,
    "start_time": "2024-02-12T12:31:24.261Z"
   },
   {
    "duration": 366,
    "start_time": "2024-02-12T12:31:24.373Z"
   },
   {
    "duration": 363,
    "start_time": "2024-02-12T12:31:24.741Z"
   },
   {
    "duration": 384,
    "start_time": "2024-02-12T12:31:25.106Z"
   },
   {
    "duration": 133,
    "start_time": "2024-02-12T12:31:25.491Z"
   },
   {
    "duration": 4,
    "start_time": "2024-02-12T12:33:23.649Z"
   },
   {
    "duration": 5,
    "start_time": "2024-02-12T12:33:31.268Z"
   },
   {
    "duration": 4,
    "start_time": "2024-02-12T12:36:06.382Z"
   },
   {
    "duration": 4,
    "start_time": "2024-02-12T12:42:48.682Z"
   },
   {
    "duration": 1792,
    "start_time": "2024-02-12T12:42:48.687Z"
   },
   {
    "duration": 910,
    "start_time": "2024-02-12T12:42:50.480Z"
   },
   {
    "duration": 1415,
    "start_time": "2024-02-12T12:42:51.391Z"
   },
   {
    "duration": 499,
    "start_time": "2024-02-12T12:42:52.807Z"
   },
   {
    "duration": 1119,
    "start_time": "2024-02-12T12:42:53.308Z"
   },
   {
    "duration": 663,
    "start_time": "2024-02-12T12:42:54.428Z"
   },
   {
    "duration": 225,
    "start_time": "2024-02-12T12:42:55.092Z"
   },
   {
    "duration": 89,
    "start_time": "2024-02-12T12:42:55.320Z"
   },
   {
    "duration": 598,
    "start_time": "2024-02-12T12:42:55.411Z"
   },
   {
    "duration": 913,
    "start_time": "2024-02-12T12:42:56.011Z"
   },
   {
    "duration": 332,
    "start_time": "2024-02-12T12:42:56.926Z"
   },
   {
    "duration": 89,
    "start_time": "2024-02-12T12:42:57.260Z"
   },
   {
    "duration": 1247,
    "start_time": "2024-02-12T12:42:57.358Z"
   },
   {
    "duration": 1384,
    "start_time": "2024-02-12T12:42:58.606Z"
   },
   {
    "duration": 335,
    "start_time": "2024-02-12T12:42:59.991Z"
   },
   {
    "duration": 88,
    "start_time": "2024-02-12T12:43:00.328Z"
   },
   {
    "duration": 64,
    "start_time": "2024-02-12T12:43:00.418Z"
   },
   {
    "duration": 198,
    "start_time": "2024-02-12T12:43:00.485Z"
   },
   {
    "duration": 1784,
    "start_time": "2024-02-12T12:43:00.684Z"
   },
   {
    "duration": 16,
    "start_time": "2024-02-12T12:43:02.469Z"
   },
   {
    "duration": 62,
    "start_time": "2024-02-12T12:43:02.487Z"
   },
   {
    "duration": 163,
    "start_time": "2024-02-12T12:43:02.551Z"
   },
   {
    "duration": 3830,
    "start_time": "2024-02-12T12:43:02.717Z"
   },
   {
    "duration": 199,
    "start_time": "2024-02-12T12:43:06.549Z"
   },
   {
    "duration": 31,
    "start_time": "2024-02-12T12:43:06.749Z"
   },
   {
    "duration": 118,
    "start_time": "2024-02-12T12:43:06.782Z"
   },
   {
    "duration": 399,
    "start_time": "2024-02-12T12:43:06.902Z"
   },
   {
    "duration": 364,
    "start_time": "2024-02-12T12:43:07.303Z"
   },
   {
    "duration": 354,
    "start_time": "2024-02-12T12:43:07.668Z"
   },
   {
    "duration": 138,
    "start_time": "2024-02-12T12:43:08.023Z"
   },
   {
    "duration": 4,
    "start_time": "2024-02-12T12:43:08.164Z"
   },
   {
    "duration": 136,
    "start_time": "2024-02-12T12:43:08.170Z"
   },
   {
    "duration": 0,
    "start_time": "2024-02-12T12:43:08.307Z"
   },
   {
    "duration": 358,
    "start_time": "2024-02-12T12:46:47.989Z"
   },
   {
    "duration": 94,
    "start_time": "2024-02-12T12:48:16.934Z"
   },
   {
    "duration": 5,
    "start_time": "2024-02-12T12:48:23.409Z"
   },
   {
    "duration": 88,
    "start_time": "2024-02-12T12:49:54.023Z"
   },
   {
    "duration": 4,
    "start_time": "2024-02-12T12:52:09.614Z"
   },
   {
    "duration": 1872,
    "start_time": "2024-02-12T12:52:09.620Z"
   },
   {
    "duration": 872,
    "start_time": "2024-02-12T12:52:11.493Z"
   },
   {
    "duration": 1328,
    "start_time": "2024-02-12T12:52:12.367Z"
   },
   {
    "duration": 512,
    "start_time": "2024-02-12T12:52:13.697Z"
   },
   {
    "duration": 1106,
    "start_time": "2024-02-12T12:52:14.211Z"
   },
   {
    "duration": 679,
    "start_time": "2024-02-12T12:52:15.319Z"
   },
   {
    "duration": 223,
    "start_time": "2024-02-12T12:52:16.000Z"
   },
   {
    "duration": 83,
    "start_time": "2024-02-12T12:52:16.225Z"
   },
   {
    "duration": 571,
    "start_time": "2024-02-12T12:52:16.311Z"
   },
   {
    "duration": 887,
    "start_time": "2024-02-12T12:52:16.884Z"
   },
   {
    "duration": 317,
    "start_time": "2024-02-12T12:52:17.773Z"
   },
   {
    "duration": 98,
    "start_time": "2024-02-12T12:52:18.091Z"
   },
   {
    "duration": 1189,
    "start_time": "2024-02-12T12:52:18.190Z"
   },
   {
    "duration": 1358,
    "start_time": "2024-02-12T12:52:19.381Z"
   },
   {
    "duration": 327,
    "start_time": "2024-02-12T12:52:20.741Z"
   },
   {
    "duration": 96,
    "start_time": "2024-02-12T12:52:21.070Z"
   },
   {
    "duration": 55,
    "start_time": "2024-02-12T12:52:21.167Z"
   },
   {
    "duration": 197,
    "start_time": "2024-02-12T12:52:21.224Z"
   },
   {
    "duration": 1763,
    "start_time": "2024-02-12T12:52:21.423Z"
   },
   {
    "duration": 15,
    "start_time": "2024-02-12T12:52:23.188Z"
   },
   {
    "duration": 56,
    "start_time": "2024-02-12T12:52:23.205Z"
   },
   {
    "duration": 168,
    "start_time": "2024-02-12T12:52:23.263Z"
   },
   {
    "duration": 3693,
    "start_time": "2024-02-12T12:52:23.432Z"
   },
   {
    "duration": 197,
    "start_time": "2024-02-12T12:52:27.127Z"
   },
   {
    "duration": 35,
    "start_time": "2024-02-12T12:52:27.325Z"
   },
   {
    "duration": 111,
    "start_time": "2024-02-12T12:52:27.362Z"
   },
   {
    "duration": 378,
    "start_time": "2024-02-12T12:52:27.477Z"
   },
   {
    "duration": 354,
    "start_time": "2024-02-12T12:52:27.858Z"
   },
   {
    "duration": 351,
    "start_time": "2024-02-12T12:52:28.214Z"
   },
   {
    "duration": 131,
    "start_time": "2024-02-12T12:52:28.566Z"
   },
   {
    "duration": 90,
    "start_time": "2024-02-12T12:52:28.699Z"
   },
   {
    "duration": 68,
    "start_time": "2024-02-12T12:52:28.791Z"
   },
   {
    "duration": 80,
    "start_time": "2024-02-12T12:55:25.577Z"
   },
   {
    "duration": 4,
    "start_time": "2024-02-12T12:56:05.607Z"
   },
   {
    "duration": 4,
    "start_time": "2024-02-12T13:00:08.147Z"
   },
   {
    "duration": 1825,
    "start_time": "2024-02-12T13:00:08.153Z"
   },
   {
    "duration": 884,
    "start_time": "2024-02-12T13:00:09.980Z"
   },
   {
    "duration": 1359,
    "start_time": "2024-02-12T13:00:10.866Z"
   },
   {
    "duration": 468,
    "start_time": "2024-02-12T13:00:12.227Z"
   },
   {
    "duration": 1112,
    "start_time": "2024-02-12T13:00:12.697Z"
   },
   {
    "duration": 682,
    "start_time": "2024-02-12T13:00:13.811Z"
   },
   {
    "duration": 233,
    "start_time": "2024-02-12T13:00:14.494Z"
   },
   {
    "duration": 82,
    "start_time": "2024-02-12T13:00:14.729Z"
   },
   {
    "duration": 595,
    "start_time": "2024-02-12T13:00:14.813Z"
   },
   {
    "duration": 980,
    "start_time": "2024-02-12T13:00:15.409Z"
   },
   {
    "duration": 348,
    "start_time": "2024-02-12T13:00:16.391Z"
   },
   {
    "duration": 100,
    "start_time": "2024-02-12T13:00:16.741Z"
   },
   {
    "duration": 1268,
    "start_time": "2024-02-12T13:00:16.843Z"
   },
   {
    "duration": 1409,
    "start_time": "2024-02-12T13:00:18.113Z"
   },
   {
    "duration": 319,
    "start_time": "2024-02-12T13:00:19.524Z"
   },
   {
    "duration": 85,
    "start_time": "2024-02-12T13:00:19.845Z"
   },
   {
    "duration": 55,
    "start_time": "2024-02-12T13:00:19.932Z"
   },
   {
    "duration": 187,
    "start_time": "2024-02-12T13:00:19.988Z"
   },
   {
    "duration": 1831,
    "start_time": "2024-02-12T13:00:20.179Z"
   },
   {
    "duration": 16,
    "start_time": "2024-02-12T13:00:22.012Z"
   },
   {
    "duration": 65,
    "start_time": "2024-02-12T13:00:22.030Z"
   },
   {
    "duration": 171,
    "start_time": "2024-02-12T13:00:22.096Z"
   },
   {
    "duration": 3852,
    "start_time": "2024-02-12T13:00:22.269Z"
   },
   {
    "duration": 201,
    "start_time": "2024-02-12T13:00:26.122Z"
   },
   {
    "duration": 35,
    "start_time": "2024-02-12T13:00:26.325Z"
   },
   {
    "duration": 134,
    "start_time": "2024-02-12T13:00:26.362Z"
   },
   {
    "duration": 379,
    "start_time": "2024-02-12T13:00:26.497Z"
   },
   {
    "duration": 365,
    "start_time": "2024-02-12T13:00:26.877Z"
   },
   {
    "duration": 359,
    "start_time": "2024-02-12T13:00:27.243Z"
   },
   {
    "duration": 128,
    "start_time": "2024-02-12T13:00:27.604Z"
   },
   {
    "duration": 94,
    "start_time": "2024-02-12T13:00:27.734Z"
   },
   {
    "duration": 88,
    "start_time": "2024-02-12T13:00:27.830Z"
   },
   {
    "duration": 3,
    "start_time": "2024-02-12T13:16:44.879Z"
   },
   {
    "duration": 1801,
    "start_time": "2024-02-12T13:16:44.883Z"
   },
   {
    "duration": 865,
    "start_time": "2024-02-12T13:16:46.686Z"
   },
   {
    "duration": 1341,
    "start_time": "2024-02-12T13:16:47.553Z"
   },
   {
    "duration": 455,
    "start_time": "2024-02-12T13:16:48.896Z"
   },
   {
    "duration": 1082,
    "start_time": "2024-02-12T13:16:49.352Z"
   },
   {
    "duration": 647,
    "start_time": "2024-02-12T13:16:50.436Z"
   },
   {
    "duration": 252,
    "start_time": "2024-02-12T13:16:51.085Z"
   },
   {
    "duration": 84,
    "start_time": "2024-02-12T13:16:51.339Z"
   },
   {
    "duration": 565,
    "start_time": "2024-02-12T13:16:51.424Z"
   },
   {
    "duration": 910,
    "start_time": "2024-02-12T13:16:51.992Z"
   },
   {
    "duration": 357,
    "start_time": "2024-02-12T13:16:52.903Z"
   },
   {
    "duration": 97,
    "start_time": "2024-02-12T13:16:53.262Z"
   },
   {
    "duration": 1235,
    "start_time": "2024-02-12T13:16:53.360Z"
   },
   {
    "duration": 1376,
    "start_time": "2024-02-12T13:16:54.596Z"
   },
   {
    "duration": 342,
    "start_time": "2024-02-12T13:16:55.974Z"
   },
   {
    "duration": 91,
    "start_time": "2024-02-12T13:16:56.318Z"
   },
   {
    "duration": 54,
    "start_time": "2024-02-12T13:16:56.411Z"
   },
   {
    "duration": 179,
    "start_time": "2024-02-12T13:16:56.466Z"
   },
   {
    "duration": 1715,
    "start_time": "2024-02-12T13:16:56.646Z"
   },
   {
    "duration": 16,
    "start_time": "2024-02-12T13:16:58.362Z"
   },
   {
    "duration": 46,
    "start_time": "2024-02-12T13:16:58.380Z"
   },
   {
    "duration": 193,
    "start_time": "2024-02-12T13:16:58.428Z"
   },
   {
    "duration": 3824,
    "start_time": "2024-02-12T13:16:58.624Z"
   },
   {
    "duration": 196,
    "start_time": "2024-02-12T13:17:02.450Z"
   },
   {
    "duration": 29,
    "start_time": "2024-02-12T13:17:02.648Z"
   },
   {
    "duration": 118,
    "start_time": "2024-02-12T13:17:02.679Z"
   },
   {
    "duration": 376,
    "start_time": "2024-02-12T13:17:02.799Z"
   },
   {
    "duration": 356,
    "start_time": "2024-02-12T13:17:03.177Z"
   },
   {
    "duration": 346,
    "start_time": "2024-02-12T13:17:03.535Z"
   },
   {
    "duration": 135,
    "start_time": "2024-02-12T13:17:03.883Z"
   },
   {
    "duration": 95,
    "start_time": "2024-02-12T13:17:04.020Z"
   },
   {
    "duration": 86,
    "start_time": "2024-02-12T13:17:04.117Z"
   },
   {
    "duration": 5,
    "start_time": "2024-02-12T13:18:09.677Z"
   },
   {
    "duration": 31,
    "start_time": "2024-02-12T13:22:26.580Z"
   },
   {
    "duration": 26,
    "start_time": "2024-02-12T13:22:56.295Z"
   },
   {
    "duration": 4,
    "start_time": "2024-02-12T13:25:41.791Z"
   },
   {
    "duration": 1854,
    "start_time": "2024-02-12T13:25:41.797Z"
   },
   {
    "duration": 922,
    "start_time": "2024-02-12T13:25:43.653Z"
   },
   {
    "duration": 1354,
    "start_time": "2024-02-12T13:25:44.578Z"
   },
   {
    "duration": 487,
    "start_time": "2024-02-12T13:25:45.934Z"
   },
   {
    "duration": 1113,
    "start_time": "2024-02-12T13:25:46.423Z"
   },
   {
    "duration": 708,
    "start_time": "2024-02-12T13:25:47.537Z"
   },
   {
    "duration": 251,
    "start_time": "2024-02-12T13:25:48.247Z"
   },
   {
    "duration": 90,
    "start_time": "2024-02-12T13:25:48.501Z"
   },
   {
    "duration": 587,
    "start_time": "2024-02-12T13:25:48.592Z"
   },
   {
    "duration": 972,
    "start_time": "2024-02-12T13:25:49.182Z"
   },
   {
    "duration": 353,
    "start_time": "2024-02-12T13:25:50.159Z"
   },
   {
    "duration": 99,
    "start_time": "2024-02-12T13:25:50.514Z"
   },
   {
    "duration": 1270,
    "start_time": "2024-02-12T13:25:50.614Z"
   },
   {
    "duration": 1374,
    "start_time": "2024-02-12T13:25:51.886Z"
   },
   {
    "duration": 324,
    "start_time": "2024-02-12T13:25:53.262Z"
   },
   {
    "duration": 89,
    "start_time": "2024-02-12T13:25:53.587Z"
   },
   {
    "duration": 45,
    "start_time": "2024-02-12T13:25:53.678Z"
   },
   {
    "duration": 190,
    "start_time": "2024-02-12T13:25:53.725Z"
   },
   {
    "duration": 1697,
    "start_time": "2024-02-12T13:25:53.917Z"
   },
   {
    "duration": 16,
    "start_time": "2024-02-12T13:25:55.615Z"
   },
   {
    "duration": 54,
    "start_time": "2024-02-12T13:25:55.632Z"
   },
   {
    "duration": 171,
    "start_time": "2024-02-12T13:25:55.688Z"
   },
   {
    "duration": 3773,
    "start_time": "2024-02-12T13:25:55.861Z"
   },
   {
    "duration": 193,
    "start_time": "2024-02-12T13:25:59.635Z"
   },
   {
    "duration": 36,
    "start_time": "2024-02-12T13:25:59.830Z"
   },
   {
    "duration": 119,
    "start_time": "2024-02-12T13:25:59.868Z"
   },
   {
    "duration": 386,
    "start_time": "2024-02-12T13:25:59.989Z"
   },
   {
    "duration": 375,
    "start_time": "2024-02-12T13:26:00.377Z"
   },
   {
    "duration": 364,
    "start_time": "2024-02-12T13:26:00.759Z"
   },
   {
    "duration": 153,
    "start_time": "2024-02-12T13:26:01.124Z"
   },
   {
    "duration": 116,
    "start_time": "2024-02-12T13:26:01.279Z"
   },
   {
    "duration": 108,
    "start_time": "2024-02-12T13:26:01.396Z"
   },
   {
    "duration": 82,
    "start_time": "2024-02-12T13:26:01.505Z"
   },
   {
    "duration": 3,
    "start_time": "2024-02-12T13:28:06.089Z"
   },
   {
    "duration": 1811,
    "start_time": "2024-02-12T13:28:06.093Z"
   },
   {
    "duration": 849,
    "start_time": "2024-02-12T13:28:07.906Z"
   },
   {
    "duration": 1334,
    "start_time": "2024-02-12T13:28:08.756Z"
   },
   {
    "duration": 476,
    "start_time": "2024-02-12T13:28:10.092Z"
   },
   {
    "duration": 1118,
    "start_time": "2024-02-12T13:28:10.570Z"
   },
   {
    "duration": 656,
    "start_time": "2024-02-12T13:28:11.690Z"
   },
   {
    "duration": 238,
    "start_time": "2024-02-12T13:28:12.348Z"
   },
   {
    "duration": 91,
    "start_time": "2024-02-12T13:28:12.587Z"
   },
   {
    "duration": 577,
    "start_time": "2024-02-12T13:28:12.680Z"
   },
   {
    "duration": 941,
    "start_time": "2024-02-12T13:28:13.260Z"
   },
   {
    "duration": 326,
    "start_time": "2024-02-12T13:28:14.203Z"
   },
   {
    "duration": 100,
    "start_time": "2024-02-12T13:28:14.531Z"
   },
   {
    "duration": 1308,
    "start_time": "2024-02-12T13:28:14.633Z"
   },
   {
    "duration": 1364,
    "start_time": "2024-02-12T13:28:15.943Z"
   },
   {
    "duration": 353,
    "start_time": "2024-02-12T13:28:17.308Z"
   },
   {
    "duration": 82,
    "start_time": "2024-02-12T13:28:17.663Z"
   },
   {
    "duration": 49,
    "start_time": "2024-02-12T13:28:17.747Z"
   },
   {
    "duration": 194,
    "start_time": "2024-02-12T13:28:17.798Z"
   },
   {
    "duration": 1692,
    "start_time": "2024-02-12T13:28:17.993Z"
   },
   {
    "duration": 15,
    "start_time": "2024-02-12T13:28:19.687Z"
   },
   {
    "duration": 60,
    "start_time": "2024-02-12T13:28:19.704Z"
   },
   {
    "duration": 198,
    "start_time": "2024-02-12T13:28:19.766Z"
   },
   {
    "duration": 3766,
    "start_time": "2024-02-12T13:28:19.966Z"
   },
   {
    "duration": 197,
    "start_time": "2024-02-12T13:28:23.734Z"
   },
   {
    "duration": 38,
    "start_time": "2024-02-12T13:28:23.933Z"
   },
   {
    "duration": 117,
    "start_time": "2024-02-12T13:28:23.973Z"
   },
   {
    "duration": 359,
    "start_time": "2024-02-12T13:28:24.091Z"
   },
   {
    "duration": 355,
    "start_time": "2024-02-12T13:28:24.452Z"
   },
   {
    "duration": 359,
    "start_time": "2024-02-12T13:28:24.809Z"
   },
   {
    "duration": 106,
    "start_time": "2024-02-12T13:28:25.170Z"
   },
   {
    "duration": 94,
    "start_time": "2024-02-12T13:28:25.278Z"
   },
   {
    "duration": 93,
    "start_time": "2024-02-12T13:28:25.374Z"
   },
   {
    "duration": 77,
    "start_time": "2024-02-12T13:28:25.469Z"
   },
   {
    "duration": 3,
    "start_time": "2024-02-12T13:30:49.127Z"
   },
   {
    "duration": 1912,
    "start_time": "2024-02-12T13:30:49.132Z"
   },
   {
    "duration": 864,
    "start_time": "2024-02-12T13:30:51.047Z"
   },
   {
    "duration": 1320,
    "start_time": "2024-02-12T13:30:51.912Z"
   },
   {
    "duration": 480,
    "start_time": "2024-02-12T13:30:53.234Z"
   },
   {
    "duration": 1116,
    "start_time": "2024-02-12T13:30:53.715Z"
   },
   {
    "duration": 659,
    "start_time": "2024-02-12T13:30:54.833Z"
   },
   {
    "duration": 243,
    "start_time": "2024-02-12T13:30:55.494Z"
   },
   {
    "duration": 85,
    "start_time": "2024-02-12T13:30:55.738Z"
   },
   {
    "duration": 594,
    "start_time": "2024-02-12T13:30:55.825Z"
   },
   {
    "duration": 959,
    "start_time": "2024-02-12T13:30:56.421Z"
   },
   {
    "duration": 333,
    "start_time": "2024-02-12T13:30:57.382Z"
   },
   {
    "duration": 102,
    "start_time": "2024-02-12T13:30:57.717Z"
   },
   {
    "duration": 1226,
    "start_time": "2024-02-12T13:30:57.821Z"
   },
   {
    "duration": 1394,
    "start_time": "2024-02-12T13:30:59.048Z"
   },
   {
    "duration": 334,
    "start_time": "2024-02-12T13:31:00.444Z"
   },
   {
    "duration": 95,
    "start_time": "2024-02-12T13:31:00.780Z"
   },
   {
    "duration": 52,
    "start_time": "2024-02-12T13:31:00.877Z"
   },
   {
    "duration": 200,
    "start_time": "2024-02-12T13:31:00.930Z"
   },
   {
    "duration": 1782,
    "start_time": "2024-02-12T13:31:01.132Z"
   },
   {
    "duration": 25,
    "start_time": "2024-02-12T13:31:02.915Z"
   },
   {
    "duration": 55,
    "start_time": "2024-02-12T13:31:02.942Z"
   },
   {
    "duration": 169,
    "start_time": "2024-02-12T13:31:02.998Z"
   },
   {
    "duration": 3664,
    "start_time": "2024-02-12T13:31:03.169Z"
   },
   {
    "duration": 198,
    "start_time": "2024-02-12T13:31:06.834Z"
   },
   {
    "duration": 35,
    "start_time": "2024-02-12T13:31:07.034Z"
   },
   {
    "duration": 117,
    "start_time": "2024-02-12T13:31:07.071Z"
   },
   {
    "duration": 374,
    "start_time": "2024-02-12T13:31:07.189Z"
   },
   {
    "duration": 376,
    "start_time": "2024-02-12T13:31:07.567Z"
   },
   {
    "duration": 349,
    "start_time": "2024-02-12T13:31:07.945Z"
   },
   {
    "duration": 110,
    "start_time": "2024-02-12T13:31:08.295Z"
   },
   {
    "duration": 91,
    "start_time": "2024-02-12T13:31:08.407Z"
   },
   {
    "duration": 90,
    "start_time": "2024-02-12T13:31:08.499Z"
   },
   {
    "duration": 94,
    "start_time": "2024-02-12T13:31:08.591Z"
   },
   {
    "duration": 157,
    "start_time": "2024-02-12T13:40:12.326Z"
   },
   {
    "duration": 44,
    "start_time": "2024-02-12T13:43:24.392Z"
   },
   {
    "duration": 54,
    "start_time": "2024-02-12T13:44:56.725Z"
   },
   {
    "duration": 96,
    "start_time": "2024-02-12T13:45:20.505Z"
   },
   {
    "duration": 81,
    "start_time": "2024-02-12T13:45:53.045Z"
   },
   {
    "duration": 18,
    "start_time": "2024-02-12T13:49:32.789Z"
   },
   {
    "duration": 900,
    "start_time": "2024-02-12T13:49:33.543Z"
   },
   {
    "duration": 2,
    "start_time": "2024-02-12T13:50:49.235Z"
   },
   {
    "duration": 862,
    "start_time": "2024-02-12T13:50:51.315Z"
   },
   {
    "duration": 7425,
    "start_time": "2024-02-12T13:52:26.000Z"
   },
   {
    "duration": 4,
    "start_time": "2024-02-12T13:52:43.545Z"
   },
   {
    "duration": 1888,
    "start_time": "2024-02-12T13:52:43.553Z"
   },
   {
    "duration": 879,
    "start_time": "2024-02-12T13:52:45.443Z"
   },
   {
    "duration": 1376,
    "start_time": "2024-02-12T13:52:46.324Z"
   },
   {
    "duration": 480,
    "start_time": "2024-02-12T13:52:47.701Z"
   },
   {
    "duration": 1090,
    "start_time": "2024-02-12T13:52:48.183Z"
   },
   {
    "duration": 695,
    "start_time": "2024-02-12T13:52:49.276Z"
   },
   {
    "duration": 224,
    "start_time": "2024-02-12T13:52:49.973Z"
   },
   {
    "duration": 90,
    "start_time": "2024-02-12T13:52:50.211Z"
   },
   {
    "duration": 579,
    "start_time": "2024-02-12T13:52:50.303Z"
   },
   {
    "duration": 956,
    "start_time": "2024-02-12T13:52:50.884Z"
   },
   {
    "duration": 373,
    "start_time": "2024-02-12T13:52:51.842Z"
   },
   {
    "duration": 98,
    "start_time": "2024-02-12T13:52:52.216Z"
   },
   {
    "duration": 1272,
    "start_time": "2024-02-12T13:52:52.316Z"
   },
   {
    "duration": 1457,
    "start_time": "2024-02-12T13:52:53.592Z"
   },
   {
    "duration": 343,
    "start_time": "2024-02-12T13:52:55.058Z"
   },
   {
    "duration": 89,
    "start_time": "2024-02-12T13:52:55.402Z"
   },
   {
    "duration": 46,
    "start_time": "2024-02-12T13:52:55.493Z"
   },
   {
    "duration": 257,
    "start_time": "2024-02-12T13:52:55.542Z"
   },
   {
    "duration": 1710,
    "start_time": "2024-02-12T13:52:55.800Z"
   },
   {
    "duration": 22,
    "start_time": "2024-02-12T13:52:57.511Z"
   },
   {
    "duration": 65,
    "start_time": "2024-02-12T13:52:57.534Z"
   },
   {
    "duration": 293,
    "start_time": "2024-02-12T13:52:57.600Z"
   },
   {
    "duration": 3724,
    "start_time": "2024-02-12T13:52:57.894Z"
   },
   {
    "duration": 206,
    "start_time": "2024-02-12T13:53:01.620Z"
   },
   {
    "duration": 37,
    "start_time": "2024-02-12T13:53:01.828Z"
   },
   {
    "duration": 135,
    "start_time": "2024-02-12T13:53:01.867Z"
   },
   {
    "duration": 390,
    "start_time": "2024-02-12T13:53:02.004Z"
   },
   {
    "duration": 366,
    "start_time": "2024-02-12T13:53:02.395Z"
   },
   {
    "duration": 379,
    "start_time": "2024-02-12T13:53:02.762Z"
   },
   {
    "duration": 108,
    "start_time": "2024-02-12T13:53:03.143Z"
   },
   {
    "duration": 87,
    "start_time": "2024-02-12T13:53:03.258Z"
   },
   {
    "duration": 84,
    "start_time": "2024-02-12T13:53:03.359Z"
   },
   {
    "duration": 95,
    "start_time": "2024-02-12T13:53:03.445Z"
   },
   {
    "duration": 76,
    "start_time": "2024-02-12T13:53:03.541Z"
   },
   {
    "duration": 12,
    "start_time": "2024-02-12T13:53:03.619Z"
   },
   {
    "duration": 137,
    "start_time": "2024-02-12T13:53:03.633Z"
   },
   {
    "duration": 0,
    "start_time": "2024-02-12T13:53:03.771Z"
   },
   {
    "duration": 0,
    "start_time": "2024-02-12T13:53:03.772Z"
   },
   {
    "duration": 456,
    "start_time": "2024-02-12T13:54:06.959Z"
   },
   {
    "duration": 3,
    "start_time": "2024-02-12T13:55:22.480Z"
   },
   {
    "duration": 1938,
    "start_time": "2024-02-12T13:55:22.485Z"
   },
   {
    "duration": 841,
    "start_time": "2024-02-12T13:55:24.424Z"
   },
   {
    "duration": 1312,
    "start_time": "2024-02-12T13:55:25.267Z"
   },
   {
    "duration": 488,
    "start_time": "2024-02-12T13:55:26.581Z"
   },
   {
    "duration": 1045,
    "start_time": "2024-02-12T13:55:27.071Z"
   },
   {
    "duration": 650,
    "start_time": "2024-02-12T13:55:28.117Z"
   },
   {
    "duration": 214,
    "start_time": "2024-02-12T13:55:28.769Z"
   },
   {
    "duration": 87,
    "start_time": "2024-02-12T13:55:28.985Z"
   },
   {
    "duration": 584,
    "start_time": "2024-02-12T13:55:29.073Z"
   },
   {
    "duration": 955,
    "start_time": "2024-02-12T13:55:29.659Z"
   },
   {
    "duration": 344,
    "start_time": "2024-02-12T13:55:30.615Z"
   },
   {
    "duration": 102,
    "start_time": "2024-02-12T13:55:30.960Z"
   },
   {
    "duration": 1319,
    "start_time": "2024-02-12T13:55:31.064Z"
   },
   {
    "duration": 1391,
    "start_time": "2024-02-12T13:55:32.384Z"
   },
   {
    "duration": 324,
    "start_time": "2024-02-12T13:55:33.776Z"
   },
   {
    "duration": 88,
    "start_time": "2024-02-12T13:55:34.101Z"
   },
   {
    "duration": 43,
    "start_time": "2024-02-12T13:55:34.190Z"
   },
   {
    "duration": 195,
    "start_time": "2024-02-12T13:55:34.235Z"
   },
   {
    "duration": 1727,
    "start_time": "2024-02-12T13:55:34.432Z"
   },
   {
    "duration": 17,
    "start_time": "2024-02-12T13:55:36.160Z"
   },
   {
    "duration": 44,
    "start_time": "2024-02-12T13:55:36.178Z"
   },
   {
    "duration": 302,
    "start_time": "2024-02-12T13:55:36.224Z"
   },
   {
    "duration": 3657,
    "start_time": "2024-02-12T13:55:36.529Z"
   },
   {
    "duration": 203,
    "start_time": "2024-02-12T13:55:40.188Z"
   },
   {
    "duration": 34,
    "start_time": "2024-02-12T13:55:40.392Z"
   },
   {
    "duration": 120,
    "start_time": "2024-02-12T13:55:40.427Z"
   },
   {
    "duration": 374,
    "start_time": "2024-02-12T13:55:40.549Z"
   },
   {
    "duration": 387,
    "start_time": "2024-02-12T13:55:40.924Z"
   },
   {
    "duration": 376,
    "start_time": "2024-02-12T13:55:41.313Z"
   },
   {
    "duration": 102,
    "start_time": "2024-02-12T13:55:41.691Z"
   },
   {
    "duration": 98,
    "start_time": "2024-02-12T13:55:41.795Z"
   },
   {
    "duration": 89,
    "start_time": "2024-02-12T13:55:41.895Z"
   },
   {
    "duration": 100,
    "start_time": "2024-02-12T13:55:41.986Z"
   },
   {
    "duration": 76,
    "start_time": "2024-02-12T13:55:42.087Z"
   },
   {
    "duration": 12,
    "start_time": "2024-02-12T13:55:42.164Z"
   },
   {
    "duration": 133,
    "start_time": "2024-02-12T13:55:42.177Z"
   },
   {
    "duration": 0,
    "start_time": "2024-02-12T13:55:42.312Z"
   },
   {
    "duration": 0,
    "start_time": "2024-02-12T13:55:42.312Z"
   },
   {
    "duration": 43286,
    "start_time": "2024-02-12T13:57:51.296Z"
   },
   {
    "duration": 6277,
    "start_time": "2024-02-12T13:58:47.226Z"
   },
   {
    "duration": 6639,
    "start_time": "2024-02-12T13:58:55.803Z"
   },
   {
    "duration": 214,
    "start_time": "2024-02-12T13:59:57.463Z"
   },
   {
    "duration": 511,
    "start_time": "2024-02-12T14:00:10.590Z"
   },
   {
    "duration": 4,
    "start_time": "2024-02-12T14:08:30.546Z"
   },
   {
    "duration": 1948,
    "start_time": "2024-02-12T14:08:30.552Z"
   },
   {
    "duration": 885,
    "start_time": "2024-02-12T14:08:32.501Z"
   },
   {
    "duration": 1337,
    "start_time": "2024-02-12T14:08:33.389Z"
   },
   {
    "duration": 472,
    "start_time": "2024-02-12T14:08:34.728Z"
   },
   {
    "duration": 1069,
    "start_time": "2024-02-12T14:08:35.202Z"
   },
   {
    "duration": 651,
    "start_time": "2024-02-12T14:08:36.273Z"
   },
   {
    "duration": 233,
    "start_time": "2024-02-12T14:08:36.926Z"
   },
   {
    "duration": 105,
    "start_time": "2024-02-12T14:08:37.161Z"
   },
   {
    "duration": 604,
    "start_time": "2024-02-12T14:08:37.268Z"
   },
   {
    "duration": 946,
    "start_time": "2024-02-12T14:08:37.873Z"
   },
   {
    "duration": 360,
    "start_time": "2024-02-12T14:08:38.821Z"
   },
   {
    "duration": 110,
    "start_time": "2024-02-12T14:08:39.184Z"
   },
   {
    "duration": 1253,
    "start_time": "2024-02-12T14:08:39.296Z"
   },
   {
    "duration": 1429,
    "start_time": "2024-02-12T14:08:40.552Z"
   },
   {
    "duration": 335,
    "start_time": "2024-02-12T14:08:41.984Z"
   },
   {
    "duration": 99,
    "start_time": "2024-02-12T14:08:42.321Z"
   },
   {
    "duration": 64,
    "start_time": "2024-02-12T14:08:42.422Z"
   },
   {
    "duration": 182,
    "start_time": "2024-02-12T14:08:42.487Z"
   },
   {
    "duration": 1798,
    "start_time": "2024-02-12T14:08:42.670Z"
   },
   {
    "duration": 18,
    "start_time": "2024-02-12T14:08:44.469Z"
   },
   {
    "duration": 44,
    "start_time": "2024-02-12T14:08:44.488Z"
   },
   {
    "duration": 315,
    "start_time": "2024-02-12T14:08:44.534Z"
   },
   {
    "duration": 3680,
    "start_time": "2024-02-12T14:08:44.858Z"
   },
   {
    "duration": 200,
    "start_time": "2024-02-12T14:08:48.540Z"
   },
   {
    "duration": 34,
    "start_time": "2024-02-12T14:08:48.741Z"
   },
   {
    "duration": 119,
    "start_time": "2024-02-12T14:08:48.776Z"
   },
   {
    "duration": 405,
    "start_time": "2024-02-12T14:08:48.896Z"
   },
   {
    "duration": 394,
    "start_time": "2024-02-12T14:08:49.303Z"
   },
   {
    "duration": 383,
    "start_time": "2024-02-12T14:08:49.699Z"
   },
   {
    "duration": 106,
    "start_time": "2024-02-12T14:08:50.084Z"
   },
   {
    "duration": 101,
    "start_time": "2024-02-12T14:08:50.192Z"
   },
   {
    "duration": 93,
    "start_time": "2024-02-12T14:08:50.295Z"
   },
   {
    "duration": 91,
    "start_time": "2024-02-12T14:08:50.390Z"
   },
   {
    "duration": 94,
    "start_time": "2024-02-12T14:08:50.483Z"
   },
   {
    "duration": 15,
    "start_time": "2024-02-12T14:08:50.580Z"
   },
   {
    "duration": 44898,
    "start_time": "2024-02-12T14:08:50.597Z"
   },
   {
    "duration": 5396,
    "start_time": "2024-02-12T14:09:35.497Z"
   },
   {
    "duration": 5137,
    "start_time": "2024-02-12T14:09:40.895Z"
   },
   {
    "duration": 190,
    "start_time": "2024-02-12T14:09:46.034Z"
   },
   {
    "duration": 20337,
    "start_time": "2024-02-12T15:15:06.070Z"
   },
   {
    "duration": 20439,
    "start_time": "2024-02-12T15:15:51.826Z"
   },
   {
    "duration": 19804,
    "start_time": "2024-02-12T15:16:40.555Z"
   },
   {
    "duration": 20286,
    "start_time": "2024-02-12T15:17:39.289Z"
   },
   {
    "duration": 4,
    "start_time": "2024-02-12T15:29:26.071Z"
   },
   {
    "duration": 1884,
    "start_time": "2024-02-12T15:29:26.078Z"
   },
   {
    "duration": 874,
    "start_time": "2024-02-12T15:29:27.964Z"
   },
   {
    "duration": 1345,
    "start_time": "2024-02-12T15:29:28.840Z"
   },
   {
    "duration": 492,
    "start_time": "2024-02-12T15:29:30.187Z"
   },
   {
    "duration": 1108,
    "start_time": "2024-02-12T15:29:30.681Z"
   },
   {
    "duration": 677,
    "start_time": "2024-02-12T15:29:31.790Z"
   },
   {
    "duration": 219,
    "start_time": "2024-02-12T15:29:32.468Z"
   },
   {
    "duration": 87,
    "start_time": "2024-02-12T15:29:32.689Z"
   },
   {
    "duration": 575,
    "start_time": "2024-02-12T15:29:32.777Z"
   },
   {
    "duration": 943,
    "start_time": "2024-02-12T15:29:33.353Z"
   },
   {
    "duration": 314,
    "start_time": "2024-02-12T15:29:34.298Z"
   },
   {
    "duration": 103,
    "start_time": "2024-02-12T15:29:34.614Z"
   },
   {
    "duration": 1217,
    "start_time": "2024-02-12T15:29:34.718Z"
   },
   {
    "duration": 1382,
    "start_time": "2024-02-12T15:29:35.936Z"
   },
   {
    "duration": 332,
    "start_time": "2024-02-12T15:29:37.319Z"
   },
   {
    "duration": 85,
    "start_time": "2024-02-12T15:29:37.653Z"
   },
   {
    "duration": 53,
    "start_time": "2024-02-12T15:29:37.740Z"
   },
   {
    "duration": 196,
    "start_time": "2024-02-12T15:29:37.794Z"
   },
   {
    "duration": 1794,
    "start_time": "2024-02-12T15:29:37.991Z"
   },
   {
    "duration": 16,
    "start_time": "2024-02-12T15:29:39.787Z"
   },
   {
    "duration": 60,
    "start_time": "2024-02-12T15:29:39.804Z"
   },
   {
    "duration": 291,
    "start_time": "2024-02-12T15:29:39.866Z"
   },
   {
    "duration": 3721,
    "start_time": "2024-02-12T15:29:40.160Z"
   },
   {
    "duration": 192,
    "start_time": "2024-02-12T15:29:43.883Z"
   },
   {
    "duration": 30,
    "start_time": "2024-02-12T15:29:44.076Z"
   },
   {
    "duration": 127,
    "start_time": "2024-02-12T15:29:44.107Z"
   },
   {
    "duration": 378,
    "start_time": "2024-02-12T15:29:44.236Z"
   },
   {
    "duration": 373,
    "start_time": "2024-02-12T15:29:44.615Z"
   },
   {
    "duration": 366,
    "start_time": "2024-02-12T15:29:44.990Z"
   },
   {
    "duration": 115,
    "start_time": "2024-02-12T15:29:45.359Z"
   },
   {
    "duration": 104,
    "start_time": "2024-02-12T15:29:45.475Z"
   },
   {
    "duration": 98,
    "start_time": "2024-02-12T15:29:45.580Z"
   },
   {
    "duration": 90,
    "start_time": "2024-02-12T15:29:45.679Z"
   },
   {
    "duration": 69,
    "start_time": "2024-02-12T15:29:45.770Z"
   },
   {
    "duration": 30,
    "start_time": "2024-02-12T15:29:45.841Z"
   },
   {
    "duration": 43201,
    "start_time": "2024-02-12T15:29:45.872Z"
   },
   {
    "duration": 5990,
    "start_time": "2024-02-12T15:30:29.074Z"
   },
   {
    "duration": 5656,
    "start_time": "2024-02-12T15:30:35.065Z"
   },
   {
    "duration": 216,
    "start_time": "2024-02-12T15:30:40.722Z"
   },
   {
    "duration": 22673,
    "start_time": "2024-02-12T15:30:40.939Z"
   },
   {
    "duration": 21164,
    "start_time": "2024-02-12T15:32:33.409Z"
   },
   {
    "duration": 5,
    "start_time": "2024-02-12T15:37:51.545Z"
   },
   {
    "duration": 21511,
    "start_time": "2024-02-12T15:37:59.756Z"
   },
   {
    "duration": 21633,
    "start_time": "2024-02-12T15:43:26.130Z"
   },
   {
    "duration": 103,
    "start_time": "2024-02-12T15:43:47.765Z"
   },
   {
    "duration": 21495,
    "start_time": "2024-02-12T15:52:48.266Z"
   },
   {
    "duration": 4,
    "start_time": "2024-02-12T15:56:16.171Z"
   },
   {
    "duration": 22071,
    "start_time": "2024-02-12T15:56:18.400Z"
   },
   {
    "duration": 25546,
    "start_time": "2024-02-12T15:56:42.713Z"
   },
   {
    "duration": 409676,
    "start_time": "2024-02-12T16:01:49.593Z"
   },
   {
    "duration": 411098,
    "start_time": "2024-02-12T16:10:26.896Z"
   },
   {
    "duration": 259419,
    "start_time": "2024-02-12T16:22:30.067Z"
   },
   {
    "duration": 30401,
    "start_time": "2024-02-12T16:30:28.663Z"
   },
   {
    "duration": 27626,
    "start_time": "2024-02-12T16:32:08.230Z"
   },
   {
    "duration": 28938,
    "start_time": "2024-02-12T16:35:15.846Z"
   },
   {
    "duration": 3,
    "start_time": "2024-02-12T16:35:58.400Z"
   },
   {
    "duration": 29296,
    "start_time": "2024-02-12T16:36:11.698Z"
   },
   {
    "duration": 29054,
    "start_time": "2024-02-12T16:37:41.074Z"
   },
   {
    "duration": 26921,
    "start_time": "2024-02-12T16:46:20.147Z"
   },
   {
    "duration": 26837,
    "start_time": "2024-02-12T16:47:05.224Z"
   },
   {
    "duration": 409814,
    "start_time": "2024-02-12T16:54:25.674Z"
   },
   {
    "duration": 89,
    "start_time": "2024-02-12T17:03:11.817Z"
   },
   {
    "duration": 18,
    "start_time": "2024-02-12T17:07:34.127Z"
   },
   {
    "duration": 4,
    "start_time": "2024-02-12T17:08:53.483Z"
   },
   {
    "duration": 1856,
    "start_time": "2024-02-12T17:08:53.489Z"
   },
   {
    "duration": 912,
    "start_time": "2024-02-12T17:08:55.348Z"
   },
   {
    "duration": 1390,
    "start_time": "2024-02-12T17:08:56.262Z"
   },
   {
    "duration": 479,
    "start_time": "2024-02-12T17:08:57.654Z"
   },
   {
    "duration": 1076,
    "start_time": "2024-02-12T17:08:58.134Z"
   },
   {
    "duration": 687,
    "start_time": "2024-02-12T17:08:59.212Z"
   },
   {
    "duration": 237,
    "start_time": "2024-02-12T17:08:59.900Z"
   },
   {
    "duration": 92,
    "start_time": "2024-02-12T17:09:00.139Z"
   },
   {
    "duration": 582,
    "start_time": "2024-02-12T17:09:00.233Z"
   },
   {
    "duration": 967,
    "start_time": "2024-02-12T17:09:00.817Z"
   },
   {
    "duration": 376,
    "start_time": "2024-02-12T17:09:01.786Z"
   },
   {
    "duration": 105,
    "start_time": "2024-02-12T17:09:02.163Z"
   },
   {
    "duration": 1374,
    "start_time": "2024-02-12T17:09:02.269Z"
   },
   {
    "duration": 1426,
    "start_time": "2024-02-12T17:09:03.645Z"
   },
   {
    "duration": 331,
    "start_time": "2024-02-12T17:09:05.072Z"
   },
   {
    "duration": 108,
    "start_time": "2024-02-12T17:09:05.405Z"
   },
   {
    "duration": 56,
    "start_time": "2024-02-12T17:09:05.515Z"
   },
   {
    "duration": 197,
    "start_time": "2024-02-12T17:09:05.573Z"
   },
   {
    "duration": 1758,
    "start_time": "2024-02-12T17:09:05.772Z"
   },
   {
    "duration": 16,
    "start_time": "2024-02-12T17:09:07.531Z"
   },
   {
    "duration": 46,
    "start_time": "2024-02-12T17:09:07.559Z"
   },
   {
    "duration": 300,
    "start_time": "2024-02-12T17:09:07.607Z"
   },
   {
    "duration": 3737,
    "start_time": "2024-02-12T17:09:07.911Z"
   },
   {
    "duration": 213,
    "start_time": "2024-02-12T17:09:11.649Z"
   },
   {
    "duration": 30,
    "start_time": "2024-02-12T17:09:11.863Z"
   },
   {
    "duration": 141,
    "start_time": "2024-02-12T17:09:11.895Z"
   },
   {
    "duration": 375,
    "start_time": "2024-02-12T17:09:12.038Z"
   },
   {
    "duration": 374,
    "start_time": "2024-02-12T17:09:12.414Z"
   },
   {
    "duration": 375,
    "start_time": "2024-02-12T17:09:12.789Z"
   },
   {
    "duration": 110,
    "start_time": "2024-02-12T17:09:13.166Z"
   },
   {
    "duration": 94,
    "start_time": "2024-02-12T17:09:13.277Z"
   },
   {
    "duration": 94,
    "start_time": "2024-02-12T17:09:13.373Z"
   },
   {
    "duration": 92,
    "start_time": "2024-02-12T17:09:13.469Z"
   },
   {
    "duration": 65,
    "start_time": "2024-02-12T17:09:13.563Z"
   },
   {
    "duration": 29,
    "start_time": "2024-02-12T17:09:13.630Z"
   },
   {
    "duration": 1023,
    "start_time": "2024-02-12T17:09:13.660Z"
   },
   {
    "duration": 0,
    "start_time": "2024-02-12T17:09:14.684Z"
   },
   {
    "duration": 0,
    "start_time": "2024-02-12T17:09:14.685Z"
   },
   {
    "duration": 0,
    "start_time": "2024-02-12T17:09:14.686Z"
   },
   {
    "duration": 0,
    "start_time": "2024-02-12T17:09:14.687Z"
   },
   {
    "duration": 0,
    "start_time": "2024-02-12T17:09:14.688Z"
   },
   {
    "duration": 0,
    "start_time": "2024-02-12T17:09:14.688Z"
   },
   {
    "duration": 0,
    "start_time": "2024-02-12T17:09:14.689Z"
   },
   {
    "duration": 0,
    "start_time": "2024-02-12T17:09:14.690Z"
   },
   {
    "duration": 0,
    "start_time": "2024-02-12T17:09:14.691Z"
   },
   {
    "duration": 0,
    "start_time": "2024-02-12T17:09:14.692Z"
   },
   {
    "duration": 0,
    "start_time": "2024-02-12T17:09:14.693Z"
   },
   {
    "duration": 3,
    "start_time": "2024-02-12T17:13:23.862Z"
   },
   {
    "duration": 44367,
    "start_time": "2024-02-12T17:14:31.665Z"
   },
   {
    "duration": 6329,
    "start_time": "2024-02-12T17:15:45.758Z"
   },
   {
    "duration": 6564,
    "start_time": "2024-02-12T17:16:20.608Z"
   },
   {
    "duration": 197,
    "start_time": "2024-02-12T17:18:18.277Z"
   },
   {
    "duration": 12,
    "start_time": "2024-02-12T17:35:19.777Z"
   },
   {
    "duration": 4,
    "start_time": "2024-02-12T17:35:38.988Z"
   },
   {
    "duration": 14,
    "start_time": "2024-02-12T17:35:47.460Z"
   },
   {
    "duration": 3,
    "start_time": "2024-02-12T17:35:52.136Z"
   },
   {
    "duration": 1128,
    "start_time": "2024-02-12T17:35:53.796Z"
   },
   {
    "duration": 4,
    "start_time": "2024-02-12T17:38:00.150Z"
   },
   {
    "duration": 2100,
    "start_time": "2024-02-12T17:38:00.155Z"
   },
   {
    "duration": 882,
    "start_time": "2024-02-12T17:38:02.256Z"
   },
   {
    "duration": 1309,
    "start_time": "2024-02-12T17:38:03.140Z"
   },
   {
    "duration": 450,
    "start_time": "2024-02-12T17:38:04.450Z"
   },
   {
    "duration": 1075,
    "start_time": "2024-02-12T17:38:04.902Z"
   },
   {
    "duration": 649,
    "start_time": "2024-02-12T17:38:05.978Z"
   },
   {
    "duration": 219,
    "start_time": "2024-02-12T17:38:06.628Z"
   },
   {
    "duration": 86,
    "start_time": "2024-02-12T17:38:06.849Z"
   },
   {
    "duration": 581,
    "start_time": "2024-02-12T17:38:06.937Z"
   },
   {
    "duration": 929,
    "start_time": "2024-02-12T17:38:07.520Z"
   },
   {
    "duration": 323,
    "start_time": "2024-02-12T17:38:08.458Z"
   },
   {
    "duration": 101,
    "start_time": "2024-02-12T17:38:08.783Z"
   },
   {
    "duration": 1349,
    "start_time": "2024-02-12T17:38:08.886Z"
   },
   {
    "duration": 1409,
    "start_time": "2024-02-12T17:38:10.258Z"
   },
   {
    "duration": 340,
    "start_time": "2024-02-12T17:38:11.668Z"
   },
   {
    "duration": 90,
    "start_time": "2024-02-12T17:38:12.010Z"
   },
   {
    "duration": 58,
    "start_time": "2024-02-12T17:38:12.102Z"
   },
   {
    "duration": 183,
    "start_time": "2024-02-12T17:38:12.161Z"
   },
   {
    "duration": 1717,
    "start_time": "2024-02-12T17:38:12.346Z"
   },
   {
    "duration": 15,
    "start_time": "2024-02-12T17:38:14.065Z"
   },
   {
    "duration": 45,
    "start_time": "2024-02-12T17:38:14.081Z"
   },
   {
    "duration": 319,
    "start_time": "2024-02-12T17:38:14.128Z"
   },
   {
    "duration": 3614,
    "start_time": "2024-02-12T17:38:14.450Z"
   },
   {
    "duration": 196,
    "start_time": "2024-02-12T17:38:18.066Z"
   },
   {
    "duration": 29,
    "start_time": "2024-02-12T17:38:18.263Z"
   },
   {
    "duration": 124,
    "start_time": "2024-02-12T17:38:18.293Z"
   },
   {
    "duration": 364,
    "start_time": "2024-02-12T17:38:18.419Z"
   },
   {
    "duration": 365,
    "start_time": "2024-02-12T17:38:18.785Z"
   },
   {
    "duration": 390,
    "start_time": "2024-02-12T17:38:19.152Z"
   },
   {
    "duration": 107,
    "start_time": "2024-02-12T17:38:19.544Z"
   },
   {
    "duration": 93,
    "start_time": "2024-02-12T17:38:19.652Z"
   },
   {
    "duration": 90,
    "start_time": "2024-02-12T17:38:19.747Z"
   },
   {
    "duration": 99,
    "start_time": "2024-02-12T17:38:19.838Z"
   },
   {
    "duration": 78,
    "start_time": "2024-02-12T17:38:19.939Z"
   },
   {
    "duration": 12,
    "start_time": "2024-02-12T17:38:20.019Z"
   },
   {
    "duration": 5,
    "start_time": "2024-02-12T17:38:20.033Z"
   },
   {
    "duration": 43975,
    "start_time": "2024-02-12T17:38:20.041Z"
   },
   {
    "duration": 6333,
    "start_time": "2024-02-12T17:39:04.017Z"
   },
   {
    "duration": 6212,
    "start_time": "2024-02-12T17:39:10.351Z"
   },
   {
    "duration": 206,
    "start_time": "2024-02-12T17:39:16.565Z"
   },
   {
    "duration": 2,
    "start_time": "2024-02-12T17:39:16.773Z"
   },
   {
    "duration": 1050,
    "start_time": "2024-02-12T17:39:16.776Z"
   },
   {
    "duration": 127,
    "start_time": "2024-02-12T17:39:17.827Z"
   },
   {
    "duration": 1,
    "start_time": "2024-02-12T17:39:17.958Z"
   },
   {
    "duration": 0,
    "start_time": "2024-02-12T17:39:17.960Z"
   },
   {
    "duration": 0,
    "start_time": "2024-02-12T17:39:17.961Z"
   },
   {
    "duration": 0,
    "start_time": "2024-02-12T17:39:17.962Z"
   },
   {
    "duration": 0,
    "start_time": "2024-02-12T17:39:17.963Z"
   },
   {
    "duration": 0,
    "start_time": "2024-02-12T17:39:17.964Z"
   },
   {
    "duration": 0,
    "start_time": "2024-02-12T17:39:17.966Z"
   },
   {
    "duration": 0,
    "start_time": "2024-02-12T17:39:17.967Z"
   },
   {
    "duration": 3,
    "start_time": "2024-02-12T18:24:01.472Z"
   },
   {
    "duration": 2008,
    "start_time": "2024-02-12T18:24:01.478Z"
   },
   {
    "duration": 900,
    "start_time": "2024-02-12T18:24:03.488Z"
   },
   {
    "duration": 1381,
    "start_time": "2024-02-12T18:24:04.390Z"
   },
   {
    "duration": 510,
    "start_time": "2024-02-12T18:24:05.774Z"
   },
   {
    "duration": 1113,
    "start_time": "2024-02-12T18:24:06.285Z"
   },
   {
    "duration": 639,
    "start_time": "2024-02-12T18:24:07.399Z"
   },
   {
    "duration": 211,
    "start_time": "2024-02-12T18:24:08.040Z"
   },
   {
    "duration": 87,
    "start_time": "2024-02-12T18:24:08.286Z"
   },
   {
    "duration": 584,
    "start_time": "2024-02-12T18:24:08.375Z"
   },
   {
    "duration": 933,
    "start_time": "2024-02-12T18:24:08.961Z"
   },
   {
    "duration": 332,
    "start_time": "2024-02-12T18:24:09.895Z"
   },
   {
    "duration": 99,
    "start_time": "2024-02-12T18:24:10.229Z"
   },
   {
    "duration": 1244,
    "start_time": "2024-02-12T18:24:10.330Z"
   },
   {
    "duration": 1355,
    "start_time": "2024-02-12T18:24:11.576Z"
   },
   {
    "duration": 327,
    "start_time": "2024-02-12T18:24:12.932Z"
   },
   {
    "duration": 87,
    "start_time": "2024-02-12T18:24:13.260Z"
   },
   {
    "duration": 47,
    "start_time": "2024-02-12T18:24:13.358Z"
   },
   {
    "duration": 195,
    "start_time": "2024-02-12T18:24:13.406Z"
   },
   {
    "duration": 1726,
    "start_time": "2024-02-12T18:24:13.603Z"
   },
   {
    "duration": 16,
    "start_time": "2024-02-12T18:24:15.330Z"
   },
   {
    "duration": 51,
    "start_time": "2024-02-12T18:24:15.348Z"
   },
   {
    "duration": 321,
    "start_time": "2024-02-12T18:24:15.400Z"
   },
   {
    "duration": 3565,
    "start_time": "2024-02-12T18:24:15.724Z"
   },
   {
    "duration": 204,
    "start_time": "2024-02-12T18:24:19.291Z"
   },
   {
    "duration": 32,
    "start_time": "2024-02-12T18:24:19.497Z"
   },
   {
    "duration": 118,
    "start_time": "2024-02-12T18:24:19.531Z"
   },
   {
    "duration": 383,
    "start_time": "2024-02-12T18:24:19.658Z"
   },
   {
    "duration": 378,
    "start_time": "2024-02-12T18:24:20.043Z"
   },
   {
    "duration": 367,
    "start_time": "2024-02-12T18:24:20.423Z"
   },
   {
    "duration": 112,
    "start_time": "2024-02-12T18:24:20.791Z"
   },
   {
    "duration": 96,
    "start_time": "2024-02-12T18:24:20.904Z"
   },
   {
    "duration": 87,
    "start_time": "2024-02-12T18:24:21.001Z"
   },
   {
    "duration": 110,
    "start_time": "2024-02-12T18:24:21.090Z"
   },
   {
    "duration": 79,
    "start_time": "2024-02-12T18:24:21.202Z"
   },
   {
    "duration": 15,
    "start_time": "2024-02-12T18:24:21.283Z"
   },
   {
    "duration": 40,
    "start_time": "2024-02-12T18:24:21.300Z"
   },
   {
    "duration": 161,
    "start_time": "2024-02-12T18:24:21.341Z"
   },
   {
    "duration": 0,
    "start_time": "2024-02-12T18:24:21.504Z"
   },
   {
    "duration": 0,
    "start_time": "2024-02-12T18:24:21.505Z"
   },
   {
    "duration": 0,
    "start_time": "2024-02-12T18:24:21.506Z"
   },
   {
    "duration": 0,
    "start_time": "2024-02-12T18:24:21.507Z"
   },
   {
    "duration": 0,
    "start_time": "2024-02-12T18:24:21.508Z"
   },
   {
    "duration": 0,
    "start_time": "2024-02-12T18:24:21.510Z"
   },
   {
    "duration": 0,
    "start_time": "2024-02-12T18:24:21.511Z"
   },
   {
    "duration": 0,
    "start_time": "2024-02-12T18:24:21.512Z"
   },
   {
    "duration": 0,
    "start_time": "2024-02-12T18:24:21.514Z"
   },
   {
    "duration": 0,
    "start_time": "2024-02-12T18:24:21.515Z"
   },
   {
    "duration": 0,
    "start_time": "2024-02-12T18:24:21.517Z"
   },
   {
    "duration": 0,
    "start_time": "2024-02-12T18:24:21.518Z"
   },
   {
    "duration": 0,
    "start_time": "2024-02-12T18:24:21.519Z"
   },
   {
    "duration": 0,
    "start_time": "2024-02-12T18:24:21.520Z"
   },
   {
    "duration": 2,
    "start_time": "2024-02-12T18:24:39.200Z"
   },
   {
    "duration": 479,
    "start_time": "2024-02-12T18:24:40.628Z"
   },
   {
    "duration": 4,
    "start_time": "2024-02-12T18:31:19.451Z"
   },
   {
    "duration": 1871,
    "start_time": "2024-02-12T18:31:19.456Z"
   },
   {
    "duration": 865,
    "start_time": "2024-02-12T18:31:21.329Z"
   },
   {
    "duration": 1348,
    "start_time": "2024-02-12T18:31:22.195Z"
   },
   {
    "duration": 451,
    "start_time": "2024-02-12T18:31:23.544Z"
   },
   {
    "duration": 1058,
    "start_time": "2024-02-12T18:31:23.997Z"
   },
   {
    "duration": 681,
    "start_time": "2024-02-12T18:31:25.057Z"
   },
   {
    "duration": 203,
    "start_time": "2024-02-12T18:31:25.739Z"
   },
   {
    "duration": 87,
    "start_time": "2024-02-12T18:31:25.973Z"
   },
   {
    "duration": 587,
    "start_time": "2024-02-12T18:31:26.061Z"
   },
   {
    "duration": 922,
    "start_time": "2024-02-12T18:31:26.650Z"
   },
   {
    "duration": 326,
    "start_time": "2024-02-12T18:31:27.573Z"
   },
   {
    "duration": 101,
    "start_time": "2024-02-12T18:31:27.900Z"
   },
   {
    "duration": 1224,
    "start_time": "2024-02-12T18:31:28.003Z"
   },
   {
    "duration": 1389,
    "start_time": "2024-02-12T18:31:29.228Z"
   },
   {
    "duration": 317,
    "start_time": "2024-02-12T18:31:30.618Z"
   },
   {
    "duration": 90,
    "start_time": "2024-02-12T18:31:30.936Z"
   },
   {
    "duration": 65,
    "start_time": "2024-02-12T18:31:31.028Z"
   },
   {
    "duration": 233,
    "start_time": "2024-02-12T18:31:31.096Z"
   },
   {
    "duration": 1653,
    "start_time": "2024-02-12T18:31:31.331Z"
   },
   {
    "duration": 17,
    "start_time": "2024-02-12T18:31:32.986Z"
   },
   {
    "duration": 69,
    "start_time": "2024-02-12T18:31:33.004Z"
   },
   {
    "duration": 294,
    "start_time": "2024-02-12T18:31:33.074Z"
   },
   {
    "duration": 3633,
    "start_time": "2024-02-12T18:31:33.371Z"
   },
   {
    "duration": 203,
    "start_time": "2024-02-12T18:31:37.006Z"
   },
   {
    "duration": 60,
    "start_time": "2024-02-12T18:31:37.211Z"
   },
   {
    "duration": 138,
    "start_time": "2024-02-12T18:31:37.273Z"
   },
   {
    "duration": 390,
    "start_time": "2024-02-12T18:31:37.413Z"
   },
   {
    "duration": 369,
    "start_time": "2024-02-12T18:31:37.805Z"
   },
   {
    "duration": 364,
    "start_time": "2024-02-12T18:31:38.175Z"
   },
   {
    "duration": 103,
    "start_time": "2024-02-12T18:31:38.551Z"
   },
   {
    "duration": 89,
    "start_time": "2024-02-12T18:31:38.656Z"
   },
   {
    "duration": 87,
    "start_time": "2024-02-12T18:31:38.758Z"
   },
   {
    "duration": 93,
    "start_time": "2024-02-12T18:31:38.847Z"
   },
   {
    "duration": 75,
    "start_time": "2024-02-12T18:31:38.942Z"
   },
   {
    "duration": 11,
    "start_time": "2024-02-12T18:31:39.019Z"
   },
   {
    "duration": 3,
    "start_time": "2024-02-12T18:31:39.032Z"
   },
   {
    "duration": 145,
    "start_time": "2024-02-12T18:31:39.036Z"
   },
   {
    "duration": 0,
    "start_time": "2024-02-12T18:31:39.183Z"
   },
   {
    "duration": 0,
    "start_time": "2024-02-12T18:31:39.184Z"
   },
   {
    "duration": 0,
    "start_time": "2024-02-12T18:31:39.185Z"
   },
   {
    "duration": 0,
    "start_time": "2024-02-12T18:31:39.186Z"
   },
   {
    "duration": 0,
    "start_time": "2024-02-12T18:31:39.187Z"
   },
   {
    "duration": 0,
    "start_time": "2024-02-12T18:31:39.188Z"
   },
   {
    "duration": 0,
    "start_time": "2024-02-12T18:31:39.189Z"
   },
   {
    "duration": 0,
    "start_time": "2024-02-12T18:31:39.190Z"
   },
   {
    "duration": 0,
    "start_time": "2024-02-12T18:31:39.191Z"
   },
   {
    "duration": 0,
    "start_time": "2024-02-12T18:31:39.192Z"
   },
   {
    "duration": 0,
    "start_time": "2024-02-12T18:31:39.193Z"
   },
   {
    "duration": 0,
    "start_time": "2024-02-12T18:31:39.194Z"
   },
   {
    "duration": 0,
    "start_time": "2024-02-12T18:31:39.195Z"
   },
   {
    "duration": 0,
    "start_time": "2024-02-12T18:31:39.196Z"
   },
   {
    "duration": 3,
    "start_time": "2024-02-12T18:32:01.721Z"
   },
   {
    "duration": 465,
    "start_time": "2024-02-12T18:32:03.808Z"
   },
   {
    "duration": 3,
    "start_time": "2024-02-12T18:34:40.674Z"
   },
   {
    "duration": 4,
    "start_time": "2024-02-12T18:34:41.339Z"
   },
   {
    "duration": 4,
    "start_time": "2024-02-12T18:36:03.310Z"
   },
   {
    "duration": 4,
    "start_time": "2024-02-12T18:36:13.240Z"
   },
   {
    "duration": 4,
    "start_time": "2024-02-12T18:36:36.152Z"
   },
   {
    "duration": 4,
    "start_time": "2024-02-12T18:39:41.057Z"
   },
   {
    "duration": 3158,
    "start_time": "2024-02-12T18:39:41.063Z"
   },
   {
    "duration": 877,
    "start_time": "2024-02-12T18:39:44.222Z"
   },
   {
    "duration": 1340,
    "start_time": "2024-02-12T18:39:45.101Z"
   },
   {
    "duration": 484,
    "start_time": "2024-02-12T18:39:46.443Z"
   },
   {
    "duration": 1087,
    "start_time": "2024-02-12T18:39:46.928Z"
   },
   {
    "duration": 672,
    "start_time": "2024-02-12T18:39:48.017Z"
   },
   {
    "duration": 236,
    "start_time": "2024-02-12T18:39:48.691Z"
   },
   {
    "duration": 87,
    "start_time": "2024-02-12T18:39:48.929Z"
   },
   {
    "duration": 622,
    "start_time": "2024-02-12T18:39:49.018Z"
   },
   {
    "duration": 958,
    "start_time": "2024-02-12T18:39:49.642Z"
   },
   {
    "duration": 339,
    "start_time": "2024-02-12T18:39:50.602Z"
   },
   {
    "duration": 104,
    "start_time": "2024-02-12T18:39:50.943Z"
   },
   {
    "duration": 1280,
    "start_time": "2024-02-12T18:39:51.049Z"
   },
   {
    "duration": 1375,
    "start_time": "2024-02-12T18:39:52.330Z"
   },
   {
    "duration": 304,
    "start_time": "2024-02-12T18:39:53.707Z"
   },
   {
    "duration": 88,
    "start_time": "2024-02-12T18:39:54.013Z"
   },
   {
    "duration": 64,
    "start_time": "2024-02-12T18:39:54.102Z"
   },
   {
    "duration": 193,
    "start_time": "2024-02-12T18:39:54.168Z"
   },
   {
    "duration": 1798,
    "start_time": "2024-02-12T18:39:54.363Z"
   },
   {
    "duration": 20,
    "start_time": "2024-02-12T18:39:56.163Z"
   },
   {
    "duration": 43,
    "start_time": "2024-02-12T18:39:56.185Z"
   },
   {
    "duration": 314,
    "start_time": "2024-02-12T18:39:56.230Z"
   },
   {
    "duration": 3765,
    "start_time": "2024-02-12T18:39:56.549Z"
   },
   {
    "duration": 203,
    "start_time": "2024-02-12T18:40:00.316Z"
   },
   {
    "duration": 39,
    "start_time": "2024-02-12T18:40:00.520Z"
   },
   {
    "duration": 116,
    "start_time": "2024-02-12T18:40:00.560Z"
   },
   {
    "duration": 382,
    "start_time": "2024-02-12T18:40:00.678Z"
   },
   {
    "duration": 375,
    "start_time": "2024-02-12T18:40:01.062Z"
   },
   {
    "duration": 396,
    "start_time": "2024-02-12T18:40:01.439Z"
   },
   {
    "duration": 112,
    "start_time": "2024-02-12T18:40:01.837Z"
   },
   {
    "duration": 116,
    "start_time": "2024-02-12T18:40:01.950Z"
   },
   {
    "duration": 105,
    "start_time": "2024-02-12T18:40:02.068Z"
   },
   {
    "duration": 90,
    "start_time": "2024-02-12T18:40:02.175Z"
   },
   {
    "duration": 62,
    "start_time": "2024-02-12T18:40:02.266Z"
   },
   {
    "duration": 11,
    "start_time": "2024-02-12T18:40:02.330Z"
   },
   {
    "duration": 12,
    "start_time": "2024-02-12T18:40:02.359Z"
   },
   {
    "duration": 25,
    "start_time": "2024-02-12T18:40:02.373Z"
   },
   {
    "duration": 13,
    "start_time": "2024-02-12T18:40:02.400Z"
   },
   {
    "duration": 125,
    "start_time": "2024-02-12T18:40:02.415Z"
   },
   {
    "duration": 0,
    "start_time": "2024-02-12T18:40:02.542Z"
   },
   {
    "duration": 0,
    "start_time": "2024-02-12T18:40:02.543Z"
   },
   {
    "duration": 0,
    "start_time": "2024-02-12T18:40:02.544Z"
   },
   {
    "duration": 0,
    "start_time": "2024-02-12T18:40:02.545Z"
   },
   {
    "duration": 0,
    "start_time": "2024-02-12T18:40:02.546Z"
   },
   {
    "duration": 0,
    "start_time": "2024-02-12T18:40:02.547Z"
   },
   {
    "duration": 0,
    "start_time": "2024-02-12T18:40:02.548Z"
   },
   {
    "duration": 0,
    "start_time": "2024-02-12T18:40:02.558Z"
   },
   {
    "duration": 0,
    "start_time": "2024-02-12T18:40:02.559Z"
   },
   {
    "duration": 0,
    "start_time": "2024-02-12T18:40:02.560Z"
   },
   {
    "duration": 0,
    "start_time": "2024-02-12T18:40:02.561Z"
   },
   {
    "duration": 0,
    "start_time": "2024-02-12T18:40:02.562Z"
   },
   {
    "duration": 0,
    "start_time": "2024-02-12T18:40:02.563Z"
   },
   {
    "duration": 0,
    "start_time": "2024-02-12T18:40:02.564Z"
   },
   {
    "duration": 4,
    "start_time": "2024-02-12T18:41:18.776Z"
   },
   {
    "duration": 11,
    "start_time": "2024-02-12T18:41:32.550Z"
   },
   {
    "duration": 43279,
    "start_time": "2024-02-12T18:41:37.955Z"
   },
   {
    "duration": 5670,
    "start_time": "2024-02-12T18:42:24.819Z"
   },
   {
    "duration": 5934,
    "start_time": "2024-02-12T18:42:30.492Z"
   },
   {
    "duration": 161,
    "start_time": "2024-02-12T18:42:40.251Z"
   },
   {
    "duration": 463,
    "start_time": "2024-02-12T18:42:43.943Z"
   },
   {
    "duration": 4,
    "start_time": "2024-02-12T18:45:19.778Z"
   },
   {
    "duration": 1895,
    "start_time": "2024-02-12T18:45:19.783Z"
   },
   {
    "duration": 878,
    "start_time": "2024-02-12T18:45:21.680Z"
   },
   {
    "duration": 1343,
    "start_time": "2024-02-12T18:45:22.560Z"
   },
   {
    "duration": 475,
    "start_time": "2024-02-12T18:45:23.905Z"
   },
   {
    "duration": 1054,
    "start_time": "2024-02-12T18:45:24.382Z"
   },
   {
    "duration": 684,
    "start_time": "2024-02-12T18:45:25.437Z"
   },
   {
    "duration": 284,
    "start_time": "2024-02-12T18:45:26.123Z"
   },
   {
    "duration": 95,
    "start_time": "2024-02-12T18:45:26.410Z"
   },
   {
    "duration": 593,
    "start_time": "2024-02-12T18:45:26.506Z"
   },
   {
    "duration": 932,
    "start_time": "2024-02-12T18:45:27.101Z"
   },
   {
    "duration": 348,
    "start_time": "2024-02-12T18:45:28.035Z"
   },
   {
    "duration": 110,
    "start_time": "2024-02-12T18:45:28.386Z"
   },
   {
    "duration": 1325,
    "start_time": "2024-02-12T18:45:28.498Z"
   },
   {
    "duration": 1404,
    "start_time": "2024-02-12T18:45:29.824Z"
   },
   {
    "duration": 336,
    "start_time": "2024-02-12T18:45:31.230Z"
   },
   {
    "duration": 95,
    "start_time": "2024-02-12T18:45:31.567Z"
   },
   {
    "duration": 46,
    "start_time": "2024-02-12T18:45:31.663Z"
   },
   {
    "duration": 208,
    "start_time": "2024-02-12T18:45:31.711Z"
   },
   {
    "duration": 1770,
    "start_time": "2024-02-12T18:45:31.922Z"
   },
   {
    "duration": 16,
    "start_time": "2024-02-12T18:45:33.694Z"
   },
   {
    "duration": 82,
    "start_time": "2024-02-12T18:45:33.711Z"
   },
   {
    "duration": 293,
    "start_time": "2024-02-12T18:45:33.795Z"
   },
   {
    "duration": 3698,
    "start_time": "2024-02-12T18:45:34.092Z"
   },
   {
    "duration": 203,
    "start_time": "2024-02-12T18:45:37.792Z"
   },
   {
    "duration": 43,
    "start_time": "2024-02-12T18:45:37.997Z"
   },
   {
    "duration": 205,
    "start_time": "2024-02-12T18:45:38.042Z"
   },
   {
    "duration": 366,
    "start_time": "2024-02-12T18:45:38.249Z"
   },
   {
    "duration": 383,
    "start_time": "2024-02-12T18:45:38.616Z"
   },
   {
    "duration": 395,
    "start_time": "2024-02-12T18:45:39.001Z"
   },
   {
    "duration": 127,
    "start_time": "2024-02-12T18:45:39.398Z"
   },
   {
    "duration": 107,
    "start_time": "2024-02-12T18:45:39.527Z"
   },
   {
    "duration": 92,
    "start_time": "2024-02-12T18:45:39.636Z"
   },
   {
    "duration": 83,
    "start_time": "2024-02-12T18:45:39.730Z"
   },
   {
    "duration": 67,
    "start_time": "2024-02-12T18:45:39.814Z"
   },
   {
    "duration": 12,
    "start_time": "2024-02-12T18:45:39.882Z"
   },
   {
    "duration": 4,
    "start_time": "2024-02-12T18:45:39.895Z"
   },
   {
    "duration": 6,
    "start_time": "2024-02-12T18:45:39.900Z"
   },
   {
    "duration": 43652,
    "start_time": "2024-02-12T18:45:39.908Z"
   },
   {
    "duration": 5794,
    "start_time": "2024-02-12T18:46:23.561Z"
   },
   {
    "duration": 6184,
    "start_time": "2024-02-12T18:46:29.356Z"
   },
   {
    "duration": 181,
    "start_time": "2024-02-12T18:46:35.542Z"
   },
   {
    "duration": 133,
    "start_time": "2024-02-12T18:46:35.724Z"
   },
   {
    "duration": 0,
    "start_time": "2024-02-12T18:46:35.858Z"
   },
   {
    "duration": 0,
    "start_time": "2024-02-12T18:46:35.860Z"
   },
   {
    "duration": 0,
    "start_time": "2024-02-12T18:46:35.861Z"
   },
   {
    "duration": 0,
    "start_time": "2024-02-12T18:46:35.862Z"
   },
   {
    "duration": 0,
    "start_time": "2024-02-12T18:46:35.864Z"
   },
   {
    "duration": 0,
    "start_time": "2024-02-12T18:46:35.865Z"
   },
   {
    "duration": 0,
    "start_time": "2024-02-12T18:46:35.866Z"
   },
   {
    "duration": 0,
    "start_time": "2024-02-12T18:46:35.867Z"
   },
   {
    "duration": 0,
    "start_time": "2024-02-12T18:46:35.868Z"
   },
   {
    "duration": 0,
    "start_time": "2024-02-12T18:46:35.870Z"
   },
   {
    "duration": 0,
    "start_time": "2024-02-12T18:46:35.871Z"
   },
   {
    "duration": 5,
    "start_time": "2024-02-12T18:47:04.739Z"
   },
   {
    "duration": 3,
    "start_time": "2024-02-12T18:47:12.061Z"
   },
   {
    "duration": 3,
    "start_time": "2024-02-12T18:47:27.896Z"
   },
   {
    "duration": 45,
    "start_time": "2024-02-12T18:47:30.996Z"
   },
   {
    "duration": 19,
    "start_time": "2024-02-12T18:48:19.944Z"
   },
   {
    "duration": 18,
    "start_time": "2024-02-12T18:51:09.698Z"
   },
   {
    "duration": 16,
    "start_time": "2024-02-12T18:55:05.220Z"
   },
   {
    "duration": 55,
    "start_time": "2024-02-12T18:55:33.299Z"
   },
   {
    "duration": 13,
    "start_time": "2024-02-12T18:55:36.149Z"
   },
   {
    "duration": 149,
    "start_time": "2024-02-12T18:56:00.986Z"
   },
   {
    "duration": 227,
    "start_time": "2024-02-12T18:56:57.702Z"
   },
   {
    "duration": 5,
    "start_time": "2024-02-12T18:57:26.016Z"
   },
   {
    "duration": 4,
    "start_time": "2024-02-12T19:02:55.363Z"
   },
   {
    "duration": 1871,
    "start_time": "2024-02-12T19:02:55.368Z"
   },
   {
    "duration": 888,
    "start_time": "2024-02-12T19:02:57.241Z"
   },
   {
    "duration": 1362,
    "start_time": "2024-02-12T19:02:58.131Z"
   },
   {
    "duration": 492,
    "start_time": "2024-02-12T19:02:59.499Z"
   },
   {
    "duration": 1136,
    "start_time": "2024-02-12T19:02:59.993Z"
   },
   {
    "duration": 743,
    "start_time": "2024-02-12T19:03:01.131Z"
   },
   {
    "duration": 256,
    "start_time": "2024-02-12T19:03:01.875Z"
   },
   {
    "duration": 97,
    "start_time": "2024-02-12T19:03:02.132Z"
   },
   {
    "duration": 586,
    "start_time": "2024-02-12T19:03:02.231Z"
   },
   {
    "duration": 973,
    "start_time": "2024-02-12T19:03:02.820Z"
   },
   {
    "duration": 328,
    "start_time": "2024-02-12T19:03:03.795Z"
   },
   {
    "duration": 99,
    "start_time": "2024-02-12T19:03:04.125Z"
   },
   {
    "duration": 1262,
    "start_time": "2024-02-12T19:03:04.226Z"
   },
   {
    "duration": 1422,
    "start_time": "2024-02-12T19:03:05.490Z"
   },
   {
    "duration": 337,
    "start_time": "2024-02-12T19:03:06.914Z"
   },
   {
    "duration": 83,
    "start_time": "2024-02-12T19:03:07.258Z"
   },
   {
    "duration": 59,
    "start_time": "2024-02-12T19:03:07.343Z"
   },
   {
    "duration": 202,
    "start_time": "2024-02-12T19:03:07.403Z"
   },
   {
    "duration": 1780,
    "start_time": "2024-02-12T19:03:07.607Z"
   },
   {
    "duration": 16,
    "start_time": "2024-02-12T19:03:09.389Z"
   },
   {
    "duration": 62,
    "start_time": "2024-02-12T19:03:09.407Z"
   },
   {
    "duration": 319,
    "start_time": "2024-02-12T19:03:09.472Z"
   },
   {
    "duration": 3681,
    "start_time": "2024-02-12T19:03:09.793Z"
   },
   {
    "duration": 203,
    "start_time": "2024-02-12T19:03:13.476Z"
   },
   {
    "duration": 31,
    "start_time": "2024-02-12T19:03:13.680Z"
   },
   {
    "duration": 122,
    "start_time": "2024-02-12T19:03:13.713Z"
   },
   {
    "duration": 359,
    "start_time": "2024-02-12T19:03:13.837Z"
   },
   {
    "duration": 370,
    "start_time": "2024-02-12T19:03:14.200Z"
   },
   {
    "duration": 357,
    "start_time": "2024-02-12T19:03:14.572Z"
   },
   {
    "duration": 114,
    "start_time": "2024-02-12T19:03:14.931Z"
   },
   {
    "duration": 97,
    "start_time": "2024-02-12T19:03:15.046Z"
   },
   {
    "duration": 87,
    "start_time": "2024-02-12T19:03:15.145Z"
   },
   {
    "duration": 85,
    "start_time": "2024-02-12T19:03:15.234Z"
   },
   {
    "duration": 61,
    "start_time": "2024-02-12T19:03:15.321Z"
   },
   {
    "duration": 11,
    "start_time": "2024-02-12T19:03:15.383Z"
   },
   {
    "duration": 27,
    "start_time": "2024-02-12T19:03:15.395Z"
   },
   {
    "duration": 11,
    "start_time": "2024-02-12T19:03:15.424Z"
   },
   {
    "duration": 476,
    "start_time": "2024-02-12T19:03:15.436Z"
   },
   {
    "duration": 136,
    "start_time": "2024-02-12T19:03:15.914Z"
   },
   {
    "duration": 0,
    "start_time": "2024-02-12T19:03:16.051Z"
   },
   {
    "duration": 0,
    "start_time": "2024-02-12T19:03:16.058Z"
   },
   {
    "duration": 0,
    "start_time": "2024-02-12T19:03:16.059Z"
   },
   {
    "duration": 0,
    "start_time": "2024-02-12T19:03:16.061Z"
   },
   {
    "duration": 0,
    "start_time": "2024-02-12T19:03:16.062Z"
   },
   {
    "duration": 0,
    "start_time": "2024-02-12T19:03:16.063Z"
   },
   {
    "duration": 0,
    "start_time": "2024-02-12T19:03:16.065Z"
   },
   {
    "duration": 0,
    "start_time": "2024-02-12T19:03:16.066Z"
   },
   {
    "duration": 0,
    "start_time": "2024-02-12T19:03:16.068Z"
   },
   {
    "duration": 0,
    "start_time": "2024-02-12T19:03:16.069Z"
   },
   {
    "duration": 0,
    "start_time": "2024-02-12T19:03:16.070Z"
   },
   {
    "duration": 0,
    "start_time": "2024-02-12T19:03:16.071Z"
   },
   {
    "duration": 1,
    "start_time": "2024-02-12T19:03:16.072Z"
   },
   {
    "duration": 0,
    "start_time": "2024-02-12T19:03:16.074Z"
   },
   {
    "duration": 0,
    "start_time": "2024-02-12T19:03:16.075Z"
   },
   {
    "duration": 0,
    "start_time": "2024-02-12T19:03:16.076Z"
   },
   {
    "duration": 0,
    "start_time": "2024-02-12T19:03:16.078Z"
   },
   {
    "duration": 42638,
    "start_time": "2024-02-12T19:03:28.755Z"
   },
   {
    "duration": 252,
    "start_time": "2024-02-12T19:05:27.307Z"
   },
   {
    "duration": 4,
    "start_time": "2024-02-12T19:06:47.067Z"
   },
   {
    "duration": 4,
    "start_time": "2024-02-12T19:08:05.319Z"
   },
   {
    "duration": 1883,
    "start_time": "2024-02-12T19:08:05.325Z"
   },
   {
    "duration": 849,
    "start_time": "2024-02-12T19:08:07.209Z"
   },
   {
    "duration": 1274,
    "start_time": "2024-02-12T19:08:08.060Z"
   },
   {
    "duration": 468,
    "start_time": "2024-02-12T19:08:09.336Z"
   },
   {
    "duration": 1084,
    "start_time": "2024-02-12T19:08:09.805Z"
   },
   {
    "duration": 681,
    "start_time": "2024-02-12T19:08:10.891Z"
   },
   {
    "duration": 202,
    "start_time": "2024-02-12T19:08:11.574Z"
   },
   {
    "duration": 84,
    "start_time": "2024-02-12T19:08:11.796Z"
   },
   {
    "duration": 576,
    "start_time": "2024-02-12T19:08:11.881Z"
   },
   {
    "duration": 890,
    "start_time": "2024-02-12T19:08:12.458Z"
   },
   {
    "duration": 364,
    "start_time": "2024-02-12T19:08:13.350Z"
   },
   {
    "duration": 99,
    "start_time": "2024-02-12T19:08:13.716Z"
   },
   {
    "duration": 1255,
    "start_time": "2024-02-12T19:08:13.817Z"
   },
   {
    "duration": 1379,
    "start_time": "2024-02-12T19:08:15.074Z"
   },
   {
    "duration": 302,
    "start_time": "2024-02-12T19:08:16.458Z"
   },
   {
    "duration": 81,
    "start_time": "2024-02-12T19:08:16.762Z"
   },
   {
    "duration": 56,
    "start_time": "2024-02-12T19:08:16.845Z"
   },
   {
    "duration": 187,
    "start_time": "2024-02-12T19:08:16.902Z"
   },
   {
    "duration": 1697,
    "start_time": "2024-02-12T19:08:17.090Z"
   },
   {
    "duration": 15,
    "start_time": "2024-02-12T19:08:18.789Z"
   },
   {
    "duration": 56,
    "start_time": "2024-02-12T19:08:18.805Z"
   },
   {
    "duration": 276,
    "start_time": "2024-02-12T19:08:18.863Z"
   },
   {
    "duration": 3594,
    "start_time": "2024-02-12T19:08:19.141Z"
   },
   {
    "duration": 193,
    "start_time": "2024-02-12T19:08:22.736Z"
   },
   {
    "duration": 37,
    "start_time": "2024-02-12T19:08:22.931Z"
   },
   {
    "duration": 116,
    "start_time": "2024-02-12T19:08:22.969Z"
   },
   {
    "duration": 396,
    "start_time": "2024-02-12T19:08:23.087Z"
   },
   {
    "duration": 361,
    "start_time": "2024-02-12T19:08:23.484Z"
   },
   {
    "duration": 351,
    "start_time": "2024-02-12T19:08:23.846Z"
   },
   {
    "duration": 103,
    "start_time": "2024-02-12T19:08:24.199Z"
   },
   {
    "duration": 91,
    "start_time": "2024-02-12T19:08:24.303Z"
   },
   {
    "duration": 109,
    "start_time": "2024-02-12T19:08:24.395Z"
   },
   {
    "duration": 80,
    "start_time": "2024-02-12T19:08:24.505Z"
   },
   {
    "duration": 61,
    "start_time": "2024-02-12T19:08:24.587Z"
   },
   {
    "duration": 10,
    "start_time": "2024-02-12T19:08:24.659Z"
   },
   {
    "duration": 53,
    "start_time": "2024-02-12T19:08:24.673Z"
   },
   {
    "duration": 34,
    "start_time": "2024-02-12T19:08:24.727Z"
   },
   {
    "duration": 423,
    "start_time": "2024-02-12T19:08:24.762Z"
   },
   {
    "duration": 13,
    "start_time": "2024-02-12T19:08:25.186Z"
   },
   {
    "duration": 41884,
    "start_time": "2024-02-12T19:08:25.200Z"
   },
   {
    "duration": 234,
    "start_time": "2024-02-12T19:09:07.085Z"
   },
   {
    "duration": 163,
    "start_time": "2024-02-12T19:09:07.321Z"
   },
   {
    "duration": 0,
    "start_time": "2024-02-12T19:09:07.486Z"
   },
   {
    "duration": 0,
    "start_time": "2024-02-12T19:09:07.490Z"
   },
   {
    "duration": 0,
    "start_time": "2024-02-12T19:09:07.491Z"
   },
   {
    "duration": 0,
    "start_time": "2024-02-12T19:09:07.492Z"
   },
   {
    "duration": 0,
    "start_time": "2024-02-12T19:09:07.494Z"
   },
   {
    "duration": 0,
    "start_time": "2024-02-12T19:09:07.495Z"
   },
   {
    "duration": 0,
    "start_time": "2024-02-12T19:09:07.497Z"
   },
   {
    "duration": 0,
    "start_time": "2024-02-12T19:09:07.501Z"
   },
   {
    "duration": 0,
    "start_time": "2024-02-12T19:09:07.502Z"
   },
   {
    "duration": 0,
    "start_time": "2024-02-12T19:09:07.504Z"
   },
   {
    "duration": 0,
    "start_time": "2024-02-12T19:09:07.505Z"
   },
   {
    "duration": 0,
    "start_time": "2024-02-12T19:09:07.506Z"
   },
   {
    "duration": 1,
    "start_time": "2024-02-12T19:09:07.507Z"
   },
   {
    "duration": 1,
    "start_time": "2024-02-12T19:09:07.508Z"
   },
   {
    "duration": 0,
    "start_time": "2024-02-12T19:09:07.510Z"
   },
   {
    "duration": 0,
    "start_time": "2024-02-12T19:09:07.511Z"
   },
   {
    "duration": 0,
    "start_time": "2024-02-12T19:09:07.512Z"
   },
   {
    "duration": 255,
    "start_time": "2024-02-12T19:09:19.383Z"
   },
   {
    "duration": 238,
    "start_time": "2024-02-12T19:10:09.836Z"
   },
   {
    "duration": 3,
    "start_time": "2024-02-12T19:20:32.604Z"
   },
   {
    "duration": 1875,
    "start_time": "2024-02-12T19:20:32.609Z"
   },
   {
    "duration": 845,
    "start_time": "2024-02-12T19:20:34.486Z"
   },
   {
    "duration": 1272,
    "start_time": "2024-02-12T19:20:35.333Z"
   },
   {
    "duration": 457,
    "start_time": "2024-02-12T19:20:36.607Z"
   },
   {
    "duration": 1046,
    "start_time": "2024-02-12T19:20:37.065Z"
   },
   {
    "duration": 633,
    "start_time": "2024-02-12T19:20:38.113Z"
   },
   {
    "duration": 204,
    "start_time": "2024-02-12T19:20:38.747Z"
   },
   {
    "duration": 91,
    "start_time": "2024-02-12T19:20:38.969Z"
   },
   {
    "duration": 572,
    "start_time": "2024-02-12T19:20:39.062Z"
   },
   {
    "duration": 914,
    "start_time": "2024-02-12T19:20:39.635Z"
   },
   {
    "duration": 320,
    "start_time": "2024-02-12T19:20:40.550Z"
   },
   {
    "duration": 103,
    "start_time": "2024-02-12T19:20:40.872Z"
   },
   {
    "duration": 1246,
    "start_time": "2024-02-12T19:20:40.977Z"
   },
   {
    "duration": 1308,
    "start_time": "2024-02-12T19:20:42.224Z"
   },
   {
    "duration": 308,
    "start_time": "2024-02-12T19:20:43.534Z"
   },
   {
    "duration": 117,
    "start_time": "2024-02-12T19:20:43.844Z"
   },
   {
    "duration": 47,
    "start_time": "2024-02-12T19:20:43.963Z"
   },
   {
    "duration": 192,
    "start_time": "2024-02-12T19:20:44.012Z"
   },
   {
    "duration": 1748,
    "start_time": "2024-02-12T19:20:44.205Z"
   },
   {
    "duration": 18,
    "start_time": "2024-02-12T19:20:45.955Z"
   },
   {
    "duration": 42,
    "start_time": "2024-02-12T19:20:45.974Z"
   },
   {
    "duration": 295,
    "start_time": "2024-02-12T19:20:46.018Z"
   },
   {
    "duration": 3643,
    "start_time": "2024-02-12T19:20:46.316Z"
   },
   {
    "duration": 207,
    "start_time": "2024-02-12T19:20:49.960Z"
   },
   {
    "duration": 50,
    "start_time": "2024-02-12T19:20:50.169Z"
   },
   {
    "duration": 118,
    "start_time": "2024-02-12T19:20:50.222Z"
   },
   {
    "duration": 380,
    "start_time": "2024-02-12T19:20:50.341Z"
   },
   {
    "duration": 354,
    "start_time": "2024-02-12T19:20:50.723Z"
   },
   {
    "duration": 396,
    "start_time": "2024-02-12T19:20:51.078Z"
   },
   {
    "duration": 106,
    "start_time": "2024-02-12T19:20:51.476Z"
   },
   {
    "duration": 95,
    "start_time": "2024-02-12T19:20:51.584Z"
   },
   {
    "duration": 91,
    "start_time": "2024-02-12T19:20:51.680Z"
   },
   {
    "duration": 71,
    "start_time": "2024-02-12T19:20:51.773Z"
   },
   {
    "duration": 65,
    "start_time": "2024-02-12T19:20:51.846Z"
   },
   {
    "duration": 11,
    "start_time": "2024-02-12T19:20:51.912Z"
   },
   {
    "duration": 23,
    "start_time": "2024-02-12T19:20:51.924Z"
   },
   {
    "duration": 62,
    "start_time": "2024-02-12T19:20:51.948Z"
   },
   {
    "duration": 167,
    "start_time": "2024-02-12T19:20:52.012Z"
   },
   {
    "duration": 0,
    "start_time": "2024-02-12T19:20:52.180Z"
   },
   {
    "duration": 0,
    "start_time": "2024-02-12T19:20:52.181Z"
   },
   {
    "duration": 0,
    "start_time": "2024-02-12T19:20:52.182Z"
   },
   {
    "duration": 0,
    "start_time": "2024-02-12T19:20:52.183Z"
   },
   {
    "duration": 0,
    "start_time": "2024-02-12T19:20:52.184Z"
   },
   {
    "duration": 0,
    "start_time": "2024-02-12T19:20:52.185Z"
   },
   {
    "duration": 0,
    "start_time": "2024-02-12T19:20:52.186Z"
   },
   {
    "duration": 0,
    "start_time": "2024-02-12T19:20:52.186Z"
   },
   {
    "duration": 0,
    "start_time": "2024-02-12T19:20:52.188Z"
   },
   {
    "duration": 0,
    "start_time": "2024-02-12T19:20:52.189Z"
   },
   {
    "duration": 1,
    "start_time": "2024-02-12T19:20:52.189Z"
   },
   {
    "duration": 0,
    "start_time": "2024-02-12T19:20:52.190Z"
   },
   {
    "duration": 0,
    "start_time": "2024-02-12T19:20:52.191Z"
   },
   {
    "duration": 0,
    "start_time": "2024-02-12T19:20:52.192Z"
   },
   {
    "duration": 0,
    "start_time": "2024-02-12T19:20:52.193Z"
   },
   {
    "duration": 0,
    "start_time": "2024-02-12T19:20:52.194Z"
   },
   {
    "duration": 0,
    "start_time": "2024-02-12T19:20:52.195Z"
   },
   {
    "duration": 0,
    "start_time": "2024-02-12T19:20:52.196Z"
   },
   {
    "duration": 0,
    "start_time": "2024-02-12T19:20:52.197Z"
   },
   {
    "duration": 0,
    "start_time": "2024-02-12T19:20:52.198Z"
   },
   {
    "duration": 0,
    "start_time": "2024-02-12T19:20:52.198Z"
   },
   {
    "duration": 444,
    "start_time": "2024-02-12T19:28:08.535Z"
   },
   {
    "duration": 16,
    "start_time": "2024-02-12T19:28:17.568Z"
   },
   {
    "duration": 12,
    "start_time": "2024-02-12T19:28:30.772Z"
   },
   {
    "duration": 42186,
    "start_time": "2024-02-12T19:28:36.102Z"
   },
   {
    "duration": 260,
    "start_time": "2024-02-12T19:29:21.251Z"
   },
   {
    "duration": 243,
    "start_time": "2024-02-12T19:29:26.415Z"
   },
   {
    "duration": 245,
    "start_time": "2024-02-12T19:29:41.817Z"
   },
   {
    "duration": 241,
    "start_time": "2024-02-12T19:29:48.292Z"
   },
   {
    "duration": 180,
    "start_time": "2024-02-12T19:34:24.685Z"
   },
   {
    "duration": 185,
    "start_time": "2024-02-12T19:34:26.468Z"
   },
   {
    "duration": 6,
    "start_time": "2024-02-12T19:34:28.608Z"
   },
   {
    "duration": 4,
    "start_time": "2024-02-12T19:35:07.733Z"
   },
   {
    "duration": 1879,
    "start_time": "2024-02-12T19:35:07.738Z"
   },
   {
    "duration": 865,
    "start_time": "2024-02-12T19:35:09.618Z"
   },
   {
    "duration": 1301,
    "start_time": "2024-02-12T19:35:10.485Z"
   },
   {
    "duration": 464,
    "start_time": "2024-02-12T19:35:11.788Z"
   },
   {
    "duration": 1074,
    "start_time": "2024-02-12T19:35:12.254Z"
   },
   {
    "duration": 683,
    "start_time": "2024-02-12T19:35:13.330Z"
   },
   {
    "duration": 214,
    "start_time": "2024-02-12T19:35:14.014Z"
   },
   {
    "duration": 90,
    "start_time": "2024-02-12T19:35:14.248Z"
   },
   {
    "duration": 584,
    "start_time": "2024-02-12T19:35:14.339Z"
   },
   {
    "duration": 923,
    "start_time": "2024-02-12T19:35:14.925Z"
   },
   {
    "duration": 311,
    "start_time": "2024-02-12T19:35:15.849Z"
   },
   {
    "duration": 100,
    "start_time": "2024-02-12T19:35:16.162Z"
   },
   {
    "duration": 1199,
    "start_time": "2024-02-12T19:35:16.264Z"
   },
   {
    "duration": 1330,
    "start_time": "2024-02-12T19:35:17.465Z"
   },
   {
    "duration": 325,
    "start_time": "2024-02-12T19:35:18.797Z"
   },
   {
    "duration": 89,
    "start_time": "2024-02-12T19:35:19.123Z"
   },
   {
    "duration": 47,
    "start_time": "2024-02-12T19:35:19.214Z"
   },
   {
    "duration": 186,
    "start_time": "2024-02-12T19:35:19.262Z"
   },
   {
    "duration": 1683,
    "start_time": "2024-02-12T19:35:19.449Z"
   },
   {
    "duration": 27,
    "start_time": "2024-02-12T19:35:21.134Z"
   },
   {
    "duration": 46,
    "start_time": "2024-02-12T19:35:21.163Z"
   },
   {
    "duration": 319,
    "start_time": "2024-02-12T19:35:21.210Z"
   },
   {
    "duration": 3671,
    "start_time": "2024-02-12T19:35:21.532Z"
   },
   {
    "duration": 197,
    "start_time": "2024-02-12T19:35:25.204Z"
   },
   {
    "duration": 28,
    "start_time": "2024-02-12T19:35:25.403Z"
   },
   {
    "duration": 122,
    "start_time": "2024-02-12T19:35:25.433Z"
   },
   {
    "duration": 361,
    "start_time": "2024-02-12T19:35:25.559Z"
   },
   {
    "duration": 373,
    "start_time": "2024-02-12T19:35:25.922Z"
   },
   {
    "duration": 369,
    "start_time": "2024-02-12T19:35:26.297Z"
   },
   {
    "duration": 104,
    "start_time": "2024-02-12T19:35:26.668Z"
   },
   {
    "duration": 94,
    "start_time": "2024-02-12T19:35:26.774Z"
   },
   {
    "duration": 90,
    "start_time": "2024-02-12T19:35:26.869Z"
   },
   {
    "duration": 75,
    "start_time": "2024-02-12T19:35:26.960Z"
   },
   {
    "duration": 68,
    "start_time": "2024-02-12T19:35:27.036Z"
   },
   {
    "duration": 10,
    "start_time": "2024-02-12T19:35:27.106Z"
   },
   {
    "duration": 10,
    "start_time": "2024-02-12T19:35:27.117Z"
   },
   {
    "duration": 484,
    "start_time": "2024-02-12T19:35:27.129Z"
   },
   {
    "duration": 16,
    "start_time": "2024-02-12T19:35:27.615Z"
   },
   {
    "duration": 42183,
    "start_time": "2024-02-12T19:35:27.633Z"
   },
   {
    "duration": 237,
    "start_time": "2024-02-12T19:36:09.817Z"
   },
   {
    "duration": 127,
    "start_time": "2024-02-12T19:36:10.056Z"
   },
   {
    "duration": 0,
    "start_time": "2024-02-12T19:36:10.185Z"
   },
   {
    "duration": 0,
    "start_time": "2024-02-12T19:36:10.186Z"
   },
   {
    "duration": 0,
    "start_time": "2024-02-12T19:36:10.188Z"
   },
   {
    "duration": 0,
    "start_time": "2024-02-12T19:36:10.189Z"
   },
   {
    "duration": 0,
    "start_time": "2024-02-12T19:36:10.190Z"
   },
   {
    "duration": 0,
    "start_time": "2024-02-12T19:36:10.191Z"
   },
   {
    "duration": 0,
    "start_time": "2024-02-12T19:36:10.192Z"
   },
   {
    "duration": 1,
    "start_time": "2024-02-12T19:36:10.192Z"
   },
   {
    "duration": 0,
    "start_time": "2024-02-12T19:36:10.194Z"
   },
   {
    "duration": 0,
    "start_time": "2024-02-12T19:36:10.194Z"
   },
   {
    "duration": 0,
    "start_time": "2024-02-12T19:36:10.195Z"
   },
   {
    "duration": 0,
    "start_time": "2024-02-12T19:36:10.196Z"
   },
   {
    "duration": 0,
    "start_time": "2024-02-12T19:36:10.197Z"
   },
   {
    "duration": 0,
    "start_time": "2024-02-12T19:36:10.198Z"
   },
   {
    "duration": 0,
    "start_time": "2024-02-12T19:36:10.199Z"
   },
   {
    "duration": 0,
    "start_time": "2024-02-12T19:36:10.203Z"
   },
   {
    "duration": 0,
    "start_time": "2024-02-12T19:36:10.205Z"
   },
   {
    "duration": 238,
    "start_time": "2024-02-12T19:36:18.225Z"
   },
   {
    "duration": 239,
    "start_time": "2024-02-12T19:36:53.649Z"
   },
   {
    "duration": 225,
    "start_time": "2024-02-12T19:37:02.805Z"
   },
   {
    "duration": 10,
    "start_time": "2024-02-12T19:37:08.928Z"
   },
   {
    "duration": 223,
    "start_time": "2024-02-12T19:37:33.837Z"
   },
   {
    "duration": 4,
    "start_time": "2024-02-12T19:46:07.234Z"
   },
   {
    "duration": 2003,
    "start_time": "2024-02-12T19:46:07.240Z"
   },
   {
    "duration": 855,
    "start_time": "2024-02-12T19:46:09.245Z"
   },
   {
    "duration": 1319,
    "start_time": "2024-02-12T19:46:10.101Z"
   },
   {
    "duration": 475,
    "start_time": "2024-02-12T19:46:11.422Z"
   },
   {
    "duration": 1053,
    "start_time": "2024-02-12T19:46:11.899Z"
   },
   {
    "duration": 654,
    "start_time": "2024-02-12T19:46:12.954Z"
   },
   {
    "duration": 221,
    "start_time": "2024-02-12T19:46:13.609Z"
   },
   {
    "duration": 95,
    "start_time": "2024-02-12T19:46:13.832Z"
   },
   {
    "duration": 593,
    "start_time": "2024-02-12T19:46:13.929Z"
   },
   {
    "duration": 918,
    "start_time": "2024-02-12T19:46:14.524Z"
   },
   {
    "duration": 352,
    "start_time": "2024-02-12T19:46:15.443Z"
   },
   {
    "duration": 100,
    "start_time": "2024-02-12T19:46:15.797Z"
   },
   {
    "duration": 1248,
    "start_time": "2024-02-12T19:46:15.898Z"
   },
   {
    "duration": 1364,
    "start_time": "2024-02-12T19:46:17.147Z"
   },
   {
    "duration": 309,
    "start_time": "2024-02-12T19:46:18.512Z"
   },
   {
    "duration": 111,
    "start_time": "2024-02-12T19:46:18.823Z"
   },
   {
    "duration": 60,
    "start_time": "2024-02-12T19:46:18.936Z"
   },
   {
    "duration": 185,
    "start_time": "2024-02-12T19:46:18.997Z"
   },
   {
    "duration": 1717,
    "start_time": "2024-02-12T19:46:19.184Z"
   },
   {
    "duration": 17,
    "start_time": "2024-02-12T19:46:20.903Z"
   },
   {
    "duration": 56,
    "start_time": "2024-02-12T19:46:20.921Z"
   },
   {
    "duration": 318,
    "start_time": "2024-02-12T19:46:20.979Z"
   },
   {
    "duration": 3601,
    "start_time": "2024-02-12T19:46:21.299Z"
   },
   {
    "duration": 210,
    "start_time": "2024-02-12T19:46:24.902Z"
   },
   {
    "duration": 32,
    "start_time": "2024-02-12T19:46:25.113Z"
   },
   {
    "duration": 114,
    "start_time": "2024-02-12T19:46:25.158Z"
   },
   {
    "duration": 363,
    "start_time": "2024-02-12T19:46:25.274Z"
   },
   {
    "duration": 366,
    "start_time": "2024-02-12T19:46:25.641Z"
   },
   {
    "duration": 376,
    "start_time": "2024-02-12T19:46:26.009Z"
   },
   {
    "duration": 116,
    "start_time": "2024-02-12T19:46:26.387Z"
   },
   {
    "duration": 94,
    "start_time": "2024-02-12T19:46:26.505Z"
   },
   {
    "duration": 89,
    "start_time": "2024-02-12T19:46:26.600Z"
   },
   {
    "duration": 78,
    "start_time": "2024-02-12T19:46:26.690Z"
   },
   {
    "duration": 58,
    "start_time": "2024-02-12T19:46:26.770Z"
   },
   {
    "duration": 53,
    "start_time": "2024-02-12T19:46:26.830Z"
   },
   {
    "duration": 448,
    "start_time": "2024-02-12T19:46:26.884Z"
   },
   {
    "duration": 9,
    "start_time": "2024-02-12T19:46:27.333Z"
   },
   {
    "duration": 42489,
    "start_time": "2024-02-12T19:46:27.358Z"
   },
   {
    "duration": 234,
    "start_time": "2024-02-12T19:47:09.849Z"
   },
   {
    "duration": 147,
    "start_time": "2024-02-12T19:47:10.085Z"
   },
   {
    "duration": 0,
    "start_time": "2024-02-12T19:47:10.234Z"
   },
   {
    "duration": 0,
    "start_time": "2024-02-12T19:47:10.235Z"
   },
   {
    "duration": 0,
    "start_time": "2024-02-12T19:47:10.236Z"
   },
   {
    "duration": 0,
    "start_time": "2024-02-12T19:47:10.237Z"
   },
   {
    "duration": 0,
    "start_time": "2024-02-12T19:47:10.238Z"
   },
   {
    "duration": 0,
    "start_time": "2024-02-12T19:47:10.239Z"
   },
   {
    "duration": 0,
    "start_time": "2024-02-12T19:47:10.240Z"
   },
   {
    "duration": 0,
    "start_time": "2024-02-12T19:47:10.241Z"
   },
   {
    "duration": 0,
    "start_time": "2024-02-12T19:47:10.242Z"
   },
   {
    "duration": 0,
    "start_time": "2024-02-12T19:47:10.243Z"
   },
   {
    "duration": 0,
    "start_time": "2024-02-12T19:47:10.258Z"
   },
   {
    "duration": 0,
    "start_time": "2024-02-12T19:47:10.259Z"
   },
   {
    "duration": 0,
    "start_time": "2024-02-12T19:47:10.260Z"
   },
   {
    "duration": 0,
    "start_time": "2024-02-12T19:47:10.261Z"
   },
   {
    "duration": 0,
    "start_time": "2024-02-12T19:47:10.262Z"
   },
   {
    "duration": 0,
    "start_time": "2024-02-12T19:47:10.263Z"
   },
   {
    "duration": 0,
    "start_time": "2024-02-12T19:47:10.265Z"
   },
   {
    "duration": 11,
    "start_time": "2024-02-12T19:47:46.312Z"
   },
   {
    "duration": 12,
    "start_time": "2024-02-12T19:47:53.449Z"
   },
   {
    "duration": 3,
    "start_time": "2024-02-12T20:04:15.532Z"
   },
   {
    "duration": 1950,
    "start_time": "2024-02-12T20:04:15.539Z"
   },
   {
    "duration": 1013,
    "start_time": "2024-02-12T20:04:17.492Z"
   },
   {
    "duration": 1380,
    "start_time": "2024-02-12T20:04:18.507Z"
   },
   {
    "duration": 455,
    "start_time": "2024-02-12T20:04:19.889Z"
   },
   {
    "duration": 1131,
    "start_time": "2024-02-12T20:04:20.347Z"
   },
   {
    "duration": 714,
    "start_time": "2024-02-12T20:04:21.480Z"
   },
   {
    "duration": 235,
    "start_time": "2024-02-12T20:04:22.196Z"
   },
   {
    "duration": 86,
    "start_time": "2024-02-12T20:04:22.432Z"
   },
   {
    "duration": 575,
    "start_time": "2024-02-12T20:04:22.519Z"
   },
   {
    "duration": 920,
    "start_time": "2024-02-12T20:04:23.096Z"
   },
   {
    "duration": 334,
    "start_time": "2024-02-12T20:04:24.018Z"
   },
   {
    "duration": 94,
    "start_time": "2024-02-12T20:04:24.353Z"
   },
   {
    "duration": 1264,
    "start_time": "2024-02-12T20:04:24.458Z"
   },
   {
    "duration": 1375,
    "start_time": "2024-02-12T20:04:25.724Z"
   },
   {
    "duration": 331,
    "start_time": "2024-02-12T20:04:27.100Z"
   },
   {
    "duration": 94,
    "start_time": "2024-02-12T20:04:27.432Z"
   },
   {
    "duration": 62,
    "start_time": "2024-02-12T20:04:27.528Z"
   },
   {
    "duration": 198,
    "start_time": "2024-02-12T20:04:27.592Z"
   },
   {
    "duration": 1779,
    "start_time": "2024-02-12T20:04:27.792Z"
   },
   {
    "duration": 16,
    "start_time": "2024-02-12T20:04:29.573Z"
   },
   {
    "duration": 46,
    "start_time": "2024-02-12T20:04:29.590Z"
   },
   {
    "duration": 307,
    "start_time": "2024-02-12T20:04:29.637Z"
   },
   {
    "duration": 3862,
    "start_time": "2024-02-12T20:04:29.946Z"
   },
   {
    "duration": 206,
    "start_time": "2024-02-12T20:04:33.809Z"
   },
   {
    "duration": 29,
    "start_time": "2024-02-12T20:04:34.017Z"
   },
   {
    "duration": 141,
    "start_time": "2024-02-12T20:04:34.063Z"
   },
   {
    "duration": 387,
    "start_time": "2024-02-12T20:04:34.206Z"
   },
   {
    "duration": 387,
    "start_time": "2024-02-12T20:04:34.595Z"
   },
   {
    "duration": 370,
    "start_time": "2024-02-12T20:04:34.984Z"
   },
   {
    "duration": 116,
    "start_time": "2024-02-12T20:04:35.355Z"
   },
   {
    "duration": 106,
    "start_time": "2024-02-12T20:04:35.476Z"
   },
   {
    "duration": 90,
    "start_time": "2024-02-12T20:04:35.584Z"
   },
   {
    "duration": 74,
    "start_time": "2024-02-12T20:04:35.675Z"
   },
   {
    "duration": 86,
    "start_time": "2024-02-12T20:04:35.750Z"
   },
   {
    "duration": 34,
    "start_time": "2024-02-12T20:04:35.837Z"
   },
   {
    "duration": 7,
    "start_time": "2024-02-12T20:04:35.873Z"
   },
   {
    "duration": 45090,
    "start_time": "2024-02-12T20:04:35.882Z"
   },
   {
    "duration": 5476,
    "start_time": "2024-02-12T20:05:20.974Z"
   },
   {
    "duration": 5729,
    "start_time": "2024-02-12T20:05:26.451Z"
   },
   {
    "duration": 184,
    "start_time": "2024-02-12T20:05:32.182Z"
   },
   {
    "duration": 8,
    "start_time": "2024-02-12T20:05:32.370Z"
   },
   {
    "duration": 471,
    "start_time": "2024-02-12T20:05:32.380Z"
   },
   {
    "duration": 72,
    "start_time": "2024-02-12T20:05:32.852Z"
   },
   {
    "duration": 76,
    "start_time": "2024-02-12T20:05:32.926Z"
   },
   {
    "duration": 182,
    "start_time": "2024-02-12T20:05:33.004Z"
   },
   {
    "duration": 127,
    "start_time": "2024-02-12T20:05:33.188Z"
   },
   {
    "duration": 0,
    "start_time": "2024-02-12T20:05:33.316Z"
   },
   {
    "duration": 0,
    "start_time": "2024-02-12T20:05:33.317Z"
   },
   {
    "duration": 0,
    "start_time": "2024-02-12T20:05:33.318Z"
   },
   {
    "duration": 0,
    "start_time": "2024-02-12T20:05:33.319Z"
   },
   {
    "duration": 0,
    "start_time": "2024-02-12T20:05:33.320Z"
   },
   {
    "duration": 0,
    "start_time": "2024-02-12T20:05:33.321Z"
   },
   {
    "duration": 0,
    "start_time": "2024-02-12T20:05:33.322Z"
   },
   {
    "duration": 5,
    "start_time": "2024-02-12T20:12:37.275Z"
   },
   {
    "duration": 109,
    "start_time": "2024-02-12T20:12:38.093Z"
   },
   {
    "duration": 5,
    "start_time": "2024-02-12T20:14:31.956Z"
   },
   {
    "duration": 28181,
    "start_time": "2024-02-12T20:14:32.601Z"
   },
   {
    "duration": 47150,
    "start_time": "2024-02-12T20:15:06.003Z"
   },
   {
    "duration": 29638,
    "start_time": "2024-02-12T20:15:53.154Z"
   },
   {
    "duration": 186,
    "start_time": "2024-02-12T20:16:22.793Z"
   },
   {
    "duration": 26294,
    "start_time": "2024-02-12T20:16:34.380Z"
   },
   {
    "duration": 116,
    "start_time": "2024-02-12T20:19:37.307Z"
   },
   {
    "duration": 152,
    "start_time": "2024-02-12T20:31:28.716Z"
   },
   {
    "duration": 97,
    "start_time": "2024-02-12T20:31:33.354Z"
   },
   {
    "duration": 4,
    "start_time": "2024-02-12T20:31:51.416Z"
   },
   {
    "duration": 1876,
    "start_time": "2024-02-12T20:31:51.421Z"
   },
   {
    "duration": 838,
    "start_time": "2024-02-12T20:31:53.299Z"
   },
   {
    "duration": 1269,
    "start_time": "2024-02-12T20:31:54.139Z"
   },
   {
    "duration": 464,
    "start_time": "2024-02-12T20:31:55.410Z"
   },
   {
    "duration": 1053,
    "start_time": "2024-02-12T20:31:55.875Z"
   },
   {
    "duration": 642,
    "start_time": "2024-02-12T20:31:56.929Z"
   },
   {
    "duration": 205,
    "start_time": "2024-02-12T20:31:57.573Z"
   },
   {
    "duration": 86,
    "start_time": "2024-02-12T20:31:57.797Z"
   },
   {
    "duration": 562,
    "start_time": "2024-02-12T20:31:57.884Z"
   },
   {
    "duration": 908,
    "start_time": "2024-02-12T20:31:58.448Z"
   },
   {
    "duration": 347,
    "start_time": "2024-02-12T20:31:59.358Z"
   },
   {
    "duration": 103,
    "start_time": "2024-02-12T20:31:59.706Z"
   },
   {
    "duration": 1260,
    "start_time": "2024-02-12T20:31:59.811Z"
   },
   {
    "duration": 1388,
    "start_time": "2024-02-12T20:32:01.073Z"
   },
   {
    "duration": 323,
    "start_time": "2024-02-12T20:32:02.463Z"
   },
   {
    "duration": 95,
    "start_time": "2024-02-12T20:32:02.788Z"
   },
   {
    "duration": 100,
    "start_time": "2024-02-12T20:32:02.885Z"
   },
   {
    "duration": 193,
    "start_time": "2024-02-12T20:32:02.987Z"
   },
   {
    "duration": 1649,
    "start_time": "2024-02-12T20:32:03.182Z"
   },
   {
    "duration": 27,
    "start_time": "2024-02-12T20:32:04.833Z"
   },
   {
    "duration": 46,
    "start_time": "2024-02-12T20:32:04.862Z"
   },
   {
    "duration": 313,
    "start_time": "2024-02-12T20:32:04.909Z"
   },
   {
    "duration": 3651,
    "start_time": "2024-02-12T20:32:05.225Z"
   },
   {
    "duration": 198,
    "start_time": "2024-02-12T20:32:08.878Z"
   },
   {
    "duration": 30,
    "start_time": "2024-02-12T20:32:09.078Z"
   },
   {
    "duration": 117,
    "start_time": "2024-02-12T20:32:09.110Z"
   },
   {
    "duration": 352,
    "start_time": "2024-02-12T20:32:09.228Z"
   },
   {
    "duration": 353,
    "start_time": "2024-02-12T20:32:09.582Z"
   },
   {
    "duration": 393,
    "start_time": "2024-02-12T20:32:09.937Z"
   },
   {
    "duration": 103,
    "start_time": "2024-02-12T20:32:10.332Z"
   },
   {
    "duration": 96,
    "start_time": "2024-02-12T20:32:10.436Z"
   },
   {
    "duration": 95,
    "start_time": "2024-02-12T20:32:10.534Z"
   },
   {
    "duration": 81,
    "start_time": "2024-02-12T20:32:10.631Z"
   },
   {
    "duration": 67,
    "start_time": "2024-02-12T20:32:10.714Z"
   },
   {
    "duration": 11,
    "start_time": "2024-02-12T20:32:10.783Z"
   },
   {
    "duration": 10,
    "start_time": "2024-02-12T20:32:10.795Z"
   },
   {
    "duration": 43491,
    "start_time": "2024-02-12T20:32:10.807Z"
   },
   {
    "duration": 5801,
    "start_time": "2024-02-12T20:32:54.300Z"
   },
   {
    "duration": 6044,
    "start_time": "2024-02-12T20:33:00.103Z"
   },
   {
    "duration": 169,
    "start_time": "2024-02-12T20:33:06.149Z"
   },
   {
    "duration": 9,
    "start_time": "2024-02-12T20:33:06.320Z"
   },
   {
    "duration": 465,
    "start_time": "2024-02-12T20:33:06.330Z"
   },
   {
    "duration": 77,
    "start_time": "2024-02-12T20:33:06.797Z"
   },
   {
    "duration": 62,
    "start_time": "2024-02-12T20:33:06.876Z"
   },
   {
    "duration": 183,
    "start_time": "2024-02-12T20:33:06.940Z"
   },
   {
    "duration": 3,
    "start_time": "2024-02-12T20:33:07.125Z"
   },
   {
    "duration": 19548,
    "start_time": "2024-02-12T20:33:07.130Z"
   },
   {
    "duration": 2857,
    "start_time": "2024-02-12T20:33:26.759Z"
   },
   {
    "duration": 46263,
    "start_time": "2024-02-12T20:33:29.618Z"
   },
   {
    "duration": 4384,
    "start_time": "2024-02-12T20:34:15.883Z"
   },
   {
    "duration": 25214,
    "start_time": "2024-02-12T20:34:20.268Z"
   },
   {
    "duration": 263,
    "start_time": "2024-02-12T20:34:45.484Z"
   },
   {
    "duration": 116,
    "start_time": "2024-02-12T20:34:45.748Z"
   },
   {
    "duration": 3,
    "start_time": "2024-02-12T20:38:49.257Z"
   },
   {
    "duration": 1607,
    "start_time": "2024-02-12T20:38:49.262Z"
   },
   {
    "duration": 878,
    "start_time": "2024-02-12T20:38:50.870Z"
   },
   {
    "duration": 1343,
    "start_time": "2024-02-12T20:38:51.750Z"
   },
   {
    "duration": 451,
    "start_time": "2024-02-12T20:38:53.095Z"
   },
   {
    "duration": 1035,
    "start_time": "2024-02-12T20:38:53.548Z"
   },
   {
    "duration": 663,
    "start_time": "2024-02-12T20:38:54.584Z"
   },
   {
    "duration": 238,
    "start_time": "2024-02-12T20:38:55.249Z"
   },
   {
    "duration": 90,
    "start_time": "2024-02-12T20:38:55.491Z"
   },
   {
    "duration": 584,
    "start_time": "2024-02-12T20:38:55.583Z"
   },
   {
    "duration": 832,
    "start_time": "2024-02-12T20:38:56.169Z"
   },
   {
    "duration": 437,
    "start_time": "2024-02-12T20:38:57.003Z"
   },
   {
    "duration": 104,
    "start_time": "2024-02-12T20:38:57.442Z"
   },
   {
    "duration": 1200,
    "start_time": "2024-02-12T20:38:57.548Z"
   },
   {
    "duration": 1313,
    "start_time": "2024-02-12T20:38:58.749Z"
   },
   {
    "duration": 323,
    "start_time": "2024-02-12T20:39:00.064Z"
   },
   {
    "duration": 92,
    "start_time": "2024-02-12T20:39:00.389Z"
   },
   {
    "duration": 61,
    "start_time": "2024-02-12T20:39:00.482Z"
   },
   {
    "duration": 190,
    "start_time": "2024-02-12T20:39:00.545Z"
   },
   {
    "duration": 1763,
    "start_time": "2024-02-12T20:39:00.736Z"
   },
   {
    "duration": 17,
    "start_time": "2024-02-12T20:39:02.501Z"
   },
   {
    "duration": 61,
    "start_time": "2024-02-12T20:39:02.519Z"
   },
   {
    "duration": 176,
    "start_time": "2024-02-12T20:39:02.582Z"
   },
   {
    "duration": 3678,
    "start_time": "2024-02-12T20:39:02.761Z"
   },
   {
    "duration": 210,
    "start_time": "2024-02-12T20:39:06.440Z"
   },
   {
    "duration": 33,
    "start_time": "2024-02-12T20:39:06.651Z"
   },
   {
    "duration": 111,
    "start_time": "2024-02-12T20:39:06.685Z"
   },
   {
    "duration": 507,
    "start_time": "2024-02-12T20:39:06.797Z"
   },
   {
    "duration": 367,
    "start_time": "2024-02-12T20:39:07.305Z"
   },
   {
    "duration": 355,
    "start_time": "2024-02-12T20:39:07.674Z"
   },
   {
    "duration": 112,
    "start_time": "2024-02-12T20:39:08.031Z"
   },
   {
    "duration": 102,
    "start_time": "2024-02-12T20:39:08.145Z"
   },
   {
    "duration": 93,
    "start_time": "2024-02-12T20:39:08.249Z"
   },
   {
    "duration": 80,
    "start_time": "2024-02-12T20:39:08.344Z"
   },
   {
    "duration": 72,
    "start_time": "2024-02-12T20:39:08.425Z"
   },
   {
    "duration": 11,
    "start_time": "2024-02-12T20:39:08.498Z"
   },
   {
    "duration": 7,
    "start_time": "2024-02-12T20:39:08.510Z"
   },
   {
    "duration": 43962,
    "start_time": "2024-02-12T20:39:08.519Z"
   },
   {
    "duration": 5788,
    "start_time": "2024-02-12T20:39:52.483Z"
   },
   {
    "duration": 5972,
    "start_time": "2024-02-12T20:39:58.272Z"
   },
   {
    "duration": 167,
    "start_time": "2024-02-12T20:40:04.246Z"
   },
   {
    "duration": 8,
    "start_time": "2024-02-12T20:40:04.415Z"
   },
   {
    "duration": 452,
    "start_time": "2024-02-12T20:40:04.424Z"
   },
   {
    "duration": 65,
    "start_time": "2024-02-12T20:40:04.878Z"
   },
   {
    "duration": 71,
    "start_time": "2024-02-12T20:40:04.945Z"
   },
   {
    "duration": 175,
    "start_time": "2024-02-12T20:40:05.017Z"
   },
   {
    "duration": 3,
    "start_time": "2024-02-12T20:40:05.194Z"
   },
   {
    "duration": 17362,
    "start_time": "2024-02-12T20:40:05.198Z"
   },
   {
    "duration": 45679,
    "start_time": "2024-02-12T20:40:22.563Z"
   },
   {
    "duration": 6622,
    "start_time": "2024-02-12T20:41:08.244Z"
   },
   {
    "duration": 25119,
    "start_time": "2024-02-12T20:41:14.868Z"
   },
   {
    "duration": 7756,
    "start_time": "2024-02-13T08:47:37.991Z"
   },
   {
    "duration": 3,
    "start_time": "2024-02-13T08:47:57.341Z"
   },
   {
    "duration": 2008,
    "start_time": "2024-02-13T08:47:57.346Z"
   },
   {
    "duration": 0,
    "start_time": "2024-02-13T08:47:59.357Z"
   },
   {
    "duration": 0,
    "start_time": "2024-02-13T08:47:59.358Z"
   },
   {
    "duration": 0,
    "start_time": "2024-02-13T08:47:59.359Z"
   },
   {
    "duration": 0,
    "start_time": "2024-02-13T08:47:59.360Z"
   },
   {
    "duration": 0,
    "start_time": "2024-02-13T08:47:59.362Z"
   },
   {
    "duration": 0,
    "start_time": "2024-02-13T08:47:59.363Z"
   },
   {
    "duration": 0,
    "start_time": "2024-02-13T08:47:59.364Z"
   },
   {
    "duration": 0,
    "start_time": "2024-02-13T08:47:59.365Z"
   },
   {
    "duration": 0,
    "start_time": "2024-02-13T08:47:59.366Z"
   },
   {
    "duration": 0,
    "start_time": "2024-02-13T08:47:59.367Z"
   },
   {
    "duration": 0,
    "start_time": "2024-02-13T08:47:59.368Z"
   },
   {
    "duration": 0,
    "start_time": "2024-02-13T08:47:59.369Z"
   },
   {
    "duration": 0,
    "start_time": "2024-02-13T08:47:59.370Z"
   },
   {
    "duration": 0,
    "start_time": "2024-02-13T08:47:59.371Z"
   },
   {
    "duration": 0,
    "start_time": "2024-02-13T08:47:59.372Z"
   },
   {
    "duration": 0,
    "start_time": "2024-02-13T08:47:59.373Z"
   },
   {
    "duration": 0,
    "start_time": "2024-02-13T08:47:59.374Z"
   },
   {
    "duration": 0,
    "start_time": "2024-02-13T08:47:59.375Z"
   },
   {
    "duration": 0,
    "start_time": "2024-02-13T08:47:59.376Z"
   },
   {
    "duration": 0,
    "start_time": "2024-02-13T08:47:59.377Z"
   },
   {
    "duration": 0,
    "start_time": "2024-02-13T08:47:59.378Z"
   },
   {
    "duration": 0,
    "start_time": "2024-02-13T08:47:59.379Z"
   },
   {
    "duration": 0,
    "start_time": "2024-02-13T08:47:59.380Z"
   },
   {
    "duration": 0,
    "start_time": "2024-02-13T08:47:59.381Z"
   },
   {
    "duration": 0,
    "start_time": "2024-02-13T08:47:59.382Z"
   },
   {
    "duration": 0,
    "start_time": "2024-02-13T08:47:59.383Z"
   },
   {
    "duration": 0,
    "start_time": "2024-02-13T08:47:59.384Z"
   },
   {
    "duration": 0,
    "start_time": "2024-02-13T08:47:59.385Z"
   },
   {
    "duration": 0,
    "start_time": "2024-02-13T08:47:59.386Z"
   },
   {
    "duration": 0,
    "start_time": "2024-02-13T08:47:59.387Z"
   },
   {
    "duration": 0,
    "start_time": "2024-02-13T08:47:59.388Z"
   },
   {
    "duration": 0,
    "start_time": "2024-02-13T08:47:59.389Z"
   },
   {
    "duration": 0,
    "start_time": "2024-02-13T08:47:59.390Z"
   },
   {
    "duration": 0,
    "start_time": "2024-02-13T08:47:59.391Z"
   },
   {
    "duration": 0,
    "start_time": "2024-02-13T08:47:59.391Z"
   },
   {
    "duration": 0,
    "start_time": "2024-02-13T08:47:59.392Z"
   },
   {
    "duration": 0,
    "start_time": "2024-02-13T08:47:59.393Z"
   },
   {
    "duration": 0,
    "start_time": "2024-02-13T08:47:59.394Z"
   },
   {
    "duration": 0,
    "start_time": "2024-02-13T08:47:59.395Z"
   },
   {
    "duration": 0,
    "start_time": "2024-02-13T08:47:59.396Z"
   },
   {
    "duration": 0,
    "start_time": "2024-02-13T08:47:59.396Z"
   },
   {
    "duration": 0,
    "start_time": "2024-02-13T08:47:59.397Z"
   },
   {
    "duration": 0,
    "start_time": "2024-02-13T08:47:59.398Z"
   },
   {
    "duration": 0,
    "start_time": "2024-02-13T08:47:59.399Z"
   },
   {
    "duration": 0,
    "start_time": "2024-02-13T08:47:59.400Z"
   },
   {
    "duration": 0,
    "start_time": "2024-02-13T08:47:59.459Z"
   },
   {
    "duration": 0,
    "start_time": "2024-02-13T08:47:59.460Z"
   },
   {
    "duration": 0,
    "start_time": "2024-02-13T08:47:59.461Z"
   },
   {
    "duration": 0,
    "start_time": "2024-02-13T08:47:59.463Z"
   },
   {
    "duration": 6256,
    "start_time": "2024-02-13T08:49:19.231Z"
   },
   {
    "duration": 3,
    "start_time": "2024-02-13T08:49:36.315Z"
   },
   {
    "duration": 3,
    "start_time": "2024-02-13T08:49:36.320Z"
   },
   {
    "duration": 1605,
    "start_time": "2024-02-13T08:49:36.324Z"
   },
   {
    "duration": 2775,
    "start_time": "2024-02-13T08:49:37.931Z"
   },
   {
    "duration": 1291,
    "start_time": "2024-02-13T08:49:40.707Z"
   },
   {
    "duration": 439,
    "start_time": "2024-02-13T08:49:42.000Z"
   },
   {
    "duration": 1031,
    "start_time": "2024-02-13T08:49:42.440Z"
   },
   {
    "duration": 632,
    "start_time": "2024-02-13T08:49:43.472Z"
   },
   {
    "duration": 272,
    "start_time": "2024-02-13T08:49:44.105Z"
   },
   {
    "duration": 80,
    "start_time": "2024-02-13T08:49:44.379Z"
   },
   {
    "duration": 536,
    "start_time": "2024-02-13T08:49:44.462Z"
   },
   {
    "duration": 825,
    "start_time": "2024-02-13T08:49:45.000Z"
   },
   {
    "duration": 409,
    "start_time": "2024-02-13T08:49:45.826Z"
   },
   {
    "duration": 103,
    "start_time": "2024-02-13T08:49:46.236Z"
   },
   {
    "duration": 1320,
    "start_time": "2024-02-13T08:49:46.340Z"
   },
   {
    "duration": 1348,
    "start_time": "2024-02-13T08:49:47.662Z"
   },
   {
    "duration": 330,
    "start_time": "2024-02-13T08:49:49.011Z"
   },
   {
    "duration": 85,
    "start_time": "2024-02-13T08:49:49.343Z"
   },
   {
    "duration": 56,
    "start_time": "2024-02-13T08:49:49.430Z"
   },
   {
    "duration": 190,
    "start_time": "2024-02-13T08:49:49.488Z"
   },
   {
    "duration": 1729,
    "start_time": "2024-02-13T08:49:49.679Z"
   },
   {
    "duration": 15,
    "start_time": "2024-02-13T08:49:51.410Z"
   },
   {
    "duration": 69,
    "start_time": "2024-02-13T08:49:51.427Z"
   },
   {
    "duration": 208,
    "start_time": "2024-02-13T08:49:51.498Z"
   },
   {
    "duration": 3819,
    "start_time": "2024-02-13T08:49:51.707Z"
   },
   {
    "duration": 212,
    "start_time": "2024-02-13T08:49:55.527Z"
   },
   {
    "duration": 43,
    "start_time": "2024-02-13T08:49:55.741Z"
   },
   {
    "duration": 131,
    "start_time": "2024-02-13T08:49:55.785Z"
   },
   {
    "duration": 495,
    "start_time": "2024-02-13T08:49:55.920Z"
   },
   {
    "duration": 407,
    "start_time": "2024-02-13T08:49:56.416Z"
   },
   {
    "duration": 384,
    "start_time": "2024-02-13T08:49:56.824Z"
   },
   {
    "duration": 116,
    "start_time": "2024-02-13T08:49:57.210Z"
   },
   {
    "duration": 101,
    "start_time": "2024-02-13T08:49:57.327Z"
   },
   {
    "duration": 111,
    "start_time": "2024-02-13T08:49:57.430Z"
   },
   {
    "duration": 110,
    "start_time": "2024-02-13T08:49:57.543Z"
   },
   {
    "duration": 65,
    "start_time": "2024-02-13T08:49:57.659Z"
   },
   {
    "duration": 11,
    "start_time": "2024-02-13T08:49:57.726Z"
   },
   {
    "duration": 20,
    "start_time": "2024-02-13T08:49:57.739Z"
   },
   {
    "duration": 45340,
    "start_time": "2024-02-13T08:49:57.761Z"
   },
   {
    "duration": 4934,
    "start_time": "2024-02-13T08:50:43.103Z"
   },
   {
    "duration": 5097,
    "start_time": "2024-02-13T08:50:48.039Z"
   },
   {
    "duration": 163,
    "start_time": "2024-02-13T08:50:53.137Z"
   },
   {
    "duration": 6,
    "start_time": "2024-02-13T08:50:53.302Z"
   },
   {
    "duration": 477,
    "start_time": "2024-02-13T08:50:53.310Z"
   },
   {
    "duration": 71,
    "start_time": "2024-02-13T08:50:53.789Z"
   },
   {
    "duration": 64,
    "start_time": "2024-02-13T08:50:53.863Z"
   },
   {
    "duration": 183,
    "start_time": "2024-02-13T08:50:53.929Z"
   },
   {
    "duration": 4,
    "start_time": "2024-02-13T08:50:54.113Z"
   },
   {
    "duration": 267,
    "start_time": "2024-02-13T08:50:54.118Z"
   },
   {
    "duration": 9,
    "start_time": "2024-02-13T08:50:54.387Z"
   },
   {
    "duration": 0,
    "start_time": "2024-02-13T08:50:54.397Z"
   },
   {
    "duration": 0,
    "start_time": "2024-02-13T08:50:54.398Z"
   },
   {
    "duration": 4,
    "start_time": "2024-02-13T08:52:50.580Z"
   },
   {
    "duration": 107,
    "start_time": "2024-02-13T08:52:52.421Z"
   },
   {
    "duration": 19051,
    "start_time": "2024-02-13T08:53:37.083Z"
   },
   {
    "duration": 5,
    "start_time": "2024-02-13T08:54:50.218Z"
   },
   {
    "duration": 6,
    "start_time": "2024-02-13T08:56:44.856Z"
   },
   {
    "duration": 18075,
    "start_time": "2024-02-13T08:56:45.997Z"
   },
   {
    "duration": 18341,
    "start_time": "2024-02-13T08:57:27.232Z"
   },
   {
    "duration": 3,
    "start_time": "2024-02-13T09:05:32.383Z"
   },
   {
    "duration": 3,
    "start_time": "2024-02-13T09:05:33.391Z"
   },
   {
    "duration": 111,
    "start_time": "2024-02-13T09:05:35.820Z"
   },
   {
    "duration": 16162,
    "start_time": "2024-02-13T09:05:59.171Z"
   },
   {
    "duration": 3,
    "start_time": "2024-02-13T09:15:07.233Z"
   },
   {
    "duration": 4,
    "start_time": "2024-02-13T09:15:09.340Z"
   },
   {
    "duration": 16768,
    "start_time": "2024-02-13T09:15:12.353Z"
   },
   {
    "duration": 3,
    "start_time": "2024-02-13T09:21:19.431Z"
   },
   {
    "duration": 65,
    "start_time": "2024-02-13T09:21:21.576Z"
   },
   {
    "duration": 15967,
    "start_time": "2024-02-13T09:22:08.192Z"
   },
   {
    "duration": 15585,
    "start_time": "2024-02-13T09:22:43.091Z"
   },
   {
    "duration": 16123,
    "start_time": "2024-02-13T09:23:25.036Z"
   },
   {
    "duration": 10,
    "start_time": "2024-02-13T09:24:15.491Z"
   },
   {
    "duration": 16301,
    "start_time": "2024-02-13T09:25:02.867Z"
   },
   {
    "duration": 16459,
    "start_time": "2024-02-13T09:25:24.306Z"
   },
   {
    "duration": 16549,
    "start_time": "2024-02-13T09:26:13.516Z"
   },
   {
    "duration": 3,
    "start_time": "2024-02-13T09:26:33.231Z"
   },
   {
    "duration": 16149,
    "start_time": "2024-02-13T09:26:35.315Z"
   },
   {
    "duration": 12,
    "start_time": "2024-02-13T09:26:58.172Z"
   },
   {
    "duration": 15,
    "start_time": "2024-02-13T09:27:26.137Z"
   },
   {
    "duration": 17,
    "start_time": "2024-02-13T09:28:10.743Z"
   },
   {
    "duration": 18,
    "start_time": "2024-02-13T09:28:43.141Z"
   },
   {
    "duration": 21,
    "start_time": "2024-02-13T09:29:22.499Z"
   },
   {
    "duration": 3,
    "start_time": "2024-02-13T09:32:08.247Z"
   },
   {
    "duration": 16073,
    "start_time": "2024-02-13T09:32:08.995Z"
   },
   {
    "duration": 4,
    "start_time": "2024-02-13T09:58:27.395Z"
   },
   {
    "duration": 4,
    "start_time": "2024-02-13T09:58:30.296Z"
   },
   {
    "duration": 57,
    "start_time": "2024-02-13T09:58:32.812Z"
   },
   {
    "duration": 20075,
    "start_time": "2024-02-13T09:58:50.691Z"
   },
   {
    "duration": 17844,
    "start_time": "2024-02-13T10:00:02.614Z"
   },
   {
    "duration": 16470,
    "start_time": "2024-02-13T10:00:45.493Z"
   },
   {
    "duration": 4,
    "start_time": "2024-02-13T10:04:07.642Z"
   },
   {
    "duration": 111,
    "start_time": "2024-02-13T10:04:13.982Z"
   },
   {
    "duration": 15892,
    "start_time": "2024-02-13T10:04:51.366Z"
   },
   {
    "duration": 4,
    "start_time": "2024-02-13T10:13:34.106Z"
   },
   {
    "duration": 3,
    "start_time": "2024-02-13T10:13:37.261Z"
   },
   {
    "duration": 16960,
    "start_time": "2024-02-13T10:13:45.123Z"
   },
   {
    "duration": 44331,
    "start_time": "2024-02-13T10:15:52.208Z"
   },
   {
    "duration": 5299,
    "start_time": "2024-02-13T10:18:14.168Z"
   },
   {
    "duration": 25736,
    "start_time": "2024-02-13T10:19:59.938Z"
   },
   {
    "duration": 4,
    "start_time": "2024-02-13T10:21:40.749Z"
   },
   {
    "duration": 8,
    "start_time": "2024-02-13T10:21:40.756Z"
   },
   {
    "duration": 1631,
    "start_time": "2024-02-13T10:21:40.766Z"
   },
   {
    "duration": 859,
    "start_time": "2024-02-13T10:21:42.399Z"
   },
   {
    "duration": 1336,
    "start_time": "2024-02-13T10:21:43.259Z"
   },
   {
    "duration": 492,
    "start_time": "2024-02-13T10:21:44.596Z"
   },
   {
    "duration": 1124,
    "start_time": "2024-02-13T10:21:45.090Z"
   },
   {
    "duration": 683,
    "start_time": "2024-02-13T10:21:46.216Z"
   },
   {
    "duration": 220,
    "start_time": "2024-02-13T10:21:46.901Z"
   },
   {
    "duration": 86,
    "start_time": "2024-02-13T10:21:47.122Z"
   },
   {
    "duration": 575,
    "start_time": "2024-02-13T10:21:47.209Z"
   },
   {
    "duration": 833,
    "start_time": "2024-02-13T10:21:47.786Z"
   },
   {
    "duration": 431,
    "start_time": "2024-02-13T10:21:48.620Z"
   },
   {
    "duration": 92,
    "start_time": "2024-02-13T10:21:49.053Z"
   },
   {
    "duration": 1294,
    "start_time": "2024-02-13T10:21:49.147Z"
   },
   {
    "duration": 1366,
    "start_time": "2024-02-13T10:21:50.443Z"
   },
   {
    "duration": 336,
    "start_time": "2024-02-13T10:21:51.811Z"
   },
   {
    "duration": 86,
    "start_time": "2024-02-13T10:21:52.149Z"
   },
   {
    "duration": 61,
    "start_time": "2024-02-13T10:21:52.236Z"
   },
   {
    "duration": 188,
    "start_time": "2024-02-13T10:21:52.298Z"
   },
   {
    "duration": 1757,
    "start_time": "2024-02-13T10:21:52.487Z"
   },
   {
    "duration": 24,
    "start_time": "2024-02-13T10:21:54.246Z"
   },
   {
    "duration": 40,
    "start_time": "2024-02-13T10:21:54.271Z"
   },
   {
    "duration": 182,
    "start_time": "2024-02-13T10:21:54.314Z"
   },
   {
    "duration": 3710,
    "start_time": "2024-02-13T10:21:54.498Z"
   },
   {
    "duration": 210,
    "start_time": "2024-02-13T10:21:58.210Z"
   },
   {
    "duration": 39,
    "start_time": "2024-02-13T10:21:58.421Z"
   },
   {
    "duration": 122,
    "start_time": "2024-02-13T10:21:58.461Z"
   },
   {
    "duration": 505,
    "start_time": "2024-02-13T10:21:58.585Z"
   },
   {
    "duration": 398,
    "start_time": "2024-02-13T10:21:59.092Z"
   },
   {
    "duration": 346,
    "start_time": "2024-02-13T10:21:59.492Z"
   },
   {
    "duration": 108,
    "start_time": "2024-02-13T10:21:59.840Z"
   },
   {
    "duration": 95,
    "start_time": "2024-02-13T10:21:59.950Z"
   },
   {
    "duration": 98,
    "start_time": "2024-02-13T10:22:00.047Z"
   },
   {
    "duration": 80,
    "start_time": "2024-02-13T10:22:00.159Z"
   },
   {
    "duration": 69,
    "start_time": "2024-02-13T10:22:00.241Z"
   },
   {
    "duration": 15,
    "start_time": "2024-02-13T10:22:00.311Z"
   },
   {
    "duration": 77,
    "start_time": "2024-02-13T10:22:00.327Z"
   },
   {
    "duration": 42385,
    "start_time": "2024-02-13T10:22:00.406Z"
   },
   {
    "duration": 4764,
    "start_time": "2024-02-13T10:22:42.793Z"
   },
   {
    "duration": 4837,
    "start_time": "2024-02-13T10:22:47.559Z"
   },
   {
    "duration": 170,
    "start_time": "2024-02-13T10:22:52.398Z"
   },
   {
    "duration": 8,
    "start_time": "2024-02-13T10:22:52.569Z"
   },
   {
    "duration": 430,
    "start_time": "2024-02-13T10:22:52.578Z"
   },
   {
    "duration": 73,
    "start_time": "2024-02-13T10:22:53.009Z"
   },
   {
    "duration": 61,
    "start_time": "2024-02-13T10:22:53.084Z"
   },
   {
    "duration": 165,
    "start_time": "2024-02-13T10:22:53.146Z"
   },
   {
    "duration": 4,
    "start_time": "2024-02-13T10:22:53.313Z"
   },
   {
    "duration": 19164,
    "start_time": "2024-02-13T10:22:53.318Z"
   },
   {
    "duration": 46267,
    "start_time": "2024-02-13T10:23:12.563Z"
   },
   {
    "duration": 16537,
    "start_time": "2024-02-13T10:23:58.831Z"
   },
   {
    "duration": 25263,
    "start_time": "2024-02-13T10:24:15.370Z"
   },
   {
    "duration": 131,
    "start_time": "2024-02-13T10:43:23.208Z"
   },
   {
    "duration": 13,
    "start_time": "2024-02-13T10:43:55.285Z"
   },
   {
    "duration": 14,
    "start_time": "2024-02-13T10:46:09.722Z"
   },
   {
    "duration": 3,
    "start_time": "2024-02-13T10:46:21.109Z"
   },
   {
    "duration": 3,
    "start_time": "2024-02-13T10:46:21.115Z"
   },
   {
    "duration": 1634,
    "start_time": "2024-02-13T10:46:21.120Z"
   },
   {
    "duration": 839,
    "start_time": "2024-02-13T10:46:22.755Z"
   },
   {
    "duration": 1291,
    "start_time": "2024-02-13T10:46:23.596Z"
   },
   {
    "duration": 434,
    "start_time": "2024-02-13T10:46:24.889Z"
   },
   {
    "duration": 1050,
    "start_time": "2024-02-13T10:46:25.324Z"
   },
   {
    "duration": 647,
    "start_time": "2024-02-13T10:46:26.376Z"
   },
   {
    "duration": 229,
    "start_time": "2024-02-13T10:46:27.024Z"
   },
   {
    "duration": 80,
    "start_time": "2024-02-13T10:46:27.254Z"
   },
   {
    "duration": 580,
    "start_time": "2024-02-13T10:46:27.336Z"
   },
   {
    "duration": 825,
    "start_time": "2024-02-13T10:46:27.918Z"
   },
   {
    "duration": 419,
    "start_time": "2024-02-13T10:46:28.746Z"
   },
   {
    "duration": 97,
    "start_time": "2024-02-13T10:46:29.166Z"
   },
   {
    "duration": 1229,
    "start_time": "2024-02-13T10:46:29.265Z"
   },
   {
    "duration": 1342,
    "start_time": "2024-02-13T10:46:30.495Z"
   },
   {
    "duration": 336,
    "start_time": "2024-02-13T10:46:31.838Z"
   },
   {
    "duration": 91,
    "start_time": "2024-02-13T10:46:32.175Z"
   },
   {
    "duration": 43,
    "start_time": "2024-02-13T10:46:32.267Z"
   },
   {
    "duration": 182,
    "start_time": "2024-02-13T10:46:32.312Z"
   },
   {
    "duration": 1735,
    "start_time": "2024-02-13T10:46:32.496Z"
   },
   {
    "duration": 16,
    "start_time": "2024-02-13T10:46:34.232Z"
   },
   {
    "duration": 47,
    "start_time": "2024-02-13T10:46:34.249Z"
   },
   {
    "duration": 171,
    "start_time": "2024-02-13T10:46:34.298Z"
   },
   {
    "duration": 3532,
    "start_time": "2024-02-13T10:46:34.470Z"
   },
   {
    "duration": 198,
    "start_time": "2024-02-13T10:46:38.003Z"
   },
   {
    "duration": 27,
    "start_time": "2024-02-13T10:46:38.202Z"
   },
   {
    "duration": 111,
    "start_time": "2024-02-13T10:46:38.231Z"
   },
   {
    "duration": 468,
    "start_time": "2024-02-13T10:46:38.344Z"
   },
   {
    "duration": 366,
    "start_time": "2024-02-13T10:46:38.813Z"
   },
   {
    "duration": 357,
    "start_time": "2024-02-13T10:46:39.180Z"
   },
   {
    "duration": 107,
    "start_time": "2024-02-13T10:46:39.539Z"
   },
   {
    "duration": 92,
    "start_time": "2024-02-13T10:46:39.647Z"
   },
   {
    "duration": 90,
    "start_time": "2024-02-13T10:46:39.740Z"
   },
   {
    "duration": 85,
    "start_time": "2024-02-13T10:46:39.831Z"
   },
   {
    "duration": 74,
    "start_time": "2024-02-13T10:46:39.918Z"
   },
   {
    "duration": 12,
    "start_time": "2024-02-13T10:46:39.995Z"
   },
   {
    "duration": 10,
    "start_time": "2024-02-13T10:46:40.009Z"
   },
   {
    "duration": 42972,
    "start_time": "2024-02-13T10:46:40.021Z"
   },
   {
    "duration": 4986,
    "start_time": "2024-02-13T10:47:22.995Z"
   },
   {
    "duration": 5829,
    "start_time": "2024-02-13T10:47:27.982Z"
   },
   {
    "duration": 153,
    "start_time": "2024-02-13T10:47:33.813Z"
   },
   {
    "duration": 7,
    "start_time": "2024-02-13T10:47:33.968Z"
   },
   {
    "duration": 462,
    "start_time": "2024-02-13T10:47:33.977Z"
   },
   {
    "duration": 69,
    "start_time": "2024-02-13T10:47:34.441Z"
   },
   {
    "duration": 69,
    "start_time": "2024-02-13T10:47:34.511Z"
   },
   {
    "duration": 162,
    "start_time": "2024-02-13T10:47:34.582Z"
   },
   {
    "duration": 4,
    "start_time": "2024-02-13T10:47:34.746Z"
   },
   {
    "duration": 18439,
    "start_time": "2024-02-13T10:47:34.751Z"
   },
   {
    "duration": 45378,
    "start_time": "2024-02-13T10:47:53.264Z"
   },
   {
    "duration": 8424,
    "start_time": "2024-02-13T10:48:38.643Z"
   },
   {
    "duration": 25203,
    "start_time": "2024-02-13T10:48:47.069Z"
   },
   {
    "duration": 126,
    "start_time": "2024-02-13T10:49:12.274Z"
   },
   {
    "duration": 12,
    "start_time": "2024-02-13T10:49:32.876Z"
   },
   {
    "duration": 13,
    "start_time": "2024-02-13T10:49:50.377Z"
   },
   {
    "duration": 124,
    "start_time": "2024-02-13T10:57:11.440Z"
   },
   {
    "duration": 2302,
    "start_time": "2024-02-13T10:57:41.659Z"
   },
   {
    "duration": 150,
    "start_time": "2024-02-13T11:03:44.693Z"
   },
   {
    "duration": 166,
    "start_time": "2024-02-13T11:05:50.193Z"
   },
   {
    "duration": 121,
    "start_time": "2024-02-13T11:06:04.476Z"
   },
   {
    "duration": 121,
    "start_time": "2024-02-13T11:06:21.382Z"
   },
   {
    "duration": 15,
    "start_time": "2024-02-13T11:38:04.059Z"
   },
   {
    "duration": 9,
    "start_time": "2024-02-13T11:39:58.994Z"
   },
   {
    "duration": 122,
    "start_time": "2024-02-13T13:00:17.583Z"
   },
   {
    "duration": 124,
    "start_time": "2024-02-13T13:00:44.514Z"
   },
   {
    "duration": 106,
    "start_time": "2024-02-13T13:02:37.955Z"
   },
   {
    "duration": 11,
    "start_time": "2024-02-13T13:02:59.791Z"
   },
   {
    "duration": 8,
    "start_time": "2024-02-13T13:03:39.468Z"
   },
   {
    "duration": 96,
    "start_time": "2024-02-13T13:04:08.493Z"
   },
   {
    "duration": 96,
    "start_time": "2024-02-13T13:05:11.704Z"
   },
   {
    "duration": 99,
    "start_time": "2024-02-13T13:05:32.388Z"
   },
   {
    "duration": 5,
    "start_time": "2024-02-13T13:08:13.704Z"
   },
   {
    "duration": 5,
    "start_time": "2024-02-13T13:08:19.660Z"
   },
   {
    "duration": 104,
    "start_time": "2024-02-13T13:08:39.690Z"
   },
   {
    "duration": 220599,
    "start_time": "2024-02-13T13:09:43.417Z"
   },
   {
    "duration": 118068,
    "start_time": "2024-02-13T13:14:52.735Z"
   },
   {
    "duration": 536334,
    "start_time": "2024-02-13T13:17:28.435Z"
   },
   {
    "duration": 20728,
    "start_time": "2024-02-13T13:41:00.353Z"
   },
   {
    "duration": 557121,
    "start_time": "2024-02-13T13:42:05.843Z"
   },
   {
    "duration": 544140,
    "start_time": "2024-02-13T14:33:27.727Z"
   },
   {
    "duration": 589876,
    "start_time": "2024-02-13T15:08:23.652Z"
   },
   {
    "duration": 661773,
    "start_time": "2024-02-13T15:18:32.792Z"
   },
   {
    "duration": 3863,
    "start_time": "2024-02-13T15:30:37.313Z"
   },
   {
    "duration": 3517,
    "start_time": "2024-02-13T15:31:03.869Z"
   },
   {
    "duration": 4014,
    "start_time": "2024-02-13T15:32:01.048Z"
   },
   {
    "duration": 297395,
    "start_time": "2024-02-13T15:48:40.716Z"
   },
   {
    "duration": 87945,
    "start_time": "2024-02-13T15:54:13.684Z"
   },
   {
    "duration": 163142,
    "start_time": "2024-02-13T15:55:56.144Z"
   },
   {
    "duration": 18076,
    "start_time": "2024-02-13T15:59:59.009Z"
   },
   {
    "duration": 4754,
    "start_time": "2024-02-13T16:00:23.745Z"
   },
   {
    "duration": 4192,
    "start_time": "2024-02-13T16:00:35.057Z"
   },
   {
    "duration": 7065,
    "start_time": "2024-02-13T16:00:44.840Z"
   },
   {
    "duration": 4323,
    "start_time": "2024-02-13T16:01:57.165Z"
   },
   {
    "duration": 53217,
    "start_time": "2024-02-13T16:06:45.129Z"
   },
   {
    "duration": 6536,
    "start_time": "2024-02-13T16:07:51.144Z"
   },
   {
    "duration": 392565,
    "start_time": "2024-02-13T16:08:13.164Z"
   },
   {
    "duration": 3,
    "start_time": "2024-02-13T16:21:03.487Z"
   },
   {
    "duration": 39,
    "start_time": "2024-02-13T16:21:03.492Z"
   },
   {
    "duration": 1606,
    "start_time": "2024-02-13T16:21:03.533Z"
   },
   {
    "duration": 857,
    "start_time": "2024-02-13T16:21:05.141Z"
   },
   {
    "duration": 1394,
    "start_time": "2024-02-13T16:21:06.000Z"
   },
   {
    "duration": 491,
    "start_time": "2024-02-13T16:21:07.396Z"
   },
   {
    "duration": 1123,
    "start_time": "2024-02-13T16:21:07.889Z"
   },
   {
    "duration": 668,
    "start_time": "2024-02-13T16:21:09.014Z"
   },
   {
    "duration": 194,
    "start_time": "2024-02-13T16:21:09.685Z"
   },
   {
    "duration": 88,
    "start_time": "2024-02-13T16:21:09.923Z"
   },
   {
    "duration": 587,
    "start_time": "2024-02-13T16:21:10.013Z"
   },
   {
    "duration": 855,
    "start_time": "2024-02-13T16:21:10.601Z"
   },
   {
    "duration": 440,
    "start_time": "2024-02-13T16:21:11.459Z"
   },
   {
    "duration": 96,
    "start_time": "2024-02-13T16:21:11.900Z"
   },
   {
    "duration": 1230,
    "start_time": "2024-02-13T16:21:11.998Z"
   },
   {
    "duration": 1348,
    "start_time": "2024-02-13T16:21:13.229Z"
   },
   {
    "duration": 299,
    "start_time": "2024-02-13T16:21:14.578Z"
   },
   {
    "duration": 89,
    "start_time": "2024-02-13T16:21:14.878Z"
   },
   {
    "duration": 49,
    "start_time": "2024-02-13T16:21:14.968Z"
   },
   {
    "duration": 204,
    "start_time": "2024-02-13T16:21:15.018Z"
   },
   {
    "duration": 1663,
    "start_time": "2024-02-13T16:21:15.223Z"
   },
   {
    "duration": 15,
    "start_time": "2024-02-13T16:21:16.887Z"
   },
   {
    "duration": 55,
    "start_time": "2024-02-13T16:21:16.904Z"
   },
   {
    "duration": 168,
    "start_time": "2024-02-13T16:21:16.962Z"
   },
   {
    "duration": 3614,
    "start_time": "2024-02-13T16:21:17.132Z"
   },
   {
    "duration": 212,
    "start_time": "2024-02-13T16:21:20.748Z"
   },
   {
    "duration": 29,
    "start_time": "2024-02-13T16:21:20.961Z"
   },
   {
    "duration": 122,
    "start_time": "2024-02-13T16:21:20.992Z"
   },
   {
    "duration": 513,
    "start_time": "2024-02-13T16:21:21.115Z"
   },
   {
    "duration": 365,
    "start_time": "2024-02-13T16:21:21.630Z"
   },
   {
    "duration": 377,
    "start_time": "2024-02-13T16:21:21.996Z"
   },
   {
    "duration": 109,
    "start_time": "2024-02-13T16:21:22.375Z"
   },
   {
    "duration": 112,
    "start_time": "2024-02-13T16:21:22.486Z"
   },
   {
    "duration": 107,
    "start_time": "2024-02-13T16:21:22.600Z"
   },
   {
    "duration": 89,
    "start_time": "2024-02-13T16:21:22.709Z"
   },
   {
    "duration": 64,
    "start_time": "2024-02-13T16:21:22.800Z"
   },
   {
    "duration": 16,
    "start_time": "2024-02-13T16:21:22.865Z"
   },
   {
    "duration": 26,
    "start_time": "2024-02-13T16:21:22.883Z"
   },
   {
    "duration": 43827,
    "start_time": "2024-02-13T16:21:22.911Z"
   },
   {
    "duration": 5167,
    "start_time": "2024-02-13T16:22:06.740Z"
   },
   {
    "duration": 5275,
    "start_time": "2024-02-13T16:22:11.909Z"
   },
   {
    "duration": 153,
    "start_time": "2024-02-13T16:22:17.186Z"
   },
   {
    "duration": 8,
    "start_time": "2024-02-13T16:22:17.341Z"
   },
   {
    "duration": 467,
    "start_time": "2024-02-13T16:22:17.358Z"
   },
   {
    "duration": 70,
    "start_time": "2024-02-13T16:22:17.827Z"
   },
   {
    "duration": 83,
    "start_time": "2024-02-13T16:22:17.898Z"
   },
   {
    "duration": 176,
    "start_time": "2024-02-13T16:22:17.983Z"
   },
   {
    "duration": 7,
    "start_time": "2024-02-13T16:22:18.161Z"
   },
   {
    "duration": 21995,
    "start_time": "2024-02-13T16:22:18.170Z"
   },
   {
    "duration": 46663,
    "start_time": "2024-02-13T16:22:40.167Z"
   },
   {
    "duration": 6033,
    "start_time": "2024-02-13T16:23:26.831Z"
   },
   {
    "duration": 24783,
    "start_time": "2024-02-13T16:23:32.866Z"
   },
   {
    "duration": 11,
    "start_time": "2024-02-13T16:23:57.652Z"
   },
   {
    "duration": 235,
    "start_time": "2024-02-13T16:23:57.664Z"
   },
   {
    "duration": 909965,
    "start_time": "2024-02-13T16:23:57.901Z"
   },
   {
    "duration": 5416,
    "start_time": "2024-02-13T16:39:07.868Z"
   },
   {
    "duration": 670403,
    "start_time": "2024-02-13T16:39:13.286Z"
   },
   {
    "duration": 71,
    "start_time": "2024-02-13T16:50:23.690Z"
   },
   {
    "duration": 109,
    "start_time": "2024-02-13T16:51:21.347Z"
   },
   {
    "duration": 118,
    "start_time": "2024-02-13T16:51:37.830Z"
   },
   {
    "duration": 273238,
    "start_time": "2024-02-13T16:52:53.832Z"
   },
   {
    "duration": 13334,
    "start_time": "2024-02-13T16:57:27.072Z"
   },
   {
    "duration": 7853,
    "start_time": "2024-02-13T16:58:13.249Z"
   },
   {
    "duration": 8049,
    "start_time": "2024-02-13T17:04:58.332Z"
   },
   {
    "duration": 7711,
    "start_time": "2024-02-13T17:05:32.500Z"
   },
   {
    "duration": 12,
    "start_time": "2024-02-13T17:14:12.002Z"
   },
   {
    "duration": 11,
    "start_time": "2024-02-13T17:14:48.974Z"
   },
   {
    "duration": 7979,
    "start_time": "2024-02-13T17:16:27.967Z"
   },
   {
    "duration": 11,
    "start_time": "2024-02-13T17:16:56.011Z"
   },
   {
    "duration": 7657,
    "start_time": "2024-02-13T17:17:42.341Z"
   },
   {
    "duration": 7535,
    "start_time": "2024-02-13T17:18:06.999Z"
   },
   {
    "duration": 7906,
    "start_time": "2024-02-13T17:18:58.281Z"
   },
   {
    "duration": 7427,
    "start_time": "2024-02-13T17:19:44.290Z"
   },
   {
    "duration": 7551,
    "start_time": "2024-02-13T17:20:52.180Z"
   },
   {
    "duration": 7665,
    "start_time": "2024-02-13T17:42:26.149Z"
   },
   {
    "duration": 24903,
    "start_time": "2024-02-13T17:43:34.788Z"
   },
   {
    "duration": 109,
    "start_time": "2024-02-13T17:44:45.951Z"
   },
   {
    "duration": 66,
    "start_time": "2024-02-13T17:45:30.373Z"
   },
   {
    "duration": 110,
    "start_time": "2024-02-13T17:45:39.882Z"
   },
   {
    "duration": 25230,
    "start_time": "2024-02-13T17:45:48.114Z"
   },
   {
    "duration": 31,
    "start_time": "2024-02-13T17:51:00.422Z"
   },
   {
    "duration": 117,
    "start_time": "2024-02-13T17:51:33.692Z"
   },
   {
    "duration": 100,
    "start_time": "2024-02-13T17:52:01.740Z"
   },
   {
    "duration": 169,
    "start_time": "2024-02-13T17:52:10.557Z"
   },
   {
    "duration": 8225,
    "start_time": "2024-02-13T17:54:08.494Z"
   },
   {
    "duration": 27061,
    "start_time": "2024-02-13T17:54:25.919Z"
   },
   {
    "duration": 47328,
    "start_time": "2024-02-13T18:02:22.862Z"
   },
   {
    "duration": 92,
    "start_time": "2024-02-13T18:06:18.168Z"
   },
   {
    "duration": 17,
    "start_time": "2024-02-13T18:09:32.275Z"
   },
   {
    "duration": 12,
    "start_time": "2024-02-13T18:11:20.639Z"
   },
   {
    "duration": 10,
    "start_time": "2024-02-13T18:15:13.518Z"
   },
   {
    "duration": 1073,
    "start_time": "2024-02-13T18:38:01.887Z"
   },
   {
    "duration": 1107,
    "start_time": "2024-02-13T18:39:10.507Z"
   },
   {
    "duration": 12,
    "start_time": "2024-02-13T18:39:18.388Z"
   },
   {
    "duration": 6,
    "start_time": "2024-02-13T18:39:55.364Z"
   },
   {
    "duration": 10,
    "start_time": "2024-02-13T18:40:09.444Z"
   },
   {
    "duration": 14,
    "start_time": "2024-02-13T18:40:54.586Z"
   },
   {
    "duration": 15,
    "start_time": "2024-02-13T18:41:47.502Z"
   },
   {
    "duration": 19,
    "start_time": "2024-02-13T18:44:17.912Z"
   },
   {
    "duration": 14,
    "start_time": "2024-02-13T19:41:52.360Z"
   },
   {
    "duration": 17,
    "start_time": "2024-02-13T19:52:52.486Z"
   },
   {
    "duration": 17,
    "start_time": "2024-02-13T19:52:54.804Z"
   },
   {
    "duration": 3,
    "start_time": "2024-02-13T20:00:21.828Z"
   },
   {
    "duration": 7,
    "start_time": "2024-02-13T20:00:21.833Z"
   },
   {
    "duration": 1610,
    "start_time": "2024-02-13T20:00:21.842Z"
   },
   {
    "duration": 877,
    "start_time": "2024-02-13T20:00:23.454Z"
   },
   {
    "duration": 1326,
    "start_time": "2024-02-13T20:00:24.333Z"
   },
   {
    "duration": 459,
    "start_time": "2024-02-13T20:00:25.661Z"
   },
   {
    "duration": 1059,
    "start_time": "2024-02-13T20:00:26.121Z"
   },
   {
    "duration": 682,
    "start_time": "2024-02-13T20:00:27.181Z"
   },
   {
    "duration": 219,
    "start_time": "2024-02-13T20:00:27.864Z"
   },
   {
    "duration": 78,
    "start_time": "2024-02-13T20:00:28.084Z"
   },
   {
    "duration": 543,
    "start_time": "2024-02-13T20:00:28.164Z"
   },
   {
    "duration": 791,
    "start_time": "2024-02-13T20:00:28.709Z"
   },
   {
    "duration": 409,
    "start_time": "2024-02-13T20:00:29.502Z"
   },
   {
    "duration": 107,
    "start_time": "2024-02-13T20:00:29.913Z"
   },
   {
    "duration": 1239,
    "start_time": "2024-02-13T20:00:30.021Z"
   },
   {
    "duration": 1376,
    "start_time": "2024-02-13T20:00:31.261Z"
   },
   {
    "duration": 308,
    "start_time": "2024-02-13T20:00:32.639Z"
   },
   {
    "duration": 87,
    "start_time": "2024-02-13T20:00:32.948Z"
   },
   {
    "duration": 52,
    "start_time": "2024-02-13T20:00:33.036Z"
   },
   {
    "duration": 180,
    "start_time": "2024-02-13T20:00:33.090Z"
   },
   {
    "duration": 1705,
    "start_time": "2024-02-13T20:00:33.272Z"
   },
   {
    "duration": 15,
    "start_time": "2024-02-13T20:00:34.979Z"
   },
   {
    "duration": 41,
    "start_time": "2024-02-13T20:00:34.996Z"
   },
   {
    "duration": 187,
    "start_time": "2024-02-13T20:00:35.039Z"
   },
   {
    "duration": 3585,
    "start_time": "2024-02-13T20:00:35.227Z"
   },
   {
    "duration": 196,
    "start_time": "2024-02-13T20:00:38.813Z"
   },
   {
    "duration": 29,
    "start_time": "2024-02-13T20:00:39.011Z"
   },
   {
    "duration": 126,
    "start_time": "2024-02-13T20:00:39.041Z"
   },
   {
    "duration": 484,
    "start_time": "2024-02-13T20:00:39.170Z"
   },
   {
    "duration": 356,
    "start_time": "2024-02-13T20:00:39.655Z"
   },
   {
    "duration": 363,
    "start_time": "2024-02-13T20:00:40.012Z"
   },
   {
    "duration": 103,
    "start_time": "2024-02-13T20:00:40.376Z"
   },
   {
    "duration": 95,
    "start_time": "2024-02-13T20:00:40.481Z"
   },
   {
    "duration": 96,
    "start_time": "2024-02-13T20:00:40.578Z"
   },
   {
    "duration": 85,
    "start_time": "2024-02-13T20:00:40.675Z"
   },
   {
    "duration": 69,
    "start_time": "2024-02-13T20:00:40.762Z"
   },
   {
    "duration": 33,
    "start_time": "2024-02-13T20:00:40.833Z"
   },
   {
    "duration": 9,
    "start_time": "2024-02-13T20:00:40.868Z"
   },
   {
    "duration": 42511,
    "start_time": "2024-02-13T20:00:40.878Z"
   },
   {
    "duration": 4826,
    "start_time": "2024-02-13T20:01:23.391Z"
   },
   {
    "duration": 5178,
    "start_time": "2024-02-13T20:01:28.219Z"
   },
   {
    "duration": 166,
    "start_time": "2024-02-13T20:01:33.399Z"
   },
   {
    "duration": 8,
    "start_time": "2024-02-13T20:01:33.566Z"
   },
   {
    "duration": 442,
    "start_time": "2024-02-13T20:01:33.575Z"
   },
   {
    "duration": 69,
    "start_time": "2024-02-13T20:01:34.018Z"
   },
   {
    "duration": 59,
    "start_time": "2024-02-13T20:01:34.088Z"
   },
   {
    "duration": 163,
    "start_time": "2024-02-13T20:01:34.148Z"
   },
   {
    "duration": 4,
    "start_time": "2024-02-13T20:01:34.313Z"
   },
   {
    "duration": 16356,
    "start_time": "2024-02-13T20:01:34.318Z"
   },
   {
    "duration": 45481,
    "start_time": "2024-02-13T20:01:50.762Z"
   },
   {
    "duration": 9616,
    "start_time": "2024-02-13T20:02:36.245Z"
   },
   {
    "duration": 24280,
    "start_time": "2024-02-13T20:02:45.862Z"
   },
   {
    "duration": 11,
    "start_time": "2024-02-13T20:03:10.143Z"
   },
   {
    "duration": 46826,
    "start_time": "2024-02-13T20:03:10.156Z"
   },
   {
    "duration": 176,
    "start_time": "2024-02-13T20:03:56.984Z"
   },
   {
    "duration": 258,
    "start_time": "2024-02-13T20:03:57.162Z"
   },
   {
    "duration": 100,
    "start_time": "2024-02-13T20:03:57.422Z"
   },
   {
    "duration": 818641,
    "start_time": "2024-02-13T20:03:57.523Z"
   },
   {
    "duration": 6101,
    "start_time": "2024-02-13T20:17:36.165Z"
   },
   {
    "duration": 688587,
    "start_time": "2024-02-13T20:17:42.268Z"
   },
   {
    "duration": 7607,
    "start_time": "2024-02-13T20:29:10.857Z"
   },
   {
    "duration": 12,
    "start_time": "2024-02-13T20:29:18.466Z"
   },
   {
    "duration": 0,
    "start_time": "2024-02-13T20:29:18.479Z"
   },
   {
    "duration": 0,
    "start_time": "2024-02-13T20:29:18.481Z"
   },
   {
    "duration": 0,
    "start_time": "2024-02-13T20:29:18.482Z"
   },
   {
    "duration": 484286,
    "start_time": "2024-02-13T20:41:20.719Z"
   },
   {
    "duration": 121049,
    "start_time": "2024-02-13T20:49:41.880Z"
   },
   {
    "duration": 4,
    "start_time": "2024-02-13T20:51:53.515Z"
   },
   {
    "duration": 15688,
    "start_time": "2024-02-13T20:51:55.670Z"
   },
   {
    "duration": 42995,
    "start_time": "2024-02-13T20:52:14.447Z"
   },
   {
    "duration": 4624,
    "start_time": "2024-02-13T20:53:11.250Z"
   },
   {
    "duration": 24009,
    "start_time": "2024-02-13T20:53:22.569Z"
   },
   {
    "duration": 3,
    "start_time": "2024-02-13T20:54:25.765Z"
   },
   {
    "duration": 16328,
    "start_time": "2024-02-13T20:54:30.341Z"
   },
   {
    "duration": 44059,
    "start_time": "2024-02-13T20:54:51.879Z"
   },
   {
    "duration": 43494,
    "start_time": "2024-02-13T20:55:45.475Z"
   },
   {
    "duration": 4724,
    "start_time": "2024-02-13T20:56:33.243Z"
   },
   {
    "duration": 24224,
    "start_time": "2024-02-13T20:56:42.835Z"
   },
   {
    "duration": 25403,
    "start_time": "2024-02-13T20:57:37.465Z"
   },
   {
    "duration": 8530,
    "start_time": "2024-02-14T08:47:43.138Z"
   },
   {
    "duration": 7213,
    "start_time": "2024-02-14T08:47:59.296Z"
   },
   {
    "duration": 3,
    "start_time": "2024-02-14T08:48:20.417Z"
   },
   {
    "duration": 18,
    "start_time": "2024-02-14T08:48:20.422Z"
   },
   {
    "duration": 1824,
    "start_time": "2024-02-14T08:48:20.441Z"
   },
   {
    "duration": 1070,
    "start_time": "2024-02-14T08:48:22.268Z"
   },
   {
    "duration": 1280,
    "start_time": "2024-02-14T08:48:23.340Z"
   },
   {
    "duration": 490,
    "start_time": "2024-02-14T08:48:24.621Z"
   },
   {
    "duration": 1053,
    "start_time": "2024-02-14T08:48:25.112Z"
   },
   {
    "duration": 666,
    "start_time": "2024-02-14T08:48:26.167Z"
   },
   {
    "duration": 227,
    "start_time": "2024-02-14T08:48:26.836Z"
   },
   {
    "duration": 84,
    "start_time": "2024-02-14T08:48:27.064Z"
   },
   {
    "duration": 585,
    "start_time": "2024-02-14T08:48:27.150Z"
   },
   {
    "duration": 807,
    "start_time": "2024-02-14T08:48:27.737Z"
   },
   {
    "duration": 446,
    "start_time": "2024-02-14T08:48:28.546Z"
   },
   {
    "duration": 100,
    "start_time": "2024-02-14T08:48:28.994Z"
   },
   {
    "duration": 1186,
    "start_time": "2024-02-14T08:48:29.095Z"
   },
   {
    "duration": 1347,
    "start_time": "2024-02-14T08:48:30.282Z"
   },
   {
    "duration": 317,
    "start_time": "2024-02-14T08:48:31.631Z"
   },
   {
    "duration": 86,
    "start_time": "2024-02-14T08:48:31.950Z"
   },
   {
    "duration": 55,
    "start_time": "2024-02-14T08:48:32.038Z"
   },
   {
    "duration": 188,
    "start_time": "2024-02-14T08:48:32.094Z"
   },
   {
    "duration": 1677,
    "start_time": "2024-02-14T08:48:32.284Z"
   },
   {
    "duration": 17,
    "start_time": "2024-02-14T08:48:33.962Z"
   },
   {
    "duration": 42,
    "start_time": "2024-02-14T08:48:33.981Z"
   },
   {
    "duration": 190,
    "start_time": "2024-02-14T08:48:34.027Z"
   },
   {
    "duration": 3607,
    "start_time": "2024-02-14T08:48:34.218Z"
   },
   {
    "duration": 212,
    "start_time": "2024-02-14T08:48:37.826Z"
   },
   {
    "duration": 33,
    "start_time": "2024-02-14T08:48:38.039Z"
   },
   {
    "duration": 110,
    "start_time": "2024-02-14T08:48:38.074Z"
   },
   {
    "duration": 515,
    "start_time": "2024-02-14T08:48:38.185Z"
   },
   {
    "duration": 368,
    "start_time": "2024-02-14T08:48:38.702Z"
   },
   {
    "duration": 352,
    "start_time": "2024-02-14T08:48:39.071Z"
   },
   {
    "duration": 119,
    "start_time": "2024-02-14T08:48:39.425Z"
   },
   {
    "duration": 97,
    "start_time": "2024-02-14T08:48:39.546Z"
   },
   {
    "duration": 92,
    "start_time": "2024-02-14T08:48:39.645Z"
   },
   {
    "duration": 85,
    "start_time": "2024-02-14T08:48:39.739Z"
   },
   {
    "duration": 66,
    "start_time": "2024-02-14T08:48:39.825Z"
   },
   {
    "duration": 10,
    "start_time": "2024-02-14T08:48:39.892Z"
   },
   {
    "duration": 13,
    "start_time": "2024-02-14T08:48:39.904Z"
   },
   {
    "duration": 44806,
    "start_time": "2024-02-14T08:48:39.918Z"
   },
   {
    "duration": 5397,
    "start_time": "2024-02-14T08:49:24.725Z"
   },
   {
    "duration": 5105,
    "start_time": "2024-02-14T08:49:30.124Z"
   },
   {
    "duration": 159,
    "start_time": "2024-02-14T08:49:35.231Z"
   },
   {
    "duration": 8,
    "start_time": "2024-02-14T08:49:35.392Z"
   },
   {
    "duration": 446,
    "start_time": "2024-02-14T08:49:35.402Z"
   },
   {
    "duration": 99,
    "start_time": "2024-02-14T08:49:35.850Z"
   },
   {
    "duration": 64,
    "start_time": "2024-02-14T08:49:35.952Z"
   },
   {
    "duration": 172,
    "start_time": "2024-02-14T08:49:36.017Z"
   },
   {
    "duration": 5,
    "start_time": "2024-02-14T08:49:36.190Z"
   },
   {
    "duration": 90,
    "start_time": "2024-02-14T08:49:36.197Z"
   },
   {
    "duration": 0,
    "start_time": "2024-02-14T08:49:36.288Z"
   },
   {
    "duration": 0,
    "start_time": "2024-02-14T08:49:36.290Z"
   },
   {
    "duration": 0,
    "start_time": "2024-02-14T08:49:36.291Z"
   },
   {
    "duration": 0,
    "start_time": "2024-02-14T08:49:36.292Z"
   },
   {
    "duration": 0,
    "start_time": "2024-02-14T08:49:36.293Z"
   },
   {
    "duration": 0,
    "start_time": "2024-02-14T08:49:36.294Z"
   },
   {
    "duration": 0,
    "start_time": "2024-02-14T08:49:36.295Z"
   },
   {
    "duration": 0,
    "start_time": "2024-02-14T08:49:36.296Z"
   },
   {
    "duration": 0,
    "start_time": "2024-02-14T08:49:36.297Z"
   },
   {
    "duration": 0,
    "start_time": "2024-02-14T08:49:36.299Z"
   },
   {
    "duration": 0,
    "start_time": "2024-02-14T08:49:36.300Z"
   },
   {
    "duration": 0,
    "start_time": "2024-02-14T08:49:36.301Z"
   },
   {
    "duration": 0,
    "start_time": "2024-02-14T08:49:36.303Z"
   },
   {
    "duration": 0,
    "start_time": "2024-02-14T08:49:36.304Z"
   },
   {
    "duration": 0,
    "start_time": "2024-02-14T08:49:36.305Z"
   },
   {
    "duration": 0,
    "start_time": "2024-02-14T08:49:36.306Z"
   },
   {
    "duration": 17743,
    "start_time": "2024-02-14T08:51:13.528Z"
   },
   {
    "duration": 46463,
    "start_time": "2024-02-14T08:51:56.454Z"
   },
   {
    "duration": 5701,
    "start_time": "2024-02-14T08:52:48.669Z"
   },
   {
    "duration": 25261,
    "start_time": "2024-02-14T08:52:58.383Z"
   },
   {
    "duration": 12,
    "start_time": "2024-02-14T08:53:28.899Z"
   },
   {
    "duration": 24938,
    "start_time": "2024-02-14T08:54:16.423Z"
   },
   {
    "duration": 3,
    "start_time": "2024-02-14T08:55:07.255Z"
   },
   {
    "duration": 13,
    "start_time": "2024-02-14T08:55:07.260Z"
   },
   {
    "duration": 1674,
    "start_time": "2024-02-14T08:55:07.274Z"
   },
   {
    "duration": 854,
    "start_time": "2024-02-14T08:55:08.949Z"
   },
   {
    "duration": 1395,
    "start_time": "2024-02-14T08:55:09.805Z"
   },
   {
    "duration": 492,
    "start_time": "2024-02-14T08:55:11.202Z"
   },
   {
    "duration": 1097,
    "start_time": "2024-02-14T08:55:11.696Z"
   },
   {
    "duration": 640,
    "start_time": "2024-02-14T08:55:12.794Z"
   },
   {
    "duration": 223,
    "start_time": "2024-02-14T08:55:13.436Z"
   },
   {
    "duration": 84,
    "start_time": "2024-02-14T08:55:13.660Z"
   },
   {
    "duration": 589,
    "start_time": "2024-02-14T08:55:13.746Z"
   },
   {
    "duration": 841,
    "start_time": "2024-02-14T08:55:14.336Z"
   },
   {
    "duration": 438,
    "start_time": "2024-02-14T08:55:15.179Z"
   },
   {
    "duration": 98,
    "start_time": "2024-02-14T08:55:15.619Z"
   },
   {
    "duration": 1305,
    "start_time": "2024-02-14T08:55:15.718Z"
   },
   {
    "duration": 1323,
    "start_time": "2024-02-14T08:55:17.024Z"
   },
   {
    "duration": 312,
    "start_time": "2024-02-14T08:55:18.348Z"
   },
   {
    "duration": 84,
    "start_time": "2024-02-14T08:55:18.662Z"
   },
   {
    "duration": 62,
    "start_time": "2024-02-14T08:55:18.747Z"
   },
   {
    "duration": 195,
    "start_time": "2024-02-14T08:55:18.810Z"
   },
   {
    "duration": 1666,
    "start_time": "2024-02-14T08:55:19.007Z"
   },
   {
    "duration": 17,
    "start_time": "2024-02-14T08:55:20.675Z"
   },
   {
    "duration": 51,
    "start_time": "2024-02-14T08:55:20.694Z"
   },
   {
    "duration": 196,
    "start_time": "2024-02-14T08:55:20.748Z"
   },
   {
    "duration": 3571,
    "start_time": "2024-02-14T08:55:20.946Z"
   },
   {
    "duration": 221,
    "start_time": "2024-02-14T08:55:24.519Z"
   },
   {
    "duration": 37,
    "start_time": "2024-02-14T08:55:24.741Z"
   },
   {
    "duration": 143,
    "start_time": "2024-02-14T08:55:24.780Z"
   },
   {
    "duration": 505,
    "start_time": "2024-02-14T08:55:24.927Z"
   },
   {
    "duration": 361,
    "start_time": "2024-02-14T08:55:25.434Z"
   },
   {
    "duration": 418,
    "start_time": "2024-02-14T08:55:25.796Z"
   },
   {
    "duration": 114,
    "start_time": "2024-02-14T08:55:26.216Z"
   },
   {
    "duration": 93,
    "start_time": "2024-02-14T08:55:26.331Z"
   },
   {
    "duration": 95,
    "start_time": "2024-02-14T08:55:26.425Z"
   },
   {
    "duration": 83,
    "start_time": "2024-02-14T08:55:26.522Z"
   },
   {
    "duration": 73,
    "start_time": "2024-02-14T08:55:26.607Z"
   },
   {
    "duration": 10,
    "start_time": "2024-02-14T08:55:26.682Z"
   },
   {
    "duration": 7,
    "start_time": "2024-02-14T08:55:26.693Z"
   },
   {
    "duration": 45649,
    "start_time": "2024-02-14T08:55:26.701Z"
   },
   {
    "duration": 5623,
    "start_time": "2024-02-14T08:56:12.352Z"
   },
   {
    "duration": 5395,
    "start_time": "2024-02-14T08:56:17.976Z"
   },
   {
    "duration": 160,
    "start_time": "2024-02-14T08:56:23.372Z"
   },
   {
    "duration": 7,
    "start_time": "2024-02-14T08:56:23.534Z"
   },
   {
    "duration": 456,
    "start_time": "2024-02-14T08:56:23.542Z"
   },
   {
    "duration": 71,
    "start_time": "2024-02-14T08:56:23.999Z"
   },
   {
    "duration": 63,
    "start_time": "2024-02-14T08:56:24.072Z"
   },
   {
    "duration": 175,
    "start_time": "2024-02-14T08:56:24.136Z"
   },
   {
    "duration": 4,
    "start_time": "2024-02-14T08:56:24.313Z"
   },
   {
    "duration": 16865,
    "start_time": "2024-02-14T08:56:24.318Z"
   },
   {
    "duration": 45795,
    "start_time": "2024-02-14T08:56:41.265Z"
   },
   {
    "duration": 5920,
    "start_time": "2024-02-14T08:57:27.065Z"
   },
   {
    "duration": 25429,
    "start_time": "2024-02-14T08:57:32.986Z"
   },
   {
    "duration": 12,
    "start_time": "2024-02-14T08:57:58.417Z"
   },
   {
    "duration": 165,
    "start_time": "2024-02-14T08:57:58.430Z"
   },
   {
    "duration": 0,
    "start_time": "2024-02-14T08:57:58.596Z"
   },
   {
    "duration": 0,
    "start_time": "2024-02-14T08:57:58.598Z"
   },
   {
    "duration": 0,
    "start_time": "2024-02-14T08:57:58.599Z"
   },
   {
    "duration": 0,
    "start_time": "2024-02-14T08:57:58.600Z"
   },
   {
    "duration": 0,
    "start_time": "2024-02-14T08:57:58.601Z"
   },
   {
    "duration": 0,
    "start_time": "2024-02-14T08:57:58.602Z"
   },
   {
    "duration": 0,
    "start_time": "2024-02-14T08:57:58.603Z"
   },
   {
    "duration": 0,
    "start_time": "2024-02-14T08:57:58.604Z"
   },
   {
    "duration": 0,
    "start_time": "2024-02-14T08:57:58.605Z"
   },
   {
    "duration": 0,
    "start_time": "2024-02-14T08:57:58.606Z"
   },
   {
    "duration": 0,
    "start_time": "2024-02-14T08:57:58.607Z"
   },
   {
    "duration": 17,
    "start_time": "2024-02-14T09:07:24.516Z"
   },
   {
    "duration": 146285,
    "start_time": "2024-02-14T09:07:31.940Z"
   },
   {
    "duration": 108811,
    "start_time": "2024-02-14T09:10:10.570Z"
   },
   {
    "duration": 26543,
    "start_time": "2024-02-14T09:12:09.640Z"
   },
   {
    "duration": 46,
    "start_time": "2024-02-14T09:14:30.157Z"
   },
   {
    "duration": 116,
    "start_time": "2024-02-14T09:15:04.434Z"
   },
   {
    "duration": 44,
    "start_time": "2024-02-14T09:15:22.041Z"
   },
   {
    "duration": 27503,
    "start_time": "2024-02-14T09:16:12.469Z"
   },
   {
    "duration": 39,
    "start_time": "2024-02-14T09:18:10.499Z"
   },
   {
    "duration": 16454,
    "start_time": "2024-02-14T09:19:31.122Z"
   },
   {
    "duration": 26813,
    "start_time": "2024-02-14T09:21:59.288Z"
   },
   {
    "duration": 16652,
    "start_time": "2024-02-14T09:22:35.815Z"
   },
   {
    "duration": 3,
    "start_time": "2024-02-14T09:45:23.069Z"
   },
   {
    "duration": 10,
    "start_time": "2024-02-14T09:45:23.074Z"
   },
   {
    "duration": 1596,
    "start_time": "2024-02-14T09:45:23.085Z"
   },
   {
    "duration": 894,
    "start_time": "2024-02-14T09:45:24.683Z"
   },
   {
    "duration": 1375,
    "start_time": "2024-02-14T09:45:25.579Z"
   },
   {
    "duration": 458,
    "start_time": "2024-02-14T09:45:26.956Z"
   },
   {
    "duration": 1112,
    "start_time": "2024-02-14T09:45:27.416Z"
   },
   {
    "duration": 681,
    "start_time": "2024-02-14T09:45:28.530Z"
   },
   {
    "duration": 210,
    "start_time": "2024-02-14T09:45:29.212Z"
   },
   {
    "duration": 101,
    "start_time": "2024-02-14T09:45:29.424Z"
   },
   {
    "duration": 594,
    "start_time": "2024-02-14T09:45:29.529Z"
   },
   {
    "duration": 931,
    "start_time": "2024-02-14T09:45:30.125Z"
   },
   {
    "duration": 472,
    "start_time": "2024-02-14T09:45:31.058Z"
   },
   {
    "duration": 105,
    "start_time": "2024-02-14T09:45:31.532Z"
   },
   {
    "duration": 1309,
    "start_time": "2024-02-14T09:45:31.639Z"
   },
   {
    "duration": 1509,
    "start_time": "2024-02-14T09:45:32.950Z"
   },
   {
    "duration": 356,
    "start_time": "2024-02-14T09:45:34.461Z"
   },
   {
    "duration": 98,
    "start_time": "2024-02-14T09:45:34.819Z"
   },
   {
    "duration": 55,
    "start_time": "2024-02-14T09:45:34.919Z"
   },
   {
    "duration": 199,
    "start_time": "2024-02-14T09:45:34.976Z"
   },
   {
    "duration": 1862,
    "start_time": "2024-02-14T09:45:35.177Z"
   },
   {
    "duration": 25,
    "start_time": "2024-02-14T09:45:37.041Z"
   },
   {
    "duration": 47,
    "start_time": "2024-02-14T09:45:37.068Z"
   },
   {
    "duration": 187,
    "start_time": "2024-02-14T09:45:37.116Z"
   },
   {
    "duration": 3631,
    "start_time": "2024-02-14T09:45:37.304Z"
   },
   {
    "duration": 210,
    "start_time": "2024-02-14T09:45:40.936Z"
   },
   {
    "duration": 33,
    "start_time": "2024-02-14T09:45:41.148Z"
   },
   {
    "duration": 133,
    "start_time": "2024-02-14T09:45:41.183Z"
   },
   {
    "duration": 516,
    "start_time": "2024-02-14T09:45:41.320Z"
   },
   {
    "duration": 375,
    "start_time": "2024-02-14T09:45:41.838Z"
   },
   {
    "duration": 366,
    "start_time": "2024-02-14T09:45:42.215Z"
   },
   {
    "duration": 112,
    "start_time": "2024-02-14T09:45:42.582Z"
   },
   {
    "duration": 99,
    "start_time": "2024-02-14T09:45:42.695Z"
   },
   {
    "duration": 100,
    "start_time": "2024-02-14T09:45:42.796Z"
   },
   {
    "duration": 93,
    "start_time": "2024-02-14T09:45:42.898Z"
   },
   {
    "duration": 59,
    "start_time": "2024-02-14T09:45:42.993Z"
   },
   {
    "duration": 11,
    "start_time": "2024-02-14T09:45:43.066Z"
   },
   {
    "duration": 28,
    "start_time": "2024-02-14T09:45:43.078Z"
   },
   {
    "duration": 51247,
    "start_time": "2024-02-14T09:45:43.108Z"
   },
   {
    "duration": 6330,
    "start_time": "2024-02-14T09:46:34.357Z"
   },
   {
    "duration": 5960,
    "start_time": "2024-02-14T09:46:40.689Z"
   },
   {
    "duration": 179,
    "start_time": "2024-02-14T09:46:46.651Z"
   },
   {
    "duration": 8,
    "start_time": "2024-02-14T09:46:46.832Z"
   },
   {
    "duration": 449,
    "start_time": "2024-02-14T09:46:46.842Z"
   },
   {
    "duration": 72,
    "start_time": "2024-02-14T09:46:47.293Z"
   },
   {
    "duration": 63,
    "start_time": "2024-02-14T09:46:47.367Z"
   },
   {
    "duration": 177,
    "start_time": "2024-02-14T09:46:47.432Z"
   },
   {
    "duration": 5,
    "start_time": "2024-02-14T09:46:47.611Z"
   },
   {
    "duration": 16775,
    "start_time": "2024-02-14T09:46:47.617Z"
   },
   {
    "duration": 44478,
    "start_time": "2024-02-14T09:47:04.395Z"
   },
   {
    "duration": 7900,
    "start_time": "2024-02-14T09:47:48.875Z"
   },
   {
    "duration": 25456,
    "start_time": "2024-02-14T09:47:56.777Z"
   },
   {
    "duration": 12,
    "start_time": "2024-02-14T09:48:22.235Z"
   },
   {
    "duration": 6345,
    "start_time": "2024-02-14T09:48:22.249Z"
   },
   {
    "duration": 80,
    "start_time": "2024-02-14T09:48:28.596Z"
   },
   {
    "duration": 452,
    "start_time": "2024-02-14T09:48:28.678Z"
   },
   {
    "duration": 74,
    "start_time": "2024-02-14T09:48:29.132Z"
   },
   {
    "duration": 486,
    "start_time": "2024-02-14T09:48:29.207Z"
   },
   {
    "duration": 79,
    "start_time": "2024-02-14T09:48:29.695Z"
   },
   {
    "duration": 519,
    "start_time": "2024-02-14T09:48:29.776Z"
   },
   {
    "duration": 212,
    "start_time": "2024-02-14T09:48:30.296Z"
   },
   {
    "duration": 11,
    "start_time": "2024-02-14T09:48:30.509Z"
   },
   {
    "duration": 0,
    "start_time": "2024-02-14T09:48:30.522Z"
   },
   {
    "duration": 0,
    "start_time": "2024-02-14T09:48:30.523Z"
   },
   {
    "duration": 0,
    "start_time": "2024-02-14T09:48:30.524Z"
   },
   {
    "duration": 6256,
    "start_time": "2024-02-14T09:49:22.930Z"
   },
   {
    "duration": 4,
    "start_time": "2024-02-14T09:51:22.208Z"
   },
   {
    "duration": 19,
    "start_time": "2024-02-14T09:51:22.216Z"
   },
   {
    "duration": 1811,
    "start_time": "2024-02-14T09:51:22.238Z"
   },
   {
    "duration": 886,
    "start_time": "2024-02-14T09:51:24.050Z"
   },
   {
    "duration": 1416,
    "start_time": "2024-02-14T09:51:24.938Z"
   },
   {
    "duration": 498,
    "start_time": "2024-02-14T09:51:26.356Z"
   },
   {
    "duration": 1095,
    "start_time": "2024-02-14T09:51:26.856Z"
   },
   {
    "duration": 661,
    "start_time": "2024-02-14T09:51:27.953Z"
   },
   {
    "duration": 234,
    "start_time": "2024-02-14T09:51:28.615Z"
   },
   {
    "duration": 91,
    "start_time": "2024-02-14T09:51:28.851Z"
   },
   {
    "duration": 592,
    "start_time": "2024-02-14T09:51:28.943Z"
   },
   {
    "duration": 874,
    "start_time": "2024-02-14T09:51:29.537Z"
   },
   {
    "duration": 517,
    "start_time": "2024-02-14T09:51:30.414Z"
   },
   {
    "duration": 106,
    "start_time": "2024-02-14T09:51:30.933Z"
   },
   {
    "duration": 1295,
    "start_time": "2024-02-14T09:51:31.043Z"
   },
   {
    "duration": 1491,
    "start_time": "2024-02-14T09:51:32.340Z"
   },
   {
    "duration": 323,
    "start_time": "2024-02-14T09:51:33.833Z"
   },
   {
    "duration": 90,
    "start_time": "2024-02-14T09:51:34.158Z"
   },
   {
    "duration": 57,
    "start_time": "2024-02-14T09:51:34.250Z"
   },
   {
    "duration": 190,
    "start_time": "2024-02-14T09:51:34.308Z"
   },
   {
    "duration": 1820,
    "start_time": "2024-02-14T09:51:34.500Z"
   },
   {
    "duration": 17,
    "start_time": "2024-02-14T09:51:36.321Z"
   },
   {
    "duration": 62,
    "start_time": "2024-02-14T09:51:36.340Z"
   },
   {
    "duration": 181,
    "start_time": "2024-02-14T09:51:36.404Z"
   },
   {
    "duration": 3626,
    "start_time": "2024-02-14T09:51:36.587Z"
   },
   {
    "duration": 224,
    "start_time": "2024-02-14T09:51:40.215Z"
   },
   {
    "duration": 38,
    "start_time": "2024-02-14T09:51:40.441Z"
   },
   {
    "duration": 111,
    "start_time": "2024-02-14T09:51:40.481Z"
   },
   {
    "duration": 486,
    "start_time": "2024-02-14T09:51:40.594Z"
   },
   {
    "duration": 366,
    "start_time": "2024-02-14T09:51:41.082Z"
   },
   {
    "duration": 380,
    "start_time": "2024-02-14T09:51:41.450Z"
   },
   {
    "duration": 118,
    "start_time": "2024-02-14T09:51:41.835Z"
   },
   {
    "duration": 97,
    "start_time": "2024-02-14T09:51:41.955Z"
   },
   {
    "duration": 107,
    "start_time": "2024-02-14T09:51:42.053Z"
   },
   {
    "duration": 77,
    "start_time": "2024-02-14T09:51:42.161Z"
   },
   {
    "duration": 73,
    "start_time": "2024-02-14T09:51:42.240Z"
   },
   {
    "duration": 11,
    "start_time": "2024-02-14T09:51:42.315Z"
   },
   {
    "duration": 7,
    "start_time": "2024-02-14T09:51:42.327Z"
   },
   {
    "duration": 49941,
    "start_time": "2024-02-14T09:51:42.335Z"
   },
   {
    "duration": 5832,
    "start_time": "2024-02-14T09:52:32.277Z"
   },
   {
    "duration": 6048,
    "start_time": "2024-02-14T09:52:38.111Z"
   },
   {
    "duration": 175,
    "start_time": "2024-02-14T09:52:44.166Z"
   },
   {
    "duration": 8,
    "start_time": "2024-02-14T09:52:44.343Z"
   },
   {
    "duration": 491,
    "start_time": "2024-02-14T09:52:44.353Z"
   },
   {
    "duration": 69,
    "start_time": "2024-02-14T09:52:44.846Z"
   },
   {
    "duration": 88,
    "start_time": "2024-02-14T09:52:44.916Z"
   },
   {
    "duration": 180,
    "start_time": "2024-02-14T09:52:45.006Z"
   },
   {
    "duration": 5,
    "start_time": "2024-02-14T09:52:45.187Z"
   },
   {
    "duration": 19194,
    "start_time": "2024-02-14T09:52:45.194Z"
   },
   {
    "duration": 45381,
    "start_time": "2024-02-14T09:53:04.390Z"
   },
   {
    "duration": 5526,
    "start_time": "2024-02-14T09:53:49.772Z"
   },
   {
    "duration": 25397,
    "start_time": "2024-02-14T09:53:55.300Z"
   },
   {
    "duration": 12,
    "start_time": "2024-02-14T09:54:20.699Z"
   },
   {
    "duration": 491160,
    "start_time": "2024-02-14T09:54:20.713Z"
   },
   {
    "duration": 15607,
    "start_time": "2024-02-14T10:02:31.875Z"
   },
   {
    "duration": 508834,
    "start_time": "2024-02-14T10:02:47.567Z"
   },
   {
    "duration": 13802,
    "start_time": "2024-02-14T10:11:16.403Z"
   },
   {
    "duration": 429265,
    "start_time": "2024-02-14T10:11:30.207Z"
   },
   {
    "duration": 2706,
    "start_time": "2024-02-14T10:18:39.473Z"
   },
   {
    "duration": 659,
    "start_time": "2024-02-14T10:18:42.268Z"
   },
   {
    "duration": 88,
    "start_time": "2024-02-14T10:18:42.929Z"
   },
   {
    "duration": 12,
    "start_time": "2024-02-14T10:18:43.019Z"
   },
   {
    "duration": 0,
    "start_time": "2024-02-14T10:18:43.033Z"
   },
   {
    "duration": 0,
    "start_time": "2024-02-14T10:18:43.034Z"
   },
   {
    "duration": 0,
    "start_time": "2024-02-14T10:18:43.035Z"
   },
   {
    "duration": 401114,
    "start_time": "2024-02-14T10:19:01.706Z"
   },
   {
    "duration": 3605,
    "start_time": "2024-02-14T10:25:42.822Z"
   },
   {
    "duration": 12,
    "start_time": "2024-02-14T10:25:46.429Z"
   },
   {
    "duration": 84,
    "start_time": "2024-02-14T10:28:17.983Z"
   },
   {
    "duration": 84,
    "start_time": "2024-02-14T10:29:38.451Z"
   },
   {
    "duration": 404578,
    "start_time": "2024-02-14T10:29:44.183Z"
   },
   {
    "duration": 17,
    "start_time": "2024-02-14T10:36:28.763Z"
   },
   {
    "duration": 31,
    "start_time": "2024-02-14T10:36:28.781Z"
   },
   {
    "duration": 91,
    "start_time": "2024-02-14T10:36:35.108Z"
   },
   {
    "duration": 3548,
    "start_time": "2024-02-14T10:36:42.308Z"
   },
   {
    "duration": 4,
    "start_time": "2024-02-14T10:37:21.098Z"
   },
   {
    "duration": 118,
    "start_time": "2024-02-14T10:37:24.957Z"
   },
   {
    "duration": 3640,
    "start_time": "2024-02-14T10:37:40.248Z"
   },
   {
    "duration": 25978,
    "start_time": "2024-02-14T10:39:00.150Z"
   },
   {
    "duration": 10,
    "start_time": "2024-02-14T10:43:05.134Z"
   },
   {
    "duration": 2821,
    "start_time": "2024-02-14T10:45:46.886Z"
   },
   {
    "duration": 2775,
    "start_time": "2024-02-14T10:47:03.932Z"
   },
   {
    "duration": 3524,
    "start_time": "2024-02-14T10:47:27.904Z"
   },
   {
    "duration": 4,
    "start_time": "2024-02-14T10:47:48.957Z"
   },
   {
    "duration": 16245,
    "start_time": "2024-02-14T10:47:51.232Z"
   },
   {
    "duration": 3492,
    "start_time": "2024-02-14T10:48:52.089Z"
   },
   {
    "duration": 12,
    "start_time": "2024-02-14T10:49:14.812Z"
   },
   {
    "duration": 16,
    "start_time": "2024-02-14T10:49:28.994Z"
   },
   {
    "duration": 17,
    "start_time": "2024-02-14T10:49:33.544Z"
   },
   {
    "duration": 26528,
    "start_time": "2024-02-14T10:49:50.861Z"
   },
   {
    "duration": 18924,
    "start_time": "2024-02-14T10:59:00.767Z"
   },
   {
    "duration": 76002,
    "start_time": "2024-02-14T11:00:01.443Z"
   },
   {
    "duration": 11753,
    "start_time": "2024-02-14T11:01:37.349Z"
   },
   {
    "duration": 7118,
    "start_time": "2024-02-14T11:02:58.197Z"
   },
   {
    "duration": 4016,
    "start_time": "2024-02-14T11:03:10.877Z"
   },
   {
    "duration": 14990,
    "start_time": "2024-02-14T11:03:30.379Z"
   },
   {
    "duration": 400671,
    "start_time": "2024-02-14T11:04:25.386Z"
   },
   {
    "duration": 5905,
    "start_time": "2024-02-14T11:17:31.691Z"
   },
   {
    "duration": 292444,
    "start_time": "2024-02-14T11:19:32.360Z"
   },
   {
    "duration": 48648,
    "start_time": "2024-02-14T11:26:19.395Z"
   },
   {
    "duration": 3399,
    "start_time": "2024-02-14T11:27:20.670Z"
   },
   {
    "duration": 18305,
    "start_time": "2024-02-14T11:27:44.787Z"
   },
   {
    "duration": 4278,
    "start_time": "2024-02-14T11:28:30.772Z"
   },
   {
    "duration": 10204,
    "start_time": "2024-02-14T11:28:43.465Z"
   },
   {
    "duration": 10149,
    "start_time": "2024-02-14T11:29:07.721Z"
   },
   {
    "duration": 100807,
    "start_time": "2024-02-14T11:29:29.978Z"
   },
   {
    "duration": 105722,
    "start_time": "2024-02-14T11:31:14.206Z"
   },
   {
    "duration": 10091,
    "start_time": "2024-02-14T11:33:06.292Z"
   },
   {
    "duration": 12563,
    "start_time": "2024-02-14T11:33:23.314Z"
   },
   {
    "duration": 14923,
    "start_time": "2024-02-14T11:33:44.660Z"
   },
   {
    "duration": 25077,
    "start_time": "2024-02-14T11:34:07.492Z"
   },
   {
    "duration": 24528,
    "start_time": "2024-02-14T11:35:03.592Z"
   },
   {
    "duration": 23990,
    "start_time": "2024-02-14T11:35:40.465Z"
   },
   {
    "duration": 25100,
    "start_time": "2024-02-14T11:36:24.937Z"
   },
   {
    "duration": 25217,
    "start_time": "2024-02-14T11:41:26.597Z"
   },
   {
    "duration": 17130,
    "start_time": "2024-02-14T11:43:34.339Z"
   },
   {
    "duration": 16968,
    "start_time": "2024-02-14T11:43:58.100Z"
   },
   {
    "duration": 42001,
    "start_time": "2024-02-14T11:46:13.552Z"
   },
   {
    "duration": 45356,
    "start_time": "2024-02-14T11:47:05.550Z"
   },
   {
    "duration": 61681,
    "start_time": "2024-02-14T11:48:00.375Z"
   },
   {
    "duration": 82059,
    "start_time": "2024-02-14T11:49:11.872Z"
   },
   {
    "duration": 61318,
    "start_time": "2024-02-14T11:50:51.721Z"
   },
   {
    "duration": 45210,
    "start_time": "2024-02-14T11:52:14.757Z"
   },
   {
    "duration": 5426,
    "start_time": "2024-02-14T11:54:39.946Z"
   },
   {
    "duration": 11207,
    "start_time": "2024-02-14T11:54:54.664Z"
   },
   {
    "duration": 19080,
    "start_time": "2024-02-14T11:55:13.218Z"
   },
   {
    "duration": 17701,
    "start_time": "2024-02-14T11:55:46.066Z"
   },
   {
    "duration": 34368,
    "start_time": "2024-02-14T11:56:13.916Z"
   },
   {
    "duration": 17210,
    "start_time": "2024-02-14T11:56:57.975Z"
   },
   {
    "duration": 18539,
    "start_time": "2024-02-14T11:57:28.751Z"
   },
   {
    "duration": 17297,
    "start_time": "2024-02-14T11:57:55.481Z"
   },
   {
    "duration": 17261,
    "start_time": "2024-02-14T11:58:18.314Z"
   },
   {
    "duration": 5818,
    "start_time": "2024-02-14T12:00:41.953Z"
   },
   {
    "duration": 98,
    "start_time": "2024-02-14T12:05:45.794Z"
   },
   {
    "duration": 16542,
    "start_time": "2024-02-14T12:05:52.024Z"
   },
   {
    "duration": 17653,
    "start_time": "2024-02-14T12:06:16.813Z"
   },
   {
    "duration": 33295,
    "start_time": "2024-02-14T12:07:28.271Z"
   },
   {
    "duration": 750810,
    "start_time": "2024-02-14T12:12:23.520Z"
   },
   {
    "duration": 4,
    "start_time": "2024-02-14T12:25:11.406Z"
   },
   {
    "duration": 19,
    "start_time": "2024-02-14T12:25:11.411Z"
   },
   {
    "duration": 1679,
    "start_time": "2024-02-14T12:25:11.431Z"
   },
   {
    "duration": 908,
    "start_time": "2024-02-14T12:25:13.112Z"
   },
   {
    "duration": 1372,
    "start_time": "2024-02-14T12:25:14.022Z"
   },
   {
    "duration": 486,
    "start_time": "2024-02-14T12:25:15.396Z"
   },
   {
    "duration": 1142,
    "start_time": "2024-02-14T12:25:15.884Z"
   },
   {
    "duration": 660,
    "start_time": "2024-02-14T12:25:17.027Z"
   },
   {
    "duration": 240,
    "start_time": "2024-02-14T12:25:17.689Z"
   },
   {
    "duration": 86,
    "start_time": "2024-02-14T12:25:17.930Z"
   },
   {
    "duration": 576,
    "start_time": "2024-02-14T12:25:18.018Z"
   },
   {
    "duration": 844,
    "start_time": "2024-02-14T12:25:18.595Z"
   },
   {
    "duration": 428,
    "start_time": "2024-02-14T12:25:19.441Z"
   },
   {
    "duration": 100,
    "start_time": "2024-02-14T12:25:19.871Z"
   },
   {
    "duration": 1230,
    "start_time": "2024-02-14T12:25:19.973Z"
   },
   {
    "duration": 1362,
    "start_time": "2024-02-14T12:25:21.204Z"
   },
   {
    "duration": 335,
    "start_time": "2024-02-14T12:25:22.567Z"
   },
   {
    "duration": 87,
    "start_time": "2024-02-14T12:25:22.903Z"
   },
   {
    "duration": 42,
    "start_time": "2024-02-14T12:25:22.992Z"
   },
   {
    "duration": 201,
    "start_time": "2024-02-14T12:25:23.035Z"
   },
   {
    "duration": 1682,
    "start_time": "2024-02-14T12:25:23.237Z"
   },
   {
    "duration": 17,
    "start_time": "2024-02-14T12:25:24.921Z"
   },
   {
    "duration": 60,
    "start_time": "2024-02-14T12:25:24.940Z"
   },
   {
    "duration": 175,
    "start_time": "2024-02-14T12:25:25.001Z"
   },
   {
    "duration": 3652,
    "start_time": "2024-02-14T12:25:25.178Z"
   },
   {
    "duration": 216,
    "start_time": "2024-02-14T12:25:28.831Z"
   },
   {
    "duration": 33,
    "start_time": "2024-02-14T12:25:29.048Z"
   },
   {
    "duration": 115,
    "start_time": "2024-02-14T12:25:29.082Z"
   },
   {
    "duration": 487,
    "start_time": "2024-02-14T12:25:29.201Z"
   },
   {
    "duration": 366,
    "start_time": "2024-02-14T12:25:29.689Z"
   },
   {
    "duration": 360,
    "start_time": "2024-02-14T12:25:30.057Z"
   },
   {
    "duration": 108,
    "start_time": "2024-02-14T12:25:30.418Z"
   },
   {
    "duration": 95,
    "start_time": "2024-02-14T12:25:30.527Z"
   },
   {
    "duration": 117,
    "start_time": "2024-02-14T12:25:30.623Z"
   },
   {
    "duration": 86,
    "start_time": "2024-02-14T12:25:30.742Z"
   },
   {
    "duration": 72,
    "start_time": "2024-02-14T12:25:30.830Z"
   },
   {
    "duration": 11,
    "start_time": "2024-02-14T12:25:30.904Z"
   },
   {
    "duration": 36,
    "start_time": "2024-02-14T12:25:30.917Z"
   },
   {
    "duration": 49446,
    "start_time": "2024-02-14T12:25:30.955Z"
   },
   {
    "duration": 6044,
    "start_time": "2024-02-14T12:26:20.402Z"
   },
   {
    "duration": 5917,
    "start_time": "2024-02-14T12:26:26.448Z"
   },
   {
    "duration": 162,
    "start_time": "2024-02-14T12:26:32.367Z"
   },
   {
    "duration": 7,
    "start_time": "2024-02-14T12:26:32.530Z"
   },
   {
    "duration": 493,
    "start_time": "2024-02-14T12:26:32.539Z"
   },
   {
    "duration": 72,
    "start_time": "2024-02-14T12:26:33.034Z"
   },
   {
    "duration": 72,
    "start_time": "2024-02-14T12:26:33.107Z"
   },
   {
    "duration": 167,
    "start_time": "2024-02-14T12:26:33.181Z"
   },
   {
    "duration": 4,
    "start_time": "2024-02-14T12:26:33.350Z"
   },
   {
    "duration": 16330,
    "start_time": "2024-02-14T12:26:33.356Z"
   },
   {
    "duration": 45323,
    "start_time": "2024-02-14T12:26:49.689Z"
   },
   {
    "duration": 5467,
    "start_time": "2024-02-14T12:27:35.014Z"
   },
   {
    "duration": 25201,
    "start_time": "2024-02-14T12:27:40.483Z"
   },
   {
    "duration": 13,
    "start_time": "2024-02-14T12:28:05.685Z"
   },
   {
    "duration": 48,
    "start_time": "2024-02-14T12:28:05.699Z"
   },
   {
    "duration": 0,
    "start_time": "2024-02-14T12:28:05.749Z"
   },
   {
    "duration": 0,
    "start_time": "2024-02-14T12:28:05.750Z"
   },
   {
    "duration": 0,
    "start_time": "2024-02-14T12:28:05.751Z"
   },
   {
    "duration": 0,
    "start_time": "2024-02-14T12:28:05.753Z"
   },
   {
    "duration": 0,
    "start_time": "2024-02-14T12:28:05.754Z"
   },
   {
    "duration": 0,
    "start_time": "2024-02-14T12:28:05.755Z"
   },
   {
    "duration": 0,
    "start_time": "2024-02-14T12:28:05.756Z"
   },
   {
    "duration": 0,
    "start_time": "2024-02-14T12:28:05.757Z"
   },
   {
    "duration": 0,
    "start_time": "2024-02-14T12:28:05.759Z"
   },
   {
    "duration": 0,
    "start_time": "2024-02-14T12:28:05.760Z"
   },
   {
    "duration": 0,
    "start_time": "2024-02-14T12:28:05.761Z"
   },
   {
    "duration": 5,
    "start_time": "2024-02-14T12:30:24.156Z"
   },
   {
    "duration": 5,
    "start_time": "2024-02-14T12:30:24.164Z"
   },
   {
    "duration": 1720,
    "start_time": "2024-02-14T12:30:24.171Z"
   },
   {
    "duration": 908,
    "start_time": "2024-02-14T12:30:25.893Z"
   },
   {
    "duration": 1395,
    "start_time": "2024-02-14T12:30:26.803Z"
   },
   {
    "duration": 494,
    "start_time": "2024-02-14T12:30:28.200Z"
   },
   {
    "duration": 1103,
    "start_time": "2024-02-14T12:30:28.695Z"
   },
   {
    "duration": 699,
    "start_time": "2024-02-14T12:30:29.800Z"
   },
   {
    "duration": 260,
    "start_time": "2024-02-14T12:30:30.500Z"
   },
   {
    "duration": 87,
    "start_time": "2024-02-14T12:30:30.763Z"
   },
   {
    "duration": 624,
    "start_time": "2024-02-14T12:30:30.851Z"
   },
   {
    "duration": 848,
    "start_time": "2024-02-14T12:30:31.477Z"
   },
   {
    "duration": 502,
    "start_time": "2024-02-14T12:30:32.327Z"
   },
   {
    "duration": 100,
    "start_time": "2024-02-14T12:30:32.831Z"
   },
   {
    "duration": 1331,
    "start_time": "2024-02-14T12:30:32.932Z"
   },
   {
    "duration": 1406,
    "start_time": "2024-02-14T12:30:34.265Z"
   },
   {
    "duration": 368,
    "start_time": "2024-02-14T12:30:35.673Z"
   },
   {
    "duration": 100,
    "start_time": "2024-02-14T12:30:36.042Z"
   },
   {
    "duration": 52,
    "start_time": "2024-02-14T12:30:36.144Z"
   },
   {
    "duration": 208,
    "start_time": "2024-02-14T12:30:36.198Z"
   },
   {
    "duration": 1854,
    "start_time": "2024-02-14T12:30:36.407Z"
   },
   {
    "duration": 17,
    "start_time": "2024-02-14T12:30:38.265Z"
   },
   {
    "duration": 53,
    "start_time": "2024-02-14T12:30:38.284Z"
   },
   {
    "duration": 205,
    "start_time": "2024-02-14T12:30:38.339Z"
   },
   {
    "duration": 3898,
    "start_time": "2024-02-14T12:30:38.548Z"
   },
   {
    "duration": 213,
    "start_time": "2024-02-14T12:30:42.447Z"
   },
   {
    "duration": 34,
    "start_time": "2024-02-14T12:30:42.666Z"
   },
   {
    "duration": 117,
    "start_time": "2024-02-14T12:30:42.702Z"
   },
   {
    "duration": 478,
    "start_time": "2024-02-14T12:30:42.821Z"
   },
   {
    "duration": 357,
    "start_time": "2024-02-14T12:30:43.301Z"
   },
   {
    "duration": 379,
    "start_time": "2024-02-14T12:30:43.659Z"
   },
   {
    "duration": 108,
    "start_time": "2024-02-14T12:30:44.040Z"
   },
   {
    "duration": 94,
    "start_time": "2024-02-14T12:30:44.150Z"
   },
   {
    "duration": 99,
    "start_time": "2024-02-14T12:30:44.246Z"
   },
   {
    "duration": 86,
    "start_time": "2024-02-14T12:30:44.346Z"
   },
   {
    "duration": 67,
    "start_time": "2024-02-14T12:30:44.434Z"
   },
   {
    "duration": 12,
    "start_time": "2024-02-14T12:30:44.503Z"
   },
   {
    "duration": 7,
    "start_time": "2024-02-14T12:30:44.516Z"
   },
   {
    "duration": 48825,
    "start_time": "2024-02-14T12:30:44.525Z"
   },
   {
    "duration": 6205,
    "start_time": "2024-02-14T12:31:33.352Z"
   },
   {
    "duration": 6030,
    "start_time": "2024-02-14T12:31:39.558Z"
   },
   {
    "duration": 172,
    "start_time": "2024-02-14T12:31:45.590Z"
   },
   {
    "duration": 8,
    "start_time": "2024-02-14T12:31:45.763Z"
   },
   {
    "duration": 524,
    "start_time": "2024-02-14T12:31:45.772Z"
   },
   {
    "duration": 82,
    "start_time": "2024-02-14T12:31:46.299Z"
   },
   {
    "duration": 73,
    "start_time": "2024-02-14T12:31:46.386Z"
   },
   {
    "duration": 210,
    "start_time": "2024-02-14T12:31:46.465Z"
   },
   {
    "duration": 5,
    "start_time": "2024-02-14T12:31:46.676Z"
   },
   {
    "duration": 18291,
    "start_time": "2024-02-14T12:31:46.683Z"
   },
   {
    "duration": 46091,
    "start_time": "2024-02-14T12:32:04.977Z"
   },
   {
    "duration": 9405,
    "start_time": "2024-02-14T12:32:51.070Z"
   },
   {
    "duration": 25776,
    "start_time": "2024-02-14T12:33:00.477Z"
   },
   {
    "duration": 15,
    "start_time": "2024-02-14T12:33:26.255Z"
   },
   {
    "duration": 478500,
    "start_time": "2024-02-14T12:33:26.272Z"
   },
   {
    "duration": 15697,
    "start_time": "2024-02-14T12:41:24.774Z"
   },
   {
    "duration": 2240626,
    "start_time": "2024-02-14T12:41:40.565Z"
   },
   {
    "duration": 47365,
    "start_time": "2024-02-14T13:19:01.193Z"
   },
   {
    "duration": 1508443,
    "start_time": "2024-02-14T13:19:48.560Z"
   },
   {
    "duration": 89,
    "start_time": "2024-02-14T13:44:57.005Z"
   },
   {
    "duration": 76307,
    "start_time": "2024-02-14T13:44:57.096Z"
   },
   {
    "duration": 88,
    "start_time": "2024-02-14T13:46:13.405Z"
   },
   {
    "duration": 11,
    "start_time": "2024-02-14T13:46:13.495Z"
   },
   {
    "duration": 0,
    "start_time": "2024-02-14T13:46:13.508Z"
   },
   {
    "duration": 0,
    "start_time": "2024-02-14T13:46:13.509Z"
   },
   {
    "duration": 0,
    "start_time": "2024-02-14T13:46:13.510Z"
   },
   {
    "duration": 0,
    "start_time": "2024-02-14T13:46:13.513Z"
   },
   {
    "duration": 320697,
    "start_time": "2024-02-14T13:46:35.465Z"
   },
   {
    "duration": 28629,
    "start_time": "2024-02-14T13:52:35.053Z"
   },
   {
    "duration": 1166042,
    "start_time": "2024-02-14T13:53:20.626Z"
   },
   {
    "duration": 18223,
    "start_time": "2024-02-14T14:13:50.261Z"
   },
   {
    "duration": 892130,
    "start_time": "2024-02-14T14:14:29.591Z"
   },
   {
    "duration": 24279,
    "start_time": "2024-02-14T14:29:29.882Z"
   },
   {
    "duration": 12,
    "start_time": "2024-02-14T14:30:01.265Z"
   },
   {
    "duration": 17,
    "start_time": "2024-02-14T14:30:09.570Z"
   },
   {
    "duration": 17,
    "start_time": "2024-02-14T14:33:28.685Z"
   },
   {
    "duration": 25125,
    "start_time": "2024-02-14T14:48:18.790Z"
   },
   {
    "duration": 5,
    "start_time": "2024-02-14T14:51:10.057Z"
   },
   {
    "duration": 3,
    "start_time": "2024-02-14T14:51:30.348Z"
   },
   {
    "duration": 29884,
    "start_time": "2024-02-14T14:51:32.283Z"
   },
   {
    "duration": 80,
    "start_time": "2024-02-14T14:57:13.983Z"
   },
   {
    "duration": 34028,
    "start_time": "2024-02-14T14:57:34.639Z"
   },
   {
    "duration": 49,
    "start_time": "2024-02-14T15:02:38.702Z"
   },
   {
    "duration": 42880,
    "start_time": "2024-02-14T15:45:04.133Z"
   },
   {
    "duration": 54070,
    "start_time": "2024-02-14T15:45:51.910Z"
   },
   {
    "duration": 3,
    "start_time": "2024-02-14T15:46:48.427Z"
   },
   {
    "duration": 309112,
    "start_time": "2024-02-14T15:46:51.978Z"
   },
   {
    "duration": 42,
    "start_time": "2024-02-14T15:53:26.709Z"
   },
   {
    "duration": 108,
    "start_time": "2024-02-14T15:53:35.744Z"
   },
   {
    "duration": 306108,
    "start_time": "2024-02-14T15:54:25.275Z"
   },
   {
    "duration": 215,
    "start_time": "2024-02-14T16:00:20.505Z"
   },
   {
    "duration": 88,
    "start_time": "2024-02-14T16:00:40.018Z"
   },
   {
    "duration": 682158,
    "start_time": "2024-02-14T16:03:08.446Z"
   },
   {
    "duration": 188016,
    "start_time": "2024-02-14T16:15:45.616Z"
   },
   {
    "duration": 10277,
    "start_time": "2024-02-14T16:18:57.954Z"
   },
   {
    "duration": 70815,
    "start_time": "2024-02-14T16:20:06.080Z"
   },
   {
    "duration": 32350,
    "start_time": "2024-02-14T16:21:48.638Z"
   },
   {
    "duration": 33056,
    "start_time": "2024-02-14T16:22:38.314Z"
   },
   {
    "duration": 35882,
    "start_time": "2024-02-14T16:24:02.015Z"
   },
   {
    "duration": 28021,
    "start_time": "2024-02-14T16:24:47.650Z"
   },
   {
    "duration": 14,
    "start_time": "2024-02-14T16:25:29.104Z"
   },
   {
    "duration": 3,
    "start_time": "2024-02-14T16:25:54.152Z"
   },
   {
    "duration": 32527,
    "start_time": "2024-02-14T16:25:58.841Z"
   },
   {
    "duration": 3,
    "start_time": "2024-02-14T16:45:56.157Z"
   },
   {
    "duration": 18,
    "start_time": "2024-02-14T16:45:56.162Z"
   },
   {
    "duration": 1661,
    "start_time": "2024-02-14T16:45:56.182Z"
   },
   {
    "duration": 908,
    "start_time": "2024-02-14T16:45:57.845Z"
   },
   {
    "duration": 1389,
    "start_time": "2024-02-14T16:45:58.755Z"
   },
   {
    "duration": 492,
    "start_time": "2024-02-14T16:46:00.145Z"
   },
   {
    "duration": 1140,
    "start_time": "2024-02-14T16:46:00.639Z"
   },
   {
    "duration": 657,
    "start_time": "2024-02-14T16:46:01.781Z"
   },
   {
    "duration": 254,
    "start_time": "2024-02-14T16:46:02.440Z"
   },
   {
    "duration": 92,
    "start_time": "2024-02-14T16:46:02.696Z"
   },
   {
    "duration": 581,
    "start_time": "2024-02-14T16:46:02.790Z"
   },
   {
    "duration": 864,
    "start_time": "2024-02-14T16:46:03.372Z"
   },
   {
    "duration": 463,
    "start_time": "2024-02-14T16:46:04.238Z"
   },
   {
    "duration": 118,
    "start_time": "2024-02-14T16:46:04.703Z"
   },
   {
    "duration": 1329,
    "start_time": "2024-02-14T16:46:04.823Z"
   },
   {
    "duration": 1384,
    "start_time": "2024-02-14T16:46:06.154Z"
   },
   {
    "duration": 331,
    "start_time": "2024-02-14T16:46:07.540Z"
   },
   {
    "duration": 102,
    "start_time": "2024-02-14T16:46:07.873Z"
   },
   {
    "duration": 49,
    "start_time": "2024-02-14T16:46:07.977Z"
   },
   {
    "duration": 208,
    "start_time": "2024-02-14T16:46:08.027Z"
   },
   {
    "duration": 1745,
    "start_time": "2024-02-14T16:46:08.237Z"
   },
   {
    "duration": 16,
    "start_time": "2024-02-14T16:46:09.984Z"
   },
   {
    "duration": 60,
    "start_time": "2024-02-14T16:46:10.001Z"
   },
   {
    "duration": 176,
    "start_time": "2024-02-14T16:46:10.063Z"
   },
   {
    "duration": 3677,
    "start_time": "2024-02-14T16:46:10.240Z"
   },
   {
    "duration": 206,
    "start_time": "2024-02-14T16:46:13.918Z"
   },
   {
    "duration": 29,
    "start_time": "2024-02-14T16:46:14.126Z"
   },
   {
    "duration": 123,
    "start_time": "2024-02-14T16:46:14.165Z"
   },
   {
    "duration": 532,
    "start_time": "2024-02-14T16:46:14.292Z"
   },
   {
    "duration": 392,
    "start_time": "2024-02-14T16:46:14.826Z"
   },
   {
    "duration": 378,
    "start_time": "2024-02-14T16:46:15.220Z"
   },
   {
    "duration": 111,
    "start_time": "2024-02-14T16:46:15.600Z"
   },
   {
    "duration": 95,
    "start_time": "2024-02-14T16:46:15.712Z"
   },
   {
    "duration": 108,
    "start_time": "2024-02-14T16:46:15.809Z"
   },
   {
    "duration": 96,
    "start_time": "2024-02-14T16:46:15.918Z"
   },
   {
    "duration": 77,
    "start_time": "2024-02-14T16:46:16.015Z"
   },
   {
    "duration": 11,
    "start_time": "2024-02-14T16:46:16.095Z"
   },
   {
    "duration": 39,
    "start_time": "2024-02-14T16:46:16.108Z"
   },
   {
    "duration": 48536,
    "start_time": "2024-02-14T16:46:16.149Z"
   },
   {
    "duration": 5670,
    "start_time": "2024-02-14T16:47:04.687Z"
   },
   {
    "duration": 5956,
    "start_time": "2024-02-14T16:47:10.358Z"
   },
   {
    "duration": 163,
    "start_time": "2024-02-14T16:47:16.316Z"
   },
   {
    "duration": 8,
    "start_time": "2024-02-14T16:47:16.480Z"
   },
   {
    "duration": 477,
    "start_time": "2024-02-14T16:47:16.490Z"
   },
   {
    "duration": 69,
    "start_time": "2024-02-14T16:47:16.968Z"
   },
   {
    "duration": 95,
    "start_time": "2024-02-14T16:47:17.039Z"
   },
   {
    "duration": 167,
    "start_time": "2024-02-14T16:47:17.136Z"
   },
   {
    "duration": 5,
    "start_time": "2024-02-14T16:47:17.305Z"
   },
   {
    "duration": 17275,
    "start_time": "2024-02-14T16:47:17.311Z"
   },
   {
    "duration": 45615,
    "start_time": "2024-02-14T16:47:34.667Z"
   },
   {
    "duration": 6198,
    "start_time": "2024-02-14T16:48:20.283Z"
   },
   {
    "duration": 25461,
    "start_time": "2024-02-14T16:48:26.483Z"
   },
   {
    "duration": 12,
    "start_time": "2024-02-14T16:48:51.945Z"
   },
   {
    "duration": 23109,
    "start_time": "2024-02-14T16:48:51.958Z"
   },
   {
    "duration": 15897,
    "start_time": "2024-02-14T16:49:15.069Z"
   },
   {
    "duration": 48237,
    "start_time": "2024-02-14T16:49:30.969Z"
   },
   {
    "duration": 40481,
    "start_time": "2024-02-14T16:50:19.208Z"
   },
   {
    "duration": 31284,
    "start_time": "2024-02-14T16:50:59.690Z"
   },
   {
    "duration": 2697,
    "start_time": "2024-02-14T16:51:30.976Z"
   },
   {
    "duration": 143574,
    "start_time": "2024-02-14T16:51:33.675Z"
   },
   {
    "duration": 16612,
    "start_time": "2024-02-14T16:53:57.251Z"
   },
   {
    "duration": 12,
    "start_time": "2024-02-14T16:54:13.864Z"
   },
   {
    "duration": 25,
    "start_time": "2024-02-14T16:54:13.878Z"
   },
   {
    "duration": 36,
    "start_time": "2024-02-14T16:54:13.905Z"
   },
   {
    "duration": 140,
    "start_time": "2024-02-14T16:54:13.943Z"
   },
   {
    "duration": 0,
    "start_time": "2024-02-14T16:54:14.085Z"
   },
   {
    "duration": 124,
    "start_time": "2024-02-14T16:55:03.175Z"
   },
   {
    "duration": 25656,
    "start_time": "2024-02-14T16:55:54.865Z"
   },
   {
    "duration": 1716,
    "start_time": "2024-02-14T17:21:13.754Z"
   },
   {
    "duration": 938,
    "start_time": "2024-02-14T17:21:15.472Z"
   },
   {
    "duration": 1420,
    "start_time": "2024-02-14T17:21:16.412Z"
   },
   {
    "duration": 501,
    "start_time": "2024-02-14T17:21:17.834Z"
   },
   {
    "duration": 1141,
    "start_time": "2024-02-14T17:21:18.336Z"
   },
   {
    "duration": 682,
    "start_time": "2024-02-14T17:21:19.479Z"
   },
   {
    "duration": 247,
    "start_time": "2024-02-14T17:21:20.166Z"
   },
   {
    "duration": 90,
    "start_time": "2024-02-14T17:21:20.414Z"
   },
   {
    "duration": 613,
    "start_time": "2024-02-14T17:21:20.505Z"
   },
   {
    "duration": 856,
    "start_time": "2024-02-14T17:21:21.119Z"
   },
   {
    "duration": 471,
    "start_time": "2024-02-14T17:21:21.977Z"
   },
   {
    "duration": 115,
    "start_time": "2024-02-14T17:21:22.452Z"
   },
   {
    "duration": 1251,
    "start_time": "2024-02-14T17:21:22.569Z"
   },
   {
    "duration": 1396,
    "start_time": "2024-02-14T17:21:23.821Z"
   },
   {
    "duration": 316,
    "start_time": "2024-02-14T17:21:25.218Z"
   },
   {
    "duration": 88,
    "start_time": "2024-02-14T17:21:25.536Z"
   },
   {
    "duration": 54,
    "start_time": "2024-02-14T17:21:25.625Z"
   },
   {
    "duration": 194,
    "start_time": "2024-02-14T17:21:25.680Z"
   },
   {
    "duration": 1741,
    "start_time": "2024-02-14T17:21:25.876Z"
   },
   {
    "duration": 17,
    "start_time": "2024-02-14T17:21:27.619Z"
   },
   {
    "duration": 54,
    "start_time": "2024-02-14T17:21:27.637Z"
   },
   {
    "duration": 176,
    "start_time": "2024-02-14T17:21:27.693Z"
   },
   {
    "duration": 3628,
    "start_time": "2024-02-14T17:21:27.871Z"
   },
   {
    "duration": 212,
    "start_time": "2024-02-14T17:21:31.501Z"
   },
   {
    "duration": 30,
    "start_time": "2024-02-14T17:21:31.715Z"
   },
   {
    "duration": 126,
    "start_time": "2024-02-14T17:21:31.747Z"
   },
   {
    "duration": 550,
    "start_time": "2024-02-14T17:21:31.875Z"
   },
   {
    "duration": 387,
    "start_time": "2024-02-14T17:21:32.427Z"
   },
   {
    "duration": 356,
    "start_time": "2024-02-14T17:21:32.816Z"
   },
   {
    "duration": 113,
    "start_time": "2024-02-14T17:21:33.175Z"
   },
   {
    "duration": 118,
    "start_time": "2024-02-14T17:21:33.290Z"
   },
   {
    "duration": 106,
    "start_time": "2024-02-14T17:21:33.410Z"
   },
   {
    "duration": 85,
    "start_time": "2024-02-14T17:21:33.518Z"
   },
   {
    "duration": 64,
    "start_time": "2024-02-14T17:21:33.605Z"
   },
   {
    "duration": 10,
    "start_time": "2024-02-14T17:21:33.671Z"
   },
   {
    "duration": 9,
    "start_time": "2024-02-14T17:21:33.683Z"
   },
   {
    "duration": 46366,
    "start_time": "2024-02-14T17:21:33.694Z"
   },
   {
    "duration": 5741,
    "start_time": "2024-02-14T17:22:20.065Z"
   },
   {
    "duration": 5947,
    "start_time": "2024-02-14T17:22:25.809Z"
   },
   {
    "duration": 194,
    "start_time": "2024-02-14T17:22:31.758Z"
   },
   {
    "duration": 8,
    "start_time": "2024-02-14T17:22:31.966Z"
   },
   {
    "duration": 527,
    "start_time": "2024-02-14T17:22:31.976Z"
   },
   {
    "duration": 121,
    "start_time": "2024-02-14T17:22:32.505Z"
   },
   {
    "duration": 66,
    "start_time": "2024-02-14T17:22:32.665Z"
   },
   {
    "duration": 220,
    "start_time": "2024-02-14T17:22:32.733Z"
   },
   {
    "duration": 11,
    "start_time": "2024-02-14T17:22:32.954Z"
   },
   {
    "duration": 16319,
    "start_time": "2024-02-14T17:22:32.967Z"
   },
   {
    "duration": 45170,
    "start_time": "2024-02-14T17:22:49.288Z"
   },
   {
    "duration": 5107,
    "start_time": "2024-02-14T17:23:34.460Z"
   },
   {
    "duration": 25229,
    "start_time": "2024-02-14T17:23:39.569Z"
   },
   {
    "duration": 12,
    "start_time": "2024-02-14T17:24:04.799Z"
   },
   {
    "duration": 32756,
    "start_time": "2024-02-14T17:24:04.813Z"
   },
   {
    "duration": 15903,
    "start_time": "2024-02-14T17:24:37.571Z"
   },
   {
    "duration": 98840,
    "start_time": "2024-02-14T17:24:53.566Z"
   },
   {
    "duration": 46940,
    "start_time": "2024-02-14T17:26:32.408Z"
   },
   {
    "duration": 564027,
    "start_time": "2024-02-14T17:27:19.350Z"
   },
   {
    "duration": 10406,
    "start_time": "2024-02-14T17:36:43.379Z"
   },
   {
    "duration": 1306708,
    "start_time": "2024-02-14T17:36:53.786Z"
   },
   {
    "duration": 5842,
    "start_time": "2024-02-14T17:58:40.496Z"
   },
   {
    "duration": 12,
    "start_time": "2024-02-14T17:58:46.339Z"
   },
   {
    "duration": 18,
    "start_time": "2024-02-14T17:58:46.353Z"
   },
   {
    "duration": 22,
    "start_time": "2024-02-14T17:58:46.373Z"
   },
   {
    "duration": 5837,
    "start_time": "2024-02-14T17:58:46.396Z"
   },
   {
    "duration": 2,
    "start_time": "2024-02-14T17:58:52.235Z"
   },
   {
    "duration": 66,
    "start_time": "2024-02-14T18:04:17.254Z"
   },
   {
    "duration": 41,
    "start_time": "2024-02-14T18:04:26.433Z"
   },
   {
    "duration": 198,
    "start_time": "2024-02-14T18:04:32.866Z"
   },
   {
    "duration": 28206,
    "start_time": "2024-02-14T18:04:41.014Z"
   },
   {
    "duration": 9318,
    "start_time": "2024-02-14T18:05:17.340Z"
   },
   {
    "duration": 295717,
    "start_time": "2024-02-14T18:05:41.454Z"
   },
   {
    "duration": 9485,
    "start_time": "2024-02-14T18:10:42.113Z"
   },
   {
    "duration": 44742,
    "start_time": "2024-02-14T18:34:36.469Z"
   },
   {
    "duration": 4,
    "start_time": "2024-02-14T20:19:46.114Z"
   },
   {
    "duration": 10,
    "start_time": "2024-02-14T20:19:46.121Z"
   },
   {
    "duration": 1631,
    "start_time": "2024-02-14T20:19:46.132Z"
   },
   {
    "duration": 916,
    "start_time": "2024-02-14T20:19:47.765Z"
   },
   {
    "duration": 1403,
    "start_time": "2024-02-14T20:19:48.683Z"
   },
   {
    "duration": 484,
    "start_time": "2024-02-14T20:19:50.087Z"
   },
   {
    "duration": 1139,
    "start_time": "2024-02-14T20:19:50.573Z"
   },
   {
    "duration": 659,
    "start_time": "2024-02-14T20:19:51.713Z"
   },
   {
    "duration": 240,
    "start_time": "2024-02-14T20:19:52.373Z"
   },
   {
    "duration": 94,
    "start_time": "2024-02-14T20:19:52.615Z"
   },
   {
    "duration": 576,
    "start_time": "2024-02-14T20:19:52.713Z"
   },
   {
    "duration": 849,
    "start_time": "2024-02-14T20:19:53.291Z"
   },
   {
    "duration": 437,
    "start_time": "2024-02-14T20:19:54.142Z"
   },
   {
    "duration": 119,
    "start_time": "2024-02-14T20:19:54.581Z"
   },
   {
    "duration": 1290,
    "start_time": "2024-02-14T20:19:54.702Z"
   },
   {
    "duration": 1409,
    "start_time": "2024-02-14T20:19:55.994Z"
   },
   {
    "duration": 328,
    "start_time": "2024-02-14T20:19:57.404Z"
   },
   {
    "duration": 115,
    "start_time": "2024-02-14T20:19:57.734Z"
   },
   {
    "duration": 58,
    "start_time": "2024-02-14T20:19:57.850Z"
   },
   {
    "duration": 190,
    "start_time": "2024-02-14T20:19:57.910Z"
   },
   {
    "duration": 1698,
    "start_time": "2024-02-14T20:19:58.101Z"
   },
   {
    "duration": 16,
    "start_time": "2024-02-14T20:19:59.801Z"
   },
   {
    "duration": 62,
    "start_time": "2024-02-14T20:19:59.819Z"
   },
   {
    "duration": 189,
    "start_time": "2024-02-14T20:19:59.882Z"
   },
   {
    "duration": 3633,
    "start_time": "2024-02-14T20:20:00.073Z"
   },
   {
    "duration": 218,
    "start_time": "2024-02-14T20:20:03.707Z"
   },
   {
    "duration": 38,
    "start_time": "2024-02-14T20:20:03.927Z"
   },
   {
    "duration": 132,
    "start_time": "2024-02-14T20:20:03.967Z"
   },
   {
    "duration": 501,
    "start_time": "2024-02-14T20:20:04.103Z"
   },
   {
    "duration": 387,
    "start_time": "2024-02-14T20:20:04.606Z"
   },
   {
    "duration": 359,
    "start_time": "2024-02-14T20:20:04.995Z"
   },
   {
    "duration": 111,
    "start_time": "2024-02-14T20:20:05.355Z"
   },
   {
    "duration": 97,
    "start_time": "2024-02-14T20:20:05.468Z"
   },
   {
    "duration": 87,
    "start_time": "2024-02-14T20:20:05.567Z"
   },
   {
    "duration": 92,
    "start_time": "2024-02-14T20:20:05.655Z"
   },
   {
    "duration": 77,
    "start_time": "2024-02-14T20:20:05.748Z"
   },
   {
    "duration": 12,
    "start_time": "2024-02-14T20:20:05.828Z"
   },
   {
    "duration": 27,
    "start_time": "2024-02-14T20:20:05.842Z"
   },
   {
    "duration": 52270,
    "start_time": "2024-02-14T20:20:05.872Z"
   },
   {
    "duration": 6358,
    "start_time": "2024-02-14T20:20:58.144Z"
   },
   {
    "duration": 6167,
    "start_time": "2024-02-14T20:21:04.504Z"
   },
   {
    "duration": 173,
    "start_time": "2024-02-14T20:21:10.672Z"
   },
   {
    "duration": 7,
    "start_time": "2024-02-14T20:21:10.846Z"
   },
   {
    "duration": 485,
    "start_time": "2024-02-14T20:21:10.855Z"
   },
   {
    "duration": 70,
    "start_time": "2024-02-14T20:21:11.341Z"
   },
   {
    "duration": 70,
    "start_time": "2024-02-14T20:21:11.413Z"
   },
   {
    "duration": 173,
    "start_time": "2024-02-14T20:21:11.485Z"
   },
   {
    "duration": 7,
    "start_time": "2024-02-14T20:21:11.660Z"
   },
   {
    "duration": 16721,
    "start_time": "2024-02-14T20:21:11.669Z"
   },
   {
    "duration": 47161,
    "start_time": "2024-02-14T20:21:28.469Z"
   },
   {
    "duration": 8149,
    "start_time": "2024-02-14T20:22:15.632Z"
   },
   {
    "duration": 25521,
    "start_time": "2024-02-14T20:22:23.782Z"
   },
   {
    "duration": 12,
    "start_time": "2024-02-14T20:22:49.305Z"
   },
   {
    "duration": 24249,
    "start_time": "2024-02-14T20:22:49.318Z"
   },
   {
    "duration": 16602,
    "start_time": "2024-02-14T20:23:13.569Z"
   },
   {
    "duration": 96998,
    "start_time": "2024-02-14T20:23:30.173Z"
   },
   {
    "duration": 84336,
    "start_time": "2024-02-14T20:25:07.172Z"
   },
   {
    "duration": 12865,
    "start_time": "2024-02-14T20:26:31.509Z"
   },
   {
    "duration": 4393,
    "start_time": "2024-02-14T20:26:44.377Z"
   },
   {
    "duration": 64738,
    "start_time": "2024-02-14T20:26:48.772Z"
   },
   {
    "duration": 12713,
    "start_time": "2024-02-14T20:27:53.512Z"
   },
   {
    "duration": 13,
    "start_time": "2024-02-14T20:28:06.227Z"
   },
   {
    "duration": 34,
    "start_time": "2024-02-14T20:28:06.242Z"
   },
   {
    "duration": 32,
    "start_time": "2024-02-14T20:28:06.278Z"
   },
   {
    "duration": 137,
    "start_time": "2024-02-14T20:28:06.312Z"
   },
   {
    "duration": 20834,
    "start_time": "2024-02-14T20:28:48.038Z"
   },
   {
    "duration": 9362,
    "start_time": "2024-02-14T20:29:13.609Z"
   },
   {
    "duration": 23535,
    "start_time": "2024-02-14T20:31:55.931Z"
   },
   {
    "duration": 12256,
    "start_time": "2024-02-14T20:32:23.917Z"
   },
   {
    "duration": 12,
    "start_time": "2024-02-14T20:34:57.566Z"
   },
   {
    "duration": 18,
    "start_time": "2024-02-14T20:35:27.876Z"
   },
   {
    "duration": 12842,
    "start_time": "2024-02-14T20:36:00.954Z"
   },
   {
    "duration": 12695,
    "start_time": "2024-02-14T20:36:39.790Z"
   },
   {
    "duration": 17,
    "start_time": "2024-02-14T20:49:33.533Z"
   },
   {
    "duration": 17,
    "start_time": "2024-02-14T20:52:23.986Z"
   },
   {
    "duration": 15,
    "start_time": "2024-02-14T20:53:52.940Z"
   },
   {
    "duration": 16,
    "start_time": "2024-02-14T20:58:40.967Z"
   },
   {
    "duration": 16,
    "start_time": "2024-02-14T20:58:52.540Z"
   },
   {
    "duration": 21,
    "start_time": "2024-02-14T20:59:45.065Z"
   },
   {
    "duration": 17,
    "start_time": "2024-02-14T21:00:23.203Z"
   },
   {
    "duration": 16,
    "start_time": "2024-02-14T21:01:11.365Z"
   },
   {
    "duration": 26,
    "start_time": "2024-02-14T21:01:25.828Z"
   },
   {
    "duration": 16,
    "start_time": "2024-02-14T21:02:03.597Z"
   },
   {
    "duration": 3,
    "start_time": "2024-02-14T21:18:57.665Z"
   },
   {
    "duration": 6,
    "start_time": "2024-02-14T21:18:57.670Z"
   },
   {
    "duration": 1655,
    "start_time": "2024-02-14T21:18:57.677Z"
   },
   {
    "duration": 892,
    "start_time": "2024-02-14T21:18:59.334Z"
   },
   {
    "duration": 1373,
    "start_time": "2024-02-14T21:19:00.227Z"
   },
   {
    "duration": 475,
    "start_time": "2024-02-14T21:19:01.602Z"
   },
   {
    "duration": 1095,
    "start_time": "2024-02-14T21:19:02.079Z"
   },
   {
    "duration": 678,
    "start_time": "2024-02-14T21:19:03.176Z"
   },
   {
    "duration": 238,
    "start_time": "2024-02-14T21:19:03.857Z"
   },
   {
    "duration": 86,
    "start_time": "2024-02-14T21:19:04.096Z"
   },
   {
    "duration": 565,
    "start_time": "2024-02-14T21:19:04.183Z"
   },
   {
    "duration": 840,
    "start_time": "2024-02-14T21:19:04.750Z"
   },
   {
    "duration": 464,
    "start_time": "2024-02-14T21:19:05.591Z"
   },
   {
    "duration": 101,
    "start_time": "2024-02-14T21:19:06.056Z"
   },
   {
    "duration": 1260,
    "start_time": "2024-02-14T21:19:06.165Z"
   },
   {
    "duration": 1344,
    "start_time": "2024-02-14T21:19:07.427Z"
   },
   {
    "duration": 340,
    "start_time": "2024-02-14T21:19:08.773Z"
   },
   {
    "duration": 85,
    "start_time": "2024-02-14T21:19:09.115Z"
   },
   {
    "duration": 44,
    "start_time": "2024-02-14T21:19:09.202Z"
   },
   {
    "duration": 197,
    "start_time": "2024-02-14T21:19:09.247Z"
   },
   {
    "duration": 1719,
    "start_time": "2024-02-14T21:19:09.446Z"
   },
   {
    "duration": 15,
    "start_time": "2024-02-14T21:19:11.167Z"
   },
   {
    "duration": 43,
    "start_time": "2024-02-14T21:19:11.184Z"
   },
   {
    "duration": 188,
    "start_time": "2024-02-14T21:19:11.231Z"
   },
   {
    "duration": 3604,
    "start_time": "2024-02-14T21:19:11.420Z"
   },
   {
    "duration": 205,
    "start_time": "2024-02-14T21:19:15.026Z"
   },
   {
    "duration": 34,
    "start_time": "2024-02-14T21:19:15.233Z"
   },
   {
    "duration": 113,
    "start_time": "2024-02-14T21:19:15.268Z"
   },
   {
    "duration": 507,
    "start_time": "2024-02-14T21:19:15.382Z"
   },
   {
    "duration": 385,
    "start_time": "2024-02-14T21:19:15.891Z"
   },
   {
    "duration": 352,
    "start_time": "2024-02-14T21:19:16.278Z"
   },
   {
    "duration": 111,
    "start_time": "2024-02-14T21:19:16.632Z"
   },
   {
    "duration": 97,
    "start_time": "2024-02-14T21:19:16.744Z"
   },
   {
    "duration": 87,
    "start_time": "2024-02-14T21:19:16.843Z"
   },
   {
    "duration": 84,
    "start_time": "2024-02-14T21:19:16.932Z"
   },
   {
    "duration": 69,
    "start_time": "2024-02-14T21:19:17.018Z"
   },
   {
    "duration": 10,
    "start_time": "2024-02-14T21:19:17.089Z"
   },
   {
    "duration": 31,
    "start_time": "2024-02-14T21:19:17.101Z"
   },
   {
    "duration": 52210,
    "start_time": "2024-02-14T21:19:17.134Z"
   },
   {
    "duration": 5368,
    "start_time": "2024-02-14T21:20:09.346Z"
   },
   {
    "duration": 5361,
    "start_time": "2024-02-14T21:20:14.716Z"
   },
   {
    "duration": 191,
    "start_time": "2024-02-14T21:20:20.079Z"
   },
   {
    "duration": 7,
    "start_time": "2024-02-14T21:20:20.272Z"
   },
   {
    "duration": 454,
    "start_time": "2024-02-14T21:20:20.281Z"
   },
   {
    "duration": 71,
    "start_time": "2024-02-14T21:20:20.736Z"
   },
   {
    "duration": 72,
    "start_time": "2024-02-14T21:20:20.809Z"
   },
   {
    "duration": 160,
    "start_time": "2024-02-14T21:20:20.882Z"
   },
   {
    "duration": 4,
    "start_time": "2024-02-14T21:20:21.044Z"
   },
   {
    "duration": 16130,
    "start_time": "2024-02-14T21:20:21.065Z"
   },
   {
    "duration": 45479,
    "start_time": "2024-02-14T21:20:37.267Z"
   },
   {
    "duration": 4923,
    "start_time": "2024-02-14T21:21:22.748Z"
   },
   {
    "duration": 26044,
    "start_time": "2024-02-14T21:21:27.672Z"
   },
   {
    "duration": 11,
    "start_time": "2024-02-14T21:21:53.718Z"
   },
   {
    "duration": 22537,
    "start_time": "2024-02-14T21:21:53.731Z"
   },
   {
    "duration": 15998,
    "start_time": "2024-02-14T21:22:16.270Z"
   },
   {
    "duration": 95259,
    "start_time": "2024-02-14T21:22:32.270Z"
   },
   {
    "duration": 81729,
    "start_time": "2024-02-14T21:24:07.531Z"
   },
   {
    "duration": 22707,
    "start_time": "2024-02-14T21:25:29.265Z"
   },
   {
    "duration": 10104,
    "start_time": "2024-02-14T21:25:51.975Z"
   },
   {
    "duration": 69624,
    "start_time": "2024-02-14T21:26:02.081Z"
   },
   {
    "duration": 12158,
    "start_time": "2024-02-14T21:27:11.707Z"
   },
   {
    "duration": 11,
    "start_time": "2024-02-14T21:27:23.867Z"
   },
   {
    "duration": 28,
    "start_time": "2024-02-14T21:27:23.879Z"
   },
   {
    "duration": 28,
    "start_time": "2024-02-14T21:27:23.908Z"
   },
   {
    "duration": 12372,
    "start_time": "2024-02-14T21:27:23.938Z"
   },
   {
    "duration": 7697,
    "start_time": "2024-02-15T10:20:54.147Z"
   },
   {
    "duration": 2954,
    "start_time": "2024-02-15T10:21:01.847Z"
   },
   {
    "duration": 2202,
    "start_time": "2024-02-15T10:21:04.803Z"
   },
   {
    "duration": 1078,
    "start_time": "2024-02-15T10:21:07.007Z"
   },
   {
    "duration": 1344,
    "start_time": "2024-02-15T10:21:08.087Z"
   },
   {
    "duration": 482,
    "start_time": "2024-02-15T10:21:09.433Z"
   },
   {
    "duration": 1073,
    "start_time": "2024-02-15T10:21:09.916Z"
   },
   {
    "duration": 692,
    "start_time": "2024-02-15T10:21:10.990Z"
   },
   {
    "duration": 202,
    "start_time": "2024-02-15T10:21:11.684Z"
   },
   {
    "duration": 98,
    "start_time": "2024-02-15T10:21:11.888Z"
   },
   {
    "duration": 572,
    "start_time": "2024-02-15T10:21:11.988Z"
   },
   {
    "duration": 847,
    "start_time": "2024-02-15T10:21:12.562Z"
   },
   {
    "duration": 418,
    "start_time": "2024-02-15T10:21:13.411Z"
   },
   {
    "duration": 99,
    "start_time": "2024-02-15T10:21:13.832Z"
   },
   {
    "duration": 1236,
    "start_time": "2024-02-15T10:21:13.933Z"
   },
   {
    "duration": 1357,
    "start_time": "2024-02-15T10:21:15.171Z"
   },
   {
    "duration": 332,
    "start_time": "2024-02-15T10:21:16.530Z"
   },
   {
    "duration": 82,
    "start_time": "2024-02-15T10:21:16.864Z"
   },
   {
    "duration": 59,
    "start_time": "2024-02-15T10:21:16.948Z"
   },
   {
    "duration": 193,
    "start_time": "2024-02-15T10:21:17.009Z"
   },
   {
    "duration": 1696,
    "start_time": "2024-02-15T10:21:17.204Z"
   },
   {
    "duration": 17,
    "start_time": "2024-02-15T10:21:18.901Z"
   },
   {
    "duration": 61,
    "start_time": "2024-02-15T10:21:18.920Z"
   },
   {
    "duration": 173,
    "start_time": "2024-02-15T10:21:18.983Z"
   },
   {
    "duration": 3567,
    "start_time": "2024-02-15T10:21:19.158Z"
   },
   {
    "duration": 195,
    "start_time": "2024-02-15T10:21:22.727Z"
   },
   {
    "duration": 31,
    "start_time": "2024-02-15T10:21:22.924Z"
   },
   {
    "duration": 104,
    "start_time": "2024-02-15T10:21:22.965Z"
   },
   {
    "duration": 465,
    "start_time": "2024-02-15T10:21:23.070Z"
   },
   {
    "duration": 360,
    "start_time": "2024-02-15T10:21:23.537Z"
   },
   {
    "duration": 345,
    "start_time": "2024-02-15T10:21:23.898Z"
   },
   {
    "duration": 104,
    "start_time": "2024-02-15T10:21:24.244Z"
   },
   {
    "duration": 91,
    "start_time": "2024-02-15T10:21:24.350Z"
   },
   {
    "duration": 86,
    "start_time": "2024-02-15T10:21:24.443Z"
   },
   {
    "duration": 85,
    "start_time": "2024-02-15T10:21:24.531Z"
   },
   {
    "duration": 67,
    "start_time": "2024-02-15T10:21:24.617Z"
   },
   {
    "duration": 10,
    "start_time": "2024-02-15T10:21:24.686Z"
   },
   {
    "duration": 5,
    "start_time": "2024-02-15T10:21:24.698Z"
   },
   {
    "duration": 3,
    "start_time": "2024-02-15T10:21:24.705Z"
   },
   {
    "duration": 4,
    "start_time": "2024-02-15T10:21:44.295Z"
   },
   {
    "duration": 8166,
    "start_time": "2024-02-15T11:11:43.523Z"
   },
   {
    "duration": 7442,
    "start_time": "2024-02-15T11:11:59.423Z"
   },
   {
    "duration": 2017,
    "start_time": "2024-02-15T11:12:29.526Z"
   },
   {
    "duration": 3080,
    "start_time": "2024-02-15T11:12:39.881Z"
   },
   {
    "duration": 1574,
    "start_time": "2024-02-15T11:12:47.630Z"
   },
   {
    "duration": 3,
    "start_time": "2024-02-15T11:20:26.559Z"
   },
   {
    "duration": 18,
    "start_time": "2024-02-15T11:20:26.564Z"
   },
   {
    "duration": 1969,
    "start_time": "2024-02-15T11:20:26.584Z"
   },
   {
    "duration": 975,
    "start_time": "2024-02-15T11:20:28.555Z"
   },
   {
    "duration": 1600,
    "start_time": "2024-02-15T11:20:29.532Z"
   },
   {
    "duration": 568,
    "start_time": "2024-02-15T11:20:31.134Z"
   },
   {
    "duration": 1240,
    "start_time": "2024-02-15T11:20:31.703Z"
   },
   {
    "duration": 743,
    "start_time": "2024-02-15T11:20:32.944Z"
   },
   {
    "duration": 253,
    "start_time": "2024-02-15T11:20:33.693Z"
   },
   {
    "duration": 100,
    "start_time": "2024-02-15T11:20:33.948Z"
   },
   {
    "duration": 640,
    "start_time": "2024-02-15T11:20:34.051Z"
   },
   {
    "duration": 914,
    "start_time": "2024-02-15T11:20:34.693Z"
   },
   {
    "duration": 485,
    "start_time": "2024-02-15T11:20:35.609Z"
   },
   {
    "duration": 116,
    "start_time": "2024-02-15T11:20:36.097Z"
   },
   {
    "duration": 1322,
    "start_time": "2024-02-15T11:20:36.215Z"
   },
   {
    "duration": 1500,
    "start_time": "2024-02-15T11:20:37.539Z"
   },
   {
    "duration": 345,
    "start_time": "2024-02-15T11:20:39.041Z"
   },
   {
    "duration": 105,
    "start_time": "2024-02-15T11:20:39.387Z"
   },
   {
    "duration": 48,
    "start_time": "2024-02-15T11:20:39.494Z"
   },
   {
    "duration": 222,
    "start_time": "2024-02-15T11:20:39.544Z"
   },
   {
    "duration": 1964,
    "start_time": "2024-02-15T11:20:39.770Z"
   },
   {
    "duration": 19,
    "start_time": "2024-02-15T11:20:41.735Z"
   },
   {
    "duration": 66,
    "start_time": "2024-02-15T11:20:41.755Z"
   },
   {
    "duration": 219,
    "start_time": "2024-02-15T11:20:41.827Z"
   },
   {
    "duration": 4136,
    "start_time": "2024-02-15T11:20:42.048Z"
   },
   {
    "duration": 238,
    "start_time": "2024-02-15T11:20:46.186Z"
   },
   {
    "duration": 33,
    "start_time": "2024-02-15T11:20:46.425Z"
   },
   {
    "duration": 132,
    "start_time": "2024-02-15T11:20:46.460Z"
   },
   {
    "duration": 542,
    "start_time": "2024-02-15T11:20:46.594Z"
   },
   {
    "duration": 414,
    "start_time": "2024-02-15T11:20:47.137Z"
   },
   {
    "duration": 423,
    "start_time": "2024-02-15T11:20:47.553Z"
   },
   {
    "duration": 132,
    "start_time": "2024-02-15T11:20:47.978Z"
   },
   {
    "duration": 107,
    "start_time": "2024-02-15T11:20:48.111Z"
   },
   {
    "duration": 150,
    "start_time": "2024-02-15T11:20:48.220Z"
   },
   {
    "duration": 0,
    "start_time": "2024-02-15T11:20:48.372Z"
   },
   {
    "duration": 0,
    "start_time": "2024-02-15T11:20:48.373Z"
   },
   {
    "duration": 1,
    "start_time": "2024-02-15T11:20:48.375Z"
   },
   {
    "duration": 0,
    "start_time": "2024-02-15T11:20:48.392Z"
   },
   {
    "duration": 0,
    "start_time": "2024-02-15T11:20:48.394Z"
   },
   {
    "duration": 0,
    "start_time": "2024-02-15T11:20:48.395Z"
   },
   {
    "duration": 0,
    "start_time": "2024-02-15T11:20:48.396Z"
   },
   {
    "duration": 0,
    "start_time": "2024-02-15T11:20:48.397Z"
   },
   {
    "duration": 0,
    "start_time": "2024-02-15T11:20:48.399Z"
   },
   {
    "duration": 0,
    "start_time": "2024-02-15T11:20:48.400Z"
   },
   {
    "duration": 0,
    "start_time": "2024-02-15T11:20:48.401Z"
   },
   {
    "duration": 0,
    "start_time": "2024-02-15T11:20:48.402Z"
   },
   {
    "duration": 0,
    "start_time": "2024-02-15T11:20:48.404Z"
   },
   {
    "duration": 0,
    "start_time": "2024-02-15T11:20:48.405Z"
   },
   {
    "duration": 0,
    "start_time": "2024-02-15T11:20:48.406Z"
   },
   {
    "duration": 0,
    "start_time": "2024-02-15T11:20:48.407Z"
   },
   {
    "duration": 0,
    "start_time": "2024-02-15T11:20:48.408Z"
   },
   {
    "duration": 0,
    "start_time": "2024-02-15T11:20:48.409Z"
   },
   {
    "duration": 0,
    "start_time": "2024-02-15T11:20:48.410Z"
   },
   {
    "duration": 0,
    "start_time": "2024-02-15T11:20:48.411Z"
   },
   {
    "duration": 0,
    "start_time": "2024-02-15T11:20:48.412Z"
   },
   {
    "duration": 0,
    "start_time": "2024-02-15T11:20:48.414Z"
   },
   {
    "duration": 0,
    "start_time": "2024-02-15T11:20:48.415Z"
   },
   {
    "duration": 0,
    "start_time": "2024-02-15T11:20:48.416Z"
   },
   {
    "duration": 0,
    "start_time": "2024-02-15T11:20:48.417Z"
   },
   {
    "duration": 0,
    "start_time": "2024-02-15T11:20:48.419Z"
   },
   {
    "duration": 0,
    "start_time": "2024-02-15T11:20:48.420Z"
   },
   {
    "duration": 0,
    "start_time": "2024-02-15T11:20:48.421Z"
   },
   {
    "duration": 0,
    "start_time": "2024-02-15T11:20:48.422Z"
   },
   {
    "duration": 0,
    "start_time": "2024-02-15T11:20:48.423Z"
   },
   {
    "duration": 0,
    "start_time": "2024-02-15T11:20:48.424Z"
   },
   {
    "duration": 0,
    "start_time": "2024-02-15T11:20:48.426Z"
   },
   {
    "duration": 0,
    "start_time": "2024-02-15T11:20:48.427Z"
   },
   {
    "duration": 0,
    "start_time": "2024-02-15T11:20:48.428Z"
   },
   {
    "duration": 9,
    "start_time": "2024-02-15T11:20:57.349Z"
   },
   {
    "duration": 191,
    "start_time": "2024-02-15T11:21:04.291Z"
   },
   {
    "duration": 99,
    "start_time": "2024-02-15T11:22:40.711Z"
   },
   {
    "duration": 88,
    "start_time": "2024-02-15T11:22:44.172Z"
   },
   {
    "duration": 115,
    "start_time": "2024-02-15T11:22:55.937Z"
   },
   {
    "duration": 273,
    "start_time": "2024-02-15T11:26:17.564Z"
   },
   {
    "duration": 57,
    "start_time": "2024-02-15T11:29:24.000Z"
   },
   {
    "duration": 4,
    "start_time": "2024-02-15T11:30:07.334Z"
   },
   {
    "duration": 11,
    "start_time": "2024-02-15T11:30:38.422Z"
   },
   {
    "duration": 4,
    "start_time": "2024-02-15T11:30:56.341Z"
   },
   {
    "duration": 4,
    "start_time": "2024-02-15T11:31:04.719Z"
   },
   {
    "duration": 3,
    "start_time": "2024-02-15T11:32:10.509Z"
   },
   {
    "duration": 3,
    "start_time": "2024-02-15T11:32:12.796Z"
   },
   {
    "duration": 8,
    "start_time": "2024-02-15T11:32:19.092Z"
   },
   {
    "duration": 43596,
    "start_time": "2024-02-15T11:32:21.613Z"
   },
   {
    "duration": 5303,
    "start_time": "2024-02-15T11:33:09.550Z"
   },
   {
    "duration": 42,
    "start_time": "2024-02-15T11:33:17.340Z"
   },
   {
    "duration": 19,
    "start_time": "2024-02-15T11:38:27.256Z"
   },
   {
    "duration": 4,
    "start_time": "2024-02-15T11:39:34.883Z"
   },
   {
    "duration": 4,
    "start_time": "2024-02-15T11:40:31.515Z"
   },
   {
    "duration": 63,
    "start_time": "2024-02-15T11:40:31.521Z"
   },
   {
    "duration": 1813,
    "start_time": "2024-02-15T11:40:31.585Z"
   },
   {
    "duration": 970,
    "start_time": "2024-02-15T11:40:33.400Z"
   },
   {
    "duration": 1554,
    "start_time": "2024-02-15T11:40:34.372Z"
   },
   {
    "duration": 565,
    "start_time": "2024-02-15T11:40:35.927Z"
   },
   {
    "duration": 1222,
    "start_time": "2024-02-15T11:40:36.493Z"
   },
   {
    "duration": 765,
    "start_time": "2024-02-15T11:40:37.717Z"
   },
   {
    "duration": 246,
    "start_time": "2024-02-15T11:40:38.486Z"
   },
   {
    "duration": 96,
    "start_time": "2024-02-15T11:40:38.734Z"
   },
   {
    "duration": 618,
    "start_time": "2024-02-15T11:40:38.832Z"
   },
   {
    "duration": 949,
    "start_time": "2024-02-15T11:40:39.452Z"
   },
   {
    "duration": 504,
    "start_time": "2024-02-15T11:40:40.403Z"
   },
   {
    "duration": 106,
    "start_time": "2024-02-15T11:40:40.909Z"
   },
   {
    "duration": 1387,
    "start_time": "2024-02-15T11:40:41.017Z"
   },
   {
    "duration": 1483,
    "start_time": "2024-02-15T11:40:42.405Z"
   },
   {
    "duration": 346,
    "start_time": "2024-02-15T11:40:43.890Z"
   },
   {
    "duration": 90,
    "start_time": "2024-02-15T11:40:44.238Z"
   },
   {
    "duration": 49,
    "start_time": "2024-02-15T11:40:44.330Z"
   },
   {
    "duration": 224,
    "start_time": "2024-02-15T11:40:44.392Z"
   },
   {
    "duration": 1904,
    "start_time": "2024-02-15T11:40:44.618Z"
   },
   {
    "duration": 17,
    "start_time": "2024-02-15T11:40:46.524Z"
   },
   {
    "duration": 58,
    "start_time": "2024-02-15T11:40:46.543Z"
   },
   {
    "duration": 187,
    "start_time": "2024-02-15T11:40:46.605Z"
   },
   {
    "duration": 4017,
    "start_time": "2024-02-15T11:40:46.794Z"
   },
   {
    "duration": 235,
    "start_time": "2024-02-15T11:40:50.813Z"
   },
   {
    "duration": 49,
    "start_time": "2024-02-15T11:40:51.049Z"
   },
   {
    "duration": 132,
    "start_time": "2024-02-15T11:40:51.100Z"
   },
   {
    "duration": 524,
    "start_time": "2024-02-15T11:40:51.234Z"
   },
   {
    "duration": 431,
    "start_time": "2024-02-15T11:40:51.760Z"
   },
   {
    "duration": 390,
    "start_time": "2024-02-15T11:40:52.193Z"
   },
   {
    "duration": 117,
    "start_time": "2024-02-15T11:40:52.585Z"
   },
   {
    "duration": 123,
    "start_time": "2024-02-15T11:40:52.704Z"
   },
   {
    "duration": 132,
    "start_time": "2024-02-15T11:40:52.829Z"
   },
   {
    "duration": 95,
    "start_time": "2024-02-15T11:40:52.963Z"
   },
   {
    "duration": 138,
    "start_time": "2024-02-15T11:40:53.060Z"
   },
   {
    "duration": 287,
    "start_time": "2024-02-15T11:40:53.200Z"
   },
   {
    "duration": 58,
    "start_time": "2024-02-15T11:40:53.492Z"
   },
   {
    "duration": 3,
    "start_time": "2024-02-15T11:40:53.552Z"
   },
   {
    "duration": 18,
    "start_time": "2024-02-15T11:40:53.556Z"
   },
   {
    "duration": 18,
    "start_time": "2024-02-15T11:40:53.575Z"
   },
   {
    "duration": 29,
    "start_time": "2024-02-15T11:40:53.595Z"
   },
   {
    "duration": 150,
    "start_time": "2024-02-15T11:40:53.626Z"
   },
   {
    "duration": 0,
    "start_time": "2024-02-15T11:40:53.778Z"
   },
   {
    "duration": 0,
    "start_time": "2024-02-15T11:40:53.780Z"
   },
   {
    "duration": 1,
    "start_time": "2024-02-15T11:40:53.780Z"
   },
   {
    "duration": 0,
    "start_time": "2024-02-15T11:40:53.782Z"
   },
   {
    "duration": 0,
    "start_time": "2024-02-15T11:40:53.792Z"
   },
   {
    "duration": 0,
    "start_time": "2024-02-15T11:40:53.793Z"
   },
   {
    "duration": 0,
    "start_time": "2024-02-15T11:40:53.794Z"
   },
   {
    "duration": 0,
    "start_time": "2024-02-15T11:40:53.795Z"
   },
   {
    "duration": 0,
    "start_time": "2024-02-15T11:40:53.796Z"
   },
   {
    "duration": 0,
    "start_time": "2024-02-15T11:40:53.797Z"
   },
   {
    "duration": 0,
    "start_time": "2024-02-15T11:40:53.798Z"
   },
   {
    "duration": 0,
    "start_time": "2024-02-15T11:40:53.799Z"
   },
   {
    "duration": 0,
    "start_time": "2024-02-15T11:40:53.800Z"
   },
   {
    "duration": 0,
    "start_time": "2024-02-15T11:40:53.801Z"
   },
   {
    "duration": 0,
    "start_time": "2024-02-15T11:40:53.802Z"
   },
   {
    "duration": 0,
    "start_time": "2024-02-15T11:40:53.804Z"
   },
   {
    "duration": 0,
    "start_time": "2024-02-15T11:40:53.805Z"
   },
   {
    "duration": 0,
    "start_time": "2024-02-15T11:40:53.806Z"
   },
   {
    "duration": 0,
    "start_time": "2024-02-15T11:40:53.807Z"
   },
   {
    "duration": 0,
    "start_time": "2024-02-15T11:40:53.808Z"
   },
   {
    "duration": 0,
    "start_time": "2024-02-15T11:40:53.809Z"
   },
   {
    "duration": 1,
    "start_time": "2024-02-15T11:40:53.809Z"
   },
   {
    "duration": 0,
    "start_time": "2024-02-15T11:40:53.811Z"
   },
   {
    "duration": 0,
    "start_time": "2024-02-15T11:40:53.812Z"
   },
   {
    "duration": 0,
    "start_time": "2024-02-15T11:40:53.813Z"
   },
   {
    "duration": 0,
    "start_time": "2024-02-15T11:40:53.814Z"
   },
   {
    "duration": 0,
    "start_time": "2024-02-15T11:40:53.815Z"
   },
   {
    "duration": 40937,
    "start_time": "2024-02-15T11:41:06.138Z"
   },
   {
    "duration": 5366,
    "start_time": "2024-02-15T11:41:51.334Z"
   },
   {
    "duration": 5995,
    "start_time": "2024-02-15T11:41:59.457Z"
   },
   {
    "duration": 116,
    "start_time": "2024-02-15T11:42:08.785Z"
   },
   {
    "duration": 8,
    "start_time": "2024-02-15T11:42:17.302Z"
   },
   {
    "duration": 516,
    "start_time": "2024-02-15T11:42:19.362Z"
   },
   {
    "duration": 107,
    "start_time": "2024-02-15T11:43:34.141Z"
   },
   {
    "duration": 67,
    "start_time": "2024-02-15T11:45:07.402Z"
   },
   {
    "duration": 79,
    "start_time": "2024-02-15T11:45:08.641Z"
   },
   {
    "duration": 132,
    "start_time": "2024-02-15T11:45:11.629Z"
   },
   {
    "duration": 6,
    "start_time": "2024-02-15T11:46:29.805Z"
   },
   {
    "duration": 18793,
    "start_time": "2024-02-15T11:46:32.911Z"
   },
   {
    "duration": 45656,
    "start_time": "2024-02-15T11:46:56.289Z"
   },
   {
    "duration": 5773,
    "start_time": "2024-02-15T11:47:46.322Z"
   },
   {
    "duration": 24314,
    "start_time": "2024-02-15T11:48:13.516Z"
   },
   {
    "duration": 74,
    "start_time": "2024-02-15T11:48:37.832Z"
   },
   {
    "duration": 15,
    "start_time": "2024-02-15T11:49:05.411Z"
   },
   {
    "duration": 26495,
    "start_time": "2024-02-15T11:49:22.903Z"
   },
   {
    "duration": 16192,
    "start_time": "2024-02-15T11:49:52.700Z"
   },
   {
    "duration": 4,
    "start_time": "2024-02-15T11:53:20.022Z"
   },
   {
    "duration": 20,
    "start_time": "2024-02-15T11:53:20.028Z"
   },
   {
    "duration": 2523,
    "start_time": "2024-02-15T11:53:20.050Z"
   },
   {
    "duration": 2977,
    "start_time": "2024-02-15T11:53:22.575Z"
   },
   {
    "duration": 1562,
    "start_time": "2024-02-15T11:53:25.554Z"
   },
   {
    "duration": 551,
    "start_time": "2024-02-15T11:53:27.117Z"
   },
   {
    "duration": 1243,
    "start_time": "2024-02-15T11:53:27.670Z"
   },
   {
    "duration": 728,
    "start_time": "2024-02-15T11:53:28.915Z"
   },
   {
    "duration": 270,
    "start_time": "2024-02-15T11:53:29.644Z"
   },
   {
    "duration": 108,
    "start_time": "2024-02-15T11:53:29.916Z"
   },
   {
    "duration": 656,
    "start_time": "2024-02-15T11:53:30.027Z"
   },
   {
    "duration": 989,
    "start_time": "2024-02-15T11:53:30.684Z"
   },
   {
    "duration": 541,
    "start_time": "2024-02-15T11:53:31.675Z"
   },
   {
    "duration": 119,
    "start_time": "2024-02-15T11:53:32.218Z"
   },
   {
    "duration": 1397,
    "start_time": "2024-02-15T11:53:32.339Z"
   },
   {
    "duration": 1562,
    "start_time": "2024-02-15T11:53:33.738Z"
   },
   {
    "duration": 348,
    "start_time": "2024-02-15T11:53:35.301Z"
   },
   {
    "duration": 94,
    "start_time": "2024-02-15T11:53:35.651Z"
   },
   {
    "duration": 66,
    "start_time": "2024-02-15T11:53:35.746Z"
   },
   {
    "duration": 215,
    "start_time": "2024-02-15T11:53:35.813Z"
   },
   {
    "duration": 1947,
    "start_time": "2024-02-15T11:53:36.030Z"
   },
   {
    "duration": 29,
    "start_time": "2024-02-15T11:53:37.979Z"
   },
   {
    "duration": 49,
    "start_time": "2024-02-15T11:53:38.010Z"
   },
   {
    "duration": 210,
    "start_time": "2024-02-15T11:53:38.061Z"
   },
   {
    "duration": 4171,
    "start_time": "2024-02-15T11:53:38.274Z"
   },
   {
    "duration": 245,
    "start_time": "2024-02-15T11:53:42.447Z"
   },
   {
    "duration": 33,
    "start_time": "2024-02-15T11:53:42.694Z"
   },
   {
    "duration": 135,
    "start_time": "2024-02-15T11:53:42.729Z"
   },
   {
    "duration": 543,
    "start_time": "2024-02-15T11:53:42.868Z"
   },
   {
    "duration": 433,
    "start_time": "2024-02-15T11:53:43.413Z"
   },
   {
    "duration": 409,
    "start_time": "2024-02-15T11:53:43.847Z"
   },
   {
    "duration": 120,
    "start_time": "2024-02-15T11:53:44.258Z"
   },
   {
    "duration": 100,
    "start_time": "2024-02-15T11:53:44.380Z"
   },
   {
    "duration": 120,
    "start_time": "2024-02-15T11:53:44.491Z"
   },
   {
    "duration": 97,
    "start_time": "2024-02-15T11:53:44.612Z"
   },
   {
    "duration": 148,
    "start_time": "2024-02-15T11:53:44.710Z"
   },
   {
    "duration": 294,
    "start_time": "2024-02-15T11:53:44.860Z"
   },
   {
    "duration": 64,
    "start_time": "2024-02-15T11:53:45.156Z"
   },
   {
    "duration": 3,
    "start_time": "2024-02-15T11:53:45.222Z"
   },
   {
    "duration": 30,
    "start_time": "2024-02-15T11:53:45.226Z"
   },
   {
    "duration": 16,
    "start_time": "2024-02-15T11:53:45.258Z"
   },
   {
    "duration": 6,
    "start_time": "2024-02-15T11:53:45.276Z"
   },
   {
    "duration": 43006,
    "start_time": "2024-02-15T11:53:45.284Z"
   },
   {
    "duration": 6342,
    "start_time": "2024-02-15T11:54:28.292Z"
   },
   {
    "duration": 5924,
    "start_time": "2024-02-15T11:54:34.636Z"
   },
   {
    "duration": 144,
    "start_time": "2024-02-15T11:54:40.562Z"
   },
   {
    "duration": 7,
    "start_time": "2024-02-15T11:54:40.707Z"
   },
   {
    "duration": 525,
    "start_time": "2024-02-15T11:54:40.716Z"
   },
   {
    "duration": 82,
    "start_time": "2024-02-15T11:54:41.243Z"
   },
   {
    "duration": 93,
    "start_time": "2024-02-15T11:54:41.326Z"
   },
   {
    "duration": 139,
    "start_time": "2024-02-15T11:54:41.420Z"
   },
   {
    "duration": 4,
    "start_time": "2024-02-15T11:54:41.561Z"
   },
   {
    "duration": 17524,
    "start_time": "2024-02-15T11:54:41.567Z"
   },
   {
    "duration": 46180,
    "start_time": "2024-02-15T11:54:59.097Z"
   },
   {
    "duration": 5218,
    "start_time": "2024-02-15T11:55:45.279Z"
   },
   {
    "duration": 24421,
    "start_time": "2024-02-15T11:55:50.499Z"
   },
   {
    "duration": 13,
    "start_time": "2024-02-15T11:56:14.922Z"
   },
   {
    "duration": 26357,
    "start_time": "2024-02-15T11:56:14.937Z"
   },
   {
    "duration": 16797,
    "start_time": "2024-02-15T11:56:41.296Z"
   },
   {
    "duration": 152,
    "start_time": "2024-02-15T11:59:17.549Z"
   },
   {
    "duration": 4,
    "start_time": "2024-02-15T12:03:54.462Z"
   },
   {
    "duration": 20,
    "start_time": "2024-02-15T12:03:54.468Z"
   },
   {
    "duration": 2812,
    "start_time": "2024-02-15T12:03:54.490Z"
   },
   {
    "duration": 2986,
    "start_time": "2024-02-15T12:03:57.304Z"
   },
   {
    "duration": 1645,
    "start_time": "2024-02-15T12:04:00.292Z"
   },
   {
    "duration": 586,
    "start_time": "2024-02-15T12:04:01.939Z"
   },
   {
    "duration": 1258,
    "start_time": "2024-02-15T12:04:02.527Z"
   },
   {
    "duration": 735,
    "start_time": "2024-02-15T12:04:03.786Z"
   },
   {
    "duration": 245,
    "start_time": "2024-02-15T12:04:04.524Z"
   },
   {
    "duration": 102,
    "start_time": "2024-02-15T12:04:04.771Z"
   },
   {
    "duration": 665,
    "start_time": "2024-02-15T12:04:04.875Z"
   },
   {
    "duration": 927,
    "start_time": "2024-02-15T12:04:05.542Z"
   },
   {
    "duration": 481,
    "start_time": "2024-02-15T12:04:06.471Z"
   },
   {
    "duration": 110,
    "start_time": "2024-02-15T12:04:06.954Z"
   },
   {
    "duration": 1368,
    "start_time": "2024-02-15T12:04:07.065Z"
   },
   {
    "duration": 1499,
    "start_time": "2024-02-15T12:04:08.435Z"
   },
   {
    "duration": 373,
    "start_time": "2024-02-15T12:04:09.936Z"
   },
   {
    "duration": 95,
    "start_time": "2024-02-15T12:04:10.311Z"
   },
   {
    "duration": 50,
    "start_time": "2024-02-15T12:04:10.407Z"
   },
   {
    "duration": 213,
    "start_time": "2024-02-15T12:04:10.459Z"
   },
   {
    "duration": 1942,
    "start_time": "2024-02-15T12:04:10.674Z"
   },
   {
    "duration": 18,
    "start_time": "2024-02-15T12:04:12.617Z"
   },
   {
    "duration": 68,
    "start_time": "2024-02-15T12:04:12.637Z"
   },
   {
    "duration": 201,
    "start_time": "2024-02-15T12:04:12.710Z"
   },
   {
    "duration": 4018,
    "start_time": "2024-02-15T12:04:12.913Z"
   },
   {
    "duration": 251,
    "start_time": "2024-02-15T12:04:16.933Z"
   },
   {
    "duration": 38,
    "start_time": "2024-02-15T12:04:17.185Z"
   },
   {
    "duration": 129,
    "start_time": "2024-02-15T12:04:17.224Z"
   },
   {
    "duration": 555,
    "start_time": "2024-02-15T12:04:17.355Z"
   },
   {
    "duration": 419,
    "start_time": "2024-02-15T12:04:17.912Z"
   },
   {
    "duration": 388,
    "start_time": "2024-02-15T12:04:18.333Z"
   },
   {
    "duration": 134,
    "start_time": "2024-02-15T12:04:18.722Z"
   },
   {
    "duration": 108,
    "start_time": "2024-02-15T12:04:18.858Z"
   },
   {
    "duration": 107,
    "start_time": "2024-02-15T12:04:18.967Z"
   },
   {
    "duration": 88,
    "start_time": "2024-02-15T12:04:19.076Z"
   },
   {
    "duration": 120,
    "start_time": "2024-02-15T12:04:19.166Z"
   },
   {
    "duration": 274,
    "start_time": "2024-02-15T12:04:19.292Z"
   },
   {
    "duration": 65,
    "start_time": "2024-02-15T12:04:19.568Z"
   },
   {
    "duration": 3,
    "start_time": "2024-02-15T12:04:19.635Z"
   },
   {
    "duration": 29,
    "start_time": "2024-02-15T12:04:19.639Z"
   },
   {
    "duration": 23,
    "start_time": "2024-02-15T12:04:19.670Z"
   },
   {
    "duration": 142,
    "start_time": "2024-02-15T12:04:19.695Z"
   },
   {
    "duration": 0,
    "start_time": "2024-02-15T12:04:19.839Z"
   },
   {
    "duration": 0,
    "start_time": "2024-02-15T12:04:19.841Z"
   },
   {
    "duration": 0,
    "start_time": "2024-02-15T12:04:19.843Z"
   },
   {
    "duration": 0,
    "start_time": "2024-02-15T12:04:19.844Z"
   },
   {
    "duration": 0,
    "start_time": "2024-02-15T12:04:19.845Z"
   },
   {
    "duration": 0,
    "start_time": "2024-02-15T12:04:19.847Z"
   },
   {
    "duration": 0,
    "start_time": "2024-02-15T12:04:19.848Z"
   },
   {
    "duration": 0,
    "start_time": "2024-02-15T12:04:19.849Z"
   },
   {
    "duration": 0,
    "start_time": "2024-02-15T12:04:19.850Z"
   },
   {
    "duration": 0,
    "start_time": "2024-02-15T12:04:19.851Z"
   },
   {
    "duration": 0,
    "start_time": "2024-02-15T12:04:19.853Z"
   },
   {
    "duration": 0,
    "start_time": "2024-02-15T12:04:19.854Z"
   },
   {
    "duration": 0,
    "start_time": "2024-02-15T12:04:19.855Z"
   },
   {
    "duration": 0,
    "start_time": "2024-02-15T12:04:19.856Z"
   },
   {
    "duration": 1,
    "start_time": "2024-02-15T12:04:19.858Z"
   },
   {
    "duration": 0,
    "start_time": "2024-02-15T12:04:19.860Z"
   },
   {
    "duration": 0,
    "start_time": "2024-02-15T12:04:19.861Z"
   },
   {
    "duration": 0,
    "start_time": "2024-02-15T12:04:19.892Z"
   },
   {
    "duration": 0,
    "start_time": "2024-02-15T12:04:19.894Z"
   },
   {
    "duration": 0,
    "start_time": "2024-02-15T12:04:19.896Z"
   },
   {
    "duration": 0,
    "start_time": "2024-02-15T12:04:19.898Z"
   },
   {
    "duration": 0,
    "start_time": "2024-02-15T12:04:19.900Z"
   },
   {
    "duration": 0,
    "start_time": "2024-02-15T12:04:19.901Z"
   },
   {
    "duration": 0,
    "start_time": "2024-02-15T12:04:19.903Z"
   },
   {
    "duration": 0,
    "start_time": "2024-02-15T12:04:19.904Z"
   },
   {
    "duration": 0,
    "start_time": "2024-02-15T12:04:19.907Z"
   },
   {
    "duration": 0,
    "start_time": "2024-02-15T12:04:19.908Z"
   },
   {
    "duration": 45214,
    "start_time": "2024-02-15T12:05:44.362Z"
   },
   {
    "duration": 272,
    "start_time": "2024-02-15T12:06:56.049Z"
   },
   {
    "duration": 526,
    "start_time": "2024-02-15T12:07:24.518Z"
   },
   {
    "duration": 563,
    "start_time": "2024-02-15T12:08:38.232Z"
   },
   {
    "duration": 3,
    "start_time": "2024-02-15T12:09:54.344Z"
   },
   {
    "duration": 61,
    "start_time": "2024-02-15T12:09:54.349Z"
   },
   {
    "duration": 1767,
    "start_time": "2024-02-15T12:09:54.413Z"
   },
   {
    "duration": 965,
    "start_time": "2024-02-15T12:09:56.182Z"
   },
   {
    "duration": 1476,
    "start_time": "2024-02-15T12:09:57.149Z"
   },
   {
    "duration": 530,
    "start_time": "2024-02-15T12:09:58.627Z"
   },
   {
    "duration": 1231,
    "start_time": "2024-02-15T12:09:59.159Z"
   },
   {
    "duration": 730,
    "start_time": "2024-02-15T12:10:00.393Z"
   },
   {
    "duration": 268,
    "start_time": "2024-02-15T12:10:01.126Z"
   },
   {
    "duration": 304,
    "start_time": "2024-02-15T12:10:01.396Z"
   },
   {
    "duration": 873,
    "start_time": "2024-02-15T12:10:01.702Z"
   },
   {
    "duration": 929,
    "start_time": "2024-02-15T12:10:02.577Z"
   },
   {
    "duration": 483,
    "start_time": "2024-02-15T12:10:03.508Z"
   },
   {
    "duration": 109,
    "start_time": "2024-02-15T12:10:03.993Z"
   },
   {
    "duration": 1517,
    "start_time": "2024-02-15T12:10:04.103Z"
   },
   {
    "duration": 1520,
    "start_time": "2024-02-15T12:10:05.622Z"
   },
   {
    "duration": 357,
    "start_time": "2024-02-15T12:10:07.144Z"
   },
   {
    "duration": 98,
    "start_time": "2024-02-15T12:10:07.502Z"
   },
   {
    "duration": 54,
    "start_time": "2024-02-15T12:10:07.603Z"
   },
   {
    "duration": 222,
    "start_time": "2024-02-15T12:10:07.659Z"
   },
   {
    "duration": 1923,
    "start_time": "2024-02-15T12:10:07.884Z"
   },
   {
    "duration": 19,
    "start_time": "2024-02-15T12:10:09.809Z"
   },
   {
    "duration": 46,
    "start_time": "2024-02-15T12:10:09.830Z"
   },
   {
    "duration": 206,
    "start_time": "2024-02-15T12:10:09.892Z"
   },
   {
    "duration": 4015,
    "start_time": "2024-02-15T12:10:10.099Z"
   },
   {
    "duration": 228,
    "start_time": "2024-02-15T12:10:14.116Z"
   },
   {
    "duration": 34,
    "start_time": "2024-02-15T12:10:14.345Z"
   },
   {
    "duration": 121,
    "start_time": "2024-02-15T12:10:14.391Z"
   },
   {
    "duration": 551,
    "start_time": "2024-02-15T12:10:14.516Z"
   },
   {
    "duration": 425,
    "start_time": "2024-02-15T12:10:15.069Z"
   },
   {
    "duration": 409,
    "start_time": "2024-02-15T12:10:15.496Z"
   },
   {
    "duration": 133,
    "start_time": "2024-02-15T12:10:15.907Z"
   },
   {
    "duration": 110,
    "start_time": "2024-02-15T12:10:16.041Z"
   },
   {
    "duration": 104,
    "start_time": "2024-02-15T12:10:16.153Z"
   },
   {
    "duration": 95,
    "start_time": "2024-02-15T12:10:16.259Z"
   },
   {
    "duration": 122,
    "start_time": "2024-02-15T12:10:16.355Z"
   },
   {
    "duration": 302,
    "start_time": "2024-02-15T12:10:16.479Z"
   },
   {
    "duration": 73,
    "start_time": "2024-02-15T12:10:16.783Z"
   },
   {
    "duration": 4,
    "start_time": "2024-02-15T12:10:16.858Z"
   },
   {
    "duration": 12,
    "start_time": "2024-02-15T12:10:16.864Z"
   },
   {
    "duration": 24,
    "start_time": "2024-02-15T12:10:16.878Z"
   },
   {
    "duration": 139,
    "start_time": "2024-02-15T12:10:16.904Z"
   },
   {
    "duration": 0,
    "start_time": "2024-02-15T12:10:17.045Z"
   },
   {
    "duration": 0,
    "start_time": "2024-02-15T12:10:17.047Z"
   },
   {
    "duration": 0,
    "start_time": "2024-02-15T12:10:17.049Z"
   },
   {
    "duration": 0,
    "start_time": "2024-02-15T12:10:17.050Z"
   },
   {
    "duration": 0,
    "start_time": "2024-02-15T12:10:17.052Z"
   },
   {
    "duration": 0,
    "start_time": "2024-02-15T12:10:17.053Z"
   },
   {
    "duration": 0,
    "start_time": "2024-02-15T12:10:17.055Z"
   },
   {
    "duration": 0,
    "start_time": "2024-02-15T12:10:17.056Z"
   },
   {
    "duration": 0,
    "start_time": "2024-02-15T12:10:17.058Z"
   },
   {
    "duration": 0,
    "start_time": "2024-02-15T12:10:17.060Z"
   },
   {
    "duration": 0,
    "start_time": "2024-02-15T12:10:17.092Z"
   },
   {
    "duration": 0,
    "start_time": "2024-02-15T12:10:17.094Z"
   },
   {
    "duration": 0,
    "start_time": "2024-02-15T12:10:17.095Z"
   },
   {
    "duration": 0,
    "start_time": "2024-02-15T12:10:17.097Z"
   },
   {
    "duration": 0,
    "start_time": "2024-02-15T12:10:17.098Z"
   },
   {
    "duration": 0,
    "start_time": "2024-02-15T12:10:17.100Z"
   },
   {
    "duration": 0,
    "start_time": "2024-02-15T12:10:17.101Z"
   },
   {
    "duration": 0,
    "start_time": "2024-02-15T12:10:17.103Z"
   },
   {
    "duration": 0,
    "start_time": "2024-02-15T12:10:17.104Z"
   },
   {
    "duration": 0,
    "start_time": "2024-02-15T12:10:17.106Z"
   },
   {
    "duration": 0,
    "start_time": "2024-02-15T12:10:17.107Z"
   },
   {
    "duration": 0,
    "start_time": "2024-02-15T12:10:17.109Z"
   },
   {
    "duration": 0,
    "start_time": "2024-02-15T12:10:17.110Z"
   },
   {
    "duration": 0,
    "start_time": "2024-02-15T12:10:17.112Z"
   },
   {
    "duration": 0,
    "start_time": "2024-02-15T12:10:17.114Z"
   },
   {
    "duration": 0,
    "start_time": "2024-02-15T12:10:17.116Z"
   },
   {
    "duration": 0,
    "start_time": "2024-02-15T12:10:17.117Z"
   },
   {
    "duration": 0,
    "start_time": "2024-02-15T12:10:17.118Z"
   },
   {
    "duration": 45646,
    "start_time": "2024-02-15T12:10:24.548Z"
   },
   {
    "duration": 572,
    "start_time": "2024-02-15T12:11:17.350Z"
   },
   {
    "duration": 6155,
    "start_time": "2024-02-15T12:12:06.339Z"
   },
   {
    "duration": 6556,
    "start_time": "2024-02-15T12:12:12.496Z"
   },
   {
    "duration": 118,
    "start_time": "2024-02-15T12:12:27.136Z"
   },
   {
    "duration": 7,
    "start_time": "2024-02-15T12:12:31.370Z"
   },
   {
    "duration": 504,
    "start_time": "2024-02-15T12:12:39.493Z"
   },
   {
    "duration": 12,
    "start_time": "2024-02-15T12:13:13.696Z"
   },
   {
    "duration": 26,
    "start_time": "2024-02-15T12:13:36.164Z"
   },
   {
    "duration": 4,
    "start_time": "2024-02-15T12:24:39.983Z"
   },
   {
    "duration": 35,
    "start_time": "2024-02-15T12:24:39.989Z"
   },
   {
    "duration": 1794,
    "start_time": "2024-02-15T12:24:40.027Z"
   },
   {
    "duration": 971,
    "start_time": "2024-02-15T12:24:41.823Z"
   },
   {
    "duration": 1545,
    "start_time": "2024-02-15T12:24:42.796Z"
   },
   {
    "duration": 519,
    "start_time": "2024-02-15T12:24:44.342Z"
   },
   {
    "duration": 1226,
    "start_time": "2024-02-15T12:24:44.863Z"
   },
   {
    "duration": 752,
    "start_time": "2024-02-15T12:24:46.091Z"
   },
   {
    "duration": 268,
    "start_time": "2024-02-15T12:24:46.845Z"
   },
   {
    "duration": 99,
    "start_time": "2024-02-15T12:24:47.152Z"
   },
   {
    "duration": 857,
    "start_time": "2024-02-15T12:24:47.253Z"
   },
   {
    "duration": 913,
    "start_time": "2024-02-15T12:24:48.112Z"
   },
   {
    "duration": 498,
    "start_time": "2024-02-15T12:24:49.027Z"
   },
   {
    "duration": 103,
    "start_time": "2024-02-15T12:24:49.526Z"
   },
   {
    "duration": 1369,
    "start_time": "2024-02-15T12:24:49.631Z"
   },
   {
    "duration": 1524,
    "start_time": "2024-02-15T12:24:51.001Z"
   },
   {
    "duration": 343,
    "start_time": "2024-02-15T12:24:52.527Z"
   },
   {
    "duration": 87,
    "start_time": "2024-02-15T12:24:52.872Z"
   },
   {
    "duration": 60,
    "start_time": "2024-02-15T12:24:52.960Z"
   },
   {
    "duration": 202,
    "start_time": "2024-02-15T12:24:53.022Z"
   },
   {
    "duration": 1875,
    "start_time": "2024-02-15T12:24:53.226Z"
   },
   {
    "duration": 17,
    "start_time": "2024-02-15T12:24:55.103Z"
   },
   {
    "duration": 46,
    "start_time": "2024-02-15T12:24:55.122Z"
   },
   {
    "duration": 200,
    "start_time": "2024-02-15T12:24:55.170Z"
   },
   {
    "duration": 3996,
    "start_time": "2024-02-15T12:24:55.372Z"
   },
   {
    "duration": 224,
    "start_time": "2024-02-15T12:24:59.370Z"
   },
   {
    "duration": 34,
    "start_time": "2024-02-15T12:24:59.596Z"
   },
   {
    "duration": 137,
    "start_time": "2024-02-15T12:24:59.632Z"
   },
   {
    "duration": 569,
    "start_time": "2024-02-15T12:24:59.774Z"
   },
   {
    "duration": 431,
    "start_time": "2024-02-15T12:25:00.345Z"
   },
   {
    "duration": 469,
    "start_time": "2024-02-15T12:25:00.778Z"
   },
   {
    "duration": 134,
    "start_time": "2024-02-15T12:25:01.249Z"
   },
   {
    "duration": 114,
    "start_time": "2024-02-15T12:25:01.385Z"
   },
   {
    "duration": 120,
    "start_time": "2024-02-15T12:25:01.500Z"
   },
   {
    "duration": 100,
    "start_time": "2024-02-15T12:25:01.622Z"
   },
   {
    "duration": 144,
    "start_time": "2024-02-15T12:25:01.724Z"
   },
   {
    "duration": 299,
    "start_time": "2024-02-15T12:25:01.870Z"
   },
   {
    "duration": 67,
    "start_time": "2024-02-15T12:25:02.171Z"
   },
   {
    "duration": 3,
    "start_time": "2024-02-15T12:25:02.240Z"
   },
   {
    "duration": 9,
    "start_time": "2024-02-15T12:25:02.245Z"
   },
   {
    "duration": 23,
    "start_time": "2024-02-15T12:25:02.256Z"
   },
   {
    "duration": 143,
    "start_time": "2024-02-15T12:25:02.281Z"
   },
   {
    "duration": 0,
    "start_time": "2024-02-15T12:25:02.427Z"
   },
   {
    "duration": 0,
    "start_time": "2024-02-15T12:25:02.428Z"
   },
   {
    "duration": 0,
    "start_time": "2024-02-15T12:25:02.429Z"
   },
   {
    "duration": 0,
    "start_time": "2024-02-15T12:25:02.431Z"
   },
   {
    "duration": 0,
    "start_time": "2024-02-15T12:25:02.433Z"
   },
   {
    "duration": 0,
    "start_time": "2024-02-15T12:25:02.434Z"
   },
   {
    "duration": 0,
    "start_time": "2024-02-15T12:25:02.436Z"
   },
   {
    "duration": 0,
    "start_time": "2024-02-15T12:25:02.437Z"
   },
   {
    "duration": 0,
    "start_time": "2024-02-15T12:25:02.439Z"
   },
   {
    "duration": 0,
    "start_time": "2024-02-15T12:25:02.441Z"
   },
   {
    "duration": 0,
    "start_time": "2024-02-15T12:25:02.442Z"
   },
   {
    "duration": 0,
    "start_time": "2024-02-15T12:25:02.444Z"
   },
   {
    "duration": 0,
    "start_time": "2024-02-15T12:25:02.446Z"
   },
   {
    "duration": 0,
    "start_time": "2024-02-15T12:25:02.447Z"
   },
   {
    "duration": 0,
    "start_time": "2024-02-15T12:25:02.448Z"
   },
   {
    "duration": 0,
    "start_time": "2024-02-15T12:25:02.450Z"
   },
   {
    "duration": 0,
    "start_time": "2024-02-15T12:25:02.452Z"
   },
   {
    "duration": 0,
    "start_time": "2024-02-15T12:25:02.491Z"
   },
   {
    "duration": 0,
    "start_time": "2024-02-15T12:25:02.493Z"
   },
   {
    "duration": 0,
    "start_time": "2024-02-15T12:25:02.495Z"
   },
   {
    "duration": 0,
    "start_time": "2024-02-15T12:25:02.496Z"
   },
   {
    "duration": 0,
    "start_time": "2024-02-15T12:25:02.497Z"
   },
   {
    "duration": 0,
    "start_time": "2024-02-15T12:25:02.498Z"
   },
   {
    "duration": 0,
    "start_time": "2024-02-15T12:25:02.499Z"
   },
   {
    "duration": 0,
    "start_time": "2024-02-15T12:25:02.500Z"
   },
   {
    "duration": 0,
    "start_time": "2024-02-15T12:25:02.502Z"
   },
   {
    "duration": 0,
    "start_time": "2024-02-15T12:25:02.503Z"
   },
   {
    "duration": 0,
    "start_time": "2024-02-15T12:25:02.504Z"
   },
   {
    "duration": 0,
    "start_time": "2024-02-15T12:25:02.506Z"
   },
   {
    "duration": 45381,
    "start_time": "2024-02-15T12:25:15.482Z"
   },
   {
    "duration": 530,
    "start_time": "2024-02-15T12:27:35.356Z"
   },
   {
    "duration": 5672,
    "start_time": "2024-02-15T12:27:41.492Z"
   },
   {
    "duration": 5554,
    "start_time": "2024-02-15T12:27:47.167Z"
   },
   {
    "duration": 117,
    "start_time": "2024-02-15T12:27:58.411Z"
   },
   {
    "duration": 9,
    "start_time": "2024-02-15T12:28:03.136Z"
   },
   {
    "duration": 498,
    "start_time": "2024-02-15T12:28:25.279Z"
   },
   {
    "duration": 75,
    "start_time": "2024-02-15T12:28:29.786Z"
   },
   {
    "duration": 43,
    "start_time": "2024-02-15T12:28:31.969Z"
   },
   {
    "duration": 4,
    "start_time": "2024-02-15T12:30:15.597Z"
   },
   {
    "duration": 5,
    "start_time": "2024-02-15T12:30:15.603Z"
   },
   {
    "duration": 1849,
    "start_time": "2024-02-15T12:30:15.609Z"
   },
   {
    "duration": 1027,
    "start_time": "2024-02-15T12:30:17.460Z"
   },
   {
    "duration": 1654,
    "start_time": "2024-02-15T12:30:18.490Z"
   },
   {
    "duration": 537,
    "start_time": "2024-02-15T12:30:20.146Z"
   },
   {
    "duration": 1274,
    "start_time": "2024-02-15T12:30:20.685Z"
   },
   {
    "duration": 759,
    "start_time": "2024-02-15T12:30:21.961Z"
   },
   {
    "duration": 242,
    "start_time": "2024-02-15T12:30:22.724Z"
   },
   {
    "duration": 100,
    "start_time": "2024-02-15T12:30:22.967Z"
   },
   {
    "duration": 642,
    "start_time": "2024-02-15T12:30:23.069Z"
   },
   {
    "duration": 939,
    "start_time": "2024-02-15T12:30:23.713Z"
   },
   {
    "duration": 496,
    "start_time": "2024-02-15T12:30:24.654Z"
   },
   {
    "duration": 108,
    "start_time": "2024-02-15T12:30:25.152Z"
   },
   {
    "duration": 1373,
    "start_time": "2024-02-15T12:30:25.262Z"
   },
   {
    "duration": 1530,
    "start_time": "2024-02-15T12:30:26.637Z"
   },
   {
    "duration": 340,
    "start_time": "2024-02-15T12:30:28.169Z"
   },
   {
    "duration": 96,
    "start_time": "2024-02-15T12:30:28.510Z"
   },
   {
    "duration": 49,
    "start_time": "2024-02-15T12:30:28.608Z"
   },
   {
    "duration": 212,
    "start_time": "2024-02-15T12:30:28.658Z"
   },
   {
    "duration": 1901,
    "start_time": "2024-02-15T12:30:28.872Z"
   },
   {
    "duration": 24,
    "start_time": "2024-02-15T12:30:30.775Z"
   },
   {
    "duration": 145,
    "start_time": "2024-02-15T12:30:30.801Z"
   },
   {
    "duration": 288,
    "start_time": "2024-02-15T12:30:30.950Z"
   },
   {
    "duration": 4034,
    "start_time": "2024-02-15T12:30:31.240Z"
   },
   {
    "duration": 227,
    "start_time": "2024-02-15T12:30:35.276Z"
   },
   {
    "duration": 32,
    "start_time": "2024-02-15T12:30:35.505Z"
   },
   {
    "duration": 129,
    "start_time": "2024-02-15T12:30:35.539Z"
   },
   {
    "duration": 561,
    "start_time": "2024-02-15T12:30:35.670Z"
   },
   {
    "duration": 482,
    "start_time": "2024-02-15T12:30:36.234Z"
   },
   {
    "duration": 429,
    "start_time": "2024-02-15T12:30:36.718Z"
   },
   {
    "duration": 119,
    "start_time": "2024-02-15T12:30:37.149Z"
   },
   {
    "duration": 104,
    "start_time": "2024-02-15T12:30:37.270Z"
   },
   {
    "duration": 109,
    "start_time": "2024-02-15T12:30:37.376Z"
   },
   {
    "duration": 82,
    "start_time": "2024-02-15T12:30:37.492Z"
   },
   {
    "duration": 132,
    "start_time": "2024-02-15T12:30:37.576Z"
   },
   {
    "duration": 276,
    "start_time": "2024-02-15T12:30:37.710Z"
   },
   {
    "duration": 55,
    "start_time": "2024-02-15T12:30:37.987Z"
   },
   {
    "duration": 3,
    "start_time": "2024-02-15T12:30:38.043Z"
   },
   {
    "duration": 31,
    "start_time": "2024-02-15T12:30:38.048Z"
   },
   {
    "duration": 20,
    "start_time": "2024-02-15T12:30:38.081Z"
   },
   {
    "duration": 34,
    "start_time": "2024-02-15T12:30:38.102Z"
   },
   {
    "duration": 45304,
    "start_time": "2024-02-15T12:30:38.138Z"
   },
   {
    "duration": 5793,
    "start_time": "2024-02-15T12:31:23.444Z"
   },
   {
    "duration": 6262,
    "start_time": "2024-02-15T12:31:29.239Z"
   },
   {
    "duration": 140,
    "start_time": "2024-02-15T12:31:35.503Z"
   },
   {
    "duration": 8,
    "start_time": "2024-02-15T12:31:35.645Z"
   },
   {
    "duration": 522,
    "start_time": "2024-02-15T12:31:35.654Z"
   },
   {
    "duration": 31,
    "start_time": "2024-02-15T12:31:36.177Z"
   },
   {
    "duration": 66,
    "start_time": "2024-02-15T12:31:36.210Z"
   },
   {
    "duration": 175,
    "start_time": "2024-02-15T12:31:36.277Z"
   },
   {
    "duration": 0,
    "start_time": "2024-02-15T12:31:36.454Z"
   },
   {
    "duration": 0,
    "start_time": "2024-02-15T12:31:36.456Z"
   },
   {
    "duration": 0,
    "start_time": "2024-02-15T12:31:36.457Z"
   },
   {
    "duration": 0,
    "start_time": "2024-02-15T12:31:36.459Z"
   },
   {
    "duration": 0,
    "start_time": "2024-02-15T12:31:36.461Z"
   },
   {
    "duration": 0,
    "start_time": "2024-02-15T12:31:36.463Z"
   },
   {
    "duration": 0,
    "start_time": "2024-02-15T12:31:36.465Z"
   },
   {
    "duration": 0,
    "start_time": "2024-02-15T12:31:36.466Z"
   },
   {
    "duration": 0,
    "start_time": "2024-02-15T12:31:36.493Z"
   },
   {
    "duration": 0,
    "start_time": "2024-02-15T12:31:36.495Z"
   },
   {
    "duration": 0,
    "start_time": "2024-02-15T12:31:36.496Z"
   },
   {
    "duration": 0,
    "start_time": "2024-02-15T12:31:36.498Z"
   },
   {
    "duration": 0,
    "start_time": "2024-02-15T12:31:36.499Z"
   },
   {
    "duration": 0,
    "start_time": "2024-02-15T12:31:36.501Z"
   },
   {
    "duration": 0,
    "start_time": "2024-02-15T12:31:36.502Z"
   },
   {
    "duration": 0,
    "start_time": "2024-02-15T12:31:36.504Z"
   },
   {
    "duration": 0,
    "start_time": "2024-02-15T12:31:36.505Z"
   },
   {
    "duration": 0,
    "start_time": "2024-02-15T12:31:36.507Z"
   },
   {
    "duration": 0,
    "start_time": "2024-02-15T12:31:36.508Z"
   },
   {
    "duration": 4,
    "start_time": "2024-02-15T12:32:37.397Z"
   },
   {
    "duration": 6,
    "start_time": "2024-02-15T12:32:37.403Z"
   },
   {
    "duration": 1787,
    "start_time": "2024-02-15T12:32:37.411Z"
   },
   {
    "duration": 1001,
    "start_time": "2024-02-15T12:32:39.199Z"
   },
   {
    "duration": 1555,
    "start_time": "2024-02-15T12:32:40.202Z"
   },
   {
    "duration": 587,
    "start_time": "2024-02-15T12:32:41.759Z"
   },
   {
    "duration": 1252,
    "start_time": "2024-02-15T12:32:42.348Z"
   },
   {
    "duration": 735,
    "start_time": "2024-02-15T12:32:43.602Z"
   },
   {
    "duration": 227,
    "start_time": "2024-02-15T12:32:44.339Z"
   },
   {
    "duration": 103,
    "start_time": "2024-02-15T12:32:44.605Z"
   },
   {
    "duration": 680,
    "start_time": "2024-02-15T12:32:44.710Z"
   },
   {
    "duration": 966,
    "start_time": "2024-02-15T12:32:45.392Z"
   },
   {
    "duration": 538,
    "start_time": "2024-02-15T12:32:46.360Z"
   },
   {
    "duration": 120,
    "start_time": "2024-02-15T12:32:46.901Z"
   },
   {
    "duration": 1761,
    "start_time": "2024-02-15T12:32:47.023Z"
   },
   {
    "duration": 1536,
    "start_time": "2024-02-15T12:32:48.792Z"
   },
   {
    "duration": 328,
    "start_time": "2024-02-15T12:32:50.330Z"
   },
   {
    "duration": 90,
    "start_time": "2024-02-15T12:32:50.660Z"
   },
   {
    "duration": 59,
    "start_time": "2024-02-15T12:32:50.752Z"
   },
   {
    "duration": 218,
    "start_time": "2024-02-15T12:32:50.813Z"
   },
   {
    "duration": 1895,
    "start_time": "2024-02-15T12:32:51.033Z"
   },
   {
    "duration": 16,
    "start_time": "2024-02-15T12:32:52.930Z"
   },
   {
    "duration": 57,
    "start_time": "2024-02-15T12:32:52.948Z"
   },
   {
    "duration": 184,
    "start_time": "2024-02-15T12:32:53.007Z"
   },
   {
    "duration": 3939,
    "start_time": "2024-02-15T12:32:53.195Z"
   },
   {
    "duration": 234,
    "start_time": "2024-02-15T12:32:57.136Z"
   },
   {
    "duration": 44,
    "start_time": "2024-02-15T12:32:57.373Z"
   },
   {
    "duration": 145,
    "start_time": "2024-02-15T12:32:57.424Z"
   },
   {
    "duration": 590,
    "start_time": "2024-02-15T12:32:57.571Z"
   },
   {
    "duration": 422,
    "start_time": "2024-02-15T12:32:58.163Z"
   },
   {
    "duration": 418,
    "start_time": "2024-02-15T12:32:58.592Z"
   },
   {
    "duration": 116,
    "start_time": "2024-02-15T12:32:59.011Z"
   },
   {
    "duration": 103,
    "start_time": "2024-02-15T12:32:59.129Z"
   },
   {
    "duration": 114,
    "start_time": "2024-02-15T12:32:59.234Z"
   },
   {
    "duration": 92,
    "start_time": "2024-02-15T12:32:59.350Z"
   },
   {
    "duration": 125,
    "start_time": "2024-02-15T12:32:59.443Z"
   },
   {
    "duration": 314,
    "start_time": "2024-02-15T12:32:59.570Z"
   },
   {
    "duration": 56,
    "start_time": "2024-02-15T12:32:59.891Z"
   },
   {
    "duration": 2,
    "start_time": "2024-02-15T12:32:59.949Z"
   },
   {
    "duration": 48,
    "start_time": "2024-02-15T12:32:59.953Z"
   },
   {
    "duration": 64,
    "start_time": "2024-02-15T12:33:00.003Z"
   },
   {
    "duration": 53,
    "start_time": "2024-02-15T12:33:00.069Z"
   },
   {
    "duration": 44167,
    "start_time": "2024-02-15T12:33:00.124Z"
   },
   {
    "duration": 5518,
    "start_time": "2024-02-15T12:33:44.292Z"
   },
   {
    "duration": 5401,
    "start_time": "2024-02-15T12:33:49.812Z"
   },
   {
    "duration": 117,
    "start_time": "2024-02-15T12:33:55.214Z"
   },
   {
    "duration": 7,
    "start_time": "2024-02-15T12:33:55.333Z"
   },
   {
    "duration": 233,
    "start_time": "2024-02-15T12:33:55.341Z"
   },
   {
    "duration": 0,
    "start_time": "2024-02-15T12:33:55.576Z"
   },
   {
    "duration": 0,
    "start_time": "2024-02-15T12:33:55.577Z"
   },
   {
    "duration": 0,
    "start_time": "2024-02-15T12:33:55.578Z"
   },
   {
    "duration": 0,
    "start_time": "2024-02-15T12:33:55.580Z"
   },
   {
    "duration": 0,
    "start_time": "2024-02-15T12:33:55.582Z"
   },
   {
    "duration": 0,
    "start_time": "2024-02-15T12:33:55.583Z"
   },
   {
    "duration": 0,
    "start_time": "2024-02-15T12:33:55.585Z"
   },
   {
    "duration": 0,
    "start_time": "2024-02-15T12:33:55.591Z"
   },
   {
    "duration": 0,
    "start_time": "2024-02-15T12:33:55.593Z"
   },
   {
    "duration": 0,
    "start_time": "2024-02-15T12:33:55.594Z"
   },
   {
    "duration": 0,
    "start_time": "2024-02-15T12:33:55.596Z"
   },
   {
    "duration": 0,
    "start_time": "2024-02-15T12:33:55.598Z"
   },
   {
    "duration": 0,
    "start_time": "2024-02-15T12:33:55.600Z"
   },
   {
    "duration": 0,
    "start_time": "2024-02-15T12:33:55.601Z"
   },
   {
    "duration": 0,
    "start_time": "2024-02-15T12:33:55.602Z"
   },
   {
    "duration": 0,
    "start_time": "2024-02-15T12:33:55.604Z"
   },
   {
    "duration": 0,
    "start_time": "2024-02-15T12:33:55.606Z"
   },
   {
    "duration": 0,
    "start_time": "2024-02-15T12:33:55.607Z"
   },
   {
    "duration": 0,
    "start_time": "2024-02-15T12:33:55.609Z"
   },
   {
    "duration": 0,
    "start_time": "2024-02-15T12:33:55.610Z"
   },
   {
    "duration": 0,
    "start_time": "2024-02-15T12:33:55.612Z"
   },
   {
    "duration": 46,
    "start_time": "2024-02-15T12:35:48.849Z"
   },
   {
    "duration": 18,
    "start_time": "2024-02-15T12:35:55.281Z"
   },
   {
    "duration": 53,
    "start_time": "2024-02-15T12:36:15.747Z"
   },
   {
    "duration": 59,
    "start_time": "2024-02-15T12:36:27.992Z"
   },
   {
    "duration": 499,
    "start_time": "2024-02-15T12:36:37.048Z"
   },
   {
    "duration": 69,
    "start_time": "2024-02-15T12:37:01.608Z"
   },
   {
    "duration": 71,
    "start_time": "2024-02-15T12:37:02.585Z"
   },
   {
    "duration": 14,
    "start_time": "2024-02-15T12:37:31.316Z"
   },
   {
    "duration": 19,
    "start_time": "2024-02-15T12:38:14.020Z"
   },
   {
    "duration": 121,
    "start_time": "2024-02-15T12:40:08.302Z"
   },
   {
    "duration": 21,
    "start_time": "2024-02-15T12:40:14.005Z"
   },
   {
    "duration": 4,
    "start_time": "2024-02-15T12:45:05.039Z"
   },
   {
    "duration": 24959,
    "start_time": "2024-02-15T12:45:17.441Z"
   },
   {
    "duration": 129086,
    "start_time": "2024-02-15T12:45:51.168Z"
   },
   {
    "duration": 116393,
    "start_time": "2024-02-15T12:48:07.324Z"
   },
   {
    "duration": 14626,
    "start_time": "2024-02-15T12:50:08.374Z"
   },
   {
    "duration": 11856,
    "start_time": "2024-02-15T12:52:28.043Z"
   },
   {
    "duration": 4,
    "start_time": "2024-02-15T12:53:19.826Z"
   },
   {
    "duration": 5,
    "start_time": "2024-02-15T12:53:19.832Z"
   },
   {
    "duration": 1791,
    "start_time": "2024-02-15T12:53:19.839Z"
   },
   {
    "duration": 991,
    "start_time": "2024-02-15T12:53:21.632Z"
   },
   {
    "duration": 1560,
    "start_time": "2024-02-15T12:53:22.625Z"
   },
   {
    "duration": 558,
    "start_time": "2024-02-15T12:53:24.186Z"
   },
   {
    "duration": 1257,
    "start_time": "2024-02-15T12:53:24.746Z"
   },
   {
    "duration": 754,
    "start_time": "2024-02-15T12:53:26.005Z"
   },
   {
    "duration": 232,
    "start_time": "2024-02-15T12:53:26.761Z"
   },
   {
    "duration": 102,
    "start_time": "2024-02-15T12:53:27.035Z"
   },
   {
    "duration": 670,
    "start_time": "2024-02-15T12:53:27.142Z"
   },
   {
    "duration": 954,
    "start_time": "2024-02-15T12:53:27.814Z"
   },
   {
    "duration": 492,
    "start_time": "2024-02-15T12:53:28.770Z"
   },
   {
    "duration": 110,
    "start_time": "2024-02-15T12:53:29.264Z"
   },
   {
    "duration": 1426,
    "start_time": "2024-02-15T12:53:29.376Z"
   },
   {
    "duration": 1608,
    "start_time": "2024-02-15T12:53:30.804Z"
   },
   {
    "duration": 382,
    "start_time": "2024-02-15T12:53:32.414Z"
   },
   {
    "duration": 104,
    "start_time": "2024-02-15T12:53:32.798Z"
   },
   {
    "duration": 50,
    "start_time": "2024-02-15T12:53:32.904Z"
   },
   {
    "duration": 222,
    "start_time": "2024-02-15T12:53:32.956Z"
   },
   {
    "duration": 1938,
    "start_time": "2024-02-15T12:53:33.180Z"
   },
   {
    "duration": 18,
    "start_time": "2024-02-15T12:53:35.120Z"
   },
   {
    "duration": 65,
    "start_time": "2024-02-15T12:53:35.140Z"
   },
   {
    "duration": 189,
    "start_time": "2024-02-15T12:53:35.207Z"
   },
   {
    "duration": 4006,
    "start_time": "2024-02-15T12:53:35.398Z"
   },
   {
    "duration": 231,
    "start_time": "2024-02-15T12:53:39.407Z"
   },
   {
    "duration": 34,
    "start_time": "2024-02-15T12:53:39.640Z"
   },
   {
    "duration": 137,
    "start_time": "2024-02-15T12:53:39.676Z"
   },
   {
    "duration": 590,
    "start_time": "2024-02-15T12:53:39.818Z"
   },
   {
    "duration": 499,
    "start_time": "2024-02-15T12:53:40.410Z"
   },
   {
    "duration": 532,
    "start_time": "2024-02-15T12:53:40.911Z"
   },
   {
    "duration": 125,
    "start_time": "2024-02-15T12:53:41.444Z"
   },
   {
    "duration": 103,
    "start_time": "2024-02-15T12:53:41.571Z"
   },
   {
    "duration": 101,
    "start_time": "2024-02-15T12:53:41.676Z"
   },
   {
    "duration": 91,
    "start_time": "2024-02-15T12:53:41.779Z"
   },
   {
    "duration": 129,
    "start_time": "2024-02-15T12:53:41.872Z"
   },
   {
    "duration": 286,
    "start_time": "2024-02-15T12:53:42.003Z"
   },
   {
    "duration": 53,
    "start_time": "2024-02-15T12:53:42.292Z"
   },
   {
    "duration": 3,
    "start_time": "2024-02-15T12:53:42.346Z"
   },
   {
    "duration": 18,
    "start_time": "2024-02-15T12:53:42.350Z"
   },
   {
    "duration": 4,
    "start_time": "2024-02-15T12:53:42.370Z"
   },
   {
    "duration": 43058,
    "start_time": "2024-02-15T12:53:42.392Z"
   },
   {
    "duration": 6106,
    "start_time": "2024-02-15T12:54:25.452Z"
   },
   {
    "duration": 5695,
    "start_time": "2024-02-15T12:54:31.560Z"
   },
   {
    "duration": 146,
    "start_time": "2024-02-15T12:54:37.257Z"
   },
   {
    "duration": 8,
    "start_time": "2024-02-15T12:54:37.405Z"
   },
   {
    "duration": 552,
    "start_time": "2024-02-15T12:54:37.415Z"
   },
   {
    "duration": 84,
    "start_time": "2024-02-15T12:54:37.969Z"
   },
   {
    "duration": 83,
    "start_time": "2024-02-15T12:54:38.055Z"
   },
   {
    "duration": 134,
    "start_time": "2024-02-15T12:54:38.140Z"
   },
   {
    "duration": 4,
    "start_time": "2024-02-15T12:54:38.276Z"
   },
   {
    "duration": 19139,
    "start_time": "2024-02-15T12:54:38.282Z"
   },
   {
    "duration": 46585,
    "start_time": "2024-02-15T12:54:57.493Z"
   },
   {
    "duration": 6026,
    "start_time": "2024-02-15T12:55:44.080Z"
   },
   {
    "duration": 24793,
    "start_time": "2024-02-15T12:55:50.108Z"
   },
   {
    "duration": 12,
    "start_time": "2024-02-15T12:56:14.903Z"
   },
   {
    "duration": 24177,
    "start_time": "2024-02-15T12:56:14.917Z"
   },
   {
    "duration": 17996,
    "start_time": "2024-02-15T12:56:39.096Z"
   },
   {
    "duration": 3,
    "start_time": "2024-02-15T12:59:56.323Z"
   },
   {
    "duration": 24,
    "start_time": "2024-02-15T12:59:56.328Z"
   },
   {
    "duration": 2731,
    "start_time": "2024-02-15T12:59:56.354Z"
   },
   {
    "duration": 3081,
    "start_time": "2024-02-15T12:59:59.087Z"
   },
   {
    "duration": 1672,
    "start_time": "2024-02-15T13:00:02.171Z"
   },
   {
    "duration": 567,
    "start_time": "2024-02-15T13:00:03.845Z"
   },
   {
    "duration": 1349,
    "start_time": "2024-02-15T13:00:04.413Z"
   },
   {
    "duration": 770,
    "start_time": "2024-02-15T13:00:05.764Z"
   },
   {
    "duration": 260,
    "start_time": "2024-02-15T13:00:06.536Z"
   },
   {
    "duration": 107,
    "start_time": "2024-02-15T13:00:06.797Z"
   },
   {
    "duration": 659,
    "start_time": "2024-02-15T13:00:06.906Z"
   },
   {
    "duration": 1006,
    "start_time": "2024-02-15T13:00:07.567Z"
   },
   {
    "duration": 535,
    "start_time": "2024-02-15T13:00:08.575Z"
   },
   {
    "duration": 114,
    "start_time": "2024-02-15T13:00:09.112Z"
   },
   {
    "duration": 1438,
    "start_time": "2024-02-15T13:00:09.228Z"
   },
   {
    "duration": 1619,
    "start_time": "2024-02-15T13:00:10.668Z"
   },
   {
    "duration": 376,
    "start_time": "2024-02-15T13:00:12.291Z"
   },
   {
    "duration": 98,
    "start_time": "2024-02-15T13:00:12.669Z"
   },
   {
    "duration": 62,
    "start_time": "2024-02-15T13:00:12.769Z"
   },
   {
    "duration": 217,
    "start_time": "2024-02-15T13:00:12.833Z"
   },
   {
    "duration": 1958,
    "start_time": "2024-02-15T13:00:13.052Z"
   },
   {
    "duration": 18,
    "start_time": "2024-02-15T13:00:15.012Z"
   },
   {
    "duration": 87,
    "start_time": "2024-02-15T13:00:15.032Z"
   },
   {
    "duration": 199,
    "start_time": "2024-02-15T13:00:15.121Z"
   },
   {
    "duration": 4096,
    "start_time": "2024-02-15T13:00:15.322Z"
   },
   {
    "duration": 225,
    "start_time": "2024-02-15T13:00:19.420Z"
   },
   {
    "duration": 45,
    "start_time": "2024-02-15T13:00:19.647Z"
   },
   {
    "duration": 135,
    "start_time": "2024-02-15T13:00:19.694Z"
   },
   {
    "duration": 566,
    "start_time": "2024-02-15T13:00:19.834Z"
   },
   {
    "duration": 403,
    "start_time": "2024-02-15T13:00:20.401Z"
   },
   {
    "duration": 418,
    "start_time": "2024-02-15T13:00:20.806Z"
   },
   {
    "duration": 120,
    "start_time": "2024-02-15T13:00:21.226Z"
   },
   {
    "duration": 105,
    "start_time": "2024-02-15T13:00:21.348Z"
   },
   {
    "duration": 113,
    "start_time": "2024-02-15T13:00:21.454Z"
   },
   {
    "duration": 89,
    "start_time": "2024-02-15T13:00:21.569Z"
   },
   {
    "duration": 119,
    "start_time": "2024-02-15T13:00:21.660Z"
   },
   {
    "duration": 290,
    "start_time": "2024-02-15T13:00:21.780Z"
   },
   {
    "duration": 63,
    "start_time": "2024-02-15T13:00:22.072Z"
   },
   {
    "duration": 6,
    "start_time": "2024-02-15T13:00:22.136Z"
   },
   {
    "duration": 30,
    "start_time": "2024-02-15T13:00:22.144Z"
   },
   {
    "duration": 10,
    "start_time": "2024-02-15T13:00:22.176Z"
   },
   {
    "duration": 40848,
    "start_time": "2024-02-15T13:00:22.187Z"
   },
   {
    "duration": 5892,
    "start_time": "2024-02-15T13:01:03.037Z"
   },
   {
    "duration": 5726,
    "start_time": "2024-02-15T13:01:08.931Z"
   },
   {
    "duration": 127,
    "start_time": "2024-02-15T13:01:14.659Z"
   },
   {
    "duration": 8,
    "start_time": "2024-02-15T13:01:14.788Z"
   },
   {
    "duration": 538,
    "start_time": "2024-02-15T13:01:14.798Z"
   },
   {
    "duration": 82,
    "start_time": "2024-02-15T13:01:15.338Z"
   },
   {
    "duration": 94,
    "start_time": "2024-02-15T13:01:15.422Z"
   },
   {
    "duration": 141,
    "start_time": "2024-02-15T13:01:15.517Z"
   },
   {
    "duration": 5,
    "start_time": "2024-02-15T13:01:15.660Z"
   },
   {
    "duration": 18730,
    "start_time": "2024-02-15T13:01:15.667Z"
   },
   {
    "duration": 47451,
    "start_time": "2024-02-15T13:01:34.399Z"
   },
   {
    "duration": 5146,
    "start_time": "2024-02-15T13:02:21.851Z"
   },
   {
    "duration": 24888,
    "start_time": "2024-02-15T13:02:26.999Z"
   },
   {
    "duration": 14,
    "start_time": "2024-02-15T13:02:51.888Z"
   },
   {
    "duration": 24894,
    "start_time": "2024-02-15T13:02:51.904Z"
   },
   {
    "duration": 19901,
    "start_time": "2024-02-15T13:03:16.800Z"
   },
   {
    "duration": 4,
    "start_time": "2024-02-15T13:06:55.244Z"
   },
   {
    "duration": 20,
    "start_time": "2024-02-15T13:06:55.250Z"
   },
   {
    "duration": 2742,
    "start_time": "2024-02-15T13:06:55.272Z"
   },
   {
    "duration": 3023,
    "start_time": "2024-02-15T13:06:58.016Z"
   },
   {
    "duration": 1683,
    "start_time": "2024-02-15T13:07:01.041Z"
   },
   {
    "duration": 561,
    "start_time": "2024-02-15T13:07:02.726Z"
   },
   {
    "duration": 1263,
    "start_time": "2024-02-15T13:07:03.288Z"
   },
   {
    "duration": 758,
    "start_time": "2024-02-15T13:07:04.553Z"
   },
   {
    "duration": 245,
    "start_time": "2024-02-15T13:07:05.313Z"
   },
   {
    "duration": 107,
    "start_time": "2024-02-15T13:07:05.560Z"
   },
   {
    "duration": 675,
    "start_time": "2024-02-15T13:07:05.669Z"
   },
   {
    "duration": 948,
    "start_time": "2024-02-15T13:07:06.346Z"
   },
   {
    "duration": 490,
    "start_time": "2024-02-15T13:07:07.296Z"
   },
   {
    "duration": 104,
    "start_time": "2024-02-15T13:07:07.791Z"
   },
   {
    "duration": 1379,
    "start_time": "2024-02-15T13:07:07.897Z"
   },
   {
    "duration": 1559,
    "start_time": "2024-02-15T13:07:09.278Z"
   },
   {
    "duration": 374,
    "start_time": "2024-02-15T13:07:10.839Z"
   },
   {
    "duration": 110,
    "start_time": "2024-02-15T13:07:11.215Z"
   },
   {
    "duration": 68,
    "start_time": "2024-02-15T13:07:11.327Z"
   },
   {
    "duration": 218,
    "start_time": "2024-02-15T13:07:11.399Z"
   },
   {
    "duration": 1948,
    "start_time": "2024-02-15T13:07:11.619Z"
   },
   {
    "duration": 26,
    "start_time": "2024-02-15T13:07:13.569Z"
   },
   {
    "duration": 48,
    "start_time": "2024-02-15T13:07:13.597Z"
   },
   {
    "duration": 197,
    "start_time": "2024-02-15T13:07:13.650Z"
   },
   {
    "duration": 4200,
    "start_time": "2024-02-15T13:07:13.849Z"
   },
   {
    "duration": 240,
    "start_time": "2024-02-15T13:07:18.051Z"
   },
   {
    "duration": 35,
    "start_time": "2024-02-15T13:07:18.293Z"
   },
   {
    "duration": 134,
    "start_time": "2024-02-15T13:07:18.330Z"
   },
   {
    "duration": 573,
    "start_time": "2024-02-15T13:07:18.466Z"
   },
   {
    "duration": 408,
    "start_time": "2024-02-15T13:07:19.041Z"
   },
   {
    "duration": 413,
    "start_time": "2024-02-15T13:07:19.451Z"
   },
   {
    "duration": 120,
    "start_time": "2024-02-15T13:07:19.865Z"
   },
   {
    "duration": 111,
    "start_time": "2024-02-15T13:07:19.986Z"
   },
   {
    "duration": 124,
    "start_time": "2024-02-15T13:07:20.098Z"
   },
   {
    "duration": 92,
    "start_time": "2024-02-15T13:07:20.224Z"
   },
   {
    "duration": 120,
    "start_time": "2024-02-15T13:07:20.318Z"
   },
   {
    "duration": 291,
    "start_time": "2024-02-15T13:07:20.439Z"
   },
   {
    "duration": 63,
    "start_time": "2024-02-15T13:07:20.732Z"
   },
   {
    "duration": 3,
    "start_time": "2024-02-15T13:07:20.797Z"
   },
   {
    "duration": 32,
    "start_time": "2024-02-15T13:07:20.802Z"
   },
   {
    "duration": 16,
    "start_time": "2024-02-15T13:07:20.836Z"
   },
   {
    "duration": 41771,
    "start_time": "2024-02-15T13:07:20.854Z"
   },
   {
    "duration": 6154,
    "start_time": "2024-02-15T13:08:02.627Z"
   },
   {
    "duration": 6354,
    "start_time": "2024-02-15T13:08:08.783Z"
   },
   {
    "duration": 164,
    "start_time": "2024-02-15T13:08:15.139Z"
   },
   {
    "duration": 9,
    "start_time": "2024-02-15T13:08:15.305Z"
   },
   {
    "duration": 527,
    "start_time": "2024-02-15T13:08:15.316Z"
   },
   {
    "duration": 84,
    "start_time": "2024-02-15T13:08:15.844Z"
   },
   {
    "duration": 89,
    "start_time": "2024-02-15T13:08:15.930Z"
   },
   {
    "duration": 133,
    "start_time": "2024-02-15T13:08:16.022Z"
   },
   {
    "duration": 6,
    "start_time": "2024-02-15T13:08:16.156Z"
   },
   {
    "duration": 17345,
    "start_time": "2024-02-15T13:08:16.164Z"
   },
   {
    "duration": 49490,
    "start_time": "2024-02-15T13:08:33.512Z"
   },
   {
    "duration": 6093,
    "start_time": "2024-02-15T13:09:23.003Z"
   },
   {
    "duration": 24987,
    "start_time": "2024-02-15T13:09:29.098Z"
   },
   {
    "duration": 14,
    "start_time": "2024-02-15T13:09:54.087Z"
   },
   {
    "duration": 26989,
    "start_time": "2024-02-15T13:09:54.103Z"
   },
   {
    "duration": 16924,
    "start_time": "2024-02-15T13:10:21.094Z"
   },
   {
    "duration": 236,
    "start_time": "2024-02-15T13:10:38.093Z"
   },
   {
    "duration": 0,
    "start_time": "2024-02-15T13:10:38.331Z"
   },
   {
    "duration": 0,
    "start_time": "2024-02-15T13:10:38.332Z"
   },
   {
    "duration": 0,
    "start_time": "2024-02-15T13:10:38.333Z"
   },
   {
    "duration": 0,
    "start_time": "2024-02-15T13:10:38.334Z"
   },
   {
    "duration": 0,
    "start_time": "2024-02-15T13:10:38.335Z"
   },
   {
    "duration": 0,
    "start_time": "2024-02-15T13:10:38.336Z"
   },
   {
    "duration": 0,
    "start_time": "2024-02-15T13:10:38.338Z"
   },
   {
    "duration": 0,
    "start_time": "2024-02-15T13:10:38.339Z"
   },
   {
    "duration": 0,
    "start_time": "2024-02-15T13:10:38.340Z"
   },
   {
    "duration": 4,
    "start_time": "2024-02-15T13:29:47.279Z"
   },
   {
    "duration": 29,
    "start_time": "2024-02-15T13:29:47.285Z"
   },
   {
    "duration": 2722,
    "start_time": "2024-02-15T13:29:47.316Z"
   },
   {
    "duration": 3014,
    "start_time": "2024-02-15T13:29:50.040Z"
   },
   {
    "duration": 1655,
    "start_time": "2024-02-15T13:29:53.056Z"
   },
   {
    "duration": 592,
    "start_time": "2024-02-15T13:29:54.713Z"
   },
   {
    "duration": 1305,
    "start_time": "2024-02-15T13:29:55.307Z"
   },
   {
    "duration": 749,
    "start_time": "2024-02-15T13:29:56.614Z"
   },
   {
    "duration": 271,
    "start_time": "2024-02-15T13:29:57.365Z"
   },
   {
    "duration": 115,
    "start_time": "2024-02-15T13:29:57.638Z"
   },
   {
    "duration": 676,
    "start_time": "2024-02-15T13:29:57.757Z"
   },
   {
    "duration": 954,
    "start_time": "2024-02-15T13:29:58.434Z"
   },
   {
    "duration": 507,
    "start_time": "2024-02-15T13:29:59.390Z"
   },
   {
    "duration": 117,
    "start_time": "2024-02-15T13:29:59.899Z"
   },
   {
    "duration": 1551,
    "start_time": "2024-02-15T13:30:00.018Z"
   },
   {
    "duration": 1801,
    "start_time": "2024-02-15T13:30:01.572Z"
   },
   {
    "duration": 521,
    "start_time": "2024-02-15T13:30:03.375Z"
   },
   {
    "duration": 153,
    "start_time": "2024-02-15T13:30:03.898Z"
   },
   {
    "duration": 79,
    "start_time": "2024-02-15T13:30:04.053Z"
   },
   {
    "duration": 277,
    "start_time": "2024-02-15T13:30:04.134Z"
   },
   {
    "duration": 1973,
    "start_time": "2024-02-15T13:30:04.412Z"
   },
   {
    "duration": 23,
    "start_time": "2024-02-15T13:30:06.386Z"
   },
   {
    "duration": 49,
    "start_time": "2024-02-15T13:30:06.410Z"
   },
   {
    "duration": 235,
    "start_time": "2024-02-15T13:30:06.461Z"
   },
   {
    "duration": 4148,
    "start_time": "2024-02-15T13:30:06.698Z"
   },
   {
    "duration": 223,
    "start_time": "2024-02-15T13:30:10.848Z"
   },
   {
    "duration": 38,
    "start_time": "2024-02-15T13:30:11.073Z"
   },
   {
    "duration": 165,
    "start_time": "2024-02-15T13:30:11.113Z"
   },
   {
    "duration": 591,
    "start_time": "2024-02-15T13:30:11.283Z"
   },
   {
    "duration": 446,
    "start_time": "2024-02-15T13:30:11.876Z"
   },
   {
    "duration": 419,
    "start_time": "2024-02-15T13:30:12.324Z"
   },
   {
    "duration": 122,
    "start_time": "2024-02-15T13:30:12.745Z"
   },
   {
    "duration": 109,
    "start_time": "2024-02-15T13:30:12.869Z"
   },
   {
    "duration": 113,
    "start_time": "2024-02-15T13:30:12.980Z"
   },
   {
    "duration": 86,
    "start_time": "2024-02-15T13:30:13.094Z"
   },
   {
    "duration": 123,
    "start_time": "2024-02-15T13:30:13.191Z"
   },
   {
    "duration": 293,
    "start_time": "2024-02-15T13:30:13.316Z"
   },
   {
    "duration": 56,
    "start_time": "2024-02-15T13:30:13.611Z"
   },
   {
    "duration": 3,
    "start_time": "2024-02-15T13:30:13.669Z"
   },
   {
    "duration": 23,
    "start_time": "2024-02-15T13:30:13.674Z"
   },
   {
    "duration": 14,
    "start_time": "2024-02-15T13:30:13.699Z"
   },
   {
    "duration": 147,
    "start_time": "2024-02-15T13:30:13.715Z"
   },
   {
    "duration": 0,
    "start_time": "2024-02-15T13:30:13.863Z"
   },
   {
    "duration": 1,
    "start_time": "2024-02-15T13:30:13.864Z"
   },
   {
    "duration": 0,
    "start_time": "2024-02-15T13:30:13.866Z"
   },
   {
    "duration": 0,
    "start_time": "2024-02-15T13:30:13.867Z"
   },
   {
    "duration": 0,
    "start_time": "2024-02-15T13:30:13.868Z"
   },
   {
    "duration": 0,
    "start_time": "2024-02-15T13:30:13.869Z"
   },
   {
    "duration": 0,
    "start_time": "2024-02-15T13:30:13.870Z"
   },
   {
    "duration": 0,
    "start_time": "2024-02-15T13:30:13.872Z"
   },
   {
    "duration": 0,
    "start_time": "2024-02-15T13:30:13.873Z"
   },
   {
    "duration": 0,
    "start_time": "2024-02-15T13:30:13.874Z"
   },
   {
    "duration": 0,
    "start_time": "2024-02-15T13:30:13.891Z"
   },
   {
    "duration": 0,
    "start_time": "2024-02-15T13:30:13.892Z"
   },
   {
    "duration": 0,
    "start_time": "2024-02-15T13:30:13.893Z"
   },
   {
    "duration": 0,
    "start_time": "2024-02-15T13:30:13.895Z"
   },
   {
    "duration": 0,
    "start_time": "2024-02-15T13:30:13.896Z"
   },
   {
    "duration": 0,
    "start_time": "2024-02-15T13:30:13.898Z"
   },
   {
    "duration": 0,
    "start_time": "2024-02-15T13:30:13.899Z"
   },
   {
    "duration": 0,
    "start_time": "2024-02-15T13:30:13.900Z"
   },
   {
    "duration": 0,
    "start_time": "2024-02-15T13:30:13.902Z"
   },
   {
    "duration": 0,
    "start_time": "2024-02-15T13:30:13.903Z"
   },
   {
    "duration": 0,
    "start_time": "2024-02-15T13:30:13.904Z"
   },
   {
    "duration": 0,
    "start_time": "2024-02-15T13:30:13.905Z"
   },
   {
    "duration": 0,
    "start_time": "2024-02-15T13:30:13.906Z"
   },
   {
    "duration": 0,
    "start_time": "2024-02-15T13:30:13.908Z"
   },
   {
    "duration": 0,
    "start_time": "2024-02-15T13:30:13.908Z"
   },
   {
    "duration": 0,
    "start_time": "2024-02-15T13:30:13.909Z"
   },
   {
    "duration": 40813,
    "start_time": "2024-02-15T13:30:45.821Z"
   },
   {
    "duration": 5800,
    "start_time": "2024-02-15T13:31:29.593Z"
   },
   {
    "duration": 40,
    "start_time": "2024-02-15T13:31:37.501Z"
   },
   {
    "duration": 7,
    "start_time": "2024-02-15T13:32:27.029Z"
   },
   {
    "duration": 443,
    "start_time": "2024-02-15T13:32:29.292Z"
   },
   {
    "duration": 74,
    "start_time": "2024-02-15T13:32:33.549Z"
   },
   {
    "duration": 39,
    "start_time": "2024-02-15T13:32:36.241Z"
   },
   {
    "duration": 3,
    "start_time": "2024-02-15T13:33:44.369Z"
   },
   {
    "duration": 6,
    "start_time": "2024-02-15T13:33:44.374Z"
   },
   {
    "duration": 1819,
    "start_time": "2024-02-15T13:33:44.383Z"
   },
   {
    "duration": 1007,
    "start_time": "2024-02-15T13:33:46.204Z"
   },
   {
    "duration": 1690,
    "start_time": "2024-02-15T13:33:47.213Z"
   },
   {
    "duration": 546,
    "start_time": "2024-02-15T13:33:48.905Z"
   },
   {
    "duration": 1256,
    "start_time": "2024-02-15T13:33:49.453Z"
   },
   {
    "duration": 826,
    "start_time": "2024-02-15T13:33:50.711Z"
   },
   {
    "duration": 247,
    "start_time": "2024-02-15T13:33:51.539Z"
   },
   {
    "duration": 105,
    "start_time": "2024-02-15T13:33:51.789Z"
   },
   {
    "duration": 660,
    "start_time": "2024-02-15T13:33:51.896Z"
   },
   {
    "duration": 930,
    "start_time": "2024-02-15T13:33:52.558Z"
   },
   {
    "duration": 510,
    "start_time": "2024-02-15T13:33:53.490Z"
   },
   {
    "duration": 115,
    "start_time": "2024-02-15T13:33:54.002Z"
   },
   {
    "duration": 1402,
    "start_time": "2024-02-15T13:33:54.119Z"
   },
   {
    "duration": 1578,
    "start_time": "2024-02-15T13:33:55.523Z"
   },
   {
    "duration": 355,
    "start_time": "2024-02-15T13:33:57.103Z"
   },
   {
    "duration": 111,
    "start_time": "2024-02-15T13:33:57.460Z"
   },
   {
    "duration": 55,
    "start_time": "2024-02-15T13:33:57.572Z"
   },
   {
    "duration": 217,
    "start_time": "2024-02-15T13:33:57.628Z"
   },
   {
    "duration": 1988,
    "start_time": "2024-02-15T13:33:57.847Z"
   },
   {
    "duration": 22,
    "start_time": "2024-02-15T13:33:59.838Z"
   },
   {
    "duration": 66,
    "start_time": "2024-02-15T13:33:59.862Z"
   },
   {
    "duration": 203,
    "start_time": "2024-02-15T13:33:59.930Z"
   },
   {
    "duration": 4917,
    "start_time": "2024-02-15T13:34:00.138Z"
   },
   {
    "duration": 232,
    "start_time": "2024-02-15T13:34:05.057Z"
   },
   {
    "duration": 39,
    "start_time": "2024-02-15T13:34:05.291Z"
   },
   {
    "duration": 172,
    "start_time": "2024-02-15T13:34:05.332Z"
   },
   {
    "duration": 547,
    "start_time": "2024-02-15T13:34:05.505Z"
   },
   {
    "duration": 413,
    "start_time": "2024-02-15T13:34:06.054Z"
   },
   {
    "duration": 227,
    "start_time": "2024-02-15T13:34:06.468Z"
   },
   {
    "duration": 0,
    "start_time": "2024-02-15T13:34:06.697Z"
   },
   {
    "duration": 0,
    "start_time": "2024-02-15T13:34:06.698Z"
   },
   {
    "duration": 0,
    "start_time": "2024-02-15T13:34:06.699Z"
   },
   {
    "duration": 0,
    "start_time": "2024-02-15T13:34:06.700Z"
   },
   {
    "duration": 0,
    "start_time": "2024-02-15T13:34:06.701Z"
   },
   {
    "duration": 0,
    "start_time": "2024-02-15T13:34:06.703Z"
   },
   {
    "duration": 0,
    "start_time": "2024-02-15T13:34:06.704Z"
   },
   {
    "duration": 0,
    "start_time": "2024-02-15T13:34:06.705Z"
   },
   {
    "duration": 0,
    "start_time": "2024-02-15T13:34:06.706Z"
   },
   {
    "duration": 0,
    "start_time": "2024-02-15T13:34:06.707Z"
   },
   {
    "duration": 0,
    "start_time": "2024-02-15T13:34:06.708Z"
   },
   {
    "duration": 0,
    "start_time": "2024-02-15T13:34:06.710Z"
   },
   {
    "duration": 0,
    "start_time": "2024-02-15T13:34:06.710Z"
   },
   {
    "duration": 0,
    "start_time": "2024-02-15T13:34:06.712Z"
   },
   {
    "duration": 0,
    "start_time": "2024-02-15T13:34:06.713Z"
   },
   {
    "duration": 0,
    "start_time": "2024-02-15T13:34:06.714Z"
   },
   {
    "duration": 0,
    "start_time": "2024-02-15T13:34:06.715Z"
   },
   {
    "duration": 0,
    "start_time": "2024-02-15T13:34:06.716Z"
   },
   {
    "duration": 0,
    "start_time": "2024-02-15T13:34:06.717Z"
   },
   {
    "duration": 0,
    "start_time": "2024-02-15T13:34:06.718Z"
   },
   {
    "duration": 0,
    "start_time": "2024-02-15T13:34:06.720Z"
   },
   {
    "duration": 0,
    "start_time": "2024-02-15T13:34:06.721Z"
   },
   {
    "duration": 0,
    "start_time": "2024-02-15T13:34:06.722Z"
   },
   {
    "duration": 0,
    "start_time": "2024-02-15T13:34:06.723Z"
   },
   {
    "duration": 0,
    "start_time": "2024-02-15T13:34:06.724Z"
   },
   {
    "duration": 0,
    "start_time": "2024-02-15T13:34:06.725Z"
   },
   {
    "duration": 0,
    "start_time": "2024-02-15T13:34:06.726Z"
   },
   {
    "duration": 0,
    "start_time": "2024-02-15T13:34:06.727Z"
   },
   {
    "duration": 0,
    "start_time": "2024-02-15T13:34:06.728Z"
   },
   {
    "duration": 0,
    "start_time": "2024-02-15T13:34:06.729Z"
   },
   {
    "duration": 0,
    "start_time": "2024-02-15T13:34:06.730Z"
   },
   {
    "duration": 0,
    "start_time": "2024-02-15T13:34:06.731Z"
   },
   {
    "duration": 0,
    "start_time": "2024-02-15T13:34:06.732Z"
   },
   {
    "duration": 0,
    "start_time": "2024-02-15T13:34:06.733Z"
   },
   {
    "duration": 0,
    "start_time": "2024-02-15T13:34:06.734Z"
   },
   {
    "duration": 0,
    "start_time": "2024-02-15T13:34:06.791Z"
   },
   {
    "duration": 0,
    "start_time": "2024-02-15T13:34:06.792Z"
   },
   {
    "duration": 3,
    "start_time": "2024-02-15T13:34:30.348Z"
   },
   {
    "duration": 58,
    "start_time": "2024-02-15T13:34:30.354Z"
   },
   {
    "duration": 1971,
    "start_time": "2024-02-15T13:34:30.414Z"
   },
   {
    "duration": 1017,
    "start_time": "2024-02-15T13:34:32.388Z"
   },
   {
    "duration": 1584,
    "start_time": "2024-02-15T13:34:33.408Z"
   },
   {
    "duration": 566,
    "start_time": "2024-02-15T13:34:34.994Z"
   },
   {
    "duration": 1282,
    "start_time": "2024-02-15T13:34:35.562Z"
   },
   {
    "duration": 741,
    "start_time": "2024-02-15T13:34:36.846Z"
   },
   {
    "duration": 294,
    "start_time": "2024-02-15T13:34:37.592Z"
   },
   {
    "duration": 106,
    "start_time": "2024-02-15T13:34:37.887Z"
   },
   {
    "duration": 661,
    "start_time": "2024-02-15T13:34:37.996Z"
   },
   {
    "duration": 973,
    "start_time": "2024-02-15T13:34:38.659Z"
   },
   {
    "duration": 510,
    "start_time": "2024-02-15T13:34:39.634Z"
   },
   {
    "duration": 106,
    "start_time": "2024-02-15T13:34:40.146Z"
   },
   {
    "duration": 1457,
    "start_time": "2024-02-15T13:34:40.254Z"
   },
   {
    "duration": 1578,
    "start_time": "2024-02-15T13:34:41.713Z"
   },
   {
    "duration": 362,
    "start_time": "2024-02-15T13:34:43.293Z"
   },
   {
    "duration": 97,
    "start_time": "2024-02-15T13:34:43.657Z"
   },
   {
    "duration": 62,
    "start_time": "2024-02-15T13:34:43.756Z"
   },
   {
    "duration": 210,
    "start_time": "2024-02-15T13:34:43.820Z"
   },
   {
    "duration": 2006,
    "start_time": "2024-02-15T13:34:44.032Z"
   },
   {
    "duration": 20,
    "start_time": "2024-02-15T13:34:46.040Z"
   },
   {
    "duration": 63,
    "start_time": "2024-02-15T13:34:46.062Z"
   },
   {
    "duration": 192,
    "start_time": "2024-02-15T13:34:46.127Z"
   },
   {
    "duration": 4107,
    "start_time": "2024-02-15T13:34:46.321Z"
   },
   {
    "duration": 231,
    "start_time": "2024-02-15T13:34:50.430Z"
   },
   {
    "duration": 43,
    "start_time": "2024-02-15T13:34:50.664Z"
   },
   {
    "duration": 134,
    "start_time": "2024-02-15T13:34:50.709Z"
   },
   {
    "duration": 562,
    "start_time": "2024-02-15T13:34:50.848Z"
   },
   {
    "duration": 419,
    "start_time": "2024-02-15T13:34:51.412Z"
   },
   {
    "duration": 416,
    "start_time": "2024-02-15T13:34:51.833Z"
   },
   {
    "duration": 118,
    "start_time": "2024-02-15T13:34:52.251Z"
   },
   {
    "duration": 103,
    "start_time": "2024-02-15T13:34:52.371Z"
   },
   {
    "duration": 107,
    "start_time": "2024-02-15T13:34:52.475Z"
   },
   {
    "duration": 83,
    "start_time": "2024-02-15T13:34:52.591Z"
   },
   {
    "duration": 126,
    "start_time": "2024-02-15T13:34:52.676Z"
   },
   {
    "duration": 298,
    "start_time": "2024-02-15T13:34:52.804Z"
   },
   {
    "duration": 56,
    "start_time": "2024-02-15T13:34:53.104Z"
   },
   {
    "duration": 7,
    "start_time": "2024-02-15T13:34:53.162Z"
   },
   {
    "duration": 48,
    "start_time": "2024-02-15T13:34:53.171Z"
   },
   {
    "duration": 40,
    "start_time": "2024-02-15T13:34:53.221Z"
   },
   {
    "duration": 40684,
    "start_time": "2024-02-15T13:34:53.262Z"
   },
   {
    "duration": 5582,
    "start_time": "2024-02-15T13:35:33.948Z"
   },
   {
    "duration": 5492,
    "start_time": "2024-02-15T13:35:39.532Z"
   },
   {
    "duration": 128,
    "start_time": "2024-02-15T13:35:45.026Z"
   },
   {
    "duration": 9,
    "start_time": "2024-02-15T13:35:45.156Z"
   },
   {
    "duration": 215,
    "start_time": "2024-02-15T13:35:45.167Z"
   },
   {
    "duration": 0,
    "start_time": "2024-02-15T13:35:45.384Z"
   },
   {
    "duration": 0,
    "start_time": "2024-02-15T13:35:45.385Z"
   },
   {
    "duration": 0,
    "start_time": "2024-02-15T13:35:45.386Z"
   },
   {
    "duration": 0,
    "start_time": "2024-02-15T13:35:45.387Z"
   },
   {
    "duration": 0,
    "start_time": "2024-02-15T13:35:45.388Z"
   },
   {
    "duration": 0,
    "start_time": "2024-02-15T13:35:45.391Z"
   },
   {
    "duration": 0,
    "start_time": "2024-02-15T13:35:45.393Z"
   },
   {
    "duration": 0,
    "start_time": "2024-02-15T13:35:45.394Z"
   },
   {
    "duration": 0,
    "start_time": "2024-02-15T13:35:45.395Z"
   },
   {
    "duration": 0,
    "start_time": "2024-02-15T13:35:45.396Z"
   },
   {
    "duration": 0,
    "start_time": "2024-02-15T13:35:45.397Z"
   },
   {
    "duration": 0,
    "start_time": "2024-02-15T13:35:45.397Z"
   },
   {
    "duration": 0,
    "start_time": "2024-02-15T13:35:45.398Z"
   },
   {
    "duration": 0,
    "start_time": "2024-02-15T13:35:45.399Z"
   },
   {
    "duration": 0,
    "start_time": "2024-02-15T13:35:45.400Z"
   },
   {
    "duration": 0,
    "start_time": "2024-02-15T13:35:45.401Z"
   },
   {
    "duration": 0,
    "start_time": "2024-02-15T13:35:45.402Z"
   },
   {
    "duration": 0,
    "start_time": "2024-02-15T13:35:45.403Z"
   },
   {
    "duration": 0,
    "start_time": "2024-02-15T13:35:45.404Z"
   },
   {
    "duration": 0,
    "start_time": "2024-02-15T13:35:45.405Z"
   },
   {
    "duration": 0,
    "start_time": "2024-02-15T13:35:45.406Z"
   },
   {
    "duration": 403,
    "start_time": "2024-02-15T13:35:54.144Z"
   },
   {
    "duration": 66,
    "start_time": "2024-02-15T13:35:57.261Z"
   },
   {
    "duration": 70,
    "start_time": "2024-02-15T13:35:57.958Z"
   },
   {
    "duration": 133,
    "start_time": "2024-02-15T13:36:02.064Z"
   },
   {
    "duration": 5,
    "start_time": "2024-02-15T13:36:04.975Z"
   },
   {
    "duration": 4,
    "start_time": "2024-02-15T13:36:20.120Z"
   },
   {
    "duration": 14,
    "start_time": "2024-02-15T13:36:20.126Z"
   },
   {
    "duration": 1784,
    "start_time": "2024-02-15T13:36:20.142Z"
   },
   {
    "duration": 996,
    "start_time": "2024-02-15T13:36:21.928Z"
   },
   {
    "duration": 1579,
    "start_time": "2024-02-15T13:36:22.926Z"
   },
   {
    "duration": 557,
    "start_time": "2024-02-15T13:36:24.507Z"
   },
   {
    "duration": 1279,
    "start_time": "2024-02-15T13:36:25.065Z"
   },
   {
    "duration": 736,
    "start_time": "2024-02-15T13:36:26.346Z"
   },
   {
    "duration": 247,
    "start_time": "2024-02-15T13:36:27.091Z"
   },
   {
    "duration": 99,
    "start_time": "2024-02-15T13:36:27.339Z"
   },
   {
    "duration": 653,
    "start_time": "2024-02-15T13:36:27.440Z"
   },
   {
    "duration": 990,
    "start_time": "2024-02-15T13:36:28.095Z"
   },
   {
    "duration": 478,
    "start_time": "2024-02-15T13:36:29.087Z"
   },
   {
    "duration": 107,
    "start_time": "2024-02-15T13:36:29.567Z"
   },
   {
    "duration": 1455,
    "start_time": "2024-02-15T13:36:29.676Z"
   },
   {
    "duration": 1591,
    "start_time": "2024-02-15T13:36:31.133Z"
   },
   {
    "duration": 362,
    "start_time": "2024-02-15T13:36:32.725Z"
   },
   {
    "duration": 104,
    "start_time": "2024-02-15T13:36:33.088Z"
   },
   {
    "duration": 49,
    "start_time": "2024-02-15T13:36:33.194Z"
   },
   {
    "duration": 211,
    "start_time": "2024-02-15T13:36:33.245Z"
   },
   {
    "duration": 1925,
    "start_time": "2024-02-15T13:36:33.458Z"
   },
   {
    "duration": 22,
    "start_time": "2024-02-15T13:36:35.385Z"
   },
   {
    "duration": 45,
    "start_time": "2024-02-15T13:36:35.408Z"
   },
   {
    "duration": 195,
    "start_time": "2024-02-15T13:36:35.458Z"
   },
   {
    "duration": 4043,
    "start_time": "2024-02-15T13:36:35.655Z"
   },
   {
    "duration": 222,
    "start_time": "2024-02-15T13:36:39.700Z"
   },
   {
    "duration": 34,
    "start_time": "2024-02-15T13:36:39.923Z"
   },
   {
    "duration": 185,
    "start_time": "2024-02-15T13:36:39.958Z"
   },
   {
    "duration": 536,
    "start_time": "2024-02-15T13:36:40.145Z"
   },
   {
    "duration": 400,
    "start_time": "2024-02-15T13:36:40.683Z"
   },
   {
    "duration": 448,
    "start_time": "2024-02-15T13:36:41.084Z"
   },
   {
    "duration": 121,
    "start_time": "2024-02-15T13:36:41.534Z"
   },
   {
    "duration": 102,
    "start_time": "2024-02-15T13:36:41.656Z"
   },
   {
    "duration": 106,
    "start_time": "2024-02-15T13:36:41.760Z"
   },
   {
    "duration": 92,
    "start_time": "2024-02-15T13:36:41.868Z"
   },
   {
    "duration": 128,
    "start_time": "2024-02-15T13:36:41.962Z"
   },
   {
    "duration": 289,
    "start_time": "2024-02-15T13:36:42.091Z"
   },
   {
    "duration": 58,
    "start_time": "2024-02-15T13:36:42.381Z"
   },
   {
    "duration": 3,
    "start_time": "2024-02-15T13:36:42.441Z"
   },
   {
    "duration": 18,
    "start_time": "2024-02-15T13:36:42.445Z"
   },
   {
    "duration": 6,
    "start_time": "2024-02-15T13:36:42.465Z"
   },
   {
    "duration": 40272,
    "start_time": "2024-02-15T13:36:42.473Z"
   },
   {
    "duration": 5186,
    "start_time": "2024-02-15T13:37:22.746Z"
   },
   {
    "duration": 5744,
    "start_time": "2024-02-15T13:37:27.934Z"
   },
   {
    "duration": 128,
    "start_time": "2024-02-15T13:37:33.680Z"
   },
   {
    "duration": 8,
    "start_time": "2024-02-15T13:37:33.810Z"
   },
   {
    "duration": 452,
    "start_time": "2024-02-15T13:37:33.820Z"
   },
   {
    "duration": 67,
    "start_time": "2024-02-15T13:37:34.274Z"
   },
   {
    "duration": 76,
    "start_time": "2024-02-15T13:37:34.342Z"
   },
   {
    "duration": 122,
    "start_time": "2024-02-15T13:37:34.419Z"
   },
   {
    "duration": 4,
    "start_time": "2024-02-15T13:37:34.543Z"
   },
   {
    "duration": 18945,
    "start_time": "2024-02-15T13:37:34.549Z"
   },
   {
    "duration": 47669,
    "start_time": "2024-02-15T13:37:53.500Z"
   },
   {
    "duration": 6235,
    "start_time": "2024-02-15T13:38:41.171Z"
   },
   {
    "duration": 25073,
    "start_time": "2024-02-15T13:38:47.408Z"
   },
   {
    "duration": 19,
    "start_time": "2024-02-15T13:39:12.483Z"
   },
   {
    "duration": 23892,
    "start_time": "2024-02-15T13:39:12.504Z"
   },
   {
    "duration": 17204,
    "start_time": "2024-02-15T13:39:36.398Z"
   },
   {
    "duration": 3,
    "start_time": "2024-02-15T14:09:51.087Z"
   },
   {
    "duration": 16,
    "start_time": "2024-02-15T14:09:51.093Z"
   },
   {
    "duration": 2884,
    "start_time": "2024-02-15T14:09:51.111Z"
   },
   {
    "duration": 2976,
    "start_time": "2024-02-15T14:09:53.997Z"
   },
   {
    "duration": 1570,
    "start_time": "2024-02-15T14:09:56.975Z"
   },
   {
    "duration": 543,
    "start_time": "2024-02-15T14:09:58.546Z"
   },
   {
    "duration": 1277,
    "start_time": "2024-02-15T14:09:59.092Z"
   },
   {
    "duration": 815,
    "start_time": "2024-02-15T14:10:00.371Z"
   },
   {
    "duration": 299,
    "start_time": "2024-02-15T14:10:01.192Z"
   },
   {
    "duration": 122,
    "start_time": "2024-02-15T14:10:01.493Z"
   },
   {
    "duration": 708,
    "start_time": "2024-02-15T14:10:01.618Z"
   },
   {
    "duration": 966,
    "start_time": "2024-02-15T14:10:02.328Z"
   },
   {
    "duration": 511,
    "start_time": "2024-02-15T14:10:03.296Z"
   },
   {
    "duration": 109,
    "start_time": "2024-02-15T14:10:03.808Z"
   },
   {
    "duration": 1380,
    "start_time": "2024-02-15T14:10:03.919Z"
   },
   {
    "duration": 1528,
    "start_time": "2024-02-15T14:10:05.301Z"
   },
   {
    "duration": 348,
    "start_time": "2024-02-15T14:10:06.831Z"
   },
   {
    "duration": 95,
    "start_time": "2024-02-15T14:10:07.181Z"
   },
   {
    "duration": 48,
    "start_time": "2024-02-15T14:10:07.291Z"
   },
   {
    "duration": 221,
    "start_time": "2024-02-15T14:10:07.341Z"
   },
   {
    "duration": 1923,
    "start_time": "2024-02-15T14:10:07.564Z"
   },
   {
    "duration": 18,
    "start_time": "2024-02-15T14:10:09.491Z"
   },
   {
    "duration": 45,
    "start_time": "2024-02-15T14:10:09.510Z"
   },
   {
    "duration": 212,
    "start_time": "2024-02-15T14:10:09.557Z"
   },
   {
    "duration": 4094,
    "start_time": "2024-02-15T14:10:09.771Z"
   },
   {
    "duration": 228,
    "start_time": "2024-02-15T14:10:13.868Z"
   },
   {
    "duration": 34,
    "start_time": "2024-02-15T14:10:14.098Z"
   },
   {
    "duration": 138,
    "start_time": "2024-02-15T14:10:14.135Z"
   },
   {
    "duration": 555,
    "start_time": "2024-02-15T14:10:14.278Z"
   },
   {
    "duration": 456,
    "start_time": "2024-02-15T14:10:14.835Z"
   },
   {
    "duration": 422,
    "start_time": "2024-02-15T14:10:15.293Z"
   },
   {
    "duration": 126,
    "start_time": "2024-02-15T14:10:15.717Z"
   },
   {
    "duration": 123,
    "start_time": "2024-02-15T14:10:15.845Z"
   },
   {
    "duration": 111,
    "start_time": "2024-02-15T14:10:15.970Z"
   },
   {
    "duration": 110,
    "start_time": "2024-02-15T14:10:16.083Z"
   },
   {
    "duration": 129,
    "start_time": "2024-02-15T14:10:16.196Z"
   },
   {
    "duration": 299,
    "start_time": "2024-02-15T14:10:16.327Z"
   },
   {
    "duration": 68,
    "start_time": "2024-02-15T14:10:16.628Z"
   },
   {
    "duration": 4,
    "start_time": "2024-02-15T14:10:16.698Z"
   },
   {
    "duration": 9,
    "start_time": "2024-02-15T14:10:16.704Z"
   },
   {
    "duration": 5,
    "start_time": "2024-02-15T14:10:16.715Z"
   },
   {
    "duration": 13800,
    "start_time": "2024-02-15T14:10:16.721Z"
   },
   {
    "duration": 0,
    "start_time": "2024-02-15T14:10:30.523Z"
   },
   {
    "duration": 0,
    "start_time": "2024-02-15T14:10:30.524Z"
   },
   {
    "duration": 0,
    "start_time": "2024-02-15T14:10:30.525Z"
   },
   {
    "duration": 0,
    "start_time": "2024-02-15T14:10:30.526Z"
   },
   {
    "duration": 0,
    "start_time": "2024-02-15T14:10:30.528Z"
   },
   {
    "duration": 0,
    "start_time": "2024-02-15T14:10:30.529Z"
   },
   {
    "duration": 1,
    "start_time": "2024-02-15T14:10:30.530Z"
   },
   {
    "duration": 0,
    "start_time": "2024-02-15T14:10:30.531Z"
   },
   {
    "duration": 0,
    "start_time": "2024-02-15T14:10:30.532Z"
   },
   {
    "duration": 0,
    "start_time": "2024-02-15T14:10:30.533Z"
   },
   {
    "duration": 0,
    "start_time": "2024-02-15T14:10:30.535Z"
   },
   {
    "duration": 0,
    "start_time": "2024-02-15T14:10:30.536Z"
   },
   {
    "duration": 0,
    "start_time": "2024-02-15T14:10:30.537Z"
   },
   {
    "duration": 0,
    "start_time": "2024-02-15T14:10:30.539Z"
   },
   {
    "duration": 0,
    "start_time": "2024-02-15T14:10:30.540Z"
   },
   {
    "duration": 0,
    "start_time": "2024-02-15T14:10:30.542Z"
   },
   {
    "duration": 0,
    "start_time": "2024-02-15T14:10:30.543Z"
   },
   {
    "duration": 0,
    "start_time": "2024-02-15T14:10:30.544Z"
   },
   {
    "duration": 0,
    "start_time": "2024-02-15T14:10:30.545Z"
   },
   {
    "duration": 0,
    "start_time": "2024-02-15T14:10:30.546Z"
   },
   {
    "duration": 0,
    "start_time": "2024-02-15T14:10:30.547Z"
   },
   {
    "duration": 0,
    "start_time": "2024-02-15T14:10:30.549Z"
   },
   {
    "duration": 0,
    "start_time": "2024-02-15T14:10:30.591Z"
   },
   {
    "duration": 0,
    "start_time": "2024-02-15T14:10:30.592Z"
   },
   {
    "duration": 0,
    "start_time": "2024-02-15T14:10:30.593Z"
   },
   {
    "duration": 0,
    "start_time": "2024-02-15T14:10:30.595Z"
   },
   {
    "duration": 4,
    "start_time": "2024-02-15T14:11:14.476Z"
   },
   {
    "duration": 5,
    "start_time": "2024-02-15T14:11:14.482Z"
   },
   {
    "duration": 1818,
    "start_time": "2024-02-15T14:11:14.489Z"
   },
   {
    "duration": 952,
    "start_time": "2024-02-15T14:11:16.309Z"
   },
   {
    "duration": 1509,
    "start_time": "2024-02-15T14:11:17.263Z"
   },
   {
    "duration": 514,
    "start_time": "2024-02-15T14:11:18.774Z"
   },
   {
    "duration": 1202,
    "start_time": "2024-02-15T14:11:19.289Z"
   },
   {
    "duration": 755,
    "start_time": "2024-02-15T14:11:20.493Z"
   },
   {
    "duration": 293,
    "start_time": "2024-02-15T14:11:21.253Z"
   },
   {
    "duration": 104,
    "start_time": "2024-02-15T14:11:21.547Z"
   },
   {
    "duration": 740,
    "start_time": "2024-02-15T14:11:21.653Z"
   },
   {
    "duration": 1011,
    "start_time": "2024-02-15T14:11:22.395Z"
   },
   {
    "duration": 501,
    "start_time": "2024-02-15T14:11:23.408Z"
   },
   {
    "duration": 108,
    "start_time": "2024-02-15T14:11:23.910Z"
   },
   {
    "duration": 1376,
    "start_time": "2024-02-15T14:11:24.023Z"
   },
   {
    "duration": 1599,
    "start_time": "2024-02-15T14:11:25.401Z"
   },
   {
    "duration": 368,
    "start_time": "2024-02-15T14:11:27.002Z"
   },
   {
    "duration": 102,
    "start_time": "2024-02-15T14:11:27.372Z"
   },
   {
    "duration": 56,
    "start_time": "2024-02-15T14:11:27.476Z"
   },
   {
    "duration": 216,
    "start_time": "2024-02-15T14:11:27.534Z"
   },
   {
    "duration": 1942,
    "start_time": "2024-02-15T14:11:27.752Z"
   },
   {
    "duration": 17,
    "start_time": "2024-02-15T14:11:29.696Z"
   },
   {
    "duration": 51,
    "start_time": "2024-02-15T14:11:29.715Z"
   },
   {
    "duration": 223,
    "start_time": "2024-02-15T14:11:29.770Z"
   },
   {
    "duration": 4218,
    "start_time": "2024-02-15T14:11:29.995Z"
   },
   {
    "duration": 239,
    "start_time": "2024-02-15T14:11:34.214Z"
   },
   {
    "duration": 42,
    "start_time": "2024-02-15T14:11:34.455Z"
   },
   {
    "duration": 131,
    "start_time": "2024-02-15T14:11:34.499Z"
   },
   {
    "duration": 557,
    "start_time": "2024-02-15T14:11:34.632Z"
   },
   {
    "duration": 402,
    "start_time": "2024-02-15T14:11:35.191Z"
   },
   {
    "duration": 421,
    "start_time": "2024-02-15T14:11:35.594Z"
   },
   {
    "duration": 134,
    "start_time": "2024-02-15T14:11:36.017Z"
   },
   {
    "duration": 108,
    "start_time": "2024-02-15T14:11:36.153Z"
   },
   {
    "duration": 116,
    "start_time": "2024-02-15T14:11:36.263Z"
   },
   {
    "duration": 91,
    "start_time": "2024-02-15T14:11:36.381Z"
   },
   {
    "duration": 127,
    "start_time": "2024-02-15T14:11:36.474Z"
   },
   {
    "duration": 289,
    "start_time": "2024-02-15T14:11:36.604Z"
   },
   {
    "duration": 57,
    "start_time": "2024-02-15T14:11:36.895Z"
   },
   {
    "duration": 4,
    "start_time": "2024-02-15T14:11:36.954Z"
   },
   {
    "duration": 36,
    "start_time": "2024-02-15T14:11:36.960Z"
   },
   {
    "duration": 16,
    "start_time": "2024-02-15T14:11:36.998Z"
   },
   {
    "duration": 40448,
    "start_time": "2024-02-15T14:11:37.016Z"
   },
   {
    "duration": 5508,
    "start_time": "2024-02-15T14:12:17.466Z"
   },
   {
    "duration": 5566,
    "start_time": "2024-02-15T14:12:22.976Z"
   },
   {
    "duration": 126,
    "start_time": "2024-02-15T14:12:28.545Z"
   },
   {
    "duration": 7,
    "start_time": "2024-02-15T14:12:28.673Z"
   },
   {
    "duration": 1102,
    "start_time": "2024-02-15T14:12:28.682Z"
   },
   {
    "duration": 79,
    "start_time": "2024-02-15T14:12:29.786Z"
   },
   {
    "duration": 82,
    "start_time": "2024-02-15T14:12:29.866Z"
   },
   {
    "duration": 143,
    "start_time": "2024-02-15T14:12:29.949Z"
   },
   {
    "duration": 4,
    "start_time": "2024-02-15T14:12:30.094Z"
   },
   {
    "duration": 19292,
    "start_time": "2024-02-15T14:12:30.101Z"
   },
   {
    "duration": 46755,
    "start_time": "2024-02-15T14:12:49.396Z"
   },
   {
    "duration": 5349,
    "start_time": "2024-02-15T14:13:36.153Z"
   },
   {
    "duration": 24801,
    "start_time": "2024-02-15T14:13:41.504Z"
   },
   {
    "duration": 13,
    "start_time": "2024-02-15T14:14:06.307Z"
   },
   {
    "duration": 24277,
    "start_time": "2024-02-15T14:14:06.322Z"
   },
   {
    "duration": 17498,
    "start_time": "2024-02-15T14:14:30.601Z"
   },
   {
    "duration": 3,
    "start_time": "2024-02-15T14:17:15.455Z"
   },
   {
    "duration": 16,
    "start_time": "2024-02-15T14:17:15.460Z"
   },
   {
    "duration": 2660,
    "start_time": "2024-02-15T14:17:15.477Z"
   },
   {
    "duration": 2974,
    "start_time": "2024-02-15T14:17:18.139Z"
   },
   {
    "duration": 1558,
    "start_time": "2024-02-15T14:17:21.115Z"
   },
   {
    "duration": 534,
    "start_time": "2024-02-15T14:17:22.674Z"
   },
   {
    "duration": 1221,
    "start_time": "2024-02-15T14:17:23.210Z"
   },
   {
    "duration": 718,
    "start_time": "2024-02-15T14:17:24.433Z"
   },
   {
    "duration": 251,
    "start_time": "2024-02-15T14:17:25.152Z"
   },
   {
    "duration": 117,
    "start_time": "2024-02-15T14:17:25.404Z"
   },
   {
    "duration": 663,
    "start_time": "2024-02-15T14:17:25.524Z"
   },
   {
    "duration": 927,
    "start_time": "2024-02-15T14:17:26.191Z"
   },
   {
    "duration": 487,
    "start_time": "2024-02-15T14:17:27.120Z"
   },
   {
    "duration": 103,
    "start_time": "2024-02-15T14:17:27.609Z"
   },
   {
    "duration": 1365,
    "start_time": "2024-02-15T14:17:27.714Z"
   },
   {
    "duration": 1545,
    "start_time": "2024-02-15T14:17:29.080Z"
   },
   {
    "duration": 409,
    "start_time": "2024-02-15T14:17:30.627Z"
   },
   {
    "duration": 96,
    "start_time": "2024-02-15T14:17:31.038Z"
   },
   {
    "duration": 68,
    "start_time": "2024-02-15T14:17:31.136Z"
   },
   {
    "duration": 229,
    "start_time": "2024-02-15T14:17:31.205Z"
   },
   {
    "duration": 1912,
    "start_time": "2024-02-15T14:17:31.435Z"
   },
   {
    "duration": 24,
    "start_time": "2024-02-15T14:17:33.349Z"
   },
   {
    "duration": 66,
    "start_time": "2024-02-15T14:17:33.375Z"
   },
   {
    "duration": 195,
    "start_time": "2024-02-15T14:17:33.442Z"
   },
   {
    "duration": 4001,
    "start_time": "2024-02-15T14:17:33.639Z"
   },
   {
    "duration": 223,
    "start_time": "2024-02-15T14:17:37.643Z"
   },
   {
    "duration": 43,
    "start_time": "2024-02-15T14:17:37.868Z"
   },
   {
    "duration": 137,
    "start_time": "2024-02-15T14:17:37.913Z"
   },
   {
    "duration": 544,
    "start_time": "2024-02-15T14:17:38.055Z"
   },
   {
    "duration": 398,
    "start_time": "2024-02-15T14:17:38.601Z"
   },
   {
    "duration": 395,
    "start_time": "2024-02-15T14:17:39.001Z"
   },
   {
    "duration": 118,
    "start_time": "2024-02-15T14:17:39.398Z"
   },
   {
    "duration": 113,
    "start_time": "2024-02-15T14:17:39.518Z"
   },
   {
    "duration": 107,
    "start_time": "2024-02-15T14:17:39.632Z"
   },
   {
    "duration": 114,
    "start_time": "2024-02-15T14:17:39.741Z"
   },
   {
    "duration": 124,
    "start_time": "2024-02-15T14:17:39.857Z"
   },
   {
    "duration": 293,
    "start_time": "2024-02-15T14:17:39.982Z"
   },
   {
    "duration": 62,
    "start_time": "2024-02-15T14:17:40.276Z"
   },
   {
    "duration": 3,
    "start_time": "2024-02-15T14:17:40.340Z"
   },
   {
    "duration": 27,
    "start_time": "2024-02-15T14:17:40.345Z"
   },
   {
    "duration": 20,
    "start_time": "2024-02-15T14:17:40.374Z"
   },
   {
    "duration": 43767,
    "start_time": "2024-02-15T14:17:40.395Z"
   },
   {
    "duration": 5429,
    "start_time": "2024-02-15T14:18:24.164Z"
   },
   {
    "duration": 5784,
    "start_time": "2024-02-15T14:18:29.594Z"
   },
   {
    "duration": 123,
    "start_time": "2024-02-15T14:18:35.380Z"
   },
   {
    "duration": 8,
    "start_time": "2024-02-15T14:18:35.505Z"
   },
   {
    "duration": 1124,
    "start_time": "2024-02-15T14:18:35.515Z"
   },
   {
    "duration": 72,
    "start_time": "2024-02-15T14:18:36.641Z"
   },
   {
    "duration": 83,
    "start_time": "2024-02-15T14:18:36.715Z"
   },
   {
    "duration": 127,
    "start_time": "2024-02-15T14:18:36.800Z"
   },
   {
    "duration": 4,
    "start_time": "2024-02-15T14:18:36.929Z"
   },
   {
    "duration": 19363,
    "start_time": "2024-02-15T14:18:36.935Z"
   },
   {
    "duration": 43862,
    "start_time": "2024-02-15T14:18:56.301Z"
   },
   {
    "duration": 5337,
    "start_time": "2024-02-15T14:19:40.165Z"
   },
   {
    "duration": 24460,
    "start_time": "2024-02-15T14:19:45.504Z"
   },
   {
    "duration": 13,
    "start_time": "2024-02-15T14:20:09.966Z"
   },
   {
    "duration": 24516,
    "start_time": "2024-02-15T14:20:09.981Z"
   },
   {
    "duration": 18296,
    "start_time": "2024-02-15T14:20:34.499Z"
   },
   {
    "duration": 56,
    "start_time": "2024-02-15T14:25:56.639Z"
   },
   {
    "duration": 4,
    "start_time": "2024-02-15T14:33:40.548Z"
   },
   {
    "duration": 26,
    "start_time": "2024-02-15T14:33:40.554Z"
   },
   {
    "duration": 2689,
    "start_time": "2024-02-15T14:33:40.582Z"
   },
   {
    "duration": 3004,
    "start_time": "2024-02-15T14:33:43.272Z"
   },
   {
    "duration": 1601,
    "start_time": "2024-02-15T14:33:46.278Z"
   },
   {
    "duration": 564,
    "start_time": "2024-02-15T14:33:47.881Z"
   },
   {
    "duration": 1249,
    "start_time": "2024-02-15T14:33:48.446Z"
   },
   {
    "duration": 820,
    "start_time": "2024-02-15T14:33:49.697Z"
   },
   {
    "duration": 228,
    "start_time": "2024-02-15T14:33:50.519Z"
   },
   {
    "duration": 98,
    "start_time": "2024-02-15T14:33:50.780Z"
   },
   {
    "duration": 671,
    "start_time": "2024-02-15T14:33:50.880Z"
   },
   {
    "duration": 966,
    "start_time": "2024-02-15T14:33:51.553Z"
   },
   {
    "duration": 493,
    "start_time": "2024-02-15T14:33:52.521Z"
   },
   {
    "duration": 107,
    "start_time": "2024-02-15T14:33:53.016Z"
   },
   {
    "duration": 1399,
    "start_time": "2024-02-15T14:33:53.125Z"
   },
   {
    "duration": 1583,
    "start_time": "2024-02-15T14:33:54.525Z"
   },
   {
    "duration": 404,
    "start_time": "2024-02-15T14:33:56.110Z"
   },
   {
    "duration": 101,
    "start_time": "2024-02-15T14:33:56.516Z"
   },
   {
    "duration": 84,
    "start_time": "2024-02-15T14:33:56.618Z"
   },
   {
    "duration": 201,
    "start_time": "2024-02-15T14:33:56.703Z"
   },
   {
    "duration": 2003,
    "start_time": "2024-02-15T14:33:56.906Z"
   },
   {
    "duration": 28,
    "start_time": "2024-02-15T14:33:58.912Z"
   },
   {
    "duration": 115,
    "start_time": "2024-02-15T14:33:58.942Z"
   },
   {
    "duration": 200,
    "start_time": "2024-02-15T14:33:59.059Z"
   },
   {
    "duration": 4285,
    "start_time": "2024-02-15T14:33:59.261Z"
   },
   {
    "duration": 229,
    "start_time": "2024-02-15T14:34:03.548Z"
   },
   {
    "duration": 40,
    "start_time": "2024-02-15T14:34:03.779Z"
   },
   {
    "duration": 137,
    "start_time": "2024-02-15T14:34:03.821Z"
   },
   {
    "duration": 633,
    "start_time": "2024-02-15T14:34:03.963Z"
   },
   {
    "duration": 419,
    "start_time": "2024-02-15T14:34:04.598Z"
   },
   {
    "duration": 419,
    "start_time": "2024-02-15T14:34:05.019Z"
   },
   {
    "duration": 127,
    "start_time": "2024-02-15T14:34:05.440Z"
   },
   {
    "duration": 107,
    "start_time": "2024-02-15T14:34:05.569Z"
   },
   {
    "duration": 116,
    "start_time": "2024-02-15T14:34:05.677Z"
   },
   {
    "duration": 84,
    "start_time": "2024-02-15T14:34:05.795Z"
   },
   {
    "duration": 120,
    "start_time": "2024-02-15T14:34:05.892Z"
   },
   {
    "duration": 291,
    "start_time": "2024-02-15T14:34:06.014Z"
   },
   {
    "duration": 56,
    "start_time": "2024-02-15T14:34:06.307Z"
   },
   {
    "duration": 3,
    "start_time": "2024-02-15T14:34:06.364Z"
   },
   {
    "duration": 29,
    "start_time": "2024-02-15T14:34:06.369Z"
   },
   {
    "duration": 10,
    "start_time": "2024-02-15T14:34:06.401Z"
   },
   {
    "duration": 38872,
    "start_time": "2024-02-15T14:34:06.413Z"
   },
   {
    "duration": 179,
    "start_time": "2024-02-15T14:34:45.287Z"
   },
   {
    "duration": 0,
    "start_time": "2024-02-15T14:34:45.467Z"
   },
   {
    "duration": 0,
    "start_time": "2024-02-15T14:34:45.468Z"
   },
   {
    "duration": 0,
    "start_time": "2024-02-15T14:34:45.469Z"
   },
   {
    "duration": 0,
    "start_time": "2024-02-15T14:34:45.471Z"
   },
   {
    "duration": 0,
    "start_time": "2024-02-15T14:34:45.473Z"
   },
   {
    "duration": 0,
    "start_time": "2024-02-15T14:34:45.474Z"
   },
   {
    "duration": 0,
    "start_time": "2024-02-15T14:34:45.475Z"
   },
   {
    "duration": 0,
    "start_time": "2024-02-15T14:34:45.476Z"
   },
   {
    "duration": 0,
    "start_time": "2024-02-15T14:34:45.491Z"
   },
   {
    "duration": 0,
    "start_time": "2024-02-15T14:34:45.493Z"
   },
   {
    "duration": 0,
    "start_time": "2024-02-15T14:34:45.494Z"
   },
   {
    "duration": 0,
    "start_time": "2024-02-15T14:34:45.495Z"
   },
   {
    "duration": 0,
    "start_time": "2024-02-15T14:34:45.496Z"
   },
   {
    "duration": 0,
    "start_time": "2024-02-15T14:34:45.497Z"
   },
   {
    "duration": 0,
    "start_time": "2024-02-15T14:34:45.498Z"
   },
   {
    "duration": 0,
    "start_time": "2024-02-15T14:34:45.500Z"
   },
   {
    "duration": 0,
    "start_time": "2024-02-15T14:34:45.501Z"
   },
   {
    "duration": 0,
    "start_time": "2024-02-15T14:34:45.502Z"
   },
   {
    "duration": 0,
    "start_time": "2024-02-15T14:34:45.504Z"
   },
   {
    "duration": 0,
    "start_time": "2024-02-15T14:34:45.505Z"
   },
   {
    "duration": 0,
    "start_time": "2024-02-15T14:34:45.506Z"
   },
   {
    "duration": 0,
    "start_time": "2024-02-15T14:34:45.507Z"
   },
   {
    "duration": 0,
    "start_time": "2024-02-15T14:34:45.508Z"
   },
   {
    "duration": 0,
    "start_time": "2024-02-15T14:34:45.509Z"
   },
   {
    "duration": 0,
    "start_time": "2024-02-15T14:34:45.511Z"
   },
   {
    "duration": 4,
    "start_time": "2024-02-15T14:41:42.310Z"
   },
   {
    "duration": 18,
    "start_time": "2024-02-15T14:41:42.317Z"
   },
   {
    "duration": 1983,
    "start_time": "2024-02-15T14:41:42.337Z"
   },
   {
    "duration": 1005,
    "start_time": "2024-02-15T14:41:44.322Z"
   },
   {
    "duration": 1546,
    "start_time": "2024-02-15T14:41:45.330Z"
   },
   {
    "duration": 544,
    "start_time": "2024-02-15T14:41:46.880Z"
   },
   {
    "duration": 1221,
    "start_time": "2024-02-15T14:41:47.426Z"
   },
   {
    "duration": 732,
    "start_time": "2024-02-15T14:41:48.649Z"
   },
   {
    "duration": 225,
    "start_time": "2024-02-15T14:41:49.383Z"
   },
   {
    "duration": 105,
    "start_time": "2024-02-15T14:41:49.651Z"
   },
   {
    "duration": 670,
    "start_time": "2024-02-15T14:41:49.758Z"
   },
   {
    "duration": 963,
    "start_time": "2024-02-15T14:41:50.430Z"
   },
   {
    "duration": 477,
    "start_time": "2024-02-15T14:41:51.395Z"
   },
   {
    "duration": 119,
    "start_time": "2024-02-15T14:41:51.874Z"
   },
   {
    "duration": 1370,
    "start_time": "2024-02-15T14:41:51.995Z"
   },
   {
    "duration": 1530,
    "start_time": "2024-02-15T14:41:53.367Z"
   },
   {
    "duration": 375,
    "start_time": "2024-02-15T14:41:54.899Z"
   },
   {
    "duration": 97,
    "start_time": "2024-02-15T14:41:55.276Z"
   },
   {
    "duration": 57,
    "start_time": "2024-02-15T14:41:55.375Z"
   },
   {
    "duration": 212,
    "start_time": "2024-02-15T14:41:55.433Z"
   },
   {
    "duration": 1966,
    "start_time": "2024-02-15T14:41:55.647Z"
   },
   {
    "duration": 18,
    "start_time": "2024-02-15T14:41:57.614Z"
   },
   {
    "duration": 59,
    "start_time": "2024-02-15T14:41:57.634Z"
   },
   {
    "duration": 190,
    "start_time": "2024-02-15T14:41:57.695Z"
   },
   {
    "duration": 4162,
    "start_time": "2024-02-15T14:41:57.892Z"
   },
   {
    "duration": 250,
    "start_time": "2024-02-15T14:42:02.057Z"
   },
   {
    "duration": 36,
    "start_time": "2024-02-15T14:42:02.309Z"
   },
   {
    "duration": 227,
    "start_time": "2024-02-15T14:42:02.351Z"
   },
   {
    "duration": 598,
    "start_time": "2024-02-15T14:42:02.579Z"
   },
   {
    "duration": 430,
    "start_time": "2024-02-15T14:42:03.179Z"
   },
   {
    "duration": 472,
    "start_time": "2024-02-15T14:42:03.611Z"
   },
   {
    "duration": 151,
    "start_time": "2024-02-15T14:42:04.085Z"
   },
   {
    "duration": 109,
    "start_time": "2024-02-15T14:42:04.238Z"
   },
   {
    "duration": 116,
    "start_time": "2024-02-15T14:42:04.349Z"
   },
   {
    "duration": 93,
    "start_time": "2024-02-15T14:42:04.467Z"
   },
   {
    "duration": 132,
    "start_time": "2024-02-15T14:42:04.562Z"
   },
   {
    "duration": 304,
    "start_time": "2024-02-15T14:42:04.696Z"
   },
   {
    "duration": 65,
    "start_time": "2024-02-15T14:42:05.002Z"
   },
   {
    "duration": 3,
    "start_time": "2024-02-15T14:42:05.069Z"
   },
   {
    "duration": 39,
    "start_time": "2024-02-15T14:42:05.074Z"
   },
   {
    "duration": 5,
    "start_time": "2024-02-15T14:42:05.115Z"
   },
   {
    "duration": 41511,
    "start_time": "2024-02-15T14:42:05.122Z"
   },
   {
    "duration": 5611,
    "start_time": "2024-02-15T14:42:46.635Z"
   },
   {
    "duration": 5595,
    "start_time": "2024-02-15T14:42:52.248Z"
   },
   {
    "duration": 122,
    "start_time": "2024-02-15T14:42:57.845Z"
   },
   {
    "duration": 7,
    "start_time": "2024-02-15T14:42:57.969Z"
   },
   {
    "duration": 454,
    "start_time": "2024-02-15T14:42:57.978Z"
   },
   {
    "duration": 73,
    "start_time": "2024-02-15T14:42:58.433Z"
   },
   {
    "duration": 71,
    "start_time": "2024-02-15T14:42:58.508Z"
   },
   {
    "duration": 149,
    "start_time": "2024-02-15T14:42:58.580Z"
   },
   {
    "duration": 6,
    "start_time": "2024-02-15T14:42:58.731Z"
   },
   {
    "duration": 17459,
    "start_time": "2024-02-15T14:42:58.738Z"
   },
   {
    "duration": 48652,
    "start_time": "2024-02-15T14:43:16.199Z"
   },
   {
    "duration": 9346,
    "start_time": "2024-02-15T14:44:04.853Z"
   },
   {
    "duration": 25274,
    "start_time": "2024-02-15T14:44:14.202Z"
   },
   {
    "duration": 14,
    "start_time": "2024-02-15T14:44:39.478Z"
   },
   {
    "duration": 29599,
    "start_time": "2024-02-15T14:44:39.493Z"
   },
   {
    "duration": 19702,
    "start_time": "2024-02-15T14:45:09.094Z"
   },
   {
    "duration": 4,
    "start_time": "2024-02-15T14:48:23.297Z"
   },
   {
    "duration": 12,
    "start_time": "2024-02-15T14:48:23.303Z"
   },
   {
    "duration": 2609,
    "start_time": "2024-02-15T14:48:23.316Z"
   },
   {
    "duration": 3036,
    "start_time": "2024-02-15T14:48:25.927Z"
   },
   {
    "duration": 1771,
    "start_time": "2024-02-15T14:48:28.965Z"
   },
   {
    "duration": 660,
    "start_time": "2024-02-15T14:48:30.738Z"
   },
   {
    "duration": 1385,
    "start_time": "2024-02-15T14:48:31.400Z"
   },
   {
    "duration": 806,
    "start_time": "2024-02-15T14:48:32.787Z"
   },
   {
    "duration": 269,
    "start_time": "2024-02-15T14:48:33.595Z"
   },
   {
    "duration": 107,
    "start_time": "2024-02-15T14:48:33.866Z"
   },
   {
    "duration": 768,
    "start_time": "2024-02-15T14:48:33.975Z"
   },
   {
    "duration": 1046,
    "start_time": "2024-02-15T14:48:34.745Z"
   },
   {
    "duration": 515,
    "start_time": "2024-02-15T14:48:35.793Z"
   },
   {
    "duration": 109,
    "start_time": "2024-02-15T14:48:36.310Z"
   },
   {
    "duration": 1440,
    "start_time": "2024-02-15T14:48:36.421Z"
   },
   {
    "duration": 1567,
    "start_time": "2024-02-15T14:48:37.863Z"
   },
   {
    "duration": 377,
    "start_time": "2024-02-15T14:48:39.431Z"
   },
   {
    "duration": 101,
    "start_time": "2024-02-15T14:48:39.810Z"
   },
   {
    "duration": 49,
    "start_time": "2024-02-15T14:48:39.913Z"
   },
   {
    "duration": 217,
    "start_time": "2024-02-15T14:48:39.964Z"
   },
   {
    "duration": 2177,
    "start_time": "2024-02-15T14:48:40.183Z"
   },
   {
    "duration": 31,
    "start_time": "2024-02-15T14:48:42.362Z"
   },
   {
    "duration": 48,
    "start_time": "2024-02-15T14:48:42.395Z"
   },
   {
    "duration": 202,
    "start_time": "2024-02-15T14:48:42.448Z"
   },
   {
    "duration": 4262,
    "start_time": "2024-02-15T14:48:42.651Z"
   },
   {
    "duration": 256,
    "start_time": "2024-02-15T14:48:46.915Z"
   },
   {
    "duration": 38,
    "start_time": "2024-02-15T14:48:47.172Z"
   },
   {
    "duration": 145,
    "start_time": "2024-02-15T14:48:47.212Z"
   },
   {
    "duration": 627,
    "start_time": "2024-02-15T14:48:47.358Z"
   },
   {
    "duration": 461,
    "start_time": "2024-02-15T14:48:47.987Z"
   },
   {
    "duration": 426,
    "start_time": "2024-02-15T14:48:48.450Z"
   },
   {
    "duration": 120,
    "start_time": "2024-02-15T14:48:48.878Z"
   },
   {
    "duration": 107,
    "start_time": "2024-02-15T14:48:49.000Z"
   },
   {
    "duration": 107,
    "start_time": "2024-02-15T14:48:49.109Z"
   },
   {
    "duration": 95,
    "start_time": "2024-02-15T14:48:49.218Z"
   },
   {
    "duration": 125,
    "start_time": "2024-02-15T14:48:49.315Z"
   },
   {
    "duration": 301,
    "start_time": "2024-02-15T14:48:49.442Z"
   },
   {
    "duration": 71,
    "start_time": "2024-02-15T14:48:49.745Z"
   },
   {
    "duration": 3,
    "start_time": "2024-02-15T14:48:49.818Z"
   },
   {
    "duration": 13,
    "start_time": "2024-02-15T14:48:49.822Z"
   },
   {
    "duration": 5,
    "start_time": "2024-02-15T14:48:49.837Z"
   },
   {
    "duration": 42849,
    "start_time": "2024-02-15T14:48:49.844Z"
   },
   {
    "duration": 5286,
    "start_time": "2024-02-15T14:49:32.694Z"
   },
   {
    "duration": 6049,
    "start_time": "2024-02-15T14:49:37.982Z"
   },
   {
    "duration": 136,
    "start_time": "2024-02-15T14:49:44.034Z"
   },
   {
    "duration": 7,
    "start_time": "2024-02-15T14:49:44.172Z"
   },
   {
    "duration": 447,
    "start_time": "2024-02-15T14:49:44.181Z"
   },
   {
    "duration": 75,
    "start_time": "2024-02-15T14:49:44.630Z"
   },
   {
    "duration": 68,
    "start_time": "2024-02-15T14:49:44.707Z"
   },
   {
    "duration": 134,
    "start_time": "2024-02-15T14:49:44.777Z"
   },
   {
    "duration": 144,
    "start_time": "2024-02-15T14:49:44.913Z"
   },
   {
    "duration": 0,
    "start_time": "2024-02-15T14:49:45.059Z"
   },
   {
    "duration": 0,
    "start_time": "2024-02-15T14:49:45.060Z"
   },
   {
    "duration": 0,
    "start_time": "2024-02-15T14:49:45.061Z"
   },
   {
    "duration": 0,
    "start_time": "2024-02-15T14:49:45.062Z"
   },
   {
    "duration": 0,
    "start_time": "2024-02-15T14:49:45.064Z"
   },
   {
    "duration": 0,
    "start_time": "2024-02-15T14:49:45.065Z"
   },
   {
    "duration": 0,
    "start_time": "2024-02-15T14:49:45.066Z"
   },
   {
    "duration": 0,
    "start_time": "2024-02-15T14:49:45.067Z"
   },
   {
    "duration": 0,
    "start_time": "2024-02-15T14:49:45.068Z"
   },
   {
    "duration": 0,
    "start_time": "2024-02-15T14:49:45.091Z"
   },
   {
    "duration": 0,
    "start_time": "2024-02-15T14:49:45.093Z"
   },
   {
    "duration": 0,
    "start_time": "2024-02-15T14:49:45.094Z"
   },
   {
    "duration": 0,
    "start_time": "2024-02-15T14:49:45.095Z"
   },
   {
    "duration": 0,
    "start_time": "2024-02-15T14:49:45.097Z"
   },
   {
    "duration": 0,
    "start_time": "2024-02-15T14:49:45.098Z"
   },
   {
    "duration": 0,
    "start_time": "2024-02-15T14:49:45.099Z"
   },
   {
    "duration": 0,
    "start_time": "2024-02-15T14:49:45.100Z"
   },
   {
    "duration": 73,
    "start_time": "2024-02-15T14:50:13.118Z"
   },
   {
    "duration": 16,
    "start_time": "2024-02-15T14:50:18.837Z"
   },
   {
    "duration": 52,
    "start_time": "2024-02-15T14:50:55.153Z"
   },
   {
    "duration": 43,
    "start_time": "2024-02-15T14:51:49.673Z"
   },
   {
    "duration": 24,
    "start_time": "2024-02-15T14:54:12.557Z"
   },
   {
    "duration": 14,
    "start_time": "2024-02-15T14:55:09.108Z"
   },
   {
    "duration": 1115,
    "start_time": "2024-02-15T14:55:23.962Z"
   },
   {
    "duration": 45,
    "start_time": "2024-02-15T14:55:29.488Z"
   },
   {
    "duration": 43,
    "start_time": "2024-02-15T14:57:40.953Z"
   },
   {
    "duration": 15,
    "start_time": "2024-02-15T14:59:44.011Z"
   },
   {
    "duration": 12,
    "start_time": "2024-02-15T14:59:53.840Z"
   },
   {
    "duration": 51,
    "start_time": "2024-02-15T14:59:59.451Z"
   },
   {
    "duration": 4,
    "start_time": "2024-02-15T15:03:50.688Z"
   },
   {
    "duration": 3,
    "start_time": "2024-02-15T15:11:53.233Z"
   },
   {
    "duration": 3,
    "start_time": "2024-02-15T15:12:51.880Z"
   },
   {
    "duration": 5,
    "start_time": "2024-02-15T15:12:51.887Z"
   },
   {
    "duration": 1874,
    "start_time": "2024-02-15T15:12:51.894Z"
   },
   {
    "duration": 1080,
    "start_time": "2024-02-15T15:12:53.770Z"
   },
   {
    "duration": 1590,
    "start_time": "2024-02-15T15:12:54.852Z"
   },
   {
    "duration": 559,
    "start_time": "2024-02-15T15:12:56.444Z"
   },
   {
    "duration": 1292,
    "start_time": "2024-02-15T15:12:57.005Z"
   },
   {
    "duration": 753,
    "start_time": "2024-02-15T15:12:58.299Z"
   },
   {
    "duration": 271,
    "start_time": "2024-02-15T15:12:59.055Z"
   },
   {
    "duration": 100,
    "start_time": "2024-02-15T15:12:59.328Z"
   },
   {
    "duration": 683,
    "start_time": "2024-02-15T15:12:59.430Z"
   },
   {
    "duration": 976,
    "start_time": "2024-02-15T15:13:00.115Z"
   },
   {
    "duration": 555,
    "start_time": "2024-02-15T15:13:01.093Z"
   },
   {
    "duration": 131,
    "start_time": "2024-02-15T15:13:01.651Z"
   },
   {
    "duration": 1475,
    "start_time": "2024-02-15T15:13:01.784Z"
   },
   {
    "duration": 1547,
    "start_time": "2024-02-15T15:13:03.261Z"
   },
   {
    "duration": 363,
    "start_time": "2024-02-15T15:13:04.810Z"
   },
   {
    "duration": 93,
    "start_time": "2024-02-15T15:13:05.175Z"
   },
   {
    "duration": 62,
    "start_time": "2024-02-15T15:13:05.270Z"
   },
   {
    "duration": 220,
    "start_time": "2024-02-15T15:13:05.334Z"
   },
   {
    "duration": 1968,
    "start_time": "2024-02-15T15:13:05.556Z"
   },
   {
    "duration": 18,
    "start_time": "2024-02-15T15:13:07.526Z"
   },
   {
    "duration": 64,
    "start_time": "2024-02-15T15:13:07.546Z"
   },
   {
    "duration": 196,
    "start_time": "2024-02-15T15:13:07.611Z"
   },
   {
    "duration": 4178,
    "start_time": "2024-02-15T15:13:07.810Z"
   },
   {
    "duration": 230,
    "start_time": "2024-02-15T15:13:11.990Z"
   },
   {
    "duration": 35,
    "start_time": "2024-02-15T15:13:12.221Z"
   },
   {
    "duration": 138,
    "start_time": "2024-02-15T15:13:12.257Z"
   },
   {
    "duration": 556,
    "start_time": "2024-02-15T15:13:12.397Z"
   },
   {
    "duration": 407,
    "start_time": "2024-02-15T15:13:12.955Z"
   },
   {
    "duration": 410,
    "start_time": "2024-02-15T15:13:13.364Z"
   },
   {
    "duration": 120,
    "start_time": "2024-02-15T15:13:13.776Z"
   },
   {
    "duration": 110,
    "start_time": "2024-02-15T15:13:13.898Z"
   },
   {
    "duration": 113,
    "start_time": "2024-02-15T15:13:14.010Z"
   },
   {
    "duration": 99,
    "start_time": "2024-02-15T15:13:14.125Z"
   },
   {
    "duration": 126,
    "start_time": "2024-02-15T15:13:14.226Z"
   },
   {
    "duration": 286,
    "start_time": "2024-02-15T15:13:14.353Z"
   },
   {
    "duration": 65,
    "start_time": "2024-02-15T15:13:14.644Z"
   },
   {
    "duration": 3,
    "start_time": "2024-02-15T15:13:14.711Z"
   },
   {
    "duration": 10,
    "start_time": "2024-02-15T15:13:14.715Z"
   },
   {
    "duration": 4,
    "start_time": "2024-02-15T15:13:14.726Z"
   },
   {
    "duration": 160,
    "start_time": "2024-02-15T15:13:14.731Z"
   },
   {
    "duration": 0,
    "start_time": "2024-02-15T15:13:14.893Z"
   },
   {
    "duration": 0,
    "start_time": "2024-02-15T15:13:14.894Z"
   },
   {
    "duration": 0,
    "start_time": "2024-02-15T15:13:14.895Z"
   },
   {
    "duration": 0,
    "start_time": "2024-02-15T15:13:14.896Z"
   },
   {
    "duration": 0,
    "start_time": "2024-02-15T15:13:14.898Z"
   },
   {
    "duration": 0,
    "start_time": "2024-02-15T15:13:14.899Z"
   },
   {
    "duration": 0,
    "start_time": "2024-02-15T15:13:14.900Z"
   },
   {
    "duration": 0,
    "start_time": "2024-02-15T15:13:14.901Z"
   },
   {
    "duration": 0,
    "start_time": "2024-02-15T15:13:14.902Z"
   },
   {
    "duration": 0,
    "start_time": "2024-02-15T15:13:14.904Z"
   },
   {
    "duration": 0,
    "start_time": "2024-02-15T15:13:14.905Z"
   },
   {
    "duration": 0,
    "start_time": "2024-02-15T15:13:14.906Z"
   },
   {
    "duration": 0,
    "start_time": "2024-02-15T15:13:14.907Z"
   },
   {
    "duration": 0,
    "start_time": "2024-02-15T15:13:14.908Z"
   },
   {
    "duration": 0,
    "start_time": "2024-02-15T15:13:14.909Z"
   },
   {
    "duration": 0,
    "start_time": "2024-02-15T15:13:14.910Z"
   },
   {
    "duration": 0,
    "start_time": "2024-02-15T15:13:14.911Z"
   },
   {
    "duration": 0,
    "start_time": "2024-02-15T15:13:14.912Z"
   },
   {
    "duration": 0,
    "start_time": "2024-02-15T15:13:14.913Z"
   },
   {
    "duration": 0,
    "start_time": "2024-02-15T15:13:14.914Z"
   },
   {
    "duration": 0,
    "start_time": "2024-02-15T15:13:14.915Z"
   },
   {
    "duration": 0,
    "start_time": "2024-02-15T15:13:14.916Z"
   },
   {
    "duration": 0,
    "start_time": "2024-02-15T15:13:14.917Z"
   },
   {
    "duration": 0,
    "start_time": "2024-02-15T15:13:14.919Z"
   },
   {
    "duration": 0,
    "start_time": "2024-02-15T15:13:14.920Z"
   },
   {
    "duration": 0,
    "start_time": "2024-02-15T15:13:14.921Z"
   },
   {
    "duration": 0,
    "start_time": "2024-02-15T15:13:14.922Z"
   },
   {
    "duration": 52,
    "start_time": "2024-02-15T15:14:40.080Z"
   },
   {
    "duration": 89,
    "start_time": "2024-02-15T15:16:04.178Z"
   },
   {
    "duration": 31,
    "start_time": "2024-02-15T15:16:10.624Z"
   },
   {
    "duration": 30,
    "start_time": "2024-02-15T15:16:51.801Z"
   },
   {
    "duration": 28,
    "start_time": "2024-02-15T15:17:03.943Z"
   },
   {
    "duration": 27,
    "start_time": "2024-02-15T15:17:14.729Z"
   },
   {
    "duration": 28,
    "start_time": "2024-02-15T15:17:24.404Z"
   },
   {
    "duration": 3,
    "start_time": "2024-02-15T15:19:00.533Z"
   },
   {
    "duration": 34,
    "start_time": "2024-02-15T15:19:00.541Z"
   },
   {
    "duration": 1844,
    "start_time": "2024-02-15T15:19:00.577Z"
   },
   {
    "duration": 988,
    "start_time": "2024-02-15T15:19:02.423Z"
   },
   {
    "duration": 1631,
    "start_time": "2024-02-15T15:19:03.413Z"
   },
   {
    "duration": 560,
    "start_time": "2024-02-15T15:19:05.045Z"
   },
   {
    "duration": 1261,
    "start_time": "2024-02-15T15:19:05.607Z"
   },
   {
    "duration": 751,
    "start_time": "2024-02-15T15:19:06.869Z"
   },
   {
    "duration": 276,
    "start_time": "2024-02-15T15:19:07.622Z"
   },
   {
    "duration": 118,
    "start_time": "2024-02-15T15:19:07.900Z"
   },
   {
    "duration": 656,
    "start_time": "2024-02-15T15:19:08.022Z"
   },
   {
    "duration": 965,
    "start_time": "2024-02-15T15:19:08.679Z"
   },
   {
    "duration": 532,
    "start_time": "2024-02-15T15:19:09.645Z"
   },
   {
    "duration": 105,
    "start_time": "2024-02-15T15:19:10.179Z"
   },
   {
    "duration": 1411,
    "start_time": "2024-02-15T15:19:10.291Z"
   },
   {
    "duration": 1507,
    "start_time": "2024-02-15T15:19:11.704Z"
   },
   {
    "duration": 348,
    "start_time": "2024-02-15T15:19:13.213Z"
   },
   {
    "duration": 94,
    "start_time": "2024-02-15T15:19:13.562Z"
   },
   {
    "duration": 60,
    "start_time": "2024-02-15T15:19:13.657Z"
   },
   {
    "duration": 202,
    "start_time": "2024-02-15T15:19:13.719Z"
   },
   {
    "duration": 1945,
    "start_time": "2024-02-15T15:19:13.923Z"
   },
   {
    "duration": 23,
    "start_time": "2024-02-15T15:19:15.870Z"
   },
   {
    "duration": 45,
    "start_time": "2024-02-15T15:19:15.894Z"
   },
   {
    "duration": 199,
    "start_time": "2024-02-15T15:19:15.940Z"
   },
   {
    "duration": 3965,
    "start_time": "2024-02-15T15:19:16.140Z"
   },
   {
    "duration": 227,
    "start_time": "2024-02-15T15:19:20.107Z"
   },
   {
    "duration": 43,
    "start_time": "2024-02-15T15:19:20.336Z"
   },
   {
    "duration": 146,
    "start_time": "2024-02-15T15:19:20.391Z"
   },
   {
    "duration": 540,
    "start_time": "2024-02-15T15:19:20.541Z"
   },
   {
    "duration": 421,
    "start_time": "2024-02-15T15:19:21.082Z"
   },
   {
    "duration": 423,
    "start_time": "2024-02-15T15:19:21.505Z"
   },
   {
    "duration": 123,
    "start_time": "2024-02-15T15:19:21.930Z"
   },
   {
    "duration": 102,
    "start_time": "2024-02-15T15:19:22.055Z"
   },
   {
    "duration": 105,
    "start_time": "2024-02-15T15:19:22.158Z"
   },
   {
    "duration": 93,
    "start_time": "2024-02-15T15:19:22.264Z"
   },
   {
    "duration": 120,
    "start_time": "2024-02-15T15:19:22.359Z"
   },
   {
    "duration": 291,
    "start_time": "2024-02-15T15:19:22.481Z"
   },
   {
    "duration": 63,
    "start_time": "2024-02-15T15:19:22.774Z"
   },
   {
    "duration": 4,
    "start_time": "2024-02-15T15:19:22.839Z"
   },
   {
    "duration": 34,
    "start_time": "2024-02-15T15:19:22.845Z"
   },
   {
    "duration": 42,
    "start_time": "2024-02-15T15:19:22.881Z"
   },
   {
    "duration": 43304,
    "start_time": "2024-02-15T15:19:22.925Z"
   },
   {
    "duration": 5713,
    "start_time": "2024-02-15T15:20:06.231Z"
   },
   {
    "duration": 5807,
    "start_time": "2024-02-15T15:20:11.946Z"
   },
   {
    "duration": 120,
    "start_time": "2024-02-15T15:20:17.755Z"
   },
   {
    "duration": 15,
    "start_time": "2024-02-15T15:20:17.876Z"
   },
   {
    "duration": 468,
    "start_time": "2024-02-15T15:20:17.893Z"
   },
   {
    "duration": 65,
    "start_time": "2024-02-15T15:20:18.363Z"
   },
   {
    "duration": 78,
    "start_time": "2024-02-15T15:20:18.430Z"
   },
   {
    "duration": 129,
    "start_time": "2024-02-15T15:20:18.509Z"
   },
   {
    "duration": 3,
    "start_time": "2024-02-15T15:20:18.640Z"
   },
   {
    "duration": 170,
    "start_time": "2024-02-15T15:20:18.644Z"
   },
   {
    "duration": 0,
    "start_time": "2024-02-15T15:20:18.816Z"
   },
   {
    "duration": 0,
    "start_time": "2024-02-15T15:20:18.817Z"
   },
   {
    "duration": 0,
    "start_time": "2024-02-15T15:20:18.818Z"
   },
   {
    "duration": 0,
    "start_time": "2024-02-15T15:20:18.819Z"
   },
   {
    "duration": 0,
    "start_time": "2024-02-15T15:20:18.821Z"
   },
   {
    "duration": 0,
    "start_time": "2024-02-15T15:20:18.822Z"
   },
   {
    "duration": 0,
    "start_time": "2024-02-15T15:20:18.823Z"
   },
   {
    "duration": 0,
    "start_time": "2024-02-15T15:20:18.824Z"
   },
   {
    "duration": 0,
    "start_time": "2024-02-15T15:20:18.825Z"
   },
   {
    "duration": 0,
    "start_time": "2024-02-15T15:20:18.826Z"
   },
   {
    "duration": 0,
    "start_time": "2024-02-15T15:20:18.827Z"
   },
   {
    "duration": 0,
    "start_time": "2024-02-15T15:20:18.828Z"
   },
   {
    "duration": 0,
    "start_time": "2024-02-15T15:20:18.830Z"
   },
   {
    "duration": 0,
    "start_time": "2024-02-15T15:20:18.831Z"
   },
   {
    "duration": 0,
    "start_time": "2024-02-15T15:20:18.833Z"
   },
   {
    "duration": 0,
    "start_time": "2024-02-15T15:20:18.833Z"
   },
   {
    "duration": 0,
    "start_time": "2024-02-15T15:20:18.835Z"
   },
   {
    "duration": 3,
    "start_time": "2024-02-15T15:20:44.020Z"
   },
   {
    "duration": 4,
    "start_time": "2024-02-15T15:20:46.907Z"
   },
   {
    "duration": 17283,
    "start_time": "2024-02-15T15:20:50.909Z"
   },
   {
    "duration": 47447,
    "start_time": "2024-02-15T15:21:12.061Z"
   },
   {
    "duration": 7909,
    "start_time": "2024-02-15T15:22:04.384Z"
   },
   {
    "duration": 25008,
    "start_time": "2024-02-15T15:23:04.298Z"
   },
   {
    "duration": 13,
    "start_time": "2024-02-15T15:23:32.164Z"
   },
   {
    "duration": 31653,
    "start_time": "2024-02-15T15:23:36.140Z"
   },
   {
    "duration": 21418,
    "start_time": "2024-02-15T15:24:11.475Z"
   },
   {
    "duration": 3,
    "start_time": "2024-02-15T15:44:58.456Z"
   },
   {
    "duration": 9,
    "start_time": "2024-02-15T15:44:58.461Z"
   },
   {
    "duration": 4576,
    "start_time": "2024-02-15T15:44:58.472Z"
   },
   {
    "duration": 3037,
    "start_time": "2024-02-15T15:45:03.050Z"
   },
   {
    "duration": 1586,
    "start_time": "2024-02-15T15:45:06.090Z"
   },
   {
    "duration": 576,
    "start_time": "2024-02-15T15:45:07.678Z"
   },
   {
    "duration": 1244,
    "start_time": "2024-02-15T15:45:08.256Z"
   },
   {
    "duration": 792,
    "start_time": "2024-02-15T15:45:09.501Z"
   },
   {
    "duration": 226,
    "start_time": "2024-02-15T15:45:10.295Z"
   },
   {
    "duration": 107,
    "start_time": "2024-02-15T15:45:10.554Z"
   },
   {
    "duration": 697,
    "start_time": "2024-02-15T15:45:10.664Z"
   },
   {
    "duration": 956,
    "start_time": "2024-02-15T15:45:11.363Z"
   },
   {
    "duration": 485,
    "start_time": "2024-02-15T15:45:12.321Z"
   },
   {
    "duration": 107,
    "start_time": "2024-02-15T15:45:12.810Z"
   },
   {
    "duration": 1387,
    "start_time": "2024-02-15T15:45:12.919Z"
   },
   {
    "duration": 1520,
    "start_time": "2024-02-15T15:45:14.308Z"
   },
   {
    "duration": 355,
    "start_time": "2024-02-15T15:45:15.830Z"
   },
   {
    "duration": 92,
    "start_time": "2024-02-15T15:45:16.187Z"
   },
   {
    "duration": 57,
    "start_time": "2024-02-15T15:45:16.280Z"
   },
   {
    "duration": 219,
    "start_time": "2024-02-15T15:45:16.339Z"
   },
   {
    "duration": 1969,
    "start_time": "2024-02-15T15:45:16.560Z"
   },
   {
    "duration": 17,
    "start_time": "2024-02-15T15:45:18.531Z"
   },
   {
    "duration": 60,
    "start_time": "2024-02-15T15:45:18.550Z"
   },
   {
    "duration": 184,
    "start_time": "2024-02-15T15:45:18.612Z"
   },
   {
    "duration": 4135,
    "start_time": "2024-02-15T15:45:18.798Z"
   },
   {
    "duration": 225,
    "start_time": "2024-02-15T15:45:22.935Z"
   },
   {
    "duration": 43,
    "start_time": "2024-02-15T15:45:23.162Z"
   },
   {
    "duration": 127,
    "start_time": "2024-02-15T15:45:23.206Z"
   },
   {
    "duration": 538,
    "start_time": "2024-02-15T15:45:23.335Z"
   },
   {
    "duration": 410,
    "start_time": "2024-02-15T15:45:23.875Z"
   },
   {
    "duration": 397,
    "start_time": "2024-02-15T15:45:24.286Z"
   },
   {
    "duration": 114,
    "start_time": "2024-02-15T15:45:24.684Z"
   },
   {
    "duration": 109,
    "start_time": "2024-02-15T15:45:24.799Z"
   },
   {
    "duration": 105,
    "start_time": "2024-02-15T15:45:24.910Z"
   },
   {
    "duration": 89,
    "start_time": "2024-02-15T15:45:25.017Z"
   },
   {
    "duration": 123,
    "start_time": "2024-02-15T15:45:25.108Z"
   },
   {
    "duration": 288,
    "start_time": "2024-02-15T15:45:25.232Z"
   },
   {
    "duration": 55,
    "start_time": "2024-02-15T15:45:25.522Z"
   },
   {
    "duration": 4,
    "start_time": "2024-02-15T15:45:25.591Z"
   },
   {
    "duration": 27,
    "start_time": "2024-02-15T15:45:25.597Z"
   },
   {
    "duration": 13,
    "start_time": "2024-02-15T15:45:25.629Z"
   },
   {
    "duration": 42503,
    "start_time": "2024-02-15T15:45:25.643Z"
   },
   {
    "duration": 5765,
    "start_time": "2024-02-15T15:46:08.148Z"
   },
   {
    "duration": 5684,
    "start_time": "2024-02-15T15:46:13.915Z"
   },
   {
    "duration": 125,
    "start_time": "2024-02-15T15:46:19.600Z"
   },
   {
    "duration": 7,
    "start_time": "2024-02-15T15:46:19.727Z"
   },
   {
    "duration": 1143,
    "start_time": "2024-02-15T15:46:19.736Z"
   },
   {
    "duration": 69,
    "start_time": "2024-02-15T15:46:20.881Z"
   },
   {
    "duration": 82,
    "start_time": "2024-02-15T15:46:20.952Z"
   },
   {
    "duration": 134,
    "start_time": "2024-02-15T15:46:21.036Z"
   },
   {
    "duration": 2,
    "start_time": "2024-02-15T15:46:21.172Z"
   },
   {
    "duration": 40,
    "start_time": "2024-02-15T15:46:21.176Z"
   },
   {
    "duration": 16777,
    "start_time": "2024-02-15T15:46:21.218Z"
   },
   {
    "duration": 35684,
    "start_time": "2024-02-15T15:46:37.999Z"
   },
   {
    "duration": 5510,
    "start_time": "2024-02-15T15:47:13.684Z"
   },
   {
    "duration": 24493,
    "start_time": "2024-02-15T15:47:19.197Z"
   },
   {
    "duration": 13,
    "start_time": "2024-02-15T15:47:43.694Z"
   },
   {
    "duration": 25492,
    "start_time": "2024-02-15T15:47:43.709Z"
   },
   {
    "duration": 17305,
    "start_time": "2024-02-15T15:48:09.292Z"
   },
   {
    "duration": 66688,
    "start_time": "2024-02-15T15:48:26.599Z"
   },
   {
    "duration": 54445,
    "start_time": "2024-02-15T15:49:33.289Z"
   },
   {
    "duration": 26368,
    "start_time": "2024-02-15T15:50:27.735Z"
   },
   {
    "duration": 11201,
    "start_time": "2024-02-15T15:50:54.105Z"
   },
   {
    "duration": 87546,
    "start_time": "2024-02-15T15:51:05.308Z"
   },
   {
    "duration": 22262,
    "start_time": "2024-02-15T15:52:32.855Z"
   },
   {
    "duration": 13,
    "start_time": "2024-02-15T15:52:55.119Z"
   },
   {
    "duration": 35,
    "start_time": "2024-02-15T15:52:55.134Z"
   },
   {
    "duration": 30,
    "start_time": "2024-02-15T15:52:55.171Z"
   },
   {
    "duration": 22753,
    "start_time": "2024-02-15T15:52:55.203Z"
   },
   {
    "duration": 44,
    "start_time": "2024-02-15T15:55:19.912Z"
   },
   {
    "duration": 3,
    "start_time": "2024-02-15T16:06:51.925Z"
   },
   {
    "duration": 10,
    "start_time": "2024-02-15T16:06:51.931Z"
   },
   {
    "duration": 1777,
    "start_time": "2024-02-15T16:06:51.944Z"
   },
   {
    "duration": 995,
    "start_time": "2024-02-15T16:06:53.723Z"
   },
   {
    "duration": 1566,
    "start_time": "2024-02-15T16:06:54.720Z"
   },
   {
    "duration": 551,
    "start_time": "2024-02-15T16:06:56.292Z"
   },
   {
    "duration": 1272,
    "start_time": "2024-02-15T16:06:56.845Z"
   },
   {
    "duration": 739,
    "start_time": "2024-02-15T16:06:58.119Z"
   },
   {
    "duration": 238,
    "start_time": "2024-02-15T16:06:58.860Z"
   },
   {
    "duration": 99,
    "start_time": "2024-02-15T16:06:59.123Z"
   },
   {
    "duration": 656,
    "start_time": "2024-02-15T16:06:59.223Z"
   },
   {
    "duration": 977,
    "start_time": "2024-02-15T16:06:59.880Z"
   },
   {
    "duration": 525,
    "start_time": "2024-02-15T16:07:00.859Z"
   },
   {
    "duration": 118,
    "start_time": "2024-02-15T16:07:01.385Z"
   },
   {
    "duration": 1429,
    "start_time": "2024-02-15T16:07:01.505Z"
   },
   {
    "duration": 1528,
    "start_time": "2024-02-15T16:07:02.936Z"
   },
   {
    "duration": 364,
    "start_time": "2024-02-15T16:07:04.465Z"
   },
   {
    "duration": 99,
    "start_time": "2024-02-15T16:07:04.831Z"
   },
   {
    "duration": 61,
    "start_time": "2024-02-15T16:07:04.932Z"
   },
   {
    "duration": 204,
    "start_time": "2024-02-15T16:07:04.995Z"
   },
   {
    "duration": 1940,
    "start_time": "2024-02-15T16:07:05.201Z"
   },
   {
    "duration": 17,
    "start_time": "2024-02-15T16:07:07.143Z"
   },
   {
    "duration": 60,
    "start_time": "2024-02-15T16:07:07.162Z"
   },
   {
    "duration": 198,
    "start_time": "2024-02-15T16:07:07.224Z"
   },
   {
    "duration": 4136,
    "start_time": "2024-02-15T16:07:07.426Z"
   },
   {
    "duration": 232,
    "start_time": "2024-02-15T16:07:11.564Z"
   },
   {
    "duration": 36,
    "start_time": "2024-02-15T16:07:11.798Z"
   },
   {
    "duration": 154,
    "start_time": "2024-02-15T16:07:11.835Z"
   },
   {
    "duration": 546,
    "start_time": "2024-02-15T16:07:11.992Z"
   },
   {
    "duration": 427,
    "start_time": "2024-02-15T16:07:12.540Z"
   },
   {
    "duration": 414,
    "start_time": "2024-02-15T16:07:12.969Z"
   },
   {
    "duration": 124,
    "start_time": "2024-02-15T16:07:13.385Z"
   },
   {
    "duration": 112,
    "start_time": "2024-02-15T16:07:13.511Z"
   },
   {
    "duration": 112,
    "start_time": "2024-02-15T16:07:13.624Z"
   },
   {
    "duration": 91,
    "start_time": "2024-02-15T16:07:13.738Z"
   },
   {
    "duration": 128,
    "start_time": "2024-02-15T16:07:13.831Z"
   },
   {
    "duration": 316,
    "start_time": "2024-02-15T16:07:13.961Z"
   },
   {
    "duration": 57,
    "start_time": "2024-02-15T16:07:14.279Z"
   },
   {
    "duration": 3,
    "start_time": "2024-02-15T16:07:14.338Z"
   },
   {
    "duration": 12,
    "start_time": "2024-02-15T16:07:14.343Z"
   },
   {
    "duration": 8,
    "start_time": "2024-02-15T16:07:14.357Z"
   },
   {
    "duration": 45046,
    "start_time": "2024-02-15T16:07:14.367Z"
   },
   {
    "duration": 6448,
    "start_time": "2024-02-15T16:07:59.414Z"
   },
   {
    "duration": 6451,
    "start_time": "2024-02-15T16:08:05.864Z"
   },
   {
    "duration": 148,
    "start_time": "2024-02-15T16:08:12.316Z"
   },
   {
    "duration": 8,
    "start_time": "2024-02-15T16:08:12.466Z"
   },
   {
    "duration": 1216,
    "start_time": "2024-02-15T16:08:12.476Z"
   },
   {
    "duration": 64,
    "start_time": "2024-02-15T16:08:13.694Z"
   },
   {
    "duration": 83,
    "start_time": "2024-02-15T16:08:13.760Z"
   },
   {
    "duration": 132,
    "start_time": "2024-02-15T16:08:13.845Z"
   },
   {
    "duration": 59,
    "start_time": "2024-02-15T16:08:13.979Z"
   },
   {
    "duration": 3,
    "start_time": "2024-02-15T16:08:14.040Z"
   },
   {
    "duration": 8,
    "start_time": "2024-02-15T16:08:14.045Z"
   },
   {
    "duration": 18844,
    "start_time": "2024-02-15T16:08:14.055Z"
   },
   {
    "duration": 43010,
    "start_time": "2024-02-15T16:08:32.902Z"
   },
   {
    "duration": 5288,
    "start_time": "2024-02-15T16:09:15.913Z"
   },
   {
    "duration": 24803,
    "start_time": "2024-02-15T16:09:21.203Z"
   },
   {
    "duration": 17,
    "start_time": "2024-02-15T16:09:46.008Z"
   },
   {
    "duration": 24070,
    "start_time": "2024-02-15T16:09:46.027Z"
   },
   {
    "duration": 16497,
    "start_time": "2024-02-15T16:10:10.099Z"
   },
   {
    "duration": 4,
    "start_time": "2024-02-15T16:27:44.820Z"
   },
   {
    "duration": 14,
    "start_time": "2024-02-15T16:27:44.827Z"
   },
   {
    "duration": 2579,
    "start_time": "2024-02-15T16:27:44.843Z"
   },
   {
    "duration": 3024,
    "start_time": "2024-02-15T16:27:47.424Z"
   },
   {
    "duration": 1581,
    "start_time": "2024-02-15T16:27:50.450Z"
   },
   {
    "duration": 555,
    "start_time": "2024-02-15T16:27:52.033Z"
   },
   {
    "duration": 1228,
    "start_time": "2024-02-15T16:27:52.589Z"
   },
   {
    "duration": 745,
    "start_time": "2024-02-15T16:27:53.819Z"
   },
   {
    "duration": 258,
    "start_time": "2024-02-15T16:27:54.567Z"
   },
   {
    "duration": 109,
    "start_time": "2024-02-15T16:27:54.827Z"
   },
   {
    "duration": 681,
    "start_time": "2024-02-15T16:27:54.938Z"
   },
   {
    "duration": 951,
    "start_time": "2024-02-15T16:27:55.621Z"
   },
   {
    "duration": 498,
    "start_time": "2024-02-15T16:27:56.573Z"
   },
   {
    "duration": 115,
    "start_time": "2024-02-15T16:27:57.073Z"
   },
   {
    "duration": 1475,
    "start_time": "2024-02-15T16:27:57.191Z"
   },
   {
    "duration": 1577,
    "start_time": "2024-02-15T16:27:58.667Z"
   },
   {
    "duration": 393,
    "start_time": "2024-02-15T16:28:00.246Z"
   },
   {
    "duration": 97,
    "start_time": "2024-02-15T16:28:00.641Z"
   },
   {
    "duration": 88,
    "start_time": "2024-02-15T16:28:00.740Z"
   },
   {
    "duration": 254,
    "start_time": "2024-02-15T16:28:00.830Z"
   },
   {
    "duration": 2050,
    "start_time": "2024-02-15T16:28:01.085Z"
   },
   {
    "duration": 19,
    "start_time": "2024-02-15T16:28:03.136Z"
   },
   {
    "duration": 286,
    "start_time": "2024-02-15T16:28:03.157Z"
   },
   {
    "duration": 187,
    "start_time": "2024-02-15T16:28:03.447Z"
   },
   {
    "duration": 4191,
    "start_time": "2024-02-15T16:28:03.636Z"
   },
   {
    "duration": 238,
    "start_time": "2024-02-15T16:28:07.829Z"
   },
   {
    "duration": 41,
    "start_time": "2024-02-15T16:28:08.069Z"
   },
   {
    "duration": 143,
    "start_time": "2024-02-15T16:28:08.112Z"
   },
   {
    "duration": 539,
    "start_time": "2024-02-15T16:28:08.256Z"
   },
   {
    "duration": 413,
    "start_time": "2024-02-15T16:28:08.796Z"
   },
   {
    "duration": 419,
    "start_time": "2024-02-15T16:28:09.210Z"
   },
   {
    "duration": 118,
    "start_time": "2024-02-15T16:28:09.631Z"
   },
   {
    "duration": 142,
    "start_time": "2024-02-15T16:28:09.752Z"
   },
   {
    "duration": 103,
    "start_time": "2024-02-15T16:28:09.896Z"
   },
   {
    "duration": 106,
    "start_time": "2024-02-15T16:28:10.001Z"
   },
   {
    "duration": 119,
    "start_time": "2024-02-15T16:28:10.108Z"
   },
   {
    "duration": 298,
    "start_time": "2024-02-15T16:28:10.229Z"
   },
   {
    "duration": 70,
    "start_time": "2024-02-15T16:28:10.529Z"
   },
   {
    "duration": 4,
    "start_time": "2024-02-15T16:28:10.600Z"
   },
   {
    "duration": 23,
    "start_time": "2024-02-15T16:28:10.606Z"
   },
   {
    "duration": 18,
    "start_time": "2024-02-15T16:28:10.630Z"
   },
   {
    "duration": 45053,
    "start_time": "2024-02-15T16:28:10.650Z"
   },
   {
    "duration": 5680,
    "start_time": "2024-02-15T16:28:55.705Z"
   },
   {
    "duration": 5751,
    "start_time": "2024-02-15T16:29:01.387Z"
   },
   {
    "duration": 121,
    "start_time": "2024-02-15T16:29:07.140Z"
   },
   {
    "duration": 8,
    "start_time": "2024-02-15T16:29:07.262Z"
   },
   {
    "duration": 444,
    "start_time": "2024-02-15T16:29:07.272Z"
   },
   {
    "duration": 75,
    "start_time": "2024-02-15T16:29:07.717Z"
   },
   {
    "duration": 74,
    "start_time": "2024-02-15T16:29:07.794Z"
   },
   {
    "duration": 157,
    "start_time": "2024-02-15T16:29:07.870Z"
   },
   {
    "duration": 50,
    "start_time": "2024-02-15T16:29:08.029Z"
   },
   {
    "duration": 14,
    "start_time": "2024-02-15T16:29:08.080Z"
   },
   {
    "duration": 17198,
    "start_time": "2024-02-15T16:29:08.096Z"
   },
   {
    "duration": 5302,
    "start_time": "2024-02-15T16:29:25.297Z"
   },
   {
    "duration": 25098,
    "start_time": "2024-02-15T16:29:30.601Z"
   },
   {
    "duration": 13,
    "start_time": "2024-02-15T16:29:55.701Z"
   },
   {
    "duration": 25177,
    "start_time": "2024-02-15T16:29:55.716Z"
   },
   {
    "duration": 19503,
    "start_time": "2024-02-15T16:30:20.895Z"
   },
   {
    "duration": 25204,
    "start_time": "2024-02-15T16:30:40.400Z"
   },
   {
    "duration": 11399,
    "start_time": "2024-02-15T16:31:05.605Z"
   },
   {
    "duration": 81568,
    "start_time": "2024-02-15T16:31:17.006Z"
   },
   {
    "duration": 12718,
    "start_time": "2024-02-15T16:32:38.576Z"
   },
   {
    "duration": 14,
    "start_time": "2024-02-15T16:32:51.296Z"
   },
   {
    "duration": 33,
    "start_time": "2024-02-15T16:32:51.311Z"
   },
   {
    "duration": 44,
    "start_time": "2024-02-15T16:32:51.346Z"
   },
   {
    "duration": 12709,
    "start_time": "2024-02-15T16:32:51.392Z"
   },
   {
    "duration": 4,
    "start_time": "2024-02-15T16:53:23.118Z"
   },
   {
    "duration": 11,
    "start_time": "2024-02-15T16:53:23.125Z"
   },
   {
    "duration": 1792,
    "start_time": "2024-02-15T16:53:23.138Z"
   },
   {
    "duration": 1037,
    "start_time": "2024-02-15T16:53:24.932Z"
   },
   {
    "duration": 1618,
    "start_time": "2024-02-15T16:53:25.971Z"
   },
   {
    "duration": 570,
    "start_time": "2024-02-15T16:53:27.590Z"
   },
   {
    "duration": 1280,
    "start_time": "2024-02-15T16:53:28.162Z"
   },
   {
    "duration": 766,
    "start_time": "2024-02-15T16:53:29.444Z"
   },
   {
    "duration": 264,
    "start_time": "2024-02-15T16:53:30.214Z"
   },
   {
    "duration": 106,
    "start_time": "2024-02-15T16:53:30.480Z"
   },
   {
    "duration": 687,
    "start_time": "2024-02-15T16:53:30.591Z"
   },
   {
    "duration": 1026,
    "start_time": "2024-02-15T16:53:31.280Z"
   },
   {
    "duration": 497,
    "start_time": "2024-02-15T16:53:32.308Z"
   },
   {
    "duration": 109,
    "start_time": "2024-02-15T16:53:32.807Z"
   },
   {
    "duration": 1433,
    "start_time": "2024-02-15T16:53:32.919Z"
   },
   {
    "duration": 1551,
    "start_time": "2024-02-15T16:53:34.353Z"
   },
   {
    "duration": 370,
    "start_time": "2024-02-15T16:53:35.905Z"
   },
   {
    "duration": 97,
    "start_time": "2024-02-15T16:53:36.277Z"
   },
   {
    "duration": 57,
    "start_time": "2024-02-15T16:53:36.376Z"
   },
   {
    "duration": 213,
    "start_time": "2024-02-15T16:53:36.435Z"
   },
   {
    "duration": 2007,
    "start_time": "2024-02-15T16:53:36.649Z"
   },
   {
    "duration": 18,
    "start_time": "2024-02-15T16:53:38.658Z"
   },
   {
    "duration": 60,
    "start_time": "2024-02-15T16:53:38.678Z"
   },
   {
    "duration": 206,
    "start_time": "2024-02-15T16:53:38.741Z"
   },
   {
    "duration": 4131,
    "start_time": "2024-02-15T16:53:38.949Z"
   },
   {
    "duration": 244,
    "start_time": "2024-02-15T16:53:43.081Z"
   },
   {
    "duration": 34,
    "start_time": "2024-02-15T16:53:43.326Z"
   },
   {
    "duration": 137,
    "start_time": "2024-02-15T16:53:43.361Z"
   },
   {
    "duration": 558,
    "start_time": "2024-02-15T16:53:43.500Z"
   },
   {
    "duration": 457,
    "start_time": "2024-02-15T16:53:44.060Z"
   },
   {
    "duration": 419,
    "start_time": "2024-02-15T16:53:44.519Z"
   },
   {
    "duration": 120,
    "start_time": "2024-02-15T16:53:44.940Z"
   },
   {
    "duration": 111,
    "start_time": "2024-02-15T16:53:45.062Z"
   },
   {
    "duration": 116,
    "start_time": "2024-02-15T16:53:45.175Z"
   },
   {
    "duration": 85,
    "start_time": "2024-02-15T16:53:45.293Z"
   },
   {
    "duration": 118,
    "start_time": "2024-02-15T16:53:45.392Z"
   },
   {
    "duration": 299,
    "start_time": "2024-02-15T16:53:45.512Z"
   },
   {
    "duration": 63,
    "start_time": "2024-02-15T16:53:45.813Z"
   },
   {
    "duration": 15,
    "start_time": "2024-02-15T16:53:45.878Z"
   },
   {
    "duration": 9,
    "start_time": "2024-02-15T16:53:45.895Z"
   },
   {
    "duration": 4,
    "start_time": "2024-02-15T16:53:45.906Z"
   },
   {
    "duration": 45747,
    "start_time": "2024-02-15T16:53:45.912Z"
   },
   {
    "duration": 5718,
    "start_time": "2024-02-15T16:54:31.660Z"
   },
   {
    "duration": 5801,
    "start_time": "2024-02-15T16:54:37.380Z"
   },
   {
    "duration": 128,
    "start_time": "2024-02-15T16:54:43.183Z"
   },
   {
    "duration": 8,
    "start_time": "2024-02-15T16:54:43.313Z"
   },
   {
    "duration": 443,
    "start_time": "2024-02-15T16:54:43.322Z"
   },
   {
    "duration": 81,
    "start_time": "2024-02-15T16:54:43.767Z"
   },
   {
    "duration": 76,
    "start_time": "2024-02-15T16:54:43.850Z"
   },
   {
    "duration": 149,
    "start_time": "2024-02-15T16:54:43.928Z"
   },
   {
    "duration": 5,
    "start_time": "2024-02-15T16:54:44.078Z"
   },
   {
    "duration": 23814,
    "start_time": "2024-02-15T16:54:44.085Z"
   },
   {
    "duration": 33300,
    "start_time": "2024-02-15T16:55:07.901Z"
   },
   {
    "duration": 24718,
    "start_time": "2024-02-15T16:55:41.203Z"
   },
   {
    "duration": 12,
    "start_time": "2024-02-15T16:56:05.923Z"
   },
   {
    "duration": 24760,
    "start_time": "2024-02-15T16:56:05.937Z"
   },
   {
    "duration": 17000,
    "start_time": "2024-02-15T16:56:30.699Z"
   },
   {
    "duration": 25806,
    "start_time": "2024-02-15T16:56:47.792Z"
   },
   {
    "duration": 10693,
    "start_time": "2024-02-15T16:57:13.600Z"
   },
   {
    "duration": 78760,
    "start_time": "2024-02-15T16:57:24.294Z"
   },
   {
    "duration": 12886,
    "start_time": "2024-02-15T16:58:43.056Z"
   },
   {
    "duration": 13,
    "start_time": "2024-02-15T16:58:55.943Z"
   },
   {
    "duration": 32,
    "start_time": "2024-02-15T16:58:55.958Z"
   },
   {
    "duration": 21,
    "start_time": "2024-02-15T16:58:55.993Z"
   },
   {
    "duration": 12522,
    "start_time": "2024-02-15T16:58:56.016Z"
   },
   {
    "duration": 9406,
    "start_time": "2024-02-18T10:13:59.196Z"
   },
   {
    "duration": 6473,
    "start_time": "2024-02-18T10:14:26.777Z"
   },
   {
    "duration": 4,
    "start_time": "2024-02-18T10:14:44.319Z"
   },
   {
    "duration": 9,
    "start_time": "2024-02-18T10:14:44.325Z"
   },
   {
    "duration": 1942,
    "start_time": "2024-02-18T10:14:44.336Z"
   },
   {
    "duration": 3027,
    "start_time": "2024-02-18T10:14:46.280Z"
   },
   {
    "duration": 1458,
    "start_time": "2024-02-18T10:14:49.309Z"
   },
   {
    "duration": 496,
    "start_time": "2024-02-18T10:14:50.769Z"
   },
   {
    "duration": 1172,
    "start_time": "2024-02-18T10:14:51.273Z"
   },
   {
    "duration": 733,
    "start_time": "2024-02-18T10:14:52.447Z"
   },
   {
    "duration": 243,
    "start_time": "2024-02-18T10:14:53.182Z"
   },
   {
    "duration": 117,
    "start_time": "2024-02-18T10:14:53.426Z"
   },
   {
    "duration": 650,
    "start_time": "2024-02-18T10:14:53.546Z"
   },
   {
    "duration": 882,
    "start_time": "2024-02-18T10:14:54.197Z"
   },
   {
    "duration": 469,
    "start_time": "2024-02-18T10:14:55.081Z"
   },
   {
    "duration": 104,
    "start_time": "2024-02-18T10:14:55.552Z"
   },
   {
    "duration": 1298,
    "start_time": "2024-02-18T10:14:55.658Z"
   },
   {
    "duration": 1442,
    "start_time": "2024-02-18T10:14:56.958Z"
   },
   {
    "duration": 342,
    "start_time": "2024-02-18T10:14:58.402Z"
   },
   {
    "duration": 94,
    "start_time": "2024-02-18T10:14:58.746Z"
   },
   {
    "duration": 64,
    "start_time": "2024-02-18T10:14:58.842Z"
   },
   {
    "duration": 192,
    "start_time": "2024-02-18T10:14:58.908Z"
   },
   {
    "duration": 1841,
    "start_time": "2024-02-18T10:14:59.102Z"
   },
   {
    "duration": 34,
    "start_time": "2024-02-18T10:15:00.946Z"
   },
   {
    "duration": 52,
    "start_time": "2024-02-18T10:15:00.981Z"
   },
   {
    "duration": 197,
    "start_time": "2024-02-18T10:15:01.035Z"
   },
   {
    "duration": 4018,
    "start_time": "2024-02-18T10:15:01.234Z"
   },
   {
    "duration": 238,
    "start_time": "2024-02-18T10:15:05.254Z"
   },
   {
    "duration": 32,
    "start_time": "2024-02-18T10:15:05.493Z"
   },
   {
    "duration": 129,
    "start_time": "2024-02-18T10:15:05.526Z"
   },
   {
    "duration": 508,
    "start_time": "2024-02-18T10:15:05.659Z"
   },
   {
    "duration": 414,
    "start_time": "2024-02-18T10:15:06.173Z"
   },
   {
    "duration": 404,
    "start_time": "2024-02-18T10:15:06.589Z"
   },
   {
    "duration": 186,
    "start_time": "2024-02-18T10:15:06.995Z"
   },
   {
    "duration": 109,
    "start_time": "2024-02-18T10:15:07.183Z"
   },
   {
    "duration": 105,
    "start_time": "2024-02-18T10:15:07.294Z"
   },
   {
    "duration": 88,
    "start_time": "2024-02-18T10:15:07.401Z"
   },
   {
    "duration": 115,
    "start_time": "2024-02-18T10:15:07.491Z"
   },
   {
    "duration": 286,
    "start_time": "2024-02-18T10:15:07.608Z"
   },
   {
    "duration": 51,
    "start_time": "2024-02-18T10:15:07.896Z"
   },
   {
    "duration": 4,
    "start_time": "2024-02-18T10:15:07.949Z"
   },
   {
    "duration": 25,
    "start_time": "2024-02-18T10:15:07.955Z"
   },
   {
    "duration": 5,
    "start_time": "2024-02-18T10:15:07.982Z"
   },
   {
    "duration": 39097,
    "start_time": "2024-02-18T10:15:07.989Z"
   },
   {
    "duration": 4077,
    "start_time": "2024-02-18T10:15:47.087Z"
   },
   {
    "duration": 4071,
    "start_time": "2024-02-18T10:15:51.165Z"
   },
   {
    "duration": 115,
    "start_time": "2024-02-18T10:15:55.237Z"
   },
   {
    "duration": 6,
    "start_time": "2024-02-18T10:15:55.354Z"
   },
   {
    "duration": 411,
    "start_time": "2024-02-18T10:15:55.362Z"
   },
   {
    "duration": 57,
    "start_time": "2024-02-18T10:15:55.774Z"
   },
   {
    "duration": 74,
    "start_time": "2024-02-18T10:15:55.833Z"
   },
   {
    "duration": 116,
    "start_time": "2024-02-18T10:15:55.908Z"
   },
   {
    "duration": 4,
    "start_time": "2024-02-18T10:15:56.025Z"
   },
   {
    "duration": 17943,
    "start_time": "2024-02-18T10:15:56.031Z"
   },
   {
    "duration": 7096,
    "start_time": "2024-02-18T10:16:13.977Z"
   },
   {
    "duration": 22594,
    "start_time": "2024-02-18T10:16:21.074Z"
   },
   {
    "duration": 12,
    "start_time": "2024-02-18T10:16:43.669Z"
   },
   {
    "duration": 20493,
    "start_time": "2024-02-18T10:16:43.682Z"
   },
   {
    "duration": 14706,
    "start_time": "2024-02-18T10:17:04.176Z"
   },
   {
    "duration": 131500,
    "start_time": "2024-02-18T10:17:18.885Z"
   },
   {
    "duration": 8593,
    "start_time": "2024-02-18T10:19:30.387Z"
   },
   {
    "duration": 81144,
    "start_time": "2024-02-18T10:19:38.982Z"
   },
   {
    "duration": 11834,
    "start_time": "2024-02-18T10:21:00.128Z"
   },
   {
    "duration": 12,
    "start_time": "2024-02-18T10:21:11.964Z"
   },
   {
    "duration": 22,
    "start_time": "2024-02-18T10:21:11.977Z"
   },
   {
    "duration": 34,
    "start_time": "2024-02-18T10:21:12.000Z"
   },
   {
    "duration": 11739,
    "start_time": "2024-02-18T10:21:12.036Z"
   },
   {
    "duration": 119149,
    "start_time": "2024-02-18T10:21:23.776Z"
   },
   {
    "duration": 106304,
    "start_time": "2024-02-18T10:24:07.507Z"
   },
   {
    "duration": 3,
    "start_time": "2024-02-18T10:49:55.806Z"
   },
   {
    "duration": 8,
    "start_time": "2024-02-18T10:49:55.811Z"
   },
   {
    "duration": 1682,
    "start_time": "2024-02-18T10:49:55.820Z"
   },
   {
    "duration": 878,
    "start_time": "2024-02-18T10:49:57.504Z"
   },
   {
    "duration": 1329,
    "start_time": "2024-02-18T10:49:58.384Z"
   },
   {
    "duration": 473,
    "start_time": "2024-02-18T10:49:59.715Z"
   },
   {
    "duration": 1113,
    "start_time": "2024-02-18T10:50:00.190Z"
   },
   {
    "duration": 724,
    "start_time": "2024-02-18T10:50:01.304Z"
   },
   {
    "duration": 247,
    "start_time": "2024-02-18T10:50:02.029Z"
   },
   {
    "duration": 104,
    "start_time": "2024-02-18T10:50:02.277Z"
   },
   {
    "duration": 628,
    "start_time": "2024-02-18T10:50:02.384Z"
   },
   {
    "duration": 891,
    "start_time": "2024-02-18T10:50:03.013Z"
   },
   {
    "duration": 469,
    "start_time": "2024-02-18T10:50:03.905Z"
   },
   {
    "duration": 97,
    "start_time": "2024-02-18T10:50:04.376Z"
   },
   {
    "duration": 1316,
    "start_time": "2024-02-18T10:50:04.475Z"
   },
   {
    "duration": 1522,
    "start_time": "2024-02-18T10:50:05.792Z"
   },
   {
    "duration": 329,
    "start_time": "2024-02-18T10:50:07.315Z"
   },
   {
    "duration": 100,
    "start_time": "2024-02-18T10:50:07.645Z"
   },
   {
    "duration": 69,
    "start_time": "2024-02-18T10:50:07.746Z"
   },
   {
    "duration": 282,
    "start_time": "2024-02-18T10:50:07.872Z"
   },
   {
    "duration": 1804,
    "start_time": "2024-02-18T10:50:08.172Z"
   },
   {
    "duration": 16,
    "start_time": "2024-02-18T10:50:09.977Z"
   },
   {
    "duration": 54,
    "start_time": "2024-02-18T10:50:09.995Z"
   },
   {
    "duration": 185,
    "start_time": "2024-02-18T10:50:10.050Z"
   },
   {
    "duration": 3807,
    "start_time": "2024-02-18T10:50:10.236Z"
   },
   {
    "duration": 228,
    "start_time": "2024-02-18T10:50:14.045Z"
   },
   {
    "duration": 34,
    "start_time": "2024-02-18T10:50:14.275Z"
   },
   {
    "duration": 136,
    "start_time": "2024-02-18T10:50:14.310Z"
   },
   {
    "duration": 512,
    "start_time": "2024-02-18T10:50:14.451Z"
   },
   {
    "duration": 397,
    "start_time": "2024-02-18T10:50:14.965Z"
   },
   {
    "duration": 372,
    "start_time": "2024-02-18T10:50:15.364Z"
   },
   {
    "duration": 117,
    "start_time": "2024-02-18T10:50:15.737Z"
   },
   {
    "duration": 98,
    "start_time": "2024-02-18T10:50:15.855Z"
   },
   {
    "duration": 106,
    "start_time": "2024-02-18T10:50:15.954Z"
   },
   {
    "duration": 100,
    "start_time": "2024-02-18T10:50:16.061Z"
   },
   {
    "duration": 126,
    "start_time": "2024-02-18T10:50:16.162Z"
   },
   {
    "duration": 271,
    "start_time": "2024-02-18T10:50:16.289Z"
   },
   {
    "duration": 75,
    "start_time": "2024-02-18T10:50:16.561Z"
   },
   {
    "duration": 3,
    "start_time": "2024-02-18T10:50:16.638Z"
   },
   {
    "duration": 14,
    "start_time": "2024-02-18T10:50:16.643Z"
   },
   {
    "duration": 15,
    "start_time": "2024-02-18T10:50:16.659Z"
   },
   {
    "duration": 38140,
    "start_time": "2024-02-18T10:50:16.675Z"
   },
   {
    "duration": 4149,
    "start_time": "2024-02-18T10:50:54.817Z"
   },
   {
    "duration": 4549,
    "start_time": "2024-02-18T10:50:58.967Z"
   },
   {
    "duration": 119,
    "start_time": "2024-02-18T10:51:03.518Z"
   },
   {
    "duration": 6,
    "start_time": "2024-02-18T10:51:03.639Z"
   },
   {
    "duration": 415,
    "start_time": "2024-02-18T10:51:03.647Z"
   },
   {
    "duration": 63,
    "start_time": "2024-02-18T10:51:04.064Z"
   },
   {
    "duration": 80,
    "start_time": "2024-02-18T10:51:04.129Z"
   },
   {
    "duration": 126,
    "start_time": "2024-02-18T10:51:04.211Z"
   },
   {
    "duration": 4,
    "start_time": "2024-02-18T10:51:04.339Z"
   },
   {
    "duration": 16252,
    "start_time": "2024-02-18T10:51:04.345Z"
   },
   {
    "duration": 42374,
    "start_time": "2024-02-18T10:51:20.677Z"
   },
   {
    "duration": 6026,
    "start_time": "2024-02-18T10:52:03.052Z"
   },
   {
    "duration": 22568,
    "start_time": "2024-02-18T10:52:09.079Z"
   },
   {
    "duration": 13,
    "start_time": "2024-02-18T10:52:31.649Z"
   },
   {
    "duration": 27119,
    "start_time": "2024-02-18T10:52:31.663Z"
   },
   {
    "duration": 19100,
    "start_time": "2024-02-18T10:52:58.873Z"
   },
   {
    "duration": 3,
    "start_time": "2024-02-18T10:59:38.565Z"
   },
   {
    "duration": 7,
    "start_time": "2024-02-18T10:59:38.570Z"
   },
   {
    "duration": 2239,
    "start_time": "2024-02-18T10:59:38.579Z"
   },
   {
    "duration": 2967,
    "start_time": "2024-02-18T10:59:40.820Z"
   },
   {
    "duration": 1404,
    "start_time": "2024-02-18T10:59:43.789Z"
   },
   {
    "duration": 520,
    "start_time": "2024-02-18T10:59:45.195Z"
   },
   {
    "duration": 1090,
    "start_time": "2024-02-18T10:59:45.716Z"
   },
   {
    "duration": 700,
    "start_time": "2024-02-18T10:59:46.808Z"
   },
   {
    "duration": 242,
    "start_time": "2024-02-18T10:59:47.509Z"
   },
   {
    "duration": 97,
    "start_time": "2024-02-18T10:59:47.754Z"
   },
   {
    "duration": 606,
    "start_time": "2024-02-18T10:59:47.852Z"
   },
   {
    "duration": 877,
    "start_time": "2024-02-18T10:59:48.459Z"
   },
   {
    "duration": 436,
    "start_time": "2024-02-18T10:59:49.337Z"
   },
   {
    "duration": 100,
    "start_time": "2024-02-18T10:59:49.775Z"
   },
   {
    "duration": 1265,
    "start_time": "2024-02-18T10:59:49.876Z"
   },
   {
    "duration": 1471,
    "start_time": "2024-02-18T10:59:51.143Z"
   },
   {
    "duration": 330,
    "start_time": "2024-02-18T10:59:52.615Z"
   },
   {
    "duration": 91,
    "start_time": "2024-02-18T10:59:52.946Z"
   },
   {
    "duration": 55,
    "start_time": "2024-02-18T10:59:53.039Z"
   },
   {
    "duration": 198,
    "start_time": "2024-02-18T10:59:53.096Z"
   },
   {
    "duration": 1807,
    "start_time": "2024-02-18T10:59:53.295Z"
   },
   {
    "duration": 18,
    "start_time": "2024-02-18T10:59:55.104Z"
   },
   {
    "duration": 61,
    "start_time": "2024-02-18T10:59:55.124Z"
   },
   {
    "duration": 182,
    "start_time": "2024-02-18T10:59:55.187Z"
   },
   {
    "duration": 3767,
    "start_time": "2024-02-18T10:59:55.375Z"
   },
   {
    "duration": 210,
    "start_time": "2024-02-18T10:59:59.144Z"
   },
   {
    "duration": 39,
    "start_time": "2024-02-18T10:59:59.356Z"
   },
   {
    "duration": 119,
    "start_time": "2024-02-18T10:59:59.396Z"
   },
   {
    "duration": 496,
    "start_time": "2024-02-18T10:59:59.517Z"
   },
   {
    "duration": 398,
    "start_time": "2024-02-18T11:00:00.015Z"
   },
   {
    "duration": 386,
    "start_time": "2024-02-18T11:00:00.414Z"
   },
   {
    "duration": 116,
    "start_time": "2024-02-18T11:00:00.801Z"
   },
   {
    "duration": 97,
    "start_time": "2024-02-18T11:00:00.919Z"
   },
   {
    "duration": 135,
    "start_time": "2024-02-18T11:00:01.017Z"
   },
   {
    "duration": 101,
    "start_time": "2024-02-18T11:00:01.154Z"
   },
   {
    "duration": 127,
    "start_time": "2024-02-18T11:00:01.256Z"
   },
   {
    "duration": 265,
    "start_time": "2024-02-18T11:00:01.385Z"
   },
   {
    "duration": 65,
    "start_time": "2024-02-18T11:00:01.651Z"
   },
   {
    "duration": 55,
    "start_time": "2024-02-18T11:00:01.718Z"
   },
   {
    "duration": 151,
    "start_time": "2024-02-18T11:00:01.774Z"
   },
   {
    "duration": 233,
    "start_time": "2024-02-18T11:00:01.926Z"
   },
   {
    "duration": 41268,
    "start_time": "2024-02-18T11:00:02.161Z"
   },
   {
    "duration": 4424,
    "start_time": "2024-02-18T11:00:43.430Z"
   },
   {
    "duration": 4407,
    "start_time": "2024-02-18T11:00:47.856Z"
   },
   {
    "duration": 114,
    "start_time": "2024-02-18T11:00:52.273Z"
   },
   {
    "duration": 6,
    "start_time": "2024-02-18T11:00:52.389Z"
   },
   {
    "duration": 388,
    "start_time": "2024-02-18T11:00:52.397Z"
   },
   {
    "duration": 55,
    "start_time": "2024-02-18T11:00:52.786Z"
   },
   {
    "duration": 74,
    "start_time": "2024-02-18T11:00:52.843Z"
   },
   {
    "duration": 118,
    "start_time": "2024-02-18T11:00:52.919Z"
   },
   {
    "duration": 4,
    "start_time": "2024-02-18T11:00:53.038Z"
   },
   {
    "duration": 14773,
    "start_time": "2024-02-18T11:00:53.043Z"
   },
   {
    "duration": 4501,
    "start_time": "2024-02-18T11:01:07.874Z"
   },
   {
    "duration": 22630,
    "start_time": "2024-02-18T11:01:12.377Z"
   },
   {
    "duration": 14,
    "start_time": "2024-02-18T11:01:35.008Z"
   },
   {
    "duration": 22349,
    "start_time": "2024-02-18T11:01:35.024Z"
   },
   {
    "duration": 15304,
    "start_time": "2024-02-18T11:01:57.375Z"
   },
   {
    "duration": 22697,
    "start_time": "2024-02-18T11:02:12.682Z"
   },
   {
    "duration": 9201,
    "start_time": "2024-02-18T11:02:35.381Z"
   },
   {
    "duration": 81385,
    "start_time": "2024-02-18T11:02:44.584Z"
   },
   {
    "duration": 12160,
    "start_time": "2024-02-18T11:04:05.971Z"
   },
   {
    "duration": 12,
    "start_time": "2024-02-18T11:04:18.133Z"
   },
   {
    "duration": 21,
    "start_time": "2024-02-18T11:04:18.147Z"
   },
   {
    "duration": 19,
    "start_time": "2024-02-18T11:04:18.170Z"
   },
   {
    "duration": 11756,
    "start_time": "2024-02-18T11:04:18.190Z"
   },
   {
    "duration": 7755,
    "start_time": "2024-02-18T14:38:52.251Z"
   },
   {
    "duration": 6562,
    "start_time": "2024-02-18T14:39:00.009Z"
   },
   {
    "duration": 4,
    "start_time": "2024-02-18T14:39:18.875Z"
   },
   {
    "duration": 9,
    "start_time": "2024-02-18T14:39:18.882Z"
   },
   {
    "duration": 1918,
    "start_time": "2024-02-18T14:39:18.893Z"
   },
   {
    "duration": 1200,
    "start_time": "2024-02-18T14:39:20.813Z"
   },
   {
    "duration": 1502,
    "start_time": "2024-02-18T14:39:22.015Z"
   },
   {
    "duration": 526,
    "start_time": "2024-02-18T14:39:23.522Z"
   },
   {
    "duration": 1210,
    "start_time": "2024-02-18T14:39:24.049Z"
   },
   {
    "duration": 735,
    "start_time": "2024-02-18T14:39:25.260Z"
   },
   {
    "duration": 245,
    "start_time": "2024-02-18T14:39:25.997Z"
   },
   {
    "duration": 100,
    "start_time": "2024-02-18T14:39:26.244Z"
   },
   {
    "duration": 645,
    "start_time": "2024-02-18T14:39:26.346Z"
   },
   {
    "duration": 928,
    "start_time": "2024-02-18T14:39:26.992Z"
   },
   {
    "duration": 479,
    "start_time": "2024-02-18T14:39:27.922Z"
   },
   {
    "duration": 109,
    "start_time": "2024-02-18T14:39:28.403Z"
   },
   {
    "duration": 1359,
    "start_time": "2024-02-18T14:39:28.514Z"
   },
   {
    "duration": 1372,
    "start_time": "2024-02-18T14:39:29.875Z"
   },
   {
    "duration": 475,
    "start_time": "2024-02-18T14:39:31.248Z"
   },
   {
    "duration": 100,
    "start_time": "2024-02-18T14:39:31.725Z"
   },
   {
    "duration": 45,
    "start_time": "2024-02-18T14:39:31.827Z"
   },
   {
    "duration": 216,
    "start_time": "2024-02-18T14:39:31.874Z"
   },
   {
    "duration": 1891,
    "start_time": "2024-02-18T14:39:32.092Z"
   },
   {
    "duration": 17,
    "start_time": "2024-02-18T14:39:33.985Z"
   },
   {
    "duration": 55,
    "start_time": "2024-02-18T14:39:34.004Z"
   },
   {
    "duration": 191,
    "start_time": "2024-02-18T14:39:34.061Z"
   },
   {
    "duration": 4013,
    "start_time": "2024-02-18T14:39:34.256Z"
   },
   {
    "duration": 216,
    "start_time": "2024-02-18T14:39:38.270Z"
   },
   {
    "duration": 42,
    "start_time": "2024-02-18T14:39:38.488Z"
   },
   {
    "duration": 119,
    "start_time": "2024-02-18T14:39:38.532Z"
   },
   {
    "duration": 530,
    "start_time": "2024-02-18T14:39:38.653Z"
   },
   {
    "duration": 416,
    "start_time": "2024-02-18T14:39:39.185Z"
   },
   {
    "duration": 405,
    "start_time": "2024-02-18T14:39:39.603Z"
   },
   {
    "duration": 119,
    "start_time": "2024-02-18T14:39:40.009Z"
   },
   {
    "duration": 104,
    "start_time": "2024-02-18T14:39:40.130Z"
   },
   {
    "duration": 104,
    "start_time": "2024-02-18T14:39:40.235Z"
   },
   {
    "duration": 92,
    "start_time": "2024-02-18T14:39:40.342Z"
   },
   {
    "duration": 116,
    "start_time": "2024-02-18T14:39:40.436Z"
   },
   {
    "duration": 308,
    "start_time": "2024-02-18T14:39:40.554Z"
   },
   {
    "duration": 62,
    "start_time": "2024-02-18T14:39:40.863Z"
   },
   {
    "duration": 3,
    "start_time": "2024-02-18T14:39:40.926Z"
   },
   {
    "duration": 9,
    "start_time": "2024-02-18T14:39:40.931Z"
   },
   {
    "duration": 42999,
    "start_time": "2024-02-18T14:39:40.942Z"
   },
   {
    "duration": 4997,
    "start_time": "2024-02-18T14:40:23.942Z"
   },
   {
    "duration": 5140,
    "start_time": "2024-02-18T14:40:28.941Z"
   },
   {
    "duration": 117,
    "start_time": "2024-02-18T14:40:34.083Z"
   },
   {
    "duration": 7,
    "start_time": "2024-02-18T14:40:34.201Z"
   },
   {
    "duration": 430,
    "start_time": "2024-02-18T14:40:34.209Z"
   },
   {
    "duration": 61,
    "start_time": "2024-02-18T14:40:34.640Z"
   },
   {
    "duration": 86,
    "start_time": "2024-02-18T14:40:34.702Z"
   },
   {
    "duration": 138,
    "start_time": "2024-02-18T14:40:34.789Z"
   },
   {
    "duration": 4,
    "start_time": "2024-02-18T14:40:34.930Z"
   },
   {
    "duration": 15030,
    "start_time": "2024-02-18T14:40:34.936Z"
   },
   {
    "duration": 5203,
    "start_time": "2024-02-18T14:40:50.025Z"
   },
   {
    "duration": 23751,
    "start_time": "2024-02-18T14:40:55.229Z"
   },
   {
    "duration": 13,
    "start_time": "2024-02-18T14:41:18.981Z"
   },
   {
    "duration": 22439,
    "start_time": "2024-02-18T14:41:18.995Z"
   },
   {
    "duration": 14606,
    "start_time": "2024-02-18T14:41:41.523Z"
   },
   {
    "duration": 28105,
    "start_time": "2024-02-18T14:41:56.131Z"
   },
   {
    "duration": 10794,
    "start_time": "2024-02-18T14:42:24.238Z"
   },
   {
    "duration": 74355,
    "start_time": "2024-02-18T14:42:35.033Z"
   },
   {
    "duration": 11987,
    "start_time": "2024-02-18T14:43:49.389Z"
   },
   {
    "duration": 12,
    "start_time": "2024-02-18T14:44:01.378Z"
   },
   {
    "duration": 69,
    "start_time": "2024-02-18T14:44:01.391Z"
   },
   {
    "duration": 79,
    "start_time": "2024-02-18T14:44:01.462Z"
   },
   {
    "duration": 12313,
    "start_time": "2024-02-18T14:44:01.542Z"
   },
   {
    "duration": 651,
    "start_time": "2024-02-18T14:44:13.857Z"
   },
   {
    "duration": 261,
    "start_time": "2024-02-18T14:44:14.510Z"
   },
   {
    "duration": 69,
    "start_time": "2024-02-18T14:44:14.774Z"
   },
   {
    "duration": 139,
    "start_time": "2024-02-18T14:48:39.308Z"
   },
   {
    "duration": 954,
    "start_time": "2024-02-18T14:48:56.832Z"
   },
   {
    "duration": 320,
    "start_time": "2024-02-18T14:49:03.643Z"
   },
   {
    "duration": 1076,
    "start_time": "2024-02-18T14:49:22.260Z"
   },
   {
    "duration": 498,
    "start_time": "2024-02-18T14:49:27.566Z"
   },
   {
    "duration": 983,
    "start_time": "2024-02-18T14:49:39.313Z"
   },
   {
    "duration": 395,
    "start_time": "2024-02-18T14:49:44.412Z"
   },
   {
    "duration": 1094,
    "start_time": "2024-02-18T14:49:54.482Z"
   },
   {
    "duration": 483,
    "start_time": "2024-02-18T14:49:57.650Z"
   },
   {
    "duration": 1072,
    "start_time": "2024-02-18T14:50:18.505Z"
   },
   {
    "duration": 473,
    "start_time": "2024-02-18T14:50:22.943Z"
   },
   {
    "duration": 1164,
    "start_time": "2024-02-18T14:51:13.820Z"
   },
   {
    "duration": 559,
    "start_time": "2024-02-18T14:51:16.998Z"
   },
   {
    "duration": 1327,
    "start_time": "2024-02-18T14:51:30.273Z"
   },
   {
    "duration": 509,
    "start_time": "2024-02-18T14:51:34.664Z"
   },
   {
    "duration": 1289,
    "start_time": "2024-02-18T14:52:57.224Z"
   },
   {
    "duration": 517,
    "start_time": "2024-02-18T14:53:02.135Z"
   },
   {
    "duration": 1258,
    "start_time": "2024-02-18T14:53:27.804Z"
   },
   {
    "duration": 481,
    "start_time": "2024-02-18T14:53:35.763Z"
   },
   {
    "duration": 424,
    "start_time": "2024-02-18T14:55:19.128Z"
   },
   {
    "duration": 406,
    "start_time": "2024-02-18T14:55:25.127Z"
   },
   {
    "duration": 423,
    "start_time": "2024-02-18T14:55:32.146Z"
   },
   {
    "duration": 466,
    "start_time": "2024-02-18T14:55:37.812Z"
   },
   {
    "duration": 476,
    "start_time": "2024-02-18T14:55:47.667Z"
   },
   {
    "duration": 458,
    "start_time": "2024-02-18T14:55:52.483Z"
   },
   {
    "duration": 443,
    "start_time": "2024-02-18T14:55:57.704Z"
   },
   {
    "duration": 476,
    "start_time": "2024-02-18T14:56:01.896Z"
   },
   {
    "duration": 452,
    "start_time": "2024-02-18T14:56:06.946Z"
   },
   {
    "duration": 458,
    "start_time": "2024-02-18T14:56:11.081Z"
   },
   {
    "duration": 469,
    "start_time": "2024-02-18T14:56:15.585Z"
   },
   {
    "duration": 472,
    "start_time": "2024-02-18T14:56:20.438Z"
   },
   {
    "duration": 439,
    "start_time": "2024-02-18T14:56:28.535Z"
   },
   {
    "duration": 481,
    "start_time": "2024-02-18T14:56:34.575Z"
   },
   {
    "duration": 483,
    "start_time": "2024-02-18T14:56:43.330Z"
   },
   {
    "duration": 457,
    "start_time": "2024-02-18T14:56:55.071Z"
   },
   {
    "duration": 1280,
    "start_time": "2024-02-18T14:57:12.244Z"
   },
   {
    "duration": 469,
    "start_time": "2024-02-18T14:57:16.408Z"
   },
   {
    "duration": 1338,
    "start_time": "2024-02-18T14:57:30.467Z"
   },
   {
    "duration": 502,
    "start_time": "2024-02-18T14:57:34.424Z"
   },
   {
    "duration": 1263,
    "start_time": "2024-02-18T14:57:43.302Z"
   },
   {
    "duration": 469,
    "start_time": "2024-02-18T14:57:53.180Z"
   },
   {
    "duration": 1265,
    "start_time": "2024-02-18T14:58:06.523Z"
   },
   {
    "duration": 469,
    "start_time": "2024-02-18T14:58:09.926Z"
   },
   {
    "duration": 456,
    "start_time": "2024-02-18T14:59:02.016Z"
   },
   {
    "duration": 470,
    "start_time": "2024-02-18T14:59:06.634Z"
   },
   {
    "duration": 481,
    "start_time": "2024-02-18T14:59:12.000Z"
   },
   {
    "duration": 88,
    "start_time": "2024-02-18T15:00:37.228Z"
   },
   {
    "duration": 138,
    "start_time": "2024-02-18T15:00:46.334Z"
   },
   {
    "duration": 51,
    "start_time": "2024-02-18T15:00:50.624Z"
   },
   {
    "duration": 100,
    "start_time": "2024-02-18T15:01:05.138Z"
   },
   {
    "duration": 89,
    "start_time": "2024-02-18T15:01:23.090Z"
   },
   {
    "duration": 123,
    "start_time": "2024-02-18T15:01:27.837Z"
   },
   {
    "duration": 439,
    "start_time": "2024-02-18T15:01:36.141Z"
   },
   {
    "duration": 633,
    "start_time": "2024-02-18T15:01:50.686Z"
   },
   {
    "duration": 614,
    "start_time": "2024-02-18T15:01:57.604Z"
   },
   {
    "duration": 631,
    "start_time": "2024-02-18T15:02:05.333Z"
   },
   {
    "duration": 1263,
    "start_time": "2024-02-18T15:02:09.551Z"
   },
   {
    "duration": 472,
    "start_time": "2024-02-18T15:02:14.719Z"
   },
   {
    "duration": 5043,
    "start_time": "2024-02-18T15:03:46.099Z"
   },
   {
    "duration": 5596,
    "start_time": "2024-02-18T15:04:00.910Z"
   },
   {
    "duration": 4227,
    "start_time": "2024-02-18T15:04:19.847Z"
   },
   {
    "duration": 4957,
    "start_time": "2024-02-18T15:05:42.641Z"
   },
   {
    "duration": 3,
    "start_time": "2024-02-18T15:13:33.159Z"
   },
   {
    "duration": 15,
    "start_time": "2024-02-18T15:13:33.164Z"
   },
   {
    "duration": 1691,
    "start_time": "2024-02-18T15:13:33.181Z"
   },
   {
    "duration": 929,
    "start_time": "2024-02-18T15:13:34.874Z"
   },
   {
    "duration": 1420,
    "start_time": "2024-02-18T15:13:35.805Z"
   },
   {
    "duration": 513,
    "start_time": "2024-02-18T15:13:37.226Z"
   },
   {
    "duration": 1104,
    "start_time": "2024-02-18T15:13:37.740Z"
   },
   {
    "duration": 715,
    "start_time": "2024-02-18T15:13:38.845Z"
   },
   {
    "duration": 234,
    "start_time": "2024-02-18T15:13:39.562Z"
   },
   {
    "duration": 92,
    "start_time": "2024-02-18T15:13:39.798Z"
   },
   {
    "duration": 618,
    "start_time": "2024-02-18T15:13:39.892Z"
   },
   {
    "duration": 940,
    "start_time": "2024-02-18T15:13:40.512Z"
   },
   {
    "duration": 479,
    "start_time": "2024-02-18T15:13:41.454Z"
   },
   {
    "duration": 99,
    "start_time": "2024-02-18T15:13:41.935Z"
   },
   {
    "duration": 1328,
    "start_time": "2024-02-18T15:13:42.036Z"
   },
   {
    "duration": 1397,
    "start_time": "2024-02-18T15:13:43.366Z"
   },
   {
    "duration": 468,
    "start_time": "2024-02-18T15:13:44.765Z"
   },
   {
    "duration": 99,
    "start_time": "2024-02-18T15:13:45.235Z"
   },
   {
    "duration": 43,
    "start_time": "2024-02-18T15:13:45.336Z"
   },
   {
    "duration": 199,
    "start_time": "2024-02-18T15:13:45.381Z"
   },
   {
    "duration": 1853,
    "start_time": "2024-02-18T15:13:45.582Z"
   },
   {
    "duration": 16,
    "start_time": "2024-02-18T15:13:47.437Z"
   },
   {
    "duration": 45,
    "start_time": "2024-02-18T15:13:47.455Z"
   },
   {
    "duration": 203,
    "start_time": "2024-02-18T15:13:47.502Z"
   },
   {
    "duration": 3926,
    "start_time": "2024-02-18T15:13:47.708Z"
   },
   {
    "duration": 225,
    "start_time": "2024-02-18T15:13:51.635Z"
   },
   {
    "duration": 33,
    "start_time": "2024-02-18T15:13:51.861Z"
   },
   {
    "duration": 129,
    "start_time": "2024-02-18T15:13:51.896Z"
   },
   {
    "duration": 530,
    "start_time": "2024-02-18T15:13:52.029Z"
   },
   {
    "duration": 413,
    "start_time": "2024-02-18T15:13:52.560Z"
   },
   {
    "duration": 389,
    "start_time": "2024-02-18T15:13:52.975Z"
   },
   {
    "duration": 114,
    "start_time": "2024-02-18T15:13:53.365Z"
   },
   {
    "duration": 106,
    "start_time": "2024-02-18T15:13:53.480Z"
   },
   {
    "duration": 100,
    "start_time": "2024-02-18T15:13:53.587Z"
   },
   {
    "duration": 101,
    "start_time": "2024-02-18T15:13:53.688Z"
   },
   {
    "duration": 113,
    "start_time": "2024-02-18T15:13:53.791Z"
   },
   {
    "duration": 283,
    "start_time": "2024-02-18T15:13:53.906Z"
   },
   {
    "duration": 65,
    "start_time": "2024-02-18T15:13:54.190Z"
   },
   {
    "duration": 3,
    "start_time": "2024-02-18T15:13:54.257Z"
   },
   {
    "duration": 18,
    "start_time": "2024-02-18T15:13:54.261Z"
   },
   {
    "duration": 42859,
    "start_time": "2024-02-18T15:13:54.280Z"
   },
   {
    "duration": 4814,
    "start_time": "2024-02-18T15:14:37.141Z"
   },
   {
    "duration": 4867,
    "start_time": "2024-02-18T15:14:41.957Z"
   },
   {
    "duration": 115,
    "start_time": "2024-02-18T15:14:46.826Z"
   },
   {
    "duration": 6,
    "start_time": "2024-02-18T15:14:46.943Z"
   },
   {
    "duration": 416,
    "start_time": "2024-02-18T15:14:46.951Z"
   },
   {
    "duration": 75,
    "start_time": "2024-02-18T15:14:47.368Z"
   },
   {
    "duration": 66,
    "start_time": "2024-02-18T15:14:47.444Z"
   },
   {
    "duration": 136,
    "start_time": "2024-02-18T15:14:47.512Z"
   },
   {
    "duration": 4,
    "start_time": "2024-02-18T15:14:47.650Z"
   },
   {
    "duration": 15271,
    "start_time": "2024-02-18T15:14:47.655Z"
   },
   {
    "duration": 5156,
    "start_time": "2024-02-18T15:15:02.928Z"
   },
   {
    "duration": 5544,
    "start_time": "2024-02-18T15:15:08.085Z"
   },
   {
    "duration": 24207,
    "start_time": "2024-02-18T15:15:13.630Z"
   },
   {
    "duration": 13,
    "start_time": "2024-02-18T15:15:37.839Z"
   },
   {
    "duration": 22368,
    "start_time": "2024-02-18T15:15:37.854Z"
   },
   {
    "duration": 15005,
    "start_time": "2024-02-18T15:16:00.224Z"
   },
   {
    "duration": 6512,
    "start_time": "2024-02-18T15:16:15.236Z"
   },
   {
    "duration": 4201,
    "start_time": "2024-02-18T15:16:21.750Z"
   },
   {
    "duration": 23473,
    "start_time": "2024-02-18T15:16:25.952Z"
   },
   {
    "duration": 9904,
    "start_time": "2024-02-18T15:16:49.427Z"
   },
   {
    "duration": 77157,
    "start_time": "2024-02-18T15:16:59.333Z"
   },
   {
    "duration": 12481,
    "start_time": "2024-02-18T15:18:16.491Z"
   },
   {
    "duration": 13,
    "start_time": "2024-02-18T15:18:28.974Z"
   },
   {
    "duration": 24,
    "start_time": "2024-02-18T15:18:28.988Z"
   },
   {
    "duration": 20,
    "start_time": "2024-02-18T15:18:29.023Z"
   },
   {
    "duration": 12090,
    "start_time": "2024-02-18T15:18:29.044Z"
   },
   {
    "duration": 9729,
    "start_time": "2024-02-25T10:32:57.351Z"
   },
   {
    "duration": 6795,
    "start_time": "2024-02-25T10:33:11.713Z"
   },
   {
    "duration": 4,
    "start_time": "2024-02-25T10:33:30.932Z"
   },
   {
    "duration": 217,
    "start_time": "2024-02-25T10:33:30.938Z"
   },
   {
    "duration": 2182,
    "start_time": "2024-02-25T10:33:31.156Z"
   },
   {
    "duration": 2904,
    "start_time": "2024-02-25T10:33:33.340Z"
   },
   {
    "duration": 1464,
    "start_time": "2024-02-25T10:33:36.245Z"
   },
   {
    "duration": 500,
    "start_time": "2024-02-25T10:33:37.710Z"
   },
   {
    "duration": 1135,
    "start_time": "2024-02-25T10:33:38.211Z"
   },
   {
    "duration": 743,
    "start_time": "2024-02-25T10:33:39.348Z"
   },
   {
    "duration": 230,
    "start_time": "2024-02-25T10:33:40.094Z"
   },
   {
    "duration": 94,
    "start_time": "2024-02-25T10:33:40.325Z"
   },
   {
    "duration": 625,
    "start_time": "2024-02-25T10:33:40.421Z"
   },
   {
    "duration": 1018,
    "start_time": "2024-02-25T10:33:41.047Z"
   },
   {
    "duration": 361,
    "start_time": "2024-02-25T10:33:42.066Z"
   },
   {
    "duration": 114,
    "start_time": "2024-02-25T10:33:42.429Z"
   },
   {
    "duration": 1308,
    "start_time": "2024-02-25T10:33:42.546Z"
   },
   {
    "duration": 1452,
    "start_time": "2024-02-25T10:33:43.856Z"
   },
   {
    "duration": 344,
    "start_time": "2024-02-25T10:33:45.309Z"
   },
   {
    "duration": 90,
    "start_time": "2024-02-25T10:33:45.654Z"
   },
   {
    "duration": 64,
    "start_time": "2024-02-25T10:33:45.746Z"
   },
   {
    "duration": 203,
    "start_time": "2024-02-25T10:33:45.812Z"
   },
   {
    "duration": 1850,
    "start_time": "2024-02-25T10:33:46.017Z"
   },
   {
    "duration": 24,
    "start_time": "2024-02-25T10:33:47.869Z"
   },
   {
    "duration": 46,
    "start_time": "2024-02-25T10:33:47.894Z"
   },
   {
    "duration": 204,
    "start_time": "2024-02-25T10:33:47.944Z"
   },
   {
    "duration": 4097,
    "start_time": "2024-02-25T10:33:48.150Z"
   },
   {
    "duration": 206,
    "start_time": "2024-02-25T10:33:52.249Z"
   },
   {
    "duration": 41,
    "start_time": "2024-02-25T10:33:52.457Z"
   },
   {
    "duration": 118,
    "start_time": "2024-02-25T10:33:52.500Z"
   },
   {
    "duration": 416,
    "start_time": "2024-02-25T10:33:52.619Z"
   },
   {
    "duration": 389,
    "start_time": "2024-02-25T10:33:53.037Z"
   },
   {
    "duration": 385,
    "start_time": "2024-02-25T10:33:53.428Z"
   },
   {
    "duration": 141,
    "start_time": "2024-02-25T10:33:53.815Z"
   },
   {
    "duration": 135,
    "start_time": "2024-02-25T10:33:53.958Z"
   },
   {
    "duration": 125,
    "start_time": "2024-02-25T10:33:54.096Z"
   },
   {
    "duration": 106,
    "start_time": "2024-02-25T10:33:54.222Z"
   },
   {
    "duration": 122,
    "start_time": "2024-02-25T10:33:54.329Z"
   },
   {
    "duration": 281,
    "start_time": "2024-02-25T10:33:54.452Z"
   },
   {
    "duration": 63,
    "start_time": "2024-02-25T10:33:54.734Z"
   },
   {
    "duration": 3,
    "start_time": "2024-02-25T10:33:54.799Z"
   },
   {
    "duration": 10,
    "start_time": "2024-02-25T10:33:54.804Z"
   },
   {
    "duration": 48558,
    "start_time": "2024-02-25T10:33:54.815Z"
   },
   {
    "duration": 5411,
    "start_time": "2024-02-25T10:34:43.374Z"
   },
   {
    "duration": 5441,
    "start_time": "2024-02-25T10:34:48.787Z"
   },
   {
    "duration": 119,
    "start_time": "2024-02-25T10:34:54.230Z"
   },
   {
    "duration": 7,
    "start_time": "2024-02-25T10:34:54.351Z"
   },
   {
    "duration": 415,
    "start_time": "2024-02-25T10:34:54.360Z"
   },
   {
    "duration": 68,
    "start_time": "2024-02-25T10:34:54.776Z"
   },
   {
    "duration": 73,
    "start_time": "2024-02-25T10:34:54.845Z"
   },
   {
    "duration": 127,
    "start_time": "2024-02-25T10:34:54.920Z"
   },
   {
    "duration": 4,
    "start_time": "2024-02-25T10:34:55.049Z"
   },
   {
    "duration": 15940,
    "start_time": "2024-02-25T10:34:55.055Z"
   },
   {
    "duration": 5045,
    "start_time": "2024-02-25T10:35:11.000Z"
   },
   {
    "duration": 4854,
    "start_time": "2024-02-25T10:35:16.047Z"
   },
   {
    "duration": 24043,
    "start_time": "2024-02-25T10:35:20.903Z"
   },
   {
    "duration": 14,
    "start_time": "2024-02-25T10:35:44.947Z"
   },
   {
    "duration": 26232,
    "start_time": "2024-02-25T10:35:44.962Z"
   },
   {
    "duration": 15999,
    "start_time": "2024-02-25T10:36:11.196Z"
   },
   {
    "duration": 6226,
    "start_time": "2024-02-25T10:36:27.198Z"
   },
   {
    "duration": 4079,
    "start_time": "2024-02-25T10:36:33.425Z"
   },
   {
    "duration": 25494,
    "start_time": "2024-02-25T10:36:37.506Z"
   },
   {
    "duration": 10201,
    "start_time": "2024-02-25T10:37:03.002Z"
   },
   {
    "duration": 85471,
    "start_time": "2024-02-25T10:37:13.205Z"
   },
   {
    "duration": 12220,
    "start_time": "2024-02-25T10:38:38.677Z"
   },
   {
    "duration": 13,
    "start_time": "2024-02-25T10:38:50.899Z"
   },
   {
    "duration": 20,
    "start_time": "2024-02-25T10:38:50.914Z"
   },
   {
    "duration": 21,
    "start_time": "2024-02-25T10:38:50.936Z"
   },
   {
    "duration": 12386,
    "start_time": "2024-02-25T10:38:50.959Z"
   },
   {
    "duration": 623,
    "start_time": "2024-02-25T10:41:48.674Z"
   },
   {
    "duration": 15,
    "start_time": "2024-02-25T10:41:59.735Z"
   },
   {
    "duration": 1674,
    "start_time": "2024-02-25T10:45:42.634Z"
   },
   {
    "duration": 13,
    "start_time": "2024-02-25T10:46:03.632Z"
   },
   {
    "duration": 20,
    "start_time": "2024-02-25T10:46:14.172Z"
   },
   {
    "duration": 18,
    "start_time": "2024-02-25T10:46:20.459Z"
   },
   {
    "duration": 4065,
    "start_time": "2024-02-25T10:46:45.648Z"
   },
   {
    "duration": 465,
    "start_time": "2024-02-25T10:46:56.742Z"
   },
   {
    "duration": 17,
    "start_time": "2024-02-25T10:47:05.657Z"
   },
   {
    "duration": 474,
    "start_time": "2024-02-25T10:47:24.282Z"
   },
   {
    "duration": 13,
    "start_time": "2024-02-25T10:47:38.717Z"
   },
   {
    "duration": 19,
    "start_time": "2024-02-25T10:47:48.286Z"
   },
   {
    "duration": 14,
    "start_time": "2024-02-25T10:50:44.085Z"
   },
   {
    "duration": 13,
    "start_time": "2024-02-25T10:51:22.263Z"
   },
   {
    "duration": 21,
    "start_time": "2024-02-25T10:53:03.536Z"
   },
   {
    "duration": 19,
    "start_time": "2024-02-25T10:53:07.696Z"
   },
   {
    "duration": 6,
    "start_time": "2024-02-25T10:53:57.930Z"
   },
   {
    "duration": 332,
    "start_time": "2024-02-25T10:54:09.468Z"
   },
   {
    "duration": 96,
    "start_time": "2024-02-25T10:54:53.503Z"
   },
   {
    "duration": 5,
    "start_time": "2024-02-25T10:55:30.204Z"
   },
   {
    "duration": 325,
    "start_time": "2024-02-25T10:55:44.381Z"
   },
   {
    "duration": 62,
    "start_time": "2024-02-25T10:55:51.407Z"
   },
   {
    "duration": 149,
    "start_time": "2024-02-25T10:56:36.167Z"
   },
   {
    "duration": 4,
    "start_time": "2024-02-25T11:00:17.383Z"
   },
   {
    "duration": 6,
    "start_time": "2024-02-25T11:00:17.389Z"
   },
   {
    "duration": 1793,
    "start_time": "2024-02-25T11:00:17.396Z"
   },
   {
    "duration": 999,
    "start_time": "2024-02-25T11:00:19.192Z"
   },
   {
    "duration": 1535,
    "start_time": "2024-02-25T11:00:20.192Z"
   },
   {
    "duration": 538,
    "start_time": "2024-02-25T11:00:21.728Z"
   },
   {
    "duration": 1228,
    "start_time": "2024-02-25T11:00:22.268Z"
   },
   {
    "duration": 767,
    "start_time": "2024-02-25T11:00:23.498Z"
   },
   {
    "duration": 109,
    "start_time": "2024-02-25T11:00:24.268Z"
   },
   {
    "duration": 122,
    "start_time": "2024-02-25T11:00:24.379Z"
   },
   {
    "duration": 651,
    "start_time": "2024-02-25T11:00:24.503Z"
   },
   {
    "duration": 960,
    "start_time": "2024-02-25T11:00:25.156Z"
   },
   {
    "duration": 506,
    "start_time": "2024-02-25T11:00:26.118Z"
   },
   {
    "duration": 111,
    "start_time": "2024-02-25T11:00:26.626Z"
   },
   {
    "duration": 1382,
    "start_time": "2024-02-25T11:00:26.739Z"
   },
   {
    "duration": 1397,
    "start_time": "2024-02-25T11:00:28.123Z"
   },
   {
    "duration": 474,
    "start_time": "2024-02-25T11:00:29.521Z"
   },
   {
    "duration": 105,
    "start_time": "2024-02-25T11:00:29.996Z"
   },
   {
    "duration": 44,
    "start_time": "2024-02-25T11:00:30.103Z"
   },
   {
    "duration": 223,
    "start_time": "2024-02-25T11:00:30.148Z"
   },
   {
    "duration": 1928,
    "start_time": "2024-02-25T11:00:30.373Z"
   },
   {
    "duration": 18,
    "start_time": "2024-02-25T11:00:32.303Z"
   },
   {
    "duration": 119,
    "start_time": "2024-02-25T11:00:32.322Z"
   },
   {
    "duration": 179,
    "start_time": "2024-02-25T11:00:32.445Z"
   },
   {
    "duration": 3987,
    "start_time": "2024-02-25T11:00:32.625Z"
   },
   {
    "duration": 226,
    "start_time": "2024-02-25T11:00:36.614Z"
   },
   {
    "duration": 33,
    "start_time": "2024-02-25T11:00:36.842Z"
   },
   {
    "duration": 135,
    "start_time": "2024-02-25T11:00:36.876Z"
   },
   {
    "duration": 505,
    "start_time": "2024-02-25T11:00:37.013Z"
   },
   {
    "duration": 387,
    "start_time": "2024-02-25T11:00:37.519Z"
   },
   {
    "duration": 414,
    "start_time": "2024-02-25T11:00:37.908Z"
   },
   {
    "duration": 112,
    "start_time": "2024-02-25T11:00:38.323Z"
   },
   {
    "duration": 105,
    "start_time": "2024-02-25T11:00:38.436Z"
   },
   {
    "duration": 103,
    "start_time": "2024-02-25T11:00:38.543Z"
   },
   {
    "duration": 83,
    "start_time": "2024-02-25T11:00:38.648Z"
   },
   {
    "duration": 115,
    "start_time": "2024-02-25T11:00:38.732Z"
   },
   {
    "duration": 276,
    "start_time": "2024-02-25T11:00:38.848Z"
   },
   {
    "duration": 55,
    "start_time": "2024-02-25T11:00:39.125Z"
   },
   {
    "duration": 3,
    "start_time": "2024-02-25T11:00:39.191Z"
   },
   {
    "duration": 11,
    "start_time": "2024-02-25T11:00:39.195Z"
   },
   {
    "duration": 46074,
    "start_time": "2024-02-25T11:00:39.208Z"
   },
   {
    "duration": 5683,
    "start_time": "2024-02-25T11:01:25.284Z"
   },
   {
    "duration": 5308,
    "start_time": "2024-02-25T11:01:30.969Z"
   },
   {
    "duration": 114,
    "start_time": "2024-02-25T11:01:36.279Z"
   },
   {
    "duration": 7,
    "start_time": "2024-02-25T11:01:36.395Z"
   },
   {
    "duration": 421,
    "start_time": "2024-02-25T11:01:36.404Z"
   },
   {
    "duration": 68,
    "start_time": "2024-02-25T11:01:36.826Z"
   },
   {
    "duration": 67,
    "start_time": "2024-02-25T11:01:36.896Z"
   },
   {
    "duration": 140,
    "start_time": "2024-02-25T11:01:36.965Z"
   },
   {
    "duration": 7,
    "start_time": "2024-02-25T11:01:37.106Z"
   },
   {
    "duration": 16576,
    "start_time": "2024-02-25T11:01:37.115Z"
   },
   {
    "duration": 6107,
    "start_time": "2024-02-25T11:01:53.694Z"
   },
   {
    "duration": 24348,
    "start_time": "2024-02-25T11:01:59.803Z"
   },
   {
    "duration": 13,
    "start_time": "2024-02-25T11:02:24.153Z"
   },
   {
    "duration": 24233,
    "start_time": "2024-02-25T11:02:24.168Z"
   },
   {
    "duration": 16202,
    "start_time": "2024-02-25T11:02:48.492Z"
   },
   {
    "duration": 25900,
    "start_time": "2024-02-25T11:03:04.697Z"
   },
   {
    "duration": 13212,
    "start_time": "2024-02-25T11:03:30.599Z"
   },
   {
    "duration": 87570,
    "start_time": "2024-02-25T11:03:43.813Z"
   },
   {
    "duration": 12620,
    "start_time": "2024-02-25T11:05:11.385Z"
   },
   {
    "duration": 16,
    "start_time": "2024-02-25T11:05:24.007Z"
   },
   {
    "duration": 33,
    "start_time": "2024-02-25T11:05:24.025Z"
   },
   {
    "duration": 31,
    "start_time": "2024-02-25T11:05:24.060Z"
   },
   {
    "duration": 12451,
    "start_time": "2024-02-25T11:05:24.093Z"
   },
   {
    "duration": 10472,
    "start_time": "2024-02-25T11:08:47.820Z"
   },
   {
    "duration": 12,
    "start_time": "2024-02-25T11:09:15.324Z"
   },
   {
    "duration": 19,
    "start_time": "2024-02-25T11:09:56.582Z"
   },
   {
    "duration": 3,
    "start_time": "2024-02-25T14:11:46.113Z"
   },
   {
    "duration": 25,
    "start_time": "2024-02-25T14:11:46.118Z"
   },
   {
    "duration": 1734,
    "start_time": "2024-02-25T14:11:46.145Z"
   },
   {
    "duration": 956,
    "start_time": "2024-02-25T14:11:47.881Z"
   },
   {
    "duration": 1544,
    "start_time": "2024-02-25T14:11:48.838Z"
   },
   {
    "duration": 548,
    "start_time": "2024-02-25T14:11:50.383Z"
   },
   {
    "duration": 1227,
    "start_time": "2024-02-25T14:11:50.933Z"
   },
   {
    "duration": 713,
    "start_time": "2024-02-25T14:11:52.162Z"
   },
   {
    "duration": 122,
    "start_time": "2024-02-25T14:11:52.877Z"
   },
   {
    "duration": 98,
    "start_time": "2024-02-25T14:11:53.001Z"
   },
   {
    "duration": 665,
    "start_time": "2024-02-25T14:11:53.101Z"
   },
   {
    "duration": 931,
    "start_time": "2024-02-25T14:11:53.768Z"
   },
   {
    "duration": 479,
    "start_time": "2024-02-25T14:11:54.701Z"
   },
   {
    "duration": 109,
    "start_time": "2024-02-25T14:11:55.182Z"
   },
   {
    "duration": 1346,
    "start_time": "2024-02-25T14:11:55.293Z"
   },
   {
    "duration": 1422,
    "start_time": "2024-02-25T14:11:56.641Z"
   },
   {
    "duration": 486,
    "start_time": "2024-02-25T14:11:58.064Z"
   },
   {
    "duration": 93,
    "start_time": "2024-02-25T14:11:58.552Z"
   },
   {
    "duration": 54,
    "start_time": "2024-02-25T14:11:58.647Z"
   },
   {
    "duration": 201,
    "start_time": "2024-02-25T14:11:58.702Z"
   },
   {
    "duration": 1862,
    "start_time": "2024-02-25T14:11:58.905Z"
   },
   {
    "duration": 23,
    "start_time": "2024-02-25T14:12:00.769Z"
   },
   {
    "duration": 68,
    "start_time": "2024-02-25T14:12:00.794Z"
   },
   {
    "duration": 236,
    "start_time": "2024-02-25T14:12:00.866Z"
   },
   {
    "duration": 4097,
    "start_time": "2024-02-25T14:12:01.103Z"
   },
   {
    "duration": 219,
    "start_time": "2024-02-25T14:12:05.202Z"
   },
   {
    "duration": 33,
    "start_time": "2024-02-25T14:12:05.423Z"
   },
   {
    "duration": 140,
    "start_time": "2024-02-25T14:12:05.458Z"
   },
   {
    "duration": 578,
    "start_time": "2024-02-25T14:12:05.599Z"
   },
   {
    "duration": 461,
    "start_time": "2024-02-25T14:12:06.179Z"
   },
   {
    "duration": 431,
    "start_time": "2024-02-25T14:12:06.642Z"
   },
   {
    "duration": 120,
    "start_time": "2024-02-25T14:12:07.075Z"
   },
   {
    "duration": 103,
    "start_time": "2024-02-25T14:12:07.197Z"
   },
   {
    "duration": 116,
    "start_time": "2024-02-25T14:12:07.302Z"
   },
   {
    "duration": 89,
    "start_time": "2024-02-25T14:12:07.419Z"
   },
   {
    "duration": 138,
    "start_time": "2024-02-25T14:12:07.510Z"
   },
   {
    "duration": 300,
    "start_time": "2024-02-25T14:12:07.650Z"
   },
   {
    "duration": 70,
    "start_time": "2024-02-25T14:12:07.952Z"
   },
   {
    "duration": 3,
    "start_time": "2024-02-25T14:12:08.025Z"
   },
   {
    "duration": 10,
    "start_time": "2024-02-25T14:12:08.029Z"
   },
   {
    "duration": 40954,
    "start_time": "2024-02-25T14:12:08.040Z"
   },
   {
    "duration": 4706,
    "start_time": "2024-02-25T14:12:48.996Z"
   },
   {
    "duration": 4963,
    "start_time": "2024-02-25T14:12:53.704Z"
   },
   {
    "duration": 133,
    "start_time": "2024-02-25T14:12:58.669Z"
   },
   {
    "duration": 9,
    "start_time": "2024-02-25T14:12:58.804Z"
   },
   {
    "duration": 466,
    "start_time": "2024-02-25T14:12:58.815Z"
   },
   {
    "duration": 59,
    "start_time": "2024-02-25T14:12:59.283Z"
   },
   {
    "duration": 78,
    "start_time": "2024-02-25T14:12:59.345Z"
   },
   {
    "duration": 126,
    "start_time": "2024-02-25T14:12:59.425Z"
   },
   {
    "duration": 4,
    "start_time": "2024-02-25T14:12:59.553Z"
   },
   {
    "duration": 16836,
    "start_time": "2024-02-25T14:12:59.559Z"
   },
   {
    "duration": 5606,
    "start_time": "2024-02-25T14:13:16.491Z"
   },
   {
    "duration": 24169,
    "start_time": "2024-02-25T14:13:22.099Z"
   },
   {
    "duration": 13,
    "start_time": "2024-02-25T14:13:46.270Z"
   },
   {
    "duration": 24212,
    "start_time": "2024-02-25T14:13:46.284Z"
   },
   {
    "duration": 16698,
    "start_time": "2024-02-25T14:14:10.498Z"
   },
   {
    "duration": 24695,
    "start_time": "2024-02-25T14:14:27.199Z"
   },
   {
    "duration": 15498,
    "start_time": "2024-02-25T14:14:51.895Z"
   },
   {
    "duration": 85847,
    "start_time": "2024-02-25T14:15:07.394Z"
   },
   {
    "duration": 12448,
    "start_time": "2024-02-25T14:16:33.242Z"
   },
   {
    "duration": 12,
    "start_time": "2024-02-25T14:16:45.692Z"
   },
   {
    "duration": 25,
    "start_time": "2024-02-25T14:16:45.706Z"
   },
   {
    "duration": 23,
    "start_time": "2024-02-25T14:16:45.732Z"
   },
   {
    "duration": 12524,
    "start_time": "2024-02-25T14:16:45.756Z"
   },
   {
    "duration": 9995,
    "start_time": "2024-02-25T14:20:25.223Z"
   },
   {
    "duration": 14,
    "start_time": "2024-02-25T14:20:43.892Z"
   },
   {
    "duration": 18,
    "start_time": "2024-02-25T14:21:50.110Z"
   },
   {
    "duration": 4,
    "start_time": "2024-02-25T14:49:57.705Z"
   },
   {
    "duration": 32,
    "start_time": "2024-02-25T14:49:57.711Z"
   },
   {
    "duration": 1803,
    "start_time": "2024-02-25T14:49:57.745Z"
   },
   {
    "duration": 991,
    "start_time": "2024-02-25T14:49:59.549Z"
   },
   {
    "duration": 1516,
    "start_time": "2024-02-25T14:50:00.543Z"
   },
   {
    "duration": 547,
    "start_time": "2024-02-25T14:50:02.062Z"
   },
   {
    "duration": 1175,
    "start_time": "2024-02-25T14:50:02.611Z"
   },
   {
    "duration": 737,
    "start_time": "2024-02-25T14:50:03.789Z"
   },
   {
    "duration": 121,
    "start_time": "2024-02-25T14:50:04.528Z"
   },
   {
    "duration": 162,
    "start_time": "2024-02-25T14:50:04.651Z"
   },
   {
    "duration": 655,
    "start_time": "2024-02-25T14:50:04.817Z"
   },
   {
    "duration": 974,
    "start_time": "2024-02-25T14:50:05.474Z"
   },
   {
    "duration": 547,
    "start_time": "2024-02-25T14:50:06.450Z"
   },
   {
    "duration": 111,
    "start_time": "2024-02-25T14:50:06.998Z"
   },
   {
    "duration": 1358,
    "start_time": "2024-02-25T14:50:07.111Z"
   },
   {
    "duration": 1400,
    "start_time": "2024-02-25T14:50:08.471Z"
   },
   {
    "duration": 471,
    "start_time": "2024-02-25T14:50:09.873Z"
   },
   {
    "duration": 95,
    "start_time": "2024-02-25T14:50:10.346Z"
   },
   {
    "duration": 55,
    "start_time": "2024-02-25T14:50:10.443Z"
   },
   {
    "duration": 203,
    "start_time": "2024-02-25T14:50:10.499Z"
   },
   {
    "duration": 1918,
    "start_time": "2024-02-25T14:50:10.704Z"
   },
   {
    "duration": 18,
    "start_time": "2024-02-25T14:50:12.624Z"
   },
   {
    "duration": 65,
    "start_time": "2024-02-25T14:50:12.644Z"
   },
   {
    "duration": 190,
    "start_time": "2024-02-25T14:50:12.711Z"
   },
   {
    "duration": 4114,
    "start_time": "2024-02-25T14:50:12.902Z"
   },
   {
    "duration": 220,
    "start_time": "2024-02-25T14:50:17.017Z"
   },
   {
    "duration": 33,
    "start_time": "2024-02-25T14:50:17.239Z"
   },
   {
    "duration": 133,
    "start_time": "2024-02-25T14:50:17.273Z"
   },
   {
    "duration": 543,
    "start_time": "2024-02-25T14:50:17.410Z"
   },
   {
    "duration": 409,
    "start_time": "2024-02-25T14:50:17.955Z"
   },
   {
    "duration": 391,
    "start_time": "2024-02-25T14:50:18.365Z"
   },
   {
    "duration": 112,
    "start_time": "2024-02-25T14:50:18.758Z"
   },
   {
    "duration": 108,
    "start_time": "2024-02-25T14:50:18.872Z"
   },
   {
    "duration": 102,
    "start_time": "2024-02-25T14:50:18.982Z"
   },
   {
    "duration": 105,
    "start_time": "2024-02-25T14:50:19.091Z"
   },
   {
    "duration": 114,
    "start_time": "2024-02-25T14:50:19.197Z"
   },
   {
    "duration": 285,
    "start_time": "2024-02-25T14:50:19.312Z"
   },
   {
    "duration": 55,
    "start_time": "2024-02-25T14:50:19.599Z"
   },
   {
    "duration": 3,
    "start_time": "2024-02-25T14:50:19.655Z"
   },
   {
    "duration": 13,
    "start_time": "2024-02-25T14:50:19.660Z"
   },
   {
    "duration": 40892,
    "start_time": "2024-02-25T14:50:19.675Z"
   },
   {
    "duration": 5445,
    "start_time": "2024-02-25T14:51:00.569Z"
   },
   {
    "duration": 4948,
    "start_time": "2024-02-25T14:51:06.016Z"
   },
   {
    "duration": 123,
    "start_time": "2024-02-25T14:51:10.966Z"
   },
   {
    "duration": 7,
    "start_time": "2024-02-25T14:51:11.090Z"
   },
   {
    "duration": 443,
    "start_time": "2024-02-25T14:51:11.099Z"
   },
   {
    "duration": 61,
    "start_time": "2024-02-25T14:51:11.544Z"
   },
   {
    "duration": 65,
    "start_time": "2024-02-25T14:51:11.606Z"
   },
   {
    "duration": 133,
    "start_time": "2024-02-25T14:51:11.673Z"
   },
   {
    "duration": 8,
    "start_time": "2024-02-25T14:51:11.807Z"
   },
   {
    "duration": 16676,
    "start_time": "2024-02-25T14:51:11.816Z"
   },
   {
    "duration": 8307,
    "start_time": "2024-02-25T14:51:28.495Z"
   },
   {
    "duration": 24638,
    "start_time": "2024-02-25T14:51:36.803Z"
   },
   {
    "duration": 14,
    "start_time": "2024-02-25T14:52:01.443Z"
   },
   {
    "duration": 25138,
    "start_time": "2024-02-25T14:52:01.458Z"
   },
   {
    "duration": 16800,
    "start_time": "2024-02-25T14:52:26.598Z"
   },
   {
    "duration": 32199,
    "start_time": "2024-02-25T14:52:43.402Z"
   },
   {
    "duration": 11992,
    "start_time": "2024-02-25T14:53:15.603Z"
   },
   {
    "duration": 84079,
    "start_time": "2024-02-25T14:53:27.597Z"
   },
   {
    "duration": 13188,
    "start_time": "2024-02-25T14:54:51.678Z"
   },
   {
    "duration": 12,
    "start_time": "2024-02-25T14:55:04.868Z"
   },
   {
    "duration": 37,
    "start_time": "2024-02-25T14:55:04.882Z"
   },
   {
    "duration": 45,
    "start_time": "2024-02-25T14:55:04.921Z"
   },
   {
    "duration": 12463,
    "start_time": "2024-02-25T14:55:04.968Z"
   }
  ],
  "kernelspec": {
   "display_name": "Python 3 (ipykernel)",
   "language": "python",
   "name": "python3"
  },
  "language_info": {
   "codemirror_mode": {
    "name": "ipython",
    "version": 3
   },
   "file_extension": ".py",
   "mimetype": "text/x-python",
   "name": "python",
   "nbconvert_exporter": "python",
   "pygments_lexer": "ipython3",
   "version": "3.9.5"
  },
  "toc": {
   "base_numbering": 1,
   "nav_menu": {},
   "number_sections": true,
   "sideBar": true,
   "skip_h1_title": true,
   "title_cell": "Table of Contents",
   "title_sidebar": "Contents",
   "toc_cell": false,
   "toc_position": {},
   "toc_section_display": true,
   "toc_window_display": true
  }
 },
 "nbformat": 4,
 "nbformat_minor": 2
}
