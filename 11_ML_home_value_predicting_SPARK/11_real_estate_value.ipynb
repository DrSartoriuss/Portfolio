{
 "cells": [
  {
   "cell_type": "markdown",
   "id": "GEqQaHzsZ_bA",
   "metadata": {
    "id": "GEqQaHzsZ_bA"
   },
   "source": [
    "# Предсказание стоимости жилья\n",
    "\n"
   ]
  },
  {
   "cell_type": "markdown",
   "id": "4bbfc433",
   "metadata": {},
   "source": [
    "## Введение\n",
    "\n",
    "В проекте требуется обучить модель Линейной регрессии на основе данных о жилье в Калифорнии в 1990 году и на тестовой выборке предсказать медианную стоимость дома в жилом массиве. Для оценки качества модели использовать метрики RMSE, MAE и R2.\n",
    "\n",
    "**План выполнения проекта:**\n",
    "\n",
    "- Инициализировать локальную Spark-сессию.\n",
    "\n",
    "- Прочитать содержимое файла /datasets/housing.csv.\n",
    "\n",
    "- Вывести типы данных колонок датасета, используя методы pySpark.\n",
    "\n",
    "- Выполнить предобработку данных: \n",
    "   - Исследовать данные на наличие пропусков и заполним их;\n",
    "   - Преобразовать колонку с категориальными значениями техникой One_hot_encoding.\n",
    "\n",
    "- Построить две модели Линейной регрессии на разных наборах данных:  \n",
    "   - используя все данные из файла;\n",
    "   - используя только числовые переменные, исключив категориальные.\n",
    "\n",
    "- Сравнить результаты работы Линейной регрессии на двух наборах данных по метрикам RMSE, MAE и R2. \n",
    "\n",
    "- Сделать и оформить выводы. \n",
    "\n",
    "- Закрыть локальную Spark-сессию."
   ]
  },
  {
   "cell_type": "markdown",
   "id": "53435ccb",
   "metadata": {},
   "source": [
    "##  Загрузка и изучение данных"
   ]
  },
  {
   "cell_type": "code",
   "execution_count": 1,
   "id": "31326805",
   "metadata": {},
   "outputs": [],
   "source": [
    "# загружаем библиотеки\n",
    "import pandas as pd \n",
    "import numpy as np\n",
    "import matplotlib.pyplot as plt\n",
    "\n",
    "import pyspark\n",
    "from pyspark.sql import SparkSession\n",
    "from pyspark.sql.types import *\n",
    "from pyspark.sql.functions import *\n",
    "import pyspark.sql.functions as F\n",
    "\n",
    "from pyspark.ml.feature import StringIndexer, VectorAssembler, StandardScaler, OneHotEncoder \n",
    "from pyspark.ml.regression import LinearRegression\n",
    "from pyspark.mllib.evaluation import RegressionMetrics\n",
    "from pyspark.ml.evaluation import RegressionEvaluator\n",
    "\n",
    "RANDOM_SEED = 12345"
   ]
  },
  {
   "cell_type": "code",
   "execution_count": 2,
   "id": "ae15d8df",
   "metadata": {},
   "outputs": [],
   "source": [
    "# запускаем локальную Spark сессию\n",
    "spark = (SparkSession\n",
    "              .builder \n",
    "              .master(\"local\")\n",
    "              .appName(\"EDA California Housing\")\n",
    "              .getOrCreate()\n",
    "         )"
   ]
  },
  {
   "cell_type": "code",
   "execution_count": 3,
   "id": "c4123c2b",
   "metadata": {},
   "outputs": [
    {
     "name": "stderr",
     "output_type": "stream",
     "text": [
      "                                                                                \r"
     ]
    },
    {
     "name": "stdout",
     "output_type": "stream",
     "text": [
      "root\n",
      " |-- longitude: double (nullable = true)\n",
      " |-- latitude: double (nullable = true)\n",
      " |-- housing_median_age: double (nullable = true)\n",
      " |-- total_rooms: double (nullable = true)\n",
      " |-- total_bedrooms: double (nullable = true)\n",
      " |-- population: double (nullable = true)\n",
      " |-- households: double (nullable = true)\n",
      " |-- median_income: double (nullable = true)\n",
      " |-- median_house_value: double (nullable = true)\n",
      " |-- ocean_proximity: string (nullable = true)\n",
      "\n"
     ]
    },
    {
     "data": {
      "text/plain": [
       "20640"
      ]
     },
     "execution_count": 3,
     "metadata": {},
     "output_type": "execute_result"
    }
   ],
   "source": [
    "# читаем файл\n",
    "df_housing = spark.read.load('/datasets/housing.csv', \n",
    "                             format=\"csv\", sep=\",\", \n",
    "                             inferSchema=True, header=\"true\")\n",
    "\n",
    "df_housing.printSchema()\n",
    "df_housing.count()"
   ]
  },
  {
   "cell_type": "code",
   "execution_count": 4,
   "id": "a6a23f45",
   "metadata": {},
   "outputs": [
    {
     "name": "stdout",
     "output_type": "stream",
     "text": [
      "               column    type\n",
      "0           longitude  double\n",
      "1            latitude  double\n",
      "2  housing_median_age  double\n",
      "3         total_rooms  double\n",
      "4      total_bedrooms  double\n",
      "5          population  double\n",
      "6          households  double\n",
      "7       median_income  double\n",
      "8  median_house_value  double\n",
      "9     ocean_proximity  string\n"
     ]
    }
   ],
   "source": [
    "# выводим названия колонок и тип данных\n",
    "print(pd.DataFrame(df_housing.dtypes, columns=['column', 'type']).head(10))"
   ]
  },
  {
   "cell_type": "markdown",
   "id": "c12e4b5a",
   "metadata": {},
   "source": [
    "- В одном столбце строковые данные. В осталных столбцах данные числовые (аналог flot).   "
   ]
  },
  {
   "cell_type": "code",
   "execution_count": 5,
   "id": "2d2a34b7",
   "metadata": {},
   "outputs": [
    {
     "data": {
      "text/html": [
       "<div>\n",
       "<style scoped>\n",
       "    .dataframe tbody tr th:only-of-type {\n",
       "        vertical-align: middle;\n",
       "    }\n",
       "\n",
       "    .dataframe tbody tr th {\n",
       "        vertical-align: top;\n",
       "    }\n",
       "\n",
       "    .dataframe thead th {\n",
       "        text-align: right;\n",
       "    }\n",
       "</style>\n",
       "<table border=\"1\" class=\"dataframe\">\n",
       "  <thead>\n",
       "    <tr style=\"text-align: right;\">\n",
       "      <th></th>\n",
       "      <th>longitude</th>\n",
       "      <th>latitude</th>\n",
       "      <th>housing_median_age</th>\n",
       "      <th>total_rooms</th>\n",
       "      <th>total_bedrooms</th>\n",
       "      <th>population</th>\n",
       "      <th>households</th>\n",
       "      <th>median_income</th>\n",
       "      <th>median_house_value</th>\n",
       "      <th>ocean_proximity</th>\n",
       "    </tr>\n",
       "  </thead>\n",
       "  <tbody>\n",
       "    <tr>\n",
       "      <th>0</th>\n",
       "      <td>-122.23</td>\n",
       "      <td>37.88</td>\n",
       "      <td>41.0</td>\n",
       "      <td>880.0</td>\n",
       "      <td>129.0</td>\n",
       "      <td>322.0</td>\n",
       "      <td>126.0</td>\n",
       "      <td>8.3252</td>\n",
       "      <td>452600.0</td>\n",
       "      <td>NEAR BAY</td>\n",
       "    </tr>\n",
       "    <tr>\n",
       "      <th>1</th>\n",
       "      <td>-122.22</td>\n",
       "      <td>37.86</td>\n",
       "      <td>21.0</td>\n",
       "      <td>7099.0</td>\n",
       "      <td>1106.0</td>\n",
       "      <td>2401.0</td>\n",
       "      <td>1138.0</td>\n",
       "      <td>8.3014</td>\n",
       "      <td>358500.0</td>\n",
       "      <td>NEAR BAY</td>\n",
       "    </tr>\n",
       "    <tr>\n",
       "      <th>2</th>\n",
       "      <td>-122.24</td>\n",
       "      <td>37.85</td>\n",
       "      <td>52.0</td>\n",
       "      <td>1467.0</td>\n",
       "      <td>190.0</td>\n",
       "      <td>496.0</td>\n",
       "      <td>177.0</td>\n",
       "      <td>7.2574</td>\n",
       "      <td>352100.0</td>\n",
       "      <td>NEAR BAY</td>\n",
       "    </tr>\n",
       "    <tr>\n",
       "      <th>3</th>\n",
       "      <td>-122.25</td>\n",
       "      <td>37.85</td>\n",
       "      <td>52.0</td>\n",
       "      <td>1274.0</td>\n",
       "      <td>235.0</td>\n",
       "      <td>558.0</td>\n",
       "      <td>219.0</td>\n",
       "      <td>5.6431</td>\n",
       "      <td>341300.0</td>\n",
       "      <td>NEAR BAY</td>\n",
       "    </tr>\n",
       "    <tr>\n",
       "      <th>4</th>\n",
       "      <td>-122.25</td>\n",
       "      <td>37.85</td>\n",
       "      <td>52.0</td>\n",
       "      <td>1627.0</td>\n",
       "      <td>280.0</td>\n",
       "      <td>565.0</td>\n",
       "      <td>259.0</td>\n",
       "      <td>3.8462</td>\n",
       "      <td>342200.0</td>\n",
       "      <td>NEAR BAY</td>\n",
       "    </tr>\n",
       "    <tr>\n",
       "      <th>5</th>\n",
       "      <td>-122.25</td>\n",
       "      <td>37.85</td>\n",
       "      <td>52.0</td>\n",
       "      <td>919.0</td>\n",
       "      <td>213.0</td>\n",
       "      <td>413.0</td>\n",
       "      <td>193.0</td>\n",
       "      <td>4.0368</td>\n",
       "      <td>269700.0</td>\n",
       "      <td>NEAR BAY</td>\n",
       "    </tr>\n",
       "    <tr>\n",
       "      <th>6</th>\n",
       "      <td>-122.25</td>\n",
       "      <td>37.84</td>\n",
       "      <td>52.0</td>\n",
       "      <td>2535.0</td>\n",
       "      <td>489.0</td>\n",
       "      <td>1094.0</td>\n",
       "      <td>514.0</td>\n",
       "      <td>3.6591</td>\n",
       "      <td>299200.0</td>\n",
       "      <td>NEAR BAY</td>\n",
       "    </tr>\n",
       "    <tr>\n",
       "      <th>7</th>\n",
       "      <td>-122.25</td>\n",
       "      <td>37.84</td>\n",
       "      <td>52.0</td>\n",
       "      <td>3104.0</td>\n",
       "      <td>687.0</td>\n",
       "      <td>1157.0</td>\n",
       "      <td>647.0</td>\n",
       "      <td>3.1200</td>\n",
       "      <td>241400.0</td>\n",
       "      <td>NEAR BAY</td>\n",
       "    </tr>\n",
       "    <tr>\n",
       "      <th>8</th>\n",
       "      <td>-122.26</td>\n",
       "      <td>37.84</td>\n",
       "      <td>42.0</td>\n",
       "      <td>2555.0</td>\n",
       "      <td>665.0</td>\n",
       "      <td>1206.0</td>\n",
       "      <td>595.0</td>\n",
       "      <td>2.0804</td>\n",
       "      <td>226700.0</td>\n",
       "      <td>NEAR BAY</td>\n",
       "    </tr>\n",
       "    <tr>\n",
       "      <th>9</th>\n",
       "      <td>-122.25</td>\n",
       "      <td>37.84</td>\n",
       "      <td>52.0</td>\n",
       "      <td>3549.0</td>\n",
       "      <td>707.0</td>\n",
       "      <td>1551.0</td>\n",
       "      <td>714.0</td>\n",
       "      <td>3.6912</td>\n",
       "      <td>261100.0</td>\n",
       "      <td>NEAR BAY</td>\n",
       "    </tr>\n",
       "  </tbody>\n",
       "</table>\n",
       "</div>"
      ],
      "text/plain": [
       "   longitude  latitude  housing_median_age  total_rooms  total_bedrooms  \\\n",
       "0    -122.23     37.88                41.0        880.0           129.0   \n",
       "1    -122.22     37.86                21.0       7099.0          1106.0   \n",
       "2    -122.24     37.85                52.0       1467.0           190.0   \n",
       "3    -122.25     37.85                52.0       1274.0           235.0   \n",
       "4    -122.25     37.85                52.0       1627.0           280.0   \n",
       "5    -122.25     37.85                52.0        919.0           213.0   \n",
       "6    -122.25     37.84                52.0       2535.0           489.0   \n",
       "7    -122.25     37.84                52.0       3104.0           687.0   \n",
       "8    -122.26     37.84                42.0       2555.0           665.0   \n",
       "9    -122.25     37.84                52.0       3549.0           707.0   \n",
       "\n",
       "   population  households  median_income  median_house_value ocean_proximity  \n",
       "0       322.0       126.0         8.3252            452600.0        NEAR BAY  \n",
       "1      2401.0      1138.0         8.3014            358500.0        NEAR BAY  \n",
       "2       496.0       177.0         7.2574            352100.0        NEAR BAY  \n",
       "3       558.0       219.0         5.6431            341300.0        NEAR BAY  \n",
       "4       565.0       259.0         3.8462            342200.0        NEAR BAY  \n",
       "5       413.0       193.0         4.0368            269700.0        NEAR BAY  \n",
       "6      1094.0       514.0         3.6591            299200.0        NEAR BAY  \n",
       "7      1157.0       647.0         3.1200            241400.0        NEAR BAY  \n",
       "8      1206.0       595.0         2.0804            226700.0        NEAR BAY  \n",
       "9      1551.0       714.0         3.6912            261100.0        NEAR BAY  "
      ]
     },
     "execution_count": 5,
     "metadata": {},
     "output_type": "execute_result"
    }
   ],
   "source": [
    "# смотрим первые 10 строк \n",
    "data_limit = df_housing.limit(10).toPandas()\n",
    "data_limit"
   ]
  },
  {
   "cell_type": "code",
   "execution_count": 6,
   "id": "4f11c931",
   "metadata": {},
   "outputs": [
    {
     "name": "stderr",
     "output_type": "stream",
     "text": [
      "                                                                                \r"
     ]
    },
    {
     "data": {
      "text/html": [
       "<div>\n",
       "<style scoped>\n",
       "    .dataframe tbody tr th:only-of-type {\n",
       "        vertical-align: middle;\n",
       "    }\n",
       "\n",
       "    .dataframe tbody tr th {\n",
       "        vertical-align: top;\n",
       "    }\n",
       "\n",
       "    .dataframe thead th {\n",
       "        text-align: right;\n",
       "    }\n",
       "</style>\n",
       "<table border=\"1\" class=\"dataframe\">\n",
       "  <thead>\n",
       "    <tr style=\"text-align: right;\">\n",
       "      <th></th>\n",
       "      <th>summary</th>\n",
       "      <th>longitude</th>\n",
       "      <th>latitude</th>\n",
       "      <th>housing_median_age</th>\n",
       "      <th>total_rooms</th>\n",
       "      <th>total_bedrooms</th>\n",
       "      <th>population</th>\n",
       "      <th>households</th>\n",
       "      <th>median_income</th>\n",
       "      <th>median_house_value</th>\n",
       "      <th>ocean_proximity</th>\n",
       "    </tr>\n",
       "  </thead>\n",
       "  <tbody>\n",
       "    <tr>\n",
       "      <th>0</th>\n",
       "      <td>count</td>\n",
       "      <td>20640</td>\n",
       "      <td>20640</td>\n",
       "      <td>20640</td>\n",
       "      <td>20640</td>\n",
       "      <td>20433</td>\n",
       "      <td>20640</td>\n",
       "      <td>20640</td>\n",
       "      <td>20640</td>\n",
       "      <td>20640</td>\n",
       "      <td>20640</td>\n",
       "    </tr>\n",
       "    <tr>\n",
       "      <th>1</th>\n",
       "      <td>mean</td>\n",
       "      <td>-119.56970445736148</td>\n",
       "      <td>35.6318614341087</td>\n",
       "      <td>28.639486434108527</td>\n",
       "      <td>2635.7630813953488</td>\n",
       "      <td>537.8705525375618</td>\n",
       "      <td>1425.4767441860465</td>\n",
       "      <td>499.5396802325581</td>\n",
       "      <td>3.8706710029070246</td>\n",
       "      <td>206855.81690891474</td>\n",
       "      <td>None</td>\n",
       "    </tr>\n",
       "    <tr>\n",
       "      <th>2</th>\n",
       "      <td>stddev</td>\n",
       "      <td>2.003531723502584</td>\n",
       "      <td>2.135952397457101</td>\n",
       "      <td>12.58555761211163</td>\n",
       "      <td>2181.6152515827944</td>\n",
       "      <td>421.38507007403115</td>\n",
       "      <td>1132.46212176534</td>\n",
       "      <td>382.3297528316098</td>\n",
       "      <td>1.899821717945263</td>\n",
       "      <td>115395.61587441359</td>\n",
       "      <td>None</td>\n",
       "    </tr>\n",
       "    <tr>\n",
       "      <th>3</th>\n",
       "      <td>min</td>\n",
       "      <td>-124.35</td>\n",
       "      <td>32.54</td>\n",
       "      <td>1.0</td>\n",
       "      <td>2.0</td>\n",
       "      <td>1.0</td>\n",
       "      <td>3.0</td>\n",
       "      <td>1.0</td>\n",
       "      <td>0.4999</td>\n",
       "      <td>14999.0</td>\n",
       "      <td>&lt;1H OCEAN</td>\n",
       "    </tr>\n",
       "    <tr>\n",
       "      <th>4</th>\n",
       "      <td>max</td>\n",
       "      <td>-114.31</td>\n",
       "      <td>41.95</td>\n",
       "      <td>52.0</td>\n",
       "      <td>39320.0</td>\n",
       "      <td>6445.0</td>\n",
       "      <td>35682.0</td>\n",
       "      <td>6082.0</td>\n",
       "      <td>15.0001</td>\n",
       "      <td>500001.0</td>\n",
       "      <td>NEAR OCEAN</td>\n",
       "    </tr>\n",
       "  </tbody>\n",
       "</table>\n",
       "</div>"
      ],
      "text/plain": [
       "  summary            longitude           latitude  housing_median_age  \\\n",
       "0   count                20640              20640               20640   \n",
       "1    mean  -119.56970445736148   35.6318614341087  28.639486434108527   \n",
       "2  stddev    2.003531723502584  2.135952397457101   12.58555761211163   \n",
       "3     min              -124.35              32.54                 1.0   \n",
       "4     max              -114.31              41.95                52.0   \n",
       "\n",
       "          total_rooms      total_bedrooms          population  \\\n",
       "0               20640               20433               20640   \n",
       "1  2635.7630813953488   537.8705525375618  1425.4767441860465   \n",
       "2  2181.6152515827944  421.38507007403115    1132.46212176534   \n",
       "3                 2.0                 1.0                 3.0   \n",
       "4             39320.0              6445.0             35682.0   \n",
       "\n",
       "          households       median_income  median_house_value ocean_proximity  \n",
       "0              20640               20640               20640           20640  \n",
       "1  499.5396802325581  3.8706710029070246  206855.81690891474            None  \n",
       "2  382.3297528316098   1.899821717945263  115395.61587441359            None  \n",
       "3                1.0              0.4999             14999.0       <1H OCEAN  \n",
       "4             6082.0             15.0001            500001.0      NEAR OCEAN  "
      ]
     },
     "execution_count": 6,
     "metadata": {},
     "output_type": "execute_result"
    }
   ],
   "source": [
    "# смотрим основные статистики \n",
    "df_housing.describe().toPandas()"
   ]
  },
  {
   "cell_type": "markdown",
   "id": "9c97b387",
   "metadata": {},
   "source": [
    " - **Для построения графиков** oтберем из исходного ДатаФрейма случайную **30%-ную выборку**: так мы сохраним исходное распределение и избежим переполнения памяти."
   ]
  },
  {
   "cell_type": "code",
   "execution_count": 7,
   "id": "0508afbe",
   "metadata": {},
   "outputs": [],
   "source": [
    "# создаем случайную выборку из исходного ДатаФрейма\n",
    "df_housing_pd = df_housing.sample(fraction = .3).toPandas()"
   ]
  },
  {
   "cell_type": "code",
   "execution_count": 8,
   "id": "6d1dff79",
   "metadata": {},
   "outputs": [
    {
     "data": {
      "image/png": "[encoded data removed]",
      "text/plain": [
       "<Figure size 1296x1008 with 9 Axes>"
      ]
     },
     "metadata": {
      "needs_background": "light"
     },
     "output_type": "display_data"
    }
   ],
   "source": [
    "# строим гистограммы с числовыми признаками\n",
    "df_housing_pd.hist(bins=100, figsize=[18,14]);  "
   ]
  },
  {
   "cell_type": "markdown",
   "id": "d4911bfd",
   "metadata": {},
   "source": [
    "- Данные распределены не равномерно. Присутствуют выбросы. Довольно сильное стандартное отклонение почти во всех столбцах.\n",
    "\n",
    "- В целевом столбце присутствует внушительный выброс (значение - 50 001).\n",
    "\n",
    "- Средняя медианная стоимость жилья составляет 206855.816909."
   ]
  },
  {
   "cell_type": "markdown",
   "id": "53871372",
   "metadata": {
    "id": "53871372"
   },
   "source": [
    "## Подготовка данных"
   ]
  },
  {
   "cell_type": "markdown",
   "id": "d94b0214",
   "metadata": {},
   "source": [
    "### Ищем и обрабатываем пропуски "
   ]
  },
  {
   "cell_type": "code",
   "execution_count": 9,
   "id": "b63a1b56",
   "metadata": {},
   "outputs": [
    {
     "name": "stdout",
     "output_type": "stream",
     "text": [
      "longitude 0\n",
      "latitude 0\n",
      "housing_median_age 0\n",
      "total_rooms 0\n",
      "total_bedrooms 207\n",
      "population 0\n",
      "households 0\n",
      "median_income 0\n",
      "median_house_value 0\n",
      "ocean_proximity 0\n"
     ]
    }
   ],
   "source": [
    "# выведем пропущенные значения \n",
    "columns = df_housing.columns\n",
    " \n",
    "for column in columns:\n",
    "    check_col = F.col(column).isNull()\n",
    "    print(column, df_housing.filter(check_col).count())"
   ]
  },
  {
   "cell_type": "markdown",
   "id": "2c6dbce9",
   "metadata": {},
   "source": [
    "- Меняем пропуски на среднее значение столбца."
   ]
  },
  {
   "cell_type": "code",
   "execution_count": 10,
   "id": "29f9a11d",
   "metadata": {},
   "outputs": [
    {
     "name": "stdout",
     "output_type": "stream",
     "text": [
      "longitude 0\n",
      "latitude 0\n",
      "housing_median_age 0\n",
      "total_rooms 0\n",
      "total_bedrooms 0\n",
      "population 0\n",
      "households 0\n",
      "median_income 0\n",
      "median_house_value 0\n",
      "ocean_proximity 0\n"
     ]
    }
   ],
   "source": [
    "# меняем пропуски на среднее столбца\n",
    "df_housing = df_housing.fillna(df_housing.select(F.mean(df_housing['total_bedrooms'])).collect()[0][0])\n",
    "\n",
    "# проверяем\n",
    "columns = df_housing.columns\n",
    " \n",
    "for column in columns:\n",
    "    check_col = F.col(column).isNull()\n",
    "    print(column, df_housing.filter(check_col).count())"
   ]
  },
  {
   "cell_type": "markdown",
   "id": "feb26800",
   "metadata": {},
   "source": [
    "### Готовим данные к обучению"
   ]
  },
  {
   "cell_type": "code",
   "execution_count": 11,
   "id": "e2bf7eeb",
   "metadata": {},
   "outputs": [],
   "source": [
    "# задаем списки колонок с числовыми и категориальными признаками \n",
    "categorical_cols = [\"ocean_proximity\"]\n",
    "numerical_cols  = [\"longitude\", \"latitude\", \"housing_median_age\", \n",
    "                   \"total_rooms\", \"total_bedrooms\", \"population\",\n",
    "                  \"households\", \"median_income\"]\n",
    "target = \"median_house_value\" "
   ]
  },
  {
   "cell_type": "markdown",
   "id": "ffe854fd",
   "metadata": {},
   "source": [
    "#### Формируем выборки"
   ]
  },
  {
   "cell_type": "code",
   "execution_count": 12,
   "id": "30bbb560",
   "metadata": {},
   "outputs": [
    {
     "name": "stderr",
     "output_type": "stream",
     "text": [
      "                                                                                \r"
     ]
    },
    {
     "data": {
      "text/plain": [
       "(15406, 5234)"
      ]
     },
     "execution_count": 12,
     "metadata": {},
     "output_type": "execute_result"
    }
   ],
   "source": [
    "# разделяем датасет на выборки: 75% - обучающая, 25% - тестовая\n",
    "train_data, test_data = df_housing.randomSplit([.75,.25], seed=RANDOM_SEED)\n",
    "# проверяем\n",
    "train_data.count(), test_data.count()"
   ]
  },
  {
   "cell_type": "markdown",
   "id": "4bb2f38b",
   "metadata": {},
   "source": [
    "#### Кодируем категориальные признаки обучающего набора"
   ]
  },
  {
   "cell_type": "code",
   "execution_count": 13,
   "id": "87bbb597",
   "metadata": {},
   "outputs": [
    {
     "name": "stdout",
     "output_type": "stream",
     "text": [
      "+---------------+-------------------+\n",
      "|ocean_proximity|ocean_proximity_idx|\n",
      "+---------------+-------------------+\n",
      "|     NEAR OCEAN|                2.0|\n",
      "|     NEAR OCEAN|                2.0|\n",
      "|     NEAR OCEAN|                2.0|\n",
      "+---------------+-------------------+\n",
      "only showing top 3 rows\n",
      "\n"
     ]
    }
   ],
   "source": [
    "# переводим строковые значения категориального признака в числовые \n",
    "indexer = StringIndexer(inputCols=categorical_cols, \n",
    "                        outputCols=[c+'_idx' for c in categorical_cols])\n",
    "\n",
    "indexerModel = indexer.fit(train_data)\n",
    "\n",
    "train_data = indexerModel.transform(train_data)\n",
    "\n",
    "cols = [c for c in train_data.columns for i in categorical_cols if (c.startswith(i))]\n",
    "\n",
    "# проверяем\n",
    "train_data.select(cols).show(3) "
   ]
  },
  {
   "cell_type": "code",
   "execution_count": 14,
   "id": "a7098290",
   "metadata": {},
   "outputs": [
    {
     "name": "stdout",
     "output_type": "stream",
     "text": [
      "+---------------+-------------------+-------------------+\n",
      "|ocean_proximity|ocean_proximity_idx|ocean_proximity_ohe|\n",
      "+---------------+-------------------+-------------------+\n",
      "|     NEAR OCEAN|                2.0|      (4,[2],[1.0])|\n",
      "|     NEAR OCEAN|                2.0|      (4,[2],[1.0])|\n",
      "|     NEAR OCEAN|                2.0|      (4,[2],[1.0])|\n",
      "+---------------+-------------------+-------------------+\n",
      "only showing top 3 rows\n",
      "\n"
     ]
    }
   ],
   "source": [
    "# кодируем категориальные признаки методом OHE\n",
    "encoder = OneHotEncoder(inputCols=[c+'_idx' for c in categorical_cols],\n",
    "                        outputCols=[c+'_ohe' for c in categorical_cols])\n",
    "\n",
    "encoderModel = encoder.fit(train_data)\n",
    "\n",
    "train_data = encoderModel.transform(train_data)\n",
    "\n",
    "cols = [c for c in train_data.columns for i in categorical_cols if (c.startswith(i))]\n",
    "\n",
    "# проверяем\n",
    "train_data.select(cols).show(3) "
   ]
  },
  {
   "cell_type": "code",
   "execution_count": 15,
   "id": "43406efd",
   "metadata": {},
   "outputs": [],
   "source": [
    "# объединяем признаки в один вектор\n",
    "categorical_assembler = VectorAssembler(inputCols=[c+'_ohe' for c in categorical_cols],\n",
    "                                        outputCol=\"categorical_features\")\n",
    "\n",
    "train_data = categorical_assembler.transform(train_data) "
   ]
  },
  {
   "cell_type": "markdown",
   "id": "d5b84a4d",
   "metadata": {},
   "source": [
    "#### Трансформируем числовые признаки обучающего набора"
   ]
  },
  {
   "cell_type": "code",
   "execution_count": 16,
   "id": "ec8dfda0",
   "metadata": {},
   "outputs": [],
   "source": [
    "# объединяем числовые признаки в один вектор\n",
    "numerical_assembler = VectorAssembler(inputCols=numerical_cols,\n",
    "                                    outputCol=\"numerical_features\")\n",
    "\n",
    "train_data = numerical_assembler.transform(train_data) "
   ]
  },
  {
   "cell_type": "code",
   "execution_count": 17,
   "id": "46ff8473",
   "metadata": {},
   "outputs": [],
   "source": [
    "# масштабируем значения, чтобы сильные выбросы не смещали предсказания модели\n",
    "standardScaler = StandardScaler(inputCol=\"numerical_features\",\n",
    "                                outputCol=\"numerical_features_scaled\")\n",
    "\n",
    "standardScalerModel = standardScaler.fit(train_data)\n",
    "\n",
    "train_data = standardScalerModel.transform(train_data) "
   ]
  },
  {
   "cell_type": "code",
   "execution_count": 18,
   "id": "5208ad75",
   "metadata": {},
   "outputs": [
    {
     "name": "stdout",
     "output_type": "stream",
     "text": [
      "15406\n"
     ]
    },
    {
     "data": {
      "text/plain": [
       "['longitude',\n",
       " 'latitude',\n",
       " 'housing_median_age',\n",
       " 'total_rooms',\n",
       " 'total_bedrooms',\n",
       " 'population',\n",
       " 'households',\n",
       " 'median_income',\n",
       " 'median_house_value',\n",
       " 'ocean_proximity',\n",
       " 'ocean_proximity_idx',\n",
       " 'ocean_proximity_ohe',\n",
       " 'categorical_features',\n",
       " 'numerical_features',\n",
       " 'numerical_features_scaled']"
      ]
     },
     "execution_count": 18,
     "metadata": {},
     "output_type": "execute_result"
    }
   ],
   "source": [
    "# подводим итог преобразований \n",
    "print(train_data.count())\n",
    "train_data.columns"
   ]
  },
  {
   "cell_type": "markdown",
   "id": "5c2e0f17",
   "metadata": {},
   "source": [
    "#### Собираем признаки обучающего набора в один вектор "
   ]
  },
  {
   "cell_type": "code",
   "execution_count": 19,
   "id": "4938175a",
   "metadata": {},
   "outputs": [
    {
     "name": "stdout",
     "output_type": "stream",
     "text": [
      "+--------------------+-------------------------+--------------------+\n",
      "|categorical_features|numerical_features_scaled|            features|\n",
      "+--------------------+-------------------------+--------------------+\n",
      "|       (4,[2],[1.0])|     [-61.982225379042...|[0.0,0.0,1.0,0.0,...|\n",
      "|       (4,[2],[1.0])|     [-61.957302891957...|[0.0,0.0,1.0,0.0,...|\n",
      "|       (4,[2],[1.0])|     [-61.957302891957...|[0.0,0.0,1.0,0.0,...|\n",
      "+--------------------+-------------------------+--------------------+\n",
      "only showing top 3 rows\n",
      "\n"
     ]
    },
    {
     "data": {
      "text/plain": [
       "15406"
      ]
     },
     "execution_count": 19,
     "metadata": {},
     "output_type": "execute_result"
    }
   ],
   "source": [
    "# задаем названия новых колонок\n",
    "all_features = ['categorical_features','numerical_features_scaled']\n",
    "\n",
    "# создаем вектор\n",
    "final_assembler = VectorAssembler(inputCols=all_features, \n",
    "                                  outputCol=\"features\")\n",
    "# создаем колонки\n",
    "train_data = final_assembler.transform(train_data)\n",
    "\n",
    "# проверяем \n",
    "features = ['categorical_features','numerical_features_scaled','features']\n",
    "\n",
    "train_data.select(features).show(3)\n",
    "train_data.count()"
   ]
  },
  {
   "cell_type": "markdown",
   "id": "ee627236",
   "metadata": {},
   "source": [
    "#### Кодируем категориальные признаки тестового набора"
   ]
  },
  {
   "cell_type": "code",
   "execution_count": 20,
   "id": "7581fc21",
   "metadata": {},
   "outputs": [
    {
     "name": "stdout",
     "output_type": "stream",
     "text": [
      "+---------------+-------------------+\n",
      "|ocean_proximity|ocean_proximity_idx|\n",
      "+---------------+-------------------+\n",
      "|     NEAR OCEAN|                2.0|\n",
      "|     NEAR OCEAN|                2.0|\n",
      "|     NEAR OCEAN|                2.0|\n",
      "+---------------+-------------------+\n",
      "only showing top 3 rows\n",
      "\n"
     ]
    }
   ],
   "source": [
    "# переводим строковые значения категориального признака в числовые \n",
    "# кодировщиком, обученным на обучающей выборке\n",
    "test_data = indexerModel.transform(test_data)\n",
    "\n",
    "cols = [c for c in test_data.columns for i in categorical_cols if (c.startswith(i))]\n",
    "\n",
    "# проверяем\n",
    "test_data.select(cols).show(3) "
   ]
  },
  {
   "cell_type": "code",
   "execution_count": 21,
   "id": "5eb2280e",
   "metadata": {},
   "outputs": [
    {
     "name": "stdout",
     "output_type": "stream",
     "text": [
      "+---------------+-------------------+-------------------+\n",
      "|ocean_proximity|ocean_proximity_idx|ocean_proximity_ohe|\n",
      "+---------------+-------------------+-------------------+\n",
      "|     NEAR OCEAN|                2.0|      (4,[2],[1.0])|\n",
      "|     NEAR OCEAN|                2.0|      (4,[2],[1.0])|\n",
      "|     NEAR OCEAN|                2.0|      (4,[2],[1.0])|\n",
      "+---------------+-------------------+-------------------+\n",
      "only showing top 3 rows\n",
      "\n"
     ]
    }
   ],
   "source": [
    "# кодируем категориальные признаки методом OHE\n",
    "# кодировщиком, обученным на обучающей выборке\n",
    "test_data = encoderModel.transform(test_data)\n",
    "\n",
    "cols = [c for c in test_data.columns for i in categorical_cols if (c.startswith(i))]\n",
    "\n",
    "# проверяем\n",
    "test_data.select(cols).show(3) "
   ]
  },
  {
   "cell_type": "code",
   "execution_count": 22,
   "id": "1d8f7831",
   "metadata": {},
   "outputs": [],
   "source": [
    "# объединяем признаки в один вектор\n",
    "test_data = categorical_assembler.transform(test_data) "
   ]
  },
  {
   "cell_type": "markdown",
   "id": "6cbd9361",
   "metadata": {},
   "source": [
    "#### Трансформируем числовые признаки тестового набора"
   ]
  },
  {
   "cell_type": "code",
   "execution_count": 23,
   "id": "0fa2e2e7",
   "metadata": {},
   "outputs": [],
   "source": [
    "# объединяем числовые признаки в один вектор\n",
    "test_data = numerical_assembler.transform(test_data) "
   ]
  },
  {
   "cell_type": "code",
   "execution_count": 24,
   "id": "9326606f",
   "metadata": {},
   "outputs": [],
   "source": [
    "# масштабируем значения, чтобы сильные выбросы не смещали предсказания модели,\n",
    "# кодировщиком, обученным на обучающей выборке\n",
    "test_data = standardScalerModel.transform(test_data) "
   ]
  },
  {
   "cell_type": "code",
   "execution_count": 25,
   "id": "0f050b3f",
   "metadata": {},
   "outputs": [
    {
     "name": "stdout",
     "output_type": "stream",
     "text": [
      "5234\n"
     ]
    },
    {
     "data": {
      "text/plain": [
       "['longitude',\n",
       " 'latitude',\n",
       " 'housing_median_age',\n",
       " 'total_rooms',\n",
       " 'total_bedrooms',\n",
       " 'population',\n",
       " 'households',\n",
       " 'median_income',\n",
       " 'median_house_value',\n",
       " 'ocean_proximity',\n",
       " 'ocean_proximity_idx',\n",
       " 'ocean_proximity_ohe',\n",
       " 'categorical_features',\n",
       " 'numerical_features',\n",
       " 'numerical_features_scaled']"
      ]
     },
     "execution_count": 25,
     "metadata": {},
     "output_type": "execute_result"
    }
   ],
   "source": [
    "# подводим итог преобразований \n",
    "print(test_data.count())\n",
    "test_data.columns"
   ]
  },
  {
   "cell_type": "markdown",
   "id": "2a2f4a83",
   "metadata": {},
   "source": [
    "#### Собираем признаки тестового набора в один вектор "
   ]
  },
  {
   "cell_type": "code",
   "execution_count": 26,
   "id": "766b1efe",
   "metadata": {},
   "outputs": [
    {
     "name": "stdout",
     "output_type": "stream",
     "text": [
      "+--------------------+-------------------------+--------------------+\n",
      "|categorical_features|numerical_features_scaled|            features|\n",
      "+--------------------+-------------------------+--------------------+\n",
      "|       (4,[2],[1.0])|     [-61.922411410039...|[0.0,0.0,1.0,0.0,...|\n",
      "|       (4,[2],[1.0])|     [-61.892504425538...|[0.0,0.0,1.0,0.0,...|\n",
      "|       (4,[2],[1.0])|     [-61.892504425538...|[0.0,0.0,1.0,0.0,...|\n",
      "+--------------------+-------------------------+--------------------+\n",
      "only showing top 3 rows\n",
      "\n"
     ]
    },
    {
     "data": {
      "text/plain": [
       "5234"
      ]
     },
     "execution_count": 26,
     "metadata": {},
     "output_type": "execute_result"
    }
   ],
   "source": [
    "# создаем колонки\n",
    "test_data = final_assembler.transform(test_data)\n",
    "\n",
    "# проверяем \n",
    "test_data.select(features).show(3)\n",
    "test_data.count()"
   ]
  },
  {
   "cell_type": "markdown",
   "id": "7a6eed28",
   "metadata": {},
   "source": [
    "- Данные обработаны и подготовлены для обучения."
   ]
  },
  {
   "cell_type": "markdown",
   "id": "b668ae91",
   "metadata": {},
   "source": [
    "## Обучение моделей"
   ]
  },
  {
   "cell_type": "markdown",
   "id": "9b58cc31",
   "metadata": {},
   "source": [
    "### Строим модель на всех данных"
   ]
  },
  {
   "cell_type": "code",
   "execution_count": 27,
   "id": "341ccc5a",
   "metadata": {},
   "outputs": [
    {
     "name": "stderr",
     "output_type": "stream",
     "text": [
      "24/01/10 20:06:04 WARN BLAS: Failed to load implementation from: com.github.fommil.netlib.NativeSystemBLAS\n",
      "24/01/10 20:06:04 WARN BLAS: Failed to load implementation from: com.github.fommil.netlib.NativeRefBLAS\n",
      "                                                                                \r"
     ]
    },
    {
     "name": "stdout",
     "output_type": "stream",
     "text": [
      "+------------------+------------------+\n",
      "|median_house_value|    prediction_all|\n",
      "+------------------+------------------+\n",
      "|          106700.0|232184.01187392906|\n",
      "|          128900.0|  223955.056887859|\n",
      "|          116100.0|249466.86139672948|\n",
      "+------------------+------------------+\n",
      "only showing top 3 rows\n",
      "\n"
     ]
    }
   ],
   "source": [
    "# активируем модель линейной регрессии\n",
    "lr = LinearRegression(labelCol=target, featuresCol='features', regParam=0.3, \n",
    "                      maxIter=10, elasticNetParam=0.8)\n",
    "# обучаем модель \n",
    "model = lr.fit(train_data) \n",
    "# получаем предсказание на тестовой выборке\n",
    "predictions_all = model.transform(test_data)\n",
    "\n",
    "# сохраняем результат\n",
    "predicted_all = predictions_all.select(\"median_house_value\", \"prediction\")\n",
    "# переименовываем колонку\n",
    "predicted_all = predicted_all.withColumnRenamed(\"prediction\", \"prediction_all\") \n",
    "# проверяем\n",
    "predicted_all.show(3)"
   ]
  },
  {
   "cell_type": "markdown",
   "id": "43e98ddd",
   "metadata": {},
   "source": [
    "### Строим модель  на данных без категориальных признаков "
   ]
  },
  {
   "cell_type": "code",
   "execution_count": 28,
   "id": "5f3cbca8",
   "metadata": {},
   "outputs": [
    {
     "name": "stdout",
     "output_type": "stream",
     "text": [
      "+------------------+------------------+\n",
      "|median_house_value|    prediction_num|\n",
      "+------------------+------------------+\n",
      "|          106700.0| 194426.3572791973|\n",
      "|          128900.0|175078.95220685517|\n",
      "|          116100.0|201567.56450190954|\n",
      "+------------------+------------------+\n",
      "only showing top 3 rows\n",
      "\n"
     ]
    }
   ],
   "source": [
    "#  создаем модель только с числовыми данными\n",
    "lr = LinearRegression(labelCol=target, featuresCol='numerical_features_scaled', regParam=0.3, \n",
    "                      maxIter=10, elasticNetParam=0.8)\n",
    "# обучаем модель\n",
    "model = lr.fit(train_data)\n",
    "\n",
    "# получаем предсказание на тестовой выборке\n",
    "predictions_num = model.transform(test_data)\n",
    "\n",
    "# сохраняем результат\n",
    "predicted_num = predictions_num.select(\"median_house_value\", \"prediction\")\n",
    "\n",
    "# переименовываем колонку\n",
    "predicted_num = predicted_num.withColumnRenamed(\"prediction\", \"prediction_num\") \n",
    "# проверяем\n",
    "predicted_num.show(3)"
   ]
  },
  {
   "cell_type": "markdown",
   "id": "13a935fa",
   "metadata": {},
   "source": [
    "### Строим константную модель \n",
    "\n",
    " - Любому объекту модель прогнозирует среднее значение целевого признака. "
   ]
  },
  {
   "cell_type": "code",
   "execution_count": 29,
   "id": "9ffbe34c",
   "metadata": {},
   "outputs": [
    {
     "name": "stdout",
     "output_type": "stream",
     "text": [
      "+-----------+\n",
      "|target_mean|\n",
      "+-----------+\n",
      "|  206855.81|\n",
      "|  206855.81|\n",
      "|  206855.81|\n",
      "|  206855.81|\n",
      "|  206855.81|\n",
      "+-----------+\n",
      "only showing top 5 rows\n",
      "\n"
     ]
    }
   ],
   "source": [
    "# создаем колонку с константным значением \n",
    "target_mean = df_housing.select(F.mean(df_housing[target])).collect()[0][0]\n",
    "train_data = train_data.withColumn(\"target_mean\", F.lit(target_mean).cast('float'))\n",
    "# проверяем\n",
    "train_data.select(\"target_mean\").show(5) "
   ]
  },
  {
   "cell_type": "markdown",
   "id": "9b565f6e",
   "metadata": {},
   "source": [
    "## Анализ результатов"
   ]
  },
  {
   "cell_type": "markdown",
   "id": "4ae4ec18",
   "metadata": {},
   "source": [
    "### Вычисление метрик"
   ]
  },
  {
   "cell_type": "code",
   "execution_count": 30,
   "id": "9dd2a08e",
   "metadata": {},
   "outputs": [],
   "source": [
    "# считаем среднее значение предсказания первой модели\n",
    "mean_predict_all = predictions_all.select(F.mean(predictions_all[\"prediction\"])).collect()[0][0]\n",
    "\n",
    "# считаем среднее значение предсказания второй модели\n",
    "mean_predict_num = predictions_num.select(F.mean(predictions_num[\"prediction\"])).collect()[0][0]"
   ]
  },
  {
   "cell_type": "code",
   "execution_count": 31,
   "id": "9c6867ed",
   "metadata": {},
   "outputs": [
    {
     "name": "stdout",
     "output_type": "stream",
     "text": [
      "RMSE первой модели: 67627.48656166169\n",
      "MAE первой модели: 49077.17695107703\n",
      "R2 первой модели: 0.6592013620981447\n",
      "Среднее предсказанное первой модели: 206206.07816447198\n",
      "Среднее целевое: 206855.81690891474\n"
     ]
    }
   ],
   "source": [
    "# оцениваем качество предсказания первой модели\n",
    "rmse_all = RegressionEvaluator(\n",
    "       labelCol=\"median_house_value\", \n",
    "       predictionCol=\"prediction\", metricName=\"rmse\").evaluate(predictions_all)\n",
    "\n",
    "mae_all = RegressionEvaluator(\n",
    "       labelCol=\"median_house_value\", \n",
    "       predictionCol=\"prediction\", metricName=\"mae\").evaluate(predictions_all)\n",
    "\n",
    "r2_all = RegressionEvaluator(\n",
    "       labelCol=\"median_house_value\", \n",
    "       predictionCol=\"prediction\", metricName=\"r2\").evaluate(predictions_all)\n",
    "\n",
    "print(\"RMSE первой модели:\", rmse_all)\n",
    "print(\"MAE первой модели:\", mae_all)\n",
    "print(\"R2 первой модели:\", r2_all)\n",
    "print(\"Среднее предсказанное первой модели:\", mean_predict_all)\n",
    "print(\"Среднее целевое:\", target_mean)"
   ]
  },
  {
   "cell_type": "code",
   "execution_count": 32,
   "id": "b3d8e800",
   "metadata": {},
   "outputs": [
    {
     "name": "stdout",
     "output_type": "stream",
     "text": [
      "RMSE второй модели: 68399.14237073387\n",
      "MAE второй модели: 50135.61726556015\n",
      "R2 второй модели: 0.6513797023074894\n",
      "Среднее предсказанное второй модели: 206441.70997685756\n",
      "Среднее целевое: 206855.81690891474\n"
     ]
    }
   ],
   "source": [
    "# оцениваем качество предсказания второй модели\n",
    "rmse_num = RegressionEvaluator(\n",
    "       labelCol=\"median_house_value\", \n",
    "       predictionCol=\"prediction\", metricName=\"rmse\").evaluate(predictions_num)\n",
    "\n",
    "mae_num = RegressionEvaluator(\n",
    "       labelCol=\"median_house_value\", \n",
    "       predictionCol=\"prediction\", metricName=\"mae\").evaluate(predictions_num)\n",
    "\n",
    "r2_num = RegressionEvaluator(\n",
    "       labelCol=\"median_house_value\", \n",
    "       predictionCol=\"prediction\", metricName=\"r2\").evaluate(predictions_num)\n",
    "\n",
    "print(\"RMSE второй модели:\", rmse_num)\n",
    "print(\"MAE второй модели:\", mae_num)\n",
    "print(\"R2 второй модели:\", r2_num)\n",
    "print(\"Среднее предсказанное второй модели:\", mean_predict_num)\n",
    "print(\"Среднее целевое:\", target_mean)"
   ]
  },
  {
   "cell_type": "code",
   "execution_count": 33,
   "id": "f4dd664f",
   "metadata": {},
   "outputs": [
    {
     "name": "stdout",
     "output_type": "stream",
     "text": [
      "RMSE константной модели: 115238.5147354925\n",
      "MAE константной модели: 91041.95745975594\n",
      "R2 константной модели: -3.2441105040081908e-06\n",
      "Среднее предсказанное константной модели: 206855.81690891474\n",
      "Среднее целевое: 206855.81690891474\n"
     ]
    }
   ],
   "source": [
    "# вычисляем метрики константной модели \n",
    "rmse_const = RegressionEvaluator(\n",
    "       labelCol=\"median_house_value\", \n",
    "       predictionCol=\"target_mean\", metricName=\"rmse\").evaluate(train_data)\n",
    "\n",
    "mae_const = RegressionEvaluator(\n",
    "       labelCol=\"median_house_value\", \n",
    "       predictionCol=\"target_mean\", metricName=\"mae\").evaluate(train_data)\n",
    "\n",
    "r2_const = RegressionEvaluator(\n",
    "       labelCol=\"median_house_value\", \n",
    "       predictionCol=\"target_mean\", metricName=\"r2\").evaluate(train_data)\n",
    "\n",
    "print(\"RMSE константной модели:\", rmse_const)\n",
    "print(\"MAE константной модели:\", mae_const)\n",
    "print(\"R2 константной модели:\", r2_const)\n",
    "print(\"Среднее предсказанное константной модели:\", target_mean)\n",
    "print(\"Среднее целевое:\", target_mean)"
   ]
  },
  {
   "cell_type": "code",
   "execution_count": 34,
   "id": "76ab3e27",
   "metadata": {},
   "outputs": [
    {
     "name": "stderr",
     "output_type": "stream",
     "text": [
      "                                                                                \r"
     ]
    },
    {
     "data": {
      "text/html": [
       "<div>\n",
       "<style scoped>\n",
       "    .dataframe tbody tr th:only-of-type {\n",
       "        vertical-align: middle;\n",
       "    }\n",
       "\n",
       "    .dataframe tbody tr th {\n",
       "        vertical-align: top;\n",
       "    }\n",
       "\n",
       "    .dataframe thead th {\n",
       "        text-align: right;\n",
       "    }\n",
       "</style>\n",
       "<table border=\"1\" class=\"dataframe\">\n",
       "  <thead>\n",
       "    <tr style=\"text-align: right;\">\n",
       "      <th></th>\n",
       "      <th>Model</th>\n",
       "      <th>RMSE</th>\n",
       "      <th>MAE</th>\n",
       "      <th>R2</th>\n",
       "      <th>Mean_predict</th>\n",
       "      <th>Mean_target</th>\n",
       "    </tr>\n",
       "  </thead>\n",
       "  <tbody>\n",
       "    <tr>\n",
       "      <th>0</th>\n",
       "      <td>Первая модель</td>\n",
       "      <td>67627.486562</td>\n",
       "      <td>49077.176951</td>\n",
       "      <td>0.659201</td>\n",
       "      <td>206206.078164</td>\n",
       "      <td>206855.816909</td>\n",
       "    </tr>\n",
       "    <tr>\n",
       "      <th>1</th>\n",
       "      <td>Вторая модель</td>\n",
       "      <td>68399.142371</td>\n",
       "      <td>50135.617266</td>\n",
       "      <td>0.651380</td>\n",
       "      <td>206441.709977</td>\n",
       "      <td>206855.816909</td>\n",
       "    </tr>\n",
       "    <tr>\n",
       "      <th>2</th>\n",
       "      <td>Константная модель</td>\n",
       "      <td>115238.514735</td>\n",
       "      <td>91041.957460</td>\n",
       "      <td>-0.000003</td>\n",
       "      <td>206855.816909</td>\n",
       "      <td>206855.816909</td>\n",
       "    </tr>\n",
       "  </tbody>\n",
       "</table>\n",
       "</div>"
      ],
      "text/plain": [
       "                Model           RMSE           MAE        R2   Mean_predict  \\\n",
       "0       Первая модель   67627.486562  49077.176951  0.659201  206206.078164   \n",
       "1       Вторая модель   68399.142371  50135.617266  0.651380  206441.709977   \n",
       "2  Константная модель  115238.514735  91041.957460 -0.000003  206855.816909   \n",
       "\n",
       "     Mean_target  \n",
       "0  206855.816909  \n",
       "1  206855.816909  \n",
       "2  206855.816909  "
      ]
     },
     "execution_count": 34,
     "metadata": {},
     "output_type": "execute_result"
    }
   ],
   "source": [
    "# создаем сводную таблицу результатов\n",
    "data = [('Первая модель', \n",
    "         rmse_all, mae_all, r2_all, mean_predict_all, target_mean\n",
    "        ),\n",
    "        ('Вторая модель', \n",
    "         rmse_num, mae_num, r2_num, mean_predict_num, target_mean\n",
    "        ),\n",
    "        ('Константная модель', \n",
    "         rmse_const, mae_const, r2_const, target_mean, target_mean\n",
    "        )\n",
    "]\n",
    "\n",
    "columns = ['Model','RMSE','MAE','R2','Mean_predict','Mean_target'] \n",
    "df = spark.createDataFrame(data=data, schema=columns).toPandas()\n",
    "\n",
    "# выводим результат\n",
    "df"
   ]
  },
  {
   "cell_type": "markdown",
   "id": "863c465f",
   "metadata": {},
   "source": [
    "### Визуализация результатов"
   ]
  },
  {
   "cell_type": "code",
   "execution_count": 35,
   "id": "fedf8b04",
   "metadata": {
    "scrolled": true
   },
   "outputs": [
    {
     "data": {
      "image/png": "[encoded data removed]",
      "text/plain": [
       "<Figure size 720x360 with 1 Axes>"
      ]
     },
     "metadata": {
      "needs_background": "light"
     },
     "output_type": "display_data"
    }
   ],
   "source": [
    "# создаем переменные в пандас\n",
    "predicted_mhv_all = predicted_all.toPandas() \n",
    "predicted_mhv_num = predicted_num.toPandas()\n",
    "\n",
    "# создаем графики с предсказаниями\n",
    "predicted_mhv_num[\"prediction_num\"].hist(\n",
    "    bins=(100),\n",
    "    figsize =(10,5),\n",
    "    legend=True    \n",
    ");\n",
    "\n",
    "predicted_mhv_all[\"prediction_all\"].hist(\n",
    "    bins=(100),\n",
    "    figsize =(10,5),\n",
    "    legend=True\n",
    ");\n",
    "\n",
    "predicted_mhv_all[\"median_house_value\"].hist(\n",
    "    bins=(100),\n",
    "    figsize =(10,5),\n",
    "    legend=True\n",
    ");\n",
    "\n",
    "plt.xlabel(\"Медианная стоимость\")\n",
    "plt.ylabel(\"Частотность\")\n",
    "plt.title(\"Сравнение предсказаний моделей с целевыми значениями\")\n",
    "\n",
    "# выводим результат\n",
    "plt.show()"
   ]
  },
  {
   "cell_type": "markdown",
   "id": "c407d099",
   "metadata": {},
   "source": [
    "### Оценка полученных результатов\n",
    "\n",
    "  - Все модели хорошо обучились. Качество предсказаний у всех моделей выше, чем показатели константной модели.\n",
    "  \n",
    "  \n",
    "  - У второй модели (без категориальных признаков)  результаты оказались хуже.\n",
    "  \n",
    "  \n",
    "  - Наибольшее RSME (67627.486562) - у первой модели, наибольшее R2 (0.659201) также показала  первая модель.\n",
    "  \n",
    "  \n",
    "  - MAE лучшей модели составляем 49077.176951, что довольно неплохо.\n",
    "  \n",
    "  \n",
    "  - На графике видно, что, несмотря на небольшой разброс от среднего, предсказанные моделями значения имеют значительное отклонение от целевых значений. \n",
    "  \n",
    "  \n",
    "  - Для улучшения результатов требуется более объемная обработка и подготовка признаков, выходящая за рамки этого проекта.   \n",
    "  \n",
    "  "
   ]
  },
  {
   "cell_type": "markdown",
   "id": "a96a78f3",
   "metadata": {},
   "source": [
    "## Общий вывод\n",
    "\n",
    "  - **В ходе работы над проектом**, мы:\n",
    "  \n",
    "    - Запустили Spark-сессию;\n",
    "    \n",
    "    - Загрузили и изучили данные;\n",
    "    \n",
    "    - Провели предобработку (нашли и заменили пропуски);\n",
    "    \n",
    "    - Разделили датасет на обучающую и тестовую выборки;\n",
    "    \n",
    "    - Обработали категориальные признаки техникой OHE;\n",
    "    \n",
    "    - Провели масштабирование числовых признаков;\n",
    "    \n",
    "    - Построили две модели LinearRegression с разными исходными признаками (с категориальными и без категориальных признаков);\n",
    "    \n",
    "    - Сравнили результаты работы моделей по метрикам RMSE, MAE и R2;\n",
    "    \n",
    "    - Сравнили результаты работы моделей с константной моделью, предсказывающей любому объекту среднее значение целевого признака;\n",
    "    \n",
    "    - Визуализировали предсказания моделей;\n",
    "    \n",
    "    - Оформили промежуточные и общий выводы.  \n",
    "    \n",
    "    \n",
    "  - **Резюме:**\n",
    "  \n",
    "    - **Лучшая модель** показала такие результаты: **RMSE - 67627.486562, MAE - 49077.176951, R2 - 0.659201**.\n",
    "     "
   ]
  },
  {
   "cell_type": "code",
   "execution_count": 36,
   "id": "7910b1bb",
   "metadata": {},
   "outputs": [],
   "source": [
    "# выходим из Spark-сесии \n",
    "spark.stop()"
   ]
  }
 ],
 "metadata": {
  "ExecuteTimeLog": [
   {
    "duration": 58,
    "start_time": "2024-01-05T10:46:29.816Z"
   },
   {
    "duration": 69,
    "start_time": "2024-01-05T10:47:48.305Z"
   },
   {
    "duration": 45,
    "start_time": "2024-01-05T10:47:54.034Z"
   },
   {
    "duration": 46,
    "start_time": "2024-01-05T10:47:57.845Z"
   },
   {
    "duration": 53,
    "start_time": "2024-01-05T10:48:40.817Z"
   },
   {
    "duration": 44,
    "start_time": "2024-01-05T10:48:47.907Z"
   },
   {
    "duration": 14719,
    "start_time": "2024-01-05T10:49:22.217Z"
   },
   {
    "duration": 14464,
    "start_time": "2024-01-05T10:49:50.338Z"
   },
   {
    "duration": 371,
    "start_time": "2024-01-05T10:57:43.641Z"
   },
   {
    "duration": 14318,
    "start_time": "2024-01-05T10:57:44.014Z"
   },
   {
    "duration": 7385,
    "start_time": "2024-01-05T10:57:58.334Z"
   },
   {
    "duration": 781,
    "start_time": "2024-01-05T10:58:09.131Z"
   },
   {
    "duration": 607,
    "start_time": "2024-01-05T10:59:11.388Z"
   },
   {
    "duration": 5098,
    "start_time": "2024-01-05T11:01:24.042Z"
   },
   {
    "duration": 62,
    "start_time": "2024-01-05T11:03:09.565Z"
   },
   {
    "duration": 87,
    "start_time": "2024-01-05T11:03:35.888Z"
   },
   {
    "duration": 11,
    "start_time": "2024-01-05T11:03:51.013Z"
   },
   {
    "duration": 10,
    "start_time": "2024-01-05T11:04:36.868Z"
   },
   {
    "duration": 15,
    "start_time": "2024-01-05T11:05:40.122Z"
   },
   {
    "duration": 8,
    "start_time": "2024-01-05T11:05:59.700Z"
   },
   {
    "duration": 7,
    "start_time": "2024-01-05T11:06:07.389Z"
   },
   {
    "duration": 9,
    "start_time": "2024-01-05T11:06:33.292Z"
   },
   {
    "duration": 3229,
    "start_time": "2024-01-05T11:07:16.219Z"
   },
   {
    "duration": 18,
    "start_time": "2024-01-05T11:07:39.558Z"
   },
   {
    "duration": 8,
    "start_time": "2024-01-05T11:20:49.945Z"
   },
   {
    "duration": 672,
    "start_time": "2024-01-05T11:22:35.030Z"
   },
   {
    "duration": 385,
    "start_time": "2024-01-05T11:25:00.528Z"
   },
   {
    "duration": 14497,
    "start_time": "2024-01-05T11:25:00.914Z"
   },
   {
    "duration": 7722,
    "start_time": "2024-01-05T11:25:15.413Z"
   },
   {
    "duration": 674,
    "start_time": "2024-01-05T11:25:23.136Z"
   },
   {
    "duration": 5591,
    "start_time": "2024-01-05T11:25:23.812Z"
   },
   {
    "duration": 917,
    "start_time": "2024-01-05T11:25:29.404Z"
   },
   {
    "duration": 47,
    "start_time": "2024-01-05T11:25:34.139Z"
   },
   {
    "duration": 703,
    "start_time": "2024-01-05T11:25:44.790Z"
   },
   {
    "duration": 3416,
    "start_time": "2024-01-05T11:25:51.481Z"
   },
   {
    "duration": 425,
    "start_time": "2024-01-06T10:02:46.182Z"
   },
   {
    "duration": 16535,
    "start_time": "2024-01-06T10:02:46.609Z"
   },
   {
    "duration": 9625,
    "start_time": "2024-01-06T10:03:03.146Z"
   },
   {
    "duration": 789,
    "start_time": "2024-01-06T10:03:12.773Z"
   },
   {
    "duration": 1606,
    "start_time": "2024-01-06T10:03:13.564Z"
   },
   {
    "duration": 432,
    "start_time": "2024-01-06T10:53:16.888Z"
   },
   {
    "duration": 17027,
    "start_time": "2024-01-06T10:53:17.322Z"
   },
   {
    "duration": 10325,
    "start_time": "2024-01-06T10:53:34.351Z"
   },
   {
    "duration": 919,
    "start_time": "2024-01-06T10:53:44.743Z"
   },
   {
    "duration": 1589,
    "start_time": "2024-01-06T10:53:45.664Z"
   },
   {
    "duration": 887,
    "start_time": "2024-01-06T10:53:53.772Z"
   },
   {
    "duration": 719,
    "start_time": "2024-01-06T10:53:57.650Z"
   },
   {
    "duration": 104,
    "start_time": "2024-01-06T10:59:45.310Z"
   },
   {
    "duration": 108,
    "start_time": "2024-01-06T12:13:23.825Z"
   },
   {
    "duration": 13,
    "start_time": "2024-01-06T12:13:29.828Z"
   },
   {
    "duration": 9,
    "start_time": "2024-01-06T12:13:43.139Z"
   },
   {
    "duration": 1493,
    "start_time": "2024-01-06T12:14:24.556Z"
   },
   {
    "duration": 327,
    "start_time": "2024-01-06T12:15:04.959Z"
   },
   {
    "duration": 480,
    "start_time": "2024-01-06T12:23:49.115Z"
   },
   {
    "duration": 326,
    "start_time": "2024-01-06T12:23:55.819Z"
   },
   {
    "duration": 11,
    "start_time": "2024-01-06T12:27:44.117Z"
   },
   {
    "duration": 13,
    "start_time": "2024-01-06T12:27:58.245Z"
   },
   {
    "duration": 329,
    "start_time": "2024-01-06T12:28:21.517Z"
   },
   {
    "duration": 7,
    "start_time": "2024-01-06T12:29:47.942Z"
   },
   {
    "duration": 507,
    "start_time": "2024-01-06T12:29:54.645Z"
   },
   {
    "duration": 530,
    "start_time": "2024-01-06T12:31:52.064Z"
   },
   {
    "duration": 39,
    "start_time": "2024-01-06T12:32:18.901Z"
   },
   {
    "duration": 6,
    "start_time": "2024-01-06T12:32:27.165Z"
   },
   {
    "duration": 6,
    "start_time": "2024-01-06T12:35:27.512Z"
   },
   {
    "duration": 7,
    "start_time": "2024-01-06T12:35:44.686Z"
   },
   {
    "duration": 433,
    "start_time": "2024-01-06T19:20:39.545Z"
   },
   {
    "duration": 16484,
    "start_time": "2024-01-06T19:20:39.979Z"
   },
   {
    "duration": 9396,
    "start_time": "2024-01-06T19:20:56.465Z"
   },
   {
    "duration": 97,
    "start_time": "2024-01-06T19:21:05.863Z"
   },
   {
    "duration": 1571,
    "start_time": "2024-01-06T19:21:05.962Z"
   },
   {
    "duration": 112,
    "start_time": "2024-01-06T19:21:07.541Z"
   },
   {
    "duration": 8,
    "start_time": "2024-01-06T19:21:07.655Z"
   },
   {
    "duration": 65,
    "start_time": "2024-01-06T19:21:07.664Z"
   },
   {
    "duration": 82,
    "start_time": "2024-01-06T19:23:28.469Z"
   },
   {
    "duration": 11,
    "start_time": "2024-01-06T19:28:39.444Z"
   },
   {
    "duration": 786,
    "start_time": "2024-01-06T19:28:46.615Z"
   },
   {
    "duration": 13,
    "start_time": "2024-01-06T19:28:51.759Z"
   },
   {
    "duration": 57,
    "start_time": "2024-01-06T19:31:54.158Z"
   },
   {
    "duration": 7138,
    "start_time": "2024-01-06T19:34:28.763Z"
   },
   {
    "duration": 1057,
    "start_time": "2024-01-06T19:35:07.908Z"
   },
   {
    "duration": 16763,
    "start_time": "2024-01-06T19:35:08.967Z"
   },
   {
    "duration": 9902,
    "start_time": "2024-01-06T19:35:25.732Z"
   },
   {
    "duration": 96,
    "start_time": "2024-01-06T19:35:35.636Z"
   },
   {
    "duration": 1739,
    "start_time": "2024-01-06T19:35:35.736Z"
   },
   {
    "duration": 63,
    "start_time": "2024-01-06T19:35:37.477Z"
   },
   {
    "duration": 14,
    "start_time": "2024-01-06T19:35:37.542Z"
   },
   {
    "duration": 15,
    "start_time": "2024-01-06T19:35:37.558Z"
   },
   {
    "duration": 16,
    "start_time": "2024-01-06T19:35:37.575Z"
   },
   {
    "duration": 81,
    "start_time": "2024-01-06T19:35:37.593Z"
   },
   {
    "duration": 1196,
    "start_time": "2024-01-07T09:46:17.817Z"
   },
   {
    "duration": 6648,
    "start_time": "2024-01-07T09:46:27.715Z"
   },
   {
    "duration": 985,
    "start_time": "2024-01-07T09:46:44.570Z"
   },
   {
    "duration": 16522,
    "start_time": "2024-01-07T09:46:45.560Z"
   },
   {
    "duration": 9174,
    "start_time": "2024-01-07T09:47:02.084Z"
   },
   {
    "duration": 99,
    "start_time": "2024-01-07T09:47:11.259Z"
   },
   {
    "duration": 1715,
    "start_time": "2024-01-07T09:47:11.365Z"
   },
   {
    "duration": 94,
    "start_time": "2024-01-07T09:47:13.081Z"
   },
   {
    "duration": 7,
    "start_time": "2024-01-07T09:47:13.177Z"
   },
   {
    "duration": 12,
    "start_time": "2024-01-07T09:47:13.185Z"
   },
   {
    "duration": 11,
    "start_time": "2024-01-07T09:47:13.198Z"
   },
   {
    "duration": 67,
    "start_time": "2024-01-07T09:47:13.211Z"
   },
   {
    "duration": 8,
    "start_time": "2024-01-07T09:50:48.020Z"
   },
   {
    "duration": 1013,
    "start_time": "2024-01-07T09:51:20.781Z"
   },
   {
    "duration": 17062,
    "start_time": "2024-01-07T09:51:21.796Z"
   },
   {
    "duration": 9996,
    "start_time": "2024-01-07T09:51:38.860Z"
   },
   {
    "duration": 95,
    "start_time": "2024-01-07T09:51:48.858Z"
   },
   {
    "duration": 2107,
    "start_time": "2024-01-07T09:51:48.955Z"
   },
   {
    "duration": 113,
    "start_time": "2024-01-07T09:51:51.064Z"
   },
   {
    "duration": 11,
    "start_time": "2024-01-07T09:51:51.179Z"
   },
   {
    "duration": 15,
    "start_time": "2024-01-07T09:51:51.192Z"
   },
   {
    "duration": 86,
    "start_time": "2024-01-07T09:51:51.210Z"
   },
   {
    "duration": 37,
    "start_time": "2024-01-07T09:51:51.298Z"
   },
   {
    "duration": 31,
    "start_time": "2024-01-07T09:51:51.337Z"
   },
   {
    "duration": 8,
    "start_time": "2024-01-07T09:57:09.094Z"
   },
   {
    "duration": 12,
    "start_time": "2024-01-07T09:57:13.657Z"
   },
   {
    "duration": 98,
    "start_time": "2024-01-07T10:13:40.753Z"
   },
   {
    "duration": 6,
    "start_time": "2024-01-07T10:16:04.817Z"
   },
   {
    "duration": 111,
    "start_time": "2024-01-07T10:18:25.882Z"
   },
   {
    "duration": 19,
    "start_time": "2024-01-07T10:19:14.362Z"
   },
   {
    "duration": 9,
    "start_time": "2024-01-07T10:19:19.713Z"
   },
   {
    "duration": 8,
    "start_time": "2024-01-07T10:23:02.249Z"
   },
   {
    "duration": 11,
    "start_time": "2024-01-07T10:24:03.543Z"
   },
   {
    "duration": 31,
    "start_time": "2024-01-07T10:24:06.723Z"
   },
   {
    "duration": 45,
    "start_time": "2024-01-07T10:24:07.650Z"
   },
   {
    "duration": 27,
    "start_time": "2024-01-07T10:24:34.959Z"
   },
   {
    "duration": 190,
    "start_time": "2024-01-07T10:28:04.163Z"
   },
   {
    "duration": 41,
    "start_time": "2024-01-07T10:28:10.960Z"
   },
   {
    "duration": 4,
    "start_time": "2024-01-07T10:28:56.788Z"
   },
   {
    "duration": 40,
    "start_time": "2024-01-07T10:29:01.157Z"
   },
   {
    "duration": 21,
    "start_time": "2024-01-07T10:29:03.738Z"
   },
   {
    "duration": 53,
    "start_time": "2024-01-07T10:29:59.193Z"
   },
   {
    "duration": 32,
    "start_time": "2024-01-07T10:30:15.016Z"
   },
   {
    "duration": 15,
    "start_time": "2024-01-07T10:30:27.506Z"
   },
   {
    "duration": 84,
    "start_time": "2024-01-07T10:42:54.572Z"
   },
   {
    "duration": 37,
    "start_time": "2024-01-07T10:43:28.944Z"
   },
   {
    "duration": 109,
    "start_time": "2024-01-07T10:44:19.037Z"
   },
   {
    "duration": 13,
    "start_time": "2024-01-07T10:44:21.799Z"
   },
   {
    "duration": 121,
    "start_time": "2024-01-07T11:03:41.842Z"
   },
   {
    "duration": 2426,
    "start_time": "2024-01-07T11:15:26.174Z"
   },
   {
    "duration": 1841,
    "start_time": "2024-01-07T11:15:34.595Z"
   },
   {
    "duration": 2426,
    "start_time": "2024-01-07T11:16:42.199Z"
   },
   {
    "duration": 34,
    "start_time": "2024-01-07T11:19:23.247Z"
   },
   {
    "duration": 21,
    "start_time": "2024-01-07T11:19:37.273Z"
   },
   {
    "duration": 105,
    "start_time": "2024-01-07T11:38:40.568Z"
   },
   {
    "duration": 946,
    "start_time": "2024-01-07T11:41:19.914Z"
   },
   {
    "duration": 15610,
    "start_time": "2024-01-07T11:41:20.868Z"
   },
   {
    "duration": 9014,
    "start_time": "2024-01-07T11:41:36.481Z"
   },
   {
    "duration": 77,
    "start_time": "2024-01-07T11:41:45.499Z"
   },
   {
    "duration": 1400,
    "start_time": "2024-01-07T11:41:45.578Z"
   },
   {
    "duration": 103,
    "start_time": "2024-01-07T11:41:46.979Z"
   },
   {
    "duration": 2514,
    "start_time": "2024-01-07T11:41:47.084Z"
   },
   {
    "duration": 7,
    "start_time": "2024-01-07T11:41:49.599Z"
   },
   {
    "duration": 59,
    "start_time": "2024-01-07T11:41:49.607Z"
   },
   {
    "duration": 36,
    "start_time": "2024-01-07T11:41:49.670Z"
   },
   {
    "duration": 10,
    "start_time": "2024-01-07T11:41:49.707Z"
   },
   {
    "duration": 43,
    "start_time": "2024-01-07T11:41:49.719Z"
   },
   {
    "duration": 108,
    "start_time": "2024-01-07T11:41:49.765Z"
   },
   {
    "duration": 0,
    "start_time": "2024-01-07T11:41:49.875Z"
   },
   {
    "duration": 0,
    "start_time": "2024-01-07T11:41:49.876Z"
   },
   {
    "duration": 0,
    "start_time": "2024-01-07T11:41:49.877Z"
   },
   {
    "duration": 0,
    "start_time": "2024-01-07T11:41:49.878Z"
   },
   {
    "duration": 0,
    "start_time": "2024-01-07T11:41:49.880Z"
   },
   {
    "duration": 0,
    "start_time": "2024-01-07T11:41:49.880Z"
   },
   {
    "duration": 3,
    "start_time": "2024-01-07T11:42:26.968Z"
   },
   {
    "duration": 10,
    "start_time": "2024-01-07T11:42:32.212Z"
   },
   {
    "duration": 15,
    "start_time": "2024-01-07T11:42:34.643Z"
   },
   {
    "duration": 10,
    "start_time": "2024-01-07T11:42:56.349Z"
   },
   {
    "duration": 12,
    "start_time": "2024-01-07T11:43:07.456Z"
   },
   {
    "duration": 931,
    "start_time": "2024-01-07T11:43:45.834Z"
   },
   {
    "duration": 15585,
    "start_time": "2024-01-07T11:43:46.766Z"
   },
   {
    "duration": 8521,
    "start_time": "2024-01-07T11:44:02.354Z"
   },
   {
    "duration": 100,
    "start_time": "2024-01-07T11:44:10.877Z"
   },
   {
    "duration": 1586,
    "start_time": "2024-01-07T11:44:10.981Z"
   },
   {
    "duration": 41,
    "start_time": "2024-01-07T11:44:12.568Z"
   },
   {
    "duration": 2481,
    "start_time": "2024-01-07T11:44:12.610Z"
   },
   {
    "duration": 7,
    "start_time": "2024-01-07T11:44:15.092Z"
   },
   {
    "duration": 52,
    "start_time": "2024-01-07T11:44:15.100Z"
   },
   {
    "duration": 34,
    "start_time": "2024-01-07T11:44:15.158Z"
   },
   {
    "duration": 33,
    "start_time": "2024-01-07T11:44:15.194Z"
   },
   {
    "duration": 72,
    "start_time": "2024-01-07T11:44:15.228Z"
   },
   {
    "duration": 4,
    "start_time": "2024-01-07T11:44:15.302Z"
   },
   {
    "duration": 12,
    "start_time": "2024-01-07T11:44:15.309Z"
   },
   {
    "duration": 126,
    "start_time": "2024-01-07T11:44:15.322Z"
   },
   {
    "duration": 111,
    "start_time": "2024-01-07T11:44:15.454Z"
   },
   {
    "duration": 263,
    "start_time": "2024-01-07T11:44:15.571Z"
   },
   {
    "duration": 0,
    "start_time": "2024-01-07T11:44:15.835Z"
   },
   {
    "duration": 1190,
    "start_time": "2024-01-08T10:29:49.154Z"
   },
   {
    "duration": 14647,
    "start_time": "2024-01-08T10:29:50.346Z"
   },
   {
    "duration": 7909,
    "start_time": "2024-01-08T10:30:04.996Z"
   },
   {
    "duration": 102,
    "start_time": "2024-01-08T10:30:12.906Z"
   },
   {
    "duration": 482,
    "start_time": "2024-01-08T10:30:13.010Z"
   },
   {
    "duration": 2,
    "start_time": "2024-01-08T10:30:13.494Z"
   },
   {
    "duration": 4,
    "start_time": "2024-01-08T10:30:13.498Z"
   },
   {
    "duration": 4594,
    "start_time": "2024-01-08T10:30:13.504Z"
   },
   {
    "duration": 215,
    "start_time": "2024-01-08T10:30:18.100Z"
   },
   {
    "duration": 0,
    "start_time": "2024-01-08T10:30:18.317Z"
   },
   {
    "duration": 0,
    "start_time": "2024-01-08T10:30:18.319Z"
   },
   {
    "duration": 0,
    "start_time": "2024-01-08T10:30:18.321Z"
   },
   {
    "duration": 0,
    "start_time": "2024-01-08T10:30:18.322Z"
   },
   {
    "duration": 0,
    "start_time": "2024-01-08T10:30:18.324Z"
   },
   {
    "duration": 0,
    "start_time": "2024-01-08T10:30:18.383Z"
   },
   {
    "duration": 0,
    "start_time": "2024-01-08T10:30:18.384Z"
   },
   {
    "duration": 0,
    "start_time": "2024-01-08T10:30:18.386Z"
   },
   {
    "duration": 276,
    "start_time": "2024-01-08T10:30:29.935Z"
   },
   {
    "duration": 240,
    "start_time": "2024-01-08T10:33:38.480Z"
   },
   {
    "duration": 16,
    "start_time": "2024-01-08T10:39:14.486Z"
   },
   {
    "duration": 226,
    "start_time": "2024-01-08T10:39:31.356Z"
   },
   {
    "duration": 8,
    "start_time": "2024-01-08T10:43:18.371Z"
   },
   {
    "duration": 191,
    "start_time": "2024-01-08T10:43:27.734Z"
   },
   {
    "duration": 241,
    "start_time": "2024-01-08T10:44:47.983Z"
   },
   {
    "duration": 938,
    "start_time": "2024-01-08T10:45:11.603Z"
   },
   {
    "duration": 45,
    "start_time": "2024-01-08T10:45:33.032Z"
   },
   {
    "duration": 2593,
    "start_time": "2024-01-08T10:49:20.921Z"
   },
   {
    "duration": 18,
    "start_time": "2024-01-08T10:53:34.266Z"
   },
   {
    "duration": 5,
    "start_time": "2024-01-08T10:54:26.294Z"
   },
   {
    "duration": 9,
    "start_time": "2024-01-08T10:54:48.470Z"
   },
   {
    "duration": 2590,
    "start_time": "2024-01-08T10:54:55.324Z"
   },
   {
    "duration": 126,
    "start_time": "2024-01-08T10:57:23.364Z"
   },
   {
    "duration": 10,
    "start_time": "2024-01-08T11:11:41.566Z"
   },
   {
    "duration": 472,
    "start_time": "2024-01-08T11:11:54.428Z"
   },
   {
    "duration": 618,
    "start_time": "2024-01-08T11:12:09.870Z"
   },
   {
    "duration": 2118,
    "start_time": "2024-01-08T11:12:22.479Z"
   },
   {
    "duration": 210,
    "start_time": "2024-01-08T11:12:45.298Z"
   },
   {
    "duration": 1037,
    "start_time": "2024-01-08T11:12:48.040Z"
   },
   {
    "duration": 753,
    "start_time": "2024-01-08T11:15:49.122Z"
   },
   {
    "duration": 187,
    "start_time": "2024-01-08T11:34:19.300Z"
   },
   {
    "duration": 1147,
    "start_time": "2024-01-08T11:34:34.040Z"
   },
   {
    "duration": 15497,
    "start_time": "2024-01-08T11:34:35.189Z"
   },
   {
    "duration": 8194,
    "start_time": "2024-01-08T11:34:50.688Z"
   },
   {
    "duration": 35,
    "start_time": "2024-01-08T11:34:58.885Z"
   },
   {
    "duration": 1392,
    "start_time": "2024-01-08T11:34:58.922Z"
   },
   {
    "duration": 50,
    "start_time": "2024-01-08T11:35:00.382Z"
   },
   {
    "duration": 2653,
    "start_time": "2024-01-08T11:35:00.434Z"
   },
   {
    "duration": 136,
    "start_time": "2024-01-08T11:35:03.089Z"
   },
   {
    "duration": 0,
    "start_time": "2024-01-08T11:35:03.227Z"
   },
   {
    "duration": 0,
    "start_time": "2024-01-08T11:35:03.228Z"
   },
   {
    "duration": 0,
    "start_time": "2024-01-08T11:35:03.229Z"
   },
   {
    "duration": 0,
    "start_time": "2024-01-08T11:35:03.230Z"
   },
   {
    "duration": 0,
    "start_time": "2024-01-08T11:35:03.231Z"
   },
   {
    "duration": 0,
    "start_time": "2024-01-08T11:35:03.232Z"
   },
   {
    "duration": 0,
    "start_time": "2024-01-08T11:35:03.233Z"
   },
   {
    "duration": 0,
    "start_time": "2024-01-08T11:35:03.234Z"
   },
   {
    "duration": 0,
    "start_time": "2024-01-08T11:35:03.235Z"
   },
   {
    "duration": 0,
    "start_time": "2024-01-08T11:35:03.236Z"
   },
   {
    "duration": 0,
    "start_time": "2024-01-08T11:35:03.237Z"
   },
   {
    "duration": 10,
    "start_time": "2024-01-08T11:35:29.988Z"
   },
   {
    "duration": 4,
    "start_time": "2024-01-08T11:36:53.766Z"
   },
   {
    "duration": 9,
    "start_time": "2024-01-08T11:36:59.237Z"
   },
   {
    "duration": 3,
    "start_time": "2024-01-08T11:41:23.722Z"
   },
   {
    "duration": 4592,
    "start_time": "2024-01-08T11:41:27.490Z"
   },
   {
    "duration": 2397,
    "start_time": "2024-01-08T11:41:32.085Z"
   },
   {
    "duration": 1159,
    "start_time": "2024-01-08T11:41:45.150Z"
   },
   {
    "duration": 11871,
    "start_time": "2024-01-08T11:41:46.311Z"
   },
   {
    "duration": 0,
    "start_time": "2024-01-08T11:41:58.186Z"
   },
   {
    "duration": 0,
    "start_time": "2024-01-08T11:41:58.187Z"
   },
   {
    "duration": 0,
    "start_time": "2024-01-08T11:41:58.188Z"
   },
   {
    "duration": 0,
    "start_time": "2024-01-08T11:41:58.190Z"
   },
   {
    "duration": 0,
    "start_time": "2024-01-08T11:41:58.192Z"
   },
   {
    "duration": 0,
    "start_time": "2024-01-08T11:41:58.195Z"
   },
   {
    "duration": 0,
    "start_time": "2024-01-08T11:41:58.197Z"
   },
   {
    "duration": 0,
    "start_time": "2024-01-08T11:41:58.198Z"
   },
   {
    "duration": 0,
    "start_time": "2024-01-08T11:41:58.282Z"
   },
   {
    "duration": 0,
    "start_time": "2024-01-08T11:41:58.284Z"
   },
   {
    "duration": 0,
    "start_time": "2024-01-08T11:41:58.286Z"
   },
   {
    "duration": 0,
    "start_time": "2024-01-08T11:41:58.287Z"
   },
   {
    "duration": 0,
    "start_time": "2024-01-08T11:41:58.288Z"
   },
   {
    "duration": 0,
    "start_time": "2024-01-08T11:41:58.289Z"
   },
   {
    "duration": 0,
    "start_time": "2024-01-08T11:41:58.291Z"
   },
   {
    "duration": 0,
    "start_time": "2024-01-08T11:41:58.292Z"
   },
   {
    "duration": 0,
    "start_time": "2024-01-08T11:41:58.293Z"
   },
   {
    "duration": 1131,
    "start_time": "2024-01-08T11:45:40.389Z"
   },
   {
    "duration": 14489,
    "start_time": "2024-01-08T11:45:41.522Z"
   },
   {
    "duration": 7786,
    "start_time": "2024-01-08T11:45:56.012Z"
   },
   {
    "duration": 98,
    "start_time": "2024-01-08T11:46:03.801Z"
   },
   {
    "duration": 1325,
    "start_time": "2024-01-08T11:46:03.900Z"
   },
   {
    "duration": 57,
    "start_time": "2024-01-08T11:46:05.226Z"
   },
   {
    "duration": 2508,
    "start_time": "2024-01-08T11:46:05.284Z"
   },
   {
    "duration": 4793,
    "start_time": "2024-01-08T11:46:07.794Z"
   },
   {
    "duration": 2430,
    "start_time": "2024-01-08T11:46:12.589Z"
   },
   {
    "duration": 115,
    "start_time": "2024-01-08T11:46:15.083Z"
   },
   {
    "duration": 0,
    "start_time": "2024-01-08T11:46:15.200Z"
   },
   {
    "duration": 0,
    "start_time": "2024-01-08T11:46:15.201Z"
   },
   {
    "duration": 0,
    "start_time": "2024-01-08T11:46:15.202Z"
   },
   {
    "duration": 0,
    "start_time": "2024-01-08T11:46:15.203Z"
   },
   {
    "duration": 0,
    "start_time": "2024-01-08T11:46:15.205Z"
   },
   {
    "duration": 0,
    "start_time": "2024-01-08T11:46:15.206Z"
   },
   {
    "duration": 0,
    "start_time": "2024-01-08T11:46:15.207Z"
   },
   {
    "duration": 0,
    "start_time": "2024-01-08T11:46:15.208Z"
   },
   {
    "duration": 0,
    "start_time": "2024-01-08T11:46:15.209Z"
   },
   {
    "duration": 39,
    "start_time": "2024-01-08T12:23:48.672Z"
   },
   {
    "duration": 3,
    "start_time": "2024-01-08T12:23:53.252Z"
   },
   {
    "duration": 135,
    "start_time": "2024-01-08T12:23:54.020Z"
   },
   {
    "duration": 143,
    "start_time": "2024-01-08T12:25:02.428Z"
   },
   {
    "duration": 714,
    "start_time": "2024-01-08T12:25:46.705Z"
   },
   {
    "duration": 14595,
    "start_time": "2024-01-08T12:25:47.421Z"
   },
   {
    "duration": 7977,
    "start_time": "2024-01-08T12:26:02.018Z"
   },
   {
    "duration": 32,
    "start_time": "2024-01-08T12:26:09.997Z"
   },
   {
    "duration": 1358,
    "start_time": "2024-01-08T12:26:10.032Z"
   },
   {
    "duration": 41,
    "start_time": "2024-01-08T12:26:11.391Z"
   },
   {
    "duration": 2587,
    "start_time": "2024-01-08T12:26:11.434Z"
   },
   {
    "duration": 4293,
    "start_time": "2024-01-08T12:26:14.023Z"
   },
   {
    "duration": 2294,
    "start_time": "2024-01-08T12:26:18.318Z"
   },
   {
    "duration": 3,
    "start_time": "2024-01-08T12:26:20.614Z"
   },
   {
    "duration": 391,
    "start_time": "2024-01-08T12:26:20.618Z"
   },
   {
    "duration": 0,
    "start_time": "2024-01-08T12:26:21.011Z"
   },
   {
    "duration": 0,
    "start_time": "2024-01-08T12:26:21.016Z"
   },
   {
    "duration": 0,
    "start_time": "2024-01-08T12:26:21.017Z"
   },
   {
    "duration": 0,
    "start_time": "2024-01-08T12:26:21.018Z"
   },
   {
    "duration": 0,
    "start_time": "2024-01-08T12:26:21.019Z"
   },
   {
    "duration": 0,
    "start_time": "2024-01-08T12:26:21.020Z"
   },
   {
    "duration": 0,
    "start_time": "2024-01-08T12:26:21.021Z"
   },
   {
    "duration": 0,
    "start_time": "2024-01-08T12:26:21.022Z"
   },
   {
    "duration": 1749,
    "start_time": "2024-01-08T12:29:14.895Z"
   },
   {
    "duration": 579,
    "start_time": "2024-01-08T12:29:22.931Z"
   },
   {
    "duration": 108,
    "start_time": "2024-01-08T12:29:37.411Z"
   },
   {
    "duration": 75,
    "start_time": "2024-01-08T12:30:44.135Z"
   },
   {
    "duration": 70,
    "start_time": "2024-01-08T12:30:50.841Z"
   },
   {
    "duration": 89,
    "start_time": "2024-01-08T12:31:02.255Z"
   },
   {
    "duration": 38,
    "start_time": "2024-01-08T12:31:17.767Z"
   },
   {
    "duration": 163,
    "start_time": "2024-01-08T12:31:31.125Z"
   },
   {
    "duration": 615,
    "start_time": "2024-01-08T12:54:43.771Z"
   },
   {
    "duration": 35,
    "start_time": "2024-01-08T12:58:51.097Z"
   },
   {
    "duration": 1150,
    "start_time": "2024-01-08T12:58:51.963Z"
   },
   {
    "duration": 10,
    "start_time": "2024-01-08T12:59:20.535Z"
   },
   {
    "duration": 345,
    "start_time": "2024-01-08T13:02:18.344Z"
   },
   {
    "duration": 397,
    "start_time": "2024-01-08T13:03:48.102Z"
   },
   {
    "duration": 107,
    "start_time": "2024-01-08T13:07:19.443Z"
   },
   {
    "duration": 8,
    "start_time": "2024-01-08T13:07:35.815Z"
   },
   {
    "duration": 8,
    "start_time": "2024-01-08T13:08:04.438Z"
   },
   {
    "duration": 314,
    "start_time": "2024-01-08T13:08:14.680Z"
   },
   {
    "duration": 4618,
    "start_time": "2024-01-08T13:09:01.745Z"
   },
   {
    "duration": 691,
    "start_time": "2024-01-08T13:13:38.941Z"
   },
   {
    "duration": 14476,
    "start_time": "2024-01-08T13:13:39.634Z"
   },
   {
    "duration": 7887,
    "start_time": "2024-01-08T13:13:54.113Z"
   },
   {
    "duration": 87,
    "start_time": "2024-01-08T13:14:02.002Z"
   },
   {
    "duration": 1199,
    "start_time": "2024-01-08T13:14:02.090Z"
   },
   {
    "duration": 194,
    "start_time": "2024-01-08T13:14:03.290Z"
   },
   {
    "duration": 2510,
    "start_time": "2024-01-08T13:14:03.485Z"
   },
   {
    "duration": 4613,
    "start_time": "2024-01-08T13:14:05.997Z"
   },
   {
    "duration": 2405,
    "start_time": "2024-01-08T13:14:10.611Z"
   },
   {
    "duration": 65,
    "start_time": "2024-01-08T13:14:13.018Z"
   },
   {
    "duration": 1761,
    "start_time": "2024-01-08T13:14:13.085Z"
   },
   {
    "duration": 741,
    "start_time": "2024-01-08T13:14:14.848Z"
   },
   {
    "duration": 40,
    "start_time": "2024-01-08T13:14:15.591Z"
   },
   {
    "duration": 28,
    "start_time": "2024-01-08T13:14:15.684Z"
   },
   {
    "duration": 1469,
    "start_time": "2024-01-08T13:14:15.714Z"
   },
   {
    "duration": 8,
    "start_time": "2024-01-08T13:14:17.184Z"
   },
   {
    "duration": 134,
    "start_time": "2024-01-08T13:14:17.194Z"
   },
   {
    "duration": 0,
    "start_time": "2024-01-08T13:14:17.330Z"
   },
   {
    "duration": 0,
    "start_time": "2024-01-08T13:14:17.331Z"
   },
   {
    "duration": 0,
    "start_time": "2024-01-08T13:14:17.333Z"
   },
   {
    "duration": 0,
    "start_time": "2024-01-08T13:14:17.334Z"
   },
   {
    "duration": 0,
    "start_time": "2024-01-08T13:14:17.337Z"
   },
   {
    "duration": 0,
    "start_time": "2024-01-08T13:14:17.338Z"
   },
   {
    "duration": 0,
    "start_time": "2024-01-08T13:14:17.340Z"
   },
   {
    "duration": 0,
    "start_time": "2024-01-08T13:14:17.341Z"
   },
   {
    "duration": 383,
    "start_time": "2024-01-08T13:14:55.707Z"
   },
   {
    "duration": 391,
    "start_time": "2024-01-08T13:15:36.205Z"
   },
   {
    "duration": 734,
    "start_time": "2024-01-08T13:16:58.382Z"
   },
   {
    "duration": 14895,
    "start_time": "2024-01-08T13:16:59.118Z"
   },
   {
    "duration": 8089,
    "start_time": "2024-01-08T13:17:14.015Z"
   },
   {
    "duration": 95,
    "start_time": "2024-01-08T13:17:22.106Z"
   },
   {
    "duration": 1323,
    "start_time": "2024-01-08T13:17:22.203Z"
   },
   {
    "duration": 98,
    "start_time": "2024-01-08T13:17:23.528Z"
   },
   {
    "duration": 2617,
    "start_time": "2024-01-08T13:17:23.628Z"
   },
   {
    "duration": 4864,
    "start_time": "2024-01-08T13:17:26.246Z"
   },
   {
    "duration": 2500,
    "start_time": "2024-01-08T13:17:31.112Z"
   },
   {
    "duration": 3,
    "start_time": "2024-01-08T13:17:33.615Z"
   },
   {
    "duration": 1983,
    "start_time": "2024-01-08T13:17:33.619Z"
   },
   {
    "duration": 631,
    "start_time": "2024-01-08T13:17:35.604Z"
   },
   {
    "duration": 146,
    "start_time": "2024-01-08T13:17:36.236Z"
   },
   {
    "duration": 28,
    "start_time": "2024-01-08T13:17:36.384Z"
   },
   {
    "duration": 1695,
    "start_time": "2024-01-08T13:17:36.413Z"
   },
   {
    "duration": 6,
    "start_time": "2024-01-08T13:17:38.110Z"
   },
   {
    "duration": 507,
    "start_time": "2024-01-08T13:17:38.181Z"
   },
   {
    "duration": 109,
    "start_time": "2024-01-08T13:17:38.689Z"
   },
   {
    "duration": 0,
    "start_time": "2024-01-08T13:17:38.799Z"
   },
   {
    "duration": 0,
    "start_time": "2024-01-08T13:17:38.801Z"
   },
   {
    "duration": 0,
    "start_time": "2024-01-08T13:17:38.804Z"
   },
   {
    "duration": 0,
    "start_time": "2024-01-08T13:17:38.805Z"
   },
   {
    "duration": 0,
    "start_time": "2024-01-08T13:17:38.806Z"
   },
   {
    "duration": 9,
    "start_time": "2024-01-08T13:22:49.702Z"
   },
   {
    "duration": 4,
    "start_time": "2024-01-08T13:24:13.298Z"
   },
   {
    "duration": 2526,
    "start_time": "2024-01-08T13:24:18.873Z"
   },
   {
    "duration": 721,
    "start_time": "2024-01-08T13:26:03.695Z"
   },
   {
    "duration": 15098,
    "start_time": "2024-01-08T13:26:04.418Z"
   },
   {
    "duration": 8293,
    "start_time": "2024-01-08T13:26:19.517Z"
   },
   {
    "duration": 94,
    "start_time": "2024-01-08T13:26:27.812Z"
   },
   {
    "duration": 1235,
    "start_time": "2024-01-08T13:26:27.908Z"
   },
   {
    "duration": 71,
    "start_time": "2024-01-08T13:26:29.145Z"
   },
   {
    "duration": 2548,
    "start_time": "2024-01-08T13:26:29.218Z"
   },
   {
    "duration": 5128,
    "start_time": "2024-01-08T13:26:31.768Z"
   },
   {
    "duration": 2424,
    "start_time": "2024-01-08T13:26:36.898Z"
   },
   {
    "duration": 3,
    "start_time": "2024-01-08T13:26:39.325Z"
   },
   {
    "duration": 1960,
    "start_time": "2024-01-08T13:26:39.329Z"
   },
   {
    "duration": 742,
    "start_time": "2024-01-08T13:26:41.291Z"
   },
   {
    "duration": 147,
    "start_time": "2024-01-08T13:26:42.035Z"
   },
   {
    "duration": 32,
    "start_time": "2024-01-08T13:26:42.184Z"
   },
   {
    "duration": 1389,
    "start_time": "2024-01-08T13:26:42.217Z"
   },
   {
    "duration": 5,
    "start_time": "2024-01-08T13:26:43.607Z"
   },
   {
    "duration": 584,
    "start_time": "2024-01-08T13:26:43.614Z"
   },
   {
    "duration": 2931,
    "start_time": "2024-01-08T13:26:44.200Z"
   },
   {
    "duration": 3,
    "start_time": "2024-01-08T13:26:47.183Z"
   },
   {
    "duration": 11,
    "start_time": "2024-01-08T13:26:47.188Z"
   },
   {
    "duration": 4,
    "start_time": "2024-01-08T13:26:47.200Z"
   },
   {
    "duration": 7,
    "start_time": "2024-01-08T13:26:47.206Z"
   },
   {
    "duration": 701,
    "start_time": "2024-01-08T14:36:57.325Z"
   },
   {
    "duration": 14658,
    "start_time": "2024-01-08T14:36:58.028Z"
   },
   {
    "duration": 8427,
    "start_time": "2024-01-08T14:37:12.688Z"
   },
   {
    "duration": 96,
    "start_time": "2024-01-08T14:37:21.117Z"
   },
   {
    "duration": 1422,
    "start_time": "2024-01-08T14:37:21.215Z"
   },
   {
    "duration": 81,
    "start_time": "2024-01-08T14:37:22.638Z"
   },
   {
    "duration": 2555,
    "start_time": "2024-01-08T14:37:22.720Z"
   },
   {
    "duration": 5531,
    "start_time": "2024-01-08T14:37:25.276Z"
   },
   {
    "duration": 2385,
    "start_time": "2024-01-08T14:37:30.810Z"
   },
   {
    "duration": 3,
    "start_time": "2024-01-08T14:37:33.198Z"
   },
   {
    "duration": 1993,
    "start_time": "2024-01-08T14:37:33.203Z"
   },
   {
    "duration": 587,
    "start_time": "2024-01-08T14:37:35.198Z"
   },
   {
    "duration": 109,
    "start_time": "2024-01-08T14:37:35.787Z"
   },
   {
    "duration": 85,
    "start_time": "2024-01-08T14:37:35.898Z"
   },
   {
    "duration": 1422,
    "start_time": "2024-01-08T14:37:35.985Z"
   },
   {
    "duration": 5,
    "start_time": "2024-01-08T14:37:37.409Z"
   },
   {
    "duration": 601,
    "start_time": "2024-01-08T14:37:37.482Z"
   },
   {
    "duration": 3002,
    "start_time": "2024-01-08T14:37:38.085Z"
   },
   {
    "duration": 4681,
    "start_time": "2024-01-08T14:37:41.090Z"
   },
   {
    "duration": 0,
    "start_time": "2024-01-08T14:37:45.773Z"
   },
   {
    "duration": 0,
    "start_time": "2024-01-08T14:37:45.774Z"
   },
   {
    "duration": 0,
    "start_time": "2024-01-08T14:37:45.776Z"
   },
   {
    "duration": 3216,
    "start_time": "2024-01-08T14:39:55.088Z"
   },
   {
    "duration": 2657,
    "start_time": "2024-01-08T14:40:03.412Z"
   },
   {
    "duration": 3749,
    "start_time": "2024-01-08T14:40:41.345Z"
   },
   {
    "duration": 2550,
    "start_time": "2024-01-08T14:43:02.239Z"
   },
   {
    "duration": 2497,
    "start_time": "2024-01-08T14:43:13.813Z"
   },
   {
    "duration": 1819,
    "start_time": "2024-01-08T14:45:04.981Z"
   },
   {
    "duration": 2134,
    "start_time": "2024-01-08T14:45:27.050Z"
   },
   {
    "duration": 695,
    "start_time": "2024-01-08T15:21:01.434Z"
   },
   {
    "duration": 14798,
    "start_time": "2024-01-08T15:21:02.131Z"
   },
   {
    "duration": 8513,
    "start_time": "2024-01-08T15:21:16.984Z"
   },
   {
    "duration": 102,
    "start_time": "2024-01-08T15:21:25.500Z"
   },
   {
    "duration": 1424,
    "start_time": "2024-01-08T15:21:25.603Z"
   },
   {
    "duration": 161,
    "start_time": "2024-01-08T15:21:27.029Z"
   },
   {
    "duration": 2617,
    "start_time": "2024-01-08T15:21:27.192Z"
   },
   {
    "duration": 5782,
    "start_time": "2024-01-08T15:21:29.810Z"
   },
   {
    "duration": 2609,
    "start_time": "2024-01-08T15:21:35.594Z"
   },
   {
    "duration": 3,
    "start_time": "2024-01-08T15:21:38.206Z"
   },
   {
    "duration": 2091,
    "start_time": "2024-01-08T15:21:38.210Z"
   },
   {
    "duration": 816,
    "start_time": "2024-01-08T15:21:40.303Z"
   },
   {
    "duration": 105,
    "start_time": "2024-01-08T15:21:41.183Z"
   },
   {
    "duration": 96,
    "start_time": "2024-01-08T15:21:41.290Z"
   },
   {
    "duration": 1715,
    "start_time": "2024-01-08T15:21:41.388Z"
   },
   {
    "duration": 7,
    "start_time": "2024-01-08T15:21:43.105Z"
   },
   {
    "duration": 774,
    "start_time": "2024-01-08T15:21:43.114Z"
   },
   {
    "duration": 3521,
    "start_time": "2024-01-08T15:21:43.889Z"
   },
   {
    "duration": 5812,
    "start_time": "2024-01-08T15:21:47.482Z"
   },
   {
    "duration": 206,
    "start_time": "2024-01-08T15:21:53.297Z"
   },
   {
    "duration": 0,
    "start_time": "2024-01-08T15:21:53.505Z"
   },
   {
    "duration": 0,
    "start_time": "2024-01-08T15:21:53.507Z"
   },
   {
    "duration": 0,
    "start_time": "2024-01-08T15:21:53.508Z"
   },
   {
    "duration": 3346,
    "start_time": "2024-01-08T15:22:00.982Z"
   },
   {
    "duration": 4,
    "start_time": "2024-01-08T15:22:27.445Z"
   },
   {
    "duration": 775,
    "start_time": "2024-01-08T15:22:35.951Z"
   },
   {
    "duration": 3335,
    "start_time": "2024-01-08T15:22:59.475Z"
   },
   {
    "duration": 871,
    "start_time": "2024-01-08T15:23:02.812Z"
   },
   {
    "duration": 4,
    "start_time": "2024-01-08T15:28:02.052Z"
   },
   {
    "duration": 3,
    "start_time": "2024-01-08T15:28:34.953Z"
   },
   {
    "duration": 689,
    "start_time": "2024-01-08T15:38:02.736Z"
   },
   {
    "duration": 14691,
    "start_time": "2024-01-08T15:38:03.427Z"
   },
   {
    "duration": 8388,
    "start_time": "2024-01-08T15:38:18.120Z"
   },
   {
    "duration": 91,
    "start_time": "2024-01-08T15:38:26.510Z"
   },
   {
    "duration": 1286,
    "start_time": "2024-01-08T15:38:26.602Z"
   },
   {
    "duration": 42,
    "start_time": "2024-01-08T15:38:27.890Z"
   },
   {
    "duration": 2577,
    "start_time": "2024-01-08T15:38:27.933Z"
   },
   {
    "duration": 4679,
    "start_time": "2024-01-08T15:38:30.511Z"
   },
   {
    "duration": 2501,
    "start_time": "2024-01-08T15:38:35.192Z"
   },
   {
    "duration": 3,
    "start_time": "2024-01-08T15:38:37.696Z"
   },
   {
    "duration": 1687,
    "start_time": "2024-01-08T15:38:37.700Z"
   },
   {
    "duration": 599,
    "start_time": "2024-01-08T15:38:39.388Z"
   },
   {
    "duration": 98,
    "start_time": "2024-01-08T15:38:39.988Z"
   },
   {
    "duration": 94,
    "start_time": "2024-01-08T15:38:40.088Z"
   },
   {
    "duration": 1326,
    "start_time": "2024-01-08T15:38:40.184Z"
   },
   {
    "duration": 70,
    "start_time": "2024-01-08T15:38:41.512Z"
   },
   {
    "duration": 706,
    "start_time": "2024-01-08T15:38:41.583Z"
   },
   {
    "duration": 2893,
    "start_time": "2024-01-08T15:38:42.291Z"
   },
   {
    "duration": 4705,
    "start_time": "2024-01-08T15:38:45.187Z"
   },
   {
    "duration": 988,
    "start_time": "2024-01-08T15:38:49.894Z"
   },
   {
    "duration": 603,
    "start_time": "2024-01-08T15:38:50.884Z"
   },
   {
    "duration": 3411,
    "start_time": "2024-01-08T15:38:51.488Z"
   },
   {
    "duration": 759,
    "start_time": "2024-01-08T15:38:54.901Z"
   },
   {
    "duration": 3,
    "start_time": "2024-01-08T15:38:55.682Z"
   },
   {
    "duration": 30,
    "start_time": "2024-01-08T15:38:55.686Z"
   },
   {
    "duration": 2777,
    "start_time": "2024-01-08T15:41:09.969Z"
   },
   {
    "duration": 502,
    "start_time": "2024-01-08T15:51:08.714Z"
   },
   {
    "duration": 766,
    "start_time": "2024-01-08T15:52:40.458Z"
   },
   {
    "duration": 14768,
    "start_time": "2024-01-08T15:52:41.226Z"
   },
   {
    "duration": 8123,
    "start_time": "2024-01-08T15:52:55.996Z"
   },
   {
    "duration": 34,
    "start_time": "2024-01-08T15:53:04.183Z"
   },
   {
    "duration": 1280,
    "start_time": "2024-01-08T15:53:04.219Z"
   },
   {
    "duration": 111,
    "start_time": "2024-01-08T15:53:05.501Z"
   },
   {
    "duration": 2582,
    "start_time": "2024-01-08T15:53:05.614Z"
   },
   {
    "duration": 5086,
    "start_time": "2024-01-08T15:53:08.198Z"
   },
   {
    "duration": 2516,
    "start_time": "2024-01-08T15:53:13.287Z"
   },
   {
    "duration": 4,
    "start_time": "2024-01-08T15:53:15.806Z"
   },
   {
    "duration": 2092,
    "start_time": "2024-01-08T15:53:15.812Z"
   },
   {
    "duration": 790,
    "start_time": "2024-01-08T15:53:17.906Z"
   },
   {
    "duration": 112,
    "start_time": "2024-01-08T15:53:18.698Z"
   },
   {
    "duration": 104,
    "start_time": "2024-01-08T15:53:18.812Z"
   },
   {
    "duration": 1598,
    "start_time": "2024-01-08T15:53:18.918Z"
   },
   {
    "duration": 7,
    "start_time": "2024-01-08T15:53:20.583Z"
   },
   {
    "duration": 611,
    "start_time": "2024-01-08T15:53:20.592Z"
   },
   {
    "duration": 3301,
    "start_time": "2024-01-08T15:53:21.205Z"
   },
   {
    "duration": 4973,
    "start_time": "2024-01-08T15:53:24.508Z"
   },
   {
    "duration": 2444,
    "start_time": "2024-01-08T15:53:29.483Z"
   },
   {
    "duration": 3829,
    "start_time": "2024-01-08T15:53:31.928Z"
   },
   {
    "duration": 2024,
    "start_time": "2024-01-08T15:53:35.758Z"
   },
   {
    "duration": 2,
    "start_time": "2024-01-08T15:53:37.784Z"
   },
   {
    "duration": 16,
    "start_time": "2024-01-08T15:56:02.462Z"
   },
   {
    "duration": 291,
    "start_time": "2024-01-08T15:56:13.795Z"
   },
   {
    "duration": 238,
    "start_time": "2024-01-08T15:56:23.989Z"
   },
   {
    "duration": 166,
    "start_time": "2024-01-08T15:56:39.032Z"
   },
   {
    "duration": 13,
    "start_time": "2024-01-08T15:57:35.992Z"
   },
   {
    "duration": 85,
    "start_time": "2024-01-08T16:07:53.626Z"
   },
   {
    "duration": 11,
    "start_time": "2024-01-08T16:08:50.065Z"
   },
   {
    "duration": 8,
    "start_time": "2024-01-08T16:09:01.482Z"
   },
   {
    "duration": 12,
    "start_time": "2024-01-08T16:09:16.651Z"
   },
   {
    "duration": 12,
    "start_time": "2024-01-08T16:11:23.731Z"
   },
   {
    "duration": 6,
    "start_time": "2024-01-08T16:11:55.783Z"
   },
   {
    "duration": 26,
    "start_time": "2024-01-08T16:12:05.878Z"
   },
   {
    "duration": 9,
    "start_time": "2024-01-08T16:21:34.550Z"
   },
   {
    "duration": 144,
    "start_time": "2024-01-08T16:21:43.333Z"
   },
   {
    "duration": 4,
    "start_time": "2024-01-08T16:21:46.208Z"
   },
   {
    "duration": 1092,
    "start_time": "2024-01-08T16:24:00.124Z"
   },
   {
    "duration": 3,
    "start_time": "2024-01-08T16:24:09.877Z"
   },
   {
    "duration": 151,
    "start_time": "2024-01-08T16:24:48.265Z"
   },
   {
    "duration": 612,
    "start_time": "2024-01-08T16:24:49.689Z"
   },
   {
    "duration": 684,
    "start_time": "2024-01-08T16:29:32.538Z"
   },
   {
    "duration": 14981,
    "start_time": "2024-01-08T16:29:33.224Z"
   },
   {
    "duration": 8486,
    "start_time": "2024-01-08T16:29:48.207Z"
   },
   {
    "duration": 87,
    "start_time": "2024-01-08T16:29:56.696Z"
   },
   {
    "duration": 1225,
    "start_time": "2024-01-08T16:29:56.785Z"
   },
   {
    "duration": 102,
    "start_time": "2024-01-08T16:29:58.012Z"
   },
   {
    "duration": 3100,
    "start_time": "2024-01-08T16:29:58.115Z"
   },
   {
    "duration": 4782,
    "start_time": "2024-01-08T16:30:01.217Z"
   },
   {
    "duration": 2390,
    "start_time": "2024-01-08T16:30:06.001Z"
   },
   {
    "duration": 3,
    "start_time": "2024-01-08T16:30:08.394Z"
   },
   {
    "duration": 1859,
    "start_time": "2024-01-08T16:30:08.399Z"
   },
   {
    "duration": 743,
    "start_time": "2024-01-08T16:30:10.259Z"
   },
   {
    "duration": 104,
    "start_time": "2024-01-08T16:30:11.004Z"
   },
   {
    "duration": 89,
    "start_time": "2024-01-08T16:30:11.110Z"
   },
   {
    "duration": 1503,
    "start_time": "2024-01-08T16:30:11.201Z"
   },
   {
    "duration": 5,
    "start_time": "2024-01-08T16:30:12.706Z"
   },
   {
    "duration": 607,
    "start_time": "2024-01-08T16:30:12.713Z"
   },
   {
    "duration": 3182,
    "start_time": "2024-01-08T16:30:13.322Z"
   },
   {
    "duration": 5285,
    "start_time": "2024-01-08T16:30:16.506Z"
   },
   {
    "duration": 2913,
    "start_time": "2024-01-08T16:30:21.794Z"
   },
   {
    "duration": 1197,
    "start_time": "2024-01-08T16:30:24.709Z"
   },
   {
    "duration": 3512,
    "start_time": "2024-01-08T16:30:25.909Z"
   },
   {
    "duration": 2569,
    "start_time": "2024-01-08T16:30:29.423Z"
   },
   {
    "duration": 1045,
    "start_time": "2024-01-08T16:30:31.993Z"
   },
   {
    "duration": 2,
    "start_time": "2024-01-08T16:30:33.040Z"
   },
   {
    "duration": 165,
    "start_time": "2024-01-08T16:31:07.892Z"
   },
   {
    "duration": 750,
    "start_time": "2024-01-08T16:44:33.768Z"
   },
   {
    "duration": 14604,
    "start_time": "2024-01-08T16:44:34.519Z"
   },
   {
    "duration": 8085,
    "start_time": "2024-01-08T16:44:49.125Z"
   },
   {
    "duration": 94,
    "start_time": "2024-01-08T16:44:57.213Z"
   },
   {
    "duration": 1339,
    "start_time": "2024-01-08T16:44:57.309Z"
   },
   {
    "duration": 72,
    "start_time": "2024-01-08T16:44:58.650Z"
   },
   {
    "duration": 2536,
    "start_time": "2024-01-08T16:44:58.723Z"
   },
   {
    "duration": 4621,
    "start_time": "2024-01-08T16:45:01.261Z"
   },
   {
    "duration": 2299,
    "start_time": "2024-01-08T16:45:05.885Z"
   },
   {
    "duration": 4,
    "start_time": "2024-01-08T16:45:08.188Z"
   },
   {
    "duration": 2053,
    "start_time": "2024-01-08T16:45:08.194Z"
   },
   {
    "duration": 655,
    "start_time": "2024-01-08T16:45:10.248Z"
   },
   {
    "duration": 112,
    "start_time": "2024-01-08T16:45:10.905Z"
   },
   {
    "duration": 91,
    "start_time": "2024-01-08T16:45:11.018Z"
   },
   {
    "duration": 1277,
    "start_time": "2024-01-08T16:45:11.111Z"
   },
   {
    "duration": 6,
    "start_time": "2024-01-08T16:45:12.389Z"
   },
   {
    "duration": 600,
    "start_time": "2024-01-08T16:45:12.397Z"
   },
   {
    "duration": 3004,
    "start_time": "2024-01-08T16:45:12.999Z"
   },
   {
    "duration": 5511,
    "start_time": "2024-01-08T16:45:16.005Z"
   },
   {
    "duration": 3890,
    "start_time": "2024-01-08T16:45:21.518Z"
   },
   {
    "duration": 1866,
    "start_time": "2024-01-08T16:45:25.410Z"
   },
   {
    "duration": 2065,
    "start_time": "2024-01-08T16:45:27.278Z"
   },
   {
    "duration": 2151,
    "start_time": "2024-01-08T16:45:29.344Z"
   },
   {
    "duration": 0,
    "start_time": "2024-01-08T16:45:31.497Z"
   },
   {
    "duration": 1975,
    "start_time": "2024-01-08T16:46:03.612Z"
   },
   {
    "duration": 1249,
    "start_time": "2024-01-08T16:46:36.435Z"
   },
   {
    "duration": 279,
    "start_time": "2024-01-08T16:46:56.269Z"
   },
   {
    "duration": 725,
    "start_time": "2024-01-08T16:47:55.497Z"
   },
   {
    "duration": 14703,
    "start_time": "2024-01-08T16:47:56.223Z"
   },
   {
    "duration": 8527,
    "start_time": "2024-01-08T16:48:10.982Z"
   },
   {
    "duration": 90,
    "start_time": "2024-01-08T16:48:19.511Z"
   },
   {
    "duration": 1210,
    "start_time": "2024-01-08T16:48:19.603Z"
   },
   {
    "duration": 97,
    "start_time": "2024-01-08T16:48:20.815Z"
   },
   {
    "duration": 2594,
    "start_time": "2024-01-08T16:48:20.914Z"
   },
   {
    "duration": 4707,
    "start_time": "2024-01-08T16:48:23.509Z"
   },
   {
    "duration": 2473,
    "start_time": "2024-01-08T16:48:28.218Z"
   },
   {
    "duration": 3,
    "start_time": "2024-01-08T16:48:30.693Z"
   },
   {
    "duration": 2004,
    "start_time": "2024-01-08T16:48:30.697Z"
   },
   {
    "duration": 609,
    "start_time": "2024-01-08T16:48:32.703Z"
   },
   {
    "duration": 95,
    "start_time": "2024-01-08T16:48:33.314Z"
   },
   {
    "duration": 95,
    "start_time": "2024-01-08T16:48:33.413Z"
   },
   {
    "duration": 1303,
    "start_time": "2024-01-08T16:48:33.510Z"
   },
   {
    "duration": 74,
    "start_time": "2024-01-08T16:48:34.814Z"
   },
   {
    "duration": 557,
    "start_time": "2024-01-08T16:48:34.890Z"
   },
   {
    "duration": 3158,
    "start_time": "2024-01-08T16:48:35.449Z"
   },
   {
    "duration": 5512,
    "start_time": "2024-01-08T16:48:38.682Z"
   },
   {
    "duration": 4511,
    "start_time": "2024-01-08T16:48:44.196Z"
   },
   {
    "duration": 2393,
    "start_time": "2024-01-08T16:48:48.709Z"
   },
   {
    "duration": 2301,
    "start_time": "2024-01-08T16:48:51.105Z"
   },
   {
    "duration": 2338,
    "start_time": "2024-01-08T16:48:53.408Z"
   },
   {
    "duration": 590,
    "start_time": "2024-01-08T16:48:55.747Z"
   },
   {
    "duration": 694,
    "start_time": "2024-01-09T11:42:21.210Z"
   },
   {
    "duration": 14576,
    "start_time": "2024-01-09T11:42:21.907Z"
   },
   {
    "duration": 7695,
    "start_time": "2024-01-09T11:42:36.485Z"
   },
   {
    "duration": 92,
    "start_time": "2024-01-09T11:42:44.182Z"
   },
   {
    "duration": 1282,
    "start_time": "2024-01-09T11:42:44.275Z"
   },
   {
    "duration": 38,
    "start_time": "2024-01-09T11:42:45.558Z"
   },
   {
    "duration": 2684,
    "start_time": "2024-01-09T11:42:45.597Z"
   },
   {
    "duration": 4303,
    "start_time": "2024-01-09T11:42:48.283Z"
   },
   {
    "duration": 2172,
    "start_time": "2024-01-09T11:42:52.588Z"
   },
   {
    "duration": 3,
    "start_time": "2024-01-09T11:42:54.763Z"
   },
   {
    "duration": 1712,
    "start_time": "2024-01-09T11:42:54.768Z"
   },
   {
    "duration": 596,
    "start_time": "2024-01-09T11:42:56.482Z"
   },
   {
    "duration": 107,
    "start_time": "2024-01-09T11:42:57.079Z"
   },
   {
    "duration": 93,
    "start_time": "2024-01-09T11:42:57.188Z"
   },
   {
    "duration": 1212,
    "start_time": "2024-01-09T11:42:57.283Z"
   },
   {
    "duration": 7,
    "start_time": "2024-01-09T11:42:58.556Z"
   },
   {
    "duration": 507,
    "start_time": "2024-01-09T11:42:58.564Z"
   },
   {
    "duration": 3117,
    "start_time": "2024-01-09T11:42:59.072Z"
   },
   {
    "duration": 5212,
    "start_time": "2024-01-09T11:43:02.256Z"
   },
   {
    "duration": 3691,
    "start_time": "2024-01-09T11:43:07.470Z"
   },
   {
    "duration": 1806,
    "start_time": "2024-01-09T11:43:11.162Z"
   },
   {
    "duration": 2195,
    "start_time": "2024-01-09T11:43:12.970Z"
   },
   {
    "duration": 1905,
    "start_time": "2024-01-09T11:43:15.167Z"
   },
   {
    "duration": 2,
    "start_time": "2024-01-09T11:43:17.074Z"
   },
   {
    "duration": 179,
    "start_time": "2024-01-09T11:54:12.365Z"
   },
   {
    "duration": 730,
    "start_time": "2024-01-09T11:54:19.786Z"
   },
   {
    "duration": 14747,
    "start_time": "2024-01-09T11:54:20.519Z"
   },
   {
    "duration": 7988,
    "start_time": "2024-01-09T11:54:35.268Z"
   },
   {
    "duration": 31,
    "start_time": "2024-01-09T11:54:43.257Z"
   },
   {
    "duration": 1276,
    "start_time": "2024-01-09T11:54:43.290Z"
   },
   {
    "duration": 39,
    "start_time": "2024-01-09T11:54:44.568Z"
   },
   {
    "duration": 2306,
    "start_time": "2024-01-09T11:54:44.609Z"
   },
   {
    "duration": 4381,
    "start_time": "2024-01-09T11:54:46.917Z"
   },
   {
    "duration": 2092,
    "start_time": "2024-01-09T11:54:51.356Z"
   },
   {
    "duration": 3,
    "start_time": "2024-01-09T11:54:53.457Z"
   },
   {
    "duration": 1866,
    "start_time": "2024-01-09T11:54:53.462Z"
   },
   {
    "duration": 729,
    "start_time": "2024-01-09T11:54:55.330Z"
   },
   {
    "duration": 114,
    "start_time": "2024-01-09T11:54:56.061Z"
   },
   {
    "duration": 90,
    "start_time": "2024-01-09T11:54:56.177Z"
   },
   {
    "duration": 1221,
    "start_time": "2024-01-09T11:54:56.269Z"
   },
   {
    "duration": 6,
    "start_time": "2024-01-09T11:54:57.556Z"
   },
   {
    "duration": 608,
    "start_time": "2024-01-09T11:54:57.563Z"
   },
   {
    "duration": 2684,
    "start_time": "2024-01-09T11:54:58.173Z"
   },
   {
    "duration": 4438,
    "start_time": "2024-01-09T11:55:00.858Z"
   },
   {
    "duration": 3858,
    "start_time": "2024-01-09T11:55:05.298Z"
   },
   {
    "duration": 2201,
    "start_time": "2024-01-09T11:55:09.158Z"
   },
   {
    "duration": 2800,
    "start_time": "2024-01-09T11:55:11.361Z"
   },
   {
    "duration": 2328,
    "start_time": "2024-01-09T11:55:14.162Z"
   },
   {
    "duration": 2,
    "start_time": "2024-01-09T11:55:16.492Z"
   },
   {
    "duration": 3,
    "start_time": "2024-01-09T12:18:51.058Z"
   },
   {
    "duration": 748,
    "start_time": "2024-01-09T12:19:35.840Z"
   },
   {
    "duration": 14871,
    "start_time": "2024-01-09T12:19:36.589Z"
   },
   {
    "duration": 8038,
    "start_time": "2024-01-09T12:19:51.462Z"
   },
   {
    "duration": 31,
    "start_time": "2024-01-09T12:19:59.555Z"
   },
   {
    "duration": 1481,
    "start_time": "2024-01-09T12:19:59.587Z"
   },
   {
    "duration": 47,
    "start_time": "2024-01-09T12:20:01.070Z"
   },
   {
    "duration": 2586,
    "start_time": "2024-01-09T12:20:01.118Z"
   },
   {
    "duration": 4357,
    "start_time": "2024-01-09T12:20:03.705Z"
   },
   {
    "duration": 2231,
    "start_time": "2024-01-09T12:20:08.064Z"
   },
   {
    "duration": 3,
    "start_time": "2024-01-09T12:20:10.357Z"
   },
   {
    "duration": 1914,
    "start_time": "2024-01-09T12:20:10.362Z"
   },
   {
    "duration": 694,
    "start_time": "2024-01-09T12:20:12.278Z"
   },
   {
    "duration": 94,
    "start_time": "2024-01-09T12:20:12.974Z"
   },
   {
    "duration": 88,
    "start_time": "2024-01-09T12:20:13.071Z"
   },
   {
    "duration": 1222,
    "start_time": "2024-01-09T12:20:13.161Z"
   },
   {
    "duration": 72,
    "start_time": "2024-01-09T12:20:14.385Z"
   },
   {
    "duration": 711,
    "start_time": "2024-01-09T12:20:14.458Z"
   },
   {
    "duration": 2794,
    "start_time": "2024-01-09T12:20:15.171Z"
   },
   {
    "duration": 5216,
    "start_time": "2024-01-09T12:20:17.967Z"
   },
   {
    "duration": 3975,
    "start_time": "2024-01-09T12:20:23.185Z"
   },
   {
    "duration": 1904,
    "start_time": "2024-01-09T12:20:27.162Z"
   },
   {
    "duration": 2040,
    "start_time": "2024-01-09T12:20:29.067Z"
   },
   {
    "duration": 1897,
    "start_time": "2024-01-09T12:20:31.108Z"
   },
   {
    "duration": 3,
    "start_time": "2024-01-09T12:20:33.006Z"
   },
   {
    "duration": 91,
    "start_time": "2024-01-09T12:31:04.004Z"
   },
   {
    "duration": 742,
    "start_time": "2024-01-09T12:40:20.152Z"
   },
   {
    "duration": 15702,
    "start_time": "2024-01-09T12:40:20.896Z"
   },
   {
    "duration": 8577,
    "start_time": "2024-01-09T12:40:36.600Z"
   },
   {
    "duration": 93,
    "start_time": "2024-01-09T12:40:45.179Z"
   },
   {
    "duration": 1485,
    "start_time": "2024-01-09T12:40:45.274Z"
   },
   {
    "duration": 99,
    "start_time": "2024-01-09T12:40:46.763Z"
   },
   {
    "duration": 2911,
    "start_time": "2024-01-09T12:40:46.864Z"
   },
   {
    "duration": 5285,
    "start_time": "2024-01-09T12:40:49.777Z"
   },
   {
    "duration": 2419,
    "start_time": "2024-01-09T12:40:55.064Z"
   },
   {
    "duration": 4,
    "start_time": "2024-01-09T12:40:57.485Z"
   },
   {
    "duration": 1899,
    "start_time": "2024-01-09T12:40:57.491Z"
   },
   {
    "duration": 701,
    "start_time": "2024-01-09T12:40:59.391Z"
   },
   {
    "duration": 96,
    "start_time": "2024-01-09T12:41:00.094Z"
   },
   {
    "duration": 92,
    "start_time": "2024-01-09T12:41:00.192Z"
   },
   {
    "duration": 1605,
    "start_time": "2024-01-09T12:41:00.286Z"
   },
   {
    "duration": 67,
    "start_time": "2024-01-09T12:41:01.893Z"
   },
   {
    "duration": 697,
    "start_time": "2024-01-09T12:41:01.962Z"
   },
   {
    "duration": 3033,
    "start_time": "2024-01-09T12:41:02.661Z"
   },
   {
    "duration": 5901,
    "start_time": "2024-01-09T12:41:05.696Z"
   },
   {
    "duration": 3878,
    "start_time": "2024-01-09T12:41:11.598Z"
   },
   {
    "duration": 1899,
    "start_time": "2024-01-09T12:41:15.480Z"
   },
   {
    "duration": 2177,
    "start_time": "2024-01-09T12:41:17.381Z"
   },
   {
    "duration": 2311,
    "start_time": "2024-01-09T12:41:19.560Z"
   },
   {
    "duration": 510,
    "start_time": "2024-01-09T12:41:21.872Z"
   },
   {
    "duration": 89,
    "start_time": "2024-01-09T12:42:04.126Z"
   },
   {
    "duration": 82,
    "start_time": "2024-01-09T12:42:20.210Z"
   },
   {
    "duration": 78,
    "start_time": "2024-01-09T12:42:33.352Z"
   },
   {
    "duration": 4,
    "start_time": "2024-01-09T12:42:48.046Z"
   },
   {
    "duration": 3,
    "start_time": "2024-01-09T12:42:52.327Z"
   },
   {
    "duration": 231,
    "start_time": "2024-01-09T12:42:54.368Z"
   },
   {
    "duration": 535,
    "start_time": "2024-01-09T12:42:58.346Z"
   },
   {
    "duration": 11,
    "start_time": "2024-01-09T12:43:08.732Z"
   },
   {
    "duration": 494,
    "start_time": "2024-01-09T12:43:12.149Z"
   },
   {
    "duration": 38,
    "start_time": "2024-01-09T12:43:15.714Z"
   },
   {
    "duration": 2188,
    "start_time": "2024-01-09T12:43:18.170Z"
   },
   {
    "duration": 1861,
    "start_time": "2024-01-09T12:43:25.453Z"
   },
   {
    "duration": 1187,
    "start_time": "2024-01-09T12:43:30.186Z"
   },
   {
    "duration": 4,
    "start_time": "2024-01-09T12:43:33.965Z"
   },
   {
    "duration": 474,
    "start_time": "2024-01-09T12:43:37.228Z"
   },
   {
    "duration": 137,
    "start_time": "2024-01-09T12:43:42.301Z"
   },
   {
    "duration": 16,
    "start_time": "2024-01-09T12:43:44.877Z"
   },
   {
    "duration": 19,
    "start_time": "2024-01-09T12:43:47.793Z"
   },
   {
    "duration": 424,
    "start_time": "2024-01-09T12:43:48.556Z"
   },
   {
    "duration": 6,
    "start_time": "2024-01-09T12:43:53.431Z"
   },
   {
    "duration": 224,
    "start_time": "2024-01-09T12:43:56.306Z"
   },
   {
    "duration": 1133,
    "start_time": "2024-01-09T12:43:59.633Z"
   },
   {
    "duration": 2655,
    "start_time": "2024-01-09T12:44:03.515Z"
   },
   {
    "duration": 2392,
    "start_time": "2024-01-09T12:44:13.069Z"
   },
   {
    "duration": 1263,
    "start_time": "2024-01-09T12:44:18.252Z"
   },
   {
    "duration": 1531,
    "start_time": "2024-01-09T12:44:22.074Z"
   },
   {
    "duration": 1418,
    "start_time": "2024-01-09T12:44:25.713Z"
   },
   {
    "duration": 490,
    "start_time": "2024-01-09T12:44:40.821Z"
   },
   {
    "duration": 28,
    "start_time": "2024-01-09T12:46:30.149Z"
   },
   {
    "duration": 4,
    "start_time": "2024-01-09T12:47:02.707Z"
   },
   {
    "duration": 337,
    "start_time": "2024-01-09T12:47:03.460Z"
   },
   {
    "duration": 329,
    "start_time": "2024-01-09T12:47:04.737Z"
   },
   {
    "duration": 8,
    "start_time": "2024-01-09T12:47:06.964Z"
   },
   {
    "duration": 325,
    "start_time": "2024-01-09T12:47:09.068Z"
   },
   {
    "duration": 36,
    "start_time": "2024-01-09T12:47:09.773Z"
   },
   {
    "duration": 2329,
    "start_time": "2024-01-09T12:47:11.599Z"
   },
   {
    "duration": 1182,
    "start_time": "2024-01-09T12:47:17.992Z"
   },
   {
    "duration": 926,
    "start_time": "2024-01-09T12:47:22.380Z"
   },
   {
    "duration": 3,
    "start_time": "2024-01-09T12:47:25.709Z"
   },
   {
    "duration": 387,
    "start_time": "2024-01-09T12:47:27.972Z"
   },
   {
    "duration": 132,
    "start_time": "2024-01-09T12:47:31.495Z"
   },
   {
    "duration": 25,
    "start_time": "2024-01-09T12:47:33.584Z"
   },
   {
    "duration": 21,
    "start_time": "2024-01-09T12:47:36.131Z"
   },
   {
    "duration": 326,
    "start_time": "2024-01-09T12:47:38.359Z"
   },
   {
    "duration": 5,
    "start_time": "2024-01-09T12:47:40.284Z"
   },
   {
    "duration": 172,
    "start_time": "2024-01-09T12:47:43.573Z"
   },
   {
    "duration": 890,
    "start_time": "2024-01-09T12:47:46.096Z"
   },
   {
    "duration": 1651,
    "start_time": "2024-01-09T12:47:49.638Z"
   },
   {
    "duration": 1992,
    "start_time": "2024-01-09T12:47:55.303Z"
   },
   {
    "duration": 1124,
    "start_time": "2024-01-09T12:49:29.361Z"
   },
   {
    "duration": 936,
    "start_time": "2024-01-09T12:49:32.612Z"
   },
   {
    "duration": 871,
    "start_time": "2024-01-09T12:49:37.359Z"
   },
   {
    "duration": 4,
    "start_time": "2024-01-09T12:55:24.320Z"
   },
   {
    "duration": 4,
    "start_time": "2024-01-09T12:55:25.301Z"
   },
   {
    "duration": 217,
    "start_time": "2024-01-09T12:55:26.289Z"
   },
   {
    "duration": 7,
    "start_time": "2024-01-09T12:55:29.076Z"
   },
   {
    "duration": 295,
    "start_time": "2024-01-09T12:55:31.824Z"
   },
   {
    "duration": 37,
    "start_time": "2024-01-09T12:55:35.557Z"
   },
   {
    "duration": 2091,
    "start_time": "2024-01-09T12:55:36.499Z"
   },
   {
    "duration": 1410,
    "start_time": "2024-01-09T12:55:41.446Z"
   },
   {
    "duration": 831,
    "start_time": "2024-01-09T12:55:44.881Z"
   },
   {
    "duration": 3,
    "start_time": "2024-01-09T12:55:48.101Z"
   },
   {
    "duration": 339,
    "start_time": "2024-01-09T12:55:50.455Z"
   },
   {
    "duration": 110,
    "start_time": "2024-01-09T12:55:52.949Z"
   },
   {
    "duration": 26,
    "start_time": "2024-01-09T12:55:55.812Z"
   },
   {
    "duration": 17,
    "start_time": "2024-01-09T12:55:57.287Z"
   },
   {
    "duration": 215,
    "start_time": "2024-01-09T12:55:59.065Z"
   },
   {
    "duration": 6,
    "start_time": "2024-01-09T12:55:59.973Z"
   },
   {
    "duration": 173,
    "start_time": "2024-01-09T12:56:02.752Z"
   },
   {
    "duration": 819,
    "start_time": "2024-01-09T12:56:05.577Z"
   },
   {
    "duration": 1318,
    "start_time": "2024-01-09T12:56:15.591Z"
   },
   {
    "duration": 1558,
    "start_time": "2024-01-09T12:56:24.529Z"
   },
   {
    "duration": 1456,
    "start_time": "2024-01-09T12:56:36.672Z"
   },
   {
    "duration": 848,
    "start_time": "2024-01-09T12:56:40.729Z"
   },
   {
    "duration": 567,
    "start_time": "2024-01-09T12:56:44.525Z"
   },
   {
    "duration": 588,
    "start_time": "2024-01-09T12:56:47.008Z"
   },
   {
    "duration": 819,
    "start_time": "2024-01-09T12:56:56.271Z"
   },
   {
    "duration": 943,
    "start_time": "2024-01-09T12:56:59.745Z"
   },
   {
    "duration": 801,
    "start_time": "2024-01-09T12:57:03.121Z"
   },
   {
    "duration": 224,
    "start_time": "2024-01-09T12:57:31.133Z"
   },
   {
    "duration": 197,
    "start_time": "2024-01-09T12:57:36.943Z"
   },
   {
    "duration": 385,
    "start_time": "2024-01-09T12:57:48.683Z"
   },
   {
    "duration": 401,
    "start_time": "2024-01-09T12:58:27.916Z"
   },
   {
    "duration": 969,
    "start_time": "2024-01-09T13:02:39.819Z"
   },
   {
    "duration": 4,
    "start_time": "2024-01-09T13:03:13.315Z"
   },
   {
    "duration": 943,
    "start_time": "2024-01-09T13:03:19.103Z"
   },
   {
    "duration": 376,
    "start_time": "2024-01-09T13:04:04.949Z"
   },
   {
    "duration": 372,
    "start_time": "2024-01-09T13:04:41.792Z"
   },
   {
    "duration": 489,
    "start_time": "2024-01-09T13:05:15.489Z"
   },
   {
    "duration": 742,
    "start_time": "2024-01-09T13:08:32.248Z"
   },
   {
    "duration": 500,
    "start_time": "2024-01-09T13:09:04.168Z"
   },
   {
    "duration": 688,
    "start_time": "2024-01-09T13:09:18.208Z"
   },
   {
    "duration": 632,
    "start_time": "2024-01-09T13:09:53.134Z"
   },
   {
    "duration": 680,
    "start_time": "2024-01-09T13:10:24.168Z"
   },
   {
    "duration": 606,
    "start_time": "2024-01-09T13:10:36.937Z"
   },
   {
    "duration": 2638,
    "start_time": "2024-01-09T15:01:07.582Z"
   },
   {
    "duration": 937,
    "start_time": "2024-01-09T15:03:15.559Z"
   },
   {
    "duration": 15360,
    "start_time": "2024-01-09T15:03:18.932Z"
   },
   {
    "duration": 8115,
    "start_time": "2024-01-09T15:03:36.958Z"
   },
   {
    "duration": 923,
    "start_time": "2024-01-09T15:03:47.833Z"
   },
   {
    "duration": 30,
    "start_time": "2024-01-09T15:03:54.348Z"
   },
   {
    "duration": 1156,
    "start_time": "2024-01-09T15:03:57.143Z"
   },
   {
    "duration": 39,
    "start_time": "2024-01-09T15:04:00.616Z"
   },
   {
    "duration": 2133,
    "start_time": "2024-01-09T15:04:02.764Z"
   },
   {
    "duration": 4354,
    "start_time": "2024-01-09T15:04:10.502Z"
   },
   {
    "duration": 2297,
    "start_time": "2024-01-09T15:04:36.660Z"
   },
   {
    "duration": 2,
    "start_time": "2024-01-09T15:04:40.888Z"
   },
   {
    "duration": 1646,
    "start_time": "2024-01-09T15:04:42.827Z"
   },
   {
    "duration": 204,
    "start_time": "2024-01-09T15:04:47.511Z"
   },
   {
    "duration": 509,
    "start_time": "2024-01-09T15:04:51.662Z"
   },
   {
    "duration": 38,
    "start_time": "2024-01-09T15:04:53.452Z"
   },
   {
    "duration": 33,
    "start_time": "2024-01-09T15:04:56.608Z"
   },
   {
    "duration": 1213,
    "start_time": "2024-01-09T15:04:57.743Z"
   },
   {
    "duration": 7,
    "start_time": "2024-01-09T15:05:04.402Z"
   },
   {
    "duration": 532,
    "start_time": "2024-01-09T15:05:07.388Z"
   },
   {
    "duration": 883,
    "start_time": "2024-01-09T15:05:21.116Z"
   },
   {
    "duration": 15306,
    "start_time": "2024-01-09T15:05:23.993Z"
   },
   {
    "duration": 7917,
    "start_time": "2024-01-09T15:05:42.480Z"
   },
   {
    "duration": 118,
    "start_time": "2024-01-09T15:05:59.688Z"
   },
   {
    "duration": 810,
    "start_time": "2024-01-09T15:06:19.195Z"
   },
   {
    "duration": 14733,
    "start_time": "2024-01-09T15:06:22.637Z"
   },
   {
    "duration": 7709,
    "start_time": "2024-01-09T15:06:37.372Z"
   },
   {
    "duration": 31,
    "start_time": "2024-01-09T15:06:47.602Z"
   },
   {
    "duration": 1151,
    "start_time": "2024-01-09T15:06:52.866Z"
   },
   {
    "duration": 40,
    "start_time": "2024-01-09T15:06:56.365Z"
   },
   {
    "duration": 2122,
    "start_time": "2024-01-09T15:07:00.849Z"
   },
   {
    "duration": 4519,
    "start_time": "2024-01-09T15:07:06.937Z"
   },
   {
    "duration": 2101,
    "start_time": "2024-01-09T15:07:14.898Z"
   },
   {
    "duration": 3,
    "start_time": "2024-01-09T15:07:20.897Z"
   },
   {
    "duration": 1730,
    "start_time": "2024-01-09T15:07:23.910Z"
   },
   {
    "duration": 596,
    "start_time": "2024-01-09T15:07:28.160Z"
   },
   {
    "duration": 35,
    "start_time": "2024-01-09T15:07:31.776Z"
   },
   {
    "duration": 27,
    "start_time": "2024-01-09T15:07:34.591Z"
   },
   {
    "duration": 1365,
    "start_time": "2024-01-09T15:07:36.016Z"
   },
   {
    "duration": 7,
    "start_time": "2024-01-09T15:07:38.937Z"
   },
   {
    "duration": 446,
    "start_time": "2024-01-09T15:07:42.725Z"
   },
   {
    "duration": 2598,
    "start_time": "2024-01-09T15:07:45.573Z"
   },
   {
    "duration": 3730,
    "start_time": "2024-01-09T15:07:50.261Z"
   },
   {
    "duration": 2685,
    "start_time": "2024-01-09T15:07:56.691Z"
   },
   {
    "duration": 1100,
    "start_time": "2024-01-09T15:08:00.772Z"
   },
   {
    "duration": 662,
    "start_time": "2024-01-09T15:08:04.516Z"
   },
   {
    "duration": 699,
    "start_time": "2024-01-09T15:08:07.291Z"
   },
   {
    "duration": 1880,
    "start_time": "2024-01-09T15:08:11.088Z"
   },
   {
    "duration": 1891,
    "start_time": "2024-01-09T15:08:12.970Z"
   },
   {
    "duration": 1978,
    "start_time": "2024-01-09T15:08:20.027Z"
   },
   {
    "duration": 599,
    "start_time": "2024-01-09T15:09:44.934Z"
   },
   {
    "duration": 839,
    "start_time": "2024-01-09T15:11:22.367Z"
   },
   {
    "duration": 14674,
    "start_time": "2024-01-09T15:11:23.209Z"
   },
   {
    "duration": 7587,
    "start_time": "2024-01-09T15:11:37.885Z"
   },
   {
    "duration": 101,
    "start_time": "2024-01-09T15:11:45.474Z"
   },
   {
    "duration": 1384,
    "start_time": "2024-01-09T15:11:45.576Z"
   },
   {
    "duration": 41,
    "start_time": "2024-01-09T15:11:46.961Z"
   },
   {
    "duration": 2157,
    "start_time": "2024-01-09T15:11:47.003Z"
   },
   {
    "duration": 4499,
    "start_time": "2024-01-09T15:11:49.161Z"
   },
   {
    "duration": 2231,
    "start_time": "2024-01-09T15:11:53.662Z"
   },
   {
    "duration": 3,
    "start_time": "2024-01-09T15:11:55.956Z"
   },
   {
    "duration": 1717,
    "start_time": "2024-01-09T15:11:55.961Z"
   },
   {
    "duration": 699,
    "start_time": "2024-01-09T15:11:57.680Z"
   },
   {
    "duration": 84,
    "start_time": "2024-01-09T15:11:58.380Z"
   },
   {
    "duration": 92,
    "start_time": "2024-01-09T15:11:58.466Z"
   },
   {
    "duration": 1322,
    "start_time": "2024-01-09T15:11:58.559Z"
   },
   {
    "duration": 7,
    "start_time": "2024-01-09T15:11:59.883Z"
   },
   {
    "duration": 513,
    "start_time": "2024-01-09T15:11:59.891Z"
   },
   {
    "duration": 2761,
    "start_time": "2024-01-09T15:12:00.406Z"
   },
   {
    "duration": 4006,
    "start_time": "2024-01-09T15:12:03.168Z"
   },
   {
    "duration": 2816,
    "start_time": "2024-01-09T15:12:07.176Z"
   },
   {
    "duration": 990,
    "start_time": "2024-01-09T15:12:09.994Z"
   },
   {
    "duration": 990,
    "start_time": "2024-01-09T15:12:10.986Z"
   },
   {
    "duration": 751,
    "start_time": "2024-01-09T15:12:11.978Z"
   },
   {
    "duration": 2064,
    "start_time": "2024-01-09T15:12:12.730Z"
   },
   {
    "duration": 2178,
    "start_time": "2024-01-09T15:12:14.795Z"
   },
   {
    "duration": 2130,
    "start_time": "2024-01-09T15:12:16.975Z"
   },
   {
    "duration": 2,
    "start_time": "2024-01-09T15:12:19.107Z"
   },
   {
    "duration": 3206,
    "start_time": "2024-01-09T16:11:32.023Z"
   },
   {
    "duration": 2139,
    "start_time": "2024-01-09T16:11:47.823Z"
   },
   {
    "duration": 1828,
    "start_time": "2024-01-09T16:12:35.374Z"
   },
   {
    "duration": 1608,
    "start_time": "2024-01-09T16:12:47.956Z"
   },
   {
    "duration": 1475,
    "start_time": "2024-01-09T16:13:23.686Z"
   },
   {
    "duration": 1758,
    "start_time": "2024-01-09T16:13:58.115Z"
   },
   {
    "duration": 1577,
    "start_time": "2024-01-09T16:14:30.495Z"
   },
   {
    "duration": 1573,
    "start_time": "2024-01-09T16:14:41.183Z"
   },
   {
    "duration": 1527,
    "start_time": "2024-01-09T16:15:05.133Z"
   },
   {
    "duration": 1136,
    "start_time": "2024-01-09T16:15:46.741Z"
   },
   {
    "duration": 218,
    "start_time": "2024-01-09T16:16:04.566Z"
   },
   {
    "duration": 155,
    "start_time": "2024-01-09T16:16:13.908Z"
   },
   {
    "duration": 2915,
    "start_time": "2024-01-09T16:28:43.251Z"
   },
   {
    "duration": 670,
    "start_time": "2024-01-09T16:29:00.522Z"
   },
   {
    "duration": 1389,
    "start_time": "2024-01-09T16:29:09.193Z"
   },
   {
    "duration": 1595,
    "start_time": "2024-01-09T16:30:12.567Z"
   },
   {
    "duration": 1683,
    "start_time": "2024-01-09T16:30:15.373Z"
   },
   {
    "duration": 519,
    "start_time": "2024-01-09T16:30:20.760Z"
   },
   {
    "duration": 459,
    "start_time": "2024-01-09T16:30:22.309Z"
   },
   {
    "duration": 563,
    "start_time": "2024-01-09T16:30:24.080Z"
   },
   {
    "duration": 394,
    "start_time": "2024-01-09T16:37:10.599Z"
   },
   {
    "duration": 366,
    "start_time": "2024-01-09T16:37:13.035Z"
   },
   {
    "duration": 1953,
    "start_time": "2024-01-09T16:37:16.490Z"
   },
   {
    "duration": 3514,
    "start_time": "2024-01-09T16:37:33.401Z"
   },
   {
    "duration": 673,
    "start_time": "2024-01-09T16:38:07.431Z"
   },
   {
    "duration": 937,
    "start_time": "2024-01-09T16:44:58.864Z"
   },
   {
    "duration": 16067,
    "start_time": "2024-01-09T16:44:59.803Z"
   },
   {
    "duration": 8414,
    "start_time": "2024-01-09T16:45:15.872Z"
   },
   {
    "duration": 100,
    "start_time": "2024-01-09T16:45:24.288Z"
   },
   {
    "duration": 1403,
    "start_time": "2024-01-09T16:45:24.390Z"
   },
   {
    "duration": 77,
    "start_time": "2024-01-09T16:45:25.795Z"
   },
   {
    "duration": 2122,
    "start_time": "2024-01-09T16:45:25.873Z"
   },
   {
    "duration": 4860,
    "start_time": "2024-01-09T16:45:27.997Z"
   },
   {
    "duration": 2324,
    "start_time": "2024-01-09T16:45:32.859Z"
   },
   {
    "duration": 3,
    "start_time": "2024-01-09T16:45:35.185Z"
   },
   {
    "duration": 1872,
    "start_time": "2024-01-09T16:45:35.190Z"
   },
   {
    "duration": 706,
    "start_time": "2024-01-09T16:45:37.064Z"
   },
   {
    "duration": 114,
    "start_time": "2024-01-09T16:45:37.772Z"
   },
   {
    "duration": 91,
    "start_time": "2024-01-09T16:45:37.888Z"
   },
   {
    "duration": 1284,
    "start_time": "2024-01-09T16:45:37.981Z"
   },
   {
    "duration": 5,
    "start_time": "2024-01-09T16:45:39.267Z"
   },
   {
    "duration": 633,
    "start_time": "2024-01-09T16:45:39.274Z"
   },
   {
    "duration": 3084,
    "start_time": "2024-01-09T16:45:39.908Z"
   },
   {
    "duration": 4106,
    "start_time": "2024-01-09T16:45:43.056Z"
   },
   {
    "duration": 2725,
    "start_time": "2024-01-09T16:45:47.164Z"
   },
   {
    "duration": 1069,
    "start_time": "2024-01-09T16:45:49.891Z"
   },
   {
    "duration": 929,
    "start_time": "2024-01-09T16:45:50.962Z"
   },
   {
    "duration": 777,
    "start_time": "2024-01-09T16:45:51.957Z"
   },
   {
    "duration": 2052,
    "start_time": "2024-01-09T16:45:52.736Z"
   },
   {
    "duration": 2003,
    "start_time": "2024-01-09T16:45:54.790Z"
   },
   {
    "duration": 2222,
    "start_time": "2024-01-09T16:45:56.794Z"
   },
   {
    "duration": 39,
    "start_time": "2024-01-09T16:45:59.018Z"
   },
   {
    "duration": 1129,
    "start_time": "2024-01-09T19:15:58.202Z"
   },
   {
    "duration": 15275,
    "start_time": "2024-01-09T19:15:59.333Z"
   },
   {
    "duration": 8183,
    "start_time": "2024-01-09T19:16:14.610Z"
   },
   {
    "duration": 32,
    "start_time": "2024-01-09T19:16:22.795Z"
   },
   {
    "duration": 1302,
    "start_time": "2024-01-09T19:16:22.889Z"
   },
   {
    "duration": 102,
    "start_time": "2024-01-09T19:16:24.193Z"
   },
   {
    "duration": 2665,
    "start_time": "2024-01-09T19:16:24.296Z"
   },
   {
    "duration": 4575,
    "start_time": "2024-01-09T19:16:26.962Z"
   },
   {
    "duration": 2238,
    "start_time": "2024-01-09T19:16:31.590Z"
   },
   {
    "duration": 57,
    "start_time": "2024-01-09T19:16:33.831Z"
   },
   {
    "duration": 1802,
    "start_time": "2024-01-09T19:16:33.890Z"
   },
   {
    "duration": 714,
    "start_time": "2024-01-09T19:16:35.694Z"
   },
   {
    "duration": 99,
    "start_time": "2024-01-09T19:16:36.410Z"
   },
   {
    "duration": 96,
    "start_time": "2024-01-09T19:16:36.510Z"
   },
   {
    "duration": 1402,
    "start_time": "2024-01-09T19:16:36.608Z"
   },
   {
    "duration": 6,
    "start_time": "2024-01-09T19:16:38.012Z"
   },
   {
    "duration": 585,
    "start_time": "2024-01-09T19:16:38.020Z"
   },
   {
    "duration": 2895,
    "start_time": "2024-01-09T19:16:38.606Z"
   },
   {
    "duration": 4411,
    "start_time": "2024-01-09T19:16:41.503Z"
   },
   {
    "duration": 2880,
    "start_time": "2024-01-09T19:16:45.916Z"
   },
   {
    "duration": 270,
    "start_time": "2024-01-09T19:16:48.798Z"
   },
   {
    "duration": 0,
    "start_time": "2024-01-09T19:16:49.070Z"
   },
   {
    "duration": 0,
    "start_time": "2024-01-09T19:16:49.072Z"
   },
   {
    "duration": 0,
    "start_time": "2024-01-09T19:16:49.073Z"
   },
   {
    "duration": 0,
    "start_time": "2024-01-09T19:16:49.074Z"
   },
   {
    "duration": 0,
    "start_time": "2024-01-09T19:16:49.075Z"
   },
   {
    "duration": 0,
    "start_time": "2024-01-09T19:16:49.076Z"
   },
   {
    "duration": 0,
    "start_time": "2024-01-09T19:16:49.078Z"
   },
   {
    "duration": 211,
    "start_time": "2024-01-09T19:17:56.560Z"
   },
   {
    "duration": 4,
    "start_time": "2024-01-09T19:18:47.610Z"
   },
   {
    "duration": 149,
    "start_time": "2024-01-09T19:18:51.550Z"
   },
   {
    "duration": 150,
    "start_time": "2024-01-09T19:19:01.414Z"
   },
   {
    "duration": 3110,
    "start_time": "2024-01-09T19:23:57.897Z"
   },
   {
    "duration": 890,
    "start_time": "2024-01-09T19:24:34.930Z"
   },
   {
    "duration": 2506,
    "start_time": "2024-01-09T19:25:33.466Z"
   },
   {
    "duration": 2923,
    "start_time": "2024-01-09T19:25:56.597Z"
   },
   {
    "duration": 467,
    "start_time": "2024-01-09T19:26:30.662Z"
   },
   {
    "duration": 993,
    "start_time": "2024-01-09T19:26:47.998Z"
   },
   {
    "duration": 1579,
    "start_time": "2024-01-09T19:28:20.620Z"
   },
   {
    "duration": 257,
    "start_time": "2024-01-09T19:29:43.744Z"
   },
   {
    "duration": 1837,
    "start_time": "2024-01-09T19:30:43.097Z"
   },
   {
    "duration": 138,
    "start_time": "2024-01-09T19:30:47.964Z"
   },
   {
    "duration": 1946,
    "start_time": "2024-01-09T19:31:21.988Z"
   },
   {
    "duration": 2218,
    "start_time": "2024-01-09T19:31:47.082Z"
   },
   {
    "duration": 105,
    "start_time": "2024-01-09T19:34:48.293Z"
   },
   {
    "duration": 581,
    "start_time": "2024-01-09T19:35:09.943Z"
   },
   {
    "duration": 87,
    "start_time": "2024-01-09T19:35:42.550Z"
   },
   {
    "duration": 18,
    "start_time": "2024-01-09T19:36:25.259Z"
   },
   {
    "duration": 977,
    "start_time": "2024-01-09T19:37:11.550Z"
   },
   {
    "duration": 16076,
    "start_time": "2024-01-09T19:37:12.529Z"
   },
   {
    "duration": 9015,
    "start_time": "2024-01-09T19:37:28.607Z"
   },
   {
    "duration": 91,
    "start_time": "2024-01-09T19:37:37.623Z"
   },
   {
    "duration": 1512,
    "start_time": "2024-01-09T19:37:37.717Z"
   },
   {
    "duration": 99,
    "start_time": "2024-01-09T19:37:39.231Z"
   },
   {
    "duration": 2364,
    "start_time": "2024-01-09T19:37:39.332Z"
   },
   {
    "duration": 5292,
    "start_time": "2024-01-09T19:37:41.697Z"
   },
   {
    "duration": 2530,
    "start_time": "2024-01-09T19:37:46.992Z"
   },
   {
    "duration": 5,
    "start_time": "2024-01-09T19:37:49.525Z"
   },
   {
    "duration": 1964,
    "start_time": "2024-01-09T19:37:49.532Z"
   },
   {
    "duration": 620,
    "start_time": "2024-01-09T19:37:51.497Z"
   },
   {
    "duration": 100,
    "start_time": "2024-01-09T19:37:52.120Z"
   },
   {
    "duration": 93,
    "start_time": "2024-01-09T19:37:52.224Z"
   },
   {
    "duration": 1672,
    "start_time": "2024-01-09T19:37:52.319Z"
   },
   {
    "duration": 7,
    "start_time": "2024-01-09T19:37:53.994Z"
   },
   {
    "duration": 586,
    "start_time": "2024-01-09T19:37:54.002Z"
   },
   {
    "duration": 2999,
    "start_time": "2024-01-09T19:37:54.590Z"
   },
   {
    "duration": 6098,
    "start_time": "2024-01-09T19:37:57.592Z"
   },
   {
    "duration": 3830,
    "start_time": "2024-01-09T19:38:03.692Z"
   },
   {
    "duration": 3,
    "start_time": "2024-01-09T19:38:07.524Z"
   },
   {
    "duration": 2702,
    "start_time": "2024-01-09T19:38:07.529Z"
   },
   {
    "duration": 2081,
    "start_time": "2024-01-09T19:38:10.232Z"
   },
   {
    "duration": 2275,
    "start_time": "2024-01-09T19:38:12.316Z"
   },
   {
    "duration": 2229,
    "start_time": "2024-01-09T19:38:14.593Z"
   },
   {
    "duration": 3,
    "start_time": "2024-01-09T19:38:16.824Z"
   },
   {
    "duration": 4,
    "start_time": "2024-01-09T20:20:48.285Z"
   },
   {
    "duration": 239,
    "start_time": "2024-01-09T20:20:51.779Z"
   },
   {
    "duration": 1292,
    "start_time": "2024-01-09T20:23:16.397Z"
   },
   {
    "duration": 2536,
    "start_time": "2024-01-09T20:24:38.796Z"
   },
   {
    "duration": 2569,
    "start_time": "2024-01-09T20:24:49.926Z"
   },
   {
    "duration": 2604,
    "start_time": "2024-01-09T20:25:30.765Z"
   },
   {
    "duration": 1436,
    "start_time": "2024-01-09T20:32:56.448Z"
   },
   {
    "duration": 115,
    "start_time": "2024-01-09T20:34:28.260Z"
   },
   {
    "duration": 1480,
    "start_time": "2024-01-09T20:36:11.617Z"
   },
   {
    "duration": 118,
    "start_time": "2024-01-09T20:36:18.925Z"
   },
   {
    "duration": 112,
    "start_time": "2024-01-09T20:39:38.699Z"
   },
   {
    "duration": 3334,
    "start_time": "2024-01-09T20:40:03.022Z"
   },
   {
    "duration": 1339,
    "start_time": "2024-01-09T20:40:44.502Z"
   },
   {
    "duration": 695,
    "start_time": "2024-01-09T20:40:48.428Z"
   },
   {
    "duration": 5,
    "start_time": "2024-01-09T20:40:59.782Z"
   },
   {
    "duration": 1477,
    "start_time": "2024-01-09T20:42:37.148Z"
   },
   {
    "duration": 943,
    "start_time": "2024-01-09T20:43:34.289Z"
   },
   {
    "duration": 15183,
    "start_time": "2024-01-09T20:43:35.234Z"
   },
   {
    "duration": 7889,
    "start_time": "2024-01-09T20:43:50.419Z"
   },
   {
    "duration": 78,
    "start_time": "2024-01-09T20:43:58.310Z"
   },
   {
    "duration": 1299,
    "start_time": "2024-01-09T20:43:58.390Z"
   },
   {
    "duration": 48,
    "start_time": "2024-01-09T20:43:59.691Z"
   },
   {
    "duration": 2383,
    "start_time": "2024-01-09T20:43:59.741Z"
   },
   {
    "duration": 4496,
    "start_time": "2024-01-09T20:44:02.126Z"
   },
   {
    "duration": 2201,
    "start_time": "2024-01-09T20:44:06.626Z"
   },
   {
    "duration": 3,
    "start_time": "2024-01-09T20:44:08.888Z"
   },
   {
    "duration": 1812,
    "start_time": "2024-01-09T20:44:08.893Z"
   },
   {
    "duration": 682,
    "start_time": "2024-01-09T20:44:10.707Z"
   },
   {
    "duration": 102,
    "start_time": "2024-01-09T20:44:11.391Z"
   },
   {
    "duration": 96,
    "start_time": "2024-01-09T20:44:11.495Z"
   },
   {
    "duration": 1425,
    "start_time": "2024-01-09T20:44:11.593Z"
   },
   {
    "duration": 69,
    "start_time": "2024-01-09T20:44:13.020Z"
   },
   {
    "duration": 607,
    "start_time": "2024-01-09T20:44:13.091Z"
   },
   {
    "duration": 2917,
    "start_time": "2024-01-09T20:44:13.700Z"
   },
   {
    "duration": 5780,
    "start_time": "2024-01-09T20:44:16.619Z"
   },
   {
    "duration": 3140,
    "start_time": "2024-01-09T20:44:22.400Z"
   },
   {
    "duration": 2318,
    "start_time": "2024-01-09T20:44:25.542Z"
   },
   {
    "duration": 839,
    "start_time": "2024-01-09T20:44:27.862Z"
   },
   {
    "duration": 1774,
    "start_time": "2024-01-09T20:44:28.703Z"
   },
   {
    "duration": 1819,
    "start_time": "2024-01-09T20:44:30.489Z"
   },
   {
    "duration": 1950,
    "start_time": "2024-01-09T20:44:32.310Z"
   },
   {
    "duration": 2426,
    "start_time": "2024-01-09T20:44:34.261Z"
   },
   {
    "duration": 2,
    "start_time": "2024-01-09T20:44:36.689Z"
   },
   {
    "duration": 1446,
    "start_time": "2024-01-09T20:44:54.477Z"
   },
   {
    "duration": 4,
    "start_time": "2024-01-09T20:44:58.965Z"
   },
   {
    "duration": 712,
    "start_time": "2024-01-09T20:45:37.175Z"
   },
   {
    "duration": 956,
    "start_time": "2024-01-09T20:46:13.470Z"
   },
   {
    "duration": 14605,
    "start_time": "2024-01-09T20:46:14.428Z"
   },
   {
    "duration": 7883,
    "start_time": "2024-01-09T20:46:29.035Z"
   },
   {
    "duration": 100,
    "start_time": "2024-01-09T20:46:36.921Z"
   },
   {
    "duration": 1275,
    "start_time": "2024-01-09T20:46:37.023Z"
   },
   {
    "duration": 96,
    "start_time": "2024-01-09T20:46:38.300Z"
   },
   {
    "duration": 2796,
    "start_time": "2024-01-09T20:46:38.397Z"
   },
   {
    "duration": 4840,
    "start_time": "2024-01-09T20:46:41.195Z"
   },
   {
    "duration": 2310,
    "start_time": "2024-01-09T20:46:46.089Z"
   },
   {
    "duration": 3,
    "start_time": "2024-01-09T20:46:48.402Z"
   },
   {
    "duration": 1899,
    "start_time": "2024-01-09T20:46:48.407Z"
   },
   {
    "duration": 715,
    "start_time": "2024-01-09T20:46:50.308Z"
   },
   {
    "duration": 101,
    "start_time": "2024-01-09T20:46:51.088Z"
   },
   {
    "duration": 97,
    "start_time": "2024-01-09T20:46:51.191Z"
   },
   {
    "duration": 1424,
    "start_time": "2024-01-09T20:46:51.291Z"
   },
   {
    "duration": 6,
    "start_time": "2024-01-09T20:46:52.717Z"
   },
   {
    "duration": 516,
    "start_time": "2024-01-09T20:46:52.788Z"
   },
   {
    "duration": 2984,
    "start_time": "2024-01-09T20:46:53.306Z"
   },
   {
    "duration": 5851,
    "start_time": "2024-01-09T20:46:56.292Z"
   },
   {
    "duration": 3881,
    "start_time": "2024-01-09T20:47:02.145Z"
   },
   {
    "duration": 1488,
    "start_time": "2024-01-09T20:47:06.027Z"
   },
   {
    "duration": 2281,
    "start_time": "2024-01-09T20:47:07.517Z"
   },
   {
    "duration": 2512,
    "start_time": "2024-01-09T20:47:09.800Z"
   },
   {
    "duration": 1999,
    "start_time": "2024-01-09T20:47:12.314Z"
   },
   {
    "duration": 928,
    "start_time": "2024-01-09T20:47:14.315Z"
   },
   {
    "duration": 2578,
    "start_time": "2024-01-09T20:47:15.245Z"
   },
   {
    "duration": 2,
    "start_time": "2024-01-09T20:47:17.825Z"
   },
   {
    "duration": 1173,
    "start_time": "2024-01-10T09:33:24.574Z"
   },
   {
    "duration": 15568,
    "start_time": "2024-01-10T09:33:25.749Z"
   },
   {
    "duration": 9802,
    "start_time": "2024-01-10T09:33:41.318Z"
   },
   {
    "duration": 89,
    "start_time": "2024-01-10T09:33:51.123Z"
   },
   {
    "duration": 1414,
    "start_time": "2024-01-10T09:33:51.214Z"
   },
   {
    "duration": 110,
    "start_time": "2024-01-10T09:33:52.630Z"
   },
   {
    "duration": 2389,
    "start_time": "2024-01-10T09:33:52.742Z"
   },
   {
    "duration": 4870,
    "start_time": "2024-01-10T09:33:55.132Z"
   },
   {
    "duration": 2630,
    "start_time": "2024-01-10T09:34:00.004Z"
   },
   {
    "duration": 4,
    "start_time": "2024-01-10T09:34:02.698Z"
   },
   {
    "duration": 2116,
    "start_time": "2024-01-10T09:34:02.705Z"
   },
   {
    "duration": 686,
    "start_time": "2024-01-10T09:34:04.823Z"
   },
   {
    "duration": 103,
    "start_time": "2024-01-10T09:34:05.511Z"
   },
   {
    "duration": 87,
    "start_time": "2024-01-10T09:34:05.617Z"
   },
   {
    "duration": 1393,
    "start_time": "2024-01-10T09:34:05.706Z"
   },
   {
    "duration": 7,
    "start_time": "2024-01-10T09:34:07.102Z"
   },
   {
    "duration": 704,
    "start_time": "2024-01-10T09:34:07.111Z"
   },
   {
    "duration": 3208,
    "start_time": "2024-01-10T09:34:07.817Z"
   },
   {
    "duration": 5876,
    "start_time": "2024-01-10T09:34:11.028Z"
   },
   {
    "duration": 4196,
    "start_time": "2024-01-10T09:34:16.906Z"
   },
   {
    "duration": 1601,
    "start_time": "2024-01-10T09:34:21.104Z"
   },
   {
    "duration": 2076,
    "start_time": "2024-01-10T09:34:22.708Z"
   },
   {
    "duration": 2134,
    "start_time": "2024-01-10T09:34:24.786Z"
   },
   {
    "duration": 2329,
    "start_time": "2024-01-10T09:34:26.922Z"
   },
   {
    "duration": 796,
    "start_time": "2024-01-10T09:34:29.252Z"
   },
   {
    "duration": 2605,
    "start_time": "2024-01-10T09:34:30.050Z"
   },
   {
    "duration": 2,
    "start_time": "2024-01-10T09:34:32.657Z"
   },
   {
    "duration": 176,
    "start_time": "2024-01-10T09:35:07.947Z"
   },
   {
    "duration": 743,
    "start_time": "2024-01-10T09:36:57.508Z"
   },
   {
    "duration": 575,
    "start_time": "2024-01-10T09:37:52.033Z"
   },
   {
    "duration": 1429,
    "start_time": "2024-01-10T09:39:48.548Z"
   },
   {
    "duration": 1664,
    "start_time": "2024-01-10T09:39:50.580Z"
   },
   {
    "duration": 1542,
    "start_time": "2024-01-10T09:39:53.890Z"
   },
   {
    "duration": 658,
    "start_time": "2024-01-10T09:42:39.036Z"
   },
   {
    "duration": 1598,
    "start_time": "2024-01-10T09:42:51.959Z"
   },
   {
    "duration": 872,
    "start_time": "2024-01-10T09:45:21.359Z"
   },
   {
    "duration": 910,
    "start_time": "2024-01-10T09:46:42.742Z"
   },
   {
    "duration": 1176,
    "start_time": "2024-01-10T09:46:44.527Z"
   },
   {
    "duration": 1118,
    "start_time": "2024-01-10T09:46:47.596Z"
   },
   {
    "duration": 1201,
    "start_time": "2024-01-10T09:46:50.249Z"
   },
   {
    "duration": 88,
    "start_time": "2024-01-10T09:46:52.911Z"
   },
   {
    "duration": 11,
    "start_time": "2024-01-10T09:55:52.830Z"
   },
   {
    "duration": 1161,
    "start_time": "2024-01-10T09:56:13.630Z"
   },
   {
    "duration": 7,
    "start_time": "2024-01-10T09:56:51.317Z"
   },
   {
    "duration": 111,
    "start_time": "2024-01-10T09:57:14.760Z"
   },
   {
    "duration": 2748,
    "start_time": "2024-01-10T09:59:37.035Z"
   },
   {
    "duration": 485,
    "start_time": "2024-01-10T10:00:53.953Z"
   },
   {
    "duration": 619,
    "start_time": "2024-01-10T10:01:10.270Z"
   },
   {
    "duration": 1918,
    "start_time": "2024-01-10T10:07:39.934Z"
   },
   {
    "duration": 130,
    "start_time": "2024-01-10T10:26:57.012Z"
   },
   {
    "duration": 126,
    "start_time": "2024-01-10T10:27:10.212Z"
   },
   {
    "duration": 190,
    "start_time": "2024-01-10T10:27:49.013Z"
   },
   {
    "duration": 123,
    "start_time": "2024-01-10T10:28:47.312Z"
   },
   {
    "duration": 968,
    "start_time": "2024-01-10T10:30:56.778Z"
   },
   {
    "duration": 15455,
    "start_time": "2024-01-10T10:30:57.747Z"
   },
   {
    "duration": 9415,
    "start_time": "2024-01-10T10:31:13.205Z"
   },
   {
    "duration": 86,
    "start_time": "2024-01-10T10:31:22.622Z"
   },
   {
    "duration": 1497,
    "start_time": "2024-01-10T10:31:22.710Z"
   },
   {
    "duration": 39,
    "start_time": "2024-01-10T10:31:24.212Z"
   },
   {
    "duration": 2624,
    "start_time": "2024-01-10T10:31:24.253Z"
   },
   {
    "duration": 4025,
    "start_time": "2024-01-10T10:31:26.878Z"
   },
   {
    "duration": 2539,
    "start_time": "2024-01-10T10:31:30.904Z"
   },
   {
    "duration": 4,
    "start_time": "2024-01-10T10:31:33.499Z"
   },
   {
    "duration": 2200,
    "start_time": "2024-01-10T10:31:33.507Z"
   },
   {
    "duration": 541,
    "start_time": "2024-01-10T10:31:35.709Z"
   },
   {
    "duration": 150,
    "start_time": "2024-01-10T10:31:36.252Z"
   },
   {
    "duration": 98,
    "start_time": "2024-01-10T10:31:36.406Z"
   },
   {
    "duration": 1318,
    "start_time": "2024-01-10T10:31:36.509Z"
   },
   {
    "duration": 295,
    "start_time": "2024-01-10T10:31:37.828Z"
   },
   {
    "duration": 708,
    "start_time": "2024-01-10T10:31:38.124Z"
   },
   {
    "duration": 3369,
    "start_time": "2024-01-10T10:31:38.834Z"
   },
   {
    "duration": 6033,
    "start_time": "2024-01-10T10:31:42.206Z"
   },
   {
    "duration": 4603,
    "start_time": "2024-01-10T10:31:48.301Z"
   },
   {
    "duration": 1632,
    "start_time": "2024-01-10T10:31:52.905Z"
   },
   {
    "duration": 1977,
    "start_time": "2024-01-10T10:31:54.538Z"
   },
   {
    "duration": 2190,
    "start_time": "2024-01-10T10:31:56.517Z"
   },
   {
    "duration": 2486,
    "start_time": "2024-01-10T10:31:58.714Z"
   },
   {
    "duration": 1899,
    "start_time": "2024-01-10T10:32:01.203Z"
   },
   {
    "duration": 930,
    "start_time": "2024-01-10T10:32:03.104Z"
   },
   {
    "duration": 2937,
    "start_time": "2024-01-10T10:32:04.036Z"
   },
   {
    "duration": 89,
    "start_time": "2024-01-10T10:32:06.976Z"
   },
   {
    "duration": 0,
    "start_time": "2024-01-10T10:32:07.067Z"
   },
   {
    "duration": 0,
    "start_time": "2024-01-10T10:32:07.068Z"
   },
   {
    "duration": 0,
    "start_time": "2024-01-10T10:32:07.069Z"
   },
   {
    "duration": 0,
    "start_time": "2024-01-10T10:32:07.070Z"
   },
   {
    "duration": 0,
    "start_time": "2024-01-10T10:32:07.071Z"
   },
   {
    "duration": 0,
    "start_time": "2024-01-10T10:32:07.072Z"
   },
   {
    "duration": 0,
    "start_time": "2024-01-10T10:32:07.073Z"
   },
   {
    "duration": 0,
    "start_time": "2024-01-10T10:32:07.074Z"
   },
   {
    "duration": 0,
    "start_time": "2024-01-10T10:32:07.075Z"
   },
   {
    "duration": 0,
    "start_time": "2024-01-10T10:32:07.076Z"
   },
   {
    "duration": 0,
    "start_time": "2024-01-10T10:32:07.078Z"
   },
   {
    "duration": 0,
    "start_time": "2024-01-10T10:32:07.079Z"
   },
   {
    "duration": 0,
    "start_time": "2024-01-10T10:32:07.107Z"
   },
   {
    "duration": 611,
    "start_time": "2024-01-10T10:32:29.411Z"
   },
   {
    "duration": 898,
    "start_time": "2024-01-10T10:33:03.903Z"
   },
   {
    "duration": 182,
    "start_time": "2024-01-10T10:36:28.671Z"
   },
   {
    "duration": 784,
    "start_time": "2024-01-10T10:37:36.857Z"
   },
   {
    "duration": 14901,
    "start_time": "2024-01-10T10:37:37.643Z"
   },
   {
    "duration": 8695,
    "start_time": "2024-01-10T10:37:52.545Z"
   },
   {
    "duration": 67,
    "start_time": "2024-01-10T10:38:01.242Z"
   },
   {
    "duration": 1307,
    "start_time": "2024-01-10T10:38:01.310Z"
   },
   {
    "duration": 96,
    "start_time": "2024-01-10T10:38:02.618Z"
   },
   {
    "duration": 2192,
    "start_time": "2024-01-10T10:38:02.716Z"
   },
   {
    "duration": 4217,
    "start_time": "2024-01-10T10:38:04.910Z"
   },
   {
    "duration": 2192,
    "start_time": "2024-01-10T10:38:09.128Z"
   },
   {
    "duration": 3,
    "start_time": "2024-01-10T10:38:11.323Z"
   },
   {
    "duration": 1688,
    "start_time": "2024-01-10T10:38:11.327Z"
   },
   {
    "duration": 584,
    "start_time": "2024-01-10T10:38:13.016Z"
   },
   {
    "duration": 38,
    "start_time": "2024-01-10T10:38:13.602Z"
   },
   {
    "duration": 33,
    "start_time": "2024-01-10T10:38:13.699Z"
   },
   {
    "duration": 1198,
    "start_time": "2024-01-10T10:38:13.733Z"
   },
   {
    "duration": 301,
    "start_time": "2024-01-10T10:38:14.932Z"
   },
   {
    "duration": 789,
    "start_time": "2024-01-10T10:38:15.235Z"
   },
   {
    "duration": 2820,
    "start_time": "2024-01-10T10:38:16.026Z"
   },
   {
    "duration": 4933,
    "start_time": "2024-01-10T10:38:18.899Z"
   },
   {
    "duration": 3787,
    "start_time": "2024-01-10T10:38:23.833Z"
   },
   {
    "duration": 1578,
    "start_time": "2024-01-10T10:38:27.622Z"
   },
   {
    "duration": 1807,
    "start_time": "2024-01-10T10:38:29.202Z"
   },
   {
    "duration": 1819,
    "start_time": "2024-01-10T10:38:31.011Z"
   },
   {
    "duration": 2093,
    "start_time": "2024-01-10T10:38:32.832Z"
   },
   {
    "duration": 2091,
    "start_time": "2024-01-10T10:38:34.927Z"
   },
   {
    "duration": 1009,
    "start_time": "2024-01-10T10:38:37.020Z"
   },
   {
    "duration": 2233,
    "start_time": "2024-01-10T10:38:38.031Z"
   },
   {
    "duration": 1056,
    "start_time": "2024-01-10T10:38:40.267Z"
   },
   {
    "duration": 125,
    "start_time": "2024-01-10T10:38:41.324Z"
   },
   {
    "duration": 0,
    "start_time": "2024-01-10T10:38:41.451Z"
   },
   {
    "duration": 0,
    "start_time": "2024-01-10T10:38:41.453Z"
   },
   {
    "duration": 0,
    "start_time": "2024-01-10T10:38:41.454Z"
   },
   {
    "duration": 0,
    "start_time": "2024-01-10T10:38:41.456Z"
   },
   {
    "duration": 0,
    "start_time": "2024-01-10T10:38:41.457Z"
   },
   {
    "duration": 0,
    "start_time": "2024-01-10T10:38:41.458Z"
   },
   {
    "duration": 0,
    "start_time": "2024-01-10T10:38:41.460Z"
   },
   {
    "duration": 0,
    "start_time": "2024-01-10T10:38:41.461Z"
   },
   {
    "duration": 0,
    "start_time": "2024-01-10T10:38:41.462Z"
   },
   {
    "duration": 0,
    "start_time": "2024-01-10T10:38:41.464Z"
   },
   {
    "duration": 0,
    "start_time": "2024-01-10T10:38:41.465Z"
   },
   {
    "duration": 0,
    "start_time": "2024-01-10T10:38:41.466Z"
   },
   {
    "duration": 1586,
    "start_time": "2024-01-10T10:40:54.732Z"
   },
   {
    "duration": 3,
    "start_time": "2024-01-10T10:41:01.612Z"
   },
   {
    "duration": 1404,
    "start_time": "2024-01-10T10:41:03.899Z"
   },
   {
    "duration": 158,
    "start_time": "2024-01-10T10:41:07.842Z"
   },
   {
    "duration": 98,
    "start_time": "2024-01-10T10:41:10.277Z"
   },
   {
    "duration": 19,
    "start_time": "2024-01-10T10:41:16.477Z"
   },
   {
    "duration": 1315,
    "start_time": "2024-01-10T10:41:22.613Z"
   },
   {
    "duration": 3,
    "start_time": "2024-01-10T10:46:05.080Z"
   },
   {
    "duration": 21,
    "start_time": "2024-01-10T10:46:08.521Z"
   },
   {
    "duration": 638,
    "start_time": "2024-01-10T10:46:16.162Z"
   },
   {
    "duration": 237,
    "start_time": "2024-01-10T10:46:18.897Z"
   },
   {
    "duration": 366,
    "start_time": "2024-01-10T10:46:30.112Z"
   },
   {
    "duration": 168,
    "start_time": "2024-01-10T10:46:38.132Z"
   },
   {
    "duration": 136,
    "start_time": "2024-01-10T10:46:51.527Z"
   },
   {
    "duration": 293,
    "start_time": "2024-01-10T10:47:56.477Z"
   },
   {
    "duration": 1843,
    "start_time": "2024-01-10T10:54:41.494Z"
   },
   {
    "duration": 2699,
    "start_time": "2024-01-10T10:54:51.931Z"
   },
   {
    "duration": 2038,
    "start_time": "2024-01-10T10:55:11.369Z"
   },
   {
    "duration": 3625,
    "start_time": "2024-01-10T10:55:25.815Z"
   },
   {
    "duration": 1679,
    "start_time": "2024-01-10T10:55:40.155Z"
   },
   {
    "duration": 839,
    "start_time": "2024-01-10T10:57:11.497Z"
   },
   {
    "duration": 14893,
    "start_time": "2024-01-10T10:57:12.338Z"
   },
   {
    "duration": 8881,
    "start_time": "2024-01-10T10:57:27.233Z"
   },
   {
    "duration": 86,
    "start_time": "2024-01-10T10:57:36.116Z"
   },
   {
    "duration": 1410,
    "start_time": "2024-01-10T10:57:36.204Z"
   },
   {
    "duration": 101,
    "start_time": "2024-01-10T10:57:37.617Z"
   },
   {
    "duration": 2075,
    "start_time": "2024-01-10T10:57:37.719Z"
   },
   {
    "duration": 4209,
    "start_time": "2024-01-10T10:57:39.799Z"
   },
   {
    "duration": 2301,
    "start_time": "2024-01-10T10:57:44.010Z"
   },
   {
    "duration": 3,
    "start_time": "2024-01-10T10:57:46.313Z"
   },
   {
    "duration": 1898,
    "start_time": "2024-01-10T10:57:46.318Z"
   },
   {
    "duration": 603,
    "start_time": "2024-01-10T10:57:48.217Z"
   },
   {
    "duration": 108,
    "start_time": "2024-01-10T10:57:48.822Z"
   },
   {
    "duration": 94,
    "start_time": "2024-01-10T10:57:48.932Z"
   },
   {
    "duration": 1276,
    "start_time": "2024-01-10T10:57:49.028Z"
   },
   {
    "duration": 293,
    "start_time": "2024-01-10T10:57:50.306Z"
   },
   {
    "duration": 723,
    "start_time": "2024-01-10T10:57:50.601Z"
   },
   {
    "duration": 2973,
    "start_time": "2024-01-10T10:57:51.326Z"
   },
   {
    "duration": 4699,
    "start_time": "2024-01-10T10:57:54.301Z"
   },
   {
    "duration": 3509,
    "start_time": "2024-01-10T10:57:59.002Z"
   },
   {
    "duration": 1280,
    "start_time": "2024-01-10T10:58:02.513Z"
   },
   {
    "duration": 1708,
    "start_time": "2024-01-10T10:58:03.794Z"
   },
   {
    "duration": 2296,
    "start_time": "2024-01-10T10:58:05.504Z"
   },
   {
    "duration": 2226,
    "start_time": "2024-01-10T10:58:07.802Z"
   },
   {
    "duration": 1803,
    "start_time": "2024-01-10T10:58:10.030Z"
   },
   {
    "duration": 868,
    "start_time": "2024-01-10T10:58:11.834Z"
   },
   {
    "duration": 2586,
    "start_time": "2024-01-10T10:58:12.704Z"
   },
   {
    "duration": 6,
    "start_time": "2024-01-10T10:58:15.293Z"
   },
   {
    "duration": 5,
    "start_time": "2024-01-10T11:04:59.785Z"
   },
   {
    "duration": 4,
    "start_time": "2024-01-10T11:05:12.774Z"
   },
   {
    "duration": 4,
    "start_time": "2024-01-10T11:05:32.708Z"
   },
   {
    "duration": 5,
    "start_time": "2024-01-10T11:18:31.764Z"
   },
   {
    "duration": 914,
    "start_time": "2024-01-10T12:24:28.817Z"
   },
   {
    "duration": 14490,
    "start_time": "2024-01-10T12:24:29.733Z"
   },
   {
    "duration": 8410,
    "start_time": "2024-01-10T12:24:44.225Z"
   },
   {
    "duration": 95,
    "start_time": "2024-01-10T12:24:52.637Z"
   },
   {
    "duration": 1305,
    "start_time": "2024-01-10T12:24:52.734Z"
   },
   {
    "duration": 90,
    "start_time": "2024-01-10T12:24:54.041Z"
   },
   {
    "duration": 2153,
    "start_time": "2024-01-10T12:24:54.133Z"
   },
   {
    "duration": 4048,
    "start_time": "2024-01-10T12:24:56.288Z"
   },
   {
    "duration": 2358,
    "start_time": "2024-01-10T12:25:00.338Z"
   },
   {
    "duration": 3,
    "start_time": "2024-01-10T12:25:02.699Z"
   },
   {
    "duration": 1813,
    "start_time": "2024-01-10T12:25:02.704Z"
   },
   {
    "duration": 683,
    "start_time": "2024-01-10T12:25:04.519Z"
   },
   {
    "duration": 37,
    "start_time": "2024-01-10T12:25:05.204Z"
   },
   {
    "duration": 100,
    "start_time": "2024-01-10T12:25:05.300Z"
   },
   {
    "duration": 1400,
    "start_time": "2024-01-10T12:25:05.402Z"
   },
   {
    "duration": 215,
    "start_time": "2024-01-10T12:25:06.804Z"
   },
   {
    "duration": 714,
    "start_time": "2024-01-10T12:25:07.020Z"
   },
   {
    "duration": 2783,
    "start_time": "2024-01-10T12:25:07.736Z"
   },
   {
    "duration": 5429,
    "start_time": "2024-01-10T12:25:10.521Z"
   },
   {
    "duration": 3761,
    "start_time": "2024-01-10T12:25:15.952Z"
   },
   {
    "duration": 1504,
    "start_time": "2024-01-10T12:25:19.714Z"
   },
   {
    "duration": 1627,
    "start_time": "2024-01-10T12:25:21.219Z"
   },
   {
    "duration": 2107,
    "start_time": "2024-01-10T12:25:22.848Z"
   },
   {
    "duration": 1801,
    "start_time": "2024-01-10T12:25:24.957Z"
   },
   {
    "duration": 2165,
    "start_time": "2024-01-10T12:25:26.760Z"
   },
   {
    "duration": 886,
    "start_time": "2024-01-10T12:25:28.927Z"
   },
   {
    "duration": 2389,
    "start_time": "2024-01-10T12:25:29.815Z"
   },
   {
    "duration": 527,
    "start_time": "2024-01-10T12:25:32.208Z"
   },
   {
    "duration": 505,
    "start_time": "2024-01-10T14:15:14.140Z"
   },
   {
    "duration": 908,
    "start_time": "2024-01-10T14:15:27.455Z"
   },
   {
    "duration": 16029,
    "start_time": "2024-01-10T14:15:28.905Z"
   },
   {
    "duration": 9789,
    "start_time": "2024-01-10T14:15:44.936Z"
   },
   {
    "duration": 72,
    "start_time": "2024-01-10T14:15:54.727Z"
   },
   {
    "duration": 540,
    "start_time": "2024-01-10T14:15:54.801Z"
   },
   {
    "duration": 69,
    "start_time": "2024-01-10T14:20:57.996Z"
   },
   {
    "duration": 399,
    "start_time": "2024-01-10T14:22:14.220Z"
   },
   {
    "duration": 611,
    "start_time": "2024-01-10T14:23:32.108Z"
   },
   {
    "duration": 80,
    "start_time": "2024-01-10T14:26:13.825Z"
   },
   {
    "duration": 72,
    "start_time": "2024-01-10T14:26:43.960Z"
   },
   {
    "duration": 1227,
    "start_time": "2024-01-10T14:26:48.500Z"
   },
   {
    "duration": 940,
    "start_time": "2024-01-10T14:42:18.201Z"
   },
   {
    "duration": 15382,
    "start_time": "2024-01-10T14:42:19.143Z"
   },
   {
    "duration": 10371,
    "start_time": "2024-01-10T14:42:34.528Z"
   },
   {
    "duration": 33,
    "start_time": "2024-01-10T14:42:44.902Z"
   },
   {
    "duration": 1066,
    "start_time": "2024-01-10T14:42:44.937Z"
   },
   {
    "duration": 1234,
    "start_time": "2024-01-10T14:42:46.005Z"
   },
   {
    "duration": 2268,
    "start_time": "2024-01-10T14:42:47.241Z"
   },
   {
    "duration": 4398,
    "start_time": "2024-01-10T14:42:49.511Z"
   },
   {
    "duration": 2491,
    "start_time": "2024-01-10T14:42:53.911Z"
   },
   {
    "duration": 4,
    "start_time": "2024-01-10T14:42:56.405Z"
   },
   {
    "duration": 1918,
    "start_time": "2024-01-10T14:42:56.411Z"
   },
   {
    "duration": 2402,
    "start_time": "2024-01-10T14:42:58.331Z"
   },
   {
    "duration": 983,
    "start_time": "2024-01-10T14:43:00.736Z"
   },
   {
    "duration": 106,
    "start_time": "2024-01-10T14:43:01.721Z"
   },
   {
    "duration": 91,
    "start_time": "2024-01-10T14:43:01.829Z"
   },
   {
    "duration": 1211,
    "start_time": "2024-01-10T14:43:01.922Z"
   },
   {
    "duration": 581,
    "start_time": "2024-01-10T14:43:03.135Z"
   },
   {
    "duration": 1187,
    "start_time": "2024-01-10T14:43:03.719Z"
   },
   {
    "duration": 145,
    "start_time": "2024-01-10T14:43:04.908Z"
   },
   {
    "duration": 0,
    "start_time": "2024-01-10T14:43:05.055Z"
   },
   {
    "duration": 0,
    "start_time": "2024-01-10T14:43:05.056Z"
   },
   {
    "duration": 0,
    "start_time": "2024-01-10T14:43:05.057Z"
   },
   {
    "duration": 0,
    "start_time": "2024-01-10T14:43:05.059Z"
   },
   {
    "duration": 0,
    "start_time": "2024-01-10T14:43:05.060Z"
   },
   {
    "duration": 0,
    "start_time": "2024-01-10T14:43:05.061Z"
   },
   {
    "duration": 0,
    "start_time": "2024-01-10T14:43:05.062Z"
   },
   {
    "duration": 0,
    "start_time": "2024-01-10T14:43:05.064Z"
   },
   {
    "duration": 0,
    "start_time": "2024-01-10T14:43:05.065Z"
   },
   {
    "duration": 0,
    "start_time": "2024-01-10T14:43:05.066Z"
   },
   {
    "duration": 0,
    "start_time": "2024-01-10T14:43:05.067Z"
   },
   {
    "duration": 130,
    "start_time": "2024-01-10T14:54:17.688Z"
   },
   {
    "duration": 11,
    "start_time": "2024-01-10T15:04:03.779Z"
   },
   {
    "duration": 105,
    "start_time": "2024-01-10T15:05:04.722Z"
   },
   {
    "duration": 9,
    "start_time": "2024-01-10T15:06:11.618Z"
   },
   {
    "duration": 19,
    "start_time": "2024-01-10T15:13:35.759Z"
   },
   {
    "duration": 116,
    "start_time": "2024-01-10T15:15:18.822Z"
   },
   {
    "duration": 3897,
    "start_time": "2024-01-10T15:25:47.655Z"
   },
   {
    "duration": 881,
    "start_time": "2024-01-10T15:42:18.736Z"
   },
   {
    "duration": 14428,
    "start_time": "2024-01-10T15:42:19.619Z"
   },
   {
    "duration": 9008,
    "start_time": "2024-01-10T15:42:34.099Z"
   },
   {
    "duration": 92,
    "start_time": "2024-01-10T15:42:43.110Z"
   },
   {
    "duration": 1016,
    "start_time": "2024-01-10T15:42:43.203Z"
   },
   {
    "duration": 1312,
    "start_time": "2024-01-10T15:42:44.220Z"
   },
   {
    "duration": 2194,
    "start_time": "2024-01-10T15:42:45.534Z"
   },
   {
    "duration": 3379,
    "start_time": "2024-01-10T15:42:47.730Z"
   },
   {
    "duration": 2194,
    "start_time": "2024-01-10T15:42:51.110Z"
   },
   {
    "duration": 3,
    "start_time": "2024-01-10T15:42:53.307Z"
   },
   {
    "duration": 1717,
    "start_time": "2024-01-10T15:42:53.312Z"
   },
   {
    "duration": 2092,
    "start_time": "2024-01-10T15:42:55.031Z"
   },
   {
    "duration": 842,
    "start_time": "2024-01-10T15:42:57.128Z"
   },
   {
    "duration": 64,
    "start_time": "2024-01-10T15:42:57.972Z"
   },
   {
    "duration": 85,
    "start_time": "2024-01-10T15:42:58.038Z"
   },
   {
    "duration": 1094,
    "start_time": "2024-01-10T15:42:58.125Z"
   },
   {
    "duration": 383,
    "start_time": "2024-01-10T15:42:59.221Z"
   },
   {
    "duration": 1005,
    "start_time": "2024-01-10T15:42:59.605Z"
   },
   {
    "duration": 2,
    "start_time": "2024-01-10T15:43:00.612Z"
   },
   {
    "duration": 153,
    "start_time": "2024-01-10T15:43:00.616Z"
   },
   {
    "duration": 0,
    "start_time": "2024-01-10T15:43:00.771Z"
   },
   {
    "duration": 0,
    "start_time": "2024-01-10T15:43:00.772Z"
   },
   {
    "duration": 0,
    "start_time": "2024-01-10T15:43:00.773Z"
   },
   {
    "duration": 0,
    "start_time": "2024-01-10T15:43:00.774Z"
   },
   {
    "duration": 0,
    "start_time": "2024-01-10T15:43:00.775Z"
   },
   {
    "duration": 0,
    "start_time": "2024-01-10T15:43:00.776Z"
   },
   {
    "duration": 0,
    "start_time": "2024-01-10T15:43:00.777Z"
   },
   {
    "duration": 0,
    "start_time": "2024-01-10T15:43:00.778Z"
   },
   {
    "duration": 0,
    "start_time": "2024-01-10T15:43:00.779Z"
   },
   {
    "duration": 0,
    "start_time": "2024-01-10T15:43:00.780Z"
   },
   {
    "duration": 0,
    "start_time": "2024-01-10T15:43:00.781Z"
   },
   {
    "duration": 403,
    "start_time": "2024-01-10T15:44:08.653Z"
   },
   {
    "duration": 393,
    "start_time": "2024-01-10T15:46:31.435Z"
   },
   {
    "duration": 27,
    "start_time": "2024-01-10T15:47:14.421Z"
   },
   {
    "duration": 25,
    "start_time": "2024-01-10T15:50:57.019Z"
   },
   {
    "duration": 24,
    "start_time": "2024-01-10T15:52:41.416Z"
   },
   {
    "duration": 358,
    "start_time": "2024-01-10T15:53:12.270Z"
   },
   {
    "duration": 817,
    "start_time": "2024-01-10T15:55:32.786Z"
   },
   {
    "duration": 880,
    "start_time": "2024-01-10T15:56:53.457Z"
   },
   {
    "duration": 14106,
    "start_time": "2024-01-10T15:56:54.339Z"
   },
   {
    "duration": 8495,
    "start_time": "2024-01-10T15:57:08.447Z"
   },
   {
    "duration": 71,
    "start_time": "2024-01-10T15:57:16.944Z"
   },
   {
    "duration": 1088,
    "start_time": "2024-01-10T15:57:17.017Z"
   },
   {
    "duration": 1221,
    "start_time": "2024-01-10T15:57:18.107Z"
   },
   {
    "duration": 2064,
    "start_time": "2024-01-10T15:57:19.330Z"
   },
   {
    "duration": 3514,
    "start_time": "2024-01-10T15:57:21.398Z"
   },
   {
    "duration": 2185,
    "start_time": "2024-01-10T15:57:24.914Z"
   },
   {
    "duration": 3,
    "start_time": "2024-01-10T15:57:27.103Z"
   },
   {
    "duration": 1892,
    "start_time": "2024-01-10T15:57:27.108Z"
   },
   {
    "duration": 2237,
    "start_time": "2024-01-10T15:57:29.003Z"
   },
   {
    "duration": 898,
    "start_time": "2024-01-10T15:57:31.241Z"
   },
   {
    "duration": 94,
    "start_time": "2024-01-10T15:57:32.141Z"
   },
   {
    "duration": 83,
    "start_time": "2024-01-10T15:57:32.236Z"
   },
   {
    "duration": 1004,
    "start_time": "2024-01-10T15:57:32.320Z"
   },
   {
    "duration": 494,
    "start_time": "2024-01-10T15:57:33.325Z"
   },
   {
    "duration": 1189,
    "start_time": "2024-01-10T15:57:33.821Z"
   },
   {
    "duration": 512,
    "start_time": "2024-01-10T15:57:35.013Z"
   },
   {
    "duration": 516,
    "start_time": "2024-01-10T15:57:35.527Z"
   },
   {
    "duration": 63,
    "start_time": "2024-01-10T15:57:36.045Z"
   },
   {
    "duration": 16,
    "start_time": "2024-01-10T15:57:36.110Z"
   },
   {
    "duration": 74,
    "start_time": "2024-01-10T15:57:36.128Z"
   },
   {
    "duration": 334,
    "start_time": "2024-01-10T15:57:36.203Z"
   },
   {
    "duration": 987,
    "start_time": "2024-01-10T15:57:36.539Z"
   },
   {
    "duration": 3602,
    "start_time": "2024-01-10T15:57:37.528Z"
   },
   {
    "duration": 2269,
    "start_time": "2024-01-10T15:57:41.132Z"
   },
   {
    "duration": 1202,
    "start_time": "2024-01-10T15:57:43.404Z"
   },
   {
    "duration": 1204,
    "start_time": "2024-01-10T15:57:44.608Z"
   },
   {
    "duration": 1416,
    "start_time": "2024-01-10T15:57:45.814Z"
   },
   {
    "duration": 1379,
    "start_time": "2024-01-10T15:57:47.232Z"
   },
   {
    "duration": 1390,
    "start_time": "2024-01-10T15:57:48.612Z"
   },
   {
    "duration": 1297,
    "start_time": "2024-01-10T15:57:50.003Z"
   },
   {
    "duration": 2433,
    "start_time": "2024-01-10T15:57:51.302Z"
   },
   {
    "duration": 486,
    "start_time": "2024-01-10T15:57:53.738Z"
   },
   {
    "duration": 74,
    "start_time": "2024-01-10T16:01:20.415Z"
   },
   {
    "duration": 866,
    "start_time": "2024-01-10T16:02:06.275Z"
   },
   {
    "duration": 15005,
    "start_time": "2024-01-10T16:02:07.143Z"
   },
   {
    "duration": 8722,
    "start_time": "2024-01-10T16:02:22.201Z"
   },
   {
    "duration": 98,
    "start_time": "2024-01-10T16:02:30.926Z"
   },
   {
    "duration": 1083,
    "start_time": "2024-01-10T16:02:31.026Z"
   },
   {
    "duration": 1394,
    "start_time": "2024-01-10T16:02:32.111Z"
   },
   {
    "duration": 2121,
    "start_time": "2024-01-10T16:02:33.507Z"
   },
   {
    "duration": 3894,
    "start_time": "2024-01-10T16:02:35.630Z"
   },
   {
    "duration": 2595,
    "start_time": "2024-01-10T16:02:39.525Z"
   },
   {
    "duration": 4,
    "start_time": "2024-01-10T16:02:42.124Z"
   },
   {
    "duration": 1695,
    "start_time": "2024-01-10T16:02:42.130Z"
   },
   {
    "duration": 2228,
    "start_time": "2024-01-10T16:02:43.827Z"
   },
   {
    "duration": 862,
    "start_time": "2024-01-10T16:02:46.056Z"
   },
   {
    "duration": 113,
    "start_time": "2024-01-10T16:02:46.920Z"
   },
   {
    "duration": 95,
    "start_time": "2024-01-10T16:02:47.034Z"
   },
   {
    "duration": 1305,
    "start_time": "2024-01-10T16:02:47.131Z"
   },
   {
    "duration": 605,
    "start_time": "2024-01-10T16:02:48.500Z"
   },
   {
    "duration": 1095,
    "start_time": "2024-01-10T16:02:49.107Z"
   },
   {
    "duration": 532,
    "start_time": "2024-01-10T16:02:50.206Z"
   },
   {
    "duration": 513,
    "start_time": "2024-01-10T16:02:50.740Z"
   },
   {
    "duration": 44,
    "start_time": "2024-01-10T16:02:51.255Z"
   },
   {
    "duration": 40,
    "start_time": "2024-01-10T16:02:51.301Z"
   },
   {
    "duration": 72,
    "start_time": "2024-01-10T16:02:51.342Z"
   },
   {
    "duration": 415,
    "start_time": "2024-01-10T16:02:51.416Z"
   },
   {
    "duration": 1077,
    "start_time": "2024-01-10T16:02:51.832Z"
   },
   {
    "duration": 4702,
    "start_time": "2024-01-10T16:02:52.911Z"
   },
   {
    "duration": 2409,
    "start_time": "2024-01-10T16:02:57.615Z"
   },
   {
    "duration": 1130,
    "start_time": "2024-01-10T16:03:00.028Z"
   },
   {
    "duration": 1154,
    "start_time": "2024-01-10T16:03:01.159Z"
   },
   {
    "duration": 1506,
    "start_time": "2024-01-10T16:03:02.315Z"
   },
   {
    "duration": 1206,
    "start_time": "2024-01-10T16:03:03.822Z"
   },
   {
    "duration": 1234,
    "start_time": "2024-01-10T16:03:05.030Z"
   },
   {
    "duration": 970,
    "start_time": "2024-01-10T16:03:06.266Z"
   },
   {
    "duration": 1789,
    "start_time": "2024-01-10T16:03:07.237Z"
   },
   {
    "duration": 198,
    "start_time": "2024-01-10T16:03:09.027Z"
   },
   {
    "duration": 4,
    "start_time": "2024-01-10T16:04:08.474Z"
   },
   {
    "duration": 312,
    "start_time": "2024-01-10T16:04:11.293Z"
   },
   {
    "duration": 675,
    "start_time": "2024-01-10T16:04:13.825Z"
   },
   {
    "duration": 1726,
    "start_time": "2024-01-10T16:04:45.383Z"
   },
   {
    "duration": 8,
    "start_time": "2024-01-10T16:05:10.379Z"
   },
   {
    "duration": 240,
    "start_time": "2024-01-10T16:05:13.313Z"
   },
   {
    "duration": 941,
    "start_time": "2024-01-10T16:05:17.077Z"
   },
   {
    "duration": 887,
    "start_time": "2024-01-10T16:05:32.420Z"
   },
   {
    "duration": 79,
    "start_time": "2024-01-10T16:09:23.585Z"
   },
   {
    "duration": 8,
    "start_time": "2024-01-10T16:13:44.593Z"
   },
   {
    "duration": 9,
    "start_time": "2024-01-10T16:14:29.074Z"
   },
   {
    "duration": 8,
    "start_time": "2024-01-10T16:16:02.054Z"
   },
   {
    "duration": 8,
    "start_time": "2024-01-10T16:16:15.115Z"
   },
   {
    "duration": 10,
    "start_time": "2024-01-10T16:22:05.799Z"
   },
   {
    "duration": 14,
    "start_time": "2024-01-10T17:25:20.840Z"
   },
   {
    "duration": 11,
    "start_time": "2024-01-10T17:25:42.287Z"
   },
   {
    "duration": 8,
    "start_time": "2024-01-10T17:26:52.798Z"
   },
   {
    "duration": 2203,
    "start_time": "2024-01-10T17:27:04.340Z"
   },
   {
    "duration": 2268,
    "start_time": "2024-01-10T17:27:51.044Z"
   },
   {
    "duration": 2477,
    "start_time": "2024-01-10T17:28:01.581Z"
   },
   {
    "duration": 2500,
    "start_time": "2024-01-10T18:02:04.521Z"
   },
   {
    "duration": 11,
    "start_time": "2024-01-10T18:02:41.350Z"
   },
   {
    "duration": 181,
    "start_time": "2024-01-10T18:04:07.432Z"
   },
   {
    "duration": 2585,
    "start_time": "2024-01-10T18:14:39.768Z"
   },
   {
    "duration": 40,
    "start_time": "2024-01-10T18:15:08.420Z"
   },
   {
    "duration": 9,
    "start_time": "2024-01-10T18:16:24.794Z"
   },
   {
    "duration": 728,
    "start_time": "2024-01-10T18:16:31.277Z"
   },
   {
    "duration": 14,
    "start_time": "2024-01-10T18:19:58.282Z"
   },
   {
    "duration": 17,
    "start_time": "2024-01-10T18:20:14.261Z"
   },
   {
    "duration": 17,
    "start_time": "2024-01-10T18:20:21.357Z"
   },
   {
    "duration": 98,
    "start_time": "2024-01-10T18:20:56.342Z"
   },
   {
    "duration": 96,
    "start_time": "2024-01-10T18:21:11.991Z"
   },
   {
    "duration": 13,
    "start_time": "2024-01-10T18:21:18.334Z"
   },
   {
    "duration": 13,
    "start_time": "2024-01-10T18:21:40.619Z"
   },
   {
    "duration": 13,
    "start_time": "2024-01-10T18:21:53.941Z"
   },
   {
    "duration": 317,
    "start_time": "2024-01-10T18:23:10.902Z"
   },
   {
    "duration": 15,
    "start_time": "2024-01-10T18:23:12.516Z"
   },
   {
    "duration": 2145,
    "start_time": "2024-01-10T18:23:45.862Z"
   },
   {
    "duration": 694,
    "start_time": "2024-01-10T18:26:50.527Z"
   },
   {
    "duration": 159,
    "start_time": "2024-01-10T18:28:01.110Z"
   },
   {
    "duration": 92,
    "start_time": "2024-01-10T18:28:07.339Z"
   },
   {
    "duration": 746,
    "start_time": "2024-01-10T18:31:47.981Z"
   },
   {
    "duration": 543,
    "start_time": "2024-01-10T18:32:01.366Z"
   },
   {
    "duration": 119,
    "start_time": "2024-01-10T18:43:13.663Z"
   },
   {
    "duration": 96,
    "start_time": "2024-01-10T18:43:39.437Z"
   },
   {
    "duration": 89,
    "start_time": "2024-01-10T18:45:05.189Z"
   },
   {
    "duration": 99,
    "start_time": "2024-01-10T18:45:15.748Z"
   },
   {
    "duration": 96,
    "start_time": "2024-01-10T18:45:21.393Z"
   },
   {
    "duration": 106,
    "start_time": "2024-01-10T18:45:28.793Z"
   },
   {
    "duration": 99,
    "start_time": "2024-01-10T18:46:07.267Z"
   },
   {
    "duration": 96,
    "start_time": "2024-01-10T18:46:23.278Z"
   },
   {
    "duration": 212,
    "start_time": "2024-01-10T18:58:03.637Z"
   },
   {
    "duration": 924,
    "start_time": "2024-01-10T18:58:23.313Z"
   },
   {
    "duration": 15004,
    "start_time": "2024-01-10T18:58:24.240Z"
   },
   {
    "duration": 9015,
    "start_time": "2024-01-10T18:58:39.300Z"
   },
   {
    "duration": 89,
    "start_time": "2024-01-10T18:58:48.317Z"
   },
   {
    "duration": 616,
    "start_time": "2024-01-10T18:58:48.408Z"
   },
   {
    "duration": 3508,
    "start_time": "2024-01-10T18:58:49.026Z"
   },
   {
    "duration": 737,
    "start_time": "2024-01-10T18:58:52.536Z"
   },
   {
    "duration": 14,
    "start_time": "2024-01-10T18:58:53.299Z"
   },
   {
    "duration": 2088,
    "start_time": "2024-01-10T18:58:53.314Z"
   },
   {
    "duration": 3812,
    "start_time": "2024-01-10T18:58:55.403Z"
   },
   {
    "duration": 2204,
    "start_time": "2024-01-10T18:58:59.217Z"
   },
   {
    "duration": 3,
    "start_time": "2024-01-10T18:59:01.422Z"
   },
   {
    "duration": 1701,
    "start_time": "2024-01-10T18:59:01.427Z"
   },
   {
    "duration": 2089,
    "start_time": "2024-01-10T18:59:03.130Z"
   },
   {
    "duration": 901,
    "start_time": "2024-01-10T18:59:05.221Z"
   },
   {
    "duration": 89,
    "start_time": "2024-01-10T18:59:06.123Z"
   },
   {
    "duration": 85,
    "start_time": "2024-01-10T18:59:06.214Z"
   },
   {
    "duration": 934,
    "start_time": "2024-01-10T18:59:06.301Z"
   },
   {
    "duration": 389,
    "start_time": "2024-01-10T18:59:07.237Z"
   },
   {
    "duration": 1015,
    "start_time": "2024-01-10T18:59:07.627Z"
   },
   {
    "duration": 423,
    "start_time": "2024-01-10T18:59:08.643Z"
   },
   {
    "duration": 532,
    "start_time": "2024-01-10T18:59:09.068Z"
   },
   {
    "duration": 17,
    "start_time": "2024-01-10T18:59:09.601Z"
   },
   {
    "duration": 80,
    "start_time": "2024-01-10T18:59:09.619Z"
   },
   {
    "duration": 15,
    "start_time": "2024-01-10T18:59:09.700Z"
   },
   {
    "duration": 394,
    "start_time": "2024-01-10T18:59:09.716Z"
   },
   {
    "duration": 1244,
    "start_time": "2024-01-10T18:59:10.112Z"
   },
   {
    "duration": 4024,
    "start_time": "2024-01-10T18:59:11.399Z"
   },
   {
    "duration": 1986,
    "start_time": "2024-01-10T18:59:15.425Z"
   },
   {
    "duration": 941,
    "start_time": "2024-01-10T18:59:17.413Z"
   },
   {
    "duration": 1006,
    "start_time": "2024-01-10T18:59:18.356Z"
   },
   {
    "duration": 1279,
    "start_time": "2024-01-10T18:59:19.364Z"
   },
   {
    "duration": 1097,
    "start_time": "2024-01-10T18:59:20.645Z"
   },
   {
    "duration": 928,
    "start_time": "2024-01-10T18:59:21.744Z"
   },
   {
    "duration": 929,
    "start_time": "2024-01-10T18:59:22.673Z"
   },
   {
    "duration": 1701,
    "start_time": "2024-01-10T18:59:23.604Z"
   },
   {
    "duration": 230,
    "start_time": "2024-01-10T18:59:25.306Z"
   },
   {
    "duration": 127,
    "start_time": "2024-01-10T18:59:25.538Z"
   },
   {
    "duration": 123,
    "start_time": "2024-01-10T19:03:54.279Z"
   },
   {
    "duration": 122,
    "start_time": "2024-01-10T19:17:05.285Z"
   },
   {
    "duration": 11,
    "start_time": "2024-01-10T19:17:15.875Z"
   },
   {
    "duration": 15,
    "start_time": "2024-01-10T19:26:11.934Z"
   },
   {
    "duration": 13,
    "start_time": "2024-01-10T19:28:08.494Z"
   },
   {
    "duration": 11,
    "start_time": "2024-01-10T19:28:14.796Z"
   },
   {
    "duration": 8,
    "start_time": "2024-01-10T19:28:26.864Z"
   },
   {
    "duration": 4,
    "start_time": "2024-01-10T19:28:47.594Z"
   },
   {
    "duration": 261,
    "start_time": "2024-01-10T19:28:49.963Z"
   },
   {
    "duration": 476,
    "start_time": "2024-01-10T19:28:52.535Z"
   },
   {
    "duration": 8,
    "start_time": "2024-01-10T19:28:56.618Z"
   },
   {
    "duration": 8,
    "start_time": "2024-01-10T19:28:59.284Z"
   },
   {
    "duration": 91,
    "start_time": "2024-01-10T19:29:03.897Z"
   },
   {
    "duration": 83,
    "start_time": "2024-01-10T19:29:25.573Z"
   },
   {
    "duration": 87,
    "start_time": "2024-01-10T19:29:40.012Z"
   },
   {
    "duration": 7,
    "start_time": "2024-01-10T19:29:56.821Z"
   },
   {
    "duration": 9,
    "start_time": "2024-01-10T19:33:05.280Z"
   },
   {
    "duration": 4,
    "start_time": "2024-01-10T19:33:12.813Z"
   },
   {
    "duration": 105,
    "start_time": "2024-01-10T19:33:15.441Z"
   },
   {
    "duration": 109,
    "start_time": "2024-01-10T19:34:35.058Z"
   },
   {
    "duration": 787,
    "start_time": "2024-01-10T19:39:13.352Z"
   },
   {
    "duration": 14966,
    "start_time": "2024-01-10T19:39:14.141Z"
   },
   {
    "duration": 8891,
    "start_time": "2024-01-10T19:39:29.109Z"
   },
   {
    "duration": 34,
    "start_time": "2024-01-10T19:39:38.003Z"
   },
   {
    "duration": 473,
    "start_time": "2024-01-10T19:39:38.039Z"
   },
   {
    "duration": 3313,
    "start_time": "2024-01-10T19:39:38.514Z"
   },
   {
    "duration": 770,
    "start_time": "2024-01-10T19:39:41.829Z"
   },
   {
    "duration": 2555,
    "start_time": "2024-01-10T19:39:42.601Z"
   },
   {
    "duration": 3551,
    "start_time": "2024-01-10T19:39:45.158Z"
   },
   {
    "duration": 2023,
    "start_time": "2024-01-10T19:39:48.712Z"
   },
   {
    "duration": 3,
    "start_time": "2024-01-10T19:39:50.737Z"
   },
   {
    "duration": 1433,
    "start_time": "2024-01-10T19:39:50.799Z"
   },
   {
    "duration": 1996,
    "start_time": "2024-01-10T19:39:52.233Z"
   },
   {
    "duration": 795,
    "start_time": "2024-01-10T19:39:54.230Z"
   },
   {
    "duration": 99,
    "start_time": "2024-01-10T19:39:55.027Z"
   },
   {
    "duration": 91,
    "start_time": "2024-01-10T19:39:55.128Z"
   },
   {
    "duration": 1289,
    "start_time": "2024-01-10T19:39:55.221Z"
   },
   {
    "duration": 688,
    "start_time": "2024-01-10T19:39:56.512Z"
   },
   {
    "duration": 1133,
    "start_time": "2024-01-10T19:39:57.201Z"
   },
   {
    "duration": 596,
    "start_time": "2024-01-10T19:39:58.336Z"
   },
   {
    "duration": 565,
    "start_time": "2024-01-10T19:39:58.934Z"
   },
   {
    "duration": 18,
    "start_time": "2024-01-10T19:39:59.501Z"
   },
   {
    "duration": 79,
    "start_time": "2024-01-10T19:39:59.520Z"
   },
   {
    "duration": 14,
    "start_time": "2024-01-10T19:39:59.601Z"
   },
   {
    "duration": 496,
    "start_time": "2024-01-10T19:39:59.617Z"
   },
   {
    "duration": 1035,
    "start_time": "2024-01-10T19:40:00.115Z"
   },
   {
    "duration": 3861,
    "start_time": "2024-01-10T19:40:01.152Z"
   },
   {
    "duration": 2125,
    "start_time": "2024-01-10T19:40:05.017Z"
   },
   {
    "duration": 920,
    "start_time": "2024-01-10T19:40:07.144Z"
   },
   {
    "duration": 958,
    "start_time": "2024-01-10T19:40:08.066Z"
   },
   {
    "duration": 1448,
    "start_time": "2024-01-10T19:40:09.025Z"
   },
   {
    "duration": 1175,
    "start_time": "2024-01-10T19:40:10.475Z"
   },
   {
    "duration": 1010,
    "start_time": "2024-01-10T19:40:11.652Z"
   },
   {
    "duration": 944,
    "start_time": "2024-01-10T19:40:12.663Z"
   },
   {
    "duration": 1818,
    "start_time": "2024-01-10T19:40:13.609Z"
   },
   {
    "duration": 1118,
    "start_time": "2024-01-10T19:40:15.429Z"
   },
   {
    "duration": 915,
    "start_time": "2024-01-10T20:05:16.208Z"
   },
   {
    "duration": 14880,
    "start_time": "2024-01-10T20:05:17.126Z"
   },
   {
    "duration": 8941,
    "start_time": "2024-01-10T20:05:32.008Z"
   },
   {
    "duration": 30,
    "start_time": "2024-01-10T20:05:40.998Z"
   },
   {
    "duration": 381,
    "start_time": "2024-01-10T20:05:41.029Z"
   },
   {
    "duration": 3425,
    "start_time": "2024-01-10T20:05:41.411Z"
   },
   {
    "duration": 739,
    "start_time": "2024-01-10T20:05:44.900Z"
   },
   {
    "duration": 2221,
    "start_time": "2024-01-10T20:05:45.641Z"
   },
   {
    "duration": 3719,
    "start_time": "2024-01-10T20:05:47.864Z"
   },
   {
    "duration": 1906,
    "start_time": "2024-01-10T20:05:51.600Z"
   },
   {
    "duration": 4,
    "start_time": "2024-01-10T20:05:53.508Z"
   },
   {
    "duration": 1614,
    "start_time": "2024-01-10T20:05:53.513Z"
   },
   {
    "duration": 2012,
    "start_time": "2024-01-10T20:05:55.129Z"
   },
   {
    "duration": 920,
    "start_time": "2024-01-10T20:05:57.200Z"
   },
   {
    "duration": 97,
    "start_time": "2024-01-10T20:05:58.122Z"
   },
   {
    "duration": 83,
    "start_time": "2024-01-10T20:05:58.221Z"
   },
   {
    "duration": 1116,
    "start_time": "2024-01-10T20:05:58.306Z"
   },
   {
    "duration": 401,
    "start_time": "2024-01-10T20:05:59.424Z"
   },
   {
    "duration": 1082,
    "start_time": "2024-01-10T20:05:59.826Z"
   },
   {
    "duration": 557,
    "start_time": "2024-01-10T20:06:00.909Z"
   },
   {
    "duration": 389,
    "start_time": "2024-01-10T20:06:01.468Z"
   },
   {
    "duration": 45,
    "start_time": "2024-01-10T20:06:01.859Z"
   },
   {
    "duration": 17,
    "start_time": "2024-01-10T20:06:01.906Z"
   },
   {
    "duration": 83,
    "start_time": "2024-01-10T20:06:01.924Z"
   },
   {
    "duration": 338,
    "start_time": "2024-01-10T20:06:02.008Z"
   },
   {
    "duration": 1000,
    "start_time": "2024-01-10T20:06:02.348Z"
   },
   {
    "duration": 4499,
    "start_time": "2024-01-10T20:06:03.400Z"
   },
   {
    "duration": 2328,
    "start_time": "2024-01-10T20:06:07.902Z"
   },
   {
    "duration": 1078,
    "start_time": "2024-01-10T20:06:10.231Z"
   },
   {
    "duration": 1207,
    "start_time": "2024-01-10T20:06:11.310Z"
   },
   {
    "duration": 1685,
    "start_time": "2024-01-10T20:06:12.519Z"
   },
   {
    "duration": 1424,
    "start_time": "2024-01-10T20:06:14.206Z"
   },
   {
    "duration": 1406,
    "start_time": "2024-01-10T20:06:15.631Z"
   },
   {
    "duration": 1262,
    "start_time": "2024-01-10T20:06:17.038Z"
   },
   {
    "duration": 1785,
    "start_time": "2024-01-10T20:06:18.302Z"
   },
   {
    "duration": 1130,
    "start_time": "2024-01-10T20:06:20.088Z"
   },
   {
    "duration": 1013,
    "start_time": "2024-06-20T16:23:04.046Z"
   },
   {
    "duration": 95,
    "start_time": "2024-06-20T16:23:07.428Z"
   },
   {
    "duration": 83,
    "start_time": "2024-06-20T16:24:24.374Z"
   }
  ],
  "colab": {
   "name": "PySparkSprint.ipynb",
   "provenance": []
  },
  "kernelspec": {
   "display_name": "Python 3 (ipykernel)",
   "language": "python",
   "name": "python3"
  },
  "language_info": {
   "codemirror_mode": {
    "name": "ipython",
    "version": 3
   },
   "file_extension": ".py",
   "mimetype": "text/x-python",
   "name": "python",
   "nbconvert_exporter": "python",
   "pygments_lexer": "ipython3",
   "version": "3.9.5"
  },
  "toc": {
   "base_numbering": 1,
   "nav_menu": {},
   "number_sections": true,
   "sideBar": true,
   "skip_h1_title": true,
   "title_cell": "Table of Contents",
   "title_sidebar": "Contents",
   "toc_cell": false,
   "toc_position": {},
   "toc_section_display": true,
   "toc_window_display": false
  }
 },
 "nbformat": 4,
 "nbformat_minor": 5
}
