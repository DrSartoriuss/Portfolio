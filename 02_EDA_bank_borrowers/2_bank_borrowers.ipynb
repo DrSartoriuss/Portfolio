{
 "cells": [
  {
   "cell_type": "markdown",
   "id": "9bb6bac4",
   "metadata": {
    "deletable": true,
    "editable": true,
    "id": "c81daeeb",
    "slideshow": {
     "slide_type": ""
    },
    "tags": []
   },
   "source": [
    "# Исследование надежности заемщиков"
   ]
  },
  {
   "cell_type": "markdown",
   "id": "4041a14e-33f1-4bc0-99db-353d422b005c",
   "metadata": {
    "editable": true,
    "slideshow": {
     "slide_type": ""
    },
    "tags": []
   },
   "source": [
    "## Введение     \n",
    "\n",
    "**Описание проекта:** \n",
    "\n",
    "Заказчик — кредитный отдел банка. Нужно разобраться, влияет ли семейное положение и количество детей клиента на факт погашения кредита в срок. Входные данные от банка — статистика о платёжеспособности клиентов.\n",
    "\n",
    "Результаты исследования будут учтены при построении модели кредитного скоринга — специальной системы, которая оценивает способность потенциального заёмщика вернуть кредит банку.\n",
    "\n",
    "**Цель проекта:**  выяснить, влияет ли семейное положение и количество детей клиента   на факт погашения кредита в срок. \n",
    "\n",
    "\n",
    "**Данные:**  статистика о платёжеспособности клиентов.\n",
    "\n",
    "\n",
    "**Описание данных:**\n",
    "\n",
    "- *ildren* — количество детей в семье\n",
    "- *days_employed* — общий трудовой стаж в днях\n",
    "- *dob_years* — возраст клиента в годах\n",
    "- *education* — уровень образования клиента\n",
    "- *education_id* — идентификатор уровня образования\n",
    "- *family_status* — семейное положение\n",
    "- *family_status_id* — идентификатор семейного положения\n",
    "- *gender* — пол клиента\n",
    "- *income_type* — тип занятости\n",
    "- *debt* — имел ли задолженность по возврату кредитов\n",
    "- *total_income* — ежемесячный доход\n",
    "- *purpose* — цель получения кредита\n",
    "\n",
    "**Стадии выполнения проекта:**\n",
    "\n",
    "   - Предобработка данных.  \n",
    "   - Исследование данных.\n",
    "   - Общий вывод."
   ]
  },
  {
   "cell_type": "markdown",
   "id": "9dffa418",
   "metadata": {
    "deletable": true,
    "editable": true,
    "id": "744d7639",
    "slideshow": {
     "slide_type": ""
    },
    "tags": []
   },
   "source": [
    "## Открытие таблицы и изучение общей информации о данных"
   ]
  },
  {
   "cell_type": "markdown",
   "id": "15eb9a14",
   "metadata": {
    "deletable": true,
    "editable": true,
    "id": "e7a14c31",
    "slideshow": {
     "slide_type": ""
    },
    "tags": []
   },
   "source": [
    "**Задание 1. Импортируем библиотеку pandas. Считаем данные из csv-файла в датафрейм и сохраняем в переменную `data`. Путь к файлу:**\n",
    "\n",
    "`/datasets/data.csv`"
   ]
  },
  {
   "cell_type": "code",
   "execution_count": 1,
   "id": "6153f794",
   "metadata": {
    "deletable": true,
    "editable": true,
    "id": "7bcf75c9",
    "slideshow": {
     "slide_type": ""
    },
    "tags": []
   },
   "outputs": [],
   "source": [
    "import pandas as pd # импортируем библиотеку pandas\n",
    "\n",
    "try:\n",
    "    data = pd.read_csv('/datasets/data.csv')# читаем csv-файл и проверяем на ошибку вывода\n",
    "except:\n",
    "    data = pd.read_csv('https://code.s3.yandex.net/datasets/data.csv')"
   ]
  },
  {
   "cell_type": "markdown",
   "id": "445198f5",
   "metadata": {
    "deletable": true,
    "editable": true,
    "id": "b8038fe3",
    "slideshow": {
     "slide_type": ""
    },
    "tags": []
   },
   "source": [
    "**Задание 2. Выводим первые 20 строчек датафрейма `data` на экран.**"
   ]
  },
  {
   "cell_type": "code",
   "execution_count": 2,
   "id": "600c8fd7",
   "metadata": {
    "deletable": true,
    "editable": true,
    "id": "2a7cab99",
    "outputId": "1a8f3ef2-d323-4ec2-ddf7-89670b5944c4",
    "slideshow": {
     "slide_type": ""
    },
    "tags": []
   },
   "outputs": [
    {
     "data": {
      "text/html": [
       "<div>\n",
       "<style scoped>\n",
       "    .dataframe tbody tr th:only-of-type {\n",
       "        vertical-align: middle;\n",
       "    }\n",
       "\n",
       "    .dataframe tbody tr th {\n",
       "        vertical-align: top;\n",
       "    }\n",
       "\n",
       "    .dataframe thead th {\n",
       "        text-align: right;\n",
       "    }\n",
       "</style>\n",
       "<table border=\"1\" class=\"dataframe\">\n",
       "  <thead>\n",
       "    <tr style=\"text-align: right;\">\n",
       "      <th></th>\n",
       "      <th>children</th>\n",
       "      <th>days_employed</th>\n",
       "      <th>dob_years</th>\n",
       "      <th>education</th>\n",
       "      <th>education_id</th>\n",
       "      <th>family_status</th>\n",
       "      <th>family_status_id</th>\n",
       "      <th>gender</th>\n",
       "      <th>income_type</th>\n",
       "      <th>debt</th>\n",
       "      <th>total_income</th>\n",
       "      <th>purpose</th>\n",
       "    </tr>\n",
       "  </thead>\n",
       "  <tbody>\n",
       "    <tr>\n",
       "      <th>0</th>\n",
       "      <td>1</td>\n",
       "      <td>-8437.673028</td>\n",
       "      <td>42</td>\n",
       "      <td>высшее</td>\n",
       "      <td>0</td>\n",
       "      <td>женат / замужем</td>\n",
       "      <td>0</td>\n",
       "      <td>F</td>\n",
       "      <td>сотрудник</td>\n",
       "      <td>0</td>\n",
       "      <td>253875.639453</td>\n",
       "      <td>покупка жилья</td>\n",
       "    </tr>\n",
       "    <tr>\n",
       "      <th>1</th>\n",
       "      <td>1</td>\n",
       "      <td>-4024.803754</td>\n",
       "      <td>36</td>\n",
       "      <td>среднее</td>\n",
       "      <td>1</td>\n",
       "      <td>женат / замужем</td>\n",
       "      <td>0</td>\n",
       "      <td>F</td>\n",
       "      <td>сотрудник</td>\n",
       "      <td>0</td>\n",
       "      <td>112080.014102</td>\n",
       "      <td>приобретение автомобиля</td>\n",
       "    </tr>\n",
       "    <tr>\n",
       "      <th>2</th>\n",
       "      <td>0</td>\n",
       "      <td>-5623.422610</td>\n",
       "      <td>33</td>\n",
       "      <td>Среднее</td>\n",
       "      <td>1</td>\n",
       "      <td>женат / замужем</td>\n",
       "      <td>0</td>\n",
       "      <td>M</td>\n",
       "      <td>сотрудник</td>\n",
       "      <td>0</td>\n",
       "      <td>145885.952297</td>\n",
       "      <td>покупка жилья</td>\n",
       "    </tr>\n",
       "    <tr>\n",
       "      <th>3</th>\n",
       "      <td>3</td>\n",
       "      <td>-4124.747207</td>\n",
       "      <td>32</td>\n",
       "      <td>среднее</td>\n",
       "      <td>1</td>\n",
       "      <td>женат / замужем</td>\n",
       "      <td>0</td>\n",
       "      <td>M</td>\n",
       "      <td>сотрудник</td>\n",
       "      <td>0</td>\n",
       "      <td>267628.550329</td>\n",
       "      <td>дополнительное образование</td>\n",
       "    </tr>\n",
       "    <tr>\n",
       "      <th>4</th>\n",
       "      <td>0</td>\n",
       "      <td>340266.072047</td>\n",
       "      <td>53</td>\n",
       "      <td>среднее</td>\n",
       "      <td>1</td>\n",
       "      <td>гражданский брак</td>\n",
       "      <td>1</td>\n",
       "      <td>F</td>\n",
       "      <td>пенсионер</td>\n",
       "      <td>0</td>\n",
       "      <td>158616.077870</td>\n",
       "      <td>сыграть свадьбу</td>\n",
       "    </tr>\n",
       "    <tr>\n",
       "      <th>5</th>\n",
       "      <td>0</td>\n",
       "      <td>-926.185831</td>\n",
       "      <td>27</td>\n",
       "      <td>высшее</td>\n",
       "      <td>0</td>\n",
       "      <td>гражданский брак</td>\n",
       "      <td>1</td>\n",
       "      <td>M</td>\n",
       "      <td>компаньон</td>\n",
       "      <td>0</td>\n",
       "      <td>255763.565419</td>\n",
       "      <td>покупка жилья</td>\n",
       "    </tr>\n",
       "    <tr>\n",
       "      <th>6</th>\n",
       "      <td>0</td>\n",
       "      <td>-2879.202052</td>\n",
       "      <td>43</td>\n",
       "      <td>высшее</td>\n",
       "      <td>0</td>\n",
       "      <td>женат / замужем</td>\n",
       "      <td>0</td>\n",
       "      <td>F</td>\n",
       "      <td>компаньон</td>\n",
       "      <td>0</td>\n",
       "      <td>240525.971920</td>\n",
       "      <td>операции с жильем</td>\n",
       "    </tr>\n",
       "    <tr>\n",
       "      <th>7</th>\n",
       "      <td>0</td>\n",
       "      <td>-152.779569</td>\n",
       "      <td>50</td>\n",
       "      <td>СРЕДНЕЕ</td>\n",
       "      <td>1</td>\n",
       "      <td>женат / замужем</td>\n",
       "      <td>0</td>\n",
       "      <td>M</td>\n",
       "      <td>сотрудник</td>\n",
       "      <td>0</td>\n",
       "      <td>135823.934197</td>\n",
       "      <td>образование</td>\n",
       "    </tr>\n",
       "    <tr>\n",
       "      <th>8</th>\n",
       "      <td>2</td>\n",
       "      <td>-6929.865299</td>\n",
       "      <td>35</td>\n",
       "      <td>ВЫСШЕЕ</td>\n",
       "      <td>0</td>\n",
       "      <td>гражданский брак</td>\n",
       "      <td>1</td>\n",
       "      <td>F</td>\n",
       "      <td>сотрудник</td>\n",
       "      <td>0</td>\n",
       "      <td>95856.832424</td>\n",
       "      <td>на проведение свадьбы</td>\n",
       "    </tr>\n",
       "    <tr>\n",
       "      <th>9</th>\n",
       "      <td>0</td>\n",
       "      <td>-2188.756445</td>\n",
       "      <td>41</td>\n",
       "      <td>среднее</td>\n",
       "      <td>1</td>\n",
       "      <td>женат / замужем</td>\n",
       "      <td>0</td>\n",
       "      <td>M</td>\n",
       "      <td>сотрудник</td>\n",
       "      <td>0</td>\n",
       "      <td>144425.938277</td>\n",
       "      <td>покупка жилья для семьи</td>\n",
       "    </tr>\n",
       "    <tr>\n",
       "      <th>10</th>\n",
       "      <td>2</td>\n",
       "      <td>-4171.483647</td>\n",
       "      <td>36</td>\n",
       "      <td>высшее</td>\n",
       "      <td>0</td>\n",
       "      <td>женат / замужем</td>\n",
       "      <td>0</td>\n",
       "      <td>M</td>\n",
       "      <td>компаньон</td>\n",
       "      <td>0</td>\n",
       "      <td>113943.491460</td>\n",
       "      <td>покупка недвижимости</td>\n",
       "    </tr>\n",
       "    <tr>\n",
       "      <th>11</th>\n",
       "      <td>0</td>\n",
       "      <td>-792.701887</td>\n",
       "      <td>40</td>\n",
       "      <td>среднее</td>\n",
       "      <td>1</td>\n",
       "      <td>женат / замужем</td>\n",
       "      <td>0</td>\n",
       "      <td>F</td>\n",
       "      <td>сотрудник</td>\n",
       "      <td>0</td>\n",
       "      <td>77069.234271</td>\n",
       "      <td>покупка коммерческой недвижимости</td>\n",
       "    </tr>\n",
       "    <tr>\n",
       "      <th>12</th>\n",
       "      <td>0</td>\n",
       "      <td>NaN</td>\n",
       "      <td>65</td>\n",
       "      <td>среднее</td>\n",
       "      <td>1</td>\n",
       "      <td>гражданский брак</td>\n",
       "      <td>1</td>\n",
       "      <td>M</td>\n",
       "      <td>пенсионер</td>\n",
       "      <td>0</td>\n",
       "      <td>NaN</td>\n",
       "      <td>сыграть свадьбу</td>\n",
       "    </tr>\n",
       "    <tr>\n",
       "      <th>13</th>\n",
       "      <td>0</td>\n",
       "      <td>-1846.641941</td>\n",
       "      <td>54</td>\n",
       "      <td>неоконченное высшее</td>\n",
       "      <td>2</td>\n",
       "      <td>женат / замужем</td>\n",
       "      <td>0</td>\n",
       "      <td>F</td>\n",
       "      <td>сотрудник</td>\n",
       "      <td>0</td>\n",
       "      <td>130458.228857</td>\n",
       "      <td>приобретение автомобиля</td>\n",
       "    </tr>\n",
       "    <tr>\n",
       "      <th>14</th>\n",
       "      <td>0</td>\n",
       "      <td>-1844.956182</td>\n",
       "      <td>56</td>\n",
       "      <td>высшее</td>\n",
       "      <td>0</td>\n",
       "      <td>гражданский брак</td>\n",
       "      <td>1</td>\n",
       "      <td>F</td>\n",
       "      <td>компаньон</td>\n",
       "      <td>1</td>\n",
       "      <td>165127.911772</td>\n",
       "      <td>покупка жилой недвижимости</td>\n",
       "    </tr>\n",
       "    <tr>\n",
       "      <th>15</th>\n",
       "      <td>1</td>\n",
       "      <td>-972.364419</td>\n",
       "      <td>26</td>\n",
       "      <td>среднее</td>\n",
       "      <td>1</td>\n",
       "      <td>женат / замужем</td>\n",
       "      <td>0</td>\n",
       "      <td>F</td>\n",
       "      <td>сотрудник</td>\n",
       "      <td>0</td>\n",
       "      <td>116820.904450</td>\n",
       "      <td>строительство собственной недвижимости</td>\n",
       "    </tr>\n",
       "    <tr>\n",
       "      <th>16</th>\n",
       "      <td>0</td>\n",
       "      <td>-1719.934226</td>\n",
       "      <td>35</td>\n",
       "      <td>среднее</td>\n",
       "      <td>1</td>\n",
       "      <td>женат / замужем</td>\n",
       "      <td>0</td>\n",
       "      <td>F</td>\n",
       "      <td>сотрудник</td>\n",
       "      <td>0</td>\n",
       "      <td>289202.704229</td>\n",
       "      <td>недвижимость</td>\n",
       "    </tr>\n",
       "    <tr>\n",
       "      <th>17</th>\n",
       "      <td>0</td>\n",
       "      <td>-2369.999720</td>\n",
       "      <td>33</td>\n",
       "      <td>высшее</td>\n",
       "      <td>0</td>\n",
       "      <td>гражданский брак</td>\n",
       "      <td>1</td>\n",
       "      <td>M</td>\n",
       "      <td>сотрудник</td>\n",
       "      <td>0</td>\n",
       "      <td>90410.586745</td>\n",
       "      <td>строительство недвижимости</td>\n",
       "    </tr>\n",
       "    <tr>\n",
       "      <th>18</th>\n",
       "      <td>0</td>\n",
       "      <td>400281.136913</td>\n",
       "      <td>53</td>\n",
       "      <td>среднее</td>\n",
       "      <td>1</td>\n",
       "      <td>вдовец / вдова</td>\n",
       "      <td>2</td>\n",
       "      <td>F</td>\n",
       "      <td>пенсионер</td>\n",
       "      <td>0</td>\n",
       "      <td>56823.777243</td>\n",
       "      <td>на покупку подержанного автомобиля</td>\n",
       "    </tr>\n",
       "    <tr>\n",
       "      <th>19</th>\n",
       "      <td>0</td>\n",
       "      <td>-10038.818549</td>\n",
       "      <td>48</td>\n",
       "      <td>СРЕДНЕЕ</td>\n",
       "      <td>1</td>\n",
       "      <td>в разводе</td>\n",
       "      <td>3</td>\n",
       "      <td>F</td>\n",
       "      <td>сотрудник</td>\n",
       "      <td>0</td>\n",
       "      <td>242831.107982</td>\n",
       "      <td>на покупку своего автомобиля</td>\n",
       "    </tr>\n",
       "  </tbody>\n",
       "</table>\n",
       "</div>"
      ],
      "text/plain": [
       "    children  days_employed  dob_years            education  education_id  \\\n",
       "0          1   -8437.673028         42               высшее             0   \n",
       "1          1   -4024.803754         36              среднее             1   \n",
       "2          0   -5623.422610         33              Среднее             1   \n",
       "3          3   -4124.747207         32              среднее             1   \n",
       "4          0  340266.072047         53              среднее             1   \n",
       "5          0    -926.185831         27               высшее             0   \n",
       "6          0   -2879.202052         43               высшее             0   \n",
       "7          0    -152.779569         50              СРЕДНЕЕ             1   \n",
       "8          2   -6929.865299         35               ВЫСШЕЕ             0   \n",
       "9          0   -2188.756445         41              среднее             1   \n",
       "10         2   -4171.483647         36               высшее             0   \n",
       "11         0    -792.701887         40              среднее             1   \n",
       "12         0            NaN         65              среднее             1   \n",
       "13         0   -1846.641941         54  неоконченное высшее             2   \n",
       "14         0   -1844.956182         56               высшее             0   \n",
       "15         1    -972.364419         26              среднее             1   \n",
       "16         0   -1719.934226         35              среднее             1   \n",
       "17         0   -2369.999720         33               высшее             0   \n",
       "18         0  400281.136913         53              среднее             1   \n",
       "19         0  -10038.818549         48              СРЕДНЕЕ             1   \n",
       "\n",
       "       family_status  family_status_id gender income_type  debt  \\\n",
       "0    женат / замужем                 0      F   сотрудник     0   \n",
       "1    женат / замужем                 0      F   сотрудник     0   \n",
       "2    женат / замужем                 0      M   сотрудник     0   \n",
       "3    женат / замужем                 0      M   сотрудник     0   \n",
       "4   гражданский брак                 1      F   пенсионер     0   \n",
       "5   гражданский брак                 1      M   компаньон     0   \n",
       "6    женат / замужем                 0      F   компаньон     0   \n",
       "7    женат / замужем                 0      M   сотрудник     0   \n",
       "8   гражданский брак                 1      F   сотрудник     0   \n",
       "9    женат / замужем                 0      M   сотрудник     0   \n",
       "10   женат / замужем                 0      M   компаньон     0   \n",
       "11   женат / замужем                 0      F   сотрудник     0   \n",
       "12  гражданский брак                 1      M   пенсионер     0   \n",
       "13   женат / замужем                 0      F   сотрудник     0   \n",
       "14  гражданский брак                 1      F   компаньон     1   \n",
       "15   женат / замужем                 0      F   сотрудник     0   \n",
       "16   женат / замужем                 0      F   сотрудник     0   \n",
       "17  гражданский брак                 1      M   сотрудник     0   \n",
       "18    вдовец / вдова                 2      F   пенсионер     0   \n",
       "19         в разводе                 3      F   сотрудник     0   \n",
       "\n",
       "     total_income                                 purpose  \n",
       "0   253875.639453                           покупка жилья  \n",
       "1   112080.014102                 приобретение автомобиля  \n",
       "2   145885.952297                           покупка жилья  \n",
       "3   267628.550329              дополнительное образование  \n",
       "4   158616.077870                         сыграть свадьбу  \n",
       "5   255763.565419                           покупка жилья  \n",
       "6   240525.971920                       операции с жильем  \n",
       "7   135823.934197                             образование  \n",
       "8    95856.832424                   на проведение свадьбы  \n",
       "9   144425.938277                 покупка жилья для семьи  \n",
       "10  113943.491460                    покупка недвижимости  \n",
       "11   77069.234271       покупка коммерческой недвижимости  \n",
       "12            NaN                         сыграть свадьбу  \n",
       "13  130458.228857                 приобретение автомобиля  \n",
       "14  165127.911772              покупка жилой недвижимости  \n",
       "15  116820.904450  строительство собственной недвижимости  \n",
       "16  289202.704229                            недвижимость  \n",
       "17   90410.586745              строительство недвижимости  \n",
       "18   56823.777243      на покупку подержанного автомобиля  \n",
       "19  242831.107982            на покупку своего автомобиля  "
      ]
     },
     "execution_count": 2,
     "metadata": {},
     "output_type": "execute_result"
    }
   ],
   "source": [
    "data.head(20)# выводим 20 первых строк data"
   ]
  },
  {
   "cell_type": "markdown",
   "id": "e10a96b4",
   "metadata": {
    "deletable": true,
    "editable": true,
    "id": "1c12e233",
    "slideshow": {
     "slide_type": ""
    },
    "tags": []
   },
   "source": [
    "**Задание 3. Выводим основную информацию о датафрейме с помощью метода `info()`.**"
   ]
  },
  {
   "cell_type": "code",
   "execution_count": 3,
   "id": "0fe5e04e",
   "metadata": {
    "deletable": true,
    "editable": true,
    "id": "2b757bca",
    "outputId": "15376089-8dad-46c9-b520-c05248d43158",
    "slideshow": {
     "slide_type": ""
    },
    "tags": []
   },
   "outputs": [
    {
     "name": "stdout",
     "output_type": "stream",
     "text": [
      "<class 'pandas.core.frame.DataFrame'>\n",
      "RangeIndex: 21525 entries, 0 to 21524\n",
      "Data columns (total 12 columns):\n",
      " #   Column            Non-Null Count  Dtype  \n",
      "---  ------            --------------  -----  \n",
      " 0   children          21525 non-null  int64  \n",
      " 1   days_employed     19351 non-null  float64\n",
      " 2   dob_years         21525 non-null  int64  \n",
      " 3   education         21525 non-null  object \n",
      " 4   education_id      21525 non-null  int64  \n",
      " 5   family_status     21525 non-null  object \n",
      " 6   family_status_id  21525 non-null  int64  \n",
      " 7   gender            21525 non-null  object \n",
      " 8   income_type       21525 non-null  object \n",
      " 9   debt              21525 non-null  int64  \n",
      " 10  total_income      19351 non-null  float64\n",
      " 11  purpose           21525 non-null  object \n",
      "dtypes: float64(2), int64(5), object(5)\n",
      "memory usage: 2.0+ MB\n"
     ]
    }
   ],
   "source": [
    "data.info()# выводим основную инфо о data"
   ]
  },
  {
   "cell_type": "markdown",
   "id": "c7b60b26-d454-475a-b5b8-abc86388c31a",
   "metadata": {
    "deletable": true,
    "editable": true,
    "slideshow": {
     "slide_type": ""
    },
    "tags": []
   },
   "source": [
    "### Вывод по первому шагу   \n",
    "- **Загрузили** таблицу и ознакомились с данными."
   ]
  },
  {
   "cell_type": "markdown",
   "id": "57a4e1e9",
   "metadata": {
    "deletable": true,
    "editable": true,
    "id": "333ec665",
    "slideshow": {
     "slide_type": ""
    },
    "tags": []
   },
   "source": [
    "## Предобработка данных"
   ]
  },
  {
   "cell_type": "markdown",
   "id": "14d23098",
   "metadata": {
    "deletable": true,
    "editable": true,
    "id": "02d92d53",
    "slideshow": {
     "slide_type": ""
    },
    "tags": []
   },
   "source": [
    "### Удаление пропусков"
   ]
  },
  {
   "cell_type": "markdown",
   "id": "357b718d",
   "metadata": {
    "deletable": true,
    "editable": true,
    "id": "cd84967c",
    "slideshow": {
     "slide_type": ""
    },
    "tags": []
   },
   "source": [
    "**Задание 4. Выводим количество пропущенных значений для каждого столбца, используя комбинацию двух методов.**"
   ]
  },
  {
   "cell_type": "code",
   "execution_count": 4,
   "id": "b18ec3ad",
   "metadata": {
    "deletable": false,
    "editable": true,
    "id": "7f9b2309",
    "outputId": "81f4d817-781c-465c-ed15-91ce4446810d",
    "slideshow": {
     "slide_type": ""
    },
    "tags": []
   },
   "outputs": [
    {
     "data": {
      "text/plain": [
       "children               0\n",
       "days_employed       2174\n",
       "dob_years              0\n",
       "education              0\n",
       "education_id           0\n",
       "family_status          0\n",
       "family_status_id       0\n",
       "gender                 0\n",
       "income_type            0\n",
       "debt                   0\n",
       "total_income        2174\n",
       "purpose                0\n",
       "dtype: int64"
      ]
     },
     "execution_count": 4,
     "metadata": {},
     "output_type": "execute_result"
    }
   ],
   "source": [
    "data.isna().sum()# выводим количество пропусков для каждого столбца"
   ]
  },
  {
   "cell_type": "markdown",
   "id": "3e3d7700",
   "metadata": {
    "deletable": true,
    "editable": true,
    "id": "db86e27b",
    "slideshow": {
     "slide_type": ""
    },
    "tags": []
   },
   "source": [
    "**Задание 5. В двух столбцах есть пропущенные значения. Один из них — `days_employed`. Пропуски в этом столбце мы обработаем на следующем этапе. Другой столбец с пропущенными значениями — `total_income` — хранит данные о доходах. На сумму дохода сильнее всего влияет тип занятости, поэтому заполнить пропуски в этом столбце нужно медианным значением по каждому типу из столбца `income_type`. Например, у человека с типом занятости `сотрудник` пропуск в столбце `total_income` будет заполнен медианным доходом среди всех записей с тем же типом.**"
   ]
  },
  {
   "cell_type": "code",
   "execution_count": 5,
   "id": "224a9d94",
   "metadata": {
    "deletable": false,
    "id": "42006a93"
   },
   "outputs": [],
   "source": [
    "# заполняем пропуски в столбце income_type соответствующими \n",
    "# медианными значениями по столбцу total_income\n",
    "for t in data['income_type'].unique():\n",
    "    data.loc[(data['income_type'] == t) & (data['total_income'].isna()), 'total_income'] = \\\n",
    "    data.loc[(data['income_type'] == t), 'total_income'].median()"
   ]
  },
  {
   "cell_type": "markdown",
   "id": "d9acbfd1",
   "metadata": {
    "deletable": true,
    "editable": true,
    "id": "89da5ece",
    "slideshow": {
     "slide_type": ""
    },
    "tags": []
   },
   "source": [
    "### Обработка аномальных значений"
   ]
  },
  {
   "cell_type": "markdown",
   "id": "b1ba26d3",
   "metadata": {
    "deletable": true,
    "editable": true,
    "id": "57964554",
    "slideshow": {
     "slide_type": ""
    },
    "tags": []
   },
   "source": [
    "**Задание 6. В данных могут встречаться артефакты (аномалии) — значения, которые не отражают действительность и появились по какой-то ошибке. Таким артефактом будет отрицательное количество дней трудового стажа в столбце `days_employed`. Обработаем значения в этом столбце: заменим все отрицательные значения положительными с помощью метода `abs()`.**"
   ]
  },
  {
   "cell_type": "code",
   "execution_count": 6,
   "id": "8d2d9aa8",
   "metadata": {
    "deletable": false,
    "id": "f6f055bf"
   },
   "outputs": [],
   "source": [
    "# меняем отрицательные значения в столбце days_employed на модули\n",
    "data['days_employed'] = data['days_employed'].abs() "
   ]
  },
  {
   "cell_type": "markdown",
   "id": "e9daf9f7",
   "metadata": {
    "deletable": false,
    "editable": true,
    "id": "6107dd2f",
    "slideshow": {
     "slide_type": ""
    },
    "tags": []
   },
   "source": [
    "**Задание 7. Для каждого типа занятости выведем медианное значение трудового стажа `days_employed` в днях.**"
   ]
  },
  {
   "cell_type": "code",
   "execution_count": 7,
   "id": "fa149b5e",
   "metadata": {
    "deletable": false,
    "id": "85a5faf6",
    "outputId": "801ef80e-522b-4668-f34e-565af7432bcf"
   },
   "outputs": [
    {
     "data": {
      "text/plain": [
       "income_type\n",
       "безработный        366413.652744\n",
       "в декрете            3296.759962\n",
       "госслужащий          2689.368353\n",
       "компаньон            1547.382223\n",
       "пенсионер          365213.306266\n",
       "предприниматель       520.848083\n",
       "сотрудник            1574.202821\n",
       "студент               578.751554\n",
       "Name: days_employed, dtype: float64"
      ]
     },
     "execution_count": 7,
     "metadata": {},
     "output_type": "execute_result"
    }
   ],
   "source": [
    "# группируем по income_type и выводим для каждого income_type медианное значение days_employed\n",
    "data.groupby('income_type')['days_employed'].agg('median')"
   ]
  },
  {
   "cell_type": "markdown",
   "id": "b4c12c46",
   "metadata": {
    "deletable": false,
    "editable": true,
    "id": "38d1a030",
    "slideshow": {
     "slide_type": ""
    },
    "tags": []
   },
   "source": [
    " - У двух типов (безработные и пенсионеры) получатся аномально большие значения. Исправить такие значения сложно, поэтому оставим их как есть. Тем более этот столбец не понадобится для исследования."
   ]
  },
  {
   "cell_type": "markdown",
   "id": "4c6cfb29",
   "metadata": {
    "deletable": false,
    "editable": true,
    "id": "d8a9f147",
    "slideshow": {
     "slide_type": ""
    },
    "tags": []
   },
   "source": [
    "**Задание 8. Выведем перечень уникальных значений столбца `children`.**"
   ]
  },
  {
   "cell_type": "code",
   "execution_count": 8,
   "id": "fddba4bc",
   "metadata": {
    "deletable": false,
    "id": "ef5056eb",
    "outputId": "6975b15c-7f95-4697-d16d-a0c79b657b03"
   },
   "outputs": [
    {
     "data": {
      "text/plain": [
       "array([ 1,  0,  3,  2, -1,  4, 20,  5])"
      ]
     },
     "execution_count": 8,
     "metadata": {},
     "output_type": "execute_result"
    }
   ],
   "source": [
    "data['children'].unique()# выводим перечень уникальных значений для столбца children"
   ]
  },
  {
   "cell_type": "markdown",
   "id": "389d1998",
   "metadata": {
    "deletable": false,
    "editable": true,
    "id": "40b9ebf2",
    "slideshow": {
     "slide_type": ""
    },
    "tags": []
   },
   "source": [
    "**Задание 9. В столбце `children` есть два аномальных значения. Удалим строки, в которых встречаются такие аномальные значения из датафрейма `data`.**"
   ]
  },
  {
   "cell_type": "code",
   "execution_count": 9,
   "id": "2e90e4bb",
   "metadata": {
    "deletable": false,
    "editable": true,
    "id": "3ff9801d",
    "slideshow": {
     "slide_type": ""
    },
    "tags": []
   },
   "outputs": [],
   "source": [
    "# удаляем аномальные значения из столбца children\n",
    "data = data[(data['children'] != -1) & (data['children'] != 20)]"
   ]
  },
  {
   "cell_type": "markdown",
   "id": "5ddc9a76",
   "metadata": {
    "deletable": false,
    "editable": true,
    "id": "bbc4d0ce",
    "slideshow": {
     "slide_type": ""
    },
    "tags": []
   },
   "source": [
    "**Задание 10. Ещё раз выведем перечень уникальных значений столбца `children`, чтобы убедиться, что артефакты удалены.**"
   ]
  },
  {
   "cell_type": "code",
   "execution_count": 10,
   "id": "fcc89c03",
   "metadata": {
    "deletable": false,
    "id": "ad4fa8b7",
    "outputId": "b2097101-d49d-44d9-901b-32a65c9463d1"
   },
   "outputs": [
    {
     "data": {
      "text/plain": [
       "array([1, 0, 3, 2, 4, 5])"
      ]
     },
     "execution_count": 10,
     "metadata": {},
     "output_type": "execute_result"
    }
   ],
   "source": [
    "data['children'].unique()# проверяем корректность удаления аномалий"
   ]
  },
  {
   "cell_type": "markdown",
   "id": "dc13783f",
   "metadata": {
    "deletable": false,
    "editable": true,
    "id": "75440b63",
    "slideshow": {
     "slide_type": ""
    },
    "tags": []
   },
   "source": [
    "### Удаление пропусков (продолжение)"
   ]
  },
  {
   "cell_type": "markdown",
   "id": "b0a306f4",
   "metadata": {
    "deletable": true,
    "editable": true,
    "id": "f4ea573f",
    "slideshow": {
     "slide_type": ""
    },
    "tags": []
   },
   "source": [
    "**Задание 11. Заполним пропуски в столбце `days_employed` медианными значениями по каждого типа занятости `income_type`.**"
   ]
  },
  {
   "cell_type": "code",
   "execution_count": 11,
   "id": "6ff2faae",
   "metadata": {
    "deletable": false,
    "editable": true,
    "id": "af6b1a7e",
    "slideshow": {
     "slide_type": ""
    },
    "tags": []
   },
   "outputs": [],
   "source": [
    "# заполняем пропуски в столбце days_employed соответствующими\n",
    "# медианными значениями по столбцу income_type\n",
    "for t in data['income_type'].unique():\n",
    "    data.loc[(data['income_type'] == t) & (data['days_employed'].isna()), 'days_employed'] = \\\n",
    "    data.loc[(data['income_type'] == t), 'days_employed'].median()"
   ]
  },
  {
   "cell_type": "markdown",
   "id": "52972a14",
   "metadata": {
    "deletable": false,
    "editable": true,
    "id": "2753f40d",
    "slideshow": {
     "slide_type": ""
    },
    "tags": []
   },
   "source": [
    "**Задание 12. Убедимся, что все пропуски заполнены. Проверим себя и ещё раз выведем количество пропущенных значений для каждого столбца с помощью двух методов.**"
   ]
  },
  {
   "cell_type": "code",
   "execution_count": 12,
   "id": "531caeb8",
   "metadata": {
    "deletable": false,
    "id": "55f78bc2",
    "outputId": "8da1e4e1-358e-4e87-98c9-f261bce0a7b2"
   },
   "outputs": [
    {
     "data": {
      "text/plain": [
       "children            0\n",
       "days_employed       0\n",
       "dob_years           0\n",
       "education           0\n",
       "education_id        0\n",
       "family_status       0\n",
       "family_status_id    0\n",
       "gender              0\n",
       "income_type         0\n",
       "debt                0\n",
       "total_income        0\n",
       "purpose             0\n",
       "dtype: int64"
      ]
     },
     "execution_count": 12,
     "metadata": {},
     "output_type": "execute_result"
    }
   ],
   "source": [
    "data.isna().sum()# проверяем корректность удаления пропусков"
   ]
  },
  {
   "cell_type": "markdown",
   "id": "831e4565",
   "metadata": {
    "deletable": false,
    "editable": true,
    "id": "ddc81e43",
    "slideshow": {
     "slide_type": ""
    },
    "tags": []
   },
   "source": [
    "### Изменение типов данных"
   ]
  },
  {
   "cell_type": "markdown",
   "id": "81e98be5",
   "metadata": {
    "deletable": false,
    "editable": true,
    "id": "42d19d24",
    "slideshow": {
     "slide_type": ""
    },
    "tags": []
   },
   "source": [
    "**Задание 13. Заменим вещественный тип данных в столбце `total_income` на целочисленный с помощью метода `astype()`.**"
   ]
  },
  {
   "cell_type": "code",
   "execution_count": 13,
   "id": "b2132f0c",
   "metadata": {
    "deletable": false,
    "id": "920b65ad"
   },
   "outputs": [],
   "source": [
    "data['total_income'] = data['total_income'].astype(int)# меняем float на int в столбце total_income"
   ]
  },
  {
   "cell_type": "markdown",
   "id": "b607f3df",
   "metadata": {
    "deletable": false,
    "editable": true,
    "id": "80c420ba",
    "slideshow": {
     "slide_type": ""
    },
    "tags": []
   },
   "source": [
    "### Обработка дубликатов"
   ]
  },
  {
   "cell_type": "markdown",
   "id": "57eb1840",
   "metadata": {
    "deletable": false,
    "editable": true,
    "slideshow": {
     "slide_type": ""
    },
    "tags": []
   },
   "source": [
    "**Задание 14. Обработаем неявные дубликаты в столбце `education`. В этом столбце есть одни и те же значения, но записанные по-разному: с использованием заглавных и строчных букв. Приведем их к нижнему регистру. Проверим остальные столбцы.**"
   ]
  },
  {
   "cell_type": "code",
   "execution_count": 14,
   "id": "e86f3102",
   "metadata": {
    "deletable": false
   },
   "outputs": [],
   "source": [
    "data['education'] = data['education'].str.lower()# приводим значения к нижнему регистру в столбце education "
   ]
  },
  {
   "cell_type": "markdown",
   "id": "cbc4a249",
   "metadata": {
    "deletable": false,
    "editable": true,
    "id": "dc587695",
    "slideshow": {
     "slide_type": ""
    },
    "tags": []
   },
   "source": [
    "**Задание 15. Выведем на экран количество строк-дубликатов в данных. Если такие строки присутствуют, удалим их.**"
   ]
  },
  {
   "cell_type": "code",
   "execution_count": 15,
   "id": "b8d1eeb1",
   "metadata": {
    "deletable": false,
    "id": "3ee445e4",
    "outputId": "9684deba-1934-42d1-99e1-cda61740f822"
   },
   "outputs": [
    {
     "data": {
      "text/plain": [
       "71"
      ]
     },
     "execution_count": 15,
     "metadata": {},
     "output_type": "execute_result"
    }
   ],
   "source": [
    "data.duplicated().sum()# считаем дубликаты в data"
   ]
  },
  {
   "cell_type": "code",
   "execution_count": 16,
   "id": "fc9a2e15",
   "metadata": {
    "deletable": false,
    "id": "8575fe05"
   },
   "outputs": [],
   "source": [
    "data = data.drop_duplicates()# удаляем дубликаты в data"
   ]
  },
  {
   "cell_type": "markdown",
   "id": "cd69c79e",
   "metadata": {
    "deletable": false,
    "editable": true,
    "id": "9904cf55",
    "slideshow": {
     "slide_type": ""
    },
    "tags": []
   },
   "source": [
    "### Категоризация данных"
   ]
  },
  {
   "cell_type": "markdown",
   "id": "090f45d8",
   "metadata": {
    "deletable": false,
    "editable": true,
    "id": "72fcc8a2",
    "slideshow": {
     "slide_type": ""
    },
    "tags": []
   },
   "source": [
    "**Задание 16. На основании диапазонов, указанных ниже, создадим в датафрейме `data` столбец `total_income_category` с категориями:**\n",
    "\n",
    "- 0–30000 — `'E'`;\n",
    "- 30001–50000 — `'D'`;\n",
    "- 50001–200000 — `'C'`;\n",
    "- 200001–1000000 — `'B'`;\n",
    "- 1000001 и выше — `'A'`.\n",
    "\n",
    "\n",
    "**Например, кредитополучателю с доходом 25000 нужно назначить категорию `'E'`, а клиенту, получающему 235000, — `'B'`. Используем собственную функцию с именем `categorize_income()` и метод `apply()`.**"
   ]
  },
  {
   "cell_type": "code",
   "execution_count": 17,
   "id": "e36d7232",
   "metadata": {
    "deletable": false,
    "id": "e1771346"
   },
   "outputs": [],
   "source": [
    "# создаем функцию categorize_income(), группирующую данные в столбце\n",
    "# total_income по заданным диапазонам, предупреждая ошибки вывода,\n",
    "def categorize_income(income):\n",
    "    try:\n",
    "        if 0 <= income <= 30000:\n",
    "            return 'E'\n",
    "        elif 30001 <= income <= 50000:\n",
    "            return 'D'\n",
    "        elif 50001 <= income <= 200000:\n",
    "            return 'C'\n",
    "        elif 200001 <= income <= 1000000:\n",
    "            return 'B'\n",
    "        elif income >= 1000001:\n",
    "            return 'A'\n",
    "    except:\n",
    "        pass"
   ]
  },
  {
   "cell_type": "code",
   "execution_count": 18,
   "id": "9cf78262",
   "metadata": {
    "deletable": false,
    "id": "d5f3586d"
   },
   "outputs": [],
   "source": [
    "# и создаем в data столбец total_income_category с результатами работы функции\n",
    "data['total_income_category'] = data['total_income'].apply(categorize_income)"
   ]
  },
  {
   "cell_type": "markdown",
   "id": "5c358361",
   "metadata": {
    "deletable": false,
    "editable": true,
    "id": "dde49b5c",
    "slideshow": {
     "slide_type": ""
    },
    "tags": []
   },
   "source": [
    "**Задание 17. Выводим на экран перечень уникальных целей взятия кредита из столбца `purpose`.**"
   ]
  },
  {
   "cell_type": "code",
   "execution_count": 19,
   "id": "22cc0d9b",
   "metadata": {
    "deletable": false,
    "editable": true,
    "id": "f67ce9b3",
    "outputId": "673c12d9-7d7e-4ae0-9812-c622c89dd244",
    "slideshow": {
     "slide_type": ""
    },
    "tags": []
   },
   "outputs": [
    {
     "data": {
      "text/plain": [
       "array(['покупка жилья', 'приобретение автомобиля',\n",
       "       'дополнительное образование', 'сыграть свадьбу',\n",
       "       'операции с жильем', 'образование', 'на проведение свадьбы',\n",
       "       'покупка жилья для семьи', 'покупка недвижимости',\n",
       "       'покупка коммерческой недвижимости', 'покупка жилой недвижимости',\n",
       "       'строительство собственной недвижимости', 'недвижимость',\n",
       "       'строительство недвижимости', 'на покупку подержанного автомобиля',\n",
       "       'на покупку своего автомобиля',\n",
       "       'операции с коммерческой недвижимостью',\n",
       "       'строительство жилой недвижимости', 'жилье',\n",
       "       'операции со своей недвижимостью', 'автомобили',\n",
       "       'заняться образованием', 'сделка с подержанным автомобилем',\n",
       "       'получение образования', 'автомобиль', 'свадьба',\n",
       "       'получение дополнительного образования', 'покупка своего жилья',\n",
       "       'операции с недвижимостью', 'получение высшего образования',\n",
       "       'свой автомобиль', 'сделка с автомобилем',\n",
       "       'профильное образование', 'высшее образование',\n",
       "       'покупка жилья для сдачи', 'на покупку автомобиля', 'ремонт жилью',\n",
       "       'заняться высшим образованием'], dtype=object)"
      ]
     },
     "execution_count": 19,
     "metadata": {},
     "output_type": "execute_result"
    }
   ],
   "source": [
    "data['purpose'].unique()# выводим уникальные значения столбца purpose"
   ]
  },
  {
   "cell_type": "markdown",
   "id": "4730ef98",
   "metadata": {
    "deletable": true,
    "editable": true,
    "id": "85d0aef0",
    "slideshow": {
     "slide_type": ""
    },
    "tags": []
   },
   "source": [
    "**Задание 18. Создаем функцию, которая на основании данных из столбца `purpose` сформирует новый столбец `purpose_category`, в который войдут следующие категории:**\n",
    "\n",
    "- `'операции с автомобилем'`,\n",
    "- `'операции с недвижимостью'`,\n",
    "- `'проведение свадьбы'`,\n",
    "- `'получение образования'`.\n",
    "\n",
    "**Например, если в столбце `purpose` находится подстрока `'на покупку автомобиля'`, то в столбце `purpose_category` должна появиться строка `'операции с автомобилем'`.**\n",
    "\n",
    "**Используем собственную функцию с именем `categorize_purpose()` и метод `apply()`. Изучим данные в столбце `purpose` и определим, какие подстроки помогут правильно определить категорию.**"
   ]
  },
  {
   "cell_type": "code",
   "execution_count": 20,
   "id": "ee36f2cf",
   "metadata": {
    "deletable": true,
    "editable": true,
    "id": "e149fab4",
    "slideshow": {
     "slide_type": ""
    },
    "tags": []
   },
   "outputs": [],
   "source": [
    "# создаем функцию categorize_purpose(), группирующую данные в столбце\n",
    "# purpose по заданным категориям, предупреждая ошибки вывода,\n",
    "def categorize_purpose(row):\n",
    "    try:\n",
    "        if 'автом' in row:\n",
    "            return 'операции с автомобилем'\n",
    "        elif 'жил' in row or 'недвиж' in row:\n",
    "            return 'операции с недвижимостью'\n",
    "        elif 'свад' in row:\n",
    "            return 'проведение свадьбы'\n",
    "        elif 'образов' in row:\n",
    "            return 'получение образования'\n",
    "    except:\n",
    "        return 'нет категории'"
   ]
  },
  {
   "cell_type": "code",
   "execution_count": 21,
   "id": "67fae688",
   "metadata": {
    "deletable": true,
    "editable": true,
    "id": "bf36e69b",
    "slideshow": {
     "slide_type": ""
    },
    "tags": []
   },
   "outputs": [],
   "source": [
    "# и создаем в data столбец purpose_category с результатами работы функции\n",
    "data['purpose_category'] = data['purpose'].apply(categorize_purpose)"
   ]
  },
  {
   "cell_type": "markdown",
   "id": "571f7f65-0e79-4e39-a571-0590efc79249",
   "metadata": {
    "editable": true,
    "slideshow": {
     "slide_type": ""
    },
    "tags": []
   },
   "source": [
    "### Вывод по второму шагу\n",
    "- **Заменили отрицательные значения на модули** в столбце \"days_employed\"(общий трудовой стаж в днях).\n",
    "\n",
    "- **Заменили пропуски** в столбцах \"total_income\"(ежемесячный доход) и \"days_employed\"(общий трудовой стаж в днях) **медианным значением дохода** по типу занятости(\"income_type\"). \n",
    "\n",
    "- **Заменили аномальные значения('-1' и '20')** в столбце \"children\"(количество детей в семье).\n",
    "\n",
    "- **Заменили целочисленными значениями** данные в столбце \"total_income\"(ежемесячный доход).\n",
    "\n",
    "- **Привели к одному регистру** значения в столбце \"education\"(уровень образования клиента).\n",
    "\n",
    "- **Удалили все дублирующиеся строки** в данных.\n",
    "\n",
    "- **Объединили клиентов в категории** по уровню дохода и по целям кредитования."
   ]
  },
  {
   "cell_type": "markdown",
   "id": "f4788664",
   "metadata": {
    "deletable": true,
    "editable": true,
    "id": "09b242bf",
    "slideshow": {
     "slide_type": ""
    },
    "tags": []
   },
   "source": [
    "## Исследование данных и проверка гипотез"
   ]
  },
  {
   "cell_type": "markdown",
   "id": "0f862d3b",
   "metadata": {
    "deletable": true,
    "editable": true,
    "id": "c5d66278",
    "slideshow": {
     "slide_type": ""
    },
    "tags": []
   },
   "source": [
    "### Есть ли зависимость между количеством детей и возвратом кредита в срок?"
   ]
  },
  {
   "cell_type": "code",
   "execution_count": 22,
   "id": "fb014d1d",
   "metadata": {
    "deletable": false,
    "id": "2cacfc4a"
   },
   "outputs": [
    {
     "data": {
      "text/html": [
       "<div>\n",
       "<style scoped>\n",
       "    .dataframe tbody tr th:only-of-type {\n",
       "        vertical-align: middle;\n",
       "    }\n",
       "\n",
       "    .dataframe tbody tr th {\n",
       "        vertical-align: top;\n",
       "    }\n",
       "\n",
       "    .dataframe thead tr th {\n",
       "        text-align: left;\n",
       "    }\n",
       "\n",
       "    .dataframe thead tr:last-of-type th {\n",
       "        text-align: right;\n",
       "    }\n",
       "</style>\n",
       "<table border=\"1\" class=\"dataframe\">\n",
       "  <thead>\n",
       "    <tr>\n",
       "      <th></th>\n",
       "      <th colspan=\"2\" halign=\"left\">debt</th>\n",
       "      <th>debt_share</th>\n",
       "    </tr>\n",
       "    <tr>\n",
       "      <th></th>\n",
       "      <th>count</th>\n",
       "      <th>sum</th>\n",
       "      <th></th>\n",
       "    </tr>\n",
       "    <tr>\n",
       "      <th>children</th>\n",
       "      <th></th>\n",
       "      <th></th>\n",
       "      <th></th>\n",
       "    </tr>\n",
       "  </thead>\n",
       "  <tbody>\n",
       "    <tr>\n",
       "      <th>4</th>\n",
       "      <td>41</td>\n",
       "      <td>4</td>\n",
       "      <td>0.097561</td>\n",
       "    </tr>\n",
       "    <tr>\n",
       "      <th>2</th>\n",
       "      <td>2052</td>\n",
       "      <td>194</td>\n",
       "      <td>0.094542</td>\n",
       "    </tr>\n",
       "    <tr>\n",
       "      <th>1</th>\n",
       "      <td>4808</td>\n",
       "      <td>444</td>\n",
       "      <td>0.092346</td>\n",
       "    </tr>\n",
       "    <tr>\n",
       "      <th>3</th>\n",
       "      <td>330</td>\n",
       "      <td>27</td>\n",
       "      <td>0.081818</td>\n",
       "    </tr>\n",
       "    <tr>\n",
       "      <th>0</th>\n",
       "      <td>14091</td>\n",
       "      <td>1063</td>\n",
       "      <td>0.075438</td>\n",
       "    </tr>\n",
       "    <tr>\n",
       "      <th>5</th>\n",
       "      <td>9</td>\n",
       "      <td>0</td>\n",
       "      <td>0.000000</td>\n",
       "    </tr>\n",
       "  </tbody>\n",
       "</table>\n",
       "</div>"
      ],
      "text/plain": [
       "           debt       debt_share\n",
       "          count   sum           \n",
       "children                        \n",
       "4            41     4   0.097561\n",
       "2          2052   194   0.094542\n",
       "1          4808   444   0.092346\n",
       "3           330    27   0.081818\n",
       "0         14091  1063   0.075438\n",
       "5             9     0   0.000000"
      ]
     },
     "execution_count": 22,
     "metadata": {},
     "output_type": "execute_result"
    }
   ],
   "source": [
    "# создаем группировку по столбцу children, считая и суммируя количество значений в dedt  \n",
    "children_group = data.groupby('children').agg({'debt':['count', 'sum']}) \n",
    "\n",
    "# создаем в children_group столбец debt_share с расчетом доли невозвращенных в срок кредитов\n",
    "# по категориям заемщиков children \n",
    "children_group['debt_share'] = children_group['debt']['sum']/ children_group['debt']['count']\n",
    "\n",
    "children_group.sort_values(by='debt_share', ascending=False)# сортируем debt_share по убыванию"
   ]
  },
  {
   "cell_type": "markdown",
   "id": "b607c3f6",
   "metadata": {
    "deletable": false,
    "editable": true,
    "id": "3a6b99ec",
    "slideshow": {
     "slide_type": ""
    },
    "tags": []
   },
   "source": [
    "**Вывод:** \n",
    "\n",
    "- По сравнению с бездетными, **в группах** заемщиков, имеющих **от 1 до 4 детей, доля просроченных кредитов выше**.\n",
    "- **Наибольшая доля** невозвращенных в срок кредитов наблюдалась **в группе заемщиков**, имеющих **4 детей (9,76%)**.\n",
    "- **Наименьшая доля** невозвращенных в срок кредитов наблюдалась **в группе заемщиков**, имеющих **3 детей (8,18%)**\n",
    "- Заемщики, имеющие пять детей не имели просрочек по предитам.\n",
    "- **Отсутствует линейная зависимость** между количеством детей у заемщиков и показателем возврата кредита в срок.\n",
    "- **Чаще всего занимали** клиенты, **не имеющие детей**. "
   ]
  },
  {
   "cell_type": "markdown",
   "id": "198babd7",
   "metadata": {
    "deletable": false,
    "editable": true,
    "id": "97be82ca",
    "slideshow": {
     "slide_type": ""
    },
    "tags": []
   },
   "source": [
    "### Есть ли зависимость между семейным положением и возвратом кредита в срок?"
   ]
  },
  {
   "cell_type": "code",
   "execution_count": 23,
   "id": "16456c8a",
   "metadata": {
    "deletable": false,
    "id": "dc3f7ee8"
   },
   "outputs": [
    {
     "data": {
      "text/html": [
       "<div>\n",
       "<style scoped>\n",
       "    .dataframe tbody tr th:only-of-type {\n",
       "        vertical-align: middle;\n",
       "    }\n",
       "\n",
       "    .dataframe tbody tr th {\n",
       "        vertical-align: top;\n",
       "    }\n",
       "\n",
       "    .dataframe thead tr th {\n",
       "        text-align: left;\n",
       "    }\n",
       "\n",
       "    .dataframe thead tr:last-of-type th {\n",
       "        text-align: right;\n",
       "    }\n",
       "</style>\n",
       "<table border=\"1\" class=\"dataframe\">\n",
       "  <thead>\n",
       "    <tr>\n",
       "      <th></th>\n",
       "      <th colspan=\"2\" halign=\"left\">debt</th>\n",
       "      <th>debt_share</th>\n",
       "    </tr>\n",
       "    <tr>\n",
       "      <th></th>\n",
       "      <th>count</th>\n",
       "      <th>sum</th>\n",
       "      <th></th>\n",
       "    </tr>\n",
       "    <tr>\n",
       "      <th>family_status</th>\n",
       "      <th></th>\n",
       "      <th></th>\n",
       "      <th></th>\n",
       "    </tr>\n",
       "  </thead>\n",
       "  <tbody>\n",
       "    <tr>\n",
       "      <th>Не женат / не замужем</th>\n",
       "      <td>2796</td>\n",
       "      <td>273</td>\n",
       "      <td>0.097639</td>\n",
       "    </tr>\n",
       "    <tr>\n",
       "      <th>гражданский брак</th>\n",
       "      <td>4134</td>\n",
       "      <td>385</td>\n",
       "      <td>0.093130</td>\n",
       "    </tr>\n",
       "    <tr>\n",
       "      <th>женат / замужем</th>\n",
       "      <td>12261</td>\n",
       "      <td>927</td>\n",
       "      <td>0.075606</td>\n",
       "    </tr>\n",
       "    <tr>\n",
       "      <th>в разводе</th>\n",
       "      <td>1189</td>\n",
       "      <td>84</td>\n",
       "      <td>0.070648</td>\n",
       "    </tr>\n",
       "    <tr>\n",
       "      <th>вдовец / вдова</th>\n",
       "      <td>951</td>\n",
       "      <td>63</td>\n",
       "      <td>0.066246</td>\n",
       "    </tr>\n",
       "  </tbody>\n",
       "</table>\n",
       "</div>"
      ],
      "text/plain": [
       "                        debt      debt_share\n",
       "                       count  sum           \n",
       "family_status                               \n",
       "Не женат / не замужем   2796  273   0.097639\n",
       "гражданский брак        4134  385   0.093130\n",
       "женат / замужем        12261  927   0.075606\n",
       "в разводе               1189   84   0.070648\n",
       "вдовец / вдова           951   63   0.066246"
      ]
     },
     "execution_count": 23,
     "metadata": {},
     "output_type": "execute_result"
    }
   ],
   "source": [
    "# создаем группировку по столбцу family_status, считая и суммируя количество значений в dedt  \n",
    "family_group = data.groupby('family_status').agg({'debt':['count', 'sum']})\n",
    "\n",
    "# создаем в family_group столбец debt_share с расчетом доли невозвращенных в срок кредитов \n",
    "# по категориям заемщиков family_status\n",
    "family_group['debt_share'] = family_group['debt']['sum']/ family_group['debt']['count']\n",
    "\n",
    "family_group.sort_values(by='debt_share', ascending=False)# сортируем debt_share по убыванию"
   ]
  },
  {
   "cell_type": "markdown",
   "id": "7566a96b",
   "metadata": {
    "deletable": false,
    "editable": true,
    "id": "1cef7837",
    "slideshow": {
     "slide_type": ""
    },
    "tags": []
   },
   "source": [
    "**Вывод:** \n",
    "\n",
    "- **Линейная зависимость** между семейным положением и показателем возврата кредита в срок **отсутствует**.\n",
    "- **В группе** заемщиков **\"Не женат/не замужем\" доля невозвратов** кредита в срок **выше**, чем в других группах - **9,76%**,  при медианном значении 7,56% (группа \"женат/замужем\").\n",
    "- **Самая низкая доля просрочек** по кредитам в группе **\"вдовец/вдова\"(7,06%)**.\n",
    "- **Чаще всего занимали** клиенты в группе **\"женат/замужем\"**."
   ]
  },
  {
   "cell_type": "markdown",
   "id": "fdad21c8",
   "metadata": {
    "deletable": false,
    "editable": true,
    "id": "1e8b2fca",
    "slideshow": {
     "slide_type": ""
    },
    "tags": []
   },
   "source": [
    "### Есть ли зависимость между уровнем дохода и возвратом кредита в срок?"
   ]
  },
  {
   "cell_type": "code",
   "execution_count": 24,
   "id": "8716d92b",
   "metadata": {
    "deletable": false,
    "id": "cd7e3720"
   },
   "outputs": [
    {
     "data": {
      "text/html": [
       "<div>\n",
       "<style scoped>\n",
       "    .dataframe tbody tr th:only-of-type {\n",
       "        vertical-align: middle;\n",
       "    }\n",
       "\n",
       "    .dataframe tbody tr th {\n",
       "        vertical-align: top;\n",
       "    }\n",
       "\n",
       "    .dataframe thead tr th {\n",
       "        text-align: left;\n",
       "    }\n",
       "\n",
       "    .dataframe thead tr:last-of-type th {\n",
       "        text-align: right;\n",
       "    }\n",
       "</style>\n",
       "<table border=\"1\" class=\"dataframe\">\n",
       "  <thead>\n",
       "    <tr>\n",
       "      <th></th>\n",
       "      <th colspan=\"2\" halign=\"left\">debt</th>\n",
       "      <th>debt_share</th>\n",
       "    </tr>\n",
       "    <tr>\n",
       "      <th></th>\n",
       "      <th>count</th>\n",
       "      <th>sum</th>\n",
       "      <th></th>\n",
       "    </tr>\n",
       "    <tr>\n",
       "      <th>total_income_category</th>\n",
       "      <th></th>\n",
       "      <th></th>\n",
       "      <th></th>\n",
       "    </tr>\n",
       "  </thead>\n",
       "  <tbody>\n",
       "    <tr>\n",
       "      <th>E</th>\n",
       "      <td>22</td>\n",
       "      <td>2</td>\n",
       "      <td>0.090909</td>\n",
       "    </tr>\n",
       "    <tr>\n",
       "      <th>C</th>\n",
       "      <td>15921</td>\n",
       "      <td>1353</td>\n",
       "      <td>0.084982</td>\n",
       "    </tr>\n",
       "    <tr>\n",
       "      <th>A</th>\n",
       "      <td>25</td>\n",
       "      <td>2</td>\n",
       "      <td>0.080000</td>\n",
       "    </tr>\n",
       "    <tr>\n",
       "      <th>B</th>\n",
       "      <td>5014</td>\n",
       "      <td>354</td>\n",
       "      <td>0.070602</td>\n",
       "    </tr>\n",
       "    <tr>\n",
       "      <th>D</th>\n",
       "      <td>349</td>\n",
       "      <td>21</td>\n",
       "      <td>0.060172</td>\n",
       "    </tr>\n",
       "  </tbody>\n",
       "</table>\n",
       "</div>"
      ],
      "text/plain": [
       "                        debt       debt_share\n",
       "                       count   sum           \n",
       "total_income_category                        \n",
       "E                         22     2   0.090909\n",
       "C                      15921  1353   0.084982\n",
       "A                         25     2   0.080000\n",
       "B                       5014   354   0.070602\n",
       "D                        349    21   0.060172"
      ]
     },
     "execution_count": 24,
     "metadata": {},
     "output_type": "execute_result"
    }
   ],
   "source": [
    "# создаем группировку по столбцу total_income_category, считая и суммируя количество значений в dedt\n",
    "income_group = data.groupby('total_income_category').agg({'debt':['count', 'sum']})\n",
    "\n",
    "# создаем в income_group столбец debt_share с расчетом доли невозвращенных в срок кредитов\n",
    "# по категориям заемщиков total_income_category\n",
    "income_group['debt_share'] = income_group['debt']['sum']/ income_group['debt']['count']\n",
    "\n",
    "income_group.sort_values(by='debt_share', ascending=False)# сортируем debt_share по убыванию\n",
    "\n",
    "\n",
    "#       0–30000 — 'E';\n",
    "#   30001–50000 — 'D';\n",
    "#  50001–200000 — 'C';\n",
    "#200001–1000000 — 'B';\n",
    "#1000001 и выше — 'A'."
   ]
  },
  {
   "cell_type": "markdown",
   "id": "38f753f6",
   "metadata": {
    "deletable": false,
    "editable": true,
    "id": "e8593def",
    "slideshow": {
     "slide_type": ""
    },
    "tags": []
   },
   "source": [
    "**Вывод:** \n",
    "\n",
    "- **Наибольшая доля просроченных кредитов** наблюдалась в группе заемщиков с доходом от 0 до 30000 (**Категория E**).\n",
    "- **Наименьшая доля** по показателю невозврата в срок кредита - в группе  заемщиков с доходом от 30000 до 50000 (**Категория D**).\n",
    "- **Линейная зависимость** (чем выше/ниже доход, тем выше/ниже частота просрочки) между уровнем просрочки по кредитам и уровнем дохода **отсутствует**. Медианное значение - 8% (Категория А, доход от 1000000 и выше).\n",
    "- **Чаще всего занимают** имеющие доход от 50000 до 200000 (**Категория C**). Доля просрочки - 8,5%.\n",
    "\n"
   ]
  },
  {
   "cell_type": "markdown",
   "id": "33945742",
   "metadata": {
    "deletable": false,
    "editable": true,
    "id": "99ecbd1f",
    "slideshow": {
     "slide_type": ""
    },
    "tags": []
   },
   "source": [
    "### Как разные цели кредита влияют на его возврат в срок?"
   ]
  },
  {
   "cell_type": "code",
   "execution_count": 25,
   "id": "0da3035e",
   "metadata": {
    "deletable": false,
    "editable": true,
    "id": "2b687290",
    "slideshow": {
     "slide_type": ""
    },
    "tags": []
   },
   "outputs": [
    {
     "data": {
      "text/html": [
       "<div>\n",
       "<style scoped>\n",
       "    .dataframe tbody tr th:only-of-type {\n",
       "        vertical-align: middle;\n",
       "    }\n",
       "\n",
       "    .dataframe tbody tr th {\n",
       "        vertical-align: top;\n",
       "    }\n",
       "\n",
       "    .dataframe thead tr th {\n",
       "        text-align: left;\n",
       "    }\n",
       "\n",
       "    .dataframe thead tr:last-of-type th {\n",
       "        text-align: right;\n",
       "    }\n",
       "</style>\n",
       "<table border=\"1\" class=\"dataframe\">\n",
       "  <thead>\n",
       "    <tr>\n",
       "      <th></th>\n",
       "      <th colspan=\"2\" halign=\"left\">debt</th>\n",
       "      <th>debt_share</th>\n",
       "    </tr>\n",
       "    <tr>\n",
       "      <th></th>\n",
       "      <th>count</th>\n",
       "      <th>sum</th>\n",
       "      <th></th>\n",
       "    </tr>\n",
       "    <tr>\n",
       "      <th>purpose_category</th>\n",
       "      <th></th>\n",
       "      <th></th>\n",
       "      <th></th>\n",
       "    </tr>\n",
       "  </thead>\n",
       "  <tbody>\n",
       "    <tr>\n",
       "      <th>операции с автомобилем</th>\n",
       "      <td>4279</td>\n",
       "      <td>400</td>\n",
       "      <td>0.093480</td>\n",
       "    </tr>\n",
       "    <tr>\n",
       "      <th>получение образования</th>\n",
       "      <td>3988</td>\n",
       "      <td>369</td>\n",
       "      <td>0.092528</td>\n",
       "    </tr>\n",
       "    <tr>\n",
       "      <th>проведение свадьбы</th>\n",
       "      <td>2313</td>\n",
       "      <td>183</td>\n",
       "      <td>0.079118</td>\n",
       "    </tr>\n",
       "    <tr>\n",
       "      <th>операции с недвижимостью</th>\n",
       "      <td>10751</td>\n",
       "      <td>780</td>\n",
       "      <td>0.072551</td>\n",
       "    </tr>\n",
       "  </tbody>\n",
       "</table>\n",
       "</div>"
      ],
      "text/plain": [
       "                           debt      debt_share\n",
       "                          count  sum           \n",
       "purpose_category                               \n",
       "операции с автомобилем     4279  400   0.093480\n",
       "получение образования      3988  369   0.092528\n",
       "проведение свадьбы         2313  183   0.079118\n",
       "операции с недвижимостью  10751  780   0.072551"
      ]
     },
     "execution_count": 25,
     "metadata": {},
     "output_type": "execute_result"
    }
   ],
   "source": [
    "# создаем группировку по столбцу purpose_category, считая и суммируя количество значений в dedt\n",
    "purpose_group = data.groupby('purpose_category').agg({'debt':['count', 'sum']})\n",
    "\n",
    "# создаем в purpose_group столбец debt_share с расчетом доли невозвращенных в срок кредитов\n",
    "# по категориям заемщиков purpose_category\n",
    "purpose_group['debt_share'] = purpose_group['debt']['sum']/ purpose_group['debt']['count']\n",
    "\n",
    "purpose_group.sort_values(by='debt_share', ascending=False)# сортируем debt_share по убыванию"
   ]
  },
  {
   "cell_type": "markdown",
   "id": "94963a12",
   "metadata": {
    "deletable": false,
    "editable": true,
    "id": "b4bb2ce6",
    "slideshow": {
     "slide_type": ""
    },
    "tags": []
   },
   "source": [
    "**Вывод:**\n",
    "\n",
    "- **Наибольшая доля просроченных кредитов** наблюдалась в группе заемщиков **\"операции с автомобилями\"** (9,35%).\n",
    "- **Наименьшая доля** невозвращенных в срок кредитов наблюдалась в группе заемщиков **\"операции с недвижимостью\"** (7,91%).\n",
    "- **Чаще всего** клиенты **занимают на операции с недвижимостью**. "
   ]
  },
  {
   "cell_type": "markdown",
   "id": "f776fb3a",
   "metadata": {
    "deletable": false,
    "editable": true,
    "id": "09c3ac4c",
    "slideshow": {
     "slide_type": ""
    },
    "tags": []
   },
   "source": [
    "### Каковы возможные причины появления пропусков в исходных данных?\n",
    "\n",
    "Ошибки оператора при внесении данных, ошибки в коде, случайные неамеренные пропуски, намеренное искажение данных, отсутсвие данных.  "
   ]
  },
  {
   "cell_type": "markdown",
   "id": "a9792da2",
   "metadata": {
    "deletable": true,
    "editable": true,
    "id": "7b0487d6",
    "slideshow": {
     "slide_type": ""
    },
    "tags": []
   },
   "source": [
    "### Почему заполнить пропуски медианным значением — лучшее решение для количественных переменных?\n",
    "\n",
    "Медиана лучше отражает действительность, так как среднее значение в группе не учитывает значения, сильно отличающиеся от средней выборки. "
   ]
  },
  {
   "cell_type": "markdown",
   "id": "03a3e43f-b1d4-413a-afb3-a99ad1f473e8",
   "metadata": {
    "editable": true,
    "slideshow": {
     "slide_type": ""
    },
    "tags": []
   },
   "source": [
    "### Вывод по третьему шагу\n",
    "- **Сгруппировали данные**, разбив клиентов по типам и наличию/отсутствию просроченного кредита **на 4** большие **группы**.\n",
    "\n",
    "- **Провели комплексное исследование** заемщиков на предмет надежности и рисков невозврата кредита в срок.  "
   ]
  },
  {
   "cell_type": "markdown",
   "id": "1f4f0e79",
   "metadata": {
    "deletable": false,
    "editable": true,
    "id": "6db5255a",
    "slideshow": {
     "slide_type": ""
    },
    "tags": []
   },
   "source": [
    "## Общий вывод\n",
    "\n",
    "**В процессе работы над проектом мы:**\n",
    "\n",
    "- Загрузили таблицу и ознакомились с данными.\n",
    "- Провели предобработку данных.\n",
    "- Провели исследование данных и проверили гипотезы.\n",
    "- Сформулировали и оформили промежуточные и общий выводы.\n",
    "\n",
    "\n",
    "**Резюме**\n",
    " \n",
    "- **Семейное положение и количество детей** клиента **влияют на факт погашения кредита в срок**, но это влияние не линейно: у клиентов, имеющих пять детей, просрочки отсутствовали, а у имеющих четверых детей, просрочка наивысшая (9,76%).\n",
    "\n",
    "- В целом, **клиенты с детьми чаще допускали просрочку**. \n",
    "\n",
    "- В то же время, **неженатые/незамужние** имели **наибольший показатель** невозврата кредита в срок **(9,76%)**, среди **вдовцов/вдов** этот показатель **наименьший (7,06%)**.\n",
    "\n",
    "- В целом, **заемщики, состоящие или состоявшие в браке, реже допускали просрочку.** "
   ]
  },
  {
   "cell_type": "code",
   "execution_count": null,
   "id": "39024b25-7138-4187-8a76-750f985967dc",
   "metadata": {},
   "outputs": [],
   "source": []
  }
 ],
 "metadata": {
  "ExecuteTimeLog": [
   {
    "duration": 1062,
    "start_time": "2023-05-31T09:55:32.274Z"
   },
   {
    "duration": 20,
    "start_time": "2023-05-31T09:55:35.718Z"
   },
   {
    "duration": 13,
    "start_time": "2023-05-31T09:55:59.804Z"
   },
   {
    "duration": 9,
    "start_time": "2023-05-31T09:56:02.940Z"
   },
   {
    "duration": 37,
    "start_time": "2023-05-31T09:56:18.456Z"
   },
   {
    "duration": 30,
    "start_time": "2023-05-31T09:56:39.722Z"
   },
   {
    "duration": 458,
    "start_time": "2023-05-31T09:57:28.281Z"
   },
   {
    "duration": 19,
    "start_time": "2023-05-31T09:57:32.027Z"
   },
   {
    "duration": 17,
    "start_time": "2023-05-31T09:57:36.132Z"
   },
   {
    "duration": 14,
    "start_time": "2023-05-31T09:57:39.982Z"
   },
   {
    "duration": 29,
    "start_time": "2023-05-31T09:57:43.900Z"
   },
   {
    "duration": 3,
    "start_time": "2023-05-31T09:57:48.517Z"
   },
   {
    "duration": 7,
    "start_time": "2023-05-31T09:57:52.683Z"
   },
   {
    "duration": 4,
    "start_time": "2023-05-31T09:57:55.691Z"
   },
   {
    "duration": 6,
    "start_time": "2023-05-31T09:57:58.739Z"
   },
   {
    "duration": 4,
    "start_time": "2023-05-31T09:58:01.133Z"
   },
   {
    "duration": 30,
    "start_time": "2023-05-31T09:58:04.184Z"
   },
   {
    "duration": 9,
    "start_time": "2023-05-31T09:58:06.885Z"
   },
   {
    "duration": 3,
    "start_time": "2023-05-31T09:58:10.221Z"
   },
   {
    "duration": 10,
    "start_time": "2023-05-31T09:58:13.385Z"
   },
   {
    "duration": 24,
    "start_time": "2023-05-31T09:58:16.736Z"
   },
   {
    "duration": 18,
    "start_time": "2023-05-31T09:58:18.984Z"
   },
   {
    "duration": 4,
    "start_time": "2023-05-31T09:58:22.186Z"
   },
   {
    "duration": 9,
    "start_time": "2023-05-31T09:58:25.348Z"
   },
   {
    "duration": 6,
    "start_time": "2023-05-31T09:58:27.985Z"
   },
   {
    "duration": 3,
    "start_time": "2023-05-31T09:58:31.642Z"
   },
   {
    "duration": 8,
    "start_time": "2023-05-31T09:58:34.186Z"
   },
   {
    "duration": 14,
    "start_time": "2023-05-31T10:21:11.635Z"
   },
   {
    "duration": 368,
    "start_time": "2023-05-31T10:21:42.418Z"
   },
   {
    "duration": 20,
    "start_time": "2023-05-31T10:21:47.555Z"
   },
   {
    "duration": 4,
    "start_time": "2023-05-31T10:32:27.426Z"
   },
   {
    "duration": 3,
    "start_time": "2023-05-31T10:32:40.290Z"
   },
   {
    "duration": 70,
    "start_time": "2023-05-31T10:36:09.980Z"
   },
   {
    "duration": 5,
    "start_time": "2023-05-31T10:36:32.082Z"
   },
   {
    "duration": 5,
    "start_time": "2023-05-31T10:36:58.116Z"
   },
   {
    "duration": 6,
    "start_time": "2023-05-31T10:37:48.676Z"
   },
   {
    "duration": 9,
    "start_time": "2023-05-31T10:39:25.118Z"
   },
   {
    "duration": 6,
    "start_time": "2023-05-31T10:40:13.809Z"
   },
   {
    "duration": 6,
    "start_time": "2023-05-31T10:40:59.645Z"
   },
   {
    "duration": 4,
    "start_time": "2023-05-31T10:41:12.050Z"
   },
   {
    "duration": 5,
    "start_time": "2023-05-31T10:41:21.614Z"
   },
   {
    "duration": 6,
    "start_time": "2023-05-31T10:41:43.994Z"
   },
   {
    "duration": 7,
    "start_time": "2023-05-31T10:42:01.136Z"
   },
   {
    "duration": 7,
    "start_time": "2023-05-31T10:47:06.770Z"
   },
   {
    "duration": 8,
    "start_time": "2023-05-31T10:48:28.528Z"
   },
   {
    "duration": 68,
    "start_time": "2023-05-31T10:49:06.730Z"
   },
   {
    "duration": 8,
    "start_time": "2023-05-31T10:49:15.382Z"
   },
   {
    "duration": 6,
    "start_time": "2023-05-31T10:50:07.966Z"
   },
   {
    "duration": 12,
    "start_time": "2023-05-31T10:51:08.244Z"
   },
   {
    "duration": 10,
    "start_time": "2023-05-31T10:53:29.381Z"
   },
   {
    "duration": 10,
    "start_time": "2023-05-31T10:53:50.269Z"
   },
   {
    "duration": 85,
    "start_time": "2023-05-31T10:54:20.406Z"
   },
   {
    "duration": 7,
    "start_time": "2023-05-31T10:54:40.494Z"
   },
   {
    "duration": 9,
    "start_time": "2023-05-31T10:54:55.593Z"
   },
   {
    "duration": 6,
    "start_time": "2023-05-31T10:59:12.697Z"
   },
   {
    "duration": 6,
    "start_time": "2023-05-31T10:59:31.800Z"
   },
   {
    "duration": 7,
    "start_time": "2023-05-31T10:59:44.119Z"
   },
   {
    "duration": 5,
    "start_time": "2023-05-31T11:02:20.174Z"
   },
   {
    "duration": 1002,
    "start_time": "2023-05-31T11:09:31.285Z"
   },
   {
    "duration": 7,
    "start_time": "2023-05-31T11:10:05.374Z"
   },
   {
    "duration": 5,
    "start_time": "2023-05-31T11:13:58.349Z"
   },
   {
    "duration": 429,
    "start_time": "2023-05-31T11:14:14.019Z"
   },
   {
    "duration": 20,
    "start_time": "2023-05-31T11:14:17.996Z"
   },
   {
    "duration": 13,
    "start_time": "2023-05-31T11:14:22.431Z"
   },
   {
    "duration": 8,
    "start_time": "2023-05-31T11:14:26.775Z"
   },
   {
    "duration": 29,
    "start_time": "2023-05-31T11:14:30.177Z"
   },
   {
    "duration": 3,
    "start_time": "2023-05-31T11:14:33.019Z"
   },
   {
    "duration": 8,
    "start_time": "2023-05-31T11:14:35.576Z"
   },
   {
    "duration": 3,
    "start_time": "2023-05-31T11:14:38.520Z"
   },
   {
    "duration": 6,
    "start_time": "2023-05-31T11:14:41.350Z"
   },
   {
    "duration": 4,
    "start_time": "2023-05-31T11:14:43.975Z"
   },
   {
    "duration": 37,
    "start_time": "2023-05-31T11:14:46.949Z"
   },
   {
    "duration": 9,
    "start_time": "2023-05-31T11:14:49.850Z"
   },
   {
    "duration": 3,
    "start_time": "2023-05-31T11:14:52.887Z"
   },
   {
    "duration": 10,
    "start_time": "2023-05-31T11:14:55.832Z"
   },
   {
    "duration": 18,
    "start_time": "2023-05-31T11:14:58.815Z"
   },
   {
    "duration": 16,
    "start_time": "2023-05-31T11:15:01.005Z"
   },
   {
    "duration": 3,
    "start_time": "2023-05-31T11:15:03.873Z"
   },
   {
    "duration": 8,
    "start_time": "2023-05-31T11:15:06.856Z"
   },
   {
    "duration": 6,
    "start_time": "2023-05-31T11:15:09.616Z"
   },
   {
    "duration": 4,
    "start_time": "2023-05-31T11:15:13.438Z"
   },
   {
    "duration": 8,
    "start_time": "2023-05-31T11:15:15.793Z"
   },
   {
    "duration": 6,
    "start_time": "2023-05-31T11:15:18.690Z"
   },
   {
    "duration": 6,
    "start_time": "2023-05-31T11:15:21.694Z"
   },
   {
    "duration": 5,
    "start_time": "2023-05-31T11:15:25.474Z"
   },
   {
    "duration": 7,
    "start_time": "2023-05-31T11:15:28.726Z"
   },
   {
    "duration": 208,
    "start_time": "2023-05-31T11:35:24.598Z"
   },
   {
    "duration": 9,
    "start_time": "2023-05-31T11:35:40.615Z"
   },
   {
    "duration": 68,
    "start_time": "2023-05-31T11:36:39.961Z"
   },
   {
    "duration": 16,
    "start_time": "2023-05-31T11:37:09.538Z"
   },
   {
    "duration": 13,
    "start_time": "2023-05-31T11:37:20.848Z"
   },
   {
    "duration": 12,
    "start_time": "2023-05-31T11:37:32.179Z"
   },
   {
    "duration": 18,
    "start_time": "2023-05-31T11:37:36.634Z"
   },
   {
    "duration": 12,
    "start_time": "2023-05-31T11:37:40.562Z"
   },
   {
    "duration": 9,
    "start_time": "2023-05-31T11:38:23.116Z"
   },
   {
    "duration": 13,
    "start_time": "2023-05-31T11:42:12.110Z"
   },
   {
    "duration": 11,
    "start_time": "2023-05-31T11:42:30.471Z"
   },
   {
    "duration": 88,
    "start_time": "2023-05-31T11:42:35.256Z"
   },
   {
    "duration": 110,
    "start_time": "2023-05-31T11:42:55.744Z"
   },
   {
    "duration": 11,
    "start_time": "2023-05-31T11:43:06.530Z"
   },
   {
    "duration": 819,
    "start_time": "2023-05-31T13:46:07.901Z"
   },
   {
    "duration": 25,
    "start_time": "2023-05-31T13:46:11.818Z"
   },
   {
    "duration": 19,
    "start_time": "2023-05-31T13:46:20.921Z"
   },
   {
    "duration": 16,
    "start_time": "2023-05-31T13:46:25.183Z"
   },
   {
    "duration": 37,
    "start_time": "2023-05-31T13:46:28.877Z"
   },
   {
    "duration": 5,
    "start_time": "2023-05-31T13:46:31.921Z"
   },
   {
    "duration": 15,
    "start_time": "2023-05-31T13:46:34.561Z"
   },
   {
    "duration": 5,
    "start_time": "2023-05-31T13:46:37.905Z"
   },
   {
    "duration": 7,
    "start_time": "2023-05-31T13:46:40.586Z"
   },
   {
    "duration": 9,
    "start_time": "2023-05-31T13:46:43.084Z"
   },
   {
    "duration": 37,
    "start_time": "2023-05-31T13:46:50.679Z"
   },
   {
    "duration": 18,
    "start_time": "2023-05-31T13:46:54.280Z"
   },
   {
    "duration": 5,
    "start_time": "2023-05-31T13:46:57.386Z"
   },
   {
    "duration": 14,
    "start_time": "2023-05-31T13:47:00.011Z"
   },
   {
    "duration": 32,
    "start_time": "2023-05-31T13:47:03.093Z"
   },
   {
    "duration": 32,
    "start_time": "2023-05-31T13:47:05.334Z"
   },
   {
    "duration": 4,
    "start_time": "2023-05-31T13:47:09.313Z"
   },
   {
    "duration": 11,
    "start_time": "2023-05-31T13:47:11.781Z"
   },
   {
    "duration": 9,
    "start_time": "2023-05-31T13:47:14.706Z"
   },
   {
    "duration": 4,
    "start_time": "2023-05-31T13:47:18.530Z"
   },
   {
    "duration": 9,
    "start_time": "2023-05-31T13:47:21.009Z"
   },
   {
    "duration": 8,
    "start_time": "2023-05-31T13:47:24.479Z"
   },
   {
    "duration": 10,
    "start_time": "2023-05-31T13:48:34.180Z"
   },
   {
    "duration": 12,
    "start_time": "2023-05-31T13:48:52.780Z"
   },
   {
    "duration": 15,
    "start_time": "2023-05-31T13:49:40.588Z"
   },
   {
    "duration": 15,
    "start_time": "2023-05-31T13:53:39.394Z"
   },
   {
    "duration": 20,
    "start_time": "2023-05-31T13:55:56.278Z"
   },
   {
    "duration": 14,
    "start_time": "2023-05-31T13:56:50.287Z"
   },
   {
    "duration": 28,
    "start_time": "2023-05-31T13:57:48.378Z"
   },
   {
    "duration": 19,
    "start_time": "2023-05-31T13:58:34.780Z"
   },
   {
    "duration": 27,
    "start_time": "2023-05-31T13:59:36.185Z"
   },
   {
    "duration": 18,
    "start_time": "2023-05-31T14:00:43.983Z"
   },
   {
    "duration": 16,
    "start_time": "2023-05-31T14:01:15.606Z"
   },
   {
    "duration": 104,
    "start_time": "2023-05-31T14:06:06.702Z"
   },
   {
    "duration": 11,
    "start_time": "2023-05-31T14:06:49.282Z"
   },
   {
    "duration": 9,
    "start_time": "2023-05-31T14:07:26.333Z"
   },
   {
    "duration": 11,
    "start_time": "2023-05-31T14:08:14.215Z"
   },
   {
    "duration": 20,
    "start_time": "2023-05-31T14:09:28.605Z"
   },
   {
    "duration": 19,
    "start_time": "2023-05-31T14:09:44.310Z"
   },
   {
    "duration": 20,
    "start_time": "2023-05-31T14:09:54.121Z"
   },
   {
    "duration": 16,
    "start_time": "2023-05-31T14:10:09.391Z"
   },
   {
    "duration": 21,
    "start_time": "2023-05-31T14:12:44.382Z"
   },
   {
    "duration": 20,
    "start_time": "2023-05-31T14:12:54.216Z"
   },
   {
    "duration": 19,
    "start_time": "2023-05-31T14:13:06.693Z"
   },
   {
    "duration": 22,
    "start_time": "2023-05-31T14:13:44.376Z"
   },
   {
    "duration": 17,
    "start_time": "2023-05-31T14:14:27.123Z"
   },
   {
    "duration": 14,
    "start_time": "2023-05-31T14:14:40.105Z"
   },
   {
    "duration": 20,
    "start_time": "2023-05-31T14:14:54.982Z"
   },
   {
    "duration": 30,
    "start_time": "2023-05-31T14:15:20.786Z"
   },
   {
    "duration": 22,
    "start_time": "2023-05-31T14:15:59.882Z"
   },
   {
    "duration": 22,
    "start_time": "2023-05-31T14:18:36.500Z"
   },
   {
    "duration": 18,
    "start_time": "2023-05-31T14:19:57.906Z"
   },
   {
    "duration": 24,
    "start_time": "2023-05-31T14:20:10.425Z"
   },
   {
    "duration": 17,
    "start_time": "2023-05-31T14:20:57.538Z"
   },
   {
    "duration": 13,
    "start_time": "2023-05-31T14:21:06.998Z"
   },
   {
    "duration": 15,
    "start_time": "2023-05-31T14:21:21.779Z"
   },
   {
    "duration": 14,
    "start_time": "2023-05-31T14:29:41.806Z"
   },
   {
    "duration": 15,
    "start_time": "2023-05-31T14:30:23.508Z"
   },
   {
    "duration": 23,
    "start_time": "2023-05-31T14:36:34.585Z"
   },
   {
    "duration": 19,
    "start_time": "2023-05-31T14:36:44.212Z"
   },
   {
    "duration": 21,
    "start_time": "2023-05-31T14:36:49.815Z"
   },
   {
    "duration": 39,
    "start_time": "2023-05-31T14:37:02.953Z"
   },
   {
    "duration": 16,
    "start_time": "2023-05-31T14:37:14.387Z"
   },
   {
    "duration": 18,
    "start_time": "2023-05-31T14:37:23.617Z"
   },
   {
    "duration": 21,
    "start_time": "2023-05-31T14:37:33.121Z"
   },
   {
    "duration": 20,
    "start_time": "2023-05-31T14:37:55.183Z"
   },
   {
    "duration": 17,
    "start_time": "2023-05-31T14:38:05.987Z"
   },
   {
    "duration": 18,
    "start_time": "2023-05-31T14:38:15.105Z"
   },
   {
    "duration": 39,
    "start_time": "2023-05-31T14:38:36.644Z"
   },
   {
    "duration": 120,
    "start_time": "2023-05-31T14:39:54.784Z"
   },
   {
    "duration": 28,
    "start_time": "2023-05-31T14:40:28.083Z"
   },
   {
    "duration": 16,
    "start_time": "2023-05-31T14:40:37.507Z"
   },
   {
    "duration": 56,
    "start_time": "2023-05-31T18:41:15.903Z"
   },
   {
    "duration": 1033,
    "start_time": "2023-05-31T18:41:31.888Z"
   },
   {
    "duration": 23,
    "start_time": "2023-05-31T18:41:35.893Z"
   },
   {
    "duration": 16,
    "start_time": "2023-05-31T18:41:40.227Z"
   },
   {
    "duration": 11,
    "start_time": "2023-05-31T18:41:43.593Z"
   },
   {
    "duration": 30,
    "start_time": "2023-05-31T18:41:46.442Z"
   },
   {
    "duration": 4,
    "start_time": "2023-05-31T18:41:49.062Z"
   },
   {
    "duration": 7,
    "start_time": "2023-05-31T18:41:51.387Z"
   },
   {
    "duration": 7,
    "start_time": "2023-05-31T18:41:54.914Z"
   },
   {
    "duration": 6,
    "start_time": "2023-05-31T18:41:58.321Z"
   },
   {
    "duration": 4,
    "start_time": "2023-05-31T18:42:00.858Z"
   },
   {
    "duration": 29,
    "start_time": "2023-05-31T18:42:03.569Z"
   },
   {
    "duration": 10,
    "start_time": "2023-05-31T18:42:05.858Z"
   },
   {
    "duration": 3,
    "start_time": "2023-05-31T18:42:09.361Z"
   },
   {
    "duration": 12,
    "start_time": "2023-05-31T18:42:11.678Z"
   },
   {
    "duration": 18,
    "start_time": "2023-05-31T18:42:13.722Z"
   },
   {
    "duration": 17,
    "start_time": "2023-05-31T18:42:15.530Z"
   },
   {
    "duration": 4,
    "start_time": "2023-05-31T18:42:18.735Z"
   },
   {
    "duration": 9,
    "start_time": "2023-05-31T18:42:20.517Z"
   },
   {
    "duration": 5,
    "start_time": "2023-05-31T18:42:23.010Z"
   },
   {
    "duration": 3,
    "start_time": "2023-05-31T18:42:26.878Z"
   },
   {
    "duration": 8,
    "start_time": "2023-05-31T18:42:28.611Z"
   },
   {
    "duration": 14,
    "start_time": "2023-05-31T18:42:31.243Z"
   },
   {
    "duration": 18,
    "start_time": "2023-05-31T18:43:38.205Z"
   },
   {
    "duration": 17,
    "start_time": "2023-05-31T18:44:41.984Z"
   },
   {
    "duration": 61,
    "start_time": "2023-05-31T18:45:26.821Z"
   },
   {
    "duration": 19,
    "start_time": "2023-05-31T18:45:58.468Z"
   },
   {
    "duration": 1191,
    "start_time": "2023-06-01T09:14:31.518Z"
   },
   {
    "duration": 23,
    "start_time": "2023-06-01T09:14:35.491Z"
   },
   {
    "duration": 42,
    "start_time": "2023-06-01T09:14:40.939Z"
   },
   {
    "duration": 16,
    "start_time": "2023-06-01T09:14:44.894Z"
   },
   {
    "duration": 61,
    "start_time": "2023-06-01T09:14:48.938Z"
   },
   {
    "duration": 5,
    "start_time": "2023-06-01T09:14:51.849Z"
   },
   {
    "duration": 19,
    "start_time": "2023-06-01T09:14:54.244Z"
   },
   {
    "duration": 5,
    "start_time": "2023-06-01T09:14:58.080Z"
   },
   {
    "duration": 7,
    "start_time": "2023-06-01T09:15:00.414Z"
   },
   {
    "duration": 6,
    "start_time": "2023-06-01T09:15:02.775Z"
   },
   {
    "duration": 37,
    "start_time": "2023-06-01T09:15:05.973Z"
   },
   {
    "duration": 10,
    "start_time": "2023-06-01T09:15:08.301Z"
   },
   {
    "duration": 4,
    "start_time": "2023-06-01T09:15:11.685Z"
   },
   {
    "duration": 22,
    "start_time": "2023-06-01T09:15:13.964Z"
   },
   {
    "duration": 27,
    "start_time": "2023-06-01T09:15:15.975Z"
   },
   {
    "duration": 23,
    "start_time": "2023-06-01T09:15:18.172Z"
   },
   {
    "duration": 4,
    "start_time": "2023-06-01T09:15:20.882Z"
   },
   {
    "duration": 28,
    "start_time": "2023-06-01T09:15:22.942Z"
   },
   {
    "duration": 7,
    "start_time": "2023-06-01T09:15:25.692Z"
   },
   {
    "duration": 6,
    "start_time": "2023-06-01T09:15:29.075Z"
   },
   {
    "duration": 9,
    "start_time": "2023-06-01T09:15:30.491Z"
   },
   {
    "duration": 84,
    "start_time": "2023-06-01T09:18:35.576Z"
   },
   {
    "duration": 16,
    "start_time": "2023-06-01T09:21:00.074Z"
   },
   {
    "duration": 14,
    "start_time": "2023-06-01T09:22:56.509Z"
   },
   {
    "duration": 10,
    "start_time": "2023-06-01T09:23:09.589Z"
   },
   {
    "duration": 10,
    "start_time": "2023-06-01T09:23:53.170Z"
   },
   {
    "duration": 9,
    "start_time": "2023-06-01T09:26:00.965Z"
   },
   {
    "duration": 1101,
    "start_time": "2023-06-01T09:28:19.505Z"
   },
   {
    "duration": 18,
    "start_time": "2023-06-01T09:28:35.373Z"
   },
   {
    "duration": 1332,
    "start_time": "2023-06-01T09:29:25.811Z"
   },
   {
    "duration": 17,
    "start_time": "2023-06-01T09:30:51.376Z"
   },
   {
    "duration": 1266,
    "start_time": "2023-06-01T09:31:38.131Z"
   },
   {
    "duration": 15,
    "start_time": "2023-06-01T09:31:53.114Z"
   },
   {
    "duration": 17,
    "start_time": "2023-06-01T09:35:30.824Z"
   },
   {
    "duration": 34,
    "start_time": "2023-06-01T09:36:28.039Z"
   },
   {
    "duration": 23,
    "start_time": "2023-06-01T09:36:40.777Z"
   },
   {
    "duration": 34,
    "start_time": "2023-06-01T09:37:21.642Z"
   },
   {
    "duration": 5,
    "start_time": "2023-06-01T09:39:26.338Z"
   },
   {
    "duration": 20,
    "start_time": "2023-06-01T09:39:28.431Z"
   },
   {
    "duration": 107,
    "start_time": "2023-06-01T09:57:50.120Z"
   },
   {
    "duration": 230,
    "start_time": "2023-06-01T09:58:35.509Z"
   },
   {
    "duration": 4211,
    "start_time": "2023-06-01T09:59:55.078Z"
   },
   {
    "duration": 25,
    "start_time": "2023-06-01T10:00:32.055Z"
   },
   {
    "duration": 21,
    "start_time": "2023-06-01T10:00:53.898Z"
   },
   {
    "duration": 29,
    "start_time": "2023-06-01T10:01:40.529Z"
   },
   {
    "duration": 24,
    "start_time": "2023-06-01T10:01:55.446Z"
   },
   {
    "duration": 18,
    "start_time": "2023-06-01T10:02:20.276Z"
   },
   {
    "duration": 3447,
    "start_time": "2023-06-01T10:02:30.988Z"
   },
   {
    "duration": 201,
    "start_time": "2023-06-01T10:03:02.989Z"
   },
   {
    "duration": 4128,
    "start_time": "2023-06-01T10:03:31.474Z"
   },
   {
    "duration": 28,
    "start_time": "2023-06-01T10:03:51.391Z"
   },
   {
    "duration": 19,
    "start_time": "2023-06-01T10:04:09.200Z"
   },
   {
    "duration": 21,
    "start_time": "2023-06-01T10:04:26.170Z"
   },
   {
    "duration": 143,
    "start_time": "2023-06-01T10:06:37.935Z"
   },
   {
    "duration": 103,
    "start_time": "2023-06-01T10:07:01.196Z"
   },
   {
    "duration": 21,
    "start_time": "2023-06-01T10:07:10.295Z"
   },
   {
    "duration": 20,
    "start_time": "2023-06-01T10:07:29.814Z"
   },
   {
    "duration": 23,
    "start_time": "2023-06-01T10:07:49.654Z"
   },
   {
    "duration": 20,
    "start_time": "2023-06-01T10:08:27.222Z"
   },
   {
    "duration": 25,
    "start_time": "2023-06-01T10:08:36.333Z"
   },
   {
    "duration": 24,
    "start_time": "2023-06-01T10:08:50.148Z"
   },
   {
    "duration": 22,
    "start_time": "2023-06-01T10:09:42.538Z"
   },
   {
    "duration": 5,
    "start_time": "2023-06-01T10:10:03.195Z"
   },
   {
    "duration": 24,
    "start_time": "2023-06-01T10:10:15.165Z"
   },
   {
    "duration": 18,
    "start_time": "2023-06-01T10:11:09.803Z"
   },
   {
    "duration": 14,
    "start_time": "2023-06-01T10:11:34.609Z"
   },
   {
    "duration": 15,
    "start_time": "2023-06-01T10:11:48.227Z"
   },
   {
    "duration": 16,
    "start_time": "2023-06-01T10:11:56.692Z"
   },
   {
    "duration": 23,
    "start_time": "2023-06-01T10:13:12.393Z"
   },
   {
    "duration": 818,
    "start_time": "2023-06-01T10:13:48.089Z"
   },
   {
    "duration": 34,
    "start_time": "2023-06-01T10:13:50.957Z"
   },
   {
    "duration": 23,
    "start_time": "2023-06-01T10:13:54.196Z"
   },
   {
    "duration": 13,
    "start_time": "2023-06-01T10:13:57.588Z"
   },
   {
    "duration": 59,
    "start_time": "2023-06-01T10:14:00.717Z"
   },
   {
    "duration": 5,
    "start_time": "2023-06-01T10:14:03.290Z"
   },
   {
    "duration": 13,
    "start_time": "2023-06-01T10:14:05.430Z"
   },
   {
    "duration": 6,
    "start_time": "2023-06-01T10:14:08.202Z"
   },
   {
    "duration": 9,
    "start_time": "2023-06-01T10:14:10.811Z"
   },
   {
    "duration": 7,
    "start_time": "2023-06-01T10:14:12.968Z"
   },
   {
    "duration": 46,
    "start_time": "2023-06-01T10:14:15.472Z"
   },
   {
    "duration": 17,
    "start_time": "2023-06-01T10:14:18.109Z"
   },
   {
    "duration": 4,
    "start_time": "2023-06-01T10:14:20.613Z"
   },
   {
    "duration": 21,
    "start_time": "2023-06-01T10:14:25.326Z"
   },
   {
    "duration": 31,
    "start_time": "2023-06-01T10:14:28.197Z"
   },
   {
    "duration": 23,
    "start_time": "2023-06-01T10:14:30.530Z"
   },
   {
    "duration": 5,
    "start_time": "2023-06-01T10:14:33.931Z"
   },
   {
    "duration": 11,
    "start_time": "2023-06-01T10:14:35.810Z"
   },
   {
    "duration": 10,
    "start_time": "2023-06-01T10:14:38.207Z"
   },
   {
    "duration": 4,
    "start_time": "2023-06-01T10:14:41.314Z"
   },
   {
    "duration": 16,
    "start_time": "2023-06-01T10:14:43.641Z"
   },
   {
    "duration": 9,
    "start_time": "2023-06-01T10:14:59.714Z"
   },
   {
    "duration": 16,
    "start_time": "2023-06-01T10:15:03.921Z"
   },
   {
    "duration": 19,
    "start_time": "2023-06-01T10:16:51.966Z"
   },
   {
    "duration": 5,
    "start_time": "2023-06-01T10:20:55.117Z"
   },
   {
    "duration": 22,
    "start_time": "2023-06-01T10:21:09.026Z"
   },
   {
    "duration": 19,
    "start_time": "2023-06-01T10:24:46.998Z"
   },
   {
    "duration": 28,
    "start_time": "2023-06-01T10:26:33.138Z"
   },
   {
    "duration": 19,
    "start_time": "2023-06-01T10:27:16.800Z"
   },
   {
    "duration": 28,
    "start_time": "2023-06-01T10:27:22.988Z"
   },
   {
    "duration": 19,
    "start_time": "2023-06-01T10:27:30.078Z"
   },
   {
    "duration": 20,
    "start_time": "2023-06-01T10:27:36.087Z"
   },
   {
    "duration": 6,
    "start_time": "2023-06-01T10:30:38.306Z"
   },
   {
    "duration": 562,
    "start_time": "2023-06-01T10:30:50.246Z"
   },
   {
    "duration": 38,
    "start_time": "2023-06-01T10:30:53.817Z"
   },
   {
    "duration": 22,
    "start_time": "2023-06-01T10:30:57.486Z"
   },
   {
    "duration": 11,
    "start_time": "2023-06-01T10:31:00.417Z"
   },
   {
    "duration": 35,
    "start_time": "2023-06-01T10:31:03.600Z"
   },
   {
    "duration": 4,
    "start_time": "2023-06-01T10:31:06.691Z"
   },
   {
    "duration": 11,
    "start_time": "2023-06-01T10:31:08.781Z"
   },
   {
    "duration": 5,
    "start_time": "2023-06-01T10:31:11.419Z"
   },
   {
    "duration": 15,
    "start_time": "2023-06-01T10:31:13.764Z"
   },
   {
    "duration": 5,
    "start_time": "2023-06-01T10:31:15.814Z"
   },
   {
    "duration": 35,
    "start_time": "2023-06-01T10:31:17.890Z"
   },
   {
    "duration": 12,
    "start_time": "2023-06-01T10:31:20.615Z"
   },
   {
    "duration": 5,
    "start_time": "2023-06-01T10:31:23.182Z"
   },
   {
    "duration": 14,
    "start_time": "2023-06-01T10:31:25.282Z"
   },
   {
    "duration": 22,
    "start_time": "2023-06-01T10:31:28.114Z"
   },
   {
    "duration": 19,
    "start_time": "2023-06-01T10:31:29.995Z"
   },
   {
    "duration": 19,
    "start_time": "2023-06-01T10:31:32.560Z"
   },
   {
    "duration": 17,
    "start_time": "2023-06-01T10:31:35.086Z"
   },
   {
    "duration": 7,
    "start_time": "2023-06-01T10:31:37.318Z"
   },
   {
    "duration": 3,
    "start_time": "2023-06-01T10:31:40.082Z"
   },
   {
    "duration": 9,
    "start_time": "2023-06-01T10:31:42.191Z"
   },
   {
    "duration": 8,
    "start_time": "2023-06-01T10:31:45.405Z"
   },
   {
    "duration": 20,
    "start_time": "2023-06-01T10:31:47.470Z"
   },
   {
    "duration": 25,
    "start_time": "2023-06-01T10:31:51.374Z"
   },
   {
    "duration": 25,
    "start_time": "2023-06-01T10:31:56.930Z"
   },
   {
    "duration": 24,
    "start_time": "2023-06-01T10:43:45.680Z"
   },
   {
    "duration": 35,
    "start_time": "2023-06-01T10:44:14.508Z"
   },
   {
    "duration": 36,
    "start_time": "2023-06-01T10:45:07.520Z"
   },
   {
    "duration": 43,
    "start_time": "2023-06-01T10:47:46.326Z"
   },
   {
    "duration": 17,
    "start_time": "2023-06-01T10:48:37.485Z"
   },
   {
    "duration": 33,
    "start_time": "2023-06-01T10:48:49.880Z"
   },
   {
    "duration": 24,
    "start_time": "2023-06-01T10:49:07.313Z"
   },
   {
    "duration": 29,
    "start_time": "2023-06-01T10:49:14.345Z"
   },
   {
    "duration": 65,
    "start_time": "2023-06-01T10:52:13.796Z"
   },
   {
    "duration": 61,
    "start_time": "2023-06-01T10:52:42.179Z"
   },
   {
    "duration": 55,
    "start_time": "2023-06-01T10:55:00.151Z"
   },
   {
    "duration": 18,
    "start_time": "2023-06-01T10:57:31.135Z"
   },
   {
    "duration": 17,
    "start_time": "2023-06-01T10:57:48.130Z"
   },
   {
    "duration": 514,
    "start_time": "2023-06-01T10:59:07.628Z"
   },
   {
    "duration": 22,
    "start_time": "2023-06-01T10:59:11.069Z"
   },
   {
    "duration": 16,
    "start_time": "2023-06-01T10:59:14.996Z"
   },
   {
    "duration": 11,
    "start_time": "2023-06-01T10:59:17.946Z"
   },
   {
    "duration": 36,
    "start_time": "2023-06-01T10:59:20.730Z"
   },
   {
    "duration": 4,
    "start_time": "2023-06-01T10:59:24.220Z"
   },
   {
    "duration": 8,
    "start_time": "2023-06-01T10:59:26.435Z"
   },
   {
    "duration": 5,
    "start_time": "2023-06-01T10:59:32.025Z"
   },
   {
    "duration": 7,
    "start_time": "2023-06-01T10:59:34.667Z"
   },
   {
    "duration": 4,
    "start_time": "2023-06-01T10:59:37.202Z"
   },
   {
    "duration": 35,
    "start_time": "2023-06-01T10:59:40.129Z"
   },
   {
    "duration": 12,
    "start_time": "2023-06-01T10:59:42.988Z"
   },
   {
    "duration": 4,
    "start_time": "2023-06-01T10:59:46.052Z"
   },
   {
    "duration": 12,
    "start_time": "2023-06-01T10:59:48.383Z"
   },
   {
    "duration": 22,
    "start_time": "2023-06-01T10:59:51.559Z"
   },
   {
    "duration": 19,
    "start_time": "2023-06-01T10:59:53.950Z"
   },
   {
    "duration": 5,
    "start_time": "2023-06-01T10:59:57.095Z"
   },
   {
    "duration": 11,
    "start_time": "2023-06-01T10:59:59.109Z"
   },
   {
    "duration": 6,
    "start_time": "2023-06-01T11:00:01.306Z"
   },
   {
    "duration": 4,
    "start_time": "2023-06-01T11:00:05.353Z"
   },
   {
    "duration": 10,
    "start_time": "2023-06-01T11:00:07.438Z"
   },
   {
    "duration": 8,
    "start_time": "2023-06-01T11:00:11.194Z"
   },
   {
    "duration": 21,
    "start_time": "2023-06-01T11:00:13.409Z"
   },
   {
    "duration": 27,
    "start_time": "2023-06-01T11:00:21.413Z"
   },
   {
    "duration": 19,
    "start_time": "2023-06-01T11:00:25.750Z"
   },
   {
    "duration": 21,
    "start_time": "2023-06-01T11:00:28.831Z"
   },
   {
    "duration": 5,
    "start_time": "2023-06-01T11:04:33.014Z"
   },
   {
    "duration": 19,
    "start_time": "2023-06-01T11:34:19.212Z"
   },
   {
    "duration": 503,
    "start_time": "2023-06-01T11:48:44.457Z"
   },
   {
    "duration": 23,
    "start_time": "2023-06-01T11:48:46.802Z"
   },
   {
    "duration": 17,
    "start_time": "2023-06-01T11:48:51.566Z"
   },
   {
    "duration": 11,
    "start_time": "2023-06-01T11:48:55.003Z"
   },
   {
    "duration": 35,
    "start_time": "2023-06-01T11:48:57.909Z"
   },
   {
    "duration": 5,
    "start_time": "2023-06-01T11:49:00.581Z"
   },
   {
    "duration": 10,
    "start_time": "2023-06-01T11:49:04.296Z"
   },
   {
    "duration": 5,
    "start_time": "2023-06-01T11:49:06.578Z"
   },
   {
    "duration": 15,
    "start_time": "2023-06-01T11:49:08.881Z"
   },
   {
    "duration": 6,
    "start_time": "2023-06-01T11:49:10.958Z"
   },
   {
    "duration": 37,
    "start_time": "2023-06-01T11:49:13.688Z"
   },
   {
    "duration": 12,
    "start_time": "2023-06-01T11:49:15.689Z"
   },
   {
    "duration": 5,
    "start_time": "2023-06-01T11:49:18.673Z"
   },
   {
    "duration": 32,
    "start_time": "2023-06-01T11:49:22.367Z"
   },
   {
    "duration": 48,
    "start_time": "2023-06-01T11:49:24.418Z"
   },
   {
    "duration": 18,
    "start_time": "2023-06-01T11:49:26.223Z"
   },
   {
    "duration": 3,
    "start_time": "2023-06-01T11:49:28.722Z"
   },
   {
    "duration": 14,
    "start_time": "2023-06-01T11:49:31.596Z"
   },
   {
    "duration": 9,
    "start_time": "2023-06-01T11:49:33.663Z"
   },
   {
    "duration": 5,
    "start_time": "2023-06-01T11:49:36.171Z"
   },
   {
    "duration": 10,
    "start_time": "2023-06-01T11:49:37.820Z"
   },
   {
    "duration": 8,
    "start_time": "2023-06-01T11:49:40.073Z"
   },
   {
    "duration": 28,
    "start_time": "2023-06-01T11:49:42.291Z"
   },
   {
    "duration": 17,
    "start_time": "2023-06-01T11:49:45.385Z"
   },
   {
    "duration": 28,
    "start_time": "2023-06-01T11:49:47.963Z"
   },
   {
    "duration": 20,
    "start_time": "2023-06-01T11:49:51.497Z"
   },
   {
    "duration": 795,
    "start_time": "2023-06-01T16:47:57.576Z"
   },
   {
    "duration": 23,
    "start_time": "2023-06-01T16:48:00.960Z"
   },
   {
    "duration": 16,
    "start_time": "2023-06-01T16:48:04.461Z"
   },
   {
    "duration": 15,
    "start_time": "2023-06-01T16:48:10.689Z"
   },
   {
    "duration": 45,
    "start_time": "2023-06-01T16:48:13.695Z"
   },
   {
    "duration": 4,
    "start_time": "2023-06-01T16:48:16.862Z"
   },
   {
    "duration": 9,
    "start_time": "2023-06-01T16:48:19.302Z"
   },
   {
    "duration": 5,
    "start_time": "2023-06-01T16:48:23.504Z"
   },
   {
    "duration": 7,
    "start_time": "2023-06-01T16:48:26.057Z"
   },
   {
    "duration": 8,
    "start_time": "2023-06-01T16:48:28.153Z"
   },
   {
    "duration": 42,
    "start_time": "2023-06-01T16:48:31.368Z"
   },
   {
    "duration": 10,
    "start_time": "2023-06-01T16:48:37.461Z"
   },
   {
    "duration": 5,
    "start_time": "2023-06-01T16:48:41.175Z"
   },
   {
    "duration": 16,
    "start_time": "2023-06-01T16:48:43.555Z"
   },
   {
    "duration": 27,
    "start_time": "2023-06-01T16:48:47.606Z"
   },
   {
    "duration": 25,
    "start_time": "2023-06-01T16:48:49.723Z"
   },
   {
    "duration": 4,
    "start_time": "2023-06-01T16:48:52.379Z"
   },
   {
    "duration": 11,
    "start_time": "2023-06-01T16:48:55.110Z"
   },
   {
    "duration": 7,
    "start_time": "2023-06-01T16:48:57.225Z"
   },
   {
    "duration": 4,
    "start_time": "2023-06-01T16:49:01.068Z"
   },
   {
    "duration": 11,
    "start_time": "2023-06-01T16:49:02.962Z"
   },
   {
    "duration": 9,
    "start_time": "2023-06-01T16:49:07.481Z"
   },
   {
    "duration": 1310,
    "start_time": "2023-06-01T16:49:10.468Z"
   },
   {
    "duration": 17,
    "start_time": "2023-06-01T16:49:34.801Z"
   },
   {
    "duration": 19,
    "start_time": "2023-06-01T16:49:38.470Z"
   },
   {
    "duration": 18,
    "start_time": "2023-06-01T16:49:41.361Z"
   },
   {
    "duration": 30,
    "start_time": "2023-06-01T16:49:44.822Z"
   },
   {
    "duration": 50,
    "start_time": "2023-06-01T18:01:28.344Z"
   },
   {
    "duration": 587,
    "start_time": "2023-06-01T18:01:41.748Z"
   },
   {
    "duration": 23,
    "start_time": "2023-06-01T18:01:44.640Z"
   },
   {
    "duration": 17,
    "start_time": "2023-06-01T18:01:48.119Z"
   },
   {
    "duration": 10,
    "start_time": "2023-06-01T18:01:51.045Z"
   },
   {
    "duration": 51,
    "start_time": "2023-06-01T18:01:54.159Z"
   },
   {
    "duration": 4,
    "start_time": "2023-06-01T18:01:56.704Z"
   },
   {
    "duration": 11,
    "start_time": "2023-06-01T18:01:58.761Z"
   },
   {
    "duration": 6,
    "start_time": "2023-06-01T18:02:00.947Z"
   },
   {
    "duration": 7,
    "start_time": "2023-06-01T18:02:03.908Z"
   },
   {
    "duration": 5,
    "start_time": "2023-06-01T18:02:06.199Z"
   },
   {
    "duration": 43,
    "start_time": "2023-06-01T18:02:08.943Z"
   },
   {
    "duration": 11,
    "start_time": "2023-06-01T18:02:11.145Z"
   },
   {
    "duration": 5,
    "start_time": "2023-06-01T18:02:13.579Z"
   },
   {
    "duration": 17,
    "start_time": "2023-06-01T18:02:15.715Z"
   },
   {
    "duration": 30,
    "start_time": "2023-06-01T18:02:18.649Z"
   },
   {
    "duration": 28,
    "start_time": "2023-06-01T18:02:20.445Z"
   },
   {
    "duration": 5,
    "start_time": "2023-06-01T18:02:22.870Z"
   },
   {
    "duration": 14,
    "start_time": "2023-06-01T18:02:25.546Z"
   },
   {
    "duration": 9,
    "start_time": "2023-06-01T18:02:27.947Z"
   },
   {
    "duration": 3,
    "start_time": "2023-06-01T18:02:30.826Z"
   },
   {
    "duration": 8,
    "start_time": "2023-06-01T18:02:32.685Z"
   },
   {
    "duration": 9,
    "start_time": "2023-06-01T18:02:34.851Z"
   },
   {
    "duration": 20,
    "start_time": "2023-06-01T18:02:38.171Z"
   },
   {
    "duration": 24,
    "start_time": "2023-06-01T18:03:00.975Z"
   },
   {
    "duration": 17,
    "start_time": "2023-06-01T18:03:06.827Z"
   },
   {
    "duration": 18,
    "start_time": "2023-06-01T18:03:13.520Z"
   },
   {
    "duration": 486,
    "start_time": "2023-06-01T18:03:30.342Z"
   },
   {
    "duration": 30,
    "start_time": "2023-06-01T18:03:33.335Z"
   },
   {
    "duration": 17,
    "start_time": "2023-06-01T18:03:37.977Z"
   },
   {
    "duration": 9,
    "start_time": "2023-06-01T18:03:40.946Z"
   },
   {
    "duration": 34,
    "start_time": "2023-06-01T18:03:43.942Z"
   },
   {
    "duration": 4,
    "start_time": "2023-06-01T18:03:46.045Z"
   },
   {
    "duration": 8,
    "start_time": "2023-06-01T18:03:47.982Z"
   },
   {
    "duration": 4,
    "start_time": "2023-06-01T18:03:51.023Z"
   },
   {
    "duration": 9,
    "start_time": "2023-06-01T18:03:53.223Z"
   },
   {
    "duration": 6,
    "start_time": "2023-06-01T18:03:55.379Z"
   },
   {
    "duration": 34,
    "start_time": "2023-06-01T18:03:58.421Z"
   },
   {
    "duration": 10,
    "start_time": "2023-06-01T18:04:00.724Z"
   },
   {
    "duration": 4,
    "start_time": "2023-06-01T18:04:03.447Z"
   },
   {
    "duration": 11,
    "start_time": "2023-06-01T18:04:05.504Z"
   },
   {
    "duration": 20,
    "start_time": "2023-06-01T18:04:08.347Z"
   },
   {
    "duration": 22,
    "start_time": "2023-06-01T18:04:10.322Z"
   },
   {
    "duration": 3,
    "start_time": "2023-06-01T18:04:13.547Z"
   },
   {
    "duration": 11,
    "start_time": "2023-06-01T18:04:15.545Z"
   },
   {
    "duration": 7,
    "start_time": "2023-06-01T18:04:17.946Z"
   },
   {
    "duration": 4,
    "start_time": "2023-06-01T18:04:21.476Z"
   },
   {
    "duration": 9,
    "start_time": "2023-06-01T18:04:22.255Z"
   },
   {
    "duration": 20,
    "start_time": "2023-06-01T18:04:26.701Z"
   },
   {
    "duration": 19,
    "start_time": "2023-06-01T18:04:31.352Z"
   },
   {
    "duration": 22,
    "start_time": "2023-06-01T18:04:35.855Z"
   },
   {
    "duration": 19,
    "start_time": "2023-06-01T18:04:39.887Z"
   },
   {
    "duration": 113,
    "start_time": "2023-06-01T18:08:54.200Z"
   },
   {
    "duration": 34,
    "start_time": "2023-06-01T18:09:25.641Z"
   },
   {
    "duration": 68,
    "start_time": "2023-06-01T18:10:49.043Z"
   },
   {
    "duration": 90,
    "start_time": "2023-06-01T18:11:24.837Z"
   },
   {
    "duration": 81,
    "start_time": "2023-06-01T18:15:18.482Z"
   },
   {
    "duration": 69,
    "start_time": "2023-06-01T18:16:14.580Z"
   },
   {
    "duration": 36,
    "start_time": "2023-06-01T18:19:11.568Z"
   },
   {
    "duration": 32,
    "start_time": "2023-06-01T18:21:31.627Z"
   },
   {
    "duration": 30,
    "start_time": "2023-06-01T18:21:48.248Z"
   },
   {
    "duration": 34,
    "start_time": "2023-06-01T18:22:32.181Z"
   },
   {
    "duration": 32,
    "start_time": "2023-06-01T18:22:56.308Z"
   },
   {
    "duration": 34,
    "start_time": "2023-06-01T18:23:08.558Z"
   },
   {
    "duration": 48,
    "start_time": "2023-06-01T18:23:19.085Z"
   },
   {
    "duration": 51,
    "start_time": "2023-06-01T18:26:19.562Z"
   },
   {
    "duration": 30,
    "start_time": "2023-06-01T18:27:48.981Z"
   },
   {
    "duration": 40,
    "start_time": "2023-06-01T18:28:48.983Z"
   },
   {
    "duration": 29,
    "start_time": "2023-06-01T18:33:46.580Z"
   },
   {
    "duration": 31,
    "start_time": "2023-06-01T18:34:51.977Z"
   },
   {
    "duration": 54,
    "start_time": "2023-06-01T18:35:54.609Z"
   },
   {
    "duration": 40,
    "start_time": "2023-06-01T18:36:45.791Z"
   },
   {
    "duration": 33,
    "start_time": "2023-06-01T18:37:10.267Z"
   },
   {
    "duration": 42,
    "start_time": "2023-06-01T18:38:24.878Z"
   },
   {
    "duration": 461,
    "start_time": "2023-06-01T18:42:22.386Z"
   },
   {
    "duration": 33,
    "start_time": "2023-06-01T18:42:25.289Z"
   },
   {
    "duration": 24,
    "start_time": "2023-06-01T18:42:29.212Z"
   },
   {
    "duration": 15,
    "start_time": "2023-06-01T18:42:32.910Z"
   },
   {
    "duration": 44,
    "start_time": "2023-06-01T18:42:35.773Z"
   },
   {
    "duration": 3,
    "start_time": "2023-06-01T18:42:38.703Z"
   },
   {
    "duration": 9,
    "start_time": "2023-06-01T18:42:41.301Z"
   },
   {
    "duration": 4,
    "start_time": "2023-06-01T18:42:47.443Z"
   },
   {
    "duration": 8,
    "start_time": "2023-06-01T18:42:50.743Z"
   },
   {
    "duration": 5,
    "start_time": "2023-06-01T18:42:52.867Z"
   },
   {
    "duration": 34,
    "start_time": "2023-06-01T18:42:54.901Z"
   },
   {
    "duration": 13,
    "start_time": "2023-06-01T18:43:00.812Z"
   },
   {
    "duration": 4,
    "start_time": "2023-06-01T18:43:03.988Z"
   },
   {
    "duration": 17,
    "start_time": "2023-06-01T18:43:06.160Z"
   },
   {
    "duration": 21,
    "start_time": "2023-06-01T18:43:08.115Z"
   },
   {
    "duration": 18,
    "start_time": "2023-06-01T18:43:09.466Z"
   },
   {
    "duration": 11,
    "start_time": "2023-06-01T18:43:13.846Z"
   },
   {
    "duration": 10,
    "start_time": "2023-06-01T18:43:15.619Z"
   },
   {
    "duration": 7,
    "start_time": "2023-06-01T18:43:18.069Z"
   },
   {
    "duration": 8,
    "start_time": "2023-06-01T18:43:21.658Z"
   },
   {
    "duration": 14,
    "start_time": "2023-06-01T18:43:23.313Z"
   },
   {
    "duration": 18,
    "start_time": "2023-06-01T18:43:26.693Z"
   },
   {
    "duration": 24,
    "start_time": "2023-06-01T18:43:29.923Z"
   },
   {
    "duration": 18,
    "start_time": "2023-06-01T18:43:34.874Z"
   },
   {
    "duration": 24,
    "start_time": "2023-06-01T18:43:37.641Z"
   },
   {
    "duration": 539,
    "start_time": "2023-06-02T08:26:45.446Z"
   },
   {
    "duration": 24,
    "start_time": "2023-06-02T08:26:48.347Z"
   },
   {
    "duration": 16,
    "start_time": "2023-06-02T08:26:52.054Z"
   },
   {
    "duration": 10,
    "start_time": "2023-06-02T08:26:54.942Z"
   },
   {
    "duration": 35,
    "start_time": "2023-06-02T08:26:57.890Z"
   },
   {
    "duration": 4,
    "start_time": "2023-06-02T08:27:03.572Z"
   },
   {
    "duration": 11,
    "start_time": "2023-06-02T08:27:05.659Z"
   },
   {
    "duration": 6,
    "start_time": "2023-06-02T08:27:09.381Z"
   },
   {
    "duration": 9,
    "start_time": "2023-06-02T08:27:11.677Z"
   },
   {
    "duration": 5,
    "start_time": "2023-06-02T08:27:13.903Z"
   },
   {
    "duration": 31,
    "start_time": "2023-06-02T08:27:16.696Z"
   },
   {
    "duration": 9,
    "start_time": "2023-06-02T08:27:18.976Z"
   },
   {
    "duration": 4,
    "start_time": "2023-06-02T08:27:22.054Z"
   },
   {
    "duration": 11,
    "start_time": "2023-06-02T08:27:24.267Z"
   },
   {
    "duration": 20,
    "start_time": "2023-06-02T08:27:27.650Z"
   },
   {
    "duration": 18,
    "start_time": "2023-06-02T08:27:29.483Z"
   },
   {
    "duration": 4,
    "start_time": "2023-06-02T08:27:32.776Z"
   },
   {
    "duration": 10,
    "start_time": "2023-06-02T08:27:34.855Z"
   },
   {
    "duration": 7,
    "start_time": "2023-06-02T08:27:37.122Z"
   },
   {
    "duration": 3,
    "start_time": "2023-06-02T08:27:40.312Z"
   },
   {
    "duration": 9,
    "start_time": "2023-06-02T08:27:41.609Z"
   },
   {
    "duration": 18,
    "start_time": "2023-06-02T08:27:45.991Z"
   },
   {
    "duration": 19,
    "start_time": "2023-06-02T08:27:49.863Z"
   },
   {
    "duration": 19,
    "start_time": "2023-06-02T08:27:53.447Z"
   },
   {
    "duration": 19,
    "start_time": "2023-06-02T08:27:57.007Z"
   },
   {
    "duration": 596,
    "start_time": "2023-06-02T10:04:03.866Z"
   },
   {
    "duration": 437,
    "start_time": "2023-06-02T10:04:25.982Z"
   },
   {
    "duration": 22,
    "start_time": "2023-06-02T10:04:30.164Z"
   },
   {
    "duration": 15,
    "start_time": "2023-06-02T10:04:34.407Z"
   },
   {
    "duration": 9,
    "start_time": "2023-06-02T10:04:38.366Z"
   },
   {
    "duration": 34,
    "start_time": "2023-06-02T10:04:42.964Z"
   },
   {
    "duration": 4,
    "start_time": "2023-06-02T10:04:45.460Z"
   },
   {
    "duration": 7,
    "start_time": "2023-06-02T10:04:48.404Z"
   },
   {
    "duration": 5,
    "start_time": "2023-06-02T10:04:51.992Z"
   },
   {
    "duration": 7,
    "start_time": "2023-06-02T10:04:53.560Z"
   },
   {
    "duration": 4,
    "start_time": "2023-06-02T10:04:55.063Z"
   },
   {
    "duration": 33,
    "start_time": "2023-06-02T10:04:58.591Z"
   },
   {
    "duration": 10,
    "start_time": "2023-06-02T10:05:00.428Z"
   },
   {
    "duration": 6,
    "start_time": "2023-06-02T10:05:03.867Z"
   },
   {
    "duration": 11,
    "start_time": "2023-06-02T10:05:06.428Z"
   },
   {
    "duration": 20,
    "start_time": "2023-06-02T10:05:09.228Z"
   },
   {
    "duration": 19,
    "start_time": "2023-06-02T10:05:11.376Z"
   },
   {
    "duration": 4,
    "start_time": "2023-06-02T10:05:15.470Z"
   },
   {
    "duration": 15,
    "start_time": "2023-06-02T10:05:18.274Z"
   },
   {
    "duration": 11,
    "start_time": "2023-06-02T10:05:20.855Z"
   },
   {
    "duration": 4,
    "start_time": "2023-06-02T10:05:24.578Z"
   },
   {
    "duration": 10,
    "start_time": "2023-06-02T10:05:26.776Z"
   },
   {
    "duration": 19,
    "start_time": "2023-06-02T10:05:29.970Z"
   },
   {
    "duration": 20,
    "start_time": "2023-06-02T10:05:33.482Z"
   },
   {
    "duration": 17,
    "start_time": "2023-06-02T10:05:36.770Z"
   },
   {
    "duration": 18,
    "start_time": "2023-06-02T10:05:40.192Z"
   },
   {
    "duration": 17,
    "start_time": "2023-06-02T10:06:51.884Z"
   },
   {
    "duration": 26,
    "start_time": "2023-06-02T10:08:25.682Z"
   },
   {
    "duration": 30,
    "start_time": "2023-06-02T10:09:12.274Z"
   },
   {
    "duration": 97,
    "start_time": "2023-06-02T10:09:52.477Z"
   },
   {
    "duration": 30,
    "start_time": "2023-06-02T10:10:03.289Z"
   },
   {
    "duration": 51,
    "start_time": "2023-06-02T10:12:15.042Z"
   },
   {
    "duration": 33,
    "start_time": "2023-06-02T10:12:34.274Z"
   },
   {
    "duration": 776,
    "start_time": "2023-06-02T10:14:02.354Z"
   },
   {
    "duration": 29,
    "start_time": "2023-06-02T10:14:33.762Z"
   },
   {
    "duration": 29,
    "start_time": "2023-06-02T10:15:21.415Z"
   },
   {
    "duration": 43,
    "start_time": "2023-06-02T10:16:54.750Z"
   },
   {
    "duration": 41,
    "start_time": "2023-06-02T10:17:18.068Z"
   },
   {
    "duration": 774,
    "start_time": "2023-06-02T10:24:18.161Z"
   },
   {
    "duration": 63,
    "start_time": "2023-06-02T10:24:38.165Z"
   },
   {
    "duration": 762,
    "start_time": "2023-06-02T10:31:08.665Z"
   },
   {
    "duration": 51,
    "start_time": "2023-06-02T10:31:18.616Z"
   },
   {
    "duration": 61,
    "start_time": "2023-06-02T10:32:04.515Z"
   },
   {
    "duration": 35,
    "start_time": "2023-06-02T10:32:56.604Z"
   },
   {
    "duration": 34,
    "start_time": "2023-06-02T10:36:29.166Z"
   },
   {
    "duration": 13,
    "start_time": "2023-06-02T10:37:13.765Z"
   },
   {
    "duration": 17,
    "start_time": "2023-06-02T10:39:07.396Z"
   },
   {
    "duration": 15,
    "start_time": "2023-06-02T10:39:55.668Z"
   },
   {
    "duration": 25,
    "start_time": "2023-06-02T10:41:00.863Z"
   },
   {
    "duration": 35,
    "start_time": "2023-06-02T10:42:42.787Z"
   },
   {
    "duration": 35,
    "start_time": "2023-06-02T10:43:18.162Z"
   },
   {
    "duration": 38,
    "start_time": "2023-06-02T10:46:00.297Z"
   },
   {
    "duration": 41,
    "start_time": "2023-06-02T10:47:06.824Z"
   },
   {
    "duration": 32,
    "start_time": "2023-06-02T10:47:22.478Z"
   },
   {
    "duration": 40,
    "start_time": "2023-06-02T10:47:53.388Z"
   },
   {
    "duration": 31,
    "start_time": "2023-06-02T10:48:09.463Z"
   },
   {
    "duration": 32,
    "start_time": "2023-06-02T10:48:15.984Z"
   },
   {
    "duration": 22,
    "start_time": "2023-06-02T10:49:09.995Z"
   },
   {
    "duration": 561,
    "start_time": "2023-06-02T11:32:57.351Z"
   },
   {
    "duration": 25,
    "start_time": "2023-06-02T11:32:57.914Z"
   },
   {
    "duration": 17,
    "start_time": "2023-06-02T11:32:57.941Z"
   },
   {
    "duration": 10,
    "start_time": "2023-06-02T11:32:57.960Z"
   },
   {
    "duration": 47,
    "start_time": "2023-06-02T11:32:57.972Z"
   },
   {
    "duration": 3,
    "start_time": "2023-06-02T11:32:58.021Z"
   },
   {
    "duration": 31,
    "start_time": "2023-06-02T11:32:58.026Z"
   },
   {
    "duration": 6,
    "start_time": "2023-06-02T11:32:58.059Z"
   },
   {
    "duration": 9,
    "start_time": "2023-06-02T11:32:58.067Z"
   },
   {
    "duration": 6,
    "start_time": "2023-06-02T11:32:58.080Z"
   },
   {
    "duration": 68,
    "start_time": "2023-06-02T11:32:58.088Z"
   },
   {
    "duration": 10,
    "start_time": "2023-06-02T11:32:58.157Z"
   },
   {
    "duration": 4,
    "start_time": "2023-06-02T11:32:58.169Z"
   },
   {
    "duration": 15,
    "start_time": "2023-06-02T11:32:58.175Z"
   },
   {
    "duration": 28,
    "start_time": "2023-06-02T11:32:58.192Z"
   },
   {
    "duration": 44,
    "start_time": "2023-06-02T11:32:58.222Z"
   },
   {
    "duration": 13,
    "start_time": "2023-06-02T11:32:58.268Z"
   },
   {
    "duration": 28,
    "start_time": "2023-06-02T11:32:58.283Z"
   },
   {
    "duration": 6,
    "start_time": "2023-06-02T11:32:58.313Z"
   },
   {
    "duration": 4,
    "start_time": "2023-06-02T11:32:58.321Z"
   },
   {
    "duration": 27,
    "start_time": "2023-06-02T11:32:58.326Z"
   },
   {
    "duration": 21,
    "start_time": "2023-06-02T11:32:58.355Z"
   },
   {
    "duration": 19,
    "start_time": "2023-06-02T11:32:58.378Z"
   },
   {
    "duration": 18,
    "start_time": "2023-06-02T11:32:58.398Z"
   },
   {
    "duration": 20,
    "start_time": "2023-06-02T11:32:58.450Z"
   },
   {
    "duration": 463,
    "start_time": "2023-06-02T11:33:17.472Z"
   },
   {
    "duration": 25,
    "start_time": "2023-06-02T11:33:17.937Z"
   },
   {
    "duration": 16,
    "start_time": "2023-06-02T11:33:17.963Z"
   },
   {
    "duration": 12,
    "start_time": "2023-06-02T11:33:17.981Z"
   },
   {
    "duration": 70,
    "start_time": "2023-06-02T11:33:17.995Z"
   },
   {
    "duration": 3,
    "start_time": "2023-06-02T11:33:18.066Z"
   },
   {
    "duration": 9,
    "start_time": "2023-06-02T11:33:18.071Z"
   },
   {
    "duration": 4,
    "start_time": "2023-06-02T11:33:18.082Z"
   },
   {
    "duration": 12,
    "start_time": "2023-06-02T11:33:18.087Z"
   },
   {
    "duration": 5,
    "start_time": "2023-06-02T11:33:18.100Z"
   },
   {
    "duration": 69,
    "start_time": "2023-06-02T11:33:18.107Z"
   },
   {
    "duration": 10,
    "start_time": "2023-06-02T11:33:18.177Z"
   },
   {
    "duration": 7,
    "start_time": "2023-06-02T11:33:18.189Z"
   },
   {
    "duration": 15,
    "start_time": "2023-06-02T11:33:18.198Z"
   },
   {
    "duration": 53,
    "start_time": "2023-06-02T11:33:18.215Z"
   },
   {
    "duration": 24,
    "start_time": "2023-06-02T11:33:18.270Z"
   },
   {
    "duration": 6,
    "start_time": "2023-06-02T11:33:18.297Z"
   },
   {
    "duration": 11,
    "start_time": "2023-06-02T11:33:18.304Z"
   },
   {
    "duration": 36,
    "start_time": "2023-06-02T11:33:18.316Z"
   },
   {
    "duration": 5,
    "start_time": "2023-06-02T11:33:18.354Z"
   },
   {
    "duration": 10,
    "start_time": "2023-06-02T11:33:18.360Z"
   },
   {
    "duration": 17,
    "start_time": "2023-06-02T11:33:18.372Z"
   },
   {
    "duration": 60,
    "start_time": "2023-06-02T11:33:18.391Z"
   },
   {
    "duration": 19,
    "start_time": "2023-06-02T11:33:18.453Z"
   },
   {
    "duration": 19,
    "start_time": "2023-06-02T11:33:18.474Z"
   },
   {
    "duration": 651,
    "start_time": "2023-06-03T12:02:05.398Z"
   },
   {
    "duration": 21,
    "start_time": "2023-06-03T12:02:08.526Z"
   },
   {
    "duration": 16,
    "start_time": "2023-06-03T12:02:15.324Z"
   },
   {
    "duration": 18,
    "start_time": "2023-06-03T12:02:18.997Z"
   },
   {
    "duration": 64,
    "start_time": "2023-06-03T12:02:22.145Z"
   },
   {
    "duration": 3,
    "start_time": "2023-06-03T12:02:26.737Z"
   },
   {
    "duration": 10,
    "start_time": "2023-06-03T12:02:28.957Z"
   },
   {
    "duration": 6,
    "start_time": "2023-06-03T12:02:32.500Z"
   },
   {
    "duration": 6,
    "start_time": "2023-06-03T12:02:34.659Z"
   },
   {
    "duration": 5,
    "start_time": "2023-06-03T12:02:36.830Z"
   },
   {
    "duration": 52,
    "start_time": "2023-06-03T12:02:38.939Z"
   },
   {
    "duration": 11,
    "start_time": "2023-06-03T12:02:42.134Z"
   },
   {
    "duration": 5,
    "start_time": "2023-06-03T12:02:45.117Z"
   },
   {
    "duration": 13,
    "start_time": "2023-06-03T12:02:47.217Z"
   },
   {
    "duration": 36,
    "start_time": "2023-06-03T12:02:51.097Z"
   },
   {
    "duration": 33,
    "start_time": "2023-06-03T12:02:52.996Z"
   },
   {
    "duration": 7,
    "start_time": "2023-06-03T12:02:57.871Z"
   },
   {
    "duration": 14,
    "start_time": "2023-06-03T12:02:59.565Z"
   },
   {
    "duration": 7,
    "start_time": "2023-06-03T12:03:02.244Z"
   },
   {
    "duration": 4,
    "start_time": "2023-06-03T12:03:06.146Z"
   },
   {
    "duration": 12,
    "start_time": "2023-06-03T12:03:07.667Z"
   },
   {
    "duration": 29,
    "start_time": "2023-06-03T12:03:10.916Z"
   },
   {
    "duration": 25,
    "start_time": "2023-06-03T12:03:14.942Z"
   },
   {
    "duration": 30,
    "start_time": "2023-06-03T12:03:18.596Z"
   },
   {
    "duration": 20,
    "start_time": "2023-06-03T12:03:22.718Z"
   },
   {
    "duration": 456,
    "start_time": "2023-06-03T15:06:43.074Z"
   },
   {
    "duration": 20,
    "start_time": "2023-06-03T15:06:43.532Z"
   },
   {
    "duration": 13,
    "start_time": "2023-06-03T15:06:43.554Z"
   },
   {
    "duration": 9,
    "start_time": "2023-06-03T15:06:43.569Z"
   },
   {
    "duration": 51,
    "start_time": "2023-06-03T15:06:43.579Z"
   },
   {
    "duration": 3,
    "start_time": "2023-06-03T15:06:43.632Z"
   },
   {
    "duration": 15,
    "start_time": "2023-06-03T15:06:43.636Z"
   },
   {
    "duration": 4,
    "start_time": "2023-06-03T15:06:43.652Z"
   },
   {
    "duration": 8,
    "start_time": "2023-06-03T15:06:43.658Z"
   },
   {
    "duration": 15,
    "start_time": "2023-06-03T15:06:43.668Z"
   },
   {
    "duration": 49,
    "start_time": "2023-06-03T15:06:43.685Z"
   },
   {
    "duration": 8,
    "start_time": "2023-06-03T15:06:43.735Z"
   },
   {
    "duration": 5,
    "start_time": "2023-06-03T15:06:43.744Z"
   },
   {
    "duration": 14,
    "start_time": "2023-06-03T15:06:43.750Z"
   },
   {
    "duration": 17,
    "start_time": "2023-06-03T15:06:43.765Z"
   },
   {
    "duration": 29,
    "start_time": "2023-06-03T15:06:43.783Z"
   },
   {
    "duration": 4,
    "start_time": "2023-06-03T15:06:43.813Z"
   },
   {
    "duration": 17,
    "start_time": "2023-06-03T15:06:43.818Z"
   },
   {
    "duration": 4,
    "start_time": "2023-06-03T15:06:43.837Z"
   },
   {
    "duration": 3,
    "start_time": "2023-06-03T15:06:43.843Z"
   },
   {
    "duration": 10,
    "start_time": "2023-06-03T15:06:43.847Z"
   },
   {
    "duration": 17,
    "start_time": "2023-06-03T15:06:43.858Z"
   },
   {
    "duration": 35,
    "start_time": "2023-06-03T15:06:43.877Z"
   },
   {
    "duration": 19,
    "start_time": "2023-06-03T15:06:43.914Z"
   },
   {
    "duration": 19,
    "start_time": "2023-06-03T15:06:43.934Z"
   }
  ],
  "colab": {
   "name": "dpp_template_part2.ipynb",
   "provenance": []
  },
  "kernelspec": {
   "display_name": "Python 3 (ipykernel)",
   "language": "python",
   "name": "python3"
  },
  "language_info": {
   "codemirror_mode": {
    "name": "ipython",
    "version": 3
   },
   "file_extension": ".py",
   "mimetype": "text/x-python",
   "name": "python",
   "nbconvert_exporter": "python",
   "pygments_lexer": "ipython3",
   "version": "3.9.5"
  },
  "toc": {
   "base_numbering": 1,
   "nav_menu": {},
   "number_sections": true,
   "sideBar": true,
   "skip_h1_title": true,
   "title_cell": "Table of Contents",
   "title_sidebar": "Contents",
   "toc_cell": false,
   "toc_position": {
    "height": "calc(100% - 180px)",
    "left": "10px",
    "top": "150px",
    "width": "374.391px"
   },
   "toc_section_display": true,
   "toc_window_display": true
  }
 },
 "nbformat": 4,
 "nbformat_minor": 5
}
