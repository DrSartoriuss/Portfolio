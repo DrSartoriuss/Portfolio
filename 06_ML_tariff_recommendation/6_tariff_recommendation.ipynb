{
 "cells": [
  {
   "cell_type": "markdown",
   "metadata": {},
   "source": [
    "# Рекомендация тарифов"
   ]
  },
  {
   "cell_type": "markdown",
   "metadata": {},
   "source": [
    "## Введение\n",
    "\n",
    "Оператор мобильной связи «Мегалайн» выяснил: многие клиенты пользуются архивными тарифами. Они хотят построить систему, способную проанализировать поведение клиентов и предложить пользователям новый тариф: «Смарт» или «Ультра».\n",
    "\n",
    "В нашем распоряжении данные о поведении клиентов, которые уже перешли на эти тарифы. Нужно построить модель для задачи классификации, которая выберет подходящий тариф. \n",
    "\n",
    "      \n",
    "**Цель проекта:** проанализировать данные о поведении клиентов оператора мобильной связи «Мегалайн» и построить ML-модель с долей правильных ответов не менее 0.75\n",
    "\n",
    "**Данные:** \n",
    "    \n",
    "  - Данные оператора мобильной связи «Мегалайн» о клиентах:  \n",
    "      \n",
    "    - сalls — количество звонков; \n",
    "    - minutes — суммарная длительность звонков в минутах; \n",
    "    - messages — количество sms-сообщений;\n",
    "    - mb_used — израсходованный интернет-трафик в Мб;\n",
    "    - is_ultra — каким тарифом пользовался в течение месяца («Ультра» — 1, «Смарт» — 0).\n",
    "     \n",
    "**План выполнения проекта:**\n",
    "\n",
    "  - Загрузить и изучить данные;\n",
    "  - Разбить данные на выборки;\n",
    "  - Исследовать качество предсказания разных моделей метрикой accuracy;\n",
    "  - Проверить accuracy на тестовой выборке;\n",
    "  - Проверить модель на вменяемость.\n",
    "  - Сформулировать и оформить промежуточный и общий выводы."
   ]
  },
  {
   "cell_type": "markdown",
   "metadata": {},
   "source": [
    "## Загрузка и изучение данных"
   ]
  },
  {
   "cell_type": "code",
   "execution_count": 1,
   "metadata": {},
   "outputs": [],
   "source": [
    "# обновляем библиотеки\n",
    "!pip install -U scikit-learn -q"
   ]
  },
  {
   "cell_type": "code",
   "execution_count": 2,
   "metadata": {},
   "outputs": [],
   "source": [
    "# загружаем библиотеки\n",
    "import pandas as pd\n",
    "from sklearn.model_selection import train_test_split\n",
    "from sklearn.model_selection import GridSearchCV\n",
    "\n",
    "from sklearn.tree import DecisionTreeClassifier\n",
    "from sklearn.ensemble import RandomForestClassifier\n",
    "from sklearn.linear_model import LogisticRegression \n",
    "from sklearn.metrics import accuracy_score\n",
    "from sklearn.dummy import DummyClassifier\n",
    "\n",
    "# задаем константы\n",
    "RAND_ST = 12345\n",
    "\n",
    "# загружаем данные \n",
    "data = pd.read_csv('/datasets/users_behavior.csv', sep=',')"
   ]
  },
  {
   "cell_type": "code",
   "execution_count": 3,
   "metadata": {},
   "outputs": [
    {
     "name": "stdout",
     "output_type": "stream",
     "text": [
      "<class 'pandas.core.frame.DataFrame'>\n",
      "RangeIndex: 3214 entries, 0 to 3213\n",
      "Data columns (total 5 columns):\n",
      " #   Column    Non-Null Count  Dtype  \n",
      "---  ------    --------------  -----  \n",
      " 0   calls     3214 non-null   float64\n",
      " 1   minutes   3214 non-null   float64\n",
      " 2   messages  3214 non-null   float64\n",
      " 3   mb_used   3214 non-null   float64\n",
      " 4   is_ultra  3214 non-null   int64  \n",
      "dtypes: float64(4), int64(1)\n",
      "memory usage: 125.7 KB\n"
     ]
    }
   ],
   "source": [
    "# смотрим общее инфо\n",
    "data.info()"
   ]
  },
  {
   "cell_type": "code",
   "execution_count": 4,
   "metadata": {},
   "outputs": [
    {
     "data": {
      "text/html": [
       "<div>\n",
       "<style scoped>\n",
       "    .dataframe tbody tr th:only-of-type {\n",
       "        vertical-align: middle;\n",
       "    }\n",
       "\n",
       "    .dataframe tbody tr th {\n",
       "        vertical-align: top;\n",
       "    }\n",
       "\n",
       "    .dataframe thead th {\n",
       "        text-align: right;\n",
       "    }\n",
       "</style>\n",
       "<table border=\"1\" class=\"dataframe\">\n",
       "  <thead>\n",
       "    <tr style=\"text-align: right;\">\n",
       "      <th></th>\n",
       "      <th>calls</th>\n",
       "      <th>minutes</th>\n",
       "      <th>messages</th>\n",
       "      <th>mb_used</th>\n",
       "      <th>is_ultra</th>\n",
       "    </tr>\n",
       "  </thead>\n",
       "  <tbody>\n",
       "    <tr>\n",
       "      <th>0</th>\n",
       "      <td>40.0</td>\n",
       "      <td>311.90</td>\n",
       "      <td>83.0</td>\n",
       "      <td>19915.42</td>\n",
       "      <td>0</td>\n",
       "    </tr>\n",
       "    <tr>\n",
       "      <th>1</th>\n",
       "      <td>85.0</td>\n",
       "      <td>516.75</td>\n",
       "      <td>56.0</td>\n",
       "      <td>22696.96</td>\n",
       "      <td>0</td>\n",
       "    </tr>\n",
       "    <tr>\n",
       "      <th>2</th>\n",
       "      <td>77.0</td>\n",
       "      <td>467.66</td>\n",
       "      <td>86.0</td>\n",
       "      <td>21060.45</td>\n",
       "      <td>0</td>\n",
       "    </tr>\n",
       "    <tr>\n",
       "      <th>3</th>\n",
       "      <td>106.0</td>\n",
       "      <td>745.53</td>\n",
       "      <td>81.0</td>\n",
       "      <td>8437.39</td>\n",
       "      <td>1</td>\n",
       "    </tr>\n",
       "    <tr>\n",
       "      <th>4</th>\n",
       "      <td>66.0</td>\n",
       "      <td>418.74</td>\n",
       "      <td>1.0</td>\n",
       "      <td>14502.75</td>\n",
       "      <td>0</td>\n",
       "    </tr>\n",
       "  </tbody>\n",
       "</table>\n",
       "</div>"
      ],
      "text/plain": [
       "   calls  minutes  messages   mb_used  is_ultra\n",
       "0   40.0   311.90      83.0  19915.42         0\n",
       "1   85.0   516.75      56.0  22696.96         0\n",
       "2   77.0   467.66      86.0  21060.45         0\n",
       "3  106.0   745.53      81.0   8437.39         1\n",
       "4   66.0   418.74       1.0  14502.75         0"
      ]
     },
     "metadata": {},
     "output_type": "display_data"
    },
    {
     "data": {
      "text/html": [
       "<div>\n",
       "<style scoped>\n",
       "    .dataframe tbody tr th:only-of-type {\n",
       "        vertical-align: middle;\n",
       "    }\n",
       "\n",
       "    .dataframe tbody tr th {\n",
       "        vertical-align: top;\n",
       "    }\n",
       "\n",
       "    .dataframe thead th {\n",
       "        text-align: right;\n",
       "    }\n",
       "</style>\n",
       "<table border=\"1\" class=\"dataframe\">\n",
       "  <thead>\n",
       "    <tr style=\"text-align: right;\">\n",
       "      <th></th>\n",
       "      <th>calls</th>\n",
       "      <th>minutes</th>\n",
       "      <th>messages</th>\n",
       "      <th>mb_used</th>\n",
       "      <th>is_ultra</th>\n",
       "    </tr>\n",
       "  </thead>\n",
       "  <tbody>\n",
       "    <tr>\n",
       "      <th>3209</th>\n",
       "      <td>122.0</td>\n",
       "      <td>910.98</td>\n",
       "      <td>20.0</td>\n",
       "      <td>35124.90</td>\n",
       "      <td>1</td>\n",
       "    </tr>\n",
       "    <tr>\n",
       "      <th>3210</th>\n",
       "      <td>25.0</td>\n",
       "      <td>190.36</td>\n",
       "      <td>0.0</td>\n",
       "      <td>3275.61</td>\n",
       "      <td>0</td>\n",
       "    </tr>\n",
       "    <tr>\n",
       "      <th>3211</th>\n",
       "      <td>97.0</td>\n",
       "      <td>634.44</td>\n",
       "      <td>70.0</td>\n",
       "      <td>13974.06</td>\n",
       "      <td>0</td>\n",
       "    </tr>\n",
       "    <tr>\n",
       "      <th>3212</th>\n",
       "      <td>64.0</td>\n",
       "      <td>462.32</td>\n",
       "      <td>90.0</td>\n",
       "      <td>31239.78</td>\n",
       "      <td>0</td>\n",
       "    </tr>\n",
       "    <tr>\n",
       "      <th>3213</th>\n",
       "      <td>80.0</td>\n",
       "      <td>566.09</td>\n",
       "      <td>6.0</td>\n",
       "      <td>29480.52</td>\n",
       "      <td>1</td>\n",
       "    </tr>\n",
       "  </tbody>\n",
       "</table>\n",
       "</div>"
      ],
      "text/plain": [
       "      calls  minutes  messages   mb_used  is_ultra\n",
       "3209  122.0   910.98      20.0  35124.90         1\n",
       "3210   25.0   190.36       0.0   3275.61         0\n",
       "3211   97.0   634.44      70.0  13974.06         0\n",
       "3212   64.0   462.32      90.0  31239.78         0\n",
       "3213   80.0   566.09       6.0  29480.52         1"
      ]
     },
     "execution_count": 4,
     "metadata": {},
     "output_type": "execute_result"
    }
   ],
   "source": [
    "# выводим первые и последние строки\n",
    "display(data.head())\n",
    "data.tail()"
   ]
  },
  {
   "cell_type": "markdown",
   "metadata": {},
   "source": [
    "### Вывод по первому шагу\n",
    "\n",
    "  - **Данные предобработаны**, пропусков нет, тип данных указан верно, данные распределены по категориям 1, 0 (колонка is_ultra)."
   ]
  },
  {
   "cell_type": "markdown",
   "metadata": {},
   "source": [
    "## Разделение данных на выборкии"
   ]
  },
  {
   "cell_type": "code",
   "execution_count": 5,
   "metadata": {},
   "outputs": [
    {
     "name": "stdout",
     "output_type": "stream",
     "text": [
      "(2249, 5)\n",
      "(482, 5)\n",
      "(483, 5)\n"
     ]
    }
   ],
   "source": [
    "# делим датасет на три выборки(тренировочную(70%), валидационную(15%) и тестовую(15%)\n",
    "data_train, data_test1 = train_test_split(data, \n",
    "                                          test_size=0.3, \n",
    "                                          random_state=RAND_ST)\n",
    "\n",
    "data_test, data_val=train_test_split(data_test1, \n",
    "                                     test_size=0.5, \n",
    "                                     random_state=RAND_ST)\n",
    "# проверяем\n",
    "print(data_train.shape)\n",
    "print(data_test.shape)\n",
    "print(data_val.shape)"
   ]
  },
  {
   "cell_type": "code",
   "execution_count": 6,
   "metadata": {},
   "outputs": [
    {
     "name": "stdout",
     "output_type": "stream",
     "text": [
      "(2249, 4)\n",
      "(2249,)\n",
      "(483, 4)\n",
      "(483,)\n",
      "(482, 4)\n",
      "(482,)\n"
     ]
    }
   ],
   "source": [
    "# выделяем в каждой выборке признаки и целевой признак (создаем переменные)\n",
    "data_train_features = data_train.drop(['is_ultra'], axis=1)\n",
    "data_train_target = data_train['is_ultra']\n",
    "\n",
    "data_val_features = data_val.drop(['is_ultra'], axis=1)\n",
    "data_val_target = data_val['is_ultra']\n",
    "\n",
    "data_test_features = data_test.drop(['is_ultra'], axis=1)\n",
    "data_test_target = data_test['is_ultra']\n",
    "\n",
    "# проверяем\n",
    "print(data_train_features.shape)\n",
    "print(data_train_target.shape)\n",
    "print(data_val_features.shape)\n",
    "print(data_val_target.shape)\n",
    "print(data_test_features.shape)\n",
    "print(data_test_target.shape) "
   ]
  },
  {
   "cell_type": "markdown",
   "metadata": {},
   "source": [
    "### Вывод по второму шагу\n",
    "\n",
    "  - **Разбили** датасет **на три выборки**: тренировочную - **70%** данных, валидационную - **15%** и тестовую - **15%**.\n",
    "   \n",
    "   \n",
    "  - **Выделили** из каждой выборки датафрейм с **признаками** и  колонку с **целевым признаком**. "
   ]
  },
  {
   "cell_type": "markdown",
   "metadata": {},
   "source": [
    "## Исследование моделей"
   ]
  },
  {
   "cell_type": "markdown",
   "metadata": {},
   "source": [
    "### Подбор гиперпараметров"
   ]
  },
  {
   "cell_type": "code",
   "execution_count": 7,
   "metadata": {},
   "outputs": [
    {
     "name": "stdout",
     "output_type": "stream",
     "text": [
      "Accuracy наилучшей модели 'Дерева решений' на валидационной выборке: 0.7888198757763976\n",
      "Максимальная глубина: 3\n",
      "Минимальное количество примеров для разделений: 2\n",
      "Минимальное количество объектов в листе: 1\n"
     ]
    }
   ],
   "source": [
    "# выбираем лучшие гиперпараметры для Дерева решений \n",
    "# создаем списки \n",
    "best_model = None\n",
    "best_result = 0\n",
    "best_depth_tree = 0\n",
    "best_min_samples_split = 0\n",
    "best_min_samples_leaf = 0\n",
    "\n",
    "# задаем цикл для выбора гиперпараметров \n",
    "for depth in range(1,6):\n",
    "    for leaf in range(1,8):\n",
    "        for split in range(2,10,2):\n",
    "            # инициализируем модель\n",
    "            model = DecisionTreeClassifier(random_state=12345,\n",
    "                                       min_samples_split = split, \n",
    "                                       min_samples_leaf = leaf,\n",
    "                                       max_depth = depth)\n",
    "            # обучаем модель на тренировочной выборке\n",
    "            model.fit(data_train_features, data_train_target)\n",
    "            # получаем предсказания модели на валидационной выборке\n",
    "            predictions_valid = model.predict(data_val_features)\n",
    "            # считаем значение метрики accuracy на валидационной выборке \n",
    "            result_valid = accuracy_score(data_val_target, predictions_valid)\n",
    "            # выбираем лучшие гиперпараметры\n",
    "            if result_valid > best_result:\n",
    "                best_model = model\n",
    "                best_result = result_valid\n",
    "                best_depth_tree = depth\n",
    "                best_min_samples_split = split\n",
    "                best_min_samples_leaf = leaf\n",
    "# выводим лучшие значения accuracy и гиперпараметров      \n",
    "print(\"Accuracy наилучшей модели 'Дерева решений' на валидационной выборке:\", best_result)\n",
    "print(\"Максимальная глубина:\", best_depth_tree)  \n",
    "print(\"Минимальное количество примеров для разделений:\", best_min_samples_split)\n",
    "print(\"Минимальное количество объектов в листе:\", best_min_samples_leaf)              "
   ]
  },
  {
   "cell_type": "code",
   "execution_count": 8,
   "metadata": {},
   "outputs": [
    {
     "name": "stdout",
     "output_type": "stream",
     "text": [
      "Accuracy наилучшей модели 'Логистической регрессии' на валидационной выборке: 0.7412008281573499\n",
      "Количество итераций: 2000\n",
      "Алгоритм: lbfgs\n"
     ]
    }
   ],
   "source": [
    "# выбираем лучший алгоритм и максимальное число итераций для Логистической регрессии \n",
    "# создаем списки\n",
    "best_model = None\n",
    "best_result = 0\n",
    "best_max_iter = 0\n",
    "best_solver = []\n",
    "solvers = ['lbfgs','newton-cg', 'liblinear']\n",
    "\n",
    "# задаем число максимальных итераций от 100 до 2000 с шагом 50\n",
    "# и алгоритм\n",
    "for max_iter in range(100, 2001, 50):\n",
    "    for solver in solvers:\n",
    "        # инициализируем модель\n",
    "        model = LogisticRegression(random_state=12345, \n",
    "                                   solver=solver, \n",
    "                                   max_iter=max_iter)\n",
    "        # обучаем модель на тренировочной выборке\n",
    "        model.fit(data_train_features, data_train_target)\n",
    "        # получаем предсказания модели на валидационной выборке \n",
    "        predictions_valid = model.predict(data_val_features)\n",
    "        # считаем значение метрики accuracy на валидационной выборке \n",
    "        result_valid = accuracy_score(data_val_target, predictions_valid)\n",
    "        # выбираем лучшие гиперпараметры max_iter и solver\n",
    "        if result_valid > best_result:\n",
    "            best_model = model\n",
    "            best_result = result_valid\n",
    "            best_max_iter = max_iter\n",
    "            best_solver = solver            \n",
    "                \n",
    "# выводим лучшие значения accuracy, количества итераций и лучший алгоритм \n",
    "print(\"Accuracy наилучшей модели 'Логистической регрессии' на валидационной выборке:\", best_result)\n",
    "print(\"Количество итераций:\", max_iter)\n",
    "print(\"Алгоритм:\", best_solver)"
   ]
  },
  {
   "cell_type": "code",
   "execution_count": 9,
   "metadata": {},
   "outputs": [
    {
     "name": "stdout",
     "output_type": "stream",
     "text": [
      "Accuracy наилучшей модели 'Случайного леса' на валидационной выборке: 0.8260869565217391\n",
      "Количество деревьев: 40\n",
      "Максимальная глубина: 8\n",
      "Критерий: gini\n"
     ]
    }
   ],
   "source": [
    "# выбираем лучший гиперпараметр глубины, количества деревьев и критерий (entropy, gini)\n",
    "# для Случайного леса \n",
    "\n",
    "# создаем списки\n",
    "best_model = None\n",
    "best_result = 0\n",
    "best_est = 0\n",
    "best_depth_forest = 0\n",
    "best_criterion = []\n",
    "criterions = ['entropy','gini']\n",
    "\n",
    "# задаем гиперпараметры количества деревьев до 50 с шагом 10,\n",
    "# глубины от 1 до 10\n",
    "# и критерий: entropy или gini\n",
    "for est in range(10, 51, 10):\n",
    "    for depth in range (1, 11):\n",
    "        for criterion in criterions:\n",
    "            # инициализируем модель\n",
    "            model = RandomForestClassifier(random_state=12345,\n",
    "                            n_estimators=est,\n",
    "                            max_depth=depth,\n",
    "                            criterion=criterion)\n",
    "            # обучаем модель на тренировочной выборке\n",
    "            model.fit(data_train_features, data_train_target)\n",
    "            # получаем предсказания модели на валидационной выборке \n",
    "            predictions_valid = model.predict(data_val_features)\n",
    "            # считаем значение метрики accuracy на валидационной выборке \n",
    "            result_valid = accuracy_score(data_val_target, predictions_valid)\n",
    "            # выбираем модель с гиперпараметрами лучшего accuracy\n",
    "            if result_valid > best_result:\n",
    "                best_model = model\n",
    "                best_result = result_valid\n",
    "                best_est = est\n",
    "                best_depth_forest = depth\n",
    "                best_criterion = criterion\n",
    "# выводим лучшее значение accuracy, количества деревьев, глубины и критерия      \n",
    "print(\"Accuracy наилучшей модели 'Случайного леса' на валидационной выборке:\", best_result)\n",
    "print(\"Количество деревьев:\", best_est)\n",
    "print(\"Максимальная глубина:\", best_depth_forest)\n",
    "print(\"Критерий:\", best_criterion)"
   ]
  },
  {
   "cell_type": "markdown",
   "metadata": {},
   "source": [
    "### Вывод по третьему шагу: сравнение  **accuracy** разных моделей\n",
    "\n",
    "  - Исследовали модель **\"Дерево решений\"** с **разными** гиперпараметрами:\n",
    "     \n",
    "     - наилучшее качество (**0.7888198757763976**) показала модель с **глубиной дерева 3**, минимальным количеством примеров для разделений: 2 и минимальным количеством объектов в листе: 1.\n",
    "     \n",
    " \n",
    "  - Исследовали модель **\"Логистическая регрессия\"** с гиперпараметрами  **solver** и **max_iter**:\n",
    "     \n",
    "     - наилучшее качество (**0.7412008281573499**) показала модель с количеством **итераций 2000** и алгоритмом **\"newton-cg\"**.  \n",
    "\n",
    "\n",
    "  - Исследовали модель **\"Случайный лес\"** с гиперпараметрами **n_estimators, max_depth** и **criterion**:\n",
    "  \n",
    "     - наилучшее качество (**0.8260869565217391**) показала модель с количеством **деревьев 40**, **глубиной** дерева **8** и критерием **\"gini\"**. \n",
    "\n",
    "\n",
    "  - **Лучшее accuracy** среди всех моделей на валидационной выборке показала модель **\"Случайный лес\"**"
   ]
  },
  {
   "cell_type": "markdown",
   "metadata": {},
   "source": [
    "## Проверка моделей на тестовой выборке"
   ]
  },
  {
   "cell_type": "markdown",
   "metadata": {},
   "source": [
    "### Проверка  accuracy моделей c  отобранными гиперпараметрами на тестовой выборке"
   ]
  },
  {
   "cell_type": "code",
   "execution_count": 10,
   "metadata": {},
   "outputs": [
    {
     "name": "stdout",
     "output_type": "stream",
     "text": [
      "Accuracy 'Дерева решений'\n",
      "Тренировочная выборка: 0.8016896398399288\n",
      "Валидационная выборка: 0.7888198757763976\n",
      "Тестовая выборка: 0.7863070539419087\n"
     ]
    }
   ],
   "source": [
    "# инициализируем модель дерева решений с отобранными гиперпараметрами\n",
    "model = DecisionTreeClassifier(random_state=12345, \n",
    "                               max_depth = best_depth_tree,\n",
    "                               min_samples_split = best_min_samples_split, \n",
    "                               min_samples_leaf = best_min_samples_leaf)\n",
    "\n",
    "# обучаем модель на тренировочной выборке\n",
    "model.fit(data_train_features, data_train_target)\n",
    "\n",
    "# предсказываем на тренировочной выборке \n",
    "train_predictions = model.predict(data_train_features)\n",
    "# рассчитываем accuracy на тренировочной выборке\n",
    "accuracy_train_tree = accuracy_score(data_train_target, train_predictions)\n",
    "\n",
    "# предсказываем на валидацинной выборке \n",
    "valid_predictions = model.predict(data_val_features)\n",
    "# рассчитываем accuracy на валидационной выборке\n",
    "accuracy_valid_tree = accuracy_score(data_val_target, valid_predictions)\n",
    "\n",
    "# предсказываем на тестовой выборке \n",
    "test_predictions = model.predict(data_test_features)\n",
    "# рассчитываем accuracy на тестовой выборке\n",
    "accuracy_test_tree = accuracy_score(data_test_target, test_predictions)\n",
    "\n",
    "# сравниваем результаты\n",
    "print(\"Accuracy 'Дерева решений'\")\n",
    "print(\"Тренировочная выборка:\", accuracy_train_tree) \n",
    "print(\"Валидационная выборка:\", accuracy_valid_tree) \n",
    "print(\"Тестовая выборка:\", accuracy_test_tree)"
   ]
  },
  {
   "cell_type": "code",
   "execution_count": 11,
   "metadata": {},
   "outputs": [
    {
     "name": "stdout",
     "output_type": "stream",
     "text": [
      "Accuracy 'Логистической регрессии'\n",
      "Тренировочная выборка: 0.7412183192530013\n",
      "Валидационная выборка: 0.7412008281573499\n",
      "Тестовая выборка: 0.7717842323651453\n"
     ]
    }
   ],
   "source": [
    "# инициализируем модель логистической регрессии с отобранными гиперпараметрами\n",
    "model = LogisticRegression(random_state=12345, \n",
    "                           solver=best_solver, \n",
    "                           max_iter=best_max_iter)\n",
    "\n",
    "# обучаем модель на тренировочной выборке\n",
    "model.fit(data_train_features, data_train_target)\n",
    "\n",
    "# предсказываем на тренировочной выборке \n",
    "train_predictions = model.predict(data_train_features)\n",
    "# рассчитываем accuracy на тренировочной выборке\n",
    "accuracy_train_logistic = accuracy_score(data_train_target, train_predictions)\n",
    "\n",
    "# предсказываем на валидацинной выборке \n",
    "valid_predictions = model.predict(data_val_features)\n",
    "# рассчитываем accuracy на валидационной выборке\n",
    "accuracy_valid_logistic = accuracy_score(data_val_target, valid_predictions)\n",
    "\n",
    "# предсказываем на тестовой выборке \n",
    "test_predictions = model.predict(data_test_features)\n",
    "# рассчитываем accuracy на тестовой выборке\n",
    "accuracy_test_logistic = accuracy_score(data_test_target, test_predictions)\n",
    "\n",
    "# сравниваем результаты\n",
    "print(\"Accuracy 'Логистической регрессии'\")\n",
    "print(\"Тренировочная выборка:\", accuracy_train_logistic) \n",
    "print(\"Валидационная выборка:\", accuracy_valid_logistic) \n",
    "print(\"Тестовая выборка:\", accuracy_test_logistic)"
   ]
  },
  {
   "cell_type": "code",
   "execution_count": 12,
   "metadata": {},
   "outputs": [
    {
     "name": "stdout",
     "output_type": "stream",
     "text": [
      "Accuracy 'Cлучайного леса'\n",
      "Тренировочная выборка: 0.8723877278790574\n",
      "Валидационная выборка: 0.8260869565217391\n",
      "Тестовая выборка: 0.8008298755186722\n"
     ]
    }
   ],
   "source": [
    "# инициализируем модель случайного леса с отобранными гиперпараметрами\n",
    "model = RandomForestClassifier(random_state=12345,\n",
    "                        n_estimators=best_est,\n",
    "                        max_depth= best_depth_forest,\n",
    "                        criterion = best_criterion)\n",
    "# обучаем модель на тренировочной выборке\n",
    "model.fit(data_train_features, data_train_target)\n",
    "\n",
    "# предсказываем на тренировочной выборке \n",
    "train_predictions = model.predict(data_train_features)\n",
    "# рассчитываем accuracy на тренировочной выборке\n",
    "accuracy_train_forest = accuracy_score(data_train_target, train_predictions)\n",
    "\n",
    "# предсказываем на валидацинной выборке \n",
    "valid_predictions = model.predict(data_val_features)\n",
    "# рассчитываем accuracy на валидационной выборке\n",
    "accuracy_valid_forest = accuracy_score(data_val_target, valid_predictions)\n",
    "\n",
    "# предсказываем на тестовой выборке \n",
    "test_predictions = model.predict(data_test_features)\n",
    "# рассчитываем accuracy на тестовой выборке\n",
    "accuracy_test_forest = accuracy_score(data_test_target, test_predictions)\n",
    "\n",
    "# сравниваем результаты\n",
    "print(\"Accuracy 'Cлучайного леса'\")\n",
    "print(\"Тренировочная выборка:\", accuracy_train_forest) \n",
    "print(\"Валидационная выборка:\", accuracy_valid_forest) \n",
    "print(\"Тестовая выборка:\", accuracy_test_forest)"
   ]
  },
  {
   "cell_type": "code",
   "execution_count": 13,
   "metadata": {},
   "outputs": [
    {
     "name": "stdout",
     "output_type": "stream",
     "text": [
      "Accuracy 'Случайного леса': 0.8008298755186722\n",
      "Accuracy 'Дерева решений': 0.7863070539419087\n",
      "Accuracy 'Логистической регрессии': 0.7717842323651453\n"
     ]
    }
   ],
   "source": [
    "# сравниваем Accuracy разных моделей на тестовой выборке\n",
    "print(\"Accuracy 'Случайного леса':\", accuracy_test_forest)\n",
    "print(\"Accuracy 'Дерева решений':\", accuracy_test_tree)\n",
    "print(\"Accuracy 'Логистической регрессии':\", accuracy_test_logistic)"
   ]
  },
  {
   "cell_type": "markdown",
   "metadata": {},
   "source": [
    "### Вывод по четвертому шагу: сравнение accuracy моделей на тестовой выборке\n",
    "\n",
    "   - В результате прогона моделей на тестовой выборке и сравнения с обучением и валидацией получилось такая картина: \n",
    "  \n",
    "  \n",
    "   - **Наибольшая accuracy** на **тренировочной выборке** - у модели **\"Случайный лес\"** - **0.8723877278790574**, при этом **не все** модели набрали **больше 0.75**: **\"Логистическая регрессия\"** - всего **0.7412183192530013**.\n",
    "    \n",
    "    \n",
    "   - **На валидационной** выборке результаты теста не отличаются распределением итогов - только результатами:\n",
    "       **на первом месте** снова **\"Случайный лес\"** - **0.8260869565217391**.\n",
    "    \n",
    "    \n",
    "   - **На тестовой выборке** лидером, предсказуемо, стала модель **\"Случайный лес\"** - **0.8008298755186722**. На последнем месте **\"Логистическая регрессия\"** -  **0.7717842323651453**, на втором - **\"Дерево решений\"** - **0.7863070539419087**.\n",
    "    \n",
    "    \n",
    "   - **У всех** моделей доля правильных ответов на тестовой выборке **больше 0.75**."
   ]
  },
  {
   "cell_type": "markdown",
   "metadata": {},
   "source": [
    "## Проверка моделей на адекватность"
   ]
  },
  {
   "cell_type": "markdown",
   "metadata": {},
   "source": [
    "- **Проверим модели на вменяемость**: сравним с DummyClassifier."
   ]
  },
  {
   "cell_type": "code",
   "execution_count": 14,
   "metadata": {},
   "outputs": [
    {
     "data": {
      "text/plain": [
       "0.6950207468879668"
      ]
     },
     "execution_count": 14,
     "metadata": {},
     "output_type": "execute_result"
    }
   ],
   "source": [
    "# инициализируем константную модель\n",
    "model = DummyClassifier(strategy=\"most_frequent\") \n",
    "# обучаем модель на тренировочной выборке\n",
    "model.fit(data_train_features, data_train_target)\n",
    "# предсказываем на тестовой выборке \n",
    "dummy_test_predictions = model.predict(data_test_features)\n",
    "#рассчитываем accuracy на тестовой выборке\n",
    "accuracy_dummy = accuracy_score(data_test_target, dummy_test_predictions)\n",
    "#выводим значение accuracy\n",
    "accuracy_dummy"
   ]
  },
  {
   "cell_type": "markdown",
   "metadata": {},
   "source": [
    "### Вывод по пятому шагу\n",
    "\n",
    "  - Проверка показала, что **все модели вменяемы**: у **модели-\"дурочки\"**, чьи ответы формируются случайным образом, **доля правильных ответов** существенно меньше, чем у любой другой модели: **0.6950207468879668**."
   ]
  },
  {
   "cell_type": "markdown",
   "metadata": {},
   "source": [
    "## Общий вывод\n",
    "\n",
    " -  В процессе работы над проектом мы: \n",
    "   \n",
    "   - ознакомились с данными;\n",
    "   - успешно разбили их на выборки;\n",
    "   - исследовали качество разных моделей;\n",
    "   - проверили качество на тестовой выборке;\n",
    "   - проверили модели на вменяемость.\n",
    "   \n",
    "   \n",
    " - **Лучший показатель** accuracy (**0.8008298755186722**) в итоге получился у модели **\"Случайный лес\"** с количеством **деревьев: 40**, максимальной **глубиной: 8**, **критерием: \"gini\"** и **random_state: 12345**. Модель оказалась вменяемой."
   ]
  }
 ],
 "metadata": {
  "ExecuteTimeLog": [
   {
    "duration": 410,
    "start_time": "2023-08-19T19:38:34.608Z"
   },
   {
    "duration": 79,
    "start_time": "2023-08-19T19:39:11.709Z"
   },
   {
    "duration": 412,
    "start_time": "2023-08-19T19:39:19.027Z"
   },
   {
    "duration": 12,
    "start_time": "2023-08-19T19:39:32.899Z"
   },
   {
    "duration": 1186,
    "start_time": "2023-08-19T19:46:51.132Z"
   },
   {
    "duration": 11,
    "start_time": "2023-08-19T19:46:52.321Z"
   },
   {
    "duration": 1498,
    "start_time": "2023-08-20T18:59:27.721Z"
   },
   {
    "duration": 17,
    "start_time": "2023-08-20T18:59:42.577Z"
   },
   {
    "duration": 121,
    "start_time": "2023-08-20T19:04:27.880Z"
   },
   {
    "duration": 11,
    "start_time": "2023-08-20T19:04:33.283Z"
   },
   {
    "duration": 1105,
    "start_time": "2023-08-20T19:05:10.300Z"
   },
   {
    "duration": 12,
    "start_time": "2023-08-20T19:05:11.407Z"
   },
   {
    "duration": 1278,
    "start_time": "2023-08-20T19:48:49.335Z"
   },
   {
    "duration": 12,
    "start_time": "2023-08-20T19:48:50.615Z"
   },
   {
    "duration": 7,
    "start_time": "2023-08-20T19:48:50.628Z"
   },
   {
    "duration": 1557,
    "start_time": "2023-08-20T19:50:05.910Z"
   },
   {
    "duration": 13,
    "start_time": "2023-08-20T19:50:07.471Z"
   },
   {
    "duration": 10,
    "start_time": "2023-08-20T19:50:07.485Z"
   },
   {
    "duration": 1348,
    "start_time": "2023-08-21T11:27:31.596Z"
   },
   {
    "duration": 0,
    "start_time": "2023-08-21T11:27:32.947Z"
   },
   {
    "duration": 0,
    "start_time": "2023-08-21T11:27:32.948Z"
   },
   {
    "duration": 0,
    "start_time": "2023-08-21T11:27:32.950Z"
   },
   {
    "duration": 0,
    "start_time": "2023-08-21T11:27:32.952Z"
   },
   {
    "duration": 0,
    "start_time": "2023-08-21T11:27:32.953Z"
   },
   {
    "duration": 0,
    "start_time": "2023-08-21T11:27:32.954Z"
   },
   {
    "duration": 0,
    "start_time": "2023-08-21T11:27:32.954Z"
   },
   {
    "duration": 0,
    "start_time": "2023-08-21T11:27:32.955Z"
   },
   {
    "duration": 0,
    "start_time": "2023-08-21T11:27:32.956Z"
   },
   {
    "duration": 1247,
    "start_time": "2023-08-21T11:28:16.547Z"
   },
   {
    "duration": 12,
    "start_time": "2023-08-21T11:28:17.796Z"
   },
   {
    "duration": 7,
    "start_time": "2023-08-21T11:28:17.810Z"
   },
   {
    "duration": 8,
    "start_time": "2023-08-21T11:28:17.819Z"
   },
   {
    "duration": 23,
    "start_time": "2023-08-21T11:28:17.829Z"
   },
   {
    "duration": 55,
    "start_time": "2023-08-21T11:28:17.854Z"
   },
   {
    "duration": 4200,
    "start_time": "2023-08-21T11:28:17.911Z"
   },
   {
    "duration": 22,
    "start_time": "2023-08-21T11:28:22.113Z"
   },
   {
    "duration": 211,
    "start_time": "2023-08-21T11:28:22.137Z"
   },
   {
    "duration": 6,
    "start_time": "2023-08-21T11:28:22.351Z"
   },
   {
    "duration": 1282,
    "start_time": "2023-08-21T19:22:32.445Z"
   },
   {
    "duration": 11,
    "start_time": "2023-08-21T19:22:33.730Z"
   },
   {
    "duration": 33,
    "start_time": "2023-08-21T19:22:33.743Z"
   },
   {
    "duration": 6,
    "start_time": "2023-08-21T19:22:33.778Z"
   },
   {
    "duration": 8,
    "start_time": "2023-08-21T19:22:33.786Z"
   },
   {
    "duration": 15,
    "start_time": "2023-08-21T19:22:33.795Z"
   },
   {
    "duration": 56,
    "start_time": "2023-08-21T19:22:33.812Z"
   },
   {
    "duration": 5482,
    "start_time": "2023-08-21T19:22:33.870Z"
   },
   {
    "duration": 8157,
    "start_time": "2023-08-21T19:22:39.354Z"
   },
   {
    "duration": 15,
    "start_time": "2023-08-21T19:22:47.513Z"
   },
   {
    "duration": 142,
    "start_time": "2023-08-21T19:22:47.529Z"
   },
   {
    "duration": 163,
    "start_time": "2023-08-21T19:22:47.673Z"
   },
   {
    "duration": 4,
    "start_time": "2023-08-21T19:22:47.837Z"
   },
   {
    "duration": 8,
    "start_time": "2023-08-21T19:22:47.856Z"
   },
   {
    "duration": 5354,
    "start_time": "2023-08-21T19:25:00.872Z"
   },
   {
    "duration": 5438,
    "start_time": "2023-08-21T19:27:25.097Z"
   },
   {
    "duration": 133,
    "start_time": "2023-08-21T19:30:12.004Z"
   },
   {
    "duration": 123,
    "start_time": "2023-08-21T19:30:29.681Z"
   },
   {
    "duration": 14,
    "start_time": "2023-08-21T19:31:08.054Z"
   },
   {
    "duration": 23,
    "start_time": "2023-08-21T19:31:24.957Z"
   },
   {
    "duration": 124,
    "start_time": "2023-08-21T19:31:39.469Z"
   },
   {
    "duration": 109,
    "start_time": "2023-08-21T19:32:29.016Z"
   },
   {
    "duration": 118,
    "start_time": "2023-08-21T19:32:52.602Z"
   },
   {
    "duration": 1102,
    "start_time": "2023-08-21T19:37:26.912Z"
   },
   {
    "duration": 11,
    "start_time": "2023-08-21T19:37:28.016Z"
   },
   {
    "duration": 31,
    "start_time": "2023-08-21T19:37:28.029Z"
   },
   {
    "duration": 27,
    "start_time": "2023-08-21T19:37:28.063Z"
   },
   {
    "duration": 25,
    "start_time": "2023-08-21T19:37:28.091Z"
   },
   {
    "duration": 20,
    "start_time": "2023-08-21T19:37:28.118Z"
   },
   {
    "duration": 43,
    "start_time": "2023-08-21T19:37:28.140Z"
   },
   {
    "duration": 5560,
    "start_time": "2023-08-21T19:37:28.184Z"
   },
   {
    "duration": 8268,
    "start_time": "2023-08-21T19:37:33.746Z"
   },
   {
    "duration": 15,
    "start_time": "2023-08-21T19:37:42.016Z"
   },
   {
    "duration": 153,
    "start_time": "2023-08-21T19:37:42.032Z"
   },
   {
    "duration": 151,
    "start_time": "2023-08-21T19:37:42.187Z"
   },
   {
    "duration": 4,
    "start_time": "2023-08-21T19:37:42.340Z"
   },
   {
    "duration": 16,
    "start_time": "2023-08-21T19:37:42.356Z"
   },
   {
    "duration": 1190,
    "start_time": "2023-08-22T05:32:01.860Z"
   },
   {
    "duration": 15,
    "start_time": "2023-08-22T05:32:03.052Z"
   },
   {
    "duration": 52,
    "start_time": "2023-08-22T05:32:03.069Z"
   },
   {
    "duration": 11,
    "start_time": "2023-08-22T05:32:03.122Z"
   },
   {
    "duration": 12,
    "start_time": "2023-08-22T05:32:03.136Z"
   },
   {
    "duration": 17,
    "start_time": "2023-08-22T05:32:03.150Z"
   },
   {
    "duration": 63,
    "start_time": "2023-08-22T05:32:03.168Z"
   },
   {
    "duration": 106,
    "start_time": "2023-08-22T05:32:03.233Z"
   },
   {
    "duration": 0,
    "start_time": "2023-08-22T05:32:03.342Z"
   },
   {
    "duration": 0,
    "start_time": "2023-08-22T05:32:03.343Z"
   },
   {
    "duration": 0,
    "start_time": "2023-08-22T05:32:03.344Z"
   },
   {
    "duration": 0,
    "start_time": "2023-08-22T05:32:03.346Z"
   },
   {
    "duration": 0,
    "start_time": "2023-08-22T05:32:03.347Z"
   },
   {
    "duration": 0,
    "start_time": "2023-08-22T05:32:03.348Z"
   },
   {
    "duration": 5759,
    "start_time": "2023-08-22T05:32:31.376Z"
   },
   {
    "duration": 12,
    "start_time": "2023-08-22T05:32:57.602Z"
   },
   {
    "duration": 12,
    "start_time": "2023-08-22T05:33:13.614Z"
   },
   {
    "duration": 5365,
    "start_time": "2023-08-22T05:33:18.757Z"
   },
   {
    "duration": 13,
    "start_time": "2023-08-22T05:34:08.071Z"
   },
   {
    "duration": 5138,
    "start_time": "2023-08-22T05:34:44.571Z"
   },
   {
    "duration": 13,
    "start_time": "2023-08-22T05:34:50.619Z"
   },
   {
    "duration": 13,
    "start_time": "2023-08-22T05:35:49.755Z"
   },
   {
    "duration": 13,
    "start_time": "2023-08-22T05:36:02.945Z"
   },
   {
    "duration": 138,
    "start_time": "2023-08-22T05:36:18.445Z"
   },
   {
    "duration": 18,
    "start_time": "2023-08-22T05:36:39.625Z"
   },
   {
    "duration": 5580,
    "start_time": "2023-08-22T05:36:50.066Z"
   },
   {
    "duration": 1129,
    "start_time": "2023-08-22T05:40:11.468Z"
   },
   {
    "duration": 12,
    "start_time": "2023-08-22T05:40:12.598Z"
   },
   {
    "duration": 23,
    "start_time": "2023-08-22T05:40:12.614Z"
   },
   {
    "duration": 7,
    "start_time": "2023-08-22T05:40:12.639Z"
   },
   {
    "duration": 26,
    "start_time": "2023-08-22T05:40:12.648Z"
   },
   {
    "duration": 15,
    "start_time": "2023-08-22T05:40:12.676Z"
   },
   {
    "duration": 40,
    "start_time": "2023-08-22T05:40:12.693Z"
   },
   {
    "duration": 5735,
    "start_time": "2023-08-22T05:40:12.735Z"
   },
   {
    "duration": 8308,
    "start_time": "2023-08-22T05:40:18.472Z"
   },
   {
    "duration": 16,
    "start_time": "2023-08-22T05:40:26.782Z"
   },
   {
    "duration": 151,
    "start_time": "2023-08-22T05:40:26.800Z"
   },
   {
    "duration": 150,
    "start_time": "2023-08-22T05:40:26.953Z"
   },
   {
    "duration": 4,
    "start_time": "2023-08-22T05:40:27.105Z"
   },
   {
    "duration": 12,
    "start_time": "2023-08-22T05:40:27.110Z"
   },
   {
    "duration": 6027,
    "start_time": "2023-08-22T06:14:10.196Z"
   },
   {
    "duration": 1157,
    "start_time": "2023-08-22T06:35:20.660Z"
   },
   {
    "duration": 6265,
    "start_time": "2023-08-22T06:35:21.819Z"
   },
   {
    "duration": 14,
    "start_time": "2023-08-22T06:35:28.086Z"
   },
   {
    "duration": 38,
    "start_time": "2023-08-22T06:35:28.102Z"
   },
   {
    "duration": 12,
    "start_time": "2023-08-22T06:35:28.142Z"
   },
   {
    "duration": 9,
    "start_time": "2023-08-22T06:35:28.156Z"
   },
   {
    "duration": 29,
    "start_time": "2023-08-22T06:35:28.167Z"
   },
   {
    "duration": 38,
    "start_time": "2023-08-22T06:35:28.198Z"
   },
   {
    "duration": 5845,
    "start_time": "2023-08-22T06:35:28.238Z"
   },
   {
    "duration": 8548,
    "start_time": "2023-08-22T06:35:34.086Z"
   },
   {
    "duration": 25,
    "start_time": "2023-08-22T06:35:42.636Z"
   },
   {
    "duration": 148,
    "start_time": "2023-08-22T06:35:42.663Z"
   },
   {
    "duration": 166,
    "start_time": "2023-08-22T06:35:42.813Z"
   },
   {
    "duration": 4,
    "start_time": "2023-08-22T06:35:42.982Z"
   },
   {
    "duration": 7,
    "start_time": "2023-08-22T06:35:42.989Z"
   },
   {
    "duration": 2488,
    "start_time": "2023-08-22T06:36:11.089Z"
   },
   {
    "duration": 32,
    "start_time": "2023-08-22T06:36:19.845Z"
   },
   {
    "duration": 2605,
    "start_time": "2023-08-22T06:36:28.876Z"
   },
   {
    "duration": 1024,
    "start_time": "2023-08-22T06:36:31.485Z"
   },
   {
    "duration": 12,
    "start_time": "2023-08-22T06:36:32.510Z"
   },
   {
    "duration": 43,
    "start_time": "2023-08-22T06:36:32.524Z"
   },
   {
    "duration": 8,
    "start_time": "2023-08-22T06:36:32.569Z"
   },
   {
    "duration": 18,
    "start_time": "2023-08-22T06:36:32.579Z"
   },
   {
    "duration": 32,
    "start_time": "2023-08-22T06:36:32.599Z"
   },
   {
    "duration": 55,
    "start_time": "2023-08-22T06:36:32.633Z"
   },
   {
    "duration": 3418,
    "start_time": "2023-08-22T06:36:32.690Z"
   },
   {
    "duration": 9614,
    "start_time": "2023-08-22T06:36:36.110Z"
   },
   {
    "duration": 19,
    "start_time": "2023-08-22T06:36:45.726Z"
   },
   {
    "duration": 77,
    "start_time": "2023-08-22T06:36:45.759Z"
   },
   {
    "duration": 178,
    "start_time": "2023-08-22T06:36:45.838Z"
   },
   {
    "duration": 4,
    "start_time": "2023-08-22T06:36:46.018Z"
   },
   {
    "duration": 17,
    "start_time": "2023-08-22T06:36:46.024Z"
   },
   {
    "duration": 2554,
    "start_time": "2023-08-22T06:42:11.747Z"
   },
   {
    "duration": 1016,
    "start_time": "2023-08-22T06:42:14.304Z"
   },
   {
    "duration": 13,
    "start_time": "2023-08-22T06:42:15.322Z"
   },
   {
    "duration": 50,
    "start_time": "2023-08-22T06:42:15.337Z"
   },
   {
    "duration": 16,
    "start_time": "2023-08-22T06:42:15.389Z"
   },
   {
    "duration": 19,
    "start_time": "2023-08-22T06:42:15.407Z"
   },
   {
    "duration": 38,
    "start_time": "2023-08-22T06:42:15.428Z"
   },
   {
    "duration": 62,
    "start_time": "2023-08-22T06:42:15.467Z"
   },
   {
    "duration": 3172,
    "start_time": "2023-08-22T06:42:15.531Z"
   },
   {
    "duration": 9714,
    "start_time": "2023-08-22T06:42:18.705Z"
   },
   {
    "duration": 19,
    "start_time": "2023-08-22T06:42:28.421Z"
   },
   {
    "duration": 142,
    "start_time": "2023-08-22T06:42:28.441Z"
   },
   {
    "duration": 180,
    "start_time": "2023-08-22T06:42:28.585Z"
   },
   {
    "duration": 4,
    "start_time": "2023-08-22T06:42:28.767Z"
   },
   {
    "duration": 8,
    "start_time": "2023-08-22T06:42:28.773Z"
   },
   {
    "duration": 2512,
    "start_time": "2023-08-22T07:45:08.849Z"
   },
   {
    "duration": 977,
    "start_time": "2023-08-22T07:45:11.363Z"
   },
   {
    "duration": 11,
    "start_time": "2023-08-22T07:45:12.342Z"
   },
   {
    "duration": 31,
    "start_time": "2023-08-22T07:45:12.355Z"
   },
   {
    "duration": 8,
    "start_time": "2023-08-22T07:45:12.388Z"
   },
   {
    "duration": 7,
    "start_time": "2023-08-22T07:45:12.397Z"
   },
   {
    "duration": 24,
    "start_time": "2023-08-22T07:45:12.406Z"
   },
   {
    "duration": 47,
    "start_time": "2023-08-22T07:45:12.431Z"
   },
   {
    "duration": 3174,
    "start_time": "2023-08-22T07:45:12.480Z"
   },
   {
    "duration": 9147,
    "start_time": "2023-08-22T07:45:15.660Z"
   },
   {
    "duration": 17,
    "start_time": "2023-08-22T07:45:24.808Z"
   },
   {
    "duration": 85,
    "start_time": "2023-08-22T07:45:24.827Z"
   },
   {
    "duration": 177,
    "start_time": "2023-08-22T07:45:24.914Z"
   },
   {
    "duration": 4,
    "start_time": "2023-08-22T07:45:25.092Z"
   },
   {
    "duration": 9,
    "start_time": "2023-08-22T07:45:25.098Z"
   },
   {
    "duration": 2455,
    "start_time": "2023-08-22T07:50:55.555Z"
   },
   {
    "duration": 931,
    "start_time": "2023-08-22T07:50:58.013Z"
   },
   {
    "duration": 11,
    "start_time": "2023-08-22T07:50:58.946Z"
   },
   {
    "duration": 30,
    "start_time": "2023-08-22T07:50:58.959Z"
   },
   {
    "duration": 7,
    "start_time": "2023-08-22T07:50:58.991Z"
   },
   {
    "duration": 19,
    "start_time": "2023-08-22T07:50:59.000Z"
   },
   {
    "duration": 30,
    "start_time": "2023-08-22T07:50:59.021Z"
   },
   {
    "duration": 49,
    "start_time": "2023-08-22T07:50:59.052Z"
   },
   {
    "duration": 3208,
    "start_time": "2023-08-22T07:50:59.103Z"
   },
   {
    "duration": 9606,
    "start_time": "2023-08-22T07:51:02.315Z"
   },
   {
    "duration": 18,
    "start_time": "2023-08-22T07:51:11.923Z"
   },
   {
    "duration": 80,
    "start_time": "2023-08-22T07:51:11.942Z"
   },
   {
    "duration": 186,
    "start_time": "2023-08-22T07:51:12.024Z"
   },
   {
    "duration": 4,
    "start_time": "2023-08-22T07:51:12.213Z"
   },
   {
    "duration": 38,
    "start_time": "2023-08-22T07:51:12.219Z"
   },
   {
    "duration": 2443,
    "start_time": "2023-08-22T07:53:43.586Z"
   },
   {
    "duration": 1032,
    "start_time": "2023-08-22T07:53:46.032Z"
   },
   {
    "duration": 13,
    "start_time": "2023-08-22T07:53:47.065Z"
   },
   {
    "duration": 46,
    "start_time": "2023-08-22T07:53:47.079Z"
   },
   {
    "duration": 7,
    "start_time": "2023-08-22T07:53:47.127Z"
   },
   {
    "duration": 21,
    "start_time": "2023-08-22T07:53:47.135Z"
   },
   {
    "duration": 47,
    "start_time": "2023-08-22T07:53:47.158Z"
   },
   {
    "duration": 3046,
    "start_time": "2023-08-22T07:53:47.206Z"
   },
   {
    "duration": 9442,
    "start_time": "2023-08-22T07:53:50.254Z"
   },
   {
    "duration": 19,
    "start_time": "2023-08-22T07:53:59.698Z"
   },
   {
    "duration": 94,
    "start_time": "2023-08-22T07:53:59.718Z"
   },
   {
    "duration": 187,
    "start_time": "2023-08-22T07:53:59.814Z"
   },
   {
    "duration": 4,
    "start_time": "2023-08-22T07:54:00.003Z"
   },
   {
    "duration": 48,
    "start_time": "2023-08-22T07:54:00.008Z"
   },
   {
    "duration": 2562,
    "start_time": "2023-08-22T07:57:37.370Z"
   },
   {
    "duration": 1022,
    "start_time": "2023-08-22T07:57:39.935Z"
   },
   {
    "duration": 12,
    "start_time": "2023-08-22T07:57:40.959Z"
   },
   {
    "duration": 30,
    "start_time": "2023-08-22T07:57:40.973Z"
   },
   {
    "duration": 6,
    "start_time": "2023-08-22T07:57:41.005Z"
   },
   {
    "duration": 18,
    "start_time": "2023-08-22T07:57:41.012Z"
   },
   {
    "duration": 62,
    "start_time": "2023-08-22T07:57:41.032Z"
   },
   {
    "duration": 3050,
    "start_time": "2023-08-22T07:57:41.096Z"
   },
   {
    "duration": 9308,
    "start_time": "2023-08-22T07:57:44.148Z"
   },
   {
    "duration": 16,
    "start_time": "2023-08-22T07:57:53.459Z"
   },
   {
    "duration": 83,
    "start_time": "2023-08-22T07:57:53.477Z"
   },
   {
    "duration": 179,
    "start_time": "2023-08-22T07:57:53.562Z"
   },
   {
    "duration": 4,
    "start_time": "2023-08-22T07:57:53.743Z"
   },
   {
    "duration": 7,
    "start_time": "2023-08-22T07:57:53.759Z"
   },
   {
    "duration": 2924,
    "start_time": "2023-08-22T10:10:14.058Z"
   },
   {
    "duration": 963,
    "start_time": "2023-08-22T10:10:16.984Z"
   },
   {
    "duration": 10,
    "start_time": "2023-08-22T10:10:17.949Z"
   },
   {
    "duration": 41,
    "start_time": "2023-08-22T10:10:17.962Z"
   },
   {
    "duration": 9,
    "start_time": "2023-08-22T10:10:18.005Z"
   },
   {
    "duration": 7,
    "start_time": "2023-08-22T10:10:18.015Z"
   },
   {
    "duration": 59,
    "start_time": "2023-08-22T10:10:18.024Z"
   },
   {
    "duration": 3260,
    "start_time": "2023-08-22T10:10:18.085Z"
   },
   {
    "duration": 10037,
    "start_time": "2023-08-22T10:10:21.347Z"
   },
   {
    "duration": 16,
    "start_time": "2023-08-22T10:10:31.387Z"
   },
   {
    "duration": 135,
    "start_time": "2023-08-22T10:10:31.404Z"
   },
   {
    "duration": 171,
    "start_time": "2023-08-22T10:10:31.541Z"
   },
   {
    "duration": 3,
    "start_time": "2023-08-22T10:10:31.714Z"
   },
   {
    "duration": 62,
    "start_time": "2023-08-22T10:10:31.725Z"
   },
   {
    "duration": 10794,
    "start_time": "2023-08-22T10:53:52.298Z"
   },
   {
    "duration": 2656,
    "start_time": "2023-08-22T10:54:09.292Z"
   },
   {
    "duration": 984,
    "start_time": "2023-08-22T10:54:11.950Z"
   },
   {
    "duration": 13,
    "start_time": "2023-08-22T10:54:12.936Z"
   },
   {
    "duration": 64,
    "start_time": "2023-08-22T10:54:12.951Z"
   },
   {
    "duration": 34,
    "start_time": "2023-08-22T10:54:13.017Z"
   },
   {
    "duration": 48,
    "start_time": "2023-08-22T10:54:13.052Z"
   },
   {
    "duration": 84,
    "start_time": "2023-08-22T10:54:13.102Z"
   },
   {
    "duration": 11015,
    "start_time": "2023-08-22T10:54:13.188Z"
   },
   {
    "duration": 10012,
    "start_time": "2023-08-22T10:54:24.205Z"
   },
   {
    "duration": 25,
    "start_time": "2023-08-22T10:54:34.223Z"
   },
   {
    "duration": 79,
    "start_time": "2023-08-22T10:54:34.250Z"
   },
   {
    "duration": 188,
    "start_time": "2023-08-22T10:54:34.333Z"
   },
   {
    "duration": 7,
    "start_time": "2023-08-22T10:54:34.522Z"
   },
   {
    "duration": 17,
    "start_time": "2023-08-22T10:54:34.531Z"
   },
   {
    "duration": 3408,
    "start_time": "2023-08-22T10:56:54.465Z"
   },
   {
    "duration": 2738,
    "start_time": "2023-08-22T10:57:10.117Z"
   },
   {
    "duration": 968,
    "start_time": "2023-08-22T10:57:12.857Z"
   },
   {
    "duration": 13,
    "start_time": "2023-08-22T10:57:13.826Z"
   },
   {
    "duration": 27,
    "start_time": "2023-08-22T10:57:13.841Z"
   },
   {
    "duration": 14,
    "start_time": "2023-08-22T10:57:13.870Z"
   },
   {
    "duration": 31,
    "start_time": "2023-08-22T10:57:13.885Z"
   },
   {
    "duration": 43,
    "start_time": "2023-08-22T10:57:13.918Z"
   },
   {
    "duration": 3492,
    "start_time": "2023-08-22T10:57:13.963Z"
   },
   {
    "duration": 10144,
    "start_time": "2023-08-22T10:57:17.456Z"
   },
   {
    "duration": 28,
    "start_time": "2023-08-22T10:57:27.602Z"
   },
   {
    "duration": 72,
    "start_time": "2023-08-22T10:57:27.633Z"
   },
   {
    "duration": 194,
    "start_time": "2023-08-22T10:57:27.707Z"
   },
   {
    "duration": 4,
    "start_time": "2023-08-22T10:57:27.903Z"
   },
   {
    "duration": 17,
    "start_time": "2023-08-22T10:57:27.923Z"
   },
   {
    "duration": 7134,
    "start_time": "2023-08-22T14:23:17.272Z"
   },
   {
    "duration": 1181,
    "start_time": "2023-08-22T14:23:24.409Z"
   },
   {
    "duration": 16,
    "start_time": "2023-08-22T14:23:25.593Z"
   },
   {
    "duration": 30,
    "start_time": "2023-08-22T14:23:25.611Z"
   },
   {
    "duration": 11,
    "start_time": "2023-08-22T14:23:25.643Z"
   },
   {
    "duration": 12,
    "start_time": "2023-08-22T14:23:25.656Z"
   },
   {
    "duration": 74,
    "start_time": "2023-08-22T14:23:25.670Z"
   },
   {
    "duration": 3308,
    "start_time": "2023-08-22T14:23:25.745Z"
   },
   {
    "duration": 10137,
    "start_time": "2023-08-22T14:23:29.055Z"
   },
   {
    "duration": 19,
    "start_time": "2023-08-22T14:23:39.194Z"
   },
   {
    "duration": 91,
    "start_time": "2023-08-22T14:23:39.214Z"
   },
   {
    "duration": 198,
    "start_time": "2023-08-22T14:23:39.307Z"
   },
   {
    "duration": 4,
    "start_time": "2023-08-22T14:23:39.507Z"
   },
   {
    "duration": 8,
    "start_time": "2023-08-22T14:23:39.513Z"
   },
   {
    "duration": 2682,
    "start_time": "2023-08-22T14:24:08.887Z"
   },
   {
    "duration": 1018,
    "start_time": "2023-08-22T14:24:11.571Z"
   },
   {
    "duration": 13,
    "start_time": "2023-08-22T14:24:12.590Z"
   },
   {
    "duration": 48,
    "start_time": "2023-08-22T14:24:12.606Z"
   },
   {
    "duration": 25,
    "start_time": "2023-08-22T14:24:12.656Z"
   },
   {
    "duration": 42,
    "start_time": "2023-08-22T14:24:12.683Z"
   },
   {
    "duration": 89,
    "start_time": "2023-08-22T14:24:12.727Z"
   },
   {
    "duration": 3360,
    "start_time": "2023-08-22T14:24:12.818Z"
   },
   {
    "duration": 10109,
    "start_time": "2023-08-22T14:24:16.180Z"
   },
   {
    "duration": 17,
    "start_time": "2023-08-22T14:24:26.292Z"
   },
   {
    "duration": 89,
    "start_time": "2023-08-22T14:24:26.311Z"
   },
   {
    "duration": 188,
    "start_time": "2023-08-22T14:24:26.403Z"
   },
   {
    "duration": 4,
    "start_time": "2023-08-22T14:24:26.593Z"
   },
   {
    "duration": 26,
    "start_time": "2023-08-22T14:24:26.598Z"
   },
   {
    "duration": 6050,
    "start_time": "2023-08-22T16:02:58.942Z"
   },
   {
    "duration": 1004,
    "start_time": "2023-08-22T16:03:04.994Z"
   },
   {
    "duration": 12,
    "start_time": "2023-08-22T16:03:06.000Z"
   },
   {
    "duration": 64,
    "start_time": "2023-08-22T16:03:06.014Z"
   },
   {
    "duration": 9,
    "start_time": "2023-08-22T16:03:13.472Z"
   },
   {
    "duration": 8,
    "start_time": "2023-08-22T16:03:13.655Z"
   },
   {
    "duration": 42,
    "start_time": "2023-08-22T16:03:32.560Z"
   },
   {
    "duration": 7109,
    "start_time": "2023-08-23T10:46:16.382Z"
   },
   {
    "duration": 1162,
    "start_time": "2023-08-23T10:46:23.493Z"
   },
   {
    "duration": 12,
    "start_time": "2023-08-23T10:46:24.657Z"
   },
   {
    "duration": 36,
    "start_time": "2023-08-23T10:46:24.671Z"
   },
   {
    "duration": 7,
    "start_time": "2023-08-23T10:46:24.710Z"
   },
   {
    "duration": 20,
    "start_time": "2023-08-23T10:46:24.719Z"
   },
   {
    "duration": 47,
    "start_time": "2023-08-23T10:46:24.741Z"
   },
   {
    "duration": 3408,
    "start_time": "2023-08-23T10:46:24.790Z"
   },
   {
    "duration": 10338,
    "start_time": "2023-08-23T10:46:28.201Z"
   },
   {
    "duration": 19,
    "start_time": "2023-08-23T10:46:38.541Z"
   },
   {
    "duration": 2824,
    "start_time": "2023-08-23T10:46:40.074Z"
   },
   {
    "duration": 1020,
    "start_time": "2023-08-23T10:46:42.901Z"
   },
   {
    "duration": 11,
    "start_time": "2023-08-23T10:46:43.923Z"
   },
   {
    "duration": 24,
    "start_time": "2023-08-23T10:46:43.936Z"
   },
   {
    "duration": 8,
    "start_time": "2023-08-23T10:46:43.962Z"
   },
   {
    "duration": 8,
    "start_time": "2023-08-23T10:46:43.972Z"
   },
   {
    "duration": 82,
    "start_time": "2023-08-23T10:46:43.982Z"
   },
   {
    "duration": 3476,
    "start_time": "2023-08-23T10:46:44.066Z"
   },
   {
    "duration": 10659,
    "start_time": "2023-08-23T10:46:47.544Z"
   },
   {
    "duration": 22,
    "start_time": "2023-08-23T10:46:58.205Z"
   },
   {
    "duration": 98,
    "start_time": "2023-08-23T10:46:58.228Z"
   },
   {
    "duration": 200,
    "start_time": "2023-08-23T10:46:58.328Z"
   },
   {
    "duration": 4,
    "start_time": "2023-08-23T10:46:58.530Z"
   },
   {
    "duration": 18,
    "start_time": "2023-08-23T10:46:58.536Z"
   },
   {
    "duration": 15096,
    "start_time": "2023-08-23T10:54:14.483Z"
   },
   {
    "duration": 3598,
    "start_time": "2023-08-23T10:54:49.311Z"
   },
   {
    "duration": 247,
    "start_time": "2023-08-23T10:55:30.708Z"
   },
   {
    "duration": 405750,
    "start_time": "2023-08-23T11:37:09.479Z"
   },
   {
    "duration": 121,
    "start_time": "2023-08-23T11:44:21.164Z"
   },
   {
    "duration": 414502,
    "start_time": "2023-08-23T12:01:01.953Z"
   },
   {
    "duration": 247,
    "start_time": "2023-08-23T12:09:08.540Z"
   },
   {
    "duration": 2794,
    "start_time": "2023-08-23T12:54:56.184Z"
   },
   {
    "duration": 1029,
    "start_time": "2023-08-23T12:54:58.981Z"
   },
   {
    "duration": 11,
    "start_time": "2023-08-23T12:55:00.012Z"
   },
   {
    "duration": 82,
    "start_time": "2023-08-23T12:55:00.025Z"
   },
   {
    "duration": 36,
    "start_time": "2023-08-23T12:55:00.109Z"
   },
   {
    "duration": 20,
    "start_time": "2023-08-23T12:55:00.147Z"
   },
   {
    "duration": 66,
    "start_time": "2023-08-23T12:55:00.169Z"
   },
   {
    "duration": 3297,
    "start_time": "2023-08-23T12:55:00.237Z"
   },
   {
    "duration": 9636,
    "start_time": "2023-08-23T12:55:03.536Z"
   },
   {
    "duration": 16,
    "start_time": "2023-08-23T12:55:13.175Z"
   },
   {
    "duration": 82,
    "start_time": "2023-08-23T12:55:13.193Z"
   },
   {
    "duration": 191,
    "start_time": "2023-08-23T12:55:13.276Z"
   },
   {
    "duration": 4,
    "start_time": "2023-08-23T12:55:13.469Z"
   },
   {
    "duration": 7,
    "start_time": "2023-08-23T12:55:13.474Z"
   },
   {
    "duration": 345968,
    "start_time": "2023-08-23T12:55:13.483Z"
   },
   {
    "duration": 86,
    "start_time": "2023-08-23T13:00:59.453Z"
   },
   {
    "duration": 149,
    "start_time": "2023-08-23T13:01:33.991Z"
   },
   {
    "duration": 10159,
    "start_time": "2023-08-23T15:26:59.319Z"
   },
   {
    "duration": 1101,
    "start_time": "2023-08-23T15:27:09.480Z"
   },
   {
    "duration": 2835,
    "start_time": "2023-08-23T15:27:13.774Z"
   },
   {
    "duration": 31,
    "start_time": "2023-08-23T15:27:17.866Z"
   },
   {
    "duration": 12,
    "start_time": "2023-08-23T15:27:26.793Z"
   },
   {
    "duration": 23,
    "start_time": "2023-08-23T15:27:27.694Z"
   },
   {
    "duration": 14,
    "start_time": "2023-08-23T15:27:33.348Z"
   },
   {
    "duration": 8,
    "start_time": "2023-08-23T15:27:35.293Z"
   },
   {
    "duration": 51,
    "start_time": "2023-08-23T15:27:38.323Z"
   },
   {
    "duration": 946,
    "start_time": "2023-08-23T15:27:55.667Z"
   },
   {
    "duration": 3569,
    "start_time": "2023-08-23T15:43:35.658Z"
   },
   {
    "duration": 36,
    "start_time": "2023-08-23T15:43:42.228Z"
   },
   {
    "duration": 15,
    "start_time": "2023-08-23T15:43:44.603Z"
   },
   {
    "duration": 23,
    "start_time": "2023-08-23T15:43:46.575Z"
   },
   {
    "duration": 11,
    "start_time": "2023-08-23T15:43:49.762Z"
   },
   {
    "duration": 11,
    "start_time": "2023-08-23T15:43:51.650Z"
   },
   {
    "duration": 1053,
    "start_time": "2023-08-23T15:43:55.252Z"
   },
   {
    "duration": 104,
    "start_time": "2023-08-23T15:44:06.648Z"
   },
   {
    "duration": 24,
    "start_time": "2023-08-23T15:45:59.512Z"
   },
   {
    "duration": 129,
    "start_time": "2023-08-23T15:53:36.023Z"
   },
   {
    "duration": 4351,
    "start_time": "2023-08-23T16:02:10.669Z"
   },
   {
    "duration": 1506,
    "start_time": "2023-08-23T16:02:15.023Z"
   },
   {
    "duration": 19,
    "start_time": "2023-08-23T16:02:16.532Z"
   },
   {
    "duration": 51,
    "start_time": "2023-08-23T16:02:16.556Z"
   },
   {
    "duration": 16,
    "start_time": "2023-08-23T16:02:16.615Z"
   },
   {
    "duration": 20,
    "start_time": "2023-08-23T16:02:16.639Z"
   },
   {
    "duration": 1499,
    "start_time": "2023-08-23T16:02:16.665Z"
   },
   {
    "duration": 5035,
    "start_time": "2023-08-23T16:02:18.171Z"
   },
   {
    "duration": 15374,
    "start_time": "2023-08-23T16:02:23.212Z"
   },
   {
    "duration": 32,
    "start_time": "2023-08-23T16:02:38.588Z"
   },
   {
    "duration": 211,
    "start_time": "2023-08-23T16:02:38.622Z"
   },
   {
    "duration": 264,
    "start_time": "2023-08-23T16:02:38.835Z"
   },
   {
    "duration": 8,
    "start_time": "2023-08-23T16:02:39.101Z"
   },
   {
    "duration": 23,
    "start_time": "2023-08-23T16:02:39.112Z"
   },
   {
    "duration": 517183,
    "start_time": "2023-08-23T16:02:39.137Z"
   },
   {
    "duration": 373,
    "start_time": "2023-08-23T16:11:16.327Z"
   },
   {
    "duration": 53,
    "start_time": "2023-08-24T08:52:01.646Z"
   },
   {
    "duration": 6465,
    "start_time": "2023-08-24T08:52:18.206Z"
   },
   {
    "duration": 1102,
    "start_time": "2023-08-24T08:52:24.674Z"
   },
   {
    "duration": 13,
    "start_time": "2023-08-24T08:52:25.778Z"
   },
   {
    "duration": 26,
    "start_time": "2023-08-24T08:52:25.794Z"
   },
   {
    "duration": 10,
    "start_time": "2023-08-24T08:52:25.822Z"
   },
   {
    "duration": 16,
    "start_time": "2023-08-24T08:52:25.834Z"
   },
   {
    "duration": 908,
    "start_time": "2023-08-24T08:52:25.868Z"
   },
   {
    "duration": 3184,
    "start_time": "2023-08-24T08:52:26.777Z"
   },
   {
    "duration": 9838,
    "start_time": "2023-08-24T08:52:29.967Z"
   },
   {
    "duration": 20,
    "start_time": "2023-08-24T08:52:39.808Z"
   },
   {
    "duration": 88,
    "start_time": "2023-08-24T08:52:39.830Z"
   },
   {
    "duration": 203,
    "start_time": "2023-08-24T08:52:39.920Z"
   },
   {
    "duration": 5,
    "start_time": "2023-08-24T08:52:40.125Z"
   },
   {
    "duration": 28,
    "start_time": "2023-08-24T08:52:40.132Z"
   },
   {
    "duration": 363065,
    "start_time": "2023-08-24T08:52:40.162Z"
   },
   {
    "duration": 154,
    "start_time": "2023-08-24T08:58:43.229Z"
   },
   {
    "duration": 102,
    "start_time": "2023-08-24T08:59:41.530Z"
   },
   {
    "duration": 13,
    "start_time": "2023-08-24T08:59:52.073Z"
   },
   {
    "duration": 5,
    "start_time": "2023-08-24T09:02:04.778Z"
   },
   {
    "duration": 1072,
    "start_time": "2023-08-24T09:02:04.785Z"
   },
   {
    "duration": 13,
    "start_time": "2023-08-24T09:02:05.860Z"
   },
   {
    "duration": 176,
    "start_time": "2023-08-24T09:02:05.875Z"
   },
   {
    "duration": 77,
    "start_time": "2023-08-24T09:02:06.053Z"
   },
   {
    "duration": 23,
    "start_time": "2023-08-24T09:02:06.131Z"
   },
   {
    "duration": 976,
    "start_time": "2023-08-24T09:02:06.156Z"
   },
   {
    "duration": 3341,
    "start_time": "2023-08-24T09:02:07.134Z"
   },
   {
    "duration": 10325,
    "start_time": "2023-08-24T09:02:10.476Z"
   },
   {
    "duration": 20,
    "start_time": "2023-08-24T09:02:20.803Z"
   },
   {
    "duration": 100,
    "start_time": "2023-08-24T09:02:20.825Z"
   },
   {
    "duration": 200,
    "start_time": "2023-08-24T09:02:20.926Z"
   },
   {
    "duration": 3,
    "start_time": "2023-08-24T09:02:21.128Z"
   },
   {
    "duration": 34,
    "start_time": "2023-08-24T09:02:21.133Z"
   },
   {
    "duration": 372060,
    "start_time": "2023-08-24T09:03:11.377Z"
   },
   {
    "duration": 245,
    "start_time": "2023-08-24T09:09:23.439Z"
   },
   {
    "duration": 1003,
    "start_time": "2023-08-24T10:00:15.004Z"
   },
   {
    "duration": 4382,
    "start_time": "2023-08-24T10:00:34.655Z"
   },
   {
    "duration": 11526,
    "start_time": "2023-08-24T10:01:04.719Z"
   },
   {
    "duration": 29,
    "start_time": "2023-08-24T10:07:34.871Z"
   },
   {
    "duration": 19,
    "start_time": "2023-08-24T10:07:39.938Z"
   },
   {
    "duration": 82,
    "start_time": "2023-08-24T10:07:56.598Z"
   },
   {
    "duration": 212,
    "start_time": "2023-08-24T10:08:07.966Z"
   },
   {
    "duration": 5,
    "start_time": "2023-08-24T10:08:34.894Z"
   },
   {
    "duration": 3,
    "start_time": "2023-08-24T10:26:39.597Z"
   },
   {
    "duration": 1052,
    "start_time": "2023-08-24T10:26:39.602Z"
   },
   {
    "duration": 18,
    "start_time": "2023-08-24T10:26:40.656Z"
   },
   {
    "duration": 49,
    "start_time": "2023-08-24T10:26:40.676Z"
   },
   {
    "duration": 8,
    "start_time": "2023-08-24T10:26:40.727Z"
   },
   {
    "duration": 30,
    "start_time": "2023-08-24T10:26:40.736Z"
   },
   {
    "duration": 1023,
    "start_time": "2023-08-24T10:26:40.772Z"
   },
   {
    "duration": 3594,
    "start_time": "2023-08-24T10:26:41.797Z"
   },
   {
    "duration": 10505,
    "start_time": "2023-08-24T10:26:45.393Z"
   },
   {
    "duration": 17,
    "start_time": "2023-08-24T10:26:55.900Z"
   },
   {
    "duration": 96,
    "start_time": "2023-08-24T10:26:55.919Z"
   },
   {
    "duration": 186,
    "start_time": "2023-08-24T10:26:56.017Z"
   },
   {
    "duration": 4,
    "start_time": "2023-08-24T10:26:56.205Z"
   },
   {
    "duration": 10,
    "start_time": "2023-08-24T10:26:56.212Z"
   },
   {
    "duration": 390066,
    "start_time": "2023-08-24T10:26:56.223Z"
   },
   {
    "duration": 250,
    "start_time": "2023-08-24T10:33:26.295Z"
   },
   {
    "duration": 63,
    "start_time": "2023-08-24T11:21:12.437Z"
   },
   {
    "duration": 51,
    "start_time": "2023-08-24T11:34:37.432Z"
   },
   {
    "duration": 421179,
    "start_time": "2023-08-24T11:49:13.608Z"
   },
   {
    "duration": 46,
    "start_time": "2023-08-24T11:57:48.216Z"
   },
   {
    "duration": 417200,
    "start_time": "2023-08-24T11:59:22.620Z"
   },
   {
    "duration": 3,
    "start_time": "2023-08-24T15:35:56.293Z"
   },
   {
    "duration": 1164,
    "start_time": "2023-08-24T15:35:56.298Z"
   },
   {
    "duration": 10,
    "start_time": "2023-08-24T15:35:57.463Z"
   },
   {
    "duration": 35,
    "start_time": "2023-08-24T15:35:57.475Z"
   },
   {
    "duration": 7,
    "start_time": "2023-08-24T15:35:57.512Z"
   },
   {
    "duration": 16,
    "start_time": "2023-08-24T15:35:57.520Z"
   },
   {
    "duration": 639,
    "start_time": "2023-08-24T15:35:57.538Z"
   },
   {
    "duration": 4852,
    "start_time": "2023-08-24T15:35:58.178Z"
   },
   {
    "duration": 7699,
    "start_time": "2023-08-24T15:36:03.032Z"
   },
   {
    "duration": 23,
    "start_time": "2023-08-24T15:36:10.733Z"
   },
   {
    "duration": 116,
    "start_time": "2023-08-24T15:36:10.757Z"
   },
   {
    "duration": 147,
    "start_time": "2023-08-24T15:36:10.875Z"
   },
   {
    "duration": 4,
    "start_time": "2023-08-24T15:36:11.025Z"
   },
   {
    "duration": 19,
    "start_time": "2023-08-24T15:36:11.031Z"
   },
   {
    "duration": 278913,
    "start_time": "2023-08-24T15:36:11.052Z"
   },
   {
    "duration": 32,
    "start_time": "2023-08-24T15:40:49.967Z"
   },
   {
    "duration": 6059,
    "start_time": "2023-08-24T15:44:13.263Z"
   },
   {
    "duration": 2413,
    "start_time": "2023-08-24T15:44:31.511Z"
   },
   {
    "duration": 32,
    "start_time": "2023-08-24T15:44:35.422Z"
   },
   {
    "duration": 2453,
    "start_time": "2023-08-24T15:44:46.020Z"
   },
   {
    "duration": 963,
    "start_time": "2023-08-24T15:44:48.475Z"
   },
   {
    "duration": 10,
    "start_time": "2023-08-24T15:44:49.439Z"
   },
   {
    "duration": 25,
    "start_time": "2023-08-24T15:44:49.450Z"
   },
   {
    "duration": 6,
    "start_time": "2023-08-24T15:44:49.477Z"
   },
   {
    "duration": 7,
    "start_time": "2023-08-24T15:44:49.484Z"
   },
   {
    "duration": 805,
    "start_time": "2023-08-24T15:44:49.492Z"
   },
   {
    "duration": 2671,
    "start_time": "2023-08-24T15:44:50.298Z"
   },
   {
    "duration": 8738,
    "start_time": "2023-08-24T15:44:52.971Z"
   },
   {
    "duration": 15,
    "start_time": "2023-08-24T15:45:01.710Z"
   },
   {
    "duration": 97,
    "start_time": "2023-08-24T15:45:01.727Z"
   },
   {
    "duration": 182,
    "start_time": "2023-08-24T15:45:01.826Z"
   },
   {
    "duration": 4,
    "start_time": "2023-08-24T15:45:02.009Z"
   },
   {
    "duration": 60,
    "start_time": "2023-08-24T15:45:02.015Z"
   },
   {
    "duration": 316134,
    "start_time": "2023-08-24T15:45:02.076Z"
   },
   {
    "duration": 29,
    "start_time": "2023-08-24T15:50:18.212Z"
   },
   {
    "duration": 3,
    "start_time": "2024-06-11T20:26:01.009Z"
   },
   {
    "duration": 1270,
    "start_time": "2024-06-11T20:26:01.046Z"
   },
   {
    "duration": 10,
    "start_time": "2024-06-11T20:26:02.318Z"
   },
   {
    "duration": 44,
    "start_time": "2024-06-11T20:26:02.330Z"
   },
   {
    "duration": 16,
    "start_time": "2024-06-11T20:26:02.376Z"
   },
   {
    "duration": 28,
    "start_time": "2024-06-11T20:26:02.394Z"
   },
   {
    "duration": 670,
    "start_time": "2024-06-11T20:26:02.423Z"
   },
   {
    "duration": 4068,
    "start_time": "2024-06-11T20:26:03.095Z"
   },
   {
    "duration": 8156,
    "start_time": "2024-06-11T20:26:07.164Z"
   },
   {
    "duration": 14,
    "start_time": "2024-06-11T20:26:15.322Z"
   },
   {
    "duration": 113,
    "start_time": "2024-06-11T20:26:15.338Z"
   },
   {
    "duration": 155,
    "start_time": "2024-06-11T20:26:15.453Z"
   },
   {
    "duration": 4,
    "start_time": "2024-06-11T20:26:15.609Z"
   },
   {
    "duration": 7,
    "start_time": "2024-06-11T20:26:15.614Z"
   },
   {
    "duration": 149318,
    "start_time": "2024-06-11T20:26:15.623Z"
   },
   {
    "duration": 0,
    "start_time": "2024-06-11T20:28:44.943Z"
   },
   {
    "duration": 0,
    "start_time": "2024-06-11T20:28:44.944Z"
   },
   {
    "duration": 0,
    "start_time": "2024-06-11T20:28:44.945Z"
   },
   {
    "duration": 70,
    "start_time": "2024-06-11T20:29:50.736Z"
   },
   {
    "duration": 56,
    "start_time": "2024-06-11T20:29:57.922Z"
   },
   {
    "duration": 56,
    "start_time": "2024-06-11T20:30:35.551Z"
   },
   {
    "duration": 58,
    "start_time": "2024-06-11T20:30:57.113Z"
   },
   {
    "duration": 11,
    "start_time": "2024-06-11T20:30:59.599Z"
   },
   {
    "duration": 7,
    "start_time": "2024-06-11T20:31:21.728Z"
   },
   {
    "duration": 6743,
    "start_time": "2024-06-11T20:32:47.387Z"
   },
   {
    "duration": 3040,
    "start_time": "2024-06-11T20:32:58.721Z"
   },
   {
    "duration": 1016,
    "start_time": "2024-06-11T20:33:01.763Z"
   },
   {
    "duration": 11,
    "start_time": "2024-06-11T20:33:02.780Z"
   },
   {
    "duration": 24,
    "start_time": "2024-06-11T20:33:02.792Z"
   },
   {
    "duration": 6,
    "start_time": "2024-06-11T20:33:02.818Z"
   },
   {
    "duration": 11,
    "start_time": "2024-06-11T20:33:02.826Z"
   },
   {
    "duration": 839,
    "start_time": "2024-06-11T20:33:02.838Z"
   },
   {
    "duration": 2597,
    "start_time": "2024-06-11T20:33:03.679Z"
   },
   {
    "duration": 8955,
    "start_time": "2024-06-11T20:33:06.277Z"
   },
   {
    "duration": 17,
    "start_time": "2024-06-11T20:33:15.234Z"
   },
   {
    "duration": 40,
    "start_time": "2024-06-11T20:33:15.252Z"
   },
   {
    "duration": 181,
    "start_time": "2024-06-11T20:33:15.294Z"
   },
   {
    "duration": 3,
    "start_time": "2024-06-11T20:33:15.476Z"
   },
   {
    "duration": 5,
    "start_time": "2024-06-11T20:33:15.481Z"
   }
  ],
  "kernelspec": {
   "display_name": "Python 3 (ipykernel)",
   "language": "python",
   "name": "python3"
  },
  "language_info": {
   "codemirror_mode": {
    "name": "ipython",
    "version": 3
   },
   "file_extension": ".py",
   "mimetype": "text/x-python",
   "name": "python",
   "nbconvert_exporter": "python",
   "pygments_lexer": "ipython3",
   "version": "3.9.5"
  },
  "toc": {
   "base_numbering": 1,
   "nav_menu": {},
   "number_sections": true,
   "sideBar": true,
   "skip_h1_title": true,
   "title_cell": "Table of Contents",
   "title_sidebar": "Contents",
   "toc_cell": false,
   "toc_position": {},
   "toc_section_display": true,
   "toc_window_display": true
  }
 },
 "nbformat": 4,
 "nbformat_minor": 4
}
