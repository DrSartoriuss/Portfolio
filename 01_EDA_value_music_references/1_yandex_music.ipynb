{
 "cells": [
  {
   "cell_type": "markdown",
   "metadata": {
    "deletable": false,
    "editable": false,
    "id": "E0vqbgi9ay0H"
   },
   "source": [
    "# Яндекс.Музыка"
   ]
  },
  {
   "cell_type": "markdown",
   "metadata": {
    "deletable": true,
    "editable": true,
    "id": "VUC88oWjTJw2",
    "slideshow": {
     "slide_type": ""
    },
    "tags": []
   },
   "source": [
    "Сравнение Москвы и Петербурга окружено мифами. Например:\n",
    " * Москва — мегаполис, подчинённый жёсткому ритму рабочей недели;\n",
    " * Петербург — культурная столица, со своими вкусами.\n",
    "\n",
    "На данных Яндекс Музыки мы сравним поведение пользователей двух столиц.\n",
    "\n",
    "**Цель исследования** — проверка трех гипотез:\n",
    "1. Активность пользователей зависит от дня недели. Причём в Москве и Петербурге это проявляется по-разному.\n",
    "2. В понедельник утром в Москве преобладают одни жанры, а в Петербурге — другие. Так же и вечером пятницы преобладают разные жанры — в зависимости от города. \n",
    "3. Москва и Петербург предпочитают разные жанры музыки. В Москве чаще слушают поп-музыку, в Петербурге — русский рэп.\n",
    "\n",
    "**Ход исследования**\n",
    "\n",
    "Данные о поведении пользователей находятся в файле `yandex_music_project.csv`. О качестве данных ничего не известно. Поэтому перед проверкой гипотез понадобится обзор данных. \n",
    "\n",
    "Мы проверим данные на ошибки и оценим их влияние на исследование. Затем, на этапе предобработки поищем возможность исправить самые критичные ошибки данных.\n",
    " \n",
    "Таким образом, исследование пройдёт в три этапа:\n",
    " 1. Обзор данных.\n",
    " 2. Предобработка данных.\n",
    " 3. Проверка гипотез."
   ]
  },
  {
   "cell_type": "markdown",
   "metadata": {
    "deletable": true,
    "editable": true,
    "id": "Ml1hmfXC_Zcs",
    "slideshow": {
     "slide_type": ""
    },
    "tags": []
   },
   "source": [
    "## Обзор данных\n",
    "\n",
    "Составим первое представление о данных Яндекс Музыки."
   ]
  },
  {
   "cell_type": "markdown",
   "metadata": {
    "deletable": true,
    "editable": true,
    "id": "57eAOGIz_Zcs",
    "slideshow": {
     "slide_type": ""
    },
    "tags": [
     "start_task"
    ]
   },
   "source": [
    "**Задание 1**\n",
    "\n",
    "Импортируем библиотеку `pandas`."
   ]
  },
  {
   "cell_type": "code",
   "execution_count": 1,
   "metadata": {
    "deletable": false,
    "id": "AXN7PHPN_Zcs"
   },
   "outputs": [],
   "source": [
    "import pandas as pd # импортируем библиотеку pandas"
   ]
  },
  {
   "cell_type": "markdown",
   "metadata": {
    "deletable": false,
    "editable": true,
    "id": "SG23P8tt_Zcs",
    "slideshow": {
     "slide_type": ""
    },
    "tags": [
     "start_task"
    ]
   },
   "source": [
    "**Задание 2**\n",
    "\n",
    "Прочитаем файл `yandex_music_project.csv` из папки `/datasets` и сохраним его в переменной `df`:"
   ]
  },
  {
   "cell_type": "code",
   "execution_count": 2,
   "metadata": {
    "deletable": false,
    "id": "fFVu7vqh_Zct"
   },
   "outputs": [],
   "source": [
    "# читаем файла с данными и сохраняем в df\n",
    "df = pd.read_csv('/datasets/yandex_music_project.csv')"
   ]
  },
  {
   "cell_type": "markdown",
   "metadata": {
    "deletable": false,
    "editable": true,
    "id": "rDoOMd3uTqnZ",
    "slideshow": {
     "slide_type": ""
    },
    "tags": [
     "start_task"
    ]
   },
   "source": [
    "**Задание 3**\n",
    "\n",
    "Выведем на экран первые десять строк таблицы:"
   ]
  },
  {
   "cell_type": "code",
   "execution_count": 6,
   "metadata": {
    "deletable": false,
    "id": "oWTVX3gW_Zct"
   },
   "outputs": [
    {
     "data": {
      "text/html": [
       "<div>\n",
       "<style scoped>\n",
       "    .dataframe tbody tr th:only-of-type {\n",
       "        vertical-align: middle;\n",
       "    }\n",
       "\n",
       "    .dataframe tbody tr th {\n",
       "        vertical-align: top;\n",
       "    }\n",
       "\n",
       "    .dataframe thead th {\n",
       "        text-align: right;\n",
       "    }\n",
       "</style>\n",
       "<table border=\"1\" class=\"dataframe\">\n",
       "  <thead>\n",
       "    <tr style=\"text-align: right;\">\n",
       "      <th></th>\n",
       "      <th>userID</th>\n",
       "      <th>Track</th>\n",
       "      <th>artist</th>\n",
       "      <th>genre</th>\n",
       "      <th>City</th>\n",
       "      <th>time</th>\n",
       "      <th>Day</th>\n",
       "    </tr>\n",
       "  </thead>\n",
       "  <tbody>\n",
       "    <tr>\n",
       "      <th>0</th>\n",
       "      <td>FFB692EC</td>\n",
       "      <td>Kamigata To Boots</td>\n",
       "      <td>The Mass Missile</td>\n",
       "      <td>rock</td>\n",
       "      <td>Saint-Petersburg</td>\n",
       "      <td>20:28:33</td>\n",
       "      <td>Wednesday</td>\n",
       "    </tr>\n",
       "    <tr>\n",
       "      <th>1</th>\n",
       "      <td>55204538</td>\n",
       "      <td>Delayed Because of Accident</td>\n",
       "      <td>Andreas Rönnberg</td>\n",
       "      <td>rock</td>\n",
       "      <td>Moscow</td>\n",
       "      <td>14:07:09</td>\n",
       "      <td>Friday</td>\n",
       "    </tr>\n",
       "    <tr>\n",
       "      <th>2</th>\n",
       "      <td>20EC38</td>\n",
       "      <td>Funiculì funiculà</td>\n",
       "      <td>Mario Lanza</td>\n",
       "      <td>pop</td>\n",
       "      <td>Saint-Petersburg</td>\n",
       "      <td>20:58:07</td>\n",
       "      <td>Wednesday</td>\n",
       "    </tr>\n",
       "    <tr>\n",
       "      <th>3</th>\n",
       "      <td>A3DD03C9</td>\n",
       "      <td>Dragons in the Sunset</td>\n",
       "      <td>Fire + Ice</td>\n",
       "      <td>folk</td>\n",
       "      <td>Saint-Petersburg</td>\n",
       "      <td>08:37:09</td>\n",
       "      <td>Monday</td>\n",
       "    </tr>\n",
       "    <tr>\n",
       "      <th>4</th>\n",
       "      <td>E2DC1FAE</td>\n",
       "      <td>Soul People</td>\n",
       "      <td>Space Echo</td>\n",
       "      <td>dance</td>\n",
       "      <td>Moscow</td>\n",
       "      <td>08:34:34</td>\n",
       "      <td>Monday</td>\n",
       "    </tr>\n",
       "    <tr>\n",
       "      <th>5</th>\n",
       "      <td>842029A1</td>\n",
       "      <td>Преданная</td>\n",
       "      <td>IMPERVTOR</td>\n",
       "      <td>rusrap</td>\n",
       "      <td>Saint-Petersburg</td>\n",
       "      <td>13:09:41</td>\n",
       "      <td>Friday</td>\n",
       "    </tr>\n",
       "    <tr>\n",
       "      <th>6</th>\n",
       "      <td>4CB90AA5</td>\n",
       "      <td>True</td>\n",
       "      <td>Roman Messer</td>\n",
       "      <td>dance</td>\n",
       "      <td>Moscow</td>\n",
       "      <td>13:00:07</td>\n",
       "      <td>Wednesday</td>\n",
       "    </tr>\n",
       "    <tr>\n",
       "      <th>7</th>\n",
       "      <td>F03E1C1F</td>\n",
       "      <td>Feeling This Way</td>\n",
       "      <td>Polina Griffith</td>\n",
       "      <td>dance</td>\n",
       "      <td>Moscow</td>\n",
       "      <td>20:47:49</td>\n",
       "      <td>Wednesday</td>\n",
       "    </tr>\n",
       "    <tr>\n",
       "      <th>8</th>\n",
       "      <td>8FA1D3BE</td>\n",
       "      <td>И вновь продолжается бой</td>\n",
       "      <td>NaN</td>\n",
       "      <td>ruspop</td>\n",
       "      <td>Moscow</td>\n",
       "      <td>09:17:40</td>\n",
       "      <td>Friday</td>\n",
       "    </tr>\n",
       "    <tr>\n",
       "      <th>9</th>\n",
       "      <td>E772D5C0</td>\n",
       "      <td>Pessimist</td>\n",
       "      <td>NaN</td>\n",
       "      <td>dance</td>\n",
       "      <td>Saint-Petersburg</td>\n",
       "      <td>21:20:49</td>\n",
       "      <td>Wednesday</td>\n",
       "    </tr>\n",
       "  </tbody>\n",
       "</table>\n",
       "</div>"
      ],
      "text/plain": [
       "     userID                        Track            artist   genre  \\\n",
       "0  FFB692EC            Kamigata To Boots  The Mass Missile    rock   \n",
       "1  55204538  Delayed Because of Accident  Andreas Rönnberg    rock   \n",
       "2    20EC38            Funiculì funiculà       Mario Lanza     pop   \n",
       "3  A3DD03C9        Dragons in the Sunset        Fire + Ice    folk   \n",
       "4  E2DC1FAE                  Soul People        Space Echo   dance   \n",
       "5  842029A1                    Преданная         IMPERVTOR  rusrap   \n",
       "6  4CB90AA5                         True      Roman Messer   dance   \n",
       "7  F03E1C1F             Feeling This Way   Polina Griffith   dance   \n",
       "8  8FA1D3BE     И вновь продолжается бой               NaN  ruspop   \n",
       "9  E772D5C0                    Pessimist               NaN   dance   \n",
       "\n",
       "             City        time        Day  \n",
       "0  Saint-Petersburg  20:28:33  Wednesday  \n",
       "1            Moscow  14:07:09     Friday  \n",
       "2  Saint-Petersburg  20:58:07  Wednesday  \n",
       "3  Saint-Petersburg  08:37:09     Monday  \n",
       "4            Moscow  08:34:34     Monday  \n",
       "5  Saint-Petersburg  13:09:41     Friday  \n",
       "6            Moscow  13:00:07  Wednesday  \n",
       "7            Moscow  20:47:49  Wednesday  \n",
       "8            Moscow  09:17:40     Friday  \n",
       "9  Saint-Petersburg  21:20:49  Wednesday  "
      ]
     },
     "execution_count": 6,
     "metadata": {},
     "output_type": "execute_result"
    }
   ],
   "source": [
    "df.head(10)# получаем первые 10 строк таблицы df"
   ]
  },
  {
   "cell_type": "markdown",
   "metadata": {
    "deletable": true,
    "editable": true,
    "id": "EO73Kwic_Zct",
    "slideshow": {
     "slide_type": ""
    },
    "tags": [
     "start_task"
    ]
   },
   "source": [
    "**Задание 4**\n",
    "\n",
    "\n",
    "Одной командой получаем общую информацию о таблице c помощью метода `info()`:"
   ]
  },
  {
   "cell_type": "code",
   "execution_count": 4,
   "metadata": {
    "deletable": false,
    "id": "DSf2kIb-_Zct"
   },
   "outputs": [
    {
     "name": "stdout",
     "output_type": "stream",
     "text": [
      "<class 'pandas.core.frame.DataFrame'>\n",
      "RangeIndex: 65079 entries, 0 to 65078\n",
      "Data columns (total 7 columns):\n",
      " #   Column    Non-Null Count  Dtype \n",
      "---  ------    --------------  ----- \n",
      " 0     userID  65079 non-null  object\n",
      " 1   Track     63848 non-null  object\n",
      " 2   artist    57876 non-null  object\n",
      " 3   genre     63881 non-null  object\n",
      " 4     City    65079 non-null  object\n",
      " 5   time      65079 non-null  object\n",
      " 6   Day       65079 non-null  object\n",
      "dtypes: object(7)\n",
      "memory usage: 3.5+ MB\n"
     ]
    }
   ],
   "source": [
    "df.info()# получаем общую информацию о данных в таблице df"
   ]
  },
  {
   "cell_type": "markdown",
   "metadata": {
    "deletable": true,
    "editable": true,
    "id": "TaQ2Iwbr_Zct",
    "slideshow": {
     "slide_type": ""
    },
    "tags": []
   },
   "source": [
    "Итак, в таблице семь столбцов. Тип данных во всех столбцах — `object`.\n",
    "\n",
    "Согласно документации к данным:\n",
    "* `userID` — идентификатор пользователя;\n",
    "* `Track` — название трека;  \n",
    "* `artist` — имя исполнителя;\n",
    "* `genre` — название жанра;\n",
    "* `City` — город пользователя;\n",
    "* `time` — время начала прослушивания;\n",
    "* `Day` — день недели.\n",
    "\n",
    "Количество значений в столбцах различается. Значит, в данных есть пропущенные значения."
   ]
  },
  {
   "cell_type": "markdown",
   "metadata": {
    "deletable": true,
    "editable": true,
    "id": "4P0UCWzswgEm",
    "slideshow": {
     "slide_type": ""
    },
    "tags": [
     "start_task"
    ]
   },
   "source": [
    "**Задание 5**\n",
    "\n",
    "В названиях колонок видны три нарушения стиля:\n",
    "1. Строчные буквы сочетаются с прописными.\n",
    "2. Встречаются пробелы.\n",
    "3. Нарушение стиля: userID написано верблюжьим, а не змеиным регистром."
   ]
  },
  {
   "cell_type": "markdown",
   "metadata": {
    "deletable": true,
    "editable": true,
    "id": "MCB6-dXG_Zct",
    "slideshow": {
     "slide_type": ""
    },
    "tags": []
   },
   "source": [
    "**Выводы**\n",
    "\n",
    "В каждой строке таблицы — данные о прослушанном треке. Часть колонок описывает саму композицию: название, исполнителя и жанр. Остальные данные рассказывают о пользователе: из какого он города, когда он слушал музыку. \n",
    "\n",
    "Предварительно можно утверждать, что, данных достаточно для проверки гипотез. Но встречаются пропуски в данных, а в названиях колонок — расхождения с хорошим стилем.\n",
    "\n",
    "Чтобы двигаться дальше, нужно устранить проблемы в данных."
   ]
  },
  {
   "cell_type": "markdown",
   "metadata": {
    "deletable": true,
    "editable": true,
    "id": "SjYF6Ub9_Zct",
    "slideshow": {
     "slide_type": ""
    },
    "tags": []
   },
   "source": [
    "## Предобработка данных\n",
    "\n",
    "Исправим стиль в заголовках столбцов, исключим пропуски. Затем проверим данные на дубликаты."
   ]
  },
  {
   "cell_type": "markdown",
   "metadata": {
    "deletable": true,
    "editable": true,
    "id": "dIaKXr29_Zct",
    "slideshow": {
     "slide_type": ""
    },
    "tags": [
     "start_task"
    ]
   },
   "source": [
    "### Стиль заголовков\n",
    "\n",
    "**Задание 6**\n",
    "\n",
    "Выведем на экран названия столбцов:"
   ]
  },
  {
   "cell_type": "code",
   "execution_count": 6,
   "metadata": {
    "deletable": false,
    "editable": true,
    "id": "oKOTdF_Q_Zct",
    "slideshow": {
     "slide_type": ""
    },
    "tags": []
   },
   "outputs": [
    {
     "data": {
      "text/plain": [
       "Index(['  userID', 'Track', 'artist', 'genre', '  City  ', 'time', 'Day'], dtype='object')"
      ]
     },
     "execution_count": 6,
     "metadata": {},
     "output_type": "execute_result"
    }
   ],
   "source": [
    "df.columns # вводим перечень названий столбцов таблицы df"
   ]
  },
  {
   "cell_type": "markdown",
   "metadata": {
    "deletable": true,
    "editable": true,
    "id": "zj5534cv_Zct",
    "slideshow": {
     "slide_type": ""
    },
    "tags": [
     "start_task"
    ]
   },
   "source": [
    "**Задание 7**\n",
    "\n",
    "\n",
    "Приведем названия в соответствие с хорошим стилем:\n",
    "* несколько слов в названии запишишем в «змеином_регистре»,\n",
    "* все символы сделаем строчными,\n",
    "* устраним пробелы.\n",
    "\n",
    "Для этого переименуем колонки так:\n",
    "* `'  userID'` → `'user_id'`;\n",
    "* `'Track'` → `'track'`;\n",
    "* `'  City  '` → `'city'`;\n",
    "* `'Day'` → `'day'`."
   ]
  },
  {
   "cell_type": "code",
   "execution_count": 7,
   "metadata": {
    "deletable": false,
    "id": "ISlFqs5y_Zct"
   },
   "outputs": [],
   "source": [
    "# переименовываем столбцы в соответствие с хорошим стилем\n",
    "\n",
    "df = df.rename(columns = {'  userID':'user_id','Track':'track','  City  ': 'city','Day':'day'})"
   ]
  },
  {
   "cell_type": "markdown",
   "metadata": {
    "deletable": true,
    "editable": true,
    "id": "1dqbh00J_Zct",
    "slideshow": {
     "slide_type": ""
    },
    "tags": [
     "start_task"
    ]
   },
   "source": [
    "**Задание 8**\n",
    "\n",
    "\n",
    "Проверим результат. Для этого ещё раз выведем на экран названия столбцов:"
   ]
  },
  {
   "cell_type": "code",
   "execution_count": 8,
   "metadata": {
    "deletable": false,
    "id": "d4NOAmTW_Zct"
   },
   "outputs": [
    {
     "data": {
      "text/plain": [
       "Index(['user_id', 'track', 'artist', 'genre', 'city', 'time', 'day'], dtype='object')"
      ]
     },
     "execution_count": 8,
     "metadata": {},
     "output_type": "execute_result"
    }
   ],
   "source": [
    "df.columns # проверяем результат - перечень названий столбцов"
   ]
  },
  {
   "cell_type": "markdown",
   "metadata": {
    "deletable": true,
    "editable": true,
    "id": "5ISfbcfY_Zct",
    "slideshow": {
     "slide_type": ""
    },
    "tags": [
     "start_task"
    ]
   },
   "source": [
    "### Пропуски значений\n",
    "\n",
    "**Задание 9**\n",
    "\n",
    "Сначала посчитаем, сколько в таблице пропущенных значений. Для этого достаточно двух методов `pandas`:"
   ]
  },
  {
   "cell_type": "code",
   "execution_count": 9,
   "metadata": {
    "deletable": false,
    "id": "RskX29qr_Zct"
   },
   "outputs": [
    {
     "data": {
      "text/plain": [
       "user_id       0\n",
       "track      1231\n",
       "artist     7203\n",
       "genre      1198\n",
       "city          0\n",
       "time          0\n",
       "day           0\n",
       "dtype: int64"
      ]
     },
     "execution_count": 9,
     "metadata": {},
     "output_type": "execute_result"
    }
   ],
   "source": [
    "df.isna().sum()# подсчитываем пропуски"
   ]
  },
  {
   "cell_type": "markdown",
   "metadata": {
    "deletable": true,
    "editable": true,
    "id": "qubhgnlO_Zct",
    "slideshow": {
     "slide_type": ""
    },
    "tags": []
   },
   "source": [
    "Не все пропущенные значения влияют на исследование. Так в `track` и `artist` пропуски не важны для нашей работы. Достаточно заменить их явными обозначениями.\n",
    "\n",
    "Но пропуски в `genre` могут помешать сравнению музыкальных вкусов в Москве и Санкт-Петербурге. На практике было бы правильно установить причину пропусков и восстановить данные. Такой возможности в учебном проекте нет. \n",
    "Придётся:\n",
    "* заполнить и эти пропуски явными обозначениями,\n",
    "* оценить, насколько они повредят расчётам. "
   ]
  },
  {
   "cell_type": "markdown",
   "metadata": {
    "deletable": true,
    "editable": true,
    "id": "fSv2laPA_Zct",
    "slideshow": {
     "slide_type": ""
    },
    "tags": [
     "start_task"
    ]
   },
   "source": [
    "**Задание 10**\n",
    "\n",
    "Заменим пропущенные значения в столбцах `track`, `artist` и `genre` на строку `'unknown'`. Для этого создадим список `columns_to_replace`, переберем его элементы циклом `for` и для каждого столбца выполним замену пропущенных значений:"
   ]
  },
  {
   "cell_type": "code",
   "execution_count": 10,
   "metadata": {
    "deletable": false,
    "id": "KplB5qWs_Zct"
   },
   "outputs": [],
   "source": [
    "# перебираем названия столбцов в цикле и заменяем пропущенные значения \n",
    "# на 'unknown'\n",
    "columns_to_replace = ['track','artist','genre']\n",
    "for column in columns_to_replace:\n",
    "    df[column] = df[column].fillna('unknown')"
   ]
  },
  {
   "cell_type": "markdown",
   "metadata": {
    "deletable": true,
    "editable": true,
    "id": "Ilsm-MZo_Zct",
    "slideshow": {
     "slide_type": ""
    },
    "tags": [
     "start_task"
    ]
   },
   "source": [
    "**Задание 11**\n",
    "\n",
    "Убедимся, что в таблице не осталось пропусков. Для этого ещё раз посчитаем пропущенные значения."
   ]
  },
  {
   "cell_type": "code",
   "execution_count": 11,
   "metadata": {
    "deletable": false,
    "id": "Tq4nYRX4_Zct"
   },
   "outputs": [
    {
     "data": {
      "text/plain": [
       "user_id    0\n",
       "track      0\n",
       "artist     0\n",
       "genre      0\n",
       "city       0\n",
       "time       0\n",
       "day        0\n",
       "dtype: int64"
      ]
     },
     "execution_count": 11,
     "metadata": {},
     "output_type": "execute_result"
    }
   ],
   "source": [
    "df.isna().sum()# проверяем пропуски"
   ]
  },
  {
   "cell_type": "markdown",
   "metadata": {
    "deletable": true,
    "editable": true,
    "id": "BWKRtBJ3_Zct",
    "slideshow": {
     "slide_type": ""
    },
    "tags": [
     "start_task"
    ]
   },
   "source": [
    "### Дубликаты\n",
    "\n",
    "**Задание 12**\n",
    "\n",
    "Посчитаем явные дубликаты в таблице одной командой:"
   ]
  },
  {
   "cell_type": "code",
   "execution_count": 12,
   "metadata": {
    "deletable": false,
    "id": "36eES_S0_Zct"
   },
   "outputs": [
    {
     "data": {
      "text/plain": [
       "3826"
      ]
     },
     "execution_count": 12,
     "metadata": {},
     "output_type": "execute_result"
    }
   ],
   "source": [
    "df.duplicated().sum() # подсчитываем явные дубликаты"
   ]
  },
  {
   "cell_type": "markdown",
   "metadata": {
    "deletable": true,
    "editable": true,
    "id": "Ot25h6XR_Zct",
    "slideshow": {
     "slide_type": ""
    },
    "tags": [
     "start_task"
    ]
   },
   "source": [
    "**Задание 13**\n",
    "\n",
    "Вызовем специальный метод `pandas`, чтобы удалить явные дубликаты:"
   ]
  },
  {
   "cell_type": "code",
   "execution_count": 13,
   "metadata": {
    "deletable": false,
    "id": "exFHq6tt_Zct"
   },
   "outputs": [],
   "source": [
    "# удаляем явные дубликаты с удалением старых индексов и \n",
    "# формированием новых\n",
    "df = df.drop_duplicates()"
   ]
  },
  {
   "cell_type": "markdown",
   "metadata": {
    "deletable": true,
    "editable": true,
    "id": "Im2YwBEG_Zct",
    "slideshow": {
     "slide_type": ""
    },
    "tags": [
     "start_task"
    ]
   },
   "source": [
    "**Задание 14**\n",
    "\n",
    "Ещё раз поcчитаем явные дубликаты в таблице — убедимся, что полностью от них избавились:"
   ]
  },
  {
   "cell_type": "code",
   "execution_count": 14,
   "metadata": {
    "deletable": false,
    "editable": true,
    "id": "-8PuNWQ0_Zct",
    "slideshow": {
     "slide_type": ""
    },
    "tags": []
   },
   "outputs": [
    {
     "data": {
      "text/plain": [
       "0"
      ]
     },
     "execution_count": 14,
     "metadata": {},
     "output_type": "execute_result"
    }
   ],
   "source": [
    "df.duplicated().sum()# проверяем явные дубликаты"
   ]
  },
  {
   "cell_type": "markdown",
   "metadata": {
    "deletable": true,
    "editable": true,
    "id": "QlFBsxAr_Zct",
    "slideshow": {
     "slide_type": ""
    },
    "tags": []
   },
   "source": [
    "Теперь избавимся от неявных дубликатов в колонке `genre`. Например, название одного и того же жанра может быть записано немного по-разному. Такие ошибки тоже повлияют на результат исследования."
   ]
  },
  {
   "cell_type": "markdown",
   "metadata": {
    "deletable": true,
    "editable": true,
    "id": "eSjWwsOh_Zct",
    "slideshow": {
     "slide_type": ""
    },
    "tags": [
     "start_task"
    ]
   },
   "source": [
    "**Задание 15**\n",
    "\n",
    "Выведем на экран список уникальных названий жанров, отсортированный в алфавитном порядке. Для этого:\n",
    "* извлечем нужный столбец датафрейма, \n",
    "* применим к нему метод сортировки,\n",
    "* для отсортированного столбца вызовем метод, который вернёт уникальные значения из столбца."
   ]
  },
  {
   "cell_type": "code",
   "execution_count": 15,
   "metadata": {
    "deletable": false,
    "id": "JIUcqzZN_Zct"
   },
   "outputs": [
    {
     "data": {
      "text/plain": [
       "array(['acid', 'acoustic', 'action', 'adult', 'africa', 'afrikaans',\n",
       "       'alternative', 'alternativepunk', 'ambient', 'americana',\n",
       "       'animated', 'anime', 'arabesk', 'arabic', 'arena',\n",
       "       'argentinetango', 'art', 'audiobook', 'author', 'avantgarde',\n",
       "       'axé', 'baile', 'balkan', 'beats', 'bigroom', 'black', 'bluegrass',\n",
       "       'blues', 'bollywood', 'bossa', 'brazilian', 'breakbeat', 'breaks',\n",
       "       'broadway', 'cantautori', 'cantopop', 'canzone', 'caribbean',\n",
       "       'caucasian', 'celtic', 'chamber', 'chanson', 'children', 'chill',\n",
       "       'chinese', 'choral', 'christian', 'christmas', 'classical',\n",
       "       'classicmetal', 'club', 'colombian', 'comedy', 'conjazz',\n",
       "       'contemporary', 'country', 'cuban', 'dance', 'dancehall',\n",
       "       'dancepop', 'dark', 'death', 'deep', 'deutschrock', 'deutschspr',\n",
       "       'dirty', 'disco', 'dnb', 'documentary', 'downbeat', 'downtempo',\n",
       "       'drum', 'dub', 'dubstep', 'eastern', 'easy', 'electronic',\n",
       "       'electropop', 'emo', 'entehno', 'epicmetal', 'estrada', 'ethnic',\n",
       "       'eurofolk', 'european', 'experimental', 'extrememetal', 'fado',\n",
       "       'fairytail', 'film', 'fitness', 'flamenco', 'folk', 'folklore',\n",
       "       'folkmetal', 'folkrock', 'folktronica', 'forró', 'frankreich',\n",
       "       'französisch', 'french', 'funk', 'future', 'gangsta', 'garage',\n",
       "       'german', 'ghazal', 'gitarre', 'glitch', 'gospel', 'gothic',\n",
       "       'grime', 'grunge', 'gypsy', 'handsup', \"hard'n'heavy\", 'hardcore',\n",
       "       'hardstyle', 'hardtechno', 'hip', 'hip-hop', 'hiphop',\n",
       "       'historisch', 'holiday', 'hop', 'horror', 'house', 'hymn', 'idm',\n",
       "       'independent', 'indian', 'indie', 'indipop', 'industrial',\n",
       "       'inspirational', 'instrumental', 'international', 'irish', 'jam',\n",
       "       'japanese', 'jazz', 'jewish', 'jpop', 'jungle', 'k-pop',\n",
       "       'karadeniz', 'karaoke', 'kayokyoku', 'korean', 'laiko', 'latin',\n",
       "       'latino', 'leftfield', 'local', 'lounge', 'loungeelectronic',\n",
       "       'lovers', 'malaysian', 'mandopop', 'marschmusik', 'meditative',\n",
       "       'mediterranean', 'melodic', 'metal', 'metalcore', 'mexican',\n",
       "       'middle', 'minimal', 'miscellaneous', 'modern', 'mood', 'mpb',\n",
       "       'muslim', 'native', 'neoklassik', 'neue', 'new', 'newage',\n",
       "       'newwave', 'nu', 'nujazz', 'numetal', 'oceania', 'old', 'opera',\n",
       "       'orchestral', 'other', 'piano', 'podcasts', 'pop', 'popdance',\n",
       "       'popelectronic', 'popeurodance', 'poprussian', 'post',\n",
       "       'posthardcore', 'postrock', 'power', 'progmetal', 'progressive',\n",
       "       'psychedelic', 'punjabi', 'punk', 'quebecois', 'ragga', 'ram',\n",
       "       'rancheras', 'rap', 'rave', 'reggae', 'reggaeton', 'regional',\n",
       "       'relax', 'religious', 'retro', 'rhythm', 'rnb', 'rnr', 'rock',\n",
       "       'rockabilly', 'rockalternative', 'rockindie', 'rockother',\n",
       "       'romance', 'roots', 'ruspop', 'rusrap', 'rusrock', 'russian',\n",
       "       'salsa', 'samba', 'scenic', 'schlager', 'self', 'sertanejo',\n",
       "       'shanson', 'shoegazing', 'showtunes', 'singer', 'ska', 'skarock',\n",
       "       'slow', 'smooth', 'soft', 'soul', 'soulful', 'sound', 'soundtrack',\n",
       "       'southern', 'specialty', 'speech', 'spiritual', 'sport',\n",
       "       'stonerrock', 'surf', 'swing', 'synthpop', 'synthrock',\n",
       "       'sängerportrait', 'tango', 'tanzorchester', 'taraftar', 'tatar',\n",
       "       'tech', 'techno', 'teen', 'thrash', 'top', 'traditional',\n",
       "       'tradjazz', 'trance', 'tribal', 'trip', 'triphop', 'tropical',\n",
       "       'türk', 'türkçe', 'ukrrock', 'unknown', 'urban', 'uzbek',\n",
       "       'variété', 'vi', 'videogame', 'vocal', 'western', 'world',\n",
       "       'worldbeat', 'ïîï', 'электроника'], dtype=object)"
      ]
     },
     "execution_count": 15,
     "metadata": {},
     "output_type": "execute_result"
    }
   ],
   "source": [
    "df['genre'].sort_values().unique()# выводим уникальные названия жанров"
   ]
  },
  {
   "cell_type": "markdown",
   "metadata": {
    "deletable": true,
    "editable": true,
    "id": "qej-Qmuo_Zct",
    "slideshow": {
     "slide_type": ""
    },
    "tags": [
     "start_task"
    ]
   },
   "source": [
    "**Задание 16**\n",
    "\n",
    "Найдем в списке неявные дубликаты названия `hiphop`. Это могут быть названия с ошибками или альтернативные названия того же жанра.\n",
    "\n",
    "Видим следующие неявные дубликаты:\n",
    "* *hip*,\n",
    "* *hop*,\n",
    "* *hip-hop*.\n",
    "\n",
    "Чтобы очистить от них таблицу используем метод `replace()` с двумя аргументами: списком строк-дубликатов (включающий *hip*, *hop* и *hip-hop*) и строкой с правильным значением. \n",
    "Нам нужно исправить колонку `genre` в таблице `df`: заменить каждое значение из списка дубликатов на верное. Вместо `hip`, `hop` и `hip-hop` в таблице должно быть значение `hiphop`:"
   ]
  },
  {
   "cell_type": "code",
   "execution_count": 16,
   "metadata": {
    "deletable": false,
    "id": "ErNDkmns_Zct"
   },
   "outputs": [],
   "source": [
    "# устраняем неявные дубликаты (меняем значения)\n",
    "duplicates = ['hip', 'hip-hop', 'hop']\n",
    "\n",
    "name = 'hiphop'\n",
    "\n",
    "df['genre'] = df['genre'].replace(duplicates, name)"
   ]
  },
  {
   "cell_type": "markdown",
   "metadata": {
    "deletable": true,
    "editable": true,
    "id": "zQKF16_RG15m",
    "slideshow": {
     "slide_type": ""
    },
    "tags": [
     "start_task"
    ]
   },
   "source": [
    "**Задание 17**\n",
    "\n",
    "Проверим, что заменили неправильные названия:\n",
    "\n",
    "*   hip\n",
    "*   hop\n",
    "*   hip-hop\n",
    "\n",
    "Выведем отсортированный список уникальных значений столбца `genre`:"
   ]
  },
  {
   "cell_type": "code",
   "execution_count": 17,
   "metadata": {
    "deletable": false,
    "id": "wvixALnFG15m"
   },
   "outputs": [
    {
     "data": {
      "text/plain": [
       "array(['acid', 'acoustic', 'action', 'adult', 'africa', 'afrikaans',\n",
       "       'alternative', 'alternativepunk', 'ambient', 'americana',\n",
       "       'animated', 'anime', 'arabesk', 'arabic', 'arena',\n",
       "       'argentinetango', 'art', 'audiobook', 'author', 'avantgarde',\n",
       "       'axé', 'baile', 'balkan', 'beats', 'bigroom', 'black', 'bluegrass',\n",
       "       'blues', 'bollywood', 'bossa', 'brazilian', 'breakbeat', 'breaks',\n",
       "       'broadway', 'cantautori', 'cantopop', 'canzone', 'caribbean',\n",
       "       'caucasian', 'celtic', 'chamber', 'chanson', 'children', 'chill',\n",
       "       'chinese', 'choral', 'christian', 'christmas', 'classical',\n",
       "       'classicmetal', 'club', 'colombian', 'comedy', 'conjazz',\n",
       "       'contemporary', 'country', 'cuban', 'dance', 'dancehall',\n",
       "       'dancepop', 'dark', 'death', 'deep', 'deutschrock', 'deutschspr',\n",
       "       'dirty', 'disco', 'dnb', 'documentary', 'downbeat', 'downtempo',\n",
       "       'drum', 'dub', 'dubstep', 'eastern', 'easy', 'electronic',\n",
       "       'electropop', 'emo', 'entehno', 'epicmetal', 'estrada', 'ethnic',\n",
       "       'eurofolk', 'european', 'experimental', 'extrememetal', 'fado',\n",
       "       'fairytail', 'film', 'fitness', 'flamenco', 'folk', 'folklore',\n",
       "       'folkmetal', 'folkrock', 'folktronica', 'forró', 'frankreich',\n",
       "       'französisch', 'french', 'funk', 'future', 'gangsta', 'garage',\n",
       "       'german', 'ghazal', 'gitarre', 'glitch', 'gospel', 'gothic',\n",
       "       'grime', 'grunge', 'gypsy', 'handsup', \"hard'n'heavy\", 'hardcore',\n",
       "       'hardstyle', 'hardtechno', 'hiphop', 'historisch', 'holiday',\n",
       "       'horror', 'house', 'hymn', 'idm', 'independent', 'indian', 'indie',\n",
       "       'indipop', 'industrial', 'inspirational', 'instrumental',\n",
       "       'international', 'irish', 'jam', 'japanese', 'jazz', 'jewish',\n",
       "       'jpop', 'jungle', 'k-pop', 'karadeniz', 'karaoke', 'kayokyoku',\n",
       "       'korean', 'laiko', 'latin', 'latino', 'leftfield', 'local',\n",
       "       'lounge', 'loungeelectronic', 'lovers', 'malaysian', 'mandopop',\n",
       "       'marschmusik', 'meditative', 'mediterranean', 'melodic', 'metal',\n",
       "       'metalcore', 'mexican', 'middle', 'minimal', 'miscellaneous',\n",
       "       'modern', 'mood', 'mpb', 'muslim', 'native', 'neoklassik', 'neue',\n",
       "       'new', 'newage', 'newwave', 'nu', 'nujazz', 'numetal', 'oceania',\n",
       "       'old', 'opera', 'orchestral', 'other', 'piano', 'podcasts', 'pop',\n",
       "       'popdance', 'popelectronic', 'popeurodance', 'poprussian', 'post',\n",
       "       'posthardcore', 'postrock', 'power', 'progmetal', 'progressive',\n",
       "       'psychedelic', 'punjabi', 'punk', 'quebecois', 'ragga', 'ram',\n",
       "       'rancheras', 'rap', 'rave', 'reggae', 'reggaeton', 'regional',\n",
       "       'relax', 'religious', 'retro', 'rhythm', 'rnb', 'rnr', 'rock',\n",
       "       'rockabilly', 'rockalternative', 'rockindie', 'rockother',\n",
       "       'romance', 'roots', 'ruspop', 'rusrap', 'rusrock', 'russian',\n",
       "       'salsa', 'samba', 'scenic', 'schlager', 'self', 'sertanejo',\n",
       "       'shanson', 'shoegazing', 'showtunes', 'singer', 'ska', 'skarock',\n",
       "       'slow', 'smooth', 'soft', 'soul', 'soulful', 'sound', 'soundtrack',\n",
       "       'southern', 'specialty', 'speech', 'spiritual', 'sport',\n",
       "       'stonerrock', 'surf', 'swing', 'synthpop', 'synthrock',\n",
       "       'sängerportrait', 'tango', 'tanzorchester', 'taraftar', 'tatar',\n",
       "       'tech', 'techno', 'teen', 'thrash', 'top', 'traditional',\n",
       "       'tradjazz', 'trance', 'tribal', 'trip', 'triphop', 'tropical',\n",
       "       'türk', 'türkçe', 'ukrrock', 'unknown', 'urban', 'uzbek',\n",
       "       'variété', 'vi', 'videogame', 'vocal', 'western', 'world',\n",
       "       'worldbeat', 'ïîï', 'электроника'], dtype=object)"
      ]
     },
     "execution_count": 17,
     "metadata": {},
     "output_type": "execute_result"
    }
   ],
   "source": [
    "df['genre'].sort_values().unique()# проверяем результат"
   ]
  },
  {
   "cell_type": "markdown",
   "metadata": {
    "deletable": true,
    "editable": true,
    "id": "jz6a9-7HQUDd",
    "slideshow": {
     "slide_type": ""
    },
    "tags": []
   },
   "source": [
    "**Выводы**\n",
    "\n",
    "Предобработка обнаружила три проблемы в данных:\n",
    "\n",
    "- нарушения в стиле заголовков,\n",
    "- пропущенные значения,\n",
    "- дубликаты — явные и неявные.\n",
    "\n",
    "Мы исправили заголовки, чтобы упростить работу с таблицей. Без дубликатов исследование станет более точным.\n",
    "\n",
    "Пропущенные значения заменили на `'unknown'`. Ещё предстоит увидеть, не повредят ли исследованию пропуски в колонке `genre`.\n",
    "\n",
    "Теперь можно перейти к проверке гипотез. "
   ]
  },
  {
   "cell_type": "markdown",
   "metadata": {
    "deletable": false,
    "editable": false,
    "id": "WttZHXH0SqKk"
   },
   "source": [
    "## Проверка гипотез"
   ]
  },
  {
   "cell_type": "markdown",
   "metadata": {
    "deletable": false,
    "editable": false,
    "id": "Im936VVi_Zcu"
   },
   "source": [
    "### Сравнение поведения пользователей двух столиц"
   ]
  },
  {
   "cell_type": "markdown",
   "metadata": {
    "deletable": true,
    "editable": true,
    "id": "nwt_MuaL_Zcu",
    "slideshow": {
     "slide_type": ""
    },
    "tags": []
   },
   "source": [
    "Первая гипотеза утверждает, что пользователи по-разному слушают музыку в Москве и Санкт-Петербурге. Проверим это предположение по данным о трёх днях недели — понедельнике, среде и пятнице. Для этого:\n",
    "\n",
    "* Разделим пользователей Москвы и Санкт-Петербурга\n",
    "* Сравним, сколько треков послушала каждая группа пользователей в понедельник, среду и пятницу."
   ]
  },
  {
   "cell_type": "markdown",
   "metadata": {
    "deletable": true,
    "editable": true,
    "id": "8Dw_YMmT_Zcu",
    "slideshow": {
     "slide_type": ""
    },
    "tags": [
     "start_task"
    ]
   },
   "source": [
    "**Задание 18**\n",
    "\n",
    "Для тренировки сначала выполним каждый из расчётов по отдельности. \n",
    "\n",
    "Оценим активность пользователей в каждом городе. Сгруппируем данные по городу и посчитаем прослушивания в каждой группе."
   ]
  },
  {
   "cell_type": "code",
   "execution_count": 18,
   "metadata": {
    "deletable": false,
    "id": "0_Qs96oh_Zcu"
   },
   "outputs": [
    {
     "data": {
      "text/plain": [
       "city\n",
       "Moscow              42741\n",
       "Saint-Petersburg    18512\n",
       "Name: user_id, dtype: int64"
      ]
     },
     "execution_count": 18,
     "metadata": {},
     "output_type": "execute_result"
    }
   ],
   "source": [
    "# подсчитываем прослушивания в каждом городе\n",
    "user_by_region = df.groupby('city')['user_id'].count()\n",
    "user_by_region "
   ]
  },
  {
   "cell_type": "markdown",
   "metadata": {
    "deletable": true,
    "editable": true,
    "id": "dzli3w8o_Zcu",
    "slideshow": {
     "slide_type": ""
    },
    "tags": [
     "start_task"
    ]
   },
   "source": [
    "В Москве прослушиваний больше, чем в Петербурге. Из этого не следует, что московские пользователи чаще слушают музыку. Просто самих пользователей в Москве больше.\n",
    "\n",
    "**Задание 19**\n",
    "\n",
    "Теперь сгруппируем данные по дню недели и подсчитаем прослушивания в понедельник, среду и пятницу. Учтем, что в данных есть информация о прослушиваниях только за эти дни."
   ]
  },
  {
   "cell_type": "code",
   "execution_count": 19,
   "metadata": {
    "deletable": false,
    "id": "uZMKjiJz_Zcu"
   },
   "outputs": [
    {
     "data": {
      "text/plain": [
       "day\n",
       "Friday       21840\n",
       "Monday       21354\n",
       "Wednesday    18059\n",
       "Name: user_id, dtype: int64"
      ]
     },
     "execution_count": 19,
     "metadata": {},
     "output_type": "execute_result"
    }
   ],
   "source": [
    "# подсчитываем прослушивания в каждый из трёх дней\n",
    "user_by_day = df.groupby('day')['user_id'].count()\n",
    "user_by_day"
   ]
  },
  {
   "cell_type": "markdown",
   "metadata": {
    "deletable": true,
    "editable": true,
    "id": "cC2tNrlL_Zcu",
    "slideshow": {
     "slide_type": ""
    },
    "tags": []
   },
   "source": [
    "В среднем пользователи из двух городов менее активны по средам. Но картина может измениться, если рассмотреть каждый город в отдельности."
   ]
  },
  {
   "cell_type": "markdown",
   "metadata": {
    "deletable": true,
    "editable": true,
    "id": "POzs8bGa_Zcu",
    "slideshow": {
     "slide_type": ""
    },
    "tags": [
     "start_task"
    ]
   },
   "source": [
    "**Задание 20**\n",
    "\n",
    "Мы видели, как работает группировка по городу и по дням недели. Теперь напишем функцию, которая объединит два эти расчёта.\n",
    "\n",
    "Создадим функцию `number_tracks()`, которая посчитает прослушивания для заданного дня и города. Ей понадобятся два параметра:\n",
    "* день недели,\n",
    "* название города.\n",
    "\n",
    "В функции сохраним в переменную строки исходной таблицы, у которых значение:\n",
    "  * в колонке `day` равно параметру `day`,\n",
    "  * в колонке `city` равно параметру `city`.\n",
    "\n",
    "Для этого применим последовательную фильтрацию с логической индексацией.\n",
    "\n",
    "Затем посчитаем значения в столбце `user_id` получившейся таблицы. Результат сохраним в новую переменную. Вернем эту переменную из функции."
   ]
  },
  {
   "cell_type": "code",
   "execution_count": 20,
   "metadata": {
    "deletable": false,
    "id": "Nz3GdQB1_Zcu"
   },
   "outputs": [
    {
     "data": {
      "text/plain": [
       "15945"
      ]
     },
     "execution_count": 20,
     "metadata": {},
     "output_type": "execute_result"
    }
   ],
   "source": [
    "# Функция для подсчёта прослушиваний для конкретного города и дня.\n",
    "# С помощью последовательной фильтрации с логической индексацией она \n",
    "# сначала получит из исходной таблицы строки с нужным днём,\n",
    "# затем из результата отфильтрует строки с нужным городом,\n",
    "# методом count() посчитает количество значений в колонке user_id. \n",
    "# Это количество функция вернёт в качестве результата.\n",
    "\n",
    "# <создаем функцию number_tracks()>\n",
    "# Объявляем функцию с двумя параметрами: day, city.\n",
    "# В переменной track_list сохраняются те строки таблицы df, для которых \n",
    "# значение в столбце 'day' равно параметру day и одновременно значение\n",
    "# в столбце 'city' равно параметру city \n",
    "# (используем последовательную фильтрацию).\n",
    "# В переменной track_list_count сохраняем число значений столбца 'user_id',\n",
    "# рассчитанное методом count() для таблицы track_list.\n",
    "# Функция возвращает число - значение track_list_count.\n",
    "def number_tracks(day, city):\n",
    "    track_list = df[df['day']== day]\n",
    "    track_list = track_list[track_list['city']== city]\n",
    "    track_list_count = track_list['user_id'].count()\n",
    "    \n",
    "    return track_list_count\n",
    "    track_list_count\n",
    "\n",
    "number_tracks('Friday', 'Moscow')"
   ]
  },
  {
   "cell_type": "markdown",
   "metadata": {
    "deletable": true,
    "editable": true,
    "id": "ytf7xFrFJQ2r",
    "slideshow": {
     "slide_type": ""
    },
    "tags": [
     "start_task"
    ]
   },
   "source": [
    "**Задание 21**\n",
    "\n",
    "Вызовем `number_tracks()` шесть раз, меняя значение параметров — так, чтобы получить данные для каждого города в каждый из трёх дней."
   ]
  },
  {
   "cell_type": "code",
   "execution_count": 21,
   "metadata": {
    "deletable": false,
    "id": "rJcRATNQ_Zcu"
   },
   "outputs": [
    {
     "data": {
      "text/plain": [
       "15740"
      ]
     },
     "execution_count": 21,
     "metadata": {},
     "output_type": "execute_result"
    }
   ],
   "source": [
    "# получаем количество прослушиваний в Москве по понедельникам\n",
    "def number_tracks(day, city):\n",
    "    track_list = df[df['day']== day]\n",
    "    track_list = track_list[track_list['city']== city]\n",
    "    track_list_count = track_list['user_id'].count()\n",
    "    \n",
    "    return track_list_count\n",
    "    track_list_count\n",
    "\n",
    "number_tracks('Monday', 'Moscow')"
   ]
  },
  {
   "cell_type": "code",
   "execution_count": 22,
   "metadata": {
    "deletable": false,
    "id": "hq_ncZ5T_Zcu"
   },
   "outputs": [
    {
     "data": {
      "text/plain": [
       "5614"
      ]
     },
     "execution_count": 22,
     "metadata": {},
     "output_type": "execute_result"
    }
   ],
   "source": [
    "# получаем количество прослушиваний в Санкт-Петербурге по понедельникам\n",
    "def number_tracks(day, city):\n",
    "    track_list = df[df['day']== day]\n",
    "    track_list = track_list[track_list['city']== city]\n",
    "    track_list_count = track_list['user_id'].count()\n",
    "    \n",
    "    return track_list_count\n",
    "    track_list_count\n",
    "\n",
    "number_tracks('Monday', 'Saint-Petersburg')"
   ]
  },
  {
   "cell_type": "code",
   "execution_count": 23,
   "metadata": {
    "deletable": false,
    "id": "_NTy2VPU_Zcu"
   },
   "outputs": [
    {
     "data": {
      "text/plain": [
       "11056"
      ]
     },
     "execution_count": 23,
     "metadata": {},
     "output_type": "execute_result"
    }
   ],
   "source": [
    "# получаем количество прослушиваний в Москве по средам\n",
    "def number_tracks(day, city):\n",
    "    track_list = df[df['day']== day]\n",
    "    track_list = track_list[track_list['city']== city]\n",
    "    track_list_count = track_list['user_id'].count()\n",
    "    \n",
    "    return track_list_count\n",
    "    track_list_count\n",
    "\n",
    "number_tracks('Wednesday', 'Moscow')"
   ]
  },
  {
   "cell_type": "code",
   "execution_count": 24,
   "metadata": {
    "deletable": false,
    "id": "j2y3TAwo_Zcu"
   },
   "outputs": [
    {
     "data": {
      "text/plain": [
       "7003"
      ]
     },
     "execution_count": 24,
     "metadata": {},
     "output_type": "execute_result"
    }
   ],
   "source": [
    "# получаем количество прослушиваний в Санкт-Петербурге по средам\n",
    "def number_tracks(day, city):\n",
    "    track_list = df[df['day']== day]\n",
    "    track_list = track_list[track_list['city']== city]\n",
    "    track_list_count = track_list['user_id'].count()\n",
    "    \n",
    "    return track_list_count\n",
    "    track_list_count\n",
    "\n",
    "number_tracks('Wednesday', 'Saint-Petersburg')"
   ]
  },
  {
   "cell_type": "code",
   "execution_count": 25,
   "metadata": {
    "deletable": false,
    "id": "vYDw5u_K_Zcu"
   },
   "outputs": [
    {
     "data": {
      "text/plain": [
       "15945"
      ]
     },
     "execution_count": 25,
     "metadata": {},
     "output_type": "execute_result"
    }
   ],
   "source": [
    "# получаем количество прослушиваний в Москве по пятницам\n",
    "def number_tracks(day, city):\n",
    "    track_list = df[df['day']== day]\n",
    "    track_list = track_list[track_list['city']== city]\n",
    "    track_list_count = track_list['user_id'].count()\n",
    "    \n",
    "    return track_list_count\n",
    "    track_list_count\n",
    "\n",
    "number_tracks('Friday', 'Moscow')"
   ]
  },
  {
   "cell_type": "code",
   "execution_count": 26,
   "metadata": {
    "deletable": false,
    "id": "8_yzFtW3_Zcu"
   },
   "outputs": [
    {
     "data": {
      "text/plain": [
       "5895"
      ]
     },
     "execution_count": 26,
     "metadata": {},
     "output_type": "execute_result"
    }
   ],
   "source": [
    "# получаем количество прослушиваний в Санкт-Петербурге по пятницам\n",
    "def number_tracks(day, city):\n",
    "    track_list = df[df['day']== day]\n",
    "    track_list = track_list[track_list['city']== city]\n",
    "    track_list_count = track_list['user_id'].count()\n",
    "    \n",
    "    return track_list_count\n",
    "    track_list_count\n",
    "\n",
    "number_tracks('Friday', 'Saint-Petersburg')"
   ]
  },
  {
   "cell_type": "markdown",
   "metadata": {
    "deletable": true,
    "editable": true,
    "id": "7QXffbO-_Zcu",
    "slideshow": {
     "slide_type": ""
    },
    "tags": [
     "start_task"
    ]
   },
   "source": [
    "**Задание 22**\n",
    "\n",
    "Создаем c помощью конструктора `pd.DataFrame` таблицу, где\n",
    "* названия колонок — `['city', 'monday', 'wednesday', 'friday']`;\n",
    "* данные — результаты, которые мы получили с помощью `number_tracks`."
   ]
  },
  {
   "cell_type": "code",
   "execution_count": 27,
   "metadata": {
    "deletable": false,
    "id": "APAcLpOr_Zcu"
   },
   "outputs": [
    {
     "data": {
      "text/html": [
       "<div>\n",
       "<style scoped>\n",
       "    .dataframe tbody tr th:only-of-type {\n",
       "        vertical-align: middle;\n",
       "    }\n",
       "\n",
       "    .dataframe tbody tr th {\n",
       "        vertical-align: top;\n",
       "    }\n",
       "\n",
       "    .dataframe thead th {\n",
       "        text-align: right;\n",
       "    }\n",
       "</style>\n",
       "<table border=\"1\" class=\"dataframe\">\n",
       "  <thead>\n",
       "    <tr style=\"text-align: right;\">\n",
       "      <th></th>\n",
       "      <th>city</th>\n",
       "      <th>monday</th>\n",
       "      <th>Wednesday</th>\n",
       "      <th>friday</th>\n",
       "    </tr>\n",
       "  </thead>\n",
       "  <tbody>\n",
       "    <tr>\n",
       "      <th>0</th>\n",
       "      <td>Moscow</td>\n",
       "      <td>15740</td>\n",
       "      <td>11056</td>\n",
       "      <td>15945</td>\n",
       "    </tr>\n",
       "    <tr>\n",
       "      <th>1</th>\n",
       "      <td>Saint-Petersburg</td>\n",
       "      <td>5614</td>\n",
       "      <td>7003</td>\n",
       "      <td>5895</td>\n",
       "    </tr>\n",
       "  </tbody>\n",
       "</table>\n",
       "</div>"
      ],
      "text/plain": [
       "               city  monday  Wednesday  friday\n",
       "0            Moscow   15740      11056   15945\n",
       "1  Saint-Petersburg    5614       7003    5895"
      ]
     },
     "execution_count": 27,
     "metadata": {},
     "output_type": "execute_result"
    }
   ],
   "source": [
    "# строим таблицу с результатами\n",
    "datas = [\n",
    "    ['Moscow', 15740 , 11056 , 15945 ],\n",
    "    ['Saint-Petersburg' , 5614 , 7003 , 5895]\n",
    "]\n",
    "column = ['city', 'monday', 'Wednesday', 'friday'] \n",
    "\n",
    "\n",
    "\n",
    "info = pd.DataFrame(data=datas, columns=column)\n",
    "info "
   ]
  },
  {
   "cell_type": "markdown",
   "metadata": {
    "deletable": true,
    "editable": true,
    "id": "-EgPIHYu_Zcu",
    "slideshow": {
     "slide_type": ""
    },
    "tags": []
   },
   "source": [
    "**Выводы**\n",
    "\n",
    "Данные показывают разницу поведения пользователей:\n",
    "\n",
    "- В Москве пик прослушиваний приходится на понедельник и пятницу, а в среду заметен спад.\n",
    "- В Петербурге, наоборот, больше слушают музыку по средам. Активность в понедельник и пятницу здесь почти в равной мере уступает среде.\n",
    "\n",
    "Значит, данные говорят в пользу первой гипотезы."
   ]
  },
  {
   "cell_type": "markdown",
   "metadata": {
    "deletable": false,
    "editable": false,
    "id": "atZAxtq4_Zcu"
   },
   "source": [
    "### Музыка в начале и в конце недели"
   ]
  },
  {
   "cell_type": "markdown",
   "metadata": {
    "deletable": true,
    "editable": true,
    "id": "eXrQqXFH_Zcu",
    "slideshow": {
     "slide_type": ""
    },
    "tags": []
   },
   "source": [
    "Согласно второй гипотезе, утром в понедельник в Москве преобладают одни жанры, а в Петербурге — другие. Так же и вечером пятницы преобладают разные жанры — в зависимости от города."
   ]
  },
  {
   "cell_type": "markdown",
   "metadata": {
    "deletable": true,
    "editable": true,
    "id": "S8UcW6Hw_Zcu",
    "slideshow": {
     "slide_type": ""
    },
    "tags": [
     "start_task"
    ]
   },
   "source": [
    "**Задание 23**\n",
    "\n",
    "Сохраним таблицы с данными в две переменные:\n",
    "* по Москве — в `moscow_general`;\n",
    "* по Санкт-Петербургу — в `spb_general`."
   ]
  },
  {
   "cell_type": "code",
   "execution_count": 28,
   "metadata": {
    "deletable": false,
    "editable": true,
    "id": "qeaFfM_P_Zcu",
    "slideshow": {
     "slide_type": ""
    },
    "tags": []
   },
   "outputs": [],
   "source": [
    "# получаем таблицу moscow_general из тех строк таблицы df, \n",
    "# для которых значение в столбце 'city' равно 'Moscow'\n",
    "moscow_general = df[df['city'] == 'Moscow'] "
   ]
  },
  {
   "cell_type": "code",
   "execution_count": 29,
   "metadata": {
    "deletable": false,
    "editable": true,
    "id": "ORaVRKto_Zcu",
    "slideshow": {
     "slide_type": ""
    },
    "tags": []
   },
   "outputs": [],
   "source": [
    "# получаем таблицу spb_general из тех строк таблицы df,\n",
    "# для которых значение в столбце 'city' равно 'Saint-Petersburg'\n",
    "spb_general = df[df['city'] == 'Saint-Petersburg']"
   ]
  },
  {
   "cell_type": "markdown",
   "metadata": {
    "deletable": true,
    "editable": true,
    "id": "MEJV-CX2_Zcu",
    "slideshow": {
     "slide_type": ""
    },
    "tags": [
     "start_task"
    ]
   },
   "source": [
    "**Задание 24**\n",
    "\n",
    "Создаем функцию `genre_weekday()` с четырьмя параметрами:\n",
    "* таблица (датафрейм) с данными,\n",
    "* день недели,\n",
    "* начальная временная метка в формате 'hh:mm', \n",
    "* последняя временная метка в формате 'hh:mm'.\n",
    "\n",
    "Функция должна вернуть информацию о топ-10 жанров тех треков, которые прослушивали в указанный день, в промежутке между двумя отметками времени."
   ]
  },
  {
   "cell_type": "code",
   "execution_count": 30,
   "metadata": {
    "deletable": false,
    "editable": true,
    "id": "laJT9BYl_Zcu",
    "slideshow": {
     "slide_type": ""
    },
    "tags": []
   },
   "outputs": [],
   "source": [
    "# Объявляем функцию genre_weekday() с параметрами \n",
    "# table, day, time1, time2, которая возвращает информацию \n",
    "# о самых популярных жанрах в указанный день в заданное время:\n",
    "# 1) в переменную genre_df сохраняются те строки переданного датафрейма \n",
    "#    table, для которых одновременно:\n",
    "#    - значение в столбце day равно значению аргумента day\n",
    "#    - значение в столбце time больше значения аргумента time1\n",
    "#    - значение в столбце time меньше значения аргумента time2\n",
    "#    Используем последовательную фильтрацию с помощью \n",
    "#    логической индексации.\n",
    "# 2) группируем датафрейм genre_df по столбцу genre, берем один из его\n",
    "#    столбцов и считаем методом count() количество записей для каждого\n",
    "#    из присутствующих жанров, \n",
    "#    получившийся Series записываем в переменную genre_df_grouped\n",
    "# 3) сортируем genre_df_grouped по убыванию встречаемости и сохраняем\n",
    "#    в переменную genre_df_sorted\n",
    "# 4) возвращаем Series из 10 первых значений genre_df_sorted, \n",
    "#    это будут топ-10 популярных жанров \n",
    "#    (в указанный день, в заданное время)\n",
    "def genre_weekday(df, day, time1, time2):\n",
    "    \n",
    "    # последовательная фильтрация:\n",
    "    # оставляем в genre_df только те строки df, у которых день равен day\n",
    "    genre_df = df[df['day'] == day]\n",
    "    \n",
    "    # оставляем в genre_df только те строки genre_df, \n",
    "    # у которых время меньше time2\n",
    "    genre_df = genre_df[genre_df['time'] < time2]\n",
    "    \n",
    "    # оставляем в genre_df только те строки genre_df, \n",
    "    #у которых время больше time1\n",
    "    genre_df = genre_df[genre_df['time'] > time1]\n",
    "    \n",
    "    # группируем отфильтрованный датафрейм по столбцу \n",
    "    # с названиями жанров, возьмём столбец genre \n",
    "    # и посчитаем кол-во строк для каждого жанра методом count()\n",
    "    genre_df_grouped = genre_df.groupby('genre')['genre'].count()\n",
    "    \n",
    "    # сортируем результат по убыванию (чтобы в начале Series \n",
    "    # оказались самые популярные жанры)\n",
    "    genre_df_sorted = genre_df_grouped.sort_values(ascending=False) \n",
    "    \n",
    "    # возвращаем Series с 10 самыми популярными жанрами \n",
    "    # в указанный отрезок времени заданного дня\n",
    "    return genre_df_sorted[:10]    "
   ]
  },
  {
   "cell_type": "markdown",
   "metadata": {
    "deletable": true,
    "editable": true,
    "id": "la2s2_PF_Zcu",
    "slideshow": {
     "slide_type": ""
    },
    "tags": [
     "start_task"
    ]
   },
   "source": [
    "**Задание 25**\n",
    "\n",
    "Cравним результаты функции `genre_weekday()` для Москвы и Санкт-Петербурга в понедельник утром (с 7:00 до 11:00) и в пятницу вечером (с 17:00 до 23:00):"
   ]
  },
  {
   "cell_type": "code",
   "execution_count": 31,
   "metadata": {
    "deletable": false,
    "editable": true,
    "id": "yz7itPUQ_Zcu",
    "slideshow": {
     "slide_type": ""
    },
    "tags": []
   },
   "outputs": [
    {
     "data": {
      "text/plain": [
       "genre\n",
       "pop            781\n",
       "dance          549\n",
       "electronic     480\n",
       "rock           474\n",
       "hiphop         286\n",
       "ruspop         186\n",
       "world          181\n",
       "rusrap         175\n",
       "alternative    164\n",
       "unknown        161\n",
       "Name: genre, dtype: int64"
      ]
     },
     "execution_count": 31,
     "metadata": {},
     "output_type": "execute_result"
    }
   ],
   "source": [
    "# вызываем функцию для утра понедельника в Москве: \n",
    "# (вместо df — таблица moscow_general)\n",
    "# объекты, хранящие время, являются строками \n",
    "# и сравниваются как строки\n",
    "# пример вызова: genre_weekday\n",
    "# (moscow_general, 'Monday', '07:00', '11:00')\n",
    "def genre_weekday(df, day, time1, time2):\n",
    "    \n",
    "    genre_df = df[df['day'] == day]\n",
    "    genre_df = genre_df[genre_df['time'] < time2]\n",
    "    genre_df = genre_df[genre_df['time'] > time1]\n",
    "    \n",
    "    genre_df_grouped = genre_df.groupby('genre')['genre'].count()\n",
    "    genre_df_sorted = genre_df_grouped.sort_values(ascending=False)\n",
    "    \n",
    "    return genre_df_sorted[:10]\n",
    "\n",
    "genre_weekday(moscow_general, 'Monday', '07:00', '11:00')"
   ]
  },
  {
   "cell_type": "code",
   "execution_count": 32,
   "metadata": {
    "deletable": false,
    "editable": true,
    "id": "kwUcHPdy_Zcu",
    "slideshow": {
     "slide_type": ""
    },
    "tags": []
   },
   "outputs": [
    {
     "data": {
      "text/plain": [
       "genre\n",
       "pop            218\n",
       "dance          182\n",
       "rock           162\n",
       "electronic     147\n",
       "hiphop          80\n",
       "ruspop          64\n",
       "alternative     58\n",
       "rusrap          55\n",
       "jazz            44\n",
       "classical       40\n",
       "Name: genre, dtype: int64"
      ]
     },
     "execution_count": 32,
     "metadata": {},
     "output_type": "execute_result"
    }
   ],
   "source": [
    "# вызываем функцию для утра понедельника в Петербурге \n",
    "# (вместо df — таблица spb_general)\n",
    "def genre_weekday(df, day, time1, time2):\n",
    "    \n",
    "    genre_df = df[df['day'] == day]\n",
    "    genre_df = genre_df[genre_df['time'] < time2]\n",
    "    genre_df = genre_df[genre_df['time'] > time1]\n",
    "    \n",
    "    genre_df_grouped = genre_df.groupby('genre')['genre'].count()\n",
    "    genre_df_sorted = genre_df_grouped.sort_values(ascending=False)\n",
    "    \n",
    "    return genre_df_sorted[:10]\n",
    "\n",
    "genre_weekday(spb_general, 'Monday', '07:00', '11:00')"
   ]
  },
  {
   "cell_type": "code",
   "execution_count": 33,
   "metadata": {
    "deletable": false,
    "editable": true,
    "id": "EzXVRE1o_Zcu",
    "slideshow": {
     "slide_type": ""
    },
    "tags": []
   },
   "outputs": [
    {
     "data": {
      "text/plain": [
       "genre\n",
       "pop            713\n",
       "rock           517\n",
       "dance          495\n",
       "electronic     482\n",
       "hiphop         273\n",
       "world          208\n",
       "ruspop         170\n",
       "alternative    163\n",
       "classical      163\n",
       "rusrap         142\n",
       "Name: genre, dtype: int64"
      ]
     },
     "execution_count": 33,
     "metadata": {},
     "output_type": "execute_result"
    }
   ],
   "source": [
    "# вызываем функцию для вечера пятницы в Москве\n",
    "def genre_weekday(df, day, time1, time2):\n",
    "    \n",
    "    genre_df = df[df['day'] == day]\n",
    "    genre_df = genre_df[genre_df['time'] < time2]\n",
    "    genre_df = genre_df[genre_df['time'] > time1]\n",
    "    \n",
    "    genre_df_grouped = genre_df.groupby('genre')['genre'].count()\n",
    "    genre_df_sorted = genre_df_grouped.sort_values(ascending=False)\n",
    "    \n",
    "    return genre_df_sorted[:10]\n",
    "\n",
    "genre_weekday(moscow_general, 'Friday', '17:00', '23:00')"
   ]
  },
  {
   "cell_type": "code",
   "execution_count": 34,
   "metadata": {
    "deletable": false,
    "id": "JZaEKu5v_Zcu"
   },
   "outputs": [
    {
     "data": {
      "text/plain": [
       "genre\n",
       "pop            256\n",
       "electronic     216\n",
       "rock           216\n",
       "dance          210\n",
       "hiphop          97\n",
       "alternative     63\n",
       "jazz            61\n",
       "classical       60\n",
       "rusrap          59\n",
       "world           54\n",
       "Name: genre, dtype: int64"
      ]
     },
     "execution_count": 34,
     "metadata": {},
     "output_type": "execute_result"
    }
   ],
   "source": [
    "# вызываем функцию для вечера пятницы в Петербурге\n",
    "def genre_weekday(df, day, time1, time2):\n",
    "    \n",
    "    genre_df = df[df['day'] == day]\n",
    "    genre_df = genre_df[genre_df['time'] < time2]\n",
    "    genre_df = genre_df[genre_df['time'] > time1]\n",
    "    \n",
    "    genre_df_grouped = genre_df.groupby('genre')['genre'].count()\n",
    "    genre_df_sorted = genre_df_grouped.sort_values(ascending=False)\n",
    "    \n",
    "    return genre_df_sorted[:10]\n",
    "\n",
    "genre_weekday(spb_general, 'Friday', '17:00', '23:00')"
   ]
  },
  {
   "cell_type": "markdown",
   "metadata": {
    "deletable": true,
    "editable": true,
    "id": "wrCe4MNX_Zcu",
    "slideshow": {
     "slide_type": ""
    },
    "tags": []
   },
   "source": [
    "**Выводы**\n",
    "\n",
    "Если сравнить топ-10 жанров в понедельник утром, можно сделать такие выводы:\n",
    "\n",
    "1. В Москве и Петербурге слушают похожую музыку. Единственное отличие — в московский рейтинг вошёл жанр “world”, а в петербургский — джаз и классика.\n",
    "\n",
    "2. В Москве пропущенных значений оказалось так много, что значение `'unknown'` заняло десятое место среди самых популярных жанров. Значит, пропущенные значения занимают существенную долю в данных и угрожают достоверности исследования.\n",
    "\n",
    "Вечер пятницы не меняет эту картину. Некоторые жанры поднимаются немного выше, другие спускаются, но в целом топ-10 остаётся тем же самым.\n",
    "\n",
    "Таким образом, вторая гипотеза подтвердилась лишь частично:\n",
    "* Пользователи слушают похожую музыку в начале недели и в конце.\n",
    "* Разница между Москвой и Петербургом не слишком выражена. В Москве чаще слушают русскую популярную музыку, в Петербурге — джаз.\n",
    "\n",
    "Однако пропуски в данных ставят под сомнение этот результат. В Москве их так много, что рейтинг топ-10 мог бы выглядеть иначе, если бы не утерянные  данные о жанрах."
   ]
  },
  {
   "cell_type": "markdown",
   "metadata": {
    "deletable": true,
    "editable": true,
    "id": "JolODAqr_Zcu",
    "slideshow": {
     "slide_type": ""
    },
    "tags": []
   },
   "source": [
    "### Жанровые предпочтения в Москве и Петербурге\n",
    "\n",
    "Гипотеза: Петербург — столица рэпа, музыку этого жанра там слушают чаще, чем в Москве.  А Москва — город контрастов, в котором, тем не менее, преобладает поп-музыка."
   ]
  },
  {
   "cell_type": "markdown",
   "metadata": {
    "deletable": true,
    "editable": true,
    "id": "DlegSvaT_Zcu",
    "slideshow": {
     "slide_type": ""
    },
    "tags": [
     "start_task"
    ]
   },
   "source": [
    "**Задание 26**\n",
    "\n",
    "Сгруппируем таблицу `moscow_general` по жанру и посчитаем прослушивания треков каждого жанра методом `count()`. Затем отсортируем результат в порядке убывания и сохраним его в таблице `moscow_genres`."
   ]
  },
  {
   "cell_type": "code",
   "execution_count": 35,
   "metadata": {
    "deletable": false,
    "editable": true,
    "id": "r19lIPke_Zcu",
    "slideshow": {
     "slide_type": ""
    },
    "tags": []
   },
   "outputs": [],
   "source": [
    "# одной строкой: группируем таблицы moscow_general по столбцу 'genre', \n",
    "# подсчитываем числа значений 'genre' в этой группировке методом count(), \n",
    "# сортируем получившийся Series в порядке убывания \n",
    "# и сохраняем в moscow_genres\n",
    "moscow_genres = moscow_general.groupby('genre')['genre'].count().sort_values(ascending=False)"
   ]
  },
  {
   "cell_type": "markdown",
   "metadata": {
    "deletable": true,
    "editable": true,
    "id": "6kMuomxTiIr8",
    "slideshow": {
     "slide_type": ""
    },
    "tags": [
     "start_task"
    ]
   },
   "source": [
    "**Задание 27**\n",
    "\n",
    "Выведем на экран первые десять строк `moscow_genres`:"
   ]
  },
  {
   "cell_type": "code",
   "execution_count": 36,
   "metadata": {
    "deletable": false,
    "id": "WhCSooF8_Zcv"
   },
   "outputs": [
    {
     "data": {
      "text/plain": [
       "genre\n",
       "pop            5892\n",
       "dance          4435\n",
       "rock           3965\n",
       "electronic     3786\n",
       "hiphop         2096\n",
       "classical      1616\n",
       "world          1432\n",
       "alternative    1379\n",
       "ruspop         1372\n",
       "rusrap         1161\n",
       "Name: genre, dtype: int64"
      ]
     },
     "execution_count": 36,
     "metadata": {},
     "output_type": "execute_result"
    }
   ],
   "source": [
    "moscow_genres.head(10) # смотрим первые 10 строк moscow_genres"
   ]
  },
  {
   "cell_type": "markdown",
   "metadata": {
    "deletable": true,
    "editable": true,
    "id": "cnPG2vnN_Zcv",
    "slideshow": {
     "slide_type": ""
    },
    "tags": [
     "start_task"
    ]
   },
   "source": [
    "**Задание 28**\n",
    "\n",
    "Теперь повторим то же и для Петербурга.\n",
    "\n",
    "Сгруппируем таблицу `spb_general` по жанру. Посчитаем прослушивания треков каждого жанра. Результат отсортируем в порядке убывания и сохраним в таблице `spb_genres`:"
   ]
  },
  {
   "cell_type": "code",
   "execution_count": 37,
   "metadata": {
    "deletable": false,
    "editable": true,
    "id": "gluLIpE7_Zcv",
    "slideshow": {
     "slide_type": ""
    },
    "tags": []
   },
   "outputs": [],
   "source": [
    "# одной строкой: группировка таблицы spb_general по столбцу 'genre', \n",
    "# подсчитываем числа значений 'genre' в этой группировке методом count(), \n",
    "# сортируем получившийся Series \n",
    "# в порядке убывания и сохраняем в spb_genres\n",
    "spb_genres = spb_general.groupby('genre')['genre'].count().sort_values(ascending=False)"
   ]
  },
  {
   "cell_type": "markdown",
   "metadata": {
    "deletable": true,
    "editable": true,
    "id": "5Doha_ODgyQ8",
    "slideshow": {
     "slide_type": ""
    },
    "tags": [
     "start_task"
    ]
   },
   "source": [
    "**Задание 29**\n",
    "\n",
    "Выведем на экран первые десять строк `spb_genres`:"
   ]
  },
  {
   "cell_type": "code",
   "execution_count": 38,
   "metadata": {
    "deletable": false,
    "id": "uaGJHjVU_Zcv"
   },
   "outputs": [
    {
     "data": {
      "text/plain": [
       "genre\n",
       "pop            2431\n",
       "dance          1932\n",
       "rock           1879\n",
       "electronic     1736\n",
       "hiphop          960\n",
       "alternative     649\n",
       "classical       646\n",
       "rusrap          564\n",
       "ruspop          538\n",
       "world           515\n",
       "Name: genre, dtype: int64"
      ]
     },
     "execution_count": 38,
     "metadata": {},
     "output_type": "execute_result"
    }
   ],
   "source": [
    "spb_genres.head(10)# смотрим первые 10 строк spb_genres"
   ]
  },
  {
   "cell_type": "markdown",
   "metadata": {
    "deletable": false,
    "editable": false,
    "id": "RY51YJYu_Zcv"
   },
   "source": [
    "**Выводы**"
   ]
  },
  {
   "cell_type": "markdown",
   "metadata": {
    "deletable": true,
    "editable": true,
    "id": "nVhnJEm__Zcv",
    "slideshow": {
     "slide_type": ""
    },
    "tags": []
   },
   "source": [
    "Гипотеза частично подтвердилась:\n",
    "* Поп-музыка — самый популярный жанр в Москве, как и предполагала гипотеза. Более того, в топ-10 жанров встречается близкий жанр — русская популярная музыка.\n",
    "* Вопреки ожиданиям, рэп одинаково популярен в Москве и Петербурге. \n"
   ]
  },
  {
   "cell_type": "markdown",
   "metadata": {
    "deletable": false,
    "editable": false,
    "id": "ykKQ0N65_Zcv"
   },
   "source": [
    "## Итоги исследования"
   ]
  },
  {
   "cell_type": "markdown",
   "metadata": {
    "deletable": true,
    "editable": true,
    "id": "tjUwbHb3_Zcv",
    "slideshow": {
     "slide_type": ""
    },
    "tags": []
   },
   "source": [
    "Мы проверили три гипотезы и установили:\n",
    "\n",
    "1. День недели по-разному влияет на активность пользователей в Москве и Петербурге. \n",
    "\n",
    "Первая гипотеза полностью подтвердилась.\n",
    "\n",
    "2. Музыкальные предпочтения не сильно меняются в течение недели — будь то Москва или Петербург. Небольшие различия заметны в начале недели, по понедельникам:\n",
    "* в Москве слушают музыку жанра “world”,\n",
    "* в Петербурге — джаз и классику.\n",
    "\n",
    "Таким образом, вторая гипотеза подтвердилась лишь отчасти. Этот результат мог оказаться иным, если бы не пропуски в данных.\n",
    "\n",
    "3. Во вкусах пользователей Москвы и Петербурга больше общего чем различий. Вопреки ожиданиям, предпочтения жанров в Петербурге напоминают московские.\n",
    "\n",
    "Третья гипотеза не подтвердилась. Если различия в предпочтениях и существуют, на основной массе пользователей они незаметны.\n",
    "\n",
    "**На практике исследования содержат проверки статистических гипотез.**\n",
    "Из данных одного сервиса не всегда можно сделать вывод о всех жителях города.\n",
    "Проверки статистических гипотез покажут, насколько они достоверны, исходя из имеющихся данных. "
   ]
  },
  {
   "cell_type": "code",
   "execution_count": null,
   "metadata": {
    "editable": true,
    "slideshow": {
     "slide_type": ""
    },
    "tags": []
   },
   "outputs": [],
   "source": []
  }
 ],
 "metadata": {
  "ExecuteTimeLog": [
   {
    "duration": 426,
    "start_time": "2023-05-15T15:03:17.036Z"
   },
   {
    "duration": 464,
    "start_time": "2023-05-15T15:03:56.903Z"
   },
   {
    "duration": 20,
    "start_time": "2023-05-15T15:04:07.315Z"
   },
   {
    "duration": 30,
    "start_time": "2023-05-15T15:04:26.574Z"
   },
   {
    "duration": 3,
    "start_time": "2023-05-15T15:04:41.962Z"
   },
   {
    "duration": 4,
    "start_time": "2023-05-15T15:10:46.663Z"
   },
   {
    "duration": 12,
    "start_time": "2023-05-15T15:11:37.520Z"
   },
   {
    "duration": 5,
    "start_time": "2023-05-15T15:11:47.207Z"
   },
   {
    "duration": 24,
    "start_time": "2023-05-15T15:12:06.040Z"
   },
   {
    "duration": 51,
    "start_time": "2023-05-15T18:34:21.493Z"
   },
   {
    "duration": 459,
    "start_time": "2023-05-15T18:35:45.909Z"
   },
   {
    "duration": 517,
    "start_time": "2023-05-15T18:35:48.968Z"
   },
   {
    "duration": 18,
    "start_time": "2023-05-15T18:35:52.097Z"
   },
   {
    "duration": 29,
    "start_time": "2023-05-15T18:35:55.253Z"
   },
   {
    "duration": 3,
    "start_time": "2023-05-15T18:35:59.333Z"
   },
   {
    "duration": 5,
    "start_time": "2023-05-15T18:36:05.312Z"
   },
   {
    "duration": 14,
    "start_time": "2023-05-15T18:36:09.213Z"
   },
   {
    "duration": 5,
    "start_time": "2023-05-15T18:36:12.876Z"
   },
   {
    "duration": 26,
    "start_time": "2023-05-15T18:36:15.878Z"
   },
   {
    "duration": 22,
    "start_time": "2023-05-15T18:36:18.753Z"
   },
   {
    "duration": 39,
    "start_time": "2023-05-15T18:36:22.930Z"
   },
   {
    "duration": 89,
    "start_time": "2023-05-15T18:42:51.820Z"
   },
   {
    "duration": 91,
    "start_time": "2023-05-15T18:43:32.838Z"
   },
   {
    "duration": 78,
    "start_time": "2023-05-15T18:43:35.502Z"
   },
   {
    "duration": 51,
    "start_time": "2023-05-15T19:19:11.330Z"
   },
   {
    "duration": 47,
    "start_time": "2023-05-16T09:27:12.017Z"
   },
   {
    "duration": 482,
    "start_time": "2023-05-16T09:27:43.202Z"
   },
   {
    "duration": 267,
    "start_time": "2023-05-16T09:27:45.362Z"
   },
   {
    "duration": 21,
    "start_time": "2023-05-16T09:27:48.457Z"
   },
   {
    "duration": 40,
    "start_time": "2023-05-16T09:27:51.609Z"
   },
   {
    "duration": 2,
    "start_time": "2023-05-16T09:27:55.786Z"
   },
   {
    "duration": 4,
    "start_time": "2023-05-16T09:27:58.697Z"
   },
   {
    "duration": 12,
    "start_time": "2023-05-16T09:28:01.814Z"
   },
   {
    "duration": 4,
    "start_time": "2023-05-16T09:28:06.595Z"
   },
   {
    "duration": 25,
    "start_time": "2023-05-16T09:28:09.504Z"
   },
   {
    "duration": 19,
    "start_time": "2023-05-16T09:28:12.489Z"
   },
   {
    "duration": 27,
    "start_time": "2023-05-16T09:28:15.148Z"
   },
   {
    "duration": 66,
    "start_time": "2023-05-16T09:28:17.709Z"
   },
   {
    "duration": 73,
    "start_time": "2023-05-16T09:28:20.760Z"
   },
   {
    "duration": 54,
    "start_time": "2023-05-16T09:28:23.204Z"
   },
   {
    "duration": 48,
    "start_time": "2023-05-16T09:28:26.158Z"
   },
   {
    "duration": 11,
    "start_time": "2023-05-16T09:28:36.264Z"
   },
   {
    "duration": 37,
    "start_time": "2023-05-16T09:28:39.160Z"
   },
   {
    "duration": 10,
    "start_time": "2023-05-16T10:07:39.548Z"
   },
   {
    "duration": 12,
    "start_time": "2023-05-16T10:07:57.812Z"
   },
   {
    "duration": 13,
    "start_time": "2023-05-16T10:09:43.648Z"
   },
   {
    "duration": 6,
    "start_time": "2023-05-16T11:15:23.706Z"
   },
   {
    "duration": 62,
    "start_time": "2023-05-16T11:16:29.870Z"
   },
   {
    "duration": 9,
    "start_time": "2023-05-16T11:18:12.419Z"
   },
   {
    "duration": 8,
    "start_time": "2023-05-16T11:18:30.961Z"
   },
   {
    "duration": 13,
    "start_time": "2023-05-16T11:20:21.077Z"
   },
   {
    "duration": 13,
    "start_time": "2023-05-16T11:21:18.014Z"
   },
   {
    "duration": 27,
    "start_time": "2023-05-16T11:22:16.891Z"
   },
   {
    "duration": 9,
    "start_time": "2023-05-16T11:25:27.218Z"
   },
   {
    "duration": 48,
    "start_time": "2023-05-16T11:35:33.241Z"
   },
   {
    "duration": 422,
    "start_time": "2023-05-16T11:35:43.914Z"
   },
   {
    "duration": 402,
    "start_time": "2023-05-16T11:35:52.714Z"
   },
   {
    "duration": 209,
    "start_time": "2023-05-16T11:35:55.145Z"
   },
   {
    "duration": 16,
    "start_time": "2023-05-16T11:35:57.270Z"
   },
   {
    "duration": 29,
    "start_time": "2023-05-16T11:36:01.164Z"
   },
   {
    "duration": 3,
    "start_time": "2023-05-16T11:36:04.696Z"
   },
   {
    "duration": 4,
    "start_time": "2023-05-16T11:36:07.953Z"
   },
   {
    "duration": 10,
    "start_time": "2023-05-16T11:36:11.349Z"
   },
   {
    "duration": 5,
    "start_time": "2023-05-16T11:36:14.555Z"
   },
   {
    "duration": 24,
    "start_time": "2023-05-16T11:36:17.151Z"
   },
   {
    "duration": 18,
    "start_time": "2023-05-16T11:36:19.890Z"
   },
   {
    "duration": 24,
    "start_time": "2023-05-16T11:36:22.365Z"
   },
   {
    "duration": 60,
    "start_time": "2023-05-16T11:36:25.075Z"
   },
   {
    "duration": 68,
    "start_time": "2023-05-16T11:36:27.818Z"
   },
   {
    "duration": 54,
    "start_time": "2023-05-16T11:36:31.154Z"
   },
   {
    "duration": 64,
    "start_time": "2023-05-16T11:36:34.656Z"
   },
   {
    "duration": 12,
    "start_time": "2023-05-16T11:36:39.065Z"
   },
   {
    "duration": 36,
    "start_time": "2023-05-16T11:36:45.147Z"
   },
   {
    "duration": 12,
    "start_time": "2023-05-16T11:36:55.553Z"
   },
   {
    "duration": 12,
    "start_time": "2023-05-16T11:36:59.270Z"
   },
   {
    "duration": 47,
    "start_time": "2023-05-16T11:38:23.564Z"
   },
   {
    "duration": 423,
    "start_time": "2023-05-16T11:38:38.068Z"
   },
   {
    "duration": 216,
    "start_time": "2023-05-16T11:38:41.517Z"
   },
   {
    "duration": 17,
    "start_time": "2023-05-16T11:38:44.086Z"
   },
   {
    "duration": 28,
    "start_time": "2023-05-16T11:38:47.065Z"
   },
   {
    "duration": 2,
    "start_time": "2023-05-16T11:38:50.302Z"
   },
   {
    "duration": 4,
    "start_time": "2023-05-16T11:38:53.594Z"
   },
   {
    "duration": 13,
    "start_time": "2023-05-16T11:38:56.464Z"
   },
   {
    "duration": 4,
    "start_time": "2023-05-16T11:38:59.363Z"
   },
   {
    "duration": 24,
    "start_time": "2023-05-16T11:39:01.602Z"
   },
   {
    "duration": 27,
    "start_time": "2023-05-16T11:39:04.626Z"
   },
   {
    "duration": 23,
    "start_time": "2023-05-16T11:39:07.329Z"
   },
   {
    "duration": 66,
    "start_time": "2023-05-16T11:39:10.157Z"
   },
   {
    "duration": 83,
    "start_time": "2023-05-16T11:39:12.994Z"
   },
   {
    "duration": 79,
    "start_time": "2023-05-16T11:39:15.598Z"
   },
   {
    "duration": 40,
    "start_time": "2023-05-16T11:39:18.266Z"
   },
   {
    "duration": 11,
    "start_time": "2023-05-16T11:39:22.857Z"
   },
   {
    "duration": 38,
    "start_time": "2023-05-16T11:39:25.870Z"
   },
   {
    "duration": 12,
    "start_time": "2023-05-16T11:39:33.098Z"
   },
   {
    "duration": 15,
    "start_time": "2023-05-16T11:39:36.086Z"
   },
   {
    "duration": 82,
    "start_time": "2023-05-16T11:39:39.818Z"
   },
   {
    "duration": 4,
    "start_time": "2023-05-16T11:44:25.488Z"
   },
   {
    "duration": 26,
    "start_time": "2023-05-16T12:17:05.706Z"
   },
   {
    "duration": 5,
    "start_time": "2023-05-16T12:17:58.166Z"
   },
   {
    "duration": 26,
    "start_time": "2023-05-16T12:18:09.326Z"
   },
   {
    "duration": 17,
    "start_time": "2023-05-16T12:19:57.694Z"
   },
   {
    "duration": 16,
    "start_time": "2023-05-16T12:20:44.354Z"
   },
   {
    "duration": 16,
    "start_time": "2023-05-16T12:21:20.154Z"
   },
   {
    "duration": 17,
    "start_time": "2023-05-16T12:21:36.986Z"
   },
   {
    "duration": 18,
    "start_time": "2023-05-16T12:22:10.553Z"
   },
   {
    "duration": 18,
    "start_time": "2023-05-16T12:22:44.957Z"
   },
   {
    "duration": 4,
    "start_time": "2023-05-16T12:23:52.761Z"
   },
   {
    "duration": 399,
    "start_time": "2023-05-16T12:26:10.858Z"
   },
   {
    "duration": 167,
    "start_time": "2023-05-16T12:26:13.406Z"
   },
   {
    "duration": 16,
    "start_time": "2023-05-16T12:26:15.907Z"
   },
   {
    "duration": 28,
    "start_time": "2023-05-16T12:26:18.963Z"
   },
   {
    "duration": 2,
    "start_time": "2023-05-16T12:26:22.491Z"
   },
   {
    "duration": 4,
    "start_time": "2023-05-16T12:26:25.306Z"
   },
   {
    "duration": 11,
    "start_time": "2023-05-16T12:26:28.849Z"
   },
   {
    "duration": 4,
    "start_time": "2023-05-16T12:26:30.923Z"
   },
   {
    "duration": 25,
    "start_time": "2023-05-16T12:26:33.158Z"
   },
   {
    "duration": 19,
    "start_time": "2023-05-16T12:26:36.163Z"
   },
   {
    "duration": 24,
    "start_time": "2023-05-16T12:26:38.549Z"
   },
   {
    "duration": 61,
    "start_time": "2023-05-16T12:26:41.659Z"
   },
   {
    "duration": 76,
    "start_time": "2023-05-16T12:26:44.182Z"
   },
   {
    "duration": 57,
    "start_time": "2023-05-16T12:26:58.345Z"
   },
   {
    "duration": 41,
    "start_time": "2023-05-16T12:27:01.553Z"
   },
   {
    "duration": 11,
    "start_time": "2023-05-16T12:27:06.299Z"
   },
   {
    "duration": 38,
    "start_time": "2023-05-16T12:27:11.822Z"
   },
   {
    "duration": 11,
    "start_time": "2023-05-16T12:27:17.795Z"
   },
   {
    "duration": 10,
    "start_time": "2023-05-16T12:27:21.419Z"
   },
   {
    "duration": 6,
    "start_time": "2023-05-16T12:27:42.969Z"
   },
   {
    "duration": 69,
    "start_time": "2023-05-16T12:28:30.554Z"
   },
   {
    "duration": 14,
    "start_time": "2023-05-16T12:30:01.761Z"
   },
   {
    "duration": 14,
    "start_time": "2023-05-16T12:30:22.252Z"
   },
   {
    "duration": 75,
    "start_time": "2023-05-16T12:32:32.560Z"
   },
   {
    "duration": 23,
    "start_time": "2023-05-16T12:37:59.491Z"
   },
   {
    "duration": 21,
    "start_time": "2023-05-16T12:38:42.303Z"
   },
   {
    "duration": 21,
    "start_time": "2023-05-16T12:49:00.958Z"
   },
   {
    "duration": 20,
    "start_time": "2023-05-16T12:49:32.559Z"
   },
   {
    "duration": 31,
    "start_time": "2023-05-16T12:56:15.660Z"
   },
   {
    "duration": 18,
    "start_time": "2023-05-16T12:58:09.264Z"
   },
   {
    "duration": 147,
    "start_time": "2023-05-16T12:59:12.729Z"
   },
   {
    "duration": 18,
    "start_time": "2023-05-16T12:59:18.673Z"
   },
   {
    "duration": 17,
    "start_time": "2023-05-16T12:59:35.567Z"
   },
   {
    "duration": 17,
    "start_time": "2023-05-16T13:00:02.257Z"
   },
   {
    "duration": 92,
    "start_time": "2023-05-16T13:03:35.579Z"
   },
   {
    "duration": 18,
    "start_time": "2023-05-16T13:03:46.620Z"
   },
   {
    "duration": 14,
    "start_time": "2023-05-16T13:04:23.915Z"
   },
   {
    "duration": 17,
    "start_time": "2023-05-16T13:04:47.972Z"
   },
   {
    "duration": 17,
    "start_time": "2023-05-16T13:05:02.991Z"
   },
   {
    "duration": 17,
    "start_time": "2023-05-16T13:07:21.194Z"
   },
   {
    "duration": 14,
    "start_time": "2023-05-16T13:07:23.987Z"
   },
   {
    "duration": 17,
    "start_time": "2023-05-16T13:07:26.197Z"
   },
   {
    "duration": 15,
    "start_time": "2023-05-16T13:07:28.394Z"
   },
   {
    "duration": 360,
    "start_time": "2023-05-16T13:09:15.143Z"
   },
   {
    "duration": 160,
    "start_time": "2023-05-16T13:09:18.252Z"
   },
   {
    "duration": 15,
    "start_time": "2023-05-16T13:09:20.822Z"
   },
   {
    "duration": 28,
    "start_time": "2023-05-16T13:09:23.981Z"
   },
   {
    "duration": 3,
    "start_time": "2023-05-16T13:09:27.893Z"
   },
   {
    "duration": 3,
    "start_time": "2023-05-16T13:09:30.848Z"
   },
   {
    "duration": 10,
    "start_time": "2023-05-16T13:09:33.975Z"
   },
   {
    "duration": 3,
    "start_time": "2023-05-16T13:09:36.348Z"
   },
   {
    "duration": 24,
    "start_time": "2023-05-16T13:09:38.748Z"
   },
   {
    "duration": 20,
    "start_time": "2023-05-16T13:09:41.589Z"
   },
   {
    "duration": 38,
    "start_time": "2023-05-16T13:09:44.601Z"
   },
   {
    "duration": 64,
    "start_time": "2023-05-16T13:09:47.654Z"
   },
   {
    "duration": 74,
    "start_time": "2023-05-16T13:09:50.277Z"
   },
   {
    "duration": 57,
    "start_time": "2023-05-16T13:09:52.721Z"
   },
   {
    "duration": 36,
    "start_time": "2023-05-16T13:09:55.149Z"
   },
   {
    "duration": 11,
    "start_time": "2023-05-16T13:09:59.497Z"
   },
   {
    "duration": 37,
    "start_time": "2023-05-16T13:10:05.351Z"
   },
   {
    "duration": 14,
    "start_time": "2023-05-16T13:10:14.277Z"
   },
   {
    "duration": 12,
    "start_time": "2023-05-16T13:10:17.917Z"
   },
   {
    "duration": 19,
    "start_time": "2023-05-16T13:10:26.256Z"
   },
   {
    "duration": 17,
    "start_time": "2023-05-16T13:10:34.213Z"
   },
   {
    "duration": 17,
    "start_time": "2023-05-16T13:10:37.677Z"
   },
   {
    "duration": 17,
    "start_time": "2023-05-16T13:10:41.456Z"
   },
   {
    "duration": 14,
    "start_time": "2023-05-16T13:10:43.053Z"
   },
   {
    "duration": 17,
    "start_time": "2023-05-16T13:10:44.393Z"
   },
   {
    "duration": 15,
    "start_time": "2023-05-16T13:10:46.309Z"
   },
   {
    "duration": 4,
    "start_time": "2023-05-16T14:06:17.423Z"
   },
   {
    "duration": 9,
    "start_time": "2023-05-16T14:06:58.248Z"
   },
   {
    "duration": 10,
    "start_time": "2023-05-16T14:22:10.707Z"
   },
   {
    "duration": 10,
    "start_time": "2023-05-16T14:22:12.803Z"
   },
   {
    "duration": 12,
    "start_time": "2023-05-16T16:32:50.451Z"
   },
   {
    "duration": 5,
    "start_time": "2023-05-16T16:37:12.316Z"
   },
   {
    "duration": 80,
    "start_time": "2023-05-16T16:38:06.058Z"
   },
   {
    "duration": 508,
    "start_time": "2023-05-16T16:38:54.001Z"
   },
   {
    "duration": 612,
    "start_time": "2023-05-16T16:38:56.651Z"
   },
   {
    "duration": 21,
    "start_time": "2023-05-16T16:38:59.450Z"
   },
   {
    "duration": 42,
    "start_time": "2023-05-16T16:39:02.954Z"
   },
   {
    "duration": 3,
    "start_time": "2023-05-16T16:39:07.652Z"
   },
   {
    "duration": 5,
    "start_time": "2023-05-16T16:39:10.213Z"
   },
   {
    "duration": 14,
    "start_time": "2023-05-16T16:39:14.104Z"
   },
   {
    "duration": 4,
    "start_time": "2023-05-16T16:39:17.052Z"
   },
   {
    "duration": 36,
    "start_time": "2023-05-16T16:39:19.901Z"
   },
   {
    "duration": 31,
    "start_time": "2023-05-16T16:39:23.316Z"
   },
   {
    "duration": 60,
    "start_time": "2023-05-16T16:39:26.465Z"
   },
   {
    "duration": 93,
    "start_time": "2023-05-16T16:39:30.001Z"
   },
   {
    "duration": 94,
    "start_time": "2023-05-16T16:39:33.953Z"
   },
   {
    "duration": 91,
    "start_time": "2023-05-16T16:39:36.949Z"
   },
   {
    "duration": 55,
    "start_time": "2023-05-16T16:39:40.802Z"
   },
   {
    "duration": 27,
    "start_time": "2023-05-16T16:39:46.078Z"
   },
   {
    "duration": 61,
    "start_time": "2023-05-16T16:39:50.452Z"
   },
   {
    "duration": 22,
    "start_time": "2023-05-16T16:39:57.497Z"
   },
   {
    "duration": 30,
    "start_time": "2023-05-16T16:40:00.800Z"
   },
   {
    "duration": 32,
    "start_time": "2023-05-16T16:40:04.025Z"
   },
   {
    "duration": 17,
    "start_time": "2023-05-16T16:40:08.920Z"
   },
   {
    "duration": 16,
    "start_time": "2023-05-16T16:40:18.252Z"
   },
   {
    "duration": 16,
    "start_time": "2023-05-16T16:40:21.046Z"
   },
   {
    "duration": 15,
    "start_time": "2023-05-16T16:40:22.655Z"
   },
   {
    "duration": 29,
    "start_time": "2023-05-16T16:40:25.960Z"
   },
   {
    "duration": 17,
    "start_time": "2023-05-16T16:40:28.311Z"
   },
   {
    "duration": 11,
    "start_time": "2023-05-16T16:40:31.953Z"
   },
   {
    "duration": 11,
    "start_time": "2023-05-16T16:40:39.923Z"
   },
   {
    "duration": 11,
    "start_time": "2023-05-16T16:40:42.747Z"
   },
   {
    "duration": 4,
    "start_time": "2023-05-16T16:40:47.043Z"
   },
   {
    "duration": 20,
    "start_time": "2023-05-16T16:40:50.315Z"
   },
   {
    "duration": 415,
    "start_time": "2023-05-16T17:30:53.327Z"
   },
   {
    "duration": 173,
    "start_time": "2023-05-16T17:30:56.692Z"
   },
   {
    "duration": 18,
    "start_time": "2023-05-16T17:30:59.521Z"
   },
   {
    "duration": 45,
    "start_time": "2023-05-16T17:31:03.926Z"
   },
   {
    "duration": 4,
    "start_time": "2023-05-16T17:31:08.096Z"
   },
   {
    "duration": 5,
    "start_time": "2023-05-16T17:31:12.600Z"
   },
   {
    "duration": 14,
    "start_time": "2023-05-16T17:31:16.502Z"
   },
   {
    "duration": 5,
    "start_time": "2023-05-16T17:31:19.290Z"
   },
   {
    "duration": 25,
    "start_time": "2023-05-16T17:31:22.235Z"
   },
   {
    "duration": 22,
    "start_time": "2023-05-16T17:31:26.018Z"
   },
   {
    "duration": 44,
    "start_time": "2023-05-16T17:31:29.342Z"
   },
   {
    "duration": 81,
    "start_time": "2023-05-16T17:31:33.126Z"
   },
   {
    "duration": 72,
    "start_time": "2023-05-16T17:31:35.795Z"
   },
   {
    "duration": 67,
    "start_time": "2023-05-16T17:31:38.415Z"
   },
   {
    "duration": 38,
    "start_time": "2023-05-16T17:31:41.795Z"
   },
   {
    "duration": 11,
    "start_time": "2023-05-16T17:31:46.487Z"
   },
   {
    "duration": 62,
    "start_time": "2023-05-16T17:31:49.400Z"
   },
   {
    "duration": 15,
    "start_time": "2023-05-16T17:31:55.189Z"
   },
   {
    "duration": 15,
    "start_time": "2023-05-16T17:31:57.888Z"
   },
   {
    "duration": 20,
    "start_time": "2023-05-16T17:32:00.846Z"
   },
   {
    "duration": 22,
    "start_time": "2023-05-16T17:32:04.468Z"
   },
   {
    "duration": 15,
    "start_time": "2023-05-16T17:32:08.004Z"
   },
   {
    "duration": 14,
    "start_time": "2023-05-16T17:32:09.906Z"
   },
   {
    "duration": 14,
    "start_time": "2023-05-16T17:32:11.843Z"
   },
   {
    "duration": 21,
    "start_time": "2023-05-16T17:32:14.005Z"
   },
   {
    "duration": 17,
    "start_time": "2023-05-16T17:32:16.188Z"
   },
   {
    "duration": 9,
    "start_time": "2023-05-16T17:32:20.121Z"
   },
   {
    "duration": 10,
    "start_time": "2023-05-16T17:32:24.903Z"
   },
   {
    "duration": 10,
    "start_time": "2023-05-16T17:32:26.957Z"
   },
   {
    "duration": 8,
    "start_time": "2023-05-16T17:32:32.274Z"
   },
   {
    "duration": 18,
    "start_time": "2023-05-16T17:32:36.553Z"
   },
   {
    "duration": 12,
    "start_time": "2023-05-16T17:35:36.612Z"
   },
   {
    "duration": 12,
    "start_time": "2023-05-16T17:38:55.992Z"
   },
   {
    "duration": 12,
    "start_time": "2023-05-16T17:39:24.654Z"
   },
   {
    "duration": 13,
    "start_time": "2023-05-16T17:39:41.511Z"
   },
   {
    "duration": 19,
    "start_time": "2023-05-16T17:39:48.206Z"
   },
   {
    "duration": 20,
    "start_time": "2023-05-16T17:39:53.049Z"
   },
   {
    "duration": 15,
    "start_time": "2023-05-16T17:41:53.302Z"
   },
   {
    "duration": 20,
    "start_time": "2023-05-16T17:43:04.487Z"
   },
   {
    "duration": 14,
    "start_time": "2023-05-16T17:43:31.576Z"
   },
   {
    "duration": 13,
    "start_time": "2023-05-16T18:12:34.464Z"
   },
   {
    "duration": 5,
    "start_time": "2023-05-16T18:13:38.043Z"
   },
   {
    "duration": 6,
    "start_time": "2023-05-16T18:15:55.641Z"
   },
   {
    "duration": 4,
    "start_time": "2023-05-16T18:16:26.596Z"
   },
   {
    "duration": 440,
    "start_time": "2023-05-16T18:21:33.675Z"
   },
   {
    "duration": 180,
    "start_time": "2023-05-16T18:21:37.742Z"
   },
   {
    "duration": 16,
    "start_time": "2023-05-16T18:21:40.983Z"
   },
   {
    "duration": 36,
    "start_time": "2023-05-16T18:21:45.791Z"
   },
   {
    "duration": 3,
    "start_time": "2023-05-16T18:21:55.110Z"
   },
   {
    "duration": 11,
    "start_time": "2023-05-16T18:22:07.144Z"
   },
   {
    "duration": 4,
    "start_time": "2023-05-16T18:22:10.205Z"
   },
   {
    "duration": 401,
    "start_time": "2023-05-16T18:22:20.345Z"
   },
   {
    "duration": 176,
    "start_time": "2023-05-16T18:22:23.526Z"
   },
   {
    "duration": 17,
    "start_time": "2023-05-16T18:22:26.497Z"
   },
   {
    "duration": 45,
    "start_time": "2023-05-16T18:22:29.914Z"
   },
   {
    "duration": 3,
    "start_time": "2023-05-16T18:22:33.394Z"
   },
   {
    "duration": 4,
    "start_time": "2023-05-16T18:22:36.350Z"
   },
   {
    "duration": 11,
    "start_time": "2023-05-16T18:22:39.626Z"
   },
   {
    "duration": 3,
    "start_time": "2023-05-16T18:22:42.084Z"
   },
   {
    "duration": 24,
    "start_time": "2023-05-16T18:22:44.399Z"
   },
   {
    "duration": 19,
    "start_time": "2023-05-16T18:22:48.291Z"
   },
   {
    "duration": 24,
    "start_time": "2023-05-16T18:22:51.987Z"
   },
   {
    "duration": 63,
    "start_time": "2023-05-16T18:22:55.944Z"
   },
   {
    "duration": 95,
    "start_time": "2023-05-16T18:22:58.904Z"
   },
   {
    "duration": 64,
    "start_time": "2023-05-16T18:23:01.741Z"
   },
   {
    "duration": 49,
    "start_time": "2023-05-16T18:23:04.746Z"
   },
   {
    "duration": 12,
    "start_time": "2023-05-16T18:23:10.991Z"
   },
   {
    "duration": 55,
    "start_time": "2023-05-16T18:23:14.180Z"
   },
   {
    "duration": 12,
    "start_time": "2023-05-16T18:23:20.912Z"
   },
   {
    "duration": 12,
    "start_time": "2023-05-16T18:23:23.888Z"
   },
   {
    "duration": 18,
    "start_time": "2023-05-16T18:23:29.847Z"
   },
   {
    "duration": 16,
    "start_time": "2023-05-16T18:23:40.600Z"
   },
   {
    "duration": 15,
    "start_time": "2023-05-16T18:23:43.008Z"
   },
   {
    "duration": 15,
    "start_time": "2023-05-16T18:23:46.004Z"
   },
   {
    "duration": 17,
    "start_time": "2023-05-16T18:23:47.454Z"
   },
   {
    "duration": 18,
    "start_time": "2023-05-16T18:23:49.287Z"
   },
   {
    "duration": 15,
    "start_time": "2023-05-16T18:23:51.118Z"
   },
   {
    "duration": 8,
    "start_time": "2023-05-16T18:23:54.788Z"
   },
   {
    "duration": 11,
    "start_time": "2023-05-16T18:24:00.888Z"
   },
   {
    "duration": 10,
    "start_time": "2023-05-16T18:24:02.859Z"
   },
   {
    "duration": 5,
    "start_time": "2023-05-16T18:24:05.537Z"
   },
   {
    "duration": 20,
    "start_time": "2023-05-16T18:24:10.208Z"
   },
   {
    "duration": 13,
    "start_time": "2023-05-16T18:24:12.258Z"
   },
   {
    "duration": 23,
    "start_time": "2023-05-16T18:24:14.158Z"
   },
   {
    "duration": 16,
    "start_time": "2023-05-16T18:24:16.020Z"
   },
   {
    "duration": 12,
    "start_time": "2023-05-16T18:24:20.142Z"
   },
   {
    "duration": 4,
    "start_time": "2023-05-16T18:24:23.196Z"
   },
   {
    "duration": 5,
    "start_time": "2023-05-16T18:24:25.941Z"
   },
   {
    "duration": 5,
    "start_time": "2023-05-16T18:24:28.812Z"
   },
   {
    "duration": 388,
    "start_time": "2023-06-05T11:04:52.446Z"
   },
   {
    "duration": 481,
    "start_time": "2023-06-05T11:04:54.256Z"
   },
   {
    "duration": 16,
    "start_time": "2023-06-05T11:04:57.030Z"
   },
   {
    "duration": 39,
    "start_time": "2023-06-05T11:05:00.145Z"
   },
   {
    "duration": 3,
    "start_time": "2023-06-05T11:05:04.572Z"
   },
   {
    "duration": 4,
    "start_time": "2023-06-05T11:05:07.664Z"
   },
   {
    "duration": 15,
    "start_time": "2023-06-05T11:05:11.447Z"
   },
   {
    "duration": 5,
    "start_time": "2023-06-05T11:05:13.375Z"
   },
   {
    "duration": 26,
    "start_time": "2023-06-05T11:05:16.766Z"
   },
   {
    "duration": 20,
    "start_time": "2023-06-05T11:05:20.258Z"
   },
   {
    "duration": 26,
    "start_time": "2023-06-05T11:05:22.317Z"
   },
   {
    "duration": 76,
    "start_time": "2023-06-05T11:05:25.638Z"
   },
   {
    "duration": 72,
    "start_time": "2023-06-05T11:05:28.260Z"
   },
   {
    "duration": 63,
    "start_time": "2023-06-05T11:05:30.276Z"
   },
   {
    "duration": 68,
    "start_time": "2023-06-05T11:05:34.285Z"
   },
   {
    "duration": 16,
    "start_time": "2023-06-05T11:05:39.695Z"
   },
   {
    "duration": 44,
    "start_time": "2023-06-05T11:05:41.995Z"
   },
   {
    "duration": 13,
    "start_time": "2023-06-05T11:05:47.696Z"
   },
   {
    "duration": 14,
    "start_time": "2023-06-05T11:05:51.240Z"
   },
   {
    "duration": 23,
    "start_time": "2023-06-05T11:05:55.655Z"
   },
   {
    "duration": 27,
    "start_time": "2023-06-05T11:05:58.946Z"
   },
   {
    "duration": 17,
    "start_time": "2023-06-05T11:06:01.213Z"
   },
   {
    "duration": 22,
    "start_time": "2023-06-05T11:06:03.005Z"
   },
   {
    "duration": 16,
    "start_time": "2023-06-05T11:06:04.762Z"
   },
   {
    "duration": 19,
    "start_time": "2023-06-05T11:06:07.641Z"
   },
   {
    "duration": 16,
    "start_time": "2023-06-05T11:06:09.089Z"
   },
   {
    "duration": 10,
    "start_time": "2023-06-05T11:06:12.395Z"
   },
   {
    "duration": 12,
    "start_time": "2023-06-05T11:06:16.992Z"
   },
   {
    "duration": 14,
    "start_time": "2023-06-05T11:06:18.133Z"
   },
   {
    "duration": 7,
    "start_time": "2023-06-05T11:06:23.205Z"
   },
   {
    "duration": 28,
    "start_time": "2023-06-05T11:06:29.206Z"
   },
   {
    "duration": 14,
    "start_time": "2023-06-05T11:06:33.352Z"
   },
   {
    "duration": 22,
    "start_time": "2023-06-05T11:06:35.998Z"
   },
   {
    "duration": 15,
    "start_time": "2023-06-05T11:06:38.315Z"
   },
   {
    "duration": 9,
    "start_time": "2023-06-05T11:06:45.489Z"
   },
   {
    "duration": 4,
    "start_time": "2023-06-05T11:06:48.626Z"
   },
   {
    "duration": 7,
    "start_time": "2023-06-05T11:06:52.223Z"
   },
   {
    "duration": 5,
    "start_time": "2023-06-05T11:06:54.736Z"
   },
   {
    "duration": 430,
    "start_time": "2023-06-06T18:47:48.713Z"
   },
   {
    "duration": 452,
    "start_time": "2023-06-06T18:47:51.327Z"
   },
   {
    "duration": 17,
    "start_time": "2023-06-06T18:47:54.359Z"
   },
   {
    "duration": 49,
    "start_time": "2023-06-06T18:47:57.956Z"
   },
   {
    "duration": 3,
    "start_time": "2023-06-06T18:48:01.897Z"
   },
   {
    "duration": 5,
    "start_time": "2023-06-06T18:48:05.158Z"
   },
   {
    "duration": 11,
    "start_time": "2023-06-06T18:48:10.859Z"
   },
   {
    "duration": 4,
    "start_time": "2023-06-06T18:48:13.213Z"
   },
   {
    "duration": 24,
    "start_time": "2023-06-06T18:48:16.357Z"
   },
   {
    "duration": 30,
    "start_time": "2023-06-06T18:48:19.326Z"
   },
   {
    "duration": 21,
    "start_time": "2023-06-06T18:48:22.124Z"
   },
   {
    "duration": 68,
    "start_time": "2023-06-06T18:48:26.792Z"
   },
   {
    "duration": 72,
    "start_time": "2023-06-06T18:48:29.243Z"
   },
   {
    "duration": 61,
    "start_time": "2023-06-06T18:48:32.310Z"
   },
   {
    "duration": 34,
    "start_time": "2023-06-06T18:48:36.759Z"
   },
   {
    "duration": 10,
    "start_time": "2023-06-06T18:48:40.776Z"
   },
   {
    "duration": 45,
    "start_time": "2023-06-06T18:48:44.091Z"
   },
   {
    "duration": 12,
    "start_time": "2023-06-06T18:48:49.880Z"
   },
   {
    "duration": 12,
    "start_time": "2023-06-06T18:48:53.077Z"
   },
   {
    "duration": 19,
    "start_time": "2023-06-06T18:48:57.388Z"
   },
   {
    "duration": 18,
    "start_time": "2023-06-06T18:49:00.748Z"
   },
   {
    "duration": 16,
    "start_time": "2023-06-06T18:49:03.832Z"
   },
   {
    "duration": 16,
    "start_time": "2023-06-06T18:49:06.412Z"
   },
   {
    "duration": 17,
    "start_time": "2023-06-06T18:49:08.791Z"
   },
   {
    "duration": 20,
    "start_time": "2023-06-06T18:49:11.088Z"
   },
   {
    "duration": 15,
    "start_time": "2023-06-06T18:49:13.388Z"
   },
   {
    "duration": 9,
    "start_time": "2023-06-06T18:49:16.700Z"
   },
   {
    "duration": 11,
    "start_time": "2023-06-06T18:49:21.806Z"
   },
   {
    "duration": 10,
    "start_time": "2023-06-06T18:49:23.455Z"
   },
   {
    "duration": 4,
    "start_time": "2023-06-06T18:49:26.836Z"
   },
   {
    "duration": 20,
    "start_time": "2023-06-06T18:49:29.834Z"
   },
   {
    "duration": 15,
    "start_time": "2023-06-06T18:49:33.257Z"
   },
   {
    "duration": 21,
    "start_time": "2023-06-06T18:49:36.907Z"
   },
   {
    "duration": 15,
    "start_time": "2023-06-06T18:49:39.908Z"
   },
   {
    "duration": 11,
    "start_time": "2023-06-06T18:49:44.257Z"
   },
   {
    "duration": 5,
    "start_time": "2023-06-06T18:49:47.980Z"
   },
   {
    "duration": 5,
    "start_time": "2023-06-06T18:49:51.481Z"
   },
   {
    "duration": 5,
    "start_time": "2023-06-06T18:49:54.835Z"
   },
   {
    "duration": 406,
    "start_time": "2023-06-09T09:59:37.612Z"
   },
   {
    "duration": 606,
    "start_time": "2023-06-09T10:01:31.596Z"
   },
   {
    "duration": 199,
    "start_time": "2023-06-09T10:01:33.758Z"
   },
   {
    "duration": 14,
    "start_time": "2023-06-09T10:02:08.207Z"
   },
   {
    "duration": 27,
    "start_time": "2023-06-09T10:02:12.333Z"
   },
   {
    "duration": 3,
    "start_time": "2023-06-09T10:02:20.468Z"
   },
   {
    "duration": 3,
    "start_time": "2023-06-09T10:02:24.945Z"
   },
   {
    "duration": 10,
    "start_time": "2023-06-09T10:02:27.693Z"
   },
   {
    "duration": 4,
    "start_time": "2023-06-09T10:02:29.742Z"
   },
   {
    "duration": 20,
    "start_time": "2023-06-09T10:02:32.378Z"
   },
   {
    "duration": 15,
    "start_time": "2023-06-09T10:02:35.532Z"
   },
   {
    "duration": 19,
    "start_time": "2023-06-09T10:02:38.230Z"
   },
   {
    "duration": 57,
    "start_time": "2023-06-09T10:02:40.982Z"
   },
   {
    "duration": 61,
    "start_time": "2023-06-09T10:02:44.129Z"
   },
   {
    "duration": 54,
    "start_time": "2023-06-09T10:02:46.321Z"
   },
   {
    "duration": 36,
    "start_time": "2023-06-09T10:02:50.180Z"
   },
   {
    "duration": 10,
    "start_time": "2023-06-09T10:02:54.447Z"
   },
   {
    "duration": 39,
    "start_time": "2023-06-09T10:02:59.821Z"
   },
   {
    "duration": 12,
    "start_time": "2023-06-09T10:03:05.225Z"
   },
   {
    "duration": 12,
    "start_time": "2023-06-09T10:03:08.234Z"
   },
   {
    "duration": 17,
    "start_time": "2023-06-09T10:03:12.300Z"
   },
   {
    "duration": 16,
    "start_time": "2023-06-09T10:03:15.267Z"
   },
   {
    "duration": 14,
    "start_time": "2023-06-09T10:03:17.863Z"
   },
   {
    "duration": 14,
    "start_time": "2023-06-09T10:03:20.578Z"
   },
   {
    "duration": 13,
    "start_time": "2023-06-09T10:03:22.603Z"
   },
   {
    "duration": 15,
    "start_time": "2023-06-09T10:03:25.693Z"
   },
   {
    "duration": 14,
    "start_time": "2023-06-09T10:03:31.865Z"
   },
   {
    "duration": 8,
    "start_time": "2023-06-09T10:03:35.824Z"
   },
   {
    "duration": 9,
    "start_time": "2023-06-09T10:03:40.757Z"
   },
   {
    "duration": 9,
    "start_time": "2023-06-09T10:03:42.045Z"
   },
   {
    "duration": 5,
    "start_time": "2023-06-09T10:03:46.987Z"
   },
   {
    "duration": 17,
    "start_time": "2023-06-09T10:03:51.991Z"
   },
   {
    "duration": 13,
    "start_time": "2023-06-09T10:03:54.662Z"
   },
   {
    "duration": 19,
    "start_time": "2023-06-09T10:03:57.846Z"
   },
   {
    "duration": 13,
    "start_time": "2023-06-09T10:04:00.721Z"
   },
   {
    "duration": 8,
    "start_time": "2023-06-09T10:04:05.895Z"
   },
   {
    "duration": 4,
    "start_time": "2023-06-09T10:04:10.659Z"
   },
   {
    "duration": 6,
    "start_time": "2023-06-09T10:04:14.491Z"
   },
   {
    "duration": 5,
    "start_time": "2023-06-09T10:04:17.671Z"
   },
   {
    "duration": 46,
    "start_time": "2024-06-05T07:04:46.722Z"
   },
   {
    "duration": 436,
    "start_time": "2024-06-05T07:04:49.057Z"
   },
   {
    "duration": 482,
    "start_time": "2024-06-05T07:04:51.550Z"
   },
   {
    "duration": 213,
    "start_time": "2024-06-05T07:04:57.960Z"
   },
   {
    "duration": 366,
    "start_time": "2024-06-05T09:50:09.028Z"
   },
   {
    "duration": 485,
    "start_time": "2024-06-05T09:50:11.584Z"
   },
   {
    "duration": 253,
    "start_time": "2024-06-05T09:50:13.724Z"
   },
   {
    "duration": 191,
    "start_time": "2024-06-05T09:50:24.964Z"
   },
   {
    "duration": 178,
    "start_time": "2024-06-05T09:50:49.268Z"
   },
   {
    "duration": 23,
    "start_time": "2024-06-05T09:52:55.761Z"
   }
  ],
  "colab": {
   "collapsed_sections": [
    "E0vqbgi9ay0H",
    "VUC88oWjTJw2"
   ],
   "provenance": []
  },
  "kernelspec": {
   "display_name": "Python 3 (ipykernel)",
   "language": "python",
   "name": "python3"
  },
  "language_info": {
   "codemirror_mode": {
    "name": "ipython",
    "version": 3
   },
   "file_extension": ".py",
   "mimetype": "text/x-python",
   "name": "python",
   "nbconvert_exporter": "python",
   "pygments_lexer": "ipython3",
   "version": "3.9.5"
  },
  "toc": {
   "base_numbering": 1,
   "nav_menu": {
    "height": "215px",
    "width": "403px"
   },
   "number_sections": true,
   "sideBar": true,
   "skip_h1_title": true,
   "title_cell": "Table of Contents",
   "title_sidebar": "Contents",
   "toc_cell": false,
   "toc_position": {
    "height": "calc(100% - 180px)",
    "left": "10px",
    "top": "150px",
    "width": "285.825px"
   },
   "toc_section_display": true,
   "toc_window_display": false
  }
 },
 "nbformat": 4,
 "nbformat_minor": 4
}
